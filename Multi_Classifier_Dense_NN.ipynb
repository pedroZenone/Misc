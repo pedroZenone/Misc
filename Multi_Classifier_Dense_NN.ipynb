{
 "cells": [
  {
   "cell_type": "markdown",
   "metadata": {},
   "source": [
    "## Training - Guideline\n",
    "\n",
    "This notebook was designed with the purpose of guiding you with the development of your first Training Job\n",
    "\n",
    "There are many functions and methods that we provide you in the melitk.analytics library (which comes pre-installed), but will not appear in this demo. The general idea behind this demo is for you to understand how the Fury Data Apps expects your Training process in order to run successfully and generate the model (and eventually metrics) you expect\n",
    "\n",
    "### Example\n",
    "\n",
    "Here we will read the dataset that we generated in the demo etl/etl.ipynb and train a Sklearn Decission Tree model to predict the probability of some users of recharging their cellphones"
   ]
  },
  {
   "cell_type": "markdown",
   "metadata": {},
   "source": [
    "## Imports"
   ]
  },
  {
   "cell_type": "code",
   "execution_count": 3,
   "metadata": {},
   "outputs": [
    {
     "name": "stderr",
     "output_type": "stream",
     "text": [
      "Using TensorFlow backend.\n"
     ]
    }
   ],
   "source": [
    "import pandas as pd\n",
    "from sklearn.feature_extraction.text import CountVectorizer\n",
    "from lifetimes.utils import summary_data_from_transaction_data\n",
    "import numpy as np\n",
    "import datetime\n",
    "from multiprocessing import Pool, cpu_count\n",
    "from tqdm import tqdm\n",
    "from lifetimes import ModifiedBetaGeoFitter\n",
    "from lifetimes import GammaGammaFitter\n",
    "import dask.dataframe as dd\n",
    "from dask.multiprocessing import get\n",
    "from collections import Counter\n",
    "from sklearn.model_selection import train_test_split\n",
    "import gc\n",
    "import joblib\n",
    "import boto3\n",
    "from sklearn.model_selection import train_test_split\n",
    "from sklearn.preprocessing import StandardScaler\n",
    "import tensorflow as tf\n",
    "import keras\n",
    "config = tf.ConfigProto(device_count={\"CPU\": 20})\n",
    "keras.backend.tensorflow_backend.set_session(tf.Session(config=config))\n",
    "from keras.models import Sequential\n",
    "from keras.layers import Dense\n",
    "from keras.wrappers.scikit_learn import KerasClassifier\n",
    "from keras.utils import np_utils\n",
    "from sklearn.preprocessing import LabelEncoder\n",
    "import matplotlib.pyplot as plt\n",
    "%matplotlib inline\n",
    "from keras.layers import Dropout\n",
    "from keras.layers import BatchNormalization\n",
    "from sklearn.utils import class_weight\n",
    "from sklearn.model_selection import RandomizedSearchCV, KFold\n",
    "import numpy as np\n",
    "from keras.callbacks import Callback\n",
    "from sklearn.metrics import confusion_matrix, f1_score, precision_score, recall_score\n",
    "\n",
    "from keras.callbacks import EarlyStopping\n",
    "import joblib\n",
    "import os\n",
    "from sklearn.metrics import confusion_matrix\n",
    "import seaborn as sns\n",
    "from keras.models import load_model\n",
    "from utils import _write_dataframe_to_csv_on_s3,asigno_quintiles_6, print_s3,f1 \n",
    "debug = True"
   ]
  },
  {
   "cell_type": "markdown",
   "metadata": {},
   "source": [
    "## Initial Setup"
   ]
  },
  {
   "cell_type": "markdown",
   "metadata": {},
   "source": [
    "## Reading the dataset\n",
    "\n",
    "Load the dataset (that was saved in the ETL script) and split it into train and test sets."
   ]
  },
  {
   "cell_type": "code",
   "execution_count": 2,
   "metadata": {},
   "outputs": [
    {
     "name": "stdout",
     "output_type": "stream",
     "text": [
      "----------------------------------------------------------'\n",
      "Starting'\n"
     ]
    }
   ],
   "source": [
    "print_s3(\"----------------------------------------------------------'\",\n",
    "         \"s3://fda-labs/ltv-ml/Dense/log.txt\")\n",
    "\n",
    "print_s3(\"Starting'\",\"s3://fda-labs/ltv-ml/Dense/log.txt\")\n",
    "\n",
    "if(debug == False):\n",
    "    n_jobs_ramdomized = 20\n",
    "    n_iter = 30\n",
    "else:\n",
    "    n_jobs_ramdomized = 5\n",
    "    n_iter = 2"
   ]
  },
  {
   "cell_type": "code",
   "execution_count": 3,
   "metadata": {},
   "outputs": [],
   "source": [
    "if(debug == False):\n",
    "    summary_cal = pd.read_csv('s3://fda-labs/ltv-ml/ML/preproc_data_train.csv.gzip')  # Because in the ETL we pickled the pandas dataframe\n",
    "else:\n",
    "    summary_cal = pd.read_csv('s3://fda-labs/ltv-ml/ML/sample_Preproc_MLA.csv')  # Because in the ETL we pickled the pandas dataframe"
   ]
  },
  {
   "cell_type": "code",
   "execution_count": 4,
   "metadata": {},
   "outputs": [],
   "source": [
    "if(debug == False):\n",
    "    train = summary_cal.sample(frac = 1.,random_state=20)\n",
    "else:\n",
    "    train = summary_cal.sample(frac = 0.025,random_state=20)"
   ]
  },
  {
   "cell_type": "code",
   "execution_count": 6,
   "metadata": {},
   "outputs": [],
   "source": [
    "train_cols = [ 'frequency', 'recency', 'T', 'monetary_value', 'my_recency', 'n_purchases_pred', 'p_alive',\n",
    "                       'montary_sales_forecast', 'clv_pareto', 'target_pareto','IPT_CV', 'money_sum',\n",
    "                       'money_CV', 'money_mean', 'money_std', 'money_max', 'money_min',\n",
    "                       'L1_1000', 'L1_1039', 'L1_1051', 'L1_1071', 'L1_1132', 'L1_1144',\n",
    "                       'L1_1168', 'L1_1182', 'L1_1246', 'L1_1276', 'L1_1367', 'L1_1368',\n",
    "                       'L1_1384', 'L1_1403', 'L1_1430', 'L1_1499', 'L1_1574', 'L1_1648',\n",
    "                       'L1_1798', 'L1_1953', 'L1_2547', 'L1_3025', 'L1_3937', 'L1_407134',\n",
    "                       'L1_409431', 'L1_5725', 'L1_5726', 'female', 'male', 'Account Money',\n",
    "                       'Bank Transfer', 'Credit Card', 'Debit Card', 'Ticket',\n",
    "                       'digital_currency', '01.Menor de 18 años', '02.Entre 18 y 25 años',\n",
    "                       '03.Entre 26 y 30 años', '04.Entre 31 y 35 años',\n",
    "                       '05.Entre 36 y 40 años', '06.Entre 41 y 55 años',\n",
    "                       '07.Entre 56 y 65 años', '08.Mayor de 65 años']"
   ]
  },
  {
   "cell_type": "code",
   "execution_count": 6,
   "metadata": {},
   "outputs": [
    {
     "name": "stdout",
     "output_type": "stream",
     "text": [
      "Cargo Dataset'\n"
     ]
    }
   ],
   "source": [
    "X_train = train[train_cols]\n",
    "Y_train = train.quintil_true\n",
    "\n",
    "print_s3(\"Cargo Dataset'\",\"s3://fda-labs/ltv-ml/Dense/log.txt\")\n",
    "\n",
    "stdc = StandardScaler()\n",
    "stdc_trained = stdc.fit(X_train)\n",
    "X_train = stdc_trained.transform(X_train)"
   ]
  },
  {
   "cell_type": "code",
   "execution_count": 7,
   "metadata": {},
   "outputs": [],
   "source": [
    "# encode class values as integers\n",
    "encoder = LabelEncoder()\n",
    "encoder.fit(Y_train)\n",
    "encoded_Y = encoder.transform(Y_train)\n",
    "y_train = np_utils.to_categorical(encoded_Y)"
   ]
  },
  {
   "cell_type": "code",
   "execution_count": 8,
   "metadata": {},
   "outputs": [],
   "source": [
    "def create_model(input_shape,nl=1,nn1=1000, nn2=500, nn3 = 200, lr=0.01, decay=0., l1=0.01, l2=0.01,\n",
    "                act = 'relu', dropout=0,batch=1, output_shape=6):\n",
    "    '''This is a model generating function so that we can search over neural net \n",
    "    parameters and architecture'''\n",
    "\n",
    "    opt = keras.optimizers.Adam(lr=lr, beta_1=0.9, beta_2=0.999,  decay=decay)\n",
    "    reg = keras.regularizers.l1_l2(l1=l1, l2=l2)\n",
    "                                                     \n",
    "    model = Sequential()\n",
    "\n",
    "    for i,n in zip(list(range(nl)),[nn1,nn2,nn3]):   \n",
    "        model.add(Dense(n, input_dim=input_shape, activation=act, kernel_regularizer=reg))\n",
    "\n",
    "        if dropout!=0:\n",
    "            model.add(Dropout(dropout))\n",
    "            \n",
    "        if batch == 1:\n",
    "            model.add(BatchNormalization())\n",
    "        \n",
    "    model.add(Dense(output_shape, activation='softmax'))\n",
    "    model.compile(loss='categorical_crossentropy', optimizer=opt, metrics=[f1])\n",
    "    return model\n"
   ]
  },
  {
   "cell_type": "code",
   "execution_count": 9,
   "metadata": {},
   "outputs": [],
   "source": [
    "es = EarlyStopping(monitor='val_loss',\n",
    "                   min_delta=0.01, \n",
    "                     patience=10, \n",
    "                   verbose=1, \n",
    "                   restore_best_weights=True)\n",
    "    \n",
    "model = KerasClassifier(build_fn=create_model, batch_size=128, epochs=50,\n",
    "                            verbose=2)"
   ]
  },
  {
   "cell_type": "code",
   "execution_count": 10,
   "metadata": {},
   "outputs": [
    {
     "name": "stdout",
     "output_type": "stream",
     "text": [
      "Cantidad de parametros: 43\n"
     ]
    }
   ],
   "source": [
    "# learning algorithm parameters\n",
    "lr=[1e-2, 1e-3, 1e-4]\n",
    "decay=[1e-6,1e-9,0]\n",
    "\n",
    "# activation\n",
    "activation=['relu', 'sigmoid']\n",
    "\n",
    "# numbers of layers\n",
    "nl = [1,2,3]\n",
    "\n",
    "# neurons in each layer\n",
    "nn1=[32,50,100, 200,300,400]\n",
    "nn2=[15,30,50,100,200]\n",
    "nn3=[15,30,50]\n",
    "\n",
    "# dropout and regularisation\n",
    "dropout = [0, 0.1, 0.2, 0.3,0.5]\n",
    "batch = [0,1]\n",
    "l1 = [0, 0.01, 0.003, 0.001,0.0001]\n",
    "l2 = [0, 0.01, 0.003, 0.001,0.0001]\n",
    "\n",
    "# dictionary summary\n",
    "param_grid = dict(\n",
    "                    nl=nl, nn1=nn1, nn2=nn2, nn3=nn3,\n",
    "                    act=activation, l1=l1, l2=l2, lr=lr, decay=decay, dropout=dropout,batch = batch,\n",
    "                    input_shape = [X_train.shape[1]]\n",
    "                  \n",
    "                 )\n",
    "print(\"Cantidad de parametros:\",sum([len(x) for x in param_grid.values() if(type(x) != int)]))"
   ]
  },
  {
   "cell_type": "code",
   "execution_count": 11,
   "metadata": {},
   "outputs": [
    {
     "name": "stdout",
     "output_type": "stream",
     "text": [
      "Aarrancando a entrenar'\n",
      "Fitting 3 folds for each of 2 candidates, totalling 6 fits\n"
     ]
    },
    {
     "name": "stderr",
     "output_type": "stream",
     "text": [
      "[Parallel(n_jobs=5)]: Using backend LokyBackend with 5 concurrent workers.\n",
      "[Parallel(n_jobs=5)]: Done   1 tasks      | elapsed:    7.5s\n",
      "[Parallel(n_jobs=5)]: Done   2 out of   6 | elapsed:    7.9s remaining:   15.8s\n",
      "[Parallel(n_jobs=5)]: Done   3 out of   6 | elapsed:    9.9s remaining:    9.9s\n",
      "[Parallel(n_jobs=5)]: Done   4 out of   6 | elapsed:   10.0s remaining:    5.0s\n"
     ]
    },
    {
     "name": "stdout",
     "output_type": "stream",
     "text": [
      "WARNING:tensorflow:From /usr/local/lib/python3.5/site-packages/tensorflow/python/framework/op_def_library.py:263: colocate_with (from tensorflow.python.framework.ops) is deprecated and will be removed in a future version.\n",
      "Instructions for updating:\n",
      "Colocations handled automatically by placer.\n"
     ]
    },
    {
     "name": "stderr",
     "output_type": "stream",
     "text": [
      "[Parallel(n_jobs=5)]: Done   6 out of   6 | elapsed:   12.1s remaining:    0.0s\n",
      "[Parallel(n_jobs=5)]: Done   6 out of   6 | elapsed:   12.1s finished\n"
     ]
    },
    {
     "name": "stdout",
     "output_type": "stream",
     "text": [
      "WARNING:tensorflow:From /usr/local/lib/python3.5/site-packages/tensorflow/python/ops/math_ops.py:3066: to_int32 (from tensorflow.python.ops.math_ops) is deprecated and will be removed in a future version.\n",
      "Instructions for updating:\n",
      "Use tf.cast instead.\n",
      "Train on 5109 samples, validate on 1278 samples\n",
      "Epoch 1/50\n",
      "Epoch 2/50\n",
      "Epoch 3/50\n",
      "Epoch 4/50\n",
      "Epoch 5/50\n",
      "Epoch 6/50\n",
      "Epoch 7/50\n",
      "Epoch 8/50\n",
      "Epoch 9/50\n",
      "Epoch 10/50\n",
      "Epoch 11/50\n",
      "Epoch 12/50\n",
      "Epoch 13/50\n",
      "Epoch 14/50\n",
      "Epoch 15/50\n",
      "Epoch 16/50\n",
      "Epoch 17/50\n",
      "Epoch 18/50\n",
      "Epoch 19/50\n",
      "Epoch 20/50\n",
      "Epoch 21/50\n",
      "Epoch 22/50\n",
      "Epoch 23/50\n",
      "Epoch 24/50\n",
      "Epoch 25/50\n",
      "Epoch 26/50\n",
      "Epoch 27/50\n",
      "Epoch 28/50\n",
      "Epoch 29/50\n",
      "Epoch 30/50\n",
      "Epoch 31/50\n",
      "Epoch 32/50\n",
      "Epoch 33/50\n",
      "Epoch 34/50\n",
      "Epoch 35/50\n",
      "Epoch 36/50\n",
      "Epoch 37/50\n",
      "Epoch 38/50\n",
      "Epoch 39/50\n",
      "Epoch 40/50\n",
      "Epoch 41/50\n",
      "Epoch 42/50\n",
      "Epoch 43/50\n",
      "Epoch 44/50\n",
      "Epoch 45/50\n",
      "Epoch 46/50\n",
      "Epoch 47/50\n",
      "Epoch 48/50\n",
      "Epoch 49/50\n",
      "Epoch 50/50\n"
     ]
    },
    {
     "data": {
      "text/plain": [
       "RandomizedSearchCV(cv=KFold(n_splits=3, random_state=None, shuffle=False),\n",
       "                   error_score='raise-deprecating',\n",
       "                   estimator=<keras.wrappers.scikit_learn.KerasClassifier object at 0x7f5dfcc10fd0>,\n",
       "                   iid='warn', n_iter=2, n_jobs=5,\n",
       "                   param_distributions={'act': ['relu', 'sigmoid'],\n",
       "                                        'batch': [0, 1],\n",
       "                                        'decay': [1e-06, 1e-09, 0],\n",
       "                                        'dropout': [0, 0.1, 0.2, 0.3, 0.5],\n",
       "                                        'input_shape': [60],\n",
       "                                        'l1': [0, 0.01, 0.003, 0.001, 0.0001],\n",
       "                                        'l2': [0, 0.01, 0.003, 0.001, 0.0001],\n",
       "                                        'lr': [0.01, 0.001, 0.0001],\n",
       "                                        'nl': [1, 2, 3],\n",
       "                                        'nn1': [32, 50, 100, 200, 300, 400],\n",
       "                                        'nn2': [15, 30, 50, 100, 200],\n",
       "                                        'nn3': [15, 30, 50]},\n",
       "                   pre_dispatch='2*n_jobs', random_state=None, refit=True,\n",
       "                   return_train_score=False, scoring='f1_weighted', verbose=20)"
      ]
     },
     "execution_count": 11,
     "metadata": {},
     "output_type": "execute_result"
    }
   ],
   "source": [
    "weights = class_weight.compute_class_weight('balanced',\n",
    "                                                 np.unique(Y_train), Y_train)\n",
    "\n",
    "grid = RandomizedSearchCV(estimator=model, cv=KFold(3), param_distributions=param_grid,\n",
    "                          verbose=20,  n_iter=n_iter, n_jobs=n_jobs_ramdomized,scoring = \"f1_weighted\")\n",
    "\n",
    "print_s3(\"Aarrancando a entrenar'\",\"s3://fda-labs/ltv-ml/Dense/log.txt\")\n",
    "grid.fit(X_train,Y_train,class_weight = weights, validation_split = 0.2,callbacks=[es],verbose=10)"
   ]
  },
  {
   "cell_type": "code",
   "execution_count": 12,
   "metadata": {},
   "outputs": [
    {
     "name": "stdout",
     "output_type": "stream",
     "text": [
      "Seleccione los mejores hiperparametros'\n",
      "Train on 5109 samples, validate on 1278 samples\n",
      "Epoch 1/50\n",
      "Epoch 2/50\n",
      "Epoch 3/50\n",
      "Epoch 4/50\n",
      "Epoch 5/50\n",
      "Epoch 6/50\n",
      "Epoch 7/50\n",
      "Epoch 8/50\n",
      "Epoch 9/50\n",
      "Epoch 10/50\n",
      "Epoch 11/50\n",
      "Epoch 12/50\n",
      "Epoch 13/50\n",
      "Epoch 14/50\n",
      "Epoch 15/50\n",
      "Epoch 16/50\n",
      "Epoch 17/50\n",
      "Epoch 18/50\n",
      "Epoch 19/50\n",
      "Epoch 20/50\n",
      "Epoch 21/50\n",
      "Epoch 22/50\n",
      "Epoch 23/50\n",
      "Epoch 24/50\n",
      "Epoch 25/50\n",
      "Epoch 26/50\n",
      "Epoch 27/50\n",
      "Epoch 28/50\n",
      "Epoch 29/50\n",
      "Epoch 30/50\n",
      "Epoch 31/50\n",
      "Epoch 32/50\n",
      "Epoch 33/50\n",
      "Epoch 34/50\n",
      "Epoch 35/50\n",
      "Epoch 36/50\n",
      "Epoch 37/50\n",
      "Epoch 38/50\n",
      "Epoch 39/50\n",
      "Epoch 40/50\n",
      "Epoch 41/50\n",
      "Epoch 42/50\n",
      "Epoch 43/50\n",
      "Epoch 44/50\n",
      "Epoch 45/50\n",
      "Epoch 46/50\n",
      "Epoch 47/50\n",
      "Epoch 48/50\n",
      "Epoch 49/50\n",
      "Epoch 50/50\n"
     ]
    }
   ],
   "source": [
    "print_s3(\"Seleccione los mejores hiperparametros'\",\"s3://fda-labs/ltv-ml/Dense/log.txt\")\n",
    "\n",
    "params = grid.best_params_\n",
    "\n",
    "## create the model with the best params found\n",
    "model = create_model(**params)\n",
    "\n",
    "\n",
    "## Then train it and display the results\n",
    "model_hist = model.fit(X_train,\n",
    "                    y_train,\n",
    "                    class_weight = weights, validation_split = 0.2,callbacks=[es],batch_size=128, epochs=50,verbose=10)\n"
   ]
  },
  {
   "cell_type": "code",
   "execution_count": 13,
   "metadata": {},
   "outputs": [
    {
     "data": {
      "image/png": "[encoded data removed]",
      "text/plain": [
       "<Figure size 720x720 with 1 Axes>"
      ]
     },
     "metadata": {
      "needs_background": "light"
     },
     "output_type": "display_data"
    }
   ],
   "source": [
    "plt.figure(figsize = (10,10))\n",
    "plt.plot(model_hist.history['f1'])\n",
    "plt.plot(model_hist.history['val_f1'])\n",
    "plt.title('Train vs loss')\n",
    "plt.ylabel('F1')\n",
    "plt.xlabel('epoch')\n",
    "plt.legend(['train', 'test'], loc='upper right')\n",
    "plt.savefig(\"ModelPerformance.png\")\n",
    "\n",
    "s3 = boto3.client('s3')\n",
    "s3.upload_file(\"ModelPerformance.png\", \"fda-labs\", \"ltv-ml/Dense/ModelPerformance.png\")"
   ]
  },
  {
   "cell_type": "code",
   "execution_count": 14,
   "metadata": {},
   "outputs": [],
   "source": [
    "_write_dataframe_to_csv_on_s3(pd.DataFrame(grid.cv_results_),\"s3://fda-labs/ltv-ml/Dense/ModelPerformance.csv\")"
   ]
  },
  {
   "cell_type": "code",
   "execution_count": 15,
   "metadata": {},
   "outputs": [
    {
     "name": "stdout",
     "output_type": "stream",
     "text": [
      "Modelo Creado\n"
     ]
    }
   ],
   "source": [
    "model.save(\"model.h5\")\n",
    "joblib.dump(stdc_trained,\"std.sav\")\n",
    "\n",
    "s3 = boto3.client('s3')\n",
    "s3.upload_file(\"model.h5\", \"fda-labs\", \"ltv-ml/Dense/model.h5\")\n",
    "s3.upload_file(\"std.sav\", \"fda-labs\", \"ltv-ml/Dense/std.sav\")\n",
    "\n",
    "print_s3(\"Modelo Creado\",\"s3://fda-labs/ltv-ml/Dense/log.txt\")"
   ]
  },
  {
   "cell_type": "markdown",
   "metadata": {},
   "source": [
    "## Saving some model metrics\n",
    "\n",
    "Although you might be able to get your trained model without metrics, generating these metrics will allow to compare trained models and their performance from the Train front-end in your Fury Data App. We strongly encourage you to store some key metrics to measure your model's performance correctly, as it gives you an idea of how will your model performe with more realistic data"
   ]
  },
  {
   "cell_type": "code",
   "execution_count": 4,
   "metadata": {},
   "outputs": [
    {
     "name": "stdout",
     "output_type": "stream",
     "text": [
      "Levante data de testing\n"
     ]
    }
   ],
   "source": [
    "summary_cal = pd.read_csv('s3://fda-labs/ltv-ml/ML/preproc_data_test.csv.gzip') \n",
    "print_s3(\"Levante data de testing\",\"s3://fda-labs/ltv-ml/Dense/log.txt\")"
   ]
  },
  {
   "cell_type": "code",
   "execution_count": 7,
   "metadata": {},
   "outputs": [],
   "source": [
    "s3 = boto3.client('s3')\n",
    "s3.download_file(\"fda-labs\", \"ltv-ml/Dense/std.sav\",\"std.sav\")\n",
    "stdc_trained = joblib.load(\"std.sav\")\n",
    "s3.download_file(\"fda-labs\", \"ltv-ml/Dense/model.h5\",\"model.h5\")\n",
    "\n",
    "dependencies = {\n",
    "    'f1': f1\n",
    "}\n",
    "\n",
    "model = load_model(\"model.h5\",custom_objects=dependencies)\n",
    "\n",
    "encoder = LabelEncoder()\n",
    "encoder.fit(summary_cal.quintil_true)\n",
    "\n",
    "\n",
    "X = stdc_trained.transform(summary_cal[train_cols]) \n",
    "y = np_utils.to_categorical(encoder.transform(summary_cal.quintil_true))"
   ]
  },
  {
   "cell_type": "code",
   "execution_count": 8,
   "metadata": {},
   "outputs": [],
   "source": [
    "y_pred = model.predict(X)\n",
    "summary_cal[[\"q1\",\"q2\",\"q3\",\"q4\",\"q5\",\"q6\"]] = pd.DataFrame(y_pred)\n"
   ]
  },
  {
   "cell_type": "code",
   "execution_count": 9,
   "metadata": {},
   "outputs": [
    {
     "data": {
      "text/plain": [
       "<matplotlib.axes._subplots.AxesSubplot at 0x7fed911bd048>"
      ]
     },
     "execution_count": 9,
     "metadata": {},
     "output_type": "execute_result"
    },
    {
     "data": {
      "image/png": "[encoded data removed]",
      "text/plain": [
       "<Figure size 432x288 with 1 Axes>"
      ]
     },
     "metadata": {
      "needs_background": "light"
     },
     "output_type": "display_data"
    }
   ],
   "source": [
    "apply_me = summary_cal\n",
    "apply_me[[\"q1\",\"q2\",\"q3\",\"q4\",\"q5\",\"q6\"]].boxplot(showfliers = False)"
   ]
  },
  {
   "cell_type": "code",
   "execution_count": 10,
   "metadata": {},
   "outputs": [],
   "source": [
    "def asigno_quintiles_1(x,step,q):    \n",
    "    step2 = x.shape[0] - (step)\n",
    "    l_ = [\"q\"+q]*step + [\"non_q\"]*step2\n",
    "    return l_ \n",
    "\n",
    "apply_me[\"pred_q\"] = \"non_q\"\n",
    "resu = pd.DataFrame([])\n",
    "step1 = int(apply_me.shape[0]*0.1)\n",
    "step2 = int(apply_me.shape[0]*0.5)\n",
    "\n",
    "for i in range(4):\n",
    "    df = apply_me.loc[apply_me.pred_q == \"non_q\"]\n",
    "    df = df.sort_values(by = \"q\"+str(i+1),ascending = False)\n",
    "    df[\"pred_q\"] = asigno_quintiles_1(df,step1,str(i+1))\n",
    "    df = df.loc[df.pred_q != \"non_q\"]\n",
    "    apply_me.loc[apply_me.cust.isin(df.cust.values),\"pred_q\"] = \"q\"+str(i+1)\n",
    "\n",
    "df = apply_me.loc[apply_me.pred_q == \"non_q\"]\n",
    "df = df.sort_values(by = \"q6\",ascending = False)\n",
    "df[\"pred_q\"] = asigno_quintiles_1(df,step2,\"6\")\n",
    "df = df.loc[df.pred_q != \"non_q\"]\n",
    "apply_me.loc[apply_me.cust.isin(df.cust.values),\"pred_q\"] = \"q6\"\n",
    "\n",
    "apply_me.loc[apply_me.pred_q == \"non_q\",\"pred_q\"] = \"q5\"\n",
    "\n",
    "apply_me = apply_me.sort_values(by = \"target_pareto\",ascending = False)\n",
    "apply_me[\"pareto_q\"] = asigno_quintiles_6(apply_me)"
   ]
  },
  {
   "cell_type": "code",
   "execution_count": 11,
   "metadata": {},
   "outputs": [],
   "source": [
    "l_ = []\n",
    "for i in range(6):\n",
    "    aux = apply_me.loc[apply_me[\"quintil_true\"] == \"q\"+str(i+1)]\n",
    "    aux2 = aux.loc[aux[\"pred_q\"] == \"q\"+str(i+1)]\n",
    "    l_.append({\"q\":\"q\"+str(i+1), \"recall\": aux2.shape[0]/aux.shape[0]})\n",
    "    \n",
    "_write_dataframe_to_csv_on_s3(pd.DataFrame(l_),\"s3://fda-labs/ltv-ml/Dense/final_performance.csv\")"
   ]
  },
  {
   "cell_type": "code",
   "execution_count": 12,
   "metadata": {},
   "outputs": [],
   "source": [
    "confusion = confusion_matrix(apply_me[\"quintil_true\"],apply_me[\"pred_q\"])\n",
    "for i in range(confusion.shape[0]):\n",
    "    confusion[i,:] = 100*confusion[i,:]/confusion.sum(axis = 1)[i]"
   ]
  },
  {
   "cell_type": "code",
   "execution_count": 13,
   "metadata": {},
   "outputs": [
    {
     "data": {
      "image/png": "[encoded data removed]",
      "text/plain": [
       "<Figure size 720x720 with 2 Axes>"
      ]
     },
     "metadata": {
      "needs_background": "light"
     },
     "output_type": "display_data"
    }
   ],
   "source": [
    "labels = ['q1', 'q2','q3','q4','q5','q6']\n",
    "plt.figure(figsize=(10,10))\n",
    "ax= plt.subplot()\n",
    "sns.heatmap(confusion,annot = True,center = 1,ax=ax,cmap='bwr')\n",
    "ax.set_xlabel('Predicted labels');ax.set_ylabel('True labels'); \n",
    "ax.set_title('Confusion Matrix Modelo Dense'); \n",
    "ax.xaxis.set_ticklabels(labels); ax.yaxis.set_ticklabels(labels);\n",
    "\n",
    "plt.savefig(\"confusion_matrix.png\")\n",
    "\n",
    "s3 = boto3.client('s3')\n",
    "s3.upload_file(\"confusion_matrix.png\", \"fda-labs\", \"ltv-ml/Dense/confusion_matrix.png\")"
   ]
  },
  {
   "cell_type": "code",
   "execution_count": null,
   "metadata": {},
   "outputs": [],
   "source": []
  }
 ],
 "metadata": {
  "kernelspec": {
   "display_name": "Python 3",
   "language": "python",
   "name": "python3"
  },
  "language_info": {
   "codemirror_mode": {
    "name": "ipython",
    "version": 3
   },
   "file_extension": ".py",
   "mimetype": "text/x-python",
   "name": "python",
   "nbconvert_exporter": "python",
   "pygments_lexer": "ipython3",
   "version": "3.5.4"
  }
 },
 "nbformat": 4,
 "nbformat_minor": 2
}
