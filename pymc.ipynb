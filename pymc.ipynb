{
 "cells": [
  {
   "cell_type": "code",
   "execution_count": null,
   "metadata": {},
   "outputs": [],
   "source": [
    "import dask.dataframe as dd\n",
    "import datetime\n",
    "import pandas as pd\n",
    "import matplotlib.pyplot as plt\n",
    "from sklearn.model_selection import train_test_split,KFold\n",
    "from sklearn.preprocessing import StandardScaler\n",
    "from sklearn.preprocessing import LabelEncoder\n",
    "from sklearn.cluster import KMeans\n",
    "import boto3\n",
    "import pickle\n",
    "import numpy as np\n",
    "from sklearn.metrics import mean_squared_error,average_precision_score,mean_squared_error\n",
    "import joblib\n",
    "import os\n",
    "import seaborn as sns\n",
    "from bayes_opt import BayesianOptimization\n",
    "import lightgbm as lgb\n",
    "import warnings\n",
    "from sklearn.preprocessing import label_binarize\n",
    "from multiprocessing import  cpu_count\n",
    "from catboost import CatBoostClassifier,Pool\n",
    "from tqdm import tqdm\n",
    "from sklearn.feature_extraction.text import CountVectorizer\n",
    "from lifetimes import ModifiedBetaGeoFitter\n",
    "from lifetimes import GammaGammaFitter\n",
    "from dateutil.relativedelta import relativedelta \n",
    "from lifetimes.utils import summary_data_from_transaction_data\n",
    "import re\n",
    "from unicodedata import normalize\n",
    "# from shared import util\n",
    "import gc\n",
    "from sklearn.utils import class_weight\n",
    "# from imblearn.over_sampling import RandomOverSampler\n",
    "# from imblearn.under_sampling import RandomUnderSampler\n",
    "from sklearn.pipeline import Pipeline\n",
    "import os\n",
    "import time\n",
    "\n",
    "# import sys\n",
    "import sys\n",
    "sys.path.append(os.path.dirname(os.path.expanduser(\".\")))\n",
    "sys.path.append(os.path.dirname(os.path.expanduser(\"..\")))\n",
    "sys.path.append(os.path.dirname(os.path.expanduser(\"../defines\")))\n",
    "from defines import *\n",
    "\n",
    "import boto3\n",
    "s3 = boto3.client('s3')\n",
    "s3.download_file(\"fury-data-apps\", \"marketing-utils/pzenone/utils.py\",\"utils.py\")\n",
    "import utils\n",
    "\n",
    "target_col = \"frequency_eval\"\n",
    "\n",
    "from preprocessing import generate_summary_cal,reg_data,frequencies,ASP,SI,Ordenes,prepaid,franquero,pareto,IPT,IPT_short,IPS,locations,month_data_size,month_data_sales,month_data_recency,visitas_short, demograficos, compras, calificaciones, sellers, payments, payments_all, mp_buyer, mp_seller, movimientos_wallet,asset_mgm,target,long_term_data\n",
    "from train_utils import train_combinations,simple_fit,foo_evaluation_regression,foo_model_regression,foo_predict_regression,anti_dummies,caster,picture"
   ]
  },
  {
   "cell_type": "code",
   "execution_count": null,
   "metadata": {},
   "outputs": [],
   "source": [
    "import pymc3 as pm\n",
    "\n",
    "summary_cal = utils.read_pickle_csv(\"s3://\"+fda_path+s3_path_in+\"summary_train_0.pkl\")[[\"recency_date\"]].sample(n = 80000)\n",
    "summary_cal = summary_cal.loc[summary_cal.recency_date < 1000]\n",
    "summary_eval = utils.read_pickle_csv(\"s3://\"+fda_path+s3_path_in+\"summary_test_0.pkl\")[[\"recency_date\"]].sample(n = 80000)\n",
    "summary_eval = summary_eval.loc[summary_eval.recency_date < 1000]\n",
    "\n",
    "print(\"paso\")\n",
    "with pm.Model():\n",
    "    alpha1 = pm.Normal('alpha1', mu=1/7.1, sigma=0.5)\n",
    "    exp1 = pm.Exponential(\"exp1\", alpha1, observed=summary_cal.recency_date.values)\n",
    "    \n",
    "    alpha2 = pm.Normal('alpha2', mu=1/7.1, sigma=0.5)\n",
    "    exp2 = pm.Exponential(\"exp2\", alpha2, observed=summary_cal.recency_date.values)\n",
    "\n",
    "    step = pm.Metropolis()\n",
    "    trace = pm.sample(10000, step=step)\n",
    "    burned_trace = trace[1000:]"
   ]
  },
  {
   "cell_type": "code",
   "execution_count": null,
   "metadata": {},
   "outputs": [],
   "source": [
    "plt.hist(burned_trace[\"alpha1\"], bins=25, histtype=\"stepfilled\", normed=True,alpha = 0.5,color = 'r')\n",
    "plt.hist(burned_trace[\"alpha2\"], bins=25, histtype=\"stepfilled\", normed=True,alpha = 0.5,color = 'g')"
   ]
  }
 ],
 "metadata": {
  "kernelspec": {
   "display_name": "Python 3",
   "language": "python",
   "name": "python3"
  },
  "language_info": {
   "codemirror_mode": {
    "name": "ipython",
    "version": 3
   },
   "file_extension": ".py",
   "mimetype": "text/x-python",
   "name": "python",
   "nbconvert_exporter": "python",
   "pygments_lexer": "ipython3",
   "version": "3.5.4"
  }
 },
 "nbformat": 4,
 "nbformat_minor": 4
}
