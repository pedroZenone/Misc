{
 "cells": [
  {
   "cell_type": "markdown",
   "id": "b5a8c533",
   "metadata": {},
   "source": [
    "**This notebook is for:**\n",
    "1. Testing causalML.\n",
    "https://antonsruberts.github.io/causalml-test/"
   ]
  },
  {
   "cell_type": "code",
   "execution_count": 1,
   "id": "f7012168",
   "metadata": {},
   "outputs": [
    {
     "name": "stdout",
     "output_type": "stream",
     "text": [
      "adding utils to path \n"
     ]
    }
   ],
   "source": [
    "import sys, os \n",
    "prj_path = os.path.dirname(os.getcwd())\n",
    "utils_path = prj_path + '/utils'\n",
    "if  not utils_path in sys.path:\n",
    "    print('adding utils to path ')\n",
    "    sys.path.insert(1, utils_path)"
   ]
  },
  {
   "cell_type": "code",
   "execution_count": 2,
   "id": "433bc738",
   "metadata": {},
   "outputs": [],
   "source": [
    "import pandas as pd\n",
    "import numpy as np\n",
    "from matplotlib import pyplot as plt\n",
    "\n",
    "from sklearn.model_selection import train_test_split, KFold, cross_val_score, StratifiedKFold\n",
    "\n",
    "from sklearn.metrics import (\n",
    "    average_precision_score, roc_auc_score, roc_curve, auc, plot_roc_curve, RocCurveDisplay,\n",
    "    recall_score, f1_score, mean_absolute_percentage_error,r2_score,average_precision_score\n",
    ")\n",
    "\n",
    "import lightgbm as lgbm\n",
    "from sklift.metrics import qini_auc_score, uplift_auc_score\n",
    "from sklift.models import  ClassTransformation\n",
    "from skopt.space import Space\n",
    "from skopt.space import Real, Integer, Categorical\n",
    "from skopt.utils import use_named_args\n",
    "\n",
    "from skopt import gp_minimize\n",
    "# for the analysis\n",
    "from skopt.plots import (\n",
    "    plot_convergence,\n",
    "    plot_evaluations,\n",
    "    plot_objective\n",
    ")\n",
    "\n",
    "from catboost import CatBoostClassifier\n",
    "\n",
    "from utilities import *\n",
    "from user_model_evaluation import *\n",
    "\n",
    "from imblearn.over_sampling import RandomOverSampler\n",
    "from imblearn.under_sampling import RandomUnderSampler\n",
    "\n",
    "#Load config.\n",
    "files = glob.glob(f\"{utils_path}/*.yml\") \n",
    "conf = load_conf(files)"
   ]
  },
  {
   "cell_type": "code",
   "execution_count": 3,
   "id": "95814ce2",
   "metadata": {},
   "outputs": [],
   "source": [
    "master = pd.read_parquet('MASTER/202203221434.parquet',engine= 'pyarrow')"
   ]
  },
  {
   "cell_type": "code",
   "execution_count": 4,
   "id": "e1a63df5",
   "metadata": {},
   "outputs": [],
   "source": [
    "master['CANARY_VAR'] = np.random.uniform(size = master.shape[0])"
   ]
  },
  {
   "cell_type": "code",
   "execution_count": 5,
   "id": "fd2e7738",
   "metadata": {},
   "outputs": [],
   "source": [
    "#model vars\n",
    "treatment_var = 'W'\n",
    "target_var = 'Y'\n",
    "exclude_vars = ['CUS_CUST_ID', 'SENT_DATE'] + [treatment_var] + [target_var] \n",
    "model_vars = list(set(master.columns) - set(exclude_vars))"
   ]
  },
  {
   "cell_type": "code",
   "execution_count": 6,
   "id": "7d7d71be",
   "metadata": {},
   "outputs": [],
   "source": [
    "def check_units(treatment):\n",
    "    x = np.bincount(treatment)\n",
    "    return x[0]==x[1]"
   ]
  },
  {
   "cell_type": "code",
   "execution_count": 7,
   "id": "4321a206",
   "metadata": {},
   "outputs": [],
   "source": [
    "chk = check_units(master[treatment_var].tolist())\n",
    "if not chk:\n",
    "    # For ClassTransformation approach its necesary that P(W=1)=P(W=0) This implies that \n",
    "    # we have the same number of users in the two groups.\n",
    "    ros = RandomOverSampler(random_state=0)\n",
    "    v = model_vars + [treatment_var] + [target_var]\n",
    "    X_oversampled, _ = ros.fit_resample(master[v], master[treatment_var])"
   ]
  },
  {
   "cell_type": "code",
   "execution_count": 8,
   "id": "d8dfb0c1",
   "metadata": {},
   "outputs": [],
   "source": [
    "X_train, X_test, y_train, y_test = train_test_split(master[model_vars + [treatment_var]],\n",
    "                                                    master[target_var],\n",
    "                                                    random_state= 142,\n",
    "                                                    shuffle=True,\n",
    "                                                    stratify = master[target_var],\n",
    "                                                    test_size=0.33)\n",
    "\n",
    "test_treatment = X_test[treatment_var]\n",
    "\n",
    "X_train, X_val, y_train, y_val = train_test_split(X_train,\n",
    "                                                  y_train,\n",
    "                                                  random_state= 142,\n",
    "                                                  shuffle=True,\n",
    "                                                  stratify = y_train,\n",
    "                                                  test_size=0.33)\n",
    "\n",
    "train_treatment = X_train[treatment_var]\n",
    "val_treatment = X_val[treatment_var]\n",
    "\n",
    "X_train.drop(labels=treatment_var, axis = 1, inplace = True)\n",
    "X_test.drop(labels=treatment_var, axis = 1, inplace = True)\n",
    "X_val.drop(labels=treatment_var, axis = 1, inplace = True)"
   ]
  },
  {
   "cell_type": "code",
   "execution_count": 71,
   "id": "00f8855b",
   "metadata": {},
   "outputs": [],
   "source": [
    "params_grid = [\n",
    "    Integer(1,16,prior=\"uniform\",name=\"depth\"),\n",
    "    Integer(5,200,prior=\"uniform\",name=\"iterations\"),\n",
    "    Real(10**-3, 10**0, prior= \"log-uniform\", name='learning_rate'),\n",
    "    Real(0.5, 1, prior= \"uniform\", name='colsample_bylevel')\n",
    "]"
   ]
  },
  {
   "cell_type": "markdown",
   "id": "644d2954",
   "metadata": {},
   "source": [
    "**score_function.(https://catboost.ai/en/docs/concepts/algorithm-score-functions)**\n",
    "\n",
    "The score type used to select the next split during the tree construction. Possible values:\n",
    "- Cosine (do not use this score type with the Lossguide tree growing policy)\n",
    "- L2 \n",
    "- NewtonCosine (do not use this score type with the Lossguide tree growing policy)\n",
    "- NewtonL2\n",
    "\n",
    "\n",
    "**loss_function.(https://catboost.ai/en/docs/concepts/loss-functions-classification#used-for-optimization)**\n",
    "\n",
    "The metric to use in training. The specified value also determines the machine learning problem to solve. Some metrics support optional parameters \n",
    "\n",
    "**eval_metric.(https://catboost.ai/en/docs/references/eval-metric__supported-metrics)**\n",
    "\n",
    "The metric used for overfitting detection (if enabled) and best model selection (if enabled).\n",
    "Some metrics support optional parameters (see the Objectives and metrics section for details on each metric).\n",
    "Default value: Optimized objective is used"
   ]
  },
  {
   "cell_type": "code",
   "execution_count": 72,
   "id": "14329df6",
   "metadata": {},
   "outputs": [],
   "source": [
    "@use_named_args(params_grid)\n",
    "def objective(**params):\n",
    "     \n",
    "    # model with new parameters\n",
    "    logger.info(f\"[TRAIN_MODEL] Training model\") \n",
    "    logger.info(f'Set of params....., {params}')\n",
    "    \n",
    "    cv = StratifiedKFold(n_splits=3, shuffle=True,random_state=1)\n",
    "    cv_value = []\n",
    "    for train_index, test_index in cv.split(X_train,y_train):\n",
    "        \n",
    "        catClass = CatBoostClassifier(loss_function = 'Logloss',\n",
    "                                      auto_class_weights = 'Balanced',\n",
    "                                      score_function = 'L2',\n",
    "                                      thread_count = -1,\n",
    "                                      random_state=5,\n",
    "                                      metric_period=25)\n",
    "        catClass.set_params(**params)\n",
    "        classTslearner = ClassTransformation(estimator = catClass)\n",
    "    \n",
    "        classTslearner.fit(X = X_train.iloc[train_index],\n",
    "                           y = y_train.iloc[train_index],\n",
    "                           treatment = train_treatment.iloc[train_index],\n",
    "                           estimator_fit_params={'eval_set':(X_val,y_val)}\n",
    "                          )  \n",
    "                                     \n",
    "        y = classTslearner.predict(X_train.iloc[test_index])\n",
    "        y_true = y_train.iloc[test_index].values\n",
    "        treatment = train_treatment.iloc[test_index].values\n",
    "        q = qini_auc_score(y_true = y_true, \n",
    "                             uplift = y,\n",
    "                             treatment = treatment,\n",
    "                            )\n",
    "        \n",
    "        cv_value.append(q)\n",
    "        del catClass\n",
    "\n",
    "    value = np.mean(cv_value)  \n",
    "\n",
    "    logger.info(f\"mean cv_value {value} | std cv_value {np.std(cv_value)} \")\n",
    "    logger.info(\"---------------------------------------------\")\n",
    "\n",
    "    return -1*value"
   ]
  },
  {
   "cell_type": "code",
   "execution_count": 73,
   "id": "bed7c87b",
   "metadata": {
    "collapsed": true,
    "jupyter": {
     "outputs_hidden": true
    }
   },
   "outputs": [
    {
     "name": "stderr",
     "output_type": "stream",
     "text": [
      "2022-03-30 11:33:03 [TRAIN_MODEL] Training model\n",
      "2022-03-30 11:33:03 Set of params....., {'depth': 16, 'iterations': 187, 'learning_rate': 0.002423111193333883, 'colsample_bylevel': 0.9995202576620725}\n"
     ]
    },
    {
     "name": "stdout",
     "output_type": "stream",
     "text": [
      "Iteration No: 1 started. Evaluating function at random point.\n"
     ]
    },
    {
     "name": "stderr",
     "output_type": "stream",
     "text": [
      "Custom logger is already specified. Specify more than one logger at same time is not thread safe."
     ]
    },
    {
     "name": "stdout",
     "output_type": "stream",
     "text": [
      "0:\tlearn: 0.6927911\ttest: 0.6929737\tbest: 0.6929737 (0)\ttotal: 3.09s\tremaining: 9m 34s\n",
      "25:\tlearn: 0.6844635\ttest: 0.6887317\tbest: 0.6887317 (25)\ttotal: 1m 16s\tremaining: 7m 51s\n",
      "50:\tlearn: 0.6770152\ttest: 0.6848305\tbest: 0.6848305 (50)\ttotal: 2m 28s\tremaining: 6m 34s\n",
      "75:\tlearn: 0.6699957\ttest: 0.6810702\tbest: 0.6810702 (75)\ttotal: 3m 40s\tremaining: 5m 22s\n",
      "100:\tlearn: 0.6631909\ttest: 0.6773673\tbest: 0.6773673 (100)\ttotal: 4m 53s\tremaining: 4m 9s\n",
      "125:\tlearn: 0.6566507\ttest: 0.6737641\tbest: 0.6737641 (125)\ttotal: 6m 6s\tremaining: 2m 57s\n",
      "150:\tlearn: 0.6505800\ttest: 0.6703528\tbest: 0.6703528 (150)\ttotal: 7m 19s\tremaining: 1m 44s\n",
      "175:\tlearn: 0.6444251\ttest: 0.6669326\tbest: 0.6669326 (175)\ttotal: 8m 32s\tremaining: 32.1s\n",
      "186:\tlearn: 0.6417819\ttest: 0.6653861\tbest: 0.6653861 (186)\ttotal: 9m 4s\tremaining: 0us\n",
      "\n",
      "bestTest = 0.6653860588\n",
      "bestIteration = 186\n",
      "\n",
      "0:\tlearn: 0.6928050\ttest: 0.6929573\tbest: 0.6929573 (0)\ttotal: 2.77s\tremaining: 8m 34s\n",
      "25:\tlearn: 0.6845924\ttest: 0.6888062\tbest: 0.6888062 (25)\ttotal: 1m 14s\tremaining: 7m 44s\n",
      "50:\tlearn: 0.6767974\ttest: 0.6848697\tbest: 0.6848697 (50)\ttotal: 2m 27s\tremaining: 6m 32s\n",
      "75:\tlearn: 0.6694753\ttest: 0.6811679\tbest: 0.6811679 (75)\ttotal: 3m 38s\tremaining: 5m 18s\n",
      "100:\tlearn: 0.6625465\ttest: 0.6774001\tbest: 0.6774001 (100)\ttotal: 4m 50s\tremaining: 4m 7s\n",
      "125:\tlearn: 0.6561877\ttest: 0.6738517\tbest: 0.6738517 (125)\ttotal: 6m 2s\tremaining: 2m 55s\n",
      "150:\tlearn: 0.6500942\ttest: 0.6705291\tbest: 0.6705291 (150)\ttotal: 7m 15s\tremaining: 1m 43s\n",
      "175:\tlearn: 0.6441453\ttest: 0.6671796\tbest: 0.6671796 (175)\ttotal: 8m 28s\tremaining: 31.8s\n",
      "186:\tlearn: 0.6417364\ttest: 0.6657707\tbest: 0.6657707 (186)\ttotal: 9m 1s\tremaining: 0us\n",
      "\n",
      "bestTest = 0.665770676\n",
      "bestIteration = 186\n",
      "\n",
      "0:\tlearn: 0.6927770\ttest: 0.6929455\tbest: 0.6929455 (0)\ttotal: 2.94s\tremaining: 9m 7s\n",
      "25:\tlearn: 0.6844649\ttest: 0.6883970\tbest: 0.6883970 (25)\ttotal: 1m 14s\tremaining: 7m 44s\n",
      "50:\tlearn: 0.6765487\ttest: 0.6841470\tbest: 0.6841470 (50)\ttotal: 2m 26s\tremaining: 6m 30s\n",
      "75:\tlearn: 0.6685676\ttest: 0.6798295\tbest: 0.6798295 (75)\ttotal: 3m 38s\tremaining: 5m 19s\n",
      "100:\tlearn: 0.6611683\ttest: 0.6759237\tbest: 0.6759237 (100)\ttotal: 4m 51s\tremaining: 4m 8s\n",
      "125:\tlearn: 0.6544935\ttest: 0.6722562\tbest: 0.6722562 (125)\ttotal: 6m 4s\tremaining: 2m 56s\n",
      "150:\tlearn: 0.6479179\ttest: 0.6686926\tbest: 0.6686926 (150)\ttotal: 7m 19s\tremaining: 1m 44s\n",
      "175:\tlearn: 0.6416217\ttest: 0.6653144\tbest: 0.6653144 (175)\ttotal: 8m 33s\tremaining: 32.1s\n",
      "186:\tlearn: 0.6389768\ttest: 0.6638418\tbest: 0.6638418 (186)\ttotal: 9m 6s\tremaining: 0us\n",
      "\n",
      "bestTest = 0.6638417521\n",
      "bestIteration = 186\n",
      "\n"
     ]
    },
    {
     "name": "stderr",
     "output_type": "stream",
     "text": [
      "2022-03-30 12:00:21 mean cv_value 0.028990277733913782 | std cv_value 0.012601970663263627 \n",
      "2022-03-30 12:00:21 ---------------------------------------------\n",
      "2022-03-30 12:00:21 [TRAIN_MODEL] Training model\n",
      "2022-03-30 12:00:21 Set of params....., {'depth': 5, 'iterations': 82, 'learning_rate': 0.014579150644317593, 'colsample_bylevel': 0.8348730184017401}\n"
     ]
    },
    {
     "name": "stdout",
     "output_type": "stream",
     "text": [
      "Iteration No: 1 ended. Evaluation done at random point.\n",
      "Time taken: 1637.7737\n",
      "Function value obtained: -0.0290\n",
      "Current minimum: -0.0290\n",
      "Iteration No: 2 started. Evaluating function at random point.\n",
      "0:\tlearn: 0.6930524\ttest: 0.6929512\tbest: 0.6929512 (0)\ttotal: 12.5ms\tremaining: 1.01s\n",
      "25:\tlearn: 0.6913007\ttest: 0.6889824\tbest: 0.6889824 (25)\ttotal: 266ms\tremaining: 573ms\n",
      "50:\tlearn: 0.6902993\ttest: 0.6865176\tbest: 0.6865176 (50)\ttotal: 515ms\tremaining: 313ms\n",
      "75:\tlearn: 0.6896352\ttest: 0.6848967\tbest: 0.6848967 (75)\ttotal: 781ms\tremaining: 61.7ms\n",
      "81:\tlearn: 0.6895084\ttest: 0.6845858\tbest: 0.6845858 (81)\ttotal: 847ms\tremaining: 0us\n",
      "\n",
      "bestTest = 0.6845857983\n",
      "bestIteration = 81\n",
      "\n",
      "0:\tlearn: 0.6930552\ttest: 0.6929484\tbest: 0.6929484 (0)\ttotal: 13.3ms\tremaining: 1.07s\n",
      "25:\tlearn: 0.6913742\ttest: 0.6891003\tbest: 0.6891003 (25)\ttotal: 272ms\tremaining: 587ms\n",
      "50:\tlearn: 0.6903903\ttest: 0.6866464\tbest: 0.6866464 (50)\ttotal: 533ms\tremaining: 324ms\n",
      "75:\tlearn: 0.6897404\ttest: 0.6850133\tbest: 0.6850133 (75)\ttotal: 797ms\tremaining: 62.9ms\n",
      "81:\tlearn: 0.6896152\ttest: 0.6846954\tbest: 0.6846954 (81)\ttotal: 862ms\tremaining: 0us\n",
      "\n",
      "bestTest = 0.68469538\n",
      "bestIteration = 81\n",
      "\n",
      "0:\tlearn: 0.6930518\ttest: 0.6929449\tbest: 0.6929449 (0)\ttotal: 12.5ms\tremaining: 1.01s\n",
      "25:\tlearn: 0.6914494\ttest: 0.6891305\tbest: 0.6891305 (25)\ttotal: 261ms\tremaining: 563ms\n",
      "50:\tlearn: 0.6905300\ttest: 0.6867761\tbest: 0.6867761 (50)\ttotal: 522ms\tremaining: 317ms\n"
     ]
    },
    {
     "name": "stderr",
     "output_type": "stream",
     "text": [
      "2022-03-30 12:00:24 mean cv_value 0.059455087850153916 | std cv_value 0.008702306031092084 \n",
      "2022-03-30 12:00:24 ---------------------------------------------\n",
      "2022-03-30 12:00:24 [TRAIN_MODEL] Training model\n",
      "2022-03-30 12:00:24 Set of params....., {'depth': 15, 'iterations': 170, 'learning_rate': 0.008706037847015437, 'colsample_bylevel': 0.7622740797864358}\n"
     ]
    },
    {
     "name": "stdout",
     "output_type": "stream",
     "text": [
      "75:\tlearn: 0.6898955\ttest: 0.6851613\tbest: 0.6851613 (75)\ttotal: 775ms\tremaining: 61.2ms\n",
      "81:\tlearn: 0.6897624\ttest: 0.6848467\tbest: 0.6848467 (81)\ttotal: 837ms\tremaining: 0us\n",
      "\n",
      "bestTest = 0.6848467157\n",
      "bestIteration = 81\n",
      "\n",
      "Iteration No: 2 ended. Evaluation done at random point.\n",
      "Time taken: 3.2675\n",
      "Function value obtained: -0.0595\n",
      "Current minimum: -0.0595\n",
      "Iteration No: 3 started. Evaluating function at random point.\n",
      "0:\tlearn: 0.6922609\ttest: 0.6926550\tbest: 0.6926550 (0)\ttotal: 1.33s\tremaining: 3m 45s\n",
      "25:\tlearn: 0.6714196\ttest: 0.6806230\tbest: 0.6806230 (25)\ttotal: 33.8s\tremaining: 3m 7s\n",
      "50:\tlearn: 0.6534624\ttest: 0.6701109\tbest: 0.6701109 (50)\ttotal: 1m 6s\tremaining: 2m 34s\n",
      "75:\tlearn: 0.6386163\ttest: 0.6611587\tbest: 0.6611587 (75)\ttotal: 1m 38s\tremaining: 2m 1s\n",
      "100:\tlearn: 0.6257054\ttest: 0.6533127\tbest: 0.6533127 (100)\ttotal: 2m 10s\tremaining: 1m 29s\n",
      "125:\tlearn: 0.6139986\ttest: 0.6463124\tbest: 0.6463124 (125)\ttotal: 2m 42s\tremaining: 56.8s\n",
      "150:\tlearn: 0.6035244\ttest: 0.6401140\tbest: 0.6401140 (150)\ttotal: 3m 14s\tremaining: 24.5s\n",
      "169:\tlearn: 0.5969479\ttest: 0.6360654\tbest: 0.6360654 (169)\ttotal: 3m 39s\tremaining: 0us\n",
      "\n",
      "bestTest = 0.636065377\n",
      "bestIteration = 169\n",
      "\n",
      "0:\tlearn: 0.6922141\ttest: 0.6925885\tbest: 0.6925885 (0)\ttotal: 1.3s\tremaining: 3m 40s\n",
      "25:\tlearn: 0.6710962\ttest: 0.6804906\tbest: 0.6804906 (25)\ttotal: 33.9s\tremaining: 3m 7s\n",
      "50:\tlearn: 0.6528202\ttest: 0.6698669\tbest: 0.6698669 (50)\ttotal: 1m 6s\tremaining: 2m 35s\n",
      "75:\tlearn: 0.6372649\ttest: 0.6610127\tbest: 0.6610127 (75)\ttotal: 1m 39s\tremaining: 2m 2s\n",
      "100:\tlearn: 0.6243938\ttest: 0.6531632\tbest: 0.6531632 (100)\ttotal: 2m 11s\tremaining: 1m 29s\n",
      "125:\tlearn: 0.6122842\ttest: 0.6459582\tbest: 0.6459582 (125)\ttotal: 2m 43s\tremaining: 57.2s\n",
      "150:\tlearn: 0.6015542\ttest: 0.6394915\tbest: 0.6394915 (150)\ttotal: 3m 16s\tremaining: 24.7s\n",
      "169:\tlearn: 0.5942889\ttest: 0.6352322\tbest: 0.6352322 (169)\ttotal: 3m 40s\tremaining: 0us\n",
      "\n",
      "bestTest = 0.6352322444\n",
      "bestIteration = 169\n",
      "\n",
      "0:\tlearn: 0.6921577\ttest: 0.6925592\tbest: 0.6925592 (0)\ttotal: 1.3s\tremaining: 3m 39s\n",
      "25:\tlearn: 0.6706644\ttest: 0.6799628\tbest: 0.6799628 (25)\ttotal: 33.7s\tremaining: 3m 6s\n",
      "50:\tlearn: 0.6522008\ttest: 0.6692417\tbest: 0.6692417 (50)\ttotal: 1m 6s\tremaining: 2m 34s\n",
      "75:\tlearn: 0.6359975\ttest: 0.6600476\tbest: 0.6600476 (75)\ttotal: 1m 38s\tremaining: 2m 1s\n",
      "100:\tlearn: 0.6215854\ttest: 0.6515730\tbest: 0.6515730 (100)\ttotal: 2m 10s\tremaining: 1m 29s\n",
      "125:\tlearn: 0.6092076\ttest: 0.6441516\tbest: 0.6441516 (125)\ttotal: 2m 43s\tremaining: 56.9s\n",
      "150:\tlearn: 0.5982112\ttest: 0.6377150\tbest: 0.6377150 (150)\ttotal: 3m 15s\tremaining: 24.6s\n",
      "169:\tlearn: 0.5901970\ttest: 0.6330852\tbest: 0.6330852 (169)\ttotal: 3m 39s\tremaining: 0us\n",
      "\n",
      "bestTest = 0.6330852439\n",
      "bestIteration = 169\n",
      "\n"
     ]
    },
    {
     "name": "stderr",
     "output_type": "stream",
     "text": [
      "2022-03-30 12:11:26 mean cv_value 0.029293999931674374 | std cv_value 0.004799813049886253 \n",
      "2022-03-30 12:11:26 ---------------------------------------------\n",
      "2022-03-30 12:11:26 [TRAIN_MODEL] Training model\n",
      "2022-03-30 12:11:26 Set of params....., {'depth': 8, 'iterations': 50, 'learning_rate': 0.04010899007934542, 'colsample_bylevel': 0.9569810122896165}\n"
     ]
    },
    {
     "name": "stdout",
     "output_type": "stream",
     "text": [
      "Iteration No: 3 ended. Evaluation done at random point.\n",
      "Time taken: 661.8382\n",
      "Function value obtained: -0.0293\n",
      "Current minimum: -0.0595\n",
      "Iteration No: 4 started. Evaluating function at random point.\n",
      "0:\tlearn: 0.6927541\ttest: 0.6925262\tbest: 0.6925262 (0)\ttotal: 21.5ms\tremaining: 1.05s\n",
      "25:\tlearn: 0.6864521\ttest: 0.6829034\tbest: 0.6829034 (25)\ttotal: 514ms\tremaining: 474ms\n",
      "49:\tlearn: 0.6827402\ttest: 0.6788259\tbest: 0.6788259 (49)\ttotal: 984ms\tremaining: 0us\n",
      "\n",
      "bestTest = 0.6788258572\n",
      "bestIteration = 49\n",
      "\n",
      "0:\tlearn: 0.6927253\ttest: 0.6925159\tbest: 0.6925159 (0)\ttotal: 21.4ms\tremaining: 1.05s\n",
      "25:\tlearn: 0.6864634\ttest: 0.6829547\tbest: 0.6829547 (25)\ttotal: 516ms\tremaining: 476ms\n",
      "49:\tlearn: 0.6826021\ttest: 0.6788794\tbest: 0.6788794 (49)\ttotal: 989ms\tremaining: 0us\n",
      "\n",
      "bestTest = 0.6788793802\n",
      "bestIteration = 49\n",
      "\n",
      "0:\tlearn: 0.6927615\ttest: 0.6924850\tbest: 0.6924850 (0)\ttotal: 21ms\tremaining: 1.03s\n",
      "25:\tlearn: 0.6866949\ttest: 0.6830529\tbest: 0.6830529 (25)\ttotal: 514ms\tremaining: 474ms\n"
     ]
    },
    {
     "name": "stderr",
     "output_type": "stream",
     "text": [
      "2022-03-30 12:11:30 mean cv_value 0.0600051050014066 | std cv_value 0.00969822603878937 \n",
      "2022-03-30 12:11:30 ---------------------------------------------\n",
      "2022-03-30 12:11:30 [TRAIN_MODEL] Training model\n",
      "2022-03-30 12:11:30 Set of params....., {'depth': 8, 'iterations': 89, 'learning_rate': 0.6567247264241928, 'colsample_bylevel': 0.8891946181682668}\n"
     ]
    },
    {
     "name": "stdout",
     "output_type": "stream",
     "text": [
      "49:\tlearn: 0.6829737\ttest: 0.6790372\tbest: 0.6790372 (49)\ttotal: 979ms\tremaining: 0us\n",
      "\n",
      "bestTest = 0.6790371566\n",
      "bestIteration = 49\n",
      "\n",
      "Iteration No: 4 ended. Evaluation done at random point.\n",
      "Time taken: 3.6688\n",
      "Function value obtained: -0.0600\n",
      "Current minimum: -0.0600\n",
      "Iteration No: 5 started. Evaluating function at random point.\n",
      "0:\tlearn: 0.6887678\ttest: 0.6849850\tbest: 0.6849850 (0)\ttotal: 22ms\tremaining: 1.94s\n",
      "25:\tlearn: 0.6575747\ttest: 0.6733740\tbest: 0.6733740 (25)\ttotal: 541ms\tremaining: 1.31s\n",
      "50:\tlearn: 0.6331789\ttest: 0.6672719\tbest: 0.6672719 (50)\ttotal: 1.06s\tremaining: 791ms\n",
      "75:\tlearn: 0.6108343\ttest: 0.6620483\tbest: 0.6620483 (75)\ttotal: 1.59s\tremaining: 272ms\n",
      "88:\tlearn: 0.6000898\ttest: 0.6598428\tbest: 0.6598428 (88)\ttotal: 1.85s\tremaining: 0us\n",
      "\n",
      "bestTest = 0.6598428078\n",
      "bestIteration = 88\n",
      "\n",
      "0:\tlearn: 0.6885114\ttest: 0.6852094\tbest: 0.6852094 (0)\ttotal: 21.2ms\tremaining: 1.87s\n",
      "25:\tlearn: 0.6594826\ttest: 0.6749411\tbest: 0.6749411 (25)\ttotal: 536ms\tremaining: 1.3s\n",
      "50:\tlearn: 0.6361137\ttest: 0.6688273\tbest: 0.6688273 (50)\ttotal: 1.04s\tremaining: 778ms\n",
      "75:\tlearn: 0.6139514\ttest: 0.6629986\tbest: 0.6629986 (75)\ttotal: 1.56s\tremaining: 268ms\n",
      "88:\tlearn: 0.6033090\ttest: 0.6610147\tbest: 0.6610147 (88)\ttotal: 1.83s\tremaining: 0us\n",
      "\n",
      "bestTest = 0.6610147175\n",
      "bestIteration = 88\n",
      "\n",
      "0:\tlearn: 0.6887357\ttest: 0.6843696\tbest: 0.6843696 (0)\ttotal: 22.7ms\tremaining: 2s\n",
      "25:\tlearn: 0.6579701\ttest: 0.6713156\tbest: 0.6713156 (25)\ttotal: 547ms\tremaining: 1.32s\n",
      "50:\tlearn: 0.6332604\ttest: 0.6649677\tbest: 0.6649677 (50)\ttotal: 1.05s\tremaining: 786ms\n",
      "75:\tlearn: 0.6111415\ttest: 0.6620793\tbest: 0.6620793 (75)\ttotal: 1.56s\tremaining: 268ms\n"
     ]
    },
    {
     "name": "stderr",
     "output_type": "stream",
     "text": [
      "2022-03-30 12:11:36 mean cv_value 0.01800888209442569 | std cv_value 0.01244321229754965 \n",
      "2022-03-30 12:11:36 ---------------------------------------------\n",
      "2022-03-30 12:11:36 [TRAIN_MODEL] Training model\n",
      "2022-03-30 12:11:36 Set of params....., {'depth': 12, 'iterations': 162, 'learning_rate': 0.0018984642612488343, 'colsample_bylevel': 0.7590762744709445}\n"
     ]
    },
    {
     "name": "stdout",
     "output_type": "stream",
     "text": [
      "88:\tlearn: 0.5996709\ttest: 0.6594970\tbest: 0.6594970 (88)\ttotal: 1.83s\tremaining: 0us\n",
      "\n",
      "bestTest = 0.6594969825\n",
      "bestIteration = 88\n",
      "\n",
      "Iteration No: 5 ended. Evaluation done at random point.\n",
      "Time taken: 6.2583\n",
      "Function value obtained: -0.0180\n",
      "Current minimum: -0.0600\n",
      "Iteration No: 6 started. Evaluating function at random point.\n",
      "0:\tlearn: 0.6930726\ttest: 0.6930844\tbest: 0.6930844 (0)\ttotal: 101ms\tremaining: 16.2s\n",
      "25:\tlearn: 0.6912197\ttest: 0.6915646\tbest: 0.6915646 (25)\ttotal: 2.61s\tremaining: 13.6s\n",
      "50:\tlearn: 0.6894205\ttest: 0.6900936\tbest: 0.6900936 (50)\ttotal: 5.1s\tremaining: 11.1s\n",
      "75:\tlearn: 0.6877158\ttest: 0.6887024\tbest: 0.6887024 (75)\ttotal: 7.62s\tremaining: 8.62s\n",
      "100:\tlearn: 0.6860342\ttest: 0.6873480\tbest: 0.6873480 (100)\ttotal: 10.1s\tremaining: 6.12s\n",
      "125:\tlearn: 0.6843760\ttest: 0.6860350\tbest: 0.6860350 (125)\ttotal: 12.6s\tremaining: 3.61s\n",
      "150:\tlearn: 0.6828015\ttest: 0.6847876\tbest: 0.6847876 (150)\ttotal: 15.1s\tremaining: 1.1s\n",
      "161:\tlearn: 0.6821599\ttest: 0.6842755\tbest: 0.6842755 (161)\ttotal: 16.2s\tremaining: 0us\n",
      "\n",
      "bestTest = 0.6842755038\n",
      "bestIteration = 161\n",
      "\n",
      "0:\tlearn: 0.6930731\ttest: 0.6930837\tbest: 0.6930837 (0)\ttotal: 103ms\tremaining: 16.7s\n",
      "25:\tlearn: 0.6910523\ttest: 0.6914576\tbest: 0.6914576 (25)\ttotal: 2.65s\tremaining: 13.8s\n",
      "50:\tlearn: 0.6891638\ttest: 0.6899168\tbest: 0.6899168 (50)\ttotal: 5.18s\tremaining: 11.3s\n",
      "75:\tlearn: 0.6872983\ttest: 0.6884424\tbest: 0.6884424 (75)\ttotal: 7.72s\tremaining: 8.73s\n",
      "100:\tlearn: 0.6855610\ttest: 0.6870444\tbest: 0.6870444 (100)\ttotal: 10.3s\tremaining: 6.2s\n",
      "125:\tlearn: 0.6838271\ttest: 0.6856700\tbest: 0.6856700 (125)\ttotal: 12.8s\tremaining: 3.65s\n",
      "150:\tlearn: 0.6822306\ttest: 0.6844000\tbest: 0.6844000 (150)\ttotal: 15.3s\tremaining: 1.11s\n",
      "161:\tlearn: 0.6815294\ttest: 0.6838503\tbest: 0.6838503 (161)\ttotal: 16.4s\tremaining: 0us\n",
      "\n",
      "bestTest = 0.6838503195\n",
      "bestIteration = 161\n",
      "\n",
      "0:\tlearn: 0.6930618\ttest: 0.6930800\tbest: 0.6930800 (0)\ttotal: 105ms\tremaining: 16.9s\n",
      "25:\tlearn: 0.6911548\ttest: 0.6915309\tbest: 0.6915309 (25)\ttotal: 2.66s\tremaining: 13.9s\n",
      "50:\tlearn: 0.6892751\ttest: 0.6900447\tbest: 0.6900447 (50)\ttotal: 5.17s\tremaining: 11.3s\n",
      "75:\tlearn: 0.6874379\ttest: 0.6885653\tbest: 0.6885653 (75)\ttotal: 7.72s\tremaining: 8.73s\n",
      "100:\tlearn: 0.6856750\ttest: 0.6871560\tbest: 0.6871560 (100)\ttotal: 10.3s\tremaining: 6.2s\n",
      "125:\tlearn: 0.6839626\ttest: 0.6858080\tbest: 0.6858080 (125)\ttotal: 12.8s\tremaining: 3.66s\n",
      "150:\tlearn: 0.6822768\ttest: 0.6845122\tbest: 0.6845122 (150)\ttotal: 15.3s\tremaining: 1.12s\n"
     ]
    },
    {
     "name": "stderr",
     "output_type": "stream",
     "text": [
      "2022-03-30 12:12:26 mean cv_value 0.05169925535919661 | std cv_value 0.008443776190277983 \n",
      "2022-03-30 12:12:26 ---------------------------------------------\n",
      "2022-03-30 12:12:26 [TRAIN_MODEL] Training model\n",
      "2022-03-30 12:12:26 Set of params....., {'depth': 14, 'iterations': 167, 'learning_rate': 0.30818399325675105, 'colsample_bylevel': 0.6365249871083737}\n"
     ]
    },
    {
     "name": "stdout",
     "output_type": "stream",
     "text": [
      "161:\tlearn: 0.6815358\ttest: 0.6839310\tbest: 0.6839310 (161)\ttotal: 16.5s\tremaining: 0us\n",
      "\n",
      "bestTest = 0.6839309596\n",
      "bestIteration = 161\n",
      "\n",
      "Iteration No: 6 ended. Evaluation done at random point.\n",
      "Time taken: 49.9821\n",
      "Function value obtained: -0.0517\n",
      "Current minimum: -0.0600\n",
      "Iteration No: 7 started. Evaluating function at random point.\n",
      "0:\tlearn: 0.6702129\ttest: 0.6815583\tbest: 0.6815583 (0)\ttotal: 627ms\tremaining: 1m 44s\n",
      "25:\tlearn: 0.4907459\ttest: 0.5990769\tbest: 0.5990769 (25)\ttotal: 16s\tremaining: 1m 26s\n",
      "50:\tlearn: 0.4106619\ttest: 0.5731806\tbest: 0.5731806 (50)\ttotal: 30.9s\tremaining: 1m 10s\n",
      "75:\tlearn: 0.3557102\ttest: 0.5566187\tbest: 0.5566187 (75)\ttotal: 45.8s\tremaining: 54.8s\n",
      "100:\tlearn: 0.3145271\ttest: 0.5456851\tbest: 0.5456851 (100)\ttotal: 1m\tremaining: 39.8s\n",
      "125:\tlearn: 0.2780652\ttest: 0.5395477\tbest: 0.5395477 (125)\ttotal: 1m 15s\tremaining: 24.7s\n",
      "150:\tlearn: 0.2512679\ttest: 0.5358590\tbest: 0.5358590 (150)\ttotal: 1m 31s\tremaining: 9.66s\n",
      "166:\tlearn: 0.2382617\ttest: 0.5333682\tbest: 0.5333682 (166)\ttotal: 1m 40s\tremaining: 0us\n",
      "\n",
      "bestTest = 0.5333682227\n",
      "bestIteration = 166\n",
      "\n",
      "0:\tlearn: 0.6753890\ttest: 0.6828986\tbest: 0.6828986 (0)\ttotal: 630ms\tremaining: 1m 44s\n",
      "25:\tlearn: 0.5006057\ttest: 0.6048849\tbest: 0.6048849 (25)\ttotal: 15.9s\tremaining: 1m 26s\n",
      "50:\tlearn: 0.4115864\ttest: 0.5750719\tbest: 0.5750719 (50)\ttotal: 30.9s\tremaining: 1m 10s\n",
      "75:\tlearn: 0.3581764\ttest: 0.5600611\tbest: 0.5600611 (75)\ttotal: 45.6s\tremaining: 54.6s\n",
      "100:\tlearn: 0.3103502\ttest: 0.5485432\tbest: 0.5485432 (100)\ttotal: 1m\tremaining: 39.7s\n",
      "125:\tlearn: 0.2770016\ttest: 0.5429681\tbest: 0.5429681 (125)\ttotal: 1m 15s\tremaining: 24.7s\n",
      "150:\tlearn: 0.2498934\ttest: 0.5405578\tbest: 0.5405578 (150)\ttotal: 1m 31s\tremaining: 9.64s\n",
      "166:\tlearn: 0.2369467\ttest: 0.5387617\tbest: 0.5387617 (166)\ttotal: 1m 40s\tremaining: 0us\n",
      "\n",
      "bestTest = 0.5387617215\n",
      "bestIteration = 166\n",
      "\n",
      "0:\tlearn: 0.6710201\ttest: 0.6808895\tbest: 0.6808895 (0)\ttotal: 634ms\tremaining: 1m 45s\n",
      "25:\tlearn: 0.4992411\ttest: 0.6025685\tbest: 0.6025685 (25)\ttotal: 16s\tremaining: 1m 26s\n",
      "50:\tlearn: 0.4070434\ttest: 0.5693681\tbest: 0.5693681 (50)\ttotal: 31.3s\tremaining: 1m 11s\n",
      "75:\tlearn: 0.3497401\ttest: 0.5539725\tbest: 0.5539725 (75)\ttotal: 46.6s\tremaining: 55.8s\n",
      "100:\tlearn: 0.3121915\ttest: 0.5464478\tbest: 0.5464478 (100)\ttotal: 1m 2s\tremaining: 40.5s\n",
      "125:\tlearn: 0.2775457\ttest: 0.5393985\tbest: 0.5393985 (125)\ttotal: 1m 17s\tremaining: 25.1s\n",
      "150:\tlearn: 0.2549010\ttest: 0.5362256\tbest: 0.5362256 (150)\ttotal: 1m 32s\tremaining: 9.78s\n",
      "166:\tlearn: 0.2402199\ttest: 0.5340246\tbest: 0.5340246 (166)\ttotal: 1m 42s\tremaining: 0us\n",
      "\n",
      "bestTest = 0.5340246382\n",
      "bestIteration = 166\n",
      "\n"
     ]
    },
    {
     "name": "stderr",
     "output_type": "stream",
     "text": [
      "2022-03-30 12:17:31 mean cv_value -0.0039949181644930885 | std cv_value 0.016305860076530353 \n",
      "2022-03-30 12:17:31 ---------------------------------------------\n",
      "2022-03-30 12:17:31 [TRAIN_MODEL] Training model\n",
      "2022-03-30 12:17:31 Set of params....., {'depth': 2, 'iterations': 136, 'learning_rate': 0.06014458808993631, 'colsample_bylevel': 0.8358270487110673}\n"
     ]
    },
    {
     "name": "stdout",
     "output_type": "stream",
     "text": [
      "Iteration No: 7 ended. Evaluation done at random point.\n",
      "Time taken: 305.2012\n",
      "Function value obtained: 0.0040\n",
      "Current minimum: -0.0600\n",
      "Iteration No: 8 started. Evaluating function at random point.\n",
      "0:\tlearn: 0.6928654\ttest: 0.6924888\tbest: 0.6924888 (0)\ttotal: 14.3ms\tremaining: 1.94s\n",
      "25:\tlearn: 0.6904839\ttest: 0.6856829\tbest: 0.6856829 (25)\ttotal: 178ms\tremaining: 754ms\n",
      "50:\tlearn: 0.6899058\ttest: 0.6838246\tbest: 0.6838246 (50)\ttotal: 333ms\tremaining: 556ms\n",
      "75:\tlearn: 0.6895844\ttest: 0.6829089\tbest: 0.6829089 (75)\ttotal: 497ms\tremaining: 392ms\n",
      "100:\tlearn: 0.6893593\ttest: 0.6823668\tbest: 0.6823668 (100)\ttotal: 668ms\tremaining: 231ms\n",
      "125:\tlearn: 0.6891582\ttest: 0.6821040\tbest: 0.6821040 (125)\ttotal: 826ms\tremaining: 65.6ms\n",
      "135:\tlearn: 0.6890879\ttest: 0.6819834\tbest: 0.6819834 (135)\ttotal: 890ms\tremaining: 0us\n",
      "\n",
      "bestTest = 0.6819834473\n",
      "bestIteration = 135\n",
      "\n",
      "0:\tlearn: 0.6928941\ttest: 0.6925095\tbest: 0.6925095 (0)\ttotal: 8.69ms\tremaining: 1.17s\n",
      "25:\tlearn: 0.6906846\ttest: 0.6859289\tbest: 0.6859289 (25)\ttotal: 169ms\tremaining: 717ms\n",
      "50:\tlearn: 0.6901297\ttest: 0.6841508\tbest: 0.6841508 (50)\ttotal: 330ms\tremaining: 550ms\n",
      "75:\tlearn: 0.6898068\ttest: 0.6831907\tbest: 0.6831907 (75)\ttotal: 484ms\tremaining: 382ms\n",
      "100:\tlearn: 0.6895934\ttest: 0.6826813\tbest: 0.6826813 (100)\ttotal: 638ms\tremaining: 221ms\n",
      "125:\tlearn: 0.6894105\ttest: 0.6823665\tbest: 0.6823665 (125)\ttotal: 793ms\tremaining: 62.9ms\n",
      "135:\tlearn: 0.6893404\ttest: 0.6822299\tbest: 0.6822299 (135)\ttotal: 856ms\tremaining: 0us\n",
      "\n",
      "bestTest = 0.6822299067\n",
      "bestIteration = 135\n",
      "\n",
      "0:\tlearn: 0.6928997\ttest: 0.6925514\tbest: 0.6925514 (0)\ttotal: 8.31ms\tremaining: 1.12s\n",
      "25:\tlearn: 0.6907082\ttest: 0.6861813\tbest: 0.6861813 (25)\ttotal: 165ms\tremaining: 697ms\n",
      "50:\tlearn: 0.6900974\ttest: 0.6842494\tbest: 0.6842494 (50)\ttotal: 320ms\tremaining: 533ms\n",
      "75:\tlearn: 0.6898008\ttest: 0.6832192\tbest: 0.6832192 (75)\ttotal: 474ms\tremaining: 374ms\n",
      "100:\tlearn: 0.6895755\ttest: 0.6826570\tbest: 0.6826570 (100)\ttotal: 628ms\tremaining: 218ms\n",
      "125:\tlearn: 0.6893898\ttest: 0.6823379\tbest: 0.6823379 (125)\ttotal: 784ms\tremaining: 62.3ms\n"
     ]
    },
    {
     "name": "stderr",
     "output_type": "stream",
     "text": [
      "2022-03-30 12:17:34 mean cv_value 0.057874687882983396 | std cv_value 0.006190200853062535 \n",
      "2022-03-30 12:17:34 ---------------------------------------------\n",
      "2022-03-30 12:17:34 [TRAIN_MODEL] Training model\n",
      "2022-03-30 12:17:34 Set of params....., {'depth': 7, 'iterations': 44, 'learning_rate': 0.007394161323427775, 'colsample_bylevel': 0.5710600677374785}\n"
     ]
    },
    {
     "name": "stdout",
     "output_type": "stream",
     "text": [
      "135:\tlearn: 0.6893254\ttest: 0.6821989\tbest: 0.6821989 (135)\ttotal: 847ms\tremaining: 0us\n",
      "\n",
      "bestTest = 0.6821989302\n",
      "bestIteration = 135\n",
      "\n",
      "Iteration No: 8 ended. Evaluation done at random point.\n",
      "Time taken: 3.3731\n",
      "Function value obtained: -0.0579\n",
      "Current minimum: -0.0600\n",
      "Iteration No: 9 started. Evaluating function at random point.\n",
      "0:\tlearn: 0.6930807\ttest: 0.6930304\tbest: 0.6930304 (0)\ttotal: 19.2ms\tremaining: 825ms\n",
      "25:\tlearn: 0.6917413\ttest: 0.6905124\tbest: 0.6905124 (25)\ttotal: 429ms\tremaining: 297ms\n",
      "43:\tlearn: 0.6909580\ttest: 0.6890170\tbest: 0.6890170 (43)\ttotal: 735ms\tremaining: 0us\n",
      "\n",
      "bestTest = 0.6890170297\n",
      "bestIteration = 43\n",
      "\n",
      "0:\tlearn: 0.6930939\ttest: 0.6930366\tbest: 0.6930366 (0)\ttotal: 15.6ms\tremaining: 673ms\n",
      "25:\tlearn: 0.6917864\ttest: 0.6905898\tbest: 0.6905898 (25)\ttotal: 435ms\tremaining: 301ms\n",
      "43:\tlearn: 0.6910212\ttest: 0.6891284\tbest: 0.6891284 (43)\ttotal: 728ms\tremaining: 0us\n",
      "\n",
      "bestTest = 0.6891283574\n",
      "bestIteration = 43\n",
      "\n",
      "0:\tlearn: 0.6930845\ttest: 0.6930342\tbest: 0.6930342 (0)\ttotal: 19.8ms\tremaining: 852ms\n",
      "25:\tlearn: 0.6918247\ttest: 0.6906383\tbest: 0.6906383 (25)\ttotal: 442ms\tremaining: 306ms\n"
     ]
    },
    {
     "name": "stderr",
     "output_type": "stream",
     "text": [
      "2022-03-30 12:17:37 mean cv_value 0.054444859044730225 | std cv_value 0.00773532453138491 \n",
      "2022-03-30 12:17:37 ---------------------------------------------\n",
      "2022-03-30 12:17:37 [TRAIN_MODEL] Training model\n",
      "2022-03-30 12:17:37 Set of params....., {'depth': 13, 'iterations': 85, 'learning_rate': 0.0012662338916967768, 'colsample_bylevel': 0.8120149932386767}\n"
     ]
    },
    {
     "name": "stdout",
     "output_type": "stream",
     "text": [
      "43:\tlearn: 0.6910764\ttest: 0.6891962\tbest: 0.6891962 (43)\ttotal: 743ms\tremaining: 0us\n",
      "\n",
      "bestTest = 0.6891962068\n",
      "bestIteration = 43\n",
      "\n",
      "Iteration No: 9 ended. Evaluation done at random point.\n",
      "Time taken: 2.9100\n",
      "Function value obtained: -0.0544\n",
      "Current minimum: -0.0600\n",
      "Iteration No: 10 started. Evaluating function at random point.\n",
      "0:\tlearn: 0.6930797\ttest: 0.6930945\tbest: 0.6930945 (0)\ttotal: 307ms\tremaining: 25.8s\n",
      "25:\tlearn: 0.6913190\ttest: 0.6918388\tbest: 0.6918388 (25)\ttotal: 7.7s\tremaining: 17.5s\n",
      "50:\tlearn: 0.6895600\ttest: 0.6905956\tbest: 0.6905956 (50)\ttotal: 15.1s\tremaining: 10s\n",
      "75:\tlearn: 0.6878232\ttest: 0.6893658\tbest: 0.6893658 (75)\ttotal: 22.4s\tremaining: 2.65s\n",
      "84:\tlearn: 0.6872187\ttest: 0.6889329\tbest: 0.6889329 (84)\ttotal: 25.1s\tremaining: 0us\n",
      "\n",
      "bestTest = 0.6889329106\n",
      "bestIteration = 84\n",
      "\n",
      "0:\tlearn: 0.6930704\ttest: 0.6930909\tbest: 0.6930909 (0)\ttotal: 304ms\tremaining: 25.5s\n",
      "25:\tlearn: 0.6911588\ttest: 0.6917324\tbest: 0.6917324 (25)\ttotal: 7.74s\tremaining: 17.6s\n",
      "50:\tlearn: 0.6893328\ttest: 0.6904304\tbest: 0.6904304 (50)\ttotal: 15.1s\tremaining: 10.1s\n",
      "75:\tlearn: 0.6875835\ttest: 0.6891889\tbest: 0.6891889 (75)\ttotal: 22.5s\tremaining: 2.66s\n",
      "84:\tlearn: 0.6869303\ttest: 0.6887377\tbest: 0.6887377 (84)\ttotal: 25.1s\tremaining: 0us\n",
      "\n",
      "bestTest = 0.6887376637\n",
      "bestIteration = 84\n",
      "\n",
      "0:\tlearn: 0.6930627\ttest: 0.6930910\tbest: 0.6930910 (0)\ttotal: 302ms\tremaining: 25.4s\n",
      "25:\tlearn: 0.6912153\ttest: 0.6917853\tbest: 0.6917853 (25)\ttotal: 7.73s\tremaining: 17.5s\n",
      "50:\tlearn: 0.6893338\ttest: 0.6904531\tbest: 0.6904531 (50)\ttotal: 15.1s\tremaining: 10s\n",
      "75:\tlearn: 0.6875331\ttest: 0.6891746\tbest: 0.6891746 (75)\ttotal: 22.4s\tremaining: 2.66s\n"
     ]
    },
    {
     "name": "stderr",
     "output_type": "stream",
     "text": [
      "2022-03-30 12:18:54 mean cv_value 0.044253311598482385 | std cv_value 0.00870208883997345 \n",
      "2022-03-30 12:18:54 ---------------------------------------------\n",
      "2022-03-30 12:18:54 [TRAIN_MODEL] Training model\n",
      "2022-03-30 12:18:54 Set of params....., {'depth': 11, 'iterations': 63, 'learning_rate': 0.02179734099288658, 'colsample_bylevel': 0.6110622737676874}\n"
     ]
    },
    {
     "name": "stdout",
     "output_type": "stream",
     "text": [
      "84:\tlearn: 0.6868557\ttest: 0.6887071\tbest: 0.6887071 (84)\ttotal: 25.2s\tremaining: 0us\n",
      "\n",
      "bestTest = 0.6887071324\n",
      "bestIteration = 84\n",
      "\n",
      "Iteration No: 10 ended. Evaluation done at random point.\n",
      "Time taken: 76.3736\n",
      "Function value obtained: -0.0443\n",
      "Current minimum: -0.0600\n",
      "Iteration No: 11 started. Evaluating function at random point.\n",
      "0:\tlearn: 0.6925480\ttest: 0.6925539\tbest: 0.6925539 (0)\ttotal: 63ms\tremaining: 3.9s\n",
      "25:\tlearn: 0.6802008\ttest: 0.6812268\tbest: 0.6812268 (25)\ttotal: 1.53s\tremaining: 2.17s\n",
      "50:\tlearn: 0.6712942\ttest: 0.6739563\tbest: 0.6739563 (50)\ttotal: 2.96s\tremaining: 697ms\n",
      "62:\tlearn: 0.6680058\ttest: 0.6714236\tbest: 0.6714236 (62)\ttotal: 3.62s\tremaining: 0us\n",
      "\n",
      "bestTest = 0.6714236486\n",
      "bestIteration = 62\n",
      "\n",
      "0:\tlearn: 0.6925456\ttest: 0.6925290\tbest: 0.6925290 (0)\ttotal: 65.5ms\tremaining: 4.06s\n",
      "25:\tlearn: 0.6799773\ttest: 0.6811543\tbest: 0.6811543 (25)\ttotal: 1.55s\tremaining: 2.21s\n",
      "50:\tlearn: 0.6704786\ttest: 0.6735634\tbest: 0.6735634 (50)\ttotal: 3.01s\tremaining: 708ms\n",
      "62:\tlearn: 0.6665097\ttest: 0.6707521\tbest: 0.6707521 (62)\ttotal: 3.7s\tremaining: 0us\n",
      "\n",
      "bestTest = 0.6707520763\n",
      "bestIteration = 62\n",
      "\n",
      "0:\tlearn: 0.6925484\ttest: 0.6925901\tbest: 0.6925901 (0)\ttotal: 62.8ms\tremaining: 3.89s\n",
      "25:\tlearn: 0.6802818\ttest: 0.6813614\tbest: 0.6813614 (25)\ttotal: 1.55s\tremaining: 2.21s\n",
      "50:\tlearn: 0.6709738\ttest: 0.6739298\tbest: 0.6739298 (50)\ttotal: 3s\tremaining: 706ms\n"
     ]
    },
    {
     "name": "stderr",
     "output_type": "stream",
     "text": [
      "2022-03-30 12:19:06 mean cv_value 0.054877242110597656 | std cv_value 0.013854182920184172 \n",
      "2022-03-30 12:19:06 ---------------------------------------------\n",
      "2022-03-30 12:19:06 [TRAIN_MODEL] Training model\n",
      "2022-03-30 12:19:06 Set of params....., {'depth': 2, 'iterations': 97, 'learning_rate': 0.0019431967763853617, 'colsample_bylevel': 0.9516850832394338}\n"
     ]
    },
    {
     "name": "stdout",
     "output_type": "stream",
     "text": [
      "62:\tlearn: 0.6670518\ttest: 0.6711644\tbest: 0.6711644 (62)\ttotal: 3.68s\tremaining: 0us\n",
      "\n",
      "bestTest = 0.6711643904\n",
      "bestIteration = 62\n",
      "\n",
      "Iteration No: 11 ended. Evaluation done at random point.\n",
      "Time taken: 11.7675\n",
      "Function value obtained: -0.0549\n",
      "Current minimum: -0.0600\n",
      "Iteration No: 12 started. Evaluating function at random point.\n",
      "0:\tlearn: 0.6931406\ttest: 0.6931256\tbest: 0.6931256 (0)\ttotal: 8.23ms\tremaining: 790ms\n",
      "25:\tlearn: 0.6929352\ttest: 0.6926304\tbest: 0.6926304 (25)\ttotal: 160ms\tremaining: 437ms\n",
      "50:\tlearn: 0.6927209\ttest: 0.6921479\tbest: 0.6921479 (50)\ttotal: 312ms\tremaining: 282ms\n",
      "75:\tlearn: 0.6925405\ttest: 0.6917038\tbest: 0.6917038 (75)\ttotal: 463ms\tremaining: 128ms\n",
      "96:\tlearn: 0.6924045\ttest: 0.6913576\tbest: 0.6913576 (96)\ttotal: 590ms\tremaining: 0us\n",
      "\n",
      "bestTest = 0.6913575973\n",
      "bestIteration = 96\n",
      "\n",
      "0:\tlearn: 0.6931400\ttest: 0.6931263\tbest: 0.6931263 (0)\ttotal: 7.97ms\tremaining: 766ms\n",
      "25:\tlearn: 0.6929431\ttest: 0.6926379\tbest: 0.6926379 (25)\ttotal: 164ms\tremaining: 447ms\n",
      "50:\tlearn: 0.6927559\ttest: 0.6921731\tbest: 0.6921731 (50)\ttotal: 314ms\tremaining: 283ms\n",
      "75:\tlearn: 0.6925795\ttest: 0.6917423\tbest: 0.6917423 (75)\ttotal: 465ms\tremaining: 129ms\n",
      "96:\tlearn: 0.6924501\ttest: 0.6914149\tbest: 0.6914149 (96)\ttotal: 595ms\tremaining: 0us\n",
      "\n",
      "bestTest = 0.6914149281\n",
      "bestIteration = 96\n",
      "\n",
      "0:\tlearn: 0.6931450\ttest: 0.6931277\tbest: 0.6931277 (0)\ttotal: 8.56ms\tremaining: 822ms\n",
      "25:\tlearn: 0.6929554\ttest: 0.6926801\tbest: 0.6926801 (25)\ttotal: 168ms\tremaining: 459ms\n",
      "50:\tlearn: 0.6927847\ttest: 0.6922464\tbest: 0.6922464 (50)\ttotal: 324ms\tremaining: 292ms\n",
      "75:\tlearn: 0.6926240\ttest: 0.6918404\tbest: 0.6918404 (75)\ttotal: 477ms\tremaining: 132ms\n"
     ]
    },
    {
     "name": "stderr",
     "output_type": "stream",
     "text": [
      "2022-03-30 12:19:08 mean cv_value 0.04972520764590257 | std cv_value 0.013185674514110582 \n",
      "2022-03-30 12:19:08 ---------------------------------------------\n",
      "2022-03-30 12:19:08 [TRAIN_MODEL] Training model\n",
      "2022-03-30 12:19:08 Set of params....., {'depth': 3, 'iterations': 107, 'learning_rate': 0.0017818412701725806, 'colsample_bylevel': 0.9584306672648644}\n"
     ]
    },
    {
     "name": "stdout",
     "output_type": "stream",
     "text": [
      "96:\tlearn: 0.6924965\ttest: 0.6915230\tbest: 0.6915230 (96)\ttotal: 606ms\tremaining: 0us\n",
      "\n",
      "bestTest = 0.6915230349\n",
      "bestIteration = 96\n",
      "\n",
      "Iteration No: 12 ended. Evaluation done at random point.\n",
      "Time taken: 2.5001\n",
      "Function value obtained: -0.0497\n",
      "Current minimum: -0.0600\n",
      "Iteration No: 13 started. Evaluating function at random point.\n",
      "0:\tlearn: 0.6931393\ttest: 0.6931248\tbest: 0.6931248 (0)\ttotal: 9.38ms\tremaining: 994ms\n",
      "25:\tlearn: 0.6928994\ttest: 0.6925844\tbest: 0.6925844 (25)\ttotal: 196ms\tremaining: 610ms\n",
      "50:\tlearn: 0.6926832\ttest: 0.6920816\tbest: 0.6920816 (50)\ttotal: 377ms\tremaining: 413ms\n",
      "75:\tlearn: 0.6924833\ttest: 0.6916064\tbest: 0.6916064 (75)\ttotal: 559ms\tremaining: 228ms\n",
      "100:\tlearn: 0.6922992\ttest: 0.6911611\tbest: 0.6911611 (100)\ttotal: 739ms\tremaining: 43.9ms\n",
      "106:\tlearn: 0.6922556\ttest: 0.6910582\tbest: 0.6910582 (106)\ttotal: 783ms\tremaining: 0us\n",
      "\n",
      "bestTest = 0.6910581683\n",
      "bestIteration = 106\n",
      "\n",
      "0:\tlearn: 0.6931459\ttest: 0.6931267\tbest: 0.6931267 (0)\ttotal: 8.76ms\tremaining: 928ms\n",
      "25:\tlearn: 0.6929236\ttest: 0.6926061\tbest: 0.6926061 (25)\ttotal: 194ms\tremaining: 605ms\n",
      "50:\tlearn: 0.6927118\ttest: 0.6921167\tbest: 0.6921167 (50)\ttotal: 378ms\tremaining: 415ms\n",
      "75:\tlearn: 0.6925319\ttest: 0.6916664\tbest: 0.6916664 (75)\ttotal: 557ms\tremaining: 227ms\n",
      "100:\tlearn: 0.6923599\ttest: 0.6912416\tbest: 0.6912416 (100)\ttotal: 738ms\tremaining: 43.8ms\n",
      "106:\tlearn: 0.6923244\ttest: 0.6911436\tbest: 0.6911436 (106)\ttotal: 782ms\tremaining: 0us\n",
      "\n",
      "bestTest = 0.6911436128\n",
      "bestIteration = 106\n",
      "\n",
      "0:\tlearn: 0.6931362\ttest: 0.6931259\tbest: 0.6931259 (0)\ttotal: 10.1ms\tremaining: 1.07s\n",
      "25:\tlearn: 0.6929225\ttest: 0.6926242\tbest: 0.6926242 (25)\ttotal: 192ms\tremaining: 598ms\n",
      "50:\tlearn: 0.6927275\ttest: 0.6921468\tbest: 0.6921468 (50)\ttotal: 369ms\tremaining: 405ms\n",
      "75:\tlearn: 0.6925576\ttest: 0.6917023\tbest: 0.6917023 (75)\ttotal: 546ms\tremaining: 223ms\n"
     ]
    },
    {
     "name": "stderr",
     "output_type": "stream",
     "text": [
      "2022-03-30 12:19:11 mean cv_value 0.05240791451729777 | std cv_value 0.006441760933993392 \n",
      "2022-03-30 12:19:11 ---------------------------------------------\n",
      "2022-03-30 12:19:11 [TRAIN_MODEL] Training model\n",
      "2022-03-30 12:19:11 Set of params....., {'depth': 15, 'iterations': 63, 'learning_rate': 0.056645754031067724, 'colsample_bylevel': 0.7829560137320966}\n"
     ]
    },
    {
     "name": "stdout",
     "output_type": "stream",
     "text": [
      "100:\tlearn: 0.6923959\ttest: 0.6912840\tbest: 0.6912840 (100)\ttotal: 730ms\tremaining: 43.4ms\n",
      "106:\tlearn: 0.6923587\ttest: 0.6911866\tbest: 0.6911866 (106)\ttotal: 777ms\tremaining: 0us\n",
      "\n",
      "bestTest = 0.6911865549\n",
      "bestIteration = 106\n",
      "\n",
      "Iteration No: 13 ended. Evaluation done at random point.\n",
      "Time taken: 3.0373\n",
      "Function value obtained: -0.0524\n",
      "Current minimum: -0.0600\n",
      "Iteration No: 14 started. Evaluating function at random point.\n",
      "0:\tlearn: 0.6871315\ttest: 0.6898459\tbest: 0.6898459 (0)\ttotal: 1.33s\tremaining: 1m 22s\n",
      "25:\tlearn: 0.5942219\ttest: 0.6356777\tbest: 0.6356777 (25)\ttotal: 33.9s\tremaining: 48.3s\n",
      "50:\tlearn: 0.5465667\ttest: 0.6094354\tbest: 0.6094354 (50)\ttotal: 1m 6s\tremaining: 15.6s\n",
      "62:\tlearn: 0.5312879\ttest: 0.6011397\tbest: 0.6011397 (62)\ttotal: 1m 21s\tremaining: 0us\n",
      "\n",
      "bestTest = 0.6011396768\n",
      "bestIteration = 62\n",
      "\n",
      "0:\tlearn: 0.6879667\ttest: 0.6901301\tbest: 0.6901301 (0)\ttotal: 1.32s\tremaining: 1m 21s\n",
      "25:\tlearn: 0.5957389\ttest: 0.6377361\tbest: 0.6377361 (25)\ttotal: 33.6s\tremaining: 47.9s\n",
      "50:\tlearn: 0.5529693\ttest: 0.6143588\tbest: 0.6143588 (50)\ttotal: 1m 5s\tremaining: 15.4s\n",
      "62:\tlearn: 0.5355599\ttest: 0.6050366\tbest: 0.6050366 (62)\ttotal: 1m 20s\tremaining: 0us\n",
      "\n",
      "bestTest = 0.6050366238\n",
      "bestIteration = 62\n",
      "\n",
      "0:\tlearn: 0.6869539\ttest: 0.6896298\tbest: 0.6896298 (0)\ttotal: 1.34s\tremaining: 1m 22s\n",
      "25:\tlearn: 0.5933804\ttest: 0.6368218\tbest: 0.6368218 (25)\ttotal: 33.8s\tremaining: 48s\n",
      "50:\tlearn: 0.5446089\ttest: 0.6092685\tbest: 0.6092685 (50)\ttotal: 1m 5s\tremaining: 15.5s\n",
      "62:\tlearn: 0.5243229\ttest: 0.5992498\tbest: 0.5992498 (62)\ttotal: 1m 21s\tremaining: 0us\n",
      "\n",
      "bestTest = 0.5992497611\n",
      "bestIteration = 62\n",
      "\n"
     ]
    },
    {
     "name": "stderr",
     "output_type": "stream",
     "text": [
      "2022-03-30 12:23:16 mean cv_value 0.020009320931946642 | std cv_value 0.015255000127234498 \n",
      "2022-03-30 12:23:16 ---------------------------------------------\n",
      "2022-03-30 12:23:16 [TRAIN_MODEL] Training model\n",
      "2022-03-30 12:23:16 Set of params....., {'depth': 10, 'iterations': 192, 'learning_rate': 0.006066482356416916, 'colsample_bylevel': 0.6155077111062945}\n"
     ]
    },
    {
     "name": "stdout",
     "output_type": "stream",
     "text": [
      "Iteration No: 14 ended. Evaluation done at random point.\n",
      "Time taken: 245.1367\n",
      "Function value obtained: -0.0200\n",
      "Current minimum: -0.0600\n",
      "Iteration No: 15 started. Evaluating function at random point.\n",
      "0:\tlearn: 0.6930311\ttest: 0.6930103\tbest: 0.6930103 (0)\ttotal: 43.1ms\tremaining: 8.24s\n",
      "25:\tlearn: 0.6903623\ttest: 0.6899310\tbest: 0.6899310 (25)\ttotal: 1.04s\tremaining: 6.62s\n",
      "50:\tlearn: 0.6880049\ttest: 0.6873051\tbest: 0.6873051 (50)\ttotal: 2.02s\tremaining: 5.58s\n",
      "75:\tlearn: 0.6858953\ttest: 0.6850311\tbest: 0.6850311 (75)\ttotal: 2.99s\tremaining: 4.57s\n",
      "100:\tlearn: 0.6839623\ttest: 0.6830464\tbest: 0.6830464 (100)\ttotal: 3.95s\tremaining: 3.56s\n",
      "125:\tlearn: 0.6822171\ttest: 0.6813111\tbest: 0.6813111 (125)\ttotal: 4.92s\tremaining: 2.57s\n",
      "150:\tlearn: 0.6805012\ttest: 0.6797012\tbest: 0.6797012 (150)\ttotal: 5.88s\tremaining: 1.6s\n",
      "175:\tlearn: 0.6789527\ttest: 0.6782804\tbest: 0.6782804 (175)\ttotal: 6.84s\tremaining: 622ms\n",
      "191:\tlearn: 0.6779935\ttest: 0.6774380\tbest: 0.6774380 (191)\ttotal: 7.46s\tremaining: 0us\n",
      "\n",
      "bestTest = 0.6774380215\n",
      "bestIteration = 191\n",
      "\n",
      "0:\tlearn: 0.6930394\ttest: 0.6930166\tbest: 0.6930166 (0)\ttotal: 41ms\tremaining: 7.82s\n",
      "25:\tlearn: 0.6903263\ttest: 0.6899445\tbest: 0.6899445 (25)\ttotal: 1.04s\tremaining: 6.66s\n",
      "50:\tlearn: 0.6879238\ttest: 0.6873010\tbest: 0.6873010 (50)\ttotal: 2.04s\tremaining: 5.63s\n",
      "75:\tlearn: 0.6858458\ttest: 0.6850267\tbest: 0.6850267 (75)\ttotal: 3.01s\tremaining: 4.6s\n",
      "100:\tlearn: 0.6838625\ttest: 0.6830351\tbest: 0.6830351 (100)\ttotal: 3.99s\tremaining: 3.6s\n",
      "125:\tlearn: 0.6820497\ttest: 0.6812585\tbest: 0.6812585 (125)\ttotal: 4.96s\tremaining: 2.6s\n",
      "150:\tlearn: 0.6802785\ttest: 0.6796348\tbest: 0.6796348 (150)\ttotal: 5.92s\tremaining: 1.61s\n",
      "175:\tlearn: 0.6786711\ttest: 0.6781815\tbest: 0.6781815 (175)\ttotal: 6.88s\tremaining: 626ms\n",
      "191:\tlearn: 0.6776642\ttest: 0.6773053\tbest: 0.6773053 (191)\ttotal: 7.51s\tremaining: 0us\n",
      "\n",
      "bestTest = 0.6773052711\n",
      "bestIteration = 191\n",
      "\n",
      "0:\tlearn: 0.6930326\ttest: 0.6930193\tbest: 0.6930193 (0)\ttotal: 41.7ms\tremaining: 7.96s\n",
      "25:\tlearn: 0.6903994\ttest: 0.6900291\tbest: 0.6900291 (25)\ttotal: 1.06s\tremaining: 6.8s\n",
      "50:\tlearn: 0.6880932\ttest: 0.6874600\tbest: 0.6874600 (50)\ttotal: 2.08s\tremaining: 5.74s\n",
      "75:\tlearn: 0.6859684\ttest: 0.6852099\tbest: 0.6852099 (75)\ttotal: 3.06s\tremaining: 4.67s\n",
      "100:\tlearn: 0.6840064\ttest: 0.6831824\tbest: 0.6831824 (100)\ttotal: 4.05s\tremaining: 3.65s\n",
      "125:\tlearn: 0.6822366\ttest: 0.6814480\tbest: 0.6814480 (125)\ttotal: 5.03s\tremaining: 2.63s\n",
      "150:\tlearn: 0.6805035\ttest: 0.6798511\tbest: 0.6798511 (150)\ttotal: 6s\tremaining: 1.63s\n",
      "175:\tlearn: 0.6788791\ttest: 0.6783588\tbest: 0.6783588 (175)\ttotal: 6.98s\tremaining: 635ms\n"
     ]
    },
    {
     "name": "stderr",
     "output_type": "stream",
     "text": [
      "2022-03-30 12:23:40 mean cv_value 0.05648272053348761 | std cv_value 0.010390970891706486 \n",
      "2022-03-30 12:23:40 ---------------------------------------------\n",
      "2022-03-30 12:23:40 [TRAIN_MODEL] Training model\n",
      "2022-03-30 12:23:40 Set of params....., {'depth': 9, 'iterations': 190, 'learning_rate': 0.03014246606415112, 'colsample_bylevel': 0.770300254411822}\n"
     ]
    },
    {
     "name": "stdout",
     "output_type": "stream",
     "text": [
      "191:\tlearn: 0.6779421\ttest: 0.6775469\tbest: 0.6775469 (191)\ttotal: 7.61s\tremaining: 0us\n",
      "\n",
      "bestTest = 0.6775469086\n",
      "bestIteration = 191\n",
      "\n",
      "Iteration No: 15 ended. Evaluation done at random point.\n",
      "Time taken: 23.4366\n",
      "Function value obtained: -0.0565\n",
      "Current minimum: -0.0600\n",
      "Iteration No: 16 started. Evaluating function at random point.\n",
      "0:\tlearn: 0.6927461\ttest: 0.6926020\tbest: 0.6926020 (0)\ttotal: 32.3ms\tremaining: 6.1s\n",
      "25:\tlearn: 0.6855705\ttest: 0.6831994\tbest: 0.6831994 (25)\ttotal: 851ms\tremaining: 5.37s\n",
      "50:\tlearn: 0.6806730\ttest: 0.6781200\tbest: 0.6781200 (50)\ttotal: 1.64s\tremaining: 4.47s\n",
      "75:\tlearn: 0.6768582\ttest: 0.6749814\tbest: 0.6749814 (75)\ttotal: 2.42s\tremaining: 3.64s\n",
      "100:\tlearn: 0.6736567\ttest: 0.6727058\tbest: 0.6727058 (100)\ttotal: 3.18s\tremaining: 2.8s\n",
      "125:\tlearn: 0.6707058\ttest: 0.6707686\tbest: 0.6707686 (125)\ttotal: 3.94s\tremaining: 2s\n",
      "150:\tlearn: 0.6676109\ttest: 0.6689219\tbest: 0.6689219 (150)\ttotal: 4.69s\tremaining: 1.21s\n",
      "175:\tlearn: 0.6645221\ttest: 0.6671710\tbest: 0.6671710 (175)\ttotal: 5.48s\tremaining: 436ms\n",
      "189:\tlearn: 0.6627473\ttest: 0.6661665\tbest: 0.6661665 (189)\ttotal: 5.91s\tremaining: 0us\n",
      "\n",
      "bestTest = 0.6661665355\n",
      "bestIteration = 189\n",
      "\n",
      "0:\tlearn: 0.6927504\ttest: 0.6926210\tbest: 0.6926210 (0)\ttotal: 35.4ms\tremaining: 6.7s\n",
      "25:\tlearn: 0.6856620\ttest: 0.6833956\tbest: 0.6833956 (25)\ttotal: 863ms\tremaining: 5.44s\n",
      "50:\tlearn: 0.6805223\ttest: 0.6781200\tbest: 0.6781200 (50)\ttotal: 1.67s\tremaining: 4.54s\n",
      "75:\tlearn: 0.6763100\ttest: 0.6748568\tbest: 0.6748568 (75)\ttotal: 2.46s\tremaining: 3.69s\n",
      "100:\tlearn: 0.6729882\ttest: 0.6724841\tbest: 0.6724841 (100)\ttotal: 3.23s\tremaining: 2.85s\n",
      "125:\tlearn: 0.6697308\ttest: 0.6703464\tbest: 0.6703464 (125)\ttotal: 4s\tremaining: 2.03s\n",
      "150:\tlearn: 0.6666925\ttest: 0.6685649\tbest: 0.6685649 (150)\ttotal: 4.78s\tremaining: 1.23s\n",
      "175:\tlearn: 0.6636855\ttest: 0.6668404\tbest: 0.6668404 (175)\ttotal: 5.56s\tremaining: 442ms\n",
      "189:\tlearn: 0.6621499\ttest: 0.6659498\tbest: 0.6659498 (189)\ttotal: 5.99s\tremaining: 0us\n",
      "\n",
      "bestTest = 0.6659497902\n",
      "bestIteration = 189\n",
      "\n",
      "0:\tlearn: 0.6927509\ttest: 0.6925990\tbest: 0.6925990 (0)\ttotal: 32.6ms\tremaining: 6.16s\n",
      "25:\tlearn: 0.6857205\ttest: 0.6834501\tbest: 0.6834501 (25)\ttotal: 847ms\tremaining: 5.34s\n",
      "50:\tlearn: 0.6808554\ttest: 0.6785773\tbest: 0.6785773 (50)\ttotal: 1.63s\tremaining: 4.46s\n",
      "75:\tlearn: 0.6767333\ttest: 0.6752442\tbest: 0.6752442 (75)\ttotal: 2.43s\tremaining: 3.64s\n",
      "100:\tlearn: 0.6730560\ttest: 0.6726521\tbest: 0.6726521 (100)\ttotal: 3.21s\tremaining: 2.83s\n",
      "125:\tlearn: 0.6699671\ttest: 0.6706579\tbest: 0.6706579 (125)\ttotal: 3.97s\tremaining: 2.02s\n",
      "150:\tlearn: 0.6669116\ttest: 0.6688205\tbest: 0.6688205 (150)\ttotal: 4.73s\tremaining: 1.22s\n",
      "175:\tlearn: 0.6638018\ttest: 0.6670780\tbest: 0.6670780 (175)\ttotal: 5.51s\tremaining: 438ms\n"
     ]
    },
    {
     "name": "stderr",
     "output_type": "stream",
     "text": [
      "2022-03-30 12:23:58 mean cv_value 0.05570090047380774 | std cv_value 0.011102914677854646 \n",
      "2022-03-30 12:23:58 ---------------------------------------------\n",
      "2022-03-30 12:23:58 [TRAIN_MODEL] Training model\n",
      "2022-03-30 12:23:58 Set of params....., {'depth': 12, 'iterations': 14, 'learning_rate': 0.00262965247513123, 'colsample_bylevel': 0.8962017928980097}\n"
     ]
    },
    {
     "name": "stdout",
     "output_type": "stream",
     "text": [
      "189:\tlearn: 0.6618653\ttest: 0.6659500\tbest: 0.6659500 (189)\ttotal: 5.94s\tremaining: 0us\n",
      "\n",
      "bestTest = 0.6659499666\n",
      "bestIteration = 189\n",
      "\n",
      "Iteration No: 16 ended. Evaluation done at random point.\n",
      "Time taken: 18.6656\n",
      "Function value obtained: -0.0557\n",
      "Current minimum: -0.0600\n",
      "Iteration No: 17 started. Evaluating function at random point.\n",
      "0:\tlearn: 0.6930397\ttest: 0.6930601\tbest: 0.6930601 (0)\ttotal: 114ms\tremaining: 1.49s\n",
      "13:\tlearn: 0.6917036\ttest: 0.6919648\tbest: 0.6919648 (13)\ttotal: 1.46s\tremaining: 0us\n",
      "\n",
      "bestTest = 0.6919648065\n",
      "bestIteration = 13\n",
      "\n",
      "0:\tlearn: 0.6930515\ttest: 0.6930689\tbest: 0.6930689 (0)\ttotal: 105ms\tremaining: 1.37s\n",
      "13:\tlearn: 0.6915911\ttest: 0.6918925\tbest: 0.6918925 (13)\ttotal: 1.44s\tremaining: 0us\n",
      "\n",
      "bestTest = 0.6918924834\n",
      "bestIteration = 13\n",
      "\n",
      "0:\tlearn: 0.6930304\ttest: 0.6930550\tbest: 0.6930550 (0)\ttotal: 103ms\tremaining: 1.34s\n"
     ]
    },
    {
     "name": "stderr",
     "output_type": "stream",
     "text": [
      "2022-03-30 12:24:03 mean cv_value 0.04036934092358799 | std cv_value 0.011613194200943554 \n",
      "2022-03-30 12:24:03 ---------------------------------------------\n",
      "2022-03-30 12:24:03 [TRAIN_MODEL] Training model\n",
      "2022-03-30 12:24:03 Set of params....., {'depth': 1, 'iterations': 177, 'learning_rate': 0.04191452692639984, 'colsample_bylevel': 0.7239900907102091}\n"
     ]
    },
    {
     "name": "stdout",
     "output_type": "stream",
     "text": [
      "13:\tlearn: 0.6915845\ttest: 0.6918862\tbest: 0.6918862 (13)\ttotal: 1.48s\tremaining: 0us\n",
      "\n",
      "bestTest = 0.6918862402\n",
      "bestIteration = 13\n",
      "\n",
      "Iteration No: 17 ended. Evaluation done at random point.\n",
      "Time taken: 5.1029\n",
      "Function value obtained: -0.0404\n",
      "Current minimum: -0.0600\n",
      "Iteration No: 18 started. Evaluating function at random point.\n",
      "0:\tlearn: 0.6929996\ttest: 0.6928360\tbest: 0.6928360 (0)\ttotal: 8.4ms\tremaining: 1.48s\n",
      "25:\tlearn: 0.6915018\ttest: 0.6888358\tbest: 0.6888358 (25)\ttotal: 139ms\tremaining: 809ms\n",
      "50:\tlearn: 0.6910043\ttest: 0.6870536\tbest: 0.6870536 (50)\ttotal: 265ms\tremaining: 655ms\n",
      "75:\tlearn: 0.6907708\ttest: 0.6862245\tbest: 0.6862245 (75)\ttotal: 390ms\tremaining: 519ms\n",
      "100:\tlearn: 0.6906034\ttest: 0.6855841\tbest: 0.6855841 (100)\ttotal: 514ms\tremaining: 387ms\n",
      "125:\tlearn: 0.6904722\ttest: 0.6852142\tbest: 0.6852142 (125)\ttotal: 637ms\tremaining: 258ms\n",
      "150:\tlearn: 0.6903688\ttest: 0.6848856\tbest: 0.6848856 (150)\ttotal: 762ms\tremaining: 131ms\n",
      "175:\tlearn: 0.6902793\ttest: 0.6845742\tbest: 0.6845742 (175)\ttotal: 887ms\tremaining: 5.04ms\n",
      "176:\tlearn: 0.6902764\ttest: 0.6845620\tbest: 0.6845620 (176)\ttotal: 893ms\tremaining: 0us\n",
      "\n",
      "bestTest = 0.6845620314\n",
      "bestIteration = 176\n",
      "\n",
      "0:\tlearn: 0.6929994\ttest: 0.6928348\tbest: 0.6928348 (0)\ttotal: 7.12ms\tremaining: 1.25s\n",
      "25:\tlearn: 0.6916043\ttest: 0.6890531\tbest: 0.6890531 (25)\ttotal: 139ms\tremaining: 805ms\n",
      "50:\tlearn: 0.6911504\ttest: 0.6874220\tbest: 0.6874220 (50)\ttotal: 264ms\tremaining: 652ms\n",
      "75:\tlearn: 0.6909038\ttest: 0.6865304\tbest: 0.6865304 (75)\ttotal: 387ms\tremaining: 514ms\n",
      "100:\tlearn: 0.6907236\ttest: 0.6859741\tbest: 0.6859741 (100)\ttotal: 510ms\tremaining: 384ms\n",
      "125:\tlearn: 0.6905905\ttest: 0.6854933\tbest: 0.6854933 (125)\ttotal: 634ms\tremaining: 257ms\n",
      "150:\tlearn: 0.6904820\ttest: 0.6851114\tbest: 0.6851114 (150)\ttotal: 762ms\tremaining: 131ms\n",
      "175:\tlearn: 0.6904001\ttest: 0.6847823\tbest: 0.6847823 (175)\ttotal: 885ms\tremaining: 5.03ms\n",
      "176:\tlearn: 0.6903979\ttest: 0.6847745\tbest: 0.6847745 (176)\ttotal: 891ms\tremaining: 0us\n",
      "\n",
      "bestTest = 0.6847744612\n",
      "bestIteration = 176\n",
      "\n",
      "0:\tlearn: 0.6930198\ttest: 0.6928667\tbest: 0.6928667 (0)\ttotal: 7.94ms\tremaining: 1.4s\n",
      "25:\tlearn: 0.6916935\ttest: 0.6893138\tbest: 0.6893138 (25)\ttotal: 142ms\tremaining: 825ms\n",
      "50:\tlearn: 0.6912120\ttest: 0.6877427\tbest: 0.6877427 (50)\ttotal: 271ms\tremaining: 671ms\n",
      "75:\tlearn: 0.6909360\ttest: 0.6868120\tbest: 0.6868120 (75)\ttotal: 397ms\tremaining: 528ms\n",
      "100:\tlearn: 0.6907451\ttest: 0.6862197\tbest: 0.6862197 (100)\ttotal: 525ms\tremaining: 395ms\n",
      "125:\tlearn: 0.6906025\ttest: 0.6856711\tbest: 0.6856711 (125)\ttotal: 656ms\tremaining: 266ms\n",
      "150:\tlearn: 0.6904908\ttest: 0.6853117\tbest: 0.6853117 (150)\ttotal: 782ms\tremaining: 135ms\n",
      "175:\tlearn: 0.6904066\ttest: 0.6849562\tbest: 0.6849562 (175)\ttotal: 909ms\tremaining: 5.17ms\n",
      "176:\tlearn: 0.6904041\ttest: 0.6849309\tbest: 0.6849309 (176)\ttotal: 916ms\tremaining: 0us\n",
      "\n",
      "bestTest = 0.6849309234\n",
      "bestIteration = 176\n",
      "\n"
     ]
    },
    {
     "name": "stderr",
     "output_type": "stream",
     "text": [
      "2022-03-30 12:24:07 mean cv_value 0.05091237789874952 | std cv_value 0.010037667151535624 \n",
      "2022-03-30 12:24:07 ---------------------------------------------\n",
      "2022-03-30 12:24:07 [TRAIN_MODEL] Training model\n",
      "2022-03-30 12:24:07 Set of params....., {'depth': 14, 'iterations': 79, 'learning_rate': 0.04123576755384985, 'colsample_bylevel': 0.8261494410317711}\n"
     ]
    },
    {
     "name": "stdout",
     "output_type": "stream",
     "text": [
      "Iteration No: 18 ended. Evaluation done at random point.\n",
      "Time taken: 3.4187\n",
      "Function value obtained: -0.0509\n",
      "Current minimum: -0.0600\n",
      "Iteration No: 19 started. Evaluating function at random point.\n",
      "0:\tlearn: 0.6897051\ttest: 0.6911274\tbest: 0.6911274 (0)\ttotal: 627ms\tremaining: 48.9s\n",
      "25:\tlearn: 0.6342819\ttest: 0.6561743\tbest: 0.6561743 (25)\ttotal: 16.5s\tremaining: 33.6s\n",
      "50:\tlearn: 0.6012575\ttest: 0.6364424\tbest: 0.6364424 (50)\ttotal: 32.3s\tremaining: 17.7s\n",
      "75:\tlearn: 0.5784628\ttest: 0.6237008\tbest: 0.6237008 (75)\ttotal: 48.1s\tremaining: 1.9s\n",
      "78:\tlearn: 0.5763388\ttest: 0.6225589\tbest: 0.6225589 (78)\ttotal: 49.9s\tremaining: 0us\n",
      "\n",
      "bestTest = 0.6225588864\n",
      "bestIteration = 78\n",
      "\n",
      "0:\tlearn: 0.6898389\ttest: 0.6910420\tbest: 0.6910420 (0)\ttotal: 634ms\tremaining: 49.4s\n",
      "25:\tlearn: 0.6333049\ttest: 0.6562257\tbest: 0.6562257 (25)\ttotal: 16.6s\tremaining: 33.8s\n",
      "50:\tlearn: 0.6001745\ttest: 0.6365593\tbest: 0.6365593 (50)\ttotal: 32.3s\tremaining: 17.7s\n",
      "75:\tlearn: 0.5770403\ttest: 0.6233956\tbest: 0.6233956 (75)\ttotal: 48.1s\tremaining: 1.9s\n",
      "78:\tlearn: 0.5744749\ttest: 0.6221699\tbest: 0.6221699 (78)\ttotal: 50s\tremaining: 0us\n",
      "\n",
      "bestTest = 0.622169855\n",
      "bestIteration = 78\n",
      "\n",
      "0:\tlearn: 0.6895083\ttest: 0.6909889\tbest: 0.6909889 (0)\ttotal: 647ms\tremaining: 50.5s\n",
      "25:\tlearn: 0.6285764\ttest: 0.6533036\tbest: 0.6533036 (25)\ttotal: 16.8s\tremaining: 34.3s\n",
      "50:\tlearn: 0.5940878\ttest: 0.6330611\tbest: 0.6330611 (50)\ttotal: 32.7s\tremaining: 17.9s\n",
      "75:\tlearn: 0.5691314\ttest: 0.6190805\tbest: 0.6190805 (75)\ttotal: 48.6s\tremaining: 1.92s\n",
      "78:\tlearn: 0.5664038\ttest: 0.6175982\tbest: 0.6175982 (78)\ttotal: 50.5s\tremaining: 0us\n",
      "\n",
      "bestTest = 0.617598213\n",
      "bestIteration = 78\n",
      "\n"
     ]
    },
    {
     "name": "stderr",
     "output_type": "stream",
     "text": [
      "2022-03-30 12:26:38 mean cv_value 0.038470735516423576 | std cv_value 0.018876260532586096 \n",
      "2022-03-30 12:26:38 ---------------------------------------------\n",
      "2022-03-30 12:26:38 [TRAIN_MODEL] Training model\n",
      "2022-03-30 12:26:38 Set of params....., {'depth': 6, 'iterations': 116, 'learning_rate': 0.08194254573277535, 'colsample_bylevel': 0.5631574425224442}\n"
     ]
    },
    {
     "name": "stdout",
     "output_type": "stream",
     "text": [
      "Iteration No: 19 ended. Evaluation done at random point.\n",
      "Time taken: 151.5379\n",
      "Function value obtained: -0.0385\n",
      "Current minimum: -0.0600\n",
      "Iteration No: 20 started. Evaluating function at random point.\n",
      "0:\tlearn: 0.6925671\ttest: 0.6919679\tbest: 0.6919679 (0)\ttotal: 15ms\tremaining: 1.72s\n",
      "25:\tlearn: 0.6873486\ttest: 0.6815660\tbest: 0.6815660 (25)\ttotal: 359ms\tremaining: 1.24s\n",
      "50:\tlearn: 0.6849564\ttest: 0.6789921\tbest: 0.6789921 (50)\ttotal: 696ms\tremaining: 886ms\n",
      "75:\tlearn: 0.6827545\ttest: 0.6775082\tbest: 0.6775082 (75)\ttotal: 1.03s\tremaining: 543ms\n",
      "100:\tlearn: 0.6807057\ttest: 0.6761065\tbest: 0.6761065 (100)\ttotal: 1.38s\tremaining: 204ms\n",
      "115:\tlearn: 0.6795121\ttest: 0.6754623\tbest: 0.6754623 (115)\ttotal: 1.57s\tremaining: 0us\n",
      "\n",
      "bestTest = 0.6754623328\n",
      "bestIteration = 115\n",
      "\n",
      "0:\tlearn: 0.6926254\ttest: 0.6919840\tbest: 0.6919840 (0)\ttotal: 14.6ms\tremaining: 1.68s\n",
      "25:\tlearn: 0.6874319\ttest: 0.6816431\tbest: 0.6816431 (25)\ttotal: 350ms\tremaining: 1.21s\n",
      "50:\tlearn: 0.6850738\ttest: 0.6793208\tbest: 0.6793208 (50)\ttotal: 683ms\tremaining: 870ms\n",
      "75:\tlearn: 0.6830307\ttest: 0.6778364\tbest: 0.6778364 (75)\ttotal: 1.01s\tremaining: 533ms\n",
      "100:\tlearn: 0.6811358\ttest: 0.6767409\tbest: 0.6767409 (100)\ttotal: 1.34s\tremaining: 200ms\n",
      "115:\tlearn: 0.6800821\ttest: 0.6761288\tbest: 0.6761288 (115)\ttotal: 1.54s\tremaining: 0us\n",
      "\n",
      "bestTest = 0.6761287913\n",
      "bestIteration = 115\n",
      "\n",
      "0:\tlearn: 0.6925869\ttest: 0.6919668\tbest: 0.6919668 (0)\ttotal: 14.4ms\tremaining: 1.65s\n",
      "25:\tlearn: 0.6876712\ttest: 0.6818933\tbest: 0.6818933 (25)\ttotal: 346ms\tremaining: 1.2s\n",
      "50:\tlearn: 0.6852633\ttest: 0.6795182\tbest: 0.6795182 (50)\ttotal: 688ms\tremaining: 877ms\n",
      "75:\tlearn: 0.6832135\ttest: 0.6779808\tbest: 0.6779808 (75)\ttotal: 1.02s\tremaining: 538ms\n",
      "100:\tlearn: 0.6813560\ttest: 0.6767557\tbest: 0.6767557 (100)\ttotal: 1.36s\tremaining: 203ms\n"
     ]
    },
    {
     "name": "stderr",
     "output_type": "stream",
     "text": [
      "2022-03-30 12:26:44 mean cv_value 0.062266930273997316 | std cv_value 0.01045028156532257 \n",
      "2022-03-30 12:26:44 ---------------------------------------------\n",
      "2022-03-30 12:26:44 [TRAIN_MODEL] Training model\n",
      "2022-03-30 12:26:44 Set of params....., {'depth': 11, 'iterations': 131, 'learning_rate': 0.011529680332917293, 'colsample_bylevel': 0.881616526357561}\n"
     ]
    },
    {
     "name": "stdout",
     "output_type": "stream",
     "text": [
      "115:\tlearn: 0.6802320\ttest: 0.6760445\tbest: 0.6760445 (115)\ttotal: 1.56s\tremaining: 0us\n",
      "\n",
      "bestTest = 0.6760445457\n",
      "bestIteration = 115\n",
      "\n",
      "Iteration No: 20 ended. Evaluation done at random point.\n",
      "Time taken: 5.4226\n",
      "Function value obtained: -0.0623\n",
      "Current minimum: -0.0623\n",
      "Iteration No: 21 started. Evaluating function at random point.\n",
      "0:\tlearn: 0.6927953\ttest: 0.6928021\tbest: 0.6928021 (0)\ttotal: 66.3ms\tremaining: 8.61s\n",
      "25:\tlearn: 0.6857877\ttest: 0.6862566\tbest: 0.6862566 (25)\ttotal: 1.65s\tremaining: 6.65s\n",
      "50:\tlearn: 0.6799225\ttest: 0.6810613\tbest: 0.6810613 (50)\ttotal: 3.19s\tremaining: 5s\n",
      "75:\tlearn: 0.6749056\ttest: 0.6767889\tbest: 0.6767889 (75)\ttotal: 4.7s\tremaining: 3.4s\n",
      "100:\tlearn: 0.6701605\ttest: 0.6730872\tbest: 0.6730872 (100)\ttotal: 6.19s\tremaining: 1.84s\n",
      "125:\tlearn: 0.6663523\ttest: 0.6702356\tbest: 0.6702356 (125)\ttotal: 7.66s\tremaining: 304ms\n",
      "130:\tlearn: 0.6657261\ttest: 0.6697637\tbest: 0.6697637 (130)\ttotal: 7.95s\tremaining: 0us\n",
      "\n",
      "bestTest = 0.6697636818\n",
      "bestIteration = 130\n",
      "\n",
      "0:\tlearn: 0.6928146\ttest: 0.6928203\tbest: 0.6928203 (0)\ttotal: 65.2ms\tremaining: 8.48s\n",
      "25:\tlearn: 0.6854233\ttest: 0.6860225\tbest: 0.6860225 (25)\ttotal: 1.64s\tremaining: 6.61s\n",
      "50:\tlearn: 0.6795565\ttest: 0.6807808\tbest: 0.6807808 (50)\ttotal: 3.17s\tremaining: 4.97s\n",
      "75:\tlearn: 0.6741625\ttest: 0.6764217\tbest: 0.6764217 (75)\ttotal: 4.68s\tremaining: 3.39s\n",
      "100:\tlearn: 0.6694050\ttest: 0.6727406\tbest: 0.6727406 (100)\ttotal: 6.19s\tremaining: 1.84s\n",
      "125:\tlearn: 0.6650180\ttest: 0.6696357\tbest: 0.6696357 (125)\ttotal: 7.67s\tremaining: 304ms\n",
      "130:\tlearn: 0.6642508\ttest: 0.6690871\tbest: 0.6690871 (130)\ttotal: 7.96s\tremaining: 0us\n",
      "\n",
      "bestTest = 0.6690870823\n",
      "bestIteration = 130\n",
      "\n",
      "0:\tlearn: 0.6928206\ttest: 0.6928394\tbest: 0.6928394 (0)\ttotal: 67.8ms\tremaining: 8.82s\n",
      "25:\tlearn: 0.6855759\ttest: 0.6861266\tbest: 0.6861266 (25)\ttotal: 1.65s\tremaining: 6.67s\n",
      "50:\tlearn: 0.6795916\ttest: 0.6808219\tbest: 0.6808219 (50)\ttotal: 3.23s\tremaining: 5.06s\n",
      "75:\tlearn: 0.6743558\ttest: 0.6765415\tbest: 0.6765415 (75)\ttotal: 4.76s\tremaining: 3.44s\n",
      "100:\tlearn: 0.6696644\ttest: 0.6729831\tbest: 0.6729831 (100)\ttotal: 6.29s\tremaining: 1.87s\n",
      "125:\tlearn: 0.6657131\ttest: 0.6701290\tbest: 0.6701290 (125)\ttotal: 7.76s\tremaining: 308ms\n"
     ]
    },
    {
     "name": "stderr",
     "output_type": "stream",
     "text": [
      "2022-03-30 12:27:09 mean cv_value 0.059950602287650645 | std cv_value 0.008572727443956301 \n",
      "2022-03-30 12:27:09 ---------------------------------------------\n",
      "2022-03-30 12:27:09 [TRAIN_MODEL] Training model\n",
      "2022-03-30 12:27:09 Set of params....., {'depth': 6, 'iterations': 152, 'learning_rate': 0.44058072059144754, 'colsample_bylevel': 0.5058345968404468}\n"
     ]
    },
    {
     "name": "stdout",
     "output_type": "stream",
     "text": [
      "130:\tlearn: 0.6649655\ttest: 0.6695986\tbest: 0.6695986 (130)\ttotal: 8.06s\tremaining: 0us\n",
      "\n",
      "bestTest = 0.6695985586\n",
      "bestIteration = 130\n",
      "\n",
      "Iteration No: 21 ended. Evaluation done at random point.\n",
      "Time taken: 24.8016\n",
      "Function value obtained: -0.0600\n",
      "Current minimum: -0.0623\n",
      "Iteration No: 22 started. Evaluating function at random point.\n",
      "0:\tlearn: 0.6906974\ttest: 0.6874244\tbest: 0.6874244 (0)\ttotal: 14.8ms\tremaining: 2.24s\n",
      "25:\tlearn: 0.6801056\ttest: 0.6774936\tbest: 0.6774936 (25)\ttotal: 346ms\tremaining: 1.68s\n",
      "50:\tlearn: 0.6723476\ttest: 0.6738310\tbest: 0.6738310 (50)\ttotal: 679ms\tremaining: 1.34s\n",
      "75:\tlearn: 0.6647968\ttest: 0.6714827\tbest: 0.6714827 (75)\ttotal: 1s\tremaining: 1s\n",
      "100:\tlearn: 0.6579294\ttest: 0.6692680\tbest: 0.6692680 (100)\ttotal: 1.33s\tremaining: 673ms\n",
      "125:\tlearn: 0.6514707\ttest: 0.6670823\tbest: 0.6670823 (125)\ttotal: 1.66s\tremaining: 343ms\n",
      "150:\tlearn: 0.6453998\ttest: 0.6651451\tbest: 0.6651451 (150)\ttotal: 1.99s\tremaining: 13.2ms\n",
      "151:\tlearn: 0.6452119\ttest: 0.6651725\tbest: 0.6651451 (150)\ttotal: 2s\tremaining: 0us\n",
      "\n",
      "bestTest = 0.6651451419\n",
      "bestIteration = 150\n",
      "\n",
      "Shrink model to first 151 iterations.\n",
      "0:\tlearn: 0.6907187\ttest: 0.6874059\tbest: 0.6874059 (0)\ttotal: 13.5ms\tremaining: 2.04s\n",
      "25:\tlearn: 0.6797244\ttest: 0.6774516\tbest: 0.6774516 (25)\ttotal: 351ms\tremaining: 1.7s\n",
      "50:\tlearn: 0.6716186\ttest: 0.6745804\tbest: 0.6745804 (50)\ttotal: 686ms\tremaining: 1.36s\n",
      "75:\tlearn: 0.6647098\ttest: 0.6721703\tbest: 0.6721703 (75)\ttotal: 1.01s\tremaining: 1.01s\n",
      "100:\tlearn: 0.6580614\ttest: 0.6699506\tbest: 0.6699506 (100)\ttotal: 1.34s\tremaining: 677ms\n",
      "125:\tlearn: 0.6515134\ttest: 0.6674265\tbest: 0.6674265 (125)\ttotal: 1.67s\tremaining: 344ms\n",
      "150:\tlearn: 0.6452976\ttest: 0.6652086\tbest: 0.6652086 (150)\ttotal: 2s\tremaining: 13.2ms\n",
      "151:\tlearn: 0.6450728\ttest: 0.6652038\tbest: 0.6652038 (151)\ttotal: 2.01s\tremaining: 0us\n",
      "\n",
      "bestTest = 0.6652037779\n",
      "bestIteration = 151\n",
      "\n",
      "0:\tlearn: 0.6908009\ttest: 0.6875968\tbest: 0.6875968 (0)\ttotal: 14.8ms\tremaining: 2.23s\n",
      "25:\tlearn: 0.6804465\ttest: 0.6771319\tbest: 0.6771319 (25)\ttotal: 361ms\tremaining: 1.75s\n",
      "50:\tlearn: 0.6732053\ttest: 0.6747135\tbest: 0.6747135 (50)\ttotal: 691ms\tremaining: 1.37s\n",
      "75:\tlearn: 0.6661388\ttest: 0.6723255\tbest: 0.6723255 (75)\ttotal: 1.02s\tremaining: 1.02s\n",
      "100:\tlearn: 0.6592001\ttest: 0.6695932\tbest: 0.6695932 (100)\ttotal: 1.36s\tremaining: 689ms\n",
      "125:\tlearn: 0.6525650\ttest: 0.6671159\tbest: 0.6671159 (125)\ttotal: 1.7s\tremaining: 351ms\n"
     ]
    },
    {
     "name": "stderr",
     "output_type": "stream",
     "text": [
      "2022-03-30 12:27:15 mean cv_value 0.022938804233456848 | std cv_value 0.004615191644953426 \n",
      "2022-03-30 12:27:15 ---------------------------------------------\n",
      "2022-03-30 12:27:15 [TRAIN_MODEL] Training model\n",
      "2022-03-30 12:27:15 Set of params....., {'depth': 8, 'iterations': 19, 'learning_rate': 0.22953791023466025, 'colsample_bylevel': 0.5320336649191086}\n"
     ]
    },
    {
     "name": "stdout",
     "output_type": "stream",
     "text": [
      "150:\tlearn: 0.6464860\ttest: 0.6651081\tbest: 0.6651081 (150)\ttotal: 2.03s\tremaining: 13.4ms\n",
      "151:\tlearn: 0.6462632\ttest: 0.6649303\tbest: 0.6649303 (151)\ttotal: 2.04s\tremaining: 0us\n",
      "\n",
      "bestTest = 0.6649302777\n",
      "bestIteration = 151\n",
      "\n",
      "Iteration No: 22 ended. Evaluation done at random point.\n",
      "Time taken: 6.8122\n",
      "Function value obtained: -0.0229\n",
      "Current minimum: -0.0623\n",
      "Iteration No: 23 started. Evaluating function at random point.\n",
      "0:\tlearn: 0.6911820\ttest: 0.6897303\tbest: 0.6897303 (0)\ttotal: 22.9ms\tremaining: 413ms\n",
      "18:\tlearn: 0.6777102\ttest: 0.6754251\tbest: 0.6754251 (18)\ttotal: 430ms\tremaining: 0us\n",
      "\n",
      "bestTest = 0.6754250564\n",
      "bestIteration = 18\n",
      "\n",
      "0:\tlearn: 0.6912342\ttest: 0.6897722\tbest: 0.6897722 (0)\ttotal: 22.8ms\tremaining: 410ms\n",
      "18:\tlearn: 0.6772383\ttest: 0.6751820\tbest: 0.6751820 (18)\ttotal: 421ms\tremaining: 0us\n",
      "\n",
      "bestTest = 0.6751819821\n",
      "bestIteration = 18\n",
      "\n",
      "0:\tlearn: 0.6911549\ttest: 0.6897963\tbest: 0.6897963 (0)\ttotal: 23.3ms\tremaining: 420ms\n"
     ]
    },
    {
     "name": "stderr",
     "output_type": "stream",
     "text": [
      "2022-03-30 12:27:17 mean cv_value 0.05160794228889571 | std cv_value 0.015425201540688802 \n",
      "2022-03-30 12:27:17 ---------------------------------------------\n",
      "2022-03-30 12:27:17 [TRAIN_MODEL] Training model\n",
      "2022-03-30 12:27:17 Set of params....., {'depth': 6, 'iterations': 189, 'learning_rate': 0.013785098076150297, 'colsample_bylevel': 0.8814600367224945}\n"
     ]
    },
    {
     "name": "stdout",
     "output_type": "stream",
     "text": [
      "18:\tlearn: 0.6777871\ttest: 0.6759810\tbest: 0.6759810 (18)\ttotal: 424ms\tremaining: 0us\n",
      "\n",
      "bestTest = 0.6759809655\n",
      "bestIteration = 18\n",
      "\n",
      "Iteration No: 23 ended. Evaluation done at random point.\n",
      "Time taken: 1.9857\n",
      "Function value obtained: -0.0516\n",
      "Current minimum: -0.0623\n",
      "Iteration No: 24 started. Evaluating function at random point.\n",
      "0:\tlearn: 0.6930457\ttest: 0.6929429\tbest: 0.6929429 (0)\ttotal: 12.8ms\tremaining: 2.41s\n",
      "25:\tlearn: 0.6911452\ttest: 0.6890001\tbest: 0.6890001 (25)\ttotal: 344ms\tremaining: 2.16s\n",
      "50:\tlearn: 0.6899509\ttest: 0.6863646\tbest: 0.6863646 (50)\ttotal: 659ms\tremaining: 1.78s\n",
      "75:\tlearn: 0.6890635\ttest: 0.6845552\tbest: 0.6845552 (75)\ttotal: 983ms\tremaining: 1.46s\n",
      "100:\tlearn: 0.6883734\ttest: 0.6832326\tbest: 0.6832326 (100)\ttotal: 1.3s\tremaining: 1.13s\n",
      "125:\tlearn: 0.6878023\ttest: 0.6823040\tbest: 0.6823040 (125)\ttotal: 1.62s\tremaining: 811ms\n",
      "150:\tlearn: 0.6872847\ttest: 0.6815950\tbest: 0.6815950 (150)\ttotal: 1.94s\tremaining: 488ms\n",
      "175:\tlearn: 0.6868085\ttest: 0.6809784\tbest: 0.6809784 (175)\ttotal: 2.26s\tremaining: 167ms\n",
      "188:\tlearn: 0.6865817\ttest: 0.6807040\tbest: 0.6807040 (188)\ttotal: 2.43s\tremaining: 0us\n",
      "\n",
      "bestTest = 0.6807040481\n",
      "bestIteration = 188\n",
      "\n",
      "0:\tlearn: 0.6930496\ttest: 0.6929595\tbest: 0.6929595 (0)\ttotal: 15ms\tremaining: 2.82s\n",
      "25:\tlearn: 0.6911956\ttest: 0.6890604\tbest: 0.6890604 (25)\ttotal: 329ms\tremaining: 2.06s\n",
      "50:\tlearn: 0.6900243\ttest: 0.6865239\tbest: 0.6865239 (50)\ttotal: 636ms\tremaining: 1.72s\n",
      "75:\tlearn: 0.6891792\ttest: 0.6847060\tbest: 0.6847060 (75)\ttotal: 951ms\tremaining: 1.41s\n",
      "100:\tlearn: 0.6884939\ttest: 0.6834086\tbest: 0.6834086 (100)\ttotal: 1.27s\tremaining: 1.11s\n",
      "125:\tlearn: 0.6879086\ttest: 0.6824367\tbest: 0.6824367 (125)\ttotal: 1.58s\tremaining: 792ms\n",
      "150:\tlearn: 0.6873851\ttest: 0.6817036\tbest: 0.6817036 (150)\ttotal: 1.9s\tremaining: 478ms\n",
      "175:\tlearn: 0.6869115\ttest: 0.6811040\tbest: 0.6811040 (175)\ttotal: 2.21s\tremaining: 164ms\n",
      "188:\tlearn: 0.6866798\ttest: 0.6808279\tbest: 0.6808279 (188)\ttotal: 2.38s\tremaining: 0us\n",
      "\n",
      "bestTest = 0.6808278681\n",
      "bestIteration = 188\n",
      "\n",
      "0:\tlearn: 0.6930473\ttest: 0.6929451\tbest: 0.6929451 (0)\ttotal: 12.7ms\tremaining: 2.4s\n",
      "25:\tlearn: 0.6912654\ttest: 0.6890615\tbest: 0.6890615 (25)\ttotal: 320ms\tremaining: 2.01s\n",
      "50:\tlearn: 0.6901290\ttest: 0.6865499\tbest: 0.6865499 (50)\ttotal: 629ms\tremaining: 1.7s\n",
      "75:\tlearn: 0.6893146\ttest: 0.6848051\tbest: 0.6848051 (75)\ttotal: 939ms\tremaining: 1.4s\n",
      "100:\tlearn: 0.6886453\ttest: 0.6835248\tbest: 0.6835248 (100)\ttotal: 1.25s\tremaining: 1.09s\n",
      "125:\tlearn: 0.6880902\ttest: 0.6825896\tbest: 0.6825896 (125)\ttotal: 1.56s\tremaining: 782ms\n",
      "150:\tlearn: 0.6875789\ttest: 0.6818483\tbest: 0.6818483 (150)\ttotal: 1.88s\tremaining: 474ms\n",
      "175:\tlearn: 0.6870952\ttest: 0.6812210\tbest: 0.6812210 (175)\ttotal: 2.2s\tremaining: 162ms\n",
      "188:\tlearn: 0.6868642\ttest: 0.6809564\tbest: 0.6809564 (188)\ttotal: 2.37s\tremaining: 0us\n",
      "\n",
      "bestTest = 0.6809564448\n",
      "bestIteration = 188\n",
      "\n"
     ]
    },
    {
     "name": "stderr",
     "output_type": "stream",
     "text": [
      "2022-03-30 12:27:25 mean cv_value 0.06204237907505091 | std cv_value 0.008188040809651027 \n",
      "2022-03-30 12:27:25 ---------------------------------------------\n",
      "2022-03-30 12:27:25 [TRAIN_MODEL] Training model\n",
      "2022-03-30 12:27:25 Set of params....., {'depth': 13, 'iterations': 64, 'learning_rate': 0.20807381996774088, 'colsample_bylevel': 0.5764649112770144}\n"
     ]
    },
    {
     "name": "stdout",
     "output_type": "stream",
     "text": [
      "Iteration No: 24 ended. Evaluation done at random point.\n",
      "Time taken: 7.9482\n",
      "Function value obtained: -0.0620\n",
      "Current minimum: -0.0623\n",
      "Iteration No: 25 started. Evaluating function at random point.\n",
      "0:\tlearn: 0.6845515\ttest: 0.6868758\tbest: 0.6868758 (0)\ttotal: 288ms\tremaining: 18.2s\n",
      "25:\tlearn: 0.5833389\ttest: 0.6313820\tbest: 0.6313820 (25)\ttotal: 7.22s\tremaining: 10.6s\n",
      "50:\tlearn: 0.5154436\ttest: 0.6025052\tbest: 0.6025052 (50)\ttotal: 14.1s\tremaining: 3.6s\n",
      "63:\tlearn: 0.4875882\ttest: 0.5901490\tbest: 0.5901490 (63)\ttotal: 17.7s\tremaining: 0us\n",
      "\n",
      "bestTest = 0.5901489995\n",
      "bestIteration = 63\n",
      "\n",
      "0:\tlearn: 0.6809110\ttest: 0.6843281\tbest: 0.6843281 (0)\ttotal: 299ms\tremaining: 18.9s\n",
      "25:\tlearn: 0.5716185\ttest: 0.6276323\tbest: 0.6276323 (25)\ttotal: 7.16s\tremaining: 10.5s\n",
      "50:\tlearn: 0.5065940\ttest: 0.5987932\tbest: 0.5987932 (50)\ttotal: 14s\tremaining: 3.58s\n",
      "63:\tlearn: 0.4817220\ttest: 0.5883419\tbest: 0.5883419 (63)\ttotal: 17.6s\tremaining: 0us\n",
      "\n",
      "bestTest = 0.588341922\n",
      "bestIteration = 63\n",
      "\n",
      "0:\tlearn: 0.6805436\ttest: 0.6851940\tbest: 0.6851940 (0)\ttotal: 292ms\tremaining: 18.4s\n",
      "25:\tlearn: 0.5673722\ttest: 0.6248027\tbest: 0.6248027 (25)\ttotal: 7.22s\tremaining: 10.6s\n",
      "50:\tlearn: 0.5050998\ttest: 0.5987836\tbest: 0.5987836 (50)\ttotal: 14.1s\tremaining: 3.6s\n"
     ]
    },
    {
     "name": "stderr",
     "output_type": "stream",
     "text": [
      "2022-03-30 12:28:19 mean cv_value -0.0060763323403922485 | std cv_value 0.006824650085024622 \n",
      "2022-03-30 12:28:19 ---------------------------------------------\n"
     ]
    },
    {
     "name": "stdout",
     "output_type": "stream",
     "text": [
      "63:\tlearn: 0.4785643\ttest: 0.5884931\tbest: 0.5884931 (63)\ttotal: 17.7s\tremaining: 0us\n",
      "\n",
      "bestTest = 0.5884931017\n",
      "bestIteration = 63\n",
      "\n"
     ]
    },
    {
     "name": "stderr",
     "output_type": "stream",
     "text": [
      "2022-03-30 12:28:25 [TRAIN_MODEL] Training model\n",
      "2022-03-30 12:28:25 Set of params....., {'depth': 4, 'iterations': 5, 'learning_rate': 0.11374394440082072, 'colsample_bylevel': 0.5017546917392293}\n"
     ]
    },
    {
     "name": "stdout",
     "output_type": "stream",
     "text": [
      "Iteration No: 25 ended. Evaluation done at random point.\n",
      "Time taken: 59.1755\n",
      "Function value obtained: 0.0061\n",
      "Current minimum: -0.0623\n",
      "Iteration No: 26 started. Searching for the next optimal point.\n",
      "0:\tlearn: 0.6925519\ttest: 0.6917976\tbest: 0.6917976 (0)\ttotal: 13.3ms\tremaining: 53.4ms\n",
      "4:\tlearn: 0.6909498\ttest: 0.6877247\tbest: 0.6877247 (4)\ttotal: 51.4ms\tremaining: 0us\n",
      "\n",
      "bestTest = 0.6877247325\n",
      "bestIteration = 4\n",
      "\n",
      "0:\tlearn: 0.6925824\ttest: 0.6918308\tbest: 0.6918308 (0)\ttotal: 11.4ms\tremaining: 45.8ms\n",
      "4:\tlearn: 0.6910381\ttest: 0.6878767\tbest: 0.6878767 (4)\ttotal: 49.2ms\tremaining: 0us\n",
      "\n",
      "bestTest = 0.6878767248\n",
      "bestIteration = 4\n",
      "\n"
     ]
    },
    {
     "name": "stderr",
     "output_type": "stream",
     "text": [
      "2022-03-30 12:28:25 mean cv_value 0.05582833186763795 | std cv_value 0.005694472027307523 \n",
      "2022-03-30 12:28:25 ---------------------------------------------\n"
     ]
    },
    {
     "name": "stdout",
     "output_type": "stream",
     "text": [
      "0:\tlearn: 0.6926257\ttest: 0.6920027\tbest: 0.6920027 (0)\ttotal: 11.1ms\tremaining: 44.6ms\n",
      "4:\tlearn: 0.6912135\ttest: 0.6884148\tbest: 0.6884148 (4)\ttotal: 46.5ms\tremaining: 0us\n",
      "\n",
      "bestTest = 0.6884148247\n",
      "bestIteration = 4\n",
      "\n"
     ]
    },
    {
     "name": "stderr",
     "output_type": "stream",
     "text": [
      "2022-03-30 12:28:27 [TRAIN_MODEL] Training model\n",
      "2022-03-30 12:28:27 Set of params....., {'depth': 8, 'iterations': 200, 'learning_rate': 0.001, 'colsample_bylevel': 0.9652633751554476}\n"
     ]
    },
    {
     "name": "stdout",
     "output_type": "stream",
     "text": [
      "Iteration No: 26 ended. Search finished for the next optimal point.\n",
      "Time taken: 2.9504\n",
      "Function value obtained: -0.0558\n",
      "Current minimum: -0.0623\n",
      "Iteration No: 27 started. Searching for the next optimal point.\n",
      "0:\tlearn: 0.6931427\ttest: 0.6931315\tbest: 0.6931315 (0)\ttotal: 22.1ms\tremaining: 4.39s\n",
      "25:\tlearn: 0.6928869\ttest: 0.6927308\tbest: 0.6927308 (25)\ttotal: 512ms\tremaining: 3.42s\n",
      "50:\tlearn: 0.6926439\ttest: 0.6923434\tbest: 0.6923434 (50)\ttotal: 1s\tremaining: 2.92s\n",
      "75:\tlearn: 0.6924082\ttest: 0.6919660\tbest: 0.6919660 (75)\ttotal: 1.49s\tremaining: 2.43s\n",
      "100:\tlearn: 0.6921778\ttest: 0.6916006\tbest: 0.6916006 (100)\ttotal: 1.97s\tremaining: 1.93s\n",
      "125:\tlearn: 0.6919551\ttest: 0.6912434\tbest: 0.6912434 (125)\ttotal: 2.46s\tremaining: 1.44s\n",
      "150:\tlearn: 0.6917399\ttest: 0.6909002\tbest: 0.6909002 (150)\ttotal: 2.94s\tremaining: 955ms\n",
      "175:\tlearn: 0.6915297\ttest: 0.6905629\tbest: 0.6905629 (175)\ttotal: 3.43s\tremaining: 468ms\n",
      "199:\tlearn: 0.6913307\ttest: 0.6902449\tbest: 0.6902449 (199)\ttotal: 3.9s\tremaining: 0us\n",
      "\n",
      "bestTest = 0.6902448619\n",
      "bestIteration = 199\n",
      "\n",
      "0:\tlearn: 0.6931389\ttest: 0.6931312\tbest: 0.6931312 (0)\ttotal: 21.6ms\tremaining: 4.29s\n",
      "25:\tlearn: 0.6928820\ttest: 0.6927253\tbest: 0.6927253 (25)\ttotal: 514ms\tremaining: 3.44s\n",
      "50:\tlearn: 0.6926325\ttest: 0.6923309\tbest: 0.6923309 (50)\ttotal: 1.01s\tremaining: 2.94s\n",
      "75:\tlearn: 0.6923910\ttest: 0.6919473\tbest: 0.6919473 (75)\ttotal: 1.5s\tremaining: 2.45s\n",
      "100:\tlearn: 0.6921564\ttest: 0.6915735\tbest: 0.6915735 (100)\ttotal: 1.99s\tremaining: 1.95s\n",
      "125:\tlearn: 0.6919302\ttest: 0.6912120\tbest: 0.6912120 (125)\ttotal: 2.48s\tremaining: 1.45s\n",
      "150:\tlearn: 0.6917107\ttest: 0.6908650\tbest: 0.6908650 (150)\ttotal: 2.97s\tremaining: 965ms\n",
      "175:\tlearn: 0.6914987\ttest: 0.6905260\tbest: 0.6905260 (175)\ttotal: 3.46s\tremaining: 472ms\n",
      "199:\tlearn: 0.6912994\ttest: 0.6902072\tbest: 0.6902072 (199)\ttotal: 3.93s\tremaining: 0us\n",
      "\n",
      "bestTest = 0.6902072424\n",
      "bestIteration = 199\n",
      "\n",
      "0:\tlearn: 0.6931373\ttest: 0.6931304\tbest: 0.6931304 (0)\ttotal: 20.8ms\tremaining: 4.15s\n",
      "25:\tlearn: 0.6928905\ttest: 0.6927298\tbest: 0.6927298 (25)\ttotal: 515ms\tremaining: 3.44s\n",
      "50:\tlearn: 0.6926535\ttest: 0.6923350\tbest: 0.6923350 (50)\ttotal: 1.01s\tremaining: 2.96s\n",
      "75:\tlearn: 0.6924263\ttest: 0.6919570\tbest: 0.6919570 (75)\ttotal: 1.5s\tremaining: 2.45s\n",
      "100:\tlearn: 0.6922034\ttest: 0.6915938\tbest: 0.6915938 (100)\ttotal: 1.99s\tremaining: 1.95s\n",
      "125:\tlearn: 0.6919913\ttest: 0.6912440\tbest: 0.6912440 (125)\ttotal: 2.48s\tremaining: 1.46s\n",
      "150:\tlearn: 0.6917820\ttest: 0.6909021\tbest: 0.6909021 (150)\ttotal: 2.98s\tremaining: 968ms\n",
      "175:\tlearn: 0.6915785\ttest: 0.6905701\tbest: 0.6905701 (175)\ttotal: 3.47s\tremaining: 474ms\n"
     ]
    },
    {
     "name": "stderr",
     "output_type": "stream",
     "text": [
      "2022-03-30 12:28:40 mean cv_value 0.05097961899957376 | std cv_value 0.009909056974420412 \n",
      "2022-03-30 12:28:40 ---------------------------------------------\n"
     ]
    },
    {
     "name": "stdout",
     "output_type": "stream",
     "text": [
      "199:\tlearn: 0.6913903\ttest: 0.6902597\tbest: 0.6902597 (199)\ttotal: 3.94s\tremaining: 0us\n",
      "\n",
      "bestTest = 0.6902596914\n",
      "bestIteration = 199\n",
      "\n"
     ]
    },
    {
     "name": "stderr",
     "output_type": "stream",
     "text": [
      "2022-03-30 12:28:42 [TRAIN_MODEL] Training model\n",
      "2022-03-30 12:28:42 Set of params....., {'depth': 5, 'iterations': 5, 'learning_rate': 0.04066310538748498, 'colsample_bylevel': 1.0}\n"
     ]
    },
    {
     "name": "stdout",
     "output_type": "stream",
     "text": [
      "Iteration No: 27 ended. Search finished for the next optimal point.\n",
      "Time taken: 14.5857\n",
      "Function value obtained: -0.0510\n",
      "Current minimum: -0.0623\n",
      "Iteration No: 28 started. Searching for the next optimal point.\n",
      "0:\tlearn: 0.6928849\ttest: 0.6926055\tbest: 0.6926055 (0)\ttotal: 11ms\tremaining: 43.9ms\n",
      "4:\tlearn: 0.6919979\ttest: 0.6906719\tbest: 0.6906719 (4)\ttotal: 48.9ms\tremaining: 0us\n",
      "\n",
      "bestTest = 0.6906719309\n",
      "bestIteration = 4\n",
      "\n",
      "0:\tlearn: 0.6928847\ttest: 0.6926159\tbest: 0.6926159 (0)\ttotal: 10.7ms\tremaining: 42.6ms\n",
      "4:\tlearn: 0.6920273\ttest: 0.6906875\tbest: 0.6906875 (4)\ttotal: 48ms\tremaining: 0us\n",
      "\n",
      "bestTest = 0.6906875451\n",
      "bestIteration = 4\n",
      "\n"
     ]
    },
    {
     "name": "stderr",
     "output_type": "stream",
     "text": [
      "2022-03-30 12:28:43 mean cv_value 0.05489702279717118 | std cv_value 0.005835086346876218 \n",
      "2022-03-30 12:28:43 ---------------------------------------------\n"
     ]
    },
    {
     "name": "stdout",
     "output_type": "stream",
     "text": [
      "0:\tlearn: 0.6928921\ttest: 0.6925866\tbest: 0.6925866 (0)\ttotal: 11.4ms\tremaining: 45.7ms\n",
      "4:\tlearn: 0.6920828\ttest: 0.6906908\tbest: 0.6906908 (4)\ttotal: 48.2ms\tremaining: 0us\n",
      "\n",
      "bestTest = 0.6906908468\n",
      "bestIteration = 4\n",
      "\n"
     ]
    },
    {
     "name": "stderr",
     "output_type": "stream",
     "text": [
      "2022-03-30 12:28:44 [TRAIN_MODEL] Training model\n",
      "2022-03-30 12:28:44 Set of params....., {'depth': 3, 'iterations': 200, 'learning_rate': 0.007178381458428972, 'colsample_bylevel': 0.955499516923512}\n"
     ]
    },
    {
     "name": "stdout",
     "output_type": "stream",
     "text": [
      "Iteration No: 28 ended. Search finished for the next optimal point.\n",
      "Time taken: 1.5621\n",
      "Function value obtained: -0.0549\n",
      "Current minimum: -0.0623\n",
      "Iteration No: 29 started. Searching for the next optimal point.\n",
      "0:\tlearn: 0.6931193\ttest: 0.6930570\tbest: 0.6930570 (0)\ttotal: 9.25ms\tremaining: 1.84s\n",
      "25:\tlearn: 0.6922681\ttest: 0.6910906\tbest: 0.6910906 (25)\ttotal: 196ms\tremaining: 1.31s\n",
      "50:\tlearn: 0.6916759\ttest: 0.6895746\tbest: 0.6895746 (50)\ttotal: 378ms\tremaining: 1.1s\n",
      "75:\tlearn: 0.6912446\ttest: 0.6883856\tbest: 0.6883856 (75)\ttotal: 558ms\tremaining: 910ms\n",
      "100:\tlearn: 0.6909230\ttest: 0.6874446\tbest: 0.6874446 (100)\ttotal: 735ms\tremaining: 720ms\n",
      "125:\tlearn: 0.6906637\ttest: 0.6866474\tbest: 0.6866474 (125)\ttotal: 911ms\tremaining: 535ms\n",
      "150:\tlearn: 0.6904556\ttest: 0.6859997\tbest: 0.6859997 (150)\ttotal: 1.09s\tremaining: 356ms\n",
      "175:\tlearn: 0.6902796\ttest: 0.6854541\tbest: 0.6854541 (175)\ttotal: 1.27s\tremaining: 174ms\n",
      "199:\tlearn: 0.6901403\ttest: 0.6850172\tbest: 0.6850172 (199)\ttotal: 1.44s\tremaining: 0us\n",
      "\n",
      "bestTest = 0.6850172042\n",
      "bestIteration = 199\n",
      "\n",
      "0:\tlearn: 0.6931153\ttest: 0.6930648\tbest: 0.6930648 (0)\ttotal: 10.2ms\tremaining: 2.03s\n",
      "25:\tlearn: 0.6923422\ttest: 0.6911974\tbest: 0.6911974 (25)\ttotal: 199ms\tremaining: 1.33s\n",
      "50:\tlearn: 0.6917728\ttest: 0.6897058\tbest: 0.6897058 (50)\ttotal: 385ms\tremaining: 1.12s\n",
      "75:\tlearn: 0.6913658\ttest: 0.6885506\tbest: 0.6885506 (75)\ttotal: 564ms\tremaining: 921ms\n",
      "100:\tlearn: 0.6910564\ttest: 0.6876261\tbest: 0.6876261 (100)\ttotal: 744ms\tremaining: 729ms\n",
      "125:\tlearn: 0.6908119\ttest: 0.6868564\tbest: 0.6868564 (125)\ttotal: 919ms\tremaining: 540ms\n",
      "150:\tlearn: 0.6906151\ttest: 0.6862265\tbest: 0.6862265 (150)\ttotal: 1.1s\tremaining: 356ms\n",
      "175:\tlearn: 0.6904451\ttest: 0.6856829\tbest: 0.6856829 (175)\ttotal: 1.27s\tremaining: 174ms\n",
      "199:\tlearn: 0.6903012\ttest: 0.6852327\tbest: 0.6852327 (199)\ttotal: 1.45s\tremaining: 0us\n",
      "\n",
      "bestTest = 0.6852327134\n",
      "bestIteration = 199\n",
      "\n",
      "0:\tlearn: 0.6931027\ttest: 0.6930615\tbest: 0.6930615 (0)\ttotal: 10.8ms\tremaining: 2.15s\n",
      "25:\tlearn: 0.6923774\ttest: 0.6912352\tbest: 0.6912352 (25)\ttotal: 199ms\tremaining: 1.33s\n",
      "50:\tlearn: 0.6918458\ttest: 0.6897991\tbest: 0.6897991 (50)\ttotal: 382ms\tremaining: 1.12s\n",
      "75:\tlearn: 0.6914548\ttest: 0.6886756\tbest: 0.6886756 (75)\ttotal: 561ms\tremaining: 915ms\n",
      "100:\tlearn: 0.6911526\ttest: 0.6877856\tbest: 0.6877856 (100)\ttotal: 738ms\tremaining: 723ms\n",
      "125:\tlearn: 0.6909088\ttest: 0.6870573\tbest: 0.6870573 (125)\ttotal: 915ms\tremaining: 537ms\n",
      "150:\tlearn: 0.6906955\ttest: 0.6864215\tbest: 0.6864215 (150)\ttotal: 1.09s\tremaining: 355ms\n",
      "175:\tlearn: 0.6905267\ttest: 0.6859047\tbest: 0.6859047 (175)\ttotal: 1.27s\tremaining: 173ms\n"
     ]
    },
    {
     "name": "stderr",
     "output_type": "stream",
     "text": [
      "2022-03-30 12:28:49 mean cv_value 0.056337828762824026 | std cv_value 0.009805779413850297 \n",
      "2022-03-30 12:28:49 ---------------------------------------------\n"
     ]
    },
    {
     "name": "stdout",
     "output_type": "stream",
     "text": [
      "199:\tlearn: 0.6903790\ttest: 0.6854624\tbest: 0.6854624 (199)\ttotal: 1.44s\tremaining: 0us\n",
      "\n",
      "bestTest = 0.6854624216\n",
      "bestIteration = 199\n",
      "\n"
     ]
    },
    {
     "name": "stderr",
     "output_type": "stream",
     "text": [
      "2022-03-30 12:28:50 [TRAIN_MODEL] Training model\n",
      "2022-03-30 12:28:50 Set of params....., {'depth': 1, 'iterations': 5, 'learning_rate': 1.0, 'colsample_bylevel': 0.7081934757725957}\n"
     ]
    },
    {
     "name": "stdout",
     "output_type": "stream",
     "text": [
      "Iteration No: 29 ended. Search finished for the next optimal point.\n",
      "Time taken: 5.9137\n",
      "Function value obtained: -0.0563\n",
      "Current minimum: -0.0623\n",
      "Iteration No: 30 started. Searching for the next optimal point.\n",
      "0:\tlearn: 0.6914288\ttest: 0.6873517\tbest: 0.6873517 (0)\ttotal: 8.46ms\tremaining: 33.9ms\n",
      "4:\tlearn: 0.6905974\ttest: 0.6837955\tbest: 0.6837955 (4)\ttotal: 32.5ms\tremaining: 0us\n",
      "\n",
      "bestTest = 0.683795533\n",
      "bestIteration = 4\n",
      "\n",
      "0:\tlearn: 0.6914400\ttest: 0.6873433\tbest: 0.6873433 (0)\ttotal: 7.99ms\tremaining: 32ms\n",
      "4:\tlearn: 0.6905852\ttest: 0.6836892\tbest: 0.6836892 (4)\ttotal: 30ms\tremaining: 0us\n",
      "\n",
      "bestTest = 0.6836892051\n",
      "bestIteration = 4\n",
      "\n"
     ]
    },
    {
     "name": "stderr",
     "output_type": "stream",
     "text": [
      "2022-03-30 12:28:50 mean cv_value 0.04137887884126848 | std cv_value 0.009560234527290691 \n",
      "2022-03-30 12:28:50 ---------------------------------------------\n"
     ]
    },
    {
     "name": "stdout",
     "output_type": "stream",
     "text": [
      "0:\tlearn: 0.6916433\ttest: 0.6878945\tbest: 0.6878945 (0)\ttotal: 7.4ms\tremaining: 29.6ms\n",
      "4:\tlearn: 0.6908410\ttest: 0.6844407\tbest: 0.6844407 (4)\ttotal: 28.8ms\tremaining: 0us\n",
      "\n",
      "bestTest = 0.6844407248\n",
      "bestIteration = 4\n",
      "\n"
     ]
    },
    {
     "name": "stderr",
     "output_type": "stream",
     "text": [
      "2022-03-30 12:28:51 [TRAIN_MODEL] Training model\n",
      "2022-03-30 12:28:51 Set of params....., {'depth': 1, 'iterations': 200, 'learning_rate': 0.001, 'colsample_bylevel': 0.591464772888046}\n"
     ]
    },
    {
     "name": "stdout",
     "output_type": "stream",
     "text": [
      "Iteration No: 30 ended. Search finished for the next optimal point.\n",
      "Time taken: 1.5169\n",
      "Function value obtained: -0.0414\n",
      "Current minimum: -0.0623\n",
      "Iteration No: 31 started. Searching for the next optimal point.\n",
      "0:\tlearn: 0.6931428\ttest: 0.6931436\tbest: 0.6931436 (0)\ttotal: 7.55ms\tremaining: 1.5s\n",
      "25:\tlearn: 0.6930754\ttest: 0.6929989\tbest: 0.6929989 (25)\ttotal: 137ms\tremaining: 917ms\n",
      "50:\tlearn: 0.6930103\ttest: 0.6928490\tbest: 0.6928490 (50)\ttotal: 269ms\tremaining: 786ms\n",
      "75:\tlearn: 0.6929429\ttest: 0.6926898\tbest: 0.6926898 (75)\ttotal: 389ms\tremaining: 635ms\n",
      "100:\tlearn: 0.6928792\ttest: 0.6925506\tbest: 0.6925506 (100)\ttotal: 516ms\tremaining: 505ms\n",
      "125:\tlearn: 0.6928166\ttest: 0.6924086\tbest: 0.6924086 (125)\ttotal: 643ms\tremaining: 378ms\n",
      "150:\tlearn: 0.6927682\ttest: 0.6922783\tbest: 0.6922783 (150)\ttotal: 770ms\tremaining: 250ms\n",
      "175:\tlearn: 0.6927173\ttest: 0.6921594\tbest: 0.6921594 (175)\ttotal: 898ms\tremaining: 122ms\n",
      "199:\tlearn: 0.6926635\ttest: 0.6920366\tbest: 0.6920366 (199)\ttotal: 1.02s\tremaining: 0us\n",
      "\n",
      "bestTest = 0.6920365837\n",
      "bestIteration = 199\n",
      "\n",
      "0:\tlearn: 0.6931437\ttest: 0.6931442\tbest: 0.6931442 (0)\ttotal: 7.43ms\tremaining: 1.48s\n",
      "25:\tlearn: 0.6930996\ttest: 0.6930301\tbest: 0.6930301 (25)\ttotal: 135ms\tremaining: 905ms\n",
      "50:\tlearn: 0.6930390\ttest: 0.6928993\tbest: 0.6928993 (50)\ttotal: 264ms\tremaining: 770ms\n",
      "75:\tlearn: 0.6929771\ttest: 0.6927596\tbest: 0.6927596 (75)\ttotal: 388ms\tremaining: 634ms\n",
      "100:\tlearn: 0.6929118\ttest: 0.6926185\tbest: 0.6926185 (100)\ttotal: 519ms\tremaining: 508ms\n",
      "125:\tlearn: 0.6928599\ttest: 0.6924926\tbest: 0.6924926 (125)\ttotal: 644ms\tremaining: 378ms\n",
      "150:\tlearn: 0.6928065\ttest: 0.6923657\tbest: 0.6923657 (150)\ttotal: 767ms\tremaining: 249ms\n",
      "175:\tlearn: 0.6927576\ttest: 0.6922490\tbest: 0.6922490 (175)\ttotal: 892ms\tremaining: 122ms\n",
      "199:\tlearn: 0.6927092\ttest: 0.6921356\tbest: 0.6921356 (199)\ttotal: 1.01s\tremaining: 0us\n",
      "\n",
      "bestTest = 0.6921356358\n",
      "bestIteration = 199\n",
      "\n",
      "0:\tlearn: 0.6931375\ttest: 0.6931438\tbest: 0.6931438 (0)\ttotal: 7.51ms\tremaining: 1.5s\n",
      "25:\tlearn: 0.6930824\ttest: 0.6930062\tbest: 0.6930062 (25)\ttotal: 135ms\tremaining: 901ms\n",
      "50:\tlearn: 0.6930341\ttest: 0.6928876\tbest: 0.6928876 (50)\ttotal: 259ms\tremaining: 756ms\n",
      "75:\tlearn: 0.6929746\ttest: 0.6927631\tbest: 0.6927631 (75)\ttotal: 386ms\tremaining: 630ms\n",
      "100:\tlearn: 0.6929113\ttest: 0.6926289\tbest: 0.6926289 (100)\ttotal: 512ms\tremaining: 502ms\n",
      "125:\tlearn: 0.6928645\ttest: 0.6925115\tbest: 0.6925115 (125)\ttotal: 634ms\tremaining: 372ms\n",
      "150:\tlearn: 0.6928078\ttest: 0.6923886\tbest: 0.6923886 (150)\ttotal: 760ms\tremaining: 247ms\n",
      "175:\tlearn: 0.6927607\ttest: 0.6922608\tbest: 0.6922608 (175)\ttotal: 886ms\tremaining: 121ms\n"
     ]
    },
    {
     "name": "stderr",
     "output_type": "stream",
     "text": [
      "2022-03-30 12:28:55 mean cv_value 0.05236424666426628 | std cv_value 0.011097620354390783 \n",
      "2022-03-30 12:28:55 ---------------------------------------------\n"
     ]
    },
    {
     "name": "stdout",
     "output_type": "stream",
     "text": [
      "199:\tlearn: 0.6927135\ttest: 0.6921495\tbest: 0.6921495 (199)\ttotal: 1.01s\tremaining: 0us\n",
      "\n",
      "bestTest = 0.6921494655\n",
      "bestIteration = 199\n",
      "\n"
     ]
    },
    {
     "name": "stderr",
     "output_type": "stream",
     "text": [
      "2022-03-30 12:28:56 [TRAIN_MODEL] Training model\n",
      "2022-03-30 12:28:56 Set of params....., {'depth': 6, 'iterations': 126, 'learning_rate': 0.031190260949235275, 'colsample_bylevel': 0.5}\n"
     ]
    },
    {
     "name": "stdout",
     "output_type": "stream",
     "text": [
      "Iteration No: 31 ended. Search finished for the next optimal point.\n",
      "Time taken: 4.5504\n",
      "Function value obtained: -0.0524\n",
      "Current minimum: -0.0623\n",
      "Iteration No: 32 started. Searching for the next optimal point.\n",
      "0:\tlearn: 0.6929291\ttest: 0.6926952\tbest: 0.6926952 (0)\ttotal: 14.6ms\tremaining: 1.82s\n",
      "25:\tlearn: 0.6896923\ttest: 0.6857126\tbest: 0.6857126 (25)\ttotal: 349ms\tremaining: 1.34s\n",
      "50:\tlearn: 0.6881488\ttest: 0.6826637\tbest: 0.6826637 (50)\ttotal: 686ms\tremaining: 1.01s\n",
      "75:\tlearn: 0.6871117\ttest: 0.6811178\tbest: 0.6811178 (75)\ttotal: 1.02s\tremaining: 669ms\n",
      "100:\tlearn: 0.6861240\ttest: 0.6800621\tbest: 0.6800621 (100)\ttotal: 1.35s\tremaining: 334ms\n",
      "125:\tlearn: 0.6852500\ttest: 0.6792416\tbest: 0.6792416 (125)\ttotal: 1.68s\tremaining: 0us\n",
      "\n",
      "bestTest = 0.6792416435\n",
      "bestIteration = 125\n",
      "\n",
      "0:\tlearn: 0.6929331\ttest: 0.6926929\tbest: 0.6926929 (0)\ttotal: 14ms\tremaining: 1.75s\n",
      "25:\tlearn: 0.6898139\ttest: 0.6859131\tbest: 0.6859131 (25)\ttotal: 346ms\tremaining: 1.33s\n",
      "50:\tlearn: 0.6882892\ttest: 0.6828061\tbest: 0.6828061 (50)\ttotal: 679ms\tremaining: 999ms\n",
      "75:\tlearn: 0.6871665\ttest: 0.6812156\tbest: 0.6812156 (75)\ttotal: 1s\tremaining: 661ms\n",
      "100:\tlearn: 0.6862004\ttest: 0.6801974\tbest: 0.6801974 (100)\ttotal: 1.33s\tremaining: 330ms\n",
      "125:\tlearn: 0.6852888\ttest: 0.6794398\tbest: 0.6794398 (125)\ttotal: 1.66s\tremaining: 0us\n",
      "\n",
      "bestTest = 0.6794397669\n",
      "bestIteration = 125\n",
      "\n",
      "0:\tlearn: 0.6929324\ttest: 0.6927081\tbest: 0.6927081 (0)\ttotal: 14.6ms\tremaining: 1.83s\n",
      "25:\tlearn: 0.6898827\ttest: 0.6859637\tbest: 0.6859637 (25)\ttotal: 348ms\tremaining: 1.34s\n",
      "50:\tlearn: 0.6884054\ttest: 0.6830324\tbest: 0.6830324 (50)\ttotal: 672ms\tremaining: 989ms\n",
      "75:\tlearn: 0.6873399\ttest: 0.6815067\tbest: 0.6815067 (75)\ttotal: 1s\tremaining: 659ms\n",
      "100:\tlearn: 0.6863789\ttest: 0.6804169\tbest: 0.6804169 (100)\ttotal: 1.34s\tremaining: 331ms\n"
     ]
    },
    {
     "name": "stderr",
     "output_type": "stream",
     "text": [
      "2022-03-30 12:29:01 mean cv_value 0.06452831095515046 | std cv_value 0.009573980225971996 \n",
      "2022-03-30 12:29:01 ---------------------------------------------\n"
     ]
    },
    {
     "name": "stdout",
     "output_type": "stream",
     "text": [
      "125:\tlearn: 0.6854863\ttest: 0.6796316\tbest: 0.6796316 (125)\ttotal: 1.68s\tremaining: 0us\n",
      "\n",
      "bestTest = 0.6796315825\n",
      "bestIteration = 125\n",
      "\n"
     ]
    },
    {
     "name": "stderr",
     "output_type": "stream",
     "text": [
      "2022-03-30 12:29:02 [TRAIN_MODEL] Training model\n",
      "2022-03-30 12:29:02 Set of params....., {'depth': 6, 'iterations': 5, 'learning_rate': 0.001, 'colsample_bylevel': 0.6117053193590904}\n"
     ]
    },
    {
     "name": "stdout",
     "output_type": "stream",
     "text": [
      "Iteration No: 32 ended. Search finished for the next optimal point.\n",
      "Time taken: 6.5723\n",
      "Function value obtained: -0.0645\n",
      "Current minimum: -0.0645\n",
      "Iteration No: 33 started. Searching for the next optimal point.\n",
      "0:\tlearn: 0.6931433\ttest: 0.6931321\tbest: 0.6931321 (0)\ttotal: 14.1ms\tremaining: 56.4ms\n",
      "4:\tlearn: 0.6931136\ttest: 0.6930730\tbest: 0.6930730 (4)\ttotal: 69.1ms\tremaining: 0us\n",
      "\n",
      "bestTest = 0.6930729608\n",
      "bestIteration = 4\n",
      "\n",
      "0:\tlearn: 0.6931425\ttest: 0.6931332\tbest: 0.6931332 (0)\ttotal: 14.7ms\tremaining: 58.9ms\n",
      "4:\tlearn: 0.6931114\ttest: 0.6930766\tbest: 0.6930766 (4)\ttotal: 68.3ms\tremaining: 0us\n",
      "\n",
      "bestTest = 0.6930765634\n",
      "bestIteration = 4\n",
      "\n"
     ]
    },
    {
     "name": "stderr",
     "output_type": "stream",
     "text": [
      "2022-03-30 12:29:03 mean cv_value 0.054815338480952124 | std cv_value 0.011129898204126621 \n",
      "2022-03-30 12:29:03 ---------------------------------------------\n"
     ]
    },
    {
     "name": "stdout",
     "output_type": "stream",
     "text": [
      "0:\tlearn: 0.6931391\ttest: 0.6931325\tbest: 0.6931325 (0)\ttotal: 15.3ms\tremaining: 61ms\n",
      "4:\tlearn: 0.6931090\ttest: 0.6930747\tbest: 0.6930747 (4)\ttotal: 64.4ms\tremaining: 0us\n",
      "\n",
      "bestTest = 0.6930746588\n",
      "bestIteration = 4\n",
      "\n"
     ]
    },
    {
     "name": "stderr",
     "output_type": "stream",
     "text": [
      "2022-03-30 12:29:04 [TRAIN_MODEL] Training model\n",
      "2022-03-30 12:29:04 Set of params....., {'depth': 1, 'iterations': 5, 'learning_rate': 0.001, 'colsample_bylevel': 0.5}\n"
     ]
    },
    {
     "name": "stdout",
     "output_type": "stream",
     "text": [
      "Iteration No: 33 ended. Search finished for the next optimal point.\n",
      "Time taken: 1.8890\n",
      "Function value obtained: -0.0548\n",
      "Current minimum: -0.0645\n",
      "Iteration No: 34 started. Searching for the next optimal point.\n",
      "0:\tlearn: 0.6931379\ttest: 0.6931438\tbest: 0.6931438 (0)\ttotal: 62.3ms\tremaining: 249ms\n",
      "4:\tlearn: 0.6931314\ttest: 0.6931172\tbest: 0.6931172 (4)\ttotal: 85.4ms\tremaining: 0us\n",
      "\n",
      "bestTest = 0.693117174\n",
      "bestIteration = 4\n",
      "\n",
      "0:\tlearn: 0.6931393\ttest: 0.6931440\tbest: 0.6931440 (0)\ttotal: 34.7ms\tremaining: 139ms\n",
      "4:\tlearn: 0.6931315\ttest: 0.6931184\tbest: 0.6931184 (4)\ttotal: 58.2ms\tremaining: 0us\n",
      "\n",
      "bestTest = 0.6931184036\n",
      "bestIteration = 4\n",
      "\n"
     ]
    },
    {
     "name": "stderr",
     "output_type": "stream",
     "text": [
      "2022-03-30 12:29:05 mean cv_value 0.03901620528980779 | std cv_value 0.017292983467821044 \n",
      "2022-03-30 12:29:05 ---------------------------------------------\n"
     ]
    },
    {
     "name": "stdout",
     "output_type": "stream",
     "text": [
      "0:\tlearn: 0.6931392\ttest: 0.6931438\tbest: 0.6931438 (0)\ttotal: 6.69ms\tremaining: 26.8ms\n",
      "4:\tlearn: 0.6931255\ttest: 0.6931230\tbest: 0.6931230 (4)\ttotal: 28.7ms\tremaining: 0us\n",
      "\n",
      "bestTest = 0.6931229734\n",
      "bestIteration = 4\n",
      "\n"
     ]
    },
    {
     "name": "stderr",
     "output_type": "stream",
     "text": [
      "2022-03-30 12:29:06 [TRAIN_MODEL] Training model\n",
      "2022-03-30 12:29:06 Set of params....., {'depth': 7, 'iterations': 140, 'learning_rate': 0.005356212227153197, 'colsample_bylevel': 0.9912400893559048}\n"
     ]
    },
    {
     "name": "stdout",
     "output_type": "stream",
     "text": [
      "Iteration No: 34 ended. Search finished for the next optimal point.\n",
      "Time taken: 1.9448\n",
      "Function value obtained: -0.0390\n",
      "Current minimum: -0.0645\n",
      "Iteration No: 35 started. Searching for the next optimal point.\n",
      "0:\tlearn: 0.6931067\ttest: 0.6930704\tbest: 0.6930704 (0)\ttotal: 56.1ms\tremaining: 7.8s\n",
      "25:\tlearn: 0.6920900\ttest: 0.6912052\tbest: 0.6912052 (25)\ttotal: 474ms\tremaining: 2.08s\n",
      "50:\tlearn: 0.6912491\ttest: 0.6896453\tbest: 0.6896453 (50)\ttotal: 837ms\tremaining: 1.46s\n",
      "75:\tlearn: 0.6905348\ttest: 0.6883067\tbest: 0.6883067 (75)\ttotal: 1.21s\tremaining: 1.01s\n",
      "100:\tlearn: 0.6899044\ttest: 0.6871342\tbest: 0.6871342 (100)\ttotal: 1.56s\tremaining: 604ms\n",
      "125:\tlearn: 0.6893569\ttest: 0.6861237\tbest: 0.6861237 (125)\ttotal: 1.92s\tremaining: 214ms\n",
      "139:\tlearn: 0.6890785\ttest: 0.6856354\tbest: 0.6856354 (139)\ttotal: 2.12s\tremaining: 0us\n",
      "\n",
      "bestTest = 0.6856354119\n",
      "bestIteration = 139\n",
      "\n",
      "0:\tlearn: 0.6931015\ttest: 0.6930706\tbest: 0.6930706 (0)\ttotal: 18.7ms\tremaining: 2.6s\n",
      "25:\tlearn: 0.6920784\ttest: 0.6911931\tbest: 0.6911931 (25)\ttotal: 387ms\tremaining: 1.7s\n",
      "50:\tlearn: 0.6912492\ttest: 0.6896212\tbest: 0.6896212 (50)\ttotal: 743ms\tremaining: 1.3s\n",
      "75:\tlearn: 0.6905420\ttest: 0.6882971\tbest: 0.6882971 (75)\ttotal: 1.09s\tremaining: 922ms\n",
      "100:\tlearn: 0.6899312\ttest: 0.6871546\tbest: 0.6871546 (100)\ttotal: 1.45s\tremaining: 559ms\n",
      "125:\tlearn: 0.6893801\ttest: 0.6861519\tbest: 0.6861519 (125)\ttotal: 1.81s\tremaining: 201ms\n",
      "139:\tlearn: 0.6890939\ttest: 0.6856332\tbest: 0.6856332 (139)\ttotal: 2.01s\tremaining: 0us\n",
      "\n",
      "bestTest = 0.6856332466\n",
      "bestIteration = 139\n",
      "\n",
      "0:\tlearn: 0.6931015\ttest: 0.6930655\tbest: 0.6930655 (0)\ttotal: 17.1ms\tremaining: 2.38s\n",
      "25:\tlearn: 0.6921352\ttest: 0.6912202\tbest: 0.6912202 (25)\ttotal: 386ms\tremaining: 1.69s\n",
      "50:\tlearn: 0.6913380\ttest: 0.6896787\tbest: 0.6896787 (50)\ttotal: 742ms\tremaining: 1.29s\n",
      "75:\tlearn: 0.6906732\ttest: 0.6883667\tbest: 0.6883667 (75)\ttotal: 1.1s\tremaining: 925ms\n",
      "100:\tlearn: 0.6900893\ttest: 0.6872452\tbest: 0.6872452 (100)\ttotal: 1.46s\tremaining: 563ms\n",
      "125:\tlearn: 0.6895676\ttest: 0.6862969\tbest: 0.6862969 (125)\ttotal: 1.82s\tremaining: 202ms\n",
      "139:\tlearn: 0.6892946\ttest: 0.6857989\tbest: 0.6857989 (139)\ttotal: 2.01s\tremaining: 0us\n",
      "\n",
      "bestTest = 0.6857989169\n",
      "bestIteration = 139\n",
      "\n"
     ]
    },
    {
     "name": "stderr",
     "output_type": "stream",
     "text": [
      "2022-03-30 12:29:13 mean cv_value 0.058490515390762866 | std cv_value 0.009847559569865017 \n",
      "2022-03-30 12:29:13 ---------------------------------------------\n",
      "2022-03-30 12:29:14 [TRAIN_MODEL] Training model\n",
      "2022-03-30 12:29:14 Set of params....., {'depth': 1, 'iterations': 5, 'learning_rate': 0.0215731166875623, 'colsample_bylevel': 0.7558261732516305}\n"
     ]
    },
    {
     "name": "stdout",
     "output_type": "stream",
     "text": [
      "Iteration No: 35 ended. Search finished for the next optimal point.\n",
      "Time taken: 7.8826\n",
      "Function value obtained: -0.0585\n",
      "Current minimum: -0.0645\n",
      "Iteration No: 36 started. Searching for the next optimal point.\n",
      "0:\tlearn: 0.6930757\ttest: 0.6929862\tbest: 0.6929862 (0)\ttotal: 7.39ms\tremaining: 29.6ms\n",
      "4:\tlearn: 0.6928586\ttest: 0.6925140\tbest: 0.6925140 (4)\ttotal: 37.2ms\tremaining: 0us\n",
      "\n",
      "bestTest = 0.6925139771\n",
      "bestIteration = 4\n",
      "\n",
      "0:\tlearn: 0.6930712\ttest: 0.6929857\tbest: 0.6929857 (0)\ttotal: 7.22ms\tremaining: 28.9ms\n",
      "4:\tlearn: 0.6928024\ttest: 0.6923882\tbest: 0.6923882 (4)\ttotal: 27.6ms\tremaining: 0us\n",
      "\n",
      "bestTest = 0.692388177\n",
      "bestIteration = 4\n",
      "\n"
     ]
    },
    {
     "name": "stderr",
     "output_type": "stream",
     "text": [
      "2022-03-30 12:29:15 mean cv_value 0.03583319378547703 | std cv_value 0.018566133601412425 \n",
      "2022-03-30 12:29:15 ---------------------------------------------\n"
     ]
    },
    {
     "name": "stdout",
     "output_type": "stream",
     "text": [
      "0:\tlearn: 0.6930697\ttest: 0.6930022\tbest: 0.6930022 (0)\ttotal: 7.65ms\tremaining: 30.6ms\n",
      "4:\tlearn: 0.6929121\ttest: 0.6925765\tbest: 0.6925765 (4)\ttotal: 28.7ms\tremaining: 0us\n",
      "\n",
      "bestTest = 0.6925764716\n",
      "bestIteration = 4\n",
      "\n"
     ]
    },
    {
     "name": "stderr",
     "output_type": "stream",
     "text": [
      "2022-03-30 12:29:16 [TRAIN_MODEL] Training model\n",
      "2022-03-30 12:29:16 Set of params....., {'depth': 5, 'iterations': 200, 'learning_rate': 0.04659211989499296, 'colsample_bylevel': 0.9922477379229393}\n"
     ]
    },
    {
     "name": "stdout",
     "output_type": "stream",
     "text": [
      "Iteration No: 36 ended. Search finished for the next optimal point.\n",
      "Time taken: 1.6858\n",
      "Function value obtained: -0.0358\n",
      "Current minimum: -0.0645\n",
      "Iteration No: 37 started. Searching for the next optimal point.\n",
      "0:\tlearn: 0.6928508\ttest: 0.6925275\tbest: 0.6925275 (0)\ttotal: 34ms\tremaining: 6.77s\n",
      "25:\tlearn: 0.6894656\ttest: 0.6844673\tbest: 0.6844673 (25)\ttotal: 275ms\tremaining: 1.84s\n",
      "50:\tlearn: 0.6881714\ttest: 0.6819289\tbest: 0.6819289 (50)\ttotal: 507ms\tremaining: 1.48s\n",
      "75:\tlearn: 0.6872415\ttest: 0.6807558\tbest: 0.6807558 (75)\ttotal: 757ms\tremaining: 1.23s\n",
      "100:\tlearn: 0.6863504\ttest: 0.6798927\tbest: 0.6798927 (100)\ttotal: 1s\tremaining: 983ms\n",
      "125:\tlearn: 0.6855156\ttest: 0.6793144\tbest: 0.6793144 (125)\ttotal: 1.25s\tremaining: 732ms\n",
      "150:\tlearn: 0.6847370\ttest: 0.6787945\tbest: 0.6787945 (150)\ttotal: 1.49s\tremaining: 484ms\n",
      "175:\tlearn: 0.6839935\ttest: 0.6782087\tbest: 0.6782087 (175)\ttotal: 1.74s\tremaining: 237ms\n",
      "199:\tlearn: 0.6833247\ttest: 0.6777948\tbest: 0.6777948 (199)\ttotal: 1.97s\tremaining: 0us\n",
      "\n",
      "bestTest = 0.6777947606\n",
      "bestIteration = 199\n",
      "\n",
      "0:\tlearn: 0.6928555\ttest: 0.6925394\tbest: 0.6925394 (0)\ttotal: 30.3ms\tremaining: 6.03s\n",
      "25:\tlearn: 0.6895421\ttest: 0.6845531\tbest: 0.6845531 (25)\ttotal: 298ms\tremaining: 1.99s\n",
      "50:\tlearn: 0.6882711\ttest: 0.6821492\tbest: 0.6821492 (50)\ttotal: 538ms\tremaining: 1.57s\n",
      "75:\tlearn: 0.6873072\ttest: 0.6809002\tbest: 0.6809002 (75)\ttotal: 774ms\tremaining: 1.26s\n",
      "100:\tlearn: 0.6864883\ttest: 0.6800449\tbest: 0.6800449 (100)\ttotal: 1.01s\tremaining: 994ms\n",
      "125:\tlearn: 0.6856529\ttest: 0.6794499\tbest: 0.6794499 (125)\ttotal: 1.26s\tremaining: 738ms\n",
      "150:\tlearn: 0.6849884\ttest: 0.6790190\tbest: 0.6790190 (150)\ttotal: 1.51s\tremaining: 491ms\n",
      "175:\tlearn: 0.6842540\ttest: 0.6785011\tbest: 0.6785011 (175)\ttotal: 1.75s\tremaining: 239ms\n",
      "199:\tlearn: 0.6835952\ttest: 0.6780788\tbest: 0.6780788 (199)\ttotal: 1.98s\tremaining: 0us\n",
      "\n",
      "bestTest = 0.6780787546\n",
      "bestIteration = 199\n",
      "\n",
      "0:\tlearn: 0.6928618\ttest: 0.6925057\tbest: 0.6925057 (0)\ttotal: 50.9ms\tremaining: 10.1s\n",
      "25:\tlearn: 0.6897144\ttest: 0.6847038\tbest: 0.6847038 (25)\ttotal: 297ms\tremaining: 1.99s\n",
      "50:\tlearn: 0.6884535\ttest: 0.6822952\tbest: 0.6822952 (50)\ttotal: 535ms\tremaining: 1.56s\n",
      "75:\tlearn: 0.6875400\ttest: 0.6810656\tbest: 0.6810656 (75)\ttotal: 788ms\tremaining: 1.28s\n",
      "100:\tlearn: 0.6866549\ttest: 0.6801501\tbest: 0.6801501 (100)\ttotal: 1.03s\tremaining: 1.01s\n",
      "125:\tlearn: 0.6858708\ttest: 0.6795364\tbest: 0.6795364 (125)\ttotal: 1.27s\tremaining: 744ms\n",
      "150:\tlearn: 0.6851469\ttest: 0.6789791\tbest: 0.6789791 (150)\ttotal: 1.5s\tremaining: 488ms\n",
      "175:\tlearn: 0.6844040\ttest: 0.6784184\tbest: 0.6784184 (175)\ttotal: 1.74s\tremaining: 237ms\n"
     ]
    },
    {
     "name": "stderr",
     "output_type": "stream",
     "text": [
      "2022-03-30 12:29:22 mean cv_value 0.0640131681605607 | std cv_value 0.008533454624760337 \n",
      "2022-03-30 12:29:22 ---------------------------------------------\n"
     ]
    },
    {
     "name": "stdout",
     "output_type": "stream",
     "text": [
      "199:\tlearn: 0.6836653\ttest: 0.6779116\tbest: 0.6779116 (199)\ttotal: 1.97s\tremaining: 0us\n",
      "\n",
      "bestTest = 0.6779115514\n",
      "bestIteration = 199\n",
      "\n"
     ]
    },
    {
     "name": "stderr",
     "output_type": "stream",
     "text": [
      "2022-03-30 12:29:23 [TRAIN_MODEL] Training model\n",
      "2022-03-30 12:29:23 Set of params....., {'depth': 1, 'iterations': 200, 'learning_rate': 0.21695225461607015, 'colsample_bylevel': 0.8793655921876736}\n"
     ]
    },
    {
     "name": "stdout",
     "output_type": "stream",
     "text": [
      "Iteration No: 37 ended. Search finished for the next optimal point.\n",
      "Time taken: 7.6700\n",
      "Function value obtained: -0.0640\n",
      "Current minimum: -0.0645\n",
      "Iteration No: 38 started. Searching for the next optimal point.\n",
      "0:\tlearn: 0.6924972\ttest: 0.6916009\tbest: 0.6916009 (0)\ttotal: 33.4ms\tremaining: 6.64s\n",
      "25:\tlearn: 0.6903819\ttest: 0.6848491\tbest: 0.6848491 (25)\ttotal: 189ms\tremaining: 1.27s\n",
      "50:\tlearn: 0.6900270\ttest: 0.6837202\tbest: 0.6837202 (50)\ttotal: 316ms\tremaining: 922ms\n",
      "75:\tlearn: 0.6898330\ttest: 0.6832141\tbest: 0.6832141 (75)\ttotal: 442ms\tremaining: 721ms\n",
      "100:\tlearn: 0.6897084\ttest: 0.6829960\tbest: 0.6829960 (100)\ttotal: 567ms\tremaining: 556ms\n",
      "125:\tlearn: 0.6896123\ttest: 0.6828107\tbest: 0.6828107 (125)\ttotal: 691ms\tremaining: 406ms\n",
      "150:\tlearn: 0.6895344\ttest: 0.6826929\tbest: 0.6826929 (150)\ttotal: 819ms\tremaining: 266ms\n",
      "175:\tlearn: 0.6894667\ttest: 0.6825542\tbest: 0.6825542 (175)\ttotal: 942ms\tremaining: 128ms\n",
      "199:\tlearn: 0.6894095\ttest: 0.6824645\tbest: 0.6824645 (199)\ttotal: 1.06s\tremaining: 0us\n",
      "\n",
      "bestTest = 0.6824645374\n",
      "bestIteration = 199\n",
      "\n",
      "0:\tlearn: 0.6924868\ttest: 0.6915957\tbest: 0.6915957 (0)\ttotal: 39.7ms\tremaining: 7.91s\n",
      "25:\tlearn: 0.6905097\ttest: 0.6852042\tbest: 0.6852042 (25)\ttotal: 184ms\tremaining: 1.23s\n",
      "50:\tlearn: 0.6901832\ttest: 0.6838729\tbest: 0.6838729 (50)\ttotal: 312ms\tremaining: 910ms\n",
      "75:\tlearn: 0.6900268\ttest: 0.6833573\tbest: 0.6833573 (75)\ttotal: 434ms\tremaining: 708ms\n",
      "100:\tlearn: 0.6899120\ttest: 0.6830945\tbest: 0.6830945 (100)\ttotal: 560ms\tremaining: 549ms\n",
      "125:\tlearn: 0.6898279\ttest: 0.6829409\tbest: 0.6829409 (125)\ttotal: 686ms\tremaining: 403ms\n",
      "150:\tlearn: 0.6897519\ttest: 0.6828345\tbest: 0.6828345 (150)\ttotal: 813ms\tremaining: 264ms\n",
      "175:\tlearn: 0.6896877\ttest: 0.6828248\tbest: 0.6828248 (175)\ttotal: 947ms\tremaining: 129ms\n",
      "199:\tlearn: 0.6896366\ttest: 0.6826389\tbest: 0.6826389 (199)\ttotal: 1.07s\tremaining: 0us\n",
      "\n",
      "bestTest = 0.6826388581\n",
      "bestIteration = 199\n",
      "\n",
      "0:\tlearn: 0.6925665\ttest: 0.6917525\tbest: 0.6917525 (0)\ttotal: 18.8ms\tremaining: 3.74s\n",
      "25:\tlearn: 0.6905125\ttest: 0.6853188\tbest: 0.6853188 (25)\ttotal: 153ms\tremaining: 1.02s\n",
      "50:\tlearn: 0.6901609\ttest: 0.6840836\tbest: 0.6840836 (50)\ttotal: 280ms\tremaining: 819ms\n",
      "75:\tlearn: 0.6900021\ttest: 0.6834066\tbest: 0.6834066 (75)\ttotal: 408ms\tremaining: 666ms\n",
      "100:\tlearn: 0.6898971\ttest: 0.6831650\tbest: 0.6831650 (100)\ttotal: 538ms\tremaining: 528ms\n",
      "125:\tlearn: 0.6898190\ttest: 0.6829458\tbest: 0.6829458 (125)\ttotal: 668ms\tremaining: 393ms\n",
      "150:\tlearn: 0.6897574\ttest: 0.6828314\tbest: 0.6828314 (150)\ttotal: 797ms\tremaining: 259ms\n",
      "175:\tlearn: 0.6897059\ttest: 0.6827177\tbest: 0.6827177 (175)\ttotal: 925ms\tremaining: 126ms\n"
     ]
    },
    {
     "name": "stderr",
     "output_type": "stream",
     "text": [
      "2022-03-30 12:29:27 mean cv_value 0.051692169093121056 | std cv_value 0.007932488973560777 \n",
      "2022-03-30 12:29:27 ---------------------------------------------\n"
     ]
    },
    {
     "name": "stdout",
     "output_type": "stream",
     "text": [
      "199:\tlearn: 0.6896591\ttest: 0.6826055\tbest: 0.6826055 (199)\ttotal: 1.05s\tremaining: 0us\n",
      "\n",
      "bestTest = 0.6826055354\n",
      "bestIteration = 199\n",
      "\n"
     ]
    },
    {
     "name": "stderr",
     "output_type": "stream",
     "text": [
      "2022-03-30 12:29:28 [TRAIN_MODEL] Training model\n",
      "2022-03-30 12:29:28 Set of params....., {'depth': 1, 'iterations': 5, 'learning_rate': 0.18989087632986695, 'colsample_bylevel': 0.9368640177417805}\n"
     ]
    },
    {
     "name": "stdout",
     "output_type": "stream",
     "text": [
      "Iteration No: 38 ended. Search finished for the next optimal point.\n",
      "Time taken: 5.0718\n",
      "Function value obtained: -0.0517\n",
      "Current minimum: -0.0645\n",
      "Iteration No: 39 started. Searching for the next optimal point.\n",
      "0:\tlearn: 0.6925833\ttest: 0.6917850\tbest: 0.6917850 (0)\ttotal: 8.85ms\tremaining: 35.4ms\n",
      "4:\tlearn: 0.6915451\ttest: 0.6889348\tbest: 0.6889348 (4)\ttotal: 34.8ms\tremaining: 0us\n",
      "\n",
      "bestTest = 0.6889347889\n",
      "bestIteration = 4\n",
      "\n",
      "0:\tlearn: 0.6925583\ttest: 0.6917804\tbest: 0.6917804 (0)\ttotal: 7.07ms\tremaining: 28.3ms\n",
      "4:\tlearn: 0.6916326\ttest: 0.6889604\tbest: 0.6889604 (4)\ttotal: 28.6ms\tremaining: 0us\n",
      "\n",
      "bestTest = 0.6889604012\n",
      "bestIteration = 4\n",
      "\n"
     ]
    },
    {
     "name": "stderr",
     "output_type": "stream",
     "text": [
      "2022-03-30 12:29:29 mean cv_value 0.039923540185782154 | std cv_value 0.019190471193403284 \n",
      "2022-03-30 12:29:29 ---------------------------------------------\n"
     ]
    },
    {
     "name": "stdout",
     "output_type": "stream",
     "text": [
      "0:\tlearn: 0.6926405\ttest: 0.6919188\tbest: 0.6919188 (0)\ttotal: 7.31ms\tremaining: 29.2ms\n",
      "4:\tlearn: 0.6917256\ttest: 0.6894428\tbest: 0.6894428 (4)\ttotal: 29.2ms\tremaining: 0us\n",
      "\n",
      "bestTest = 0.689442755\n",
      "bestIteration = 4\n",
      "\n"
     ]
    },
    {
     "name": "stderr",
     "output_type": "stream",
     "text": [
      "2022-03-30 12:29:30 [TRAIN_MODEL] Training model\n",
      "2022-03-30 12:29:30 Set of params....., {'depth': 9, 'iterations': 64, 'learning_rate': 0.001, 'colsample_bylevel': 0.9449661183241052}\n"
     ]
    },
    {
     "name": "stdout",
     "output_type": "stream",
     "text": [
      "Iteration No: 39 ended. Search finished for the next optimal point.\n",
      "Time taken: 1.9198\n",
      "Function value obtained: -0.0399\n",
      "Current minimum: -0.0645\n",
      "Iteration No: 40 started. Searching for the next optimal point.\n",
      "0:\tlearn: 0.6931390\ttest: 0.6931286\tbest: 0.6931286 (0)\ttotal: 34.9ms\tremaining: 2.2s\n",
      "25:\tlearn: 0.6928013\ttest: 0.6926780\tbest: 0.6926780 (25)\ttotal: 788ms\tremaining: 1.15s\n",
      "50:\tlearn: 0.6924781\ttest: 0.6922329\tbest: 0.6922329 (50)\ttotal: 1.56s\tremaining: 398ms\n",
      "63:\tlearn: 0.6923144\ttest: 0.6920084\tbest: 0.6920084 (63)\ttotal: 1.96s\tremaining: 0us\n",
      "\n",
      "bestTest = 0.6920083829\n",
      "bestIteration = 63\n",
      "\n",
      "0:\tlearn: 0.6931346\ttest: 0.6931280\tbest: 0.6931280 (0)\ttotal: 51.3ms\tremaining: 3.23s\n",
      "25:\tlearn: 0.6927948\ttest: 0.6926699\tbest: 0.6926699 (25)\ttotal: 842ms\tremaining: 1.23s\n",
      "50:\tlearn: 0.6924585\ttest: 0.6922245\tbest: 0.6922245 (50)\ttotal: 1.61s\tremaining: 411ms\n",
      "63:\tlearn: 0.6922906\ttest: 0.6919986\tbest: 0.6919986 (63)\ttotal: 2.01s\tremaining: 0us\n",
      "\n",
      "bestTest = 0.6919986453\n",
      "bestIteration = 63\n",
      "\n",
      "0:\tlearn: 0.6931313\ttest: 0.6931289\tbest: 0.6931289 (0)\ttotal: 54ms\tremaining: 3.4s\n",
      "25:\tlearn: 0.6928022\ttest: 0.6926735\tbest: 0.6926735 (25)\ttotal: 809ms\tremaining: 1.18s\n",
      "50:\tlearn: 0.6924897\ttest: 0.6922387\tbest: 0.6922387 (50)\ttotal: 1.58s\tremaining: 404ms\n"
     ]
    },
    {
     "name": "stderr",
     "output_type": "stream",
     "text": [
      "2022-03-30 12:29:37 mean cv_value 0.04933683637074835 | std cv_value 0.0057416463721461095 \n",
      "2022-03-30 12:29:37 ---------------------------------------------\n"
     ]
    },
    {
     "name": "stdout",
     "output_type": "stream",
     "text": [
      "63:\tlearn: 0.6923319\ttest: 0.6920203\tbest: 0.6920203 (63)\ttotal: 1.98s\tremaining: 0us\n",
      "\n",
      "bestTest = 0.6920202607\n",
      "bestIteration = 63\n",
      "\n"
     ]
    },
    {
     "name": "stderr",
     "output_type": "stream",
     "text": [
      "2022-03-30 12:29:38 [TRAIN_MODEL] Training model\n",
      "2022-03-30 12:29:38 Set of params....., {'depth': 4, 'iterations': 142, 'learning_rate': 0.04082308876026011, 'colsample_bylevel': 1.0}\n"
     ]
    },
    {
     "name": "stdout",
     "output_type": "stream",
     "text": [
      "Iteration No: 40 ended. Search finished for the next optimal point.\n",
      "Time taken: 7.6435\n",
      "Function value obtained: -0.0493\n",
      "Current minimum: -0.0645\n",
      "Iteration No: 41 started. Searching for the next optimal point.\n",
      "0:\tlearn: 0.6929036\ttest: 0.6926150\tbest: 0.6926150 (0)\ttotal: 11.7ms\tremaining: 1.65s\n",
      "25:\tlearn: 0.6901034\ttest: 0.6854491\tbest: 0.6854491 (25)\ttotal: 208ms\tremaining: 928ms\n",
      "50:\tlearn: 0.6891785\ttest: 0.6830887\tbest: 0.6830887 (50)\ttotal: 409ms\tremaining: 730ms\n",
      "75:\tlearn: 0.6885711\ttest: 0.6818946\tbest: 0.6818946 (75)\ttotal: 607ms\tremaining: 527ms\n",
      "100:\tlearn: 0.6880748\ttest: 0.6811814\tbest: 0.6811814 (100)\ttotal: 808ms\tremaining: 328ms\n",
      "125:\tlearn: 0.6875916\ttest: 0.6807499\tbest: 0.6807499 (125)\ttotal: 1.01s\tremaining: 129ms\n",
      "141:\tlearn: 0.6873146\ttest: 0.6805124\tbest: 0.6805124 (141)\ttotal: 1.14s\tremaining: 0us\n",
      "\n",
      "bestTest = 0.6805124099\n",
      "bestIteration = 141\n",
      "\n",
      "0:\tlearn: 0.6929147\ttest: 0.6926434\tbest: 0.6926434 (0)\ttotal: 10.9ms\tremaining: 1.53s\n",
      "25:\tlearn: 0.6902272\ttest: 0.6856606\tbest: 0.6856606 (25)\ttotal: 206ms\tremaining: 921ms\n",
      "50:\tlearn: 0.6893347\ttest: 0.6832356\tbest: 0.6832356 (50)\ttotal: 401ms\tremaining: 716ms\n",
      "75:\tlearn: 0.6887785\ttest: 0.6821283\tbest: 0.6821283 (75)\ttotal: 602ms\tremaining: 523ms\n",
      "100:\tlearn: 0.6883002\ttest: 0.6814893\tbest: 0.6814893 (100)\ttotal: 795ms\tremaining: 323ms\n",
      "125:\tlearn: 0.6878494\ttest: 0.6809213\tbest: 0.6809213 (125)\ttotal: 994ms\tremaining: 126ms\n",
      "141:\tlearn: 0.6875762\ttest: 0.6806715\tbest: 0.6806715 (141)\ttotal: 1.12s\tremaining: 0us\n",
      "\n",
      "bestTest = 0.6806714638\n",
      "bestIteration = 141\n",
      "\n",
      "0:\tlearn: 0.6929263\ttest: 0.6926243\tbest: 0.6926243 (0)\ttotal: 10ms\tremaining: 1.41s\n",
      "25:\tlearn: 0.6903787\ttest: 0.6858310\tbest: 0.6858310 (25)\ttotal: 209ms\tremaining: 934ms\n",
      "50:\tlearn: 0.6894401\ttest: 0.6834546\tbest: 0.6834546 (50)\ttotal: 399ms\tremaining: 712ms\n",
      "75:\tlearn: 0.6888554\ttest: 0.6822737\tbest: 0.6822737 (75)\ttotal: 595ms\tremaining: 517ms\n",
      "100:\tlearn: 0.6883768\ttest: 0.6815992\tbest: 0.6815992 (100)\ttotal: 791ms\tremaining: 321ms\n",
      "125:\tlearn: 0.6879258\ttest: 0.6810993\tbest: 0.6810993 (125)\ttotal: 999ms\tremaining: 127ms\n",
      "141:\tlearn: 0.6876559\ttest: 0.6808415\tbest: 0.6808415 (141)\ttotal: 1.13s\tremaining: 0us\n",
      "\n",
      "bestTest = 0.6808414655\n",
      "bestIteration = 141\n",
      "\n"
     ]
    },
    {
     "name": "stderr",
     "output_type": "stream",
     "text": [
      "2022-03-30 12:29:42 mean cv_value 0.06063199580727783 | std cv_value 0.0069416050203832125 \n",
      "2022-03-30 12:29:42 ---------------------------------------------\n",
      "2022-03-30 12:29:43 [TRAIN_MODEL] Training model\n",
      "2022-03-30 12:29:43 Set of params....., {'depth': 7, 'iterations': 5, 'learning_rate': 0.09646885405117978, 'colsample_bylevel': 0.54577489833471}\n"
     ]
    },
    {
     "name": "stdout",
     "output_type": "stream",
     "text": [
      "Iteration No: 41 ended. Search finished for the next optimal point.\n",
      "Time taken: 5.1045\n",
      "Function value obtained: -0.0606\n",
      "Current minimum: -0.0645\n",
      "Iteration No: 42 started. Searching for the next optimal point.\n",
      "0:\tlearn: 0.6923590\ttest: 0.6916489\tbest: 0.6916489 (0)\ttotal: 20.6ms\tremaining: 82.3ms\n",
      "4:\tlearn: 0.6901164\ttest: 0.6873843\tbest: 0.6873843 (4)\ttotal: 99.9ms\tremaining: 0us\n",
      "\n",
      "bestTest = 0.687384257\n",
      "bestIteration = 4\n",
      "\n",
      "0:\tlearn: 0.6924528\ttest: 0.6917261\tbest: 0.6917261 (0)\ttotal: 15.1ms\tremaining: 60.6ms\n",
      "4:\tlearn: 0.6902661\ttest: 0.6875881\tbest: 0.6875881 (4)\ttotal: 84.3ms\tremaining: 0us\n",
      "\n",
      "bestTest = 0.6875881474\n",
      "bestIteration = 4\n",
      "\n"
     ]
    },
    {
     "name": "stderr",
     "output_type": "stream",
     "text": [
      "2022-03-30 12:29:44 mean cv_value 0.06243227747430533 | std cv_value 0.009769425110817301 \n",
      "2022-03-30 12:29:44 ---------------------------------------------\n"
     ]
    },
    {
     "name": "stdout",
     "output_type": "stream",
     "text": [
      "0:\tlearn: 0.6923989\ttest: 0.6917176\tbest: 0.6917176 (0)\ttotal: 19ms\tremaining: 76ms\n",
      "4:\tlearn: 0.6902866\ttest: 0.6876148\tbest: 0.6876148 (4)\ttotal: 85.4ms\tremaining: 0us\n",
      "\n",
      "bestTest = 0.6876147665\n",
      "bestIteration = 4\n",
      "\n"
     ]
    },
    {
     "name": "stderr",
     "output_type": "stream",
     "text": [
      "2022-03-30 12:29:45 [TRAIN_MODEL] Training model\n",
      "2022-03-30 12:29:45 Set of params....., {'depth': 4, 'iterations': 200, 'learning_rate': 0.07648831275180662, 'colsample_bylevel': 0.5}\n"
     ]
    },
    {
     "name": "stdout",
     "output_type": "stream",
     "text": [
      "Iteration No: 42 ended. Search finished for the next optimal point.\n",
      "Time taken: 2.1757\n",
      "Function value obtained: -0.0624\n",
      "Current minimum: -0.0645\n",
      "Iteration No: 43 started. Searching for the next optimal point.\n",
      "0:\tlearn: 0.6927392\ttest: 0.6922317\tbest: 0.6922317 (0)\ttotal: 10.1ms\tremaining: 2.01s\n",
      "25:\tlearn: 0.6893242\ttest: 0.6832265\tbest: 0.6832265 (25)\ttotal: 240ms\tremaining: 1.61s\n",
      "50:\tlearn: 0.6883757\ttest: 0.6814170\tbest: 0.6814170 (50)\ttotal: 469ms\tremaining: 1.37s\n",
      "75:\tlearn: 0.6876136\ttest: 0.6806555\tbest: 0.6806555 (75)\ttotal: 704ms\tremaining: 1.15s\n",
      "100:\tlearn: 0.6868964\ttest: 0.6799809\tbest: 0.6799809 (100)\ttotal: 932ms\tremaining: 913ms\n",
      "125:\tlearn: 0.6862099\ttest: 0.6794142\tbest: 0.6794142 (125)\ttotal: 1.17s\tremaining: 685ms\n",
      "150:\tlearn: 0.6855406\ttest: 0.6789593\tbest: 0.6789593 (150)\ttotal: 1.4s\tremaining: 454ms\n",
      "175:\tlearn: 0.6849360\ttest: 0.6785720\tbest: 0.6785720 (175)\ttotal: 1.64s\tremaining: 224ms\n",
      "199:\tlearn: 0.6842883\ttest: 0.6781534\tbest: 0.6781534 (199)\ttotal: 1.87s\tremaining: 0us\n",
      "\n",
      "bestTest = 0.6781534107\n",
      "bestIteration = 199\n",
      "\n",
      "0:\tlearn: 0.6927606\ttest: 0.6922542\tbest: 0.6922542 (0)\ttotal: 11.6ms\tremaining: 2.3s\n",
      "25:\tlearn: 0.6894974\ttest: 0.6835576\tbest: 0.6835576 (25)\ttotal: 241ms\tremaining: 1.61s\n",
      "50:\tlearn: 0.6884382\ttest: 0.6816278\tbest: 0.6816278 (50)\ttotal: 478ms\tremaining: 1.4s\n",
      "75:\tlearn: 0.6876388\ttest: 0.6807228\tbest: 0.6807228 (75)\ttotal: 711ms\tremaining: 1.16s\n",
      "100:\tlearn: 0.6869351\ttest: 0.6800913\tbest: 0.6800913 (100)\ttotal: 939ms\tremaining: 920ms\n",
      "125:\tlearn: 0.6862829\ttest: 0.6795742\tbest: 0.6795742 (125)\ttotal: 1.17s\tremaining: 687ms\n",
      "150:\tlearn: 0.6855836\ttest: 0.6791184\tbest: 0.6791184 (150)\ttotal: 1.41s\tremaining: 458ms\n",
      "175:\tlearn: 0.6849460\ttest: 0.6787651\tbest: 0.6787651 (175)\ttotal: 1.65s\tremaining: 225ms\n",
      "199:\tlearn: 0.6843759\ttest: 0.6784555\tbest: 0.6784555 (199)\ttotal: 1.88s\tremaining: 0us\n",
      "\n",
      "bestTest = 0.6784554972\n",
      "bestIteration = 199\n",
      "\n",
      "0:\tlearn: 0.6927892\ttest: 0.6923705\tbest: 0.6923705 (0)\ttotal: 10.7ms\tremaining: 2.13s\n",
      "25:\tlearn: 0.6895558\ttest: 0.6835289\tbest: 0.6835289 (25)\ttotal: 235ms\tremaining: 1.57s\n",
      "50:\tlearn: 0.6886069\ttest: 0.6818230\tbest: 0.6818230 (50)\ttotal: 464ms\tremaining: 1.35s\n",
      "75:\tlearn: 0.6878352\ttest: 0.6809881\tbest: 0.6809881 (75)\ttotal: 701ms\tremaining: 1.14s\n",
      "100:\tlearn: 0.6871794\ttest: 0.6803910\tbest: 0.6803910 (100)\ttotal: 945ms\tremaining: 926ms\n",
      "125:\tlearn: 0.6864970\ttest: 0.6798928\tbest: 0.6798928 (125)\ttotal: 1.18s\tremaining: 693ms\n",
      "150:\tlearn: 0.6858191\ttest: 0.6794048\tbest: 0.6794048 (150)\ttotal: 1.42s\tremaining: 462ms\n",
      "175:\tlearn: 0.6851656\ttest: 0.6789711\tbest: 0.6789711 (175)\ttotal: 1.66s\tremaining: 226ms\n"
     ]
    },
    {
     "name": "stderr",
     "output_type": "stream",
     "text": [
      "2022-03-30 12:29:52 mean cv_value 0.06417646078117316 | std cv_value 0.008952518939109515 \n",
      "2022-03-30 12:29:52 ---------------------------------------------\n"
     ]
    },
    {
     "name": "stdout",
     "output_type": "stream",
     "text": [
      "199:\tlearn: 0.6845896\ttest: 0.6786751\tbest: 0.6786751 (199)\ttotal: 1.88s\tremaining: 0us\n",
      "\n",
      "bestTest = 0.6786750513\n",
      "bestIteration = 199\n",
      "\n"
     ]
    },
    {
     "name": "stderr",
     "output_type": "stream",
     "text": [
      "2022-03-30 12:29:53 [TRAIN_MODEL] Training model\n",
      "2022-03-30 12:29:53 Set of params....., {'depth': 5, 'iterations': 200, 'learning_rate': 0.0027647329186565664, 'colsample_bylevel': 0.6463625033223661}\n"
     ]
    },
    {
     "name": "stdout",
     "output_type": "stream",
     "text": [
      "Iteration No: 43 ended. Search finished for the next optimal point.\n",
      "Time taken: 7.5285\n",
      "Function value obtained: -0.0642\n",
      "Current minimum: -0.0645\n",
      "Iteration No: 44 started. Searching for the next optimal point.\n",
      "0:\tlearn: 0.6931352\ttest: 0.6931100\tbest: 0.6931100 (0)\ttotal: 15.3ms\tremaining: 3.05s\n",
      "25:\tlearn: 0.6927040\ttest: 0.6921895\tbest: 0.6921895 (25)\ttotal: 282ms\tremaining: 1.89s\n",
      "50:\tlearn: 0.6923270\ttest: 0.6913541\tbest: 0.6913541 (50)\ttotal: 538ms\tremaining: 1.57s\n",
      "75:\tlearn: 0.6919893\ttest: 0.6905972\tbest: 0.6905972 (75)\ttotal: 793ms\tremaining: 1.29s\n",
      "100:\tlearn: 0.6916882\ttest: 0.6898975\tbest: 0.6898975 (100)\ttotal: 1.04s\tremaining: 1.02s\n",
      "125:\tlearn: 0.6914207\ttest: 0.6892621\tbest: 0.6892621 (125)\ttotal: 1.3s\tremaining: 765ms\n",
      "150:\tlearn: 0.6911864\ttest: 0.6886853\tbest: 0.6886853 (150)\ttotal: 1.55s\tremaining: 504ms\n",
      "175:\tlearn: 0.6909700\ttest: 0.6881547\tbest: 0.6881547 (175)\ttotal: 1.8s\tremaining: 246ms\n",
      "199:\tlearn: 0.6907798\ttest: 0.6876912\tbest: 0.6876912 (199)\ttotal: 2.05s\tremaining: 0us\n",
      "\n",
      "bestTest = 0.6876911584\n",
      "bestIteration = 199\n",
      "\n",
      "0:\tlearn: 0.6931307\ttest: 0.6931107\tbest: 0.6931107 (0)\ttotal: 14.3ms\tremaining: 2.84s\n",
      "25:\tlearn: 0.6927261\ttest: 0.6922289\tbest: 0.6922289 (25)\ttotal: 264ms\tremaining: 1.77s\n",
      "50:\tlearn: 0.6923609\ttest: 0.6914134\tbest: 0.6914134 (50)\ttotal: 511ms\tremaining: 1.49s\n",
      "75:\tlearn: 0.6920427\ttest: 0.6906724\tbest: 0.6906724 (75)\ttotal: 758ms\tremaining: 1.24s\n",
      "100:\tlearn: 0.6917568\ttest: 0.6899974\tbest: 0.6899974 (100)\ttotal: 1.01s\tremaining: 989ms\n",
      "125:\tlearn: 0.6914961\ttest: 0.6893841\tbest: 0.6893841 (125)\ttotal: 1.26s\tremaining: 738ms\n",
      "150:\tlearn: 0.6912669\ttest: 0.6888308\tbest: 0.6888308 (150)\ttotal: 1.51s\tremaining: 490ms\n",
      "175:\tlearn: 0.6910535\ttest: 0.6883033\tbest: 0.6883033 (175)\ttotal: 1.76s\tremaining: 240ms\n",
      "199:\tlearn: 0.6908677\ttest: 0.6878414\tbest: 0.6878414 (199)\ttotal: 2.01s\tremaining: 0us\n",
      "\n",
      "bestTest = 0.6878413523\n",
      "bestIteration = 199\n",
      "\n",
      "0:\tlearn: 0.6931273\ttest: 0.6931087\tbest: 0.6931087 (0)\ttotal: 13.2ms\tremaining: 2.62s\n",
      "25:\tlearn: 0.6927427\ttest: 0.6922414\tbest: 0.6922414 (25)\ttotal: 276ms\tremaining: 1.85s\n",
      "50:\tlearn: 0.6923980\ttest: 0.6914434\tbest: 0.6914434 (50)\ttotal: 525ms\tremaining: 1.53s\n",
      "75:\tlearn: 0.6920891\ttest: 0.6907167\tbest: 0.6907167 (75)\ttotal: 779ms\tremaining: 1.27s\n",
      "100:\tlearn: 0.6918165\ttest: 0.6900480\tbest: 0.6900480 (100)\ttotal: 1.03s\tremaining: 1.01s\n",
      "125:\tlearn: 0.6915685\ttest: 0.6894386\tbest: 0.6894386 (125)\ttotal: 1.28s\tremaining: 753ms\n",
      "150:\tlearn: 0.6913496\ttest: 0.6888901\tbest: 0.6888901 (150)\ttotal: 1.53s\tremaining: 497ms\n",
      "175:\tlearn: 0.6911469\ttest: 0.6883844\tbest: 0.6883844 (175)\ttotal: 1.78s\tremaining: 243ms\n"
     ]
    },
    {
     "name": "stderr",
     "output_type": "stream",
     "text": [
      "2022-03-30 12:30:00 mean cv_value 0.05827282526594633 | std cv_value 0.006669562005186083 \n",
      "2022-03-30 12:30:00 ---------------------------------------------\n"
     ]
    },
    {
     "name": "stdout",
     "output_type": "stream",
     "text": [
      "199:\tlearn: 0.6909691\ttest: 0.6879357\tbest: 0.6879357 (199)\ttotal: 2.02s\tremaining: 0us\n",
      "\n",
      "bestTest = 0.6879356819\n",
      "bestIteration = 199\n",
      "\n"
     ]
    },
    {
     "name": "stderr",
     "output_type": "stream",
     "text": [
      "2022-03-30 12:30:01 [TRAIN_MODEL] Training model\n",
      "2022-03-30 12:30:01 Set of params....., {'depth': 12, 'iterations': 199, 'learning_rate': 0.02336570166798634, 'colsample_bylevel': 0.6895260499545555}\n"
     ]
    },
    {
     "name": "stdout",
     "output_type": "stream",
     "text": [
      "Iteration No: 44 ended. Search finished for the next optimal point.\n",
      "Time taken: 8.0786\n",
      "Function value obtained: -0.0583\n",
      "Current minimum: -0.0645\n",
      "Iteration No: 45 started. Searching for the next optimal point.\n",
      "0:\tlearn: 0.6922363\ttest: 0.6923997\tbest: 0.6923997 (0)\ttotal: 126ms\tremaining: 24.9s\n",
      "25:\tlearn: 0.6731932\ttest: 0.6772809\tbest: 0.6772809 (25)\ttotal: 2.63s\tremaining: 17.5s\n",
      "50:\tlearn: 0.6596081\ttest: 0.6675053\tbest: 0.6675053 (50)\ttotal: 5.03s\tremaining: 14.6s\n",
      "75:\tlearn: 0.6487343\ttest: 0.6601899\tbest: 0.6601899 (75)\ttotal: 7.35s\tremaining: 11.9s\n",
      "100:\tlearn: 0.6412942\ttest: 0.6554542\tbest: 0.6554542 (100)\ttotal: 9.59s\tremaining: 9.31s\n",
      "125:\tlearn: 0.6334826\ttest: 0.6507095\tbest: 0.6507095 (125)\ttotal: 11.9s\tremaining: 6.89s\n",
      "150:\tlearn: 0.6262446\ttest: 0.6466307\tbest: 0.6466307 (150)\ttotal: 14.1s\tremaining: 4.49s\n",
      "175:\tlearn: 0.6187991\ttest: 0.6426280\tbest: 0.6426280 (175)\ttotal: 16.4s\tremaining: 2.14s\n",
      "198:\tlearn: 0.6124022\ttest: 0.6391588\tbest: 0.6391588 (198)\ttotal: 18.5s\tremaining: 0us\n",
      "\n",
      "bestTest = 0.6391588438\n",
      "bestIteration = 198\n",
      "\n",
      "0:\tlearn: 0.6922080\ttest: 0.6923797\tbest: 0.6923797 (0)\ttotal: 108ms\tremaining: 21.4s\n",
      "25:\tlearn: 0.6734622\ttest: 0.6775709\tbest: 0.6775709 (25)\ttotal: 2.56s\tremaining: 17s\n",
      "50:\tlearn: 0.6592162\ttest: 0.6674435\tbest: 0.6674435 (50)\ttotal: 4.95s\tremaining: 14.4s\n",
      "75:\tlearn: 0.6481887\ttest: 0.6602721\tbest: 0.6602721 (75)\ttotal: 7.28s\tremaining: 11.8s\n",
      "100:\tlearn: 0.6390307\ttest: 0.6547389\tbest: 0.6547389 (100)\ttotal: 9.57s\tremaining: 9.29s\n",
      "125:\tlearn: 0.6303015\ttest: 0.6496874\tbest: 0.6496874 (125)\ttotal: 11.8s\tremaining: 6.86s\n",
      "150:\tlearn: 0.6233283\ttest: 0.6457194\tbest: 0.6457194 (150)\ttotal: 14s\tremaining: 4.46s\n",
      "175:\tlearn: 0.6156002\ttest: 0.6415655\tbest: 0.6415655 (175)\ttotal: 16.3s\tremaining: 2.13s\n",
      "198:\tlearn: 0.6089042\ttest: 0.6379341\tbest: 0.6379341 (198)\ttotal: 18.4s\tremaining: 0us\n",
      "\n",
      "bestTest = 0.6379341323\n",
      "bestIteration = 198\n",
      "\n",
      "0:\tlearn: 0.6921593\ttest: 0.6923530\tbest: 0.6923530 (0)\ttotal: 101ms\tremaining: 20s\n",
      "25:\tlearn: 0.6722261\ttest: 0.6768420\tbest: 0.6768420 (25)\ttotal: 2.59s\tremaining: 17.2s\n",
      "50:\tlearn: 0.6580924\ttest: 0.6665638\tbest: 0.6665638 (50)\ttotal: 4.97s\tremaining: 14.4s\n",
      "75:\tlearn: 0.6471094\ttest: 0.6594252\tbest: 0.6594252 (75)\ttotal: 7.29s\tremaining: 11.8s\n",
      "100:\tlearn: 0.6370387\ttest: 0.6532423\tbest: 0.6532423 (100)\ttotal: 9.59s\tremaining: 9.31s\n",
      "125:\tlearn: 0.6282788\ttest: 0.6482229\tbest: 0.6482229 (125)\ttotal: 11.9s\tremaining: 6.88s\n",
      "150:\tlearn: 0.6207887\ttest: 0.6440076\tbest: 0.6440076 (150)\ttotal: 14.1s\tremaining: 4.49s\n",
      "175:\tlearn: 0.6135863\ttest: 0.6399962\tbest: 0.6399962 (175)\ttotal: 16.4s\tremaining: 2.14s\n"
     ]
    },
    {
     "name": "stderr",
     "output_type": "stream",
     "text": [
      "2022-03-30 12:30:57 mean cv_value 0.04671096307847644 | std cv_value 0.009884229395117123 \n",
      "2022-03-30 12:30:57 ---------------------------------------------\n"
     ]
    },
    {
     "name": "stdout",
     "output_type": "stream",
     "text": [
      "198:\tlearn: 0.6076742\ttest: 0.6368618\tbest: 0.6368618 (198)\ttotal: 18.5s\tremaining: 0us\n",
      "\n",
      "bestTest = 0.6368618277\n",
      "bestIteration = 198\n",
      "\n"
     ]
    },
    {
     "name": "stderr",
     "output_type": "stream",
     "text": [
      "2022-03-30 12:30:58 [TRAIN_MODEL] Training model\n",
      "2022-03-30 12:30:58 Set of params....., {'depth': 1, 'iterations': 200, 'learning_rate': 1.0, 'colsample_bylevel': 0.582667500552236}\n"
     ]
    },
    {
     "name": "stdout",
     "output_type": "stream",
     "text": [
      "Iteration No: 45 ended. Search finished for the next optimal point.\n",
      "Time taken: 57.1718\n",
      "Function value obtained: -0.0467\n",
      "Current minimum: -0.0645\n",
      "Iteration No: 46 started. Searching for the next optimal point.\n",
      "0:\tlearn: 0.6922394\ttest: 0.6904723\tbest: 0.6904723 (0)\ttotal: 8.17ms\tremaining: 1.63s\n",
      "25:\tlearn: 0.6895840\ttest: 0.6820448\tbest: 0.6820448 (25)\ttotal: 141ms\tremaining: 946ms\n",
      "50:\tlearn: 0.6891740\ttest: 0.6817403\tbest: 0.6817403 (50)\ttotal: 269ms\tremaining: 785ms\n",
      "75:\tlearn: 0.6889026\ttest: 0.6819047\tbest: 0.6817403 (50)\ttotal: 396ms\tremaining: 646ms\n",
      "100:\tlearn: 0.6887602\ttest: 0.6817115\tbest: 0.6817115 (100)\ttotal: 523ms\tremaining: 512ms\n",
      "125:\tlearn: 0.6886156\ttest: 0.6816344\tbest: 0.6816344 (125)\ttotal: 651ms\tremaining: 382ms\n",
      "150:\tlearn: 0.6884999\ttest: 0.6815620\tbest: 0.6815620 (150)\ttotal: 784ms\tremaining: 255ms\n",
      "175:\tlearn: 0.6883954\ttest: 0.6815913\tbest: 0.6815620 (150)\ttotal: 914ms\tremaining: 125ms\n",
      "199:\tlearn: 0.6883162\ttest: 0.6815002\tbest: 0.6815002 (199)\ttotal: 1.04s\tremaining: 0us\n",
      "\n",
      "bestTest = 0.6815002481\n",
      "bestIteration = 199\n",
      "\n",
      "0:\tlearn: 0.6924326\ttest: 0.6908803\tbest: 0.6908803 (0)\ttotal: 6.9ms\tremaining: 1.37s\n",
      "25:\tlearn: 0.6897931\ttest: 0.6820662\tbest: 0.6820662 (25)\ttotal: 136ms\tremaining: 907ms\n",
      "50:\tlearn: 0.6894374\ttest: 0.6819461\tbest: 0.6819461 (50)\ttotal: 263ms\tremaining: 768ms\n",
      "75:\tlearn: 0.6891768\ttest: 0.6819445\tbest: 0.6819445 (75)\ttotal: 387ms\tremaining: 632ms\n",
      "100:\tlearn: 0.6890089\ttest: 0.6817077\tbest: 0.6817077 (100)\ttotal: 513ms\tremaining: 503ms\n",
      "125:\tlearn: 0.6888715\ttest: 0.6816985\tbest: 0.6816985 (125)\ttotal: 640ms\tremaining: 376ms\n",
      "150:\tlearn: 0.6887595\ttest: 0.6815897\tbest: 0.6815897 (150)\ttotal: 766ms\tremaining: 249ms\n",
      "175:\tlearn: 0.6886497\ttest: 0.6813748\tbest: 0.6813748 (175)\ttotal: 893ms\tremaining: 122ms\n",
      "199:\tlearn: 0.6885602\ttest: 0.6814128\tbest: 0.6813748 (175)\ttotal: 1.01s\tremaining: 0us\n",
      "\n",
      "bestTest = 0.68137482\n",
      "bestIteration = 175\n",
      "\n",
      "Shrink model to first 176 iterations.\n",
      "0:\tlearn: 0.6922681\ttest: 0.6905749\tbest: 0.6905749 (0)\ttotal: 7.33ms\tremaining: 1.46s\n",
      "25:\tlearn: 0.6898679\ttest: 0.6819035\tbest: 0.6819035 (25)\ttotal: 136ms\tremaining: 912ms\n",
      "50:\tlearn: 0.6895542\ttest: 0.6816976\tbest: 0.6816976 (50)\ttotal: 268ms\tremaining: 782ms\n",
      "75:\tlearn: 0.6893529\ttest: 0.6816493\tbest: 0.6816493 (75)\ttotal: 400ms\tremaining: 653ms\n",
      "100:\tlearn: 0.6891724\ttest: 0.6815488\tbest: 0.6815488 (100)\ttotal: 529ms\tremaining: 518ms\n",
      "125:\tlearn: 0.6890401\ttest: 0.6814215\tbest: 0.6814215 (125)\ttotal: 657ms\tremaining: 386ms\n",
      "150:\tlearn: 0.6889376\ttest: 0.6815078\tbest: 0.6814215 (125)\ttotal: 786ms\tremaining: 255ms\n",
      "175:\tlearn: 0.6888346\ttest: 0.6814235\tbest: 0.6814215 (125)\ttotal: 920ms\tremaining: 126ms\n"
     ]
    },
    {
     "name": "stderr",
     "output_type": "stream",
     "text": [
      "2022-03-30 12:31:02 mean cv_value 0.05692642634717102 | std cv_value 0.0029259984284589593 \n",
      "2022-03-30 12:31:02 ---------------------------------------------\n"
     ]
    },
    {
     "name": "stdout",
     "output_type": "stream",
     "text": [
      "199:\tlearn: 0.6887496\ttest: 0.6814482\tbest: 0.6814215 (125)\ttotal: 1.05s\tremaining: 0us\n",
      "\n",
      "bestTest = 0.6814214993\n",
      "bestIteration = 125\n",
      "\n",
      "Shrink model to first 126 iterations.\n"
     ]
    },
    {
     "name": "stderr",
     "output_type": "stream",
     "text": [
      "2022-03-30 12:31:03 [TRAIN_MODEL] Training model\n",
      "2022-03-30 12:31:03 Set of params....., {'depth': 4, 'iterations': 200, 'learning_rate': 0.001, 'colsample_bylevel': 0.5285732414518223}\n"
     ]
    },
    {
     "name": "stdout",
     "output_type": "stream",
     "text": [
      "Iteration No: 46 ended. Search finished for the next optimal point.\n",
      "Time taken: 5.0363\n",
      "Function value obtained: -0.0569\n",
      "Current minimum: -0.0645\n",
      "Iteration No: 47 started. Searching for the next optimal point.\n",
      "0:\tlearn: 0.6931473\ttest: 0.6931343\tbest: 0.6931343 (0)\ttotal: 11ms\tremaining: 2.2s\n",
      "25:\tlearn: 0.6930020\ttest: 0.6928276\tbest: 0.6928276 (25)\ttotal: 246ms\tremaining: 1.65s\n",
      "50:\tlearn: 0.6928660\ttest: 0.6925179\tbest: 0.6925179 (50)\ttotal: 472ms\tremaining: 1.38s\n",
      "75:\tlearn: 0.6927371\ttest: 0.6922331\tbest: 0.6922331 (75)\ttotal: 700ms\tremaining: 1.14s\n",
      "100:\tlearn: 0.6926151\ttest: 0.6919556\tbest: 0.6919556 (100)\ttotal: 935ms\tremaining: 916ms\n",
      "125:\tlearn: 0.6924969\ttest: 0.6916862\tbest: 0.6916862 (125)\ttotal: 1.16s\tremaining: 682ms\n",
      "150:\tlearn: 0.6923786\ttest: 0.6914163\tbest: 0.6914163 (150)\ttotal: 1.39s\tremaining: 450ms\n",
      "175:\tlearn: 0.6922718\ttest: 0.6911577\tbest: 0.6911577 (175)\ttotal: 1.61s\tremaining: 220ms\n",
      "199:\tlearn: 0.6921701\ttest: 0.6909190\tbest: 0.6909190 (199)\ttotal: 1.82s\tremaining: 0us\n",
      "\n",
      "bestTest = 0.6909189748\n",
      "bestIteration = 199\n",
      "\n",
      "0:\tlearn: 0.6931450\ttest: 0.6931343\tbest: 0.6931343 (0)\ttotal: 13.1ms\tremaining: 2.61s\n",
      "25:\tlearn: 0.6930063\ttest: 0.6928252\tbest: 0.6928252 (25)\ttotal: 239ms\tremaining: 1.6s\n",
      "50:\tlearn: 0.6928762\ttest: 0.6925361\tbest: 0.6925361 (50)\ttotal: 460ms\tremaining: 1.34s\n",
      "75:\tlearn: 0.6927576\ttest: 0.6922580\tbest: 0.6922580 (75)\ttotal: 675ms\tremaining: 1.1s\n",
      "100:\tlearn: 0.6926386\ttest: 0.6919767\tbest: 0.6919767 (100)\ttotal: 892ms\tremaining: 874ms\n",
      "125:\tlearn: 0.6925242\ttest: 0.6917105\tbest: 0.6917105 (125)\ttotal: 1.11s\tremaining: 650ms\n",
      "150:\tlearn: 0.6924125\ttest: 0.6914496\tbest: 0.6914496 (150)\ttotal: 1.32s\tremaining: 430ms\n",
      "175:\tlearn: 0.6923104\ttest: 0.6911945\tbest: 0.6911945 (175)\ttotal: 1.54s\tremaining: 210ms\n",
      "199:\tlearn: 0.6922165\ttest: 0.6909709\tbest: 0.6909709 (199)\ttotal: 1.75s\tremaining: 0us\n",
      "\n",
      "bestTest = 0.6909708983\n",
      "bestIteration = 199\n",
      "\n",
      "0:\tlearn: 0.6931413\ttest: 0.6931352\tbest: 0.6931352 (0)\ttotal: 10.3ms\tremaining: 2.04s\n",
      "25:\tlearn: 0.6930136\ttest: 0.6928478\tbest: 0.6928478 (25)\ttotal: 232ms\tremaining: 1.55s\n",
      "50:\tlearn: 0.6928904\ttest: 0.6925573\tbest: 0.6925573 (50)\ttotal: 451ms\tremaining: 1.32s\n",
      "75:\tlearn: 0.6927704\ttest: 0.6922749\tbest: 0.6922749 (75)\ttotal: 668ms\tremaining: 1.09s\n",
      "100:\tlearn: 0.6926578\ttest: 0.6920057\tbest: 0.6920057 (100)\ttotal: 892ms\tremaining: 874ms\n",
      "125:\tlearn: 0.6925502\ttest: 0.6917485\tbest: 0.6917485 (125)\ttotal: 1.11s\tremaining: 655ms\n",
      "150:\tlearn: 0.6924473\ttest: 0.6914933\tbest: 0.6914933 (150)\ttotal: 1.33s\tremaining: 433ms\n",
      "175:\tlearn: 0.6923470\ttest: 0.6912497\tbest: 0.6912497 (175)\ttotal: 1.55s\tremaining: 212ms\n"
     ]
    },
    {
     "name": "stderr",
     "output_type": "stream",
     "text": [
      "2022-03-30 12:31:09 mean cv_value 0.05654397569922156 | std cv_value 0.007043454164745418 \n",
      "2022-03-30 12:31:09 ---------------------------------------------\n"
     ]
    },
    {
     "name": "stdout",
     "output_type": "stream",
     "text": [
      "199:\tlearn: 0.6922581\ttest: 0.6910276\tbest: 0.6910276 (199)\ttotal: 1.76s\tremaining: 0us\n",
      "\n",
      "bestTest = 0.6910275603\n",
      "bestIteration = 199\n",
      "\n"
     ]
    },
    {
     "name": "stderr",
     "output_type": "stream",
     "text": [
      "2022-03-30 12:31:10 [TRAIN_MODEL] Training model\n",
      "2022-03-30 12:31:10 Set of params....., {'depth': 8, 'iterations': 125, 'learning_rate': 0.016610195995370305, 'colsample_bylevel': 1.0}\n"
     ]
    },
    {
     "name": "stdout",
     "output_type": "stream",
     "text": [
      "Iteration No: 47 ended. Search finished for the next optimal point.\n",
      "Time taken: 7.1876\n",
      "Function value obtained: -0.0565\n",
      "Current minimum: -0.0645\n",
      "Iteration No: 48 started. Searching for the next optimal point.\n",
      "0:\tlearn: 0.6929835\ttest: 0.6928861\tbest: 0.6928861 (0)\ttotal: 22.7ms\tremaining: 2.81s\n",
      "25:\tlearn: 0.6896569\ttest: 0.6876221\tbest: 0.6876221 (25)\ttotal: 482ms\tremaining: 1.83s\n",
      "50:\tlearn: 0.6873126\ttest: 0.6840956\tbest: 0.6840956 (50)\ttotal: 936ms\tremaining: 1.36s\n",
      "75:\tlearn: 0.6853384\ttest: 0.6815376\tbest: 0.6815376 (75)\ttotal: 1.38s\tremaining: 892ms\n",
      "100:\tlearn: 0.6837090\ttest: 0.6797562\tbest: 0.6797562 (100)\ttotal: 1.81s\tremaining: 431ms\n",
      "124:\tlearn: 0.6823826\ttest: 0.6784642\tbest: 0.6784642 (124)\ttotal: 2.24s\tremaining: 0us\n",
      "\n",
      "bestTest = 0.6784642113\n",
      "bestIteration = 124\n",
      "\n",
      "0:\tlearn: 0.6929761\ttest: 0.6928878\tbest: 0.6928878 (0)\ttotal: 24.8ms\tremaining: 3.07s\n",
      "25:\tlearn: 0.6896304\ttest: 0.6875857\tbest: 0.6875857 (25)\ttotal: 491ms\tremaining: 1.87s\n",
      "50:\tlearn: 0.6873295\ttest: 0.6841289\tbest: 0.6841289 (50)\ttotal: 946ms\tremaining: 1.37s\n",
      "75:\tlearn: 0.6853840\ttest: 0.6816340\tbest: 0.6816340 (75)\ttotal: 1.39s\tremaining: 898ms\n",
      "100:\tlearn: 0.6837160\ttest: 0.6798806\tbest: 0.6798806 (100)\ttotal: 1.84s\tremaining: 437ms\n",
      "124:\tlearn: 0.6822481\ttest: 0.6785514\tbest: 0.6785514 (124)\ttotal: 2.27s\tremaining: 0us\n",
      "\n",
      "bestTest = 0.6785514297\n",
      "bestIteration = 124\n",
      "\n",
      "0:\tlearn: 0.6929823\ttest: 0.6928782\tbest: 0.6928782 (0)\ttotal: 24.8ms\tremaining: 3.08s\n",
      "25:\tlearn: 0.6897952\ttest: 0.6876445\tbest: 0.6876445 (25)\ttotal: 491ms\tremaining: 1.87s\n",
      "50:\tlearn: 0.6875389\ttest: 0.6842915\tbest: 0.6842915 (50)\ttotal: 945ms\tremaining: 1.37s\n",
      "75:\tlearn: 0.6857175\ttest: 0.6819605\tbest: 0.6819605 (75)\ttotal: 1.4s\tremaining: 900ms\n",
      "100:\tlearn: 0.6841746\ttest: 0.6802575\tbest: 0.6802575 (100)\ttotal: 1.84s\tremaining: 438ms\n"
     ]
    },
    {
     "name": "stderr",
     "output_type": "stream",
     "text": [
      "2022-03-30 12:31:18 mean cv_value 0.06284680846543306 | std cv_value 0.01066970059679994 \n",
      "2022-03-30 12:31:18 ---------------------------------------------\n"
     ]
    },
    {
     "name": "stdout",
     "output_type": "stream",
     "text": [
      "124:\tlearn: 0.6826996\ttest: 0.6788794\tbest: 0.6788794 (124)\ttotal: 2.27s\tremaining: 0us\n",
      "\n",
      "bestTest = 0.6788794053\n",
      "bestIteration = 124\n",
      "\n"
     ]
    },
    {
     "name": "stderr",
     "output_type": "stream",
     "text": [
      "2022-03-30 12:31:19 [TRAIN_MODEL] Training model\n",
      "2022-03-30 12:31:19 Set of params....., {'depth': 16, 'iterations': 5, 'learning_rate': 0.009467023158044532, 'colsample_bylevel': 0.5713759646293606}\n"
     ]
    },
    {
     "name": "stdout",
     "output_type": "stream",
     "text": [
      "Iteration No: 48 ended. Search finished for the next optimal point.\n",
      "Time taken: 8.6543\n",
      "Function value obtained: -0.0628\n",
      "Current minimum: -0.0645\n",
      "Iteration No: 49 started. Searching for the next optimal point.\n",
      "0:\tlearn: 0.6920172\ttest: 0.6924819\tbest: 0.6924819 (0)\ttotal: 3.22s\tremaining: 12.9s\n",
      "4:\tlearn: 0.6873481\ttest: 0.6899468\tbest: 0.6899468 (4)\ttotal: 13.6s\tremaining: 0us\n",
      "\n",
      "bestTest = 0.6899468344\n",
      "bestIteration = 4\n",
      "\n",
      "0:\tlearn: 0.6918052\ttest: 0.6924781\tbest: 0.6924781 (0)\ttotal: 2.78s\tremaining: 11.1s\n",
      "4:\tlearn: 0.6865500\ttest: 0.6897192\tbest: 0.6897192 (4)\ttotal: 13.3s\tremaining: 0us\n",
      "\n",
      "bestTest = 0.689719183\n",
      "bestIteration = 4\n",
      "\n",
      "0:\tlearn: 0.6918234\ttest: 0.6924297\tbest: 0.6924297 (0)\ttotal: 2.81s\tremaining: 11.2s\n"
     ]
    },
    {
     "name": "stderr",
     "output_type": "stream",
     "text": [
      "2022-03-30 12:32:00 mean cv_value 0.026490968054079838 | std cv_value 0.04117297339725959 \n",
      "2022-03-30 12:32:00 ---------------------------------------------\n"
     ]
    },
    {
     "name": "stdout",
     "output_type": "stream",
     "text": [
      "4:\tlearn: 0.6869340\ttest: 0.6897782\tbest: 0.6897782 (4)\ttotal: 13.5s\tremaining: 0us\n",
      "\n",
      "bestTest = 0.689778222\n",
      "bestIteration = 4\n",
      "\n"
     ]
    },
    {
     "name": "stderr",
     "output_type": "stream",
     "text": [
      "2022-03-30 12:32:01 [TRAIN_MODEL] Training model\n",
      "2022-03-30 12:32:01 Set of params....., {'depth': 1, 'iterations': 198, 'learning_rate': 0.0034699479354101553, 'colsample_bylevel': 0.6427209471467499}\n"
     ]
    },
    {
     "name": "stdout",
     "output_type": "stream",
     "text": [
      "Iteration No: 49 ended. Search finished for the next optimal point.\n",
      "Time taken: 42.4822\n",
      "Function value obtained: -0.0265\n",
      "Current minimum: -0.0645\n",
      "Iteration No: 50 started. Searching for the next optimal point.\n",
      "0:\tlearn: 0.6931180\ttest: 0.6931212\tbest: 0.6931212 (0)\ttotal: 7.9ms\tremaining: 1.56s\n",
      "25:\tlearn: 0.6929108\ttest: 0.6925973\tbest: 0.6925973 (25)\ttotal: 152ms\tremaining: 1s\n",
      "50:\tlearn: 0.6927005\ttest: 0.6921267\tbest: 0.6921267 (50)\ttotal: 302ms\tremaining: 870ms\n",
      "75:\tlearn: 0.6925313\ttest: 0.6917183\tbest: 0.6917183 (75)\ttotal: 437ms\tremaining: 701ms\n",
      "100:\tlearn: 0.6923759\ttest: 0.6913338\tbest: 0.6913338 (100)\ttotal: 567ms\tremaining: 545ms\n",
      "125:\tlearn: 0.6922352\ttest: 0.6909664\tbest: 0.6909664 (125)\ttotal: 703ms\tremaining: 402ms\n",
      "150:\tlearn: 0.6921026\ttest: 0.6906212\tbest: 0.6906212 (150)\ttotal: 834ms\tremaining: 260ms\n",
      "175:\tlearn: 0.6919788\ttest: 0.6902908\tbest: 0.6902908 (175)\ttotal: 971ms\tremaining: 121ms\n",
      "197:\tlearn: 0.6918932\ttest: 0.6900347\tbest: 0.6900347 (197)\ttotal: 1.09s\tremaining: 0us\n",
      "\n",
      "bestTest = 0.6900347341\n",
      "bestIteration = 197\n",
      "\n",
      "0:\tlearn: 0.6931161\ttest: 0.6931211\tbest: 0.6931211 (0)\ttotal: 24.2ms\tremaining: 4.77s\n",
      "25:\tlearn: 0.6929297\ttest: 0.6926452\tbest: 0.6926452 (25)\ttotal: 162ms\tremaining: 1.07s\n",
      "50:\tlearn: 0.6927503\ttest: 0.6922181\tbest: 0.6922181 (50)\ttotal: 291ms\tremaining: 838ms\n",
      "75:\tlearn: 0.6925769\ttest: 0.6918226\tbest: 0.6918226 (75)\ttotal: 418ms\tremaining: 671ms\n",
      "100:\tlearn: 0.6924304\ttest: 0.6914548\tbest: 0.6914548 (100)\ttotal: 548ms\tremaining: 526ms\n",
      "125:\tlearn: 0.6922751\ttest: 0.6910578\tbest: 0.6910578 (125)\ttotal: 676ms\tremaining: 386ms\n",
      "150:\tlearn: 0.6921505\ttest: 0.6907184\tbest: 0.6907184 (150)\ttotal: 805ms\tremaining: 251ms\n",
      "175:\tlearn: 0.6920414\ttest: 0.6904094\tbest: 0.6904094 (175)\ttotal: 935ms\tremaining: 117ms\n",
      "197:\tlearn: 0.6919600\ttest: 0.6901656\tbest: 0.6901656 (197)\ttotal: 1.05s\tremaining: 0us\n",
      "\n",
      "bestTest = 0.6901655859\n",
      "bestIteration = 197\n",
      "\n",
      "0:\tlearn: 0.6931407\ttest: 0.6931238\tbest: 0.6931238 (0)\ttotal: 7.57ms\tremaining: 1.49s\n",
      "25:\tlearn: 0.6929278\ttest: 0.6926490\tbest: 0.6926490 (25)\ttotal: 137ms\tremaining: 904ms\n",
      "50:\tlearn: 0.6927477\ttest: 0.6922431\tbest: 0.6922431 (50)\ttotal: 267ms\tremaining: 769ms\n",
      "75:\tlearn: 0.6925932\ttest: 0.6918656\tbest: 0.6918656 (75)\ttotal: 392ms\tremaining: 629ms\n",
      "100:\tlearn: 0.6924483\ttest: 0.6915056\tbest: 0.6915056 (100)\ttotal: 518ms\tremaining: 498ms\n",
      "125:\tlearn: 0.6923192\ttest: 0.6911527\tbest: 0.6911527 (125)\ttotal: 645ms\tremaining: 369ms\n",
      "150:\tlearn: 0.6921997\ttest: 0.6908415\tbest: 0.6908415 (150)\ttotal: 771ms\tremaining: 240ms\n",
      "175:\tlearn: 0.6920911\ttest: 0.6905368\tbest: 0.6905368 (175)\ttotal: 896ms\tremaining: 112ms\n"
     ]
    },
    {
     "name": "stderr",
     "output_type": "stream",
     "text": [
      "2022-03-30 12:32:05 mean cv_value 0.05144436065059794 | std cv_value 0.010233909328434885 \n",
      "2022-03-30 12:32:05 ---------------------------------------------\n"
     ]
    },
    {
     "name": "stdout",
     "output_type": "stream",
     "text": [
      "197:\tlearn: 0.6920161\ttest: 0.6903113\tbest: 0.6903113 (197)\ttotal: 1.01s\tremaining: 0us\n",
      "\n",
      "bestTest = 0.6903113479\n",
      "bestIteration = 197\n",
      "\n"
     ]
    },
    {
     "name": "stderr",
     "output_type": "stream",
     "text": [
      "2022-03-30 12:32:06 [TRAIN_MODEL] Training model\n",
      "2022-03-30 12:32:06 Set of params....., {'depth': 5, 'iterations': 7, 'learning_rate': 0.003023296999764303, 'colsample_bylevel': 0.6570565212202765}\n"
     ]
    },
    {
     "name": "stdout",
     "output_type": "stream",
     "text": [
      "Iteration No: 50 ended. Search finished for the next optimal point.\n",
      "Time taken: 5.0843\n",
      "Function value obtained: -0.0514\n",
      "Current minimum: -0.0645\n",
      "Iteration No: 51 started. Searching for the next optimal point.\n",
      "0:\tlearn: 0.6931193\ttest: 0.6931065\tbest: 0.6931065 (0)\ttotal: 11.9ms\tremaining: 71.4ms\n",
      "6:\tlearn: 0.6930078\ttest: 0.6928567\tbest: 0.6928567 (6)\ttotal: 75.7ms\tremaining: 0us\n",
      "\n",
      "bestTest = 0.6928567068\n",
      "bestIteration = 6\n",
      "\n",
      "0:\tlearn: 0.6931237\ttest: 0.6931073\tbest: 0.6931073 (0)\ttotal: 11.6ms\tremaining: 69.5ms\n",
      "6:\tlearn: 0.6930148\ttest: 0.6928684\tbest: 0.6928684 (6)\ttotal: 73.6ms\tremaining: 0us\n",
      "\n",
      "bestTest = 0.6928684473\n",
      "bestIteration = 6\n",
      "\n"
     ]
    },
    {
     "name": "stderr",
     "output_type": "stream",
     "text": [
      "2022-03-30 12:32:07 mean cv_value 0.05398346046072122 | std cv_value 0.007533275218090438 \n",
      "2022-03-30 12:32:07 ---------------------------------------------\n"
     ]
    },
    {
     "name": "stdout",
     "output_type": "stream",
     "text": [
      "0:\tlearn: 0.6931239\ttest: 0.6931051\tbest: 0.6931051 (0)\ttotal: 12.8ms\tremaining: 76.5ms\n",
      "6:\tlearn: 0.6930161\ttest: 0.6928632\tbest: 0.6928632 (6)\ttotal: 74.7ms\tremaining: 0us\n",
      "\n",
      "bestTest = 0.6928631895\n",
      "bestIteration = 6\n",
      "\n"
     ]
    },
    {
     "name": "stderr",
     "output_type": "stream",
     "text": [
      "2022-03-30 12:32:08 [TRAIN_MODEL] Training model\n",
      "2022-03-30 12:32:08 Set of params....., {'depth': 16, 'iterations': 5, 'learning_rate': 0.001, 'colsample_bylevel': 0.630504572548499}\n"
     ]
    },
    {
     "name": "stdout",
     "output_type": "stream",
     "text": [
      "Iteration No: 51 ended. Search finished for the next optimal point.\n",
      "Time taken: 2.0887\n",
      "Function value obtained: -0.0540\n",
      "Current minimum: -0.0645\n",
      "Iteration No: 52 started. Searching for the next optimal point.\n",
      "0:\tlearn: 0.6930138\ttest: 0.6930691\tbest: 0.6930691 (0)\ttotal: 2.79s\tremaining: 11.1s\n",
      "4:\tlearn: 0.6924725\ttest: 0.6927744\tbest: 0.6927744 (4)\ttotal: 13.6s\tremaining: 0us\n",
      "\n",
      "bestTest = 0.6927743995\n",
      "bestIteration = 4\n",
      "\n",
      "0:\tlearn: 0.6929893\ttest: 0.6930624\tbest: 0.6930624 (0)\ttotal: 2.7s\tremaining: 10.8s\n",
      "4:\tlearn: 0.6924313\ttest: 0.6927749\tbest: 0.6927749 (4)\ttotal: 13.3s\tremaining: 0us\n",
      "\n",
      "bestTest = 0.6927748559\n",
      "bestIteration = 4\n",
      "\n",
      "0:\tlearn: 0.6930022\ttest: 0.6930694\tbest: 0.6930694 (0)\ttotal: 2.63s\tremaining: 10.5s\n"
     ]
    },
    {
     "name": "stderr",
     "output_type": "stream",
     "text": [
      "2022-03-30 12:32:49 mean cv_value 0.015349409790239882 | std cv_value 0.012959395625965136 \n",
      "2022-03-30 12:32:49 ---------------------------------------------\n"
     ]
    },
    {
     "name": "stdout",
     "output_type": "stream",
     "text": [
      "4:\tlearn: 0.6924341\ttest: 0.6927664\tbest: 0.6927664 (4)\ttotal: 13s\tremaining: 0us\n",
      "\n",
      "bestTest = 0.6927663604\n",
      "bestIteration = 4\n",
      "\n"
     ]
    },
    {
     "name": "stderr",
     "output_type": "stream",
     "text": [
      "2022-03-30 12:32:50 [TRAIN_MODEL] Training model\n",
      "2022-03-30 12:32:50 Set of params....., {'depth': 5, 'iterations': 6, 'learning_rate': 0.9957114489713852, 'colsample_bylevel': 0.5179513716545326}\n"
     ]
    },
    {
     "name": "stdout",
     "output_type": "stream",
     "text": [
      "Iteration No: 52 ended. Search finished for the next optimal point.\n",
      "Time taken: 41.6161\n",
      "Function value obtained: -0.0153\n",
      "Current minimum: -0.0645\n",
      "Iteration No: 53 started. Searching for the next optimal point.\n",
      "0:\tlearn: 0.6901296\ttest: 0.6835900\tbest: 0.6835900 (0)\ttotal: 15.3ms\tremaining: 76.5ms\n",
      "5:\tlearn: 0.6875278\ttest: 0.6802128\tbest: 0.6802128 (5)\ttotal: 73.2ms\tremaining: 0us\n",
      "\n",
      "bestTest = 0.6802127927\n",
      "bestIteration = 5\n",
      "\n",
      "0:\tlearn: 0.6900057\ttest: 0.6834625\tbest: 0.6834625 (0)\ttotal: 12.5ms\tremaining: 62.6ms\n",
      "5:\tlearn: 0.6877117\ttest: 0.6808832\tbest: 0.6808832 (5)\ttotal: 69.3ms\tremaining: 0us\n",
      "\n",
      "bestTest = 0.680883151\n",
      "bestIteration = 5\n",
      "\n"
     ]
    },
    {
     "name": "stderr",
     "output_type": "stream",
     "text": [
      "2022-03-30 12:32:51 mean cv_value 0.04906224718156856 | std cv_value 0.012966002607892234 \n",
      "2022-03-30 12:32:51 ---------------------------------------------\n"
     ]
    },
    {
     "name": "stdout",
     "output_type": "stream",
     "text": [
      "0:\tlearn: 0.6901282\ttest: 0.6831076\tbest: 0.6831076 (0)\ttotal: 12.1ms\tremaining: 60.3ms\n",
      "5:\tlearn: 0.6876993\ttest: 0.6801075\tbest: 0.6801075 (5)\ttotal: 69.1ms\tremaining: 0us\n",
      "\n",
      "bestTest = 0.680107528\n",
      "bestIteration = 5\n",
      "\n"
     ]
    },
    {
     "name": "stderr",
     "output_type": "stream",
     "text": [
      "2022-03-30 12:32:52 [TRAIN_MODEL] Training model\n",
      "2022-03-30 12:32:52 Set of params....., {'depth': 1, 'iterations': 114, 'learning_rate': 0.9019114897028783, 'colsample_bylevel': 0.8699243042792244}\n"
     ]
    },
    {
     "name": "stdout",
     "output_type": "stream",
     "text": [
      "Iteration No: 53 ended. Search finished for the next optimal point.\n",
      "Time taken: 1.9751\n",
      "Function value obtained: -0.0491\n",
      "Current minimum: -0.0645\n",
      "Iteration No: 54 started. Searching for the next optimal point.\n",
      "0:\tlearn: 0.6914431\ttest: 0.6877699\tbest: 0.6877699 (0)\ttotal: 8.38ms\tremaining: 947ms\n",
      "25:\tlearn: 0.6897218\ttest: 0.6824102\tbest: 0.6824102 (25)\ttotal: 140ms\tremaining: 474ms\n",
      "50:\tlearn: 0.6893083\ttest: 0.6820449\tbest: 0.6820449 (50)\ttotal: 270ms\tremaining: 333ms\n",
      "75:\tlearn: 0.6890793\ttest: 0.6819181\tbest: 0.6819181 (75)\ttotal: 398ms\tremaining: 199ms\n",
      "100:\tlearn: 0.6889145\ttest: 0.6817217\tbest: 0.6817217 (100)\ttotal: 522ms\tremaining: 67.2ms\n",
      "113:\tlearn: 0.6888429\ttest: 0.6817048\tbest: 0.6817048 (113)\ttotal: 586ms\tremaining: 0us\n",
      "\n",
      "bestTest = 0.6817048335\n",
      "bestIteration = 113\n",
      "\n",
      "0:\tlearn: 0.6914430\ttest: 0.6877606\tbest: 0.6877606 (0)\ttotal: 7.4ms\tremaining: 836ms\n",
      "25:\tlearn: 0.6898417\ttest: 0.6823925\tbest: 0.6823925 (25)\ttotal: 136ms\tremaining: 460ms\n",
      "50:\tlearn: 0.6895204\ttest: 0.6820439\tbest: 0.6820439 (50)\ttotal: 264ms\tremaining: 326ms\n",
      "75:\tlearn: 0.6892692\ttest: 0.6817234\tbest: 0.6817234 (75)\ttotal: 390ms\tremaining: 195ms\n",
      "100:\tlearn: 0.6891041\ttest: 0.6816495\tbest: 0.6816495 (100)\ttotal: 515ms\tremaining: 66.2ms\n",
      "113:\tlearn: 0.6890255\ttest: 0.6817147\tbest: 0.6816495 (100)\ttotal: 582ms\tremaining: 0us\n",
      "\n",
      "bestTest = 0.6816494871\n",
      "bestIteration = 100\n",
      "\n",
      "Shrink model to first 101 iterations.\n",
      "0:\tlearn: 0.6916711\ttest: 0.6882771\tbest: 0.6882771 (0)\ttotal: 7.51ms\tremaining: 849ms\n",
      "25:\tlearn: 0.6899169\ttest: 0.6826865\tbest: 0.6826865 (25)\ttotal: 139ms\tremaining: 469ms\n",
      "50:\tlearn: 0.6896034\ttest: 0.6823689\tbest: 0.6823689 (50)\ttotal: 277ms\tremaining: 342ms\n",
      "75:\tlearn: 0.6894186\ttest: 0.6818443\tbest: 0.6818443 (75)\ttotal: 409ms\tremaining: 204ms\n"
     ]
    },
    {
     "name": "stderr",
     "output_type": "stream",
     "text": [
      "2022-03-30 12:32:55 mean cv_value 0.052124848262980646 | std cv_value 0.00627382779389416 \n",
      "2022-03-30 12:32:55 ---------------------------------------------\n"
     ]
    },
    {
     "name": "stdout",
     "output_type": "stream",
     "text": [
      "100:\tlearn: 0.6892591\ttest: 0.6818849\tbest: 0.6818443 (75)\ttotal: 537ms\tremaining: 69.1ms\n",
      "113:\tlearn: 0.6891983\ttest: 0.6819304\tbest: 0.6818443 (75)\ttotal: 601ms\tremaining: 0us\n",
      "\n",
      "bestTest = 0.6818442937\n",
      "bestIteration = 75\n",
      "\n",
      "Shrink model to first 76 iterations.\n"
     ]
    },
    {
     "name": "stderr",
     "output_type": "stream",
     "text": [
      "2022-03-30 12:32:56 [TRAIN_MODEL] Training model\n",
      "2022-03-30 12:32:56 Set of params....., {'depth': 6, 'iterations': 5, 'learning_rate': 0.25668143293383056, 'colsample_bylevel': 0.9967897772342906}\n"
     ]
    },
    {
     "name": "stdout",
     "output_type": "stream",
     "text": [
      "Iteration No: 54 ended. Search finished for the next optimal point.\n",
      "Time taken: 3.7042\n",
      "Function value obtained: -0.0521\n",
      "Current minimum: -0.0645\n",
      "Iteration No: 55 started. Searching for the next optimal point.\n",
      "0:\tlearn: 0.6915273\ttest: 0.6898625\tbest: 0.6898625 (0)\ttotal: 15.4ms\tremaining: 61.6ms\n",
      "4:\tlearn: 0.6885888\ttest: 0.6833241\tbest: 0.6833241 (4)\ttotal: 66.4ms\tremaining: 0us\n",
      "\n",
      "bestTest = 0.6833241274\n",
      "bestIteration = 4\n",
      "\n",
      "0:\tlearn: 0.6915137\ttest: 0.6898898\tbest: 0.6898898 (0)\ttotal: 17ms\tremaining: 68ms\n",
      "4:\tlearn: 0.6885158\ttest: 0.6833092\tbest: 0.6833092 (4)\ttotal: 66.5ms\tremaining: 0us\n",
      "\n",
      "bestTest = 0.6833091738\n",
      "bestIteration = 4\n",
      "\n"
     ]
    },
    {
     "name": "stderr",
     "output_type": "stream",
     "text": [
      "2022-03-30 12:32:57 mean cv_value 0.05547349119991842 | std cv_value 0.009255140165025745 \n",
      "2022-03-30 12:32:57 ---------------------------------------------\n"
     ]
    },
    {
     "name": "stdout",
     "output_type": "stream",
     "text": [
      "0:\tlearn: 0.6915581\ttest: 0.6896170\tbest: 0.6896170 (0)\ttotal: 12.8ms\tremaining: 51ms\n",
      "4:\tlearn: 0.6888062\ttest: 0.6837263\tbest: 0.6837263 (4)\ttotal: 58.1ms\tremaining: 0us\n",
      "\n",
      "bestTest = 0.6837263327\n",
      "bestIteration = 4\n",
      "\n"
     ]
    },
    {
     "name": "stderr",
     "output_type": "stream",
     "text": [
      "2022-03-30 12:32:58 [TRAIN_MODEL] Training model\n",
      "2022-03-30 12:32:58 Set of params....., {'depth': 6, 'iterations': 80, 'learning_rate': 0.05600818769526888, 'colsample_bylevel': 0.5}\n"
     ]
    },
    {
     "name": "stdout",
     "output_type": "stream",
     "text": [
      "Iteration No: 55 ended. Search finished for the next optimal point.\n",
      "Time taken: 2.3798\n",
      "Function value obtained: -0.0555\n",
      "Current minimum: -0.0645\n",
      "Iteration No: 56 started. Searching for the next optimal point.\n",
      "0:\tlearn: 0.6927642\ttest: 0.6923406\tbest: 0.6923406 (0)\ttotal: 16.2ms\tremaining: 1.28s\n",
      "25:\tlearn: 0.6884088\ttest: 0.6830076\tbest: 0.6830076 (25)\ttotal: 352ms\tremaining: 731ms\n",
      "50:\tlearn: 0.6865399\ttest: 0.6804288\tbest: 0.6804288 (50)\ttotal: 677ms\tremaining: 385ms\n",
      "75:\tlearn: 0.6850245\ttest: 0.6790382\tbest: 0.6790382 (75)\ttotal: 1.01s\tremaining: 53ms\n",
      "79:\tlearn: 0.6847805\ttest: 0.6788465\tbest: 0.6788465 (79)\ttotal: 1.06s\tremaining: 0us\n",
      "\n",
      "bestTest = 0.6788465448\n",
      "bestIteration = 79\n",
      "\n",
      "0:\tlearn: 0.6927658\ttest: 0.6923367\tbest: 0.6923367 (0)\ttotal: 15.1ms\tremaining: 1.19s\n",
      "25:\tlearn: 0.6884961\ttest: 0.6832557\tbest: 0.6832557 (25)\ttotal: 338ms\tremaining: 701ms\n",
      "50:\tlearn: 0.6865307\ttest: 0.6806721\tbest: 0.6806721 (50)\ttotal: 669ms\tremaining: 381ms\n",
      "75:\tlearn: 0.6848887\ttest: 0.6792166\tbest: 0.6792166 (75)\ttotal: 1000ms\tremaining: 52.6ms\n",
      "79:\tlearn: 0.6846756\ttest: 0.6790546\tbest: 0.6790546 (79)\ttotal: 1.05s\tremaining: 0us\n",
      "\n",
      "bestTest = 0.6790545994\n",
      "bestIteration = 79\n",
      "\n",
      "0:\tlearn: 0.6927762\ttest: 0.6923638\tbest: 0.6923638 (0)\ttotal: 15.6ms\tremaining: 1.24s\n",
      "25:\tlearn: 0.6886037\ttest: 0.6833907\tbest: 0.6833907 (25)\ttotal: 351ms\tremaining: 730ms\n",
      "50:\tlearn: 0.6867723\ttest: 0.6806883\tbest: 0.6806883 (50)\ttotal: 688ms\tremaining: 391ms\n"
     ]
    },
    {
     "name": "stderr",
     "output_type": "stream",
     "text": [
      "2022-03-30 12:33:02 mean cv_value 0.062226868089871594 | std cv_value 0.00697646491602731 \n",
      "2022-03-30 12:33:02 ---------------------------------------------\n"
     ]
    },
    {
     "name": "stdout",
     "output_type": "stream",
     "text": [
      "75:\tlearn: 0.6852011\ttest: 0.6793636\tbest: 0.6793636 (75)\ttotal: 1.02s\tremaining: 53.7ms\n",
      "79:\tlearn: 0.6849839\ttest: 0.6791403\tbest: 0.6791403 (79)\ttotal: 1.07s\tremaining: 0us\n",
      "\n",
      "bestTest = 0.6791403237\n",
      "bestIteration = 79\n",
      "\n"
     ]
    },
    {
     "name": "stderr",
     "output_type": "stream",
     "text": [
      "2022-03-30 12:33:03 [TRAIN_MODEL] Training model\n",
      "2022-03-30 12:33:03 Set of params....., {'depth': 13, 'iterations': 200, 'learning_rate': 0.001, 'colsample_bylevel': 0.6994407245021304}\n"
     ]
    },
    {
     "name": "stdout",
     "output_type": "stream",
     "text": [
      "Iteration No: 56 ended. Search finished for the next optimal point.\n",
      "Time taken: 5.1141\n",
      "Function value obtained: -0.0622\n",
      "Current minimum: -0.0645\n",
      "Iteration No: 57 started. Searching for the next optimal point.\n",
      "0:\tlearn: 0.6930929\ttest: 0.6931040\tbest: 0.6931040 (0)\ttotal: 315ms\tremaining: 1m 2s\n",
      "25:\tlearn: 0.6917383\ttest: 0.6921036\tbest: 0.6921036 (25)\ttotal: 7.69s\tremaining: 51.5s\n",
      "50:\tlearn: 0.6903661\ttest: 0.6911179\tbest: 0.6911179 (50)\ttotal: 15s\tremaining: 44s\n",
      "75:\tlearn: 0.6890233\ttest: 0.6901575\tbest: 0.6901575 (75)\ttotal: 22.4s\tremaining: 36.6s\n",
      "100:\tlearn: 0.6876719\ttest: 0.6891873\tbest: 0.6891873 (100)\ttotal: 29.8s\tremaining: 29.2s\n",
      "125:\tlearn: 0.6863033\ttest: 0.6882085\tbest: 0.6882085 (125)\ttotal: 37.2s\tremaining: 21.8s\n",
      "150:\tlearn: 0.6850240\ttest: 0.6872943\tbest: 0.6872943 (150)\ttotal: 44.5s\tremaining: 14.4s\n",
      "175:\tlearn: 0.6837619\ttest: 0.6863906\tbest: 0.6863906 (175)\ttotal: 51.7s\tremaining: 7.05s\n",
      "199:\tlearn: 0.6825153\ttest: 0.6855182\tbest: 0.6855182 (199)\ttotal: 58.7s\tremaining: 0us\n",
      "\n",
      "bestTest = 0.6855181775\n",
      "bestIteration = 199\n",
      "\n",
      "0:\tlearn: 0.6930913\ttest: 0.6931058\tbest: 0.6931058 (0)\ttotal: 292ms\tremaining: 58.1s\n",
      "25:\tlearn: 0.6915908\ttest: 0.6920539\tbest: 0.6920539 (25)\ttotal: 7.59s\tremaining: 50.8s\n",
      "50:\tlearn: 0.6901045\ttest: 0.6910086\tbest: 0.6910086 (50)\ttotal: 15s\tremaining: 43.7s\n",
      "75:\tlearn: 0.6887050\ttest: 0.6900199\tbest: 0.6900199 (75)\ttotal: 22.3s\tremaining: 36.3s\n",
      "100:\tlearn: 0.6872779\ttest: 0.6890044\tbest: 0.6890044 (100)\ttotal: 29.6s\tremaining: 29s\n",
      "125:\tlearn: 0.6858435\ttest: 0.6879879\tbest: 0.6879879 (125)\ttotal: 37.1s\tremaining: 21.8s\n",
      "150:\tlearn: 0.6845059\ttest: 0.6870576\tbest: 0.6870576 (150)\ttotal: 44.3s\tremaining: 14.4s\n",
      "175:\tlearn: 0.6831116\ttest: 0.6860975\tbest: 0.6860975 (175)\ttotal: 51.6s\tremaining: 7.03s\n",
      "199:\tlearn: 0.6818798\ttest: 0.6852287\tbest: 0.6852287 (199)\ttotal: 58.6s\tremaining: 0us\n",
      "\n",
      "bestTest = 0.6852286652\n",
      "bestIteration = 199\n",
      "\n",
      "0:\tlearn: 0.6930815\ttest: 0.6931034\tbest: 0.6931034 (0)\ttotal: 300ms\tremaining: 59.6s\n",
      "25:\tlearn: 0.6916183\ttest: 0.6920669\tbest: 0.6920669 (25)\ttotal: 7.71s\tremaining: 51.6s\n",
      "50:\tlearn: 0.6901957\ttest: 0.6910481\tbest: 0.6910481 (50)\ttotal: 15.1s\tremaining: 44.2s\n",
      "75:\tlearn: 0.6887768\ttest: 0.6900532\tbest: 0.6900532 (75)\ttotal: 22.5s\tremaining: 36.7s\n",
      "100:\tlearn: 0.6873856\ttest: 0.6890611\tbest: 0.6890611 (100)\ttotal: 29.9s\tremaining: 29.3s\n",
      "125:\tlearn: 0.6859836\ttest: 0.6880794\tbest: 0.6880794 (125)\ttotal: 37.3s\tremaining: 21.9s\n",
      "150:\tlearn: 0.6846388\ttest: 0.6871319\tbest: 0.6871319 (150)\ttotal: 44.6s\tremaining: 14.5s\n",
      "175:\tlearn: 0.6833256\ttest: 0.6862107\tbest: 0.6862107 (175)\ttotal: 51.9s\tremaining: 7.08s\n",
      "199:\tlearn: 0.6820472\ttest: 0.6853191\tbest: 0.6853191 (199)\ttotal: 58.9s\tremaining: 0us\n",
      "\n",
      "bestTest = 0.6853190757\n",
      "bestIteration = 199\n",
      "\n"
     ]
    },
    {
     "name": "stderr",
     "output_type": "stream",
     "text": [
      "2022-03-30 12:36:01 mean cv_value 0.05006871875821712 | std cv_value 0.006430376413771513 \n",
      "2022-03-30 12:36:01 ---------------------------------------------\n",
      "2022-03-30 12:36:02 [TRAIN_MODEL] Training model\n",
      "2022-03-30 12:36:02 Set of params....., {'depth': 6, 'iterations': 161, 'learning_rate': 0.037301822895938815, 'colsample_bylevel': 0.5}\n"
     ]
    },
    {
     "name": "stdout",
     "output_type": "stream",
     "text": [
      "Iteration No: 57 ended. Search finished for the next optimal point.\n",
      "Time taken: 178.7827\n",
      "Function value obtained: -0.0501\n",
      "Current minimum: -0.0645\n",
      "Iteration No: 58 started. Searching for the next optimal point.\n",
      "0:\tlearn: 0.6928881\ttest: 0.6926074\tbest: 0.6926074 (0)\ttotal: 17.6ms\tremaining: 2.82s\n",
      "25:\tlearn: 0.6893499\ttest: 0.6849184\tbest: 0.6849184 (25)\ttotal: 365ms\tremaining: 1.89s\n",
      "50:\tlearn: 0.6877772\ttest: 0.6820604\tbest: 0.6820604 (50)\ttotal: 715ms\tremaining: 1.54s\n",
      "75:\tlearn: 0.6865921\ttest: 0.6806340\tbest: 0.6806340 (75)\ttotal: 1.06s\tremaining: 1.18s\n",
      "100:\tlearn: 0.6854541\ttest: 0.6794710\tbest: 0.6794710 (100)\ttotal: 1.4s\tremaining: 830ms\n",
      "125:\tlearn: 0.6843815\ttest: 0.6785419\tbest: 0.6785419 (125)\ttotal: 1.74s\tremaining: 483ms\n",
      "150:\tlearn: 0.6834201\ttest: 0.6778036\tbest: 0.6778036 (150)\ttotal: 2.07s\tremaining: 137ms\n",
      "160:\tlearn: 0.6830660\ttest: 0.6775731\tbest: 0.6775731 (160)\ttotal: 2.21s\tremaining: 0us\n",
      "\n",
      "bestTest = 0.677573132\n",
      "bestIteration = 160\n",
      "\n",
      "0:\tlearn: 0.6928826\ttest: 0.6926048\tbest: 0.6926048 (0)\ttotal: 13.5ms\tremaining: 2.17s\n",
      "25:\tlearn: 0.6894256\ttest: 0.6850214\tbest: 0.6850214 (25)\ttotal: 342ms\tremaining: 1.77s\n",
      "50:\tlearn: 0.6877988\ttest: 0.6821716\tbest: 0.6821716 (50)\ttotal: 675ms\tremaining: 1.46s\n",
      "75:\tlearn: 0.6865511\ttest: 0.6806186\tbest: 0.6806186 (75)\ttotal: 1.01s\tremaining: 1.13s\n",
      "100:\tlearn: 0.6854988\ttest: 0.6796460\tbest: 0.6796460 (100)\ttotal: 1.33s\tremaining: 793ms\n",
      "125:\tlearn: 0.6845131\ttest: 0.6788287\tbest: 0.6788287 (125)\ttotal: 1.66s\tremaining: 461ms\n",
      "150:\tlearn: 0.6835183\ttest: 0.6781582\tbest: 0.6781582 (150)\ttotal: 1.99s\tremaining: 131ms\n",
      "160:\tlearn: 0.6831127\ttest: 0.6778779\tbest: 0.6778779 (160)\ttotal: 2.12s\tremaining: 0us\n",
      "\n",
      "bestTest = 0.6778779421\n",
      "bestIteration = 160\n",
      "\n",
      "0:\tlearn: 0.6928916\ttest: 0.6926229\tbest: 0.6926229 (0)\ttotal: 14.6ms\tremaining: 2.34s\n",
      "25:\tlearn: 0.6895937\ttest: 0.6852062\tbest: 0.6852062 (25)\ttotal: 333ms\tremaining: 1.73s\n",
      "50:\tlearn: 0.6880422\ttest: 0.6823280\tbest: 0.6823280 (50)\ttotal: 665ms\tremaining: 1.43s\n",
      "75:\tlearn: 0.6868348\ttest: 0.6808174\tbest: 0.6808174 (75)\ttotal: 996ms\tremaining: 1.11s\n",
      "100:\tlearn: 0.6857972\ttest: 0.6798519\tbest: 0.6798519 (100)\ttotal: 1.32s\tremaining: 786ms\n",
      "125:\tlearn: 0.6847791\ttest: 0.6790804\tbest: 0.6790804 (125)\ttotal: 1.65s\tremaining: 460ms\n",
      "150:\tlearn: 0.6838352\ttest: 0.6783621\tbest: 0.6783621 (150)\ttotal: 1.99s\tremaining: 132ms\n",
      "160:\tlearn: 0.6834585\ttest: 0.6780967\tbest: 0.6780967 (160)\ttotal: 2.12s\tremaining: 0us\n",
      "\n",
      "bestTest = 0.6780967308\n",
      "bestIteration = 160\n",
      "\n"
     ]
    },
    {
     "name": "stderr",
     "output_type": "stream",
     "text": [
      "2022-03-30 12:36:09 mean cv_value 0.06243659173831997 | std cv_value 0.006166867622215297 \n",
      "2022-03-30 12:36:09 ---------------------------------------------\n",
      "2022-03-30 12:36:11 [TRAIN_MODEL] Training model\n",
      "2022-03-30 12:36:11 Set of params....., {'depth': 4, 'iterations': 114, 'learning_rate': 0.11711546265663453, 'colsample_bylevel': 0.943574385572761}\n"
     ]
    },
    {
     "name": "stdout",
     "output_type": "stream",
     "text": [
      "Iteration No: 58 ended. Search finished for the next optimal point.\n",
      "Time taken: 8.4875\n",
      "Function value obtained: -0.0624\n",
      "Current minimum: -0.0645\n",
      "Iteration No: 59 started. Searching for the next optimal point.\n",
      "0:\tlearn: 0.6924875\ttest: 0.6916485\tbest: 0.6916485 (0)\ttotal: 10.2ms\tremaining: 1.15s\n",
      "25:\tlearn: 0.6886011\ttest: 0.6819012\tbest: 0.6819012 (25)\ttotal: 243ms\tremaining: 822ms\n",
      "50:\tlearn: 0.6873087\ttest: 0.6805394\tbest: 0.6805394 (50)\ttotal: 465ms\tremaining: 574ms\n",
      "75:\tlearn: 0.6861956\ttest: 0.6796963\tbest: 0.6796963 (75)\ttotal: 693ms\tremaining: 346ms\n",
      "100:\tlearn: 0.6850540\ttest: 0.6788676\tbest: 0.6788676 (100)\ttotal: 906ms\tremaining: 117ms\n",
      "113:\tlearn: 0.6845123\ttest: 0.6785471\tbest: 0.6785471 (113)\ttotal: 1.03s\tremaining: 0us\n",
      "\n",
      "bestTest = 0.6785471384\n",
      "bestIteration = 113\n",
      "\n",
      "0:\tlearn: 0.6924933\ttest: 0.6917298\tbest: 0.6917298 (0)\ttotal: 10.4ms\tremaining: 1.17s\n",
      "25:\tlearn: 0.6888488\ttest: 0.6822005\tbest: 0.6822005 (25)\ttotal: 223ms\tremaining: 756ms\n",
      "50:\tlearn: 0.6876474\ttest: 0.6807897\tbest: 0.6807897 (50)\ttotal: 437ms\tremaining: 540ms\n",
      "75:\tlearn: 0.6865720\ttest: 0.6799727\tbest: 0.6799727 (75)\ttotal: 662ms\tremaining: 331ms\n",
      "100:\tlearn: 0.6854955\ttest: 0.6793285\tbest: 0.6793285 (100)\ttotal: 884ms\tremaining: 114ms\n",
      "113:\tlearn: 0.6849546\ttest: 0.6790262\tbest: 0.6790262 (113)\ttotal: 1s\tremaining: 0us\n",
      "\n",
      "bestTest = 0.6790261834\n",
      "bestIteration = 113\n",
      "\n",
      "0:\tlearn: 0.6925482\ttest: 0.6917396\tbest: 0.6917396 (0)\ttotal: 10.8ms\tremaining: 1.22s\n",
      "25:\tlearn: 0.6888694\ttest: 0.6822990\tbest: 0.6822990 (25)\ttotal: 225ms\tremaining: 762ms\n",
      "50:\tlearn: 0.6875677\ttest: 0.6806397\tbest: 0.6806397 (50)\ttotal: 447ms\tremaining: 552ms\n",
      "75:\tlearn: 0.6864935\ttest: 0.6798188\tbest: 0.6798188 (75)\ttotal: 676ms\tremaining: 338ms\n",
      "100:\tlearn: 0.6854793\ttest: 0.6791865\tbest: 0.6791865 (100)\ttotal: 890ms\tremaining: 115ms\n",
      "113:\tlearn: 0.6849768\ttest: 0.6787798\tbest: 0.6787798 (113)\ttotal: 1s\tremaining: 0us\n",
      "\n",
      "bestTest = 0.6787797791\n",
      "bestIteration = 113\n",
      "\n"
     ]
    },
    {
     "name": "stderr",
     "output_type": "stream",
     "text": [
      "2022-03-30 12:36:14 mean cv_value 0.06532757439405655 | std cv_value 0.0046213479865451585 \n",
      "2022-03-30 12:36:14 ---------------------------------------------\n",
      "2022-03-30 12:36:16 [TRAIN_MODEL] Training model\n",
      "2022-03-30 12:36:16 Set of params....., {'depth': 4, 'iterations': 142, 'learning_rate': 0.08324715692956715, 'colsample_bylevel': 0.5}\n"
     ]
    },
    {
     "name": "stdout",
     "output_type": "stream",
     "text": [
      "Iteration No: 59 ended. Search finished for the next optimal point.\n",
      "Time taken: 4.9551\n",
      "Function value obtained: -0.0653\n",
      "Current minimum: -0.0653\n",
      "Iteration No: 60 started. Searching for the next optimal point.\n",
      "0:\tlearn: 0.6927024\ttest: 0.6921524\tbest: 0.6921524 (0)\ttotal: 11ms\tremaining: 1.54s\n",
      "25:\tlearn: 0.6892052\ttest: 0.6831285\tbest: 0.6831285 (25)\ttotal: 239ms\tremaining: 1.06s\n",
      "50:\tlearn: 0.6881524\ttest: 0.6814101\tbest: 0.6814101 (50)\ttotal: 474ms\tremaining: 847ms\n",
      "75:\tlearn: 0.6872749\ttest: 0.6804149\tbest: 0.6804149 (75)\ttotal: 708ms\tremaining: 615ms\n",
      "100:\tlearn: 0.6864569\ttest: 0.6797028\tbest: 0.6797028 (100)\ttotal: 944ms\tremaining: 383ms\n",
      "125:\tlearn: 0.6857254\ttest: 0.6790370\tbest: 0.6790370 (125)\ttotal: 1.18s\tremaining: 150ms\n",
      "141:\tlearn: 0.6852786\ttest: 0.6787000\tbest: 0.6787000 (141)\ttotal: 1.33s\tremaining: 0us\n",
      "\n",
      "bestTest = 0.6787000252\n",
      "bestIteration = 141\n",
      "\n",
      "0:\tlearn: 0.6927176\ttest: 0.6921768\tbest: 0.6921768 (0)\ttotal: 10.8ms\tremaining: 1.52s\n",
      "25:\tlearn: 0.6894165\ttest: 0.6833173\tbest: 0.6833173 (25)\ttotal: 242ms\tremaining: 1.08s\n",
      "50:\tlearn: 0.6883441\ttest: 0.6814575\tbest: 0.6814575 (50)\ttotal: 467ms\tremaining: 833ms\n",
      "75:\tlearn: 0.6875766\ttest: 0.6806575\tbest: 0.6806575 (75)\ttotal: 703ms\tremaining: 610ms\n",
      "100:\tlearn: 0.6867897\ttest: 0.6800344\tbest: 0.6800344 (100)\ttotal: 943ms\tremaining: 383ms\n",
      "125:\tlearn: 0.6860190\ttest: 0.6795283\tbest: 0.6795283 (125)\ttotal: 1.18s\tremaining: 150ms\n",
      "141:\tlearn: 0.6856461\ttest: 0.6792576\tbest: 0.6792576 (141)\ttotal: 1.32s\tremaining: 0us\n",
      "\n",
      "bestTest = 0.6792576008\n",
      "bestIteration = 141\n",
      "\n",
      "0:\tlearn: 0.6927537\ttest: 0.6923033\tbest: 0.6923033 (0)\ttotal: 10.9ms\tremaining: 1.54s\n",
      "25:\tlearn: 0.6894674\ttest: 0.6833632\tbest: 0.6833632 (25)\ttotal: 231ms\tremaining: 1.03s\n",
      "50:\tlearn: 0.6884273\ttest: 0.6816432\tbest: 0.6816432 (50)\ttotal: 457ms\tremaining: 816ms\n",
      "75:\tlearn: 0.6876541\ttest: 0.6807726\tbest: 0.6807726 (75)\ttotal: 692ms\tremaining: 601ms\n",
      "100:\tlearn: 0.6868472\ttest: 0.6800274\tbest: 0.6800274 (100)\ttotal: 919ms\tremaining: 373ms\n",
      "125:\tlearn: 0.6861632\ttest: 0.6795107\tbest: 0.6795107 (125)\ttotal: 1.16s\tremaining: 147ms\n",
      "141:\tlearn: 0.6857480\ttest: 0.6792181\tbest: 0.6792181 (141)\ttotal: 1.3s\tremaining: 0us\n",
      "\n",
      "bestTest = 0.6792181469\n",
      "bestIteration = 141\n",
      "\n"
     ]
    },
    {
     "name": "stderr",
     "output_type": "stream",
     "text": [
      "2022-03-30 12:36:20 mean cv_value 0.06324292217834022 | std cv_value 0.007942031097507508 \n",
      "2022-03-30 12:36:20 ---------------------------------------------\n",
      "2022-03-30 12:36:21 [TRAIN_MODEL] Training model\n",
      "2022-03-30 12:36:21 Set of params....., {'depth': 6, 'iterations': 119, 'learning_rate': 0.001075832230496293, 'colsample_bylevel': 0.8315180305148439}\n"
     ]
    },
    {
     "name": "stdout",
     "output_type": "stream",
     "text": [
      "Iteration No: 60 ended. Search finished for the next optimal point.\n",
      "Time taken: 5.8697\n",
      "Function value obtained: -0.0632\n",
      "Current minimum: -0.0653\n",
      "Iteration No: 61 started. Searching for the next optimal point.\n",
      "0:\tlearn: 0.6931417\ttest: 0.6931323\tbest: 0.6931323 (0)\ttotal: 15.7ms\tremaining: 1.86s\n",
      "25:\tlearn: 0.6929469\ttest: 0.6927538\tbest: 0.6927538 (25)\ttotal: 360ms\tremaining: 1.29s\n",
      "50:\tlearn: 0.6927646\ttest: 0.6923850\tbest: 0.6923850 (50)\ttotal: 695ms\tremaining: 926ms\n",
      "75:\tlearn: 0.6925910\ttest: 0.6920325\tbest: 0.6920325 (75)\ttotal: 1.02s\tremaining: 579ms\n",
      "100:\tlearn: 0.6924209\ttest: 0.6916894\tbest: 0.6916894 (100)\ttotal: 1.36s\tremaining: 243ms\n",
      "118:\tlearn: 0.6923047\ttest: 0.6914469\tbest: 0.6914469 (118)\ttotal: 1.6s\tremaining: 0us\n",
      "\n",
      "bestTest = 0.6914468584\n",
      "bestIteration = 118\n",
      "\n",
      "0:\tlearn: 0.6931437\ttest: 0.6931318\tbest: 0.6931318 (0)\ttotal: 15.2ms\tremaining: 1.8s\n",
      "25:\tlearn: 0.6929502\ttest: 0.6927545\tbest: 0.6927545 (25)\ttotal: 338ms\tremaining: 1.21s\n",
      "50:\tlearn: 0.6927718\ttest: 0.6923919\tbest: 0.6923919 (50)\ttotal: 655ms\tremaining: 874ms\n",
      "75:\tlearn: 0.6926004\ttest: 0.6920369\tbest: 0.6920369 (75)\ttotal: 970ms\tremaining: 549ms\n",
      "100:\tlearn: 0.6924329\ttest: 0.6917006\tbest: 0.6917006 (100)\ttotal: 1.28s\tremaining: 229ms\n",
      "118:\tlearn: 0.6923173\ttest: 0.6914628\tbest: 0.6914628 (118)\ttotal: 1.51s\tremaining: 0us\n",
      "\n",
      "bestTest = 0.6914628044\n",
      "bestIteration = 118\n",
      "\n",
      "0:\tlearn: 0.6931390\ttest: 0.6931314\tbest: 0.6931314 (0)\ttotal: 13.3ms\tremaining: 1.57s\n",
      "25:\tlearn: 0.6929588\ttest: 0.6927576\tbest: 0.6927576 (25)\ttotal: 324ms\tremaining: 1.16s\n",
      "50:\tlearn: 0.6927865\ttest: 0.6923993\tbest: 0.6923993 (50)\ttotal: 636ms\tremaining: 848ms\n",
      "75:\tlearn: 0.6926250\ttest: 0.6920561\tbest: 0.6920561 (75)\ttotal: 952ms\tremaining: 539ms\n",
      "100:\tlearn: 0.6924680\ttest: 0.6917178\tbest: 0.6917178 (100)\ttotal: 1.26s\tremaining: 225ms\n"
     ]
    },
    {
     "name": "stderr",
     "output_type": "stream",
     "text": [
      "2022-03-30 12:36:27 mean cv_value 0.05404660348872379 | std cv_value 0.007152263160060596 \n",
      "2022-03-30 12:36:27 ---------------------------------------------\n"
     ]
    },
    {
     "name": "stdout",
     "output_type": "stream",
     "text": [
      "118:\tlearn: 0.6923581\ttest: 0.6914808\tbest: 0.6914808 (118)\ttotal: 1.49s\tremaining: 0us\n",
      "\n",
      "bestTest = 0.6914808357\n",
      "bestIteration = 118\n",
      "\n"
     ]
    },
    {
     "name": "stderr",
     "output_type": "stream",
     "text": [
      "2022-03-30 12:36:28 [TRAIN_MODEL] Training model\n",
      "2022-03-30 12:36:28 Set of params....., {'depth': 5, 'iterations': 96, 'learning_rate': 0.08602584681822066, 'colsample_bylevel': 1.0}\n"
     ]
    },
    {
     "name": "stdout",
     "output_type": "stream",
     "text": [
      "Iteration No: 61 ended. Search finished for the next optimal point.\n",
      "Time taken: 6.5939\n",
      "Function value obtained: -0.0540\n",
      "Current minimum: -0.0653\n",
      "Iteration No: 62 started. Searching for the next optimal point.\n",
      "0:\tlearn: 0.6926003\ttest: 0.6920146\tbest: 0.6920146 (0)\ttotal: 12ms\tremaining: 1.14s\n",
      "25:\tlearn: 0.6882769\ttest: 0.6821945\tbest: 0.6821945 (25)\ttotal: 249ms\tremaining: 671ms\n",
      "50:\tlearn: 0.6864805\ttest: 0.6801278\tbest: 0.6801278 (50)\ttotal: 487ms\tremaining: 429ms\n",
      "75:\tlearn: 0.6850065\ttest: 0.6788688\tbest: 0.6788688 (75)\ttotal: 731ms\tremaining: 192ms\n",
      "95:\tlearn: 0.6838062\ttest: 0.6780431\tbest: 0.6780431 (95)\ttotal: 926ms\tremaining: 0us\n",
      "\n",
      "bestTest = 0.6780430568\n",
      "bestIteration = 95\n",
      "\n",
      "0:\tlearn: 0.6926209\ttest: 0.6920362\tbest: 0.6920362 (0)\ttotal: 11.5ms\tremaining: 1.09s\n",
      "25:\tlearn: 0.6884619\ttest: 0.6823792\tbest: 0.6823792 (25)\ttotal: 250ms\tremaining: 673ms\n",
      "50:\tlearn: 0.6867827\ttest: 0.6802907\tbest: 0.6802907 (50)\ttotal: 489ms\tremaining: 432ms\n",
      "75:\tlearn: 0.6852709\ttest: 0.6790510\tbest: 0.6790510 (75)\ttotal: 737ms\tremaining: 194ms\n",
      "95:\tlearn: 0.6842296\ttest: 0.6784076\tbest: 0.6784076 (95)\ttotal: 933ms\tremaining: 0us\n",
      "\n",
      "bestTest = 0.6784076401\n",
      "bestIteration = 95\n",
      "\n",
      "0:\tlearn: 0.6926291\ttest: 0.6919740\tbest: 0.6919740 (0)\ttotal: 11.9ms\tremaining: 1.14s\n",
      "25:\tlearn: 0.6885896\ttest: 0.6823101\tbest: 0.6823101 (25)\ttotal: 252ms\tremaining: 678ms\n",
      "50:\tlearn: 0.6868877\ttest: 0.6805125\tbest: 0.6805125 (50)\ttotal: 502ms\tremaining: 443ms\n",
      "75:\tlearn: 0.6853484\ttest: 0.6792561\tbest: 0.6792561 (75)\ttotal: 749ms\tremaining: 197ms\n",
      "95:\tlearn: 0.6842814\ttest: 0.6785718\tbest: 0.6785718 (95)\ttotal: 948ms\tremaining: 0us\n"
     ]
    },
    {
     "name": "stderr",
     "output_type": "stream",
     "text": [
      "2022-03-30 12:36:31 mean cv_value 0.06244620105953502 | std cv_value 0.011060848551234095 \n",
      "2022-03-30 12:36:31 ---------------------------------------------\n"
     ]
    },
    {
     "name": "stdout",
     "output_type": "stream",
     "text": [
      "\n",
      "bestTest = 0.6785717557\n",
      "bestIteration = 95\n",
      "\n"
     ]
    },
    {
     "name": "stderr",
     "output_type": "stream",
     "text": [
      "2022-03-30 12:36:33 [TRAIN_MODEL] Training model\n",
      "2022-03-30 12:36:33 Set of params....., {'depth': 9, 'iterations': 6, 'learning_rate': 0.014709338970034262, 'colsample_bylevel': 0.6490313014823768}\n"
     ]
    },
    {
     "name": "stdout",
     "output_type": "stream",
     "text": [
      "Iteration No: 62 ended. Search finished for the next optimal point.\n",
      "Time taken: 4.7361\n",
      "Function value obtained: -0.0624\n",
      "Current minimum: -0.0653\n",
      "Iteration No: 63 started. Searching for the next optimal point.\n",
      "0:\tlearn: 0.6929461\ttest: 0.6928790\tbest: 0.6928790 (0)\ttotal: 41.3ms\tremaining: 207ms\n",
      "5:\tlearn: 0.6920375\ttest: 0.6915992\tbest: 0.6915992 (5)\ttotal: 216ms\tremaining: 0us\n",
      "\n",
      "bestTest = 0.6915992287\n",
      "bestIteration = 5\n",
      "\n",
      "0:\tlearn: 0.6929498\ttest: 0.6928874\tbest: 0.6928874 (0)\ttotal: 33.4ms\tremaining: 167ms\n",
      "5:\tlearn: 0.6919863\ttest: 0.6915993\tbest: 0.6915993 (5)\ttotal: 206ms\tremaining: 0us\n",
      "\n",
      "bestTest = 0.6915993041\n",
      "bestIteration = 5\n",
      "\n",
      "0:\tlearn: 0.6929475\ttest: 0.6928699\tbest: 0.6928699 (0)\ttotal: 33.2ms\tremaining: 166ms\n",
      "5:\tlearn: 0.6920575\ttest: 0.6916422\tbest: 0.6916422 (5)\ttotal: 199ms\tremaining: 0us\n",
      "\n",
      "bestTest = 0.691642198\n",
      "bestIteration = 5\n",
      "\n"
     ]
    },
    {
     "name": "stderr",
     "output_type": "stream",
     "text": [
      "2022-03-30 12:36:34 mean cv_value 0.05959265520036847 | std cv_value 0.00667848104880408 \n",
      "2022-03-30 12:36:34 ---------------------------------------------\n",
      "2022-03-30 12:36:35 [TRAIN_MODEL] Training model\n",
      "2022-03-30 12:36:35 Set of params....., {'depth': 16, 'iterations': 5, 'learning_rate': 0.8027353844662387, 'colsample_bylevel': 0.5676136085087178}\n"
     ]
    },
    {
     "name": "stdout",
     "output_type": "stream",
     "text": [
      "Iteration No: 63 ended. Search finished for the next optimal point.\n",
      "Time taken: 2.7204\n",
      "Function value obtained: -0.0596\n",
      "Current minimum: -0.0653\n",
      "Iteration No: 64 started. Searching for the next optimal point.\n",
      "0:\tlearn: 0.6370293\ttest: 0.6793307\tbest: 0.6793307 (0)\ttotal: 2.97s\tremaining: 11.9s\n",
      "4:\tlearn: 0.5234478\ttest: 0.6550929\tbest: 0.6550929 (4)\ttotal: 13.2s\tremaining: 0us\n",
      "\n",
      "bestTest = 0.65509294\n",
      "bestIteration = 4\n",
      "\n",
      "0:\tlearn: 0.6260522\ttest: 0.6842534\tbest: 0.6842534 (0)\ttotal: 2.68s\tremaining: 10.7s\n",
      "4:\tlearn: 0.5173741\ttest: 0.6593695\tbest: 0.6593695 (4)\ttotal: 12.8s\tremaining: 0us\n",
      "\n",
      "bestTest = 0.6593695167\n",
      "bestIteration = 4\n",
      "\n",
      "0:\tlearn: 0.6266480\ttest: 0.6791215\tbest: 0.6791215 (0)\ttotal: 2.71s\tremaining: 10.9s\n"
     ]
    },
    {
     "name": "stderr",
     "output_type": "stream",
     "text": [
      "2022-03-30 12:37:15 mean cv_value 0.015573960560222358 | std cv_value 0.00429745536419618 \n",
      "2022-03-30 12:37:15 ---------------------------------------------\n"
     ]
    },
    {
     "name": "stdout",
     "output_type": "stream",
     "text": [
      "4:\tlearn: 0.5258972\ttest: 0.6533900\tbest: 0.6533900 (4)\ttotal: 13.2s\tremaining: 0us\n",
      "\n",
      "bestTest = 0.6533899818\n",
      "bestIteration = 4\n",
      "\n"
     ]
    },
    {
     "name": "stderr",
     "output_type": "stream",
     "text": [
      "2022-03-30 12:37:17 [TRAIN_MODEL] Training model\n",
      "2022-03-30 12:37:17 Set of params....., {'depth': 3, 'iterations': 200, 'learning_rate': 0.08709849488434074, 'colsample_bylevel': 1.0}\n"
     ]
    },
    {
     "name": "stdout",
     "output_type": "stream",
     "text": [
      "Iteration No: 64 ended. Search finished for the next optimal point.\n",
      "Time taken: 41.2336\n",
      "Function value obtained: -0.0156\n",
      "Current minimum: -0.0653\n",
      "Iteration No: 65 started. Searching for the next optimal point.\n",
      "0:\tlearn: 0.6926809\ttest: 0.6920734\tbest: 0.6920734 (0)\ttotal: 9.85ms\tremaining: 1.96s\n",
      "25:\tlearn: 0.6896412\ttest: 0.6834789\tbest: 0.6834789 (25)\ttotal: 190ms\tremaining: 1.27s\n",
      "50:\tlearn: 0.6888838\ttest: 0.6820396\tbest: 0.6820396 (50)\ttotal: 371ms\tremaining: 1.08s\n",
      "75:\tlearn: 0.6883004\ttest: 0.6811327\tbest: 0.6811327 (75)\ttotal: 553ms\tremaining: 902ms\n",
      "100:\tlearn: 0.6878401\ttest: 0.6805936\tbest: 0.6805936 (100)\ttotal: 734ms\tremaining: 719ms\n",
      "125:\tlearn: 0.6873734\ttest: 0.6802161\tbest: 0.6802161 (125)\ttotal: 914ms\tremaining: 537ms\n",
      "150:\tlearn: 0.6869321\ttest: 0.6798614\tbest: 0.6798614 (150)\ttotal: 1.1s\tremaining: 358ms\n",
      "175:\tlearn: 0.6865104\ttest: 0.6796149\tbest: 0.6796149 (175)\ttotal: 1.29s\tremaining: 176ms\n",
      "199:\tlearn: 0.6861213\ttest: 0.6793376\tbest: 0.6793376 (199)\ttotal: 1.46s\tremaining: 0us\n",
      "\n",
      "bestTest = 0.6793375781\n",
      "bestIteration = 199\n",
      "\n",
      "0:\tlearn: 0.6927099\ttest: 0.6921658\tbest: 0.6921658 (0)\ttotal: 9.73ms\tremaining: 1.94s\n",
      "25:\tlearn: 0.6898534\ttest: 0.6837628\tbest: 0.6837628 (25)\ttotal: 201ms\tremaining: 1.35s\n",
      "50:\tlearn: 0.6891330\ttest: 0.6821174\tbest: 0.6821174 (50)\ttotal: 380ms\tremaining: 1.11s\n",
      "75:\tlearn: 0.6886269\ttest: 0.6814422\tbest: 0.6814422 (75)\ttotal: 563ms\tremaining: 919ms\n",
      "100:\tlearn: 0.6881348\ttest: 0.6809010\tbest: 0.6809010 (100)\ttotal: 746ms\tremaining: 731ms\n",
      "125:\tlearn: 0.6876663\ttest: 0.6805651\tbest: 0.6805651 (125)\ttotal: 930ms\tremaining: 546ms\n",
      "150:\tlearn: 0.6872378\ttest: 0.6803152\tbest: 0.6803152 (150)\ttotal: 1.11s\tremaining: 361ms\n",
      "175:\tlearn: 0.6868133\ttest: 0.6800796\tbest: 0.6800796 (175)\ttotal: 1.3s\tremaining: 177ms\n",
      "199:\tlearn: 0.6864328\ttest: 0.6797525\tbest: 0.6797525 (199)\ttotal: 1.47s\tremaining: 0us\n",
      "\n",
      "bestTest = 0.6797524694\n",
      "bestIteration = 199\n",
      "\n",
      "0:\tlearn: 0.6927432\ttest: 0.6921256\tbest: 0.6921256 (0)\ttotal: 9.57ms\tremaining: 1.9s\n",
      "25:\tlearn: 0.6898413\ttest: 0.6838565\tbest: 0.6838565 (25)\ttotal: 191ms\tremaining: 1.28s\n",
      "50:\tlearn: 0.6891333\ttest: 0.6822886\tbest: 0.6822886 (50)\ttotal: 360ms\tremaining: 1.05s\n",
      "75:\tlearn: 0.6886388\ttest: 0.6816070\tbest: 0.6816070 (75)\ttotal: 536ms\tremaining: 874ms\n",
      "100:\tlearn: 0.6881865\ttest: 0.6810973\tbest: 0.6810973 (100)\ttotal: 716ms\tremaining: 702ms\n",
      "125:\tlearn: 0.6877469\ttest: 0.6807093\tbest: 0.6807093 (125)\ttotal: 890ms\tremaining: 523ms\n",
      "150:\tlearn: 0.6873592\ttest: 0.6804110\tbest: 0.6804110 (150)\ttotal: 1.06s\tremaining: 344ms\n",
      "175:\tlearn: 0.6869188\ttest: 0.6800365\tbest: 0.6800365 (175)\ttotal: 1.24s\tremaining: 169ms\n"
     ]
    },
    {
     "name": "stderr",
     "output_type": "stream",
     "text": [
      "2022-03-30 12:37:22 mean cv_value 0.06484631194956554 | std cv_value 0.004918367550754544 \n",
      "2022-03-30 12:37:22 ---------------------------------------------\n"
     ]
    },
    {
     "name": "stdout",
     "output_type": "stream",
     "text": [
      "199:\tlearn: 0.6865476\ttest: 0.6797208\tbest: 0.6797208 (199)\ttotal: 1.4s\tremaining: 0us\n",
      "\n",
      "bestTest = 0.6797208315\n",
      "bestIteration = 199\n",
      "\n"
     ]
    },
    {
     "name": "stderr",
     "output_type": "stream",
     "text": [
      "2022-03-30 12:37:23 [TRAIN_MODEL] Training model\n",
      "2022-03-30 12:37:23 Set of params....., {'depth': 5, 'iterations': 200, 'learning_rate': 0.02369131507816371, 'colsample_bylevel': 0.5134909357773775}\n"
     ]
    },
    {
     "name": "stdout",
     "output_type": "stream",
     "text": [
      "Iteration No: 65 ended. Search finished for the next optimal point.\n",
      "Time taken: 6.2332\n",
      "Function value obtained: -0.0648\n",
      "Current minimum: -0.0653\n",
      "Iteration No: 66 started. Searching for the next optimal point.\n",
      "0:\tlearn: 0.6930075\ttest: 0.6928509\tbest: 0.6928509 (0)\ttotal: 14.9ms\tremaining: 2.97s\n",
      "25:\tlearn: 0.6906234\ttest: 0.6872431\tbest: 0.6872431 (25)\ttotal: 284ms\tremaining: 1.9s\n",
      "50:\tlearn: 0.6895037\ttest: 0.6844835\tbest: 0.6844835 (50)\ttotal: 556ms\tremaining: 1.62s\n",
      "75:\tlearn: 0.6888034\ttest: 0.6829314\tbest: 0.6829314 (75)\ttotal: 827ms\tremaining: 1.35s\n",
      "100:\tlearn: 0.6882538\ttest: 0.6819430\tbest: 0.6819430 (100)\ttotal: 1.1s\tremaining: 1.08s\n",
      "125:\tlearn: 0.6877723\ttest: 0.6811926\tbest: 0.6811926 (125)\ttotal: 1.38s\tremaining: 811ms\n",
      "150:\tlearn: 0.6873269\ttest: 0.6806701\tbest: 0.6806701 (150)\ttotal: 1.66s\tremaining: 539ms\n",
      "175:\tlearn: 0.6869111\ttest: 0.6802239\tbest: 0.6802239 (175)\ttotal: 1.95s\tremaining: 266ms\n",
      "199:\tlearn: 0.6865289\ttest: 0.6798933\tbest: 0.6798933 (199)\ttotal: 2.22s\tremaining: 0us\n",
      "\n",
      "bestTest = 0.6798932957\n",
      "bestIteration = 199\n",
      "\n",
      "0:\tlearn: 0.6930080\ttest: 0.6928449\tbest: 0.6928449 (0)\ttotal: 11.3ms\tremaining: 2.25s\n",
      "25:\tlearn: 0.6907478\ttest: 0.6875363\tbest: 0.6875363 (25)\ttotal: 283ms\tremaining: 1.89s\n",
      "50:\tlearn: 0.6896626\ttest: 0.6847400\tbest: 0.6847400 (50)\ttotal: 547ms\tremaining: 1.6s\n",
      "75:\tlearn: 0.6889653\ttest: 0.6831761\tbest: 0.6831761 (75)\ttotal: 821ms\tremaining: 1.34s\n",
      "100:\tlearn: 0.6884234\ttest: 0.6821858\tbest: 0.6821858 (100)\ttotal: 1.1s\tremaining: 1.08s\n",
      "125:\tlearn: 0.6879657\ttest: 0.6815210\tbest: 0.6815210 (125)\ttotal: 1.39s\tremaining: 817ms\n",
      "150:\tlearn: 0.6875460\ttest: 0.6810134\tbest: 0.6810134 (150)\ttotal: 1.67s\tremaining: 543ms\n",
      "175:\tlearn: 0.6871361\ttest: 0.6805875\tbest: 0.6805875 (175)\ttotal: 1.96s\tremaining: 267ms\n",
      "199:\tlearn: 0.6867582\ttest: 0.6802028\tbest: 0.6802028 (199)\ttotal: 2.23s\tremaining: 0us\n",
      "\n",
      "bestTest = 0.6802027861\n",
      "bestIteration = 199\n",
      "\n",
      "0:\tlearn: 0.6930083\ttest: 0.6928445\tbest: 0.6928445 (0)\ttotal: 12.9ms\tremaining: 2.56s\n",
      "25:\tlearn: 0.6908110\ttest: 0.6875016\tbest: 0.6875016 (25)\ttotal: 278ms\tremaining: 1.86s\n",
      "50:\tlearn: 0.6897751\ttest: 0.6848306\tbest: 0.6848306 (50)\ttotal: 540ms\tremaining: 1.58s\n",
      "75:\tlearn: 0.6891188\ttest: 0.6833415\tbest: 0.6833415 (75)\ttotal: 810ms\tremaining: 1.32s\n",
      "100:\tlearn: 0.6885665\ttest: 0.6823629\tbest: 0.6823629 (100)\ttotal: 1.09s\tremaining: 1.06s\n",
      "125:\tlearn: 0.6881025\ttest: 0.6816946\tbest: 0.6816946 (125)\ttotal: 1.38s\tremaining: 808ms\n",
      "150:\tlearn: 0.6876838\ttest: 0.6811926\tbest: 0.6811926 (150)\ttotal: 1.66s\tremaining: 539ms\n",
      "175:\tlearn: 0.6872707\ttest: 0.6808131\tbest: 0.6808131 (175)\ttotal: 1.94s\tremaining: 264ms\n"
     ]
    },
    {
     "name": "stderr",
     "output_type": "stream",
     "text": [
      "2022-03-30 12:37:30 mean cv_value 0.06242546688241 | std cv_value 0.006397569497821555 \n",
      "2022-03-30 12:37:30 ---------------------------------------------\n"
     ]
    },
    {
     "name": "stdout",
     "output_type": "stream",
     "text": [
      "199:\tlearn: 0.6869021\ttest: 0.6804192\tbest: 0.6804192 (199)\ttotal: 2.21s\tremaining: 0us\n",
      "\n",
      "bestTest = 0.6804191624\n",
      "bestIteration = 199\n",
      "\n"
     ]
    },
    {
     "name": "stderr",
     "output_type": "stream",
     "text": [
      "2022-03-30 12:37:32 [TRAIN_MODEL] Training model\n",
      "2022-03-30 12:37:32 Set of params....., {'depth': 3, 'iterations': 165, 'learning_rate': 0.11438840402258858, 'colsample_bylevel': 1.0}\n"
     ]
    },
    {
     "name": "stdout",
     "output_type": "stream",
     "text": [
      "Iteration No: 66 ended. Search finished for the next optimal point.\n",
      "Time taken: 8.6308\n",
      "Function value obtained: -0.0624\n",
      "Current minimum: -0.0653\n",
      "Iteration No: 67 started. Searching for the next optimal point.\n",
      "0:\tlearn: 0.6925381\ttest: 0.6917461\tbest: 0.6917461 (0)\ttotal: 12.4ms\tremaining: 2.04s\n",
      "25:\tlearn: 0.6893319\ttest: 0.6827873\tbest: 0.6827873 (25)\ttotal: 197ms\tremaining: 1.05s\n",
      "50:\tlearn: 0.6885048\ttest: 0.6814679\tbest: 0.6814679 (50)\ttotal: 380ms\tremaining: 850ms\n",
      "75:\tlearn: 0.6878331\ttest: 0.6807040\tbest: 0.6807040 (75)\ttotal: 557ms\tremaining: 652ms\n",
      "100:\tlearn: 0.6873060\ttest: 0.6802914\tbest: 0.6802914 (100)\ttotal: 733ms\tremaining: 465ms\n",
      "125:\tlearn: 0.6867348\ttest: 0.6798696\tbest: 0.6798696 (125)\ttotal: 912ms\tremaining: 282ms\n",
      "150:\tlearn: 0.6861444\ttest: 0.6794507\tbest: 0.6794507 (150)\ttotal: 1.08s\tremaining: 100ms\n",
      "164:\tlearn: 0.6858457\ttest: 0.6792574\tbest: 0.6792574 (164)\ttotal: 1.18s\tremaining: 0us\n",
      "\n",
      "bestTest = 0.6792573724\n",
      "bestIteration = 164\n",
      "\n",
      "0:\tlearn: 0.6925963\ttest: 0.6918666\tbest: 0.6918666 (0)\ttotal: 9.66ms\tremaining: 1.58s\n",
      "25:\tlearn: 0.6895423\ttest: 0.6829212\tbest: 0.6829212 (25)\ttotal: 187ms\tremaining: 999ms\n",
      "50:\tlearn: 0.6887771\ttest: 0.6816716\tbest: 0.6816716 (50)\ttotal: 355ms\tremaining: 794ms\n",
      "75:\tlearn: 0.6881517\ttest: 0.6810778\tbest: 0.6810778 (75)\ttotal: 528ms\tremaining: 618ms\n",
      "100:\tlearn: 0.6875269\ttest: 0.6806362\tbest: 0.6806362 (100)\ttotal: 705ms\tremaining: 447ms\n",
      "125:\tlearn: 0.6869550\ttest: 0.6802412\tbest: 0.6802412 (125)\ttotal: 886ms\tremaining: 274ms\n",
      "150:\tlearn: 0.6864189\ttest: 0.6799605\tbest: 0.6799605 (150)\ttotal: 1.06s\tremaining: 98.8ms\n",
      "164:\tlearn: 0.6861198\ttest: 0.6797215\tbest: 0.6797215 (164)\ttotal: 1.16s\tremaining: 0us\n",
      "\n",
      "bestTest = 0.6797214655\n",
      "bestIteration = 164\n",
      "\n",
      "0:\tlearn: 0.6926121\ttest: 0.6918137\tbest: 0.6918137 (0)\ttotal: 10.6ms\tremaining: 1.75s\n",
      "25:\tlearn: 0.6895519\ttest: 0.6831042\tbest: 0.6831042 (25)\ttotal: 196ms\tremaining: 1.05s\n",
      "50:\tlearn: 0.6887928\ttest: 0.6818042\tbest: 0.6818042 (50)\ttotal: 368ms\tremaining: 822ms\n",
      "75:\tlearn: 0.6881879\ttest: 0.6810594\tbest: 0.6810594 (75)\ttotal: 540ms\tremaining: 633ms\n",
      "100:\tlearn: 0.6876599\ttest: 0.6806980\tbest: 0.6806980 (100)\ttotal: 712ms\tremaining: 451ms\n",
      "125:\tlearn: 0.6870965\ttest: 0.6802368\tbest: 0.6802368 (125)\ttotal: 891ms\tremaining: 276ms\n"
     ]
    },
    {
     "name": "stderr",
     "output_type": "stream",
     "text": [
      "2022-03-30 12:37:36 mean cv_value 0.05661505363664515 | std cv_value 0.008540946876856192 \n",
      "2022-03-30 12:37:36 ---------------------------------------------\n"
     ]
    },
    {
     "name": "stdout",
     "output_type": "stream",
     "text": [
      "150:\tlearn: 0.6865569\ttest: 0.6798717\tbest: 0.6798717 (150)\ttotal: 1.07s\tremaining: 99.7ms\n",
      "164:\tlearn: 0.6862811\ttest: 0.6797283\tbest: 0.6797283 (164)\ttotal: 1.18s\tremaining: 0us\n",
      "\n",
      "bestTest = 0.679728313\n",
      "bestIteration = 164\n",
      "\n"
     ]
    },
    {
     "name": "stderr",
     "output_type": "stream",
     "text": [
      "2022-03-30 12:37:37 [TRAIN_MODEL] Training model\n",
      "2022-03-30 12:37:37 Set of params....., {'depth': 8, 'iterations': 194, 'learning_rate': 0.011921183532015581, 'colsample_bylevel': 0.5951119372172843}\n"
     ]
    },
    {
     "name": "stdout",
     "output_type": "stream",
     "text": [
      "Iteration No: 67 ended. Search finished for the next optimal point.\n",
      "Time taken: 5.4289\n",
      "Function value obtained: -0.0566\n",
      "Current minimum: -0.0653\n",
      "Iteration No: 68 started. Searching for the next optimal point.\n",
      "0:\tlearn: 0.6930222\ttest: 0.6929445\tbest: 0.6929445 (0)\ttotal: 25.3ms\tremaining: 4.89s\n",
      "25:\tlearn: 0.6904942\ttest: 0.6888254\tbest: 0.6888254 (25)\ttotal: 610ms\tremaining: 3.94s\n",
      "50:\tlearn: 0.6886597\ttest: 0.6859030\tbest: 0.6859030 (50)\ttotal: 1.18s\tremaining: 3.32s\n",
      "75:\tlearn: 0.6871200\ttest: 0.6836874\tbest: 0.6836874 (75)\ttotal: 1.76s\tremaining: 2.73s\n",
      "100:\tlearn: 0.6857844\ttest: 0.6819574\tbest: 0.6819574 (100)\ttotal: 2.34s\tremaining: 2.15s\n",
      "125:\tlearn: 0.6847119\ttest: 0.6806605\tbest: 0.6806605 (125)\ttotal: 2.9s\tremaining: 1.57s\n",
      "150:\tlearn: 0.6836264\ttest: 0.6795229\tbest: 0.6795229 (150)\ttotal: 3.48s\tremaining: 991ms\n",
      "175:\tlearn: 0.6826739\ttest: 0.6785755\tbest: 0.6785755 (175)\ttotal: 4.04s\tremaining: 413ms\n",
      "193:\tlearn: 0.6820379\ttest: 0.6780374\tbest: 0.6780374 (193)\ttotal: 4.45s\tremaining: 0us\n",
      "\n",
      "bestTest = 0.6780373741\n",
      "bestIteration = 193\n",
      "\n",
      "0:\tlearn: 0.6930383\ttest: 0.6929568\tbest: 0.6929568 (0)\ttotal: 24.1ms\tremaining: 4.66s\n",
      "25:\tlearn: 0.6905084\ttest: 0.6889298\tbest: 0.6889298 (25)\ttotal: 605ms\tremaining: 3.91s\n",
      "50:\tlearn: 0.6886551\ttest: 0.6860053\tbest: 0.6860053 (50)\ttotal: 1.18s\tremaining: 3.31s\n",
      "75:\tlearn: 0.6871048\ttest: 0.6837989\tbest: 0.6837989 (75)\ttotal: 1.75s\tremaining: 2.71s\n",
      "100:\tlearn: 0.6857302\ttest: 0.6820441\tbest: 0.6820441 (100)\ttotal: 2.31s\tremaining: 2.13s\n",
      "125:\tlearn: 0.6845344\ttest: 0.6807037\tbest: 0.6807037 (125)\ttotal: 2.88s\tremaining: 1.55s\n",
      "150:\tlearn: 0.6833669\ttest: 0.6795448\tbest: 0.6795448 (150)\ttotal: 3.44s\tremaining: 981ms\n",
      "175:\tlearn: 0.6823751\ttest: 0.6786056\tbest: 0.6786056 (175)\ttotal: 4s\tremaining: 410ms\n",
      "193:\tlearn: 0.6816997\ttest: 0.6780365\tbest: 0.6780365 (193)\ttotal: 4.41s\tremaining: 0us\n",
      "\n",
      "bestTest = 0.6780364755\n",
      "bestIteration = 193\n",
      "\n",
      "0:\tlearn: 0.6930248\ttest: 0.6929486\tbest: 0.6929486 (0)\ttotal: 25.8ms\tremaining: 4.97s\n",
      "25:\tlearn: 0.6906177\ttest: 0.6889638\tbest: 0.6889638 (25)\ttotal: 606ms\tremaining: 3.92s\n",
      "50:\tlearn: 0.6888063\ttest: 0.6860844\tbest: 0.6860844 (50)\ttotal: 1.18s\tremaining: 3.3s\n",
      "75:\tlearn: 0.6873283\ttest: 0.6839705\tbest: 0.6839705 (75)\ttotal: 1.76s\tremaining: 2.73s\n",
      "100:\tlearn: 0.6860240\ttest: 0.6823017\tbest: 0.6823017 (100)\ttotal: 2.33s\tremaining: 2.15s\n",
      "125:\tlearn: 0.6848536\ttest: 0.6809567\tbest: 0.6809567 (125)\ttotal: 2.9s\tremaining: 1.57s\n",
      "150:\tlearn: 0.6837083\ttest: 0.6797902\tbest: 0.6797902 (150)\ttotal: 3.48s\tremaining: 990ms\n",
      "175:\tlearn: 0.6826215\ttest: 0.6787982\tbest: 0.6787982 (175)\ttotal: 4.05s\tremaining: 414ms\n"
     ]
    },
    {
     "name": "stderr",
     "output_type": "stream",
     "text": [
      "2022-03-30 12:37:51 mean cv_value 0.06546191803329156 | std cv_value 0.010193768925124615 \n",
      "2022-03-30 12:37:51 ---------------------------------------------\n"
     ]
    },
    {
     "name": "stdout",
     "output_type": "stream",
     "text": [
      "193:\tlearn: 0.6818949\ttest: 0.6781962\tbest: 0.6781962 (193)\ttotal: 4.46s\tremaining: 0us\n",
      "\n",
      "bestTest = 0.678196229\n",
      "bestIteration = 193\n",
      "\n"
     ]
    },
    {
     "name": "stderr",
     "output_type": "stream",
     "text": [
      "2022-03-30 12:37:52 [TRAIN_MODEL] Training model\n",
      "2022-03-30 12:37:52 Set of params....., {'depth': 10, 'iterations': 5, 'learning_rate': 0.045149615120853435, 'colsample_bylevel': 0.6276957781111706}\n"
     ]
    },
    {
     "name": "stdout",
     "output_type": "stream",
     "text": [
      "Iteration No: 68 ended. Search finished for the next optimal point.\n",
      "Time taken: 15.2297\n",
      "Function value obtained: -0.0655\n",
      "Current minimum: -0.0655\n",
      "Iteration No: 69 started. Searching for the next optimal point.\n",
      "0:\tlearn: 0.6922993\ttest: 0.6921503\tbest: 0.6921503 (0)\ttotal: 63.9ms\tremaining: 256ms\n",
      "4:\tlearn: 0.6892988\ttest: 0.6887989\tbest: 0.6887989 (4)\ttotal: 237ms\tremaining: 0us\n",
      "\n",
      "bestTest = 0.6887989473\n",
      "bestIteration = 4\n",
      "\n",
      "0:\tlearn: 0.6923705\ttest: 0.6921938\tbest: 0.6921938 (0)\ttotal: 57.2ms\tremaining: 229ms\n",
      "4:\tlearn: 0.6892850\ttest: 0.6886928\tbest: 0.6886928 (4)\ttotal: 231ms\tremaining: 0us\n",
      "\n",
      "bestTest = 0.6886927976\n",
      "bestIteration = 4\n",
      "\n",
      "0:\tlearn: 0.6923300\ttest: 0.6922158\tbest: 0.6922158 (0)\ttotal: 48.9ms\tremaining: 195ms\n",
      "4:\tlearn: 0.6892692\ttest: 0.6887317\tbest: 0.6887317 (4)\ttotal: 217ms\tremaining: 0us\n",
      "\n",
      "bestTest = 0.6887317266\n",
      "bestIteration = 4\n",
      "\n"
     ]
    },
    {
     "name": "stderr",
     "output_type": "stream",
     "text": [
      "2022-03-30 12:37:54 mean cv_value 0.053362167880726286 | std cv_value 0.0012091254601277013 \n",
      "2022-03-30 12:37:54 ---------------------------------------------\n",
      "2022-03-30 12:37:55 [TRAIN_MODEL] Training model\n",
      "2022-03-30 12:37:55 Set of params....., {'depth': 9, 'iterations': 5, 'learning_rate': 0.003583517600507744, 'colsample_bylevel': 0.9476306936989031}\n"
     ]
    },
    {
     "name": "stdout",
     "output_type": "stream",
     "text": [
      "Iteration No: 69 ended. Search finished for the next optimal point.\n",
      "Time taken: 2.6792\n",
      "Function value obtained: -0.0534\n",
      "Current minimum: -0.0655\n",
      "Iteration No: 70 started. Searching for the next optimal point.\n",
      "0:\tlearn: 0.6930972\ttest: 0.6930820\tbest: 0.6930820 (0)\ttotal: 31.4ms\tremaining: 126ms\n",
      "4:\tlearn: 0.6929081\ttest: 0.6928219\tbest: 0.6928219 (4)\ttotal: 154ms\tremaining: 0us\n",
      "\n",
      "bestTest = 0.6928218994\n",
      "bestIteration = 4\n",
      "\n",
      "0:\tlearn: 0.6930971\ttest: 0.6930785\tbest: 0.6930785 (0)\ttotal: 31.2ms\tremaining: 125ms\n",
      "4:\tlearn: 0.6929009\ttest: 0.6928143\tbest: 0.6928143 (4)\ttotal: 158ms\tremaining: 0us\n",
      "\n",
      "bestTest = 0.692814282\n",
      "bestIteration = 4\n",
      "\n",
      "0:\tlearn: 0.6930965\ttest: 0.6930816\tbest: 0.6930816 (0)\ttotal: 31.6ms\tremaining: 126ms\n",
      "4:\tlearn: 0.6929076\ttest: 0.6928171\tbest: 0.6928171 (4)\ttotal: 166ms\tremaining: 0us\n",
      "\n",
      "bestTest = 0.6928170811\n",
      "bestIteration = 4\n",
      "\n"
     ]
    },
    {
     "name": "stderr",
     "output_type": "stream",
     "text": [
      "2022-03-30 12:37:56 mean cv_value 0.05283251666734382 | std cv_value 0.0008172249108142631 \n",
      "2022-03-30 12:37:56 ---------------------------------------------\n",
      "2022-03-30 12:37:57 [TRAIN_MODEL] Training model\n",
      "2022-03-30 12:37:57 Set of params....., {'depth': 12, 'iterations': 6, 'learning_rate': 0.01038527829422561, 'colsample_bylevel': 0.5604764485019531}\n"
     ]
    },
    {
     "name": "stdout",
     "output_type": "stream",
     "text": [
      "Iteration No: 70 ended. Search finished for the next optimal point.\n",
      "Time taken: 2.4171\n",
      "Function value obtained: -0.0528\n",
      "Current minimum: -0.0655\n",
      "Iteration No: 71 started. Searching for the next optimal point.\n",
      "0:\tlearn: 0.6927129\ttest: 0.6927896\tbest: 0.6927896 (0)\ttotal: 121ms\tremaining: 606ms\n",
      "5:\tlearn: 0.6908080\ttest: 0.6912202\tbest: 0.6912202 (5)\ttotal: 646ms\tremaining: 0us\n",
      "\n",
      "bestTest = 0.6912202183\n",
      "bestIteration = 5\n",
      "\n",
      "0:\tlearn: 0.6927281\ttest: 0.6927589\tbest: 0.6927589 (0)\ttotal: 98.4ms\tremaining: 492ms\n",
      "5:\tlearn: 0.6906663\ttest: 0.6910319\tbest: 0.6910319 (5)\ttotal: 590ms\tremaining: 0us\n",
      "\n",
      "bestTest = 0.6910318922\n",
      "bestIteration = 5\n",
      "\n",
      "0:\tlearn: 0.6927341\ttest: 0.6928081\tbest: 0.6928081 (0)\ttotal: 107ms\tremaining: 534ms\n"
     ]
    },
    {
     "name": "stderr",
     "output_type": "stream",
     "text": [
      "2022-03-30 12:38:00 mean cv_value 0.04091629278950888 | std cv_value 0.01264236284672553 \n",
      "2022-03-30 12:38:00 ---------------------------------------------\n"
     ]
    },
    {
     "name": "stdout",
     "output_type": "stream",
     "text": [
      "5:\tlearn: 0.6906362\ttest: 0.6911089\tbest: 0.6911089 (5)\ttotal: 597ms\tremaining: 0us\n",
      "\n",
      "bestTest = 0.6911089105\n",
      "bestIteration = 5\n",
      "\n"
     ]
    },
    {
     "name": "stderr",
     "output_type": "stream",
     "text": [
      "2022-03-30 12:38:01 [TRAIN_MODEL] Training model\n",
      "2022-03-30 12:38:01 Set of params....., {'depth': 7, 'iterations': 5, 'learning_rate': 0.02205286848711618, 'colsample_bylevel': 0.8357396584930366}\n"
     ]
    },
    {
     "name": "stdout",
     "output_type": "stream",
     "text": [
      "Iteration No: 71 ended. Search finished for the next optimal point.\n",
      "Time taken: 3.8427\n",
      "Function value obtained: -0.0409\n",
      "Current minimum: -0.0655\n",
      "Iteration No: 72 started. Searching for the next optimal point.\n",
      "0:\tlearn: 0.6929555\ttest: 0.6927921\tbest: 0.6927921 (0)\ttotal: 27.3ms\tremaining: 109ms\n",
      "4:\tlearn: 0.6922683\ttest: 0.6915414\tbest: 0.6915414 (4)\ttotal: 100ms\tremaining: 0us\n",
      "\n",
      "bestTest = 0.6915413584\n",
      "bestIteration = 4\n",
      "\n",
      "0:\tlearn: 0.6929566\ttest: 0.6928152\tbest: 0.6928152 (0)\ttotal: 18.5ms\tremaining: 74ms\n",
      "4:\tlearn: 0.6922849\ttest: 0.6915905\tbest: 0.6915905 (4)\ttotal: 88.5ms\tremaining: 0us\n",
      "\n",
      "bestTest = 0.691590496\n",
      "bestIteration = 4\n",
      "\n"
     ]
    },
    {
     "name": "stderr",
     "output_type": "stream",
     "text": [
      "2022-03-30 12:38:02 mean cv_value 0.04869563674906483 | std cv_value 0.0034989076987623656 \n",
      "2022-03-30 12:38:02 ---------------------------------------------\n"
     ]
    },
    {
     "name": "stdout",
     "output_type": "stream",
     "text": [
      "0:\tlearn: 0.6929694\ttest: 0.6928086\tbest: 0.6928086 (0)\ttotal: 18.6ms\tremaining: 74.3ms\n",
      "4:\tlearn: 0.6923277\ttest: 0.6915821\tbest: 0.6915821 (4)\ttotal: 88.5ms\tremaining: 0us\n",
      "\n",
      "bestTest = 0.6915821398\n",
      "bestIteration = 4\n",
      "\n"
     ]
    },
    {
     "name": "stderr",
     "output_type": "stream",
     "text": [
      "2022-03-30 12:38:03 [TRAIN_MODEL] Training model\n",
      "2022-03-30 12:38:03 Set of params....., {'depth': 4, 'iterations': 200, 'learning_rate': 0.05013117448453659, 'colsample_bylevel': 0.6597692677800489}\n"
     ]
    },
    {
     "name": "stdout",
     "output_type": "stream",
     "text": [
      "Iteration No: 72 ended. Search finished for the next optimal point.\n",
      "Time taken: 2.1954\n",
      "Function value obtained: -0.0487\n",
      "Current minimum: -0.0655\n",
      "Iteration No: 73 started. Searching for the next optimal point.\n",
      "0:\tlearn: 0.6928459\ttest: 0.6924923\tbest: 0.6924923 (0)\ttotal: 11.4ms\tremaining: 2.27s\n",
      "25:\tlearn: 0.6898757\ttest: 0.6847121\tbest: 0.6847121 (25)\ttotal: 235ms\tremaining: 1.57s\n",
      "50:\tlearn: 0.6889685\ttest: 0.6825189\tbest: 0.6825189 (50)\ttotal: 463ms\tremaining: 1.35s\n",
      "75:\tlearn: 0.6883298\ttest: 0.6814765\tbest: 0.6814765 (75)\ttotal: 695ms\tremaining: 1.13s\n",
      "100:\tlearn: 0.6877951\ttest: 0.6808567\tbest: 0.6808567 (100)\ttotal: 930ms\tremaining: 911ms\n",
      "125:\tlearn: 0.6872628\ttest: 0.6803173\tbest: 0.6803173 (125)\ttotal: 1.17s\tremaining: 686ms\n",
      "150:\tlearn: 0.6867676\ttest: 0.6799328\tbest: 0.6799328 (150)\ttotal: 1.41s\tremaining: 458ms\n",
      "175:\tlearn: 0.6862918\ttest: 0.6795885\tbest: 0.6795885 (175)\ttotal: 1.65s\tremaining: 225ms\n",
      "199:\tlearn: 0.6858581\ttest: 0.6792431\tbest: 0.6792431 (199)\ttotal: 1.89s\tremaining: 0us\n",
      "\n",
      "bestTest = 0.6792430899\n",
      "bestIteration = 199\n",
      "\n",
      "0:\tlearn: 0.6928573\ttest: 0.6925300\tbest: 0.6925300 (0)\ttotal: 11.5ms\tremaining: 2.29s\n",
      "25:\tlearn: 0.6899948\ttest: 0.6849372\tbest: 0.6849372 (25)\ttotal: 235ms\tremaining: 1.57s\n",
      "50:\tlearn: 0.6891158\ttest: 0.6827597\tbest: 0.6827597 (50)\ttotal: 459ms\tremaining: 1.34s\n",
      "75:\tlearn: 0.6884601\ttest: 0.6818430\tbest: 0.6818430 (75)\ttotal: 687ms\tremaining: 1.12s\n",
      "100:\tlearn: 0.6879259\ttest: 0.6811644\tbest: 0.6811644 (100)\ttotal: 920ms\tremaining: 902ms\n",
      "125:\tlearn: 0.6874048\ttest: 0.6806926\tbest: 0.6806926 (125)\ttotal: 1.16s\tremaining: 680ms\n",
      "150:\tlearn: 0.6869379\ttest: 0.6802692\tbest: 0.6802692 (150)\ttotal: 1.39s\tremaining: 452ms\n",
      "175:\tlearn: 0.6864279\ttest: 0.6798680\tbest: 0.6798680 (175)\ttotal: 1.63s\tremaining: 222ms\n",
      "199:\tlearn: 0.6860269\ttest: 0.6795560\tbest: 0.6795560 (199)\ttotal: 1.85s\tremaining: 0us\n",
      "\n",
      "bestTest = 0.6795559959\n",
      "bestIteration = 199\n",
      "\n",
      "0:\tlearn: 0.6928718\ttest: 0.6925065\tbest: 0.6925065 (0)\ttotal: 10.7ms\tremaining: 2.14s\n",
      "25:\tlearn: 0.6900809\ttest: 0.6850832\tbest: 0.6850832 (25)\ttotal: 239ms\tremaining: 1.6s\n",
      "50:\tlearn: 0.6891739\ttest: 0.6828364\tbest: 0.6828364 (50)\ttotal: 464ms\tremaining: 1.35s\n",
      "75:\tlearn: 0.6886080\ttest: 0.6819008\tbest: 0.6819008 (75)\ttotal: 694ms\tremaining: 1.13s\n",
      "100:\tlearn: 0.6880654\ttest: 0.6812802\tbest: 0.6812802 (100)\ttotal: 934ms\tremaining: 915ms\n",
      "125:\tlearn: 0.6875601\ttest: 0.6806901\tbest: 0.6806901 (125)\ttotal: 1.17s\tremaining: 686ms\n",
      "150:\tlearn: 0.6871045\ttest: 0.6803524\tbest: 0.6803524 (150)\ttotal: 1.41s\tremaining: 458ms\n",
      "175:\tlearn: 0.6866329\ttest: 0.6799718\tbest: 0.6799718 (175)\ttotal: 1.65s\tremaining: 225ms\n"
     ]
    },
    {
     "name": "stderr",
     "output_type": "stream",
     "text": [
      "2022-03-30 12:38:10 mean cv_value 0.061773252169236396 | std cv_value 0.011050686671100877 \n",
      "2022-03-30 12:38:10 ---------------------------------------------\n"
     ]
    },
    {
     "name": "stdout",
     "output_type": "stream",
     "text": [
      "199:\tlearn: 0.6861889\ttest: 0.6796351\tbest: 0.6796351 (199)\ttotal: 1.88s\tremaining: 0us\n",
      "\n",
      "bestTest = 0.6796351402\n",
      "bestIteration = 199\n",
      "\n"
     ]
    },
    {
     "name": "stderr",
     "output_type": "stream",
     "text": [
      "2022-03-30 12:38:11 [TRAIN_MODEL] Training model\n",
      "2022-03-30 12:38:11 Set of params....., {'depth': 7, 'iterations': 200, 'learning_rate': 0.08146770754219035, 'colsample_bylevel': 0.5637261252233212}\n"
     ]
    },
    {
     "name": "stdout",
     "output_type": "stream",
     "text": [
      "Iteration No: 73 ended. Search finished for the next optimal point.\n",
      "Time taken: 7.6518\n",
      "Function value obtained: -0.0618\n",
      "Current minimum: -0.0655\n",
      "Iteration No: 74 started. Searching for the next optimal point.\n",
      "0:\tlearn: 0.6924808\ttest: 0.6918761\tbest: 0.6918761 (0)\ttotal: 19.5ms\tremaining: 3.88s\n",
      "25:\tlearn: 0.6855274\ttest: 0.6804542\tbest: 0.6804542 (25)\ttotal: 447ms\tremaining: 2.99s\n",
      "50:\tlearn: 0.6820495\ttest: 0.6776084\tbest: 0.6776084 (50)\ttotal: 855ms\tremaining: 2.5s\n",
      "75:\tlearn: 0.6787910\ttest: 0.6755477\tbest: 0.6755477 (75)\ttotal: 1.26s\tremaining: 2.06s\n",
      "100:\tlearn: 0.6757974\ttest: 0.6738265\tbest: 0.6738265 (100)\ttotal: 1.67s\tremaining: 1.64s\n",
      "125:\tlearn: 0.6727309\ttest: 0.6721899\tbest: 0.6721899 (125)\ttotal: 2.08s\tremaining: 1.22s\n",
      "150:\tlearn: 0.6697044\ttest: 0.6706250\tbest: 0.6706250 (150)\ttotal: 2.49s\tremaining: 809ms\n",
      "175:\tlearn: 0.6669803\ttest: 0.6691924\tbest: 0.6691924 (175)\ttotal: 2.9s\tremaining: 396ms\n",
      "199:\tlearn: 0.6643582\ttest: 0.6678855\tbest: 0.6678855 (199)\ttotal: 3.3s\tremaining: 0us\n",
      "\n",
      "bestTest = 0.6678854522\n",
      "bestIteration = 199\n",
      "\n",
      "0:\tlearn: 0.6925554\ttest: 0.6919422\tbest: 0.6919422 (0)\ttotal: 16.9ms\tremaining: 3.36s\n",
      "25:\tlearn: 0.6856969\ttest: 0.6804995\tbest: 0.6804995 (25)\ttotal: 446ms\tremaining: 2.98s\n",
      "50:\tlearn: 0.6818495\ttest: 0.6775097\tbest: 0.6775097 (50)\ttotal: 859ms\tremaining: 2.51s\n",
      "75:\tlearn: 0.6788778\ttest: 0.6756410\tbest: 0.6756410 (75)\ttotal: 1.26s\tremaining: 2.06s\n",
      "100:\tlearn: 0.6757634\ttest: 0.6737177\tbest: 0.6737177 (100)\ttotal: 1.66s\tremaining: 1.63s\n",
      "125:\tlearn: 0.6726652\ttest: 0.6720102\tbest: 0.6720102 (125)\ttotal: 2.07s\tremaining: 1.22s\n",
      "150:\tlearn: 0.6697391\ttest: 0.6703290\tbest: 0.6703290 (150)\ttotal: 2.48s\tremaining: 805ms\n",
      "175:\tlearn: 0.6673153\ttest: 0.6690883\tbest: 0.6690883 (175)\ttotal: 2.88s\tremaining: 393ms\n",
      "199:\tlearn: 0.6647483\ttest: 0.6678370\tbest: 0.6678370 (199)\ttotal: 3.27s\tremaining: 0us\n",
      "\n",
      "bestTest = 0.6678370284\n",
      "bestIteration = 199\n",
      "\n",
      "0:\tlearn: 0.6925090\ttest: 0.6919341\tbest: 0.6919341 (0)\ttotal: 19.9ms\tremaining: 3.97s\n",
      "25:\tlearn: 0.6857178\ttest: 0.6806131\tbest: 0.6806131 (25)\ttotal: 445ms\tremaining: 2.98s\n",
      "50:\tlearn: 0.6821197\ttest: 0.6775745\tbest: 0.6775745 (50)\ttotal: 852ms\tremaining: 2.49s\n",
      "75:\tlearn: 0.6789431\ttest: 0.6754010\tbest: 0.6754010 (75)\ttotal: 1.26s\tremaining: 2.06s\n",
      "100:\tlearn: 0.6756339\ttest: 0.6735081\tbest: 0.6735081 (100)\ttotal: 1.67s\tremaining: 1.64s\n",
      "125:\tlearn: 0.6726725\ttest: 0.6719570\tbest: 0.6719570 (125)\ttotal: 2.08s\tremaining: 1.22s\n",
      "150:\tlearn: 0.6699079\ttest: 0.6705000\tbest: 0.6705000 (150)\ttotal: 2.49s\tremaining: 807ms\n",
      "175:\tlearn: 0.6673429\ttest: 0.6692454\tbest: 0.6692454 (175)\ttotal: 2.89s\tremaining: 395ms\n"
     ]
    },
    {
     "name": "stderr",
     "output_type": "stream",
     "text": [
      "2022-03-30 12:38:22 mean cv_value 0.052988932323907174 | std cv_value 0.013078363402851392 \n",
      "2022-03-30 12:38:22 ---------------------------------------------\n"
     ]
    },
    {
     "name": "stdout",
     "output_type": "stream",
     "text": [
      "199:\tlearn: 0.6649842\ttest: 0.6680891\tbest: 0.6680891 (199)\ttotal: 3.28s\tremaining: 0us\n",
      "\n",
      "bestTest = 0.6680891467\n",
      "bestIteration = 199\n",
      "\n"
     ]
    },
    {
     "name": "stderr",
     "output_type": "stream",
     "text": [
      "2022-03-30 12:38:23 [TRAIN_MODEL] Training model\n",
      "2022-03-30 12:38:23 Set of params....., {'depth': 9, 'iterations': 135, 'learning_rate': 0.012526008797557322, 'colsample_bylevel': 0.9883770013468953}\n"
     ]
    },
    {
     "name": "stdout",
     "output_type": "stream",
     "text": [
      "Iteration No: 74 ended. Search finished for the next optimal point.\n",
      "Time taken: 11.9110\n",
      "Function value obtained: -0.0530\n",
      "Current minimum: -0.0655\n",
      "Iteration No: 75 started. Searching for the next optimal point.\n",
      "0:\tlearn: 0.6929814\ttest: 0.6929251\tbest: 0.6929251 (0)\ttotal: 34.9ms\tremaining: 4.68s\n",
      "25:\tlearn: 0.6895228\ttest: 0.6882188\tbest: 0.6882188 (25)\ttotal: 724ms\tremaining: 3.03s\n",
      "50:\tlearn: 0.6867331\ttest: 0.6846765\tbest: 0.6846765 (50)\ttotal: 1.42s\tremaining: 2.33s\n",
      "75:\tlearn: 0.6843416\ttest: 0.6818920\tbest: 0.6818920 (75)\ttotal: 2.11s\tremaining: 1.64s\n",
      "100:\tlearn: 0.6822054\ttest: 0.6796900\tbest: 0.6796900 (100)\ttotal: 2.79s\tremaining: 938ms\n",
      "125:\tlearn: 0.6804480\ttest: 0.6779751\tbest: 0.6779751 (125)\ttotal: 3.44s\tremaining: 246ms\n",
      "134:\tlearn: 0.6797842\ttest: 0.6774126\tbest: 0.6774126 (134)\ttotal: 3.68s\tremaining: 0us\n",
      "\n",
      "bestTest = 0.6774125756\n",
      "bestIteration = 134\n",
      "\n",
      "0:\tlearn: 0.6929766\ttest: 0.6929219\tbest: 0.6929219 (0)\ttotal: 31ms\tremaining: 4.15s\n",
      "25:\tlearn: 0.6892930\ttest: 0.6880312\tbest: 0.6880312 (25)\ttotal: 718ms\tremaining: 3.01s\n",
      "50:\tlearn: 0.6864569\ttest: 0.6844457\tbest: 0.6844457 (50)\ttotal: 1.41s\tremaining: 2.32s\n",
      "75:\tlearn: 0.6840953\ttest: 0.6817465\tbest: 0.6817465 (75)\ttotal: 2.1s\tremaining: 1.63s\n",
      "100:\tlearn: 0.6819063\ttest: 0.6795451\tbest: 0.6795451 (100)\ttotal: 2.77s\tremaining: 934ms\n",
      "125:\tlearn: 0.6799805\ttest: 0.6777736\tbest: 0.6777736 (125)\ttotal: 3.44s\tremaining: 246ms\n",
      "134:\tlearn: 0.6792841\ttest: 0.6772123\tbest: 0.6772123 (134)\ttotal: 3.68s\tremaining: 0us\n",
      "\n",
      "bestTest = 0.6772123464\n",
      "bestIteration = 134\n",
      "\n",
      "0:\tlearn: 0.6929840\ttest: 0.6929249\tbest: 0.6929249 (0)\ttotal: 32.7ms\tremaining: 4.38s\n",
      "25:\tlearn: 0.6895529\ttest: 0.6882359\tbest: 0.6882359 (25)\ttotal: 727ms\tremaining: 3.05s\n",
      "50:\tlearn: 0.6867355\ttest: 0.6846804\tbest: 0.6846804 (50)\ttotal: 1.43s\tremaining: 2.35s\n",
      "75:\tlearn: 0.6843985\ttest: 0.6819992\tbest: 0.6819992 (75)\ttotal: 2.11s\tremaining: 1.64s\n",
      "100:\tlearn: 0.6823304\ttest: 0.6798658\tbest: 0.6798658 (100)\ttotal: 2.78s\tremaining: 937ms\n",
      "125:\tlearn: 0.6804690\ttest: 0.6781198\tbest: 0.6781198 (125)\ttotal: 3.46s\tremaining: 247ms\n"
     ]
    },
    {
     "name": "stderr",
     "output_type": "stream",
     "text": [
      "2022-03-30 12:38:35 mean cv_value 0.05768667573625566 | std cv_value 0.01253888948630281 \n",
      "2022-03-30 12:38:35 ---------------------------------------------\n"
     ]
    },
    {
     "name": "stdout",
     "output_type": "stream",
     "text": [
      "134:\tlearn: 0.6798981\ttest: 0.6776261\tbest: 0.6776261 (134)\ttotal: 3.68s\tremaining: 0us\n",
      "\n",
      "bestTest = 0.6776261483\n",
      "bestIteration = 134\n",
      "\n"
     ]
    },
    {
     "name": "stderr",
     "output_type": "stream",
     "text": [
      "2022-03-30 12:38:36 [TRAIN_MODEL] Training model\n",
      "2022-03-30 12:38:36 Set of params....., {'depth': 8, 'iterations': 197, 'learning_rate': 0.003869161616697745, 'colsample_bylevel': 0.5781093536699096}\n"
     ]
    },
    {
     "name": "stdout",
     "output_type": "stream",
     "text": [
      "Iteration No: 75 ended. Search finished for the next optimal point.\n",
      "Time taken: 13.3280\n",
      "Function value obtained: -0.0577\n",
      "Current minimum: -0.0655\n",
      "Iteration No: 76 started. Searching for the next optimal point.\n",
      "0:\tlearn: 0.6931075\ttest: 0.6930795\tbest: 0.6930795 (0)\ttotal: 74.7ms\tremaining: 14.6s\n",
      "25:\tlearn: 0.6921843\ttest: 0.6915703\tbest: 0.6915703 (25)\ttotal: 692ms\tremaining: 4.55s\n",
      "50:\tlearn: 0.6913447\ttest: 0.6902153\tbest: 0.6902153 (50)\ttotal: 1.28s\tremaining: 3.67s\n",
      "75:\tlearn: 0.6905976\ttest: 0.6890181\tbest: 0.6890181 (75)\ttotal: 1.87s\tremaining: 2.97s\n",
      "100:\tlearn: 0.6899232\ttest: 0.6879181\tbest: 0.6879181 (100)\ttotal: 2.45s\tremaining: 2.33s\n",
      "125:\tlearn: 0.6893084\ttest: 0.6869589\tbest: 0.6869589 (125)\ttotal: 3.04s\tremaining: 1.71s\n",
      "150:\tlearn: 0.6887347\ttest: 0.6860867\tbest: 0.6860867 (150)\ttotal: 3.61s\tremaining: 1.1s\n",
      "175:\tlearn: 0.6881967\ttest: 0.6852777\tbest: 0.6852777 (175)\ttotal: 4.19s\tremaining: 500ms\n",
      "196:\tlearn: 0.6877756\ttest: 0.6846641\tbest: 0.6846641 (196)\ttotal: 4.67s\tremaining: 0us\n",
      "\n",
      "bestTest = 0.6846641224\n",
      "bestIteration = 196\n",
      "\n",
      "0:\tlearn: 0.6931076\ttest: 0.6930843\tbest: 0.6930843 (0)\ttotal: 38.1ms\tremaining: 7.47s\n",
      "25:\tlearn: 0.6921950\ttest: 0.6915995\tbest: 0.6915995 (25)\ttotal: 631ms\tremaining: 4.15s\n",
      "50:\tlearn: 0.6913726\ttest: 0.6902740\tbest: 0.6902740 (50)\ttotal: 1.21s\tremaining: 3.46s\n",
      "75:\tlearn: 0.6906217\ttest: 0.6890845\tbest: 0.6890845 (75)\ttotal: 1.79s\tremaining: 2.85s\n",
      "100:\tlearn: 0.6899496\ttest: 0.6880074\tbest: 0.6880074 (100)\ttotal: 2.37s\tremaining: 2.25s\n",
      "125:\tlearn: 0.6893287\ttest: 0.6870613\tbest: 0.6870613 (125)\ttotal: 2.94s\tremaining: 1.66s\n",
      "150:\tlearn: 0.6887639\ttest: 0.6861895\tbest: 0.6861895 (150)\ttotal: 3.5s\tremaining: 1.07s\n",
      "175:\tlearn: 0.6882234\ttest: 0.6853873\tbest: 0.6853873 (175)\ttotal: 4.09s\tremaining: 488ms\n",
      "196:\tlearn: 0.6877936\ttest: 0.6847660\tbest: 0.6847660 (196)\ttotal: 4.57s\tremaining: 0us\n",
      "\n",
      "bestTest = 0.6847660118\n",
      "bestIteration = 196\n",
      "\n",
      "0:\tlearn: 0.6931026\ttest: 0.6930841\tbest: 0.6930841 (0)\ttotal: 26.1ms\tremaining: 5.12s\n",
      "25:\tlearn: 0.6922304\ttest: 0.6916337\tbest: 0.6916337 (25)\ttotal: 604ms\tremaining: 3.97s\n",
      "50:\tlearn: 0.6914568\ttest: 0.6903448\tbest: 0.6903448 (50)\ttotal: 1.17s\tremaining: 3.36s\n",
      "75:\tlearn: 0.6907416\ttest: 0.6891854\tbest: 0.6891854 (75)\ttotal: 1.75s\tremaining: 2.78s\n",
      "100:\tlearn: 0.6900769\ttest: 0.6881334\tbest: 0.6881334 (100)\ttotal: 2.32s\tremaining: 2.21s\n",
      "125:\tlearn: 0.6894933\ttest: 0.6872025\tbest: 0.6872025 (125)\ttotal: 2.89s\tremaining: 1.63s\n",
      "150:\tlearn: 0.6889233\ttest: 0.6863219\tbest: 0.6863219 (150)\ttotal: 3.47s\tremaining: 1.06s\n",
      "175:\tlearn: 0.6884203\ttest: 0.6855384\tbest: 0.6855384 (175)\ttotal: 4.04s\tremaining: 482ms\n"
     ]
    },
    {
     "name": "stderr",
     "output_type": "stream",
     "text": [
      "2022-03-30 12:38:51 mean cv_value 0.058752416027743004 | std cv_value 0.008447461842917997 \n",
      "2022-03-30 12:38:51 ---------------------------------------------\n"
     ]
    },
    {
     "name": "stdout",
     "output_type": "stream",
     "text": [
      "196:\tlearn: 0.6879994\ttest: 0.6849227\tbest: 0.6849227 (196)\ttotal: 4.52s\tremaining: 0us\n",
      "\n",
      "bestTest = 0.6849227429\n",
      "bestIteration = 196\n",
      "\n"
     ]
    },
    {
     "name": "stderr",
     "output_type": "stream",
     "text": [
      "2022-03-30 12:38:52 [TRAIN_MODEL] Training model\n",
      "2022-03-30 12:38:52 Set of params....., {'depth': 7, 'iterations': 200, 'learning_rate': 0.016677748318818412, 'colsample_bylevel': 0.5}\n"
     ]
    },
    {
     "name": "stdout",
     "output_type": "stream",
     "text": [
      "Iteration No: 76 ended. Search finished for the next optimal point.\n",
      "Time taken: 15.8382\n",
      "Function value obtained: -0.0588\n",
      "Current minimum: -0.0655\n",
      "Iteration No: 77 started. Searching for the next optimal point.\n",
      "0:\tlearn: 0.6930168\ttest: 0.6928902\tbest: 0.6928902 (0)\ttotal: 22.3ms\tremaining: 4.44s\n",
      "25:\tlearn: 0.6904698\ttest: 0.6880452\tbest: 0.6880452 (25)\ttotal: 462ms\tremaining: 3.09s\n",
      "50:\tlearn: 0.6887940\ttest: 0.6850130\tbest: 0.6850130 (50)\ttotal: 883ms\tremaining: 2.58s\n",
      "75:\tlearn: 0.6875173\ttest: 0.6829294\tbest: 0.6829294 (75)\ttotal: 1.29s\tremaining: 2.11s\n",
      "100:\tlearn: 0.6864668\ttest: 0.6814504\tbest: 0.6814504 (100)\ttotal: 1.71s\tremaining: 1.68s\n",
      "125:\tlearn: 0.6856072\ttest: 0.6804032\tbest: 0.6804032 (125)\ttotal: 2.12s\tremaining: 1.24s\n",
      "150:\tlearn: 0.6847791\ttest: 0.6795721\tbest: 0.6795721 (150)\ttotal: 2.52s\tremaining: 820ms\n",
      "175:\tlearn: 0.6839875\ttest: 0.6788637\tbest: 0.6788637 (175)\ttotal: 2.93s\tremaining: 400ms\n",
      "199:\tlearn: 0.6832118\ttest: 0.6782571\tbest: 0.6782571 (199)\ttotal: 3.33s\tremaining: 0us\n",
      "\n",
      "bestTest = 0.6782571051\n",
      "bestIteration = 199\n",
      "\n",
      "0:\tlearn: 0.6930145\ttest: 0.6928911\tbest: 0.6928911 (0)\ttotal: 22.1ms\tremaining: 4.39s\n",
      "25:\tlearn: 0.6905096\ttest: 0.6881252\tbest: 0.6881252 (25)\ttotal: 432ms\tremaining: 2.89s\n",
      "50:\tlearn: 0.6888796\ttest: 0.6850736\tbest: 0.6850736 (50)\ttotal: 843ms\tremaining: 2.46s\n",
      "75:\tlearn: 0.6876185\ttest: 0.6830166\tbest: 0.6830166 (75)\ttotal: 1.26s\tremaining: 2.05s\n",
      "100:\tlearn: 0.6865621\ttest: 0.6815555\tbest: 0.6815555 (100)\ttotal: 1.66s\tremaining: 1.63s\n",
      "125:\tlearn: 0.6856337\ttest: 0.6804900\tbest: 0.6804900 (125)\ttotal: 2.07s\tremaining: 1.22s\n",
      "150:\tlearn: 0.6847416\ttest: 0.6796478\tbest: 0.6796478 (150)\ttotal: 2.48s\tremaining: 804ms\n",
      "175:\tlearn: 0.6839264\ttest: 0.6789172\tbest: 0.6789172 (175)\ttotal: 2.88s\tremaining: 393ms\n",
      "199:\tlearn: 0.6832059\ttest: 0.6783135\tbest: 0.6783135 (199)\ttotal: 3.27s\tremaining: 0us\n",
      "\n",
      "bestTest = 0.6783135052\n",
      "bestIteration = 199\n",
      "\n",
      "0:\tlearn: 0.6930148\ttest: 0.6928983\tbest: 0.6928983 (0)\ttotal: 20ms\tremaining: 3.97s\n",
      "25:\tlearn: 0.6905772\ttest: 0.6882222\tbest: 0.6882222 (25)\ttotal: 443ms\tremaining: 2.96s\n",
      "50:\tlearn: 0.6889696\ttest: 0.6852308\tbest: 0.6852308 (50)\ttotal: 854ms\tremaining: 2.49s\n",
      "75:\tlearn: 0.6877418\ttest: 0.6832041\tbest: 0.6832041 (75)\ttotal: 1.27s\tremaining: 2.07s\n",
      "100:\tlearn: 0.6867013\ttest: 0.6818073\tbest: 0.6818073 (100)\ttotal: 1.69s\tremaining: 1.66s\n",
      "125:\tlearn: 0.6857960\ttest: 0.6807536\tbest: 0.6807536 (125)\ttotal: 2.1s\tremaining: 1.24s\n",
      "150:\tlearn: 0.6849509\ttest: 0.6798742\tbest: 0.6798742 (150)\ttotal: 2.52s\tremaining: 817ms\n",
      "175:\tlearn: 0.6841441\ttest: 0.6791315\tbest: 0.6791315 (175)\ttotal: 2.93s\tremaining: 399ms\n"
     ]
    },
    {
     "name": "stderr",
     "output_type": "stream",
     "text": [
      "2022-03-30 12:39:03 mean cv_value 0.060689919770107424 | std cv_value 0.008225985318791125 \n",
      "2022-03-30 12:39:03 ---------------------------------------------\n"
     ]
    },
    {
     "name": "stdout",
     "output_type": "stream",
     "text": [
      "199:\tlearn: 0.6833831\ttest: 0.6785352\tbest: 0.6785352 (199)\ttotal: 3.32s\tremaining: 0us\n",
      "\n",
      "bestTest = 0.6785352024\n",
      "bestIteration = 199\n",
      "\n"
     ]
    },
    {
     "name": "stderr",
     "output_type": "stream",
     "text": [
      "2022-03-30 12:39:04 [TRAIN_MODEL] Training model\n",
      "2022-03-30 12:39:04 Set of params....., {'depth': 1, 'iterations': 192, 'learning_rate': 0.013501813714334884, 'colsample_bylevel': 0.6734155019218776}\n"
     ]
    },
    {
     "name": "stdout",
     "output_type": "stream",
     "text": [
      "Iteration No: 77 ended. Search finished for the next optimal point.\n",
      "Time taken: 12.1701\n",
      "Function value obtained: -0.0607\n",
      "Current minimum: -0.0655\n",
      "Iteration No: 78 started. Searching for the next optimal point.\n",
      "0:\tlearn: 0.6931088\ttest: 0.6930463\tbest: 0.6930463 (0)\ttotal: 8.38ms\tremaining: 1.6s\n",
      "25:\tlearn: 0.6923240\ttest: 0.6911737\tbest: 0.6911737 (25)\ttotal: 141ms\tremaining: 903ms\n",
      "50:\tlearn: 0.6918682\ttest: 0.6899442\tbest: 0.6899442 (50)\ttotal: 272ms\tremaining: 752ms\n",
      "75:\tlearn: 0.6915565\ttest: 0.6890155\tbest: 0.6890155 (75)\ttotal: 403ms\tremaining: 615ms\n",
      "100:\tlearn: 0.6913286\ttest: 0.6883013\tbest: 0.6883013 (100)\ttotal: 534ms\tremaining: 481ms\n",
      "125:\tlearn: 0.6911621\ttest: 0.6877082\tbest: 0.6877082 (125)\ttotal: 662ms\tremaining: 347ms\n",
      "150:\tlearn: 0.6910395\ttest: 0.6872314\tbest: 0.6872314 (150)\ttotal: 790ms\tremaining: 214ms\n",
      "175:\tlearn: 0.6909439\ttest: 0.6868297\tbest: 0.6868297 (175)\ttotal: 920ms\tremaining: 83.6ms\n",
      "191:\tlearn: 0.6908896\ttest: 0.6866228\tbest: 0.6866228 (191)\ttotal: 1s\tremaining: 0us\n",
      "\n",
      "bestTest = 0.6866227587\n",
      "bestIteration = 191\n",
      "\n",
      "0:\tlearn: 0.6931073\ttest: 0.6930459\tbest: 0.6930459 (0)\ttotal: 9.62ms\tremaining: 1.84s\n",
      "25:\tlearn: 0.6923816\ttest: 0.6913164\tbest: 0.6913164 (25)\ttotal: 145ms\tremaining: 927ms\n",
      "50:\tlearn: 0.6919356\ttest: 0.6900916\tbest: 0.6900916 (50)\ttotal: 276ms\tremaining: 764ms\n",
      "75:\tlearn: 0.6916536\ttest: 0.6892058\tbest: 0.6892058 (75)\ttotal: 409ms\tremaining: 624ms\n",
      "100:\tlearn: 0.6914532\ttest: 0.6885165\tbest: 0.6885165 (100)\ttotal: 539ms\tremaining: 486ms\n",
      "125:\tlearn: 0.6913042\ttest: 0.6879869\tbest: 0.6879869 (125)\ttotal: 668ms\tremaining: 350ms\n",
      "150:\tlearn: 0.6911863\ttest: 0.6875686\tbest: 0.6875686 (150)\ttotal: 797ms\tremaining: 216ms\n",
      "175:\tlearn: 0.6910960\ttest: 0.6871909\tbest: 0.6871909 (175)\ttotal: 925ms\tremaining: 84.1ms\n",
      "191:\tlearn: 0.6910369\ttest: 0.6869988\tbest: 0.6869988 (191)\ttotal: 1.01s\tremaining: 0us\n",
      "\n",
      "bestTest = 0.6869988375\n",
      "bestIteration = 191\n",
      "\n",
      "0:\tlearn: 0.6931091\ttest: 0.6930563\tbest: 0.6930563 (0)\ttotal: 14.2ms\tremaining: 2.71s\n",
      "25:\tlearn: 0.6924286\ttest: 0.6914665\tbest: 0.6914665 (25)\ttotal: 156ms\tremaining: 999ms\n",
      "50:\tlearn: 0.6920237\ttest: 0.6903619\tbest: 0.6903619 (50)\ttotal: 287ms\tremaining: 793ms\n",
      "75:\tlearn: 0.6917417\ttest: 0.6894920\tbest: 0.6894920 (75)\ttotal: 416ms\tremaining: 634ms\n",
      "100:\tlearn: 0.6915358\ttest: 0.6888652\tbest: 0.6888652 (100)\ttotal: 546ms\tremaining: 492ms\n",
      "125:\tlearn: 0.6913795\ttest: 0.6883508\tbest: 0.6883508 (125)\ttotal: 685ms\tremaining: 359ms\n",
      "150:\tlearn: 0.6912480\ttest: 0.6878934\tbest: 0.6878934 (150)\ttotal: 814ms\tremaining: 221ms\n",
      "175:\tlearn: 0.6911434\ttest: 0.6875052\tbest: 0.6875052 (175)\ttotal: 947ms\tremaining: 86.1ms\n"
     ]
    },
    {
     "name": "stderr",
     "output_type": "stream",
     "text": [
      "2022-03-30 12:39:08 mean cv_value 0.049985525031709555 | std cv_value 0.012213161598423245 \n",
      "2022-03-30 12:39:08 ---------------------------------------------\n"
     ]
    },
    {
     "name": "stdout",
     "output_type": "stream",
     "text": [
      "191:\tlearn: 0.6910875\ttest: 0.6872826\tbest: 0.6872826 (191)\ttotal: 1.03s\tremaining: 0us\n",
      "\n",
      "bestTest = 0.6872826251\n",
      "bestIteration = 191\n",
      "\n"
     ]
    },
    {
     "name": "stderr",
     "output_type": "stream",
     "text": [
      "2022-03-30 12:39:09 [TRAIN_MODEL] Training model\n",
      "2022-03-30 12:39:09 Set of params....., {'depth': 5, 'iterations': 139, 'learning_rate': 0.059934404080189706, 'colsample_bylevel': 0.5}\n"
     ]
    },
    {
     "name": "stdout",
     "output_type": "stream",
     "text": [
      "Iteration No: 78 ended. Search finished for the next optimal point.\n",
      "Time taken: 5.1212\n",
      "Function value obtained: -0.0500\n",
      "Current minimum: -0.0655\n",
      "Iteration No: 79 started. Searching for the next optimal point.\n",
      "0:\tlearn: 0.6927831\ttest: 0.6923242\tbest: 0.6923242 (0)\ttotal: 12.5ms\tremaining: 1.72s\n",
      "25:\tlearn: 0.6891600\ttest: 0.6834605\tbest: 0.6834605 (25)\ttotal: 281ms\tremaining: 1.22s\n",
      "50:\tlearn: 0.6878890\ttest: 0.6813181\tbest: 0.6813181 (50)\ttotal: 562ms\tremaining: 969ms\n",
      "75:\tlearn: 0.6867633\ttest: 0.6801128\tbest: 0.6801128 (75)\ttotal: 848ms\tremaining: 703ms\n",
      "100:\tlearn: 0.6857926\ttest: 0.6794399\tbest: 0.6794399 (100)\ttotal: 1.14s\tremaining: 430ms\n",
      "125:\tlearn: 0.6848444\ttest: 0.6786804\tbest: 0.6786804 (125)\ttotal: 1.43s\tremaining: 148ms\n",
      "138:\tlearn: 0.6843974\ttest: 0.6783509\tbest: 0.6783509 (138)\ttotal: 1.58s\tremaining: 0us\n",
      "\n",
      "bestTest = 0.6783508622\n",
      "bestIteration = 138\n",
      "\n",
      "0:\tlearn: 0.6927878\ttest: 0.6923342\tbest: 0.6923342 (0)\ttotal: 13.5ms\tremaining: 1.86s\n",
      "25:\tlearn: 0.6892377\ttest: 0.6837475\tbest: 0.6837475 (25)\ttotal: 289ms\tremaining: 1.25s\n",
      "50:\tlearn: 0.6878894\ttest: 0.6815575\tbest: 0.6815575 (50)\ttotal: 578ms\tremaining: 998ms\n",
      "75:\tlearn: 0.6868433\ttest: 0.6804910\tbest: 0.6804910 (75)\ttotal: 861ms\tremaining: 714ms\n",
      "100:\tlearn: 0.6859325\ttest: 0.6795767\tbest: 0.6795767 (100)\ttotal: 1.14s\tremaining: 430ms\n",
      "125:\tlearn: 0.6849904\ttest: 0.6788879\tbest: 0.6788879 (125)\ttotal: 1.43s\tremaining: 147ms\n",
      "138:\tlearn: 0.6845141\ttest: 0.6785623\tbest: 0.6785623 (138)\ttotal: 1.58s\tremaining: 0us\n",
      "\n",
      "bestTest = 0.6785622659\n",
      "bestIteration = 138\n",
      "\n",
      "0:\tlearn: 0.6928018\ttest: 0.6923659\tbest: 0.6923659 (0)\ttotal: 26.5ms\tremaining: 3.66s\n",
      "25:\tlearn: 0.6893660\ttest: 0.6838712\tbest: 0.6838712 (25)\ttotal: 298ms\tremaining: 1.29s\n",
      "50:\tlearn: 0.6880953\ttest: 0.6816504\tbest: 0.6816504 (50)\ttotal: 577ms\tremaining: 995ms\n",
      "75:\tlearn: 0.6870705\ttest: 0.6805297\tbest: 0.6805297 (75)\ttotal: 864ms\tremaining: 716ms\n",
      "100:\tlearn: 0.6860935\ttest: 0.6797379\tbest: 0.6797379 (100)\ttotal: 1.15s\tremaining: 432ms\n",
      "125:\tlearn: 0.6852163\ttest: 0.6790279\tbest: 0.6790279 (125)\ttotal: 1.44s\tremaining: 148ms\n",
      "138:\tlearn: 0.6847359\ttest: 0.6786381\tbest: 0.6786381 (138)\ttotal: 1.59s\tremaining: 0us\n",
      "\n",
      "bestTest = 0.6786380889\n",
      "bestIteration = 138\n",
      "\n"
     ]
    },
    {
     "name": "stderr",
     "output_type": "stream",
     "text": [
      "2022-03-30 12:39:15 mean cv_value 0.05836534924570469 | std cv_value 0.007008400721345345 \n",
      "2022-03-30 12:39:15 ---------------------------------------------\n",
      "2022-03-30 12:39:16 [TRAIN_MODEL] Training model\n",
      "2022-03-30 12:39:16 Set of params....., {'depth': 6, 'iterations': 5, 'learning_rate': 0.10393659341020915, 'colsample_bylevel': 1.0}\n"
     ]
    },
    {
     "name": "stdout",
     "output_type": "stream",
     "text": [
      "Iteration No: 79 ended. Search finished for the next optimal point.\n",
      "Time taken: 6.7825\n",
      "Function value obtained: -0.0584\n",
      "Current minimum: -0.0655\n",
      "Iteration No: 80 started. Searching for the next optimal point.\n",
      "0:\tlearn: 0.6924340\ttest: 0.6917549\tbest: 0.6917549 (0)\ttotal: 15.7ms\tremaining: 62.9ms\n",
      "4:\tlearn: 0.6904916\ttest: 0.6875274\tbest: 0.6875274 (4)\ttotal: 66ms\tremaining: 0us\n",
      "\n",
      "bestTest = 0.6875273627\n",
      "bestIteration = 4\n",
      "\n",
      "0:\tlearn: 0.6924299\ttest: 0.6917677\tbest: 0.6917677 (0)\ttotal: 18.5ms\tremaining: 74ms\n",
      "4:\tlearn: 0.6904952\ttest: 0.6875598\tbest: 0.6875598 (4)\ttotal: 67.3ms\tremaining: 0us\n",
      "\n",
      "bestTest = 0.6875598227\n",
      "bestIteration = 4\n",
      "\n"
     ]
    },
    {
     "name": "stderr",
     "output_type": "stream",
     "text": [
      "2022-03-30 12:39:17 mean cv_value 0.05234292722521694 | std cv_value 0.008414144367656222 \n",
      "2022-03-30 12:39:17 ---------------------------------------------\n"
     ]
    },
    {
     "name": "stdout",
     "output_type": "stream",
     "text": [
      "0:\tlearn: 0.6924469\ttest: 0.6916585\tbest: 0.6916585 (0)\ttotal: 12.5ms\tremaining: 50.1ms\n",
      "4:\tlearn: 0.6906592\ttest: 0.6876561\tbest: 0.6876561 (4)\ttotal: 67.7ms\tremaining: 0us\n",
      "\n",
      "bestTest = 0.6876561081\n",
      "bestIteration = 4\n",
      "\n"
     ]
    },
    {
     "name": "stderr",
     "output_type": "stream",
     "text": [
      "2022-03-30 12:39:18 [TRAIN_MODEL] Training model\n",
      "2022-03-30 12:39:18 Set of params....., {'depth': 5, 'iterations': 199, 'learning_rate': 0.006685384856142285, 'colsample_bylevel': 0.7894079051922597}\n"
     ]
    },
    {
     "name": "stdout",
     "output_type": "stream",
     "text": [
      "Iteration No: 80 ended. Search finished for the next optimal point.\n",
      "Time taken: 2.2385\n",
      "Function value obtained: -0.0523\n",
      "Current minimum: -0.0655\n",
      "Iteration No: 81 started. Searching for the next optimal point.\n",
      "0:\tlearn: 0.6931044\ttest: 0.6930578\tbest: 0.6930578 (0)\ttotal: 13.5ms\tremaining: 2.67s\n",
      "25:\tlearn: 0.6921493\ttest: 0.6909638\tbest: 0.6909638 (25)\ttotal: 275ms\tremaining: 1.83s\n",
      "50:\tlearn: 0.6914399\ttest: 0.6892995\tbest: 0.6892995 (50)\ttotal: 525ms\tremaining: 1.52s\n",
      "75:\tlearn: 0.6908891\ttest: 0.6879847\tbest: 0.6879847 (75)\ttotal: 778ms\tremaining: 1.26s\n",
      "100:\tlearn: 0.6904515\ttest: 0.6869029\tbest: 0.6869029 (100)\ttotal: 1.04s\tremaining: 1.01s\n",
      "125:\tlearn: 0.6900976\ttest: 0.6859927\tbest: 0.6859927 (125)\ttotal: 1.32s\tremaining: 763ms\n",
      "150:\tlearn: 0.6897945\ttest: 0.6852312\tbest: 0.6852312 (150)\ttotal: 1.59s\tremaining: 505ms\n",
      "175:\tlearn: 0.6895304\ttest: 0.6845835\tbest: 0.6845835 (175)\ttotal: 1.85s\tremaining: 241ms\n",
      "198:\tlearn: 0.6893200\ttest: 0.6840826\tbest: 0.6840826 (198)\ttotal: 2.09s\tremaining: 0us\n",
      "\n",
      "bestTest = 0.6840825739\n",
      "bestIteration = 198\n",
      "\n",
      "0:\tlearn: 0.6931007\ttest: 0.6930595\tbest: 0.6930595 (0)\ttotal: 15.6ms\tremaining: 3.09s\n",
      "25:\tlearn: 0.6921905\ttest: 0.6910387\tbest: 0.6910387 (25)\ttotal: 277ms\tremaining: 1.84s\n",
      "50:\tlearn: 0.6914976\ttest: 0.6894258\tbest: 0.6894258 (50)\ttotal: 531ms\tremaining: 1.54s\n",
      "75:\tlearn: 0.6909681\ttest: 0.6881137\tbest: 0.6881137 (75)\ttotal: 788ms\tremaining: 1.27s\n",
      "100:\tlearn: 0.6905385\ttest: 0.6870495\tbest: 0.6870495 (100)\ttotal: 1.04s\tremaining: 1.01s\n",
      "125:\tlearn: 0.6901915\ttest: 0.6861583\tbest: 0.6861583 (125)\ttotal: 1.31s\tremaining: 761ms\n",
      "150:\tlearn: 0.6898940\ttest: 0.6854148\tbest: 0.6854148 (150)\ttotal: 1.58s\tremaining: 501ms\n",
      "175:\tlearn: 0.6896349\ttest: 0.6847700\tbest: 0.6847700 (175)\ttotal: 1.84s\tremaining: 241ms\n",
      "198:\tlearn: 0.6894245\ttest: 0.6842682\tbest: 0.6842682 (198)\ttotal: 2.08s\tremaining: 0us\n",
      "\n",
      "bestTest = 0.6842682278\n",
      "bestIteration = 198\n",
      "\n",
      "0:\tlearn: 0.6930965\ttest: 0.6930543\tbest: 0.6930543 (0)\ttotal: 12.8ms\tremaining: 2.54s\n",
      "25:\tlearn: 0.6922392\ttest: 0.6910687\tbest: 0.6910687 (25)\ttotal: 271ms\tremaining: 1.8s\n",
      "50:\tlearn: 0.6915819\ttest: 0.6894674\tbest: 0.6894674 (50)\ttotal: 528ms\tremaining: 1.53s\n",
      "75:\tlearn: 0.6910799\ttest: 0.6881947\tbest: 0.6881947 (75)\ttotal: 788ms\tremaining: 1.27s\n",
      "100:\tlearn: 0.6906710\ttest: 0.6871445\tbest: 0.6871445 (100)\ttotal: 1.04s\tremaining: 1.01s\n",
      "125:\tlearn: 0.6903284\ttest: 0.6862804\tbest: 0.6862804 (125)\ttotal: 1.29s\tremaining: 748ms\n",
      "150:\tlearn: 0.6900326\ttest: 0.6855376\tbest: 0.6855376 (150)\ttotal: 1.56s\tremaining: 495ms\n",
      "175:\tlearn: 0.6897759\ttest: 0.6849112\tbest: 0.6849112 (175)\ttotal: 1.82s\tremaining: 238ms\n"
     ]
    },
    {
     "name": "stderr",
     "output_type": "stream",
     "text": [
      "2022-03-30 12:39:25 mean cv_value 0.05952924870415057 | std cv_value 0.007136897228891219 \n",
      "2022-03-30 12:39:25 ---------------------------------------------\n"
     ]
    },
    {
     "name": "stdout",
     "output_type": "stream",
     "text": [
      "198:\tlearn: 0.6895701\ttest: 0.6844189\tbest: 0.6844189 (198)\ttotal: 2.06s\tremaining: 0us\n",
      "\n",
      "bestTest = 0.6844189206\n",
      "bestIteration = 198\n",
      "\n"
     ]
    },
    {
     "name": "stderr",
     "output_type": "stream",
     "text": [
      "2022-03-30 12:39:27 [TRAIN_MODEL] Training model\n",
      "2022-03-30 12:39:27 Set of params....., {'depth': 3, 'iterations': 185, 'learning_rate': 0.9977748280260017, 'colsample_bylevel': 0.6326577327386167}\n"
     ]
    },
    {
     "name": "stdout",
     "output_type": "stream",
     "text": [
      "Iteration No: 81 ended. Search finished for the next optimal point.\n",
      "Time taken: 8.4730\n",
      "Function value obtained: -0.0595\n",
      "Current minimum: -0.0655\n",
      "Iteration No: 82 started. Searching for the next optimal point.\n",
      "0:\tlearn: 0.6903981\ttest: 0.6835491\tbest: 0.6835491 (0)\ttotal: 9.93ms\tremaining: 1.83s\n",
      "25:\tlearn: 0.6864074\ttest: 0.6798587\tbest: 0.6798587 (25)\ttotal: 213ms\tremaining: 1.3s\n",
      "50:\tlearn: 0.6837765\ttest: 0.6796929\tbest: 0.6796929 (50)\ttotal: 408ms\tremaining: 1.07s\n",
      "75:\tlearn: 0.6815354\ttest: 0.6795310\tbest: 0.6795310 (75)\ttotal: 605ms\tremaining: 868ms\n",
      "100:\tlearn: 0.6793083\ttest: 0.6789380\tbest: 0.6789380 (100)\ttotal: 810ms\tremaining: 674ms\n",
      "125:\tlearn: 0.6772906\ttest: 0.6785997\tbest: 0.6785997 (125)\ttotal: 1s\tremaining: 470ms\n",
      "150:\tlearn: 0.6751965\ttest: 0.6783466\tbest: 0.6783466 (150)\ttotal: 1.19s\tremaining: 269ms\n",
      "175:\tlearn: 0.6731603\ttest: 0.6777033\tbest: 0.6777033 (175)\ttotal: 1.39s\tremaining: 70.9ms\n",
      "184:\tlearn: 0.6725222\ttest: 0.6775227\tbest: 0.6775227 (184)\ttotal: 1.46s\tremaining: 0us\n",
      "\n",
      "bestTest = 0.6775227456\n",
      "bestIteration = 184\n",
      "\n",
      "0:\tlearn: 0.6905308\ttest: 0.6835237\tbest: 0.6835237 (0)\ttotal: 10.2ms\tremaining: 1.88s\n",
      "25:\tlearn: 0.6868450\ttest: 0.6804874\tbest: 0.6804874 (25)\ttotal: 209ms\tremaining: 1.28s\n",
      "50:\tlearn: 0.6841452\ttest: 0.6797098\tbest: 0.6797098 (50)\ttotal: 413ms\tremaining: 1.09s\n",
      "75:\tlearn: 0.6816928\ttest: 0.6805918\tbest: 0.6797098 (50)\ttotal: 615ms\tremaining: 882ms\n",
      "100:\tlearn: 0.6794839\ttest: 0.6806295\tbest: 0.6797098 (50)\ttotal: 805ms\tremaining: 670ms\n",
      "125:\tlearn: 0.6773479\ttest: 0.6801945\tbest: 0.6797098 (50)\ttotal: 1000ms\tremaining: 468ms\n",
      "150:\tlearn: 0.6753048\ttest: 0.6796086\tbest: 0.6796086 (150)\ttotal: 1.19s\tremaining: 268ms\n",
      "175:\tlearn: 0.6732643\ttest: 0.6794973\tbest: 0.6794973 (175)\ttotal: 1.38s\tremaining: 70.7ms\n",
      "184:\tlearn: 0.6726821\ttest: 0.6792207\tbest: 0.6792207 (184)\ttotal: 1.46s\tremaining: 0us\n",
      "\n",
      "bestTest = 0.6792206638\n",
      "bestIteration = 184\n",
      "\n",
      "0:\tlearn: 0.6906680\ttest: 0.6838028\tbest: 0.6838028 (0)\ttotal: 25.5ms\tremaining: 4.7s\n",
      "25:\tlearn: 0.6869129\ttest: 0.6805624\tbest: 0.6805624 (25)\ttotal: 233ms\tremaining: 1.43s\n",
      "50:\tlearn: 0.6843347\ttest: 0.6797828\tbest: 0.6797828 (50)\ttotal: 426ms\tremaining: 1.12s\n",
      "75:\tlearn: 0.6820180\ttest: 0.6793786\tbest: 0.6793786 (75)\ttotal: 631ms\tremaining: 905ms\n",
      "100:\tlearn: 0.6797642\ttest: 0.6789101\tbest: 0.6789101 (100)\ttotal: 821ms\tremaining: 683ms\n",
      "125:\tlearn: 0.6777659\ttest: 0.6787973\tbest: 0.6787973 (125)\ttotal: 1.02s\tremaining: 476ms\n",
      "150:\tlearn: 0.6758943\ttest: 0.6786701\tbest: 0.6786701 (150)\ttotal: 1.21s\tremaining: 272ms\n",
      "175:\tlearn: 0.6739548\ttest: 0.6781320\tbest: 0.6781320 (175)\ttotal: 1.41s\tremaining: 72ms\n",
      "184:\tlearn: 0.6733272\ttest: 0.6781630\tbest: 0.6781320 (175)\ttotal: 1.48s\tremaining: 0us\n",
      "\n",
      "bestTest = 0.6781319979\n",
      "bestIteration = 175\n",
      "\n",
      "Shrink model to first 176 iterations.\n"
     ]
    },
    {
     "name": "stderr",
     "output_type": "stream",
     "text": [
      "2022-03-30 12:39:32 mean cv_value 0.04011528557476388 | std cv_value 0.006791831881872325 \n",
      "2022-03-30 12:39:32 ---------------------------------------------\n",
      "2022-03-30 12:39:34 [TRAIN_MODEL] Training model\n",
      "2022-03-30 12:39:34 Set of params....., {'depth': 4, 'iterations': 200, 'learning_rate': 0.04196732287748769, 'colsample_bylevel': 0.5}\n"
     ]
    },
    {
     "name": "stdout",
     "output_type": "stream",
     "text": [
      "Iteration No: 82 ended. Search finished for the next optimal point.\n",
      "Time taken: 6.8074\n",
      "Function value obtained: -0.0401\n",
      "Current minimum: -0.0655\n",
      "Iteration No: 83 started. Searching for the next optimal point.\n",
      "0:\tlearn: 0.6929241\ttest: 0.6926408\tbest: 0.6926408 (0)\ttotal: 49.9ms\tremaining: 9.93s\n",
      "25:\tlearn: 0.6901096\ttest: 0.6854172\tbest: 0.6854172 (25)\ttotal: 295ms\tremaining: 1.97s\n",
      "50:\tlearn: 0.6892268\ttest: 0.6831263\tbest: 0.6831263 (50)\ttotal: 520ms\tremaining: 1.52s\n",
      "75:\tlearn: 0.6886689\ttest: 0.6820388\tbest: 0.6820388 (75)\ttotal: 766ms\tremaining: 1.25s\n",
      "100:\tlearn: 0.6881722\ttest: 0.6813341\tbest: 0.6813341 (100)\ttotal: 1s\tremaining: 984ms\n",
      "125:\tlearn: 0.6877259\ttest: 0.6807890\tbest: 0.6807890 (125)\ttotal: 1.24s\tremaining: 731ms\n",
      "150:\tlearn: 0.6873230\ttest: 0.6804215\tbest: 0.6804215 (150)\ttotal: 1.48s\tremaining: 479ms\n",
      "175:\tlearn: 0.6869324\ttest: 0.6800428\tbest: 0.6800428 (175)\ttotal: 1.72s\tremaining: 234ms\n",
      "199:\tlearn: 0.6865524\ttest: 0.6797517\tbest: 0.6797517 (199)\ttotal: 1.94s\tremaining: 0us\n",
      "\n",
      "bestTest = 0.6797517386\n",
      "bestIteration = 199\n",
      "\n",
      "0:\tlearn: 0.6929302\ttest: 0.6926532\tbest: 0.6926532 (0)\ttotal: 27.3ms\tremaining: 5.44s\n",
      "25:\tlearn: 0.6902390\ttest: 0.6856733\tbest: 0.6856733 (25)\ttotal: 273ms\tremaining: 1.82s\n",
      "50:\tlearn: 0.6893916\ttest: 0.6832568\tbest: 0.6832568 (50)\ttotal: 495ms\tremaining: 1.45s\n",
      "75:\tlearn: 0.6888323\ttest: 0.6821527\tbest: 0.6821527 (75)\ttotal: 720ms\tremaining: 1.18s\n",
      "100:\tlearn: 0.6883385\ttest: 0.6814883\tbest: 0.6814883 (100)\ttotal: 950ms\tremaining: 932ms\n",
      "125:\tlearn: 0.6878963\ttest: 0.6809714\tbest: 0.6809714 (125)\ttotal: 1.18s\tremaining: 695ms\n",
      "150:\tlearn: 0.6875008\ttest: 0.6805561\tbest: 0.6805561 (150)\ttotal: 1.42s\tremaining: 460ms\n",
      "175:\tlearn: 0.6871440\ttest: 0.6802302\tbest: 0.6802302 (175)\ttotal: 1.65s\tremaining: 225ms\n",
      "199:\tlearn: 0.6867960\ttest: 0.6799533\tbest: 0.6799533 (199)\ttotal: 1.88s\tremaining: 0us\n",
      "\n",
      "bestTest = 0.6799532795\n",
      "bestIteration = 199\n",
      "\n",
      "0:\tlearn: 0.6929406\ttest: 0.6927174\tbest: 0.6927174 (0)\ttotal: 25.6ms\tremaining: 5.09s\n",
      "25:\tlearn: 0.6903390\ttest: 0.6858381\tbest: 0.6858381 (25)\ttotal: 255ms\tremaining: 1.71s\n",
      "50:\tlearn: 0.6894641\ttest: 0.6834182\tbest: 0.6834182 (50)\ttotal: 471ms\tremaining: 1.38s\n",
      "75:\tlearn: 0.6889058\ttest: 0.6823903\tbest: 0.6823903 (75)\ttotal: 703ms\tremaining: 1.15s\n",
      "100:\tlearn: 0.6884388\ttest: 0.6817492\tbest: 0.6817492 (100)\ttotal: 931ms\tremaining: 912ms\n",
      "125:\tlearn: 0.6880211\ttest: 0.6812055\tbest: 0.6812055 (125)\ttotal: 1.17s\tremaining: 685ms\n",
      "150:\tlearn: 0.6876226\ttest: 0.6807947\tbest: 0.6807947 (150)\ttotal: 1.39s\tremaining: 453ms\n",
      "175:\tlearn: 0.6872519\ttest: 0.6804903\tbest: 0.6804903 (175)\ttotal: 1.63s\tremaining: 222ms\n"
     ]
    },
    {
     "name": "stderr",
     "output_type": "stream",
     "text": [
      "2022-03-30 12:39:40 mean cv_value 0.0630211274350262 | std cv_value 0.008294785516274043 \n",
      "2022-03-30 12:39:40 ---------------------------------------------\n"
     ]
    },
    {
     "name": "stdout",
     "output_type": "stream",
     "text": [
      "199:\tlearn: 0.6869166\ttest: 0.6802245\tbest: 0.6802245 (199)\ttotal: 1.84s\tremaining: 0us\n",
      "\n",
      "bestTest = 0.6802244973\n",
      "bestIteration = 199\n",
      "\n"
     ]
    },
    {
     "name": "stderr",
     "output_type": "stream",
     "text": [
      "2022-03-30 12:39:42 [TRAIN_MODEL] Training model\n",
      "2022-03-30 12:39:42 Set of params....., {'depth': 6, 'iterations': 200, 'learning_rate': 0.026969309207536346, 'colsample_bylevel': 0.6220668989211917}\n"
     ]
    },
    {
     "name": "stdout",
     "output_type": "stream",
     "text": [
      "Iteration No: 83 ended. Search finished for the next optimal point.\n",
      "Time taken: 7.9497\n",
      "Function value obtained: -0.0630\n",
      "Current minimum: -0.0655\n",
      "Iteration No: 84 started. Searching for the next optimal point.\n",
      "0:\tlearn: 0.6929621\ttest: 0.6927438\tbest: 0.6927438 (0)\ttotal: 18ms\tremaining: 3.59s\n",
      "25:\tlearn: 0.6899885\ttest: 0.6863491\tbest: 0.6863491 (25)\ttotal: 365ms\tremaining: 2.44s\n",
      "50:\tlearn: 0.6885035\ttest: 0.6832587\tbest: 0.6832587 (50)\ttotal: 703ms\tremaining: 2.05s\n",
      "75:\tlearn: 0.6874732\ttest: 0.6815701\tbest: 0.6815701 (75)\ttotal: 1.04s\tremaining: 1.7s\n",
      "100:\tlearn: 0.6865751\ttest: 0.6805393\tbest: 0.6805393 (100)\ttotal: 1.38s\tremaining: 1.35s\n",
      "125:\tlearn: 0.6857737\ttest: 0.6797792\tbest: 0.6797792 (125)\ttotal: 1.71s\tremaining: 1.01s\n",
      "150:\tlearn: 0.6849561\ttest: 0.6790378\tbest: 0.6790378 (150)\ttotal: 2.05s\tremaining: 664ms\n",
      "175:\tlearn: 0.6841688\ttest: 0.6784132\tbest: 0.6784132 (175)\ttotal: 2.38s\tremaining: 325ms\n",
      "199:\tlearn: 0.6834844\ttest: 0.6779681\tbest: 0.6779681 (199)\ttotal: 2.7s\tremaining: 0us\n",
      "\n",
      "bestTest = 0.6779681151\n",
      "bestIteration = 199\n",
      "\n",
      "0:\tlearn: 0.6929663\ttest: 0.6927734\tbest: 0.6927734 (0)\ttotal: 14.5ms\tremaining: 2.88s\n",
      "25:\tlearn: 0.6900510\ttest: 0.6864822\tbest: 0.6864822 (25)\ttotal: 348ms\tremaining: 2.33s\n",
      "50:\tlearn: 0.6885549\ttest: 0.6834052\tbest: 0.6834052 (50)\ttotal: 688ms\tremaining: 2.01s\n",
      "75:\tlearn: 0.6875282\ttest: 0.6817715\tbest: 0.6817715 (75)\ttotal: 1.03s\tremaining: 1.68s\n",
      "100:\tlearn: 0.6866262\ttest: 0.6806695\tbest: 0.6806695 (100)\ttotal: 1.36s\tremaining: 1.33s\n",
      "125:\tlearn: 0.6858259\ttest: 0.6798875\tbest: 0.6798875 (125)\ttotal: 1.69s\tremaining: 994ms\n",
      "150:\tlearn: 0.6851023\ttest: 0.6792611\tbest: 0.6792611 (150)\ttotal: 2.03s\tremaining: 658ms\n",
      "175:\tlearn: 0.6843312\ttest: 0.6787155\tbest: 0.6787155 (175)\ttotal: 2.36s\tremaining: 322ms\n",
      "199:\tlearn: 0.6836513\ttest: 0.6782001\tbest: 0.6782001 (199)\ttotal: 2.68s\tremaining: 0us\n",
      "\n",
      "bestTest = 0.6782001076\n",
      "bestIteration = 199\n",
      "\n",
      "0:\tlearn: 0.6929528\ttest: 0.6927532\tbest: 0.6927532 (0)\ttotal: 13.6ms\tremaining: 2.71s\n",
      "25:\tlearn: 0.6901952\ttest: 0.6866165\tbest: 0.6866165 (25)\ttotal: 341ms\tremaining: 2.28s\n",
      "50:\tlearn: 0.6887670\ttest: 0.6837015\tbest: 0.6837015 (50)\ttotal: 670ms\tremaining: 1.96s\n",
      "75:\tlearn: 0.6877230\ttest: 0.6820257\tbest: 0.6820257 (75)\ttotal: 1s\tremaining: 1.64s\n",
      "100:\tlearn: 0.6868149\ttest: 0.6808781\tbest: 0.6808781 (100)\ttotal: 1.34s\tremaining: 1.31s\n",
      "125:\tlearn: 0.6860334\ttest: 0.6800341\tbest: 0.6800341 (125)\ttotal: 1.68s\tremaining: 984ms\n",
      "150:\tlearn: 0.6852809\ttest: 0.6793929\tbest: 0.6793929 (150)\ttotal: 2s\tremaining: 651ms\n",
      "175:\tlearn: 0.6845408\ttest: 0.6787890\tbest: 0.6787890 (175)\ttotal: 2.34s\tremaining: 319ms\n"
     ]
    },
    {
     "name": "stderr",
     "output_type": "stream",
     "text": [
      "2022-03-30 12:39:50 mean cv_value 0.06416489310853109 | std cv_value 0.007911620982524162 \n",
      "2022-03-30 12:39:50 ---------------------------------------------\n"
     ]
    },
    {
     "name": "stdout",
     "output_type": "stream",
     "text": [
      "199:\tlearn: 0.6838823\ttest: 0.6783016\tbest: 0.6783016 (199)\ttotal: 2.66s\tremaining: 0us\n",
      "\n",
      "bestTest = 0.678301601\n",
      "bestIteration = 199\n",
      "\n"
     ]
    },
    {
     "name": "stderr",
     "output_type": "stream",
     "text": [
      "2022-03-30 12:39:52 [TRAIN_MODEL] Training model\n",
      "2022-03-30 12:39:52 Set of params....., {'depth': 7, 'iterations': 146, 'learning_rate': 0.026228268521745545, 'colsample_bylevel': 1.0}\n"
     ]
    },
    {
     "name": "stdout",
     "output_type": "stream",
     "text": [
      "Iteration No: 84 ended. Search finished for the next optimal point.\n",
      "Time taken: 10.4638\n",
      "Function value obtained: -0.0642\n",
      "Current minimum: -0.0655\n",
      "Iteration No: 85 started. Searching for the next optimal point.\n",
      "0:\tlearn: 0.6929388\ttest: 0.6927736\tbest: 0.6927736 (0)\ttotal: 42.8ms\tremaining: 6.2s\n",
      "25:\tlearn: 0.6892983\ttest: 0.6861110\tbest: 0.6861110 (25)\ttotal: 426ms\tremaining: 1.96s\n",
      "50:\tlearn: 0.6871793\ttest: 0.6826559\tbest: 0.6826559 (50)\ttotal: 785ms\tremaining: 1.46s\n",
      "75:\tlearn: 0.6855800\ttest: 0.6806221\tbest: 0.6806221 (75)\ttotal: 1.14s\tremaining: 1.04s\n",
      "100:\tlearn: 0.6842124\ttest: 0.6793046\tbest: 0.6793046 (100)\ttotal: 1.49s\tremaining: 662ms\n",
      "125:\tlearn: 0.6830521\ttest: 0.6783038\tbest: 0.6783038 (125)\ttotal: 1.82s\tremaining: 290ms\n",
      "145:\tlearn: 0.6820363\ttest: 0.6775060\tbest: 0.6775060 (145)\ttotal: 2.11s\tremaining: 0us\n",
      "\n",
      "bestTest = 0.6775060372\n",
      "bestIteration = 145\n",
      "\n",
      "0:\tlearn: 0.6929291\ttest: 0.6927744\tbest: 0.6927744 (0)\ttotal: 17.8ms\tremaining: 2.58s\n",
      "25:\tlearn: 0.6893717\ttest: 0.6860783\tbest: 0.6860783 (25)\ttotal: 377ms\tremaining: 1.74s\n",
      "50:\tlearn: 0.6872384\ttest: 0.6825740\tbest: 0.6825740 (50)\ttotal: 738ms\tremaining: 1.38s\n",
      "75:\tlearn: 0.6856162\ttest: 0.6807051\tbest: 0.6807051 (75)\ttotal: 1.09s\tremaining: 1.01s\n",
      "100:\tlearn: 0.6841852\ttest: 0.6792949\tbest: 0.6792949 (100)\ttotal: 1.45s\tremaining: 645ms\n",
      "125:\tlearn: 0.6828746\ttest: 0.6781442\tbest: 0.6781442 (125)\ttotal: 1.79s\tremaining: 285ms\n",
      "145:\tlearn: 0.6819349\ttest: 0.6774762\tbest: 0.6774762 (145)\ttotal: 2.07s\tremaining: 0us\n",
      "\n",
      "bestTest = 0.6774762086\n",
      "bestIteration = 145\n",
      "\n",
      "0:\tlearn: 0.6929360\ttest: 0.6927497\tbest: 0.6927497 (0)\ttotal: 55.3ms\tremaining: 8.02s\n",
      "25:\tlearn: 0.6894964\ttest: 0.6861772\tbest: 0.6861772 (25)\ttotal: 413ms\tremaining: 1.9s\n",
      "50:\tlearn: 0.6875025\ttest: 0.6828525\tbest: 0.6828525 (50)\ttotal: 776ms\tremaining: 1.45s\n",
      "75:\tlearn: 0.6858841\ttest: 0.6808928\tbest: 0.6808928 (75)\ttotal: 1.13s\tremaining: 1.04s\n",
      "100:\tlearn: 0.6845029\ttest: 0.6795391\tbest: 0.6795391 (100)\ttotal: 1.47s\tremaining: 656ms\n",
      "125:\tlearn: 0.6832606\ttest: 0.6785046\tbest: 0.6785046 (125)\ttotal: 1.81s\tremaining: 288ms\n"
     ]
    },
    {
     "name": "stderr",
     "output_type": "stream",
     "text": [
      "2022-03-30 12:39:59 mean cv_value 0.06365742896489131 | std cv_value 0.012748773630453658 \n",
      "2022-03-30 12:39:59 ---------------------------------------------\n"
     ]
    },
    {
     "name": "stdout",
     "output_type": "stream",
     "text": [
      "145:\tlearn: 0.6822481\ttest: 0.6777378\tbest: 0.6777378 (145)\ttotal: 2.09s\tremaining: 0us\n",
      "\n",
      "bestTest = 0.6777377778\n",
      "bestIteration = 145\n",
      "\n"
     ]
    },
    {
     "name": "stderr",
     "output_type": "stream",
     "text": [
      "2022-03-30 12:40:01 [TRAIN_MODEL] Training model\n",
      "2022-03-30 12:40:01 Set of params....., {'depth': 10, 'iterations': 196, 'learning_rate': 0.0010485281781915667, 'colsample_bylevel': 0.5758865815480086}\n"
     ]
    },
    {
     "name": "stdout",
     "output_type": "stream",
     "text": [
      "Iteration No: 85 ended. Search finished for the next optimal point.\n",
      "Time taken: 8.5317\n",
      "Function value obtained: -0.0637\n",
      "Current minimum: -0.0655\n",
      "Iteration No: 86 started. Searching for the next optimal point.\n",
      "0:\tlearn: 0.6931331\ttest: 0.6931249\tbest: 0.6931249 (0)\ttotal: 48.3ms\tremaining: 9.41s\n",
      "25:\tlearn: 0.6926580\ttest: 0.6925686\tbest: 0.6925686 (25)\ttotal: 1.05s\tremaining: 6.88s\n",
      "50:\tlearn: 0.6921907\ttest: 0.6920207\tbest: 0.6920207 (50)\ttotal: 2.03s\tremaining: 5.77s\n",
      "75:\tlearn: 0.6917430\ttest: 0.6914967\tbest: 0.6914967 (75)\ttotal: 3s\tremaining: 4.73s\n",
      "100:\tlearn: 0.6912916\ttest: 0.6909807\tbest: 0.6909807 (100)\ttotal: 4.02s\tremaining: 3.78s\n",
      "125:\tlearn: 0.6908532\ttest: 0.6904792\tbest: 0.6904792 (125)\ttotal: 4.99s\tremaining: 2.77s\n",
      "150:\tlearn: 0.6904152\ttest: 0.6899875\tbest: 0.6899875 (150)\ttotal: 5.96s\tremaining: 1.78s\n",
      "175:\tlearn: 0.6899967\ttest: 0.6895112\tbest: 0.6895112 (175)\ttotal: 6.94s\tremaining: 789ms\n",
      "195:\tlearn: 0.6896631\ttest: 0.6891378\tbest: 0.6891378 (195)\ttotal: 7.74s\tremaining: 0us\n",
      "\n",
      "bestTest = 0.6891378446\n",
      "bestIteration = 195\n",
      "\n",
      "0:\tlearn: 0.6931281\ttest: 0.6931228\tbest: 0.6931228 (0)\ttotal: 42.9ms\tremaining: 8.37s\n",
      "25:\tlearn: 0.6926500\ttest: 0.6925710\tbest: 0.6925710 (25)\ttotal: 1.03s\tremaining: 6.72s\n",
      "50:\tlearn: 0.6921760\ttest: 0.6920268\tbest: 0.6920268 (50)\ttotal: 2.02s\tremaining: 5.74s\n",
      "75:\tlearn: 0.6917105\ttest: 0.6914961\tbest: 0.6914961 (75)\ttotal: 3s\tremaining: 4.73s\n",
      "100:\tlearn: 0.6912595\ttest: 0.6909752\tbest: 0.6909752 (100)\ttotal: 4s\tremaining: 3.76s\n",
      "125:\tlearn: 0.6908097\ttest: 0.6904727\tbest: 0.6904727 (125)\ttotal: 4.98s\tremaining: 2.77s\n",
      "150:\tlearn: 0.6903538\ttest: 0.6899692\tbest: 0.6899692 (150)\ttotal: 5.98s\tremaining: 1.78s\n",
      "175:\tlearn: 0.6899349\ttest: 0.6894919\tbest: 0.6894919 (175)\ttotal: 6.96s\tremaining: 791ms\n",
      "195:\tlearn: 0.6896045\ttest: 0.6891216\tbest: 0.6891216 (195)\ttotal: 7.74s\tremaining: 0us\n",
      "\n",
      "bestTest = 0.6891216416\n",
      "bestIteration = 195\n",
      "\n",
      "0:\tlearn: 0.6931236\ttest: 0.6931238\tbest: 0.6931238 (0)\ttotal: 43.1ms\tremaining: 8.4s\n",
      "25:\tlearn: 0.6926586\ttest: 0.6925808\tbest: 0.6925808 (25)\ttotal: 1.05s\tremaining: 6.84s\n",
      "50:\tlearn: 0.6921935\ttest: 0.6920455\tbest: 0.6920455 (50)\ttotal: 2.05s\tremaining: 5.83s\n",
      "75:\tlearn: 0.6917444\ttest: 0.6915316\tbest: 0.6915316 (75)\ttotal: 3.03s\tremaining: 4.78s\n",
      "100:\tlearn: 0.6912906\ttest: 0.6910117\tbest: 0.6910117 (100)\ttotal: 4.01s\tremaining: 3.77s\n",
      "125:\tlearn: 0.6908525\ttest: 0.6905182\tbest: 0.6905182 (125)\ttotal: 4.99s\tremaining: 2.77s\n",
      "150:\tlearn: 0.6904313\ttest: 0.6900361\tbest: 0.6900361 (150)\ttotal: 5.96s\tremaining: 1.78s\n",
      "175:\tlearn: 0.6900035\ttest: 0.6895631\tbest: 0.6895631 (175)\ttotal: 6.93s\tremaining: 788ms\n"
     ]
    },
    {
     "name": "stderr",
     "output_type": "stream",
     "text": [
      "2022-03-30 12:40:25 mean cv_value 0.05243350584070982 | std cv_value 0.009879262861060636 \n",
      "2022-03-30 12:40:25 ---------------------------------------------\n"
     ]
    },
    {
     "name": "stdout",
     "output_type": "stream",
     "text": [
      "195:\tlearn: 0.6896688\ttest: 0.6891966\tbest: 0.6891966 (195)\ttotal: 7.72s\tremaining: 0us\n",
      "\n",
      "bestTest = 0.6891965726\n",
      "bestIteration = 195\n",
      "\n"
     ]
    },
    {
     "name": "stderr",
     "output_type": "stream",
     "text": [
      "2022-03-30 12:40:26 [TRAIN_MODEL] Training model\n",
      "2022-03-30 12:40:26 Set of params....., {'depth': 4, 'iterations': 110, 'learning_rate': 0.0070264635828844926, 'colsample_bylevel': 0.7005307206932989}\n"
     ]
    },
    {
     "name": "stdout",
     "output_type": "stream",
     "text": [
      "Iteration No: 86 ended. Search finished for the next optimal point.\n",
      "Time taken: 25.4975\n",
      "Function value obtained: -0.0524\n",
      "Current minimum: -0.0655\n",
      "Iteration No: 87 started. Searching for the next optimal point.\n",
      "0:\tlearn: 0.6931111\ttest: 0.6930556\tbest: 0.6930556 (0)\ttotal: 10.4ms\tremaining: 1.14s\n",
      "25:\tlearn: 0.6922089\ttest: 0.6910083\tbest: 0.6910083 (25)\ttotal: 234ms\tremaining: 757ms\n",
      "50:\tlearn: 0.6915519\ttest: 0.6893854\tbest: 0.6893854 (50)\ttotal: 458ms\tremaining: 530ms\n",
      "75:\tlearn: 0.6910650\ttest: 0.6881166\tbest: 0.6881166 (75)\ttotal: 675ms\tremaining: 302ms\n",
      "100:\tlearn: 0.6906931\ttest: 0.6870870\tbest: 0.6870870 (100)\ttotal: 893ms\tremaining: 79.5ms\n",
      "109:\tlearn: 0.6905779\ttest: 0.6867632\tbest: 0.6867632 (109)\ttotal: 971ms\tremaining: 0us\n",
      "\n",
      "bestTest = 0.6867632094\n",
      "bestIteration = 109\n",
      "\n",
      "0:\tlearn: 0.6931097\ttest: 0.6930544\tbest: 0.6930544 (0)\ttotal: 10.5ms\tremaining: 1.15s\n",
      "25:\tlearn: 0.6922615\ttest: 0.6910861\tbest: 0.6910861 (25)\ttotal: 233ms\tremaining: 753ms\n",
      "50:\tlearn: 0.6916321\ttest: 0.6895425\tbest: 0.6895425 (50)\ttotal: 455ms\tremaining: 526ms\n",
      "75:\tlearn: 0.6911569\ttest: 0.6882835\tbest: 0.6882835 (75)\ttotal: 671ms\tremaining: 300ms\n",
      "100:\tlearn: 0.6907992\ttest: 0.6872851\tbest: 0.6872851 (100)\ttotal: 886ms\tremaining: 78.9ms\n",
      "109:\tlearn: 0.6906850\ttest: 0.6869689\tbest: 0.6869689 (109)\ttotal: 964ms\tremaining: 0us\n",
      "\n",
      "bestTest = 0.6869688963\n",
      "bestIteration = 109\n",
      "\n",
      "0:\tlearn: 0.6931101\ttest: 0.6930565\tbest: 0.6930565 (0)\ttotal: 10.5ms\tremaining: 1.14s\n",
      "25:\tlearn: 0.6923066\ttest: 0.6911307\tbest: 0.6911307 (25)\ttotal: 235ms\tremaining: 760ms\n",
      "50:\tlearn: 0.6917140\ttest: 0.6896006\tbest: 0.6896006 (50)\ttotal: 455ms\tremaining: 526ms\n",
      "75:\tlearn: 0.6912666\ttest: 0.6883791\tbest: 0.6883791 (75)\ttotal: 669ms\tremaining: 299ms\n"
     ]
    },
    {
     "name": "stderr",
     "output_type": "stream",
     "text": [
      "2022-03-30 12:40:30 mean cv_value 0.058736388994055234 | std cv_value 0.006569051471845338 \n",
      "2022-03-30 12:40:30 ---------------------------------------------\n"
     ]
    },
    {
     "name": "stdout",
     "output_type": "stream",
     "text": [
      "100:\tlearn: 0.6909183\ttest: 0.6874171\tbest: 0.6874171 (100)\ttotal: 885ms\tremaining: 78.9ms\n",
      "109:\tlearn: 0.6908091\ttest: 0.6871030\tbest: 0.6871030 (109)\ttotal: 963ms\tremaining: 0us\n",
      "\n",
      "bestTest = 0.687102967\n",
      "bestIteration = 109\n",
      "\n"
     ]
    },
    {
     "name": "stderr",
     "output_type": "stream",
     "text": [
      "2022-03-30 12:40:31 [TRAIN_MODEL] Training model\n",
      "2022-03-30 12:40:31 Set of params....., {'depth': 6, 'iterations': 154, 'learning_rate': 0.024275282949540244, 'colsample_bylevel': 0.5}\n"
     ]
    },
    {
     "name": "stdout",
     "output_type": "stream",
     "text": [
      "Iteration No: 87 ended. Search finished for the next optimal point.\n",
      "Time taken: 5.1944\n",
      "Function value obtained: -0.0587\n",
      "Current minimum: -0.0655\n",
      "Iteration No: 88 started. Searching for the next optimal point.\n",
      "0:\tlearn: 0.6929836\ttest: 0.6927948\tbest: 0.6927948 (0)\ttotal: 14.4ms\tremaining: 2.21s\n",
      "25:\tlearn: 0.6902336\ttest: 0.6868553\tbest: 0.6868553 (25)\ttotal: 351ms\tremaining: 1.73s\n",
      "50:\tlearn: 0.6888094\ttest: 0.6837983\tbest: 0.6837983 (50)\ttotal: 689ms\tremaining: 1.39s\n",
      "75:\tlearn: 0.6877801\ttest: 0.6821235\tbest: 0.6821235 (75)\ttotal: 1.03s\tremaining: 1.05s\n",
      "100:\tlearn: 0.6869430\ttest: 0.6810234\tbest: 0.6810234 (100)\ttotal: 1.36s\tremaining: 715ms\n",
      "125:\tlearn: 0.6862386\ttest: 0.6801829\tbest: 0.6801829 (125)\ttotal: 1.7s\tremaining: 377ms\n",
      "150:\tlearn: 0.6855072\ttest: 0.6795151\tbest: 0.6795151 (150)\ttotal: 2.03s\tremaining: 40.3ms\n",
      "153:\tlearn: 0.6854239\ttest: 0.6794483\tbest: 0.6794483 (153)\ttotal: 2.07s\tremaining: 0us\n",
      "\n",
      "bestTest = 0.6794482933\n",
      "bestIteration = 153\n",
      "\n",
      "0:\tlearn: 0.6929808\ttest: 0.6927930\tbest: 0.6927930 (0)\ttotal: 17.2ms\tremaining: 2.63s\n",
      "25:\tlearn: 0.6902901\ttest: 0.6869335\tbest: 0.6869335 (25)\ttotal: 354ms\tremaining: 1.75s\n",
      "50:\tlearn: 0.6888854\ttest: 0.6840183\tbest: 0.6840183 (50)\ttotal: 686ms\tremaining: 1.39s\n",
      "75:\tlearn: 0.6878760\ttest: 0.6822806\tbest: 0.6822806 (75)\ttotal: 1.03s\tremaining: 1.06s\n",
      "100:\tlearn: 0.6870774\ttest: 0.6812246\tbest: 0.6812246 (100)\ttotal: 1.36s\tremaining: 715ms\n",
      "125:\tlearn: 0.6863425\ttest: 0.6803403\tbest: 0.6803403 (125)\ttotal: 1.7s\tremaining: 378ms\n",
      "150:\tlearn: 0.6856386\ttest: 0.6796623\tbest: 0.6796623 (150)\ttotal: 2.04s\tremaining: 40.6ms\n",
      "153:\tlearn: 0.6855580\ttest: 0.6796043\tbest: 0.6796043 (153)\ttotal: 2.08s\tremaining: 0us\n",
      "\n",
      "bestTest = 0.6796042539\n",
      "bestIteration = 153\n",
      "\n",
      "0:\tlearn: 0.6929865\ttest: 0.6928048\tbest: 0.6928048 (0)\ttotal: 14.9ms\tremaining: 2.29s\n",
      "25:\tlearn: 0.6904165\ttest: 0.6871046\tbest: 0.6871046 (25)\ttotal: 339ms\tremaining: 1.67s\n",
      "50:\tlearn: 0.6890372\ttest: 0.6841275\tbest: 0.6841275 (50)\ttotal: 674ms\tremaining: 1.36s\n",
      "75:\tlearn: 0.6880628\ttest: 0.6824958\tbest: 0.6824958 (75)\ttotal: 1.01s\tremaining: 1.04s\n",
      "100:\tlearn: 0.6872435\ttest: 0.6813909\tbest: 0.6813909 (100)\ttotal: 1.35s\tremaining: 710ms\n",
      "125:\tlearn: 0.6865069\ttest: 0.6805017\tbest: 0.6805017 (125)\ttotal: 1.69s\tremaining: 375ms\n"
     ]
    },
    {
     "name": "stderr",
     "output_type": "stream",
     "text": [
      "2022-03-30 12:40:38 mean cv_value 0.06294388995329693 | std cv_value 0.006419379046070474 \n",
      "2022-03-30 12:40:38 ---------------------------------------------\n"
     ]
    },
    {
     "name": "stdout",
     "output_type": "stream",
     "text": [
      "150:\tlearn: 0.6857891\ttest: 0.6798514\tbest: 0.6798514 (150)\ttotal: 2.02s\tremaining: 40.2ms\n",
      "153:\tlearn: 0.6857153\ttest: 0.6797818\tbest: 0.6797818 (153)\ttotal: 2.07s\tremaining: 0us\n",
      "\n",
      "bestTest = 0.679781807\n",
      "bestIteration = 153\n",
      "\n"
     ]
    },
    {
     "name": "stderr",
     "output_type": "stream",
     "text": [
      "2022-03-30 12:40:40 [TRAIN_MODEL] Training model\n",
      "2022-03-30 12:40:40 Set of params....., {'depth': 2, 'iterations': 8, 'learning_rate': 0.004952228754048618, 'colsample_bylevel': 0.8341224662484199}\n"
     ]
    },
    {
     "name": "stdout",
     "output_type": "stream",
     "text": [
      "Iteration No: 88 ended. Search finished for the next optimal point.\n",
      "Time taken: 8.5055\n",
      "Function value obtained: -0.0629\n",
      "Current minimum: -0.0655\n",
      "Iteration No: 89 started. Searching for the next optimal point.\n",
      "0:\tlearn: 0.6931147\ttest: 0.6930923\tbest: 0.6930923 (0)\ttotal: 8.45ms\tremaining: 59.2ms\n",
      "7:\tlearn: 0.6929823\ttest: 0.6927532\tbest: 0.6927532 (7)\ttotal: 55ms\tremaining: 0us\n",
      "\n",
      "bestTest = 0.6927531745\n",
      "bestIteration = 7\n",
      "\n",
      "0:\tlearn: 0.6931170\ttest: 0.6930940\tbest: 0.6930940 (0)\ttotal: 14.9ms\tremaining: 104ms\n",
      "7:\tlearn: 0.6929949\ttest: 0.6928046\tbest: 0.6928046 (7)\ttotal: 63.1ms\tremaining: 0us\n",
      "\n",
      "bestTest = 0.6928045508\n",
      "bestIteration = 7\n",
      "\n"
     ]
    },
    {
     "name": "stderr",
     "output_type": "stream",
     "text": [
      "2022-03-30 12:40:41 mean cv_value 0.05103707084183179 | std cv_value 0.012501308420046623 \n",
      "2022-03-30 12:40:41 ---------------------------------------------\n"
     ]
    },
    {
     "name": "stdout",
     "output_type": "stream",
     "text": [
      "0:\tlearn: 0.6931123\ttest: 0.6930975\tbest: 0.6930975 (0)\ttotal: 8.56ms\tremaining: 59.9ms\n",
      "7:\tlearn: 0.6929921\ttest: 0.6927990\tbest: 0.6927990 (7)\ttotal: 53.7ms\tremaining: 0us\n",
      "\n",
      "bestTest = 0.6927990309\n",
      "bestIteration = 7\n",
      "\n"
     ]
    },
    {
     "name": "stderr",
     "output_type": "stream",
     "text": [
      "2022-03-30 12:40:42 [TRAIN_MODEL] Training model\n",
      "2022-03-30 12:40:42 Set of params....., {'depth': 9, 'iterations': 109, 'learning_rate': 0.0035419006469014306, 'colsample_bylevel': 0.5927109502973569}\n"
     ]
    },
    {
     "name": "stdout",
     "output_type": "stream",
     "text": [
      "Iteration No: 89 ended. Search finished for the next optimal point.\n",
      "Time taken: 2.3705\n",
      "Function value obtained: -0.0510\n",
      "Current minimum: -0.0655\n",
      "Iteration No: 90 started. Searching for the next optimal point.\n",
      "0:\tlearn: 0.6930992\ttest: 0.6930782\tbest: 0.6930782 (0)\ttotal: 34.1ms\tremaining: 3.68s\n",
      "25:\tlearn: 0.6919882\ttest: 0.6915335\tbest: 0.6915335 (25)\ttotal: 844ms\tremaining: 2.69s\n",
      "50:\tlearn: 0.6909576\ttest: 0.6901115\tbest: 0.6901115 (50)\ttotal: 1.65s\tremaining: 1.88s\n",
      "75:\tlearn: 0.6900020\ttest: 0.6888405\tbest: 0.6888405 (75)\ttotal: 2.45s\tremaining: 1.06s\n",
      "100:\tlearn: 0.6891348\ttest: 0.6876826\tbest: 0.6876826 (100)\ttotal: 3.25s\tremaining: 258ms\n",
      "108:\tlearn: 0.6888589\ttest: 0.6873276\tbest: 0.6873276 (108)\ttotal: 3.51s\tremaining: 0us\n",
      "\n",
      "bestTest = 0.687327597\n",
      "bestIteration = 108\n",
      "\n",
      "0:\tlearn: 0.6931009\ttest: 0.6930789\tbest: 0.6930789 (0)\ttotal: 32.9ms\tremaining: 3.56s\n",
      "25:\tlearn: 0.6919722\ttest: 0.6915453\tbest: 0.6915453 (25)\ttotal: 863ms\tremaining: 2.75s\n",
      "50:\tlearn: 0.6909192\ttest: 0.6901344\tbest: 0.6901344 (50)\ttotal: 1.69s\tremaining: 1.92s\n",
      "75:\tlearn: 0.6899742\ttest: 0.6888623\tbest: 0.6888623 (75)\ttotal: 2.51s\tremaining: 1.09s\n",
      "100:\tlearn: 0.6890900\ttest: 0.6877132\tbest: 0.6877132 (100)\ttotal: 3.32s\tremaining: 263ms\n",
      "108:\tlearn: 0.6888245\ttest: 0.6873631\tbest: 0.6873631 (108)\ttotal: 3.59s\tremaining: 0us\n",
      "\n",
      "bestTest = 0.687363068\n",
      "bestIteration = 108\n",
      "\n",
      "0:\tlearn: 0.6930939\ttest: 0.6930817\tbest: 0.6930817 (0)\ttotal: 33.2ms\tremaining: 3.58s\n",
      "25:\tlearn: 0.6920059\ttest: 0.6915837\tbest: 0.6915837 (25)\ttotal: 855ms\tremaining: 2.73s\n",
      "50:\tlearn: 0.6910040\ttest: 0.6902046\tbest: 0.6902046 (50)\ttotal: 1.67s\tremaining: 1.9s\n",
      "75:\tlearn: 0.6900625\ttest: 0.6889438\tbest: 0.6889438 (75)\ttotal: 2.48s\tremaining: 1.08s\n",
      "100:\tlearn: 0.6891918\ttest: 0.6877924\tbest: 0.6877924 (100)\ttotal: 3.29s\tremaining: 261ms\n"
     ]
    },
    {
     "name": "stderr",
     "output_type": "stream",
     "text": [
      "2022-03-30 12:40:54 mean cv_value 0.0515747404668794 | std cv_value 0.006340105829170982 \n",
      "2022-03-30 12:40:54 ---------------------------------------------\n"
     ]
    },
    {
     "name": "stdout",
     "output_type": "stream",
     "text": [
      "108:\tlearn: 0.6889268\ttest: 0.6874512\tbest: 0.6874512 (108)\ttotal: 3.55s\tremaining: 0us\n",
      "\n",
      "bestTest = 0.6874512388\n",
      "bestIteration = 108\n",
      "\n"
     ]
    },
    {
     "name": "stderr",
     "output_type": "stream",
     "text": [
      "2022-03-30 12:40:55 [TRAIN_MODEL] Training model\n",
      "2022-03-30 12:40:55 Set of params....., {'depth': 4, 'iterations': 5, 'learning_rate': 0.3869531413987648, 'colsample_bylevel': 0.7440780679263531}\n"
     ]
    },
    {
     "name": "stdout",
     "output_type": "stream",
     "text": [
      "Iteration No: 90 ended. Search finished for the next optimal point.\n",
      "Time taken: 13.1427\n",
      "Function value obtained: -0.0516\n",
      "Current minimum: -0.0655\n",
      "Iteration No: 91 started. Searching for the next optimal point.\n",
      "0:\tlearn: 0.6912632\ttest: 0.6885067\tbest: 0.6885067 (0)\ttotal: 10.8ms\tremaining: 43.4ms\n",
      "4:\tlearn: 0.6893458\ttest: 0.6826876\tbest: 0.6826876 (4)\ttotal: 48.6ms\tremaining: 0us\n",
      "\n",
      "bestTest = 0.6826875719\n",
      "bestIteration = 4\n",
      "\n",
      "0:\tlearn: 0.6912833\ttest: 0.6887455\tbest: 0.6887455 (0)\ttotal: 11ms\tremaining: 44ms\n",
      "4:\tlearn: 0.6894035\ttest: 0.6829989\tbest: 0.6829989 (4)\ttotal: 52ms\tremaining: 0us\n",
      "\n",
      "bestTest = 0.6829988691\n",
      "bestIteration = 4\n",
      "\n"
     ]
    },
    {
     "name": "stderr",
     "output_type": "stream",
     "text": [
      "2022-03-30 12:40:56 mean cv_value 0.057579525861253866 | std cv_value 0.006757574947540159 \n",
      "2022-03-30 12:40:56 ---------------------------------------------\n"
     ]
    },
    {
     "name": "stdout",
     "output_type": "stream",
     "text": [
      "0:\tlearn: 0.6914070\ttest: 0.6885780\tbest: 0.6885780 (0)\ttotal: 10.7ms\tremaining: 43ms\n",
      "4:\tlearn: 0.6895782\ttest: 0.6831444\tbest: 0.6831444 (4)\ttotal: 54.1ms\tremaining: 0us\n",
      "\n",
      "bestTest = 0.6831444353\n",
      "bestIteration = 4\n",
      "\n"
     ]
    },
    {
     "name": "stderr",
     "output_type": "stream",
     "text": [
      "2022-03-30 12:40:58 [TRAIN_MODEL] Training model\n",
      "2022-03-30 12:40:58 Set of params....., {'depth': 4, 'iterations': 5, 'learning_rate': 0.0010639186969602333, 'colsample_bylevel': 0.9395510600459633}\n"
     ]
    },
    {
     "name": "stdout",
     "output_type": "stream",
     "text": [
      "Iteration No: 91 ended. Search finished for the next optimal point.\n",
      "Time taken: 2.5273\n",
      "Function value obtained: -0.0576\n",
      "Current minimum: -0.0655\n",
      "Iteration No: 92 started. Searching for the next optimal point.\n",
      "0:\tlearn: 0.6931481\ttest: 0.6931332\tbest: 0.6931332 (0)\ttotal: 10.3ms\tremaining: 41.2ms\n",
      "4:\tlearn: 0.6931168\ttest: 0.6930767\tbest: 0.6930767 (4)\ttotal: 45.1ms\tremaining: 0us\n",
      "\n",
      "bestTest = 0.6930767287\n",
      "bestIteration = 4\n",
      "\n",
      "0:\tlearn: 0.6931445\ttest: 0.6931339\tbest: 0.6931339 (0)\ttotal: 11.4ms\tremaining: 45.6ms\n",
      "4:\tlearn: 0.6931170\ttest: 0.6930807\tbest: 0.6930807 (4)\ttotal: 44.4ms\tremaining: 0us\n",
      "\n",
      "bestTest = 0.6930806947\n",
      "bestIteration = 4\n",
      "\n"
     ]
    },
    {
     "name": "stderr",
     "output_type": "stream",
     "text": [
      "2022-03-30 12:40:59 mean cv_value 0.050397620694230344 | std cv_value 0.006887410215295914 \n",
      "2022-03-30 12:40:59 ---------------------------------------------\n"
     ]
    },
    {
     "name": "stdout",
     "output_type": "stream",
     "text": [
      "0:\tlearn: 0.6931411\ttest: 0.6931340\tbest: 0.6931340 (0)\ttotal: 10.5ms\tremaining: 41.9ms\n",
      "4:\tlearn: 0.6931116\ttest: 0.6930810\tbest: 0.6930810 (4)\ttotal: 45.8ms\tremaining: 0us\n",
      "\n",
      "bestTest = 0.6930809673\n",
      "bestIteration = 4\n",
      "\n"
     ]
    },
    {
     "name": "stderr",
     "output_type": "stream",
     "text": [
      "2022-03-30 12:41:00 [TRAIN_MODEL] Training model\n",
      "2022-03-30 12:41:00 Set of params....., {'depth': 7, 'iterations': 200, 'learning_rate': 0.011989498692207442, 'colsample_bylevel': 1.0}\n"
     ]
    },
    {
     "name": "stdout",
     "output_type": "stream",
     "text": [
      "Iteration No: 92 ended. Search finished for the next optimal point.\n",
      "Time taken: 2.5634\n",
      "Function value obtained: -0.0504\n",
      "Current minimum: -0.0655\n",
      "Iteration No: 93 started. Searching for the next optimal point.\n",
      "0:\tlearn: 0.6930527\ttest: 0.6929756\tbest: 0.6929756 (0)\ttotal: 17ms\tremaining: 3.39s\n",
      "25:\tlearn: 0.6910346\ttest: 0.6892349\tbest: 0.6892349 (25)\ttotal: 395ms\tremaining: 2.64s\n",
      "50:\tlearn: 0.6896040\ttest: 0.6865627\tbest: 0.6865627 (50)\ttotal: 768ms\tremaining: 2.24s\n",
      "75:\tlearn: 0.6885073\ttest: 0.6846494\tbest: 0.6846494 (75)\ttotal: 1.13s\tremaining: 1.85s\n",
      "100:\tlearn: 0.6875393\ttest: 0.6831136\tbest: 0.6831136 (100)\ttotal: 1.5s\tremaining: 1.47s\n",
      "125:\tlearn: 0.6867191\ttest: 0.6819645\tbest: 0.6819645 (125)\ttotal: 1.87s\tremaining: 1.1s\n",
      "150:\tlearn: 0.6860334\ttest: 0.6810828\tbest: 0.6810828 (150)\ttotal: 2.22s\tremaining: 722ms\n",
      "175:\tlearn: 0.6853796\ttest: 0.6803606\tbest: 0.6803606 (175)\ttotal: 2.58s\tremaining: 353ms\n",
      "199:\tlearn: 0.6847791\ttest: 0.6797859\tbest: 0.6797859 (199)\ttotal: 2.92s\tremaining: 0us\n",
      "\n",
      "bestTest = 0.6797858798\n",
      "bestIteration = 199\n",
      "\n",
      "0:\tlearn: 0.6930481\ttest: 0.6929760\tbest: 0.6929760 (0)\ttotal: 16.8ms\tremaining: 3.34s\n",
      "25:\tlearn: 0.6910201\ttest: 0.6892279\tbest: 0.6892279 (25)\ttotal: 391ms\tremaining: 2.62s\n",
      "50:\tlearn: 0.6896223\ttest: 0.6866021\tbest: 0.6866021 (50)\ttotal: 752ms\tremaining: 2.19s\n",
      "75:\tlearn: 0.6885146\ttest: 0.6846513\tbest: 0.6846513 (75)\ttotal: 1.12s\tremaining: 1.83s\n",
      "100:\tlearn: 0.6875640\ttest: 0.6831375\tbest: 0.6831375 (100)\ttotal: 1.49s\tremaining: 1.46s\n",
      "125:\tlearn: 0.6867241\ttest: 0.6819768\tbest: 0.6819768 (125)\ttotal: 1.85s\tremaining: 1.09s\n",
      "150:\tlearn: 0.6859868\ttest: 0.6810647\tbest: 0.6810647 (150)\ttotal: 2.21s\tremaining: 717ms\n",
      "175:\tlearn: 0.6852748\ttest: 0.6803059\tbest: 0.6803059 (175)\ttotal: 2.57s\tremaining: 351ms\n",
      "199:\tlearn: 0.6846464\ttest: 0.6796786\tbest: 0.6796786 (199)\ttotal: 2.91s\tremaining: 0us\n",
      "\n",
      "bestTest = 0.6796785813\n",
      "bestIteration = 199\n",
      "\n",
      "0:\tlearn: 0.6930420\ttest: 0.6929647\tbest: 0.6929647 (0)\ttotal: 17.2ms\tremaining: 3.43s\n",
      "25:\tlearn: 0.6911283\ttest: 0.6892788\tbest: 0.6892788 (25)\ttotal: 388ms\tremaining: 2.6s\n",
      "50:\tlearn: 0.6897951\ttest: 0.6866771\tbest: 0.6866771 (50)\ttotal: 754ms\tremaining: 2.2s\n",
      "75:\tlearn: 0.6887435\ttest: 0.6848054\tbest: 0.6848054 (75)\ttotal: 1.11s\tremaining: 1.81s\n",
      "100:\tlearn: 0.6878589\ttest: 0.6833601\tbest: 0.6833601 (100)\ttotal: 1.47s\tremaining: 1.44s\n",
      "125:\tlearn: 0.6870635\ttest: 0.6822466\tbest: 0.6822466 (125)\ttotal: 1.83s\tremaining: 1.07s\n",
      "150:\tlearn: 0.6863568\ttest: 0.6813537\tbest: 0.6813537 (150)\ttotal: 2.18s\tremaining: 707ms\n",
      "175:\tlearn: 0.6856988\ttest: 0.6806464\tbest: 0.6806464 (175)\ttotal: 2.53s\tremaining: 345ms\n"
     ]
    },
    {
     "name": "stderr",
     "output_type": "stream",
     "text": [
      "2022-03-30 12:41:10 mean cv_value 0.06318147854994265 | std cv_value 0.010234817465882558 \n",
      "2022-03-30 12:41:10 ---------------------------------------------\n"
     ]
    },
    {
     "name": "stdout",
     "output_type": "stream",
     "text": [
      "199:\tlearn: 0.6850628\ttest: 0.6800388\tbest: 0.6800388 (199)\ttotal: 2.87s\tremaining: 0us\n",
      "\n",
      "bestTest = 0.6800387833\n",
      "bestIteration = 199\n",
      "\n"
     ]
    },
    {
     "name": "stderr",
     "output_type": "stream",
     "text": [
      "2022-03-30 12:41:12 [TRAIN_MODEL] Training model\n",
      "2022-03-30 12:41:12 Set of params....., {'depth': 9, 'iterations': 110, 'learning_rate': 0.04507752927776372, 'colsample_bylevel': 0.9241539706438318}\n"
     ]
    },
    {
     "name": "stdout",
     "output_type": "stream",
     "text": [
      "Iteration No: 93 ended. Search finished for the next optimal point.\n",
      "Time taken: 11.2912\n",
      "Function value obtained: -0.0632\n",
      "Current minimum: -0.0655\n",
      "Iteration No: 94 started. Searching for the next optimal point.\n",
      "0:\tlearn: 0.6925500\ttest: 0.6923276\tbest: 0.6923276 (0)\ttotal: 30.7ms\tremaining: 3.34s\n",
      "25:\tlearn: 0.6826350\ttest: 0.6801821\tbest: 0.6801821 (25)\ttotal: 817ms\tremaining: 2.64s\n",
      "50:\tlearn: 0.6767418\ttest: 0.6749123\tbest: 0.6749123 (50)\ttotal: 1.55s\tremaining: 1.8s\n",
      "75:\tlearn: 0.6720852\ttest: 0.6717130\tbest: 0.6717130 (75)\ttotal: 2.27s\tremaining: 1.01s\n",
      "100:\tlearn: 0.6672615\ttest: 0.6687813\tbest: 0.6687813 (100)\ttotal: 2.99s\tremaining: 266ms\n",
      "109:\tlearn: 0.6656381\ttest: 0.6678252\tbest: 0.6678252 (109)\ttotal: 3.25s\tremaining: 0us\n",
      "\n",
      "bestTest = 0.6678251824\n",
      "bestIteration = 109\n",
      "\n",
      "0:\tlearn: 0.6925181\ttest: 0.6922997\tbest: 0.6922997 (0)\ttotal: 31.3ms\tremaining: 3.41s\n",
      "25:\tlearn: 0.6825184\ttest: 0.6803371\tbest: 0.6803371 (25)\ttotal: 818ms\tremaining: 2.64s\n",
      "50:\tlearn: 0.6760007\ttest: 0.6748483\tbest: 0.6748483 (50)\ttotal: 1.59s\tremaining: 1.83s\n",
      "75:\tlearn: 0.6710739\ttest: 0.6714216\tbest: 0.6714216 (75)\ttotal: 2.32s\tremaining: 1.04s\n",
      "100:\tlearn: 0.6668174\ttest: 0.6689492\tbest: 0.6689492 (100)\ttotal: 3.04s\tremaining: 271ms\n",
      "109:\tlearn: 0.6652677\ttest: 0.6681232\tbest: 0.6681232 (109)\ttotal: 3.3s\tremaining: 0us\n",
      "\n",
      "bestTest = 0.6681231935\n",
      "bestIteration = 109\n",
      "\n",
      "0:\tlearn: 0.6925612\ttest: 0.6923373\tbest: 0.6923373 (0)\ttotal: 31.5ms\tremaining: 3.44s\n",
      "25:\tlearn: 0.6828891\ttest: 0.6805074\tbest: 0.6805074 (25)\ttotal: 819ms\tremaining: 2.65s\n",
      "50:\tlearn: 0.6765697\ttest: 0.6752875\tbest: 0.6752875 (50)\ttotal: 1.58s\tremaining: 1.83s\n",
      "75:\tlearn: 0.6713373\ttest: 0.6717748\tbest: 0.6717748 (75)\ttotal: 2.32s\tremaining: 1.04s\n",
      "100:\tlearn: 0.6670577\ttest: 0.6691994\tbest: 0.6691994 (100)\ttotal: 3.08s\tremaining: 275ms\n"
     ]
    },
    {
     "name": "stderr",
     "output_type": "stream",
     "text": [
      "2022-03-30 12:41:22 mean cv_value 0.054334604144184895 | std cv_value 0.0064670523045570905 \n",
      "2022-03-30 12:41:22 ---------------------------------------------\n"
     ]
    },
    {
     "name": "stdout",
     "output_type": "stream",
     "text": [
      "109:\tlearn: 0.6655588\ttest: 0.6682547\tbest: 0.6682547 (109)\ttotal: 3.34s\tremaining: 0us\n",
      "\n",
      "bestTest = 0.6682546922\n",
      "bestIteration = 109\n",
      "\n"
     ]
    },
    {
     "name": "stderr",
     "output_type": "stream",
     "text": [
      "2022-03-30 12:41:24 [TRAIN_MODEL] Training model\n",
      "2022-03-30 12:41:24 Set of params....., {'depth': 6, 'iterations': 200, 'learning_rate': 0.0312833487801814, 'colsample_bylevel': 1.0}\n"
     ]
    },
    {
     "name": "stdout",
     "output_type": "stream",
     "text": [
      "Iteration No: 94 ended. Search finished for the next optimal point.\n",
      "Time taken: 12.2940\n",
      "Function value obtained: -0.0543\n",
      "Current minimum: -0.0655\n",
      "Iteration No: 95 started. Searching for the next optimal point.\n",
      "0:\tlearn: 0.6929241\ttest: 0.6927192\tbest: 0.6927192 (0)\ttotal: 16.1ms\tremaining: 3.2s\n",
      "25:\tlearn: 0.6896229\ttest: 0.6857191\tbest: 0.6857191 (25)\ttotal: 323ms\tremaining: 2.16s\n",
      "50:\tlearn: 0.6880275\ttest: 0.6826855\tbest: 0.6826855 (50)\ttotal: 618ms\tremaining: 1.81s\n",
      "75:\tlearn: 0.6869113\ttest: 0.6811589\tbest: 0.6811589 (75)\ttotal: 903ms\tremaining: 1.47s\n",
      "100:\tlearn: 0.6859223\ttest: 0.6800597\tbest: 0.6800597 (100)\ttotal: 1.19s\tremaining: 1.16s\n",
      "125:\tlearn: 0.6849732\ttest: 0.6792570\tbest: 0.6792570 (125)\ttotal: 1.47s\tremaining: 864ms\n",
      "150:\tlearn: 0.6840083\ttest: 0.6785425\tbest: 0.6785425 (150)\ttotal: 1.76s\tremaining: 571ms\n",
      "175:\tlearn: 0.6831082\ttest: 0.6779113\tbest: 0.6779113 (175)\ttotal: 2.04s\tremaining: 278ms\n",
      "199:\tlearn: 0.6822636\ttest: 0.6773153\tbest: 0.6773153 (199)\ttotal: 2.31s\tremaining: 0us\n",
      "\n",
      "bestTest = 0.6773153011\n",
      "bestIteration = 199\n",
      "\n",
      "0:\tlearn: 0.6929208\ttest: 0.6927233\tbest: 0.6927233 (0)\ttotal: 17.4ms\tremaining: 3.47s\n",
      "25:\tlearn: 0.6897101\ttest: 0.6858282\tbest: 0.6858282 (25)\ttotal: 301ms\tremaining: 2.01s\n",
      "50:\tlearn: 0.6881255\ttest: 0.6827464\tbest: 0.6827464 (50)\ttotal: 589ms\tremaining: 1.72s\n",
      "75:\tlearn: 0.6869783\ttest: 0.6811450\tbest: 0.6811450 (75)\ttotal: 878ms\tremaining: 1.43s\n",
      "100:\tlearn: 0.6859573\ttest: 0.6800768\tbest: 0.6800768 (100)\ttotal: 1.16s\tremaining: 1.14s\n",
      "125:\tlearn: 0.6850755\ttest: 0.6792799\tbest: 0.6792799 (125)\ttotal: 1.45s\tremaining: 851ms\n",
      "150:\tlearn: 0.6841989\ttest: 0.6786259\tbest: 0.6786259 (150)\ttotal: 1.73s\tremaining: 562ms\n",
      "175:\tlearn: 0.6833077\ttest: 0.6780660\tbest: 0.6780660 (175)\ttotal: 2.02s\tremaining: 276ms\n",
      "199:\tlearn: 0.6825507\ttest: 0.6775270\tbest: 0.6775270 (199)\ttotal: 2.29s\tremaining: 0us\n",
      "\n",
      "bestTest = 0.6775270176\n",
      "bestIteration = 199\n",
      "\n",
      "0:\tlearn: 0.6929229\ttest: 0.6926906\tbest: 0.6926906 (0)\ttotal: 15.9ms\tremaining: 3.16s\n",
      "25:\tlearn: 0.6898740\ttest: 0.6858983\tbest: 0.6858983 (25)\ttotal: 302ms\tremaining: 2.02s\n",
      "50:\tlearn: 0.6883085\ttest: 0.6829570\tbest: 0.6829570 (50)\ttotal: 592ms\tremaining: 1.73s\n",
      "75:\tlearn: 0.6871297\ttest: 0.6813327\tbest: 0.6813327 (75)\ttotal: 883ms\tremaining: 1.44s\n",
      "100:\tlearn: 0.6860719\ttest: 0.6802589\tbest: 0.6802589 (100)\ttotal: 1.17s\tremaining: 1.15s\n",
      "125:\tlearn: 0.6851717\ttest: 0.6794800\tbest: 0.6794800 (125)\ttotal: 1.46s\tremaining: 857ms\n",
      "150:\tlearn: 0.6843033\ttest: 0.6788382\tbest: 0.6788382 (150)\ttotal: 1.76s\tremaining: 571ms\n",
      "175:\tlearn: 0.6833504\ttest: 0.6781080\tbest: 0.6781080 (175)\ttotal: 2.05s\tremaining: 279ms\n"
     ]
    },
    {
     "name": "stderr",
     "output_type": "stream",
     "text": [
      "2022-03-30 12:41:32 mean cv_value 0.06612645098166235 | std cv_value 0.005884449891657687 \n",
      "2022-03-30 12:41:32 ---------------------------------------------\n"
     ]
    },
    {
     "name": "stdout",
     "output_type": "stream",
     "text": [
      "199:\tlearn: 0.6825323\ttest: 0.6775079\tbest: 0.6775079 (199)\ttotal: 2.32s\tremaining: 0us\n",
      "\n",
      "bestTest = 0.6775078855\n",
      "bestIteration = 199\n",
      "\n"
     ]
    },
    {
     "name": "stderr",
     "output_type": "stream",
     "text": [
      "2022-03-30 12:41:34 [TRAIN_MODEL] Training model\n",
      "2022-03-30 12:41:34 Set of params....., {'depth': 16, 'iterations': 198, 'learning_rate': 0.06095585999588774, 'colsample_bylevel': 0.7084984374762244}\n"
     ]
    },
    {
     "name": "stdout",
     "output_type": "stream",
     "text": [
      "Iteration No: 95 ended. Search finished for the next optimal point.\n",
      "Time taken: 9.7709\n",
      "Function value obtained: -0.0661\n",
      "Current minimum: -0.0661\n",
      "Iteration No: 96 started. Searching for the next optimal point.\n",
      "0:\tlearn: 0.6848326\ttest: 0.6885083\tbest: 0.6885083 (0)\ttotal: 2.94s\tremaining: 9m 38s\n",
      "25:\tlearn: 0.5646876\ttest: 0.6232681\tbest: 0.6232681 (25)\ttotal: 1m 9s\tremaining: 7m 41s\n",
      "50:\tlearn: 0.5114499\ttest: 0.5942380\tbest: 0.5942380 (50)\ttotal: 2m 15s\tremaining: 6m 31s\n",
      "75:\tlearn: 0.4663443\ttest: 0.5727894\tbest: 0.5727894 (75)\ttotal: 3m 22s\tremaining: 5m 24s\n",
      "100:\tlearn: 0.4294979\ttest: 0.5559092\tbest: 0.5559092 (100)\ttotal: 4m 28s\tremaining: 4m 17s\n",
      "125:\tlearn: 0.4027580\ttest: 0.5437857\tbest: 0.5437857 (125)\ttotal: 5m 33s\tremaining: 3m 10s\n",
      "150:\tlearn: 0.3817683\ttest: 0.5348963\tbest: 0.5348963 (150)\ttotal: 6m 37s\tremaining: 2m 3s\n",
      "175:\tlearn: 0.3614621\ttest: 0.5263670\tbest: 0.5263670 (175)\ttotal: 7m 43s\tremaining: 58s\n",
      "197:\tlearn: 0.3451497\ttest: 0.5197826\tbest: 0.5197826 (197)\ttotal: 8m 42s\tremaining: 0us\n",
      "\n",
      "bestTest = 0.5197826122\n",
      "bestIteration = 197\n",
      "\n",
      "0:\tlearn: 0.6852644\ttest: 0.6892428\tbest: 0.6892428 (0)\ttotal: 2.67s\tremaining: 8m 46s\n",
      "25:\tlearn: 0.5700829\ttest: 0.6264865\tbest: 0.6264865 (25)\ttotal: 1m 9s\tremaining: 7m 42s\n",
      "50:\tlearn: 0.5169974\ttest: 0.5966500\tbest: 0.5966500 (50)\ttotal: 2m 16s\tremaining: 6m 34s\n",
      "75:\tlearn: 0.4739738\ttest: 0.5762763\tbest: 0.5762763 (75)\ttotal: 3m 23s\tremaining: 5m 26s\n",
      "100:\tlearn: 0.4333403\ttest: 0.5591521\tbest: 0.5591521 (100)\ttotal: 4m 30s\tremaining: 4m 20s\n",
      "125:\tlearn: 0.4049384\ttest: 0.5465401\tbest: 0.5465401 (125)\ttotal: 5m 35s\tremaining: 3m 11s\n",
      "150:\tlearn: 0.3809264\ttest: 0.5363742\tbest: 0.5363742 (150)\ttotal: 6m 42s\tremaining: 2m 5s\n",
      "175:\tlearn: 0.3606952\ttest: 0.5287019\tbest: 0.5287019 (175)\ttotal: 7m 49s\tremaining: 58.7s\n",
      "197:\tlearn: 0.3470403\ttest: 0.5233026\tbest: 0.5233026 (197)\ttotal: 8m 45s\tremaining: 0us\n",
      "\n",
      "bestTest = 0.5233025972\n",
      "bestIteration = 197\n",
      "\n",
      "0:\tlearn: 0.6847254\ttest: 0.6885237\tbest: 0.6885237 (0)\ttotal: 2.75s\tremaining: 9m 1s\n",
      "25:\tlearn: 0.5626471\ttest: 0.6227628\tbest: 0.6227628 (25)\ttotal: 1m 9s\tremaining: 7m 39s\n",
      "50:\tlearn: 0.5022269\ttest: 0.5903451\tbest: 0.5903451 (50)\ttotal: 2m 15s\tremaining: 6m 30s\n",
      "75:\tlearn: 0.4557929\ttest: 0.5684197\tbest: 0.5684197 (75)\ttotal: 3m 22s\tremaining: 5m 25s\n",
      "100:\tlearn: 0.4214755\ttest: 0.5529419\tbest: 0.5529419 (100)\ttotal: 4m 30s\tremaining: 4m 20s\n",
      "125:\tlearn: 0.3966742\ttest: 0.5423907\tbest: 0.5423907 (125)\ttotal: 5m 38s\tremaining: 3m 13s\n",
      "150:\tlearn: 0.3745743\ttest: 0.5337657\tbest: 0.5337657 (150)\ttotal: 6m 43s\tremaining: 2m 5s\n",
      "175:\tlearn: 0.3549051\ttest: 0.5263751\tbest: 0.5263751 (175)\ttotal: 7m 50s\tremaining: 58.9s\n",
      "197:\tlearn: 0.3394217\ttest: 0.5209555\tbest: 0.5209555 (197)\ttotal: 8m 50s\tremaining: 0us\n",
      "\n",
      "bestTest = 0.5209554738\n",
      "bestIteration = 197\n",
      "\n"
     ]
    },
    {
     "name": "stderr",
     "output_type": "stream",
     "text": [
      "2022-03-30 13:07:57 mean cv_value 0.0012922211313812404 | std cv_value 0.004034134364875979 \n",
      "2022-03-30 13:07:57 ---------------------------------------------\n",
      "2022-03-30 13:08:04 [TRAIN_MODEL] Training model\n",
      "2022-03-30 13:08:04 Set of params....., {'depth': 6, 'iterations': 200, 'learning_rate': 0.03143796575543416, 'colsample_bylevel': 1.0}\n"
     ]
    },
    {
     "name": "stdout",
     "output_type": "stream",
     "text": [
      "Iteration No: 96 ended. Search finished for the next optimal point.\n",
      "Time taken: 1589.8567\n",
      "Function value obtained: -0.0013\n",
      "Current minimum: -0.0661\n",
      "Iteration No: 97 started. Searching for the next optimal point.\n",
      "0:\tlearn: 0.6929245\ttest: 0.6927171\tbest: 0.6927171 (0)\ttotal: 18.9ms\tremaining: 3.75s\n",
      "25:\tlearn: 0.6895924\ttest: 0.6857172\tbest: 0.6857172 (25)\ttotal: 332ms\tremaining: 2.22s\n",
      "50:\tlearn: 0.6880205\ttest: 0.6826612\tbest: 0.6826612 (50)\ttotal: 620ms\tremaining: 1.81s\n",
      "75:\tlearn: 0.6868195\ttest: 0.6810399\tbest: 0.6810399 (75)\ttotal: 914ms\tremaining: 1.49s\n",
      "100:\tlearn: 0.6858801\ttest: 0.6799990\tbest: 0.6799990 (100)\ttotal: 1.22s\tremaining: 1.2s\n",
      "125:\tlearn: 0.6849332\ttest: 0.6792543\tbest: 0.6792543 (125)\ttotal: 1.51s\tremaining: 888ms\n",
      "150:\tlearn: 0.6840134\ttest: 0.6785065\tbest: 0.6785065 (150)\ttotal: 1.8s\tremaining: 585ms\n",
      "175:\tlearn: 0.6831417\ttest: 0.6778913\tbest: 0.6778913 (175)\ttotal: 2.09s\tremaining: 285ms\n",
      "199:\tlearn: 0.6823493\ttest: 0.6773661\tbest: 0.6773661 (199)\ttotal: 2.36s\tremaining: 0us\n",
      "\n",
      "bestTest = 0.6773660528\n",
      "bestIteration = 199\n",
      "\n",
      "0:\tlearn: 0.6929194\ttest: 0.6927212\tbest: 0.6927212 (0)\ttotal: 33.1ms\tremaining: 6.58s\n",
      "25:\tlearn: 0.6896816\ttest: 0.6857818\tbest: 0.6857818 (25)\ttotal: 336ms\tremaining: 2.25s\n",
      "50:\tlearn: 0.6880819\ttest: 0.6827676\tbest: 0.6827676 (50)\ttotal: 632ms\tremaining: 1.84s\n",
      "75:\tlearn: 0.6868750\ttest: 0.6811619\tbest: 0.6811619 (75)\ttotal: 914ms\tremaining: 1.49s\n",
      "100:\tlearn: 0.6858193\ttest: 0.6800880\tbest: 0.6800880 (100)\ttotal: 1.2s\tremaining: 1.18s\n",
      "125:\tlearn: 0.6849072\ttest: 0.6792889\tbest: 0.6792889 (125)\ttotal: 1.48s\tremaining: 872ms\n",
      "150:\tlearn: 0.6840392\ttest: 0.6786349\tbest: 0.6786349 (150)\ttotal: 1.76s\tremaining: 571ms\n",
      "175:\tlearn: 0.6832081\ttest: 0.6780448\tbest: 0.6780448 (175)\ttotal: 2.04s\tremaining: 278ms\n",
      "199:\tlearn: 0.6824251\ttest: 0.6774978\tbest: 0.6774978 (199)\ttotal: 2.31s\tremaining: 0us\n",
      "\n",
      "bestTest = 0.6774978344\n",
      "bestIteration = 199\n",
      "\n",
      "0:\tlearn: 0.6929233\ttest: 0.6926884\tbest: 0.6926884 (0)\ttotal: 54.3ms\tremaining: 10.8s\n",
      "25:\tlearn: 0.6898424\ttest: 0.6859146\tbest: 0.6859146 (25)\ttotal: 331ms\tremaining: 2.21s\n",
      "50:\tlearn: 0.6883269\ttest: 0.6829396\tbest: 0.6829396 (50)\ttotal: 618ms\tremaining: 1.81s\n",
      "75:\tlearn: 0.6871737\ttest: 0.6813912\tbest: 0.6813912 (75)\ttotal: 909ms\tremaining: 1.48s\n",
      "100:\tlearn: 0.6861299\ttest: 0.6802955\tbest: 0.6802955 (100)\ttotal: 1.19s\tremaining: 1.17s\n",
      "125:\tlearn: 0.6852242\ttest: 0.6794490\tbest: 0.6794490 (125)\ttotal: 1.47s\tremaining: 865ms\n",
      "150:\tlearn: 0.6843165\ttest: 0.6787744\tbest: 0.6787744 (150)\ttotal: 1.75s\tremaining: 569ms\n",
      "175:\tlearn: 0.6834454\ttest: 0.6781329\tbest: 0.6781329 (175)\ttotal: 2.04s\tremaining: 278ms\n"
     ]
    },
    {
     "name": "stderr",
     "output_type": "stream",
     "text": [
      "2022-03-30 13:08:11 mean cv_value 0.0623898652281956 | std cv_value 0.009473086104439418 \n",
      "2022-03-30 13:08:11 ---------------------------------------------\n"
     ]
    },
    {
     "name": "stdout",
     "output_type": "stream",
     "text": [
      "199:\tlearn: 0.6826579\ttest: 0.6776009\tbest: 0.6776009 (199)\ttotal: 2.31s\tremaining: 0us\n",
      "\n",
      "bestTest = 0.6776008738\n",
      "bestIteration = 199\n",
      "\n"
     ]
    },
    {
     "name": "stderr",
     "output_type": "stream",
     "text": [
      "2022-03-30 13:08:15 [TRAIN_MODEL] Training model\n",
      "2022-03-30 13:08:15 Set of params....., {'depth': 5, 'iterations': 200, 'learning_rate': 0.04155828457316217, 'colsample_bylevel': 1.0}\n"
     ]
    },
    {
     "name": "stdout",
     "output_type": "stream",
     "text": [
      "Iteration No: 97 ended. Search finished for the next optimal point.\n",
      "Time taken: 11.2853\n",
      "Function value obtained: -0.0624\n",
      "Current minimum: -0.0661\n",
      "Iteration No: 98 started. Searching for the next optimal point.\n",
      "0:\tlearn: 0.6928797\ttest: 0.6925937\tbest: 0.6925937 (0)\ttotal: 13.5ms\tremaining: 2.68s\n",
      "25:\tlearn: 0.6896533\ttest: 0.6849296\tbest: 0.6849296 (25)\ttotal: 244ms\tremaining: 1.63s\n",
      "50:\tlearn: 0.6884262\ttest: 0.6824168\tbest: 0.6824168 (50)\ttotal: 482ms\tremaining: 1.41s\n",
      "75:\tlearn: 0.6875180\ttest: 0.6811479\tbest: 0.6811479 (75)\ttotal: 719ms\tremaining: 1.17s\n",
      "100:\tlearn: 0.6866961\ttest: 0.6803457\tbest: 0.6803457 (100)\ttotal: 963ms\tremaining: 943ms\n",
      "125:\tlearn: 0.6859361\ttest: 0.6796931\tbest: 0.6796931 (125)\ttotal: 1.2s\tremaining: 707ms\n",
      "150:\tlearn: 0.6852334\ttest: 0.6790800\tbest: 0.6790800 (150)\ttotal: 1.45s\tremaining: 470ms\n",
      "175:\tlearn: 0.6845296\ttest: 0.6785461\tbest: 0.6785461 (175)\ttotal: 1.69s\tremaining: 231ms\n",
      "199:\tlearn: 0.6839133\ttest: 0.6781327\tbest: 0.6781327 (199)\ttotal: 1.92s\tremaining: 0us\n",
      "\n",
      "bestTest = 0.6781327203\n",
      "bestIteration = 199\n",
      "\n",
      "0:\tlearn: 0.6928789\ttest: 0.6926044\tbest: 0.6926044 (0)\ttotal: 18ms\tremaining: 3.57s\n",
      "25:\tlearn: 0.6897334\ttest: 0.6850600\tbest: 0.6850600 (25)\ttotal: 243ms\tremaining: 1.63s\n",
      "50:\tlearn: 0.6885218\ttest: 0.6825111\tbest: 0.6825111 (50)\ttotal: 482ms\tremaining: 1.41s\n",
      "75:\tlearn: 0.6876474\ttest: 0.6812947\tbest: 0.6812947 (75)\ttotal: 715ms\tremaining: 1.17s\n",
      "100:\tlearn: 0.6868769\ttest: 0.6804819\tbest: 0.6804819 (100)\ttotal: 946ms\tremaining: 927ms\n",
      "125:\tlearn: 0.6861717\ttest: 0.6798282\tbest: 0.6798282 (125)\ttotal: 1.18s\tremaining: 695ms\n",
      "150:\tlearn: 0.6855055\ttest: 0.6792467\tbest: 0.6792467 (150)\ttotal: 1.42s\tremaining: 460ms\n",
      "175:\tlearn: 0.6848655\ttest: 0.6787425\tbest: 0.6787425 (175)\ttotal: 1.65s\tremaining: 225ms\n",
      "199:\tlearn: 0.6842744\ttest: 0.6784031\tbest: 0.6784031 (199)\ttotal: 1.88s\tremaining: 0us\n",
      "\n",
      "bestTest = 0.678403051\n",
      "bestIteration = 199\n",
      "\n",
      "0:\tlearn: 0.6928891\ttest: 0.6925743\tbest: 0.6925743 (0)\ttotal: 11.8ms\tremaining: 2.36s\n",
      "25:\tlearn: 0.6899095\ttest: 0.6851563\tbest: 0.6851563 (25)\ttotal: 235ms\tremaining: 1.57s\n",
      "50:\tlearn: 0.6887196\ttest: 0.6826513\tbest: 0.6826513 (50)\ttotal: 471ms\tremaining: 1.38s\n",
      "75:\tlearn: 0.6878420\ttest: 0.6814207\tbest: 0.6814207 (75)\ttotal: 707ms\tremaining: 1.15s\n",
      "100:\tlearn: 0.6870607\ttest: 0.6806313\tbest: 0.6806313 (100)\ttotal: 943ms\tremaining: 924ms\n",
      "125:\tlearn: 0.6863266\ttest: 0.6799383\tbest: 0.6799383 (125)\ttotal: 1.18s\tremaining: 692ms\n",
      "150:\tlearn: 0.6856389\ttest: 0.6793595\tbest: 0.6793595 (150)\ttotal: 1.41s\tremaining: 458ms\n",
      "175:\tlearn: 0.6849407\ttest: 0.6788126\tbest: 0.6788126 (175)\ttotal: 1.65s\tremaining: 224ms\n"
     ]
    },
    {
     "name": "stderr",
     "output_type": "stream",
     "text": [
      "2022-03-30 13:08:21 mean cv_value 0.06364012078160897 | std cv_value 0.009072874110076967 \n",
      "2022-03-30 13:08:21 ---------------------------------------------\n"
     ]
    },
    {
     "name": "stdout",
     "output_type": "stream",
     "text": [
      "199:\tlearn: 0.6843417\ttest: 0.6783868\tbest: 0.6783868 (199)\ttotal: 1.88s\tremaining: 0us\n",
      "\n",
      "bestTest = 0.6783867783\n",
      "bestIteration = 199\n",
      "\n"
     ]
    },
    {
     "name": "stderr",
     "output_type": "stream",
     "text": [
      "2022-03-30 13:08:25 [TRAIN_MODEL] Training model\n",
      "2022-03-30 13:08:25 Set of params....., {'depth': 7, 'iterations': 200, 'learning_rate': 0.021294767091026453, 'colsample_bylevel': 0.5}\n"
     ]
    },
    {
     "name": "stdout",
     "output_type": "stream",
     "text": [
      "Iteration No: 98 ended. Search finished for the next optimal point.\n",
      "Time taken: 10.1100\n",
      "Function value obtained: -0.0636\n",
      "Current minimum: -0.0661\n",
      "Iteration No: 99 started. Searching for the next optimal point.\n",
      "0:\tlearn: 0.6929785\ttest: 0.6928195\tbest: 0.6928195 (0)\ttotal: 54.3ms\tremaining: 10.8s\n",
      "25:\tlearn: 0.6899112\ttest: 0.6870019\tbest: 0.6870019 (25)\ttotal: 494ms\tremaining: 3.31s\n",
      "50:\tlearn: 0.6880150\ttest: 0.6837594\tbest: 0.6837594 (50)\ttotal: 924ms\tremaining: 2.7s\n",
      "75:\tlearn: 0.6865263\ttest: 0.6815745\tbest: 0.6815745 (75)\ttotal: 1.34s\tremaining: 2.19s\n",
      "100:\tlearn: 0.6853975\ttest: 0.6802436\tbest: 0.6802436 (100)\ttotal: 1.74s\tremaining: 1.71s\n",
      "125:\tlearn: 0.6844054\ttest: 0.6792409\tbest: 0.6792409 (125)\ttotal: 2.14s\tremaining: 1.25s\n",
      "150:\tlearn: 0.6834024\ttest: 0.6783988\tbest: 0.6783988 (150)\ttotal: 2.54s\tremaining: 823ms\n",
      "175:\tlearn: 0.6824600\ttest: 0.6776623\tbest: 0.6776623 (175)\ttotal: 2.94s\tremaining: 401ms\n",
      "199:\tlearn: 0.6815637\ttest: 0.6770226\tbest: 0.6770226 (199)\ttotal: 3.32s\tremaining: 0us\n",
      "\n",
      "bestTest = 0.6770225619\n",
      "bestIteration = 199\n",
      "\n",
      "0:\tlearn: 0.6929755\ttest: 0.6928206\tbest: 0.6928206 (0)\ttotal: 27.6ms\tremaining: 5.5s\n",
      "25:\tlearn: 0.6900025\ttest: 0.6871095\tbest: 0.6871095 (25)\ttotal: 465ms\tremaining: 3.11s\n",
      "50:\tlearn: 0.6881513\ttest: 0.6839019\tbest: 0.6839019 (50)\ttotal: 886ms\tremaining: 2.59s\n",
      "75:\tlearn: 0.6867238\ttest: 0.6817825\tbest: 0.6817825 (75)\ttotal: 1.31s\tremaining: 2.14s\n",
      "100:\tlearn: 0.6855419\ttest: 0.6804023\tbest: 0.6804023 (100)\ttotal: 1.74s\tremaining: 1.7s\n",
      "125:\tlearn: 0.6844158\ttest: 0.6793204\tbest: 0.6793204 (125)\ttotal: 2.16s\tremaining: 1.27s\n",
      "150:\tlearn: 0.6833968\ttest: 0.6784606\tbest: 0.6784606 (150)\ttotal: 2.57s\tremaining: 835ms\n",
      "175:\tlearn: 0.6824522\ttest: 0.6777395\tbest: 0.6777395 (175)\ttotal: 2.99s\tremaining: 407ms\n",
      "199:\tlearn: 0.6815275\ttest: 0.6771112\tbest: 0.6771112 (199)\ttotal: 3.37s\tremaining: 0us\n",
      "\n",
      "bestTest = 0.6771111685\n",
      "bestIteration = 199\n",
      "\n",
      "0:\tlearn: 0.6929802\ttest: 0.6928298\tbest: 0.6928298 (0)\ttotal: 71.6ms\tremaining: 14.3s\n",
      "25:\tlearn: 0.6900636\ttest: 0.6872483\tbest: 0.6872483 (25)\ttotal: 530ms\tremaining: 3.55s\n",
      "50:\tlearn: 0.6883104\ttest: 0.6840577\tbest: 0.6840577 (50)\ttotal: 946ms\tremaining: 2.77s\n",
      "75:\tlearn: 0.6869298\ttest: 0.6820064\tbest: 0.6820064 (75)\ttotal: 1.35s\tremaining: 2.21s\n",
      "100:\tlearn: 0.6857088\ttest: 0.6805756\tbest: 0.6805756 (100)\ttotal: 1.76s\tremaining: 1.72s\n",
      "125:\tlearn: 0.6846185\ttest: 0.6795149\tbest: 0.6795149 (125)\ttotal: 2.16s\tremaining: 1.27s\n",
      "150:\tlearn: 0.6836510\ttest: 0.6787433\tbest: 0.6787433 (150)\ttotal: 2.57s\tremaining: 833ms\n",
      "175:\tlearn: 0.6827206\ttest: 0.6780012\tbest: 0.6780012 (175)\ttotal: 2.96s\tremaining: 404ms\n"
     ]
    },
    {
     "name": "stderr",
     "output_type": "stream",
     "text": [
      "2022-03-30 13:08:36 mean cv_value 0.06079297428096967 | std cv_value 0.005091293201097004 \n",
      "2022-03-30 13:08:36 ---------------------------------------------\n"
     ]
    },
    {
     "name": "stdout",
     "output_type": "stream",
     "text": [
      "199:\tlearn: 0.6818434\ttest: 0.6773572\tbest: 0.6773572 (199)\ttotal: 3.35s\tremaining: 0us\n",
      "\n",
      "bestTest = 0.6773572273\n",
      "bestIteration = 199\n",
      "\n"
     ]
    },
    {
     "name": "stderr",
     "output_type": "stream",
     "text": [
      "2022-03-30 13:08:38 [TRAIN_MODEL] Training model\n",
      "2022-03-30 13:08:38 Set of params....., {'depth': 3, 'iterations': 91, 'learning_rate': 0.26182235185894076, 'colsample_bylevel': 0.8089228654565699}\n"
     ]
    },
    {
     "name": "stdout",
     "output_type": "stream",
     "text": [
      "Iteration No: 99 ended. Search finished for the next optimal point.\n",
      "Time taken: 13.4168\n",
      "Function value obtained: -0.0608\n",
      "Current minimum: -0.0661\n",
      "Iteration No: 100 started. Searching for the next optimal point.\n",
      "0:\tlearn: 0.6918717\ttest: 0.6900596\tbest: 0.6900596 (0)\ttotal: 38.8ms\tremaining: 3.5s\n",
      "25:\tlearn: 0.6883443\ttest: 0.6810555\tbest: 0.6810555 (25)\ttotal: 241ms\tremaining: 603ms\n",
      "50:\tlearn: 0.6871251\ttest: 0.6801163\tbest: 0.6801163 (50)\ttotal: 427ms\tremaining: 335ms\n",
      "75:\tlearn: 0.6858636\ttest: 0.6791926\tbest: 0.6791926 (75)\ttotal: 620ms\tremaining: 122ms\n",
      "90:\tlearn: 0.6851727\ttest: 0.6789430\tbest: 0.6789430 (90)\ttotal: 739ms\tremaining: 0us\n",
      "\n",
      "bestTest = 0.6789429814\n",
      "bestIteration = 90\n",
      "\n",
      "0:\tlearn: 0.6919831\ttest: 0.6903179\tbest: 0.6903179 (0)\ttotal: 29.1ms\tremaining: 2.62s\n",
      "25:\tlearn: 0.6886302\ttest: 0.6814668\tbest: 0.6814668 (25)\ttotal: 249ms\tremaining: 623ms\n",
      "50:\tlearn: 0.6873293\ttest: 0.6804578\tbest: 0.6804578 (50)\ttotal: 454ms\tremaining: 356ms\n",
      "75:\tlearn: 0.6860656\ttest: 0.6798394\tbest: 0.6798394 (75)\ttotal: 655ms\tremaining: 129ms\n",
      "90:\tlearn: 0.6853523\ttest: 0.6793280\tbest: 0.6793280 (90)\ttotal: 767ms\tremaining: 0us\n",
      "\n",
      "bestTest = 0.6793279601\n",
      "bestIteration = 90\n",
      "\n",
      "0:\tlearn: 0.6920237\ttest: 0.6901954\tbest: 0.6901954 (0)\ttotal: 13.3ms\tremaining: 1.2s\n",
      "25:\tlearn: 0.6884991\ttest: 0.6816365\tbest: 0.6816365 (25)\ttotal: 237ms\tremaining: 592ms\n",
      "50:\tlearn: 0.6873114\ttest: 0.6804811\tbest: 0.6804811 (50)\ttotal: 432ms\tremaining: 339ms\n",
      "75:\tlearn: 0.6860548\ttest: 0.6801638\tbest: 0.6801638 (75)\ttotal: 627ms\tremaining: 124ms\n",
      "90:\tlearn: 0.6855130\ttest: 0.6796281\tbest: 0.6796281 (90)\ttotal: 739ms\tremaining: 0us\n",
      "\n",
      "bestTest = 0.6796280833\n",
      "bestIteration = 90\n",
      "\n"
     ]
    },
    {
     "name": "stderr",
     "output_type": "stream",
     "text": [
      "2022-03-30 13:08:41 mean cv_value 0.06985934422456178 | std cv_value 0.0028094047200306854 \n",
      "2022-03-30 13:08:41 ---------------------------------------------\n",
      "2022-03-30 13:08:44 [TRAIN_MODEL] Training model\n",
      "2022-03-30 13:08:44 Set of params....., {'depth': 3, 'iterations': 73, 'learning_rate': 0.16928023480864546, 'colsample_bylevel': 0.5}\n"
     ]
    },
    {
     "name": "stdout",
     "output_type": "stream",
     "text": [
      "Iteration No: 100 ended. Search finished for the next optimal point.\n",
      "Time taken: 5.1886\n",
      "Function value obtained: -0.0699\n",
      "Current minimum: -0.0699\n",
      "Iteration No: 101 started. Searching for the next optimal point.\n",
      "0:\tlearn: 0.6923801\ttest: 0.6913699\tbest: 0.6913699 (0)\ttotal: 15.4ms\tremaining: 1.11s\n",
      "25:\tlearn: 0.6890185\ttest: 0.6820591\tbest: 0.6820591 (25)\ttotal: 224ms\tremaining: 406ms\n",
      "50:\tlearn: 0.6881035\ttest: 0.6808633\tbest: 0.6808633 (50)\ttotal: 418ms\tremaining: 180ms\n",
      "72:\tlearn: 0.6873545\ttest: 0.6802818\tbest: 0.6802818 (72)\ttotal: 594ms\tremaining: 0us\n",
      "\n",
      "bestTest = 0.6802817942\n",
      "bestIteration = 72\n",
      "\n",
      "0:\tlearn: 0.6924253\ttest: 0.6914912\tbest: 0.6914912 (0)\ttotal: 10.9ms\tremaining: 785ms\n",
      "25:\tlearn: 0.6892319\ttest: 0.6821026\tbest: 0.6821026 (25)\ttotal: 197ms\tremaining: 357ms\n",
      "50:\tlearn: 0.6883195\ttest: 0.6810155\tbest: 0.6810155 (50)\ttotal: 390ms\tremaining: 168ms\n",
      "72:\tlearn: 0.6876037\ttest: 0.6805476\tbest: 0.6805476 (72)\ttotal: 557ms\tremaining: 0us\n",
      "\n",
      "bestTest = 0.6805475791\n",
      "bestIteration = 72\n",
      "\n",
      "0:\tlearn: 0.6925204\ttest: 0.6917007\tbest: 0.6917007 (0)\ttotal: 17.7ms\tremaining: 1.27s\n",
      "25:\tlearn: 0.6892221\ttest: 0.6823585\tbest: 0.6823585 (25)\ttotal: 247ms\tremaining: 446ms\n",
      "50:\tlearn: 0.6882986\ttest: 0.6811408\tbest: 0.6811408 (50)\ttotal: 448ms\tremaining: 193ms\n",
      "72:\tlearn: 0.6876508\ttest: 0.6805289\tbest: 0.6805289 (72)\ttotal: 617ms\tremaining: 0us\n",
      "\n",
      "bestTest = 0.6805289283\n",
      "bestIteration = 72\n",
      "\n"
     ]
    },
    {
     "name": "stderr",
     "output_type": "stream",
     "text": [
      "2022-03-30 13:08:46 mean cv_value 0.0592330949731057 | std cv_value 0.009552575926463218 \n",
      "2022-03-30 13:08:46 ---------------------------------------------\n",
      "2022-03-30 13:08:49 [TRAIN_MODEL] Training model\n",
      "2022-03-30 13:08:49 Set of params....., {'depth': 4, 'iterations': 86, 'learning_rate': 0.19475585876223261, 'colsample_bylevel': 1.0}\n"
     ]
    },
    {
     "name": "stdout",
     "output_type": "stream",
     "text": [
      "Iteration No: 101 ended. Search finished for the next optimal point.\n",
      "Time taken: 5.0674\n",
      "Function value obtained: -0.0592\n",
      "Current minimum: -0.0699\n",
      "Iteration No: 102 started. Searching for the next optimal point.\n",
      "0:\tlearn: 0.6920872\ttest: 0.6907028\tbest: 0.6907028 (0)\ttotal: 36.9ms\tremaining: 3.14s\n",
      "25:\tlearn: 0.6876880\ttest: 0.6808144\tbest: 0.6808144 (25)\ttotal: 253ms\tremaining: 584ms\n",
      "50:\tlearn: 0.6859166\ttest: 0.6793138\tbest: 0.6793138 (50)\ttotal: 457ms\tremaining: 313ms\n",
      "75:\tlearn: 0.6840978\ttest: 0.6783111\tbest: 0.6783111 (75)\ttotal: 666ms\tremaining: 87.7ms\n",
      "85:\tlearn: 0.6834302\ttest: 0.6779305\tbest: 0.6779305 (85)\ttotal: 749ms\tremaining: 0us\n",
      "\n",
      "bestTest = 0.6779305288\n",
      "bestIteration = 85\n",
      "\n",
      "0:\tlearn: 0.6921151\ttest: 0.6908357\tbest: 0.6908357 (0)\ttotal: 10.3ms\tremaining: 876ms\n",
      "25:\tlearn: 0.6878575\ttest: 0.6811443\tbest: 0.6811443 (25)\ttotal: 206ms\tremaining: 476ms\n",
      "50:\tlearn: 0.6860251\ttest: 0.6797269\tbest: 0.6797269 (50)\ttotal: 405ms\tremaining: 278ms\n",
      "75:\tlearn: 0.6843642\ttest: 0.6787118\tbest: 0.6787118 (75)\ttotal: 601ms\tremaining: 79.1ms\n",
      "85:\tlearn: 0.6837106\ttest: 0.6784466\tbest: 0.6784466 (85)\ttotal: 683ms\tremaining: 0us\n",
      "\n",
      "bestTest = 0.6784465976\n",
      "bestIteration = 85\n",
      "\n",
      "0:\tlearn: 0.6921715\ttest: 0.6907394\tbest: 0.6907394 (0)\ttotal: 51.8ms\tremaining: 4.41s\n",
      "25:\tlearn: 0.6880643\ttest: 0.6811600\tbest: 0.6811600 (25)\ttotal: 250ms\tremaining: 577ms\n",
      "50:\tlearn: 0.6863596\ttest: 0.6796946\tbest: 0.6796946 (50)\ttotal: 492ms\tremaining: 338ms\n",
      "75:\tlearn: 0.6848734\ttest: 0.6787382\tbest: 0.6787382 (75)\ttotal: 690ms\tremaining: 90.8ms\n"
     ]
    },
    {
     "name": "stderr",
     "output_type": "stream",
     "text": [
      "2022-03-30 13:08:52 mean cv_value 0.061357586290751144 | std cv_value 0.007546150603576775 \n",
      "2022-03-30 13:08:52 ---------------------------------------------\n"
     ]
    },
    {
     "name": "stdout",
     "output_type": "stream",
     "text": [
      "85:\tlearn: 0.6842169\ttest: 0.6783623\tbest: 0.6783623 (85)\ttotal: 770ms\tremaining: 0us\n",
      "\n",
      "bestTest = 0.6783623035\n",
      "bestIteration = 85\n",
      "\n"
     ]
    },
    {
     "name": "stderr",
     "output_type": "stream",
     "text": [
      "2022-03-30 13:08:54 [TRAIN_MODEL] Training model\n",
      "2022-03-30 13:08:54 Set of params....., {'depth': 3, 'iterations': 101, 'learning_rate': 0.2153990097933855, 'colsample_bylevel': 0.5}\n"
     ]
    },
    {
     "name": "stdout",
     "output_type": "stream",
     "text": [
      "Iteration No: 102 ended. Search finished for the next optimal point.\n",
      "Time taken: 5.4190\n",
      "Function value obtained: -0.0614\n",
      "Current minimum: -0.0699\n",
      "Iteration No: 103 started. Searching for the next optimal point.\n",
      "0:\tlearn: 0.6922008\ttest: 0.6909107\tbest: 0.6909107 (0)\ttotal: 26.1ms\tremaining: 2.61s\n",
      "25:\tlearn: 0.6887394\ttest: 0.6815203\tbest: 0.6815203 (25)\ttotal: 231ms\tremaining: 667ms\n",
      "50:\tlearn: 0.6876774\ttest: 0.6806883\tbest: 0.6806883 (50)\ttotal: 428ms\tremaining: 420ms\n",
      "75:\tlearn: 0.6866293\ttest: 0.6798468\tbest: 0.6798468 (75)\ttotal: 621ms\tremaining: 204ms\n",
      "100:\tlearn: 0.6856703\ttest: 0.6792752\tbest: 0.6792752 (100)\ttotal: 806ms\tremaining: 0us\n",
      "\n",
      "bestTest = 0.6792751884\n",
      "bestIteration = 100\n",
      "\n",
      "0:\tlearn: 0.6922547\ttest: 0.6910635\tbest: 0.6910635 (0)\ttotal: 13.2ms\tremaining: 1.32s\n",
      "25:\tlearn: 0.6888892\ttest: 0.6817392\tbest: 0.6817392 (25)\ttotal: 216ms\tremaining: 623ms\n",
      "50:\tlearn: 0.6878315\ttest: 0.6808262\tbest: 0.6808262 (50)\ttotal: 410ms\tremaining: 402ms\n",
      "75:\tlearn: 0.6868460\ttest: 0.6800061\tbest: 0.6800061 (75)\ttotal: 599ms\tremaining: 197ms\n",
      "100:\tlearn: 0.6858745\ttest: 0.6793551\tbest: 0.6793551 (100)\ttotal: 786ms\tremaining: 0us\n",
      "\n",
      "bestTest = 0.6793550514\n",
      "bestIteration = 100\n",
      "\n",
      "0:\tlearn: 0.6923646\ttest: 0.6913269\tbest: 0.6913269 (0)\ttotal: 14.6ms\tremaining: 1.46s\n",
      "25:\tlearn: 0.6889377\ttest: 0.6819975\tbest: 0.6819975 (25)\ttotal: 206ms\tremaining: 595ms\n",
      "50:\tlearn: 0.6879565\ttest: 0.6807770\tbest: 0.6807770 (50)\ttotal: 401ms\tremaining: 393ms\n",
      "75:\tlearn: 0.6870821\ttest: 0.6800852\tbest: 0.6800852 (75)\ttotal: 590ms\tremaining: 194ms\n"
     ]
    },
    {
     "name": "stderr",
     "output_type": "stream",
     "text": [
      "2022-03-30 13:08:57 mean cv_value 0.06212338500956636 | std cv_value 0.007186180758607438 \n",
      "2022-03-30 13:08:57 ---------------------------------------------\n"
     ]
    },
    {
     "name": "stdout",
     "output_type": "stream",
     "text": [
      "100:\tlearn: 0.6861970\ttest: 0.6796105\tbest: 0.6796105 (100)\ttotal: 781ms\tremaining: 0us\n",
      "\n",
      "bestTest = 0.6796105301\n",
      "bestIteration = 100\n",
      "\n"
     ]
    },
    {
     "name": "stderr",
     "output_type": "stream",
     "text": [
      "2022-03-30 13:09:00 [TRAIN_MODEL] Training model\n",
      "2022-03-30 13:09:00 Set of params....., {'depth': 1, 'iterations': 117, 'learning_rate': 0.2618938365293398, 'colsample_bylevel': 0.9287234581004509}\n"
     ]
    },
    {
     "name": "stdout",
     "output_type": "stream",
     "text": [
      "Iteration No: 103 ended. Search finished for the next optimal point.\n",
      "Time taken: 5.6358\n",
      "Function value obtained: -0.0621\n",
      "Current minimum: -0.0699\n",
      "Iteration No: 104 started. Searching for the next optimal point.\n",
      "0:\tlearn: 0.6923629\ttest: 0.6913006\tbest: 0.6913006 (0)\ttotal: 12.2ms\tremaining: 1.42s\n",
      "25:\tlearn: 0.6902637\ttest: 0.6845999\tbest: 0.6845999 (25)\ttotal: 162ms\tremaining: 567ms\n",
      "50:\tlearn: 0.6899272\ttest: 0.6835773\tbest: 0.6835773 (50)\ttotal: 289ms\tremaining: 374ms\n",
      "75:\tlearn: 0.6897418\ttest: 0.6831072\tbest: 0.6831072 (75)\ttotal: 415ms\tremaining: 224ms\n",
      "100:\tlearn: 0.6896220\ttest: 0.6827639\tbest: 0.6827639 (100)\ttotal: 540ms\tremaining: 85.5ms\n",
      "116:\tlearn: 0.6895612\ttest: 0.6826320\tbest: 0.6826320 (116)\ttotal: 620ms\tremaining: 0us\n",
      "\n",
      "bestTest = 0.682632017\n",
      "bestIteration = 116\n",
      "\n",
      "0:\tlearn: 0.6923732\ttest: 0.6912946\tbest: 0.6912946 (0)\ttotal: 7.52ms\tremaining: 873ms\n",
      "25:\tlearn: 0.6903987\ttest: 0.6846722\tbest: 0.6846722 (25)\ttotal: 142ms\tremaining: 498ms\n",
      "50:\tlearn: 0.6900977\ttest: 0.6835317\tbest: 0.6835317 (50)\ttotal: 273ms\tremaining: 353ms\n",
      "75:\tlearn: 0.6899390\ttest: 0.6831257\tbest: 0.6831257 (75)\ttotal: 398ms\tremaining: 215ms\n",
      "100:\tlearn: 0.6898286\ttest: 0.6829392\tbest: 0.6829392 (100)\ttotal: 526ms\tremaining: 83.3ms\n",
      "116:\tlearn: 0.6897677\ttest: 0.6828712\tbest: 0.6828712 (116)\ttotal: 609ms\tremaining: 0us\n",
      "\n",
      "bestTest = 0.6828711773\n",
      "bestIteration = 116\n",
      "\n",
      "0:\tlearn: 0.6924825\ttest: 0.6914813\tbest: 0.6914813 (0)\ttotal: 7.63ms\tremaining: 886ms\n",
      "25:\tlearn: 0.6903976\ttest: 0.6848450\tbest: 0.6848450 (25)\ttotal: 139ms\tremaining: 487ms\n",
      "50:\tlearn: 0.6900869\ttest: 0.6836905\tbest: 0.6836905 (50)\ttotal: 271ms\tremaining: 350ms\n",
      "75:\tlearn: 0.6899306\ttest: 0.6832633\tbest: 0.6832633 (75)\ttotal: 394ms\tremaining: 213ms\n"
     ]
    },
    {
     "name": "stderr",
     "output_type": "stream",
     "text": [
      "2022-03-30 13:09:02 mean cv_value 0.05087414938273347 | std cv_value 0.009035709608554007 \n",
      "2022-03-30 13:09:02 ---------------------------------------------\n"
     ]
    },
    {
     "name": "stdout",
     "output_type": "stream",
     "text": [
      "100:\tlearn: 0.6898336\ttest: 0.6830059\tbest: 0.6830059 (100)\ttotal: 518ms\tremaining: 82ms\n",
      "116:\tlearn: 0.6897770\ttest: 0.6828575\tbest: 0.6828575 (116)\ttotal: 599ms\tremaining: 0us\n",
      "\n",
      "bestTest = 0.6828574667\n",
      "bestIteration = 116\n",
      "\n"
     ]
    },
    {
     "name": "stderr",
     "output_type": "stream",
     "text": [
      "2022-03-30 13:09:04 [TRAIN_MODEL] Training model\n",
      "2022-03-30 13:09:04 Set of params....., {'depth': 4, 'iterations': 200, 'learning_rate': 0.027299764409458423, 'colsample_bylevel': 1.0}\n"
     ]
    },
    {
     "name": "stdout",
     "output_type": "stream",
     "text": [
      "Iteration No: 104 ended. Search finished for the next optimal point.\n",
      "Time taken: 4.6161\n",
      "Function value obtained: -0.0509\n",
      "Current minimum: -0.0699\n",
      "Iteration No: 105 started. Searching for the next optimal point.\n",
      "0:\tlearn: 0.6929833\ttest: 0.6927901\tbest: 0.6927901 (0)\ttotal: 9.88ms\tremaining: 1.97s\n",
      "25:\tlearn: 0.6906571\ttest: 0.6870461\tbest: 0.6870461 (25)\ttotal: 209ms\tremaining: 1.4s\n",
      "50:\tlearn: 0.6897229\ttest: 0.6844188\tbest: 0.6844188 (50)\ttotal: 405ms\tremaining: 1.18s\n",
      "75:\tlearn: 0.6891927\ttest: 0.6831132\tbest: 0.6831132 (75)\ttotal: 602ms\tremaining: 983ms\n",
      "100:\tlearn: 0.6887763\ttest: 0.6823066\tbest: 0.6823066 (100)\ttotal: 804ms\tremaining: 788ms\n",
      "125:\tlearn: 0.6884109\ttest: 0.6816714\tbest: 0.6816714 (125)\ttotal: 1000ms\tremaining: 587ms\n",
      "150:\tlearn: 0.6880916\ttest: 0.6812587\tbest: 0.6812587 (150)\ttotal: 1.2s\tremaining: 390ms\n",
      "175:\tlearn: 0.6877905\ttest: 0.6808356\tbest: 0.6808356 (175)\ttotal: 1.41s\tremaining: 193ms\n",
      "199:\tlearn: 0.6875071\ttest: 0.6805373\tbest: 0.6805373 (199)\ttotal: 1.61s\tremaining: 0us\n",
      "\n",
      "bestTest = 0.6805372671\n",
      "bestIteration = 199\n",
      "\n",
      "0:\tlearn: 0.6929855\ttest: 0.6928092\tbest: 0.6928092 (0)\ttotal: 21.5ms\tremaining: 4.28s\n",
      "25:\tlearn: 0.6907591\ttest: 0.6871962\tbest: 0.6871962 (25)\ttotal: 225ms\tremaining: 1.5s\n",
      "50:\tlearn: 0.6898744\ttest: 0.6846125\tbest: 0.6846125 (50)\ttotal: 424ms\tremaining: 1.24s\n",
      "75:\tlearn: 0.6893619\ttest: 0.6832817\tbest: 0.6832817 (75)\ttotal: 623ms\tremaining: 1.02s\n",
      "100:\tlearn: 0.6889469\ttest: 0.6824694\tbest: 0.6824694 (100)\ttotal: 815ms\tremaining: 799ms\n",
      "125:\tlearn: 0.6886009\ttest: 0.6819169\tbest: 0.6819169 (125)\ttotal: 1.01s\tremaining: 595ms\n",
      "150:\tlearn: 0.6882537\ttest: 0.6815165\tbest: 0.6815165 (150)\ttotal: 1.21s\tremaining: 393ms\n",
      "175:\tlearn: 0.6879536\ttest: 0.6811712\tbest: 0.6811712 (175)\ttotal: 1.41s\tremaining: 192ms\n",
      "199:\tlearn: 0.6876618\ttest: 0.6808547\tbest: 0.6808547 (199)\ttotal: 1.6s\tremaining: 0us\n",
      "\n",
      "bestTest = 0.680854709\n",
      "bestIteration = 199\n",
      "\n",
      "0:\tlearn: 0.6929883\ttest: 0.6927965\tbest: 0.6927965 (0)\ttotal: 13.6ms\tremaining: 2.71s\n",
      "25:\tlearn: 0.6909104\ttest: 0.6873592\tbest: 0.6873592 (25)\ttotal: 210ms\tremaining: 1.41s\n",
      "50:\tlearn: 0.6900098\ttest: 0.6848057\tbest: 0.6848057 (50)\ttotal: 407ms\tremaining: 1.19s\n",
      "75:\tlearn: 0.6894413\ttest: 0.6834305\tbest: 0.6834305 (75)\ttotal: 604ms\tremaining: 985ms\n",
      "100:\tlearn: 0.6890509\ttest: 0.6826372\tbest: 0.6826372 (100)\ttotal: 811ms\tremaining: 795ms\n",
      "125:\tlearn: 0.6887011\ttest: 0.6820844\tbest: 0.6820844 (125)\ttotal: 1.01s\tremaining: 592ms\n",
      "150:\tlearn: 0.6883752\ttest: 0.6816646\tbest: 0.6816646 (150)\ttotal: 1.21s\tremaining: 391ms\n",
      "175:\tlearn: 0.6880869\ttest: 0.6813002\tbest: 0.6813002 (175)\ttotal: 1.41s\tremaining: 192ms\n"
     ]
    },
    {
     "name": "stderr",
     "output_type": "stream",
     "text": [
      "2022-03-30 13:09:10 mean cv_value 0.06118148082275481 | std cv_value 0.008901303937600722 \n",
      "2022-03-30 13:09:10 ---------------------------------------------\n"
     ]
    },
    {
     "name": "stdout",
     "output_type": "stream",
     "text": [
      "199:\tlearn: 0.6878010\ttest: 0.6809976\tbest: 0.6809976 (199)\ttotal: 1.61s\tremaining: 0us\n",
      "\n",
      "bestTest = 0.6809975742\n",
      "bestIteration = 199\n",
      "\n"
     ]
    },
    {
     "name": "stderr",
     "output_type": "stream",
     "text": [
      "2022-03-30 13:09:13 [TRAIN_MODEL] Training model\n",
      "2022-03-30 13:09:13 Set of params....., {'depth': 7, 'iterations': 137, 'learning_rate': 0.029496842906556, 'colsample_bylevel': 1.0}\n"
     ]
    },
    {
     "name": "stdout",
     "output_type": "stream",
     "text": [
      "Iteration No: 105 ended. Search finished for the next optimal point.\n",
      "Time taken: 8.4024\n",
      "Function value obtained: -0.0612\n",
      "Current minimum: -0.0699\n",
      "Iteration No: 106 started. Searching for the next optimal point.\n",
      "0:\tlearn: 0.6929114\ttest: 0.6927275\tbest: 0.6927275 (0)\ttotal: 19.6ms\tremaining: 2.67s\n",
      "25:\tlearn: 0.6889472\ttest: 0.6854843\tbest: 0.6854843 (25)\ttotal: 384ms\tremaining: 1.64s\n",
      "50:\tlearn: 0.6867101\ttest: 0.6819966\tbest: 0.6819966 (50)\ttotal: 727ms\tremaining: 1.23s\n",
      "75:\tlearn: 0.6851120\ttest: 0.6800627\tbest: 0.6800627 (75)\ttotal: 1.07s\tremaining: 856ms\n",
      "100:\tlearn: 0.6836753\ttest: 0.6787274\tbest: 0.6787274 (100)\ttotal: 1.4s\tremaining: 499ms\n",
      "125:\tlearn: 0.6822824\ttest: 0.6776458\tbest: 0.6776458 (125)\ttotal: 1.74s\tremaining: 152ms\n",
      "136:\tlearn: 0.6816730\ttest: 0.6772092\tbest: 0.6772092 (136)\ttotal: 1.89s\tremaining: 0us\n",
      "\n",
      "bestTest = 0.6772091508\n",
      "bestIteration = 136\n",
      "\n",
      "0:\tlearn: 0.6929030\ttest: 0.6927284\tbest: 0.6927284 (0)\ttotal: 37.6ms\tremaining: 5.12s\n",
      "25:\tlearn: 0.6890367\ttest: 0.6855096\tbest: 0.6855096 (25)\ttotal: 403ms\tremaining: 1.72s\n",
      "50:\tlearn: 0.6868079\ttest: 0.6819405\tbest: 0.6819405 (50)\ttotal: 755ms\tremaining: 1.27s\n",
      "75:\tlearn: 0.6851297\ttest: 0.6800125\tbest: 0.6800125 (75)\ttotal: 1.1s\tremaining: 882ms\n",
      "100:\tlearn: 0.6835651\ttest: 0.6786344\tbest: 0.6786344 (100)\ttotal: 1.44s\tremaining: 513ms\n",
      "125:\tlearn: 0.6822210\ttest: 0.6776366\tbest: 0.6776366 (125)\ttotal: 1.78s\tremaining: 155ms\n",
      "136:\tlearn: 0.6816252\ttest: 0.6772302\tbest: 0.6772302 (136)\ttotal: 1.92s\tremaining: 0us\n",
      "\n",
      "bestTest = 0.6772302131\n",
      "bestIteration = 136\n",
      "\n",
      "0:\tlearn: 0.6929088\ttest: 0.6927006\tbest: 0.6927006 (0)\ttotal: 46.3ms\tremaining: 6.3s\n",
      "25:\tlearn: 0.6891831\ttest: 0.6856411\tbest: 0.6856411 (25)\ttotal: 418ms\tremaining: 1.78s\n",
      "50:\tlearn: 0.6870110\ttest: 0.6822246\tbest: 0.6822246 (50)\ttotal: 767ms\tremaining: 1.29s\n",
      "75:\tlearn: 0.6853259\ttest: 0.6802597\tbest: 0.6802597 (75)\ttotal: 1.11s\tremaining: 892ms\n",
      "100:\tlearn: 0.6838190\ttest: 0.6789595\tbest: 0.6789595 (100)\ttotal: 1.45s\tremaining: 515ms\n",
      "125:\tlearn: 0.6824927\ttest: 0.6779834\tbest: 0.6779834 (125)\ttotal: 1.79s\tremaining: 156ms\n",
      "136:\tlearn: 0.6819514\ttest: 0.6775310\tbest: 0.6775310 (136)\ttotal: 1.94s\tremaining: 0us\n",
      "\n",
      "bestTest = 0.6775309573\n",
      "bestIteration = 136\n",
      "\n"
     ]
    },
    {
     "name": "stderr",
     "output_type": "stream",
     "text": [
      "2022-03-30 13:09:19 mean cv_value 0.06472801648436777 | std cv_value 0.010183776297676164 \n",
      "2022-03-30 13:09:19 ---------------------------------------------\n",
      "2022-03-30 13:09:22 [TRAIN_MODEL] Training model\n",
      "2022-03-30 13:09:22 Set of params....., {'depth': 6, 'iterations': 135, 'learning_rate': 0.03021731731627406, 'colsample_bylevel': 1.0}\n"
     ]
    },
    {
     "name": "stdout",
     "output_type": "stream",
     "text": [
      "Iteration No: 106 ended. Search finished for the next optimal point.\n",
      "Time taken: 9.0780\n",
      "Function value obtained: -0.0647\n",
      "Current minimum: -0.0699\n",
      "Iteration No: 107 started. Searching for the next optimal point.\n",
      "0:\tlearn: 0.6929299\ttest: 0.6927337\tbest: 0.6927337 (0)\ttotal: 16.6ms\tremaining: 2.23s\n",
      "25:\tlearn: 0.6897056\ttest: 0.6858763\tbest: 0.6858763 (25)\ttotal: 308ms\tremaining: 1.29s\n",
      "50:\tlearn: 0.6881174\ttest: 0.6827849\tbest: 0.6827849 (50)\ttotal: 591ms\tremaining: 974ms\n",
      "75:\tlearn: 0.6870263\ttest: 0.6812165\tbest: 0.6812165 (75)\ttotal: 868ms\tremaining: 674ms\n",
      "100:\tlearn: 0.6860434\ttest: 0.6801636\tbest: 0.6801636 (100)\ttotal: 1.14s\tremaining: 385ms\n",
      "125:\tlearn: 0.6851293\ttest: 0.6793776\tbest: 0.6793776 (125)\ttotal: 1.42s\tremaining: 101ms\n",
      "134:\tlearn: 0.6848203\ttest: 0.6791395\tbest: 0.6791395 (134)\ttotal: 1.51s\tremaining: 0us\n",
      "\n",
      "bestTest = 0.6791395389\n",
      "bestIteration = 134\n",
      "\n",
      "0:\tlearn: 0.6929358\ttest: 0.6927376\tbest: 0.6927376 (0)\ttotal: 14.2ms\tremaining: 1.9s\n",
      "25:\tlearn: 0.6897937\ttest: 0.6859487\tbest: 0.6859487 (25)\ttotal: 287ms\tremaining: 1.2s\n",
      "50:\tlearn: 0.6881978\ttest: 0.6829070\tbest: 0.6829070 (50)\ttotal: 573ms\tremaining: 944ms\n",
      "75:\tlearn: 0.6870215\ttest: 0.6812633\tbest: 0.6812633 (75)\ttotal: 851ms\tremaining: 661ms\n",
      "100:\tlearn: 0.6860390\ttest: 0.6802334\tbest: 0.6802334 (100)\ttotal: 1.13s\tremaining: 381ms\n",
      "125:\tlearn: 0.6851327\ttest: 0.6794507\tbest: 0.6794507 (125)\ttotal: 1.41s\tremaining: 100ms\n",
      "134:\tlearn: 0.6848404\ttest: 0.6792243\tbest: 0.6792243 (134)\ttotal: 1.51s\tremaining: 0us\n",
      "\n",
      "bestTest = 0.6792242951\n",
      "bestIteration = 134\n",
      "\n",
      "0:\tlearn: 0.6929327\ttest: 0.6927061\tbest: 0.6927061 (0)\ttotal: 42.3ms\tremaining: 5.66s\n",
      "25:\tlearn: 0.6899255\ttest: 0.6861078\tbest: 0.6861078 (25)\ttotal: 351ms\tremaining: 1.47s\n",
      "50:\tlearn: 0.6884141\ttest: 0.6830748\tbest: 0.6830748 (50)\ttotal: 629ms\tremaining: 1.04s\n",
      "75:\tlearn: 0.6872577\ttest: 0.6814757\tbest: 0.6814757 (75)\ttotal: 909ms\tremaining: 706ms\n",
      "100:\tlearn: 0.6862510\ttest: 0.6804989\tbest: 0.6804989 (100)\ttotal: 1.18s\tremaining: 399ms\n"
     ]
    },
    {
     "name": "stderr",
     "output_type": "stream",
     "text": [
      "2022-03-30 13:09:27 mean cv_value 0.062274707750632596 | std cv_value 0.007044581759964474 \n",
      "2022-03-30 13:09:27 ---------------------------------------------\n"
     ]
    },
    {
     "name": "stdout",
     "output_type": "stream",
     "text": [
      "125:\tlearn: 0.6853087\ttest: 0.6796509\tbest: 0.6796509 (125)\ttotal: 1.47s\tremaining: 105ms\n",
      "134:\tlearn: 0.6850338\ttest: 0.6794189\tbest: 0.6794189 (134)\ttotal: 1.56s\tremaining: 0us\n",
      "\n",
      "bestTest = 0.6794189164\n",
      "bestIteration = 134\n",
      "\n"
     ]
    },
    {
     "name": "stderr",
     "output_type": "stream",
     "text": [
      "2022-03-30 13:09:30 [TRAIN_MODEL] Training model\n",
      "2022-03-30 13:09:30 Set of params....., {'depth': 12, 'iterations': 197, 'learning_rate': 0.004641857489523545, 'colsample_bylevel': 0.8099638891682904}\n"
     ]
    },
    {
     "name": "stdout",
     "output_type": "stream",
     "text": [
      "Iteration No: 107 ended. Search finished for the next optimal point.\n",
      "Time taken: 7.8357\n",
      "Function value obtained: -0.0623\n",
      "Current minimum: -0.0699\n",
      "Iteration No: 108 started. Searching for the next optimal point.\n",
      "0:\tlearn: 0.6929597\ttest: 0.6929932\tbest: 0.6929932 (0)\ttotal: 118ms\tremaining: 23.2s\n",
      "25:\tlearn: 0.6885433\ttest: 0.6893927\tbest: 0.6893927 (25)\ttotal: 2.71s\tremaining: 17.8s\n",
      "50:\tlearn: 0.6844306\ttest: 0.6860931\tbest: 0.6860931 (50)\ttotal: 5.25s\tremaining: 15s\n",
      "75:\tlearn: 0.6807435\ttest: 0.6831422\tbest: 0.6831422 (75)\ttotal: 7.79s\tremaining: 12.4s\n",
      "100:\tlearn: 0.6772737\ttest: 0.6804185\tbest: 0.6804185 (100)\ttotal: 10.3s\tremaining: 9.82s\n",
      "125:\tlearn: 0.6740949\ttest: 0.6779054\tbest: 0.6779054 (125)\ttotal: 12.8s\tremaining: 7.22s\n",
      "150:\tlearn: 0.6710188\ttest: 0.6755623\tbest: 0.6755623 (150)\ttotal: 15.3s\tremaining: 4.67s\n",
      "175:\tlearn: 0.6683044\ttest: 0.6734927\tbest: 0.6734927 (175)\ttotal: 17.8s\tremaining: 2.12s\n",
      "196:\tlearn: 0.6657740\ttest: 0.6716741\tbest: 0.6716741 (196)\ttotal: 19.9s\tremaining: 0us\n",
      "\n",
      "bestTest = 0.6716740804\n",
      "bestIteration = 196\n",
      "\n",
      "0:\tlearn: 0.6929512\ttest: 0.6929811\tbest: 0.6929811 (0)\ttotal: 102ms\tremaining: 19.9s\n",
      "25:\tlearn: 0.6882989\ttest: 0.6892139\tbest: 0.6892139 (25)\ttotal: 2.67s\tremaining: 17.5s\n",
      "50:\tlearn: 0.6841074\ttest: 0.6858468\tbest: 0.6858468 (50)\ttotal: 5.19s\tremaining: 14.8s\n",
      "75:\tlearn: 0.6799996\ttest: 0.6826718\tbest: 0.6826718 (75)\ttotal: 7.75s\tremaining: 12.3s\n",
      "100:\tlearn: 0.6763336\ttest: 0.6798291\tbest: 0.6798291 (100)\ttotal: 10.3s\tremaining: 9.76s\n",
      "125:\tlearn: 0.6730360\ttest: 0.6772831\tbest: 0.6772831 (125)\ttotal: 12.8s\tremaining: 7.22s\n",
      "150:\tlearn: 0.6699360\ttest: 0.6749900\tbest: 0.6749900 (150)\ttotal: 15.3s\tremaining: 4.65s\n",
      "175:\tlearn: 0.6670355\ttest: 0.6728901\tbest: 0.6728901 (175)\ttotal: 17.7s\tremaining: 2.11s\n",
      "196:\tlearn: 0.6645930\ttest: 0.6711600\tbest: 0.6711600 (196)\ttotal: 19.8s\tremaining: 0us\n",
      "\n",
      "bestTest = 0.6711600224\n",
      "bestIteration = 196\n",
      "\n",
      "0:\tlearn: 0.6929370\ttest: 0.6929819\tbest: 0.6929819 (0)\ttotal: 113ms\tremaining: 22.1s\n",
      "25:\tlearn: 0.6883904\ttest: 0.6893402\tbest: 0.6893402 (25)\ttotal: 2.71s\tremaining: 17.8s\n",
      "50:\tlearn: 0.6841820\ttest: 0.6860107\tbest: 0.6860107 (50)\ttotal: 5.26s\tremaining: 15.1s\n",
      "75:\tlearn: 0.6798981\ttest: 0.6827207\tbest: 0.6827207 (75)\ttotal: 7.88s\tremaining: 12.5s\n",
      "100:\tlearn: 0.6763291\ttest: 0.6799652\tbest: 0.6799652 (100)\ttotal: 10.4s\tremaining: 9.92s\n",
      "125:\tlearn: 0.6728763\ttest: 0.6773437\tbest: 0.6773437 (125)\ttotal: 12.9s\tremaining: 7.29s\n",
      "150:\tlearn: 0.6695583\ttest: 0.6748611\tbest: 0.6748611 (150)\ttotal: 15.5s\tremaining: 4.71s\n",
      "175:\tlearn: 0.6664424\ttest: 0.6725765\tbest: 0.6725765 (175)\ttotal: 18s\tremaining: 2.15s\n"
     ]
    },
    {
     "name": "stderr",
     "output_type": "stream",
     "text": [
      "2022-03-30 13:10:30 mean cv_value 0.05679445310162168 | std cv_value 0.012246103243467933 \n",
      "2022-03-30 13:10:30 ---------------------------------------------\n"
     ]
    },
    {
     "name": "stdout",
     "output_type": "stream",
     "text": [
      "196:\tlearn: 0.6638911\ttest: 0.6707437\tbest: 0.6707437 (196)\ttotal: 20.1s\tremaining: 0us\n",
      "\n",
      "bestTest = 0.6707437188\n",
      "bestIteration = 196\n",
      "\n"
     ]
    },
    {
     "name": "stderr",
     "output_type": "stream",
     "text": [
      "2022-03-30 13:10:33 [TRAIN_MODEL] Training model\n",
      "2022-03-30 13:10:33 Set of params....., {'depth': 4, 'iterations': 100, 'learning_rate': 0.11733941865983995, 'colsample_bylevel': 1.0}\n"
     ]
    },
    {
     "name": "stdout",
     "output_type": "stream",
     "text": [
      "Iteration No: 108 ended. Search finished for the next optimal point.\n",
      "Time taken: 63.4056\n",
      "Function value obtained: -0.0568\n",
      "Current minimum: -0.0699\n",
      "Iteration No: 109 started. Searching for the next optimal point.\n",
      "0:\tlearn: 0.6924877\ttest: 0.6916458\tbest: 0.6916458 (0)\ttotal: 11.2ms\tremaining: 1.1s\n",
      "25:\tlearn: 0.6886273\ttest: 0.6819770\tbest: 0.6819770 (25)\ttotal: 209ms\tremaining: 596ms\n",
      "50:\tlearn: 0.6873654\ttest: 0.6803248\tbest: 0.6803248 (50)\ttotal: 408ms\tremaining: 392ms\n",
      "75:\tlearn: 0.6862127\ttest: 0.6795050\tbest: 0.6795050 (75)\ttotal: 613ms\tremaining: 194ms\n",
      "99:\tlearn: 0.6852009\ttest: 0.6787562\tbest: 0.6787562 (99)\ttotal: 801ms\tremaining: 0us\n",
      "\n",
      "bestTest = 0.6787561669\n",
      "bestIteration = 99\n",
      "\n",
      "0:\tlearn: 0.6924987\ttest: 0.6917268\tbest: 0.6917268 (0)\ttotal: 10.2ms\tremaining: 1.01s\n",
      "25:\tlearn: 0.6888312\ttest: 0.6821107\tbest: 0.6821107 (25)\ttotal: 205ms\tremaining: 583ms\n",
      "50:\tlearn: 0.6875393\ttest: 0.6806433\tbest: 0.6806433 (50)\ttotal: 409ms\tremaining: 393ms\n",
      "75:\tlearn: 0.6864459\ttest: 0.6797746\tbest: 0.6797746 (75)\ttotal: 607ms\tremaining: 192ms\n",
      "99:\tlearn: 0.6855103\ttest: 0.6791833\tbest: 0.6791833 (99)\ttotal: 798ms\tremaining: 0us\n",
      "\n",
      "bestTest = 0.6791832585\n",
      "bestIteration = 99\n",
      "\n",
      "0:\tlearn: 0.6925283\ttest: 0.6916703\tbest: 0.6916703 (0)\ttotal: 9.75ms\tremaining: 965ms\n",
      "25:\tlearn: 0.6888941\ttest: 0.6822727\tbest: 0.6822727 (25)\ttotal: 205ms\tremaining: 582ms\n",
      "50:\tlearn: 0.6876125\ttest: 0.6806862\tbest: 0.6806862 (50)\ttotal: 403ms\tremaining: 387ms\n",
      "75:\tlearn: 0.6865290\ttest: 0.6798073\tbest: 0.6798073 (75)\ttotal: 604ms\tremaining: 191ms\n",
      "99:\tlearn: 0.6856126\ttest: 0.6791193\tbest: 0.6791193 (99)\ttotal: 803ms\tremaining: 0us\n"
     ]
    },
    {
     "name": "stderr",
     "output_type": "stream",
     "text": [
      "2022-03-30 13:10:36 mean cv_value 0.06078806637618562 | std cv_value 0.0017549267355863511 \n",
      "2022-03-30 13:10:36 ---------------------------------------------\n"
     ]
    },
    {
     "name": "stdout",
     "output_type": "stream",
     "text": [
      "\n",
      "bestTest = 0.6791193332\n",
      "bestIteration = 99\n",
      "\n"
     ]
    },
    {
     "name": "stderr",
     "output_type": "stream",
     "text": [
      "2022-03-30 13:10:39 [TRAIN_MODEL] Training model\n",
      "2022-03-30 13:10:39 Set of params....., {'depth': 7, 'iterations': 132, 'learning_rate': 0.03192907517227543, 'colsample_bylevel': 0.5}\n"
     ]
    },
    {
     "name": "stdout",
     "output_type": "stream",
     "text": [
      "Iteration No: 109 ended. Search finished for the next optimal point.\n",
      "Time taken: 5.4567\n",
      "Function value obtained: -0.0608\n",
      "Current minimum: -0.0699\n",
      "Iteration No: 110 started. Searching for the next optimal point.\n",
      "0:\tlearn: 0.6928995\ttest: 0.6926573\tbest: 0.6926573 (0)\ttotal: 17.2ms\tremaining: 2.25s\n",
      "25:\tlearn: 0.6888790\ttest: 0.6850728\tbest: 0.6850728 (25)\ttotal: 430ms\tremaining: 1.75s\n",
      "50:\tlearn: 0.6866309\ttest: 0.6815637\tbest: 0.6815637 (50)\ttotal: 849ms\tremaining: 1.35s\n",
      "75:\tlearn: 0.6849855\ttest: 0.6796664\tbest: 0.6796664 (75)\ttotal: 1.25s\tremaining: 918ms\n",
      "100:\tlearn: 0.6834169\ttest: 0.6782342\tbest: 0.6782342 (100)\ttotal: 1.65s\tremaining: 506ms\n",
      "125:\tlearn: 0.6820189\ttest: 0.6772152\tbest: 0.6772152 (125)\ttotal: 2.05s\tremaining: 97.6ms\n",
      "131:\tlearn: 0.6816834\ttest: 0.6770073\tbest: 0.6770073 (131)\ttotal: 2.14s\tremaining: 0us\n",
      "\n",
      "bestTest = 0.6770072539\n",
      "bestIteration = 131\n",
      "\n",
      "0:\tlearn: 0.6928962\ttest: 0.6926589\tbest: 0.6926589 (0)\ttotal: 16.9ms\tremaining: 2.22s\n",
      "25:\tlearn: 0.6889839\ttest: 0.6852724\tbest: 0.6852724 (25)\ttotal: 422ms\tremaining: 1.72s\n",
      "50:\tlearn: 0.6867973\ttest: 0.6819201\tbest: 0.6819201 (50)\ttotal: 825ms\tremaining: 1.31s\n",
      "75:\tlearn: 0.6850649\ttest: 0.6799565\tbest: 0.6799565 (75)\ttotal: 1.22s\tremaining: 900ms\n",
      "100:\tlearn: 0.6834812\ttest: 0.6785487\tbest: 0.6785487 (100)\ttotal: 1.61s\tremaining: 495ms\n",
      "125:\tlearn: 0.6820061\ttest: 0.6774265\tbest: 0.6774265 (125)\ttotal: 2s\tremaining: 95.4ms\n",
      "131:\tlearn: 0.6816829\ttest: 0.6772025\tbest: 0.6772025 (131)\ttotal: 2.1s\tremaining: 0us\n",
      "\n",
      "bestTest = 0.6772024956\n",
      "bestIteration = 131\n",
      "\n",
      "0:\tlearn: 0.6928979\ttest: 0.6926727\tbest: 0.6926727 (0)\ttotal: 18.5ms\tremaining: 2.42s\n",
      "25:\tlearn: 0.6890514\ttest: 0.6853679\tbest: 0.6853679 (25)\ttotal: 430ms\tremaining: 1.75s\n",
      "50:\tlearn: 0.6868557\ttest: 0.6820006\tbest: 0.6820006 (50)\ttotal: 833ms\tremaining: 1.32s\n",
      "75:\tlearn: 0.6850474\ttest: 0.6800288\tbest: 0.6800288 (75)\ttotal: 1.23s\tremaining: 905ms\n",
      "100:\tlearn: 0.6835138\ttest: 0.6787477\tbest: 0.6787477 (100)\ttotal: 1.62s\tremaining: 498ms\n"
     ]
    },
    {
     "name": "stderr",
     "output_type": "stream",
     "text": [
      "2022-03-30 13:10:46 mean cv_value 0.056789950374045606 | std cv_value 0.010568428348269767 \n",
      "2022-03-30 13:10:46 ---------------------------------------------\n"
     ]
    },
    {
     "name": "stdout",
     "output_type": "stream",
     "text": [
      "125:\tlearn: 0.6821138\ttest: 0.6777541\tbest: 0.6777541 (125)\ttotal: 2.01s\tremaining: 95.9ms\n",
      "131:\tlearn: 0.6817663\ttest: 0.6774915\tbest: 0.6774915 (131)\ttotal: 2.11s\tremaining: 0us\n",
      "\n",
      "bestTest = 0.6774915258\n",
      "bestIteration = 131\n",
      "\n"
     ]
    },
    {
     "name": "stderr",
     "output_type": "stream",
     "text": [
      "2022-03-30 13:10:48 [TRAIN_MODEL] Training model\n",
      "2022-03-30 13:10:48 Set of params....., {'depth': 5, 'iterations': 200, 'learning_rate': 0.02441314159185375, 'colsample_bylevel': 1.0}\n"
     ]
    },
    {
     "name": "stdout",
     "output_type": "stream",
     "text": [
      "Iteration No: 110 ended. Search finished for the next optimal point.\n",
      "Time taken: 9.6250\n",
      "Function value obtained: -0.0568\n",
      "Current minimum: -0.0699\n",
      "Iteration No: 111 started. Searching for the next optimal point.\n",
      "0:\tlearn: 0.6929946\ttest: 0.6928206\tbest: 0.6928206 (0)\ttotal: 20.6ms\tremaining: 4.1s\n",
      "25:\tlearn: 0.6905439\ttest: 0.6871177\tbest: 0.6871177 (25)\ttotal: 245ms\tremaining: 1.64s\n",
      "50:\tlearn: 0.6894317\ttest: 0.6843778\tbest: 0.6843778 (50)\ttotal: 475ms\tremaining: 1.39s\n",
      "75:\tlearn: 0.6886832\ttest: 0.6828169\tbest: 0.6828169 (75)\ttotal: 706ms\tremaining: 1.15s\n",
      "100:\tlearn: 0.6881325\ttest: 0.6819279\tbest: 0.6819279 (100)\ttotal: 945ms\tremaining: 926ms\n",
      "125:\tlearn: 0.6876282\ttest: 0.6812625\tbest: 0.6812625 (125)\ttotal: 1.19s\tremaining: 696ms\n",
      "150:\tlearn: 0.6871464\ttest: 0.6806792\tbest: 0.6806792 (150)\ttotal: 1.42s\tremaining: 462ms\n",
      "175:\tlearn: 0.6867132\ttest: 0.6802705\tbest: 0.6802705 (175)\ttotal: 1.66s\tremaining: 226ms\n",
      "199:\tlearn: 0.6862971\ttest: 0.6798796\tbest: 0.6798796 (199)\ttotal: 1.89s\tremaining: 0us\n",
      "\n",
      "bestTest = 0.6798796486\n",
      "bestIteration = 199\n",
      "\n",
      "0:\tlearn: 0.6929977\ttest: 0.6928269\tbest: 0.6928269 (0)\ttotal: 10.4ms\tremaining: 2.08s\n",
      "25:\tlearn: 0.6906152\ttest: 0.6872821\tbest: 0.6872821 (25)\ttotal: 239ms\tremaining: 1.6s\n",
      "50:\tlearn: 0.6895022\ttest: 0.6845003\tbest: 0.6845003 (50)\ttotal: 464ms\tremaining: 1.35s\n",
      "75:\tlearn: 0.6888022\ttest: 0.6829746\tbest: 0.6829746 (75)\ttotal: 700ms\tremaining: 1.14s\n",
      "100:\tlearn: 0.6882183\ttest: 0.6820208\tbest: 0.6820208 (100)\ttotal: 937ms\tremaining: 918ms\n",
      "125:\tlearn: 0.6876916\ttest: 0.6813763\tbest: 0.6813763 (125)\ttotal: 1.16s\tremaining: 684ms\n",
      "150:\tlearn: 0.6871959\ttest: 0.6807995\tbest: 0.6807995 (150)\ttotal: 1.4s\tremaining: 453ms\n",
      "175:\tlearn: 0.6867311\ttest: 0.6803569\tbest: 0.6803569 (175)\ttotal: 1.63s\tremaining: 222ms\n",
      "199:\tlearn: 0.6862885\ttest: 0.6799588\tbest: 0.6799588 (199)\ttotal: 1.84s\tremaining: 0us\n",
      "\n",
      "bestTest = 0.6799588259\n",
      "bestIteration = 199\n",
      "\n",
      "0:\tlearn: 0.6929926\ttest: 0.6928093\tbest: 0.6928093 (0)\ttotal: 11.6ms\tremaining: 2.31s\n",
      "25:\tlearn: 0.6907508\ttest: 0.6873847\tbest: 0.6873847 (25)\ttotal: 234ms\tremaining: 1.57s\n",
      "50:\tlearn: 0.6896671\ttest: 0.6846517\tbest: 0.6846517 (50)\ttotal: 451ms\tremaining: 1.32s\n",
      "75:\tlearn: 0.6889272\ttest: 0.6831205\tbest: 0.6831205 (75)\ttotal: 679ms\tremaining: 1.11s\n",
      "100:\tlearn: 0.6883321\ttest: 0.6821390\tbest: 0.6821390 (100)\ttotal: 913ms\tremaining: 895ms\n",
      "125:\tlearn: 0.6877948\ttest: 0.6814014\tbest: 0.6814014 (125)\ttotal: 1.15s\tremaining: 674ms\n",
      "150:\tlearn: 0.6873148\ttest: 0.6809109\tbest: 0.6809109 (150)\ttotal: 1.38s\tremaining: 448ms\n",
      "175:\tlearn: 0.6868725\ttest: 0.6804385\tbest: 0.6804385 (175)\ttotal: 1.61s\tremaining: 219ms\n"
     ]
    },
    {
     "name": "stderr",
     "output_type": "stream",
     "text": [
      "2022-03-30 13:10:54 mean cv_value 0.06233495327698075 | std cv_value 0.010091036580929495 \n",
      "2022-03-30 13:10:54 ---------------------------------------------\n"
     ]
    },
    {
     "name": "stdout",
     "output_type": "stream",
     "text": [
      "199:\tlearn: 0.6864613\ttest: 0.6800422\tbest: 0.6800422 (199)\ttotal: 1.83s\tremaining: 0us\n",
      "\n",
      "bestTest = 0.6800422456\n",
      "bestIteration = 199\n",
      "\n"
     ]
    },
    {
     "name": "stderr",
     "output_type": "stream",
     "text": [
      "2022-03-30 13:10:57 [TRAIN_MODEL] Training model\n",
      "2022-03-30 13:10:57 Set of params....., {'depth': 4, 'iterations': 200, 'learning_rate': 0.05830398484280944, 'colsample_bylevel': 1.0}\n"
     ]
    },
    {
     "name": "stdout",
     "output_type": "stream",
     "text": [
      "Iteration No: 111 ended. Search finished for the next optimal point.\n",
      "Time taken: 8.7643\n",
      "Function value obtained: -0.0623\n",
      "Current minimum: -0.0699\n",
      "Iteration No: 112 started. Searching for the next optimal point.\n",
      "0:\tlearn: 0.6928027\ttest: 0.6923903\tbest: 0.6923903 (0)\ttotal: 10.2ms\tremaining: 2.03s\n",
      "25:\tlearn: 0.6896129\ttest: 0.6841080\tbest: 0.6841080 (25)\ttotal: 202ms\tremaining: 1.35s\n",
      "50:\tlearn: 0.6886534\ttest: 0.6820508\tbest: 0.6820508 (50)\ttotal: 399ms\tremaining: 1.16s\n",
      "75:\tlearn: 0.6879304\ttest: 0.6811061\tbest: 0.6811061 (75)\ttotal: 592ms\tremaining: 967ms\n",
      "100:\tlearn: 0.6872889\ttest: 0.6804088\tbest: 0.6804088 (100)\ttotal: 787ms\tremaining: 771ms\n",
      "125:\tlearn: 0.6867086\ttest: 0.6798623\tbest: 0.6798623 (125)\ttotal: 989ms\tremaining: 581ms\n",
      "150:\tlearn: 0.6861603\ttest: 0.6794314\tbest: 0.6794314 (150)\ttotal: 1.18s\tremaining: 384ms\n",
      "175:\tlearn: 0.6856126\ttest: 0.6790809\tbest: 0.6790809 (175)\ttotal: 1.38s\tremaining: 188ms\n",
      "199:\tlearn: 0.6850914\ttest: 0.6787809\tbest: 0.6787809 (199)\ttotal: 1.57s\tremaining: 0us\n",
      "\n",
      "bestTest = 0.6787808823\n",
      "bestIteration = 199\n",
      "\n",
      "0:\tlearn: 0.6928126\ttest: 0.6924309\tbest: 0.6924309 (0)\ttotal: 10.3ms\tremaining: 2.05s\n",
      "25:\tlearn: 0.6897668\ttest: 0.6843065\tbest: 0.6843065 (25)\ttotal: 203ms\tremaining: 1.36s\n",
      "50:\tlearn: 0.6888340\ttest: 0.6824350\tbest: 0.6824350 (50)\ttotal: 396ms\tremaining: 1.16s\n",
      "75:\tlearn: 0.6881270\ttest: 0.6815036\tbest: 0.6815036 (75)\ttotal: 604ms\tremaining: 985ms\n",
      "100:\tlearn: 0.6875352\ttest: 0.6809085\tbest: 0.6809085 (100)\ttotal: 811ms\tremaining: 795ms\n",
      "125:\tlearn: 0.6869712\ttest: 0.6803753\tbest: 0.6803753 (125)\ttotal: 1.01s\tremaining: 594ms\n",
      "150:\tlearn: 0.6863921\ttest: 0.6799356\tbest: 0.6799356 (150)\ttotal: 1.21s\tremaining: 392ms\n",
      "175:\tlearn: 0.6858441\ttest: 0.6794879\tbest: 0.6794879 (175)\ttotal: 1.41s\tremaining: 193ms\n",
      "199:\tlearn: 0.6853575\ttest: 0.6791881\tbest: 0.6791881 (199)\ttotal: 1.6s\tremaining: 0us\n",
      "\n",
      "bestTest = 0.6791881285\n",
      "bestIteration = 199\n",
      "\n",
      "0:\tlearn: 0.6928274\ttest: 0.6924034\tbest: 0.6924034 (0)\ttotal: 9.24ms\tremaining: 1.84s\n",
      "25:\tlearn: 0.6898923\ttest: 0.6844449\tbest: 0.6844449 (25)\ttotal: 205ms\tremaining: 1.37s\n",
      "50:\tlearn: 0.6889522\ttest: 0.6823312\tbest: 0.6823312 (50)\ttotal: 405ms\tremaining: 1.18s\n",
      "75:\tlearn: 0.6882981\ttest: 0.6813886\tbest: 0.6813886 (75)\ttotal: 598ms\tremaining: 976ms\n",
      "100:\tlearn: 0.6876957\ttest: 0.6806810\tbest: 0.6806810 (100)\ttotal: 801ms\tremaining: 785ms\n",
      "125:\tlearn: 0.6871535\ttest: 0.6802236\tbest: 0.6802236 (125)\ttotal: 1s\tremaining: 588ms\n",
      "150:\tlearn: 0.6865975\ttest: 0.6797577\tbest: 0.6797577 (150)\ttotal: 1.2s\tremaining: 390ms\n",
      "175:\tlearn: 0.6860823\ttest: 0.6794001\tbest: 0.6794001 (175)\ttotal: 1.41s\tremaining: 192ms\n",
      "199:\tlearn: 0.6855841\ttest: 0.6790143\tbest: 0.6790143 (199)\ttotal: 1.59s\tremaining: 0us\n",
      "\n",
      "bestTest = 0.6790143245\n",
      "bestIteration = 199\n",
      "\n"
     ]
    },
    {
     "name": "stderr",
     "output_type": "stream",
     "text": [
      "2022-03-30 13:11:02 mean cv_value 0.06184156796990001 | std cv_value 0.011248926571164655 \n",
      "2022-03-30 13:11:02 ---------------------------------------------\n",
      "2022-03-30 13:11:05 [TRAIN_MODEL] Training model\n",
      "2022-03-30 13:11:05 Set of params....., {'depth': 8, 'iterations': 200, 'learning_rate': 0.01117760402107406, 'colsample_bylevel': 1.0}\n"
     ]
    },
    {
     "name": "stdout",
     "output_type": "stream",
     "text": [
      "Iteration No: 112 ended. Search finished for the next optimal point.\n",
      "Time taken: 7.9787\n",
      "Function value obtained: -0.0618\n",
      "Current minimum: -0.0699\n",
      "Iteration No: 113 started. Searching for the next optimal point.\n",
      "0:\tlearn: 0.6930425\ttest: 0.6929711\tbest: 0.6929711 (0)\ttotal: 33.4ms\tremaining: 6.65s\n",
      "25:\tlearn: 0.6906507\ttest: 0.6891489\tbest: 0.6891489 (25)\ttotal: 497ms\tremaining: 3.33s\n",
      "50:\tlearn: 0.6888091\ttest: 0.6862779\tbest: 0.6862779 (50)\ttotal: 958ms\tremaining: 2.8s\n",
      "75:\tlearn: 0.6872916\ttest: 0.6840392\tbest: 0.6840392 (75)\ttotal: 1.41s\tremaining: 2.31s\n",
      "100:\tlearn: 0.6859451\ttest: 0.6822957\tbest: 0.6822957 (100)\ttotal: 1.87s\tremaining: 1.83s\n",
      "125:\tlearn: 0.6847604\ttest: 0.6808853\tbest: 0.6808853 (125)\ttotal: 2.32s\tremaining: 1.36s\n",
      "150:\tlearn: 0.6837352\ttest: 0.6797756\tbest: 0.6797756 (150)\ttotal: 2.76s\tremaining: 895ms\n",
      "175:\tlearn: 0.6828153\ttest: 0.6788714\tbest: 0.6788714 (175)\ttotal: 3.19s\tremaining: 436ms\n",
      "199:\tlearn: 0.6819531\ttest: 0.6781064\tbest: 0.6781064 (199)\ttotal: 3.62s\tremaining: 0us\n",
      "\n",
      "bestTest = 0.6781063711\n",
      "bestIteration = 199\n",
      "\n",
      "0:\tlearn: 0.6930321\ttest: 0.6929723\tbest: 0.6929723 (0)\ttotal: 20.4ms\tremaining: 4.06s\n",
      "25:\tlearn: 0.6906036\ttest: 0.6891107\tbest: 0.6891107 (25)\ttotal: 487ms\tremaining: 3.26s\n",
      "50:\tlearn: 0.6887809\ttest: 0.6862624\tbest: 0.6862624 (50)\ttotal: 942ms\tremaining: 2.75s\n",
      "75:\tlearn: 0.6872835\ttest: 0.6840898\tbest: 0.6840898 (75)\ttotal: 1.4s\tremaining: 2.28s\n",
      "100:\tlearn: 0.6859801\ttest: 0.6823746\tbest: 0.6823746 (100)\ttotal: 1.85s\tremaining: 1.81s\n",
      "125:\tlearn: 0.6847847\ttest: 0.6809646\tbest: 0.6809646 (125)\ttotal: 2.3s\tremaining: 1.35s\n",
      "150:\tlearn: 0.6836786\ttest: 0.6798131\tbest: 0.6798131 (150)\ttotal: 2.74s\tremaining: 890ms\n",
      "175:\tlearn: 0.6826748\ttest: 0.6788625\tbest: 0.6788625 (175)\ttotal: 3.18s\tremaining: 434ms\n",
      "199:\tlearn: 0.6817797\ttest: 0.6780418\tbest: 0.6780418 (199)\ttotal: 3.59s\tremaining: 0us\n",
      "\n",
      "bestTest = 0.6780418442\n",
      "bestIteration = 199\n",
      "\n",
      "0:\tlearn: 0.6930311\ttest: 0.6929658\tbest: 0.6929658 (0)\ttotal: 21.4ms\tremaining: 4.26s\n",
      "25:\tlearn: 0.6907165\ttest: 0.6891662\tbest: 0.6891662 (25)\ttotal: 492ms\tremaining: 3.29s\n",
      "50:\tlearn: 0.6889512\ttest: 0.6864011\tbest: 0.6864011 (50)\ttotal: 950ms\tremaining: 2.77s\n",
      "75:\tlearn: 0.6874922\ttest: 0.6842790\tbest: 0.6842790 (75)\ttotal: 1.41s\tremaining: 2.3s\n",
      "100:\tlearn: 0.6862099\ttest: 0.6825844\tbest: 0.6825844 (100)\ttotal: 1.87s\tremaining: 1.83s\n",
      "125:\tlearn: 0.6850543\ttest: 0.6811973\tbest: 0.6811973 (125)\ttotal: 2.31s\tremaining: 1.36s\n",
      "150:\tlearn: 0.6839771\ttest: 0.6800695\tbest: 0.6800695 (150)\ttotal: 2.76s\tremaining: 894ms\n",
      "175:\tlearn: 0.6830288\ttest: 0.6791313\tbest: 0.6791313 (175)\ttotal: 3.19s\tremaining: 436ms\n"
     ]
    },
    {
     "name": "stderr",
     "output_type": "stream",
     "text": [
      "2022-03-30 13:11:17 mean cv_value 0.05976994772626829 | std cv_value 0.012295181805374597 \n",
      "2022-03-30 13:11:17 ---------------------------------------------\n"
     ]
    },
    {
     "name": "stdout",
     "output_type": "stream",
     "text": [
      "199:\tlearn: 0.6821044\ttest: 0.6783032\tbest: 0.6783032 (199)\ttotal: 3.61s\tremaining: 0us\n",
      "\n",
      "bestTest = 0.6783032258\n",
      "bestIteration = 199\n",
      "\n"
     ]
    },
    {
     "name": "stderr",
     "output_type": "stream",
     "text": [
      "2022-03-30 13:11:19 [TRAIN_MODEL] Training model\n",
      "2022-03-30 13:11:19 Set of params....., {'depth': 6, 'iterations': 200, 'learning_rate': 0.0322829189876354, 'colsample_bylevel': 0.5}\n"
     ]
    },
    {
     "name": "stdout",
     "output_type": "stream",
     "text": [
      "Iteration No: 113 ended. Search finished for the next optimal point.\n",
      "Time taken: 14.0980\n",
      "Function value obtained: -0.0598\n",
      "Current minimum: -0.0699\n",
      "Iteration No: 114 started. Searching for the next optimal point.\n",
      "0:\tlearn: 0.6929227\ttest: 0.6926794\tbest: 0.6926794 (0)\ttotal: 15.8ms\tremaining: 3.14s\n",
      "25:\tlearn: 0.6896496\ttest: 0.6855287\tbest: 0.6855287 (25)\ttotal: 343ms\tremaining: 2.3s\n",
      "50:\tlearn: 0.6881380\ttest: 0.6825267\tbest: 0.6825267 (50)\ttotal: 669ms\tremaining: 1.95s\n",
      "75:\tlearn: 0.6870619\ttest: 0.6810115\tbest: 0.6810115 (75)\ttotal: 998ms\tremaining: 1.63s\n",
      "100:\tlearn: 0.6860573\ttest: 0.6799454\tbest: 0.6799454 (100)\ttotal: 1.33s\tremaining: 1.3s\n",
      "125:\tlearn: 0.6851350\ttest: 0.6791044\tbest: 0.6791044 (125)\ttotal: 1.66s\tremaining: 977ms\n",
      "150:\tlearn: 0.6843129\ttest: 0.6784199\tbest: 0.6784199 (150)\ttotal: 1.99s\tremaining: 647ms\n",
      "175:\tlearn: 0.6834721\ttest: 0.6778487\tbest: 0.6778487 (175)\ttotal: 2.33s\tremaining: 318ms\n",
      "199:\tlearn: 0.6827018\ttest: 0.6773508\tbest: 0.6773508 (199)\ttotal: 2.65s\tremaining: 0us\n",
      "\n",
      "bestTest = 0.6773507501\n",
      "bestIteration = 199\n",
      "\n",
      "0:\tlearn: 0.6929184\ttest: 0.6926771\tbest: 0.6926771 (0)\ttotal: 13.1ms\tremaining: 2.61s\n",
      "25:\tlearn: 0.6897415\ttest: 0.6857640\tbest: 0.6857640 (25)\ttotal: 343ms\tremaining: 2.29s\n",
      "50:\tlearn: 0.6882131\ttest: 0.6828207\tbest: 0.6828207 (50)\ttotal: 667ms\tremaining: 1.95s\n",
      "75:\tlearn: 0.6870696\ttest: 0.6812145\tbest: 0.6812145 (75)\ttotal: 1s\tremaining: 1.63s\n",
      "100:\tlearn: 0.6860365\ttest: 0.6801777\tbest: 0.6801777 (100)\ttotal: 1.33s\tremaining: 1.31s\n",
      "125:\tlearn: 0.6851368\ttest: 0.6793981\tbest: 0.6793981 (125)\ttotal: 1.67s\tremaining: 979ms\n",
      "150:\tlearn: 0.6842546\ttest: 0.6787203\tbest: 0.6787203 (150)\ttotal: 2s\tremaining: 649ms\n",
      "175:\tlearn: 0.6834277\ttest: 0.6780951\tbest: 0.6780951 (175)\ttotal: 2.32s\tremaining: 317ms\n",
      "199:\tlearn: 0.6826557\ttest: 0.6775864\tbest: 0.6775864 (199)\ttotal: 2.64s\tremaining: 0us\n",
      "\n",
      "bestTest = 0.6775864311\n",
      "bestIteration = 199\n",
      "\n",
      "0:\tlearn: 0.6929277\ttest: 0.6926929\tbest: 0.6926929 (0)\ttotal: 15.2ms\tremaining: 3.03s\n",
      "25:\tlearn: 0.6898587\ttest: 0.6858584\tbest: 0.6858584 (25)\ttotal: 334ms\tremaining: 2.24s\n",
      "50:\tlearn: 0.6883538\ttest: 0.6829879\tbest: 0.6829879 (50)\ttotal: 658ms\tremaining: 1.92s\n",
      "75:\tlearn: 0.6871789\ttest: 0.6813653\tbest: 0.6813653 (75)\ttotal: 988ms\tremaining: 1.61s\n",
      "100:\tlearn: 0.6862076\ttest: 0.6802756\tbest: 0.6802756 (100)\ttotal: 1.31s\tremaining: 1.29s\n",
      "125:\tlearn: 0.6852770\ttest: 0.6794262\tbest: 0.6794262 (125)\ttotal: 1.64s\tremaining: 963ms\n",
      "150:\tlearn: 0.6844423\ttest: 0.6787402\tbest: 0.6787402 (150)\ttotal: 1.96s\tremaining: 637ms\n",
      "175:\tlearn: 0.6836445\ttest: 0.6781462\tbest: 0.6781462 (175)\ttotal: 2.29s\tremaining: 313ms\n"
     ]
    },
    {
     "name": "stderr",
     "output_type": "stream",
     "text": [
      "2022-03-30 13:11:28 mean cv_value 0.062269899155310116 | std cv_value 0.013306355041171919 \n",
      "2022-03-30 13:11:28 ---------------------------------------------\n"
     ]
    },
    {
     "name": "stdout",
     "output_type": "stream",
     "text": [
      "199:\tlearn: 0.6828920\ttest: 0.6776278\tbest: 0.6776278 (199)\ttotal: 2.61s\tremaining: 0us\n",
      "\n",
      "bestTest = 0.6776277669\n",
      "bestIteration = 199\n",
      "\n"
     ]
    },
    {
     "name": "stderr",
     "output_type": "stream",
     "text": [
      "2022-03-30 13:11:30 [TRAIN_MODEL] Training model\n",
      "2022-03-30 13:11:30 Set of params....., {'depth': 5, 'iterations': 159, 'learning_rate': 0.03493908682732675, 'colsample_bylevel': 1.0}\n"
     ]
    },
    {
     "name": "stdout",
     "output_type": "stream",
     "text": [
      "Iteration No: 114 ended. Search finished for the next optimal point.\n",
      "Time taken: 11.1107\n",
      "Function value obtained: -0.0623\n",
      "Current minimum: -0.0699\n",
      "Iteration No: 115 started. Searching for the next optimal point.\n",
      "0:\tlearn: 0.6929201\ttest: 0.6926811\tbest: 0.6926811 (0)\ttotal: 10.9ms\tremaining: 1.73s\n",
      "25:\tlearn: 0.6899435\ttest: 0.6856895\tbest: 0.6856895 (25)\ttotal: 231ms\tremaining: 1.18s\n",
      "50:\tlearn: 0.6887489\ttest: 0.6829787\tbest: 0.6829787 (50)\ttotal: 472ms\tremaining: 1000ms\n",
      "75:\tlearn: 0.6879375\ttest: 0.6817329\tbest: 0.6817329 (75)\ttotal: 709ms\tremaining: 774ms\n",
      "100:\tlearn: 0.6872550\ttest: 0.6808552\tbest: 0.6808552 (100)\ttotal: 945ms\tremaining: 543ms\n",
      "125:\tlearn: 0.6865998\ttest: 0.6802075\tbest: 0.6802075 (125)\ttotal: 1.18s\tremaining: 309ms\n",
      "150:\tlearn: 0.6860243\ttest: 0.6797035\tbest: 0.6797035 (150)\ttotal: 1.42s\tremaining: 75.2ms\n",
      "158:\tlearn: 0.6858297\ttest: 0.6795732\tbest: 0.6795732 (158)\ttotal: 1.5s\tremaining: 0us\n",
      "\n",
      "bestTest = 0.6795731728\n",
      "bestIteration = 158\n",
      "\n",
      "0:\tlearn: 0.6929320\ttest: 0.6926901\tbest: 0.6926901 (0)\ttotal: 11.2ms\tremaining: 1.76s\n",
      "25:\tlearn: 0.6900417\ttest: 0.6858194\tbest: 0.6858194 (25)\ttotal: 238ms\tremaining: 1.22s\n",
      "50:\tlearn: 0.6888196\ttest: 0.6830592\tbest: 0.6830592 (50)\ttotal: 467ms\tremaining: 989ms\n",
      "75:\tlearn: 0.6879775\ttest: 0.6817174\tbest: 0.6817174 (75)\ttotal: 698ms\tremaining: 763ms\n",
      "100:\tlearn: 0.6872669\ttest: 0.6808234\tbest: 0.6808234 (100)\ttotal: 927ms\tremaining: 532ms\n",
      "125:\tlearn: 0.6865914\ttest: 0.6802177\tbest: 0.6802177 (125)\ttotal: 1.16s\tremaining: 305ms\n",
      "150:\tlearn: 0.6859807\ttest: 0.6796919\tbest: 0.6796919 (150)\ttotal: 1.4s\tremaining: 74.2ms\n",
      "158:\tlearn: 0.6857833\ttest: 0.6795443\tbest: 0.6795443 (158)\ttotal: 1.48s\tremaining: 0us\n",
      "\n",
      "bestTest = 0.679544289\n",
      "bestIteration = 158\n",
      "\n",
      "0:\tlearn: 0.6929321\ttest: 0.6926648\tbest: 0.6926648 (0)\ttotal: 11.2ms\tremaining: 1.77s\n",
      "25:\tlearn: 0.6901979\ttest: 0.6859250\tbest: 0.6859250 (25)\ttotal: 233ms\tremaining: 1.19s\n",
      "50:\tlearn: 0.6890286\ttest: 0.6833190\tbest: 0.6833190 (50)\ttotal: 459ms\tremaining: 973ms\n",
      "75:\tlearn: 0.6881673\ttest: 0.6819370\tbest: 0.6819370 (75)\ttotal: 694ms\tremaining: 758ms\n",
      "100:\tlearn: 0.6874709\ttest: 0.6811677\tbest: 0.6811677 (100)\ttotal: 925ms\tremaining: 531ms\n",
      "125:\tlearn: 0.6867798\ttest: 0.6805064\tbest: 0.6805064 (125)\ttotal: 1.17s\tremaining: 305ms\n"
     ]
    },
    {
     "name": "stderr",
     "output_type": "stream",
     "text": [
      "2022-03-30 13:11:35 mean cv_value 0.06261024694630872 | std cv_value 0.008612131512539846 \n",
      "2022-03-30 13:11:35 ---------------------------------------------\n"
     ]
    },
    {
     "name": "stdout",
     "output_type": "stream",
     "text": [
      "150:\tlearn: 0.6861584\ttest: 0.6799582\tbest: 0.6799582 (150)\ttotal: 1.41s\tremaining: 74.4ms\n",
      "158:\tlearn: 0.6859676\ttest: 0.6797885\tbest: 0.6797885 (158)\ttotal: 1.48s\tremaining: 0us\n",
      "\n",
      "bestTest = 0.6797885111\n",
      "bestIteration = 158\n",
      "\n"
     ]
    },
    {
     "name": "stderr",
     "output_type": "stream",
     "text": [
      "2022-03-30 13:11:38 [TRAIN_MODEL] Training model\n",
      "2022-03-30 13:11:38 Set of params....., {'depth': 16, 'iterations': 185, 'learning_rate': 0.9471972886528981, 'colsample_bylevel': 0.6586602457550558}\n"
     ]
    },
    {
     "name": "stdout",
     "output_type": "stream",
     "text": [
      "Iteration No: 115 ended. Search finished for the next optimal point.\n",
      "Time taken: 7.7508\n",
      "Function value obtained: -0.0626\n",
      "Current minimum: -0.0699\n",
      "Iteration No: 116 started. Searching for the next optimal point.\n",
      "0:\tlearn: 0.6206725\ttest: 0.6883265\tbest: 0.6883265 (0)\ttotal: 3.19s\tremaining: 9m 47s\n",
      "25:\tlearn: 0.2720654\ttest: 0.6735397\tbest: 0.6735397 (25)\ttotal: 1m 9s\tremaining: 7m 6s\n",
      "50:\tlearn: 0.1849634\ttest: 0.6968445\tbest: 0.6735397 (25)\ttotal: 2m 16s\tremaining: 5m 59s\n",
      "75:\tlearn: 0.1467807\ttest: 0.7121073\tbest: 0.6735397 (25)\ttotal: 3m 23s\tremaining: 4m 51s\n",
      "100:\tlearn: 0.1240099\ttest: 0.7211117\tbest: 0.6735397 (25)\ttotal: 4m 27s\tremaining: 3m 42s\n",
      "125:\tlearn: 0.1063353\ttest: 0.7352716\tbest: 0.6735397 (25)\ttotal: 5m 33s\tremaining: 2m 36s\n",
      "150:\tlearn: 0.0944046\ttest: 0.7447300\tbest: 0.6735397 (25)\ttotal: 6m 40s\tremaining: 1m 30s\n",
      "175:\tlearn: 0.0853145\ttest: 0.7572223\tbest: 0.6735397 (25)\ttotal: 7m 48s\tremaining: 24s\n",
      "184:\tlearn: 0.0826334\ttest: 0.7589482\tbest: 0.6735397 (25)\ttotal: 8m 13s\tremaining: 0us\n",
      "\n",
      "bestTest = 0.6735396884\n",
      "bestIteration = 25\n",
      "\n",
      "Shrink model to first 26 iterations.\n",
      "0:\tlearn: 0.6162020\ttest: 0.6852187\tbest: 0.6852187 (0)\ttotal: 2.83s\tremaining: 8m 41s\n",
      "25:\tlearn: 0.2647761\ttest: 0.6722688\tbest: 0.6722688 (25)\ttotal: 1m 10s\tremaining: 7m 13s\n",
      "50:\tlearn: 0.1829115\ttest: 0.6925501\tbest: 0.6722688 (25)\ttotal: 2m 17s\tremaining: 6m\n",
      "75:\tlearn: 0.1436055\ttest: 0.7121038\tbest: 0.6722688 (25)\ttotal: 3m 23s\tremaining: 4m 52s\n",
      "100:\tlearn: 0.1220192\ttest: 0.7211525\tbest: 0.6722688 (25)\ttotal: 4m 29s\tremaining: 3m 43s\n",
      "125:\tlearn: 0.1046595\ttest: 0.7393883\tbest: 0.6722688 (25)\ttotal: 5m 35s\tremaining: 2m 37s\n",
      "150:\tlearn: 0.0938649\ttest: 0.7513955\tbest: 0.6722688 (25)\ttotal: 6m 41s\tremaining: 1m 30s\n",
      "175:\tlearn: 0.0852093\ttest: 0.7620123\tbest: 0.6722688 (25)\ttotal: 7m 48s\tremaining: 23.9s\n",
      "184:\tlearn: 0.0830125\ttest: 0.7632416\tbest: 0.6722688 (25)\ttotal: 8m 11s\tremaining: 0us\n",
      "\n",
      "bestTest = 0.6722687706\n",
      "bestIteration = 25\n",
      "\n",
      "Shrink model to first 26 iterations.\n",
      "0:\tlearn: 0.6214548\ttest: 0.6843748\tbest: 0.6843748 (0)\ttotal: 2.8s\tremaining: 8m 35s\n",
      "25:\tlearn: 0.2769942\ttest: 0.6726195\tbest: 0.6726195 (25)\ttotal: 1m 9s\tremaining: 7m 4s\n",
      "50:\tlearn: 0.1927624\ttest: 0.6953139\tbest: 0.6726195 (25)\ttotal: 2m 15s\tremaining: 5m 54s\n",
      "75:\tlearn: 0.1543209\ttest: 0.7104648\tbest: 0.6726195 (25)\ttotal: 3m 21s\tremaining: 4m 49s\n",
      "100:\tlearn: 0.1267316\ttest: 0.7277154\tbest: 0.6726195 (25)\ttotal: 4m 28s\tremaining: 3m 43s\n",
      "125:\tlearn: 0.1094770\ttest: 0.7413529\tbest: 0.6726195 (25)\ttotal: 5m 34s\tremaining: 2m 36s\n",
      "150:\tlearn: 0.0976739\ttest: 0.7526981\tbest: 0.6726195 (25)\ttotal: 6m 41s\tremaining: 1m 30s\n",
      "175:\tlearn: 0.0887793\ttest: 0.7613101\tbest: 0.6726195 (25)\ttotal: 7m 47s\tremaining: 23.9s\n",
      "184:\tlearn: 0.0853593\ttest: 0.7683034\tbest: 0.6726195 (25)\ttotal: 8m 10s\tremaining: 0us\n",
      "\n",
      "bestTest = 0.6726194714\n",
      "bestIteration = 25\n",
      "\n",
      "Shrink model to first 26 iterations.\n"
     ]
    },
    {
     "name": "stderr",
     "output_type": "stream",
     "text": [
      "2022-03-30 13:36:15 mean cv_value -0.01054685907416786 | std cv_value 0.021311391126578257 \n",
      "2022-03-30 13:36:15 ---------------------------------------------\n",
      "2022-03-30 13:36:22 [TRAIN_MODEL] Training model\n",
      "2022-03-30 13:36:22 Set of params....., {'depth': 4, 'iterations': 94, 'learning_rate': 0.09257692452741698, 'colsample_bylevel': 0.5}\n"
     ]
    },
    {
     "name": "stdout",
     "output_type": "stream",
     "text": [
      "Iteration No: 116 ended. Search finished for the next optimal point.\n",
      "Time taken: 1484.3142\n",
      "Function value obtained: 0.0105\n",
      "Current minimum: -0.0699\n",
      "Iteration No: 117 started. Searching for the next optimal point.\n",
      "0:\tlearn: 0.6926711\ttest: 0.6920433\tbest: 0.6920433 (0)\ttotal: 14.5ms\tremaining: 1.35s\n",
      "25:\tlearn: 0.6890569\ttest: 0.6826692\tbest: 0.6826692 (25)\ttotal: 239ms\tremaining: 625ms\n",
      "50:\tlearn: 0.6879793\ttest: 0.6810056\tbest: 0.6810056 (50)\ttotal: 470ms\tremaining: 396ms\n",
      "75:\tlearn: 0.6870583\ttest: 0.6799672\tbest: 0.6799672 (75)\ttotal: 696ms\tremaining: 165ms\n",
      "93:\tlearn: 0.6863910\ttest: 0.6794677\tbest: 0.6794677 (93)\ttotal: 863ms\tremaining: 0us\n",
      "\n",
      "bestTest = 0.6794676747\n",
      "bestIteration = 93\n",
      "\n",
      "0:\tlearn: 0.6926830\ttest: 0.6920704\tbest: 0.6920704 (0)\ttotal: 12.1ms\tremaining: 1.13s\n",
      "25:\tlearn: 0.6893147\ttest: 0.6830411\tbest: 0.6830411 (25)\ttotal: 244ms\tremaining: 639ms\n",
      "50:\tlearn: 0.6882330\ttest: 0.6812611\tbest: 0.6812611 (50)\ttotal: 476ms\tremaining: 401ms\n",
      "75:\tlearn: 0.6874211\ttest: 0.6804204\tbest: 0.6804204 (75)\ttotal: 717ms\tremaining: 170ms\n",
      "93:\tlearn: 0.6868599\ttest: 0.6798665\tbest: 0.6798665 (93)\ttotal: 883ms\tremaining: 0us\n",
      "\n",
      "bestTest = 0.6798665083\n",
      "bestIteration = 93\n",
      "\n",
      "0:\tlearn: 0.6927202\ttest: 0.6922108\tbest: 0.6922108 (0)\ttotal: 12ms\tremaining: 1.12s\n",
      "25:\tlearn: 0.6893270\ttest: 0.6830733\tbest: 0.6830733 (25)\ttotal: 235ms\tremaining: 615ms\n",
      "50:\tlearn: 0.6882518\ttest: 0.6813678\tbest: 0.6813678 (50)\ttotal: 471ms\tremaining: 397ms\n",
      "75:\tlearn: 0.6874277\ttest: 0.6805622\tbest: 0.6805622 (75)\ttotal: 700ms\tremaining: 166ms\n",
      "93:\tlearn: 0.6868696\ttest: 0.6800061\tbest: 0.6800061 (93)\ttotal: 871ms\tremaining: 0us\n",
      "\n",
      "bestTest = 0.6800060693\n",
      "bestIteration = 93\n",
      "\n"
     ]
    },
    {
     "name": "stderr",
     "output_type": "stream",
     "text": [
      "2022-03-30 13:36:26 mean cv_value 0.06606990729662882 | std cv_value 0.0050173812886906265 \n",
      "2022-03-30 13:36:26 ---------------------------------------------\n",
      "2022-03-30 13:36:29 [TRAIN_MODEL] Training model\n",
      "2022-03-30 13:36:29 Set of params....., {'depth': 4, 'iterations': 90, 'learning_rate': 0.07417440399191447, 'colsample_bylevel': 0.5413650644831592}\n"
     ]
    },
    {
     "name": "stdout",
     "output_type": "stream",
     "text": [
      "Iteration No: 117 ended. Search finished for the next optimal point.\n",
      "Time taken: 7.1576\n",
      "Function value obtained: -0.0661\n",
      "Current minimum: -0.0699\n",
      "Iteration No: 118 started. Searching for the next optimal point.\n",
      "0:\tlearn: 0.6927184\ttest: 0.6921450\tbest: 0.6921450 (0)\ttotal: 12.8ms\tremaining: 1.14s\n",
      "25:\tlearn: 0.6893814\ttest: 0.6833110\tbest: 0.6833110 (25)\ttotal: 241ms\tremaining: 594ms\n",
      "50:\tlearn: 0.6883284\ttest: 0.6814002\tbest: 0.6814002 (50)\ttotal: 480ms\tremaining: 367ms\n",
      "75:\tlearn: 0.6875324\ttest: 0.6806011\tbest: 0.6806011 (75)\ttotal: 715ms\tremaining: 132ms\n",
      "89:\tlearn: 0.6870952\ttest: 0.6802456\tbest: 0.6802456 (89)\ttotal: 853ms\tremaining: 0us\n",
      "\n",
      "bestTest = 0.6802455973\n",
      "bestIteration = 89\n",
      "\n",
      "0:\tlearn: 0.6927463\ttest: 0.6921868\tbest: 0.6921868 (0)\ttotal: 12.2ms\tremaining: 1.08s\n",
      "25:\tlearn: 0.6895555\ttest: 0.6835424\tbest: 0.6835424 (25)\ttotal: 235ms\tremaining: 577ms\n",
      "50:\tlearn: 0.6885679\ttest: 0.6818654\tbest: 0.6818654 (50)\ttotal: 494ms\tremaining: 378ms\n",
      "75:\tlearn: 0.6877925\ttest: 0.6809216\tbest: 0.6809216 (75)\ttotal: 729ms\tremaining: 134ms\n",
      "89:\tlearn: 0.6874127\ttest: 0.6805665\tbest: 0.6805665 (89)\ttotal: 863ms\tremaining: 0us\n",
      "\n",
      "bestTest = 0.6805665039\n",
      "bestIteration = 89\n",
      "\n",
      "0:\tlearn: 0.6927521\ttest: 0.6922043\tbest: 0.6922043 (0)\ttotal: 11.8ms\tremaining: 1.05s\n",
      "25:\tlearn: 0.6896088\ttest: 0.6836828\tbest: 0.6836828 (25)\ttotal: 240ms\tremaining: 592ms\n",
      "50:\tlearn: 0.6886774\ttest: 0.6818300\tbest: 0.6818300 (50)\ttotal: 476ms\tremaining: 364ms\n",
      "75:\tlearn: 0.6878615\ttest: 0.6808396\tbest: 0.6808396 (75)\ttotal: 708ms\tremaining: 130ms\n",
      "89:\tlearn: 0.6874735\ttest: 0.6804909\tbest: 0.6804909 (89)\ttotal: 839ms\tremaining: 0us\n",
      "\n",
      "bestTest = 0.6804909137\n",
      "bestIteration = 89\n",
      "\n"
     ]
    },
    {
     "name": "stderr",
     "output_type": "stream",
     "text": [
      "2022-03-30 13:36:33 mean cv_value 0.061410122777357794 | std cv_value 0.003656517840541379 \n",
      "2022-03-30 13:36:33 ---------------------------------------------\n",
      "2022-03-30 13:36:36 [TRAIN_MODEL] Training model\n",
      "2022-03-30 13:36:36 Set of params....., {'depth': 4, 'iterations': 76, 'learning_rate': 0.19401059800703616, 'colsample_bylevel': 0.5}\n"
     ]
    },
    {
     "name": "stdout",
     "output_type": "stream",
     "text": [
      "Iteration No: 118 ended. Search finished for the next optimal point.\n",
      "Time taken: 6.9773\n",
      "Function value obtained: -0.0614\n",
      "Current minimum: -0.0699\n",
      "Iteration No: 119 started. Searching for the next optimal point.\n",
      "0:\tlearn: 0.6921819\ttest: 0.6908890\tbest: 0.6908890 (0)\ttotal: 10.8ms\tremaining: 807ms\n",
      "25:\tlearn: 0.6879172\ttest: 0.6808377\tbest: 0.6808377 (25)\ttotal: 246ms\tremaining: 474ms\n",
      "50:\tlearn: 0.6861783\ttest: 0.6793986\tbest: 0.6793986 (50)\ttotal: 484ms\tremaining: 237ms\n",
      "75:\tlearn: 0.6845385\ttest: 0.6786619\tbest: 0.6786619 (75)\ttotal: 725ms\tremaining: 0us\n",
      "\n",
      "bestTest = 0.6786619097\n",
      "bestIteration = 75\n",
      "\n",
      "0:\tlearn: 0.6922069\ttest: 0.6909446\tbest: 0.6909446 (0)\ttotal: 10.6ms\tremaining: 798ms\n",
      "25:\tlearn: 0.6881540\ttest: 0.6809647\tbest: 0.6809647 (25)\ttotal: 237ms\tremaining: 456ms\n",
      "50:\tlearn: 0.6865444\ttest: 0.6796254\tbest: 0.6796254 (50)\ttotal: 479ms\tremaining: 235ms\n",
      "75:\tlearn: 0.6849611\ttest: 0.6786684\tbest: 0.6786684 (75)\ttotal: 718ms\tremaining: 0us\n",
      "\n",
      "bestTest = 0.6786684366\n",
      "bestIteration = 75\n",
      "\n",
      "0:\tlearn: 0.6923027\ttest: 0.6912338\tbest: 0.6912338 (0)\ttotal: 10.1ms\tremaining: 760ms\n",
      "25:\tlearn: 0.6881591\ttest: 0.6811295\tbest: 0.6811295 (25)\ttotal: 239ms\tremaining: 460ms\n",
      "50:\tlearn: 0.6863855\ttest: 0.6796936\tbest: 0.6796936 (50)\ttotal: 480ms\tremaining: 235ms\n"
     ]
    },
    {
     "name": "stderr",
     "output_type": "stream",
     "text": [
      "2022-03-30 13:36:39 mean cv_value 0.057460541411789356 | std cv_value 0.007825228817375426 \n",
      "2022-03-30 13:36:39 ---------------------------------------------\n"
     ]
    },
    {
     "name": "stdout",
     "output_type": "stream",
     "text": [
      "75:\tlearn: 0.6849179\ttest: 0.6787795\tbest: 0.6787795 (75)\ttotal: 713ms\tremaining: 0us\n",
      "\n",
      "bestTest = 0.6787794754\n",
      "bestIteration = 75\n",
      "\n"
     ]
    },
    {
     "name": "stderr",
     "output_type": "stream",
     "text": [
      "2022-03-30 13:36:42 [TRAIN_MODEL] Training model\n",
      "2022-03-30 13:36:42 Set of params....., {'depth': 10, 'iterations': 7, 'learning_rate': 0.933185583944065, 'colsample_bylevel': 0.8023692214912272}\n"
     ]
    },
    {
     "name": "stdout",
     "output_type": "stream",
     "text": [
      "Iteration No: 119 ended. Search finished for the next optimal point.\n",
      "Time taken: 5.6213\n",
      "Function value obtained: -0.0575\n",
      "Current minimum: -0.0699\n",
      "Iteration No: 120 started. Searching for the next optimal point.\n",
      "0:\tlearn: 0.6838946\ttest: 0.6829843\tbest: 0.6829843 (0)\ttotal: 46.2ms\tremaining: 277ms\n",
      "6:\tlearn: 0.6608614\ttest: 0.6775295\tbest: 0.6775295 (6)\ttotal: 289ms\tremaining: 0us\n",
      "\n",
      "bestTest = 0.6775294764\n",
      "bestIteration = 6\n",
      "\n",
      "0:\tlearn: 0.6835731\ttest: 0.6827149\tbest: 0.6827149 (0)\ttotal: 45.7ms\tremaining: 274ms\n",
      "6:\tlearn: 0.6588994\ttest: 0.6786815\tbest: 0.6786815 (6)\ttotal: 287ms\tremaining: 0us\n",
      "\n",
      "bestTest = 0.6786815183\n",
      "bestIteration = 6\n",
      "\n",
      "0:\tlearn: 0.6839626\ttest: 0.6832148\tbest: 0.6832148 (0)\ttotal: 43.8ms\tremaining: 263ms\n"
     ]
    },
    {
     "name": "stderr",
     "output_type": "stream",
     "text": [
      "2022-03-30 13:36:43 mean cv_value 0.037897960134386156 | std cv_value 0.013129022384721632 \n",
      "2022-03-30 13:36:43 ---------------------------------------------\n"
     ]
    },
    {
     "name": "stdout",
     "output_type": "stream",
     "text": [
      "6:\tlearn: 0.6624422\ttest: 0.6796373\tbest: 0.6796373 (6)\ttotal: 278ms\tremaining: 0us\n",
      "\n",
      "bestTest = 0.6796373125\n",
      "bestIteration = 6\n",
      "\n"
     ]
    },
    {
     "name": "stderr",
     "output_type": "stream",
     "text": [
      "2022-03-30 13:36:46 [TRAIN_MODEL] Training model\n",
      "2022-03-30 13:36:46 Set of params....., {'depth': 5, 'iterations': 101, 'learning_rate': 0.0465410218840946, 'colsample_bylevel': 1.0}\n"
     ]
    },
    {
     "name": "stdout",
     "output_type": "stream",
     "text": [
      "Iteration No: 120 ended. Search finished for the next optimal point.\n",
      "Time taken: 4.3342\n",
      "Function value obtained: -0.0379\n",
      "Current minimum: -0.0699\n",
      "Iteration No: 121 started. Searching for the next optimal point.\n",
      "0:\tlearn: 0.6928495\ttest: 0.6925281\tbest: 0.6925281 (0)\ttotal: 11.2ms\tremaining: 1.12s\n",
      "25:\tlearn: 0.6894587\ttest: 0.6844776\tbest: 0.6844776 (25)\ttotal: 246ms\tremaining: 710ms\n",
      "50:\tlearn: 0.6881793\ttest: 0.6820708\tbest: 0.6820708 (50)\ttotal: 483ms\tremaining: 473ms\n",
      "75:\tlearn: 0.6872026\ttest: 0.6808758\tbest: 0.6808758 (75)\ttotal: 718ms\tremaining: 236ms\n",
      "100:\tlearn: 0.6863768\ttest: 0.6800820\tbest: 0.6800820 (100)\ttotal: 961ms\tremaining: 0us\n",
      "\n",
      "bestTest = 0.6800819919\n",
      "bestIteration = 100\n",
      "\n",
      "0:\tlearn: 0.6928549\ttest: 0.6925401\tbest: 0.6925401 (0)\ttotal: 11.1ms\tremaining: 1.1s\n",
      "25:\tlearn: 0.6895553\ttest: 0.6845460\tbest: 0.6845460 (25)\ttotal: 245ms\tremaining: 707ms\n",
      "50:\tlearn: 0.6883024\ttest: 0.6821861\tbest: 0.6821861 (50)\ttotal: 492ms\tremaining: 482ms\n",
      "75:\tlearn: 0.6873433\ttest: 0.6809323\tbest: 0.6809323 (75)\ttotal: 725ms\tremaining: 238ms\n",
      "100:\tlearn: 0.6865248\ttest: 0.6800675\tbest: 0.6800675 (100)\ttotal: 967ms\tremaining: 0us\n",
      "\n",
      "bestTest = 0.6800675125\n",
      "bestIteration = 100\n",
      "\n",
      "0:\tlearn: 0.6928625\ttest: 0.6925064\tbest: 0.6925064 (0)\ttotal: 11.5ms\tremaining: 1.15s\n",
      "25:\tlearn: 0.6896948\ttest: 0.6846356\tbest: 0.6846356 (25)\ttotal: 247ms\tremaining: 711ms\n",
      "50:\tlearn: 0.6884375\ttest: 0.6822228\tbest: 0.6822228 (50)\ttotal: 485ms\tremaining: 476ms\n",
      "75:\tlearn: 0.6875140\ttest: 0.6809204\tbest: 0.6809204 (75)\ttotal: 729ms\tremaining: 240ms\n"
     ]
    },
    {
     "name": "stderr",
     "output_type": "stream",
     "text": [
      "2022-03-30 13:36:50 mean cv_value 0.06087799648948752 | std cv_value 0.008976473295178254 \n",
      "2022-03-30 13:36:50 ---------------------------------------------\n"
     ]
    },
    {
     "name": "stdout",
     "output_type": "stream",
     "text": [
      "100:\tlearn: 0.6866605\ttest: 0.6801080\tbest: 0.6801080 (100)\ttotal: 969ms\tremaining: 0us\n",
      "\n",
      "bestTest = 0.6801079824\n",
      "bestIteration = 100\n",
      "\n"
     ]
    },
    {
     "name": "stderr",
     "output_type": "stream",
     "text": [
      "2022-03-30 13:36:53 [TRAIN_MODEL] Training model\n",
      "2022-03-30 13:36:53 Set of params....., {'depth': 6, 'iterations': 154, 'learning_rate': 0.01566208631284274, 'colsample_bylevel': 1.0}\n"
     ]
    },
    {
     "name": "stdout",
     "output_type": "stream",
     "text": [
      "Iteration No: 121 ended. Search finished for the next optimal point.\n",
      "Time taken: 6.2802\n",
      "Function value obtained: -0.0609\n",
      "Current minimum: -0.0699\n",
      "Iteration No: 122 started. Searching for the next optimal point.\n",
      "0:\tlearn: 0.6930362\ttest: 0.6929320\tbest: 0.6929320 (0)\ttotal: 14.8ms\tremaining: 2.26s\n",
      "25:\tlearn: 0.6909324\ttest: 0.6885999\tbest: 0.6885999 (25)\ttotal: 320ms\tremaining: 1.57s\n",
      "50:\tlearn: 0.6896684\ttest: 0.6858231\tbest: 0.6858231 (50)\ttotal: 611ms\tremaining: 1.23s\n",
      "75:\tlearn: 0.6887447\ttest: 0.6839729\tbest: 0.6839729 (75)\ttotal: 895ms\tremaining: 919ms\n",
      "100:\tlearn: 0.6880022\ttest: 0.6827220\tbest: 0.6827220 (100)\ttotal: 1.19s\tremaining: 623ms\n",
      "125:\tlearn: 0.6874038\ttest: 0.6818268\tbest: 0.6818268 (125)\ttotal: 1.48s\tremaining: 328ms\n",
      "150:\tlearn: 0.6868713\ttest: 0.6811345\tbest: 0.6811345 (150)\ttotal: 1.76s\tremaining: 35ms\n",
      "153:\tlearn: 0.6868064\ttest: 0.6810662\tbest: 0.6810662 (153)\ttotal: 1.8s\tremaining: 0us\n",
      "\n",
      "bestTest = 0.6810662497\n",
      "bestIteration = 153\n",
      "\n",
      "0:\tlearn: 0.6930312\ttest: 0.6929340\tbest: 0.6929340 (0)\ttotal: 16.8ms\tremaining: 2.57s\n",
      "25:\tlearn: 0.6909737\ttest: 0.6886192\tbest: 0.6886192 (25)\ttotal: 292ms\tremaining: 1.44s\n",
      "50:\tlearn: 0.6897500\ttest: 0.6859575\tbest: 0.6859575 (50)\ttotal: 572ms\tremaining: 1.16s\n",
      "75:\tlearn: 0.6888649\ttest: 0.6841073\tbest: 0.6841073 (75)\ttotal: 871ms\tremaining: 894ms\n",
      "100:\tlearn: 0.6881414\ttest: 0.6827739\tbest: 0.6827739 (100)\ttotal: 1.16s\tremaining: 608ms\n",
      "125:\tlearn: 0.6875306\ttest: 0.6818991\tbest: 0.6818991 (125)\ttotal: 1.44s\tremaining: 320ms\n",
      "150:\tlearn: 0.6869598\ttest: 0.6812042\tbest: 0.6812042 (150)\ttotal: 1.72s\tremaining: 34.1ms\n",
      "153:\tlearn: 0.6868935\ttest: 0.6811362\tbest: 0.6811362 (153)\ttotal: 1.75s\tremaining: 0us\n",
      "\n",
      "bestTest = 0.6811361521\n",
      "bestIteration = 153\n",
      "\n",
      "0:\tlearn: 0.6930340\ttest: 0.6929177\tbest: 0.6929177 (0)\ttotal: 12.1ms\tremaining: 1.86s\n",
      "25:\tlearn: 0.6910943\ttest: 0.6886770\tbest: 0.6886770 (25)\ttotal: 297ms\tremaining: 1.46s\n",
      "50:\tlearn: 0.6899077\ttest: 0.6860488\tbest: 0.6860488 (50)\ttotal: 566ms\tremaining: 1.14s\n",
      "75:\tlearn: 0.6890526\ttest: 0.6842573\tbest: 0.6842573 (75)\ttotal: 852ms\tremaining: 874ms\n",
      "100:\tlearn: 0.6883450\ttest: 0.6829728\tbest: 0.6829728 (100)\ttotal: 1.14s\tremaining: 598ms\n",
      "125:\tlearn: 0.6877266\ttest: 0.6820721\tbest: 0.6820721 (125)\ttotal: 1.42s\tremaining: 315ms\n"
     ]
    },
    {
     "name": "stderr",
     "output_type": "stream",
     "text": [
      "2022-03-30 13:36:59 mean cv_value 0.06158360186964009 | std cv_value 0.008710273169924166 \n",
      "2022-03-30 13:36:59 ---------------------------------------------\n"
     ]
    },
    {
     "name": "stdout",
     "output_type": "stream",
     "text": [
      "150:\tlearn: 0.6871727\ttest: 0.6813881\tbest: 0.6813881 (150)\ttotal: 1.7s\tremaining: 33.8ms\n",
      "153:\tlearn: 0.6871023\ttest: 0.6813074\tbest: 0.6813074 (153)\ttotal: 1.74s\tremaining: 0us\n",
      "\n",
      "bestTest = 0.6813073676\n",
      "bestIteration = 153\n",
      "\n"
     ]
    },
    {
     "name": "stderr",
     "output_type": "stream",
     "text": [
      "2022-03-30 13:37:01 [TRAIN_MODEL] Training model\n",
      "2022-03-30 13:37:01 Set of params....., {'depth': 3, 'iterations': 111, 'learning_rate': 0.1101639416796694, 'colsample_bylevel': 0.5}\n"
     ]
    },
    {
     "name": "stdout",
     "output_type": "stream",
     "text": [
      "Iteration No: 122 ended. Search finished for the next optimal point.\n",
      "Time taken: 8.7484\n",
      "Function value obtained: -0.0616\n",
      "Current minimum: -0.0699\n",
      "Iteration No: 123 started. Searching for the next optimal point.\n",
      "0:\tlearn: 0.6926394\ttest: 0.6919742\tbest: 0.6919742 (0)\ttotal: 10.7ms\tremaining: 1.17s\n",
      "25:\tlearn: 0.6894518\ttest: 0.6828706\tbest: 0.6828706 (25)\ttotal: 214ms\tremaining: 698ms\n",
      "50:\tlearn: 0.6886601\ttest: 0.6815838\tbest: 0.6815838 (50)\ttotal: 417ms\tremaining: 491ms\n",
      "75:\tlearn: 0.6880630\ttest: 0.6809259\tbest: 0.6809259 (75)\ttotal: 620ms\tremaining: 285ms\n",
      "100:\tlearn: 0.6875158\ttest: 0.6804363\tbest: 0.6804363 (100)\ttotal: 814ms\tremaining: 80.6ms\n",
      "110:\tlearn: 0.6873450\ttest: 0.6803413\tbest: 0.6803413 (110)\ttotal: 892ms\tremaining: 0us\n",
      "\n",
      "bestTest = 0.6803413363\n",
      "bestIteration = 110\n",
      "\n",
      "0:\tlearn: 0.6926707\ttest: 0.6920541\tbest: 0.6920541 (0)\ttotal: 9.69ms\tremaining: 1.07s\n",
      "25:\tlearn: 0.6896564\ttest: 0.6832450\tbest: 0.6832450 (25)\ttotal: 202ms\tremaining: 661ms\n",
      "50:\tlearn: 0.6889129\ttest: 0.6818109\tbest: 0.6818109 (50)\ttotal: 386ms\tremaining: 454ms\n",
      "75:\tlearn: 0.6883169\ttest: 0.6810749\tbest: 0.6810749 (75)\ttotal: 576ms\tremaining: 265ms\n",
      "100:\tlearn: 0.6877918\ttest: 0.6806519\tbest: 0.6806519 (100)\ttotal: 764ms\tremaining: 75.6ms\n",
      "110:\tlearn: 0.6876040\ttest: 0.6804651\tbest: 0.6804651 (110)\ttotal: 842ms\tremaining: 0us\n",
      "\n",
      "bestTest = 0.6804651408\n",
      "bestIteration = 110\n",
      "\n",
      "0:\tlearn: 0.6927204\ttest: 0.6921925\tbest: 0.6921925 (0)\ttotal: 13.8ms\tremaining: 1.52s\n",
      "25:\tlearn: 0.6897182\ttest: 0.6833839\tbest: 0.6833839 (25)\ttotal: 207ms\tremaining: 678ms\n",
      "50:\tlearn: 0.6890295\ttest: 0.6819100\tbest: 0.6819100 (50)\ttotal: 401ms\tremaining: 472ms\n",
      "75:\tlearn: 0.6884633\ttest: 0.6812631\tbest: 0.6812631 (75)\ttotal: 590ms\tremaining: 272ms\n"
     ]
    },
    {
     "name": "stderr",
     "output_type": "stream",
     "text": [
      "2022-03-30 13:37:05 mean cv_value 0.06093338632225485 | std cv_value 0.007964640120546406 \n",
      "2022-03-30 13:37:05 ---------------------------------------------\n"
     ]
    },
    {
     "name": "stdout",
     "output_type": "stream",
     "text": [
      "100:\tlearn: 0.6879750\ttest: 0.6806598\tbest: 0.6806598 (100)\ttotal: 777ms\tremaining: 77ms\n",
      "110:\tlearn: 0.6877804\ttest: 0.6804352\tbest: 0.6804352 (110)\ttotal: 854ms\tremaining: 0us\n",
      "\n",
      "bestTest = 0.6804352121\n",
      "bestIteration = 110\n",
      "\n"
     ]
    },
    {
     "name": "stderr",
     "output_type": "stream",
     "text": [
      "2022-03-30 13:37:07 [TRAIN_MODEL] Training model\n",
      "2022-03-30 13:37:07 Set of params....., {'depth': 5, 'iterations': 200, 'learning_rate': 0.04391536521768291, 'colsample_bylevel': 1.0}\n"
     ]
    },
    {
     "name": "stdout",
     "output_type": "stream",
     "text": [
      "Iteration No: 123 ended. Search finished for the next optimal point.\n",
      "Time taken: 5.9423\n",
      "Function value obtained: -0.0609\n",
      "Current minimum: -0.0699\n",
      "Iteration No: 124 started. Searching for the next optimal point.\n",
      "0:\tlearn: 0.6928655\ttest: 0.6925627\tbest: 0.6925627 (0)\ttotal: 16.4ms\tremaining: 3.27s\n",
      "25:\tlearn: 0.6895728\ttest: 0.6847174\tbest: 0.6847174 (25)\ttotal: 253ms\tremaining: 1.69s\n",
      "50:\tlearn: 0.6882872\ttest: 0.6821373\tbest: 0.6821373 (50)\ttotal: 486ms\tremaining: 1.42s\n",
      "75:\tlearn: 0.6873737\ttest: 0.6809158\tbest: 0.6809158 (75)\ttotal: 722ms\tremaining: 1.18s\n",
      "100:\tlearn: 0.6865547\ttest: 0.6801074\tbest: 0.6801074 (100)\ttotal: 963ms\tremaining: 944ms\n",
      "125:\tlearn: 0.6857838\ttest: 0.6794930\tbest: 0.6794930 (125)\ttotal: 1.2s\tremaining: 706ms\n",
      "150:\tlearn: 0.6850326\ttest: 0.6788668\tbest: 0.6788668 (150)\ttotal: 1.44s\tremaining: 467ms\n",
      "175:\tlearn: 0.6843211\ttest: 0.6783838\tbest: 0.6783838 (175)\ttotal: 1.68s\tremaining: 228ms\n",
      "199:\tlearn: 0.6836497\ttest: 0.6779226\tbest: 0.6779226 (199)\ttotal: 1.91s\tremaining: 0us\n",
      "\n",
      "bestTest = 0.6779225708\n",
      "bestIteration = 199\n",
      "\n",
      "0:\tlearn: 0.6928712\ttest: 0.6925739\tbest: 0.6925739 (0)\ttotal: 11.4ms\tremaining: 2.26s\n",
      "25:\tlearn: 0.6896558\ttest: 0.6848545\tbest: 0.6848545 (25)\ttotal: 240ms\tremaining: 1.61s\n",
      "50:\tlearn: 0.6884194\ttest: 0.6823575\tbest: 0.6823575 (50)\ttotal: 479ms\tremaining: 1.4s\n",
      "75:\tlearn: 0.6875206\ttest: 0.6811176\tbest: 0.6811176 (75)\ttotal: 708ms\tremaining: 1.16s\n",
      "100:\tlearn: 0.6867204\ttest: 0.6802691\tbest: 0.6802691 (100)\ttotal: 941ms\tremaining: 923ms\n",
      "125:\tlearn: 0.6859423\ttest: 0.6795918\tbest: 0.6795918 (125)\ttotal: 1.18s\tremaining: 693ms\n",
      "150:\tlearn: 0.6852438\ttest: 0.6790529\tbest: 0.6790529 (150)\ttotal: 1.42s\tremaining: 461ms\n",
      "175:\tlearn: 0.6845295\ttest: 0.6785775\tbest: 0.6785775 (175)\ttotal: 1.65s\tremaining: 225ms\n",
      "199:\tlearn: 0.6838453\ttest: 0.6781103\tbest: 0.6781103 (199)\ttotal: 1.88s\tremaining: 0us\n",
      "\n",
      "bestTest = 0.678110305\n",
      "bestIteration = 199\n",
      "\n",
      "0:\tlearn: 0.6928734\ttest: 0.6925422\tbest: 0.6925422 (0)\ttotal: 11.5ms\tremaining: 2.3s\n",
      "25:\tlearn: 0.6898086\ttest: 0.6849300\tbest: 0.6849300 (25)\ttotal: 238ms\tremaining: 1.59s\n",
      "50:\tlearn: 0.6885925\ttest: 0.6824522\tbest: 0.6824522 (50)\ttotal: 465ms\tremaining: 1.36s\n",
      "75:\tlearn: 0.6876943\ttest: 0.6811583\tbest: 0.6811583 (75)\ttotal: 704ms\tremaining: 1.15s\n",
      "100:\tlearn: 0.6868609\ttest: 0.6803515\tbest: 0.6803515 (100)\ttotal: 941ms\tremaining: 922ms\n",
      "125:\tlearn: 0.6860940\ttest: 0.6797375\tbest: 0.6797375 (125)\ttotal: 1.18s\tremaining: 692ms\n",
      "150:\tlearn: 0.6853451\ttest: 0.6791671\tbest: 0.6791671 (150)\ttotal: 1.41s\tremaining: 459ms\n",
      "175:\tlearn: 0.6846725\ttest: 0.6786449\tbest: 0.6786449 (175)\ttotal: 1.65s\tremaining: 225ms\n"
     ]
    },
    {
     "name": "stderr",
     "output_type": "stream",
     "text": [
      "2022-03-30 13:37:14 mean cv_value 0.06347560372105265 | std cv_value 0.005209457876001676 \n",
      "2022-03-30 13:37:14 ---------------------------------------------\n"
     ]
    },
    {
     "name": "stdout",
     "output_type": "stream",
     "text": [
      "199:\tlearn: 0.6840099\ttest: 0.6781935\tbest: 0.6781935 (199)\ttotal: 1.87s\tremaining: 0us\n",
      "\n",
      "bestTest = 0.6781935352\n",
      "bestIteration = 199\n",
      "\n"
     ]
    },
    {
     "name": "stderr",
     "output_type": "stream",
     "text": [
      "2022-03-30 13:37:17 [TRAIN_MODEL] Training model\n",
      "2022-03-30 13:37:17 Set of params....., {'depth': 5, 'iterations': 200, 'learning_rate': 0.0411760033404572, 'colsample_bylevel': 1.0}\n"
     ]
    },
    {
     "name": "stdout",
     "output_type": "stream",
     "text": [
      "Iteration No: 124 ended. Search finished for the next optimal point.\n",
      "Time taken: 9.4676\n",
      "Function value obtained: -0.0635\n",
      "Current minimum: -0.0699\n",
      "Iteration No: 125 started. Searching for the next optimal point.\n",
      "0:\tlearn: 0.6928787\ttest: 0.6925987\tbest: 0.6925987 (0)\ttotal: 13.1ms\tremaining: 2.6s\n",
      "25:\tlearn: 0.6896563\ttest: 0.6849458\tbest: 0.6849458 (25)\ttotal: 243ms\tremaining: 1.63s\n",
      "50:\tlearn: 0.6884525\ttest: 0.6824165\tbest: 0.6824165 (50)\ttotal: 472ms\tremaining: 1.38s\n",
      "75:\tlearn: 0.6875585\ttest: 0.6812092\tbest: 0.6812092 (75)\ttotal: 707ms\tremaining: 1.15s\n",
      "100:\tlearn: 0.6867790\ttest: 0.6803347\tbest: 0.6803347 (100)\ttotal: 947ms\tremaining: 929ms\n",
      "125:\tlearn: 0.6860632\ttest: 0.6797420\tbest: 0.6797420 (125)\ttotal: 1.18s\tremaining: 695ms\n",
      "150:\tlearn: 0.6853235\ttest: 0.6791268\tbest: 0.6791268 (150)\ttotal: 1.42s\tremaining: 461ms\n",
      "175:\tlearn: 0.6846600\ttest: 0.6786410\tbest: 0.6786410 (175)\ttotal: 1.65s\tremaining: 225ms\n",
      "199:\tlearn: 0.6840324\ttest: 0.6781899\tbest: 0.6781899 (199)\ttotal: 1.87s\tremaining: 0us\n",
      "\n",
      "bestTest = 0.6781898934\n",
      "bestIteration = 199\n",
      "\n",
      "0:\tlearn: 0.6928850\ttest: 0.6926093\tbest: 0.6926093 (0)\ttotal: 10.7ms\tremaining: 2.12s\n",
      "25:\tlearn: 0.6897642\ttest: 0.6850512\tbest: 0.6850512 (25)\ttotal: 234ms\tremaining: 1.57s\n",
      "50:\tlearn: 0.6885592\ttest: 0.6825814\tbest: 0.6825814 (50)\ttotal: 470ms\tremaining: 1.37s\n",
      "75:\tlearn: 0.6876760\ttest: 0.6813183\tbest: 0.6813183 (75)\ttotal: 712ms\tremaining: 1.16s\n",
      "100:\tlearn: 0.6868765\ttest: 0.6804611\tbest: 0.6804611 (100)\ttotal: 948ms\tremaining: 929ms\n",
      "125:\tlearn: 0.6860888\ttest: 0.6797338\tbest: 0.6797338 (125)\ttotal: 1.19s\tremaining: 700ms\n",
      "150:\tlearn: 0.6854363\ttest: 0.6791642\tbest: 0.6791642 (150)\ttotal: 1.43s\tremaining: 464ms\n",
      "175:\tlearn: 0.6847792\ttest: 0.6786986\tbest: 0.6786986 (175)\ttotal: 1.66s\tremaining: 227ms\n",
      "199:\tlearn: 0.6841883\ttest: 0.6783176\tbest: 0.6783176 (199)\ttotal: 1.89s\tremaining: 0us\n",
      "\n",
      "bestTest = 0.6783175896\n",
      "bestIteration = 199\n",
      "\n",
      "0:\tlearn: 0.6928870\ttest: 0.6925796\tbest: 0.6925796 (0)\ttotal: 11.9ms\tremaining: 2.36s\n",
      "25:\tlearn: 0.6899089\ttest: 0.6851839\tbest: 0.6851839 (25)\ttotal: 239ms\tremaining: 1.6s\n",
      "50:\tlearn: 0.6887214\ttest: 0.6827236\tbest: 0.6827236 (50)\ttotal: 471ms\tremaining: 1.38s\n",
      "75:\tlearn: 0.6878174\ttest: 0.6814547\tbest: 0.6814547 (75)\ttotal: 708ms\tremaining: 1.16s\n",
      "100:\tlearn: 0.6870648\ttest: 0.6807471\tbest: 0.6807471 (100)\ttotal: 945ms\tremaining: 927ms\n",
      "125:\tlearn: 0.6863272\ttest: 0.6800366\tbest: 0.6800366 (125)\ttotal: 1.18s\tremaining: 692ms\n",
      "150:\tlearn: 0.6856484\ttest: 0.6794322\tbest: 0.6794322 (150)\ttotal: 1.42s\tremaining: 459ms\n",
      "175:\tlearn: 0.6849867\ttest: 0.6789579\tbest: 0.6789579 (175)\ttotal: 1.65s\tremaining: 225ms\n"
     ]
    },
    {
     "name": "stderr",
     "output_type": "stream",
     "text": [
      "2022-03-30 13:37:23 mean cv_value 0.059203131268990156 | std cv_value 0.010515954606675215 \n",
      "2022-03-30 13:37:23 ---------------------------------------------\n"
     ]
    },
    {
     "name": "stdout",
     "output_type": "stream",
     "text": [
      "199:\tlearn: 0.6843761\ttest: 0.6785228\tbest: 0.6785228 (199)\ttotal: 1.88s\tremaining: 0us\n",
      "\n",
      "bestTest = 0.678522825\n",
      "bestIteration = 199\n",
      "\n"
     ]
    },
    {
     "name": "stderr",
     "output_type": "stream",
     "text": [
      "2022-03-30 13:37:26 [TRAIN_MODEL] Training model\n",
      "2022-03-30 13:37:26 Set of params....., {'depth': 1, 'iterations': 102, 'learning_rate': 0.008398029056840452, 'colsample_bylevel': 0.5125896100642656}\n"
     ]
    },
    {
     "name": "stdout",
     "output_type": "stream",
     "text": [
      "Iteration No: 125 ended. Search finished for the next optimal point.\n",
      "Time taken: 9.4083\n",
      "Function value obtained: -0.0592\n",
      "Current minimum: -0.0699\n",
      "Iteration No: 126 started. Searching for the next optimal point.\n",
      "0:\tlearn: 0.6931287\ttest: 0.6931185\tbest: 0.6931185 (0)\ttotal: 12.1ms\tremaining: 1.22s\n",
      "25:\tlearn: 0.6926516\ttest: 0.6920064\tbest: 0.6920064 (25)\ttotal: 146ms\tremaining: 428ms\n",
      "50:\tlearn: 0.6923039\ttest: 0.6911668\tbest: 0.6911668 (50)\ttotal: 274ms\tremaining: 274ms\n",
      "75:\tlearn: 0.6920383\ttest: 0.6904564\tbest: 0.6904564 (75)\ttotal: 402ms\tremaining: 137ms\n",
      "100:\tlearn: 0.6917945\ttest: 0.6897502\tbest: 0.6897502 (100)\ttotal: 537ms\tremaining: 5.32ms\n",
      "101:\tlearn: 0.6917829\ttest: 0.6897192\tbest: 0.6897192 (101)\ttotal: 544ms\tremaining: 0us\n",
      "\n",
      "bestTest = 0.6897192248\n",
      "bestIteration = 101\n",
      "\n",
      "0:\tlearn: 0.6931383\ttest: 0.6931209\tbest: 0.6931209 (0)\ttotal: 10.8ms\tremaining: 1.09s\n",
      "25:\tlearn: 0.6927140\ttest: 0.6921192\tbest: 0.6921192 (25)\ttotal: 148ms\tremaining: 432ms\n",
      "50:\tlearn: 0.6923543\ttest: 0.6912379\tbest: 0.6912379 (50)\ttotal: 276ms\tremaining: 276ms\n",
      "75:\tlearn: 0.6921098\ttest: 0.6905945\tbest: 0.6905945 (75)\ttotal: 405ms\tremaining: 138ms\n",
      "100:\tlearn: 0.6918752\ttest: 0.6899223\tbest: 0.6899223 (100)\ttotal: 535ms\tremaining: 5.29ms\n",
      "101:\tlearn: 0.6918692\ttest: 0.6899150\tbest: 0.6899150 (101)\ttotal: 541ms\tremaining: 0us\n",
      "\n",
      "bestTest = 0.6899149562\n",
      "bestIteration = 101\n",
      "\n",
      "0:\tlearn: 0.6931263\ttest: 0.6931207\tbest: 0.6931207 (0)\ttotal: 25.9ms\tremaining: 2.62s\n",
      "25:\tlearn: 0.6927252\ttest: 0.6921900\tbest: 0.6921900 (25)\ttotal: 163ms\tremaining: 476ms\n",
      "50:\tlearn: 0.6923568\ttest: 0.6912720\tbest: 0.6912720 (50)\ttotal: 302ms\tremaining: 302ms\n",
      "75:\tlearn: 0.6920850\ttest: 0.6905356\tbest: 0.6905356 (75)\ttotal: 428ms\tremaining: 146ms\n"
     ]
    },
    {
     "name": "stderr",
     "output_type": "stream",
     "text": [
      "2022-03-30 13:37:28 mean cv_value 0.05222257099260156 | std cv_value 0.010353882271804457 \n",
      "2022-03-30 13:37:28 ---------------------------------------------\n"
     ]
    },
    {
     "name": "stdout",
     "output_type": "stream",
     "text": [
      "100:\tlearn: 0.6918853\ttest: 0.6899573\tbest: 0.6899573 (100)\ttotal: 564ms\tremaining: 5.59ms\n",
      "101:\tlearn: 0.6918792\ttest: 0.6899319\tbest: 0.6899319 (101)\ttotal: 570ms\tremaining: 0us\n",
      "\n",
      "bestTest = 0.6899319456\n",
      "bestIteration = 101\n",
      "\n"
     ]
    },
    {
     "name": "stderr",
     "output_type": "stream",
     "text": [
      "2022-03-30 13:37:31 [TRAIN_MODEL] Training model\n",
      "2022-03-30 13:37:31 Set of params....., {'depth': 10, 'iterations': 6, 'learning_rate': 0.0011048400999483026, 'colsample_bylevel': 0.5631459144871637}\n"
     ]
    },
    {
     "name": "stdout",
     "output_type": "stream",
     "text": [
      "Iteration No: 126 ended. Search finished for the next optimal point.\n",
      "Time taken: 5.1553\n",
      "Function value obtained: -0.0522\n",
      "Current minimum: -0.0699\n",
      "Iteration No: 127 started. Searching for the next optimal point.\n",
      "0:\tlearn: 0.6931283\ttest: 0.6931222\tbest: 0.6931222 (0)\ttotal: 71.8ms\tremaining: 359ms\n",
      "5:\tlearn: 0.6930206\ttest: 0.6930019\tbest: 0.6930019 (5)\ttotal: 303ms\tremaining: 0us\n",
      "\n",
      "bestTest = 0.6930019193\n",
      "bestIteration = 5\n",
      "\n",
      "0:\tlearn: 0.6931300\ttest: 0.6931226\tbest: 0.6931226 (0)\ttotal: 48ms\tremaining: 240ms\n",
      "5:\tlearn: 0.6930273\ttest: 0.6930043\tbest: 0.6930043 (5)\ttotal: 261ms\tremaining: 0us\n",
      "\n",
      "bestTest = 0.6930042901\n",
      "bestIteration = 5\n",
      "\n",
      "0:\tlearn: 0.6931266\ttest: 0.6931250\tbest: 0.6931250 (0)\ttotal: 41.8ms\tremaining: 209ms\n"
     ]
    },
    {
     "name": "stderr",
     "output_type": "stream",
     "text": [
      "2022-03-30 13:37:33 mean cv_value 0.04571603106109443 | std cv_value 0.013992364320274902 \n",
      "2022-03-30 13:37:33 ---------------------------------------------\n"
     ]
    },
    {
     "name": "stdout",
     "output_type": "stream",
     "text": [
      "5:\tlearn: 0.6930211\ttest: 0.6930050\tbest: 0.6930050 (5)\ttotal: 259ms\tremaining: 0us\n",
      "\n",
      "bestTest = 0.6930050381\n",
      "bestIteration = 5\n",
      "\n"
     ]
    },
    {
     "name": "stderr",
     "output_type": "stream",
     "text": [
      "2022-03-30 13:37:36 [TRAIN_MODEL] Training model\n",
      "2022-03-30 13:37:36 Set of params....., {'depth': 6, 'iterations': 200, 'learning_rate': 0.017852819104084056, 'colsample_bylevel': 0.5}\n"
     ]
    },
    {
     "name": "stdout",
     "output_type": "stream",
     "text": [
      "Iteration No: 127 ended. Search finished for the next optimal point.\n",
      "Time taken: 4.3332\n",
      "Function value obtained: -0.0457\n",
      "Current minimum: -0.0699\n",
      "Iteration No: 128 started. Searching for the next optimal point.\n",
      "0:\tlearn: 0.6930296\ttest: 0.6928876\tbest: 0.6928876 (0)\ttotal: 15.1ms\tremaining: 3.01s\n",
      "25:\tlearn: 0.6907439\ttest: 0.6880600\tbest: 0.6880600 (25)\ttotal: 354ms\tremaining: 2.37s\n",
      "50:\tlearn: 0.6894595\ttest: 0.6852503\tbest: 0.6852503 (50)\ttotal: 685ms\tremaining: 2s\n",
      "75:\tlearn: 0.6885231\ttest: 0.6834160\tbest: 0.6834160 (75)\ttotal: 1.02s\tremaining: 1.67s\n",
      "100:\tlearn: 0.6878165\ttest: 0.6821887\tbest: 0.6821887 (100)\ttotal: 1.35s\tremaining: 1.33s\n",
      "125:\tlearn: 0.6871961\ttest: 0.6813236\tbest: 0.6813236 (125)\ttotal: 1.69s\tremaining: 990ms\n",
      "150:\tlearn: 0.6866285\ttest: 0.6806427\tbest: 0.6806427 (150)\ttotal: 2.02s\tremaining: 655ms\n",
      "175:\tlearn: 0.6860946\ttest: 0.6800631\tbest: 0.6800631 (175)\ttotal: 2.36s\tremaining: 322ms\n",
      "199:\tlearn: 0.6856177\ttest: 0.6796281\tbest: 0.6796281 (199)\ttotal: 2.69s\tremaining: 0us\n",
      "\n",
      "bestTest = 0.6796281376\n",
      "bestIteration = 199\n",
      "\n",
      "0:\tlearn: 0.6930261\ttest: 0.6928863\tbest: 0.6928863 (0)\ttotal: 16.7ms\tremaining: 3.32s\n",
      "25:\tlearn: 0.6908582\ttest: 0.6882587\tbest: 0.6882587 (25)\ttotal: 342ms\tremaining: 2.29s\n",
      "50:\tlearn: 0.6895830\ttest: 0.6854667\tbest: 0.6854667 (50)\ttotal: 667ms\tremaining: 1.95s\n",
      "75:\tlearn: 0.6886549\ttest: 0.6835796\tbest: 0.6835796 (75)\ttotal: 994ms\tremaining: 1.62s\n",
      "100:\tlearn: 0.6879302\ttest: 0.6823580\tbest: 0.6823580 (100)\ttotal: 1.33s\tremaining: 1.31s\n",
      "125:\tlearn: 0.6872880\ttest: 0.6814466\tbest: 0.6814466 (125)\ttotal: 1.67s\tremaining: 982ms\n",
      "150:\tlearn: 0.6867103\ttest: 0.6808160\tbest: 0.6808160 (150)\ttotal: 2.01s\tremaining: 651ms\n",
      "175:\tlearn: 0.6861529\ttest: 0.6802425\tbest: 0.6802425 (175)\ttotal: 2.34s\tremaining: 320ms\n",
      "199:\tlearn: 0.6856525\ttest: 0.6797497\tbest: 0.6797497 (199)\ttotal: 2.66s\tremaining: 0us\n",
      "\n",
      "bestTest = 0.6797497369\n",
      "bestIteration = 199\n",
      "\n",
      "0:\tlearn: 0.6930185\ttest: 0.6928950\tbest: 0.6928950 (0)\ttotal: 17.6ms\tremaining: 3.51s\n",
      "25:\tlearn: 0.6909061\ttest: 0.6882745\tbest: 0.6882745 (25)\ttotal: 348ms\tremaining: 2.33s\n",
      "50:\tlearn: 0.6896727\ttest: 0.6855716\tbest: 0.6855716 (50)\ttotal: 675ms\tremaining: 1.97s\n",
      "75:\tlearn: 0.6887945\ttest: 0.6838173\tbest: 0.6838173 (75)\ttotal: 1.01s\tremaining: 1.64s\n",
      "100:\tlearn: 0.6880800\ttest: 0.6825750\tbest: 0.6825750 (100)\ttotal: 1.35s\tremaining: 1.32s\n",
      "125:\tlearn: 0.6874627\ttest: 0.6817354\tbest: 0.6817354 (125)\ttotal: 1.69s\tremaining: 992ms\n",
      "150:\tlearn: 0.6868585\ttest: 0.6810093\tbest: 0.6810093 (150)\ttotal: 2.02s\tremaining: 657ms\n",
      "175:\tlearn: 0.6862963\ttest: 0.6804143\tbest: 0.6804143 (175)\ttotal: 2.36s\tremaining: 322ms\n"
     ]
    },
    {
     "name": "stderr",
     "output_type": "stream",
     "text": [
      "2022-03-30 13:37:44 mean cv_value 0.06036855810477256 | std cv_value 0.009369794604600126 \n",
      "2022-03-30 13:37:44 ---------------------------------------------\n"
     ]
    },
    {
     "name": "stdout",
     "output_type": "stream",
     "text": [
      "199:\tlearn: 0.6858363\ttest: 0.6799773\tbest: 0.6799773 (199)\ttotal: 2.69s\tremaining: 0us\n",
      "\n",
      "bestTest = 0.6799773141\n",
      "bestIteration = 199\n",
      "\n"
     ]
    },
    {
     "name": "stderr",
     "output_type": "stream",
     "text": [
      "2022-03-30 13:37:47 [TRAIN_MODEL] Training model\n",
      "2022-03-30 13:37:47 Set of params....., {'depth': 3, 'iterations': 66, 'learning_rate': 0.9446855467299042, 'colsample_bylevel': 0.5693001031023289}\n"
     ]
    },
    {
     "name": "stdout",
     "output_type": "stream",
     "text": [
      "Iteration No: 128 ended. Search finished for the next optimal point.\n",
      "Time taken: 11.6189\n",
      "Function value obtained: -0.0604\n",
      "Current minimum: -0.0699\n",
      "Iteration No: 129 started. Searching for the next optimal point.\n",
      "0:\tlearn: 0.6914285\ttest: 0.6878891\tbest: 0.6878891 (0)\ttotal: 12.1ms\tremaining: 787ms\n",
      "25:\tlearn: 0.6865407\ttest: 0.6798159\tbest: 0.6798159 (25)\ttotal: 219ms\tremaining: 337ms\n",
      "50:\tlearn: 0.6839476\ttest: 0.6789750\tbest: 0.6789750 (50)\ttotal: 414ms\tremaining: 122ms\n",
      "65:\tlearn: 0.6825205\ttest: 0.6787810\tbest: 0.6787810 (65)\ttotal: 530ms\tremaining: 0us\n",
      "\n",
      "bestTest = 0.6787810005\n",
      "bestIteration = 65\n",
      "\n",
      "0:\tlearn: 0.6918004\ttest: 0.6887503\tbest: 0.6887503 (0)\ttotal: 35.9ms\tremaining: 2.33s\n",
      "25:\tlearn: 0.6868706\ttest: 0.6804400\tbest: 0.6804400 (25)\ttotal: 272ms\tremaining: 418ms\n",
      "50:\tlearn: 0.6843677\ttest: 0.6791850\tbest: 0.6791850 (50)\ttotal: 461ms\tremaining: 136ms\n",
      "65:\tlearn: 0.6829649\ttest: 0.6793894\tbest: 0.6791850 (50)\ttotal: 580ms\tremaining: 0us\n",
      "\n",
      "bestTest = 0.679185041\n",
      "bestIteration = 50\n",
      "\n",
      "Shrink model to first 51 iterations.\n",
      "0:\tlearn: 0.6914956\ttest: 0.6880528\tbest: 0.6880528 (0)\ttotal: 10.4ms\tremaining: 673ms\n",
      "25:\tlearn: 0.6869005\ttest: 0.6798244\tbest: 0.6798244 (25)\ttotal: 225ms\tremaining: 346ms\n",
      "50:\tlearn: 0.6842510\ttest: 0.6791954\tbest: 0.6791954 (50)\ttotal: 419ms\tremaining: 123ms\n"
     ]
    },
    {
     "name": "stderr",
     "output_type": "stream",
     "text": [
      "2022-03-30 13:37:50 mean cv_value 0.044918881693106295 | std cv_value 0.006763113071279853 \n",
      "2022-03-30 13:37:50 ---------------------------------------------\n"
     ]
    },
    {
     "name": "stdout",
     "output_type": "stream",
     "text": [
      "65:\tlearn: 0.6830862\ttest: 0.6786673\tbest: 0.6786673 (65)\ttotal: 530ms\tremaining: 0us\n",
      "\n",
      "bestTest = 0.678667284\n",
      "bestIteration = 65\n",
      "\n"
     ]
    },
    {
     "name": "stderr",
     "output_type": "stream",
     "text": [
      "2022-03-30 13:37:52 [TRAIN_MODEL] Training model\n",
      "2022-03-30 13:37:52 Set of params....., {'depth': 4, 'iterations': 132, 'learning_rate': 0.07885557731735066, 'colsample_bylevel': 1.0}\n"
     ]
    },
    {
     "name": "stdout",
     "output_type": "stream",
     "text": [
      "Iteration No: 129 ended. Search finished for the next optimal point.\n",
      "Time taken: 5.0439\n",
      "Function value obtained: -0.0449\n",
      "Current minimum: -0.0699\n",
      "Iteration No: 130 started. Searching for the next optimal point.\n",
      "0:\tlearn: 0.6926923\ttest: 0.6921286\tbest: 0.6921286 (0)\ttotal: 9.9ms\tremaining: 1.3s\n",
      "25:\tlearn: 0.6892193\ttest: 0.6830849\tbest: 0.6830849 (25)\ttotal: 209ms\tremaining: 850ms\n",
      "50:\tlearn: 0.6881098\ttest: 0.6813464\tbest: 0.6813464 (50)\ttotal: 412ms\tremaining: 654ms\n",
      "75:\tlearn: 0.6872444\ttest: 0.6804181\tbest: 0.6804181 (75)\ttotal: 614ms\tremaining: 453ms\n",
      "100:\tlearn: 0.6865187\ttest: 0.6798434\tbest: 0.6798434 (100)\ttotal: 809ms\tremaining: 248ms\n",
      "125:\tlearn: 0.6857828\ttest: 0.6792814\tbest: 0.6792814 (125)\ttotal: 1.02s\tremaining: 48.5ms\n",
      "131:\tlearn: 0.6856361\ttest: 0.6791760\tbest: 0.6791760 (131)\ttotal: 1.06s\tremaining: 0us\n",
      "\n",
      "bestTest = 0.6791760101\n",
      "bestIteration = 131\n",
      "\n",
      "0:\tlearn: 0.6927078\ttest: 0.6921833\tbest: 0.6921833 (0)\ttotal: 11.9ms\tremaining: 1.56s\n",
      "25:\tlearn: 0.6893676\ttest: 0.6831648\tbest: 0.6831648 (25)\ttotal: 216ms\tremaining: 879ms\n",
      "50:\tlearn: 0.6883131\ttest: 0.6815447\tbest: 0.6815447 (50)\ttotal: 413ms\tremaining: 657ms\n",
      "75:\tlearn: 0.6874829\ttest: 0.6806620\tbest: 0.6806620 (75)\ttotal: 615ms\tremaining: 453ms\n",
      "100:\tlearn: 0.6866741\ttest: 0.6800129\tbest: 0.6800129 (100)\ttotal: 818ms\tremaining: 251ms\n",
      "125:\tlearn: 0.6859501\ttest: 0.6794349\tbest: 0.6794349 (125)\ttotal: 1.02s\tremaining: 48.4ms\n",
      "131:\tlearn: 0.6857492\ttest: 0.6793263\tbest: 0.6793263 (131)\ttotal: 1.07s\tremaining: 0us\n",
      "\n",
      "bestTest = 0.6793263147\n",
      "bestIteration = 131\n",
      "\n",
      "0:\tlearn: 0.6927270\ttest: 0.6921459\tbest: 0.6921459 (0)\ttotal: 11.1ms\tremaining: 1.45s\n",
      "25:\tlearn: 0.6894903\ttest: 0.6835151\tbest: 0.6835151 (25)\ttotal: 208ms\tremaining: 849ms\n",
      "50:\tlearn: 0.6884489\ttest: 0.6817475\tbest: 0.6817475 (50)\ttotal: 410ms\tremaining: 652ms\n",
      "75:\tlearn: 0.6875734\ttest: 0.6806801\tbest: 0.6806801 (75)\ttotal: 612ms\tremaining: 451ms\n",
      "100:\tlearn: 0.6868683\ttest: 0.6800764\tbest: 0.6800764 (100)\ttotal: 811ms\tremaining: 249ms\n"
     ]
    },
    {
     "name": "stderr",
     "output_type": "stream",
     "text": [
      "2022-03-30 13:37:56 mean cv_value 0.06509633430547677 | std cv_value 0.009779914428437161 \n",
      "2022-03-30 13:37:56 ---------------------------------------------\n"
     ]
    },
    {
     "name": "stdout",
     "output_type": "stream",
     "text": [
      "125:\tlearn: 0.6861729\ttest: 0.6796238\tbest: 0.6796238 (125)\ttotal: 1.01s\tremaining: 48.2ms\n",
      "131:\tlearn: 0.6860133\ttest: 0.6794521\tbest: 0.6794521 (131)\ttotal: 1.06s\tremaining: 0us\n",
      "\n",
      "bestTest = 0.6794521373\n",
      "bestIteration = 131\n",
      "\n"
     ]
    },
    {
     "name": "stderr",
     "output_type": "stream",
     "text": [
      "2022-03-30 13:37:59 [TRAIN_MODEL] Training model\n",
      "2022-03-30 13:37:59 Set of params....., {'depth': 4, 'iterations': 139, 'learning_rate': 0.07545159740611736, 'colsample_bylevel': 0.5}\n"
     ]
    },
    {
     "name": "stdout",
     "output_type": "stream",
     "text": [
      "Iteration No: 130 ended. Search finished for the next optimal point.\n",
      "Time taken: 7.0169\n",
      "Function value obtained: -0.0651\n",
      "Current minimum: -0.0699\n",
      "Iteration No: 131 started. Searching for the next optimal point.\n",
      "0:\tlearn: 0.6927530\ttest: 0.6922439\tbest: 0.6922439 (0)\ttotal: 27.9ms\tremaining: 3.85s\n",
      "25:\tlearn: 0.6893678\ttest: 0.6832270\tbest: 0.6832270 (25)\ttotal: 261ms\tremaining: 1.14s\n",
      "50:\tlearn: 0.6883736\ttest: 0.6814551\tbest: 0.6814551 (50)\ttotal: 496ms\tremaining: 856ms\n",
      "75:\tlearn: 0.6875842\ttest: 0.6805992\tbest: 0.6805992 (75)\ttotal: 792ms\tremaining: 656ms\n",
      "100:\tlearn: 0.6868859\ttest: 0.6799425\tbest: 0.6799425 (100)\ttotal: 1.03s\tremaining: 388ms\n",
      "125:\tlearn: 0.6862632\ttest: 0.6794924\tbest: 0.6794924 (125)\ttotal: 1.27s\tremaining: 131ms\n",
      "138:\tlearn: 0.6859249\ttest: 0.6792584\tbest: 0.6792584 (138)\ttotal: 1.39s\tremaining: 0us\n",
      "\n",
      "bestTest = 0.6792583584\n",
      "bestIteration = 138\n",
      "\n",
      "0:\tlearn: 0.6927584\ttest: 0.6922661\tbest: 0.6922661 (0)\ttotal: 10.3ms\tremaining: 1.42s\n",
      "25:\tlearn: 0.6894993\ttest: 0.6835388\tbest: 0.6835388 (25)\ttotal: 239ms\tremaining: 1.04s\n",
      "50:\tlearn: 0.6885220\ttest: 0.6817363\tbest: 0.6817363 (50)\ttotal: 479ms\tremaining: 827ms\n",
      "75:\tlearn: 0.6877974\ttest: 0.6808638\tbest: 0.6808638 (75)\ttotal: 720ms\tremaining: 597ms\n",
      "100:\tlearn: 0.6871164\ttest: 0.6801751\tbest: 0.6801751 (100)\ttotal: 958ms\tremaining: 360ms\n",
      "125:\tlearn: 0.6864271\ttest: 0.6796901\tbest: 0.6796901 (125)\ttotal: 1.2s\tremaining: 123ms\n",
      "138:\tlearn: 0.6861148\ttest: 0.6794329\tbest: 0.6794329 (138)\ttotal: 1.32s\tremaining: 0us\n",
      "\n",
      "bestTest = 0.6794329214\n",
      "bestIteration = 138\n",
      "\n",
      "0:\tlearn: 0.6927939\ttest: 0.6923808\tbest: 0.6923808 (0)\ttotal: 10.3ms\tremaining: 1.43s\n",
      "25:\tlearn: 0.6895711\ttest: 0.6837134\tbest: 0.6837134 (25)\ttotal: 242ms\tremaining: 1.05s\n",
      "50:\tlearn: 0.6885717\ttest: 0.6818560\tbest: 0.6818560 (50)\ttotal: 470ms\tremaining: 812ms\n",
      "75:\tlearn: 0.6878293\ttest: 0.6809754\tbest: 0.6809754 (75)\ttotal: 695ms\tremaining: 576ms\n",
      "100:\tlearn: 0.6871493\ttest: 0.6802663\tbest: 0.6802663 (100)\ttotal: 934ms\tremaining: 351ms\n",
      "125:\tlearn: 0.6864987\ttest: 0.6797494\tbest: 0.6797494 (125)\ttotal: 1.17s\tremaining: 120ms\n",
      "138:\tlearn: 0.6861480\ttest: 0.6794376\tbest: 0.6794376 (138)\ttotal: 1.29s\tremaining: 0us\n",
      "\n",
      "bestTest = 0.6794376201\n",
      "bestIteration = 138\n",
      "\n"
     ]
    },
    {
     "name": "stderr",
     "output_type": "stream",
     "text": [
      "2022-03-30 13:38:04 mean cv_value 0.06148539387134208 | std cv_value 0.010959997018540144 \n",
      "2022-03-30 13:38:04 ---------------------------------------------\n",
      "2022-03-30 13:38:07 [TRAIN_MODEL] Training model\n",
      "2022-03-30 13:38:07 Set of params....., {'depth': 4, 'iterations': 111, 'learning_rate': 0.10243330678662844, 'colsample_bylevel': 1.0}\n"
     ]
    },
    {
     "name": "stdout",
     "output_type": "stream",
     "text": [
      "Iteration No: 131 ended. Search finished for the next optimal point.\n",
      "Time taken: 8.1064\n",
      "Function value obtained: -0.0615\n",
      "Current minimum: -0.0699\n",
      "Iteration No: 132 started. Searching for the next optimal point.\n",
      "0:\tlearn: 0.6925656\ttest: 0.6918317\tbest: 0.6918317 (0)\ttotal: 38.2ms\tremaining: 4.21s\n",
      "25:\tlearn: 0.6888504\ttest: 0.6822736\tbest: 0.6822736 (25)\ttotal: 243ms\tremaining: 794ms\n",
      "50:\tlearn: 0.6875632\ttest: 0.6807017\tbest: 0.6807017 (50)\ttotal: 444ms\tremaining: 522ms\n",
      "75:\tlearn: 0.6865924\ttest: 0.6797571\tbest: 0.6797571 (75)\ttotal: 654ms\tremaining: 301ms\n",
      "100:\tlearn: 0.6856302\ttest: 0.6791354\tbest: 0.6791354 (100)\ttotal: 855ms\tremaining: 84.7ms\n",
      "110:\tlearn: 0.6852597\ttest: 0.6788967\tbest: 0.6788967 (110)\ttotal: 937ms\tremaining: 0us\n",
      "\n",
      "bestTest = 0.6788967091\n",
      "bestIteration = 110\n",
      "\n",
      "0:\tlearn: 0.6925732\ttest: 0.6919025\tbest: 0.6919025 (0)\ttotal: 24.2ms\tremaining: 2.66s\n",
      "25:\tlearn: 0.6889941\ttest: 0.6826107\tbest: 0.6826107 (25)\ttotal: 227ms\tremaining: 743ms\n",
      "50:\tlearn: 0.6877858\ttest: 0.6810314\tbest: 0.6810314 (50)\ttotal: 433ms\tremaining: 509ms\n",
      "75:\tlearn: 0.6866986\ttest: 0.6801130\tbest: 0.6801130 (75)\ttotal: 637ms\tremaining: 294ms\n",
      "100:\tlearn: 0.6857806\ttest: 0.6794645\tbest: 0.6794645 (100)\ttotal: 830ms\tremaining: 82.2ms\n",
      "110:\tlearn: 0.6854009\ttest: 0.6792497\tbest: 0.6792497 (110)\ttotal: 909ms\tremaining: 0us\n",
      "\n",
      "bestTest = 0.6792496954\n",
      "bestIteration = 110\n",
      "\n",
      "0:\tlearn: 0.6926143\ttest: 0.6918535\tbest: 0.6918535 (0)\ttotal: 38.1ms\tremaining: 4.19s\n",
      "25:\tlearn: 0.6890481\ttest: 0.6825787\tbest: 0.6825787 (25)\ttotal: 259ms\tremaining: 846ms\n",
      "50:\tlearn: 0.6878768\ttest: 0.6809925\tbest: 0.6809925 (50)\ttotal: 456ms\tremaining: 536ms\n",
      "75:\tlearn: 0.6869397\ttest: 0.6802042\tbest: 0.6802042 (75)\ttotal: 664ms\tremaining: 306ms\n"
     ]
    },
    {
     "name": "stderr",
     "output_type": "stream",
     "text": [
      "2022-03-30 13:38:11 mean cv_value 0.0631925307524458 | std cv_value 0.004634256002284384 \n",
      "2022-03-30 13:38:11 ---------------------------------------------\n"
     ]
    },
    {
     "name": "stdout",
     "output_type": "stream",
     "text": [
      "100:\tlearn: 0.6860071\ttest: 0.6794770\tbest: 0.6794770 (100)\ttotal: 865ms\tremaining: 85.6ms\n",
      "110:\tlearn: 0.6857004\ttest: 0.6793305\tbest: 0.6793305 (110)\ttotal: 948ms\tremaining: 0us\n",
      "\n",
      "bestTest = 0.6793304839\n",
      "bestIteration = 110\n",
      "\n"
     ]
    },
    {
     "name": "stderr",
     "output_type": "stream",
     "text": [
      "2022-03-30 13:38:14 [TRAIN_MODEL] Training model\n",
      "2022-03-30 13:38:14 Set of params....., {'depth': 4, 'iterations': 5, 'learning_rate': 0.010552773492268384, 'colsample_bylevel': 0.8204960866334089}\n"
     ]
    },
    {
     "name": "stdout",
     "output_type": "stream",
     "text": [
      "Iteration No: 132 ended. Search finished for the next optimal point.\n",
      "Time taken: 6.3081\n",
      "Function value obtained: -0.0632\n",
      "Current minimum: -0.0699\n",
      "Iteration No: 133 started. Searching for the next optimal point.\n",
      "0:\tlearn: 0.6930912\ttest: 0.6930086\tbest: 0.6930086 (0)\ttotal: 15.8ms\tremaining: 63.2ms\n",
      "4:\tlearn: 0.6928411\ttest: 0.6924697\tbest: 0.6924697 (4)\ttotal: 53ms\tremaining: 0us\n",
      "\n",
      "bestTest = 0.6924696594\n",
      "bestIteration = 4\n",
      "\n",
      "0:\tlearn: 0.6930922\ttest: 0.6930163\tbest: 0.6930163 (0)\ttotal: 11.4ms\tremaining: 45.7ms\n",
      "4:\tlearn: 0.6928560\ttest: 0.6925075\tbest: 0.6925075 (4)\ttotal: 48.3ms\tremaining: 0us\n",
      "\n",
      "bestTest = 0.6925075453\n",
      "bestIteration = 4\n",
      "\n"
     ]
    },
    {
     "name": "stderr",
     "output_type": "stream",
     "text": [
      "2022-03-30 13:38:15 mean cv_value 0.05584887982402914 | std cv_value 0.0068763133881766195 \n",
      "2022-03-30 13:38:15 ---------------------------------------------\n"
     ]
    },
    {
     "name": "stdout",
     "output_type": "stream",
     "text": [
      "0:\tlearn: 0.6930788\ttest: 0.6930111\tbest: 0.6930111 (0)\ttotal: 41.2ms\tremaining: 165ms\n",
      "4:\tlearn: 0.6928661\ttest: 0.6925012\tbest: 0.6925012 (4)\ttotal: 90.1ms\tremaining: 0us\n",
      "\n",
      "bestTest = 0.6925011668\n",
      "bestIteration = 4\n",
      "\n"
     ]
    },
    {
     "name": "stderr",
     "output_type": "stream",
     "text": [
      "2022-03-30 13:38:18 [TRAIN_MODEL] Training model\n",
      "2022-03-30 13:38:18 Set of params....., {'depth': 4, 'iterations': 116, 'learning_rate': 0.12112846655981982, 'colsample_bylevel': 1.0}\n"
     ]
    },
    {
     "name": "stdout",
     "output_type": "stream",
     "text": [
      "Iteration No: 133 ended. Search finished for the next optimal point.\n",
      "Time taken: 4.2568\n",
      "Function value obtained: -0.0558\n",
      "Current minimum: -0.0699\n",
      "Iteration No: 134 started. Searching for the next optimal point.\n",
      "0:\tlearn: 0.6924651\ttest: 0.6915987\tbest: 0.6915987 (0)\ttotal: 16.9ms\tremaining: 1.95s\n",
      "25:\tlearn: 0.6885120\ttest: 0.6818964\tbest: 0.6818964 (25)\ttotal: 213ms\tremaining: 737ms\n",
      "50:\tlearn: 0.6872406\ttest: 0.6805062\tbest: 0.6805062 (50)\ttotal: 417ms\tremaining: 531ms\n",
      "75:\tlearn: 0.6861243\ttest: 0.6796785\tbest: 0.6796785 (75)\ttotal: 626ms\tremaining: 330ms\n",
      "100:\tlearn: 0.6850264\ttest: 0.6789905\tbest: 0.6789905 (100)\ttotal: 833ms\tremaining: 124ms\n",
      "115:\tlearn: 0.6843075\ttest: 0.6785602\tbest: 0.6785602 (115)\ttotal: 958ms\tremaining: 0us\n",
      "\n",
      "bestTest = 0.6785601645\n",
      "bestIteration = 115\n",
      "\n",
      "0:\tlearn: 0.6924720\ttest: 0.6916823\tbest: 0.6916823 (0)\ttotal: 17ms\tremaining: 1.96s\n",
      "25:\tlearn: 0.6887100\ttest: 0.6822128\tbest: 0.6822128 (25)\ttotal: 218ms\tremaining: 755ms\n",
      "50:\tlearn: 0.6874218\ttest: 0.6807159\tbest: 0.6807159 (50)\ttotal: 420ms\tremaining: 535ms\n",
      "75:\tlearn: 0.6862772\ttest: 0.6798089\tbest: 0.6798089 (75)\ttotal: 624ms\tremaining: 329ms\n",
      "100:\tlearn: 0.6852257\ttest: 0.6791163\tbest: 0.6791163 (100)\ttotal: 822ms\tremaining: 122ms\n",
      "115:\tlearn: 0.6846123\ttest: 0.6787076\tbest: 0.6787076 (115)\ttotal: 943ms\tremaining: 0us\n",
      "\n",
      "bestTest = 0.6787076443\n",
      "bestIteration = 115\n",
      "\n",
      "0:\tlearn: 0.6925218\ttest: 0.6916239\tbest: 0.6916239 (0)\ttotal: 12.3ms\tremaining: 1.42s\n",
      "25:\tlearn: 0.6889593\ttest: 0.6822042\tbest: 0.6822042 (25)\ttotal: 208ms\tremaining: 720ms\n",
      "50:\tlearn: 0.6875679\ttest: 0.6807146\tbest: 0.6807146 (50)\ttotal: 417ms\tremaining: 532ms\n",
      "75:\tlearn: 0.6865087\ttest: 0.6797972\tbest: 0.6797972 (75)\ttotal: 618ms\tremaining: 325ms\n",
      "100:\tlearn: 0.6855112\ttest: 0.6791227\tbest: 0.6791227 (100)\ttotal: 815ms\tremaining: 121ms\n"
     ]
    },
    {
     "name": "stderr",
     "output_type": "stream",
     "text": [
      "2022-03-30 13:38:22 mean cv_value 0.0654662990304479 | std cv_value 0.009391231922209455 \n",
      "2022-03-30 13:38:22 ---------------------------------------------\n"
     ]
    },
    {
     "name": "stdout",
     "output_type": "stream",
     "text": [
      "115:\tlearn: 0.6849342\ttest: 0.6787986\tbest: 0.6787986 (115)\ttotal: 939ms\tremaining: 0us\n",
      "\n",
      "bestTest = 0.6787985633\n",
      "bestIteration = 115\n",
      "\n"
     ]
    },
    {
     "name": "stderr",
     "output_type": "stream",
     "text": [
      "2022-03-30 13:38:25 [TRAIN_MODEL] Training model\n",
      "2022-03-30 13:38:25 Set of params....., {'depth': 3, 'iterations': 199, 'learning_rate': 0.22861787941568304, 'colsample_bylevel': 0.611537822521173}\n"
     ]
    },
    {
     "name": "stdout",
     "output_type": "stream",
     "text": [
      "Iteration No: 134 ended. Search finished for the next optimal point.\n",
      "Time taken: 6.7089\n",
      "Function value obtained: -0.0655\n",
      "Current minimum: -0.0699\n",
      "Iteration No: 135 started. Searching for the next optimal point.\n",
      "0:\tlearn: 0.6922634\ttest: 0.6910227\tbest: 0.6910227 (0)\ttotal: 10.6ms\tremaining: 2.11s\n",
      "25:\tlearn: 0.6886567\ttest: 0.6815026\tbest: 0.6815026 (25)\ttotal: 249ms\tremaining: 1.66s\n",
      "50:\tlearn: 0.6875504\ttest: 0.6803575\tbest: 0.6803575 (50)\ttotal: 450ms\tremaining: 1.3s\n",
      "75:\tlearn: 0.6864703\ttest: 0.6796247\tbest: 0.6796247 (75)\ttotal: 639ms\tremaining: 1.03s\n",
      "100:\tlearn: 0.6853838\ttest: 0.6790085\tbest: 0.6790085 (100)\ttotal: 828ms\tremaining: 804ms\n",
      "125:\tlearn: 0.6844672\ttest: 0.6786710\tbest: 0.6786710 (125)\ttotal: 1.02s\tremaining: 591ms\n",
      "150:\tlearn: 0.6836330\ttest: 0.6782881\tbest: 0.6782881 (150)\ttotal: 1.22s\tremaining: 387ms\n",
      "175:\tlearn: 0.6827997\ttest: 0.6778186\tbest: 0.6778186 (175)\ttotal: 1.43s\tremaining: 187ms\n",
      "198:\tlearn: 0.6821002\ttest: 0.6775762\tbest: 0.6775762 (198)\ttotal: 1.61s\tremaining: 0us\n",
      "\n",
      "bestTest = 0.6775762316\n",
      "bestIteration = 198\n",
      "\n",
      "0:\tlearn: 0.6923561\ttest: 0.6910934\tbest: 0.6910934 (0)\ttotal: 18.8ms\tremaining: 3.72s\n",
      "25:\tlearn: 0.6887325\ttest: 0.6817554\tbest: 0.6817554 (25)\ttotal: 214ms\tremaining: 1.43s\n",
      "50:\tlearn: 0.6876326\ttest: 0.6807983\tbest: 0.6807983 (50)\ttotal: 414ms\tremaining: 1.2s\n",
      "75:\tlearn: 0.6865148\ttest: 0.6800858\tbest: 0.6800858 (75)\ttotal: 610ms\tremaining: 987ms\n",
      "100:\tlearn: 0.6854957\ttest: 0.6795894\tbest: 0.6795894 (100)\ttotal: 799ms\tremaining: 775ms\n",
      "125:\tlearn: 0.6845961\ttest: 0.6791100\tbest: 0.6791100 (125)\ttotal: 989ms\tremaining: 573ms\n",
      "150:\tlearn: 0.6837983\ttest: 0.6786101\tbest: 0.6786101 (150)\ttotal: 1.18s\tremaining: 376ms\n",
      "175:\tlearn: 0.6830441\ttest: 0.6783496\tbest: 0.6783496 (175)\ttotal: 1.37s\tremaining: 180ms\n",
      "198:\tlearn: 0.6823068\ttest: 0.6778029\tbest: 0.6778029 (198)\ttotal: 1.55s\tremaining: 0us\n",
      "\n",
      "bestTest = 0.6778028997\n",
      "bestIteration = 198\n",
      "\n",
      "0:\tlearn: 0.6923190\ttest: 0.6910621\tbest: 0.6910621 (0)\ttotal: 9.89ms\tremaining: 1.96s\n",
      "25:\tlearn: 0.6888580\ttest: 0.6815525\tbest: 0.6815525 (25)\ttotal: 246ms\tremaining: 1.64s\n",
      "50:\tlearn: 0.6878177\ttest: 0.6804933\tbest: 0.6804933 (50)\ttotal: 463ms\tremaining: 1.34s\n",
      "75:\tlearn: 0.6868916\ttest: 0.6798367\tbest: 0.6798367 (75)\ttotal: 704ms\tremaining: 1.14s\n",
      "100:\tlearn: 0.6859855\ttest: 0.6792092\tbest: 0.6792092 (100)\ttotal: 901ms\tremaining: 874ms\n",
      "125:\tlearn: 0.6849719\ttest: 0.6787087\tbest: 0.6787087 (125)\ttotal: 1.09s\tremaining: 633ms\n",
      "150:\tlearn: 0.6840731\ttest: 0.6783678\tbest: 0.6783678 (150)\ttotal: 1.28s\tremaining: 408ms\n",
      "175:\tlearn: 0.6832543\ttest: 0.6780419\tbest: 0.6780419 (175)\ttotal: 1.48s\tremaining: 193ms\n",
      "198:\tlearn: 0.6825221\ttest: 0.6776441\tbest: 0.6776441 (198)\ttotal: 1.66s\tremaining: 0us\n",
      "\n",
      "bestTest = 0.6776441041\n",
      "bestIteration = 198\n",
      "\n"
     ]
    },
    {
     "name": "stderr",
     "output_type": "stream",
     "text": [
      "2022-03-30 13:38:30 mean cv_value 0.06589218086311198 | std cv_value 0.015325123790292978 \n",
      "2022-03-30 13:38:30 ---------------------------------------------\n",
      "2022-03-30 13:38:34 [TRAIN_MODEL] Training model\n",
      "2022-03-30 13:38:34 Set of params....., {'depth': 3, 'iterations': 200, 'learning_rate': 0.1394227883600433, 'colsample_bylevel': 1.0}\n"
     ]
    },
    {
     "name": "stdout",
     "output_type": "stream",
     "text": [
      "Iteration No: 135 ended. Search finished for the next optimal point.\n",
      "Time taken: 9.0119\n",
      "Function value obtained: -0.0659\n",
      "Current minimum: -0.0699\n",
      "Iteration No: 136 started. Searching for the next optimal point.\n",
      "0:\tlearn: 0.6924196\ttest: 0.6914497\tbest: 0.6914497 (0)\ttotal: 9.26ms\tremaining: 1.84s\n",
      "25:\tlearn: 0.6891165\ttest: 0.6823768\tbest: 0.6823768 (25)\ttotal: 185ms\tremaining: 1.24s\n",
      "50:\tlearn: 0.6882058\ttest: 0.6809696\tbest: 0.6809696 (50)\ttotal: 356ms\tremaining: 1.04s\n",
      "75:\tlearn: 0.6875109\ttest: 0.6802596\tbest: 0.6802596 (75)\ttotal: 527ms\tremaining: 860ms\n",
      "100:\tlearn: 0.6867633\ttest: 0.6798600\tbest: 0.6798600 (100)\ttotal: 698ms\tremaining: 684ms\n",
      "125:\tlearn: 0.6860715\ttest: 0.6794069\tbest: 0.6794069 (125)\ttotal: 870ms\tremaining: 511ms\n",
      "150:\tlearn: 0.6853677\ttest: 0.6789153\tbest: 0.6789153 (150)\ttotal: 1.04s\tremaining: 338ms\n",
      "175:\tlearn: 0.6847820\ttest: 0.6786105\tbest: 0.6786105 (175)\ttotal: 1.21s\tremaining: 165ms\n",
      "199:\tlearn: 0.6842342\ttest: 0.6782861\tbest: 0.6782861 (199)\ttotal: 1.38s\tremaining: 0us\n",
      "\n",
      "bestTest = 0.6782860633\n",
      "bestIteration = 199\n",
      "\n",
      "0:\tlearn: 0.6924799\ttest: 0.6915955\tbest: 0.6915955 (0)\ttotal: 10.1ms\tremaining: 2.01s\n",
      "25:\tlearn: 0.6892905\ttest: 0.6825537\tbest: 0.6825537 (25)\ttotal: 182ms\tremaining: 1.22s\n",
      "50:\tlearn: 0.6884420\ttest: 0.6811843\tbest: 0.6811843 (50)\ttotal: 345ms\tremaining: 1.01s\n",
      "75:\tlearn: 0.6876802\ttest: 0.6806974\tbest: 0.6806974 (75)\ttotal: 516ms\tremaining: 842ms\n",
      "100:\tlearn: 0.6869645\ttest: 0.6801562\tbest: 0.6801562 (100)\ttotal: 694ms\tremaining: 681ms\n",
      "125:\tlearn: 0.6863374\ttest: 0.6798226\tbest: 0.6798226 (125)\ttotal: 861ms\tremaining: 506ms\n",
      "150:\tlearn: 0.6856917\ttest: 0.6793743\tbest: 0.6793743 (150)\ttotal: 1.03s\tremaining: 334ms\n",
      "175:\tlearn: 0.6851069\ttest: 0.6790703\tbest: 0.6790703 (175)\ttotal: 1.19s\tremaining: 163ms\n",
      "199:\tlearn: 0.6845525\ttest: 0.6788830\tbest: 0.6788830 (199)\ttotal: 1.36s\tremaining: 0us\n",
      "\n",
      "bestTest = 0.6788829637\n",
      "bestIteration = 199\n",
      "\n",
      "0:\tlearn: 0.6925065\ttest: 0.6915309\tbest: 0.6915309 (0)\ttotal: 9.55ms\tremaining: 1.9s\n",
      "25:\tlearn: 0.6893850\ttest: 0.6825194\tbest: 0.6825194 (25)\ttotal: 182ms\tremaining: 1.22s\n",
      "50:\tlearn: 0.6884944\ttest: 0.6813906\tbest: 0.6813906 (50)\ttotal: 346ms\tremaining: 1.01s\n",
      "75:\tlearn: 0.6877818\ttest: 0.6806433\tbest: 0.6806433 (75)\ttotal: 514ms\tremaining: 839ms\n",
      "100:\tlearn: 0.6871271\ttest: 0.6801683\tbest: 0.6801683 (100)\ttotal: 686ms\tremaining: 673ms\n",
      "125:\tlearn: 0.6865038\ttest: 0.6797793\tbest: 0.6797793 (125)\ttotal: 855ms\tremaining: 502ms\n",
      "150:\tlearn: 0.6859073\ttest: 0.6793762\tbest: 0.6793762 (150)\ttotal: 1.02s\tremaining: 333ms\n",
      "175:\tlearn: 0.6853084\ttest: 0.6789216\tbest: 0.6789216 (175)\ttotal: 1.2s\tremaining: 164ms\n"
     ]
    },
    {
     "name": "stderr",
     "output_type": "stream",
     "text": [
      "2022-03-30 13:38:39 mean cv_value 0.06390253061857563 | std cv_value 0.007145562769976276 \n",
      "2022-03-30 13:38:39 ---------------------------------------------\n"
     ]
    },
    {
     "name": "stdout",
     "output_type": "stream",
     "text": [
      "199:\tlearn: 0.6847422\ttest: 0.6787483\tbest: 0.6787483 (199)\ttotal: 1.36s\tremaining: 0us\n",
      "\n",
      "bestTest = 0.6787483396\n",
      "bestIteration = 199\n",
      "\n"
     ]
    },
    {
     "name": "stderr",
     "output_type": "stream",
     "text": [
      "2022-03-30 13:38:42 [TRAIN_MODEL] Training model\n",
      "2022-03-30 13:38:42 Set of params....., {'depth': 3, 'iterations': 98, 'learning_rate': 0.016355545787402948, 'colsample_bylevel': 0.5847434795607704}\n"
     ]
    },
    {
     "name": "stdout",
     "output_type": "stream",
     "text": [
      "Iteration No: 136 ended. Search finished for the next optimal point.\n",
      "Time taken: 8.0072\n",
      "Function value obtained: -0.0639\n",
      "Current minimum: -0.0699\n",
      "Iteration No: 137 started. Searching for the next optimal point.\n",
      "0:\tlearn: 0.6930659\ttest: 0.6929494\tbest: 0.6929494 (0)\ttotal: 9.52ms\tremaining: 923ms\n",
      "25:\tlearn: 0.6915455\ttest: 0.6892309\tbest: 0.6892309 (25)\ttotal: 199ms\tremaining: 551ms\n",
      "50:\tlearn: 0.6907660\ttest: 0.6870282\tbest: 0.6870282 (50)\ttotal: 388ms\tremaining: 358ms\n",
      "75:\tlearn: 0.6903079\ttest: 0.6855899\tbest: 0.6855899 (75)\ttotal: 570ms\tremaining: 165ms\n",
      "97:\tlearn: 0.6900269\ttest: 0.6846730\tbest: 0.6846730 (97)\ttotal: 731ms\tremaining: 0us\n",
      "\n",
      "bestTest = 0.6846730115\n",
      "bestIteration = 97\n",
      "\n",
      "0:\tlearn: 0.6930711\ttest: 0.6929592\tbest: 0.6929592 (0)\ttotal: 9.46ms\tremaining: 917ms\n",
      "25:\tlearn: 0.6916865\ttest: 0.6895044\tbest: 0.6895044 (25)\ttotal: 198ms\tremaining: 548ms\n",
      "50:\tlearn: 0.6909300\ttest: 0.6873080\tbest: 0.6873080 (50)\ttotal: 384ms\tremaining: 353ms\n",
      "75:\tlearn: 0.6904829\ttest: 0.6858748\tbest: 0.6858748 (75)\ttotal: 561ms\tremaining: 162ms\n",
      "97:\tlearn: 0.6902115\ttest: 0.6849816\tbest: 0.6849816 (97)\ttotal: 722ms\tremaining: 0us\n",
      "\n",
      "bestTest = 0.6849815635\n",
      "bestIteration = 97\n",
      "\n",
      "0:\tlearn: 0.6930692\ttest: 0.6929682\tbest: 0.6929682 (0)\ttotal: 12.4ms\tremaining: 1.2s\n",
      "25:\tlearn: 0.6917465\ttest: 0.6896286\tbest: 0.6896286 (25)\ttotal: 211ms\tremaining: 583ms\n",
      "50:\tlearn: 0.6910224\ttest: 0.6874525\tbest: 0.6874525 (50)\ttotal: 401ms\tremaining: 369ms\n",
      "75:\tlearn: 0.6905786\ttest: 0.6860609\tbest: 0.6860609 (75)\ttotal: 590ms\tremaining: 171ms\n"
     ]
    },
    {
     "name": "stderr",
     "output_type": "stream",
     "text": [
      "2022-03-30 13:38:45 mean cv_value 0.05682061076074526 | std cv_value 0.009467523839429831 \n",
      "2022-03-30 13:38:45 ---------------------------------------------\n"
     ]
    },
    {
     "name": "stdout",
     "output_type": "stream",
     "text": [
      "97:\tlearn: 0.6903010\ttest: 0.6851968\tbest: 0.6851968 (97)\ttotal: 755ms\tremaining: 0us\n",
      "\n",
      "bestTest = 0.6851968152\n",
      "bestIteration = 97\n",
      "\n"
     ]
    },
    {
     "name": "stderr",
     "output_type": "stream",
     "text": [
      "2022-03-30 13:38:48 [TRAIN_MODEL] Training model\n",
      "2022-03-30 13:38:48 Set of params....., {'depth': 3, 'iterations': 151, 'learning_rate': 0.18172921392744218, 'colsample_bylevel': 1.0}\n"
     ]
    },
    {
     "name": "stdout",
     "output_type": "stream",
     "text": [
      "Iteration No: 137 ended. Search finished for the next optimal point.\n",
      "Time taken: 6.1709\n",
      "Function value obtained: -0.0568\n",
      "Current minimum: -0.0699\n",
      "Iteration No: 138 started. Searching for the next optimal point.\n",
      "0:\tlearn: 0.6922251\ttest: 0.6909571\tbest: 0.6909571 (0)\ttotal: 13.7ms\tremaining: 2.06s\n",
      "25:\tlearn: 0.6888386\ttest: 0.6819631\tbest: 0.6819631 (25)\ttotal: 190ms\tremaining: 913ms\n",
      "50:\tlearn: 0.6878553\ttest: 0.6806396\tbest: 0.6806396 (50)\ttotal: 366ms\tremaining: 717ms\n",
      "75:\tlearn: 0.6869036\ttest: 0.6798964\tbest: 0.6798964 (75)\ttotal: 545ms\tremaining: 537ms\n",
      "100:\tlearn: 0.6860048\ttest: 0.6793678\tbest: 0.6793678 (100)\ttotal: 715ms\tremaining: 354ms\n",
      "125:\tlearn: 0.6851512\ttest: 0.6788602\tbest: 0.6788602 (125)\ttotal: 888ms\tremaining: 176ms\n",
      "150:\tlearn: 0.6844340\ttest: 0.6785533\tbest: 0.6785533 (150)\ttotal: 1.05s\tremaining: 0us\n",
      "\n",
      "bestTest = 0.6785533347\n",
      "bestIteration = 150\n",
      "\n",
      "0:\tlearn: 0.6923084\ttest: 0.6911450\tbest: 0.6911450 (0)\ttotal: 9.82ms\tremaining: 1.47s\n",
      "25:\tlearn: 0.6889900\ttest: 0.6820192\tbest: 0.6820192 (25)\ttotal: 184ms\tremaining: 887ms\n",
      "50:\tlearn: 0.6879768\ttest: 0.6807545\tbest: 0.6807545 (50)\ttotal: 358ms\tremaining: 701ms\n",
      "75:\tlearn: 0.6870639\ttest: 0.6802347\tbest: 0.6802347 (75)\ttotal: 528ms\tremaining: 521ms\n",
      "100:\tlearn: 0.6861341\ttest: 0.6797757\tbest: 0.6797757 (100)\ttotal: 709ms\tremaining: 351ms\n",
      "125:\tlearn: 0.6853966\ttest: 0.6794674\tbest: 0.6794674 (125)\ttotal: 884ms\tremaining: 175ms\n",
      "150:\tlearn: 0.6846019\ttest: 0.6789918\tbest: 0.6789918 (150)\ttotal: 1.06s\tremaining: 0us\n",
      "\n",
      "bestTest = 0.6789917856\n",
      "bestIteration = 150\n",
      "\n",
      "0:\tlearn: 0.6923336\ttest: 0.6910605\tbest: 0.6910605 (0)\ttotal: 10.1ms\tremaining: 1.52s\n",
      "25:\tlearn: 0.6890119\ttest: 0.6820189\tbest: 0.6820189 (25)\ttotal: 186ms\tremaining: 894ms\n",
      "50:\tlearn: 0.6881036\ttest: 0.6808516\tbest: 0.6808516 (50)\ttotal: 358ms\tremaining: 701ms\n",
      "75:\tlearn: 0.6872291\ttest: 0.6801981\tbest: 0.6801981 (75)\ttotal: 530ms\tremaining: 523ms\n",
      "100:\tlearn: 0.6863758\ttest: 0.6796439\tbest: 0.6796439 (100)\ttotal: 703ms\tremaining: 348ms\n",
      "125:\tlearn: 0.6856082\ttest: 0.6794632\tbest: 0.6794632 (125)\ttotal: 888ms\tremaining: 176ms\n"
     ]
    },
    {
     "name": "stderr",
     "output_type": "stream",
     "text": [
      "2022-03-30 13:38:52 mean cv_value 0.061156559651763115 | std cv_value 0.00938023101131937 \n",
      "2022-03-30 13:38:52 ---------------------------------------------\n"
     ]
    },
    {
     "name": "stdout",
     "output_type": "stream",
     "text": [
      "150:\tlearn: 0.6848406\ttest: 0.6789749\tbest: 0.6789749 (150)\ttotal: 1.06s\tremaining: 0us\n",
      "\n",
      "bestTest = 0.6789749392\n",
      "bestIteration = 150\n",
      "\n"
     ]
    },
    {
     "name": "stderr",
     "output_type": "stream",
     "text": [
      "2022-03-30 13:38:55 [TRAIN_MODEL] Training model\n",
      "2022-03-30 13:38:55 Set of params....., {'depth': 4, 'iterations': 200, 'learning_rate': 0.1188527570429841, 'colsample_bylevel': 1.0}\n"
     ]
    },
    {
     "name": "stdout",
     "output_type": "stream",
     "text": [
      "Iteration No: 138 ended. Search finished for the next optimal point.\n",
      "Time taken: 7.2592\n",
      "Function value obtained: -0.0612\n",
      "Current minimum: -0.0699\n",
      "Iteration No: 139 started. Searching for the next optimal point.\n",
      "0:\tlearn: 0.6924644\ttest: 0.6916270\tbest: 0.6916270 (0)\ttotal: 10ms\tremaining: 1.99s\n",
      "25:\tlearn: 0.6886120\ttest: 0.6819088\tbest: 0.6819088 (25)\ttotal: 211ms\tremaining: 1.41s\n",
      "50:\tlearn: 0.6872834\ttest: 0.6803659\tbest: 0.6803659 (50)\ttotal: 415ms\tremaining: 1.21s\n",
      "75:\tlearn: 0.6861326\ttest: 0.6794442\tbest: 0.6794442 (75)\ttotal: 615ms\tremaining: 1s\n",
      "100:\tlearn: 0.6851101\ttest: 0.6786998\tbest: 0.6786998 (100)\ttotal: 812ms\tremaining: 796ms\n",
      "125:\tlearn: 0.6840316\ttest: 0.6781139\tbest: 0.6781139 (125)\ttotal: 1.02s\tremaining: 599ms\n",
      "150:\tlearn: 0.6830991\ttest: 0.6775900\tbest: 0.6775900 (150)\ttotal: 1.23s\tremaining: 398ms\n",
      "175:\tlearn: 0.6819917\ttest: 0.6769475\tbest: 0.6769475 (175)\ttotal: 1.43s\tremaining: 195ms\n",
      "199:\tlearn: 0.6810591\ttest: 0.6764871\tbest: 0.6764871 (199)\ttotal: 1.63s\tremaining: 0us\n",
      "\n",
      "bestTest = 0.6764870814\n",
      "bestIteration = 199\n",
      "\n",
      "0:\tlearn: 0.6924909\ttest: 0.6917090\tbest: 0.6917090 (0)\ttotal: 11.3ms\tremaining: 2.25s\n",
      "25:\tlearn: 0.6887666\ttest: 0.6820803\tbest: 0.6820803 (25)\ttotal: 216ms\tremaining: 1.45s\n",
      "50:\tlearn: 0.6873664\ttest: 0.6805766\tbest: 0.6805766 (50)\ttotal: 423ms\tremaining: 1.24s\n",
      "75:\tlearn: 0.6862411\ttest: 0.6798153\tbest: 0.6798153 (75)\ttotal: 627ms\tremaining: 1.02s\n",
      "100:\tlearn: 0.6851889\ttest: 0.6792904\tbest: 0.6792904 (100)\ttotal: 837ms\tremaining: 820ms\n",
      "125:\tlearn: 0.6841817\ttest: 0.6787032\tbest: 0.6787032 (125)\ttotal: 1.04s\tremaining: 611ms\n",
      "150:\tlearn: 0.6832374\ttest: 0.6782519\tbest: 0.6782519 (150)\ttotal: 1.24s\tremaining: 402ms\n",
      "175:\tlearn: 0.6822568\ttest: 0.6777424\tbest: 0.6777424 (175)\ttotal: 1.45s\tremaining: 197ms\n",
      "199:\tlearn: 0.6813664\ttest: 0.6772541\tbest: 0.6772541 (199)\ttotal: 1.64s\tremaining: 0us\n",
      "\n",
      "bestTest = 0.67725406\n",
      "bestIteration = 199\n",
      "\n",
      "0:\tlearn: 0.6925258\ttest: 0.6916517\tbest: 0.6916517 (0)\ttotal: 16.8ms\tremaining: 3.33s\n",
      "25:\tlearn: 0.6888359\ttest: 0.6822259\tbest: 0.6822259 (25)\ttotal: 215ms\tremaining: 1.44s\n",
      "50:\tlearn: 0.6874968\ttest: 0.6808588\tbest: 0.6808588 (50)\ttotal: 421ms\tremaining: 1.23s\n",
      "75:\tlearn: 0.6864081\ttest: 0.6799405\tbest: 0.6799405 (75)\ttotal: 630ms\tremaining: 1.03s\n",
      "100:\tlearn: 0.6853823\ttest: 0.6791355\tbest: 0.6791355 (100)\ttotal: 834ms\tremaining: 818ms\n",
      "125:\tlearn: 0.6843644\ttest: 0.6784803\tbest: 0.6784803 (125)\ttotal: 1.04s\tremaining: 610ms\n",
      "150:\tlearn: 0.6833445\ttest: 0.6779363\tbest: 0.6779363 (150)\ttotal: 1.25s\tremaining: 404ms\n",
      "175:\tlearn: 0.6823915\ttest: 0.6773111\tbest: 0.6773111 (175)\ttotal: 1.45s\tremaining: 198ms\n",
      "199:\tlearn: 0.6815770\ttest: 0.6769519\tbest: 0.6769519 (199)\ttotal: 1.65s\tremaining: 0us\n",
      "\n",
      "bestTest = 0.6769518707\n",
      "bestIteration = 199\n",
      "\n"
     ]
    },
    {
     "name": "stderr",
     "output_type": "stream",
     "text": [
      "2022-03-30 13:39:01 mean cv_value 0.06284054065787943 | std cv_value 0.007958850345447657 \n",
      "2022-03-30 13:39:01 ---------------------------------------------\n",
      "2022-03-30 13:39:04 [TRAIN_MODEL] Training model\n",
      "2022-03-30 13:39:04 Set of params....., {'depth': 13, 'iterations': 105, 'learning_rate': 0.008531792138273795, 'colsample_bylevel': 0.9152919046916466}\n"
     ]
    },
    {
     "name": "stdout",
     "output_type": "stream",
     "text": [
      "Iteration No: 139 ended. Search finished for the next optimal point.\n",
      "Time taken: 9.1396\n",
      "Function value obtained: -0.0628\n",
      "Current minimum: -0.0699\n",
      "Iteration No: 140 started. Searching for the next optimal point.\n",
      "0:\tlearn: 0.6926467\ttest: 0.6928085\tbest: 0.6928085 (0)\ttotal: 348ms\tremaining: 36.2s\n",
      "25:\tlearn: 0.6813052\ttest: 0.6847900\tbest: 0.6847900 (25)\ttotal: 8.03s\tremaining: 24.4s\n",
      "50:\tlearn: 0.6715881\ttest: 0.6778931\tbest: 0.6778931 (50)\ttotal: 15.6s\tremaining: 16.5s\n",
      "75:\tlearn: 0.6634138\ttest: 0.6721285\tbest: 0.6721285 (75)\ttotal: 23.1s\tremaining: 8.81s\n",
      "100:\tlearn: 0.6560612\ttest: 0.6671066\tbest: 0.6671066 (100)\ttotal: 30.6s\tremaining: 1.21s\n",
      "104:\tlearn: 0.6547328\ttest: 0.6662519\tbest: 0.6662519 (104)\ttotal: 31.8s\tremaining: 0us\n",
      "\n",
      "bestTest = 0.6662518886\n",
      "bestIteration = 104\n",
      "\n",
      "0:\tlearn: 0.6927286\ttest: 0.6928338\tbest: 0.6928338 (0)\ttotal: 303ms\tremaining: 31.5s\n",
      "25:\tlearn: 0.6805397\ttest: 0.6844700\tbest: 0.6844700 (25)\ttotal: 7.81s\tremaining: 23.7s\n",
      "50:\tlearn: 0.6708905\ttest: 0.6776642\tbest: 0.6776642 (50)\ttotal: 15.3s\tremaining: 16.2s\n",
      "75:\tlearn: 0.6623949\ttest: 0.6718030\tbest: 0.6718030 (75)\ttotal: 22.7s\tremaining: 8.67s\n",
      "100:\tlearn: 0.6544748\ttest: 0.6665135\tbest: 0.6665135 (100)\ttotal: 30.2s\tremaining: 1.2s\n",
      "104:\tlearn: 0.6532138\ttest: 0.6656767\tbest: 0.6656767 (104)\ttotal: 31.4s\tremaining: 0us\n",
      "\n",
      "bestTest = 0.6656767431\n",
      "bestIteration = 104\n",
      "\n",
      "0:\tlearn: 0.6926421\ttest: 0.6927993\tbest: 0.6927993 (0)\ttotal: 307ms\tremaining: 31.9s\n",
      "25:\tlearn: 0.6804567\ttest: 0.6841512\tbest: 0.6841512 (25)\ttotal: 7.92s\tremaining: 24.1s\n",
      "50:\tlearn: 0.6701412\ttest: 0.6771189\tbest: 0.6771189 (50)\ttotal: 15.5s\tremaining: 16.5s\n",
      "75:\tlearn: 0.6611459\ttest: 0.6709369\tbest: 0.6709369 (75)\ttotal: 23.1s\tremaining: 8.81s\n",
      "100:\tlearn: 0.6529551\ttest: 0.6655466\tbest: 0.6655466 (100)\ttotal: 30.6s\tremaining: 1.21s\n"
     ]
    },
    {
     "name": "stderr",
     "output_type": "stream",
     "text": [
      "2022-03-30 13:40:40 mean cv_value 0.05085137873770986 | std cv_value 0.008120769197948824 \n",
      "2022-03-30 13:40:40 ---------------------------------------------\n"
     ]
    },
    {
     "name": "stdout",
     "output_type": "stream",
     "text": [
      "104:\tlearn: 0.6517692\ttest: 0.6647176\tbest: 0.6647176 (104)\ttotal: 31.9s\tremaining: 0us\n",
      "\n",
      "bestTest = 0.664717628\n",
      "bestIteration = 104\n",
      "\n"
     ]
    },
    {
     "name": "stderr",
     "output_type": "stream",
     "text": [
      "2022-03-30 13:40:44 [TRAIN_MODEL] Training model\n",
      "2022-03-30 13:40:44 Set of params....., {'depth': 6, 'iterations': 200, 'learning_rate': 0.001088945540160788, 'colsample_bylevel': 0.5679647101383788}\n"
     ]
    },
    {
     "name": "stdout",
     "output_type": "stream",
     "text": [
      "Iteration No: 140 ended. Search finished for the next optimal point.\n",
      "Time taken: 99.3651\n",
      "Function value obtained: -0.0509\n",
      "Current minimum: -0.0699\n",
      "Iteration No: 141 started. Searching for the next optimal point.\n",
      "0:\tlearn: 0.6931414\ttest: 0.6931311\tbest: 0.6931311 (0)\ttotal: 14.8ms\tremaining: 2.94s\n",
      "25:\tlearn: 0.6929514\ttest: 0.6927453\tbest: 0.6927453 (25)\ttotal: 354ms\tremaining: 2.37s\n",
      "50:\tlearn: 0.6927661\ttest: 0.6923710\tbest: 0.6923710 (50)\ttotal: 681ms\tremaining: 1.99s\n",
      "75:\tlearn: 0.6925896\ttest: 0.6920096\tbest: 0.6920096 (75)\ttotal: 1.01s\tremaining: 1.65s\n",
      "100:\tlearn: 0.6924206\ttest: 0.6916596\tbest: 0.6916596 (100)\ttotal: 1.34s\tremaining: 1.32s\n",
      "125:\tlearn: 0.6922589\ttest: 0.6913235\tbest: 0.6913235 (125)\ttotal: 1.67s\tremaining: 983ms\n",
      "150:\tlearn: 0.6921034\ttest: 0.6909986\tbest: 0.6909986 (150)\ttotal: 2s\tremaining: 650ms\n",
      "175:\tlearn: 0.6919554\ttest: 0.6906804\tbest: 0.6906804 (175)\ttotal: 2.32s\tremaining: 317ms\n",
      "199:\tlearn: 0.6918181\ttest: 0.6903850\tbest: 0.6903850 (199)\ttotal: 2.64s\tremaining: 0us\n",
      "\n",
      "bestTest = 0.6903850115\n",
      "bestIteration = 199\n",
      "\n",
      "0:\tlearn: 0.6931441\ttest: 0.6931320\tbest: 0.6931320 (0)\ttotal: 16ms\tremaining: 3.18s\n",
      "25:\tlearn: 0.6929527\ttest: 0.6927515\tbest: 0.6927515 (25)\ttotal: 341ms\tremaining: 2.28s\n",
      "50:\tlearn: 0.6927755\ttest: 0.6923848\tbest: 0.6923848 (50)\ttotal: 661ms\tremaining: 1.93s\n",
      "75:\tlearn: 0.6926056\ttest: 0.6920331\tbest: 0.6920331 (75)\ttotal: 977ms\tremaining: 1.59s\n",
      "100:\tlearn: 0.6924437\ttest: 0.6916940\tbest: 0.6916940 (100)\ttotal: 1.3s\tremaining: 1.27s\n",
      "125:\tlearn: 0.6922879\ttest: 0.6913674\tbest: 0.6913674 (125)\ttotal: 1.62s\tremaining: 950ms\n",
      "150:\tlearn: 0.6921401\ttest: 0.6910499\tbest: 0.6910499 (150)\ttotal: 1.93s\tremaining: 627ms\n",
      "175:\tlearn: 0.6919966\ttest: 0.6907449\tbest: 0.6907449 (175)\ttotal: 2.25s\tremaining: 307ms\n",
      "199:\tlearn: 0.6918661\ttest: 0.6904667\tbest: 0.6904667 (199)\ttotal: 2.56s\tremaining: 0us\n",
      "\n",
      "bestTest = 0.6904666682\n",
      "bestIteration = 199\n",
      "\n",
      "0:\tlearn: 0.6931370\ttest: 0.6931316\tbest: 0.6931316 (0)\ttotal: 14.1ms\tremaining: 2.81s\n",
      "25:\tlearn: 0.6929588\ttest: 0.6927607\tbest: 0.6927607 (25)\ttotal: 340ms\tremaining: 2.27s\n",
      "50:\tlearn: 0.6927893\ttest: 0.6924030\tbest: 0.6924030 (50)\ttotal: 660ms\tremaining: 1.93s\n",
      "75:\tlearn: 0.6926264\ttest: 0.6920575\tbest: 0.6920575 (75)\ttotal: 982ms\tremaining: 1.6s\n",
      "100:\tlearn: 0.6924708\ttest: 0.6917208\tbest: 0.6917208 (100)\ttotal: 1.29s\tremaining: 1.27s\n",
      "125:\tlearn: 0.6923216\ttest: 0.6913976\tbest: 0.6913976 (125)\ttotal: 1.61s\tremaining: 945ms\n",
      "150:\tlearn: 0.6921748\ttest: 0.6910862\tbest: 0.6910862 (150)\ttotal: 1.93s\tremaining: 627ms\n",
      "175:\tlearn: 0.6920396\ttest: 0.6907876\tbest: 0.6907876 (175)\ttotal: 2.25s\tremaining: 307ms\n"
     ]
    },
    {
     "name": "stderr",
     "output_type": "stream",
     "text": [
      "2022-03-30 13:40:52 mean cv_value 0.056173052121942346 | std cv_value 0.006573990928045792 \n",
      "2022-03-30 13:40:52 ---------------------------------------------\n"
     ]
    },
    {
     "name": "stdout",
     "output_type": "stream",
     "text": [
      "199:\tlearn: 0.6919142\ttest: 0.6905138\tbest: 0.6905138 (199)\ttotal: 2.56s\tremaining: 0us\n",
      "\n",
      "bestTest = 0.6905138335\n",
      "bestIteration = 199\n",
      "\n"
     ]
    },
    {
     "name": "stderr",
     "output_type": "stream",
     "text": [
      "2022-03-30 13:40:56 [TRAIN_MODEL] Training model\n",
      "2022-03-30 13:40:56 Set of params....., {'depth': 3, 'iterations': 200, 'learning_rate': 0.12057809145423933, 'colsample_bylevel': 0.5}\n"
     ]
    },
    {
     "name": "stdout",
     "output_type": "stream",
     "text": [
      "Iteration No: 141 ended. Search finished for the next optimal point.\n",
      "Time taken: 11.9080\n",
      "Function value obtained: -0.0562\n",
      "Current minimum: -0.0699\n",
      "Iteration No: 142 started. Searching for the next optimal point.\n",
      "0:\tlearn: 0.6925856\ttest: 0.6918664\tbest: 0.6918664 (0)\ttotal: 17.3ms\tremaining: 3.45s\n",
      "25:\tlearn: 0.6893503\ttest: 0.6826347\tbest: 0.6826347 (25)\ttotal: 207ms\tremaining: 1.38s\n",
      "50:\tlearn: 0.6885525\ttest: 0.6815326\tbest: 0.6815326 (50)\ttotal: 395ms\tremaining: 1.15s\n",
      "75:\tlearn: 0.6879121\ttest: 0.6808470\tbest: 0.6808470 (75)\ttotal: 592ms\tremaining: 965ms\n",
      "100:\tlearn: 0.6873137\ttest: 0.6802973\tbest: 0.6802973 (100)\ttotal: 777ms\tremaining: 762ms\n",
      "125:\tlearn: 0.6867582\ttest: 0.6798782\tbest: 0.6798782 (125)\ttotal: 970ms\tremaining: 570ms\n",
      "150:\tlearn: 0.6862520\ttest: 0.6795586\tbest: 0.6795586 (150)\ttotal: 1.16s\tremaining: 376ms\n",
      "175:\tlearn: 0.6857173\ttest: 0.6792091\tbest: 0.6792091 (175)\ttotal: 1.35s\tremaining: 184ms\n",
      "199:\tlearn: 0.6853169\ttest: 0.6790144\tbest: 0.6790144 (199)\ttotal: 1.53s\tremaining: 0us\n",
      "\n",
      "bestTest = 0.6790144464\n",
      "bestIteration = 199\n",
      "\n",
      "0:\tlearn: 0.6926296\ttest: 0.6919537\tbest: 0.6919537 (0)\ttotal: 9.52ms\tremaining: 1.89s\n",
      "25:\tlearn: 0.6895312\ttest: 0.6828530\tbest: 0.6828530 (25)\ttotal: 195ms\tremaining: 1.3s\n",
      "50:\tlearn: 0.6887340\ttest: 0.6815308\tbest: 0.6815308 (50)\ttotal: 384ms\tremaining: 1.12s\n",
      "75:\tlearn: 0.6881367\ttest: 0.6807568\tbest: 0.6807568 (75)\ttotal: 576ms\tremaining: 940ms\n",
      "100:\tlearn: 0.6875306\ttest: 0.6803635\tbest: 0.6803635 (100)\ttotal: 766ms\tremaining: 751ms\n",
      "125:\tlearn: 0.6869690\ttest: 0.6800364\tbest: 0.6800364 (125)\ttotal: 959ms\tremaining: 563ms\n",
      "150:\tlearn: 0.6864050\ttest: 0.6797389\tbest: 0.6797389 (150)\ttotal: 1.15s\tremaining: 375ms\n",
      "175:\tlearn: 0.6858472\ttest: 0.6794657\tbest: 0.6794657 (175)\ttotal: 1.35s\tremaining: 184ms\n",
      "199:\tlearn: 0.6853953\ttest: 0.6792008\tbest: 0.6792008 (199)\ttotal: 1.53s\tremaining: 0us\n",
      "\n",
      "bestTest = 0.6792008185\n",
      "bestIteration = 199\n",
      "\n",
      "0:\tlearn: 0.6926912\ttest: 0.6921048\tbest: 0.6921048 (0)\ttotal: 9.87ms\tremaining: 1.96s\n",
      "25:\tlearn: 0.6895734\ttest: 0.6831783\tbest: 0.6831783 (25)\ttotal: 199ms\tremaining: 1.33s\n",
      "50:\tlearn: 0.6888532\ttest: 0.6817230\tbest: 0.6817230 (50)\ttotal: 385ms\tremaining: 1.12s\n",
      "75:\tlearn: 0.6882750\ttest: 0.6810410\tbest: 0.6810410 (75)\ttotal: 578ms\tremaining: 942ms\n",
      "100:\tlearn: 0.6877532\ttest: 0.6805516\tbest: 0.6805516 (100)\ttotal: 773ms\tremaining: 758ms\n",
      "125:\tlearn: 0.6872036\ttest: 0.6801343\tbest: 0.6801343 (125)\ttotal: 963ms\tremaining: 566ms\n",
      "150:\tlearn: 0.6866949\ttest: 0.6798086\tbest: 0.6798086 (150)\ttotal: 1.15s\tremaining: 374ms\n",
      "175:\tlearn: 0.6862397\ttest: 0.6795756\tbest: 0.6795756 (175)\ttotal: 1.34s\tremaining: 182ms\n"
     ]
    },
    {
     "name": "stderr",
     "output_type": "stream",
     "text": [
      "2022-03-30 13:41:01 mean cv_value 0.055405278145405495 | std cv_value 0.006634790827190028 \n",
      "2022-03-30 13:41:01 ---------------------------------------------\n"
     ]
    },
    {
     "name": "stdout",
     "output_type": "stream",
     "text": [
      "199:\tlearn: 0.6857779\ttest: 0.6792059\tbest: 0.6792059 (199)\ttotal: 1.53s\tremaining: 0us\n",
      "\n",
      "bestTest = 0.6792058735\n",
      "bestIteration = 199\n",
      "\n"
     ]
    },
    {
     "name": "stderr",
     "output_type": "stream",
     "text": [
      "2022-03-30 13:41:04 [TRAIN_MODEL] Training model\n",
      "2022-03-30 13:41:04 Set of params....., {'depth': 10, 'iterations': 200, 'learning_rate': 0.9681516829301815, 'colsample_bylevel': 0.8926880771247238}\n"
     ]
    },
    {
     "name": "stdout",
     "output_type": "stream",
     "text": [
      "Iteration No: 142 ended. Search finished for the next optimal point.\n",
      "Time taken: 8.7422\n",
      "Function value obtained: -0.0554\n",
      "Current minimum: -0.0699\n",
      "Iteration No: 143 started. Searching for the next optimal point.\n",
      "0:\tlearn: 0.6840683\ttest: 0.6830348\tbest: 0.6830348 (0)\ttotal: 43ms\tremaining: 8.56s\n",
      "25:\tlearn: 0.5993778\ttest: 0.6777277\tbest: 0.6777277 (25)\ttotal: 1.04s\tremaining: 6.98s\n",
      "50:\tlearn: 0.5366561\ttest: 0.6764359\tbest: 0.6764359 (50)\ttotal: 2.01s\tremaining: 5.88s\n",
      "75:\tlearn: 0.4827978\ttest: 0.6740942\tbest: 0.6740942 (75)\ttotal: 2.99s\tremaining: 4.88s\n",
      "100:\tlearn: 0.4372518\ttest: 0.6787739\tbest: 0.6740942 (75)\ttotal: 3.97s\tremaining: 3.89s\n",
      "125:\tlearn: 0.3982188\ttest: 0.6848566\tbest: 0.6740942 (75)\ttotal: 4.95s\tremaining: 2.91s\n",
      "150:\tlearn: 0.3665586\ttest: 0.6868339\tbest: 0.6740942 (75)\ttotal: 5.92s\tremaining: 1.92s\n",
      "175:\tlearn: 0.3394803\ttest: 0.6936374\tbest: 0.6740942 (75)\ttotal: 6.87s\tremaining: 937ms\n",
      "199:\tlearn: 0.3153238\ttest: 0.7033572\tbest: 0.6740942 (75)\ttotal: 7.81s\tremaining: 0us\n",
      "\n",
      "bestTest = 0.6740941581\n",
      "bestIteration = 75\n",
      "\n",
      "Shrink model to first 76 iterations.\n",
      "0:\tlearn: 0.6843095\ttest: 0.6838300\tbest: 0.6838300 (0)\ttotal: 43.6ms\tremaining: 8.68s\n",
      "25:\tlearn: 0.6005872\ttest: 0.6803437\tbest: 0.6803437 (25)\ttotal: 1.03s\tremaining: 6.87s\n",
      "50:\tlearn: 0.5382117\ttest: 0.6795069\tbest: 0.6795069 (50)\ttotal: 1.99s\tremaining: 5.81s\n",
      "75:\tlearn: 0.4861745\ttest: 0.6822209\tbest: 0.6795069 (50)\ttotal: 2.97s\tremaining: 4.85s\n",
      "100:\tlearn: 0.4421075\ttest: 0.6832707\tbest: 0.6795069 (50)\ttotal: 3.94s\tremaining: 3.86s\n",
      "125:\tlearn: 0.4063066\ttest: 0.6891508\tbest: 0.6795069 (50)\ttotal: 4.91s\tremaining: 2.88s\n",
      "150:\tlearn: 0.3714429\ttest: 0.6981489\tbest: 0.6795069 (50)\ttotal: 5.89s\tremaining: 1.91s\n",
      "175:\tlearn: 0.3433851\ttest: 0.7061621\tbest: 0.6795069 (50)\ttotal: 6.85s\tremaining: 934ms\n",
      "199:\tlearn: 0.3176048\ttest: 0.7103201\tbest: 0.6795069 (50)\ttotal: 7.78s\tremaining: 0us\n",
      "\n",
      "bestTest = 0.6795069247\n",
      "bestIteration = 50\n",
      "\n",
      "Shrink model to first 51 iterations.\n",
      "0:\tlearn: 0.6838374\ttest: 0.6822901\tbest: 0.6822901 (0)\ttotal: 43.2ms\tremaining: 8.59s\n",
      "25:\tlearn: 0.6037962\ttest: 0.6799228\tbest: 0.6799228 (25)\ttotal: 1.01s\tremaining: 6.77s\n",
      "50:\tlearn: 0.5462697\ttest: 0.6776974\tbest: 0.6776974 (50)\ttotal: 1.97s\tremaining: 5.75s\n",
      "75:\tlearn: 0.4939614\ttest: 0.6821290\tbest: 0.6776974 (50)\ttotal: 2.93s\tremaining: 4.77s\n",
      "100:\tlearn: 0.4490745\ttest: 0.6844696\tbest: 0.6776974 (50)\ttotal: 3.88s\tremaining: 3.8s\n",
      "125:\tlearn: 0.4106803\ttest: 0.6865115\tbest: 0.6776974 (50)\ttotal: 4.84s\tremaining: 2.84s\n",
      "150:\tlearn: 0.3767381\ttest: 0.6902194\tbest: 0.6776974 (50)\ttotal: 5.79s\tremaining: 1.88s\n",
      "175:\tlearn: 0.3460523\ttest: 0.6934115\tbest: 0.6776974 (50)\ttotal: 6.75s\tremaining: 920ms\n"
     ]
    },
    {
     "name": "stderr",
     "output_type": "stream",
     "text": [
      "2022-03-30 13:41:28 mean cv_value -0.0065056124370955004 | std cv_value 0.014679250751771905 \n",
      "2022-03-30 13:41:28 ---------------------------------------------\n"
     ]
    },
    {
     "name": "stdout",
     "output_type": "stream",
     "text": [
      "199:\tlearn: 0.3219679\ttest: 0.7006515\tbest: 0.6776974 (50)\ttotal: 7.66s\tremaining: 0us\n",
      "\n",
      "bestTest = 0.6776973596\n",
      "bestIteration = 50\n",
      "\n",
      "Shrink model to first 51 iterations.\n"
     ]
    },
    {
     "name": "stderr",
     "output_type": "stream",
     "text": [
      "2022-03-30 13:41:32 [TRAIN_MODEL] Training model\n",
      "2022-03-30 13:41:32 Set of params....., {'depth': 5, 'iterations': 95, 'learning_rate': 0.002985440491123785, 'colsample_bylevel': 0.7147109486521162}\n"
     ]
    },
    {
     "name": "stdout",
     "output_type": "stream",
     "text": [
      "Iteration No: 143 ended. Search finished for the next optimal point.\n",
      "Time taken: 27.3566\n",
      "Function value obtained: 0.0065\n",
      "Current minimum: -0.0699\n",
      "Iteration No: 144 started. Searching for the next optimal point.\n",
      "0:\tlearn: 0.6931276\ttest: 0.6931049\tbest: 0.6931049 (0)\ttotal: 12.8ms\tremaining: 1.21s\n",
      "25:\tlearn: 0.6926694\ttest: 0.6921165\tbest: 0.6921165 (25)\ttotal: 273ms\tremaining: 725ms\n",
      "50:\tlearn: 0.6922671\ttest: 0.6912331\tbest: 0.6912331 (50)\ttotal: 526ms\tremaining: 454ms\n",
      "75:\tlearn: 0.6919144\ttest: 0.6904248\tbest: 0.6904248 (75)\ttotal: 783ms\tremaining: 196ms\n",
      "94:\tlearn: 0.6916713\ttest: 0.6898649\tbest: 0.6898649 (94)\ttotal: 974ms\tremaining: 0us\n",
      "\n",
      "bestTest = 0.6898649298\n",
      "bestIteration = 94\n",
      "\n",
      "0:\tlearn: 0.6931275\ttest: 0.6931055\tbest: 0.6931055 (0)\ttotal: 12.5ms\tremaining: 1.18s\n",
      "25:\tlearn: 0.6926787\ttest: 0.6921438\tbest: 0.6921438 (25)\ttotal: 264ms\tremaining: 701ms\n",
      "50:\tlearn: 0.6922921\ttest: 0.6912701\tbest: 0.6912701 (50)\ttotal: 513ms\tremaining: 442ms\n",
      "75:\tlearn: 0.6919527\ttest: 0.6904867\tbest: 0.6904867 (75)\ttotal: 760ms\tremaining: 190ms\n",
      "94:\tlearn: 0.6917188\ttest: 0.6899457\tbest: 0.6899457 (94)\ttotal: 946ms\tremaining: 0us\n",
      "\n",
      "bestTest = 0.6899457283\n",
      "bestIteration = 94\n",
      "\n",
      "0:\tlearn: 0.6931253\ttest: 0.6931056\tbest: 0.6931056 (0)\ttotal: 12.5ms\tremaining: 1.17s\n",
      "25:\tlearn: 0.6927039\ttest: 0.6921596\tbest: 0.6921596 (25)\ttotal: 266ms\tremaining: 706ms\n",
      "50:\tlearn: 0.6923382\ttest: 0.6913043\tbest: 0.6913043 (50)\ttotal: 514ms\tremaining: 443ms\n",
      "75:\tlearn: 0.6920161\ttest: 0.6905432\tbest: 0.6905432 (75)\ttotal: 760ms\tremaining: 190ms\n",
      "94:\tlearn: 0.6917932\ttest: 0.6899977\tbest: 0.6899977 (94)\ttotal: 948ms\tremaining: 0us\n",
      "\n",
      "bestTest = 0.6899977325\n",
      "bestIteration = 94\n",
      "\n"
     ]
    },
    {
     "name": "stderr",
     "output_type": "stream",
     "text": [
      "2022-03-30 13:41:35 mean cv_value 0.0567452955574439 | std cv_value 0.005495462657533177 \n",
      "2022-03-30 13:41:35 ---------------------------------------------\n",
      "2022-03-30 13:41:38 [TRAIN_MODEL] Training model\n",
      "2022-03-30 13:41:38 Set of params....., {'depth': 3, 'iterations': 131, 'learning_rate': 0.14529552087837688, 'colsample_bylevel': 1.0}\n"
     ]
    },
    {
     "name": "stdout",
     "output_type": "stream",
     "text": [
      "Iteration No: 144 ended. Search finished for the next optimal point.\n",
      "Time taken: 6.6690\n",
      "Function value obtained: -0.0567\n",
      "Current minimum: -0.0699\n",
      "Iteration No: 145 started. Searching for the next optimal point.\n",
      "0:\tlearn: 0.6923878\ttest: 0.6913807\tbest: 0.6913807 (0)\ttotal: 9.48ms\tremaining: 1.23s\n",
      "25:\tlearn: 0.6890462\ttest: 0.6823187\tbest: 0.6823187 (25)\ttotal: 189ms\tremaining: 762ms\n",
      "50:\tlearn: 0.6881213\ttest: 0.6810550\tbest: 0.6810550 (50)\ttotal: 365ms\tremaining: 572ms\n",
      "75:\tlearn: 0.6873134\ttest: 0.6803217\tbest: 0.6803217 (75)\ttotal: 543ms\tremaining: 393ms\n",
      "100:\tlearn: 0.6865864\ttest: 0.6796743\tbest: 0.6796743 (100)\ttotal: 716ms\tremaining: 213ms\n",
      "125:\tlearn: 0.6859151\ttest: 0.6792121\tbest: 0.6792121 (125)\ttotal: 883ms\tremaining: 35ms\n",
      "130:\tlearn: 0.6857797\ttest: 0.6791689\tbest: 0.6791689 (130)\ttotal: 917ms\tremaining: 0us\n",
      "\n",
      "bestTest = 0.6791688567\n",
      "bestIteration = 130\n",
      "\n",
      "0:\tlearn: 0.6924650\ttest: 0.6915324\tbest: 0.6915324 (0)\ttotal: 9.44ms\tremaining: 1.23s\n",
      "25:\tlearn: 0.6893265\ttest: 0.6825435\tbest: 0.6825435 (25)\ttotal: 184ms\tremaining: 743ms\n",
      "50:\tlearn: 0.6884551\ttest: 0.6812891\tbest: 0.6812891 (50)\ttotal: 358ms\tremaining: 561ms\n",
      "75:\tlearn: 0.6876603\ttest: 0.6805882\tbest: 0.6805882 (75)\ttotal: 530ms\tremaining: 384ms\n",
      "100:\tlearn: 0.6869598\ttest: 0.6801992\tbest: 0.6801992 (100)\ttotal: 706ms\tremaining: 210ms\n",
      "125:\tlearn: 0.6862912\ttest: 0.6797545\tbest: 0.6797545 (125)\ttotal: 880ms\tremaining: 34.9ms\n",
      "130:\tlearn: 0.6861539\ttest: 0.6796467\tbest: 0.6796467 (130)\ttotal: 920ms\tremaining: 0us\n",
      "\n",
      "bestTest = 0.6796466536\n",
      "bestIteration = 130\n",
      "\n",
      "0:\tlearn: 0.6924782\ttest: 0.6914651\tbest: 0.6914651 (0)\ttotal: 9.67ms\tremaining: 1.26s\n",
      "25:\tlearn: 0.6893417\ttest: 0.6826749\tbest: 0.6826749 (25)\ttotal: 184ms\tremaining: 742ms\n",
      "50:\tlearn: 0.6884310\ttest: 0.6814337\tbest: 0.6814337 (50)\ttotal: 359ms\tremaining: 563ms\n",
      "75:\tlearn: 0.6877137\ttest: 0.6805281\tbest: 0.6805281 (75)\ttotal: 539ms\tremaining: 390ms\n",
      "100:\tlearn: 0.6870691\ttest: 0.6800000\tbest: 0.6800000 (100)\ttotal: 715ms\tremaining: 212ms\n",
      "125:\tlearn: 0.6863773\ttest: 0.6795269\tbest: 0.6795269 (125)\ttotal: 892ms\tremaining: 35.4ms\n"
     ]
    },
    {
     "name": "stderr",
     "output_type": "stream",
     "text": [
      "2022-03-30 13:41:42 mean cv_value 0.06372556686109308 | std cv_value 0.007013425754455928 \n",
      "2022-03-30 13:41:42 ---------------------------------------------\n"
     ]
    },
    {
     "name": "stdout",
     "output_type": "stream",
     "text": [
      "130:\tlearn: 0.6862712\ttest: 0.6794425\tbest: 0.6794425 (130)\ttotal: 929ms\tremaining: 0us\n",
      "\n",
      "bestTest = 0.6794425452\n",
      "bestIteration = 130\n",
      "\n"
     ]
    },
    {
     "name": "stderr",
     "output_type": "stream",
     "text": [
      "2022-03-30 13:41:45 [TRAIN_MODEL] Training model\n",
      "2022-03-30 13:41:45 Set of params....., {'depth': 4, 'iterations': 132, 'learning_rate': 0.14248683444091179, 'colsample_bylevel': 1.0}\n"
     ]
    },
    {
     "name": "stdout",
     "output_type": "stream",
     "text": [
      "Iteration No: 145 ended. Search finished for the next optimal point.\n",
      "Time taken: 7.0247\n",
      "Function value obtained: -0.0637\n",
      "Current minimum: -0.0699\n",
      "Iteration No: 146 started. Searching for the next optimal point.\n",
      "0:\tlearn: 0.6923472\ttest: 0.6913353\tbest: 0.6913353 (0)\ttotal: 10.2ms\tremaining: 1.34s\n",
      "25:\tlearn: 0.6882963\ttest: 0.6814550\tbest: 0.6814550 (25)\ttotal: 219ms\tremaining: 891ms\n",
      "50:\tlearn: 0.6868162\ttest: 0.6799480\tbest: 0.6799480 (50)\ttotal: 416ms\tremaining: 661ms\n",
      "75:\tlearn: 0.6855380\ttest: 0.6790224\tbest: 0.6790224 (75)\ttotal: 617ms\tremaining: 455ms\n",
      "100:\tlearn: 0.6842539\ttest: 0.6782677\tbest: 0.6782677 (100)\ttotal: 820ms\tremaining: 252ms\n",
      "125:\tlearn: 0.6829737\ttest: 0.6776330\tbest: 0.6776330 (125)\ttotal: 1.02s\tremaining: 48.4ms\n",
      "131:\tlearn: 0.6826973\ttest: 0.6775217\tbest: 0.6775217 (131)\ttotal: 1.07s\tremaining: 0us\n",
      "\n",
      "bestTest = 0.6775217207\n",
      "bestIteration = 131\n",
      "\n",
      "0:\tlearn: 0.6923655\ttest: 0.6914333\tbest: 0.6914333 (0)\ttotal: 10.4ms\tremaining: 1.36s\n",
      "25:\tlearn: 0.6884891\ttest: 0.6818621\tbest: 0.6818621 (25)\ttotal: 213ms\tremaining: 868ms\n",
      "50:\tlearn: 0.6870858\ttest: 0.6803473\tbest: 0.6803473 (50)\ttotal: 416ms\tremaining: 661ms\n",
      "75:\tlearn: 0.6856909\ttest: 0.6793487\tbest: 0.6793487 (75)\ttotal: 628ms\tremaining: 462ms\n",
      "100:\tlearn: 0.6843957\ttest: 0.6786512\tbest: 0.6786512 (100)\ttotal: 838ms\tremaining: 257ms\n",
      "125:\tlearn: 0.6832652\ttest: 0.6780124\tbest: 0.6780124 (125)\ttotal: 1.05s\tremaining: 49.9ms\n",
      "131:\tlearn: 0.6829886\ttest: 0.6778335\tbest: 0.6778335 (131)\ttotal: 1.1s\tremaining: 0us\n",
      "\n",
      "bestTest = 0.677833503\n",
      "bestIteration = 131\n",
      "\n",
      "0:\tlearn: 0.6924098\ttest: 0.6913641\tbest: 0.6913641 (0)\ttotal: 9.91ms\tremaining: 1.3s\n",
      "25:\tlearn: 0.6885105\ttest: 0.6817685\tbest: 0.6817685 (25)\ttotal: 209ms\tremaining: 851ms\n",
      "50:\tlearn: 0.6870242\ttest: 0.6803864\tbest: 0.6803864 (50)\ttotal: 408ms\tremaining: 648ms\n",
      "75:\tlearn: 0.6858188\ttest: 0.6793274\tbest: 0.6793274 (75)\ttotal: 601ms\tremaining: 443ms\n",
      "100:\tlearn: 0.6846362\ttest: 0.6785458\tbest: 0.6785458 (100)\ttotal: 802ms\tremaining: 246ms\n"
     ]
    },
    {
     "name": "stderr",
     "output_type": "stream",
     "text": [
      "2022-03-30 13:41:49 mean cv_value 0.05954181427489121 | std cv_value 0.006405876650599282 \n",
      "2022-03-30 13:41:49 ---------------------------------------------\n"
     ]
    },
    {
     "name": "stdout",
     "output_type": "stream",
     "text": [
      "125:\tlearn: 0.6833653\ttest: 0.6779793\tbest: 0.6779793 (125)\ttotal: 1s\tremaining: 47.8ms\n",
      "131:\tlearn: 0.6831124\ttest: 0.6778218\tbest: 0.6778218 (131)\ttotal: 1.05s\tremaining: 0us\n",
      "\n",
      "bestTest = 0.6778217732\n",
      "bestIteration = 131\n",
      "\n"
     ]
    },
    {
     "name": "stderr",
     "output_type": "stream",
     "text": [
      "2022-03-30 13:41:53 [TRAIN_MODEL] Training model\n",
      "2022-03-30 13:41:53 Set of params....., {'depth': 4, 'iterations': 200, 'learning_rate': 0.07387214078865698, 'colsample_bylevel': 1.0}\n"
     ]
    },
    {
     "name": "stdout",
     "output_type": "stream",
     "text": [
      "Iteration No: 146 ended. Search finished for the next optimal point.\n",
      "Time taken: 7.5444\n",
      "Function value obtained: -0.0595\n",
      "Current minimum: -0.0699\n",
      "Iteration No: 147 started. Searching for the next optimal point.\n",
      "0:\tlearn: 0.6927239\ttest: 0.6921918\tbest: 0.6921918 (0)\ttotal: 10.1ms\tremaining: 2s\n",
      "25:\tlearn: 0.6893028\ttest: 0.6833286\tbest: 0.6833286 (25)\ttotal: 207ms\tremaining: 1.38s\n",
      "50:\tlearn: 0.6882617\ttest: 0.6814767\tbest: 0.6814767 (50)\ttotal: 413ms\tremaining: 1.21s\n",
      "75:\tlearn: 0.6874412\ttest: 0.6805838\tbest: 0.6805838 (75)\ttotal: 611ms\tremaining: 996ms\n",
      "100:\tlearn: 0.6866801\ttest: 0.6799544\tbest: 0.6799544 (100)\ttotal: 817ms\tremaining: 801ms\n",
      "125:\tlearn: 0.6860100\ttest: 0.6794285\tbest: 0.6794285 (125)\ttotal: 1.02s\tremaining: 600ms\n",
      "150:\tlearn: 0.6852743\ttest: 0.6789008\tbest: 0.6789008 (150)\ttotal: 1.22s\tremaining: 397ms\n",
      "175:\tlearn: 0.6845693\ttest: 0.6784332\tbest: 0.6784332 (175)\ttotal: 1.42s\tremaining: 194ms\n",
      "199:\tlearn: 0.6839381\ttest: 0.6780898\tbest: 0.6780898 (199)\ttotal: 1.62s\tremaining: 0us\n",
      "\n",
      "bestTest = 0.6780897796\n",
      "bestIteration = 199\n",
      "\n",
      "0:\tlearn: 0.6927298\ttest: 0.6922431\tbest: 0.6922431 (0)\ttotal: 10.2ms\tremaining: 2.03s\n",
      "25:\tlearn: 0.6894395\ttest: 0.6833893\tbest: 0.6833893 (25)\ttotal: 206ms\tremaining: 1.38s\n",
      "50:\tlearn: 0.6884843\ttest: 0.6817221\tbest: 0.6817221 (50)\ttotal: 405ms\tremaining: 1.18s\n",
      "75:\tlearn: 0.6876158\ttest: 0.6807413\tbest: 0.6807413 (75)\ttotal: 598ms\tremaining: 976ms\n",
      "100:\tlearn: 0.6868983\ttest: 0.6801413\tbest: 0.6801413 (100)\ttotal: 791ms\tremaining: 775ms\n",
      "125:\tlearn: 0.6861904\ttest: 0.6796903\tbest: 0.6796903 (125)\ttotal: 990ms\tremaining: 581ms\n",
      "150:\tlearn: 0.6855327\ttest: 0.6792476\tbest: 0.6792476 (150)\ttotal: 1.19s\tremaining: 388ms\n",
      "175:\tlearn: 0.6848815\ttest: 0.6788417\tbest: 0.6788417 (175)\ttotal: 1.4s\tremaining: 190ms\n",
      "199:\tlearn: 0.6842626\ttest: 0.6785004\tbest: 0.6785004 (199)\ttotal: 1.59s\tremaining: 0us\n",
      "\n",
      "bestTest = 0.678500359\n",
      "bestIteration = 199\n",
      "\n",
      "0:\tlearn: 0.6927567\ttest: 0.6922081\tbest: 0.6922081 (0)\ttotal: 9.98ms\tremaining: 1.99s\n",
      "25:\tlearn: 0.6895893\ttest: 0.6836811\tbest: 0.6836811 (25)\ttotal: 208ms\tremaining: 1.39s\n",
      "50:\tlearn: 0.6885800\ttest: 0.6817771\tbest: 0.6817771 (50)\ttotal: 406ms\tremaining: 1.19s\n",
      "75:\tlearn: 0.6877848\ttest: 0.6808776\tbest: 0.6808776 (75)\ttotal: 603ms\tremaining: 984ms\n",
      "100:\tlearn: 0.6870498\ttest: 0.6802551\tbest: 0.6802551 (100)\ttotal: 814ms\tremaining: 798ms\n",
      "125:\tlearn: 0.6863157\ttest: 0.6796710\tbest: 0.6796710 (125)\ttotal: 1.02s\tremaining: 599ms\n",
      "150:\tlearn: 0.6856422\ttest: 0.6792396\tbest: 0.6792396 (150)\ttotal: 1.22s\tremaining: 397ms\n",
      "175:\tlearn: 0.6850477\ttest: 0.6789136\tbest: 0.6789136 (175)\ttotal: 1.43s\tremaining: 195ms\n",
      "199:\tlearn: 0.6845031\ttest: 0.6785505\tbest: 0.6785505 (199)\ttotal: 1.63s\tremaining: 0us\n",
      "\n",
      "bestTest = 0.6785505233\n",
      "bestIteration = 199\n",
      "\n"
     ]
    },
    {
     "name": "stderr",
     "output_type": "stream",
     "text": [
      "2022-03-30 13:41:58 mean cv_value 0.06869867457206223 | std cv_value 0.008812507846916319 \n",
      "2022-03-30 13:41:58 ---------------------------------------------\n",
      "2022-03-30 13:42:03 [TRAIN_MODEL] Training model\n",
      "2022-03-30 13:42:03 Set of params....., {'depth': 7, 'iterations': 8, 'learning_rate': 0.0024445908333968432, 'colsample_bylevel': 0.8701209538913472}\n"
     ]
    },
    {
     "name": "stdout",
     "output_type": "stream",
     "text": [
      "Iteration No: 147 ended. Search finished for the next optimal point.\n",
      "Time taken: 9.6599\n",
      "Function value obtained: -0.0687\n",
      "Current minimum: -0.0699\n",
      "Iteration No: 148 started. Searching for the next optimal point.\n",
      "0:\tlearn: 0.6931282\ttest: 0.6931085\tbest: 0.6931085 (0)\ttotal: 32ms\tremaining: 224ms\n",
      "7:\tlearn: 0.6929831\ttest: 0.6928505\tbest: 0.6928505 (7)\ttotal: 157ms\tremaining: 0us\n",
      "\n",
      "bestTest = 0.6928505467\n",
      "bestIteration = 7\n",
      "\n",
      "0:\tlearn: 0.6931281\ttest: 0.6931122\tbest: 0.6931122 (0)\ttotal: 20.8ms\tremaining: 146ms\n",
      "7:\tlearn: 0.6929867\ttest: 0.6928567\tbest: 0.6928567 (7)\ttotal: 137ms\tremaining: 0us\n",
      "\n",
      "bestTest = 0.6928566803\n",
      "bestIteration = 7\n",
      "\n"
     ]
    },
    {
     "name": "stderr",
     "output_type": "stream",
     "text": [
      "2022-03-30 13:42:04 mean cv_value 0.04912733580350679 | std cv_value 0.0038616091555207567 \n",
      "2022-03-30 13:42:04 ---------------------------------------------\n"
     ]
    },
    {
     "name": "stdout",
     "output_type": "stream",
     "text": [
      "0:\tlearn: 0.6931272\ttest: 0.6931099\tbest: 0.6931099 (0)\ttotal: 17.7ms\tremaining: 124ms\n",
      "7:\tlearn: 0.6929872\ttest: 0.6928512\tbest: 0.6928512 (7)\ttotal: 133ms\tremaining: 0us\n",
      "\n",
      "bestTest = 0.6928512006\n",
      "bestIteration = 7\n",
      "\n"
     ]
    },
    {
     "name": "stderr",
     "output_type": "stream",
     "text": [
      "2022-03-30 13:42:08 [TRAIN_MODEL] Training model\n",
      "2022-03-30 13:42:08 Set of params....., {'depth': 4, 'iterations': 200, 'learning_rate': 0.07787070468623546, 'colsample_bylevel': 1.0}\n"
     ]
    },
    {
     "name": "stdout",
     "output_type": "stream",
     "text": [
      "Iteration No: 148 ended. Search finished for the next optimal point.\n",
      "Time taken: 5.1126\n",
      "Function value obtained: -0.0491\n",
      "Current minimum: -0.0699\n",
      "Iteration No: 149 started. Searching for the next optimal point.\n",
      "0:\tlearn: 0.6926931\ttest: 0.6921411\tbest: 0.6921411 (0)\ttotal: 9.85ms\tremaining: 1.96s\n",
      "25:\tlearn: 0.6892311\ttest: 0.6830598\tbest: 0.6830598 (25)\ttotal: 210ms\tremaining: 1.4s\n",
      "50:\tlearn: 0.6881808\ttest: 0.6812922\tbest: 0.6812922 (50)\ttotal: 408ms\tremaining: 1.19s\n",
      "75:\tlearn: 0.6873415\ttest: 0.6804294\tbest: 0.6804294 (75)\ttotal: 608ms\tremaining: 993ms\n",
      "100:\tlearn: 0.6865677\ttest: 0.6797170\tbest: 0.6797170 (100)\ttotal: 810ms\tremaining: 793ms\n",
      "125:\tlearn: 0.6858602\ttest: 0.6791748\tbest: 0.6791748 (125)\ttotal: 1.01s\tremaining: 591ms\n",
      "150:\tlearn: 0.6852153\ttest: 0.6787377\tbest: 0.6787377 (150)\ttotal: 1.21s\tremaining: 392ms\n",
      "175:\tlearn: 0.6845302\ttest: 0.6784081\tbest: 0.6784081 (175)\ttotal: 1.4s\tremaining: 192ms\n",
      "199:\tlearn: 0.6838659\ttest: 0.6781218\tbest: 0.6781218 (199)\ttotal: 1.6s\tremaining: 0us\n",
      "\n",
      "bestTest = 0.6781218175\n",
      "bestIteration = 199\n",
      "\n",
      "0:\tlearn: 0.6927120\ttest: 0.6921951\tbest: 0.6921951 (0)\ttotal: 23.9ms\tremaining: 4.75s\n",
      "25:\tlearn: 0.6893859\ttest: 0.6834195\tbest: 0.6834195 (25)\ttotal: 217ms\tremaining: 1.45s\n",
      "50:\tlearn: 0.6883366\ttest: 0.6816262\tbest: 0.6816262 (50)\ttotal: 419ms\tremaining: 1.22s\n",
      "75:\tlearn: 0.6874731\ttest: 0.6807158\tbest: 0.6807158 (75)\ttotal: 628ms\tremaining: 1.02s\n",
      "100:\tlearn: 0.6867005\ttest: 0.6801509\tbest: 0.6801509 (100)\ttotal: 827ms\tremaining: 810ms\n",
      "125:\tlearn: 0.6860121\ttest: 0.6796997\tbest: 0.6796997 (125)\ttotal: 1.03s\tremaining: 607ms\n",
      "150:\tlearn: 0.6853311\ttest: 0.6791878\tbest: 0.6791878 (150)\ttotal: 1.24s\tremaining: 402ms\n",
      "175:\tlearn: 0.6846376\ttest: 0.6788214\tbest: 0.6788214 (175)\ttotal: 1.45s\tremaining: 197ms\n",
      "199:\tlearn: 0.6839620\ttest: 0.6784136\tbest: 0.6784136 (199)\ttotal: 1.64s\tremaining: 0us\n",
      "\n",
      "bestTest = 0.6784135741\n",
      "bestIteration = 199\n",
      "\n",
      "0:\tlearn: 0.6927268\ttest: 0.6921582\tbest: 0.6921582 (0)\ttotal: 9.52ms\tremaining: 1.89s\n",
      "25:\tlearn: 0.6894635\ttest: 0.6835833\tbest: 0.6835833 (25)\ttotal: 209ms\tremaining: 1.4s\n",
      "50:\tlearn: 0.6884238\ttest: 0.6817011\tbest: 0.6817011 (50)\ttotal: 404ms\tremaining: 1.18s\n",
      "75:\tlearn: 0.6876160\ttest: 0.6807669\tbest: 0.6807669 (75)\ttotal: 609ms\tremaining: 993ms\n",
      "100:\tlearn: 0.6868809\ttest: 0.6801499\tbest: 0.6801499 (100)\ttotal: 812ms\tremaining: 796ms\n",
      "125:\tlearn: 0.6861875\ttest: 0.6795871\tbest: 0.6795871 (125)\ttotal: 1.01s\tremaining: 593ms\n",
      "150:\tlearn: 0.6854879\ttest: 0.6790904\tbest: 0.6790904 (150)\ttotal: 1.21s\tremaining: 392ms\n",
      "175:\tlearn: 0.6848400\ttest: 0.6786531\tbest: 0.6786531 (175)\ttotal: 1.41s\tremaining: 192ms\n",
      "199:\tlearn: 0.6842335\ttest: 0.6783203\tbest: 0.6783203 (199)\ttotal: 1.6s\tremaining: 0us\n",
      "\n",
      "bestTest = 0.6783203007\n",
      "bestIteration = 199\n",
      "\n"
     ]
    },
    {
     "name": "stderr",
     "output_type": "stream",
     "text": [
      "2022-03-30 13:42:13 mean cv_value 0.06249597839168005 | std cv_value 0.008271906579934013 \n",
      "2022-03-30 13:42:13 ---------------------------------------------\n",
      "2022-03-30 13:42:17 [TRAIN_MODEL] Training model\n",
      "2022-03-30 13:42:17 Set of params....., {'depth': 4, 'iterations': 200, 'learning_rate': 0.07542879854772758, 'colsample_bylevel': 1.0}\n"
     ]
    },
    {
     "name": "stdout",
     "output_type": "stream",
     "text": [
      "Iteration No: 149 ended. Search finished for the next optimal point.\n",
      "Time taken: 9.3348\n",
      "Function value obtained: -0.0625\n",
      "Current minimum: -0.0699\n",
      "Iteration No: 150 started. Searching for the next optimal point.\n",
      "0:\tlearn: 0.6927157\ttest: 0.6921720\tbest: 0.6921720 (0)\ttotal: 11.8ms\tremaining: 2.35s\n",
      "25:\tlearn: 0.6892863\ttest: 0.6832617\tbest: 0.6832617 (25)\ttotal: 213ms\tremaining: 1.43s\n",
      "50:\tlearn: 0.6882917\ttest: 0.6815153\tbest: 0.6815153 (50)\ttotal: 417ms\tremaining: 1.22s\n",
      "75:\tlearn: 0.6874712\ttest: 0.6805536\tbest: 0.6805536 (75)\ttotal: 615ms\tremaining: 1s\n",
      "100:\tlearn: 0.6866276\ttest: 0.6798915\tbest: 0.6798915 (100)\ttotal: 817ms\tremaining: 800ms\n",
      "125:\tlearn: 0.6859648\ttest: 0.6793676\tbest: 0.6793676 (125)\ttotal: 1.02s\tremaining: 599ms\n",
      "150:\tlearn: 0.6853097\ttest: 0.6789659\tbest: 0.6789659 (150)\ttotal: 1.22s\tremaining: 395ms\n",
      "175:\tlearn: 0.6846166\ttest: 0.6785307\tbest: 0.6785307 (175)\ttotal: 1.42s\tremaining: 193ms\n",
      "199:\tlearn: 0.6839652\ttest: 0.6781174\tbest: 0.6781174 (199)\ttotal: 1.6s\tremaining: 0us\n",
      "\n",
      "bestTest = 0.6781173635\n",
      "bestIteration = 199\n",
      "\n",
      "0:\tlearn: 0.6927120\ttest: 0.6922244\tbest: 0.6922244 (0)\ttotal: 10ms\tremaining: 2s\n",
      "25:\tlearn: 0.6894225\ttest: 0.6834668\tbest: 0.6834668 (25)\ttotal: 206ms\tremaining: 1.38s\n",
      "50:\tlearn: 0.6884228\ttest: 0.6815901\tbest: 0.6815901 (50)\ttotal: 403ms\tremaining: 1.18s\n",
      "75:\tlearn: 0.6875977\ttest: 0.6806540\tbest: 0.6806540 (75)\ttotal: 597ms\tremaining: 973ms\n",
      "100:\tlearn: 0.6868918\ttest: 0.6800330\tbest: 0.6800330 (100)\ttotal: 799ms\tremaining: 783ms\n",
      "125:\tlearn: 0.6861849\ttest: 0.6795130\tbest: 0.6795130 (125)\ttotal: 999ms\tremaining: 587ms\n",
      "150:\tlearn: 0.6855085\ttest: 0.6791563\tbest: 0.6791563 (150)\ttotal: 1.2s\tremaining: 391ms\n",
      "175:\tlearn: 0.6848839\ttest: 0.6787363\tbest: 0.6787363 (175)\ttotal: 1.4s\tremaining: 191ms\n",
      "199:\tlearn: 0.6842499\ttest: 0.6783284\tbest: 0.6783284 (199)\ttotal: 1.6s\tremaining: 0us\n",
      "\n",
      "bestTest = 0.6783283512\n",
      "bestIteration = 199\n",
      "\n",
      "0:\tlearn: 0.6927433\ttest: 0.6921886\tbest: 0.6921886 (0)\ttotal: 10ms\tremaining: 1.99s\n",
      "25:\tlearn: 0.6895236\ttest: 0.6835096\tbest: 0.6835096 (25)\ttotal: 212ms\tremaining: 1.42s\n",
      "50:\tlearn: 0.6885192\ttest: 0.6816389\tbest: 0.6816389 (50)\ttotal: 410ms\tremaining: 1.2s\n",
      "75:\tlearn: 0.6877419\ttest: 0.6807501\tbest: 0.6807501 (75)\ttotal: 614ms\tremaining: 1s\n",
      "100:\tlearn: 0.6870565\ttest: 0.6801647\tbest: 0.6801647 (100)\ttotal: 815ms\tremaining: 799ms\n",
      "125:\tlearn: 0.6863698\ttest: 0.6795804\tbest: 0.6795804 (125)\ttotal: 1.02s\tremaining: 601ms\n",
      "150:\tlearn: 0.6857206\ttest: 0.6791501\tbest: 0.6791501 (150)\ttotal: 1.22s\tremaining: 395ms\n",
      "175:\tlearn: 0.6851015\ttest: 0.6787540\tbest: 0.6787540 (175)\ttotal: 1.42s\tremaining: 194ms\n",
      "199:\tlearn: 0.6845448\ttest: 0.6783816\tbest: 0.6783816 (199)\ttotal: 1.61s\tremaining: 0us\n",
      "\n",
      "bestTest = 0.6783815981\n",
      "bestIteration = 199\n",
      "\n"
     ]
    },
    {
     "name": "stderr",
     "output_type": "stream",
     "text": [
      "2022-03-30 13:42:23 mean cv_value 0.06338405529701648 | std cv_value 0.009798330828109702 \n",
      "2022-03-30 13:42:23 ---------------------------------------------\n",
      "2022-03-30 13:42:26 [TRAIN_MODEL] Training model\n",
      "2022-03-30 13:42:26 Set of params....., {'depth': 3, 'iterations': 195, 'learning_rate': 0.002402108755642981, 'colsample_bylevel': 0.7324069831916707}\n"
     ]
    },
    {
     "name": "stdout",
     "output_type": "stream",
     "text": [
      "Iteration No: 150 ended. Search finished for the next optimal point.\n",
      "Time taken: 9.2934\n",
      "Function value obtained: -0.0634\n",
      "Current minimum: -0.0699\n",
      "Iteration No: 151 started. Searching for the next optimal point.\n",
      "0:\tlearn: 0.6931405\ttest: 0.6931170\tbest: 0.6931170 (0)\ttotal: 14.3ms\tremaining: 2.77s\n",
      "25:\tlearn: 0.6928328\ttest: 0.6924271\tbest: 0.6924271 (25)\ttotal: 208ms\tremaining: 1.35s\n",
      "50:\tlearn: 0.6925551\ttest: 0.6917941\tbest: 0.6917941 (50)\ttotal: 391ms\tremaining: 1.1s\n",
      "75:\tlearn: 0.6923131\ttest: 0.6912022\tbest: 0.6912022 (75)\ttotal: 577ms\tremaining: 904ms\n",
      "100:\tlearn: 0.6920853\ttest: 0.6906516\tbest: 0.6906516 (100)\ttotal: 757ms\tremaining: 705ms\n",
      "125:\tlearn: 0.6918900\ttest: 0.6901368\tbest: 0.6901368 (125)\ttotal: 956ms\tremaining: 524ms\n",
      "150:\tlearn: 0.6917097\ttest: 0.6896683\tbest: 0.6896683 (150)\ttotal: 1.15s\tremaining: 334ms\n",
      "175:\tlearn: 0.6915464\ttest: 0.6892338\tbest: 0.6892338 (175)\ttotal: 1.33s\tremaining: 143ms\n",
      "194:\tlearn: 0.6914355\ttest: 0.6889275\tbest: 0.6889275 (194)\ttotal: 1.47s\tremaining: 0us\n",
      "\n",
      "bestTest = 0.688927517\n",
      "bestIteration = 194\n",
      "\n",
      "0:\tlearn: 0.6931316\ttest: 0.6931175\tbest: 0.6931175 (0)\ttotal: 47.8ms\tremaining: 9.28s\n",
      "25:\tlearn: 0.6928627\ttest: 0.6924700\tbest: 0.6924700 (25)\ttotal: 242ms\tremaining: 1.57s\n",
      "50:\tlearn: 0.6926047\ttest: 0.6918592\tbest: 0.6918592 (50)\ttotal: 433ms\tremaining: 1.22s\n",
      "75:\tlearn: 0.6923808\ttest: 0.6913064\tbest: 0.6913064 (75)\ttotal: 626ms\tremaining: 981ms\n",
      "100:\tlearn: 0.6921747\ttest: 0.6907778\tbest: 0.6907778 (100)\ttotal: 815ms\tremaining: 759ms\n",
      "125:\tlearn: 0.6919836\ttest: 0.6902827\tbest: 0.6902827 (125)\ttotal: 1s\tremaining: 548ms\n",
      "150:\tlearn: 0.6918110\ttest: 0.6898321\tbest: 0.6898321 (150)\ttotal: 1.19s\tremaining: 346ms\n",
      "175:\tlearn: 0.6916551\ttest: 0.6894084\tbest: 0.6894084 (175)\ttotal: 1.38s\tremaining: 149ms\n",
      "194:\tlearn: 0.6915486\ttest: 0.6891059\tbest: 0.6891059 (194)\ttotal: 1.52s\tremaining: 0us\n",
      "\n",
      "bestTest = 0.6891058787\n",
      "bestIteration = 194\n",
      "\n",
      "0:\tlearn: 0.6931214\ttest: 0.6931185\tbest: 0.6931185 (0)\ttotal: 28.6ms\tremaining: 5.55s\n",
      "25:\tlearn: 0.6928620\ttest: 0.6924763\tbest: 0.6924763 (25)\ttotal: 221ms\tremaining: 1.43s\n",
      "50:\tlearn: 0.6926173\ttest: 0.6918653\tbest: 0.6918653 (50)\ttotal: 406ms\tremaining: 1.15s\n",
      "75:\tlearn: 0.6924020\ttest: 0.6913209\tbest: 0.6913209 (75)\ttotal: 597ms\tremaining: 934ms\n",
      "100:\tlearn: 0.6922057\ttest: 0.6908143\tbest: 0.6908143 (100)\ttotal: 779ms\tremaining: 725ms\n",
      "125:\tlearn: 0.6920319\ttest: 0.6903548\tbest: 0.6903548 (125)\ttotal: 969ms\tremaining: 531ms\n",
      "150:\tlearn: 0.6918693\ttest: 0.6899097\tbest: 0.6899097 (150)\ttotal: 1.16s\tremaining: 339ms\n",
      "175:\tlearn: 0.6917235\ttest: 0.6894964\tbest: 0.6894964 (175)\ttotal: 1.34s\tremaining: 145ms\n"
     ]
    },
    {
     "name": "stderr",
     "output_type": "stream",
     "text": [
      "2022-03-30 13:42:31 mean cv_value 0.05605497624714396 | std cv_value 0.007747829174439777 \n",
      "2022-03-30 13:42:31 ---------------------------------------------\n"
     ]
    },
    {
     "name": "stdout",
     "output_type": "stream",
     "text": [
      "194:\tlearn: 0.6916224\ttest: 0.6892123\tbest: 0.6892123 (194)\ttotal: 1.49s\tremaining: 0us\n",
      "\n",
      "bestTest = 0.6892123168\n",
      "bestIteration = 194\n",
      "\n"
     ]
    },
    {
     "name": "stderr",
     "output_type": "stream",
     "text": [
      "2022-03-30 13:42:35 [TRAIN_MODEL] Training model\n",
      "2022-03-30 13:42:35 Set of params....., {'depth': 7, 'iterations': 8, 'learning_rate': 0.976301320298623, 'colsample_bylevel': 0.7571122135366903}\n"
     ]
    },
    {
     "name": "stdout",
     "output_type": "stream",
     "text": [
      "Iteration No: 151 ended. Search finished for the next optimal point.\n",
      "Time taken: 9.1098\n",
      "Function value obtained: -0.0561\n",
      "Current minimum: -0.0699\n",
      "Iteration No: 152 started. Searching for the next optimal point.\n",
      "0:\tlearn: 0.6890661\ttest: 0.6832409\tbest: 0.6832409 (0)\ttotal: 51.1ms\tremaining: 358ms\n",
      "7:\tlearn: 0.6818140\ttest: 0.6790816\tbest: 0.6790816 (7)\ttotal: 177ms\tremaining: 0us\n",
      "\n",
      "bestTest = 0.6790815579\n",
      "bestIteration = 7\n",
      "\n",
      "0:\tlearn: 0.6888574\ttest: 0.6832203\tbest: 0.6832203 (0)\ttotal: 18.1ms\tremaining: 127ms\n",
      "7:\tlearn: 0.6815145\ttest: 0.6798307\tbest: 0.6798307 (7)\ttotal: 142ms\tremaining: 0us\n",
      "\n",
      "bestTest = 0.6798307373\n",
      "bestIteration = 7\n",
      "\n",
      "0:\tlearn: 0.6891275\ttest: 0.6821277\tbest: 0.6821277 (0)\ttotal: 29.5ms\tremaining: 207ms\n",
      "7:\tlearn: 0.6814710\ttest: 0.6797188\tbest: 0.6797188 (7)\ttotal: 151ms\tremaining: 0us\n",
      "\n",
      "bestTest = 0.6797188065\n",
      "bestIteration = 7\n",
      "\n"
     ]
    },
    {
     "name": "stderr",
     "output_type": "stream",
     "text": [
      "2022-03-30 13:42:37 mean cv_value 0.045528895999327086 | std cv_value 0.008998261505704461 \n",
      "2022-03-30 13:42:37 ---------------------------------------------\n",
      "2022-03-30 13:42:40 [TRAIN_MODEL] Training model\n",
      "2022-03-30 13:42:40 Set of params....., {'depth': 4, 'iterations': 107, 'learning_rate': 0.0010111023067436737, 'colsample_bylevel': 0.661503253999971}\n"
     ]
    },
    {
     "name": "stdout",
     "output_type": "stream",
     "text": [
      "Iteration No: 152 ended. Search finished for the next optimal point.\n",
      "Time taken: 5.0936\n",
      "Function value obtained: -0.0455\n",
      "Current minimum: -0.0699\n",
      "Iteration No: 153 started. Searching for the next optimal point.\n",
      "0:\tlearn: 0.6931445\ttest: 0.6931338\tbest: 0.6931338 (0)\ttotal: 11ms\tremaining: 1.17s\n",
      "25:\tlearn: 0.6929949\ttest: 0.6928144\tbest: 0.6928144 (25)\ttotal: 228ms\tremaining: 710ms\n",
      "50:\tlearn: 0.6928566\ttest: 0.6925049\tbest: 0.6925049 (50)\ttotal: 447ms\tremaining: 491ms\n",
      "75:\tlearn: 0.6927230\ttest: 0.6921977\tbest: 0.6921977 (75)\ttotal: 663ms\tremaining: 270ms\n",
      "100:\tlearn: 0.6925936\ttest: 0.6919038\tbest: 0.6919038 (100)\ttotal: 877ms\tremaining: 52.1ms\n",
      "106:\tlearn: 0.6925652\ttest: 0.6918328\tbest: 0.6918328 (106)\ttotal: 929ms\tremaining: 0us\n",
      "\n",
      "bestTest = 0.691832844\n",
      "bestIteration = 106\n",
      "\n",
      "0:\tlearn: 0.6931475\ttest: 0.6931346\tbest: 0.6931346 (0)\ttotal: 11.6ms\tremaining: 1.23s\n",
      "25:\tlearn: 0.6930014\ttest: 0.6928190\tbest: 0.6928190 (25)\ttotal: 229ms\tremaining: 714ms\n",
      "50:\tlearn: 0.6928680\ttest: 0.6925140\tbest: 0.6925140 (50)\ttotal: 447ms\tremaining: 490ms\n",
      "75:\tlearn: 0.6927386\ttest: 0.6922134\tbest: 0.6922134 (75)\ttotal: 662ms\tremaining: 270ms\n",
      "100:\tlearn: 0.6926156\ttest: 0.6919261\tbest: 0.6919261 (100)\ttotal: 879ms\tremaining: 52.2ms\n",
      "106:\tlearn: 0.6925874\ttest: 0.6918590\tbest: 0.6918590 (106)\ttotal: 931ms\tremaining: 0us\n",
      "\n",
      "bestTest = 0.6918589638\n",
      "bestIteration = 106\n",
      "\n",
      "0:\tlearn: 0.6931405\ttest: 0.6931341\tbest: 0.6931341 (0)\ttotal: 35.9ms\tremaining: 3.8s\n",
      "25:\tlearn: 0.6930095\ttest: 0.6928338\tbest: 0.6928338 (25)\ttotal: 268ms\tremaining: 835ms\n",
      "50:\tlearn: 0.6928808\ttest: 0.6925370\tbest: 0.6925370 (50)\ttotal: 488ms\tremaining: 536ms\n",
      "75:\tlearn: 0.6927651\ttest: 0.6922580\tbest: 0.6922580 (75)\ttotal: 715ms\tremaining: 292ms\n"
     ]
    },
    {
     "name": "stderr",
     "output_type": "stream",
     "text": [
      "2022-03-30 13:42:44 mean cv_value 0.0565192743328265 | std cv_value 0.006735411227093598 \n",
      "2022-03-30 13:42:44 ---------------------------------------------\n"
     ]
    },
    {
     "name": "stdout",
     "output_type": "stream",
     "text": [
      "100:\tlearn: 0.6926507\ttest: 0.6919858\tbest: 0.6919858 (100)\ttotal: 931ms\tremaining: 55.3ms\n",
      "106:\tlearn: 0.6926231\ttest: 0.6919188\tbest: 0.6919188 (106)\ttotal: 984ms\tremaining: 0us\n",
      "\n",
      "bestTest = 0.6919187962\n",
      "bestIteration = 106\n",
      "\n"
     ]
    },
    {
     "name": "stderr",
     "output_type": "stream",
     "text": [
      "2022-03-30 13:42:48 [TRAIN_MODEL] Training model\n",
      "2022-03-30 13:42:48 Set of params....., {'depth': 4, 'iterations': 200, 'learning_rate': 0.07370896096629626, 'colsample_bylevel': 1.0}\n"
     ]
    },
    {
     "name": "stdout",
     "output_type": "stream",
     "text": [
      "Iteration No: 153 ended. Search finished for the next optimal point.\n",
      "Time taken: 7.7548\n",
      "Function value obtained: -0.0565\n",
      "Current minimum: -0.0699\n",
      "Iteration No: 154 started. Searching for the next optimal point.\n",
      "0:\tlearn: 0.6927239\ttest: 0.6921939\tbest: 0.6921939 (0)\ttotal: 32.5ms\tremaining: 6.46s\n",
      "25:\tlearn: 0.6893105\ttest: 0.6832717\tbest: 0.6832717 (25)\ttotal: 238ms\tremaining: 1.59s\n",
      "50:\tlearn: 0.6882783\ttest: 0.6815601\tbest: 0.6815601 (50)\ttotal: 442ms\tremaining: 1.29s\n",
      "75:\tlearn: 0.6874789\ttest: 0.6806162\tbest: 0.6806162 (75)\ttotal: 642ms\tremaining: 1.05s\n",
      "100:\tlearn: 0.6867141\ttest: 0.6799303\tbest: 0.6799303 (100)\ttotal: 839ms\tremaining: 822ms\n",
      "125:\tlearn: 0.6860320\ttest: 0.6794780\tbest: 0.6794780 (125)\ttotal: 1.04s\tremaining: 610ms\n",
      "150:\tlearn: 0.6853462\ttest: 0.6789259\tbest: 0.6789259 (150)\ttotal: 1.24s\tremaining: 402ms\n",
      "175:\tlearn: 0.6846928\ttest: 0.6785416\tbest: 0.6785416 (175)\ttotal: 1.44s\tremaining: 197ms\n",
      "199:\tlearn: 0.6841476\ttest: 0.6782465\tbest: 0.6782465 (199)\ttotal: 1.64s\tremaining: 0us\n",
      "\n",
      "bestTest = 0.678246454\n",
      "bestIteration = 199\n",
      "\n",
      "0:\tlearn: 0.6927268\ttest: 0.6922451\tbest: 0.6922451 (0)\ttotal: 36.8ms\tremaining: 7.32s\n",
      "25:\tlearn: 0.6894480\ttest: 0.6834916\tbest: 0.6834916 (25)\ttotal: 233ms\tremaining: 1.56s\n",
      "50:\tlearn: 0.6884437\ttest: 0.6815652\tbest: 0.6815652 (50)\ttotal: 431ms\tremaining: 1.26s\n",
      "75:\tlearn: 0.6876000\ttest: 0.6806312\tbest: 0.6806312 (75)\ttotal: 643ms\tremaining: 1.05s\n",
      "100:\tlearn: 0.6868522\ttest: 0.6801353\tbest: 0.6801353 (100)\ttotal: 846ms\tremaining: 829ms\n",
      "125:\tlearn: 0.6861739\ttest: 0.6796804\tbest: 0.6796804 (125)\ttotal: 1.05s\tremaining: 615ms\n",
      "150:\tlearn: 0.6854830\ttest: 0.6792388\tbest: 0.6792388 (150)\ttotal: 1.25s\tremaining: 405ms\n",
      "175:\tlearn: 0.6848621\ttest: 0.6788495\tbest: 0.6788495 (175)\ttotal: 1.46s\tremaining: 199ms\n",
      "199:\tlearn: 0.6842141\ttest: 0.6785176\tbest: 0.6785176 (199)\ttotal: 1.66s\tremaining: 0us\n",
      "\n",
      "bestTest = 0.6785175771\n",
      "bestIteration = 199\n",
      "\n",
      "0:\tlearn: 0.6927533\ttest: 0.6922101\tbest: 0.6922101 (0)\ttotal: 9.72ms\tremaining: 1.94s\n",
      "25:\tlearn: 0.6895629\ttest: 0.6836171\tbest: 0.6836171 (25)\ttotal: 203ms\tremaining: 1.36s\n",
      "50:\tlearn: 0.6885430\ttest: 0.6818033\tbest: 0.6818033 (50)\ttotal: 399ms\tremaining: 1.16s\n",
      "75:\tlearn: 0.6877872\ttest: 0.6808817\tbest: 0.6808817 (75)\ttotal: 596ms\tremaining: 972ms\n",
      "100:\tlearn: 0.6870634\ttest: 0.6802314\tbest: 0.6802314 (100)\ttotal: 792ms\tremaining: 777ms\n",
      "125:\tlearn: 0.6863485\ttest: 0.6796439\tbest: 0.6796439 (125)\ttotal: 988ms\tremaining: 580ms\n",
      "150:\tlearn: 0.6857026\ttest: 0.6791311\tbest: 0.6791311 (150)\ttotal: 1.19s\tremaining: 387ms\n",
      "175:\tlearn: 0.6850581\ttest: 0.6787375\tbest: 0.6787375 (175)\ttotal: 1.4s\tremaining: 190ms\n",
      "199:\tlearn: 0.6844429\ttest: 0.6784247\tbest: 0.6784247 (199)\ttotal: 1.59s\tremaining: 0us\n",
      "\n",
      "bestTest = 0.678424695\n",
      "bestIteration = 199\n",
      "\n"
     ]
    },
    {
     "name": "stderr",
     "output_type": "stream",
     "text": [
      "2022-03-30 13:42:54 mean cv_value 0.06459712940413358 | std cv_value 0.010407336925215048 \n",
      "2022-03-30 13:42:54 ---------------------------------------------\n",
      "2022-03-30 13:42:58 [TRAIN_MODEL] Training model\n",
      "2022-03-30 13:42:58 Set of params....., {'depth': 1, 'iterations': 125, 'learning_rate': 0.0010086700800497213, 'colsample_bylevel': 0.8739247853067639}\n"
     ]
    },
    {
     "name": "stdout",
     "output_type": "stream",
     "text": [
      "Iteration No: 154 ended. Search finished for the next optimal point.\n",
      "Time taken: 9.5536\n",
      "Function value obtained: -0.0646\n",
      "Current minimum: -0.0699\n",
      "Iteration No: 155 started. Searching for the next optimal point.\n",
      "0:\tlearn: 0.6931436\ttest: 0.6931396\tbest: 0.6931396 (0)\ttotal: 17.3ms\tremaining: 2.14s\n",
      "25:\tlearn: 0.6930645\ttest: 0.6929674\tbest: 0.6929674 (25)\ttotal: 152ms\tremaining: 578ms\n",
      "50:\tlearn: 0.6929871\ttest: 0.6927940\tbest: 0.6927940 (50)\ttotal: 279ms\tremaining: 404ms\n",
      "75:\tlearn: 0.6929090\ttest: 0.6926263\tbest: 0.6926263 (75)\ttotal: 403ms\tremaining: 260ms\n",
      "100:\tlearn: 0.6928399\ttest: 0.6924642\tbest: 0.6924642 (100)\ttotal: 544ms\tremaining: 129ms\n",
      "124:\tlearn: 0.6927837\ttest: 0.6923221\tbest: 0.6923221 (124)\ttotal: 670ms\tremaining: 0us\n",
      "\n",
      "bestTest = 0.6923220714\n",
      "bestIteration = 124\n",
      "\n",
      "0:\tlearn: 0.6931445\ttest: 0.6931396\tbest: 0.6931396 (0)\ttotal: 9.1ms\tremaining: 1.13s\n",
      "25:\tlearn: 0.6930694\ttest: 0.6929747\tbest: 0.6929747 (25)\ttotal: 142ms\tremaining: 539ms\n",
      "50:\tlearn: 0.6929954\ttest: 0.6928065\tbest: 0.6928065 (50)\ttotal: 271ms\tremaining: 393ms\n",
      "75:\tlearn: 0.6929164\ttest: 0.6926397\tbest: 0.6926397 (75)\ttotal: 400ms\tremaining: 258ms\n",
      "100:\tlearn: 0.6928520\ttest: 0.6924975\tbest: 0.6924975 (100)\ttotal: 528ms\tremaining: 125ms\n",
      "124:\tlearn: 0.6927946\ttest: 0.6923509\tbest: 0.6923509 (124)\ttotal: 646ms\tremaining: 0us\n",
      "\n",
      "bestTest = 0.6923509114\n",
      "bestIteration = 124\n",
      "\n",
      "0:\tlearn: 0.6931411\ttest: 0.6931404\tbest: 0.6931404 (0)\ttotal: 7.86ms\tremaining: 975ms\n",
      "25:\tlearn: 0.6930773\ttest: 0.6929825\tbest: 0.6929825 (25)\ttotal: 139ms\tremaining: 529ms\n",
      "50:\tlearn: 0.6930061\ttest: 0.6928323\tbest: 0.6928323 (50)\ttotal: 273ms\tremaining: 396ms\n",
      "75:\tlearn: 0.6929395\ttest: 0.6926841\tbest: 0.6926841 (75)\ttotal: 399ms\tremaining: 257ms\n"
     ]
    },
    {
     "name": "stderr",
     "output_type": "stream",
     "text": [
      "2022-03-30 13:43:00 mean cv_value 0.0481380854391692 | std cv_value 0.011739261501918532 \n",
      "2022-03-30 13:43:00 ---------------------------------------------\n"
     ]
    },
    {
     "name": "stdout",
     "output_type": "stream",
     "text": [
      "100:\tlearn: 0.6928915\ttest: 0.6925533\tbest: 0.6925533 (100)\ttotal: 525ms\tremaining: 125ms\n",
      "124:\tlearn: 0.6928306\ttest: 0.6924243\tbest: 0.6924243 (124)\ttotal: 645ms\tremaining: 0us\n",
      "\n",
      "bestTest = 0.6924243426\n",
      "bestIteration = 124\n",
      "\n"
     ]
    },
    {
     "name": "stderr",
     "output_type": "stream",
     "text": [
      "2022-03-30 13:43:04 [TRAIN_MODEL] Training model\n",
      "2022-03-30 13:43:04 Set of params....., {'depth': 4, 'iterations': 200, 'learning_rate': 0.07362643718299237, 'colsample_bylevel': 1.0}\n"
     ]
    },
    {
     "name": "stdout",
     "output_type": "stream",
     "text": [
      "Iteration No: 155 ended. Search finished for the next optimal point.\n",
      "Time taken: 6.6851\n",
      "Function value obtained: -0.0481\n",
      "Current minimum: -0.0699\n",
      "Iteration No: 156 started. Searching for the next optimal point.\n",
      "0:\tlearn: 0.6927231\ttest: 0.6921949\tbest: 0.6921949 (0)\ttotal: 10.4ms\tremaining: 2.06s\n",
      "25:\tlearn: 0.6892992\ttest: 0.6832554\tbest: 0.6832554 (25)\ttotal: 206ms\tremaining: 1.38s\n",
      "50:\tlearn: 0.6882668\ttest: 0.6813615\tbest: 0.6813615 (50)\ttotal: 404ms\tremaining: 1.18s\n",
      "75:\tlearn: 0.6874687\ttest: 0.6805190\tbest: 0.6805190 (75)\ttotal: 602ms\tremaining: 983ms\n",
      "100:\tlearn: 0.6867407\ttest: 0.6799169\tbest: 0.6799169 (100)\ttotal: 796ms\tremaining: 781ms\n",
      "125:\tlearn: 0.6860380\ttest: 0.6793104\tbest: 0.6793104 (125)\ttotal: 998ms\tremaining: 586ms\n",
      "150:\tlearn: 0.6853755\ttest: 0.6788575\tbest: 0.6788575 (150)\ttotal: 1.2s\tremaining: 388ms\n",
      "175:\tlearn: 0.6847515\ttest: 0.6784948\tbest: 0.6784948 (175)\ttotal: 1.41s\tremaining: 192ms\n",
      "199:\tlearn: 0.6840838\ttest: 0.6781496\tbest: 0.6781496 (199)\ttotal: 1.6s\tremaining: 0us\n",
      "\n",
      "bestTest = 0.6781496104\n",
      "bestIteration = 199\n",
      "\n",
      "0:\tlearn: 0.6927266\ttest: 0.6922461\tbest: 0.6922461 (0)\ttotal: 10.1ms\tremaining: 2.02s\n",
      "25:\tlearn: 0.6894645\ttest: 0.6834932\tbest: 0.6834932 (25)\ttotal: 213ms\tremaining: 1.43s\n",
      "50:\tlearn: 0.6884812\ttest: 0.6816554\tbest: 0.6816554 (50)\ttotal: 411ms\tremaining: 1.2s\n",
      "75:\tlearn: 0.6876375\ttest: 0.6807474\tbest: 0.6807474 (75)\ttotal: 614ms\tremaining: 1s\n",
      "100:\tlearn: 0.6869123\ttest: 0.6801030\tbest: 0.6801030 (100)\ttotal: 818ms\tremaining: 802ms\n",
      "125:\tlearn: 0.6862127\ttest: 0.6795869\tbest: 0.6795869 (125)\ttotal: 1.01s\tremaining: 596ms\n",
      "150:\tlearn: 0.6855714\ttest: 0.6791855\tbest: 0.6791855 (150)\ttotal: 1.21s\tremaining: 394ms\n",
      "175:\tlearn: 0.6849368\ttest: 0.6787760\tbest: 0.6787760 (175)\ttotal: 1.41s\tremaining: 193ms\n",
      "199:\tlearn: 0.6843595\ttest: 0.6785283\tbest: 0.6785283 (199)\ttotal: 1.61s\tremaining: 0us\n",
      "\n",
      "bestTest = 0.6785283494\n",
      "bestIteration = 199\n",
      "\n",
      "0:\tlearn: 0.6927527\ttest: 0.6922112\tbest: 0.6922112 (0)\ttotal: 20.1ms\tremaining: 3.99s\n",
      "25:\tlearn: 0.6895393\ttest: 0.6836692\tbest: 0.6836692 (25)\ttotal: 216ms\tremaining: 1.45s\n",
      "50:\tlearn: 0.6885156\ttest: 0.6817816\tbest: 0.6817816 (50)\ttotal: 418ms\tremaining: 1.22s\n",
      "75:\tlearn: 0.6877462\ttest: 0.6809162\tbest: 0.6809162 (75)\ttotal: 619ms\tremaining: 1.01s\n",
      "100:\tlearn: 0.6870280\ttest: 0.6802244\tbest: 0.6802244 (100)\ttotal: 819ms\tremaining: 802ms\n",
      "125:\tlearn: 0.6863588\ttest: 0.6797664\tbest: 0.6797664 (125)\ttotal: 1.01s\tremaining: 596ms\n",
      "150:\tlearn: 0.6856821\ttest: 0.6792575\tbest: 0.6792575 (150)\ttotal: 1.22s\tremaining: 395ms\n",
      "175:\tlearn: 0.6850209\ttest: 0.6788361\tbest: 0.6788361 (175)\ttotal: 1.41s\tremaining: 193ms\n"
     ]
    },
    {
     "name": "stderr",
     "output_type": "stream",
     "text": [
      "2022-03-30 13:43:10 mean cv_value 0.05750861931444914 | std cv_value 0.012341722700864 \n",
      "2022-03-30 13:43:10 ---------------------------------------------\n"
     ]
    },
    {
     "name": "stdout",
     "output_type": "stream",
     "text": [
      "199:\tlearn: 0.6843914\ttest: 0.6784438\tbest: 0.6784438 (199)\ttotal: 1.61s\tremaining: 0us\n",
      "\n",
      "bestTest = 0.67844385\n",
      "bestIteration = 199\n",
      "\n"
     ]
    },
    {
     "name": "stderr",
     "output_type": "stream",
     "text": [
      "2022-03-30 13:43:14 [TRAIN_MODEL] Training model\n",
      "2022-03-30 13:43:14 Set of params....., {'depth': 9, 'iterations': 6, 'learning_rate': 0.09129717974048396, 'colsample_bylevel': 0.7712481454285361}\n"
     ]
    },
    {
     "name": "stdout",
     "output_type": "stream",
     "text": [
      "Iteration No: 156 ended. Search finished for the next optimal point.\n",
      "Time taken: 9.5048\n",
      "Function value obtained: -0.0575\n",
      "Current minimum: -0.0699\n",
      "Iteration No: 157 started. Searching for the next optimal point.\n",
      "0:\tlearn: 0.6920035\ttest: 0.6915847\tbest: 0.6915847 (0)\ttotal: 33ms\tremaining: 165ms\n",
      "5:\tlearn: 0.6875030\ttest: 0.6855985\tbest: 0.6855985 (5)\ttotal: 201ms\tremaining: 0us\n",
      "\n",
      "bestTest = 0.6855984846\n",
      "bestIteration = 5\n",
      "\n",
      "0:\tlearn: 0.6919736\ttest: 0.6916414\tbest: 0.6916414 (0)\ttotal: 31.8ms\tremaining: 159ms\n",
      "5:\tlearn: 0.6874116\ttest: 0.6855478\tbest: 0.6855478 (5)\ttotal: 194ms\tremaining: 0us\n",
      "\n",
      "bestTest = 0.6855478407\n",
      "bestIteration = 5\n",
      "\n",
      "0:\tlearn: 0.6920073\ttest: 0.6915435\tbest: 0.6915435 (0)\ttotal: 32.1ms\tremaining: 161ms\n",
      "5:\tlearn: 0.6876076\ttest: 0.6857881\tbest: 0.6857881 (5)\ttotal: 200ms\tremaining: 0us\n",
      "\n",
      "bestTest = 0.6857880958\n",
      "bestIteration = 5\n",
      "\n"
     ]
    },
    {
     "name": "stderr",
     "output_type": "stream",
     "text": [
      "2022-03-30 13:43:15 mean cv_value 0.0538889569328156 | std cv_value 0.005269650795896674 \n",
      "2022-03-30 13:43:15 ---------------------------------------------\n",
      "2022-03-30 13:43:19 [TRAIN_MODEL] Training model\n",
      "2022-03-30 13:43:19 Set of params....., {'depth': 4, 'iterations': 148, 'learning_rate': 0.0800579186994541, 'colsample_bylevel': 1.0}\n"
     ]
    },
    {
     "name": "stdout",
     "output_type": "stream",
     "text": [
      "Iteration No: 157 ended. Search finished for the next optimal point.\n",
      "Time taken: 5.0268\n",
      "Function value obtained: -0.0539\n",
      "Current minimum: -0.0699\n",
      "Iteration No: 158 started. Searching for the next optimal point.\n",
      "0:\tlearn: 0.6926875\ttest: 0.6921134\tbest: 0.6921134 (0)\ttotal: 24.5ms\tremaining: 3.6s\n",
      "25:\tlearn: 0.6891671\ttest: 0.6830147\tbest: 0.6830147 (25)\ttotal: 237ms\tremaining: 1.11s\n",
      "50:\tlearn: 0.6881095\ttest: 0.6813354\tbest: 0.6813354 (50)\ttotal: 438ms\tremaining: 833ms\n",
      "75:\tlearn: 0.6872871\ttest: 0.6805293\tbest: 0.6805293 (75)\ttotal: 637ms\tremaining: 603ms\n",
      "100:\tlearn: 0.6864454\ttest: 0.6798567\tbest: 0.6798567 (100)\ttotal: 834ms\tremaining: 388ms\n",
      "125:\tlearn: 0.6856632\ttest: 0.6792332\tbest: 0.6792332 (125)\ttotal: 1.03s\tremaining: 180ms\n",
      "147:\tlearn: 0.6849692\ttest: 0.6788081\tbest: 0.6788081 (147)\ttotal: 1.21s\tremaining: 0us\n",
      "\n",
      "bestTest = 0.6788081036\n",
      "bestIteration = 147\n",
      "\n",
      "0:\tlearn: 0.6927020\ttest: 0.6921689\tbest: 0.6921689 (0)\ttotal: 12.1ms\tremaining: 1.78s\n",
      "25:\tlearn: 0.6893393\ttest: 0.6832262\tbest: 0.6832262 (25)\ttotal: 210ms\tremaining: 985ms\n",
      "50:\tlearn: 0.6883003\ttest: 0.6815837\tbest: 0.6815837 (50)\ttotal: 412ms\tremaining: 784ms\n",
      "75:\tlearn: 0.6874814\ttest: 0.6806856\tbest: 0.6806856 (75)\ttotal: 603ms\tremaining: 572ms\n",
      "100:\tlearn: 0.6867631\ttest: 0.6799735\tbest: 0.6799735 (100)\ttotal: 807ms\tremaining: 375ms\n",
      "125:\tlearn: 0.6860045\ttest: 0.6795064\tbest: 0.6795064 (125)\ttotal: 1s\tremaining: 175ms\n",
      "147:\tlearn: 0.6853297\ttest: 0.6790530\tbest: 0.6790530 (147)\ttotal: 1.18s\tremaining: 0us\n",
      "\n",
      "bestTest = 0.6790529887\n",
      "bestIteration = 147\n",
      "\n",
      "0:\tlearn: 0.6927197\ttest: 0.6921309\tbest: 0.6921309 (0)\ttotal: 26.9ms\tremaining: 3.95s\n",
      "25:\tlearn: 0.6894403\ttest: 0.6832988\tbest: 0.6832988 (25)\ttotal: 224ms\tremaining: 1.05s\n",
      "50:\tlearn: 0.6883950\ttest: 0.6815581\tbest: 0.6815581 (50)\ttotal: 414ms\tremaining: 788ms\n",
      "75:\tlearn: 0.6875662\ttest: 0.6807106\tbest: 0.6807106 (75)\ttotal: 608ms\tremaining: 576ms\n",
      "100:\tlearn: 0.6868529\ttest: 0.6800897\tbest: 0.6800897 (100)\ttotal: 807ms\tremaining: 375ms\n",
      "125:\tlearn: 0.6861194\ttest: 0.6795264\tbest: 0.6795264 (125)\ttotal: 1s\tremaining: 175ms\n"
     ]
    },
    {
     "name": "stderr",
     "output_type": "stream",
     "text": [
      "2022-03-30 13:43:23 mean cv_value 0.06261275342745005 | std cv_value 0.005956911466310097 \n",
      "2022-03-30 13:43:23 ---------------------------------------------\n"
     ]
    },
    {
     "name": "stdout",
     "output_type": "stream",
     "text": [
      "147:\tlearn: 0.6855146\ttest: 0.6791299\tbest: 0.6791299 (147)\ttotal: 1.18s\tremaining: 0us\n",
      "\n",
      "bestTest = 0.6791299242\n",
      "bestIteration = 147\n",
      "\n"
     ]
    },
    {
     "name": "stderr",
     "output_type": "stream",
     "text": [
      "2022-03-30 13:43:27 [TRAIN_MODEL] Training model\n",
      "2022-03-30 13:43:27 Set of params....., {'depth': 16, 'iterations': 196, 'learning_rate': 0.0010819474680442123, 'colsample_bylevel': 0.6481356173470706}\n"
     ]
    },
    {
     "name": "stdout",
     "output_type": "stream",
     "text": [
      "Iteration No: 158 ended. Search finished for the next optimal point.\n",
      "Time taken: 8.2261\n",
      "Function value obtained: -0.0626\n",
      "Current minimum: -0.0699\n",
      "Iteration No: 159 started. Searching for the next optimal point.\n",
      "0:\tlearn: 0.6930005\ttest: 0.6930692\tbest: 0.6930692 (0)\ttotal: 3.15s\tremaining: 10m 13s\n",
      "25:\tlearn: 0.6892825\ttest: 0.6910562\tbest: 0.6910562 (25)\ttotal: 1m 10s\tremaining: 7m 41s\n",
      "50:\tlearn: 0.6856447\ttest: 0.6891279\tbest: 0.6891279 (50)\ttotal: 2m 17s\tremaining: 6m 31s\n",
      "75:\tlearn: 0.6822090\ttest: 0.6872121\tbest: 0.6872121 (75)\ttotal: 3m 24s\tremaining: 5m 22s\n",
      "100:\tlearn: 0.6788556\ttest: 0.6854158\tbest: 0.6854158 (100)\ttotal: 4m 31s\tremaining: 4m 15s\n",
      "125:\tlearn: 0.6755678\ttest: 0.6836198\tbest: 0.6836198 (125)\ttotal: 5m 38s\tremaining: 3m 8s\n",
      "150:\tlearn: 0.6722937\ttest: 0.6818300\tbest: 0.6818300 (150)\ttotal: 6m 46s\tremaining: 2m 1s\n",
      "175:\tlearn: 0.6692291\ttest: 0.6801472\tbest: 0.6801472 (175)\ttotal: 7m 54s\tremaining: 53.9s\n",
      "195:\tlearn: 0.6666445\ttest: 0.6787469\tbest: 0.6787469 (195)\ttotal: 8m 47s\tremaining: 0us\n",
      "\n",
      "bestTest = 0.6787468714\n",
      "bestIteration = 195\n",
      "\n",
      "0:\tlearn: 0.6929815\ttest: 0.6930618\tbest: 0.6930618 (0)\ttotal: 2.74s\tremaining: 8m 54s\n",
      "25:\tlearn: 0.6892277\ttest: 0.6911167\tbest: 0.6911167 (25)\ttotal: 1m 11s\tremaining: 7m 45s\n",
      "50:\tlearn: 0.6855996\ttest: 0.6892661\tbest: 0.6892661 (50)\ttotal: 2m 19s\tremaining: 6m 37s\n",
      "75:\tlearn: 0.6820157\ttest: 0.6873760\tbest: 0.6873760 (75)\ttotal: 3m 27s\tremaining: 5m 27s\n",
      "100:\tlearn: 0.6785400\ttest: 0.6855777\tbest: 0.6855777 (100)\ttotal: 4m 36s\tremaining: 4m 20s\n",
      "125:\tlearn: 0.6752850\ttest: 0.6838091\tbest: 0.6838091 (125)\ttotal: 5m 43s\tremaining: 3m 10s\n",
      "150:\tlearn: 0.6720426\ttest: 0.6820927\tbest: 0.6820927 (150)\ttotal: 6m 51s\tremaining: 2m 2s\n",
      "175:\tlearn: 0.6688703\ttest: 0.6803911\tbest: 0.6803911 (175)\ttotal: 7m 59s\tremaining: 54.5s\n",
      "195:\tlearn: 0.6664229\ttest: 0.6790507\tbest: 0.6790507 (195)\ttotal: 8m 54s\tremaining: 0us\n",
      "\n",
      "bestTest = 0.6790506727\n",
      "bestIteration = 195\n",
      "\n",
      "0:\tlearn: 0.6929886\ttest: 0.6930675\tbest: 0.6930675 (0)\ttotal: 2.72s\tremaining: 8m 50s\n",
      "25:\tlearn: 0.6893126\ttest: 0.6911367\tbest: 0.6911367 (25)\ttotal: 1m 11s\tremaining: 7m 44s\n",
      "50:\tlearn: 0.6856872\ttest: 0.6892021\tbest: 0.6892021 (50)\ttotal: 2m 19s\tremaining: 6m 36s\n",
      "75:\tlearn: 0.6820532\ttest: 0.6872796\tbest: 0.6872796 (75)\ttotal: 3m 27s\tremaining: 5m 26s\n",
      "100:\tlearn: 0.6784762\ttest: 0.6853968\tbest: 0.6853968 (100)\ttotal: 4m 35s\tremaining: 4m 19s\n",
      "125:\tlearn: 0.6751430\ttest: 0.6835999\tbest: 0.6835999 (125)\ttotal: 5m 43s\tremaining: 3m 10s\n",
      "150:\tlearn: 0.6717690\ttest: 0.6818015\tbest: 0.6818015 (150)\ttotal: 6m 51s\tremaining: 2m 2s\n",
      "175:\tlearn: 0.6685821\ttest: 0.6800820\tbest: 0.6800820 (175)\ttotal: 7m 59s\tremaining: 54.5s\n",
      "195:\tlearn: 0.6661093\ttest: 0.6787631\tbest: 0.6787631 (195)\ttotal: 8m 53s\tremaining: 0us\n",
      "\n",
      "bestTest = 0.6787631452\n",
      "bestIteration = 195\n",
      "\n"
     ]
    },
    {
     "name": "stderr",
     "output_type": "stream",
     "text": [
      "2022-03-30 14:10:08 mean cv_value 0.021128823345381215 | std cv_value 0.011392400885025982 \n",
      "2022-03-30 14:10:08 ---------------------------------------------\n",
      "2022-03-30 14:10:17 [TRAIN_MODEL] Training model\n",
      "2022-03-30 14:10:17 Set of params....., {'depth': 3, 'iterations': 126, 'learning_rate': 0.15510074784007477, 'colsample_bylevel': 1.0}\n"
     ]
    },
    {
     "name": "stdout",
     "output_type": "stream",
     "text": [
      "Iteration No: 159 ended. Search finished for the next optimal point.\n",
      "Time taken: 1609.3260\n",
      "Function value obtained: -0.0211\n",
      "Current minimum: -0.0699\n",
      "Iteration No: 160 started. Searching for the next optimal point.\n",
      "0:\tlearn: 0.6923457\ttest: 0.6912659\tbest: 0.6912659 (0)\ttotal: 13.3ms\tremaining: 1.66s\n",
      "25:\tlearn: 0.6890468\ttest: 0.6821528\tbest: 0.6821528 (25)\ttotal: 196ms\tremaining: 753ms\n",
      "50:\tlearn: 0.6881078\ttest: 0.6809649\tbest: 0.6809649 (50)\ttotal: 372ms\tremaining: 548ms\n",
      "75:\tlearn: 0.6873257\ttest: 0.6802716\tbest: 0.6802716 (75)\ttotal: 540ms\tremaining: 355ms\n",
      "100:\tlearn: 0.6865177\ttest: 0.6797052\tbest: 0.6797052 (100)\ttotal: 712ms\tremaining: 176ms\n",
      "125:\tlearn: 0.6857749\ttest: 0.6792175\tbest: 0.6792175 (125)\ttotal: 883ms\tremaining: 0us\n",
      "\n",
      "bestTest = 0.6792175294\n",
      "bestIteration = 125\n",
      "\n",
      "0:\tlearn: 0.6924091\ttest: 0.6914275\tbest: 0.6914275 (0)\ttotal: 12.8ms\tremaining: 1.6s\n",
      "25:\tlearn: 0.6892334\ttest: 0.6823519\tbest: 0.6823519 (25)\ttotal: 186ms\tremaining: 716ms\n",
      "50:\tlearn: 0.6883204\ttest: 0.6810791\tbest: 0.6810791 (50)\ttotal: 360ms\tremaining: 530ms\n",
      "75:\tlearn: 0.6875631\ttest: 0.6804633\tbest: 0.6804633 (75)\ttotal: 533ms\tremaining: 351ms\n",
      "100:\tlearn: 0.6867253\ttest: 0.6799953\tbest: 0.6799953 (100)\ttotal: 716ms\tremaining: 177ms\n",
      "125:\tlearn: 0.6859850\ttest: 0.6795425\tbest: 0.6795425 (125)\ttotal: 884ms\tremaining: 0us\n",
      "\n",
      "bestTest = 0.6795425461\n",
      "bestIteration = 125\n",
      "\n",
      "0:\tlearn: 0.6924461\ttest: 0.6913555\tbest: 0.6913555 (0)\ttotal: 19.9ms\tremaining: 2.49s\n",
      "25:\tlearn: 0.6892581\ttest: 0.6824050\tbest: 0.6824050 (25)\ttotal: 189ms\tremaining: 729ms\n",
      "50:\tlearn: 0.6883622\ttest: 0.6810543\tbest: 0.6810543 (50)\ttotal: 358ms\tremaining: 527ms\n",
      "75:\tlearn: 0.6875707\ttest: 0.6805053\tbest: 0.6805053 (75)\ttotal: 526ms\tremaining: 346ms\n",
      "100:\tlearn: 0.6868164\ttest: 0.6800153\tbest: 0.6800153 (100)\ttotal: 693ms\tremaining: 172ms\n",
      "125:\tlearn: 0.6861694\ttest: 0.6796125\tbest: 0.6796125 (125)\ttotal: 862ms\tremaining: 0us\n",
      "\n",
      "bestTest = 0.6796125445\n",
      "bestIteration = 125\n",
      "\n"
     ]
    },
    {
     "name": "stderr",
     "output_type": "stream",
     "text": [
      "2022-03-30 14:10:20 mean cv_value 0.06539564567404538 | std cv_value 0.007888129036061628 \n",
      "2022-03-30 14:10:20 ---------------------------------------------\n",
      "2022-03-30 14:10:25 [TRAIN_MODEL] Training model\n",
      "2022-03-30 14:10:25 Set of params....., {'depth': 3, 'iterations': 126, 'learning_rate': 0.16963266438022756, 'colsample_bylevel': 1.0}\n"
     ]
    },
    {
     "name": "stdout",
     "output_type": "stream",
     "text": [
      "Iteration No: 160 ended. Search finished for the next optimal point.\n",
      "Time taken: 8.3095\n",
      "Function value obtained: -0.0654\n",
      "Current minimum: -0.0699\n",
      "Iteration No: 161 started. Searching for the next optimal point.\n",
      "0:\tlearn: 0.6922772\ttest: 0.6910968\tbest: 0.6910968 (0)\ttotal: 9.8ms\tremaining: 1.23s\n",
      "25:\tlearn: 0.6889014\ttest: 0.6817376\tbest: 0.6817376 (25)\ttotal: 185ms\tremaining: 711ms\n",
      "50:\tlearn: 0.6878593\ttest: 0.6806064\tbest: 0.6806064 (50)\ttotal: 358ms\tremaining: 527ms\n",
      "75:\tlearn: 0.6870060\ttest: 0.6799073\tbest: 0.6799073 (75)\ttotal: 526ms\tremaining: 346ms\n",
      "100:\tlearn: 0.6861128\ttest: 0.6793792\tbest: 0.6793792 (100)\ttotal: 710ms\tremaining: 176ms\n",
      "125:\tlearn: 0.6852430\ttest: 0.6788922\tbest: 0.6788922 (125)\ttotal: 891ms\tremaining: 0us\n",
      "\n",
      "bestTest = 0.6788921694\n",
      "bestIteration = 125\n",
      "\n",
      "0:\tlearn: 0.6923529\ttest: 0.6912729\tbest: 0.6912729 (0)\ttotal: 9.93ms\tremaining: 1.24s\n",
      "25:\tlearn: 0.6891212\ttest: 0.6819660\tbest: 0.6819660 (25)\ttotal: 184ms\tremaining: 706ms\n",
      "50:\tlearn: 0.6881535\ttest: 0.6809568\tbest: 0.6809568 (50)\ttotal: 355ms\tremaining: 522ms\n",
      "75:\tlearn: 0.6872728\ttest: 0.6802996\tbest: 0.6802996 (75)\ttotal: 530ms\tremaining: 349ms\n",
      "100:\tlearn: 0.6865002\ttest: 0.6799568\tbest: 0.6799568 (100)\ttotal: 707ms\tremaining: 175ms\n",
      "125:\tlearn: 0.6856246\ttest: 0.6793800\tbest: 0.6793800 (125)\ttotal: 878ms\tremaining: 0us\n",
      "\n",
      "bestTest = 0.6793799961\n",
      "bestIteration = 125\n",
      "\n",
      "0:\tlearn: 0.6923784\ttest: 0.6911940\tbest: 0.6911940 (0)\ttotal: 11.4ms\tremaining: 1.42s\n",
      "25:\tlearn: 0.6891414\ttest: 0.6823710\tbest: 0.6823710 (25)\ttotal: 185ms\tremaining: 713ms\n",
      "50:\tlearn: 0.6882271\ttest: 0.6811602\tbest: 0.6811602 (50)\ttotal: 351ms\tremaining: 516ms\n",
      "75:\tlearn: 0.6873787\ttest: 0.6804284\tbest: 0.6804284 (75)\ttotal: 522ms\tremaining: 343ms\n",
      "100:\tlearn: 0.6866590\ttest: 0.6797404\tbest: 0.6797404 (100)\ttotal: 691ms\tremaining: 171ms\n",
      "125:\tlearn: 0.6858878\ttest: 0.6794916\tbest: 0.6794916 (125)\ttotal: 863ms\tremaining: 0us\n",
      "\n",
      "bestTest = 0.6794915736\n",
      "bestIteration = 125\n",
      "\n"
     ]
    },
    {
     "name": "stderr",
     "output_type": "stream",
     "text": [
      "2022-03-30 14:10:28 mean cv_value 0.058187691745003746 | std cv_value 0.00906545561561697 \n",
      "2022-03-30 14:10:28 ---------------------------------------------\n",
      "2022-03-30 14:10:34 [TRAIN_MODEL] Training model\n",
      "2022-03-30 14:10:34 Set of params....., {'depth': 5, 'iterations': 154, 'learning_rate': 0.052824231149654656, 'colsample_bylevel': 1.0}\n"
     ]
    },
    {
     "name": "stdout",
     "output_type": "stream",
     "text": [
      "Iteration No: 161 ended. Search finished for the next optimal point.\n",
      "Time taken: 8.7966\n",
      "Function value obtained: -0.0582\n",
      "Current minimum: -0.0699\n",
      "Iteration No: 162 started. Searching for the next optimal point.\n",
      "0:\tlearn: 0.6928105\ttest: 0.6924457\tbest: 0.6924457 (0)\ttotal: 12.2ms\tremaining: 1.86s\n",
      "25:\tlearn: 0.6892223\ttest: 0.6838953\tbest: 0.6838953 (25)\ttotal: 248ms\tremaining: 1.22s\n",
      "50:\tlearn: 0.6879543\ttest: 0.6816269\tbest: 0.6816269 (50)\ttotal: 478ms\tremaining: 965ms\n",
      "75:\tlearn: 0.6868921\ttest: 0.6804927\tbest: 0.6804927 (75)\ttotal: 712ms\tremaining: 731ms\n",
      "100:\tlearn: 0.6859263\ttest: 0.6796428\tbest: 0.6796428 (100)\ttotal: 949ms\tremaining: 498ms\n",
      "125:\tlearn: 0.6849867\ttest: 0.6789162\tbest: 0.6789162 (125)\ttotal: 1.19s\tremaining: 264ms\n",
      "150:\tlearn: 0.6841053\ttest: 0.6782358\tbest: 0.6782358 (150)\ttotal: 1.42s\tremaining: 28.3ms\n",
      "153:\tlearn: 0.6840093\ttest: 0.6781694\tbest: 0.6781694 (153)\ttotal: 1.45s\tremaining: 0us\n",
      "\n",
      "bestTest = 0.6781693947\n",
      "bestIteration = 153\n",
      "\n",
      "0:\tlearn: 0.6928200\ttest: 0.6924592\tbest: 0.6924592 (0)\ttotal: 11.4ms\tremaining: 1.74s\n",
      "25:\tlearn: 0.6893217\ttest: 0.6840270\tbest: 0.6840270 (25)\ttotal: 246ms\tremaining: 1.21s\n",
      "50:\tlearn: 0.6880113\ttest: 0.6816584\tbest: 0.6816584 (50)\ttotal: 486ms\tremaining: 982ms\n",
      "75:\tlearn: 0.6869986\ttest: 0.6804915\tbest: 0.6804915 (75)\ttotal: 719ms\tremaining: 738ms\n",
      "100:\tlearn: 0.6860783\ttest: 0.6797041\tbest: 0.6797041 (100)\ttotal: 954ms\tremaining: 500ms\n",
      "125:\tlearn: 0.6852011\ttest: 0.6790236\tbest: 0.6790236 (125)\ttotal: 1.21s\tremaining: 268ms\n",
      "150:\tlearn: 0.6843599\ttest: 0.6784988\tbest: 0.6784988 (150)\ttotal: 1.45s\tremaining: 28.7ms\n",
      "153:\tlearn: 0.6842464\ttest: 0.6784300\tbest: 0.6784300 (153)\ttotal: 1.48s\tremaining: 0us\n",
      "\n",
      "bestTest = 0.678429959\n",
      "bestIteration = 153\n",
      "\n",
      "0:\tlearn: 0.6928242\ttest: 0.6924210\tbest: 0.6924210 (0)\ttotal: 11.6ms\tremaining: 1.77s\n",
      "25:\tlearn: 0.6894960\ttest: 0.6841629\tbest: 0.6841629 (25)\ttotal: 238ms\tremaining: 1.17s\n",
      "50:\tlearn: 0.6881763\ttest: 0.6818124\tbest: 0.6818124 (50)\ttotal: 479ms\tremaining: 968ms\n",
      "75:\tlearn: 0.6870973\ttest: 0.6807573\tbest: 0.6807573 (75)\ttotal: 724ms\tremaining: 743ms\n",
      "100:\tlearn: 0.6862147\ttest: 0.6799543\tbest: 0.6799543 (100)\ttotal: 964ms\tremaining: 506ms\n",
      "125:\tlearn: 0.6853857\ttest: 0.6792860\tbest: 0.6792860 (125)\ttotal: 1.21s\tremaining: 268ms\n"
     ]
    },
    {
     "name": "stderr",
     "output_type": "stream",
     "text": [
      "2022-03-30 14:10:39 mean cv_value 0.05852842230983498 | std cv_value 0.00885612580617229 \n",
      "2022-03-30 14:10:39 ---------------------------------------------\n"
     ]
    },
    {
     "name": "stdout",
     "output_type": "stream",
     "text": [
      "150:\tlearn: 0.6845994\ttest: 0.6786412\tbest: 0.6786412 (150)\ttotal: 1.45s\tremaining: 28.7ms\n",
      "153:\tlearn: 0.6845096\ttest: 0.6785686\tbest: 0.6785686 (153)\ttotal: 1.48s\tremaining: 0us\n",
      "\n",
      "bestTest = 0.678568604\n",
      "bestIteration = 153\n",
      "\n"
     ]
    },
    {
     "name": "stderr",
     "output_type": "stream",
     "text": [
      "2022-03-30 14:10:43 [TRAIN_MODEL] Training model\n",
      "2022-03-30 14:10:43 Set of params....., {'depth': 7, 'iterations': 156, 'learning_rate': 0.017460944626594775, 'colsample_bylevel': 1.0}\n"
     ]
    },
    {
     "name": "stdout",
     "output_type": "stream",
     "text": [
      "Iteration No: 162 ended. Search finished for the next optimal point.\n",
      "Time taken: 9.3759\n",
      "Function value obtained: -0.0585\n",
      "Current minimum: -0.0699\n",
      "Iteration No: 163 started. Searching for the next optimal point.\n",
      "0:\tlearn: 0.6929984\ttest: 0.6928978\tbest: 0.6928978 (0)\ttotal: 16.6ms\tremaining: 2.57s\n",
      "25:\tlearn: 0.6902717\ttest: 0.6878660\tbest: 0.6878660 (25)\ttotal: 388ms\tremaining: 1.94s\n",
      "50:\tlearn: 0.6885151\ttest: 0.6847445\tbest: 0.6847445 (50)\ttotal: 759ms\tremaining: 1.56s\n",
      "75:\tlearn: 0.6871494\ttest: 0.6825913\tbest: 0.6825913 (75)\ttotal: 1.12s\tremaining: 1.18s\n",
      "100:\tlearn: 0.6860567\ttest: 0.6811516\tbest: 0.6811516 (100)\ttotal: 1.47s\tremaining: 802ms\n",
      "125:\tlearn: 0.6851372\ttest: 0.6801636\tbest: 0.6801636 (125)\ttotal: 1.82s\tremaining: 434ms\n",
      "150:\tlearn: 0.6842648\ttest: 0.6792926\tbest: 0.6792926 (150)\ttotal: 2.17s\tremaining: 71.9ms\n",
      "155:\tlearn: 0.6840781\ttest: 0.6791243\tbest: 0.6791243 (155)\ttotal: 2.24s\tremaining: 0us\n",
      "\n",
      "bestTest = 0.6791243162\n",
      "bestIteration = 155\n",
      "\n",
      "0:\tlearn: 0.6930014\ttest: 0.6928984\tbest: 0.6928984 (0)\ttotal: 16.8ms\tremaining: 2.61s\n",
      "25:\tlearn: 0.6903315\ttest: 0.6878571\tbest: 0.6878571 (25)\ttotal: 383ms\tremaining: 1.91s\n",
      "50:\tlearn: 0.6885929\ttest: 0.6847662\tbest: 0.6847662 (50)\ttotal: 733ms\tremaining: 1.51s\n",
      "75:\tlearn: 0.6872637\ttest: 0.6826673\tbest: 0.6826673 (75)\ttotal: 1.1s\tremaining: 1.16s\n",
      "100:\tlearn: 0.6861316\ttest: 0.6812029\tbest: 0.6812029 (100)\ttotal: 1.44s\tremaining: 787ms\n",
      "125:\tlearn: 0.6851077\ttest: 0.6800805\tbest: 0.6800805 (125)\ttotal: 1.79s\tremaining: 426ms\n",
      "150:\tlearn: 0.6842099\ttest: 0.6792599\tbest: 0.6792599 (150)\ttotal: 2.13s\tremaining: 70.6ms\n",
      "155:\tlearn: 0.6840281\ttest: 0.6790989\tbest: 0.6790989 (155)\ttotal: 2.2s\tremaining: 0us\n",
      "\n",
      "bestTest = 0.6790988696\n",
      "bestIteration = 155\n",
      "\n",
      "0:\tlearn: 0.6930047\ttest: 0.6928818\tbest: 0.6928818 (0)\ttotal: 17.7ms\tremaining: 2.75s\n",
      "25:\tlearn: 0.6904660\ttest: 0.6879563\tbest: 0.6879563 (25)\ttotal: 377ms\tremaining: 1.88s\n",
      "50:\tlearn: 0.6888067\ttest: 0.6849156\tbest: 0.6849156 (50)\ttotal: 727ms\tremaining: 1.5s\n",
      "75:\tlearn: 0.6875018\ttest: 0.6828648\tbest: 0.6828648 (75)\ttotal: 1.08s\tremaining: 1.14s\n",
      "100:\tlearn: 0.6864016\ttest: 0.6814156\tbest: 0.6814156 (100)\ttotal: 1.42s\tremaining: 775ms\n",
      "125:\tlearn: 0.6854112\ttest: 0.6803618\tbest: 0.6803618 (125)\ttotal: 1.77s\tremaining: 421ms\n"
     ]
    },
    {
     "name": "stderr",
     "output_type": "stream",
     "text": [
      "2022-03-30 14:10:50 mean cv_value 0.06395544064869974 | std cv_value 0.007630628511341183 \n",
      "2022-03-30 14:10:50 ---------------------------------------------\n"
     ]
    },
    {
     "name": "stdout",
     "output_type": "stream",
     "text": [
      "150:\tlearn: 0.6844672\ttest: 0.6794928\tbest: 0.6794928 (150)\ttotal: 2.11s\tremaining: 70ms\n",
      "155:\tlearn: 0.6842837\ttest: 0.6793319\tbest: 0.6793319 (155)\ttotal: 2.18s\tremaining: 0us\n",
      "\n",
      "bestTest = 0.6793319005\n",
      "bestIteration = 155\n",
      "\n"
     ]
    },
    {
     "name": "stderr",
     "output_type": "stream",
     "text": [
      "2022-03-30 14:10:55 [TRAIN_MODEL] Training model\n",
      "2022-03-30 14:10:55 Set of params....., {'depth': 7, 'iterations': 200, 'learning_rate': 0.020784994739596063, 'colsample_bylevel': 1.0}\n"
     ]
    },
    {
     "name": "stdout",
     "output_type": "stream",
     "text": [
      "Iteration No: 163 ended. Search finished for the next optimal point.\n",
      "Time taken: 11.8611\n",
      "Function value obtained: -0.0640\n",
      "Current minimum: -0.0699\n",
      "Iteration No: 164 started. Searching for the next optimal point.\n",
      "0:\tlearn: 0.6929814\ttest: 0.6928506\tbest: 0.6928506 (0)\ttotal: 16.8ms\tremaining: 3.35s\n",
      "25:\tlearn: 0.6898801\ttest: 0.6871342\tbest: 0.6871342 (25)\ttotal: 381ms\tremaining: 2.55s\n",
      "50:\tlearn: 0.6879546\ttest: 0.6837995\tbest: 0.6837995 (50)\ttotal: 738ms\tremaining: 2.15s\n",
      "75:\tlearn: 0.6864679\ttest: 0.6816758\tbest: 0.6816758 (75)\ttotal: 1.09s\tremaining: 1.77s\n",
      "100:\tlearn: 0.6852607\ttest: 0.6802240\tbest: 0.6802240 (100)\ttotal: 1.43s\tremaining: 1.4s\n",
      "125:\tlearn: 0.6842853\ttest: 0.6792543\tbest: 0.6792543 (125)\ttotal: 1.77s\tremaining: 1.04s\n",
      "150:\tlearn: 0.6833097\ttest: 0.6783855\tbest: 0.6783855 (150)\ttotal: 2.1s\tremaining: 683ms\n",
      "175:\tlearn: 0.6823761\ttest: 0.6776673\tbest: 0.6776673 (175)\ttotal: 2.44s\tremaining: 333ms\n",
      "199:\tlearn: 0.6814900\ttest: 0.6770357\tbest: 0.6770357 (199)\ttotal: 2.78s\tremaining: 0us\n",
      "\n",
      "bestTest = 0.6770357105\n",
      "bestIteration = 199\n",
      "\n",
      "0:\tlearn: 0.6929722\ttest: 0.6928513\tbest: 0.6928513 (0)\ttotal: 17.6ms\tremaining: 3.5s\n",
      "25:\tlearn: 0.6899551\ttest: 0.6871285\tbest: 0.6871285 (25)\ttotal: 369ms\tremaining: 2.47s\n",
      "50:\tlearn: 0.6881031\ttest: 0.6838389\tbest: 0.6838389 (50)\ttotal: 716ms\tremaining: 2.09s\n",
      "75:\tlearn: 0.6866598\ttest: 0.6817538\tbest: 0.6817538 (75)\ttotal: 1.07s\tremaining: 1.74s\n",
      "100:\tlearn: 0.6853842\ttest: 0.6803612\tbest: 0.6803612 (100)\ttotal: 1.41s\tremaining: 1.39s\n",
      "125:\tlearn: 0.6842795\ttest: 0.6792798\tbest: 0.6792798 (125)\ttotal: 1.76s\tremaining: 1.04s\n",
      "150:\tlearn: 0.6833011\ttest: 0.6784393\tbest: 0.6784393 (150)\ttotal: 2.1s\tremaining: 683ms\n",
      "175:\tlearn: 0.6823285\ttest: 0.6776664\tbest: 0.6776664 (175)\ttotal: 2.44s\tremaining: 333ms\n",
      "199:\tlearn: 0.6814640\ttest: 0.6770303\tbest: 0.6770303 (199)\ttotal: 2.77s\tremaining: 0us\n",
      "\n",
      "bestTest = 0.6770302707\n",
      "bestIteration = 199\n",
      "\n",
      "0:\tlearn: 0.6929775\ttest: 0.6928317\tbest: 0.6928317 (0)\ttotal: 17ms\tremaining: 3.39s\n",
      "25:\tlearn: 0.6900637\ttest: 0.6872081\tbest: 0.6872081 (25)\ttotal: 379ms\tremaining: 2.53s\n",
      "50:\tlearn: 0.6882769\ttest: 0.6840308\tbest: 0.6840308 (50)\ttotal: 734ms\tremaining: 2.14s\n",
      "75:\tlearn: 0.6869010\ttest: 0.6820446\tbest: 0.6820446 (75)\ttotal: 1.18s\tremaining: 1.92s\n",
      "100:\tlearn: 0.6856946\ttest: 0.6806260\tbest: 0.6806260 (100)\ttotal: 1.53s\tremaining: 1.5s\n",
      "125:\tlearn: 0.6846068\ttest: 0.6795237\tbest: 0.6795237 (125)\ttotal: 1.87s\tremaining: 1.1s\n",
      "150:\tlearn: 0.6836015\ttest: 0.6786703\tbest: 0.6786703 (150)\ttotal: 2.26s\tremaining: 733ms\n",
      "175:\tlearn: 0.6826020\ttest: 0.6779354\tbest: 0.6779354 (175)\ttotal: 2.6s\tremaining: 355ms\n"
     ]
    },
    {
     "name": "stderr",
     "output_type": "stream",
     "text": [
      "2022-03-30 14:11:04 mean cv_value 0.0643917168377 | std cv_value 0.008734513621596444 \n",
      "2022-03-30 14:11:04 ---------------------------------------------\n"
     ]
    },
    {
     "name": "stdout",
     "output_type": "stream",
     "text": [
      "199:\tlearn: 0.6816824\ttest: 0.6772574\tbest: 0.6772574 (199)\ttotal: 2.92s\tremaining: 0us\n",
      "\n",
      "bestTest = 0.6772574334\n",
      "bestIteration = 199\n",
      "\n"
     ]
    },
    {
     "name": "stderr",
     "output_type": "stream",
     "text": [
      "2022-03-30 14:11:09 [TRAIN_MODEL] Training model\n",
      "2022-03-30 14:11:09 Set of params....., {'depth': 7, 'iterations': 200, 'learning_rate': 0.02082285384344884, 'colsample_bylevel': 1.0}\n"
     ]
    },
    {
     "name": "stdout",
     "output_type": "stream",
     "text": [
      "Iteration No: 164 ended. Search finished for the next optimal point.\n",
      "Time taken: 13.6569\n",
      "Function value obtained: -0.0644\n",
      "Current minimum: -0.0699\n",
      "Iteration No: 165 started. Searching for the next optimal point.\n",
      "0:\tlearn: 0.6929802\ttest: 0.6928501\tbest: 0.6928501 (0)\ttotal: 54.3ms\tremaining: 10.8s\n",
      "25:\tlearn: 0.6898757\ttest: 0.6871262\tbest: 0.6871262 (25)\ttotal: 420ms\tremaining: 2.81s\n",
      "50:\tlearn: 0.6879488\ttest: 0.6837896\tbest: 0.6837896 (50)\ttotal: 774ms\tremaining: 2.26s\n",
      "75:\tlearn: 0.6864618\ttest: 0.6816746\tbest: 0.6816746 (75)\ttotal: 1.12s\tremaining: 1.83s\n",
      "100:\tlearn: 0.6852355\ttest: 0.6801753\tbest: 0.6801753 (100)\ttotal: 1.46s\tremaining: 1.43s\n",
      "125:\tlearn: 0.6842560\ttest: 0.6791848\tbest: 0.6791848 (125)\ttotal: 1.8s\tremaining: 1.06s\n",
      "150:\tlearn: 0.6832657\ttest: 0.6783219\tbest: 0.6783219 (150)\ttotal: 2.14s\tremaining: 694ms\n",
      "175:\tlearn: 0.6823076\ttest: 0.6775978\tbest: 0.6775978 (175)\ttotal: 2.48s\tremaining: 338ms\n",
      "199:\tlearn: 0.6813913\ttest: 0.6769331\tbest: 0.6769331 (199)\ttotal: 2.8s\tremaining: 0us\n",
      "\n",
      "bestTest = 0.6769330782\n",
      "bestIteration = 199\n",
      "\n",
      "0:\tlearn: 0.6929730\ttest: 0.6928507\tbest: 0.6928507 (0)\ttotal: 50ms\tremaining: 9.96s\n",
      "25:\tlearn: 0.6899269\ttest: 0.6871250\tbest: 0.6871250 (25)\ttotal: 423ms\tremaining: 2.83s\n",
      "50:\tlearn: 0.6880560\ttest: 0.6838279\tbest: 0.6838279 (50)\ttotal: 771ms\tremaining: 2.25s\n",
      "75:\tlearn: 0.6866160\ttest: 0.6817834\tbest: 0.6817834 (75)\ttotal: 1.12s\tremaining: 1.83s\n",
      "100:\tlearn: 0.6853380\ttest: 0.6802669\tbest: 0.6802669 (100)\ttotal: 1.47s\tremaining: 1.45s\n",
      "125:\tlearn: 0.6842449\ttest: 0.6792263\tbest: 0.6792263 (125)\ttotal: 1.82s\tremaining: 1.07s\n",
      "150:\tlearn: 0.6832277\ttest: 0.6783962\tbest: 0.6783962 (150)\ttotal: 2.16s\tremaining: 700ms\n",
      "175:\tlearn: 0.6822346\ttest: 0.6776233\tbest: 0.6776233 (175)\ttotal: 2.5s\tremaining: 341ms\n",
      "199:\tlearn: 0.6813592\ttest: 0.6769986\tbest: 0.6769986 (199)\ttotal: 2.83s\tremaining: 0us\n",
      "\n",
      "bestTest = 0.6769986215\n",
      "bestIteration = 199\n",
      "\n",
      "0:\tlearn: 0.6929770\ttest: 0.6928311\tbest: 0.6928311 (0)\ttotal: 17ms\tremaining: 3.39s\n",
      "25:\tlearn: 0.6900762\ttest: 0.6872778\tbest: 0.6872778 (25)\ttotal: 369ms\tremaining: 2.47s\n",
      "50:\tlearn: 0.6882879\ttest: 0.6840457\tbest: 0.6840457 (50)\ttotal: 718ms\tremaining: 2.1s\n",
      "75:\tlearn: 0.6868524\ttest: 0.6819774\tbest: 0.6819774 (75)\ttotal: 1.06s\tremaining: 1.74s\n",
      "100:\tlearn: 0.6856573\ttest: 0.6806108\tbest: 0.6806108 (100)\ttotal: 1.41s\tremaining: 1.38s\n",
      "125:\tlearn: 0.6845531\ttest: 0.6794979\tbest: 0.6794979 (125)\ttotal: 1.75s\tremaining: 1.03s\n",
      "150:\tlearn: 0.6835462\ttest: 0.6786075\tbest: 0.6786075 (150)\ttotal: 2.09s\tremaining: 678ms\n",
      "175:\tlearn: 0.6825351\ttest: 0.6778169\tbest: 0.6778169 (175)\ttotal: 2.43s\tremaining: 332ms\n"
     ]
    },
    {
     "name": "stderr",
     "output_type": "stream",
     "text": [
      "2022-03-30 14:11:18 mean cv_value 0.05951657558320924 | std cv_value 0.006699346955635301 \n",
      "2022-03-30 14:11:18 ---------------------------------------------\n"
     ]
    },
    {
     "name": "stdout",
     "output_type": "stream",
     "text": [
      "199:\tlearn: 0.6816857\ttest: 0.6772150\tbest: 0.6772150 (199)\ttotal: 2.75s\tremaining: 0us\n",
      "\n",
      "bestTest = 0.6772149719\n",
      "bestIteration = 199\n",
      "\n"
     ]
    },
    {
     "name": "stderr",
     "output_type": "stream",
     "text": [
      "2022-03-30 14:11:22 [TRAIN_MODEL] Training model\n",
      "2022-03-30 14:11:22 Set of params....., {'depth': 7, 'iterations': 149, 'learning_rate': 0.016902810036748376, 'colsample_bylevel': 1.0}\n"
     ]
    },
    {
     "name": "stdout",
     "output_type": "stream",
     "text": [
      "Iteration No: 165 ended. Search finished for the next optimal point.\n",
      "Time taken: 13.5936\n",
      "Function value obtained: -0.0595\n",
      "Current minimum: -0.0699\n",
      "Iteration No: 166 started. Searching for the next optimal point.\n",
      "0:\tlearn: 0.6930111\ttest: 0.6929057\tbest: 0.6929057 (0)\ttotal: 16.2ms\tremaining: 2.4s\n",
      "25:\tlearn: 0.6903443\ttest: 0.6880074\tbest: 0.6880074 (25)\ttotal: 382ms\tremaining: 1.81s\n",
      "50:\tlearn: 0.6886217\ttest: 0.6849183\tbest: 0.6849183 (50)\ttotal: 740ms\tremaining: 1.42s\n",
      "75:\tlearn: 0.6872994\ttest: 0.6828349\tbest: 0.6828349 (75)\ttotal: 1.08s\tremaining: 1.04s\n",
      "100:\tlearn: 0.6861936\ttest: 0.6813585\tbest: 0.6813585 (100)\ttotal: 1.43s\tremaining: 681ms\n",
      "125:\tlearn: 0.6852528\ttest: 0.6803228\tbest: 0.6803228 (125)\ttotal: 1.77s\tremaining: 323ms\n",
      "148:\tlearn: 0.6844791\ttest: 0.6795283\tbest: 0.6795283 (148)\ttotal: 2.08s\tremaining: 0us\n",
      "\n",
      "bestTest = 0.6795283173\n",
      "bestIteration = 148\n",
      "\n",
      "0:\tlearn: 0.6930058\ttest: 0.6929063\tbest: 0.6929063 (0)\ttotal: 23.4ms\tremaining: 3.46s\n",
      "25:\tlearn: 0.6903760\ttest: 0.6880266\tbest: 0.6880266 (25)\ttotal: 387ms\tremaining: 1.83s\n",
      "50:\tlearn: 0.6886939\ttest: 0.6849411\tbest: 0.6849411 (50)\ttotal: 737ms\tremaining: 1.42s\n",
      "75:\tlearn: 0.6873915\ttest: 0.6828725\tbest: 0.6828725 (75)\ttotal: 1.08s\tremaining: 1.04s\n",
      "100:\tlearn: 0.6863121\ttest: 0.6814198\tbest: 0.6814198 (100)\ttotal: 1.43s\tremaining: 678ms\n",
      "125:\tlearn: 0.6853139\ttest: 0.6803012\tbest: 0.6803012 (125)\ttotal: 1.77s\tremaining: 323ms\n",
      "148:\tlearn: 0.6844938\ttest: 0.6795005\tbest: 0.6795005 (148)\ttotal: 2.08s\tremaining: 0us\n",
      "\n",
      "bestTest = 0.6795004865\n",
      "bestIteration = 148\n",
      "\n",
      "0:\tlearn: 0.6930073\ttest: 0.6928903\tbest: 0.6928903 (0)\ttotal: 17ms\tremaining: 2.52s\n",
      "25:\tlearn: 0.6904990\ttest: 0.6880568\tbest: 0.6880568 (25)\ttotal: 379ms\tremaining: 1.79s\n",
      "50:\tlearn: 0.6888746\ttest: 0.6851218\tbest: 0.6851218 (50)\ttotal: 736ms\tremaining: 1.42s\n",
      "75:\tlearn: 0.6875967\ttest: 0.6831285\tbest: 0.6831285 (75)\ttotal: 1.09s\tremaining: 1.04s\n",
      "100:\tlearn: 0.6864660\ttest: 0.6816085\tbest: 0.6816085 (100)\ttotal: 1.43s\tremaining: 682ms\n",
      "125:\tlearn: 0.6854902\ttest: 0.6804428\tbest: 0.6804428 (125)\ttotal: 1.78s\tremaining: 325ms\n"
     ]
    },
    {
     "name": "stderr",
     "output_type": "stream",
     "text": [
      "2022-03-30 14:11:29 mean cv_value 0.06406363068287484 | std cv_value 0.009424699435290488 \n",
      "2022-03-30 14:11:29 ---------------------------------------------\n"
     ]
    },
    {
     "name": "stdout",
     "output_type": "stream",
     "text": [
      "148:\tlearn: 0.6846620\ttest: 0.6796852\tbest: 0.6796852 (148)\ttotal: 2.09s\tremaining: 0us\n",
      "\n",
      "bestTest = 0.6796851541\n",
      "bestIteration = 148\n",
      "\n"
     ]
    },
    {
     "name": "stderr",
     "output_type": "stream",
     "text": [
      "2022-03-30 14:11:34 [TRAIN_MODEL] Training model\n",
      "2022-03-30 14:11:34 Set of params....., {'depth': 7, 'iterations': 149, 'learning_rate': 0.016719934419093023, 'colsample_bylevel': 1.0}\n"
     ]
    },
    {
     "name": "stdout",
     "output_type": "stream",
     "text": [
      "Iteration No: 166 ended. Search finished for the next optimal point.\n",
      "Time taken: 11.8661\n",
      "Function value obtained: -0.0641\n",
      "Current minimum: -0.0699\n",
      "Iteration No: 167 started. Searching for the next optimal point.\n",
      "0:\tlearn: 0.6930093\ttest: 0.6929083\tbest: 0.6929083 (0)\ttotal: 18.3ms\tremaining: 2.7s\n",
      "25:\tlearn: 0.6903654\ttest: 0.6880530\tbest: 0.6880530 (25)\ttotal: 379ms\tremaining: 1.79s\n",
      "50:\tlearn: 0.6886821\ttest: 0.6849785\tbest: 0.6849785 (50)\ttotal: 736ms\tremaining: 1.41s\n",
      "75:\tlearn: 0.6873638\ttest: 0.6828422\tbest: 0.6828422 (75)\ttotal: 1.08s\tremaining: 1.04s\n",
      "100:\tlearn: 0.6862944\ttest: 0.6814191\tbest: 0.6814191 (100)\ttotal: 1.42s\tremaining: 676ms\n",
      "125:\tlearn: 0.6853671\ttest: 0.6802871\tbest: 0.6802871 (125)\ttotal: 1.77s\tremaining: 322ms\n",
      "148:\tlearn: 0.6845641\ttest: 0.6795091\tbest: 0.6795091 (148)\ttotal: 2.08s\tremaining: 0us\n",
      "\n",
      "bestTest = 0.679509065\n",
      "bestIteration = 148\n",
      "\n",
      "0:\tlearn: 0.6930075\ttest: 0.6929089\tbest: 0.6929089 (0)\ttotal: 16.8ms\tremaining: 2.48s\n",
      "25:\tlearn: 0.6904133\ttest: 0.6880173\tbest: 0.6880173 (25)\ttotal: 372ms\tremaining: 1.76s\n",
      "50:\tlearn: 0.6887519\ttest: 0.6850141\tbest: 0.6850141 (50)\ttotal: 722ms\tremaining: 1.39s\n",
      "75:\tlearn: 0.6874673\ttest: 0.6829350\tbest: 0.6829350 (75)\ttotal: 1.07s\tremaining: 1.03s\n",
      "100:\tlearn: 0.6863167\ttest: 0.6814470\tbest: 0.6814470 (100)\ttotal: 1.43s\tremaining: 680ms\n",
      "125:\tlearn: 0.6853586\ttest: 0.6803965\tbest: 0.6803965 (125)\ttotal: 1.78s\tremaining: 324ms\n",
      "148:\tlearn: 0.6845174\ttest: 0.6795871\tbest: 0.6795871 (148)\ttotal: 2.09s\tremaining: 0us\n",
      "\n",
      "bestTest = 0.6795871221\n",
      "bestIteration = 148\n",
      "\n",
      "0:\tlearn: 0.6930079\ttest: 0.6928930\tbest: 0.6928930 (0)\ttotal: 17.4ms\tremaining: 2.58s\n",
      "25:\tlearn: 0.6905215\ttest: 0.6880973\tbest: 0.6880973 (25)\ttotal: 377ms\tremaining: 1.78s\n",
      "50:\tlearn: 0.6889111\ttest: 0.6851295\tbest: 0.6851295 (50)\ttotal: 729ms\tremaining: 1.4s\n",
      "75:\tlearn: 0.6876559\ttest: 0.6831244\tbest: 0.6831244 (75)\ttotal: 1.08s\tremaining: 1.04s\n",
      "100:\tlearn: 0.6865661\ttest: 0.6816785\tbest: 0.6816785 (100)\ttotal: 1.43s\tremaining: 678ms\n",
      "125:\tlearn: 0.6856145\ttest: 0.6805819\tbest: 0.6805819 (125)\ttotal: 1.77s\tremaining: 323ms\n"
     ]
    },
    {
     "name": "stderr",
     "output_type": "stream",
     "text": [
      "2022-03-30 14:11:41 mean cv_value 0.06251962437509812 | std cv_value 0.010472378911707953 \n",
      "2022-03-30 14:11:41 ---------------------------------------------\n"
     ]
    },
    {
     "name": "stdout",
     "output_type": "stream",
     "text": [
      "148:\tlearn: 0.6847317\ttest: 0.6796988\tbest: 0.6796988 (148)\ttotal: 2.09s\tremaining: 0us\n",
      "\n",
      "bestTest = 0.6796987687\n",
      "bestIteration = 148\n",
      "\n"
     ]
    },
    {
     "name": "stderr",
     "output_type": "stream",
     "text": [
      "2022-03-30 14:11:46 [TRAIN_MODEL] Training model\n",
      "2022-03-30 14:11:46 Set of params....., {'depth': 6, 'iterations': 153, 'learning_rate': 0.01927252361733743, 'colsample_bylevel': 1.0}\n"
     ]
    },
    {
     "name": "stdout",
     "output_type": "stream",
     "text": [
      "Iteration No: 167 ended. Search finished for the next optimal point.\n",
      "Time taken: 11.7113\n",
      "Function value obtained: -0.0625\n",
      "Current minimum: -0.0699\n",
      "Iteration No: 168 started. Searching for the next optimal point.\n",
      "0:\tlearn: 0.6930144\ttest: 0.6928826\tbest: 0.6928826 (0)\ttotal: 23.8ms\tremaining: 3.62s\n",
      "25:\tlearn: 0.6905805\ttest: 0.6877569\tbest: 0.6877569 (25)\ttotal: 331ms\tremaining: 1.62s\n",
      "50:\tlearn: 0.6892223\ttest: 0.6848654\tbest: 0.6848654 (50)\ttotal: 612ms\tremaining: 1.22s\n",
      "75:\tlearn: 0.6882461\ttest: 0.6830490\tbest: 0.6830490 (75)\ttotal: 898ms\tremaining: 910ms\n",
      "100:\tlearn: 0.6875019\ttest: 0.6818963\tbest: 0.6818963 (100)\ttotal: 1.18s\tremaining: 607ms\n",
      "125:\tlearn: 0.6868147\ttest: 0.6810304\tbest: 0.6810304 (125)\ttotal: 1.46s\tremaining: 313ms\n",
      "150:\tlearn: 0.6862014\ttest: 0.6803397\tbest: 0.6803397 (150)\ttotal: 1.75s\tremaining: 23.1ms\n",
      "152:\tlearn: 0.6861503\ttest: 0.6802853\tbest: 0.6802853 (152)\ttotal: 1.77s\tremaining: 0us\n",
      "\n",
      "bestTest = 0.680285334\n",
      "bestIteration = 152\n",
      "\n",
      "0:\tlearn: 0.6930103\ttest: 0.6928852\tbest: 0.6928852 (0)\ttotal: 24.6ms\tremaining: 3.74s\n",
      "25:\tlearn: 0.6906313\ttest: 0.6878405\tbest: 0.6878405 (25)\ttotal: 320ms\tremaining: 1.56s\n",
      "50:\tlearn: 0.6892842\ttest: 0.6849702\tbest: 0.6849702 (50)\ttotal: 602ms\tremaining: 1.2s\n",
      "75:\tlearn: 0.6883323\ttest: 0.6831499\tbest: 0.6831499 (75)\ttotal: 883ms\tremaining: 895ms\n",
      "100:\tlearn: 0.6875503\ttest: 0.6819943\tbest: 0.6819943 (100)\ttotal: 1.17s\tremaining: 601ms\n",
      "125:\tlearn: 0.6868458\ttest: 0.6811663\tbest: 0.6811663 (125)\ttotal: 1.44s\tremaining: 309ms\n",
      "150:\tlearn: 0.6862238\ttest: 0.6804433\tbest: 0.6804433 (150)\ttotal: 1.72s\tremaining: 22.8ms\n",
      "152:\tlearn: 0.6861741\ttest: 0.6803804\tbest: 0.6803804 (152)\ttotal: 1.75s\tremaining: 0us\n",
      "\n",
      "bestTest = 0.6803803711\n",
      "bestIteration = 152\n",
      "\n",
      "0:\tlearn: 0.6930077\ttest: 0.6928651\tbest: 0.6928651 (0)\ttotal: 16.3ms\tremaining: 2.48s\n",
      "25:\tlearn: 0.6907494\ttest: 0.6879335\tbest: 0.6879335 (25)\ttotal: 297ms\tremaining: 1.45s\n",
      "50:\tlearn: 0.6894575\ttest: 0.6851110\tbest: 0.6851110 (50)\ttotal: 573ms\tremaining: 1.15s\n",
      "75:\tlearn: 0.6885175\ttest: 0.6833189\tbest: 0.6833189 (75)\ttotal: 856ms\tremaining: 868ms\n",
      "100:\tlearn: 0.6877424\ttest: 0.6820955\tbest: 0.6820955 (100)\ttotal: 1.14s\tremaining: 589ms\n",
      "125:\tlearn: 0.6870609\ttest: 0.6812565\tbest: 0.6812565 (125)\ttotal: 1.43s\tremaining: 306ms\n"
     ]
    },
    {
     "name": "stderr",
     "output_type": "stream",
     "text": [
      "2022-03-30 14:11:52 mean cv_value 0.0618448311048877 | std cv_value 0.011384356427195947 \n",
      "2022-03-30 14:11:52 ---------------------------------------------\n"
     ]
    },
    {
     "name": "stdout",
     "output_type": "stream",
     "text": [
      "150:\tlearn: 0.6864356\ttest: 0.6805624\tbest: 0.6805624 (150)\ttotal: 1.72s\tremaining: 22.8ms\n",
      "152:\tlearn: 0.6863831\ttest: 0.6805160\tbest: 0.6805160 (152)\ttotal: 1.74s\tremaining: 0us\n",
      "\n",
      "bestTest = 0.6805159981\n",
      "bestIteration = 152\n",
      "\n"
     ]
    },
    {
     "name": "stderr",
     "output_type": "stream",
     "text": [
      "2022-03-30 14:11:56 [TRAIN_MODEL] Training model\n",
      "2022-03-30 14:11:56 Set of params....., {'depth': 10, 'iterations': 200, 'learning_rate': 0.014078987785206032, 'colsample_bylevel': 0.8431863221004747}\n"
     ]
    },
    {
     "name": "stdout",
     "output_type": "stream",
     "text": [
      "Iteration No: 168 ended. Search finished for the next optimal point.\n",
      "Time taken: 10.6679\n",
      "Function value obtained: -0.0618\n",
      "Current minimum: -0.0699\n",
      "Iteration No: 169 started. Searching for the next optimal point.\n",
      "0:\tlearn: 0.6928803\ttest: 0.6928177\tbest: 0.6928177 (0)\ttotal: 48.6ms\tremaining: 9.67s\n",
      "25:\tlearn: 0.6871989\ttest: 0.6865078\tbest: 0.6865078 (25)\ttotal: 1.1s\tremaining: 7.37s\n",
      "50:\tlearn: 0.6827232\ttest: 0.6818884\tbest: 0.6818884 (50)\ttotal: 2.12s\tremaining: 6.2s\n",
      "75:\tlearn: 0.6788491\ttest: 0.6782924\tbest: 0.6782924 (75)\ttotal: 3.13s\tremaining: 5.11s\n",
      "100:\tlearn: 0.6754168\ttest: 0.6753737\tbest: 0.6753737 (100)\ttotal: 4.12s\tremaining: 4.04s\n",
      "125:\tlearn: 0.6725471\ttest: 0.6730959\tbest: 0.6730959 (125)\ttotal: 5.09s\tremaining: 2.99s\n",
      "150:\tlearn: 0.6698740\ttest: 0.6711961\tbest: 0.6711961 (150)\ttotal: 6.05s\tremaining: 1.96s\n",
      "175:\tlearn: 0.6672111\ttest: 0.6693940\tbest: 0.6693940 (175)\ttotal: 7.03s\tremaining: 959ms\n",
      "199:\tlearn: 0.6649337\ttest: 0.6678589\tbest: 0.6678589 (199)\ttotal: 7.96s\tremaining: 0us\n",
      "\n",
      "bestTest = 0.6678589082\n",
      "bestIteration = 199\n",
      "\n",
      "0:\tlearn: 0.6928925\ttest: 0.6928552\tbest: 0.6928552 (0)\ttotal: 42.8ms\tremaining: 8.51s\n",
      "25:\tlearn: 0.6868680\ttest: 0.6862901\tbest: 0.6862901 (25)\ttotal: 1.11s\tremaining: 7.42s\n",
      "50:\tlearn: 0.6824945\ttest: 0.6816748\tbest: 0.6816748 (50)\ttotal: 2.11s\tremaining: 6.17s\n",
      "75:\tlearn: 0.6785811\ttest: 0.6780737\tbest: 0.6780737 (75)\ttotal: 3.12s\tremaining: 5.1s\n",
      "100:\tlearn: 0.6748444\ttest: 0.6750129\tbest: 0.6750129 (100)\ttotal: 4.13s\tremaining: 4.05s\n",
      "125:\tlearn: 0.6716858\ttest: 0.6726812\tbest: 0.6726812 (125)\ttotal: 5.12s\tremaining: 3.01s\n",
      "150:\tlearn: 0.6690053\ttest: 0.6707828\tbest: 0.6707828 (150)\ttotal: 6.1s\tremaining: 1.98s\n",
      "175:\tlearn: 0.6664890\ttest: 0.6690567\tbest: 0.6690567 (175)\ttotal: 7.08s\tremaining: 965ms\n",
      "199:\tlearn: 0.6639325\ttest: 0.6674729\tbest: 0.6674729 (199)\ttotal: 8.03s\tremaining: 0us\n",
      "\n",
      "bestTest = 0.6674728587\n",
      "bestIteration = 199\n",
      "\n",
      "0:\tlearn: 0.6928898\ttest: 0.6928505\tbest: 0.6928505 (0)\ttotal: 43.4ms\tremaining: 8.64s\n",
      "25:\tlearn: 0.6872807\ttest: 0.6866262\tbest: 0.6866262 (25)\ttotal: 1.07s\tremaining: 7.17s\n",
      "50:\tlearn: 0.6827883\ttest: 0.6820192\tbest: 0.6820192 (50)\ttotal: 2.11s\tremaining: 6.15s\n",
      "75:\tlearn: 0.6787962\ttest: 0.6783372\tbest: 0.6783372 (75)\ttotal: 3.14s\tremaining: 5.13s\n",
      "100:\tlearn: 0.6753603\ttest: 0.6754613\tbest: 0.6754613 (100)\ttotal: 4.16s\tremaining: 4.08s\n",
      "125:\tlearn: 0.6722977\ttest: 0.6731484\tbest: 0.6731484 (125)\ttotal: 5.16s\tremaining: 3.03s\n",
      "150:\tlearn: 0.6695061\ttest: 0.6712092\tbest: 0.6712092 (150)\ttotal: 6.15s\tremaining: 2s\n",
      "175:\tlearn: 0.6668453\ttest: 0.6694122\tbest: 0.6694122 (175)\ttotal: 7.12s\tremaining: 971ms\n"
     ]
    },
    {
     "name": "stderr",
     "output_type": "stream",
     "text": [
      "2022-03-30 14:12:21 mean cv_value 0.05398531495515976 | std cv_value 0.016247686963992633 \n",
      "2022-03-30 14:12:21 ---------------------------------------------\n"
     ]
    },
    {
     "name": "stdout",
     "output_type": "stream",
     "text": [
      "199:\tlearn: 0.6644768\ttest: 0.6679601\tbest: 0.6679601 (199)\ttotal: 8.04s\tremaining: 0us\n",
      "\n",
      "bestTest = 0.6679601368\n",
      "bestIteration = 199\n",
      "\n"
     ]
    },
    {
     "name": "stderr",
     "output_type": "stream",
     "text": [
      "2022-03-30 14:12:26 [TRAIN_MODEL] Training model\n",
      "2022-03-30 14:12:26 Set of params....., {'depth': 4, 'iterations': 107, 'learning_rate': 0.10753765997363916, 'colsample_bylevel': 1.0}\n"
     ]
    },
    {
     "name": "stdout",
     "output_type": "stream",
     "text": [
      "Iteration No: 169 ended. Search finished for the next optimal point.\n",
      "Time taken: 29.3904\n",
      "Function value obtained: -0.0540\n",
      "Current minimum: -0.0699\n",
      "Iteration No: 170 started. Searching for the next optimal point.\n",
      "0:\tlearn: 0.6925346\ttest: 0.6917678\tbest: 0.6917678 (0)\ttotal: 20.4ms\tremaining: 2.16s\n",
      "25:\tlearn: 0.6887538\ttest: 0.6822088\tbest: 0.6822088 (25)\ttotal: 231ms\tremaining: 721ms\n",
      "50:\tlearn: 0.6875660\ttest: 0.6807413\tbest: 0.6807413 (50)\ttotal: 435ms\tremaining: 478ms\n",
      "75:\tlearn: 0.6865129\ttest: 0.6798020\tbest: 0.6798020 (75)\ttotal: 637ms\tremaining: 260ms\n",
      "100:\tlearn: 0.6854244\ttest: 0.6791223\tbest: 0.6791223 (100)\ttotal: 840ms\tremaining: 49.9ms\n",
      "106:\tlearn: 0.6852020\ttest: 0.6789277\tbest: 0.6789277 (106)\ttotal: 890ms\tremaining: 0us\n",
      "\n",
      "bestTest = 0.6789277421\n",
      "bestIteration = 106\n",
      "\n",
      "0:\tlearn: 0.6925509\ttest: 0.6918422\tbest: 0.6918422 (0)\ttotal: 20ms\tremaining: 2.12s\n",
      "25:\tlearn: 0.6889263\ttest: 0.6824323\tbest: 0.6824323 (25)\ttotal: 215ms\tremaining: 669ms\n",
      "50:\tlearn: 0.6877035\ttest: 0.6808531\tbest: 0.6808531 (50)\ttotal: 413ms\tremaining: 453ms\n",
      "75:\tlearn: 0.6865898\ttest: 0.6798919\tbest: 0.6798919 (75)\ttotal: 616ms\tremaining: 251ms\n",
      "100:\tlearn: 0.6855696\ttest: 0.6792416\tbest: 0.6792416 (100)\ttotal: 811ms\tremaining: 48.2ms\n",
      "106:\tlearn: 0.6853268\ttest: 0.6790166\tbest: 0.6790166 (106)\ttotal: 862ms\tremaining: 0us\n",
      "\n",
      "bestTest = 0.6790166095\n",
      "bestIteration = 106\n",
      "\n",
      "0:\tlearn: 0.6925807\ttest: 0.6917906\tbest: 0.6917906 (0)\ttotal: 10.2ms\tremaining: 1.08s\n",
      "25:\tlearn: 0.6890391\ttest: 0.6825637\tbest: 0.6825637 (25)\ttotal: 207ms\tremaining: 646ms\n",
      "50:\tlearn: 0.6878470\ttest: 0.6810803\tbest: 0.6810803 (50)\ttotal: 404ms\tremaining: 443ms\n",
      "75:\tlearn: 0.6868420\ttest: 0.6800582\tbest: 0.6800582 (75)\ttotal: 601ms\tremaining: 245ms\n"
     ]
    },
    {
     "name": "stderr",
     "output_type": "stream",
     "text": [
      "2022-03-30 14:12:29 mean cv_value 0.06094303021175695 | std cv_value 0.008222364666907156 \n",
      "2022-03-30 14:12:29 ---------------------------------------------\n"
     ]
    },
    {
     "name": "stdout",
     "output_type": "stream",
     "text": [
      "100:\tlearn: 0.6858235\ttest: 0.6793029\tbest: 0.6793029 (100)\ttotal: 802ms\tremaining: 47.7ms\n",
      "106:\tlearn: 0.6856061\ttest: 0.6791329\tbest: 0.6791329 (106)\ttotal: 853ms\tremaining: 0us\n",
      "\n",
      "bestTest = 0.679132914\n",
      "bestIteration = 106\n",
      "\n"
     ]
    },
    {
     "name": "stderr",
     "output_type": "stream",
     "text": [
      "2022-03-30 14:12:34 [TRAIN_MODEL] Training model\n",
      "2022-03-30 14:12:34 Set of params....., {'depth': 7, 'iterations': 200, 'learning_rate': 0.009764141857673068, 'colsample_bylevel': 0.5}\n"
     ]
    },
    {
     "name": "stdout",
     "output_type": "stream",
     "text": [
      "Iteration No: 170 ended. Search finished for the next optimal point.\n",
      "Time taken: 7.7314\n",
      "Function value obtained: -0.0609\n",
      "Current minimum: -0.0699\n",
      "Iteration No: 171 started. Searching for the next optimal point.\n",
      "0:\tlearn: 0.6930685\ttest: 0.6929965\tbest: 0.6929965 (0)\ttotal: 31.2ms\tremaining: 6.2s\n",
      "25:\tlearn: 0.6914077\ttest: 0.6898405\tbest: 0.6898405 (25)\ttotal: 460ms\tremaining: 3.08s\n",
      "50:\tlearn: 0.6901505\ttest: 0.6874700\tbest: 0.6874700 (50)\ttotal: 870ms\tremaining: 2.54s\n",
      "75:\tlearn: 0.6891596\ttest: 0.6856460\tbest: 0.6856460 (75)\ttotal: 1.27s\tremaining: 2.07s\n",
      "100:\tlearn: 0.6883434\ttest: 0.6842117\tbest: 0.6842117 (100)\ttotal: 1.68s\tremaining: 1.65s\n",
      "125:\tlearn: 0.6876595\ttest: 0.6830771\tbest: 0.6830771 (125)\ttotal: 2.08s\tremaining: 1.22s\n",
      "150:\tlearn: 0.6870384\ttest: 0.6821743\tbest: 0.6821743 (150)\ttotal: 2.47s\tremaining: 803ms\n",
      "175:\tlearn: 0.6864680\ttest: 0.6814407\tbest: 0.6814407 (175)\ttotal: 2.87s\tremaining: 391ms\n",
      "199:\tlearn: 0.6859152\ttest: 0.6807862\tbest: 0.6807862 (199)\ttotal: 3.25s\tremaining: 0us\n",
      "\n",
      "bestTest = 0.6807861658\n",
      "bestIteration = 199\n",
      "\n",
      "0:\tlearn: 0.6930653\ttest: 0.6929969\tbest: 0.6929969 (0)\ttotal: 20.7ms\tremaining: 4.13s\n",
      "25:\tlearn: 0.6914325\ttest: 0.6898657\tbest: 0.6898657 (25)\ttotal: 445ms\tremaining: 2.98s\n",
      "50:\tlearn: 0.6902165\ttest: 0.6875886\tbest: 0.6875886 (50)\ttotal: 854ms\tremaining: 2.5s\n",
      "75:\tlearn: 0.6892289\ttest: 0.6857902\tbest: 0.6857902 (75)\ttotal: 1.26s\tremaining: 2.06s\n",
      "100:\tlearn: 0.6884297\ttest: 0.6843813\tbest: 0.6843813 (100)\ttotal: 1.67s\tremaining: 1.63s\n",
      "125:\tlearn: 0.6877290\ttest: 0.6832288\tbest: 0.6832288 (125)\ttotal: 2.07s\tremaining: 1.22s\n",
      "150:\tlearn: 0.6870815\ttest: 0.6823322\tbest: 0.6823322 (150)\ttotal: 2.47s\tremaining: 803ms\n",
      "175:\tlearn: 0.6864933\ttest: 0.6815823\tbest: 0.6815823 (175)\ttotal: 2.88s\tremaining: 392ms\n",
      "199:\tlearn: 0.6859498\ttest: 0.6809261\tbest: 0.6809261 (199)\ttotal: 3.25s\tremaining: 0us\n",
      "\n",
      "bestTest = 0.6809261071\n",
      "bestIteration = 199\n",
      "\n",
      "0:\tlearn: 0.6930662\ttest: 0.6930012\tbest: 0.6930012 (0)\ttotal: 19.6ms\tremaining: 3.9s\n",
      "25:\tlearn: 0.6914920\ttest: 0.6899459\tbest: 0.6899459 (25)\ttotal: 432ms\tremaining: 2.89s\n",
      "50:\tlearn: 0.6903151\ttest: 0.6876819\tbest: 0.6876819 (50)\ttotal: 838ms\tremaining: 2.45s\n",
      "75:\tlearn: 0.6893740\ttest: 0.6859086\tbest: 0.6859086 (75)\ttotal: 1.24s\tremaining: 2.03s\n",
      "100:\tlearn: 0.6885761\ttest: 0.6845069\tbest: 0.6845069 (100)\ttotal: 1.65s\tremaining: 1.62s\n",
      "125:\tlearn: 0.6878631\ttest: 0.6833711\tbest: 0.6833711 (125)\ttotal: 2.06s\tremaining: 1.21s\n",
      "150:\tlearn: 0.6872290\ttest: 0.6824678\tbest: 0.6824678 (150)\ttotal: 2.46s\tremaining: 799ms\n",
      "175:\tlearn: 0.6866363\ttest: 0.6817013\tbest: 0.6817013 (175)\ttotal: 2.87s\tremaining: 392ms\n"
     ]
    },
    {
     "name": "stderr",
     "output_type": "stream",
     "text": [
      "2022-03-30 14:12:44 mean cv_value 0.06395506142611951 | std cv_value 0.006245984263950255 \n",
      "2022-03-30 14:12:44 ---------------------------------------------\n"
     ]
    },
    {
     "name": "stdout",
     "output_type": "stream",
     "text": [
      "199:\tlearn: 0.6861121\ttest: 0.6810615\tbest: 0.6810615 (199)\ttotal: 3.26s\tremaining: 0us\n",
      "\n",
      "bestTest = 0.6810615354\n",
      "bestIteration = 199\n",
      "\n"
     ]
    },
    {
     "name": "stderr",
     "output_type": "stream",
     "text": [
      "2022-03-30 14:12:48 [TRAIN_MODEL] Training model\n",
      "2022-03-30 14:12:48 Set of params....., {'depth': 7, 'iterations': 200, 'learning_rate': 0.009426184747263037, 'colsample_bylevel': 1.0}\n"
     ]
    },
    {
     "name": "stdout",
     "output_type": "stream",
     "text": [
      "Iteration No: 171 ended. Search finished for the next optimal point.\n",
      "Time taken: 14.8958\n",
      "Function value obtained: -0.0640\n",
      "Current minimum: -0.0699\n",
      "Iteration No: 172 started. Searching for the next optimal point.\n",
      "0:\tlearn: 0.6930661\ttest: 0.6930122\tbest: 0.6930122 (0)\ttotal: 18.6ms\tremaining: 3.7s\n",
      "25:\tlearn: 0.6914087\ttest: 0.6899618\tbest: 0.6899618 (25)\ttotal: 381ms\tremaining: 2.55s\n",
      "50:\tlearn: 0.6901583\ttest: 0.6876229\tbest: 0.6876229 (50)\ttotal: 747ms\tremaining: 2.18s\n",
      "75:\tlearn: 0.6891740\ttest: 0.6858223\tbest: 0.6858223 (75)\ttotal: 1.11s\tremaining: 1.81s\n",
      "100:\tlearn: 0.6883213\ttest: 0.6843776\tbest: 0.6843776 (100)\ttotal: 1.48s\tremaining: 1.45s\n",
      "125:\tlearn: 0.6875574\ttest: 0.6831805\tbest: 0.6831805 (125)\ttotal: 1.83s\tremaining: 1.08s\n",
      "150:\tlearn: 0.6869039\ttest: 0.6822385\tbest: 0.6822385 (150)\ttotal: 2.19s\tremaining: 709ms\n",
      "175:\tlearn: 0.6863206\ttest: 0.6814653\tbest: 0.6814653 (175)\ttotal: 2.54s\tremaining: 347ms\n",
      "199:\tlearn: 0.6858255\ttest: 0.6808557\tbest: 0.6808557 (199)\ttotal: 2.87s\tremaining: 0us\n",
      "\n",
      "bestTest = 0.6808556633\n",
      "bestIteration = 199\n",
      "\n",
      "0:\tlearn: 0.6930674\ttest: 0.6930125\tbest: 0.6930125 (0)\ttotal: 19.9ms\tremaining: 3.95s\n",
      "25:\tlearn: 0.6914014\ttest: 0.6899169\tbest: 0.6899169 (25)\ttotal: 397ms\tremaining: 2.65s\n",
      "50:\tlearn: 0.6901923\ttest: 0.6876580\tbest: 0.6876580 (50)\ttotal: 753ms\tremaining: 2.2s\n",
      "75:\tlearn: 0.6892260\ttest: 0.6858888\tbest: 0.6858888 (75)\ttotal: 1.1s\tremaining: 1.8s\n",
      "100:\tlearn: 0.6883912\ttest: 0.6844391\tbest: 0.6844391 (100)\ttotal: 1.46s\tremaining: 1.43s\n",
      "125:\tlearn: 0.6876716\ttest: 0.6832902\tbest: 0.6832902 (125)\ttotal: 1.82s\tremaining: 1.07s\n",
      "150:\tlearn: 0.6870316\ttest: 0.6823432\tbest: 0.6823432 (150)\ttotal: 2.17s\tremaining: 706ms\n",
      "175:\tlearn: 0.6864353\ttest: 0.6815560\tbest: 0.6815560 (175)\ttotal: 2.54s\tremaining: 346ms\n",
      "199:\tlearn: 0.6858808\ttest: 0.6809032\tbest: 0.6809032 (199)\ttotal: 2.88s\tremaining: 0us\n",
      "\n",
      "bestTest = 0.6809031991\n",
      "bestIteration = 199\n",
      "\n",
      "0:\tlearn: 0.6930702\ttest: 0.6930036\tbest: 0.6930036 (0)\ttotal: 20.8ms\tremaining: 4.14s\n",
      "25:\tlearn: 0.6914892\ttest: 0.6899603\tbest: 0.6899603 (25)\ttotal: 384ms\tremaining: 2.57s\n",
      "50:\tlearn: 0.6903246\ttest: 0.6876997\tbest: 0.6876997 (50)\ttotal: 740ms\tremaining: 2.16s\n",
      "75:\tlearn: 0.6893883\ttest: 0.6859669\tbest: 0.6859669 (75)\ttotal: 1.09s\tremaining: 1.78s\n",
      "100:\tlearn: 0.6886032\ttest: 0.6846162\tbest: 0.6846162 (100)\ttotal: 1.44s\tremaining: 1.41s\n",
      "125:\tlearn: 0.6879131\ttest: 0.6834950\tbest: 0.6834950 (125)\ttotal: 1.79s\tremaining: 1.05s\n",
      "150:\tlearn: 0.6872755\ttest: 0.6825924\tbest: 0.6825924 (150)\ttotal: 2.14s\tremaining: 693ms\n",
      "175:\tlearn: 0.6866936\ttest: 0.6818142\tbest: 0.6818142 (175)\ttotal: 2.49s\tremaining: 339ms\n"
     ]
    },
    {
     "name": "stderr",
     "output_type": "stream",
     "text": [
      "2022-03-30 14:12:58 mean cv_value 0.06286649213472305 | std cv_value 0.011006215811747518 \n",
      "2022-03-30 14:12:58 ---------------------------------------------\n"
     ]
    },
    {
     "name": "stdout",
     "output_type": "stream",
     "text": [
      "199:\tlearn: 0.6861795\ttest: 0.6811338\tbest: 0.6811338 (199)\ttotal: 2.81s\tremaining: 0us\n",
      "\n",
      "bestTest = 0.6811338311\n",
      "bestIteration = 199\n",
      "\n"
     ]
    },
    {
     "name": "stderr",
     "output_type": "stream",
     "text": [
      "2022-03-30 14:13:02 [TRAIN_MODEL] Training model\n",
      "2022-03-30 14:13:02 Set of params....., {'depth': 7, 'iterations': 158, 'learning_rate': 0.014256072324768871, 'colsample_bylevel': 0.5}\n"
     ]
    },
    {
     "name": "stdout",
     "output_type": "stream",
     "text": [
      "Iteration No: 172 ended. Search finished for the next optimal point.\n",
      "Time taken: 13.9045\n",
      "Function value obtained: -0.0629\n",
      "Current minimum: -0.0699\n",
      "Iteration No: 173 started. Searching for the next optimal point.\n",
      "0:\tlearn: 0.6930341\ttest: 0.6929274\tbest: 0.6929274 (0)\ttotal: 17ms\tremaining: 2.67s\n",
      "25:\tlearn: 0.6907746\ttest: 0.6886101\tbest: 0.6886101 (25)\ttotal: 428ms\tremaining: 2.17s\n",
      "50:\tlearn: 0.6892388\ttest: 0.6857508\tbest: 0.6857508 (50)\ttotal: 833ms\tremaining: 1.75s\n",
      "75:\tlearn: 0.6880618\ttest: 0.6837539\tbest: 0.6837539 (75)\ttotal: 1.23s\tremaining: 1.33s\n",
      "100:\tlearn: 0.6871031\ttest: 0.6823048\tbest: 0.6823048 (100)\ttotal: 1.63s\tremaining: 918ms\n",
      "125:\tlearn: 0.6862811\ttest: 0.6812033\tbest: 0.6812033 (125)\ttotal: 2.02s\tremaining: 513ms\n",
      "150:\tlearn: 0.6855403\ttest: 0.6803529\tbest: 0.6803529 (150)\ttotal: 2.42s\tremaining: 112ms\n",
      "157:\tlearn: 0.6853385\ttest: 0.6801193\tbest: 0.6801193 (157)\ttotal: 2.53s\tremaining: 0us\n",
      "\n",
      "bestTest = 0.6801192992\n",
      "bestIteration = 157\n",
      "\n",
      "0:\tlearn: 0.6930353\ttest: 0.6929281\tbest: 0.6929281 (0)\ttotal: 16.6ms\tremaining: 2.6s\n",
      "25:\tlearn: 0.6908222\ttest: 0.6886782\tbest: 0.6886782 (25)\ttotal: 427ms\tremaining: 2.17s\n",
      "50:\tlearn: 0.6892890\ttest: 0.6858693\tbest: 0.6858693 (50)\ttotal: 825ms\tremaining: 1.73s\n",
      "75:\tlearn: 0.6881354\ttest: 0.6839186\tbest: 0.6839186 (75)\ttotal: 1.23s\tremaining: 1.33s\n",
      "100:\tlearn: 0.6871617\ttest: 0.6824789\tbest: 0.6824789 (100)\ttotal: 1.63s\tremaining: 919ms\n",
      "125:\tlearn: 0.6862939\ttest: 0.6813342\tbest: 0.6813342 (125)\ttotal: 2.03s\tremaining: 515ms\n",
      "150:\tlearn: 0.6854968\ttest: 0.6804513\tbest: 0.6804513 (150)\ttotal: 2.43s\tremaining: 112ms\n",
      "157:\tlearn: 0.6852948\ttest: 0.6802565\tbest: 0.6802565 (157)\ttotal: 2.54s\tremaining: 0us\n",
      "\n",
      "bestTest = 0.6802565292\n",
      "bestIteration = 157\n",
      "\n",
      "0:\tlearn: 0.6930315\ttest: 0.6929343\tbest: 0.6929343 (0)\ttotal: 17.7ms\tremaining: 2.77s\n",
      "25:\tlearn: 0.6908911\ttest: 0.6888147\tbest: 0.6888147 (25)\ttotal: 431ms\tremaining: 2.19s\n",
      "50:\tlearn: 0.6894096\ttest: 0.6860309\tbest: 0.6860309 (50)\ttotal: 834ms\tremaining: 1.75s\n",
      "75:\tlearn: 0.6882803\ttest: 0.6840658\tbest: 0.6840658 (75)\ttotal: 1.23s\tremaining: 1.33s\n",
      "100:\tlearn: 0.6873273\ttest: 0.6825776\tbest: 0.6825776 (100)\ttotal: 1.64s\tremaining: 925ms\n",
      "125:\tlearn: 0.6864517\ttest: 0.6813987\tbest: 0.6813987 (125)\ttotal: 2.03s\tremaining: 516ms\n",
      "150:\tlearn: 0.6856712\ttest: 0.6805341\tbest: 0.6805341 (150)\ttotal: 2.43s\tremaining: 113ms\n",
      "157:\tlearn: 0.6854958\ttest: 0.6803344\tbest: 0.6803344 (157)\ttotal: 2.55s\tremaining: 0us\n",
      "\n",
      "bestTest = 0.680334389\n",
      "bestIteration = 157\n",
      "\n"
     ]
    },
    {
     "name": "stderr",
     "output_type": "stream",
     "text": [
      "2022-03-30 14:13:11 mean cv_value 0.06182580940533373 | std cv_value 0.008422560558778167 \n",
      "2022-03-30 14:13:11 ---------------------------------------------\n",
      "2022-03-30 14:13:15 [TRAIN_MODEL] Training model\n",
      "2022-03-30 14:13:15 Set of params....., {'depth': 6, 'iterations': 200, 'learning_rate': 0.009718924948702738, 'colsample_bylevel': 1.0}\n"
     ]
    },
    {
     "name": "stdout",
     "output_type": "stream",
     "text": [
      "Iteration No: 173 ended. Search finished for the next optimal point.\n",
      "Time taken: 12.6925\n",
      "Function value obtained: -0.0618\n",
      "Current minimum: -0.0699\n",
      "Iteration No: 174 started. Searching for the next optimal point.\n",
      "0:\tlearn: 0.6930784\ttest: 0.6930134\tbest: 0.6930134 (0)\ttotal: 14.4ms\tremaining: 2.86s\n",
      "25:\tlearn: 0.6916296\ttest: 0.6900643\tbest: 0.6900643 (25)\ttotal: 310ms\tremaining: 2.08s\n",
      "50:\tlearn: 0.6906163\ttest: 0.6878588\tbest: 0.6878588 (50)\ttotal: 599ms\tremaining: 1.75s\n",
      "75:\tlearn: 0.6898637\ttest: 0.6862173\tbest: 0.6862173 (75)\ttotal: 879ms\tremaining: 1.43s\n",
      "100:\tlearn: 0.6892495\ttest: 0.6849527\tbest: 0.6849527 (100)\ttotal: 1.17s\tremaining: 1.14s\n",
      "125:\tlearn: 0.6887230\ttest: 0.6839098\tbest: 0.6839098 (125)\ttotal: 1.44s\tremaining: 847ms\n",
      "150:\tlearn: 0.6882651\ttest: 0.6831019\tbest: 0.6831019 (150)\ttotal: 1.73s\tremaining: 560ms\n",
      "175:\tlearn: 0.6878622\ttest: 0.6824772\tbest: 0.6824772 (175)\ttotal: 2s\tremaining: 273ms\n",
      "199:\tlearn: 0.6874978\ttest: 0.6819231\tbest: 0.6819231 (199)\ttotal: 2.27s\tremaining: 0us\n",
      "\n",
      "bestTest = 0.6819231282\n",
      "bestIteration = 199\n",
      "\n",
      "0:\tlearn: 0.6930762\ttest: 0.6930147\tbest: 0.6930147 (0)\ttotal: 14.9ms\tremaining: 2.96s\n",
      "25:\tlearn: 0.6916559\ttest: 0.6900515\tbest: 0.6900515 (25)\ttotal: 290ms\tremaining: 1.94s\n",
      "50:\tlearn: 0.6906750\ttest: 0.6878994\tbest: 0.6878994 (50)\ttotal: 567ms\tremaining: 1.66s\n",
      "75:\tlearn: 0.6899201\ttest: 0.6862639\tbest: 0.6862639 (75)\ttotal: 869ms\tremaining: 1.42s\n",
      "100:\tlearn: 0.6893009\ttest: 0.6849745\tbest: 0.6849745 (100)\ttotal: 1.16s\tremaining: 1.14s\n",
      "125:\tlearn: 0.6887795\ttest: 0.6839508\tbest: 0.6839508 (125)\ttotal: 1.44s\tremaining: 846ms\n",
      "150:\tlearn: 0.6883302\ttest: 0.6831295\tbest: 0.6831295 (150)\ttotal: 1.73s\tremaining: 560ms\n",
      "175:\tlearn: 0.6879279\ttest: 0.6824940\tbest: 0.6824940 (175)\ttotal: 2.01s\tremaining: 274ms\n",
      "199:\tlearn: 0.6875683\ttest: 0.6820214\tbest: 0.6820214 (199)\ttotal: 2.27s\tremaining: 0us\n",
      "\n",
      "bestTest = 0.6820214226\n",
      "bestIteration = 199\n",
      "\n",
      "0:\tlearn: 0.6930741\ttest: 0.6930046\tbest: 0.6930046 (0)\ttotal: 14ms\tremaining: 2.78s\n",
      "25:\tlearn: 0.6917205\ttest: 0.6900799\tbest: 0.6900799 (25)\ttotal: 293ms\tremaining: 1.96s\n",
      "50:\tlearn: 0.6907739\ttest: 0.6879700\tbest: 0.6879700 (50)\ttotal: 563ms\tremaining: 1.65s\n",
      "75:\tlearn: 0.6900574\ttest: 0.6863772\tbest: 0.6863772 (75)\ttotal: 841ms\tremaining: 1.37s\n",
      "100:\tlearn: 0.6894650\ttest: 0.6851140\tbest: 0.6851140 (100)\ttotal: 1.11s\tremaining: 1.09s\n",
      "125:\tlearn: 0.6889520\ttest: 0.6841320\tbest: 0.6841320 (125)\ttotal: 1.4s\tremaining: 824ms\n",
      "150:\tlearn: 0.6885191\ttest: 0.6833498\tbest: 0.6833498 (150)\ttotal: 1.68s\tremaining: 546ms\n",
      "175:\tlearn: 0.6881186\ttest: 0.6827047\tbest: 0.6827047 (175)\ttotal: 1.96s\tremaining: 267ms\n"
     ]
    },
    {
     "name": "stderr",
     "output_type": "stream",
     "text": [
      "2022-03-30 14:13:23 mean cv_value 0.06143638737201623 | std cv_value 0.009034888546056665 \n",
      "2022-03-30 14:13:23 ---------------------------------------------\n"
     ]
    },
    {
     "name": "stdout",
     "output_type": "stream",
     "text": [
      "199:\tlearn: 0.6877521\ttest: 0.6821798\tbest: 0.6821798 (199)\ttotal: 2.22s\tremaining: 0us\n",
      "\n",
      "bestTest = 0.6821797676\n",
      "bestIteration = 199\n",
      "\n"
     ]
    },
    {
     "name": "stderr",
     "output_type": "stream",
     "text": [
      "2022-03-30 14:13:27 [TRAIN_MODEL] Training model\n",
      "2022-03-30 14:13:27 Set of params....., {'depth': 10, 'iterations': 66, 'learning_rate': 0.008788850855749724, 'colsample_bylevel': 0.5243803573040358}\n"
     ]
    },
    {
     "name": "stdout",
     "output_type": "stream",
     "text": [
      "Iteration No: 174 ended. Search finished for the next optimal point.\n",
      "Time taken: 12.1605\n",
      "Function value obtained: -0.0614\n",
      "Current minimum: -0.0699\n",
      "Iteration No: 175 started. Searching for the next optimal point.\n",
      "0:\tlearn: 0.6930098\ttest: 0.6929793\tbest: 0.6929793 (0)\ttotal: 58.6ms\tremaining: 3.81s\n",
      "25:\tlearn: 0.6893740\ttest: 0.6887968\tbest: 0.6887968 (25)\ttotal: 1.06s\tremaining: 1.64s\n",
      "50:\tlearn: 0.6862375\ttest: 0.6853544\tbest: 0.6853544 (50)\ttotal: 2.02s\tremaining: 595ms\n",
      "65:\tlearn: 0.6845152\ttest: 0.6836081\tbest: 0.6836081 (65)\ttotal: 2.6s\tremaining: 0us\n",
      "\n",
      "bestTest = 0.6836081415\n",
      "bestIteration = 65\n",
      "\n",
      "0:\tlearn: 0.6929965\ttest: 0.6929550\tbest: 0.6929550 (0)\ttotal: 48.7ms\tremaining: 3.17s\n",
      "25:\tlearn: 0.6892144\ttest: 0.6886793\tbest: 0.6886793 (25)\ttotal: 1.04s\tremaining: 1.6s\n",
      "50:\tlearn: 0.6860054\ttest: 0.6852261\tbest: 0.6852261 (50)\ttotal: 2s\tremaining: 589ms\n",
      "65:\tlearn: 0.6842911\ttest: 0.6834842\tbest: 0.6834842 (65)\ttotal: 2.58s\tremaining: 0us\n",
      "\n",
      "bestTest = 0.6834842138\n",
      "bestIteration = 65\n",
      "\n",
      "0:\tlearn: 0.6929754\ttest: 0.6929569\tbest: 0.6929569 (0)\ttotal: 39ms\tremaining: 2.53s\n",
      "25:\tlearn: 0.6892769\ttest: 0.6887702\tbest: 0.6887702 (25)\ttotal: 1.01s\tremaining: 1.56s\n",
      "50:\tlearn: 0.6861440\ttest: 0.6854224\tbest: 0.6854224 (50)\ttotal: 1.97s\tremaining: 578ms\n"
     ]
    },
    {
     "name": "stderr",
     "output_type": "stream",
     "text": [
      "2022-03-30 14:13:36 mean cv_value 0.053634739467729016 | std cv_value 0.00844920289543723 \n",
      "2022-03-30 14:13:36 ---------------------------------------------\n"
     ]
    },
    {
     "name": "stdout",
     "output_type": "stream",
     "text": [
      "65:\tlearn: 0.6844371\ttest: 0.6836679\tbest: 0.6836679 (65)\ttotal: 2.54s\tremaining: 0us\n",
      "\n",
      "bestTest = 0.6836679194\n",
      "bestIteration = 65\n",
      "\n"
     ]
    },
    {
     "name": "stderr",
     "output_type": "stream",
     "text": [
      "2022-03-30 14:13:40 [TRAIN_MODEL] Training model\n",
      "2022-03-30 14:13:40 Set of params....., {'depth': 7, 'iterations': 200, 'learning_rate': 0.010469324537210903, 'colsample_bylevel': 1.0}\n"
     ]
    },
    {
     "name": "stdout",
     "output_type": "stream",
     "text": [
      "Iteration No: 175 ended. Search finished for the next optimal point.\n",
      "Time taken: 13.0625\n",
      "Function value obtained: -0.0536\n",
      "Current minimum: -0.0699\n",
      "Iteration No: 176 started. Searching for the next optimal point.\n",
      "0:\tlearn: 0.6930598\ttest: 0.6929973\tbest: 0.6929973 (0)\ttotal: 17.9ms\tremaining: 3.56s\n",
      "25:\tlearn: 0.6912413\ttest: 0.6896454\tbest: 0.6896454 (25)\ttotal: 381ms\tremaining: 2.55s\n",
      "50:\tlearn: 0.6899294\ttest: 0.6871930\tbest: 0.6871930 (50)\ttotal: 741ms\tremaining: 2.17s\n",
      "75:\tlearn: 0.6888967\ttest: 0.6853245\tbest: 0.6853245 (75)\ttotal: 1.09s\tremaining: 1.79s\n",
      "100:\tlearn: 0.6880254\ttest: 0.6838228\tbest: 0.6838228 (100)\ttotal: 1.45s\tremaining: 1.42s\n",
      "125:\tlearn: 0.6872252\ttest: 0.6826209\tbest: 0.6826209 (125)\ttotal: 1.8s\tremaining: 1.06s\n",
      "150:\tlearn: 0.6865559\ttest: 0.6816933\tbest: 0.6816933 (150)\ttotal: 2.15s\tremaining: 696ms\n",
      "175:\tlearn: 0.6859350\ttest: 0.6809423\tbest: 0.6809423 (175)\ttotal: 2.49s\tremaining: 339ms\n",
      "199:\tlearn: 0.6854053\ttest: 0.6803316\tbest: 0.6803316 (199)\ttotal: 2.81s\tremaining: 0us\n",
      "\n",
      "bestTest = 0.6803315754\n",
      "bestIteration = 199\n",
      "\n",
      "0:\tlearn: 0.6930552\ttest: 0.6929977\tbest: 0.6929977 (0)\ttotal: 16.7ms\tremaining: 3.33s\n",
      "25:\tlearn: 0.6912540\ttest: 0.6896417\tbest: 0.6896417 (25)\ttotal: 371ms\tremaining: 2.48s\n",
      "50:\tlearn: 0.6899602\ttest: 0.6871888\tbest: 0.6871888 (50)\ttotal: 718ms\tremaining: 2.1s\n",
      "75:\tlearn: 0.6889451\ttest: 0.6853341\tbest: 0.6853341 (75)\ttotal: 1.06s\tremaining: 1.73s\n",
      "100:\tlearn: 0.6880816\ttest: 0.6838744\tbest: 0.6838744 (100)\ttotal: 1.41s\tremaining: 1.38s\n",
      "125:\tlearn: 0.6873057\ttest: 0.6827064\tbest: 0.6827064 (125)\ttotal: 1.76s\tremaining: 1.03s\n",
      "150:\tlearn: 0.6866400\ttest: 0.6817583\tbest: 0.6817583 (150)\ttotal: 2.1s\tremaining: 681ms\n",
      "175:\tlearn: 0.6859733\ttest: 0.6809951\tbest: 0.6809951 (175)\ttotal: 2.44s\tremaining: 333ms\n",
      "199:\tlearn: 0.6853964\ttest: 0.6803839\tbest: 0.6803839 (199)\ttotal: 2.77s\tremaining: 0us\n",
      "\n",
      "bestTest = 0.68038391\n",
      "bestIteration = 199\n",
      "\n",
      "0:\tlearn: 0.6930625\ttest: 0.6929877\tbest: 0.6929877 (0)\ttotal: 17.1ms\tremaining: 3.4s\n",
      "25:\tlearn: 0.6913473\ttest: 0.6896835\tbest: 0.6896835 (25)\ttotal: 378ms\tremaining: 2.53s\n",
      "50:\tlearn: 0.6900983\ttest: 0.6873021\tbest: 0.6873021 (50)\ttotal: 725ms\tremaining: 2.12s\n",
      "75:\tlearn: 0.6891066\ttest: 0.6855025\tbest: 0.6855025 (75)\ttotal: 1.08s\tremaining: 1.76s\n",
      "100:\tlearn: 0.6882863\ttest: 0.6840903\tbest: 0.6840903 (100)\ttotal: 1.43s\tremaining: 1.4s\n",
      "125:\tlearn: 0.6875389\ttest: 0.6829840\tbest: 0.6829840 (125)\ttotal: 1.78s\tremaining: 1.05s\n",
      "150:\tlearn: 0.6868545\ttest: 0.6820458\tbest: 0.6820458 (150)\ttotal: 2.13s\tremaining: 692ms\n",
      "175:\tlearn: 0.6862045\ttest: 0.6812401\tbest: 0.6812401 (175)\ttotal: 2.47s\tremaining: 337ms\n"
     ]
    },
    {
     "name": "stderr",
     "output_type": "stream",
     "text": [
      "2022-03-30 14:13:49 mean cv_value 0.062069925595172715 | std cv_value 0.0068127553373244385 \n",
      "2022-03-30 14:13:49 ---------------------------------------------\n"
     ]
    },
    {
     "name": "stdout",
     "output_type": "stream",
     "text": [
      "199:\tlearn: 0.6856233\ttest: 0.6806039\tbest: 0.6806039 (199)\ttotal: 2.81s\tremaining: 0us\n",
      "\n",
      "bestTest = 0.6806038843\n",
      "bestIteration = 199\n",
      "\n"
     ]
    },
    {
     "name": "stderr",
     "output_type": "stream",
     "text": [
      "2022-03-30 14:13:54 [TRAIN_MODEL] Training model\n",
      "2022-03-30 14:13:54 Set of params....., {'depth': 6, 'iterations': 200, 'learning_rate': 0.025444216596574278, 'colsample_bylevel': 1.0}\n"
     ]
    },
    {
     "name": "stdout",
     "output_type": "stream",
     "text": [
      "Iteration No: 176 ended. Search finished for the next optimal point.\n",
      "Time taken: 13.6819\n",
      "Function value obtained: -0.0621\n",
      "Current minimum: -0.0699\n",
      "Iteration No: 177 started. Searching for the next optimal point.\n",
      "0:\tlearn: 0.6929631\ttest: 0.6927985\tbest: 0.6927985 (0)\ttotal: 14.2ms\tremaining: 2.82s\n",
      "25:\tlearn: 0.6900705\ttest: 0.6866273\tbest: 0.6866273 (25)\ttotal: 306ms\tremaining: 2.05s\n",
      "50:\tlearn: 0.6885804\ttest: 0.6836512\tbest: 0.6836512 (50)\ttotal: 581ms\tremaining: 1.7s\n",
      "75:\tlearn: 0.6875258\ttest: 0.6819912\tbest: 0.6819912 (75)\ttotal: 864ms\tremaining: 1.41s\n",
      "100:\tlearn: 0.6866292\ttest: 0.6808664\tbest: 0.6808664 (100)\ttotal: 1.15s\tremaining: 1.12s\n",
      "125:\tlearn: 0.6858260\ttest: 0.6800174\tbest: 0.6800174 (125)\ttotal: 1.43s\tremaining: 837ms\n",
      "150:\tlearn: 0.6850220\ttest: 0.6793206\tbest: 0.6793206 (150)\ttotal: 1.7s\tremaining: 553ms\n",
      "175:\tlearn: 0.6842564\ttest: 0.6786798\tbest: 0.6786798 (175)\ttotal: 1.98s\tremaining: 271ms\n",
      "199:\tlearn: 0.6835795\ttest: 0.6781658\tbest: 0.6781658 (199)\ttotal: 2.25s\tremaining: 0us\n",
      "\n",
      "bestTest = 0.678165787\n",
      "bestIteration = 199\n",
      "\n",
      "0:\tlearn: 0.6929599\ttest: 0.6928019\tbest: 0.6928019 (0)\ttotal: 14.3ms\tremaining: 2.84s\n",
      "25:\tlearn: 0.6900922\ttest: 0.6867000\tbest: 0.6867000 (25)\ttotal: 304ms\tremaining: 2.04s\n",
      "50:\tlearn: 0.6886285\ttest: 0.6837178\tbest: 0.6837178 (50)\ttotal: 590ms\tremaining: 1.72s\n",
      "75:\tlearn: 0.6875786\ttest: 0.6820598\tbest: 0.6820598 (75)\ttotal: 871ms\tremaining: 1.42s\n",
      "100:\tlearn: 0.6866717\ttest: 0.6809687\tbest: 0.6809687 (100)\ttotal: 1.15s\tremaining: 1.12s\n",
      "125:\tlearn: 0.6858285\ttest: 0.6801650\tbest: 0.6801650 (125)\ttotal: 1.42s\tremaining: 833ms\n",
      "150:\tlearn: 0.6850494\ttest: 0.6794721\tbest: 0.6794721 (150)\ttotal: 1.7s\tremaining: 552ms\n",
      "175:\tlearn: 0.6843175\ttest: 0.6788961\tbest: 0.6788961 (175)\ttotal: 1.98s\tremaining: 270ms\n",
      "199:\tlearn: 0.6836339\ttest: 0.6783888\tbest: 0.6783888 (199)\ttotal: 2.24s\tremaining: 0us\n",
      "\n",
      "bestTest = 0.6783888353\n",
      "bestIteration = 199\n",
      "\n",
      "0:\tlearn: 0.6929639\ttest: 0.6927753\tbest: 0.6927753 (0)\ttotal: 12.7ms\tremaining: 2.52s\n",
      "25:\tlearn: 0.6902713\ttest: 0.6868318\tbest: 0.6868318 (25)\ttotal: 297ms\tremaining: 1.98s\n",
      "50:\tlearn: 0.6888711\ttest: 0.6838479\tbest: 0.6838479 (50)\ttotal: 580ms\tremaining: 1.69s\n",
      "75:\tlearn: 0.6878407\ttest: 0.6822288\tbest: 0.6822288 (75)\ttotal: 867ms\tremaining: 1.41s\n",
      "100:\tlearn: 0.6869337\ttest: 0.6810876\tbest: 0.6810876 (100)\ttotal: 1.15s\tremaining: 1.13s\n",
      "125:\tlearn: 0.6861341\ttest: 0.6802766\tbest: 0.6802766 (125)\ttotal: 1.43s\tremaining: 843ms\n",
      "150:\tlearn: 0.6853482\ttest: 0.6795928\tbest: 0.6795928 (150)\ttotal: 1.72s\tremaining: 558ms\n",
      "175:\tlearn: 0.6845926\ttest: 0.6790042\tbest: 0.6790042 (175)\ttotal: 2.01s\tremaining: 274ms\n"
     ]
    },
    {
     "name": "stderr",
     "output_type": "stream",
     "text": [
      "2022-03-30 14:14:01 mean cv_value 0.05977534450796187 | std cv_value 0.012060399115168322 \n",
      "2022-03-30 14:14:01 ---------------------------------------------\n"
     ]
    },
    {
     "name": "stdout",
     "output_type": "stream",
     "text": [
      "199:\tlearn: 0.6839160\ttest: 0.6785086\tbest: 0.6785086 (199)\ttotal: 2.28s\tremaining: 0us\n",
      "\n",
      "bestTest = 0.6785085768\n",
      "bestIteration = 199\n",
      "\n"
     ]
    },
    {
     "name": "stderr",
     "output_type": "stream",
     "text": [
      "2022-03-30 14:14:06 [TRAIN_MODEL] Training model\n",
      "2022-03-30 14:14:06 Set of params....., {'depth': 2, 'iterations': 193, 'learning_rate': 0.39878926116903407, 'colsample_bylevel': 0.5668649166752224}\n"
     ]
    },
    {
     "name": "stdout",
     "output_type": "stream",
     "text": [
      "Iteration No: 177 ended. Search finished for the next optimal point.\n",
      "Time taken: 12.3471\n",
      "Function value obtained: -0.0598\n",
      "Current minimum: -0.0699\n",
      "Iteration No: 178 started. Searching for the next optimal point.\n",
      "0:\tlearn: 0.6922437\ttest: 0.6910113\tbest: 0.6910113 (0)\ttotal: 8.56ms\tremaining: 1.64s\n",
      "25:\tlearn: 0.6890085\ttest: 0.6820330\tbest: 0.6820330 (25)\ttotal: 180ms\tremaining: 1.15s\n",
      "50:\tlearn: 0.6881473\ttest: 0.6810840\tbest: 0.6810840 (50)\ttotal: 341ms\tremaining: 950ms\n",
      "75:\tlearn: 0.6873308\ttest: 0.6802584\tbest: 0.6802584 (75)\ttotal: 497ms\tremaining: 765ms\n",
      "100:\tlearn: 0.6867448\ttest: 0.6798834\tbest: 0.6798834 (100)\ttotal: 657ms\tremaining: 598ms\n",
      "125:\tlearn: 0.6861754\ttest: 0.6793660\tbest: 0.6793660 (125)\ttotal: 821ms\tremaining: 437ms\n",
      "150:\tlearn: 0.6855276\ttest: 0.6791068\tbest: 0.6791068 (150)\ttotal: 982ms\tremaining: 273ms\n",
      "175:\tlearn: 0.6850037\ttest: 0.6789890\tbest: 0.6789890 (175)\ttotal: 1.14s\tremaining: 110ms\n",
      "192:\tlearn: 0.6847098\ttest: 0.6788621\tbest: 0.6788621 (192)\ttotal: 1.25s\tremaining: 0us\n",
      "\n",
      "bestTest = 0.6788621472\n",
      "bestIteration = 192\n",
      "\n",
      "0:\tlearn: 0.6924100\ttest: 0.6911718\tbest: 0.6911718 (0)\ttotal: 8.63ms\tremaining: 1.66s\n",
      "25:\tlearn: 0.6891686\ttest: 0.6818888\tbest: 0.6818888 (25)\ttotal: 168ms\tremaining: 1.08s\n",
      "50:\tlearn: 0.6882813\ttest: 0.6811615\tbest: 0.6811615 (50)\ttotal: 329ms\tremaining: 916ms\n",
      "75:\tlearn: 0.6875547\ttest: 0.6807385\tbest: 0.6807385 (75)\ttotal: 485ms\tremaining: 747ms\n",
      "100:\tlearn: 0.6868492\ttest: 0.6803794\tbest: 0.6803794 (100)\ttotal: 642ms\tremaining: 584ms\n",
      "125:\tlearn: 0.6862560\ttest: 0.6800036\tbest: 0.6800036 (125)\ttotal: 798ms\tremaining: 424ms\n",
      "150:\tlearn: 0.6857405\ttest: 0.6796766\tbest: 0.6796766 (150)\ttotal: 957ms\tremaining: 266ms\n",
      "175:\tlearn: 0.6852051\ttest: 0.6794513\tbest: 0.6794513 (175)\ttotal: 1.11s\tremaining: 108ms\n",
      "192:\tlearn: 0.6848203\ttest: 0.6793538\tbest: 0.6793538 (192)\ttotal: 1.22s\tremaining: 0us\n",
      "\n",
      "bestTest = 0.6793538064\n",
      "bestIteration = 192\n",
      "\n",
      "0:\tlearn: 0.6922701\ttest: 0.6909368\tbest: 0.6909368 (0)\ttotal: 8.97ms\tremaining: 1.72s\n",
      "25:\tlearn: 0.6889967\ttest: 0.6817444\tbest: 0.6817444 (25)\ttotal: 168ms\tremaining: 1.08s\n",
      "50:\tlearn: 0.6882519\ttest: 0.6809323\tbest: 0.6809323 (50)\ttotal: 329ms\tremaining: 915ms\n",
      "75:\tlearn: 0.6875698\ttest: 0.6807316\tbest: 0.6807316 (75)\ttotal: 485ms\tremaining: 747ms\n",
      "100:\tlearn: 0.6869761\ttest: 0.6803211\tbest: 0.6803211 (100)\ttotal: 643ms\tremaining: 586ms\n",
      "125:\tlearn: 0.6865349\ttest: 0.6799213\tbest: 0.6799213 (125)\ttotal: 795ms\tremaining: 423ms\n",
      "150:\tlearn: 0.6860238\ttest: 0.6795254\tbest: 0.6795254 (150)\ttotal: 957ms\tremaining: 266ms\n",
      "175:\tlearn: 0.6856011\ttest: 0.6792916\tbest: 0.6792916 (175)\ttotal: 1.12s\tremaining: 108ms\n"
     ]
    },
    {
     "name": "stderr",
     "output_type": "stream",
     "text": [
      "2022-03-30 14:14:11 mean cv_value 0.060326556551142115 | std cv_value 0.010253229785006732 \n",
      "2022-03-30 14:14:11 ---------------------------------------------\n"
     ]
    },
    {
     "name": "stdout",
     "output_type": "stream",
     "text": [
      "192:\tlearn: 0.6852594\ttest: 0.6791051\tbest: 0.6791051 (192)\ttotal: 1.22s\tremaining: 0us\n",
      "\n",
      "bestTest = 0.6791050684\n",
      "bestIteration = 192\n",
      "\n"
     ]
    },
    {
     "name": "stderr",
     "output_type": "stream",
     "text": [
      "2022-03-30 14:14:15 [TRAIN_MODEL] Training model\n",
      "2022-03-30 14:14:15 Set of params....., {'depth': 7, 'iterations': 154, 'learning_rate': 0.01591353042827869, 'colsample_bylevel': 0.5}\n"
     ]
    },
    {
     "name": "stdout",
     "output_type": "stream",
     "text": [
      "Iteration No: 178 ended. Search finished for the next optimal point.\n",
      "Time taken: 9.0301\n",
      "Function value obtained: -0.0603\n",
      "Current minimum: -0.0699\n",
      "Iteration No: 179 started. Searching for the next optimal point.\n",
      "0:\tlearn: 0.6930270\ttest: 0.6929020\tbest: 0.6929020 (0)\ttotal: 18ms\tremaining: 2.75s\n",
      "25:\tlearn: 0.6905614\ttest: 0.6882052\tbest: 0.6882052 (25)\ttotal: 434ms\tremaining: 2.13s\n",
      "50:\tlearn: 0.6889281\ttest: 0.6852333\tbest: 0.6852333 (50)\ttotal: 836ms\tremaining: 1.69s\n",
      "75:\tlearn: 0.6876869\ttest: 0.6831558\tbest: 0.6831558 (75)\ttotal: 1.23s\tremaining: 1.26s\n",
      "100:\tlearn: 0.6866579\ttest: 0.6816501\tbest: 0.6816501 (100)\ttotal: 1.64s\tremaining: 858ms\n",
      "125:\tlearn: 0.6858264\ttest: 0.6805809\tbest: 0.6805809 (125)\ttotal: 2.03s\tremaining: 451ms\n",
      "150:\tlearn: 0.6850049\ttest: 0.6797479\tbest: 0.6797479 (150)\ttotal: 2.42s\tremaining: 48ms\n",
      "153:\tlearn: 0.6849314\ttest: 0.6796777\tbest: 0.6796777 (153)\ttotal: 2.46s\tremaining: 0us\n",
      "\n",
      "bestTest = 0.6796776746\n",
      "bestIteration = 153\n",
      "\n",
      "0:\tlearn: 0.6930242\ttest: 0.6929027\tbest: 0.6929027 (0)\ttotal: 16.5ms\tremaining: 2.52s\n",
      "25:\tlearn: 0.6906108\ttest: 0.6883205\tbest: 0.6883205 (25)\ttotal: 427ms\tremaining: 2.1s\n",
      "50:\tlearn: 0.6890169\ttest: 0.6854022\tbest: 0.6854022 (50)\ttotal: 828ms\tremaining: 1.67s\n",
      "75:\tlearn: 0.6878061\ttest: 0.6833993\tbest: 0.6833993 (75)\ttotal: 1.23s\tremaining: 1.26s\n",
      "100:\tlearn: 0.6867651\ttest: 0.6819415\tbest: 0.6819415 (100)\ttotal: 1.63s\tremaining: 858ms\n",
      "125:\tlearn: 0.6858814\ttest: 0.6809271\tbest: 0.6809271 (125)\ttotal: 2.02s\tremaining: 450ms\n",
      "150:\tlearn: 0.6850261\ttest: 0.6800491\tbest: 0.6800491 (150)\ttotal: 2.42s\tremaining: 48.1ms\n",
      "153:\tlearn: 0.6849406\ttest: 0.6799699\tbest: 0.6799699 (153)\ttotal: 2.47s\tremaining: 0us\n",
      "\n",
      "bestTest = 0.6799698914\n",
      "bestIteration = 153\n",
      "\n",
      "0:\tlearn: 0.6930203\ttest: 0.6929096\tbest: 0.6929096 (0)\ttotal: 17.8ms\tremaining: 2.72s\n",
      "25:\tlearn: 0.6906763\ttest: 0.6883755\tbest: 0.6883755 (25)\ttotal: 428ms\tremaining: 2.11s\n",
      "50:\tlearn: 0.6890992\ttest: 0.6854426\tbest: 0.6854426 (50)\ttotal: 834ms\tremaining: 1.68s\n",
      "75:\tlearn: 0.6879005\ttest: 0.6834329\tbest: 0.6834329 (75)\ttotal: 1.23s\tremaining: 1.27s\n",
      "100:\tlearn: 0.6868917\ttest: 0.6819993\tbest: 0.6819993 (100)\ttotal: 1.64s\tremaining: 860ms\n",
      "125:\tlearn: 0.6860055\ttest: 0.6808743\tbest: 0.6808743 (125)\ttotal: 2.03s\tremaining: 451ms\n"
     ]
    },
    {
     "name": "stderr",
     "output_type": "stream",
     "text": [
      "2022-03-30 14:14:23 mean cv_value 0.06406295993699067 | std cv_value 0.0081494090327542 \n",
      "2022-03-30 14:14:23 ---------------------------------------------\n"
     ]
    },
    {
     "name": "stdout",
     "output_type": "stream",
     "text": [
      "150:\tlearn: 0.6851612\ttest: 0.6800229\tbest: 0.6800229 (150)\ttotal: 2.42s\tremaining: 48.2ms\n",
      "153:\tlearn: 0.6850921\ttest: 0.6799438\tbest: 0.6799438 (153)\ttotal: 2.47s\tremaining: 0us\n",
      "\n",
      "bestTest = 0.6799437777\n",
      "bestIteration = 153\n",
      "\n"
     ]
    },
    {
     "name": "stderr",
     "output_type": "stream",
     "text": [
      "2022-03-30 14:14:28 [TRAIN_MODEL] Training model\n",
      "2022-03-30 14:14:28 Set of params....., {'depth': 7, 'iterations': 153, 'learning_rate': 0.015841925601185976, 'colsample_bylevel': 0.5}\n"
     ]
    },
    {
     "name": "stdout",
     "output_type": "stream",
     "text": [
      "Iteration No: 179 ended. Search finished for the next optimal point.\n",
      "Time taken: 13.0390\n",
      "Function value obtained: -0.0641\n",
      "Current minimum: -0.0699\n",
      "Iteration No: 180 started. Searching for the next optimal point.\n",
      "0:\tlearn: 0.6930254\ttest: 0.6929031\tbest: 0.6929031 (0)\ttotal: 17.8ms\tremaining: 2.7s\n",
      "25:\tlearn: 0.6905708\ttest: 0.6882235\tbest: 0.6882235 (25)\ttotal: 426ms\tremaining: 2.08s\n",
      "50:\tlearn: 0.6889450\ttest: 0.6852436\tbest: 0.6852436 (50)\ttotal: 831ms\tremaining: 1.66s\n",
      "75:\tlearn: 0.6877068\ttest: 0.6832085\tbest: 0.6832085 (75)\ttotal: 1.23s\tremaining: 1.25s\n",
      "100:\tlearn: 0.6866994\ttest: 0.6817292\tbest: 0.6817292 (100)\ttotal: 1.63s\tremaining: 839ms\n",
      "125:\tlearn: 0.6858738\ttest: 0.6806674\tbest: 0.6806674 (125)\ttotal: 2.03s\tremaining: 436ms\n",
      "150:\tlearn: 0.6850919\ttest: 0.6798390\tbest: 0.6798390 (150)\ttotal: 2.43s\tremaining: 32.2ms\n",
      "152:\tlearn: 0.6850375\ttest: 0.6797916\tbest: 0.6797916 (152)\ttotal: 2.46s\tremaining: 0us\n",
      "\n",
      "bestTest = 0.6797915882\n",
      "bestIteration = 152\n",
      "\n",
      "0:\tlearn: 0.6930247\ttest: 0.6929038\tbest: 0.6929038 (0)\ttotal: 20.2ms\tremaining: 3.07s\n",
      "25:\tlearn: 0.6906262\ttest: 0.6883409\tbest: 0.6883409 (25)\ttotal: 434ms\tremaining: 2.12s\n",
      "50:\tlearn: 0.6890004\ttest: 0.6853750\tbest: 0.6853750 (50)\ttotal: 842ms\tremaining: 1.68s\n",
      "75:\tlearn: 0.6877876\ttest: 0.6833682\tbest: 0.6833682 (75)\ttotal: 1.24s\tremaining: 1.26s\n",
      "100:\tlearn: 0.6867518\ttest: 0.6818941\tbest: 0.6818941 (100)\ttotal: 1.65s\tremaining: 848ms\n",
      "125:\tlearn: 0.6858518\ttest: 0.6808440\tbest: 0.6808440 (125)\ttotal: 2.04s\tremaining: 438ms\n",
      "150:\tlearn: 0.6850132\ttest: 0.6799476\tbest: 0.6799476 (150)\ttotal: 2.44s\tremaining: 32.4ms\n",
      "152:\tlearn: 0.6849527\ttest: 0.6798775\tbest: 0.6798775 (152)\ttotal: 2.48s\tremaining: 0us\n",
      "\n",
      "bestTest = 0.6798774605\n",
      "bestIteration = 152\n",
      "\n",
      "0:\tlearn: 0.6930218\ttest: 0.6929107\tbest: 0.6929107 (0)\ttotal: 17.9ms\tremaining: 2.72s\n",
      "25:\tlearn: 0.6906847\ttest: 0.6884499\tbest: 0.6884499 (25)\ttotal: 428ms\tremaining: 2.09s\n",
      "50:\tlearn: 0.6891177\ttest: 0.6854654\tbest: 0.6854654 (50)\ttotal: 835ms\tremaining: 1.67s\n",
      "75:\tlearn: 0.6879182\ttest: 0.6834303\tbest: 0.6834303 (75)\ttotal: 1.24s\tremaining: 1.25s\n",
      "100:\tlearn: 0.6868978\ttest: 0.6820047\tbest: 0.6820047 (100)\ttotal: 1.65s\tremaining: 847ms\n",
      "125:\tlearn: 0.6860103\ttest: 0.6809357\tbest: 0.6809357 (125)\ttotal: 2.04s\tremaining: 438ms\n"
     ]
    },
    {
     "name": "stderr",
     "output_type": "stream",
     "text": [
      "2022-03-30 14:14:36 mean cv_value 0.06341005764801279 | std cv_value 0.007123737735013259 \n",
      "2022-03-30 14:14:36 ---------------------------------------------\n"
     ]
    },
    {
     "name": "stdout",
     "output_type": "stream",
     "text": [
      "150:\tlearn: 0.6852076\ttest: 0.6800465\tbest: 0.6800465 (150)\ttotal: 2.44s\tremaining: 32.3ms\n",
      "152:\tlearn: 0.6851652\ttest: 0.6799926\tbest: 0.6799926 (152)\ttotal: 2.47s\tremaining: 0us\n",
      "\n",
      "bestTest = 0.6799926199\n",
      "bestIteration = 152\n",
      "\n"
     ]
    },
    {
     "name": "stderr",
     "output_type": "stream",
     "text": [
      "2022-03-30 14:14:41 [TRAIN_MODEL] Training model\n",
      "2022-03-30 14:14:41 Set of params....., {'depth': 7, 'iterations': 153, 'learning_rate': 0.016098503548630846, 'colsample_bylevel': 0.5}\n"
     ]
    },
    {
     "name": "stdout",
     "output_type": "stream",
     "text": [
      "Iteration No: 180 ended. Search finished for the next optimal point.\n",
      "Time taken: 12.9376\n",
      "Function value obtained: -0.0634\n",
      "Current minimum: -0.0699\n",
      "Iteration No: 181 started. Searching for the next optimal point.\n",
      "0:\tlearn: 0.6930182\ttest: 0.6928991\tbest: 0.6928991 (0)\ttotal: 19.7ms\tremaining: 2.99s\n",
      "25:\tlearn: 0.6905377\ttest: 0.6881604\tbest: 0.6881604 (25)\ttotal: 435ms\tremaining: 2.12s\n",
      "50:\tlearn: 0.6888920\ttest: 0.6851620\tbest: 0.6851620 (50)\ttotal: 845ms\tremaining: 1.69s\n",
      "75:\tlearn: 0.6876376\ttest: 0.6830915\tbest: 0.6830915 (75)\ttotal: 1.25s\tremaining: 1.27s\n",
      "100:\tlearn: 0.6866057\ttest: 0.6816421\tbest: 0.6816421 (100)\ttotal: 1.66s\tremaining: 854ms\n",
      "125:\tlearn: 0.6857615\ttest: 0.6806151\tbest: 0.6806151 (125)\ttotal: 2.06s\tremaining: 442ms\n",
      "150:\tlearn: 0.6849766\ttest: 0.6797954\tbest: 0.6797954 (150)\ttotal: 2.46s\tremaining: 32.6ms\n",
      "152:\tlearn: 0.6849212\ttest: 0.6797341\tbest: 0.6797341 (152)\ttotal: 2.49s\tremaining: 0us\n",
      "\n",
      "bestTest = 0.6797340726\n",
      "bestIteration = 152\n",
      "\n",
      "0:\tlearn: 0.6930183\ttest: 0.6928999\tbest: 0.6928999 (0)\ttotal: 19.2ms\tremaining: 2.92s\n",
      "25:\tlearn: 0.6905993\ttest: 0.6882769\tbest: 0.6882769 (25)\ttotal: 423ms\tremaining: 2.07s\n",
      "50:\tlearn: 0.6889668\ttest: 0.6853086\tbest: 0.6853086 (50)\ttotal: 830ms\tremaining: 1.66s\n",
      "75:\tlearn: 0.6877564\ttest: 0.6832570\tbest: 0.6832570 (75)\ttotal: 1.24s\tremaining: 1.25s\n",
      "100:\tlearn: 0.6866980\ttest: 0.6817895\tbest: 0.6817895 (100)\ttotal: 1.64s\tremaining: 844ms\n",
      "125:\tlearn: 0.6857811\ttest: 0.6806609\tbest: 0.6806609 (125)\ttotal: 2.04s\tremaining: 436ms\n",
      "150:\tlearn: 0.6849540\ttest: 0.6798123\tbest: 0.6798123 (150)\ttotal: 2.43s\tremaining: 32.2ms\n",
      "152:\tlearn: 0.6848931\ttest: 0.6797633\tbest: 0.6797633 (152)\ttotal: 2.47s\tremaining: 0us\n",
      "\n",
      "bestTest = 0.6797632688\n",
      "bestIteration = 152\n",
      "\n",
      "0:\tlearn: 0.6930162\ttest: 0.6929069\tbest: 0.6929069 (0)\ttotal: 19.9ms\tremaining: 3.03s\n",
      "25:\tlearn: 0.6906650\ttest: 0.6883906\tbest: 0.6883906 (25)\ttotal: 431ms\tremaining: 2.1s\n",
      "50:\tlearn: 0.6890953\ttest: 0.6853944\tbest: 0.6853944 (50)\ttotal: 838ms\tremaining: 1.68s\n",
      "75:\tlearn: 0.6878979\ttest: 0.6833801\tbest: 0.6833801 (75)\ttotal: 1.24s\tremaining: 1.26s\n",
      "100:\tlearn: 0.6868580\ttest: 0.6819600\tbest: 0.6819600 (100)\ttotal: 1.64s\tremaining: 845ms\n",
      "125:\tlearn: 0.6859490\ttest: 0.6808799\tbest: 0.6808799 (125)\ttotal: 2.04s\tremaining: 436ms\n"
     ]
    },
    {
     "name": "stderr",
     "output_type": "stream",
     "text": [
      "2022-03-30 14:14:49 mean cv_value 0.06447173653426817 | std cv_value 0.010175727138791607 \n",
      "2022-03-30 14:14:49 ---------------------------------------------\n"
     ]
    },
    {
     "name": "stdout",
     "output_type": "stream",
     "text": [
      "150:\tlearn: 0.6851225\ttest: 0.6800034\tbest: 0.6800034 (150)\ttotal: 2.44s\tremaining: 32.3ms\n",
      "152:\tlearn: 0.6850825\ttest: 0.6799520\tbest: 0.6799520 (152)\ttotal: 2.47s\tremaining: 0us\n",
      "\n",
      "bestTest = 0.6799519802\n",
      "bestIteration = 152\n",
      "\n"
     ]
    },
    {
     "name": "stderr",
     "output_type": "stream",
     "text": [
      "2022-03-30 14:14:55 [TRAIN_MODEL] Training model\n",
      "2022-03-30 14:14:55 Set of params....., {'depth': 7, 'iterations': 152, 'learning_rate': 0.016007181283644617, 'colsample_bylevel': 0.5}\n"
     ]
    },
    {
     "name": "stdout",
     "output_type": "stream",
     "text": [
      "Iteration No: 181 ended. Search finished for the next optimal point.\n",
      "Time taken: 13.3187\n",
      "Function value obtained: -0.0645\n",
      "Current minimum: -0.0699\n",
      "Iteration No: 182 started. Searching for the next optimal point.\n",
      "0:\tlearn: 0.6930168\ttest: 0.6929005\tbest: 0.6929005 (0)\ttotal: 18.2ms\tremaining: 2.75s\n",
      "25:\tlearn: 0.6905493\ttest: 0.6881825\tbest: 0.6881825 (25)\ttotal: 435ms\tremaining: 2.11s\n",
      "50:\tlearn: 0.6889072\ttest: 0.6851981\tbest: 0.6851981 (50)\ttotal: 847ms\tremaining: 1.68s\n",
      "75:\tlearn: 0.6876637\ttest: 0.6831350\tbest: 0.6831350 (75)\ttotal: 1.25s\tremaining: 1.25s\n",
      "100:\tlearn: 0.6866350\ttest: 0.6816997\tbest: 0.6816997 (100)\ttotal: 1.65s\tremaining: 833ms\n",
      "125:\tlearn: 0.6857588\ttest: 0.6806388\tbest: 0.6806388 (125)\ttotal: 2.04s\tremaining: 422ms\n",
      "150:\tlearn: 0.6849472\ttest: 0.6797567\tbest: 0.6797567 (150)\ttotal: 2.43s\tremaining: 16.1ms\n",
      "151:\tlearn: 0.6849214\ttest: 0.6797240\tbest: 0.6797240 (151)\ttotal: 2.45s\tremaining: 0us\n",
      "\n",
      "bestTest = 0.6797240329\n",
      "bestIteration = 151\n",
      "\n",
      "0:\tlearn: 0.6930224\ttest: 0.6929013\tbest: 0.6929013 (0)\ttotal: 17.1ms\tremaining: 2.58s\n",
      "25:\tlearn: 0.6905917\ttest: 0.6882812\tbest: 0.6882812 (25)\ttotal: 415ms\tremaining: 2.01s\n",
      "50:\tlearn: 0.6889813\ttest: 0.6853761\tbest: 0.6853761 (50)\ttotal: 824ms\tremaining: 1.63s\n",
      "75:\tlearn: 0.6877265\ttest: 0.6833380\tbest: 0.6833380 (75)\ttotal: 1.23s\tremaining: 1.23s\n",
      "100:\tlearn: 0.6866798\ttest: 0.6818768\tbest: 0.6818768 (100)\ttotal: 1.64s\tremaining: 828ms\n",
      "125:\tlearn: 0.6857342\ttest: 0.6807733\tbest: 0.6807733 (125)\ttotal: 2.04s\tremaining: 421ms\n",
      "150:\tlearn: 0.6848861\ttest: 0.6798750\tbest: 0.6798750 (150)\ttotal: 2.44s\tremaining: 16.2ms\n",
      "151:\tlearn: 0.6848412\ttest: 0.6798393\tbest: 0.6798393 (151)\ttotal: 2.46s\tremaining: 0us\n",
      "\n",
      "bestTest = 0.6798392788\n",
      "bestIteration = 151\n",
      "\n",
      "0:\tlearn: 0.6930196\ttest: 0.6929082\tbest: 0.6929082 (0)\ttotal: 18.2ms\tremaining: 2.75s\n",
      "25:\tlearn: 0.6906841\ttest: 0.6884147\tbest: 0.6884147 (25)\ttotal: 434ms\tremaining: 2.1s\n",
      "50:\tlearn: 0.6891141\ttest: 0.6854640\tbest: 0.6854640 (50)\ttotal: 847ms\tremaining: 1.68s\n",
      "75:\tlearn: 0.6879294\ttest: 0.6834354\tbest: 0.6834354 (75)\ttotal: 1.26s\tremaining: 1.26s\n",
      "100:\tlearn: 0.6869305\ttest: 0.6820586\tbest: 0.6820586 (100)\ttotal: 1.67s\tremaining: 844ms\n",
      "125:\tlearn: 0.6860404\ttest: 0.6809987\tbest: 0.6809987 (125)\ttotal: 2.08s\tremaining: 430ms\n"
     ]
    },
    {
     "name": "stderr",
     "output_type": "stream",
     "text": [
      "2022-03-30 14:15:03 mean cv_value 0.06294075011292044 | std cv_value 0.00712461352522579 \n",
      "2022-03-30 14:15:03 ---------------------------------------------\n"
     ]
    },
    {
     "name": "stdout",
     "output_type": "stream",
     "text": [
      "150:\tlearn: 0.6851654\ttest: 0.6800990\tbest: 0.6800990 (150)\ttotal: 2.48s\tremaining: 16.4ms\n",
      "151:\tlearn: 0.6851356\ttest: 0.6800709\tbest: 0.6800709 (151)\ttotal: 2.5s\tremaining: 0us\n",
      "\n",
      "bestTest = 0.6800708722\n",
      "bestIteration = 151\n",
      "\n"
     ]
    },
    {
     "name": "stderr",
     "output_type": "stream",
     "text": [
      "2022-03-30 14:15:08 [TRAIN_MODEL] Training model\n",
      "2022-03-30 14:15:08 Set of params....., {'depth': 7, 'iterations': 151, 'learning_rate': 0.016655423547062394, 'colsample_bylevel': 0.5}\n"
     ]
    },
    {
     "name": "stdout",
     "output_type": "stream",
     "text": [
      "Iteration No: 182 ended. Search finished for the next optimal point.\n",
      "Time taken: 13.2956\n",
      "Function value obtained: -0.0629\n",
      "Current minimum: -0.0699\n",
      "Iteration No: 183 started. Searching for the next optimal point.\n",
      "0:\tlearn: 0.6930163\ttest: 0.6928906\tbest: 0.6928906 (0)\ttotal: 43.1ms\tremaining: 6.46s\n",
      "25:\tlearn: 0.6904728\ttest: 0.6880504\tbest: 0.6880504 (25)\ttotal: 479ms\tremaining: 2.3s\n",
      "50:\tlearn: 0.6888044\ttest: 0.6850297\tbest: 0.6850297 (50)\ttotal: 890ms\tremaining: 1.75s\n",
      "75:\tlearn: 0.6875157\ttest: 0.6829439\tbest: 0.6829439 (75)\ttotal: 1.29s\tremaining: 1.28s\n",
      "100:\tlearn: 0.6864540\ttest: 0.6814515\tbest: 0.6814515 (100)\ttotal: 1.7s\tremaining: 839ms\n",
      "125:\tlearn: 0.6855909\ttest: 0.6803802\tbest: 0.6803802 (125)\ttotal: 2.09s\tremaining: 415ms\n",
      "150:\tlearn: 0.6847647\ttest: 0.6795717\tbest: 0.6795717 (150)\ttotal: 2.49s\tremaining: 0us\n",
      "\n",
      "bestTest = 0.6795716646\n",
      "bestIteration = 150\n",
      "\n",
      "0:\tlearn: 0.6930144\ttest: 0.6928914\tbest: 0.6928914 (0)\ttotal: 20.1ms\tremaining: 3.01s\n",
      "25:\tlearn: 0.6905114\ttest: 0.6880894\tbest: 0.6880894 (25)\ttotal: 435ms\tremaining: 2.09s\n",
      "50:\tlearn: 0.6888984\ttest: 0.6852184\tbest: 0.6852184 (50)\ttotal: 850ms\tremaining: 1.67s\n",
      "75:\tlearn: 0.6876297\ttest: 0.6831443\tbest: 0.6831443 (75)\ttotal: 1.26s\tremaining: 1.24s\n",
      "100:\tlearn: 0.6865277\ttest: 0.6816497\tbest: 0.6816497 (100)\ttotal: 1.67s\tremaining: 825ms\n",
      "125:\tlearn: 0.6856166\ttest: 0.6806126\tbest: 0.6806126 (125)\ttotal: 2.06s\tremaining: 409ms\n",
      "150:\tlearn: 0.6847289\ttest: 0.6797661\tbest: 0.6797661 (150)\ttotal: 2.46s\tremaining: 0us\n",
      "\n",
      "bestTest = 0.6797660888\n",
      "bestIteration = 150\n",
      "\n",
      "0:\tlearn: 0.6930134\ttest: 0.6928986\tbest: 0.6928986 (0)\ttotal: 19.4ms\tremaining: 2.91s\n",
      "25:\tlearn: 0.6906052\ttest: 0.6882476\tbest: 0.6882476 (25)\ttotal: 432ms\tremaining: 2.08s\n",
      "50:\tlearn: 0.6889704\ttest: 0.6852318\tbest: 0.6852318 (50)\ttotal: 847ms\tremaining: 1.66s\n",
      "75:\tlearn: 0.6877575\ttest: 0.6832071\tbest: 0.6832071 (75)\ttotal: 1.26s\tremaining: 1.24s\n",
      "100:\tlearn: 0.6867241\ttest: 0.6817558\tbest: 0.6817558 (100)\ttotal: 1.66s\tremaining: 824ms\n",
      "125:\tlearn: 0.6858111\ttest: 0.6806635\tbest: 0.6806635 (125)\ttotal: 2.07s\tremaining: 410ms\n"
     ]
    },
    {
     "name": "stderr",
     "output_type": "stream",
     "text": [
      "2022-03-30 14:15:16 mean cv_value 0.06502118208268685 | std cv_value 0.008466035233800174 \n",
      "2022-03-30 14:15:16 ---------------------------------------------\n"
     ]
    },
    {
     "name": "stdout",
     "output_type": "stream",
     "text": [
      "150:\tlearn: 0.6849215\ttest: 0.6797556\tbest: 0.6797556 (150)\ttotal: 2.47s\tremaining: 0us\n",
      "\n",
      "bestTest = 0.6797555634\n",
      "bestIteration = 150\n",
      "\n"
     ]
    },
    {
     "name": "stderr",
     "output_type": "stream",
     "text": [
      "2022-03-30 14:15:21 [TRAIN_MODEL] Training model\n",
      "2022-03-30 14:15:21 Set of params....., {'depth': 10, 'iterations': 192, 'learning_rate': 0.08492362967964837, 'colsample_bylevel': 0.7520960337138627}\n"
     ]
    },
    {
     "name": "stdout",
     "output_type": "stream",
     "text": [
      "Iteration No: 183 ended. Search finished for the next optimal point.\n",
      "Time taken: 13.2776\n",
      "Function value obtained: -0.0650\n",
      "Current minimum: -0.0699\n",
      "Iteration No: 184 started. Searching for the next optimal point.\n",
      "0:\tlearn: 0.6916604\ttest: 0.6914177\tbest: 0.6914177 (0)\ttotal: 44.6ms\tremaining: 8.52s\n",
      "25:\tlearn: 0.6709185\ttest: 0.6720809\tbest: 0.6720809 (25)\ttotal: 1.05s\tremaining: 6.74s\n",
      "50:\tlearn: 0.6574243\ttest: 0.6639811\tbest: 0.6639811 (50)\ttotal: 2.01s\tremaining: 5.55s\n",
      "75:\tlearn: 0.6446558\ttest: 0.6574270\tbest: 0.6574270 (75)\ttotal: 2.96s\tremaining: 4.51s\n",
      "100:\tlearn: 0.6334221\ttest: 0.6516655\tbest: 0.6516655 (100)\ttotal: 3.91s\tremaining: 3.53s\n",
      "125:\tlearn: 0.6224579\ttest: 0.6462102\tbest: 0.6462102 (125)\ttotal: 4.87s\tremaining: 2.55s\n",
      "150:\tlearn: 0.6125291\ttest: 0.6413850\tbest: 0.6413850 (150)\ttotal: 5.83s\tremaining: 1.58s\n",
      "175:\tlearn: 0.6044397\ttest: 0.6371196\tbest: 0.6371196 (175)\ttotal: 6.77s\tremaining: 616ms\n",
      "191:\tlearn: 0.5993638\ttest: 0.6346300\tbest: 0.6346300 (191)\ttotal: 7.38s\tremaining: 0us\n",
      "\n",
      "bestTest = 0.634630031\n",
      "bestIteration = 191\n",
      "\n",
      "0:\tlearn: 0.6916424\ttest: 0.6914753\tbest: 0.6914753 (0)\ttotal: 55.1ms\tremaining: 10.5s\n",
      "25:\tlearn: 0.6693866\ttest: 0.6718109\tbest: 0.6718109 (25)\ttotal: 1.04s\tremaining: 6.64s\n",
      "50:\tlearn: 0.6544266\ttest: 0.6632262\tbest: 0.6632262 (50)\ttotal: 2s\tremaining: 5.54s\n",
      "75:\tlearn: 0.6435472\ttest: 0.6574333\tbest: 0.6574333 (75)\ttotal: 2.95s\tremaining: 4.51s\n",
      "100:\tlearn: 0.6333630\ttest: 0.6523355\tbest: 0.6523355 (100)\ttotal: 3.9s\tremaining: 3.52s\n",
      "125:\tlearn: 0.6234254\ttest: 0.6472094\tbest: 0.6472094 (125)\ttotal: 4.85s\tremaining: 2.54s\n",
      "150:\tlearn: 0.6132076\ttest: 0.6423768\tbest: 0.6423768 (150)\ttotal: 5.8s\tremaining: 1.57s\n",
      "175:\tlearn: 0.6053314\ttest: 0.6386806\tbest: 0.6386806 (175)\ttotal: 6.72s\tremaining: 611ms\n",
      "191:\tlearn: 0.5995618\ttest: 0.6358892\tbest: 0.6358892 (191)\ttotal: 7.33s\tremaining: 0us\n",
      "\n",
      "bestTest = 0.6358891546\n",
      "bestIteration = 191\n",
      "\n",
      "0:\tlearn: 0.6916382\ttest: 0.6914007\tbest: 0.6914007 (0)\ttotal: 54.7ms\tremaining: 10.4s\n",
      "25:\tlearn: 0.6697268\ttest: 0.6718661\tbest: 0.6718661 (25)\ttotal: 1.04s\tremaining: 6.68s\n",
      "50:\tlearn: 0.6551980\ttest: 0.6631627\tbest: 0.6631627 (50)\ttotal: 2s\tremaining: 5.52s\n",
      "75:\tlearn: 0.6430359\ttest: 0.6567458\tbest: 0.6567458 (75)\ttotal: 2.93s\tremaining: 4.48s\n",
      "100:\tlearn: 0.6320205\ttest: 0.6511183\tbest: 0.6511183 (100)\ttotal: 3.88s\tremaining: 3.5s\n",
      "125:\tlearn: 0.6218475\ttest: 0.6461671\tbest: 0.6461671 (125)\ttotal: 4.82s\tremaining: 2.52s\n",
      "150:\tlearn: 0.6123765\ttest: 0.6415172\tbest: 0.6415172 (150)\ttotal: 5.76s\tremaining: 1.56s\n",
      "175:\tlearn: 0.6037979\ttest: 0.6370250\tbest: 0.6370250 (175)\ttotal: 6.69s\tremaining: 609ms\n"
     ]
    },
    {
     "name": "stderr",
     "output_type": "stream",
     "text": [
      "2022-03-30 14:15:44 mean cv_value 0.030108507996342442 | std cv_value 0.013595034734955502 \n",
      "2022-03-30 14:15:44 ---------------------------------------------\n"
     ]
    },
    {
     "name": "stdout",
     "output_type": "stream",
     "text": [
      "191:\tlearn: 0.5981916\ttest: 0.6343756\tbest: 0.6343756 (191)\ttotal: 7.29s\tremaining: 0us\n",
      "\n",
      "bestTest = 0.6343756145\n",
      "bestIteration = 191\n",
      "\n"
     ]
    },
    {
     "name": "stderr",
     "output_type": "stream",
     "text": [
      "2022-03-30 14:15:49 [TRAIN_MODEL] Training model\n",
      "2022-03-30 14:15:49 Set of params....., {'depth': 8, 'iterations': 144, 'learning_rate': 0.017945267363825228, 'colsample_bylevel': 0.5}\n"
     ]
    },
    {
     "name": "stdout",
     "output_type": "stream",
     "text": [
      "Iteration No: 184 ended. Search finished for the next optimal point.\n",
      "Time taken: 27.7915\n",
      "Function value obtained: -0.0301\n",
      "Current minimum: -0.0699\n",
      "Iteration No: 185 started. Searching for the next optimal point.\n",
      "0:\tlearn: 0.6929769\ttest: 0.6928540\tbest: 0.6928540 (0)\ttotal: 50.2ms\tremaining: 7.17s\n",
      "25:\tlearn: 0.6894808\ttest: 0.6871586\tbest: 0.6871586 (25)\ttotal: 648ms\tremaining: 2.94s\n",
      "50:\tlearn: 0.6870663\ttest: 0.6836251\tbest: 0.6836251 (50)\ttotal: 1.21s\tremaining: 2.2s\n",
      "75:\tlearn: 0.6851903\ttest: 0.6812462\tbest: 0.6812462 (75)\ttotal: 1.75s\tremaining: 1.57s\n",
      "100:\tlearn: 0.6835852\ttest: 0.6795231\tbest: 0.6795231 (100)\ttotal: 2.3s\tremaining: 980ms\n",
      "125:\tlearn: 0.6821129\ttest: 0.6781572\tbest: 0.6781572 (125)\ttotal: 2.85s\tremaining: 407ms\n",
      "143:\tlearn: 0.6811738\ttest: 0.6774086\tbest: 0.6774086 (143)\ttotal: 3.24s\tremaining: 0us\n",
      "\n",
      "bestTest = 0.6774085874\n",
      "bestIteration = 143\n",
      "\n",
      "0:\tlearn: 0.6929799\ttest: 0.6928485\tbest: 0.6928485 (0)\ttotal: 23.7ms\tremaining: 3.39s\n",
      "25:\tlearn: 0.6895486\ttest: 0.6872289\tbest: 0.6872289 (25)\ttotal: 579ms\tremaining: 2.63s\n",
      "50:\tlearn: 0.6871183\ttest: 0.6837204\tbest: 0.6837204 (50)\ttotal: 1.13s\tremaining: 2.06s\n",
      "75:\tlearn: 0.6851269\ttest: 0.6812425\tbest: 0.6812425 (75)\ttotal: 1.69s\tremaining: 1.51s\n",
      "100:\tlearn: 0.6834035\ttest: 0.6795020\tbest: 0.6795020 (100)\ttotal: 2.23s\tremaining: 950ms\n",
      "125:\tlearn: 0.6819007\ttest: 0.6781794\tbest: 0.6781794 (125)\ttotal: 2.78s\tremaining: 398ms\n",
      "143:\tlearn: 0.6808405\ttest: 0.6773558\tbest: 0.6773558 (143)\ttotal: 3.17s\tremaining: 0us\n",
      "\n",
      "bestTest = 0.6773558169\n",
      "bestIteration = 143\n",
      "\n",
      "0:\tlearn: 0.6929650\ttest: 0.6928576\tbest: 0.6928576 (0)\ttotal: 23.6ms\tremaining: 3.38s\n",
      "25:\tlearn: 0.6896794\ttest: 0.6874129\tbest: 0.6874129 (25)\ttotal: 591ms\tremaining: 2.68s\n",
      "50:\tlearn: 0.6872665\ttest: 0.6839589\tbest: 0.6839589 (50)\ttotal: 1.15s\tremaining: 2.1s\n",
      "75:\tlearn: 0.6853914\ttest: 0.6815586\tbest: 0.6815586 (75)\ttotal: 1.7s\tremaining: 1.52s\n",
      "100:\tlearn: 0.6837353\ttest: 0.6798090\tbest: 0.6798090 (100)\ttotal: 2.25s\tremaining: 958ms\n",
      "125:\tlearn: 0.6821739\ttest: 0.6784068\tbest: 0.6784068 (125)\ttotal: 2.8s\tremaining: 400ms\n"
     ]
    },
    {
     "name": "stderr",
     "output_type": "stream",
     "text": [
      "2022-03-30 14:15:59 mean cv_value 0.06074050424702274 | std cv_value 0.011996551767764619 \n",
      "2022-03-30 14:15:59 ---------------------------------------------\n"
     ]
    },
    {
     "name": "stdout",
     "output_type": "stream",
     "text": [
      "143:\tlearn: 0.6812423\ttest: 0.6776526\tbest: 0.6776526 (143)\ttotal: 3.2s\tremaining: 0us\n",
      "\n",
      "bestTest = 0.6776526434\n",
      "bestIteration = 143\n",
      "\n"
     ]
    },
    {
     "name": "stderr",
     "output_type": "stream",
     "text": [
      "2022-03-30 14:16:05 [TRAIN_MODEL] Training model\n",
      "2022-03-30 14:16:05 Set of params....., {'depth': 7, 'iterations': 162, 'learning_rate': 0.012766693109633853, 'colsample_bylevel': 1.0}\n"
     ]
    },
    {
     "name": "stdout",
     "output_type": "stream",
     "text": [
      "Iteration No: 185 ended. Search finished for the next optimal point.\n",
      "Time taken: 15.7243\n",
      "Function value obtained: -0.0607\n",
      "Current minimum: -0.0699\n",
      "Iteration No: 186 started. Searching for the next optimal point.\n",
      "0:\tlearn: 0.6930398\ttest: 0.6929646\tbest: 0.6929646 (0)\ttotal: 17.7ms\tremaining: 2.85s\n",
      "25:\tlearn: 0.6909191\ttest: 0.6890190\tbest: 0.6890190 (25)\ttotal: 393ms\tremaining: 2.05s\n",
      "50:\tlearn: 0.6894377\ttest: 0.6862693\tbest: 0.6862693 (50)\ttotal: 754ms\tremaining: 1.64s\n",
      "75:\tlearn: 0.6882958\ttest: 0.6842836\tbest: 0.6842836 (75)\ttotal: 1.11s\tremaining: 1.26s\n",
      "100:\tlearn: 0.6873160\ttest: 0.6827742\tbest: 0.6827742 (100)\ttotal: 1.47s\tremaining: 889ms\n",
      "125:\tlearn: 0.6864622\ttest: 0.6816350\tbest: 0.6816350 (125)\ttotal: 1.82s\tremaining: 521ms\n",
      "150:\tlearn: 0.6857308\ttest: 0.6807389\tbest: 0.6807389 (150)\ttotal: 2.17s\tremaining: 158ms\n",
      "161:\tlearn: 0.6854114\ttest: 0.6804095\tbest: 0.6804095 (161)\ttotal: 2.32s\tremaining: 0us\n",
      "\n",
      "bestTest = 0.6804094748\n",
      "bestIteration = 161\n",
      "\n",
      "0:\tlearn: 0.6930439\ttest: 0.6929650\tbest: 0.6929650 (0)\ttotal: 16.8ms\tremaining: 2.71s\n",
      "25:\tlearn: 0.6909096\ttest: 0.6890080\tbest: 0.6890080 (25)\ttotal: 374ms\tremaining: 1.96s\n",
      "50:\tlearn: 0.6894450\ttest: 0.6862782\tbest: 0.6862782 (50)\ttotal: 726ms\tremaining: 1.58s\n",
      "75:\tlearn: 0.6882949\ttest: 0.6843277\tbest: 0.6843277 (75)\ttotal: 1.09s\tremaining: 1.23s\n",
      "100:\tlearn: 0.6873338\ttest: 0.6828593\tbest: 0.6828593 (100)\ttotal: 1.44s\tremaining: 868ms\n",
      "125:\tlearn: 0.6865022\ttest: 0.6817026\tbest: 0.6817026 (125)\ttotal: 1.78s\tremaining: 509ms\n",
      "150:\tlearn: 0.6857340\ttest: 0.6808160\tbest: 0.6808160 (150)\ttotal: 2.13s\tremaining: 155ms\n",
      "161:\tlearn: 0.6854117\ttest: 0.6804775\tbest: 0.6804775 (161)\ttotal: 2.28s\tremaining: 0us\n",
      "\n",
      "bestTest = 0.6804774508\n",
      "bestIteration = 161\n",
      "\n",
      "0:\tlearn: 0.6930394\ttest: 0.6929529\tbest: 0.6929529 (0)\ttotal: 17.6ms\tremaining: 2.83s\n",
      "25:\tlearn: 0.6910291\ttest: 0.6890422\tbest: 0.6890422 (25)\ttotal: 380ms\tremaining: 1.99s\n",
      "50:\tlearn: 0.6896508\ttest: 0.6864005\tbest: 0.6864005 (50)\ttotal: 742ms\tremaining: 1.61s\n",
      "75:\tlearn: 0.6885540\ttest: 0.6845020\tbest: 0.6845020 (75)\ttotal: 1.09s\tremaining: 1.24s\n",
      "100:\tlearn: 0.6876222\ttest: 0.6830310\tbest: 0.6830310 (100)\ttotal: 1.45s\tremaining: 873ms\n",
      "125:\tlearn: 0.6868238\ttest: 0.6819187\tbest: 0.6819187 (125)\ttotal: 1.79s\tremaining: 512ms\n",
      "150:\tlearn: 0.6860570\ttest: 0.6809875\tbest: 0.6809875 (150)\ttotal: 2.14s\tremaining: 156ms\n",
      "161:\tlearn: 0.6857478\ttest: 0.6806530\tbest: 0.6806530 (161)\ttotal: 2.29s\tremaining: 0us\n",
      "\n",
      "bestTest = 0.6806530201\n",
      "bestIteration = 161\n",
      "\n"
     ]
    },
    {
     "name": "stderr",
     "output_type": "stream",
     "text": [
      "2022-03-30 14:16:12 mean cv_value 0.06434367617246592 | std cv_value 0.010035977210912265 \n",
      "2022-03-30 14:16:12 ---------------------------------------------\n",
      "2022-03-30 14:16:17 [TRAIN_MODEL] Training model\n",
      "2022-03-30 14:16:17 Set of params....., {'depth': 7, 'iterations': 162, 'learning_rate': 0.01215236548330697, 'colsample_bylevel': 0.5}\n"
     ]
    },
    {
     "name": "stdout",
     "output_type": "stream",
     "text": [
      "Iteration No: 186 ended. Search finished for the next optimal point.\n",
      "Time taken: 12.5300\n",
      "Function value obtained: -0.0643\n",
      "Current minimum: -0.0699\n",
      "Iteration No: 187 started. Searching for the next optimal point.\n",
      "0:\tlearn: 0.6930567\ttest: 0.6929597\tbest: 0.6929597 (0)\ttotal: 18.7ms\tremaining: 3.01s\n",
      "25:\tlearn: 0.6910643\ttest: 0.6891661\tbest: 0.6891661 (25)\ttotal: 440ms\tremaining: 2.3s\n",
      "50:\tlearn: 0.6896470\ttest: 0.6864868\tbest: 0.6864868 (50)\ttotal: 850ms\tremaining: 1.85s\n",
      "75:\tlearn: 0.6885509\ttest: 0.6845480\tbest: 0.6845480 (75)\ttotal: 1.25s\tremaining: 1.42s\n",
      "100:\tlearn: 0.6876468\ttest: 0.6830672\tbest: 0.6830672 (100)\ttotal: 1.65s\tremaining: 999ms\n",
      "125:\tlearn: 0.6868419\ttest: 0.6818706\tbest: 0.6818706 (125)\ttotal: 2.06s\tremaining: 588ms\n",
      "150:\tlearn: 0.6861473\ttest: 0.6809795\tbest: 0.6809795 (150)\ttotal: 2.46s\tremaining: 179ms\n",
      "161:\tlearn: 0.6858689\ttest: 0.6806561\tbest: 0.6806561 (161)\ttotal: 2.63s\tremaining: 0us\n",
      "\n",
      "bestTest = 0.6806561166\n",
      "bestIteration = 161\n",
      "\n",
      "0:\tlearn: 0.6930555\ttest: 0.6929603\tbest: 0.6929603 (0)\ttotal: 18.6ms\tremaining: 2.99s\n",
      "25:\tlearn: 0.6910971\ttest: 0.6892279\tbest: 0.6892279 (25)\ttotal: 430ms\tremaining: 2.25s\n",
      "50:\tlearn: 0.6897000\ttest: 0.6866113\tbest: 0.6866113 (50)\ttotal: 833ms\tremaining: 1.81s\n",
      "75:\tlearn: 0.6886187\ttest: 0.6846627\tbest: 0.6846627 (75)\ttotal: 1.24s\tremaining: 1.4s\n",
      "100:\tlearn: 0.6877291\ttest: 0.6832162\tbest: 0.6832162 (100)\ttotal: 1.64s\tremaining: 989ms\n",
      "125:\tlearn: 0.6869321\ttest: 0.6820663\tbest: 0.6820663 (125)\ttotal: 2.03s\tremaining: 581ms\n",
      "150:\tlearn: 0.6862334\ttest: 0.6811793\tbest: 0.6811793 (150)\ttotal: 2.43s\tremaining: 177ms\n",
      "161:\tlearn: 0.6859365\ttest: 0.6808405\tbest: 0.6808405 (161)\ttotal: 2.61s\tremaining: 0us\n",
      "\n",
      "bestTest = 0.6808404696\n",
      "bestIteration = 161\n",
      "\n",
      "0:\tlearn: 0.6930447\ttest: 0.6929656\tbest: 0.6929656 (0)\ttotal: 18.4ms\tremaining: 2.96s\n",
      "25:\tlearn: 0.6911537\ttest: 0.6893244\tbest: 0.6893244 (25)\ttotal: 435ms\tremaining: 2.27s\n",
      "50:\tlearn: 0.6898150\ttest: 0.6867096\tbest: 0.6867096 (50)\ttotal: 845ms\tremaining: 1.84s\n",
      "75:\tlearn: 0.6887726\ttest: 0.6848310\tbest: 0.6848310 (75)\ttotal: 1.25s\tremaining: 1.42s\n",
      "100:\tlearn: 0.6878835\ttest: 0.6834056\tbest: 0.6834056 (100)\ttotal: 1.66s\tremaining: 1s\n",
      "125:\tlearn: 0.6870881\ttest: 0.6822798\tbest: 0.6822798 (125)\ttotal: 2.07s\tremaining: 591ms\n",
      "150:\tlearn: 0.6863898\ttest: 0.6814126\tbest: 0.6814126 (150)\ttotal: 2.47s\tremaining: 180ms\n",
      "161:\tlearn: 0.6861064\ttest: 0.6810565\tbest: 0.6810565 (161)\ttotal: 2.65s\tremaining: 0us\n",
      "\n",
      "bestTest = 0.6810564905\n",
      "bestIteration = 161\n",
      "\n"
     ]
    },
    {
     "name": "stderr",
     "output_type": "stream",
     "text": [
      "2022-03-30 14:16:26 mean cv_value 0.0624093338090408 | std cv_value 0.0077421485093153415 \n",
      "2022-03-30 14:16:26 ---------------------------------------------\n",
      "2022-03-30 14:16:31 [TRAIN_MODEL] Training model\n",
      "2022-03-30 14:16:31 Set of params....., {'depth': 4, 'iterations': 200, 'learning_rate': 0.0764147963747357, 'colsample_bylevel': 0.5}\n"
     ]
    },
    {
     "name": "stdout",
     "output_type": "stream",
     "text": [
      "Iteration No: 187 ended. Search finished for the next optimal point.\n",
      "Time taken: 13.7042\n",
      "Function value obtained: -0.0624\n",
      "Current minimum: -0.0699\n",
      "Iteration No: 188 started. Searching for the next optimal point.\n",
      "0:\tlearn: 0.6927403\ttest: 0.6922325\tbest: 0.6922325 (0)\ttotal: 12.3ms\tremaining: 2.45s\n",
      "25:\tlearn: 0.6893065\ttest: 0.6831705\tbest: 0.6831705 (25)\ttotal: 235ms\tremaining: 1.57s\n",
      "50:\tlearn: 0.6883077\ttest: 0.6813859\tbest: 0.6813859 (50)\ttotal: 470ms\tremaining: 1.37s\n",
      "75:\tlearn: 0.6875311\ttest: 0.6805213\tbest: 0.6805213 (75)\ttotal: 703ms\tremaining: 1.15s\n",
      "100:\tlearn: 0.6868060\ttest: 0.6798623\tbest: 0.6798623 (100)\ttotal: 932ms\tremaining: 914ms\n",
      "125:\tlearn: 0.6861498\ttest: 0.6793271\tbest: 0.6793271 (125)\ttotal: 1.17s\tremaining: 685ms\n",
      "150:\tlearn: 0.6854724\ttest: 0.6789004\tbest: 0.6789004 (150)\ttotal: 1.41s\tremaining: 457ms\n",
      "175:\tlearn: 0.6848098\ttest: 0.6785279\tbest: 0.6785279 (175)\ttotal: 1.65s\tremaining: 224ms\n",
      "199:\tlearn: 0.6842932\ttest: 0.6781701\tbest: 0.6781701 (199)\ttotal: 1.87s\tremaining: 0us\n",
      "\n",
      "bestTest = 0.6781700533\n",
      "bestIteration = 199\n",
      "\n",
      "0:\tlearn: 0.6927594\ttest: 0.6922550\tbest: 0.6922550 (0)\ttotal: 14.2ms\tremaining: 2.82s\n",
      "25:\tlearn: 0.6894680\ttest: 0.6834501\tbest: 0.6834501 (25)\ttotal: 247ms\tremaining: 1.65s\n",
      "50:\tlearn: 0.6884602\ttest: 0.6816771\tbest: 0.6816771 (50)\ttotal: 476ms\tremaining: 1.39s\n",
      "75:\tlearn: 0.6876778\ttest: 0.6809009\tbest: 0.6809009 (75)\ttotal: 709ms\tremaining: 1.16s\n",
      "100:\tlearn: 0.6869792\ttest: 0.6801876\tbest: 0.6801876 (100)\ttotal: 937ms\tremaining: 918ms\n",
      "125:\tlearn: 0.6862857\ttest: 0.6796319\tbest: 0.6796319 (125)\ttotal: 1.17s\tremaining: 688ms\n",
      "150:\tlearn: 0.6856360\ttest: 0.6791969\tbest: 0.6791969 (150)\ttotal: 1.41s\tremaining: 458ms\n",
      "175:\tlearn: 0.6849994\ttest: 0.6788351\tbest: 0.6788351 (175)\ttotal: 1.65s\tremaining: 225ms\n",
      "199:\tlearn: 0.6844718\ttest: 0.6785967\tbest: 0.6785967 (199)\ttotal: 1.89s\tremaining: 0us\n",
      "\n",
      "bestTest = 0.6785966526\n",
      "bestIteration = 199\n",
      "\n",
      "0:\tlearn: 0.6927902\ttest: 0.6923712\tbest: 0.6923712 (0)\ttotal: 11.2ms\tremaining: 2.23s\n",
      "25:\tlearn: 0.6895770\ttest: 0.6835780\tbest: 0.6835780 (25)\ttotal: 236ms\tremaining: 1.58s\n",
      "50:\tlearn: 0.6886260\ttest: 0.6819073\tbest: 0.6819073 (50)\ttotal: 464ms\tremaining: 1.35s\n",
      "75:\tlearn: 0.6878290\ttest: 0.6809210\tbest: 0.6809210 (75)\ttotal: 694ms\tremaining: 1.13s\n",
      "100:\tlearn: 0.6871628\ttest: 0.6802679\tbest: 0.6802679 (100)\ttotal: 926ms\tremaining: 907ms\n",
      "125:\tlearn: 0.6865573\ttest: 0.6797262\tbest: 0.6797262 (125)\ttotal: 1.17s\tremaining: 685ms\n",
      "150:\tlearn: 0.6859466\ttest: 0.6793276\tbest: 0.6793276 (150)\ttotal: 1.4s\tremaining: 455ms\n",
      "175:\tlearn: 0.6853654\ttest: 0.6789655\tbest: 0.6789655 (175)\ttotal: 1.64s\tremaining: 223ms\n"
     ]
    },
    {
     "name": "stderr",
     "output_type": "stream",
     "text": [
      "2022-03-30 14:16:37 mean cv_value 0.06491931449583896 | std cv_value 0.004657053200229745 \n",
      "2022-03-30 14:16:37 ---------------------------------------------\n"
     ]
    },
    {
     "name": "stdout",
     "output_type": "stream",
     "text": [
      "199:\tlearn: 0.6847736\ttest: 0.6786200\tbest: 0.6786200 (199)\ttotal: 1.86s\tremaining: 0us\n",
      "\n",
      "bestTest = 0.6786199677\n",
      "bestIteration = 199\n",
      "\n"
     ]
    },
    {
     "name": "stderr",
     "output_type": "stream",
     "text": [
      "2022-03-30 14:16:43 [TRAIN_MODEL] Training model\n",
      "2022-03-30 14:16:43 Set of params....., {'depth': 4, 'iterations': 200, 'learning_rate': 0.06654258984501904, 'colsample_bylevel': 0.5}\n"
     ]
    },
    {
     "name": "stdout",
     "output_type": "stream",
     "text": [
      "Iteration No: 188 ended. Search finished for the next optimal point.\n",
      "Time taken: 11.5685\n",
      "Function value obtained: -0.0649\n",
      "Current minimum: -0.0699\n",
      "Iteration No: 189 started. Searching for the next optimal point.\n",
      "0:\tlearn: 0.6928029\ttest: 0.6923489\tbest: 0.6923489 (0)\ttotal: 11.4ms\tremaining: 2.27s\n",
      "25:\tlearn: 0.6894989\ttest: 0.6836718\tbest: 0.6836718 (25)\ttotal: 235ms\tremaining: 1.57s\n",
      "50:\tlearn: 0.6885927\ttest: 0.6817082\tbest: 0.6817082 (50)\ttotal: 463ms\tremaining: 1.35s\n",
      "75:\tlearn: 0.6878787\ttest: 0.6808414\tbest: 0.6808414 (75)\ttotal: 692ms\tremaining: 1.13s\n",
      "100:\tlearn: 0.6872198\ttest: 0.6802527\tbest: 0.6802527 (100)\ttotal: 922ms\tremaining: 903ms\n",
      "125:\tlearn: 0.6865853\ttest: 0.6797624\tbest: 0.6797624 (125)\ttotal: 1.15s\tremaining: 675ms\n",
      "150:\tlearn: 0.6860331\ttest: 0.6793791\tbest: 0.6793791 (150)\ttotal: 1.38s\tremaining: 447ms\n",
      "175:\tlearn: 0.6854044\ttest: 0.6789823\tbest: 0.6789823 (175)\ttotal: 1.61s\tremaining: 220ms\n",
      "199:\tlearn: 0.6848593\ttest: 0.6786552\tbest: 0.6786552 (199)\ttotal: 1.83s\tremaining: 0us\n",
      "\n",
      "bestTest = 0.6786551677\n",
      "bestIteration = 199\n",
      "\n",
      "0:\tlearn: 0.6928087\ttest: 0.6923685\tbest: 0.6923685 (0)\ttotal: 10.9ms\tremaining: 2.17s\n",
      "25:\tlearn: 0.6896999\ttest: 0.6840329\tbest: 0.6840329 (25)\ttotal: 232ms\tremaining: 1.55s\n",
      "50:\tlearn: 0.6887546\ttest: 0.6820352\tbest: 0.6820352 (50)\ttotal: 457ms\tremaining: 1.33s\n",
      "75:\tlearn: 0.6880541\ttest: 0.6811829\tbest: 0.6811829 (75)\ttotal: 684ms\tremaining: 1.11s\n",
      "100:\tlearn: 0.6874219\ttest: 0.6805693\tbest: 0.6805693 (100)\ttotal: 913ms\tremaining: 895ms\n",
      "125:\tlearn: 0.6868469\ttest: 0.6800459\tbest: 0.6800459 (125)\ttotal: 1.15s\tremaining: 676ms\n",
      "150:\tlearn: 0.6863228\ttest: 0.6795767\tbest: 0.6795767 (150)\ttotal: 1.39s\tremaining: 451ms\n",
      "175:\tlearn: 0.6857279\ttest: 0.6790774\tbest: 0.6790774 (175)\ttotal: 1.63s\tremaining: 222ms\n",
      "199:\tlearn: 0.6851882\ttest: 0.6787745\tbest: 0.6787745 (199)\ttotal: 1.85s\tremaining: 0us\n",
      "\n",
      "bestTest = 0.6787744724\n",
      "bestIteration = 199\n",
      "\n",
      "0:\tlearn: 0.6928293\ttest: 0.6924699\tbest: 0.6924699 (0)\ttotal: 10.7ms\tremaining: 2.13s\n",
      "25:\tlearn: 0.6897498\ttest: 0.6840972\tbest: 0.6840972 (25)\ttotal: 229ms\tremaining: 1.53s\n",
      "50:\tlearn: 0.6888582\ttest: 0.6821534\tbest: 0.6821534 (50)\ttotal: 451ms\tremaining: 1.32s\n",
      "75:\tlearn: 0.6881847\ttest: 0.6813298\tbest: 0.6813298 (75)\ttotal: 681ms\tremaining: 1.11s\n",
      "100:\tlearn: 0.6875629\ttest: 0.6807755\tbest: 0.6807755 (100)\ttotal: 905ms\tremaining: 887ms\n",
      "125:\tlearn: 0.6869496\ttest: 0.6802274\tbest: 0.6802274 (125)\ttotal: 1.14s\tremaining: 668ms\n",
      "150:\tlearn: 0.6863731\ttest: 0.6797511\tbest: 0.6797511 (150)\ttotal: 1.38s\tremaining: 446ms\n",
      "175:\tlearn: 0.6858392\ttest: 0.6793314\tbest: 0.6793314 (175)\ttotal: 1.61s\tremaining: 220ms\n"
     ]
    },
    {
     "name": "stderr",
     "output_type": "stream",
     "text": [
      "2022-03-30 14:16:49 mean cv_value 0.0608255840483414 | std cv_value 0.006777681355882684 \n",
      "2022-03-30 14:16:49 ---------------------------------------------\n"
     ]
    },
    {
     "name": "stdout",
     "output_type": "stream",
     "text": [
      "199:\tlearn: 0.6853485\ttest: 0.6790735\tbest: 0.6790735 (199)\ttotal: 1.83s\tremaining: 0us\n",
      "\n",
      "bestTest = 0.6790735281\n",
      "bestIteration = 199\n",
      "\n"
     ]
    },
    {
     "name": "stderr",
     "output_type": "stream",
     "text": [
      "2022-03-30 14:16:54 [TRAIN_MODEL] Training model\n",
      "2022-03-30 14:16:54 Set of params....., {'depth': 3, 'iterations': 123, 'learning_rate': 0.2280488026764526, 'colsample_bylevel': 1.0}\n"
     ]
    },
    {
     "name": "stdout",
     "output_type": "stream",
     "text": [
      "Iteration No: 189 ended. Search finished for the next optimal point.\n",
      "Time taken: 11.5424\n",
      "Function value obtained: -0.0608\n",
      "Current minimum: -0.0699\n",
      "Iteration No: 190 started. Searching for the next optimal point.\n",
      "0:\tlearn: 0.6920181\ttest: 0.6904297\tbest: 0.6904297 (0)\ttotal: 24.2ms\tremaining: 2.96s\n",
      "25:\tlearn: 0.6885378\ttest: 0.6814293\tbest: 0.6814293 (25)\ttotal: 197ms\tremaining: 736ms\n",
      "50:\tlearn: 0.6872179\ttest: 0.6802460\tbest: 0.6802460 (50)\ttotal: 371ms\tremaining: 523ms\n",
      "75:\tlearn: 0.6861613\ttest: 0.6795137\tbest: 0.6795137 (75)\ttotal: 537ms\tremaining: 332ms\n",
      "100:\tlearn: 0.6852334\ttest: 0.6789942\tbest: 0.6789942 (100)\ttotal: 706ms\tremaining: 154ms\n",
      "122:\tlearn: 0.6844343\ttest: 0.6786455\tbest: 0.6786455 (122)\ttotal: 847ms\tremaining: 0us\n",
      "\n",
      "bestTest = 0.6786455306\n",
      "bestIteration = 122\n",
      "\n",
      "0:\tlearn: 0.6921135\ttest: 0.6906626\tbest: 0.6906626 (0)\ttotal: 27.5ms\tremaining: 3.36s\n",
      "25:\tlearn: 0.6888132\ttest: 0.6816237\tbest: 0.6816237 (25)\ttotal: 202ms\tremaining: 755ms\n",
      "50:\tlearn: 0.6876398\ttest: 0.6806011\tbest: 0.6806011 (50)\ttotal: 375ms\tremaining: 529ms\n",
      "75:\tlearn: 0.6864384\ttest: 0.6799684\tbest: 0.6799684 (75)\ttotal: 558ms\tremaining: 345ms\n",
      "100:\tlearn: 0.6854143\ttest: 0.6794743\tbest: 0.6794743 (100)\ttotal: 727ms\tremaining: 158ms\n",
      "122:\tlearn: 0.6845522\ttest: 0.6790077\tbest: 0.6790077 (122)\ttotal: 879ms\tremaining: 0us\n",
      "\n",
      "bestTest = 0.6790076824\n",
      "bestIteration = 122\n",
      "\n",
      "0:\tlearn: 0.6921518\ttest: 0.6905561\tbest: 0.6905561 (0)\ttotal: 18.4ms\tremaining: 2.24s\n",
      "25:\tlearn: 0.6888440\ttest: 0.6817987\tbest: 0.6817987 (25)\ttotal: 192ms\tremaining: 716ms\n",
      "50:\tlearn: 0.6876452\ttest: 0.6807340\tbest: 0.6807340 (50)\ttotal: 364ms\tremaining: 514ms\n",
      "75:\tlearn: 0.6866020\ttest: 0.6800368\tbest: 0.6800368 (75)\ttotal: 542ms\tremaining: 335ms\n",
      "100:\tlearn: 0.6855360\ttest: 0.6796015\tbest: 0.6796015 (100)\ttotal: 721ms\tremaining: 157ms\n",
      "122:\tlearn: 0.6847033\ttest: 0.6790161\tbest: 0.6790161 (122)\ttotal: 869ms\tremaining: 0us\n",
      "\n",
      "bestTest = 0.6790161132\n",
      "bestIteration = 122\n",
      "\n"
     ]
    },
    {
     "name": "stderr",
     "output_type": "stream",
     "text": [
      "2022-03-30 14:16:57 mean cv_value 0.06129025851813614 | std cv_value 0.01028421190596392 \n",
      "2022-03-30 14:16:57 ---------------------------------------------\n",
      "2022-03-30 14:17:03 [TRAIN_MODEL] Training model\n",
      "2022-03-30 14:17:03 Set of params....., {'depth': 7, 'iterations': 150, 'learning_rate': 0.021559958594046538, 'colsample_bylevel': 1.0}\n"
     ]
    },
    {
     "name": "stdout",
     "output_type": "stream",
     "text": [
      "Iteration No: 190 ended. Search finished for the next optimal point.\n",
      "Time taken: 8.5581\n",
      "Function value obtained: -0.0613\n",
      "Current minimum: -0.0699\n",
      "Iteration No: 191 started. Searching for the next optimal point.\n",
      "0:\tlearn: 0.6929714\ttest: 0.6928396\tbest: 0.6928396 (0)\ttotal: 21.6ms\tremaining: 3.22s\n",
      "25:\tlearn: 0.6897851\ttest: 0.6869654\tbest: 0.6869654 (25)\ttotal: 391ms\tremaining: 1.87s\n",
      "50:\tlearn: 0.6878677\ttest: 0.6836245\tbest: 0.6836245 (50)\ttotal: 745ms\tremaining: 1.45s\n",
      "75:\tlearn: 0.6863752\ttest: 0.6815490\tbest: 0.6815490 (75)\ttotal: 1.09s\tremaining: 1.07s\n",
      "100:\tlearn: 0.6850810\ttest: 0.6800703\tbest: 0.6800703 (100)\ttotal: 1.44s\tremaining: 700ms\n",
      "125:\tlearn: 0.6840786\ttest: 0.6791341\tbest: 0.6791341 (125)\ttotal: 1.78s\tremaining: 338ms\n",
      "149:\tlearn: 0.6831317\ttest: 0.6783202\tbest: 0.6783202 (149)\ttotal: 2.1s\tremaining: 0us\n",
      "\n",
      "bestTest = 0.6783202229\n",
      "bestIteration = 149\n",
      "\n",
      "0:\tlearn: 0.6929647\ttest: 0.6928403\tbest: 0.6928403 (0)\ttotal: 36.4ms\tremaining: 5.42s\n",
      "25:\tlearn: 0.6898384\ttest: 0.6869812\tbest: 0.6869812 (25)\ttotal: 405ms\tremaining: 1.93s\n",
      "50:\tlearn: 0.6879400\ttest: 0.6837203\tbest: 0.6837203 (50)\ttotal: 757ms\tremaining: 1.47s\n",
      "75:\tlearn: 0.6864783\ttest: 0.6817070\tbest: 0.6817070 (75)\ttotal: 1.11s\tremaining: 1.08s\n",
      "100:\tlearn: 0.6851973\ttest: 0.6801748\tbest: 0.6801748 (100)\ttotal: 1.46s\tremaining: 709ms\n",
      "125:\tlearn: 0.6840635\ttest: 0.6791217\tbest: 0.6791217 (125)\ttotal: 1.8s\tremaining: 344ms\n",
      "149:\tlearn: 0.6830766\ttest: 0.6783341\tbest: 0.6783341 (149)\ttotal: 2.13s\tremaining: 0us\n",
      "\n",
      "bestTest = 0.6783341197\n",
      "bestIteration = 149\n",
      "\n",
      "0:\tlearn: 0.6929743\ttest: 0.6928200\tbest: 0.6928200 (0)\ttotal: 27.4ms\tremaining: 4.08s\n",
      "25:\tlearn: 0.6899955\ttest: 0.6871039\tbest: 0.6871039 (25)\ttotal: 391ms\tremaining: 1.86s\n",
      "50:\tlearn: 0.6882037\ttest: 0.6839136\tbest: 0.6839136 (50)\ttotal: 749ms\tremaining: 1.45s\n",
      "75:\tlearn: 0.6867540\ttest: 0.6818465\tbest: 0.6818465 (75)\ttotal: 1.1s\tremaining: 1.07s\n",
      "100:\tlearn: 0.6855246\ttest: 0.6804229\tbest: 0.6804229 (100)\ttotal: 1.44s\tremaining: 701ms\n",
      "125:\tlearn: 0.6844247\ttest: 0.6793998\tbest: 0.6793998 (125)\ttotal: 1.78s\tremaining: 339ms\n"
     ]
    },
    {
     "name": "stderr",
     "output_type": "stream",
     "text": [
      "2022-03-30 14:17:10 mean cv_value 0.0634764344069285 | std cv_value 0.012208006028173839 \n",
      "2022-03-30 14:17:10 ---------------------------------------------\n"
     ]
    },
    {
     "name": "stdout",
     "output_type": "stream",
     "text": [
      "149:\tlearn: 0.6833713\ttest: 0.6785583\tbest: 0.6785583 (149)\ttotal: 2.1s\tremaining: 0us\n",
      "\n",
      "bestTest = 0.6785582564\n",
      "bestIteration = 149\n",
      "\n"
     ]
    },
    {
     "name": "stderr",
     "output_type": "stream",
     "text": [
      "2022-03-30 14:17:15 [TRAIN_MODEL] Training model\n",
      "2022-03-30 14:17:15 Set of params....., {'depth': 11, 'iterations': 100, 'learning_rate': 0.0010100395790733918, 'colsample_bylevel': 0.7180575165272738}\n"
     ]
    },
    {
     "name": "stdout",
     "output_type": "stream",
     "text": [
      "Iteration No: 191 ended. Search finished for the next optimal point.\n",
      "Time taken: 12.3171\n",
      "Function value obtained: -0.0635\n",
      "Current minimum: -0.0699\n",
      "Iteration No: 192 started. Searching for the next optimal point.\n",
      "0:\tlearn: 0.6931225\ttest: 0.6931198\tbest: 0.6931198 (0)\ttotal: 73.2ms\tremaining: 7.25s\n",
      "25:\tlearn: 0.6924647\ttest: 0.6924783\tbest: 0.6924783 (25)\ttotal: 1.61s\tremaining: 4.58s\n",
      "50:\tlearn: 0.6917826\ttest: 0.6918226\tbest: 0.6918226 (50)\ttotal: 3.16s\tremaining: 3.03s\n",
      "75:\tlearn: 0.6911220\ttest: 0.6911855\tbest: 0.6911855 (75)\ttotal: 4.69s\tremaining: 1.48s\n",
      "99:\tlearn: 0.6904925\ttest: 0.6905870\tbest: 0.6905870 (99)\ttotal: 6.17s\tremaining: 0us\n",
      "\n",
      "bestTest = 0.6905869776\n",
      "bestIteration = 99\n",
      "\n",
      "0:\tlearn: 0.6931223\ttest: 0.6931198\tbest: 0.6931198 (0)\ttotal: 63.2ms\tremaining: 6.25s\n",
      "25:\tlearn: 0.6923799\ttest: 0.6924227\tbest: 0.6924227 (25)\ttotal: 1.58s\tremaining: 4.51s\n",
      "50:\tlearn: 0.6916931\ttest: 0.6917655\tbest: 0.6917655 (50)\ttotal: 3.11s\tremaining: 2.99s\n",
      "75:\tlearn: 0.6910265\ttest: 0.6911222\tbest: 0.6911222 (75)\ttotal: 4.62s\tremaining: 1.46s\n",
      "99:\tlearn: 0.6903899\ttest: 0.6905167\tbest: 0.6905167 (99)\ttotal: 6.07s\tremaining: 0us\n",
      "\n",
      "bestTest = 0.6905166989\n",
      "bestIteration = 99\n",
      "\n",
      "0:\tlearn: 0.6931168\ttest: 0.6931201\tbest: 0.6931201 (0)\ttotal: 64.8ms\tremaining: 6.42s\n",
      "25:\tlearn: 0.6924487\ttest: 0.6924777\tbest: 0.6924777 (25)\ttotal: 1.6s\tremaining: 4.56s\n",
      "50:\tlearn: 0.6917763\ttest: 0.6918439\tbest: 0.6918439 (50)\ttotal: 3.15s\tremaining: 3.03s\n",
      "75:\tlearn: 0.6911030\ttest: 0.6912201\tbest: 0.6912201 (75)\ttotal: 4.71s\tremaining: 1.49s\n"
     ]
    },
    {
     "name": "stderr",
     "output_type": "stream",
     "text": [
      "2022-03-30 14:17:34 mean cv_value 0.04448240875590654 | std cv_value 0.00921126298294935 \n",
      "2022-03-30 14:17:34 ---------------------------------------------\n"
     ]
    },
    {
     "name": "stdout",
     "output_type": "stream",
     "text": [
      "99:\tlearn: 0.6904598\ttest: 0.6906189\tbest: 0.6906189 (99)\ttotal: 6.19s\tremaining: 0us\n",
      "\n",
      "bestTest = 0.6906188939\n",
      "bestIteration = 99\n",
      "\n"
     ]
    },
    {
     "name": "stderr",
     "output_type": "stream",
     "text": [
      "2022-03-30 14:17:40 [TRAIN_MODEL] Training model\n",
      "2022-03-30 14:17:40 Set of params....., {'depth': 7, 'iterations': 133, 'learning_rate': 0.020668503688485385, 'colsample_bylevel': 1.0}\n"
     ]
    },
    {
     "name": "stdout",
     "output_type": "stream",
     "text": [
      "Iteration No: 192 ended. Search finished for the next optimal point.\n",
      "Time taken: 24.8295\n",
      "Function value obtained: -0.0445\n",
      "Current minimum: -0.0699\n",
      "Iteration No: 193 started. Searching for the next optimal point.\n",
      "0:\tlearn: 0.6929807\ttest: 0.6928523\tbest: 0.6928523 (0)\ttotal: 16.8ms\tremaining: 2.22s\n",
      "25:\tlearn: 0.6898928\ttest: 0.6871566\tbest: 0.6871566 (25)\ttotal: 375ms\tremaining: 1.54s\n",
      "50:\tlearn: 0.6879592\ttest: 0.6838131\tbest: 0.6838131 (50)\ttotal: 731ms\tremaining: 1.18s\n",
      "75:\tlearn: 0.6865000\ttest: 0.6817345\tbest: 0.6817345 (75)\ttotal: 1.08s\tremaining: 811ms\n",
      "100:\tlearn: 0.6852892\ttest: 0.6802666\tbest: 0.6802666 (100)\ttotal: 1.43s\tremaining: 452ms\n",
      "125:\tlearn: 0.6842869\ttest: 0.6792463\tbest: 0.6792463 (125)\ttotal: 1.76s\tremaining: 97.7ms\n",
      "132:\tlearn: 0.6840319\ttest: 0.6790109\tbest: 0.6790109 (132)\ttotal: 1.85s\tremaining: 0us\n",
      "\n",
      "bestTest = 0.6790109126\n",
      "bestIteration = 132\n",
      "\n",
      "0:\tlearn: 0.6929744\ttest: 0.6928529\tbest: 0.6928529 (0)\ttotal: 17.3ms\tremaining: 2.29s\n",
      "25:\tlearn: 0.6899392\ttest: 0.6871384\tbest: 0.6871384 (25)\ttotal: 368ms\tremaining: 1.51s\n",
      "50:\tlearn: 0.6880746\ttest: 0.6838514\tbest: 0.6838514 (50)\ttotal: 719ms\tremaining: 1.16s\n",
      "75:\tlearn: 0.6866532\ttest: 0.6817730\tbest: 0.6817730 (75)\ttotal: 1.07s\tremaining: 800ms\n",
      "100:\tlearn: 0.6854300\ttest: 0.6803941\tbest: 0.6803941 (100)\ttotal: 1.4s\tremaining: 445ms\n",
      "125:\tlearn: 0.6843455\ttest: 0.6793263\tbest: 0.6793263 (125)\ttotal: 1.74s\tremaining: 96.8ms\n",
      "132:\tlearn: 0.6840550\ttest: 0.6790984\tbest: 0.6790984 (132)\ttotal: 1.84s\tremaining: 0us\n",
      "\n",
      "bestTest = 0.6790984179\n",
      "bestIteration = 132\n",
      "\n",
      "0:\tlearn: 0.6929768\ttest: 0.6928334\tbest: 0.6928334 (0)\ttotal: 19.7ms\tremaining: 2.6s\n",
      "25:\tlearn: 0.6900791\ttest: 0.6872554\tbest: 0.6872554 (25)\ttotal: 393ms\tremaining: 1.61s\n",
      "50:\tlearn: 0.6882988\ttest: 0.6840369\tbest: 0.6840369 (50)\ttotal: 760ms\tremaining: 1.22s\n",
      "75:\tlearn: 0.6868738\ttest: 0.6820239\tbest: 0.6820239 (75)\ttotal: 1.12s\tremaining: 842ms\n",
      "100:\tlearn: 0.6856930\ttest: 0.6806639\tbest: 0.6806639 (100)\ttotal: 1.47s\tremaining: 467ms\n"
     ]
    },
    {
     "name": "stderr",
     "output_type": "stream",
     "text": [
      "2022-03-30 14:17:46 mean cv_value 0.06499085453609244 | std cv_value 0.009811391022699845 \n",
      "2022-03-30 14:17:46 ---------------------------------------------\n"
     ]
    },
    {
     "name": "stdout",
     "output_type": "stream",
     "text": [
      "125:\tlearn: 0.6845856\ttest: 0.6795601\tbest: 0.6795601 (125)\ttotal: 1.83s\tremaining: 102ms\n",
      "132:\tlearn: 0.6842916\ttest: 0.6793023\tbest: 0.6793023 (132)\ttotal: 1.93s\tremaining: 0us\n",
      "\n",
      "bestTest = 0.6793022666\n",
      "bestIteration = 132\n",
      "\n"
     ]
    },
    {
     "name": "stderr",
     "output_type": "stream",
     "text": [
      "2022-03-30 14:17:52 [TRAIN_MODEL] Training model\n",
      "2022-03-30 14:17:52 Set of params....., {'depth': 7, 'iterations': 125, 'learning_rate': 0.020995928737962296, 'colsample_bylevel': 0.5}\n"
     ]
    },
    {
     "name": "stdout",
     "output_type": "stream",
     "text": [
      "Iteration No: 193 ended. Search finished for the next optimal point.\n",
      "Time taken: 11.7700\n",
      "Function value obtained: -0.0650\n",
      "Current minimum: -0.0699\n",
      "Iteration No: 194 started. Searching for the next optimal point.\n",
      "0:\tlearn: 0.6929800\ttest: 0.6928241\tbest: 0.6928241 (0)\ttotal: 21.9ms\tremaining: 2.72s\n",
      "25:\tlearn: 0.6899457\ttest: 0.6870662\tbest: 0.6870662 (25)\ttotal: 449ms\tremaining: 1.71s\n",
      "50:\tlearn: 0.6880810\ttest: 0.6838329\tbest: 0.6838329 (50)\ttotal: 866ms\tremaining: 1.26s\n",
      "75:\tlearn: 0.6866894\ttest: 0.6817828\tbest: 0.6817828 (75)\ttotal: 1.27s\tremaining: 816ms\n",
      "100:\tlearn: 0.6855394\ttest: 0.6803451\tbest: 0.6803451 (100)\ttotal: 1.67s\tremaining: 396ms\n",
      "124:\tlearn: 0.6845566\ttest: 0.6794197\tbest: 0.6794197 (124)\ttotal: 2.05s\tremaining: 0us\n",
      "\n",
      "bestTest = 0.6794196836\n",
      "bestIteration = 124\n",
      "\n",
      "0:\tlearn: 0.6929797\ttest: 0.6928251\tbest: 0.6928251 (0)\ttotal: 19.2ms\tremaining: 2.38s\n",
      "25:\tlearn: 0.6900348\ttest: 0.6871978\tbest: 0.6871978 (25)\ttotal: 420ms\tremaining: 1.6s\n",
      "50:\tlearn: 0.6881800\ttest: 0.6839357\tbest: 0.6839357 (50)\ttotal: 827ms\tremaining: 1.2s\n",
      "75:\tlearn: 0.6867774\ttest: 0.6818609\tbest: 0.6818609 (75)\ttotal: 1.23s\tremaining: 792ms\n",
      "100:\tlearn: 0.6856183\ttest: 0.6804893\tbest: 0.6804893 (100)\ttotal: 1.63s\tremaining: 387ms\n",
      "124:\tlearn: 0.6845940\ttest: 0.6794978\tbest: 0.6794978 (124)\ttotal: 2s\tremaining: 0us\n",
      "\n",
      "bestTest = 0.6794977628\n",
      "bestIteration = 124\n",
      "\n",
      "0:\tlearn: 0.6929814\ttest: 0.6928342\tbest: 0.6928342 (0)\ttotal: 18.4ms\tremaining: 2.29s\n",
      "25:\tlearn: 0.6900951\ttest: 0.6873103\tbest: 0.6873103 (25)\ttotal: 433ms\tremaining: 1.65s\n",
      "50:\tlearn: 0.6883238\ttest: 0.6841336\tbest: 0.6841336 (50)\ttotal: 834ms\tremaining: 1.21s\n",
      "75:\tlearn: 0.6869156\ttest: 0.6819996\tbest: 0.6819996 (75)\ttotal: 1.24s\tremaining: 797ms\n",
      "100:\tlearn: 0.6857316\ttest: 0.6806842\tbest: 0.6806842 (100)\ttotal: 1.64s\tremaining: 389ms\n"
     ]
    },
    {
     "name": "stderr",
     "output_type": "stream",
     "text": [
      "2022-03-30 14:17:58 mean cv_value 0.06570527993758309 | std cv_value 0.007892557255285869 \n",
      "2022-03-30 14:17:58 ---------------------------------------------\n"
     ]
    },
    {
     "name": "stdout",
     "output_type": "stream",
     "text": [
      "124:\tlearn: 0.6846657\ttest: 0.6796859\tbest: 0.6796859 (124)\ttotal: 2.01s\tremaining: 0us\n",
      "\n",
      "bestTest = 0.679685869\n",
      "bestIteration = 124\n",
      "\n"
     ]
    },
    {
     "name": "stderr",
     "output_type": "stream",
     "text": [
      "2022-03-30 14:18:04 [TRAIN_MODEL] Training model\n",
      "2022-03-30 14:18:04 Set of params....., {'depth': 7, 'iterations': 118, 'learning_rate': 0.021396256482563554, 'colsample_bylevel': 1.0}\n"
     ]
    },
    {
     "name": "stdout",
     "output_type": "stream",
     "text": [
      "Iteration No: 194 ended. Search finished for the next optimal point.\n",
      "Time taken: 12.1437\n",
      "Function value obtained: -0.0657\n",
      "Current minimum: -0.0699\n",
      "Iteration No: 195 started. Searching for the next optimal point.\n",
      "0:\tlearn: 0.6929732\ttest: 0.6928420\tbest: 0.6928420 (0)\ttotal: 16.4ms\tremaining: 1.92s\n",
      "25:\tlearn: 0.6898052\ttest: 0.6870046\tbest: 0.6870046 (25)\ttotal: 376ms\tremaining: 1.33s\n",
      "50:\tlearn: 0.6878398\ttest: 0.6836247\tbest: 0.6836247 (50)\ttotal: 732ms\tremaining: 962ms\n",
      "75:\tlearn: 0.6863453\ttest: 0.6815445\tbest: 0.6815445 (75)\ttotal: 1.08s\tremaining: 599ms\n",
      "100:\tlearn: 0.6851305\ttest: 0.6801114\tbest: 0.6801114 (100)\ttotal: 1.42s\tremaining: 239ms\n",
      "117:\tlearn: 0.6844184\ttest: 0.6793902\tbest: 0.6793902 (117)\ttotal: 1.65s\tremaining: 0us\n",
      "\n",
      "bestTest = 0.6793902148\n",
      "bestIteration = 117\n",
      "\n",
      "0:\tlearn: 0.6929677\ttest: 0.6928426\tbest: 0.6928426 (0)\ttotal: 17.6ms\tremaining: 2.06s\n",
      "25:\tlearn: 0.6898553\ttest: 0.6869768\tbest: 0.6869768 (25)\ttotal: 377ms\tremaining: 1.33s\n",
      "50:\tlearn: 0.6879385\ttest: 0.6836428\tbest: 0.6836428 (50)\ttotal: 727ms\tremaining: 955ms\n",
      "75:\tlearn: 0.6864981\ttest: 0.6816873\tbest: 0.6816873 (75)\ttotal: 1.08s\tremaining: 596ms\n",
      "100:\tlearn: 0.6852014\ttest: 0.6801592\tbest: 0.6801592 (100)\ttotal: 1.42s\tremaining: 239ms\n",
      "117:\tlearn: 0.6844507\ttest: 0.6794168\tbest: 0.6794168 (117)\ttotal: 1.65s\tremaining: 0us\n",
      "\n",
      "bestTest = 0.6794167661\n",
      "bestIteration = 117\n",
      "\n",
      "0:\tlearn: 0.6929755\ttest: 0.6928224\tbest: 0.6928224 (0)\ttotal: 16.7ms\tremaining: 1.95s\n",
      "25:\tlearn: 0.6900019\ttest: 0.6871236\tbest: 0.6871236 (25)\ttotal: 384ms\tremaining: 1.36s\n",
      "50:\tlearn: 0.6881643\ttest: 0.6839033\tbest: 0.6839033 (50)\ttotal: 742ms\tremaining: 975ms\n",
      "75:\tlearn: 0.6867177\ttest: 0.6819530\tbest: 0.6819530 (75)\ttotal: 1.1s\tremaining: 606ms\n",
      "100:\tlearn: 0.6854703\ttest: 0.6805262\tbest: 0.6805262 (100)\ttotal: 1.44s\tremaining: 243ms\n"
     ]
    },
    {
     "name": "stderr",
     "output_type": "stream",
     "text": [
      "2022-03-30 14:18:09 mean cv_value 0.06545980434916958 | std cv_value 0.008670004234805795 \n",
      "2022-03-30 14:18:09 ---------------------------------------------\n"
     ]
    },
    {
     "name": "stdout",
     "output_type": "stream",
     "text": [
      "117:\tlearn: 0.6847163\ttest: 0.6797625\tbest: 0.6797625 (117)\ttotal: 1.67s\tremaining: 0us\n",
      "\n",
      "bestTest = 0.6797624966\n",
      "bestIteration = 117\n",
      "\n"
     ]
    },
    {
     "name": "stderr",
     "output_type": "stream",
     "text": [
      "2022-03-30 14:18:15 [TRAIN_MODEL] Training model\n",
      "2022-03-30 14:18:15 Set of params....., {'depth': 3, 'iterations': 38, 'learning_rate': 0.03694819763174534, 'colsample_bylevel': 0.9395287944339978}\n"
     ]
    },
    {
     "name": "stdout",
     "output_type": "stream",
     "text": [
      "Iteration No: 195 ended. Search finished for the next optimal point.\n",
      "Time taken: 11.2898\n",
      "Function value obtained: -0.0655\n",
      "Current minimum: -0.0699\n",
      "Iteration No: 196 started. Searching for the next optimal point.\n",
      "0:\tlearn: 0.6929491\ttest: 0.6926863\tbest: 0.6926863 (0)\ttotal: 9.43ms\tremaining: 349ms\n",
      "25:\tlearn: 0.6905876\ttest: 0.6863766\tbest: 0.6863766 (25)\ttotal: 189ms\tremaining: 87ms\n",
      "37:\tlearn: 0.6901514\ttest: 0.6850614\tbest: 0.6850614 (37)\ttotal: 273ms\tremaining: 0us\n",
      "\n",
      "bestTest = 0.6850614466\n",
      "bestIteration = 37\n",
      "\n",
      "0:\tlearn: 0.6929602\ttest: 0.6927260\tbest: 0.6927260 (0)\ttotal: 9.09ms\tremaining: 336ms\n",
      "25:\tlearn: 0.6907401\ttest: 0.6866253\tbest: 0.6866253 (25)\ttotal: 189ms\tremaining: 87ms\n",
      "37:\tlearn: 0.6903198\ttest: 0.6852881\tbest: 0.6852881 (37)\ttotal: 273ms\tremaining: 0us\n",
      "\n",
      "bestTest = 0.6852881153\n",
      "bestIteration = 37\n",
      "\n",
      "0:\tlearn: 0.6929654\ttest: 0.6927090\tbest: 0.6927090 (0)\ttotal: 9.38ms\tremaining: 347ms\n",
      "25:\tlearn: 0.6908296\ttest: 0.6867889\tbest: 0.6867889 (25)\ttotal: 187ms\tremaining: 86.1ms\n"
     ]
    },
    {
     "name": "stderr",
     "output_type": "stream",
     "text": [
      "2022-03-30 14:18:16 mean cv_value 0.05647078764816394 | std cv_value 0.01076592870351954 \n",
      "2022-03-30 14:18:16 ---------------------------------------------\n"
     ]
    },
    {
     "name": "stdout",
     "output_type": "stream",
     "text": [
      "37:\tlearn: 0.6903957\ttest: 0.6854885\tbest: 0.6854885 (37)\ttotal: 270ms\tremaining: 0us\n",
      "\n",
      "bestTest = 0.6854885035\n",
      "bestIteration = 37\n",
      "\n"
     ]
    },
    {
     "name": "stderr",
     "output_type": "stream",
     "text": [
      "2022-03-30 14:18:22 [TRAIN_MODEL] Training model\n",
      "2022-03-30 14:18:22 Set of params....., {'depth': 7, 'iterations': 113, 'learning_rate': 0.0220003943376697, 'colsample_bylevel': 1.0}\n"
     ]
    },
    {
     "name": "stdout",
     "output_type": "stream",
     "text": [
      "Iteration No: 196 ended. Search finished for the next optimal point.\n",
      "Time taken: 7.1453\n",
      "Function value obtained: -0.0565\n",
      "Current minimum: -0.0699\n",
      "Iteration No: 197 started. Searching for the next optimal point.\n",
      "0:\tlearn: 0.6929655\ttest: 0.6928334\tbest: 0.6928334 (0)\ttotal: 20.3ms\tremaining: 2.28s\n",
      "25:\tlearn: 0.6897270\ttest: 0.6868573\tbest: 0.6868573 (25)\ttotal: 378ms\tremaining: 1.26s\n",
      "50:\tlearn: 0.6877698\ttest: 0.6835399\tbest: 0.6835399 (50)\ttotal: 736ms\tremaining: 894ms\n",
      "75:\tlearn: 0.6862743\ttest: 0.6815049\tbest: 0.6815049 (75)\ttotal: 1.08s\tremaining: 527ms\n",
      "100:\tlearn: 0.6850671\ttest: 0.6801138\tbest: 0.6801138 (100)\ttotal: 1.42s\tremaining: 169ms\n",
      "112:\tlearn: 0.6845412\ttest: 0.6796295\tbest: 0.6796295 (112)\ttotal: 1.58s\tremaining: 0us\n",
      "\n",
      "bestTest = 0.6796294928\n",
      "bestIteration = 112\n",
      "\n",
      "0:\tlearn: 0.6929620\ttest: 0.6928341\tbest: 0.6928341 (0)\ttotal: 16.9ms\tremaining: 1.89s\n",
      "25:\tlearn: 0.6897734\ttest: 0.6868475\tbest: 0.6868475 (25)\ttotal: 371ms\tremaining: 1.24s\n",
      "50:\tlearn: 0.6878664\ttest: 0.6835330\tbest: 0.6835330 (50)\ttotal: 739ms\tremaining: 899ms\n",
      "75:\tlearn: 0.6863722\ttest: 0.6815357\tbest: 0.6815357 (75)\ttotal: 1.09s\tremaining: 531ms\n",
      "100:\tlearn: 0.6850796\ttest: 0.6801320\tbest: 0.6801320 (100)\ttotal: 1.43s\tremaining: 170ms\n",
      "112:\tlearn: 0.6845154\ttest: 0.6795839\tbest: 0.6795839 (112)\ttotal: 1.59s\tremaining: 0us\n",
      "\n",
      "bestTest = 0.679583935\n",
      "bestIteration = 112\n",
      "\n",
      "0:\tlearn: 0.6929688\ttest: 0.6928133\tbest: 0.6928133 (0)\ttotal: 20.2ms\tremaining: 2.26s\n",
      "25:\tlearn: 0.6899363\ttest: 0.6869695\tbest: 0.6869695 (25)\ttotal: 383ms\tremaining: 1.28s\n",
      "50:\tlearn: 0.6881050\ttest: 0.6837334\tbest: 0.6837334 (50)\ttotal: 733ms\tremaining: 891ms\n",
      "75:\tlearn: 0.6866579\ttest: 0.6817519\tbest: 0.6817519 (75)\ttotal: 1.08s\tremaining: 525ms\n",
      "100:\tlearn: 0.6854108\ttest: 0.6803084\tbest: 0.6803084 (100)\ttotal: 1.42s\tremaining: 169ms\n",
      "112:\tlearn: 0.6849065\ttest: 0.6798218\tbest: 0.6798218 (112)\ttotal: 1.58s\tremaining: 0us\n",
      "\n",
      "bestTest = 0.679821826\n",
      "bestIteration = 112\n",
      "\n"
     ]
    },
    {
     "name": "stderr",
     "output_type": "stream",
     "text": [
      "2022-03-30 14:18:28 mean cv_value 0.06430248533206898 | std cv_value 0.010619736929368637 \n",
      "2022-03-30 14:18:28 ---------------------------------------------\n",
      "2022-03-30 14:18:33 [TRAIN_MODEL] Training model\n",
      "2022-03-30 14:18:33 Set of params....., {'depth': 7, 'iterations': 112, 'learning_rate': 0.021979324179397783, 'colsample_bylevel': 1.0}\n"
     ]
    },
    {
     "name": "stdout",
     "output_type": "stream",
     "text": [
      "Iteration No: 197 ended. Search finished for the next optimal point.\n",
      "Time taken: 10.9568\n",
      "Function value obtained: -0.0643\n",
      "Current minimum: -0.0699\n",
      "Iteration No: 198 started. Searching for the next optimal point.\n",
      "0:\tlearn: 0.6929736\ttest: 0.6928337\tbest: 0.6928337 (0)\ttotal: 24.1ms\tremaining: 2.68s\n",
      "25:\tlearn: 0.6897312\ttest: 0.6868616\tbest: 0.6868616 (25)\ttotal: 390ms\tremaining: 1.29s\n",
      "50:\tlearn: 0.6877715\ttest: 0.6835148\tbest: 0.6835148 (50)\ttotal: 749ms\tremaining: 896ms\n",
      "75:\tlearn: 0.6862693\ttest: 0.6814212\tbest: 0.6814212 (75)\ttotal: 1.1s\tremaining: 520ms\n",
      "100:\tlearn: 0.6850168\ttest: 0.6800234\tbest: 0.6800234 (100)\ttotal: 1.44s\tremaining: 157ms\n",
      "111:\tlearn: 0.6845481\ttest: 0.6795410\tbest: 0.6795410 (111)\ttotal: 1.59s\tremaining: 0us\n",
      "\n",
      "bestTest = 0.6795409548\n",
      "bestIteration = 111\n",
      "\n",
      "0:\tlearn: 0.6929631\ttest: 0.6928344\tbest: 0.6928344 (0)\ttotal: 24.4ms\tremaining: 2.71s\n",
      "25:\tlearn: 0.6897882\ttest: 0.6868782\tbest: 0.6868782 (25)\ttotal: 378ms\tremaining: 1.25s\n",
      "50:\tlearn: 0.6878844\ttest: 0.6835419\tbest: 0.6835419 (50)\ttotal: 741ms\tremaining: 886ms\n",
      "75:\tlearn: 0.6863887\ttest: 0.6815536\tbest: 0.6815536 (75)\ttotal: 1.08s\tremaining: 514ms\n",
      "100:\tlearn: 0.6850621\ttest: 0.6800947\tbest: 0.6800947 (100)\ttotal: 1.43s\tremaining: 156ms\n",
      "111:\tlearn: 0.6845164\ttest: 0.6796152\tbest: 0.6796152 (111)\ttotal: 1.58s\tremaining: 0us\n",
      "\n",
      "bestTest = 0.6796151919\n",
      "bestIteration = 111\n",
      "\n",
      "0:\tlearn: 0.6929689\ttest: 0.6928137\tbest: 0.6928137 (0)\ttotal: 18.8ms\tremaining: 2.08s\n",
      "25:\tlearn: 0.6899281\ttest: 0.6869748\tbest: 0.6869748 (25)\ttotal: 383ms\tremaining: 1.27s\n",
      "50:\tlearn: 0.6881151\ttest: 0.6838002\tbest: 0.6838002 (50)\ttotal: 741ms\tremaining: 886ms\n",
      "75:\tlearn: 0.6866832\ttest: 0.6818004\tbest: 0.6818004 (75)\ttotal: 1.1s\tremaining: 520ms\n",
      "100:\tlearn: 0.6854106\ttest: 0.6803471\tbest: 0.6803471 (100)\ttotal: 1.45s\tremaining: 158ms\n",
      "111:\tlearn: 0.6849200\ttest: 0.6798137\tbest: 0.6798137 (111)\ttotal: 1.6s\tremaining: 0us\n",
      "\n",
      "bestTest = 0.6798137364\n",
      "bestIteration = 111\n",
      "\n"
     ]
    },
    {
     "name": "stderr",
     "output_type": "stream",
     "text": [
      "2022-03-30 14:18:39 mean cv_value 0.06425842859786622 | std cv_value 0.010748319576456649 \n",
      "2022-03-30 14:18:39 ---------------------------------------------\n",
      "2022-03-30 14:18:44 [TRAIN_MODEL] Training model\n",
      "2022-03-30 14:18:44 Set of params....., {'depth': 7, 'iterations': 112, 'learning_rate': 0.021899333106788293, 'colsample_bylevel': 1.0}\n"
     ]
    },
    {
     "name": "stdout",
     "output_type": "stream",
     "text": [
      "Iteration No: 198 ended. Search finished for the next optimal point.\n",
      "Time taken: 11.1999\n",
      "Function value obtained: -0.0643\n",
      "Current minimum: -0.0699\n",
      "Iteration No: 199 started. Searching for the next optimal point.\n",
      "0:\tlearn: 0.6929726\ttest: 0.6928348\tbest: 0.6928348 (0)\ttotal: 40.4ms\tremaining: 4.48s\n",
      "25:\tlearn: 0.6897400\ttest: 0.6868780\tbest: 0.6868780 (25)\ttotal: 409ms\tremaining: 1.35s\n",
      "50:\tlearn: 0.6877725\ttest: 0.6835511\tbest: 0.6835511 (50)\ttotal: 760ms\tremaining: 910ms\n",
      "75:\tlearn: 0.6862735\ttest: 0.6815290\tbest: 0.6815290 (75)\ttotal: 1.1s\tremaining: 524ms\n",
      "100:\tlearn: 0.6850567\ttest: 0.6801279\tbest: 0.6801279 (100)\ttotal: 1.44s\tremaining: 157ms\n",
      "111:\tlearn: 0.6845694\ttest: 0.6796521\tbest: 0.6796521 (111)\ttotal: 1.59s\tremaining: 0us\n",
      "\n",
      "bestTest = 0.6796520974\n",
      "bestIteration = 111\n",
      "\n",
      "0:\tlearn: 0.6929651\ttest: 0.6928355\tbest: 0.6928355 (0)\ttotal: 18.2ms\tremaining: 2.02s\n",
      "25:\tlearn: 0.6897917\ttest: 0.6868939\tbest: 0.6868939 (25)\ttotal: 381ms\tremaining: 1.26s\n",
      "50:\tlearn: 0.6878522\ttest: 0.6835687\tbest: 0.6835687 (50)\ttotal: 737ms\tremaining: 882ms\n",
      "75:\tlearn: 0.6863505\ttest: 0.6815271\tbest: 0.6815271 (75)\ttotal: 1.1s\tremaining: 522ms\n",
      "100:\tlearn: 0.6851003\ttest: 0.6801566\tbest: 0.6801566 (100)\ttotal: 1.45s\tremaining: 158ms\n",
      "111:\tlearn: 0.6845836\ttest: 0.6796276\tbest: 0.6796276 (111)\ttotal: 1.6s\tremaining: 0us\n",
      "\n",
      "bestTest = 0.679627622\n",
      "bestIteration = 111\n",
      "\n",
      "0:\tlearn: 0.6929697\ttest: 0.6928149\tbest: 0.6928149 (0)\ttotal: 17ms\tremaining: 1.88s\n",
      "25:\tlearn: 0.6899412\ttest: 0.6870518\tbest: 0.6870518 (25)\ttotal: 380ms\tremaining: 1.26s\n",
      "50:\tlearn: 0.6880749\ttest: 0.6837351\tbest: 0.6837351 (50)\ttotal: 734ms\tremaining: 878ms\n",
      "75:\tlearn: 0.6866051\ttest: 0.6816865\tbest: 0.6816865 (75)\ttotal: 1.08s\tremaining: 512ms\n",
      "100:\tlearn: 0.6853700\ttest: 0.6803119\tbest: 0.6803119 (100)\ttotal: 1.42s\tremaining: 155ms\n",
      "111:\tlearn: 0.6848068\ttest: 0.6797768\tbest: 0.6797768 (111)\ttotal: 1.58s\tremaining: 0us\n",
      "\n",
      "bestTest = 0.6797767912\n",
      "bestIteration = 111\n",
      "\n"
     ]
    },
    {
     "name": "stderr",
     "output_type": "stream",
     "text": [
      "2022-03-30 14:18:50 mean cv_value 0.06620589769883496 | std cv_value 0.011621826682660989 \n",
      "2022-03-30 14:18:50 ---------------------------------------------\n",
      "2022-03-30 14:18:56 [TRAIN_MODEL] Training model\n",
      "2022-03-30 14:18:56 Set of params....., {'depth': 7, 'iterations': 108, 'learning_rate': 0.02237194258509413, 'colsample_bylevel': 1.0}\n"
     ]
    },
    {
     "name": "stdout",
     "output_type": "stream",
     "text": [
      "Iteration No: 199 ended. Search finished for the next optimal point.\n",
      "Time taken: 11.6000\n",
      "Function value obtained: -0.0662\n",
      "Current minimum: -0.0699\n",
      "Iteration No: 200 started. Searching for the next optimal point.\n",
      "0:\tlearn: 0.6929653\ttest: 0.6928281\tbest: 0.6928281 (0)\ttotal: 18.7ms\tremaining: 2s\n",
      "25:\tlearn: 0.6896870\ttest: 0.6867838\tbest: 0.6867838 (25)\ttotal: 377ms\tremaining: 1.19s\n",
      "50:\tlearn: 0.6876966\ttest: 0.6834202\tbest: 0.6834202 (50)\ttotal: 726ms\tremaining: 812ms\n",
      "75:\tlearn: 0.6861871\ttest: 0.6813676\tbest: 0.6813676 (75)\ttotal: 1.07s\tremaining: 452ms\n",
      "100:\tlearn: 0.6849107\ttest: 0.6799271\tbest: 0.6799271 (100)\ttotal: 1.41s\tremaining: 98ms\n",
      "107:\tlearn: 0.6845972\ttest: 0.6795923\tbest: 0.6795923 (107)\ttotal: 1.51s\tremaining: 0us\n",
      "\n",
      "bestTest = 0.6795923188\n",
      "bestIteration = 107\n",
      "\n",
      "0:\tlearn: 0.6929610\ttest: 0.6928288\tbest: 0.6928288 (0)\ttotal: 31.7ms\tremaining: 3.39s\n",
      "25:\tlearn: 0.6897144\ttest: 0.6867690\tbest: 0.6867690 (25)\ttotal: 393ms\tremaining: 1.24s\n",
      "50:\tlearn: 0.6877805\ttest: 0.6834334\tbest: 0.6834334 (50)\ttotal: 733ms\tremaining: 819ms\n",
      "75:\tlearn: 0.6862972\ttest: 0.6813989\tbest: 0.6813989 (75)\ttotal: 1.08s\tremaining: 454ms\n",
      "100:\tlearn: 0.6849840\ttest: 0.6799734\tbest: 0.6799734 (100)\ttotal: 1.42s\tremaining: 98.3ms\n",
      "107:\tlearn: 0.6846583\ttest: 0.6796463\tbest: 0.6796463 (107)\ttotal: 1.51s\tremaining: 0us\n",
      "\n",
      "bestTest = 0.6796462805\n",
      "bestIteration = 107\n",
      "\n",
      "0:\tlearn: 0.6929680\ttest: 0.6928077\tbest: 0.6928077 (0)\ttotal: 27.3ms\tremaining: 2.92s\n",
      "25:\tlearn: 0.6898586\ttest: 0.6868812\tbest: 0.6868812 (25)\ttotal: 394ms\tremaining: 1.24s\n",
      "50:\tlearn: 0.6879993\ttest: 0.6836570\tbest: 0.6836570 (50)\ttotal: 747ms\tremaining: 835ms\n",
      "75:\tlearn: 0.6865440\ttest: 0.6817023\tbest: 0.6817023 (75)\ttotal: 1.09s\tremaining: 461ms\n"
     ]
    },
    {
     "name": "stderr",
     "output_type": "stream",
     "text": [
      "2022-03-30 14:19:01 mean cv_value 0.0651847604587884 | std cv_value 0.011687014421481054 \n",
      "2022-03-30 14:19:01 ---------------------------------------------\n"
     ]
    },
    {
     "name": "stdout",
     "output_type": "stream",
     "text": [
      "100:\tlearn: 0.6853014\ttest: 0.6803507\tbest: 0.6803507 (100)\ttotal: 1.45s\tremaining: 101ms\n",
      "107:\tlearn: 0.6849994\ttest: 0.6800552\tbest: 0.6800552 (107)\ttotal: 1.55s\tremaining: 0us\n",
      "\n",
      "bestTest = 0.6800552003\n",
      "bestIteration = 107\n",
      "\n",
      "Iteration No: 200 ended. Search finished for the next optimal point.\n",
      "Time taken: 11.5027\n",
      "Function value obtained: -0.0652\n",
      "Current minimum: -0.0699\n"
     ]
    }
   ],
   "source": [
    "gp_ = gp_minimize(\n",
    "    objective, # the objective function to minimize\n",
    "    params_grid, # the hyperparameter space\n",
    "    n_initial_points=25, # the number of points to evaluate f(x) to start of\n",
    "    acq_func='gp_hedge', # the acquisition function\n",
    "    n_calls=200, # the number of subsequent evaluations of f(x)\n",
    "    random_state=1,\n",
    "    n_jobs=-1,\n",
    "    verbose=True\n",
    ")"
   ]
  },
  {
   "cell_type": "code",
   "execution_count": 74,
   "id": "1eff8ad6",
   "metadata": {},
   "outputs": [
    {
     "data": {
      "text/plain": [
       "'Best score=-0.0699'"
      ]
     },
     "execution_count": 74,
     "metadata": {},
     "output_type": "execute_result"
    }
   ],
   "source": [
    "\"Best score=%.4f\" % gp_.fun"
   ]
  },
  {
   "cell_type": "code",
   "execution_count": 75,
   "id": "d5ea0612",
   "metadata": {},
   "outputs": [
    {
     "name": "stdout",
     "output_type": "stream",
     "text": [
      "Best parameters:\n",
      "=========================\n",
      "- depth = 3\n",
      "- iterations = 91\n",
      "- learning_rate = 0.262\n",
      "- colsample_bylevel = 0.809\n",
      "\n"
     ]
    }
   ],
   "source": [
    "print(\"\"\"Best parameters:\n",
    "=========================\n",
    "- depth = %d\n",
    "- iterations = %d\n",
    "- learning_rate = %.3f\n",
    "- colsample_bylevel = %.3f\n",
    "\"\"\" % (gp_.x[0],    \n",
    "       gp_.x[1],\n",
    "       gp_.x[2],\n",
    "       gp_.x[3]\n",
    "       \n",
    "      ))"
   ]
  },
  {
   "cell_type": "code",
   "execution_count": 76,
   "id": "7cff78ab",
   "metadata": {},
   "outputs": [
    {
     "name": "stdout",
     "output_type": "stream",
     "text": [
      "{'depth': 3, 'iterations': 91, 'learning_rate': 0.26182235185894076, 'colsample_bylevel': 0.8089228654565699}\n",
      "0:\tlearn: 0.6919677\ttotal: 10.9ms\tremaining: 983ms\n",
      "25:\tlearn: 0.6889029\ttotal: 282ms\tremaining: 706ms\n",
      "50:\tlearn: 0.6879803\ttotal: 529ms\tremaining: 415ms\n",
      "75:\tlearn: 0.6871024\ttotal: 781ms\tremaining: 154ms\n",
      "90:\tlearn: 0.6866281\ttotal: 930ms\tremaining: 0us\n"
     ]
    },
    {
     "data": {
      "text/plain": [
       "ClassTransformation(estimator=<catboost.core.CatBoostClassifier object at 0x7f0420f1c4d0>)"
      ]
     },
     "execution_count": 76,
     "metadata": {},
     "output_type": "execute_result"
    }
   ],
   "source": [
    "#Seting parameters\n",
    "#Training the model best params.\n",
    "train_set = pd.concat([X_train,X_val],axis= 0)\n",
    "y_train_set = pd.concat([y_train,y_val],axis= 0)\n",
    "treatment_set = pd.concat([train_treatment,val_treatment],axis= 0)\n",
    "\n",
    "params={\n",
    "    'depth' : gp_.x[0],\n",
    "    'iterations': gp_.x[1],\n",
    "    'learning_rate' : gp_.x[2],\n",
    "    'colsample_bylevel': gp_.x[3]\n",
    "}\n",
    "print(params)\n",
    "catClass = CatBoostClassifier(loss_function = 'Logloss',\n",
    "                              auto_class_weights = 'Balanced',\n",
    "                              score_function = 'L2',\n",
    "                              thread_count = -1,\n",
    "                              random_state=5,\n",
    "                              metric_period=25)\n",
    "catClass.set_params(**params)\n",
    "classTslearner = ClassTransformation(estimator = catClass)\n",
    "classTslearner.fit(X = X_train,\n",
    "                   y = y_train,\n",
    "                   treatment = train_treatment\n",
    "                  ) "
   ]
  },
  {
   "cell_type": "code",
   "execution_count": 77,
   "id": "1646b2a7",
   "metadata": {},
   "outputs": [],
   "source": [
    "#Predict.\n",
    "y_pred = classTslearner.predict(X_test)"
   ]
  },
  {
   "cell_type": "code",
   "execution_count": 78,
   "id": "425506a1",
   "metadata": {},
   "outputs": [
    {
     "data": {
      "image/png": "[encoded data removed]",
      "text/plain": [
       "<Figure size 864x864 with 5 Axes>"
      ]
     },
     "metadata": {
      "needs_background": "light"
     },
     "output_type": "display_data"
    }
   ],
   "source": [
    "lift, uplift,gini, gain_top30,qini = EvalIncrementalModels(y_test,\n",
    "                                                           test_treatment,\n",
    "                                                           y_pred,\n",
    "                                                           plot = True)"
   ]
  },
  {
   "cell_type": "code",
   "execution_count": null,
   "id": "f0cd8282",
   "metadata": {},
   "outputs": [],
   "source": [
    "# pd.to_pickle(catClass,'CatBoost_v01_qino_067.pickle')\n",
    "# pd.to_pickle(classTslearner,'ClassTransformation_v01.pickle')"
   ]
  },
  {
   "cell_type": "code",
   "execution_count": null,
   "id": "2128a8f1",
   "metadata": {},
   "outputs": [],
   "source": [
    "#Doomy model\n",
    "classTslearner2 = ClassTransformation(estimator = CatBoostClassifier(iterations=100,\n",
    "                                                                    thread_count=-1, \n",
    "                                                                    random_state=42, \n",
    "                                                                    silent=True))\n",
    "classTslearner2.fit(X = X_train,\n",
    "                    y = y_train,\n",
    "                   treatment = train_treatment)\n",
    "y_pred = classTslearner2.predict(X_test)"
   ]
  },
  {
   "cell_type": "code",
   "execution_count": null,
   "id": "1105b1a5",
   "metadata": {},
   "outputs": [],
   "source": [
    "lift, uplift,gini, gain_top30,qini = EvalIncrementalModels(y_test,\n",
    "                                                           test_treatment,\n",
    "                                                           y_pred,\n",
    "                                                           plot = True)"
   ]
  }
 ],
 "metadata": {
  "kernelspec": {
   "display_name": "Python 3 (ipykernel)",
   "language": "python",
   "name": "python3"
  },
  "language_info": {
   "codemirror_mode": {
    "name": "ipython",
    "version": 3
   },
   "file_extension": ".py",
   "mimetype": "text/x-python",
   "name": "python",
   "nbconvert_exporter": "python",
   "pygments_lexer": "ipython3",
   "version": "3.7.4"
  }
 },
 "nbformat": 4,
 "nbformat_minor": 5
}
