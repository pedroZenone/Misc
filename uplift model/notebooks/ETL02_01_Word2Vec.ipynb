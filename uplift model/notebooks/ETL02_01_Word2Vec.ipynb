{
 "cells": [
  {
   "cell_type": "markdown",
   "id": "7ea91d27",
   "metadata": {},
   "source": [
    "**This notebook is for:**\n",
    "1. Preprocessing variables."
   ]
  },
  {
   "cell_type": "code",
   "execution_count": 1,
   "id": "87aab8a3",
   "metadata": {},
   "outputs": [
    {
     "name": "stdout",
     "output_type": "stream",
     "text": [
      "adding utils to path \n"
     ]
    }
   ],
   "source": [
    "import sys, os \n",
    "prj_path = os.path.dirname(os.getcwd())\n",
    "utils_path = prj_path + '/utils'\n",
    "if  not utils_path in sys.path:\n",
    "    print('adding utils to path ')\n",
    "    sys.path.insert(1, utils_path)"
   ]
  },
  {
   "cell_type": "code",
   "execution_count": 2,
   "id": "498918ef",
   "metadata": {},
   "outputs": [],
   "source": [
    "from utilities import *\n",
    "\n",
    "from google_cloud import BigQuery, Storage\n",
    "import pandas as pd\n",
    "import numpy as np\n",
    "import matplotlib.pyplot as plt\n",
    "\n",
    "from datetime import datetime\n",
    "\n",
    "import os\n",
    "import sys\n",
    "\n",
    "import boto3\n",
    "import base64\n",
    "\n",
    "from replib.descriptors.metaprod2vec import MetaProd2Vec\n",
    "\n",
    "#Cliente BigQuery\n",
    "AUTH_BIGQUERY = base64.b64decode(os.environ['SECRET_AUTH_BIGQUERY_MODEL'])\n",
    "bq = BigQuery(AUTH_BIGQUERY)\n",
    "storage =Storage(AUTH_BIGQUERY)\n",
    "\n",
    "#Load config.\n",
    "files = glob.glob(f\"{utils_path}/*.yml\") \n",
    "conf = load_conf(files)"
   ]
  },
  {
   "cell_type": "code",
   "execution_count": null,
   "id": "81815d3c",
   "metadata": {},
   "outputs": [],
   "source": [
    "# !pip install --index-url https://pypi.artifacts.furycloud.io replib.descriptors.metaprod2vec"
   ]
  },
  {
   "cell_type": "code",
   "execution_count": null,
   "id": "1eac047c",
   "metadata": {},
   "outputs": [],
   "source": [
    "# !pip install pandas --upgrade"
   ]
  },
  {
   "cell_type": "code",
   "execution_count": 11,
   "id": "d4098183",
   "metadata": {},
   "outputs": [
    {
     "name": "stderr",
     "output_type": "stream",
     "text": [
      "2022-03-30 15:54:33,080 - [WARNING] replib.core.descriptors.base:210 - Descriptor meta_prod2_vec was trained with package replib.descriptors.metaprod2vec==1.1.0 and you have installed replib.descriptors.metaprod2vec==1.2.3, which may be incompatible.\n",
      "2022-03-30 15:54:33 Descriptor meta_prod2_vec was trained with package replib.descriptors.metaprod2vec==1.1.0 and you have installed replib.descriptors.metaprod2vec==1.2.3, which may be incompatible.\n"
     ]
    },
    {
     "data": {
      "text/plain": [
       "(2, 100)"
      ]
     },
     "execution_count": 11,
     "metadata": {},
     "output_type": "execute_result"
    }
   ],
   "source": [
    "from replib.descriptors.metaprod2vec import MetaProd2Vec\n",
    "\n",
    "items = [\n",
    "    {\"title\": \"Apple iPhone 11\"},\n",
    "    {\"title\": \"Samsung galaxy s9\"}\n",
    "]\n",
    "\n",
    "descriptor = MetaProd2Vec(pre_fitted_version='MLA_autotrain_01_01_2022')\n",
    "descriptor.transform(items).shape  # no need to train!"
   ]
  },
  {
   "cell_type": "code",
   "execution_count": 16,
   "id": "44503284",
   "metadata": {},
   "outputs": [
    {
     "name": "stderr",
     "output_type": "stream",
     "text": [
      "2022-03-30 16:01:10,612 - [WARNING] replib.core.descriptors.base:210 - Descriptor meta_prod2_vec was trained with package replib.descriptors.metaprod2vec==1.1.0 and you have installed replib.descriptors.metaprod2vec==1.2.3, which may be incompatible.\n",
      "2022-03-30 16:01:10 Descriptor meta_prod2_vec was trained with package replib.descriptors.metaprod2vec==1.1.0 and you have installed replib.descriptors.metaprod2vec==1.2.3, which may be incompatible.\n"
     ]
    },
    {
     "data": {
      "text/plain": [
       "(2, 100)"
      ]
     },
     "execution_count": 16,
     "metadata": {},
     "output_type": "execute_result"
    }
   ],
   "source": [
    "from replib.descriptors.metaprod2vec import MetaProd2Vec\n",
    "\n",
    "items = [\n",
    "    {\n",
    "        \"title\": \"Apple iPhone 11 (64 GB) - (PRODUCT)RED\",\n",
    "        \"product_id\": \"MLA15149566\",\n",
    "    },\n",
    "    {\n",
    "        \"title\": \"Samsung Galaxy S10 128 GB Azul prisma 8 GB RAM\",\n",
    "    },\n",
    "]\n",
    "\n",
    "descriptor = MetaProd2Vec(pre_fitted_version='MLA_autotrain_01_01_2022')\n",
    "descriptor.transform(items).shape"
   ]
  },
  {
   "cell_type": "code",
   "execution_count": 12,
   "id": "d6bebe4e",
   "metadata": {},
   "outputs": [],
   "source": [
    "variables = descriptor.transform(items)"
   ]
  },
  {
   "cell_type": "code",
   "execution_count": 13,
   "id": "9ad11f8c",
   "metadata": {},
   "outputs": [
    {
     "data": {
      "text/plain": [
       "array([[ 8.62778187e-01,  6.20687366e-01,  1.69396400e-03,\n",
       "         5.08175194e-02,  3.60768497e-01,  4.81142163e-01,\n",
       "        -1.74911022e+00,  7.96282589e-01, -4.75240678e-01,\n",
       "        -4.14445221e-01,  2.57109553e-02, -1.82441032e+00,\n",
       "        -7.42173374e-01, -3.78606021e-02,  7.78555393e-01,\n",
       "         1.78419924e+00,  2.28432536e-01,  9.12054360e-01,\n",
       "         5.50023973e-01,  8.78153801e-01,  6.85774088e-01,\n",
       "         3.43297064e-01,  6.74590707e-01,  5.27367413e-01,\n",
       "         4.37868774e-01, -3.52018327e-03, -8.25429320e-01,\n",
       "        -5.92662334e-01, -6.83253646e-01,  3.84581685e-01,\n",
       "        -1.20679045e+00,  1.26034647e-01, -5.10308325e-01,\n",
       "         1.56336105e+00,  8.07640433e-01, -2.81661749e-01,\n",
       "         1.63797760e+00,  1.13016033e+00,  1.27159882e+00,\n",
       "        -4.55961525e-01,  3.92147332e-01, -1.26867843e+00,\n",
       "        -1.13733459e+00, -7.49039769e-01, -2.56188005e-01,\n",
       "        -6.34409904e-01,  8.54350209e-01,  1.48442775e-01,\n",
       "         1.06472909e+00, -1.43136609e+00, -3.74604166e-02,\n",
       "        -3.60794067e-01,  7.91729391e-01, -9.58239287e-03,\n",
       "        -8.62804532e-01, -9.30684328e-01,  4.37360048e-01,\n",
       "         2.36433792e+00, -2.58165419e-01,  4.83510569e-02,\n",
       "        -9.73869205e-01,  3.29297423e-01, -1.16386926e+00,\n",
       "        -7.83376098e-01, -4.19573605e-01, -1.23463225e+00,\n",
       "         5.31870052e-02, -3.04269254e-01, -3.09153616e-01,\n",
       "         1.86119676e+00,  1.54062533e+00, -5.89648306e-01,\n",
       "         4.46216911e-01, -7.41976872e-02, -3.84170651e-01,\n",
       "        -9.07401443e-01, -5.75105190e-01,  4.20438081e-01,\n",
       "         1.37580585e+00,  1.07304323e+00,  4.83286858e-01,\n",
       "        -1.75369382e-01, -5.50104260e-01, -1.19478099e-01,\n",
       "         7.65241265e-01, -3.49438339e-01, -5.07322907e-01,\n",
       "        -8.15760136e-01, -1.19345391e+00,  7.15726137e-01,\n",
       "         1.24610591e+00, -1.82654724e-01,  3.49019617e-02,\n",
       "         4.83316630e-02,  9.38967466e-01,  1.75294340e+00,\n",
       "        -1.10306859e+00,  3.65981400e-01, -1.43013549e+00,\n",
       "         7.20789552e-01],\n",
       "       [ 1.49308801e+00, -7.20766187e-01,  9.55152512e-01,\n",
       "         4.44632143e-01,  3.08851928e-01,  2.26045847e-01,\n",
       "         2.53409654e-01, -6.85740471e-01, -3.43406171e-01,\n",
       "        -5.85464276e-02,  9.21210408e-01, -7.77494982e-02,\n",
       "        -1.70590425e+00, -1.38131797e+00, -3.62112522e-01,\n",
       "         1.37864840e+00,  1.28814268e+00, -8.71105373e-01,\n",
       "         1.10543478e+00,  1.21488190e+00,  1.24131298e+00,\n",
       "        -5.74361384e-01, -1.27084780e+00,  3.53761524e-01,\n",
       "        -3.52238715e-01,  2.44636983e-02, -9.66498673e-01,\n",
       "        -1.45854807e+00, -3.84709209e-01, -2.76145196e+00,\n",
       "        -5.54061055e-01, -6.62181795e-01,  4.69915271e-01,\n",
       "        -9.62772846e-01, -2.91968763e-01, -1.54753312e-01,\n",
       "         4.22361754e-02,  3.13249201e-01,  1.62723935e+00,\n",
       "         2.19802880e+00,  5.22349417e-01, -2.26142335e+00,\n",
       "         1.02893806e+00,  2.06434667e-01,  1.88085124e-01,\n",
       "         4.61646616e-01,  9.06885982e-01, -4.01762754e-01,\n",
       "         2.30114436e+00, -7.76845038e-01,  2.10204542e-01,\n",
       "         5.61502695e-01, -2.36944467e-01, -2.11466968e-01,\n",
       "         2.37981296e+00, -7.18882382e-01,  5.10528922e-01,\n",
       "         1.02016044e+00,  1.74348879e+00, -9.63663235e-02,\n",
       "         3.66457343e-01,  2.76554704e-01, -3.92546624e-01,\n",
       "         3.81486237e-01,  2.68308461e-01,  1.15492535e+00,\n",
       "        -1.14302421e+00,  1.71527132e-01, -7.37691343e-01,\n",
       "         6.16839826e-01,  2.00741982e+00, -1.09194219e+00,\n",
       "         7.02939749e-01,  4.79658663e-01, -8.97653699e-01,\n",
       "         1.89638704e-01, -7.14555144e-01, -5.85176229e-01,\n",
       "         1.52388310e+00,  6.86405480e-01,  2.23076439e+00,\n",
       "        -1.46752858e+00,  2.85577744e-01, -7.29654491e-01,\n",
       "         1.06215306e-01,  9.83065724e-01, -2.46105328e-01,\n",
       "        -7.77323008e-01, -8.21126938e-01, -5.39646506e-01,\n",
       "         1.46324015e+00,  1.76120222e-01, -2.60888040e-02,\n",
       "        -6.24417126e-01,  8.40515018e-01,  3.82817209e-01,\n",
       "        -4.28908914e-01, -5.59752584e-01,  2.14876562e-01,\n",
       "        -1.16473705e-01]], dtype=float32)"
      ]
     },
     "execution_count": 13,
     "metadata": {},
     "output_type": "execute_result"
    }
   ],
   "source": [
    "variables"
   ]
  },
  {
   "cell_type": "code",
   "execution_count": null,
   "id": "3cfb62eb",
   "metadata": {},
   "outputs": [],
   "source": [
    "site = conf['SITE']\n",
    "backbone_table = conf['BACKBONE_TABLE_NAME']\n",
    "time = ('2022-01-05', '2022-02-23')"
   ]
  },
  {
   "cell_type": "code",
   "execution_count": null,
   "id": "f413d8cc",
   "metadata": {},
   "outputs": [],
   "source": [
    "master_vars_path = conf['MASTERS_VARS_PATHS']\n",
    "mater_path_gcp = conf['MASTER_BUCKET_PATH']\n",
    "\n",
    "prj, bu, model = conf['PROYECT'],conf['BUSINESS_UNIT'],conf['MODEL']\n",
    "bucket_path = f'{prj}/{bu}/{model}/{site}/'\n",
    "\n",
    "#temporal_dir = random_name(10)"
   ]
  },
  {
   "cell_type": "markdown",
   "id": "db9e7577",
   "metadata": {},
   "source": [
    "#### TARGET AND MODEL POPULATION"
   ]
  },
  {
   "cell_type": "code",
   "execution_count": null,
   "id": "573f1ac7",
   "metadata": {},
   "outputs": [],
   "source": [
    "#Model population.\n",
    "df = bq.execute_response(f'SELECt * FROM {backbone_table}_{site}')"
   ]
  },
  {
   "cell_type": "code",
   "execution_count": null,
   "id": "417f1ed2",
   "metadata": {},
   "outputs": [],
   "source": [
    "df.head(3)"
   ]
  },
  {
   "cell_type": "code",
   "execution_count": null,
   "id": "715ee5cf",
   "metadata": {},
   "outputs": [],
   "source": [
    "df.info()"
   ]
  },
  {
   "cell_type": "code",
   "execution_count": null,
   "id": "971491c8",
   "metadata": {},
   "outputs": [],
   "source": [
    "df['SENT_DATE'] = pd.to_datetime(df.SENT_DATE)\n",
    "df['CONVERSION'] = df['CONVERSION'].astype(np.int64)"
   ]
  },
  {
   "cell_type": "code",
   "execution_count": null,
   "id": "ce182fc4",
   "metadata": {},
   "outputs": [],
   "source": [
    "df.info()"
   ]
  },
  {
   "cell_type": "code",
   "execution_count": null,
   "id": "21353eab",
   "metadata": {},
   "outputs": [],
   "source": [
    "df.head(3)"
   ]
  },
  {
   "cell_type": "code",
   "execution_count": null,
   "id": "2e854cf1",
   "metadata": {},
   "outputs": [],
   "source": [
    "df.groupby('SENT_DATE').CUS_CUST_ID.count().head()"
   ]
  },
  {
   "cell_type": "code",
   "execution_count": null,
   "id": "905a8a99",
   "metadata": {},
   "outputs": [],
   "source": [
    "df.groupby('SENT_DATE').CUS_CUST_ID.nunique().plot.bar(figsize=(16,4))\n",
    "plt.title('Total user in test and control time series')\n",
    "plt.grid()\n",
    "#Remover el 2022-02-16\n",
    "a = df.groupby('SENT_DATE').CUS_CUST_ID.nunique().mean()\n",
    "plt.hlines(y = a, xmin =0,xmax =60,colors = 'k')"
   ]
  },
  {
   "cell_type": "code",
   "execution_count": null,
   "id": "5e44a588",
   "metadata": {},
   "outputs": [],
   "source": [
    "print(f'Average push per day {np.round(a,0)}')"
   ]
  },
  {
   "cell_type": "code",
   "execution_count": null,
   "id": "51ab66a5",
   "metadata": {},
   "outputs": [],
   "source": [
    "df.groupby('SENT_DATE').CONVERSION.mean().head(10)*100"
   ]
  },
  {
   "cell_type": "code",
   "execution_count": null,
   "id": "68c9a4ad",
   "metadata": {},
   "outputs": [],
   "source": [
    "(df.groupby('SENT_DATE').CONVERSION.mean()*100).plot.bar(figsize=(16,4))\n",
    "plt.grid()\n",
    "plt.title('Conversion time series')\n",
    "plt.ylim((0,6))"
   ]
  },
  {
   "cell_type": "code",
   "execution_count": null,
   "id": "dc03a630",
   "metadata": {},
   "outputs": [],
   "source": [
    "print(f'Mean conversion rate: {df.CONVERSION.mean()*100}%')"
   ]
  },
  {
   "cell_type": "code",
   "execution_count": null,
   "id": "d59bf2a4",
   "metadata": {},
   "outputs": [],
   "source": [
    "df.groupby(['SENT_DATE','EVENT_TYPE']).CONVERSION.mean().head()"
   ]
  },
  {
   "cell_type": "code",
   "execution_count": null,
   "id": "857efc22",
   "metadata": {},
   "outputs": [],
   "source": [
    "df.groupby(['SENT_DATE','EVENT_TYPE']).CUS_CUST_ID.count().head()"
   ]
  },
  {
   "cell_type": "code",
   "execution_count": null,
   "id": "c5bde1ab",
   "metadata": {},
   "outputs": [],
   "source": [
    "d = df.groupby(['SENT_DATE','EVENT_TYPE']).CUS_CUST_ID.count().reset_index()"
   ]
  },
  {
   "cell_type": "code",
   "execution_count": null,
   "id": "b85ca21e",
   "metadata": {},
   "outputs": [],
   "source": [
    "d.loc[d.EVENT_TYPE=='sent'].plot.bar(x = 'SENT_DATE', y = 'CUS_CUST_ID',figsize=(16,4))\n",
    "plt.grid()"
   ]
  },
  {
   "cell_type": "code",
   "execution_count": null,
   "id": "ef2c9c55",
   "metadata": {},
   "outputs": [],
   "source": [
    "d.loc[d.EVENT_TYPE=='control'].plot.bar(x = 'SENT_DATE', y = 'CUS_CUST_ID',figsize=(16,4))\n",
    "plt.grid()"
   ]
  },
  {
   "cell_type": "code",
   "execution_count": null,
   "id": "08e05001",
   "metadata": {},
   "outputs": [],
   "source": [
    "prc = d.loc[d.EVENT_TYPE=='control'].CUS_CUST_ID.sum()*100/d.loc[d.EVENT_TYPE=='sent'].CUS_CUST_ID.sum()\n",
    "print(f'Average percentage of control (pushed users) per sent: {np.round(prc,2)}%')"
   ]
  },
  {
   "cell_type": "markdown",
   "id": "9ff40b29",
   "metadata": {},
   "source": [
    "#### PUSH VARS.\n",
    "- Amount of push notifiations in the last 7 days\n",
    "- Recency from the last push"
   ]
  },
  {
   "cell_type": "code",
   "execution_count": null,
   "id": "2b83918b",
   "metadata": {},
   "outputs": [],
   "source": [
    "#PUSH VARS\n",
    "temporal_dir = random_name(n=10)\n",
    "temporal_subdir = f\"{temporal_dir}/{conf['PREFIX_MASTERS']['PUSH_VARS']}\"\n",
    "os.makedirs(f\"{temporal_subdir}\",exist_ok=True)\n",
    "logger.info(f\"Temporal subdir created: {temporal_subdir}.\")"
   ]
  },
  {
   "cell_type": "code",
   "execution_count": null,
   "id": "1084a3c6",
   "metadata": {},
   "outputs": [],
   "source": [
    "download_(temporal_dir = temporal_subdir,\n",
    "          bucket_path = bucket_path,\n",
    "          bucket_var = master_vars_path['PUSH_VARS'],\n",
    "          is_prod = False)"
   ]
  },
  {
   "cell_type": "code",
   "execution_count": null,
   "id": "c7525fca",
   "metadata": {},
   "outputs": [],
   "source": [
    "push_df = pd.read_parquet(f'{temporal_subdir}/000000000000.parquet')"
   ]
  },
  {
   "cell_type": "code",
   "execution_count": null,
   "id": "bd480d97",
   "metadata": {},
   "outputs": [],
   "source": [
    "push_df.head(3)"
   ]
  },
  {
   "cell_type": "code",
   "execution_count": null,
   "id": "e0e402fd",
   "metadata": {},
   "outputs": [],
   "source": [
    "def proc_pushvars(df:pd.DataFrame)->pd.DataFrame:\n",
    "    \"\"\"Pre-processing procedure for push notification variables.\n",
    "    df: DataFrame with the variables.\n",
    "    \"\"\"\n",
    "    logger.info(f\"--------- START PROCESSING PROCEDURE ON PUSHVAR ---------\")\n",
    "    logger.info(f\"INPUT DATAFRAME {df.shape} unique users {df.CUS_CUST_ID.nunique()}\")\n",
    "    \n",
    "    df['SENT_DATE'] = pd.to_datetime(df.SENT_DATE)\n",
    "    \n",
    "    recency_na = np.round(df['RECENCY'].isna().mean(),3)*100\n",
    "    logger.info(f\"FILL RECENCY NA VALUES ({recency_na} %) WITH MAX(RECENCY)+1\")\n",
    "    df['RECENCY'] = df['RECENCY'].fillna(np.max(df.RECENCY)+1).astype(np.int64)\n",
    "    \n",
    "    r_push_na = np.round(df['R_PUSH_LAST_15D_VS_REST_OF_MONTH'].isna().mean(),3)*100\n",
    "    logger.info(f\"FILL R_PUSH_LAST_15D_VS_REST_OF_MONTH NA ({r_push_na}) VALUES WITH -1\")\n",
    "    df['R_PUSH_LAST_15D_VS_REST_OF_MONTH'] = df['R_PUSH_LAST_15D_VS_REST_OF_MONTH']\\\n",
    "    .fillna(-1).astype(np.int64)\n",
    "    \n",
    "    logger.info(f\"ADDING VAR R_PUSH_RANK & TOTAL_PUSH_LAST_7D_RANK\")\n",
    "    df['R_PUSH_RANK'] = df['R_PUSH_LAST_15D_VS_REST_OF_MONTH'].rank(na_option='bottom',pct=True)\n",
    "    df['TOTAL_PUSH_LAST_7D_RANK'] = df['TOTAL_PUSH_LAST_7D'].rank(na_option='bottom',pct=True)\n",
    "    \n",
    "    df = prefix_source_info(df = df,\n",
    "                            prefix = conf['PREFIX_MASTERS']['PUSH_VARS'],\n",
    "                            exceptions= ['Y','W','SENT_DATE','CUS_CUST_ID'])\n",
    "    \n",
    "    logger.info(f\"OUTPUT DATAFRAME {df.shape} unique users {df.CUS_CUST_ID.nunique()}\")\n",
    "    logger.info(f\"--------- END PROCESSING PROCEDURE ON PUSHVAR ---------\")\n",
    "    return df"
   ]
  },
  {
   "cell_type": "code",
   "execution_count": null,
   "id": "692a2d18",
   "metadata": {},
   "outputs": [],
   "source": [
    "push_df = proc_pushvars(push_df)"
   ]
  },
  {
   "cell_type": "code",
   "execution_count": null,
   "id": "eb1fe4fe",
   "metadata": {},
   "outputs": [],
   "source": [
    "push_df.info()"
   ]
  },
  {
   "cell_type": "code",
   "execution_count": null,
   "id": "21b2af20",
   "metadata": {},
   "outputs": [],
   "source": [
    "push_df.PUSHVAR_R_PUSH_RANK"
   ]
  },
  {
   "cell_type": "code",
   "execution_count": null,
   "id": "d587f0f8",
   "metadata": {},
   "outputs": [],
   "source": [
    "push_df['SENT_DATE'] = pd.to_datetime(push_df.SENT_DATE)\n",
    "push_df['RECENCY'] = push_df['RECENCY'].fillna(np.max(push_df.RECENCY)+1).astype(np.int64)"
   ]
  },
  {
   "cell_type": "code",
   "execution_count": null,
   "id": "b3cee275",
   "metadata": {},
   "outputs": [],
   "source": [
    "push_df.info()"
   ]
  },
  {
   "cell_type": "code",
   "execution_count": null,
   "id": "27918d65",
   "metadata": {},
   "outputs": [],
   "source": [
    "push_df['PUSHVAR_TOTAL_PUSH_LAST_7D'].value_counts(normalize=True).sort_index()"
   ]
  },
  {
   "cell_type": "code",
   "execution_count": null,
   "id": "20859e43",
   "metadata": {},
   "outputs": [],
   "source": [
    "push_df['PUSHVAR_TOTAL_PUSH_LAST_7D'].value_counts(normalize=True).sort_index().plot.bar(figsize=(16,4))\n",
    "plt.grid()"
   ]
  },
  {
   "cell_type": "code",
   "execution_count": null,
   "id": "a1bf6321",
   "metadata": {},
   "outputs": [],
   "source": [
    "push_df['PUSHVAR_RECENCY'].value_counts(normalize=True).sort_index()"
   ]
  },
  {
   "cell_type": "code",
   "execution_count": null,
   "id": "6a4c0c71",
   "metadata": {},
   "outputs": [],
   "source": [
    "push_df['PUSHVAR_RECENCY'].value_counts(normalize=True).sort_index().plot.bar(figsize=(16,4))\n",
    "plt.grid()\n",
    "#El valor de 8 es la imputacion. "
   ]
  },
  {
   "cell_type": "code",
   "execution_count": null,
   "id": "020caf9c",
   "metadata": {},
   "outputs": [],
   "source": [
    "push_df.shape"
   ]
  },
  {
   "cell_type": "code",
   "execution_count": null,
   "id": "43f25dfe",
   "metadata": {},
   "outputs": [],
   "source": [
    "push_df = prefix_source_info(df = push_df,\n",
    "                             prefix = conf['PREFIX_MASTERS']['PUSH_VARS'],\n",
    "                             exceptions= ['Y','W','SENT_DATE','CUS_CUST_ID'])"
   ]
  },
  {
   "cell_type": "code",
   "execution_count": null,
   "id": "19e46def",
   "metadata": {},
   "outputs": [],
   "source": [
    "# def proc_pushvars(df:pd.DataFrame)->pd.DataFrame:\n",
    "#     \"\"\"Pre-processing procedure for push notification variables.\n",
    "#     df: DataFrame with the variables.\n",
    "#     \"\"\"\n",
    "#     logger.info(f\"START PROCESSING PROCEDURE ON PUSHVAR\")\n",
    "#     logger.info(f\"INPUT DATAFRAME {df.shape} unique users {df.CUS_CUST_ID.nunique()}\")\n",
    "    \n",
    "#     df['SENT_DATE'] = pd.to_datetime(df.SENT_DATE)\n",
    "#     logger.info(f\"FILL RECENCY NA VALUES WITH MAX(RECENCY)+1\")\n",
    "#     df['RECENCY'] = df['RECENCY'].fillna(np.max(df.RECENCY)+1).astype(np.int64)\n",
    "    \n",
    "#     df = prefix_source_info(df = df,\n",
    "#                              prefix = conf['PREFIX_MASTERS']['PUSH_VARS'],\n",
    "#                              exceptions= ['Y','W','SENT_DATE','CUS_CUST_ID'])\n",
    "#     return df"
   ]
  },
  {
   "cell_type": "code",
   "execution_count": null,
   "id": "3cbdf3b2",
   "metadata": {},
   "outputs": [],
   "source": [
    "push_df.head()"
   ]
  },
  {
   "cell_type": "markdown",
   "id": "704f4396",
   "metadata": {},
   "source": [
    "#### BEHAVIOUR_VARS."
   ]
  },
  {
   "cell_type": "code",
   "execution_count": null,
   "id": "e44bc03c",
   "metadata": {},
   "outputs": [],
   "source": [
    "#BEHAVIOUR_VARS\n",
    "temporal_subdir = f\"{temporal_dir}/{conf['PREFIX_MASTERS']['BEHAVIOUR_VARS']}\"\n",
    "os.makedirs(f\"{temporal_subdir}\",exist_ok=True)\n",
    "logger.info(f\"Temporal subdir created: {temporal_subdir}.\")"
   ]
  },
  {
   "cell_type": "code",
   "execution_count": null,
   "id": "7f1c170e",
   "metadata": {},
   "outputs": [],
   "source": [
    "download_(temporal_dir = temporal_subdir,\n",
    "          bucket_path = bucket_path,\n",
    "          bucket_var = master_vars_path['BEHAVIOUR_VARS'],\n",
    "          is_prod = False)"
   ]
  },
  {
   "cell_type": "code",
   "execution_count": null,
   "id": "29896326",
   "metadata": {},
   "outputs": [],
   "source": [
    "beha_df = pd.read_parquet(f'{temporal_dir}/BEHAVIOURVARS/000000000000.parquet')"
   ]
  },
  {
   "cell_type": "code",
   "execution_count": null,
   "id": "cc751e06",
   "metadata": {},
   "outputs": [],
   "source": [
    "beha_df.describe()"
   ]
  },
  {
   "cell_type": "code",
   "execution_count": null,
   "id": "5414aaa9",
   "metadata": {},
   "outputs": [],
   "source": [
    "series = beha_df.OS_NAME"
   ]
  },
  {
   "cell_type": "code",
   "execution_count": null,
   "id": "5465203a",
   "metadata": {},
   "outputs": [],
   "source": [
    "x = np.round(series.isnull().mean(),2)"
   ]
  },
  {
   "cell_type": "code",
   "execution_count": null,
   "id": "8a08a832",
   "metadata": {},
   "outputs": [],
   "source": [
    "logger.info(f\"% OF NaN in {series.name}: {x} %\")"
   ]
  },
  {
   "cell_type": "code",
   "execution_count": null,
   "id": "35bfb187",
   "metadata": {},
   "outputs": [],
   "source": [
    "class_p = series.value_counts(normalize=True).to_dict()"
   ]
  },
  {
   "cell_type": "code",
   "execution_count": null,
   "id": "e8d0ab8b",
   "metadata": {},
   "outputs": [],
   "source": [
    "proportions=class_p"
   ]
  },
  {
   "cell_type": "code",
   "execution_count": null,
   "id": "73ac982f",
   "metadata": {},
   "outputs": [],
   "source": [
    "rv = np.random.choice(a = [*proportions.keys()],\n",
    "                      size = series.isna().sum(),\n",
    "                      p = [*proportions.values()]\n",
    "                     ) "
   ]
  },
  {
   "cell_type": "code",
   "execution_count": null,
   "id": "084e6cb9",
   "metadata": {},
   "outputs": [],
   "source": [
    "rv"
   ]
  },
  {
   "cell_type": "code",
   "execution_count": null,
   "id": "d4a8305b",
   "metadata": {},
   "outputs": [],
   "source": [
    "ix = np.arange(0,len(series))\n",
    "series_ = series.copy()\n",
    "for x,y,z in zip(ix,series.isna(),rv):\n",
    "    if y:\n",
    "        series_.iloc[x] = z"
   ]
  },
  {
   "cell_type": "code",
   "execution_count": null,
   "id": "8604fd69",
   "metadata": {},
   "outputs": [],
   "source": [
    "series = beha_df.OS_NAME\n",
    "x = np.round(series.isnull().mean(),2)\n",
    "logger.info(f\"% OF NaN in {series.name}: {x}\")\n",
    "rv = np.random.choice(a = [*proportions.keys()],\n",
    "                      size = series.isna().sum(),\n",
    "                      p = [*proportions.values()]\n",
    "                     ) \n",
    "series.loc[series.isna()] = rv"
   ]
  },
  {
   "cell_type": "code",
   "execution_count": null,
   "id": "3f146bc5",
   "metadata": {},
   "outputs": [],
   "source": [
    "['LOG_DATE_COUNT_7D', 'AVG_PRICE_ITEM_7D','CAT_CATEG_ID_COUNT_7D', 'AVG_PRICE_ITEM_F7D',\n",
    "       'MIN_PRICE_ITEM', 'MAX_PRICE_ITEM', 'BUY_INTENTION_ITEM_COUNT',\n",
    "       'CAT_CATEG_ID_COUNT_F7D', 'VIP_VIEW_APP_ANDROID_ITEM_COUNT',\n",
    "       'VIP_VIEW_APP_IOS_ITEM_COUNT', 'VIP_VIEW_DESKTOP_ITEM_COUNT',\n",
    "       'VIP_VIEW_WEB_MOBILE_ITEM_COUNT', 'VIP_VIEW', 'QUESTION_ITEM_COUNT',\n",
    "       'CHECKOUT_CONGRATS_ITEM_COUNT', 'ADD_TO_CART_ITEM_COUNT',\n",
    "       'BOOKMARK_ITEM_COUNT', 'TOTAL_PAYMENTS_AMT_SUM',\n",
    "       'WALLET_PAYMENTS_AMT_SUM', 'AGGREGATOR_PAYMENTS_AMT_SUM',\n",
    "       'TOTAL_PAYMENTS_COUNT']"
   ]
  },
  {
   "cell_type": "code",
   "execution_count": null,
   "id": "0388d8c5",
   "metadata": {},
   "outputs": [],
   "source": [
    "beha_df.max(axis =0)"
   ]
  },
  {
   "cell_type": "code",
   "execution_count": null,
   "id": "03af467e",
   "metadata": {},
   "outputs": [],
   "source": [
    "beha_df.columns"
   ]
  },
  {
   "cell_type": "code",
   "execution_count": null,
   "id": "2530e962",
   "metadata": {},
   "outputs": [],
   "source": [
    "beha_df.info()"
   ]
  },
  {
   "cell_type": "code",
   "execution_count": null,
   "id": "d23f7125",
   "metadata": {},
   "outputs": [],
   "source": [
    "#CASTEOS.\n",
    "beha_df['SENT_DATE'] = pd.to_datetime(beha_df.SENT_DATE)\n",
    "beha_df['MIN_PRICE_ITEM'] = beha_df['MIN_PRICE_ITEM'].astype(np.float64)\n",
    "beha_df['MAX_PRICE_ITEM'] = beha_df['MAX_PRICE_ITEM'].astype(np.float64)\n",
    "beha_df['TOTAL_PAYMENTS_AMT_SUM'] = beha_df['TOTAL_PAYMENTS_AMT_SUM'].astype(np.float64)\n",
    "beha_df['WALLET_PAYMENTS_AMT_SUM'] = beha_df['WALLET_PAYMENTS_AMT_SUM'].astype(np.float64)\n",
    "beha_df['AGGREGATOR_PAYMENTS_AMT_SUM'] = beha_df['AGGREGATOR_PAYMENTS_AMT_SUM'].astype(np.float64)\n",
    "beha_df['AVG_PRICE_ITEM_7D'] = beha_df['AVG_PRICE_ITEM_7D'].astype(np.float64)\n",
    "beha_df['AVG_PRICE_ITEM_F7D'] = beha_df['AVG_PRICE_ITEM_F7D'].astype(np.float64)"
   ]
  },
  {
   "cell_type": "code",
   "execution_count": null,
   "id": "4ac3669f",
   "metadata": {},
   "outputs": [],
   "source": [
    "beha_df.info()"
   ]
  },
  {
   "cell_type": "code",
   "execution_count": null,
   "id": "e35a2e33",
   "metadata": {},
   "outputs": [],
   "source": [
    "beha_df.head(3)"
   ]
  },
  {
   "cell_type": "code",
   "execution_count": null,
   "id": "6b672263",
   "metadata": {},
   "outputs": [],
   "source": [
    "beha_df['MIN_PRICE_ITEM']"
   ]
  },
  {
   "cell_type": "code",
   "execution_count": null,
   "id": "f65dc602",
   "metadata": {},
   "outputs": [],
   "source": [
    "beha_df['MIN_PRICE_ITEM'] = beha_df['MIN_PRICE_ITEM'].astype(np.float64)\n",
    "beha_df.boxplot(column = 'MIN_PRICE_ITEM')"
   ]
  },
  {
   "cell_type": "code",
   "execution_count": null,
   "id": "e5801869",
   "metadata": {},
   "outputs": [],
   "source": [
    "def outlier_clipping(series:pd.Series,q:float = .95):\n",
    "    \"\"\"Replace the values over the percentile 95 with the value\n",
    "    of this percentile.\"\"\"\n",
    "    \n",
    "    top = np.nanquantile(series,q)\n",
    "    logger.info(f\"{series.name} - MAX : {np.max(series)} WILL BE REPALCED BY {top}\")\n",
    "    series.loc[series > top] = top\n",
    "    \n",
    "    return series        "
   ]
  },
  {
   "cell_type": "code",
   "execution_count": null,
   "id": "d6bfe3a5",
   "metadata": {},
   "outputs": [],
   "source": [
    "beha_df['MIN_PRICE_ITEM'] = beha_df['MIN_PRICE_ITEM'].astype(np.float64)\n",
    "beha_df['MAX_PRICE_ITEM'] = beha_df['MAX_PRICE_ITEM'].astype(np.float64)\n",
    "for col in ['MIN_PRICE_ITEM','MAX_PRICE_ITEM']:\n",
    "    beha_df[col] =  outlier_clipping(beha_df[col].copy(),q = .95)"
   ]
  },
  {
   "cell_type": "code",
   "execution_count": null,
   "id": "12019866",
   "metadata": {},
   "outputs": [],
   "source": [
    "beha_df.boxplot(column = 'MIN_PRICE_ITEM')"
   ]
  },
  {
   "cell_type": "code",
   "execution_count": null,
   "id": "7b545e1e",
   "metadata": {},
   "outputs": [],
   "source": [
    "beha_df.boxplot(column = 'MAX_PRICE_ITEM')"
   ]
  },
  {
   "cell_type": "code",
   "execution_count": null,
   "id": "2c8ac4e5",
   "metadata": {},
   "outputs": [],
   "source": [
    "beha_df.info()"
   ]
  },
  {
   "cell_type": "code",
   "execution_count": null,
   "id": "2f7a2ec5",
   "metadata": {},
   "outputs": [],
   "source": [
    "cols = ['MIN_PRICE_ITEM','MAX_PRICE_ITEM',\n",
    "        'MAX_FROM_INSTALL_ML','MIN_FROM_INSTALL_ML',\n",
    "        'MAX_FROM_INSTALL_MP','MIN_FROM_INSTALL_MP']\n",
    "for col in cols:\n",
    "    logger.info(f\"FILL NA {col} ({np.round(beha_df[col].isna().mean(),2)*100}%) VALUES WITH -1\")\n",
    "    beha_df[col] = beha_df[col].fillna(-1)"
   ]
  },
  {
   "cell_type": "code",
   "execution_count": null,
   "id": "5b09e4cc",
   "metadata": {},
   "outputs": [],
   "source": [
    "beha_df['SENT_DATE'] = pd.to_datetime(beha_df.SENT_DATE)\n",
    "beha_df['MIN_PRICE_ITEM'] = beha_df['MIN_PRICE_ITEM'].astype(np.float64)\n",
    "beha_df['MAX_PRICE_ITEM'] = beha_df['MAX_PRICE_ITEM'].astype(np.float64)\n",
    "beha_df['TOTAL_PAYMENTS_AMT_SUM'] = beha_df['TOTAL_PAYMENTS_AMT_SUM'].astype(np.float64)\n",
    "beha_df['WALLET_PAYMENTS_AMT_SUM'] = beha_df['WALLET_PAYMENTS_AMT_SUM'].astype(np.float64)\n",
    "beha_df['AGGREGATOR_PAYMENTS_AMT_SUM'] = beha_df['AGGREGATOR_PAYMENTS_AMT_SUM'].astype(np.float64)\n",
    "beha_df['AVG_PRICE_ITEM_7D'] = beha_df['AVG_PRICE_ITEM_7D'].astype(np.float64)\n",
    "beha_df['AVG_PRICE_ITEM_F7D'] = beha_df['AVG_PRICE_ITEM_F7D'].astype(np.float64)\n",
    "\n",
    "beha_df['RECENCY'] = beha_df['RECENCY'].fillna(np.max(beha_df.RECENCY) + 1).astype(np.int64)\n",
    "\n",
    "#carefull\n",
    "beha_df['MIN_PRICE_ITEM'] = beha_df['MIN_PRICE_ITEM'].fillna(-1)\n",
    "beha_df['MAX_PRICE_ITEM'] = beha_df['MAX_PRICE_ITEM'].fillna(-1)\n",
    "beha_df['MAX_FROM_INSTALL_ML'] = beha_df['MAX_FROM_INSTALL_ML'].fillna(-1)\n",
    "beha_df['MIN_FROM_INSTALL_ML'] = beha_df['MIN_FROM_INSTALL_ML'].fillna(-1)\n",
    "beha_df['MAX_FROM_INSTALL_MP'] = beha_df['MAX_FROM_INSTALL_MP'].fillna(-1)\n",
    "beha_df['MIN_FROM_INSTALL_MP'] = beha_df['MIN_FROM_INSTALL_MP'].fillna(-1)"
   ]
  },
  {
   "cell_type": "code",
   "execution_count": null,
   "id": "75303a6a",
   "metadata": {},
   "outputs": [],
   "source": [
    "beha_df.info()"
   ]
  },
  {
   "cell_type": "code",
   "execution_count": null,
   "id": "587390d6",
   "metadata": {},
   "outputs": [],
   "source": [
    "beha_df['OS_NAME'].value_counts(normalize=True)"
   ]
  },
  {
   "cell_type": "code",
   "execution_count": null,
   "id": "2a5818a5",
   "metadata": {},
   "outputs": [],
   "source": [
    "class_p = beha_df['OS_NAME'].value_counts(normalize=True).to_dict()\n",
    "categorical_imputer(series = beha_df['OS_NAME'],proportions = class_p)"
   ]
  },
  {
   "cell_type": "code",
   "execution_count": null,
   "id": "24fa48b8",
   "metadata": {},
   "outputs": [],
   "source": [
    "beha_df['OS_NAME'].value_counts(normalize=True)"
   ]
  },
  {
   "cell_type": "code",
   "execution_count": null,
   "id": "7299d113",
   "metadata": {},
   "outputs": [],
   "source": [
    "beha_df['OS_IS_ANDROID'] = remap_column(serie = beha_df['OS_NAME'],dict_ = {'android':1, 'ios':0})"
   ]
  },
  {
   "cell_type": "code",
   "execution_count": null,
   "id": "8b4402c3",
   "metadata": {},
   "outputs": [],
   "source": [
    "beha_df['OS_IS_ANDROID'].value_counts(normalize=True)"
   ]
  },
  {
   "cell_type": "code",
   "execution_count": null,
   "id": "f59cc7f8",
   "metadata": {},
   "outputs": [],
   "source": [
    "beha_df.drop(columns='OS_NAME', inplace=True)"
   ]
  },
  {
   "cell_type": "code",
   "execution_count": null,
   "id": "8181e752",
   "metadata": {},
   "outputs": [],
   "source": [
    "beha_df = prefix_source_info(df = beha_df,\n",
    "                             prefix = conf['PREFIX_MASTERS']['BEHAVIOUR_VARS'],\n",
    "                             exceptions= ['Y','W','SENT_DATE','CUS_CUST_ID'])"
   ]
  },
  {
   "cell_type": "code",
   "execution_count": null,
   "id": "2d682960",
   "metadata": {},
   "outputs": [],
   "source": [
    "beha_df.shape"
   ]
  },
  {
   "cell_type": "code",
   "execution_count": null,
   "id": "d993c2c9",
   "metadata": {},
   "outputs": [],
   "source": [
    "beha_df.head()"
   ]
  },
  {
   "cell_type": "code",
   "execution_count": null,
   "id": "59705054",
   "metadata": {},
   "outputs": [],
   "source": [
    " beha_df.BEHAVIOURVARS_OS_NAME"
   ]
  },
  {
   "cell_type": "code",
   "execution_count": null,
   "id": "9f715d97",
   "metadata": {},
   "outputs": [],
   "source": [
    "x = np.round(series.isnull().mean(),2)\n",
    "logger.info(f\"% OF NaN in {series.name}: {x}\")\n",
    "rv = np.random.choice(a = [*proportions.keys()],\n",
    "                      size = series.isna().sum(),\n",
    "                      p = [*proportions.values()]\n",
    "                     ) \n",
    "series.loc[series.isna()] = rv"
   ]
  },
  {
   "cell_type": "code",
   "execution_count": null,
   "id": "5b26b7bb",
   "metadata": {},
   "outputs": [],
   "source": [
    "def proc_behaviour(df: pd.DataFrame)->pd.DataFrame:\n",
    "    \"\"\"Pre-processing procedure for events on :\n",
    "    marketplace and MP app.\n",
    "    df: DataFrame with the variables.\n",
    "    \"\"\"\n",
    "    logger.info(f\"--------- START PROCESSING PROCEDURE ON BEHAVIOUR ---------\")\n",
    "    logger.info(f\"INPUT DATAFRAME {df.shape} unique users {df.CUS_CUST_ID.nunique()}\")\n",
    "    \n",
    "    logger.info(f\"CAST VARIABLES TYPE\")\n",
    "    df['SENT_DATE'] = pd.to_datetime(df.SENT_DATE)\n",
    "    df['MIN_PRICE_ITEM'] = df['MIN_PRICE_ITEM'].astype(np.float64)\n",
    "    df['MAX_PRICE_ITEM'] = df['MAX_PRICE_ITEM'].astype(np.float64)\n",
    "    df['TOTAL_PAYMENTS_AMT_SUM'] = df['TOTAL_PAYMENTS_AMT_SUM'].astype(np.float64)\n",
    "    df['WALLET_PAYMENTS_AMT_SUM'] = df['WALLET_PAYMENTS_AMT_SUM'].astype(np.float64)\n",
    "    df['AGGREGATOR_PAYMENTS_AMT_SUM'] = df['AGGREGATOR_PAYMENTS_AMT_SUM'].astype(np.float64)\n",
    "    df['AVG_PRICE_ITEM_7D'] = df['AVG_PRICE_ITEM_7D'].astype(np.float64)\n",
    "    df['AVG_PRICE_ITEM_F7D'] = df['AVG_PRICE_ITEM_F7D'].astype(np.float64)\n",
    "    \n",
    "    logger.info(f\"Clipping prices and money by percentil 95\")\n",
    "    cols = ['AVG_PRICE_ITEM_7D','CAT_CATEG_ID_COUNT_7D', \n",
    "            'AVG_PRICE_ITEM_F7D','MIN_PRICE_ITEM', 'MAX_PRICE_ITEM', \n",
    "            'BUY_INTENTION_ITEM_COUNT','CAT_CATEG_ID_COUNT_F7D', \n",
    "            'VIP_VIEW_APP_ANDROID_ITEM_COUNT','VIP_VIEW_APP_IOS_ITEM_COUNT',\n",
    "            'VIP_VIEW_DESKTOP_ITEM_COUNT','VIP_VIEW_WEB_MOBILE_ITEM_COUNT', \n",
    "            'VIP_VIEW', 'QUESTION_ITEM_COUNT','CHECKOUT_CONGRATS_ITEM_COUNT',\n",
    "            'ADD_TO_CART_ITEM_COUNT','BOOKMARK_ITEM_COUNT', \n",
    "            'TOTAL_PAYMENTS_AMT_SUM','WALLET_PAYMENTS_AMT_SUM', \n",
    "            'AGGREGATOR_PAYMENTS_AMT_SUM','TOTAL_PAYMENTS_COUNT']\n",
    "    for col in cols:\n",
    "        df[col] =  outlier_clipping(df[col].copy(),q = .95)\n",
    "    \n",
    "    recency_na = np.round(df['RECENCY'].isna().mean(),3)*100\n",
    "    logger.info(f\"FILL RECENCY NA VALUES ({recency_na} %) WITH MAX(RECENCY)+1\")\n",
    "    df['RECENCY'] = df['RECENCY'].fillna(np.max(df.RECENCY) + 1).astype(np.int64)\n",
    "\n",
    "    cols = ['MIN_PRICE_ITEM','MAX_PRICE_ITEM',\n",
    "            'MAX_FROM_INSTALL_ML','MIN_FROM_INSTALL_ML',\n",
    "            'MAX_FROM_INSTALL_MP','MIN_FROM_INSTALL_MP']\n",
    "    for col in cols:\n",
    "        logger.info(f\"FILL NA {col} ({np.round(df[col].isna().mean(),2)*100}%) VALUES WITH -1\")\n",
    "        df[col] = df[col].fillna(-1)\n",
    "    \n",
    "    od_na = np.round(df['OS_NAME'].isna().mean(),3)*100\n",
    "    logger.info(f\"FILL NA VALUES IN OS_NAME ({od_na}%) BY ORIGINAL DISTIRBUTION\")\n",
    "    class_p = df['OS_NAME'].value_counts(normalize=True).to_dict()\n",
    "    categorical_imputer(series = df['OS_NAME'],proportions = class_p)\n",
    "    df['OS_IS_ANDROID'] = remap_column(serie = df['OS_NAME'],dict_ = {'android':1, 'ios':0})\n",
    "    df.drop(columns='OS_NAME', inplace=True)\n",
    "    \n",
    "    df = prefix_source_info(df = df,\n",
    "                            prefix = conf['PREFIX_MASTERS']['BEHAVIOUR_VARS'],\n",
    "                            exceptions= ['Y','W','SENT_DATE','CUS_CUST_ID'])\n",
    "    \n",
    "    logger.info(f\"OUTPUT DATAFRAME {df.shape} unique users {df.CUS_CUST_ID.nunique()}\")\n",
    "    logger.info(f\"--------- END PROCESSING PROCEDURE ON BEHAVIOUR ---------\")\n",
    "    return df"
   ]
  },
  {
   "cell_type": "code",
   "execution_count": null,
   "id": "26a1bb7c",
   "metadata": {},
   "outputs": [],
   "source": [
    "beha_df = proc_behaviour(beha_df)"
   ]
  },
  {
   "cell_type": "markdown",
   "id": "eb92b943",
   "metadata": {},
   "source": [
    "#### MERGE."
   ]
  },
  {
   "cell_type": "code",
   "execution_count": null,
   "id": "481c1bb6",
   "metadata": {},
   "outputs": [],
   "source": [
    "master = df.merge(push_df,on = ['CUS_CUST_ID','SENT_DATE'], how = 'left', validate='1:1')\n",
    "master = master.merge(beha_df,on = ['CUS_CUST_ID','SENT_DATE'], how = 'left', validate='1:1')"
   ]
  },
  {
   "cell_type": "code",
   "execution_count": null,
   "id": "d6f76c91",
   "metadata": {},
   "outputs": [],
   "source": [
    "master.head(3)"
   ]
  },
  {
   "cell_type": "code",
   "execution_count": null,
   "id": "9bdefc50",
   "metadata": {},
   "outputs": [],
   "source": [
    "master.info()"
   ]
  },
  {
   "cell_type": "code",
   "execution_count": null,
   "id": "5e4be1f6",
   "metadata": {},
   "outputs": [],
   "source": [
    "master['W'] = remap_column(serie = master['EVENT_TYPE'],dict_ = {'sent':1, 'control':0})\n",
    "master.drop(columns='EVENT_TYPE', inplace=True)\n",
    "master.rename(columns={\"CONVERSION\": \"Y\"}, inplace=True)"
   ]
  },
  {
   "cell_type": "code",
   "execution_count": null,
   "id": "4477a451",
   "metadata": {},
   "outputs": [],
   "source": [
    "master.info()"
   ]
  },
  {
   "cell_type": "code",
   "execution_count": null,
   "id": "65b84cde",
   "metadata": {},
   "outputs": [],
   "source": [
    "master.W.value_counts(normalize=True)"
   ]
  },
  {
   "cell_type": "code",
   "execution_count": null,
   "id": "8386e4b0",
   "metadata": {},
   "outputs": [],
   "source": [
    "master.Y.value_counts(normalize=True)"
   ]
  },
  {
   "cell_type": "code",
   "execution_count": null,
   "id": "107ab79e",
   "metadata": {},
   "outputs": [],
   "source": []
  }
 ],
 "metadata": {
  "kernelspec": {
   "display_name": "Python 3 (ipykernel)",
   "language": "python",
   "name": "python3"
  },
  "language_info": {
   "codemirror_mode": {
    "name": "ipython",
    "version": 3
   },
   "file_extension": ".py",
   "mimetype": "text/x-python",
   "name": "python",
   "nbconvert_exporter": "python",
   "pygments_lexer": "ipython3",
   "version": "3.7.4"
  }
 },
 "nbformat": 4,
 "nbformat_minor": 5
}
