{
 "cells": [
  {
   "cell_type": "markdown",
   "id": "af4ec689",
   "metadata": {},
   "source": [
    "**This notebook is for:**\n",
    "1. model population.\n",
    "2. Push variables (recency and number of times in the last 7 days that an user was sended a push notification)\n",
    "3. Generte the most important variables from the previous model."
   ]
  },
  {
   "cell_type": "code",
   "execution_count": 1,
   "id": "b73cf04f",
   "metadata": {},
   "outputs": [
    {
     "name": "stdout",
     "output_type": "stream",
     "text": [
      "adding utils to path \n"
     ]
    }
   ],
   "source": [
    "import sys, os \n",
    "prj_path = os.path.dirname(os.getcwd())\n",
    "utils_path = prj_path + '/utils'\n",
    "if  not utils_path in sys.path:\n",
    "    print('adding utils to path ')\n",
    "    sys.path.insert(1, utils_path)"
   ]
  },
  {
   "cell_type": "code",
   "execution_count": 2,
   "id": "1d1f9c2c",
   "metadata": {},
   "outputs": [],
   "source": [
    "from utilities import *\n",
    "\n",
    "from google_cloud import BigQuery, Storage\n",
    "import pandas as pd\n",
    "import numpy as np\n",
    "import matplotlib.pyplot as plt\n",
    "\n",
    "from datetime import datetime\n",
    "\n",
    "import os\n",
    "import sys\n",
    "\n",
    "import boto3\n",
    "import base64\n",
    "\n",
    "#Cliente BigQuery\n",
    "AUTH_BIGQUERY = base64.b64decode(os.environ['SECRET_AUTH_BIGQUERY_MODEL'])\n",
    "bq = BigQuery(AUTH_BIGQUERY)\n",
    "storage =Storage(AUTH_BIGQUERY)\n",
    "\n",
    "#Load config.\n",
    "files = glob.glob(f\"{utils_path}/*.yml\") \n",
    "conf = load_conf(files)"
   ]
  },
  {
   "cell_type": "code",
   "execution_count": 3,
   "id": "6b8e310b",
   "metadata": {},
   "outputs": [],
   "source": [
    "site = conf['SITE']\n",
    "backbone_table = conf['BACKBONE_TABLE_NAME']\n",
    "time = ('2022-01-05', '2022-03-21')"
   ]
  },
  {
   "cell_type": "code",
   "execution_count": 4,
   "id": "627b069c",
   "metadata": {},
   "outputs": [
    {
     "name": "stderr",
     "output_type": "stream",
     "text": [
      "2022-03-22 08:07:20 Create table meli-marketing.TEMP45.CY_NB_ML_BACKBONE_MLB if not exist\n",
      "2022-03-22 08:07:20 This service is instrumented using OpenTelemetry.OpenTelemetry could not be imported; pleaseadd opentelemetry-api and opentelemetry-instrumentationpackages in order to get BigQuery Tracing data.\n",
      "2022-03-22 08:07:21 Truncate table meli-marketing.TEMP45.CY_NB_ML_BACKBONE_MLB\n",
      "2022-03-22 08:07:22 Backbone for New Buyers: from 2022-01-05 to 2022-03-21\n",
      "2022-03-22 08:08:26 End Backbone building meli-marketing.TEMP45.CY_NB_ML_BACKBONE_MLB\n"
     ]
    },
    {
     "name": "stdout",
     "output_type": "stream",
     "text": [
      "CPU times: user 250 ms, sys: 61.6 ms, total: 311 ms\n",
      "Wall time: 1min 6s\n"
     ]
    }
   ],
   "source": [
    "%%time\n",
    "#Backbone (push<-orders = target)\n",
    "backbone_table_production(table_name = backbone_table,\n",
    "                              site = site,\n",
    "                              conf = conf,\n",
    "                              periods = time\n",
    "                             )"
   ]
  },
  {
   "cell_type": "code",
   "execution_count": 4,
   "id": "17049fc7",
   "metadata": {},
   "outputs": [
    {
     "name": "stderr",
     "output_type": "stream",
     "text": [
      "2022-03-22 09:01:27 Start creating variable : PUSH_VARS for site MLB\n",
      "2022-03-22 09:01:27 Writing on : gs://marketing-modelling/ML/NB/MLB/train/dataset/PUSH_VARS\n",
      "2022-03-22 09:01:27 Excecuting PUSH_LAST_7_DAYS with params: {'backbone': 'meli-marketing.TEMP45.CY_NB_ML_BACKBONE', 'site': 'MLB'}\n",
      "2022-03-22 09:01:28 This service is instrumented using OpenTelemetry.OpenTelemetry could not be imported; pleaseadd opentelemetry-api and opentelemetry-instrumentationpackages in order to get BigQuery Tracing data.\n"
     ]
    },
    {
     "name": "stdout",
     "output_type": "stream",
     "text": [
      "Query results loaded to the table meli-marketing.TEMP45.lnapsxtruv\n"
     ]
    },
    {
     "name": "stderr",
     "output_type": "stream",
     "text": [
      "2022-03-22 09:11:07 End process for variable : PUSH_VARS\n"
     ]
    },
    {
     "name": "stdout",
     "output_type": "stream",
     "text": [
      "Exporto meli-marketing:TEMP45.lnapsxtruv a gs://marketing-modelling/ML/NB/MLB/train/dataset/PUSH_VARS/*.parquet\n",
      "Deleted table 'meli-marketing.TEMP45.lnapsxtruv'.\n",
      "CPU times: user 411 ms, sys: 56.1 ms, total: 467 ms\n",
      "Wall time: 9min 40s\n"
     ]
    }
   ],
   "source": [
    "%%time\n",
    "#Push var\n",
    "Var2GCP(variable = 'PUSH_VARS' , \n",
    "        conf = conf, \n",
    "        query_ = 'PUSH_LAST_7_DAYS', \n",
    "        query_param = {'backbone':backbone_table,'site':site},\n",
    "        type_= 'train'\n",
    "       )"
   ]
  },
  {
   "cell_type": "code",
   "execution_count": 5,
   "id": "a504adaf",
   "metadata": {},
   "outputs": [
    {
     "name": "stderr",
     "output_type": "stream",
     "text": [
      "2022-03-22 09:40:48 Start creating variable : BEHAVIOUR_VARS for site MLB\n",
      "2022-03-22 09:40:48 Writing on : gs://marketing-modelling/ML/NB/MLB/train/dataset/BEHAVIOUR_VARS\n",
      "2022-03-22 09:40:48 Excecuting BEHAVIOUR_VARIABLES with params: {'backbone': 'meli-marketing.TEMP45.CY_NB_ML_BACKBONE', 'site': 'MLB'}\n"
     ]
    },
    {
     "name": "stdout",
     "output_type": "stream",
     "text": [
      "Query results loaded to the table meli-marketing.TEMP45.xkccfjrmbe\n"
     ]
    },
    {
     "name": "stderr",
     "output_type": "stream",
     "text": [
      "2022-03-22 09:58:39 End process for variable : BEHAVIOUR_VARS\n"
     ]
    },
    {
     "name": "stdout",
     "output_type": "stream",
     "text": [
      "Exporto meli-marketing:TEMP45.xkccfjrmbe a gs://marketing-modelling/ML/NB/MLB/train/dataset/BEHAVIOUR_VARS/*.parquet\n",
      "Deleted table 'meli-marketing.TEMP45.xkccfjrmbe'.\n",
      "CPU times: user 248 ms, sys: 23.2 ms, total: 271 ms\n",
      "Wall time: 17min 51s\n"
     ]
    }
   ],
   "source": [
    "%%time\n",
    "#VARS FROM THE TOP VARIABLES (LAST MODEL)\n",
    "Var2GCP(variable = 'BEHAVIOUR_VARS' , \n",
    "            conf = conf, \n",
    "            query_ = 'BEHAVIOUR_VARIABLES', \n",
    "            query_param = {'backbone':backbone_table,'site':site},\n",
    "            type_= 'train',\n",
    "           )"
   ]
  },
  {
   "cell_type": "code",
   "execution_count": null,
   "id": "7a892295",
   "metadata": {},
   "outputs": [],
   "source": [
    "for i,x,z in zip(['PUSH_VARS','BEHAVIOUR_VARS'],['PUSH_LAST_7_DAYS','BEHAVIOUR_VARIABLES'],[{'backbone':backbone_table,'site':site},{'backbone':backbone_table,'site':site}]):\n",
    "    print(i,x,z)"
   ]
  },
  {
   "cell_type": "code",
   "execution_count": null,
   "id": "bffd3564",
   "metadata": {},
   "outputs": [],
   "source": [
    "varname = ['PUSH_VARS','BEHAVIOUR_VARS']\n",
    "queries = ['PUSH_LAST_7_DAYS','BEHAVIOUR_VARIABLES']\n",
    "parameters = [{'backbone':backbone_table,'site':site},\n",
    "              {'backbone':backbone_table,'site':site}]\n",
    "\n",
    "for v,q,qp in zip(varname,queries,parameters):\n",
    "    Var2GCP(variable = v ,\n",
    "            conf = conf, \n",
    "            query_ = q, \n",
    "            query_param = qp,\n",
    "            type_= 'train')"
   ]
  },
  {
   "cell_type": "code",
   "execution_count": null,
   "id": "f6f26cc7",
   "metadata": {},
   "outputs": [],
   "source": [
    "#GAIA:\n",
    "#JOBS: HYPER - V_BT_PUSH_COUPON_CAMPAIGN_EVENT (genera el extracto para el dash)\n",
    "#      PUSH - BT_PUSH_ML_BATCH_COUPON_CAMPAIGN_EVENT\n",
    "\n",
    "# meli-marketing.MKTPUBLIC.V_BT_PUSH_NOTIFICATION_EVENT\n",
    "# \"BATCH_ID\": \"MLB_MP_PUSHMP_AO_P_ALL_RECU_SELL_TRANSFERENCIA-DEVICE_DEFAULT\",\n",
    "# \"CAMPAIGN_ID\": \"MLB_MP_PUSHMP_AO_P_ALL_RECU_SELL_TRANSFERENCIA-DEVICE\",\n",
    "# \"CAMPAIGN_TYPE\": \"recurrente_mp\",\n",
    "# \"SENT_DATE\": \"2021-02-11\",\n",
    "# \"APP\": \"mercadopago\",\n",
    "# \"SIT_SITE_ID\": \"MLB\",\n",
    "# \"TIM_DAY\": \"2021-02-11\",\n",
    "# \"CUS_CUST_ID\": \"186910412\",\n",
    "# \"EVENT_TYPE\": \"arrived\",\n",
    "# \"DEVICE_PLATFORM\": \"/mobile/ios\",\n",
    "# \"ADVERTISER_ID\": \"EC3F9C41-01FE-4E58-8A70-B28FE7C658F4\"\n",
    "\n",
    "#EVENT_TYPE: {holdre,holdad,sent,shown,open,control,blacklist,discarded,arrived}\n",
    "#SENT_DATE: {min:2022-01-05, max:2022-02-22}\n",
    "\n",
    "#Measures (tableau).\n",
    "#Exposure: SHOW/SENT\n",
    "#Open Rate: OPEN/SHOWN (check con Pedro, valores no cuadran con el dash)"
   ]
  },
  {
   "cell_type": "code",
   "execution_count": null,
   "id": "60dec9c0",
   "metadata": {},
   "outputs": [],
   "source": [
    "%%time\n",
    "send_push_groups = bq.execute_response(\"\"\"\n",
    "SELECT push.EVENT_TYPE,push.SENT_DATE, count(distinct push.CUS_CUST_ID)\n",
    "FROM meli-marketing.MKTPUBLIC.V_BT_PUSH_NOTIFICATION_EVENT push \n",
    "WHERE BATCH_ID LIKE 'MLB_ML_PUSHML_AO_ALL_X_ACT_ALL_NEWBUYERS%' \n",
    "    AND push.APP = 'mercadolibre' \n",
    "    AND push.sit_site_id = 'MLB' \n",
    "    AND push.SENT_DATE >= DATE '2022-01-01'\n",
    "GROUP BY 1,2\n",
    "\"\"\")"
   ]
  },
  {
   "cell_type": "code",
   "execution_count": null,
   "id": "65c8075f",
   "metadata": {},
   "outputs": [],
   "source": [
    "send_push_groups['SENT_DATE'] = pd.to_datetime(send_push_groups.SENT_DATE)\n",
    "\n",
    "send_push_groups_pivot = send_push_groups.pivot_table(index = 'SENT_DATE', values = 'f0_',columns = 'EVENT_TYPE').reset_index()\n",
    "send_push_groups_pivot['open_rate'] = send_push_groups_pivot.open/(send_push_groups_pivot.shown)\n",
    "send_push_groups_pivot['exposure'] = send_push_groups_pivot.shown/(send_push_groups_pivot.sent)"
   ]
  },
  {
   "cell_type": "code",
   "execution_count": null,
   "id": "d5e23060",
   "metadata": {},
   "outputs": [],
   "source": [
    "#SEND\n",
    "send_push_groups_pivot.plot.bar(x = 'SENT_DATE',y = 'sent', figsize = (16,5))\n",
    "plt.grid()"
   ]
  },
  {
   "cell_type": "code",
   "execution_count": null,
   "id": "b053e131",
   "metadata": {},
   "outputs": [],
   "source": [
    "send_push_groups_pivot['weekday'] = send_push_groups_pivot.SENT_DATE.dt.weekday"
   ]
  },
  {
   "cell_type": "code",
   "execution_count": null,
   "id": "b490fb34",
   "metadata": {},
   "outputs": [],
   "source": [
    "#HAy variaciones en la cantidad de push enviadas por dia de la semana?\n",
    "send_push_groups_pivot.boxplot(column = 'sent',by = 'weekday')\n",
    "#0: Lunes\n",
    "#6: domingo"
   ]
  },
  {
   "cell_type": "code",
   "execution_count": null,
   "id": "e23f4eed",
   "metadata": {},
   "outputs": [],
   "source": [
    "#OPEN RATE\n",
    "send_push_groups_pivot.plot.bar(x = 'SENT_DATE',y = 'open_rate', figsize = (16,5))\n",
    "plt.grid()\n",
    "#Parece uniforme el open rate "
   ]
  },
  {
   "cell_type": "code",
   "execution_count": null,
   "id": "cdd42ed2",
   "metadata": {},
   "outputs": [],
   "source": [
    "#Se diferencia el open rate por dia de la semana?\n",
    "send_push_groups_pivot.boxplot(column = 'open_rate',by = 'weekday')"
   ]
  },
  {
   "cell_type": "code",
   "execution_count": null,
   "id": "eac364ce",
   "metadata": {},
   "outputs": [],
   "source": [
    "send_push_groups_pivot.groupby('weekday').sent.sum().sum()"
   ]
  },
  {
   "cell_type": "code",
   "execution_count": null,
   "id": "5feec699",
   "metadata": {},
   "outputs": [],
   "source": [
    "#Cantidades nominales\n",
    "(send_push_groups_pivot.groupby('weekday').sent.sum()*100)/send_push_groups_pivot.groupby('weekday').sent.sum().sum()"
   ]
  },
  {
   "cell_type": "code",
   "execution_count": null,
   "id": "00544fc6",
   "metadata": {},
   "outputs": [],
   "source": [
    "# CONVERSION\n",
    "site = 'MLB'\n",
    "date_intial = '2022-01-01'\n",
    "date_end = '2022-01-07'\n",
    "conversion_query = \\\n",
    "f\"\"\"\n",
    "    WITH push as ( \n",
    "        SELECT push.CUS_CUST_ID,push.sit_site_id, push.SENT_DATE, push.EVENT_TYPE \n",
    "        FROM meli-marketing.MKTPUBLIC.V_BT_PUSH_NOTIFICATION_EVENT push \n",
    "        WHERE BATCH_ID LIKE 'MLB_ML_PUSHML_AO_ALL_X_ACT_ALL_NEWBUYERS%' \n",
    "        AND push.EVENT_TYPE in ('sent','control') \n",
    "        AND push.APP = 'mercadolibre'\n",
    "        AND push.sit_site_id = '{site}' \n",
    "        AND push.SENT_DATE BETWEEN DATE '{date_intial}' AND DATE '{date_end}' \n",
    "         ),\n",
    "    orders as (\n",
    "    SELECT push.CUS_CUST_ID, \n",
    "    push.SENT_DATE, \n",
    "    push.EVENT_TYPE,\n",
    "    orders.ORD_CREATED_DT,\n",
    "    ROW_NUMBER() OVER (PARTITION BY push.CUS_CUST_ID ORDER BY orders.ORD_CREATED_DT) AS ORDERING_PURCHASE\n",
    "    FROM push LEFT JOIN meli-bi-data.WHOWNER.BT_ORD_ORDERS orders\n",
    "    ON push.CUS_CUST_ID = orders.ORD_BUYER.ID \n",
    "        AND push.sit_site_id = orders.SIT_SITE_ID \n",
    "        AND ORD_CLOSED_DT is not null\n",
    "        AND orders.ord_status = 'paid' \n",
    "        AND orders.ORD_CLOSED_DT BETWEEN push.SENT_DATE AND DATE_ADD(push.SENT_DATE, INTERVAL 4 DAY) \n",
    "        AND orders.ORD_CREATED_DT = push.SENT_DATE\n",
    "    )\n",
    "    \n",
    "    SELECT * EXCEPT(ORDERING_PURCHASE), CASE WHEN ORD_CREATED_DT is null THEN 0 ELSE 1 END AS CONVERSION\n",
    "    FROM orders WHERE ORDERING_PURCHASE = 1\n",
    "\"\"\" \n",
    "conversion  = \" \".join(conversion_query.split()) \n",
    "conversion"
   ]
  },
  {
   "cell_type": "code",
   "execution_count": null,
   "id": "5f27698a",
   "metadata": {},
   "outputs": [],
   "source": [
    "%%time\n",
    "conversion_df = bq.execute_response(conversion)"
   ]
  },
  {
   "cell_type": "code",
   "execution_count": null,
   "id": "decf35ba",
   "metadata": {},
   "outputs": [],
   "source": [
    "conversion_df.head()"
   ]
  },
  {
   "cell_type": "code",
   "execution_count": null,
   "id": "c4c70af7",
   "metadata": {},
   "outputs": [],
   "source": [
    "np.round(conversion_df.groupby(['SENT_DATE','EVENT_TYPE']).CONVERSION.mean()*100,3)"
   ]
  },
  {
   "cell_type": "code",
   "execution_count": null,
   "id": "fd53e6ba",
   "metadata": {},
   "outputs": [],
   "source": [
    "# CONVERSION\n",
    "site = 'MLB'\n",
    "date_intial = '2022-01-01'\n",
    "date_end = '2022-01-07'\n",
    "conversion_query = \\\n",
    "f\"\"\"\n",
    "    WITH push as ( \n",
    "        SELECT push.CUS_CUST_ID,push.sit_site_id, push.SENT_DATE, push.EVENT_TYPE \n",
    "        FROM meli-marketing.MKTPUBLIC.V_BT_PUSH_NOTIFICATION_EVENT push \n",
    "        WHERE BATCH_ID LIKE 'MLB_ML_PUSHML_AO_ALL_X_ACT_ALL_NEWBUYERS%' \n",
    "        AND push.EVENT_TYPE in ('sent','control') \n",
    "        AND push.APP = 'mercadolibre'\n",
    "        AND push.sit_site_id = '{site}' \n",
    "        AND push.SENT_DATE BETWEEN DATE '{date_intial}' AND DATE '{date_end}' \n",
    "         ),\n",
    "    orders as (\n",
    "    SELECT push.CUS_CUST_ID, \n",
    "    push.SENT_DATE, \n",
    "    push.EVENT_TYPE,\n",
    "    orders.ORD_CREATED_DT,\n",
    "    ROW_NUMBER() OVER (PARTITION BY push.CUS_CUST_ID ORDER BY orders.ORD_CREATED_DT) AS ORDERING_PURCHASE\n",
    "    FROM push LEFT JOIN meli-bi-data.WHOWNER.BT_ORD_ORDERS orders\n",
    "    ON push.CUS_CUST_ID = orders.ORD_BUYER.ID \n",
    "        AND push.sit_site_id = orders.SIT_SITE_ID \n",
    "        AND ORD_CLOSED_DT is not null\n",
    "        AND orders.ord_status = 'paid' \n",
    "        AND orders.ORD_CLOSED_DT BETWEEN push.SENT_DATE AND DATE_ADD(push.SENT_DATE, INTERVAL 4 DAY) \n",
    "        AND orders.ORD_CREATED_DT = push.SENT_DATE\n",
    "    )\n",
    "    \n",
    "    SELECT * EXCEPT(ORDERING_PURCHASE), CASE WHEN ORD_CREATED_DT is null THEN 0 ELSE 1 END AS CONVERSION\n",
    "    FROM orders WHERE ORDERING_PURCHASE = 1\n",
    "\"\"\" \n",
    "conversion  = \" \".join(conversion_query.split()) \n",
    "conversion"
   ]
  },
  {
   "cell_type": "code",
   "execution_count": null,
   "id": "b22ba49c",
   "metadata": {},
   "outputs": [],
   "source": []
  },
  {
   "cell_type": "code",
   "execution_count": null,
   "id": "f8d12303",
   "metadata": {},
   "outputs": [],
   "source": [
    "WITH SENTS AS(\n",
    "    select b.cus_cust_id,b.sit_site_id,SENT_DATE,EVENT_TYPE\n",
    "    from meli-marketing.MKTPUBLIC.V_BT_PUSH_NOTIFICATION_EVENT b\n",
    "    where BATCH_ID like 'MLB_ML_PUSHML_AO_ALL_X_ACT_ALL_NEWBUYERS%'\n",
    "        and b.EVENT_TYPE in ('sent','control')\n",
    "        and APP = 'mercadolibre'\n",
    "        and sit_site_id = 'MLB'\n",
    "        AND b.SENT_DATE between DATE'2022-02-12' AND DATE'2022-02-14'\n",
    "    group by 1,2,3,4\n",
    "    )\n",
    "    select  s.cus_cust_id,EVENT_TYPE, sent_date,\n",
    "            buy_proba,\n",
    "        MAX(CASE WHEN ords.ORD_BUYER.ID is not null THEN 1 ELSE 0 END) as buy\n",
    "    from  SENTS s\n",
    "    left join meli-marketing.MODELLING.NB_PREDICT_PROBA nb\n",
    "        on nb.cus_cust_id = s.cus_cust_id\n",
    "        AND nb.process_date = s.sent_date\n",
    "        AND nb.sit_site_id = s.sit_site_id\n",
    "    left join meli-bi-data.WHOWNER.BT_ORD_ORDERS ords\n",
    "        on s.sit_site_id = ords.sit_site_id\n",
    "        and s.cus_cust_id = ords.ORD_BUYER.ID\n",
    "        AND ORD_STATUS = 'paid' and ORD_CLOSED_DT is not null\n",
    "        AND ORD_CLOSED_DT between sent_date AND sent_date+4\n",
    "        AND ORD_CREATED_DT = sent_date\n",
    "    group by 1,2,3,4"
   ]
  },
  {
   "cell_type": "code",
   "execution_count": null,
   "id": "64f40944",
   "metadata": {},
   "outputs": [],
   "source": [
    "#Pagos con descuento.\n",
    "WITH TOOLS as(\n",
    "SELECT  CAST(MKT_TOOL_ID as INT64) as CAMPAIGN_ID, sit_site_id\n",
    "           FROM `meli-marketing.PUSH.LK_PUSH_BUDGET_COUPON` cp\n",
    "           WHERE cp.sit_site_id in ('MLB')\n",
    "        GROUP BY 1,2\n",
    ")\n",
    "  SELECT  SUM(cpn.mkt_cpn_amount) as descuento_lc\n",
    "  FROM  `meli-bi-data.WHOWNER.BT_PAY_PAYMENTS` as pay\n",
    "  INNER JOIN `meli-bi-data.WHOWNER.BT_MKT_COUPON_V2` as cpn\n",
    "      on pay.pay_payment_id = cpn.pay_payment_id\n",
    "      and pay.cus_cust_id_buy = cpn.cus_cust_id_buy\n",
    "  INNER JOIN TOOLS t\n",
    "    ON t.CAMPAIGN_ID = mkt_cpn_campaign_id\n",
    "    AND pay.SIT_SITE_ID = t.SIT_SITE_ID\n",
    "  WHERE\n",
    "      pay.pay_status_code = 'approved'\n",
    "      AND pay.SIT_SITE_ID in ('MLB')\n",
    "      AND pay.pay_created_dt = date'2022-02-14'"
   ]
  },
  {
   "cell_type": "code",
   "execution_count": null,
   "id": "d32431b6",
   "metadata": {},
   "outputs": [],
   "source": [
    "#Tabla de push.\n",
    "#Comparar con converson."
   ]
  },
  {
   "cell_type": "code",
   "execution_count": null,
   "id": "d2c2199f",
   "metadata": {},
   "outputs": [],
   "source": [
    "new_buyer = pd.concat(new_buyer_list)\n",
    "new_buyer['CUS_RU_SINCE'] = pd.to_datetime(new_buyer.CUS_RU_SINCE)"
   ]
  },
  {
   "cell_type": "code",
   "execution_count": null,
   "id": "74a5795a",
   "metadata": {},
   "outputs": [],
   "source": [
    "# %%time\n",
    "# new_buyer = bq.execute_response(new_buyer_query)\n",
    "# new_buyer['CUS_RU_SINCE'] = pd.to_datetime(new_buyer.CUS_RU_SINCE)"
   ]
  },
  {
   "cell_type": "code",
   "execution_count": null,
   "id": "35ee8bd8",
   "metadata": {},
   "outputs": [],
   "source": [
    "new_buyer.info()"
   ]
  },
  {
   "cell_type": "code",
   "execution_count": null,
   "id": "6fb9831a",
   "metadata": {},
   "outputs": [],
   "source": [
    "new_buyer.groupby('CUS_RU_SINCE').CUS_CUST_ID.count().plot.line(figsize = (14,6))"
   ]
  }
 ],
 "metadata": {
  "kernelspec": {
   "display_name": "Python 3 (ipykernel)",
   "language": "python",
   "name": "python3"
  },
  "language_info": {
   "codemirror_mode": {
    "name": "ipython",
    "version": 3
   },
   "file_extension": ".py",
   "mimetype": "text/x-python",
   "name": "python",
   "nbconvert_exporter": "python",
   "pygments_lexer": "ipython3",
   "version": "3.7.4"
  }
 },
 "nbformat": 4,
 "nbformat_minor": 5
}
