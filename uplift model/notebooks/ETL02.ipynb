{
 "cells": [
  {
   "cell_type": "markdown",
   "id": "dc943796",
   "metadata": {},
   "source": [
    "**This notebook is for:**\n",
    "1. Preprocessing variables."
   ]
  },
  {
   "cell_type": "code",
   "execution_count": 1,
   "id": "004a97b2",
   "metadata": {},
   "outputs": [
    {
     "name": "stdout",
     "output_type": "stream",
     "text": [
      "adding utils to path \n"
     ]
    }
   ],
   "source": [
    "import sys, os \n",
    "prj_path = os.path.dirname(os.getcwd())\n",
    "utils_path = prj_path + '/utils'\n",
    "if  not utils_path in sys.path:\n",
    "    print('adding utils to path ')\n",
    "    sys.path.insert(1, utils_path)"
   ]
  },
  {
   "cell_type": "code",
   "execution_count": 2,
   "id": "1ca8ea62",
   "metadata": {},
   "outputs": [],
   "source": [
    "from utilities import *\n",
    "\n",
    "from google_cloud import BigQuery, Storage\n",
    "import pandas as pd\n",
    "import numpy as np\n",
    "import matplotlib.pyplot as plt\n",
    "\n",
    "from datetime import datetime\n",
    "\n",
    "import os\n",
    "import sys\n",
    "\n",
    "import boto3\n",
    "import base64\n",
    "\n",
    "#Cliente BigQuery\n",
    "AUTH_BIGQUERY = base64.b64decode(os.environ['SECRET_AUTH_BIGQUERY_MODEL'])\n",
    "bq = BigQuery(AUTH_BIGQUERY)\n",
    "storage =Storage(AUTH_BIGQUERY)\n",
    "\n",
    "#Load config.\n",
    "files = glob.glob(f\"{utils_path}/*.yml\") \n",
    "conf = load_conf(files)"
   ]
  },
  {
   "cell_type": "code",
   "execution_count": null,
   "id": "6157dc2b",
   "metadata": {},
   "outputs": [],
   "source": [
    "# !pip install pandas --upgrade"
   ]
  },
  {
   "cell_type": "code",
   "execution_count": 3,
   "id": "b83732d5",
   "metadata": {},
   "outputs": [],
   "source": [
    "site = conf['SITE']\n",
    "backbone_table = conf['BACKBONE_TABLE_NAME']\n",
    "time = ('2022-01-05', '2022-02-23')"
   ]
  },
  {
   "cell_type": "code",
   "execution_count": 4,
   "id": "b61bcb9e",
   "metadata": {},
   "outputs": [],
   "source": [
    "master_vars_path = conf['MASTERS_VARS_PATHS']\n",
    "mater_path_gcp = conf['MASTER_BUCKET_PATH']\n",
    "\n",
    "prj, bu, model = conf['PROYECT'],conf['BUSINESS_UNIT'],conf['MODEL']\n",
    "bucket_path = f'{prj}/{bu}/{model}/{site}/'\n",
    "\n",
    "#temporal_dir = random_name(10)"
   ]
  },
  {
   "cell_type": "markdown",
   "id": "8f161164",
   "metadata": {},
   "source": [
    "#### TARGET AND MODEL POPULATION"
   ]
  },
  {
   "cell_type": "code",
   "execution_count": 5,
   "id": "4a1f9b08",
   "metadata": {},
   "outputs": [
    {
     "name": "stderr",
     "output_type": "stream",
     "text": [
      "2022-03-22 09:51:54 This service is instrumented using OpenTelemetry.OpenTelemetry could not be imported; pleaseadd opentelemetry-api and opentelemetry-instrumentationpackages in order to get BigQuery Tracing data.\n",
      "/usr/local/lib/python3.7/site-packages/google/cloud/bigquery/client.py:445: UserWarning: Cannot create BigQuery Storage client, the dependency google-cloud-bigquery-storage is not installed.\n",
      "  \"Cannot create BigQuery Storage client, the dependency \"\n"
     ]
    }
   ],
   "source": [
    "#Model population.\n",
    "df = bq.execute_response(f'SELECt * FROM {backbone_table}_{site}')"
   ]
  },
  {
   "cell_type": "code",
   "execution_count": 6,
   "id": "f056af95",
   "metadata": {},
   "outputs": [
    {
     "data": {
      "text/html": [
       "<div>\n",
       "<style scoped>\n",
       "    .dataframe tbody tr th:only-of-type {\n",
       "        vertical-align: middle;\n",
       "    }\n",
       "\n",
       "    .dataframe tbody tr th {\n",
       "        vertical-align: top;\n",
       "    }\n",
       "\n",
       "    .dataframe thead th {\n",
       "        text-align: right;\n",
       "    }\n",
       "</style>\n",
       "<table border=\"1\" class=\"dataframe\">\n",
       "  <thead>\n",
       "    <tr style=\"text-align: right;\">\n",
       "      <th></th>\n",
       "      <th>CUS_CUST_ID</th>\n",
       "      <th>SENT_DATE</th>\n",
       "      <th>EVENT_TYPE</th>\n",
       "      <th>CONVERSION</th>\n",
       "    </tr>\n",
       "  </thead>\n",
       "  <tbody>\n",
       "    <tr>\n",
       "      <th>0</th>\n",
       "      <td>1045397197</td>\n",
       "      <td>2022-01-05</td>\n",
       "      <td>sent</td>\n",
       "      <td>0E-9</td>\n",
       "    </tr>\n",
       "    <tr>\n",
       "      <th>1</th>\n",
       "      <td>1051004037</td>\n",
       "      <td>2022-01-05</td>\n",
       "      <td>sent</td>\n",
       "      <td>0E-9</td>\n",
       "    </tr>\n",
       "    <tr>\n",
       "      <th>2</th>\n",
       "      <td>1025618491</td>\n",
       "      <td>2022-01-05</td>\n",
       "      <td>sent</td>\n",
       "      <td>0E-9</td>\n",
       "    </tr>\n",
       "  </tbody>\n",
       "</table>\n",
       "</div>"
      ],
      "text/plain": [
       "   CUS_CUST_ID   SENT_DATE EVENT_TYPE CONVERSION\n",
       "0   1045397197  2022-01-05       sent       0E-9\n",
       "1   1051004037  2022-01-05       sent       0E-9\n",
       "2   1025618491  2022-01-05       sent       0E-9"
      ]
     },
     "execution_count": 6,
     "metadata": {},
     "output_type": "execute_result"
    }
   ],
   "source": [
    "df.head(3)"
   ]
  },
  {
   "cell_type": "code",
   "execution_count": 7,
   "id": "7cae84f1",
   "metadata": {},
   "outputs": [
    {
     "name": "stdout",
     "output_type": "stream",
     "text": [
      "<class 'pandas.core.frame.DataFrame'>\n",
      "RangeIndex: 694536 entries, 0 to 694535\n",
      "Data columns (total 4 columns):\n",
      " #   Column       Non-Null Count   Dtype \n",
      "---  ------       --------------   ----- \n",
      " 0   CUS_CUST_ID  694536 non-null  int64 \n",
      " 1   SENT_DATE    694536 non-null  object\n",
      " 2   EVENT_TYPE   694536 non-null  object\n",
      " 3   CONVERSION   694536 non-null  object\n",
      "dtypes: int64(1), object(3)\n",
      "memory usage: 21.2+ MB\n"
     ]
    }
   ],
   "source": [
    "df.info()"
   ]
  },
  {
   "cell_type": "code",
   "execution_count": 8,
   "id": "ddbbac77",
   "metadata": {},
   "outputs": [],
   "source": [
    "df['SENT_DATE'] = pd.to_datetime(df.SENT_DATE)\n",
    "df['CONVERSION'] = df['CONVERSION'].astype(np.int64)"
   ]
  },
  {
   "cell_type": "code",
   "execution_count": 9,
   "id": "ea3a2e8c",
   "metadata": {},
   "outputs": [
    {
     "name": "stdout",
     "output_type": "stream",
     "text": [
      "<class 'pandas.core.frame.DataFrame'>\n",
      "RangeIndex: 694536 entries, 0 to 694535\n",
      "Data columns (total 4 columns):\n",
      " #   Column       Non-Null Count   Dtype         \n",
      "---  ------       --------------   -----         \n",
      " 0   CUS_CUST_ID  694536 non-null  int64         \n",
      " 1   SENT_DATE    694536 non-null  datetime64[ns]\n",
      " 2   EVENT_TYPE   694536 non-null  object        \n",
      " 3   CONVERSION   694536 non-null  int64         \n",
      "dtypes: datetime64[ns](1), int64(2), object(1)\n",
      "memory usage: 21.2+ MB\n"
     ]
    }
   ],
   "source": [
    "df.info()"
   ]
  },
  {
   "cell_type": "code",
   "execution_count": 10,
   "id": "72837efc",
   "metadata": {},
   "outputs": [
    {
     "data": {
      "text/html": [
       "<div>\n",
       "<style scoped>\n",
       "    .dataframe tbody tr th:only-of-type {\n",
       "        vertical-align: middle;\n",
       "    }\n",
       "\n",
       "    .dataframe tbody tr th {\n",
       "        vertical-align: top;\n",
       "    }\n",
       "\n",
       "    .dataframe thead th {\n",
       "        text-align: right;\n",
       "    }\n",
       "</style>\n",
       "<table border=\"1\" class=\"dataframe\">\n",
       "  <thead>\n",
       "    <tr style=\"text-align: right;\">\n",
       "      <th></th>\n",
       "      <th>CUS_CUST_ID</th>\n",
       "      <th>SENT_DATE</th>\n",
       "      <th>EVENT_TYPE</th>\n",
       "      <th>CONVERSION</th>\n",
       "    </tr>\n",
       "  </thead>\n",
       "  <tbody>\n",
       "    <tr>\n",
       "      <th>0</th>\n",
       "      <td>1045397197</td>\n",
       "      <td>2022-01-05</td>\n",
       "      <td>sent</td>\n",
       "      <td>0</td>\n",
       "    </tr>\n",
       "    <tr>\n",
       "      <th>1</th>\n",
       "      <td>1051004037</td>\n",
       "      <td>2022-01-05</td>\n",
       "      <td>sent</td>\n",
       "      <td>0</td>\n",
       "    </tr>\n",
       "    <tr>\n",
       "      <th>2</th>\n",
       "      <td>1025618491</td>\n",
       "      <td>2022-01-05</td>\n",
       "      <td>sent</td>\n",
       "      <td>0</td>\n",
       "    </tr>\n",
       "  </tbody>\n",
       "</table>\n",
       "</div>"
      ],
      "text/plain": [
       "   CUS_CUST_ID  SENT_DATE EVENT_TYPE  CONVERSION\n",
       "0   1045397197 2022-01-05       sent           0\n",
       "1   1051004037 2022-01-05       sent           0\n",
       "2   1025618491 2022-01-05       sent           0"
      ]
     },
     "execution_count": 10,
     "metadata": {},
     "output_type": "execute_result"
    }
   ],
   "source": [
    "df.head(3)"
   ]
  },
  {
   "cell_type": "code",
   "execution_count": 11,
   "id": "5922ef79",
   "metadata": {},
   "outputs": [
    {
     "data": {
      "text/plain": [
       "SENT_DATE\n",
       "2022-01-05    20892\n",
       "2022-01-06     9986\n",
       "2022-01-07     6264\n",
       "2022-01-08    10336\n",
       "2022-01-09     8931\n",
       "Name: CUS_CUST_ID, dtype: int64"
      ]
     },
     "execution_count": 11,
     "metadata": {},
     "output_type": "execute_result"
    }
   ],
   "source": [
    "df.groupby('SENT_DATE').CUS_CUST_ID.count().head()"
   ]
  },
  {
   "cell_type": "code",
   "execution_count": 14,
   "id": "bd98eff9",
   "metadata": {},
   "outputs": [
    {
     "data": {
      "text/plain": [
       "<matplotlib.collections.LineCollection at 0x7fd4603f3390>"
      ]
     },
     "execution_count": 14,
     "metadata": {},
     "output_type": "execute_result"
    },
    {
     "data": {
      "image/png": "[encoded data removed]",
      "text/plain": [
       "<Figure size 1152x288 with 1 Axes>"
      ]
     },
     "metadata": {
      "needs_background": "light"
     },
     "output_type": "display_data"
    }
   ],
   "source": [
    "df.groupby('SENT_DATE').CUS_CUST_ID.nunique().plot.bar(figsize=(16,4))\n",
    "plt.title('Total user in test and control time series')\n",
    "plt.grid()\n",
    "#Remover el 2022-02-16\n",
    "a = df.groupby('SENT_DATE').CUS_CUST_ID.nunique().mean()\n",
    "plt.hlines(y = a, xmin =0,xmax =60,colors = 'k')"
   ]
  },
  {
   "cell_type": "code",
   "execution_count": 15,
   "id": "4251a598",
   "metadata": {},
   "outputs": [
    {
     "name": "stdout",
     "output_type": "stream",
     "text": [
      "Average push per day 12628.0\n"
     ]
    }
   ],
   "source": [
    "print(f'Average push per day {np.round(a,0)}')"
   ]
  },
  {
   "cell_type": "code",
   "execution_count": 18,
   "id": "03759527",
   "metadata": {},
   "outputs": [
    {
     "data": {
      "text/plain": [
       "SENT_DATE\n",
       "2022-01-05    3.446295\n",
       "2022-01-06    3.835370\n",
       "2022-01-07    3.288633\n",
       "2022-01-08    2.650929\n",
       "2022-01-09    2.900011\n",
       "2022-01-10    3.382512\n",
       "2022-01-11    3.696343\n",
       "2022-01-12    2.608866\n",
       "2022-01-13    4.031710\n",
       "2022-01-14    3.400345\n",
       "Name: CONVERSION, dtype: float64"
      ]
     },
     "execution_count": 18,
     "metadata": {},
     "output_type": "execute_result"
    }
   ],
   "source": [
    "df.groupby('SENT_DATE').CONVERSION.mean().head(10)*100"
   ]
  },
  {
   "cell_type": "code",
   "execution_count": 19,
   "id": "5adf2c79",
   "metadata": {},
   "outputs": [
    {
     "data": {
      "text/plain": [
       "(0.0, 6.0)"
      ]
     },
     "execution_count": 19,
     "metadata": {},
     "output_type": "execute_result"
    },
    {
     "data": {
      "image/png": "[encoded data removed]",
      "text/plain": [
       "<Figure size 1152x288 with 1 Axes>"
      ]
     },
     "metadata": {
      "needs_background": "light"
     },
     "output_type": "display_data"
    }
   ],
   "source": [
    "(df.groupby('SENT_DATE').CONVERSION.mean()*100).plot.bar(figsize=(16,4))\n",
    "plt.grid()\n",
    "plt.title('Conversion time series')\n",
    "plt.ylim((0,6))"
   ]
  },
  {
   "cell_type": "code",
   "execution_count": 20,
   "id": "56b77b27",
   "metadata": {},
   "outputs": [
    {
     "name": "stdout",
     "output_type": "stream",
     "text": [
      "Mean conversion rate: 2.058064664754599%\n"
     ]
    }
   ],
   "source": [
    "print(f'Mean conversion rate: {df.CONVERSION.mean()*100}%')"
   ]
  },
  {
   "cell_type": "code",
   "execution_count": 21,
   "id": "d44f95b0",
   "metadata": {},
   "outputs": [
    {
     "data": {
      "text/plain": [
       "SENT_DATE   EVENT_TYPE\n",
       "2022-01-05  control       0.029812\n",
       "            sent          0.034932\n",
       "2022-01-06  control       0.045455\n",
       "            sent          0.037630\n",
       "2022-01-07  control       0.019070\n",
       "Name: CONVERSION, dtype: float64"
      ]
     },
     "execution_count": 21,
     "metadata": {},
     "output_type": "execute_result"
    }
   ],
   "source": [
    "df.groupby(['SENT_DATE','EVENT_TYPE']).CONVERSION.mean().head()"
   ]
  },
  {
   "cell_type": "code",
   "execution_count": 22,
   "id": "f415b156",
   "metadata": {},
   "outputs": [
    {
     "data": {
      "text/plain": [
       "SENT_DATE   EVENT_TYPE\n",
       "2022-01-05  control        1912\n",
       "            sent          18980\n",
       "2022-01-06  control         924\n",
       "            sent           9062\n",
       "2022-01-07  control         839\n",
       "Name: CUS_CUST_ID, dtype: int64"
      ]
     },
     "execution_count": 22,
     "metadata": {},
     "output_type": "execute_result"
    }
   ],
   "source": [
    "df.groupby(['SENT_DATE','EVENT_TYPE']).CUS_CUST_ID.count().head()"
   ]
  },
  {
   "cell_type": "code",
   "execution_count": 23,
   "id": "b27a7e59",
   "metadata": {},
   "outputs": [],
   "source": [
    "d = df.groupby(['SENT_DATE','EVENT_TYPE']).CUS_CUST_ID.count().reset_index()"
   ]
  },
  {
   "cell_type": "code",
   "execution_count": 24,
   "id": "935854f0",
   "metadata": {},
   "outputs": [
    {
     "data": {
      "image/png": "[encoded data removed]",
      "text/plain": [
       "<Figure size 1152x288 with 1 Axes>"
      ]
     },
     "metadata": {
      "needs_background": "light"
     },
     "output_type": "display_data"
    }
   ],
   "source": [
    "d.loc[d.EVENT_TYPE=='sent'].plot.bar(x = 'SENT_DATE', y = 'CUS_CUST_ID',figsize=(16,4))\n",
    "plt.grid()"
   ]
  },
  {
   "cell_type": "code",
   "execution_count": 25,
   "id": "af976462",
   "metadata": {},
   "outputs": [
    {
     "data": {
      "image/png": "[encoded data removed]",
      "text/plain": [
       "<Figure size 1152x288 with 1 Axes>"
      ]
     },
     "metadata": {
      "needs_background": "light"
     },
     "output_type": "display_data"
    }
   ],
   "source": [
    "d.loc[d.EVENT_TYPE=='control'].plot.bar(x = 'SENT_DATE', y = 'CUS_CUST_ID',figsize=(16,4))\n",
    "plt.grid()"
   ]
  },
  {
   "cell_type": "code",
   "execution_count": 26,
   "id": "eefc9da9",
   "metadata": {},
   "outputs": [
    {
     "name": "stdout",
     "output_type": "stream",
     "text": [
      "Average percentage of control (pushed users) per sent: 11.23%\n"
     ]
    }
   ],
   "source": [
    "prc = d.loc[d.EVENT_TYPE=='control'].CUS_CUST_ID.sum()*100/d.loc[d.EVENT_TYPE=='sent'].CUS_CUST_ID.sum()\n",
    "print(f'Average percentage of control (pushed users) per sent: {np.round(prc,2)}%')"
   ]
  },
  {
   "cell_type": "markdown",
   "id": "468808a7",
   "metadata": {},
   "source": [
    "#### PUSH VARS.\n",
    "- Amount of push notifiations in the last 7 days\n",
    "- Recency from the last push"
   ]
  },
  {
   "cell_type": "code",
   "execution_count": 28,
   "id": "f5531164",
   "metadata": {},
   "outputs": [
    {
     "name": "stderr",
     "output_type": "stream",
     "text": [
      "2022-03-22 09:53:57 Temporal subdir created: AYcBHxOFfd/PUSHVAR.\n"
     ]
    }
   ],
   "source": [
    "#PUSH VARS\n",
    "temporal_dir = random_name(n=10)\n",
    "temporal_subdir = f\"{temporal_dir}/{conf['PREFIX_MASTERS']['PUSH_VARS']}\"\n",
    "os.makedirs(f\"{temporal_subdir}\",exist_ok=True)\n",
    "logger.info(f\"Temporal subdir created: {temporal_subdir}.\")"
   ]
  },
  {
   "cell_type": "code",
   "execution_count": 29,
   "id": "fe220f41",
   "metadata": {},
   "outputs": [
    {
     "name": "stderr",
     "output_type": "stream",
     "text": [
      "2022-03-22 09:54:01 Looking in: bucket_path: gs://marketing-modelling/ML/NB/MLB/ and subdir /dataset/PUSH_VARS\n"
     ]
    }
   ],
   "source": [
    "download_(temporal_dir = temporal_subdir,\n",
    "          bucket_path = bucket_path,\n",
    "          bucket_var = master_vars_path['PUSH_VARS'],\n",
    "          is_prod = False)"
   ]
  },
  {
   "cell_type": "code",
   "execution_count": 52,
   "id": "f2c72e23",
   "metadata": {},
   "outputs": [],
   "source": [
    "push_df = pd.read_parquet(f'{temporal_subdir}/000000000000.parquet')"
   ]
  },
  {
   "cell_type": "code",
   "execution_count": 53,
   "id": "5e19209e",
   "metadata": {},
   "outputs": [
    {
     "data": {
      "text/html": [
       "<div>\n",
       "<style scoped>\n",
       "    .dataframe tbody tr th:only-of-type {\n",
       "        vertical-align: middle;\n",
       "    }\n",
       "\n",
       "    .dataframe tbody tr th {\n",
       "        vertical-align: top;\n",
       "    }\n",
       "\n",
       "    .dataframe thead th {\n",
       "        text-align: right;\n",
       "    }\n",
       "</style>\n",
       "<table border=\"1\" class=\"dataframe\">\n",
       "  <thead>\n",
       "    <tr style=\"text-align: right;\">\n",
       "      <th></th>\n",
       "      <th>CUS_CUST_ID</th>\n",
       "      <th>SENT_DATE</th>\n",
       "      <th>R_PUSH_LAST_15D_VS_REST_OF_MONTH</th>\n",
       "      <th>TOTAL_PUSH_LAST_7D</th>\n",
       "      <th>RECENCY</th>\n",
       "    </tr>\n",
       "  </thead>\n",
       "  <tbody>\n",
       "    <tr>\n",
       "      <th>0</th>\n",
       "      <td>1036888090</td>\n",
       "      <td>2022-01-05</td>\n",
       "      <td>0.142857</td>\n",
       "      <td>0</td>\n",
       "      <td>NaN</td>\n",
       "    </tr>\n",
       "    <tr>\n",
       "      <th>1</th>\n",
       "      <td>1045840749</td>\n",
       "      <td>2022-01-05</td>\n",
       "      <td>NaN</td>\n",
       "      <td>0</td>\n",
       "      <td>NaN</td>\n",
       "    </tr>\n",
       "    <tr>\n",
       "      <th>2</th>\n",
       "      <td>1051024606</td>\n",
       "      <td>2022-01-05</td>\n",
       "      <td>NaN</td>\n",
       "      <td>0</td>\n",
       "      <td>NaN</td>\n",
       "    </tr>\n",
       "  </tbody>\n",
       "</table>\n",
       "</div>"
      ],
      "text/plain": [
       "   CUS_CUST_ID   SENT_DATE  R_PUSH_LAST_15D_VS_REST_OF_MONTH  \\\n",
       "0   1036888090  2022-01-05                          0.142857   \n",
       "1   1045840749  2022-01-05                               NaN   \n",
       "2   1051024606  2022-01-05                               NaN   \n",
       "\n",
       "   TOTAL_PUSH_LAST_7D  RECENCY  \n",
       "0                   0      NaN  \n",
       "1                   0      NaN  \n",
       "2                   0      NaN  "
      ]
     },
     "execution_count": 53,
     "metadata": {},
     "output_type": "execute_result"
    }
   ],
   "source": [
    "push_df.head(3)"
   ]
  },
  {
   "cell_type": "code",
   "execution_count": 54,
   "id": "ba227fef",
   "metadata": {},
   "outputs": [],
   "source": [
    "def proc_pushvars(df:pd.DataFrame)->pd.DataFrame:\n",
    "    \"\"\"Pre-processing procedure for push notification variables.\n",
    "    df: DataFrame with the variables.\n",
    "    \"\"\"\n",
    "    logger.info(f\"--------- START PROCESSING PROCEDURE ON PUSHVAR ---------\")\n",
    "    logger.info(f\"INPUT DATAFRAME {df.shape} unique users {df.CUS_CUST_ID.nunique()}\")\n",
    "    \n",
    "    df['SENT_DATE'] = pd.to_datetime(df.SENT_DATE)\n",
    "    \n",
    "    recency_na = np.round(df['RECENCY'].isna().mean(),3)*100\n",
    "    logger.info(f\"FILL RECENCY NA VALUES ({recency_na} %) WITH MAX(RECENCY)+1\")\n",
    "    df['RECENCY'] = df['RECENCY'].fillna(np.max(df.RECENCY)+1).astype(np.int64)\n",
    "    \n",
    "    r_push_na = np.round(df['R_PUSH_LAST_15D_VS_REST_OF_MONTH'].isna().mean(),3)*100\n",
    "    logger.info(f\"FILL R_PUSH_LAST_15D_VS_REST_OF_MONTH NA ({r_push_na}) VALUES WITH -1\")\n",
    "    df['R_PUSH_LAST_15D_VS_REST_OF_MONTH'] = df['R_PUSH_LAST_15D_VS_REST_OF_MONTH']\\\n",
    "    .fillna(-1).astype(np.int64)\n",
    "    \n",
    "    logger.info(f\"ADDING VAR R_PUSH_RANK & TOTAL_PUSH_LAST_7D_RANK\")\n",
    "    df['R_PUSH_RANK'] = df['R_PUSH_LAST_15D_VS_REST_OF_MONTH'].rank(na_option='bottom',pct=True)\n",
    "    df['TOTAL_PUSH_LAST_7D_RANK'] = df['TOTAL_PUSH_LAST_7D'].rank(na_option='bottom',pct=True)\n",
    "    \n",
    "    df = prefix_source_info(df = df,\n",
    "                            prefix = conf['PREFIX_MASTERS']['PUSH_VARS'],\n",
    "                            exceptions= ['Y','W','SENT_DATE','CUS_CUST_ID'])\n",
    "    \n",
    "    logger.info(f\"OUTPUT DATAFRAME {df.shape} unique users {df.CUS_CUST_ID.nunique()}\")\n",
    "    logger.info(f\"--------- END PROCESSING PROCEDURE ON PUSHVAR ---------\")\n",
    "    return df"
   ]
  },
  {
   "cell_type": "code",
   "execution_count": 55,
   "id": "7c4bdc37",
   "metadata": {},
   "outputs": [
    {
     "name": "stderr",
     "output_type": "stream",
     "text": [
      "2022-03-22 10:08:34 --------- START PROCESSING PROCEDURE ON PUSHVAR ---------\n",
      "2022-03-22 10:08:34 INPUT DATAFRAME (694536, 5) unique users 694536\n",
      "2022-03-22 10:08:34 FILL RECENCY NA VALUES (18.6 %) WITH MAX(RECENCY)+1\n",
      "2022-03-22 10:08:34 FILL R_PUSH_LAST_15D_VS_REST_OF_MONTH NA (64.8) VALUES WITH -1\n",
      "2022-03-22 10:08:34 ADDING VAR R_PUSH_RANK & TOTAL_PUSH_LAST_7D_RANK\n",
      "2022-03-22 10:08:34 Adding prefix PUSHVAR_ to DataFrame\n",
      "2022-03-22 10:08:34 OUTPUT DATAFRAME (694536, 7) unique users 694536\n",
      "2022-03-22 10:08:34 --------- END PROCESSING PROCEDURE ON PUSHVAR ---------\n"
     ]
    }
   ],
   "source": [
    "push_df = proc_pushvars(push_df)"
   ]
  },
  {
   "cell_type": "code",
   "execution_count": 56,
   "id": "afaf3b58",
   "metadata": {},
   "outputs": [
    {
     "name": "stdout",
     "output_type": "stream",
     "text": [
      "<class 'pandas.core.frame.DataFrame'>\n",
      "RangeIndex: 694536 entries, 0 to 694535\n",
      "Data columns (total 7 columns):\n",
      " #   Column                                    Non-Null Count   Dtype         \n",
      "---  ------                                    --------------   -----         \n",
      " 0   CUS_CUST_ID                               694536 non-null  int64         \n",
      " 1   SENT_DATE                                 694536 non-null  datetime64[ns]\n",
      " 2   PUSHVAR_R_PUSH_LAST_15D_VS_REST_OF_MONTH  694536 non-null  int64         \n",
      " 3   PUSHVAR_TOTAL_PUSH_LAST_7D                694536 non-null  int64         \n",
      " 4   PUSHVAR_RECENCY                           694536 non-null  int64         \n",
      " 5   PUSHVAR_R_PUSH_RANK                       694536 non-null  float64       \n",
      " 6   PUSHVAR_TOTAL_PUSH_LAST_7D_RANK           694536 non-null  float64       \n",
      "dtypes: datetime64[ns](1), float64(2), int64(4)\n",
      "memory usage: 37.1 MB\n"
     ]
    }
   ],
   "source": [
    "push_df.info()"
   ]
  },
  {
   "cell_type": "code",
   "execution_count": 50,
   "id": "89debba0",
   "metadata": {},
   "outputs": [
    {
     "data": {
      "text/plain": [
       "0         0.715074\n",
       "1         0.324189\n",
       "2         0.324189\n",
       "3         0.324189\n",
       "4         0.324189\n",
       "            ...   \n",
       "694531    0.991441\n",
       "694532    0.953802\n",
       "694533    0.839603\n",
       "694534    0.953802\n",
       "694535    0.971675\n",
       "Name: PUSHVAR_R_PUSH_RANK, Length: 694536, dtype: float64"
      ]
     },
     "execution_count": 50,
     "metadata": {},
     "output_type": "execute_result"
    }
   ],
   "source": [
    "push_df.PUSHVAR_R_PUSH_RANK"
   ]
  },
  {
   "cell_type": "code",
   "execution_count": null,
   "id": "de7dca32",
   "metadata": {},
   "outputs": [],
   "source": [
    "push_df['SENT_DATE'] = pd.to_datetime(push_df.SENT_DATE)\n",
    "push_df['RECENCY'] = push_df['RECENCY'].fillna(np.max(push_df.RECENCY)+1).astype(np.int64)"
   ]
  },
  {
   "cell_type": "code",
   "execution_count": null,
   "id": "82b81b45",
   "metadata": {},
   "outputs": [],
   "source": [
    "push_df.info()"
   ]
  },
  {
   "cell_type": "code",
   "execution_count": 58,
   "id": "e76a98c1",
   "metadata": {},
   "outputs": [
    {
     "data": {
      "text/plain": [
       "0    0.186392\n",
       "1    0.245623\n",
       "2    0.240314\n",
       "3    0.133842\n",
       "4    0.068777\n",
       "5    0.054500\n",
       "6    0.045609\n",
       "7    0.024943\n",
       "Name: PUSHVAR_TOTAL_PUSH_LAST_7D, dtype: float64"
      ]
     },
     "execution_count": 58,
     "metadata": {},
     "output_type": "execute_result"
    }
   ],
   "source": [
    "push_df['PUSHVAR_TOTAL_PUSH_LAST_7D'].value_counts(normalize=True).sort_index()"
   ]
  },
  {
   "cell_type": "code",
   "execution_count": 59,
   "id": "dfd6ccea",
   "metadata": {},
   "outputs": [
    {
     "data": {
      "image/png": "[encoded data removed]",
      "text/plain": [
       "<Figure size 1152x288 with 1 Axes>"
      ]
     },
     "metadata": {
      "needs_background": "light"
     },
     "output_type": "display_data"
    }
   ],
   "source": [
    "push_df['PUSHVAR_TOTAL_PUSH_LAST_7D'].value_counts(normalize=True).sort_index().plot.bar(figsize=(16,4))\n",
    "plt.grid()"
   ]
  },
  {
   "cell_type": "code",
   "execution_count": 61,
   "id": "35f12043",
   "metadata": {},
   "outputs": [
    {
     "data": {
      "text/plain": [
       "1    0.434578\n",
       "2    0.156617\n",
       "3    0.093677\n",
       "4    0.050000\n",
       "5    0.029852\n",
       "6    0.028073\n",
       "7    0.020811\n",
       "8    0.186392\n",
       "Name: PUSHVAR_RECENCY, dtype: float64"
      ]
     },
     "execution_count": 61,
     "metadata": {},
     "output_type": "execute_result"
    }
   ],
   "source": [
    "push_df['PUSHVAR_RECENCY'].value_counts(normalize=True).sort_index()"
   ]
  },
  {
   "cell_type": "code",
   "execution_count": 62,
   "id": "7fa8054b",
   "metadata": {},
   "outputs": [
    {
     "data": {
      "image/png": "[encoded data removed]",
      "text/plain": [
       "<Figure size 1152x288 with 1 Axes>"
      ]
     },
     "metadata": {
      "needs_background": "light"
     },
     "output_type": "display_data"
    }
   ],
   "source": [
    "push_df['PUSHVAR_RECENCY'].value_counts(normalize=True).sort_index().plot.bar(figsize=(16,4))\n",
    "plt.grid()\n",
    "#El valor de 8 es la imputacion. "
   ]
  },
  {
   "cell_type": "code",
   "execution_count": null,
   "id": "d505e207",
   "metadata": {},
   "outputs": [],
   "source": [
    "push_df.shape"
   ]
  },
  {
   "cell_type": "code",
   "execution_count": null,
   "id": "da925626",
   "metadata": {},
   "outputs": [],
   "source": [
    "push_df = prefix_source_info(df = push_df,\n",
    "                             prefix = conf['PREFIX_MASTERS']['PUSH_VARS'],\n",
    "                             exceptions= ['Y','W','SENT_DATE','CUS_CUST_ID'])"
   ]
  },
  {
   "cell_type": "code",
   "execution_count": null,
   "id": "695655fa",
   "metadata": {},
   "outputs": [],
   "source": [
    "# def proc_pushvars(df:pd.DataFrame)->pd.DataFrame:\n",
    "#     \"\"\"Pre-processing procedure for push notification variables.\n",
    "#     df: DataFrame with the variables.\n",
    "#     \"\"\"\n",
    "#     logger.info(f\"START PROCESSING PROCEDURE ON PUSHVAR\")\n",
    "#     logger.info(f\"INPUT DATAFRAME {df.shape} unique users {df.CUS_CUST_ID.nunique()}\")\n",
    "    \n",
    "#     df['SENT_DATE'] = pd.to_datetime(df.SENT_DATE)\n",
    "#     logger.info(f\"FILL RECENCY NA VALUES WITH MAX(RECENCY)+1\")\n",
    "#     df['RECENCY'] = df['RECENCY'].fillna(np.max(df.RECENCY)+1).astype(np.int64)\n",
    "    \n",
    "#     df = prefix_source_info(df = df,\n",
    "#                              prefix = conf['PREFIX_MASTERS']['PUSH_VARS'],\n",
    "#                              exceptions= ['Y','W','SENT_DATE','CUS_CUST_ID'])\n",
    "#     return df"
   ]
  },
  {
   "cell_type": "code",
   "execution_count": null,
   "id": "1ed4e94c",
   "metadata": {},
   "outputs": [],
   "source": [
    "push_df.head()"
   ]
  },
  {
   "cell_type": "markdown",
   "id": "26069d8a",
   "metadata": {},
   "source": [
    "#### BEHAVIOUR_VARS."
   ]
  },
  {
   "cell_type": "code",
   "execution_count": 63,
   "id": "2cd9aa9b",
   "metadata": {},
   "outputs": [
    {
     "name": "stderr",
     "output_type": "stream",
     "text": [
      "2022-03-22 10:35:25 Temporal subdir created: AYcBHxOFfd/BEHAVIOURVARS.\n"
     ]
    }
   ],
   "source": [
    "#BEHAVIOUR_VARS\n",
    "temporal_subdir = f\"{temporal_dir}/{conf['PREFIX_MASTERS']['BEHAVIOUR_VARS']}\"\n",
    "os.makedirs(f\"{temporal_subdir}\",exist_ok=True)\n",
    "logger.info(f\"Temporal subdir created: {temporal_subdir}.\")"
   ]
  },
  {
   "cell_type": "code",
   "execution_count": 64,
   "id": "85e3389e",
   "metadata": {},
   "outputs": [
    {
     "name": "stderr",
     "output_type": "stream",
     "text": [
      "2022-03-22 10:35:30 Looking in: bucket_path: gs://marketing-modelling/ML/NB/MLB/ and subdir /dataset/BEHAVIOUR_VARS\n"
     ]
    }
   ],
   "source": [
    "download_(temporal_dir = temporal_subdir,\n",
    "          bucket_path = bucket_path,\n",
    "          bucket_var = master_vars_path['BEHAVIOUR_VARS'],\n",
    "          is_prod = False)"
   ]
  },
  {
   "cell_type": "code",
   "execution_count": 73,
   "id": "7bce8173",
   "metadata": {},
   "outputs": [],
   "source": [
    "beha_df = pd.read_parquet(f'{temporal_dir}/BEHAVIOURVARS/000000000000.parquet')"
   ]
  },
  {
   "cell_type": "code",
   "execution_count": 74,
   "id": "c4e4fb69",
   "metadata": {},
   "outputs": [
    {
     "data": {
      "text/html": [
       "<div>\n",
       "<style scoped>\n",
       "    .dataframe tbody tr th:only-of-type {\n",
       "        vertical-align: middle;\n",
       "    }\n",
       "\n",
       "    .dataframe tbody tr th {\n",
       "        vertical-align: top;\n",
       "    }\n",
       "\n",
       "    .dataframe thead th {\n",
       "        text-align: right;\n",
       "    }\n",
       "</style>\n",
       "<table border=\"1\" class=\"dataframe\">\n",
       "  <thead>\n",
       "    <tr style=\"text-align: right;\">\n",
       "      <th></th>\n",
       "      <th>CUS_CUST_ID</th>\n",
       "      <th>LOG_DATE_COUNT_7D</th>\n",
       "      <th>RECENCY</th>\n",
       "      <th>CAT_CATEG_ID_COUNT_7D</th>\n",
       "      <th>BUY_INTENTION_ITEM_COUNT</th>\n",
       "      <th>CAT_CATEG_ID_COUNT_F7D</th>\n",
       "      <th>VIP_VIEW_APP_ANDROID_ITEM_COUNT</th>\n",
       "      <th>VIP_VIEW_APP_IOS_ITEM_COUNT</th>\n",
       "      <th>VIP_VIEW_DESKTOP_ITEM_COUNT</th>\n",
       "      <th>VIP_VIEW_WEB_MOBILE_ITEM_COUNT</th>\n",
       "      <th>...</th>\n",
       "      <th>CHECKOUT_CONGRATS_ITEM_COUNT</th>\n",
       "      <th>ADD_TO_CART_ITEM_COUNT</th>\n",
       "      <th>BOOKMARK_ITEM_COUNT</th>\n",
       "      <th>APP_ML</th>\n",
       "      <th>APP_MP</th>\n",
       "      <th>MAX_FROM_INSTALL_ML</th>\n",
       "      <th>MIN_FROM_INSTALL_ML</th>\n",
       "      <th>MAX_FROM_INSTALL_MP</th>\n",
       "      <th>MIN_FROM_INSTALL_MP</th>\n",
       "      <th>TOTAL_PAYMENTS_COUNT</th>\n",
       "    </tr>\n",
       "  </thead>\n",
       "  <tbody>\n",
       "    <tr>\n",
       "      <th>count</th>\n",
       "      <td>6.945360e+05</td>\n",
       "      <td>694536.000000</td>\n",
       "      <td>542325.000000</td>\n",
       "      <td>694536.000000</td>\n",
       "      <td>694536.000000</td>\n",
       "      <td>694536.000000</td>\n",
       "      <td>694536.000000</td>\n",
       "      <td>694536.000000</td>\n",
       "      <td>694536.000000</td>\n",
       "      <td>694536.000000</td>\n",
       "      <td>...</td>\n",
       "      <td>694536.000000</td>\n",
       "      <td>694536.000000</td>\n",
       "      <td>694536.000000</td>\n",
       "      <td>694536.000000</td>\n",
       "      <td>694536.000000</td>\n",
       "      <td>451414.000000</td>\n",
       "      <td>451414.000000</td>\n",
       "      <td>157295.000000</td>\n",
       "      <td>157295.000000</td>\n",
       "      <td>694536.000000</td>\n",
       "    </tr>\n",
       "    <tr>\n",
       "      <th>mean</th>\n",
       "      <td>1.022526e+09</td>\n",
       "      <td>1.585666</td>\n",
       "      <td>1.790024</td>\n",
       "      <td>6.896946</td>\n",
       "      <td>1.153287</td>\n",
       "      <td>2.290811</td>\n",
       "      <td>15.049118</td>\n",
       "      <td>0.722193</td>\n",
       "      <td>0.368041</td>\n",
       "      <td>0.098555</td>\n",
       "      <td>...</td>\n",
       "      <td>0.216350</td>\n",
       "      <td>0.084436</td>\n",
       "      <td>1.107195</td>\n",
       "      <td>0.649950</td>\n",
       "      <td>0.226475</td>\n",
       "      <td>28.722007</td>\n",
       "      <td>29.585700</td>\n",
       "      <td>28.507467</td>\n",
       "      <td>29.731295</td>\n",
       "      <td>0.329708</td>\n",
       "    </tr>\n",
       "    <tr>\n",
       "      <th>std</th>\n",
       "      <td>1.376240e+08</td>\n",
       "      <td>1.388921</td>\n",
       "      <td>1.267384</td>\n",
       "      <td>34.558315</td>\n",
       "      <td>11.905013</td>\n",
       "      <td>9.393030</td>\n",
       "      <td>91.506409</td>\n",
       "      <td>24.047597</td>\n",
       "      <td>12.009012</td>\n",
       "      <td>6.649259</td>\n",
       "      <td>...</td>\n",
       "      <td>2.221335</td>\n",
       "      <td>1.523868</td>\n",
       "      <td>18.488043</td>\n",
       "      <td>0.476986</td>\n",
       "      <td>0.418550</td>\n",
       "      <td>35.361741</td>\n",
       "      <td>36.186447</td>\n",
       "      <td>31.219454</td>\n",
       "      <td>32.343751</td>\n",
       "      <td>4.153295</td>\n",
       "    </tr>\n",
       "    <tr>\n",
       "      <th>min</th>\n",
       "      <td>-1.000000e+00</td>\n",
       "      <td>0.000000</td>\n",
       "      <td>1.000000</td>\n",
       "      <td>0.000000</td>\n",
       "      <td>0.000000</td>\n",
       "      <td>0.000000</td>\n",
       "      <td>0.000000</td>\n",
       "      <td>0.000000</td>\n",
       "      <td>0.000000</td>\n",
       "      <td>0.000000</td>\n",
       "      <td>...</td>\n",
       "      <td>0.000000</td>\n",
       "      <td>0.000000</td>\n",
       "      <td>0.000000</td>\n",
       "      <td>0.000000</td>\n",
       "      <td>0.000000</td>\n",
       "      <td>1.000000</td>\n",
       "      <td>1.000000</td>\n",
       "      <td>1.000000</td>\n",
       "      <td>1.000000</td>\n",
       "      <td>0.000000</td>\n",
       "    </tr>\n",
       "    <tr>\n",
       "      <th>25%</th>\n",
       "      <td>1.047327e+09</td>\n",
       "      <td>1.000000</td>\n",
       "      <td>1.000000</td>\n",
       "      <td>1.000000</td>\n",
       "      <td>0.000000</td>\n",
       "      <td>0.000000</td>\n",
       "      <td>0.000000</td>\n",
       "      <td>0.000000</td>\n",
       "      <td>0.000000</td>\n",
       "      <td>0.000000</td>\n",
       "      <td>...</td>\n",
       "      <td>0.000000</td>\n",
       "      <td>0.000000</td>\n",
       "      <td>0.000000</td>\n",
       "      <td>0.000000</td>\n",
       "      <td>0.000000</td>\n",
       "      <td>5.000000</td>\n",
       "      <td>5.000000</td>\n",
       "      <td>7.000000</td>\n",
       "      <td>7.000000</td>\n",
       "      <td>0.000000</td>\n",
       "    </tr>\n",
       "    <tr>\n",
       "      <th>50%</th>\n",
       "      <td>1.062878e+09</td>\n",
       "      <td>1.000000</td>\n",
       "      <td>1.000000</td>\n",
       "      <td>3.000000</td>\n",
       "      <td>0.000000</td>\n",
       "      <td>0.000000</td>\n",
       "      <td>4.000000</td>\n",
       "      <td>0.000000</td>\n",
       "      <td>0.000000</td>\n",
       "      <td>0.000000</td>\n",
       "      <td>...</td>\n",
       "      <td>0.000000</td>\n",
       "      <td>0.000000</td>\n",
       "      <td>0.000000</td>\n",
       "      <td>1.000000</td>\n",
       "      <td>0.000000</td>\n",
       "      <td>18.000000</td>\n",
       "      <td>18.000000</td>\n",
       "      <td>21.000000</td>\n",
       "      <td>23.000000</td>\n",
       "      <td>0.000000</td>\n",
       "    </tr>\n",
       "    <tr>\n",
       "      <th>75%</th>\n",
       "      <td>1.076315e+09</td>\n",
       "      <td>2.000000</td>\n",
       "      <td>2.000000</td>\n",
       "      <td>7.000000</td>\n",
       "      <td>1.000000</td>\n",
       "      <td>2.000000</td>\n",
       "      <td>13.000000</td>\n",
       "      <td>0.000000</td>\n",
       "      <td>0.000000</td>\n",
       "      <td>0.000000</td>\n",
       "      <td>...</td>\n",
       "      <td>0.000000</td>\n",
       "      <td>0.000000</td>\n",
       "      <td>0.000000</td>\n",
       "      <td>1.000000</td>\n",
       "      <td>0.000000</td>\n",
       "      <td>41.000000</td>\n",
       "      <td>42.000000</td>\n",
       "      <td>42.000000</td>\n",
       "      <td>43.000000</td>\n",
       "      <td>0.000000</td>\n",
       "    </tr>\n",
       "    <tr>\n",
       "      <th>max</th>\n",
       "      <td>1.089430e+09</td>\n",
       "      <td>7.000000</td>\n",
       "      <td>7.000000</td>\n",
       "      <td>14478.000000</td>\n",
       "      <td>7020.000000</td>\n",
       "      <td>4608.000000</td>\n",
       "      <td>43434.000000</td>\n",
       "      <td>13536.000000</td>\n",
       "      <td>5568.000000</td>\n",
       "      <td>4680.000000</td>\n",
       "      <td>...</td>\n",
       "      <td>762.000000</td>\n",
       "      <td>460.000000</td>\n",
       "      <td>5964.000000</td>\n",
       "      <td>1.000000</td>\n",
       "      <td>1.000000</td>\n",
       "      <td>360.000000</td>\n",
       "      <td>360.000000</td>\n",
       "      <td>360.000000</td>\n",
       "      <td>360.000000</td>\n",
       "      <td>2413.000000</td>\n",
       "    </tr>\n",
       "  </tbody>\n",
       "</table>\n",
       "<p>8 rows × 22 columns</p>\n",
       "</div>"
      ],
      "text/plain": [
       "        CUS_CUST_ID  LOG_DATE_COUNT_7D        RECENCY  CAT_CATEG_ID_COUNT_7D  \\\n",
       "count  6.945360e+05      694536.000000  542325.000000          694536.000000   \n",
       "mean   1.022526e+09           1.585666       1.790024               6.896946   \n",
       "std    1.376240e+08           1.388921       1.267384              34.558315   \n",
       "min   -1.000000e+00           0.000000       1.000000               0.000000   \n",
       "25%    1.047327e+09           1.000000       1.000000               1.000000   \n",
       "50%    1.062878e+09           1.000000       1.000000               3.000000   \n",
       "75%    1.076315e+09           2.000000       2.000000               7.000000   \n",
       "max    1.089430e+09           7.000000       7.000000           14478.000000   \n",
       "\n",
       "       BUY_INTENTION_ITEM_COUNT  CAT_CATEG_ID_COUNT_F7D  \\\n",
       "count             694536.000000           694536.000000   \n",
       "mean                   1.153287                2.290811   \n",
       "std                   11.905013                9.393030   \n",
       "min                    0.000000                0.000000   \n",
       "25%                    0.000000                0.000000   \n",
       "50%                    0.000000                0.000000   \n",
       "75%                    1.000000                2.000000   \n",
       "max                 7020.000000             4608.000000   \n",
       "\n",
       "       VIP_VIEW_APP_ANDROID_ITEM_COUNT  VIP_VIEW_APP_IOS_ITEM_COUNT  \\\n",
       "count                    694536.000000                694536.000000   \n",
       "mean                         15.049118                     0.722193   \n",
       "std                          91.506409                    24.047597   \n",
       "min                           0.000000                     0.000000   \n",
       "25%                           0.000000                     0.000000   \n",
       "50%                           4.000000                     0.000000   \n",
       "75%                          13.000000                     0.000000   \n",
       "max                       43434.000000                 13536.000000   \n",
       "\n",
       "       VIP_VIEW_DESKTOP_ITEM_COUNT  VIP_VIEW_WEB_MOBILE_ITEM_COUNT  ...  \\\n",
       "count                694536.000000                   694536.000000  ...   \n",
       "mean                      0.368041                        0.098555  ...   \n",
       "std                      12.009012                        6.649259  ...   \n",
       "min                       0.000000                        0.000000  ...   \n",
       "25%                       0.000000                        0.000000  ...   \n",
       "50%                       0.000000                        0.000000  ...   \n",
       "75%                       0.000000                        0.000000  ...   \n",
       "max                    5568.000000                     4680.000000  ...   \n",
       "\n",
       "       CHECKOUT_CONGRATS_ITEM_COUNT  ADD_TO_CART_ITEM_COUNT  \\\n",
       "count                 694536.000000           694536.000000   \n",
       "mean                       0.216350                0.084436   \n",
       "std                        2.221335                1.523868   \n",
       "min                        0.000000                0.000000   \n",
       "25%                        0.000000                0.000000   \n",
       "50%                        0.000000                0.000000   \n",
       "75%                        0.000000                0.000000   \n",
       "max                      762.000000              460.000000   \n",
       "\n",
       "       BOOKMARK_ITEM_COUNT         APP_ML         APP_MP  MAX_FROM_INSTALL_ML  \\\n",
       "count        694536.000000  694536.000000  694536.000000        451414.000000   \n",
       "mean              1.107195       0.649950       0.226475            28.722007   \n",
       "std              18.488043       0.476986       0.418550            35.361741   \n",
       "min               0.000000       0.000000       0.000000             1.000000   \n",
       "25%               0.000000       0.000000       0.000000             5.000000   \n",
       "50%               0.000000       1.000000       0.000000            18.000000   \n",
       "75%               0.000000       1.000000       0.000000            41.000000   \n",
       "max            5964.000000       1.000000       1.000000           360.000000   \n",
       "\n",
       "       MIN_FROM_INSTALL_ML  MAX_FROM_INSTALL_MP  MIN_FROM_INSTALL_MP  \\\n",
       "count        451414.000000        157295.000000        157295.000000   \n",
       "mean             29.585700            28.507467            29.731295   \n",
       "std              36.186447            31.219454            32.343751   \n",
       "min               1.000000             1.000000             1.000000   \n",
       "25%               5.000000             7.000000             7.000000   \n",
       "50%              18.000000            21.000000            23.000000   \n",
       "75%              42.000000            42.000000            43.000000   \n",
       "max             360.000000           360.000000           360.000000   \n",
       "\n",
       "       TOTAL_PAYMENTS_COUNT  \n",
       "count         694536.000000  \n",
       "mean               0.329708  \n",
       "std                4.153295  \n",
       "min                0.000000  \n",
       "25%                0.000000  \n",
       "50%                0.000000  \n",
       "75%                0.000000  \n",
       "max             2413.000000  \n",
       "\n",
       "[8 rows x 22 columns]"
      ]
     },
     "execution_count": 74,
     "metadata": {},
     "output_type": "execute_result"
    }
   ],
   "source": [
    "beha_df.describe()"
   ]
  },
  {
   "cell_type": "code",
   "execution_count": 75,
   "id": "ca9512fa",
   "metadata": {},
   "outputs": [],
   "source": [
    "series = beha_df.OS_NAME"
   ]
  },
  {
   "cell_type": "code",
   "execution_count": 76,
   "id": "2f3183b5",
   "metadata": {},
   "outputs": [],
   "source": [
    "x = np.round(series.isnull().mean(),2)"
   ]
  },
  {
   "cell_type": "code",
   "execution_count": 79,
   "id": "996de2ea",
   "metadata": {},
   "outputs": [
    {
     "name": "stderr",
     "output_type": "stream",
     "text": [
      "2022-03-22 13:35:06 % OF NaN in OS_NAME: 0.29 %\n"
     ]
    }
   ],
   "source": [
    "logger.info(f\"% OF NaN in {series.name}: {x} %\")"
   ]
  },
  {
   "cell_type": "code",
   "execution_count": 81,
   "id": "be6bdde5",
   "metadata": {},
   "outputs": [],
   "source": [
    "class_p = series.value_counts(normalize=True).to_dict()"
   ]
  },
  {
   "cell_type": "code",
   "execution_count": 84,
   "id": "87fc1f0b",
   "metadata": {},
   "outputs": [],
   "source": [
    "proportions=class_p"
   ]
  },
  {
   "cell_type": "code",
   "execution_count": 85,
   "id": "dc4e39fc",
   "metadata": {},
   "outputs": [],
   "source": [
    "rv = np.random.choice(a = [*proportions.keys()],\n",
    "                      size = series.isna().sum(),\n",
    "                      p = [*proportions.values()]\n",
    "                     ) "
   ]
  },
  {
   "cell_type": "code",
   "execution_count": 86,
   "id": "f1b1c5a9",
   "metadata": {},
   "outputs": [
    {
     "data": {
      "text/plain": [
       "array(['android', 'android', 'android', ..., 'android', 'android',\n",
       "       'android'], dtype='<U7')"
      ]
     },
     "execution_count": 86,
     "metadata": {},
     "output_type": "execute_result"
    }
   ],
   "source": [
    "rv"
   ]
  },
  {
   "cell_type": "code",
   "execution_count": null,
   "id": "5f923fdd",
   "metadata": {},
   "outputs": [],
   "source": [
    "ix = np.arange(0,len(series))\n",
    "series_ = series.copy()\n",
    "for x,y,z in zip(ix,series.isna(),rv):\n",
    "    if y:\n",
    "        series_.iloc[x] = z"
   ]
  },
  {
   "cell_type": "code",
   "execution_count": null,
   "id": "036766a7",
   "metadata": {},
   "outputs": [],
   "source": [
    "series = beha_df.OS_NAME\n",
    "x = np.round(series.isnull().mean(),2)\n",
    "logger.info(f\"% OF NaN in {series.name}: {x}\")\n",
    "rv = np.random.choice(a = [*proportions.keys()],\n",
    "                      size = series.isna().sum(),\n",
    "                      p = [*proportions.values()]\n",
    "                     ) \n",
    "series.loc[series.isna()] = rv"
   ]
  },
  {
   "cell_type": "code",
   "execution_count": null,
   "id": "c8607c33",
   "metadata": {},
   "outputs": [],
   "source": [
    "['LOG_DATE_COUNT_7D', 'AVG_PRICE_ITEM_7D','CAT_CATEG_ID_COUNT_7D', 'AVG_PRICE_ITEM_F7D',\n",
    "       'MIN_PRICE_ITEM', 'MAX_PRICE_ITEM', 'BUY_INTENTION_ITEM_COUNT',\n",
    "       'CAT_CATEG_ID_COUNT_F7D', 'VIP_VIEW_APP_ANDROID_ITEM_COUNT',\n",
    "       'VIP_VIEW_APP_IOS_ITEM_COUNT', 'VIP_VIEW_DESKTOP_ITEM_COUNT',\n",
    "       'VIP_VIEW_WEB_MOBILE_ITEM_COUNT', 'VIP_VIEW', 'QUESTION_ITEM_COUNT',\n",
    "       'CHECKOUT_CONGRATS_ITEM_COUNT', 'ADD_TO_CART_ITEM_COUNT',\n",
    "       'BOOKMARK_ITEM_COUNT', 'TOTAL_PAYMENTS_AMT_SUM',\n",
    "       'WALLET_PAYMENTS_AMT_SUM', 'AGGREGATOR_PAYMENTS_AMT_SUM',\n",
    "       'TOTAL_PAYMENTS_COUNT']"
   ]
  },
  {
   "cell_type": "code",
   "execution_count": null,
   "id": "e63d41d9",
   "metadata": {},
   "outputs": [],
   "source": [
    "beha_df.max(axis =0)"
   ]
  },
  {
   "cell_type": "code",
   "execution_count": null,
   "id": "db55f45d",
   "metadata": {},
   "outputs": [],
   "source": [
    "beha_df.columns"
   ]
  },
  {
   "cell_type": "code",
   "execution_count": null,
   "id": "9ea58e41",
   "metadata": {},
   "outputs": [],
   "source": [
    "beha_df.info()"
   ]
  },
  {
   "cell_type": "code",
   "execution_count": null,
   "id": "61bec020",
   "metadata": {},
   "outputs": [],
   "source": [
    "#CASTEOS.\n",
    "beha_df['SENT_DATE'] = pd.to_datetime(beha_df.SENT_DATE)\n",
    "beha_df['MIN_PRICE_ITEM'] = beha_df['MIN_PRICE_ITEM'].astype(np.float64)\n",
    "beha_df['MAX_PRICE_ITEM'] = beha_df['MAX_PRICE_ITEM'].astype(np.float64)\n",
    "beha_df['TOTAL_PAYMENTS_AMT_SUM'] = beha_df['TOTAL_PAYMENTS_AMT_SUM'].astype(np.float64)\n",
    "beha_df['WALLET_PAYMENTS_AMT_SUM'] = beha_df['WALLET_PAYMENTS_AMT_SUM'].astype(np.float64)\n",
    "beha_df['AGGREGATOR_PAYMENTS_AMT_SUM'] = beha_df['AGGREGATOR_PAYMENTS_AMT_SUM'].astype(np.float64)\n",
    "beha_df['AVG_PRICE_ITEM_7D'] = beha_df['AVG_PRICE_ITEM_7D'].astype(np.float64)\n",
    "beha_df['AVG_PRICE_ITEM_F7D'] = beha_df['AVG_PRICE_ITEM_F7D'].astype(np.float64)"
   ]
  },
  {
   "cell_type": "code",
   "execution_count": null,
   "id": "d3cfec7b",
   "metadata": {},
   "outputs": [],
   "source": [
    "beha_df.info()"
   ]
  },
  {
   "cell_type": "code",
   "execution_count": null,
   "id": "ca3577c8",
   "metadata": {},
   "outputs": [],
   "source": [
    "beha_df.head(3)"
   ]
  },
  {
   "cell_type": "code",
   "execution_count": null,
   "id": "ccc1c108",
   "metadata": {},
   "outputs": [],
   "source": [
    "beha_df['MIN_PRICE_ITEM']"
   ]
  },
  {
   "cell_type": "code",
   "execution_count": null,
   "id": "8ae4b7b5",
   "metadata": {},
   "outputs": [],
   "source": [
    "beha_df['MIN_PRICE_ITEM'] = beha_df['MIN_PRICE_ITEM'].astype(np.float64)\n",
    "beha_df.boxplot(column = 'MIN_PRICE_ITEM')"
   ]
  },
  {
   "cell_type": "code",
   "execution_count": null,
   "id": "88ffb6c9",
   "metadata": {},
   "outputs": [],
   "source": [
    "def outlier_clipping(series:pd.Series,q:float = .95):\n",
    "    \"\"\"Replace the values over the percentile 95 with the value\n",
    "    of this percentile.\"\"\"\n",
    "    \n",
    "    top = np.nanquantile(series,q)\n",
    "    logger.info(f\"{series.name} - MAX : {np.max(series)} WILL BE REPALCED BY {top}\")\n",
    "    series.loc[series > top] = top\n",
    "    \n",
    "    return series        "
   ]
  },
  {
   "cell_type": "code",
   "execution_count": null,
   "id": "0b2e91a9",
   "metadata": {},
   "outputs": [],
   "source": [
    "beha_df['MIN_PRICE_ITEM'] = beha_df['MIN_PRICE_ITEM'].astype(np.float64)\n",
    "beha_df['MAX_PRICE_ITEM'] = beha_df['MAX_PRICE_ITEM'].astype(np.float64)\n",
    "for col in ['MIN_PRICE_ITEM','MAX_PRICE_ITEM']:\n",
    "    beha_df[col] =  outlier_clipping(beha_df[col].copy(),q = .95)"
   ]
  },
  {
   "cell_type": "code",
   "execution_count": null,
   "id": "8d4b6478",
   "metadata": {},
   "outputs": [],
   "source": [
    "beha_df.boxplot(column = 'MIN_PRICE_ITEM')"
   ]
  },
  {
   "cell_type": "code",
   "execution_count": null,
   "id": "b87ebdb5",
   "metadata": {},
   "outputs": [],
   "source": [
    "beha_df.boxplot(column = 'MAX_PRICE_ITEM')"
   ]
  },
  {
   "cell_type": "code",
   "execution_count": null,
   "id": "bc07f641",
   "metadata": {},
   "outputs": [],
   "source": [
    "beha_df.info()"
   ]
  },
  {
   "cell_type": "code",
   "execution_count": null,
   "id": "99dbfcf4",
   "metadata": {},
   "outputs": [],
   "source": [
    "cols = ['MIN_PRICE_ITEM','MAX_PRICE_ITEM',\n",
    "        'MAX_FROM_INSTALL_ML','MIN_FROM_INSTALL_ML',\n",
    "        'MAX_FROM_INSTALL_MP','MIN_FROM_INSTALL_MP']\n",
    "for col in cols:\n",
    "    logger.info(f\"FILL NA {col} ({np.round(beha_df[col].isna().mean(),2)*100}%) VALUES WITH -1\")\n",
    "    beha_df[col] = beha_df[col].fillna(-1)"
   ]
  },
  {
   "cell_type": "code",
   "execution_count": null,
   "id": "88f2f368",
   "metadata": {},
   "outputs": [],
   "source": [
    "beha_df['SENT_DATE'] = pd.to_datetime(beha_df.SENT_DATE)\n",
    "beha_df['MIN_PRICE_ITEM'] = beha_df['MIN_PRICE_ITEM'].astype(np.float64)\n",
    "beha_df['MAX_PRICE_ITEM'] = beha_df['MAX_PRICE_ITEM'].astype(np.float64)\n",
    "beha_df['TOTAL_PAYMENTS_AMT_SUM'] = beha_df['TOTAL_PAYMENTS_AMT_SUM'].astype(np.float64)\n",
    "beha_df['WALLET_PAYMENTS_AMT_SUM'] = beha_df['WALLET_PAYMENTS_AMT_SUM'].astype(np.float64)\n",
    "beha_df['AGGREGATOR_PAYMENTS_AMT_SUM'] = beha_df['AGGREGATOR_PAYMENTS_AMT_SUM'].astype(np.float64)\n",
    "beha_df['AVG_PRICE_ITEM_7D'] = beha_df['AVG_PRICE_ITEM_7D'].astype(np.float64)\n",
    "beha_df['AVG_PRICE_ITEM_F7D'] = beha_df['AVG_PRICE_ITEM_F7D'].astype(np.float64)\n",
    "\n",
    "beha_df['RECENCY'] = beha_df['RECENCY'].fillna(np.max(beha_df.RECENCY) + 1).astype(np.int64)\n",
    "\n",
    "#carefull\n",
    "beha_df['MIN_PRICE_ITEM'] = beha_df['MIN_PRICE_ITEM'].fillna(-1)\n",
    "beha_df['MAX_PRICE_ITEM'] = beha_df['MAX_PRICE_ITEM'].fillna(-1)\n",
    "beha_df['MAX_FROM_INSTALL_ML'] = beha_df['MAX_FROM_INSTALL_ML'].fillna(-1)\n",
    "beha_df['MIN_FROM_INSTALL_ML'] = beha_df['MIN_FROM_INSTALL_ML'].fillna(-1)\n",
    "beha_df['MAX_FROM_INSTALL_MP'] = beha_df['MAX_FROM_INSTALL_MP'].fillna(-1)\n",
    "beha_df['MIN_FROM_INSTALL_MP'] = beha_df['MIN_FROM_INSTALL_MP'].fillna(-1)"
   ]
  },
  {
   "cell_type": "code",
   "execution_count": null,
   "id": "09aea970",
   "metadata": {},
   "outputs": [],
   "source": [
    "beha_df.info()"
   ]
  },
  {
   "cell_type": "code",
   "execution_count": null,
   "id": "0917d60e",
   "metadata": {},
   "outputs": [],
   "source": [
    "beha_df['OS_NAME'].value_counts(normalize=True)"
   ]
  },
  {
   "cell_type": "code",
   "execution_count": null,
   "id": "16e1adb8",
   "metadata": {},
   "outputs": [],
   "source": [
    "class_p = beha_df['OS_NAME'].value_counts(normalize=True).to_dict()\n",
    "categorical_imputer(series = beha_df['OS_NAME'],proportions = class_p)"
   ]
  },
  {
   "cell_type": "code",
   "execution_count": null,
   "id": "ef68f832",
   "metadata": {},
   "outputs": [],
   "source": [
    "beha_df['OS_NAME'].value_counts(normalize=True)"
   ]
  },
  {
   "cell_type": "code",
   "execution_count": null,
   "id": "bdb0946b",
   "metadata": {},
   "outputs": [],
   "source": [
    "beha_df['OS_IS_ANDROID'] = remap_column(serie = beha_df['OS_NAME'],dict_ = {'android':1, 'ios':0})"
   ]
  },
  {
   "cell_type": "code",
   "execution_count": null,
   "id": "1e926884",
   "metadata": {},
   "outputs": [],
   "source": [
    "beha_df['OS_IS_ANDROID'].value_counts(normalize=True)"
   ]
  },
  {
   "cell_type": "code",
   "execution_count": null,
   "id": "0f36f53d",
   "metadata": {},
   "outputs": [],
   "source": [
    "beha_df.drop(columns='OS_NAME', inplace=True)"
   ]
  },
  {
   "cell_type": "code",
   "execution_count": null,
   "id": "d6b08f44",
   "metadata": {},
   "outputs": [],
   "source": [
    "beha_df = prefix_source_info(df = beha_df,\n",
    "                             prefix = conf['PREFIX_MASTERS']['BEHAVIOUR_VARS'],\n",
    "                             exceptions= ['Y','W','SENT_DATE','CUS_CUST_ID'])"
   ]
  },
  {
   "cell_type": "code",
   "execution_count": null,
   "id": "b6ad3cd1",
   "metadata": {},
   "outputs": [],
   "source": [
    "beha_df.shape"
   ]
  },
  {
   "cell_type": "code",
   "execution_count": null,
   "id": "0e798b92",
   "metadata": {},
   "outputs": [],
   "source": [
    "beha_df.head()"
   ]
  },
  {
   "cell_type": "code",
   "execution_count": 72,
   "id": "ec77bd06",
   "metadata": {},
   "outputs": [
    {
     "ename": "AttributeError",
     "evalue": "'DataFrame' object has no attribute 'BEHAVIOURVARS_OS_NAME'",
     "output_type": "error",
     "traceback": [
      "\u001b[0;31m---------------------------------------------------------------------------\u001b[0m",
      "\u001b[0;31mAttributeError\u001b[0m                            Traceback (most recent call last)",
      "\u001b[0;32m/tmp/ipykernel_4560/2047201425.py\u001b[0m in \u001b[0;36m<module>\u001b[0;34m\u001b[0m\n\u001b[0;32m----> 1\u001b[0;31m \u001b[0mbeha_df\u001b[0m\u001b[0;34m.\u001b[0m\u001b[0mBEHAVIOURVARS_OS_NAME\u001b[0m\u001b[0;34m\u001b[0m\u001b[0;34m\u001b[0m\u001b[0m\n\u001b[0m",
      "\u001b[0;32m/usr/local/lib/python3.7/site-packages/pandas/core/generic.py\u001b[0m in \u001b[0;36m__getattr__\u001b[0;34m(self, name)\u001b[0m\n\u001b[1;32m   5485\u001b[0m         ):\n\u001b[1;32m   5486\u001b[0m             \u001b[0;32mreturn\u001b[0m \u001b[0mself\u001b[0m\u001b[0;34m[\u001b[0m\u001b[0mname\u001b[0m\u001b[0;34m]\u001b[0m\u001b[0;34m\u001b[0m\u001b[0;34m\u001b[0m\u001b[0m\n\u001b[0;32m-> 5487\u001b[0;31m         \u001b[0;32mreturn\u001b[0m \u001b[0mobject\u001b[0m\u001b[0;34m.\u001b[0m\u001b[0m__getattribute__\u001b[0m\u001b[0;34m(\u001b[0m\u001b[0mself\u001b[0m\u001b[0;34m,\u001b[0m \u001b[0mname\u001b[0m\u001b[0;34m)\u001b[0m\u001b[0;34m\u001b[0m\u001b[0;34m\u001b[0m\u001b[0m\n\u001b[0m\u001b[1;32m   5488\u001b[0m \u001b[0;34m\u001b[0m\u001b[0m\n\u001b[1;32m   5489\u001b[0m     \u001b[0;32mdef\u001b[0m \u001b[0m__setattr__\u001b[0m\u001b[0;34m(\u001b[0m\u001b[0mself\u001b[0m\u001b[0;34m,\u001b[0m \u001b[0mname\u001b[0m\u001b[0;34m:\u001b[0m \u001b[0mstr\u001b[0m\u001b[0;34m,\u001b[0m \u001b[0mvalue\u001b[0m\u001b[0;34m)\u001b[0m \u001b[0;34m->\u001b[0m \u001b[0;32mNone\u001b[0m\u001b[0;34m:\u001b[0m\u001b[0;34m\u001b[0m\u001b[0;34m\u001b[0m\u001b[0m\n",
      "\u001b[0;31mAttributeError\u001b[0m: 'DataFrame' object has no attribute 'BEHAVIOURVARS_OS_NAME'"
     ]
    }
   ],
   "source": [
    " beha_df.BEHAVIOURVARS_OS_NAME"
   ]
  },
  {
   "cell_type": "code",
   "execution_count": null,
   "id": "e2b42045",
   "metadata": {},
   "outputs": [],
   "source": [
    "x = np.round(series.isnull().mean(),2)\n",
    "logger.info(f\"% OF NaN in {series.name}: {x}\")\n",
    "rv = np.random.choice(a = [*proportions.keys()],\n",
    "                      size = series.isna().sum(),\n",
    "                      p = [*proportions.values()]\n",
    "                     ) \n",
    "series.loc[series.isna()] = rv"
   ]
  },
  {
   "cell_type": "code",
   "execution_count": 68,
   "id": "1a9cb080",
   "metadata": {},
   "outputs": [],
   "source": [
    "def proc_behaviour(df: pd.DataFrame)->pd.DataFrame:\n",
    "    \"\"\"Pre-processing procedure for events on :\n",
    "    marketplace and MP app.\n",
    "    df: DataFrame with the variables.\n",
    "    \"\"\"\n",
    "    logger.info(f\"--------- START PROCESSING PROCEDURE ON BEHAVIOUR ---------\")\n",
    "    logger.info(f\"INPUT DATAFRAME {df.shape} unique users {df.CUS_CUST_ID.nunique()}\")\n",
    "    \n",
    "    logger.info(f\"CAST VARIABLES TYPE\")\n",
    "    df['SENT_DATE'] = pd.to_datetime(df.SENT_DATE)\n",
    "    df['MIN_PRICE_ITEM'] = df['MIN_PRICE_ITEM'].astype(np.float64)\n",
    "    df['MAX_PRICE_ITEM'] = df['MAX_PRICE_ITEM'].astype(np.float64)\n",
    "    df['TOTAL_PAYMENTS_AMT_SUM'] = df['TOTAL_PAYMENTS_AMT_SUM'].astype(np.float64)\n",
    "    df['WALLET_PAYMENTS_AMT_SUM'] = df['WALLET_PAYMENTS_AMT_SUM'].astype(np.float64)\n",
    "    df['AGGREGATOR_PAYMENTS_AMT_SUM'] = df['AGGREGATOR_PAYMENTS_AMT_SUM'].astype(np.float64)\n",
    "    df['AVG_PRICE_ITEM_7D'] = df['AVG_PRICE_ITEM_7D'].astype(np.float64)\n",
    "    df['AVG_PRICE_ITEM_F7D'] = df['AVG_PRICE_ITEM_F7D'].astype(np.float64)\n",
    "    \n",
    "    logger.info(f\"Clipping prices and money by percentil 95\")\n",
    "    cols = ['AVG_PRICE_ITEM_7D','CAT_CATEG_ID_COUNT_7D', \n",
    "            'AVG_PRICE_ITEM_F7D','MIN_PRICE_ITEM', 'MAX_PRICE_ITEM', \n",
    "            'BUY_INTENTION_ITEM_COUNT','CAT_CATEG_ID_COUNT_F7D', \n",
    "            'VIP_VIEW_APP_ANDROID_ITEM_COUNT','VIP_VIEW_APP_IOS_ITEM_COUNT',\n",
    "            'VIP_VIEW_DESKTOP_ITEM_COUNT','VIP_VIEW_WEB_MOBILE_ITEM_COUNT', \n",
    "            'VIP_VIEW', 'QUESTION_ITEM_COUNT','CHECKOUT_CONGRATS_ITEM_COUNT',\n",
    "            'ADD_TO_CART_ITEM_COUNT','BOOKMARK_ITEM_COUNT', \n",
    "            'TOTAL_PAYMENTS_AMT_SUM','WALLET_PAYMENTS_AMT_SUM', \n",
    "            'AGGREGATOR_PAYMENTS_AMT_SUM','TOTAL_PAYMENTS_COUNT']\n",
    "    for col in cols:\n",
    "        df[col] =  outlier_clipping(df[col].copy(),q = .95)\n",
    "    \n",
    "    recency_na = np.round(df['RECENCY'].isna().mean(),3)*100\n",
    "    logger.info(f\"FILL RECENCY NA VALUES ({recency_na} %) WITH MAX(RECENCY)+1\")\n",
    "    df['RECENCY'] = df['RECENCY'].fillna(np.max(df.RECENCY) + 1).astype(np.int64)\n",
    "\n",
    "    cols = ['MIN_PRICE_ITEM','MAX_PRICE_ITEM',\n",
    "            'MAX_FROM_INSTALL_ML','MIN_FROM_INSTALL_ML',\n",
    "            'MAX_FROM_INSTALL_MP','MIN_FROM_INSTALL_MP']\n",
    "    for col in cols:\n",
    "        logger.info(f\"FILL NA {col} ({np.round(df[col].isna().mean(),2)*100}%) VALUES WITH -1\")\n",
    "        df[col] = df[col].fillna(-1)\n",
    "    \n",
    "    od_na = np.round(df['OS_NAME'].isna().mean(),3)*100\n",
    "    logger.info(f\"FILL NA VALUES IN OS_NAME ({od_na}%) BY ORIGINAL DISTIRBUTION\")\n",
    "    class_p = df['OS_NAME'].value_counts(normalize=True).to_dict()\n",
    "    categorical_imputer(series = df['OS_NAME'],proportions = class_p)\n",
    "    df['OS_IS_ANDROID'] = remap_column(serie = df['OS_NAME'],dict_ = {'android':1, 'ios':0})\n",
    "    df.drop(columns='OS_NAME', inplace=True)\n",
    "    \n",
    "    df = prefix_source_info(df = df,\n",
    "                            prefix = conf['PREFIX_MASTERS']['BEHAVIOUR_VARS'],\n",
    "                            exceptions= ['Y','W','SENT_DATE','CUS_CUST_ID'])\n",
    "    \n",
    "    logger.info(f\"OUTPUT DATAFRAME {df.shape} unique users {df.CUS_CUST_ID.nunique()}\")\n",
    "    logger.info(f\"--------- END PROCESSING PROCEDURE ON BEHAVIOUR ---------\")\n",
    "    return df"
   ]
  },
  {
   "cell_type": "code",
   "execution_count": 69,
   "id": "df6ed510",
   "metadata": {},
   "outputs": [
    {
     "name": "stderr",
     "output_type": "stream",
     "text": [
      "2022-03-22 10:41:33 --------- START PROCESSING PROCEDURE ON BEHAVIOUR ---------\n",
      "2022-03-22 10:41:33 INPUT DATAFRAME (694536, 31) unique users 694536\n",
      "2022-03-22 10:41:33 CAST VARIABLES TYPE\n",
      "2022-03-22 10:41:35 Clipping prices and money by percentil 95\n",
      "2022-03-22 10:41:35 AVG_PRICE_ITEM_7D - MAX : 970829436.5925379 WILL BE REPALCED BY 1291.68875\n",
      "2022-03-22 10:41:35 CAT_CATEG_ID_COUNT_7D - MAX : 14478 WILL BE REPALCED BY 23.0\n",
      "2022-03-22 10:41:35 AVG_PRICE_ITEM_F7D - MAX : 666683329.3333334 WILL BE REPALCED BY 612.70485769125\n",
      "2022-03-22 10:41:35 MIN_PRICE_ITEM - MAX : 970162969.0 WILL BE REPALCED BY 514.0\n",
      "2022-03-22 10:41:35 MAX_PRICE_ITEM - MAX : 9999999900.0 WILL BE REPALCED BY 5078.0\n",
      "2022-03-22 10:41:35 BUY_INTENTION_ITEM_COUNT - MAX : 7020 WILL BE REPALCED BY 4.0\n",
      "2022-03-22 10:41:35 CAT_CATEG_ID_COUNT_F7D - MAX : 4608 WILL BE REPALCED BY 12.0\n",
      "2022-03-22 10:41:35 VIP_VIEW_APP_ANDROID_ITEM_COUNT - MAX : 43434 WILL BE REPALCED BY 56.0\n",
      "2022-03-22 10:41:35 VIP_VIEW_APP_IOS_ITEM_COUNT - MAX : 13536 WILL BE REPALCED BY 0.0\n",
      "2022-03-22 10:41:35 VIP_VIEW_DESKTOP_ITEM_COUNT - MAX : 5568 WILL BE REPALCED BY 0.0\n",
      "2022-03-22 10:41:35 VIP_VIEW_WEB_MOBILE_ITEM_COUNT - MAX : 4680 WILL BE REPALCED BY 0.0\n",
      "2022-03-22 10:41:35 VIP_VIEW - MAX : 43434 WILL BE REPALCED BY 60.0\n",
      "2022-03-22 10:41:35 QUESTION_ITEM_COUNT - MAX : 756 WILL BE REPALCED BY 0.0\n",
      "2022-03-22 10:41:35 CHECKOUT_CONGRATS_ITEM_COUNT - MAX : 762 WILL BE REPALCED BY 1.0\n",
      "2022-03-22 10:41:35 ADD_TO_CART_ITEM_COUNT - MAX : 460 WILL BE REPALCED BY 0.0\n",
      "2022-03-22 10:41:35 BOOKMARK_ITEM_COUNT - MAX : 5964 WILL BE REPALCED BY 3.0\n",
      "2022-03-22 10:41:35 TOTAL_PAYMENTS_AMT_SUM - MAX : 104593.588179168 WILL BE REPALCED BY 39.604744\n",
      "2022-03-22 10:41:35 WALLET_PAYMENTS_AMT_SUM - MAX : 94345.518523005 WILL BE REPALCED BY 0.0\n",
      "2022-03-22 10:41:35 AGGREGATOR_PAYMENTS_AMT_SUM - MAX : 35857.992640524 WILL BE REPALCED BY 5.54225835\n",
      "2022-03-22 10:41:35 TOTAL_PAYMENTS_COUNT - MAX : 2413 WILL BE REPALCED BY 1.0\n",
      "2022-03-22 10:41:35 FILL RECENCY NA VALUES (21.9 %) WITH MAX(RECENCY)+1\n",
      "2022-03-22 10:41:35 FILL NA MIN_PRICE_ITEM (22.0%) VALUES WITH -1\n",
      "2022-03-22 10:41:35 FILL NA MAX_PRICE_ITEM (22.0%) VALUES WITH -1\n",
      "2022-03-22 10:41:35 FILL NA MAX_FROM_INSTALL_ML (35.0%) VALUES WITH -1\n",
      "2022-03-22 10:41:35 FILL NA MIN_FROM_INSTALL_ML (35.0%) VALUES WITH -1\n",
      "2022-03-22 10:41:35 FILL NA MAX_FROM_INSTALL_MP (77.0%) VALUES WITH -1\n",
      "2022-03-22 10:41:35 FILL NA MIN_FROM_INSTALL_MP (77.0%) VALUES WITH -1\n",
      "2022-03-22 10:41:35 FILL NA VALUES IN OS_NAME (28.9%) BY ORIGINAL DISTIRBUTION\n",
      "2022-03-22 10:41:35 % OF NaN in OS_NAME: 0.29\n",
      "/usr/local/lib/python3.7/site-packages/pandas/core/indexing.py:1732: SettingWithCopyWarning: \n",
      "A value is trying to be set on a copy of a slice from a DataFrame\n",
      "\n",
      "See the caveats in the documentation: https://pandas.pydata.org/pandas-docs/stable/user_guide/indexing.html#returning-a-view-versus-a-copy\n",
      "  self._setitem_single_block(indexer, value, name)\n",
      "2022-03-22 10:41:36 Adding prefix BEHAVIOURVARS_ to DataFrame\n",
      "2022-03-22 10:41:36 OUTPUT DATAFRAME (694536, 31) unique users 694536\n",
      "2022-03-22 10:41:36 --------- END PROCESSING PROCEDURE ON BEHAVIOUR ---------\n"
     ]
    }
   ],
   "source": [
    "beha_df = proc_behaviour(beha_df)"
   ]
  },
  {
   "cell_type": "markdown",
   "id": "8bd73a7b",
   "metadata": {},
   "source": [
    "#### MERGE."
   ]
  },
  {
   "cell_type": "code",
   "execution_count": null,
   "id": "f1a3d850",
   "metadata": {},
   "outputs": [],
   "source": [
    "master = df.merge(push_df,on = ['CUS_CUST_ID','SENT_DATE'], how = 'left', validate='1:1')\n",
    "master = master.merge(beha_df,on = ['CUS_CUST_ID','SENT_DATE'], how = 'left', validate='1:1')"
   ]
  },
  {
   "cell_type": "code",
   "execution_count": null,
   "id": "0a9cf7da",
   "metadata": {},
   "outputs": [],
   "source": [
    "master.head(3)"
   ]
  },
  {
   "cell_type": "code",
   "execution_count": null,
   "id": "ad91d452",
   "metadata": {},
   "outputs": [],
   "source": [
    "master.info()"
   ]
  },
  {
   "cell_type": "code",
   "execution_count": null,
   "id": "025d4c0f",
   "metadata": {},
   "outputs": [],
   "source": [
    "master['W'] = remap_column(serie = master['EVENT_TYPE'],dict_ = {'sent':1, 'control':0})\n",
    "master.drop(columns='EVENT_TYPE', inplace=True)\n",
    "master.rename(columns={\"CONVERSION\": \"Y\"}, inplace=True)"
   ]
  },
  {
   "cell_type": "code",
   "execution_count": null,
   "id": "893c1785",
   "metadata": {},
   "outputs": [],
   "source": [
    "master.info()"
   ]
  },
  {
   "cell_type": "code",
   "execution_count": null,
   "id": "833fba57",
   "metadata": {},
   "outputs": [],
   "source": [
    "master.W.value_counts(normalize=True)"
   ]
  },
  {
   "cell_type": "code",
   "execution_count": null,
   "id": "1195490e",
   "metadata": {},
   "outputs": [],
   "source": [
    "master.Y.value_counts(normalize=True)"
   ]
  },
  {
   "cell_type": "code",
   "execution_count": null,
   "id": "0c2cfe2a",
   "metadata": {},
   "outputs": [],
   "source": []
  }
 ],
 "metadata": {
  "kernelspec": {
   "display_name": "Python 3 (ipykernel)",
   "language": "python",
   "name": "python3"
  },
  "language_info": {
   "codemirror_mode": {
    "name": "ipython",
    "version": 3
   },
   "file_extension": ".py",
   "mimetype": "text/x-python",
   "name": "python",
   "nbconvert_exporter": "python",
   "pygments_lexer": "ipython3",
   "version": "3.7.4"
  }
 },
 "nbformat": 4,
 "nbformat_minor": 5
}
