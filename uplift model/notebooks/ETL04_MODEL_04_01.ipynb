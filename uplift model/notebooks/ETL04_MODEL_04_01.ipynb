{
 "cells": [
  {
   "cell_type": "markdown",
   "id": "cd18e454",
   "metadata": {},
   "source": [
    "**This notebook is for:**\n",
    "1. Testing causalML.\n",
    "https://antonsruberts.github.io/causalml-test/"
   ]
  },
  {
   "cell_type": "code",
   "execution_count": 1,
   "id": "89ccfe6b",
   "metadata": {},
   "outputs": [
    {
     "name": "stdout",
     "output_type": "stream",
     "text": [
      "adding utils to path \n"
     ]
    }
   ],
   "source": [
    "import sys, os \n",
    "prj_path = os.path.dirname(os.getcwd())\n",
    "utils_path = prj_path + '/utils'\n",
    "if  not utils_path in sys.path:\n",
    "    print('adding utils to path ')\n",
    "    sys.path.insert(1, utils_path)"
   ]
  },
  {
   "cell_type": "code",
   "execution_count": 2,
   "id": "0ce611e4",
   "metadata": {},
   "outputs": [],
   "source": [
    "import pandas as pd\n",
    "import numpy as np\n",
    "from matplotlib import pyplot as plt\n",
    "\n",
    "from sklearn.model_selection import train_test_split, KFold, cross_val_score, StratifiedKFold\n",
    "\n",
    "from sklearn.metrics import (\n",
    "    average_precision_score, roc_auc_score, roc_curve, auc, plot_roc_curve, RocCurveDisplay,\n",
    "    recall_score, f1_score, mean_absolute_percentage_error,r2_score,average_precision_score\n",
    ")\n",
    "\n",
    "import lightgbm as lgbm\n",
    "from sklift.metrics import qini_auc_score, uplift_auc_score\n",
    "from sklift.models import  ClassTransformation\n",
    "from skopt.space import Space\n",
    "from skopt.space import Real, Integer, Categorical\n",
    "from skopt.utils import use_named_args\n",
    "\n",
    "from skopt import gp_minimize\n",
    "# for the analysis\n",
    "from skopt.plots import (\n",
    "    plot_convergence,\n",
    "    plot_evaluations,\n",
    "    plot_objective\n",
    ")\n",
    "\n",
    "from catboost import CatBoostClassifier\n",
    "\n",
    "from utilities import *\n",
    "from user_model_evaluation import *\n",
    "\n",
    "from imblearn.over_sampling import RandomOverSampler\n",
    "from imblearn.under_sampling import RandomUnderSampler\n",
    "\n",
    "#Load config.\n",
    "files = glob.glob(f\"{utils_path}/*.yml\") \n",
    "conf = load_conf(files)"
   ]
  },
  {
   "cell_type": "code",
   "execution_count": 3,
   "id": "9df31026",
   "metadata": {},
   "outputs": [],
   "source": [
    "master = pd.read_parquet('MASTER/202203221434.parquet')"
   ]
  },
  {
   "cell_type": "code",
   "execution_count": 4,
   "id": "e755bc72",
   "metadata": {},
   "outputs": [],
   "source": [
    "master['CANARY_VAR'] = np.random.uniform(size = master.shape[0])"
   ]
  },
  {
   "cell_type": "code",
   "execution_count": 5,
   "id": "2817692f",
   "metadata": {},
   "outputs": [],
   "source": [
    "#model vars\n",
    "treatment_var = 'W'\n",
    "target_var = 'Y'\n",
    "exclude_vars = ['CUS_CUST_ID', 'SENT_DATE'] + [treatment_var] + [target_var] \n",
    "model_vars = list(set(master.columns) - set(exclude_vars))"
   ]
  },
  {
   "cell_type": "code",
   "execution_count": 6,
   "id": "748e38c1",
   "metadata": {},
   "outputs": [],
   "source": [
    "def check_units(treatment):\n",
    "    x = np.bincount(treatment)\n",
    "    return x[0]==x[1]"
   ]
  },
  {
   "cell_type": "code",
   "execution_count": 7,
   "id": "8d596f6a",
   "metadata": {},
   "outputs": [],
   "source": [
    "chk = check_units(master[treatment_var].tolist())\n",
    "if not chk:\n",
    "    # For ClassTransformation approach its necesary that P(W=1)=P(W=0) This implies that \n",
    "    # we have the same number of users in the two groups.\n",
    "    ros = RandomOverSampler(random_state=0)\n",
    "    v = model_vars + [treatment_var] + [target_var]\n",
    "    X_oversampled, _ = ros.fit_resample(master[v], master[treatment_var])"
   ]
  },
  {
   "cell_type": "code",
   "execution_count": 8,
   "id": "9df79134",
   "metadata": {},
   "outputs": [],
   "source": [
    "X_train, X_test, y_train, y_test = train_test_split(master[model_vars + [treatment_var]],\n",
    "                                                    master[target_var],\n",
    "                                                    random_state= 142,\n",
    "                                                    shuffle=True,\n",
    "                                                    stratify = master[target_var],\n",
    "                                                    test_size=0.33)\n",
    "\n",
    "test_treatment = X_test[treatment_var]\n",
    "\n",
    "X_train, X_val, y_train, y_val = train_test_split(X_train,\n",
    "                                                  y_train,\n",
    "                                                  random_state= 142,\n",
    "                                                  shuffle=True,\n",
    "                                                  stratify = y_train,\n",
    "                                                  test_size=0.33)\n",
    "\n",
    "train_treatment = X_train[treatment_var]\n",
    "val_treatment = X_val[treatment_var]\n",
    "\n",
    "X_train.drop(labels=treatment_var, axis = 1, inplace = True)\n",
    "X_test.drop(labels=treatment_var, axis = 1, inplace = True)\n",
    "X_val.drop(labels=treatment_var, axis = 1, inplace = True)"
   ]
  },
  {
   "cell_type": "code",
   "execution_count": 15,
   "id": "229eba17",
   "metadata": {},
   "outputs": [],
   "source": [
    "params_grid = [\n",
    "    Integer(1,16,prior=\"uniform\",name=\"depth\"),\n",
    "    Integer(1,500,prior=\"uniform\",name=\"iterations\"),\n",
    "    Real(10**-3, 10**0, \"log-uniform\", name='learning_rate'),\n",
    "    Categorical(['L2', 'Cosine'],name='score_function')\n",
    "]"
   ]
  },
  {
   "cell_type": "code",
   "execution_count": 16,
   "id": "bda542f5",
   "metadata": {},
   "outputs": [],
   "source": [
    "@use_named_args(params_grid)\n",
    "def objective(**params):\n",
    "     \n",
    "    # model with new parameters\n",
    "    logger.info(f\"[TRAIN_MODEL] Training model\") \n",
    "    logger.info(f'Set of params....., {params}')\n",
    "    \n",
    "    cv = StratifiedKFold(n_splits=5, shuffle=True,random_state=1)\n",
    "    cv_value = []\n",
    "    for train_index, test_index in cv.split(X_train,y_train):\n",
    "        \n",
    "        catClass = CatBoostClassifier(loss_function = 'Logloss',\n",
    "                                      auto_class_weights = 'Balanced',\n",
    "                                      thread_count = -1,\n",
    "                                      random_state=42,\n",
    "                                      metric_period=25)\n",
    "        catClass.set_params(**params)\n",
    "        classTslearner = ClassTransformation(estimator = catClass)\n",
    "    \n",
    "        classTslearner.fit(X = X_train.iloc[train_index],\n",
    "                           y = y_train.iloc[train_index],\n",
    "                           treatment = train_treatment.iloc[train_index]\n",
    "                          )  \n",
    "                                     \n",
    "        y = classTslearner.predict(X_train.iloc[test_index])\n",
    "        y_true = y_train.iloc[test_index].values\n",
    "        treatment = train_treatment.iloc[test_index].values\n",
    "        q = qini_auc_score(y_true = y_true, \n",
    "                             uplift = y,\n",
    "                             treatment = treatment,\n",
    "                            )\n",
    "        \n",
    "        cv_value.append(q)\n",
    "        del catClass\n",
    "\n",
    "    value = np.mean(cv_value)  \n",
    "\n",
    "    logger.info(f\"mean cv_value {value} | std cv_value {np.std(cv_value)} \")\n",
    "    logger.info(\"---------------------------------------------\")\n",
    "\n",
    "    return -1*value"
   ]
  },
  {
   "cell_type": "code",
   "execution_count": 25,
   "id": "14c5ce87",
   "metadata": {
    "collapsed": true,
    "jupyter": {
     "outputs_hidden": true
    }
   },
   "outputs": [
    {
     "name": "stderr",
     "output_type": "stream",
     "text": [
      "2022-03-25 16:32:25 [TRAIN_MODEL] Training model\n",
      "2022-03-25 16:32:25 Set of params....., {'depth': 13, 'iterations': 56, 'learning_rate': 0.38721346916175375, 'score_function': 'Cosine'}\n"
     ]
    },
    {
     "name": "stdout",
     "output_type": "stream",
     "text": [
      "Iteration No: 1 started. Evaluating function at random point.\n",
      "0:\tlearn: 0.6845980\ttotal: 321ms\tremaining: 17.6s\n",
      "25:\tlearn: 0.5780440\ttotal: 6.92s\tremaining: 7.98s\n",
      "50:\tlearn: 0.4950195\ttotal: 13.3s\tremaining: 1.31s\n",
      "55:\tlearn: 0.4785480\ttotal: 14.6s\tremaining: 0us\n",
      "0:\tlearn: 0.6836816\ttotal: 257ms\tremaining: 14.2s\n",
      "25:\tlearn: 0.5724298\ttotal: 6.67s\tremaining: 7.7s\n",
      "50:\tlearn: 0.4854971\ttotal: 13.1s\tremaining: 1.28s\n",
      "55:\tlearn: 0.4745148\ttotal: 14.4s\tremaining: 0us\n",
      "0:\tlearn: 0.6840289\ttotal: 271ms\tremaining: 14.9s\n",
      "25:\tlearn: 0.5779369\ttotal: 6.62s\tremaining: 7.64s\n",
      "50:\tlearn: 0.4928559\ttotal: 12.8s\tremaining: 1.25s\n",
      "55:\tlearn: 0.4796880\ttotal: 14.1s\tremaining: 0us\n",
      "0:\tlearn: 0.6840082\ttotal: 262ms\tremaining: 14.4s\n",
      "25:\tlearn: 0.5835606\ttotal: 7s\tremaining: 8.08s\n",
      "50:\tlearn: 0.5003633\ttotal: 13.8s\tremaining: 1.35s\n",
      "55:\tlearn: 0.4887210\ttotal: 15.1s\tremaining: 0us\n",
      "0:\tlearn: 0.6815008\ttotal: 269ms\tremaining: 14.8s\n",
      "25:\tlearn: 0.5690337\ttotal: 6.65s\tremaining: 7.67s\n",
      "50:\tlearn: 0.4903864\ttotal: 13s\tremaining: 1.28s\n"
     ]
    },
    {
     "name": "stderr",
     "output_type": "stream",
     "text": [
      "2022-03-25 16:33:40 mean cv_value 0.014056990841912217 | std cv_value 0.02467372842770988 \n",
      "2022-03-25 16:33:40 ---------------------------------------------\n",
      "2022-03-25 16:33:40 [TRAIN_MODEL] Training model\n",
      "2022-03-25 16:33:40 Set of params....., {'depth': 10, 'iterations': 87, 'learning_rate': 0.14202336480158992, 'score_function': 'L2'}\n"
     ]
    },
    {
     "name": "stdout",
     "output_type": "stream",
     "text": [
      "55:\tlearn: 0.4773387\ttotal: 14.3s\tremaining: 0us\n",
      "Iteration No: 1 ended. Evaluation done at random point.\n",
      "Time taken: 74.0311\n",
      "Function value obtained: -0.0141\n",
      "Current minimum: -0.0141\n",
      "Iteration No: 2 started. Evaluating function at random point.\n",
      "0:\tlearn: 0.6909925\ttotal: 62.7ms\tremaining: 5.39s\n",
      "25:\tlearn: 0.6649382\ttotal: 1.51s\tremaining: 3.55s\n",
      "50:\tlearn: 0.6477147\ttotal: 2.92s\tremaining: 2.06s\n",
      "75:\tlearn: 0.6318142\ttotal: 4.34s\tremaining: 629ms\n",
      "86:\tlearn: 0.6247716\ttotal: 4.96s\tremaining: 0us\n",
      "0:\tlearn: 0.6907926\ttotal: 65.6ms\tremaining: 5.64s\n",
      "25:\tlearn: 0.6629196\ttotal: 1.51s\tremaining: 3.55s\n",
      "50:\tlearn: 0.6441712\ttotal: 2.93s\tremaining: 2.07s\n",
      "75:\tlearn: 0.6289938\ttotal: 4.33s\tremaining: 626ms\n",
      "86:\tlearn: 0.6226897\ttotal: 4.95s\tremaining: 0us\n",
      "0:\tlearn: 0.6909408\ttotal: 62.3ms\tremaining: 5.36s\n",
      "25:\tlearn: 0.6642199\ttotal: 1.53s\tremaining: 3.6s\n",
      "50:\tlearn: 0.6468207\ttotal: 2.96s\tremaining: 2.09s\n",
      "75:\tlearn: 0.6301842\ttotal: 4.39s\tremaining: 635ms\n",
      "86:\tlearn: 0.6237803\ttotal: 5.01s\tremaining: 0us\n",
      "0:\tlearn: 0.6909049\ttotal: 61.6ms\tremaining: 5.29s\n",
      "25:\tlearn: 0.6633226\ttotal: 1.52s\tremaining: 3.56s\n",
      "50:\tlearn: 0.6467150\ttotal: 2.91s\tremaining: 2.05s\n",
      "75:\tlearn: 0.6304271\ttotal: 4.3s\tremaining: 623ms\n",
      "86:\tlearn: 0.6235687\ttotal: 4.92s\tremaining: 0us\n",
      "0:\tlearn: 0.6911905\ttotal: 60.5ms\tremaining: 5.2s\n",
      "25:\tlearn: 0.6641030\ttotal: 1.5s\tremaining: 3.52s\n",
      "50:\tlearn: 0.6465644\ttotal: 2.9s\tremaining: 2.05s\n",
      "75:\tlearn: 0.6300902\ttotal: 4.33s\tremaining: 627ms\n"
     ]
    },
    {
     "name": "stderr",
     "output_type": "stream",
     "text": [
      "2022-03-25 16:34:05 mean cv_value 0.04386468618400888 | std cv_value 0.03300847903203027 \n",
      "2022-03-25 16:34:05 ---------------------------------------------\n",
      "2022-03-25 16:34:05 [TRAIN_MODEL] Training model\n",
      "2022-03-25 16:34:05 Set of params....., {'depth': 13, 'iterations': 53, 'learning_rate': 0.7268736986598135, 'score_function': 'L2'}\n"
     ]
    },
    {
     "name": "stdout",
     "output_type": "stream",
     "text": [
      "86:\tlearn: 0.6237321\ttotal: 4.95s\tremaining: 0us\n",
      "Iteration No: 2 ended. Evaluation done at random point.\n",
      "Time taken: 25.9326\n",
      "Function value obtained: -0.0439\n",
      "Current minimum: -0.0439\n",
      "Iteration No: 3 started. Evaluating function at random point.\n",
      "0:\tlearn: 0.6698754\ttotal: 330ms\tremaining: 17.2s\n",
      "25:\tlearn: 0.4912972\ttotal: 6.89s\tremaining: 7.16s\n",
      "50:\tlearn: 0.3760380\ttotal: 13.6s\tremaining: 532ms\n",
      "52:\tlearn: 0.3700883\ttotal: 14.1s\tremaining: 0us\n",
      "0:\tlearn: 0.6659289\ttotal: 291ms\tremaining: 15.1s\n",
      "25:\tlearn: 0.4747862\ttotal: 6.88s\tremaining: 7.15s\n",
      "50:\tlearn: 0.3790782\ttotal: 13.6s\tremaining: 532ms\n",
      "52:\tlearn: 0.3756315\ttotal: 14.1s\tremaining: 0us\n",
      "0:\tlearn: 0.6696470\ttotal: 283ms\tremaining: 14.7s\n",
      "25:\tlearn: 0.4858590\ttotal: 6.78s\tremaining: 7.04s\n",
      "50:\tlearn: 0.3734877\ttotal: 13.5s\tremaining: 528ms\n",
      "52:\tlearn: 0.3682496\ttotal: 14s\tremaining: 0us\n",
      "0:\tlearn: 0.6683930\ttotal: 292ms\tremaining: 15.2s\n",
      "25:\tlearn: 0.4710601\ttotal: 6.92s\tremaining: 7.18s\n",
      "50:\tlearn: 0.3793687\ttotal: 13.6s\tremaining: 532ms\n",
      "52:\tlearn: 0.3712834\ttotal: 14.1s\tremaining: 0us\n",
      "0:\tlearn: 0.6751874\ttotal: 280ms\tremaining: 14.6s\n",
      "25:\tlearn: 0.4856110\ttotal: 7.01s\tremaining: 7.28s\n",
      "50:\tlearn: 0.3854616\ttotal: 13.4s\tremaining: 527ms\n"
     ]
    },
    {
     "name": "stderr",
     "output_type": "stream",
     "text": [
      "2022-03-25 16:35:17 mean cv_value 0.011174546578058503 | std cv_value 0.010756082147762065 \n",
      "2022-03-25 16:35:17 ---------------------------------------------\n",
      "2022-03-25 16:35:17 [TRAIN_MODEL] Training model\n",
      "2022-03-25 16:35:17 Set of params....., {'depth': 3, 'iterations': 97, 'learning_rate': 0.6779356188907545, 'score_function': 'L2'}\n"
     ]
    },
    {
     "name": "stdout",
     "output_type": "stream",
     "text": [
      "52:\tlearn: 0.3803697\ttotal: 13.9s\tremaining: 0us\n",
      "Iteration No: 3 ended. Evaluation done at random point.\n",
      "Time taken: 71.5878\n",
      "Function value obtained: -0.0112\n",
      "Current minimum: -0.0439\n",
      "Iteration No: 4 started. Evaluating function at random point.\n",
      "0:\tlearn: 0.6907435\ttotal: 13.5ms\tremaining: 1.29s\n",
      "25:\tlearn: 0.6872543\ttotal: 252ms\tremaining: 687ms\n",
      "50:\tlearn: 0.6852046\ttotal: 500ms\tremaining: 451ms\n",
      "75:\tlearn: 0.6832761\ttotal: 752ms\tremaining: 208ms\n",
      "96:\tlearn: 0.6818867\ttotal: 959ms\tremaining: 0us\n",
      "0:\tlearn: 0.6907776\ttotal: 13.3ms\tremaining: 1.28s\n",
      "25:\tlearn: 0.6872252\ttotal: 249ms\tremaining: 679ms\n",
      "50:\tlearn: 0.6851433\ttotal: 497ms\tremaining: 448ms\n",
      "75:\tlearn: 0.6833310\ttotal: 741ms\tremaining: 205ms\n",
      "96:\tlearn: 0.6820025\ttotal: 939ms\tremaining: 0us\n",
      "0:\tlearn: 0.6908969\ttotal: 10.6ms\tremaining: 1.01s\n",
      "25:\tlearn: 0.6874120\ttotal: 259ms\tremaining: 707ms\n",
      "50:\tlearn: 0.6854202\ttotal: 506ms\tremaining: 456ms\n",
      "75:\tlearn: 0.6835376\ttotal: 773ms\tremaining: 213ms\n",
      "96:\tlearn: 0.6820631\ttotal: 983ms\tremaining: 0us\n",
      "0:\tlearn: 0.6907925\ttotal: 14.5ms\tremaining: 1.39s\n",
      "25:\tlearn: 0.6872402\ttotal: 263ms\tremaining: 718ms\n",
      "50:\tlearn: 0.6851133\ttotal: 505ms\tremaining: 456ms\n",
      "75:\tlearn: 0.6832949\ttotal: 750ms\tremaining: 207ms\n",
      "96:\tlearn: 0.6819065\ttotal: 963ms\tremaining: 0us\n",
      "0:\tlearn: 0.6909080\ttotal: 12.1ms\tremaining: 1.16s\n",
      "25:\tlearn: 0.6875005\ttotal: 256ms\tremaining: 698ms\n",
      "50:\tlearn: 0.6854713\ttotal: 493ms\tremaining: 445ms\n",
      "75:\tlearn: 0.6837293\ttotal: 741ms\tremaining: 205ms\n"
     ]
    },
    {
     "name": "stderr",
     "output_type": "stream",
     "text": [
      "2022-03-25 16:35:23 mean cv_value 0.05748376407296676 | std cv_value 0.029562432749807917 \n",
      "2022-03-25 16:35:23 ---------------------------------------------\n",
      "2022-03-25 16:35:23 [TRAIN_MODEL] Training model\n",
      "2022-03-25 16:35:23 Set of params....., {'depth': 13, 'iterations': 65, 'learning_rate': 0.008152159231325222, 'score_function': 'L2'}\n"
     ]
    },
    {
     "name": "stdout",
     "output_type": "stream",
     "text": [
      "96:\tlearn: 0.6824162\ttotal: 945ms\tremaining: 0us\n",
      "Iteration No: 4 ended. Evaluation done at random point.\n",
      "Time taken: 5.8440\n",
      "Function value obtained: -0.0575\n",
      "Current minimum: -0.0575\n",
      "Iteration No: 5 started. Evaluating function at random point.\n",
      "0:\tlearn: 0.6927240\ttotal: 300ms\tremaining: 19.2s\n",
      "25:\tlearn: 0.6833859\ttotal: 7.62s\tremaining: 11.4s\n",
      "50:\tlearn: 0.6751987\ttotal: 14.8s\tremaining: 4.05s\n",
      "64:\tlearn: 0.6709073\ttotal: 18.8s\tremaining: 0us\n",
      "0:\tlearn: 0.6926523\ttotal: 287ms\tremaining: 18.3s\n",
      "25:\tlearn: 0.6828798\ttotal: 7.34s\tremaining: 11s\n",
      "50:\tlearn: 0.6741678\ttotal: 14.4s\tremaining: 3.95s\n",
      "64:\tlearn: 0.6697386\ttotal: 18.4s\tremaining: 0us\n",
      "0:\tlearn: 0.6927191\ttotal: 299ms\tremaining: 19.2s\n",
      "25:\tlearn: 0.6825531\ttotal: 7.45s\tremaining: 11.2s\n",
      "50:\tlearn: 0.6739348\ttotal: 14.2s\tremaining: 3.9s\n",
      "64:\tlearn: 0.6694278\ttotal: 18.1s\tremaining: 0us\n",
      "0:\tlearn: 0.6926958\ttotal: 296ms\tremaining: 18.9s\n",
      "25:\tlearn: 0.6823240\ttotal: 7.63s\tremaining: 11.4s\n",
      "50:\tlearn: 0.6733661\ttotal: 14.6s\tremaining: 4.01s\n",
      "64:\tlearn: 0.6690698\ttotal: 18.3s\tremaining: 0us\n",
      "0:\tlearn: 0.6928168\ttotal: 284ms\tremaining: 18.1s\n",
      "25:\tlearn: 0.6832658\ttotal: 7.08s\tremaining: 10.6s\n",
      "50:\tlearn: 0.6744427\ttotal: 13.8s\tremaining: 3.79s\n"
     ]
    },
    {
     "name": "stderr",
     "output_type": "stream",
     "text": [
      "2022-03-25 16:36:55 mean cv_value 0.04658435371322518 | std cv_value 0.027054603294131806 \n",
      "2022-03-25 16:36:55 ---------------------------------------------\n",
      "2022-03-25 16:36:55 [TRAIN_MODEL] Training model\n",
      "2022-03-25 16:36:55 Set of params....., {'depth': 11, 'iterations': 90, 'learning_rate': 0.0031285746700449165, 'score_function': 'L2'}\n"
     ]
    },
    {
     "name": "stdout",
     "output_type": "stream",
     "text": [
      "64:\tlearn: 0.6701942\ttotal: 17.5s\tremaining: 0us\n",
      "Iteration No: 5 ended. Evaluation done at random point.\n",
      "Time taken: 92.5033\n",
      "Function value obtained: -0.0466\n",
      "Current minimum: -0.0575\n",
      "Iteration No: 6 started. Evaluating function at random point.\n",
      "0:\tlearn: 0.6930735\ttotal: 99.5ms\tremaining: 8.85s\n",
      "25:\tlearn: 0.6912940\ttotal: 2.45s\tremaining: 6.03s\n",
      "50:\tlearn: 0.6896235\ttotal: 4.78s\tremaining: 3.65s\n",
      "75:\tlearn: 0.6880800\ttotal: 7.09s\tremaining: 1.31s\n",
      "89:\tlearn: 0.6872133\ttotal: 8.39s\tremaining: 0us\n",
      "0:\tlearn: 0.6930588\ttotal: 95.2ms\tremaining: 8.47s\n",
      "25:\tlearn: 0.6911516\ttotal: 2.47s\tremaining: 6.09s\n",
      "50:\tlearn: 0.6893691\ttotal: 4.82s\tremaining: 3.68s\n",
      "75:\tlearn: 0.6877231\ttotal: 7.13s\tremaining: 1.31s\n",
      "89:\tlearn: 0.6868292\ttotal: 8.41s\tremaining: 0us\n",
      "0:\tlearn: 0.6930711\ttotal: 92.3ms\tremaining: 8.21s\n",
      "25:\tlearn: 0.6911177\ttotal: 2.43s\tremaining: 5.99s\n",
      "50:\tlearn: 0.6892572\ttotal: 4.79s\tremaining: 3.66s\n",
      "75:\tlearn: 0.6876418\ttotal: 7.11s\tremaining: 1.31s\n",
      "89:\tlearn: 0.6867420\ttotal: 8.39s\tremaining: 0us\n",
      "0:\tlearn: 0.6930676\ttotal: 95ms\tremaining: 8.45s\n",
      "25:\tlearn: 0.6912045\ttotal: 2.43s\tremaining: 5.98s\n",
      "50:\tlearn: 0.6894167\ttotal: 4.75s\tremaining: 3.63s\n",
      "75:\tlearn: 0.6877177\ttotal: 7.07s\tremaining: 1.3s\n",
      "89:\tlearn: 0.6867874\ttotal: 8.36s\tremaining: 0us\n",
      "0:\tlearn: 0.6930831\ttotal: 88.9ms\tremaining: 7.92s\n",
      "25:\tlearn: 0.6913282\ttotal: 2.38s\tremaining: 5.86s\n",
      "50:\tlearn: 0.6896339\ttotal: 4.66s\tremaining: 3.57s\n",
      "75:\tlearn: 0.6880024\ttotal: 6.95s\tremaining: 1.28s\n"
     ]
    },
    {
     "name": "stderr",
     "output_type": "stream",
     "text": [
      "2022-03-25 16:37:38 mean cv_value 0.04054420579872561 | std cv_value 0.03263600003630114 \n",
      "2022-03-25 16:37:38 ---------------------------------------------\n",
      "2022-03-25 16:37:38 [TRAIN_MODEL] Training model\n",
      "2022-03-25 16:37:38 Set of params....., {'depth': 4, 'iterations': 90, 'learning_rate': 0.001592914128830294, 'score_function': 'Cosine'}\n"
     ]
    },
    {
     "name": "stdout",
     "output_type": "stream",
     "text": [
      "89:\tlearn: 0.6870914\ttotal: 8.23s\tremaining: 0us\n",
      "Iteration No: 6 ended. Evaluation done at random point.\n",
      "Time taken: 42.9963\n",
      "Function value obtained: -0.0405\n",
      "Current minimum: -0.0575\n",
      "Iteration No: 7 started. Evaluating function at random point.\n",
      "0:\tlearn: 0.6931392\ttotal: 22.1ms\tremaining: 1.97s\n",
      "25:\tlearn: 0.6929483\ttotal: 293ms\tremaining: 721ms\n",
      "50:\tlearn: 0.6927768\ttotal: 558ms\tremaining: 426ms\n",
      "75:\tlearn: 0.6926133\ttotal: 821ms\tremaining: 151ms\n",
      "89:\tlearn: 0.6925280\ttotal: 974ms\tremaining: 0us\n",
      "0:\tlearn: 0.6931387\ttotal: 15.6ms\tremaining: 1.39s\n",
      "25:\tlearn: 0.6929524\ttotal: 288ms\tremaining: 708ms\n",
      "50:\tlearn: 0.6927826\ttotal: 555ms\tremaining: 424ms\n",
      "75:\tlearn: 0.6926194\ttotal: 826ms\tremaining: 152ms\n",
      "89:\tlearn: 0.6925329\ttotal: 974ms\tremaining: 0us\n",
      "0:\tlearn: 0.6931395\ttotal: 12.1ms\tremaining: 1.08s\n",
      "25:\tlearn: 0.6929636\ttotal: 293ms\tremaining: 721ms\n",
      "50:\tlearn: 0.6927939\ttotal: 557ms\tremaining: 426ms\n",
      "75:\tlearn: 0.6926409\ttotal: 823ms\tremaining: 152ms\n",
      "89:\tlearn: 0.6925562\ttotal: 968ms\tremaining: 0us\n",
      "0:\tlearn: 0.6931392\ttotal: 12.2ms\tremaining: 1.08s\n",
      "25:\tlearn: 0.6929597\ttotal: 291ms\tremaining: 716ms\n",
      "50:\tlearn: 0.6927924\ttotal: 567ms\tremaining: 434ms\n",
      "75:\tlearn: 0.6926331\ttotal: 849ms\tremaining: 156ms\n",
      "89:\tlearn: 0.6925442\ttotal: 999ms\tremaining: 0us\n",
      "0:\tlearn: 0.6931391\ttotal: 11.7ms\tremaining: 1.04s\n",
      "25:\tlearn: 0.6929605\ttotal: 274ms\tremaining: 674ms\n",
      "50:\tlearn: 0.6927998\ttotal: 534ms\tremaining: 408ms\n",
      "75:\tlearn: 0.6926391\ttotal: 797ms\tremaining: 147ms\n",
      "89:\tlearn: 0.6925562\ttotal: 949ms\tremaining: 0us\n"
     ]
    },
    {
     "name": "stderr",
     "output_type": "stream",
     "text": [
      "2022-03-25 16:37:44 mean cv_value 0.05518174953171042 | std cv_value 0.021873039116939726 \n",
      "2022-03-25 16:37:44 ---------------------------------------------\n",
      "2022-03-25 16:37:44 [TRAIN_MODEL] Training model\n",
      "2022-03-25 16:37:44 Set of params....., {'depth': 1, 'iterations': 45, 'learning_rate': 0.0016984369435059533, 'score_function': 'Cosine'}\n"
     ]
    },
    {
     "name": "stdout",
     "output_type": "stream",
     "text": [
      "Iteration No: 7 ended. Evaluation done at random point.\n",
      "Time taken: 5.8948\n",
      "Function value obtained: -0.0552\n",
      "Current minimum: -0.0575\n",
      "Iteration No: 8 started. Evaluating function at random point.\n",
      "0:\tlearn: 0.6931415\ttotal: 9.66ms\tremaining: 425ms\n",
      "25:\tlearn: 0.6930071\ttotal: 202ms\tremaining: 148ms\n",
      "44:\tlearn: 0.6929117\ttotal: 343ms\tremaining: 0us\n",
      "0:\tlearn: 0.6931418\ttotal: 8.75ms\tremaining: 385ms\n",
      "25:\tlearn: 0.6930169\ttotal: 200ms\tremaining: 146ms\n",
      "44:\tlearn: 0.6929326\ttotal: 343ms\tremaining: 0us\n",
      "0:\tlearn: 0.6931418\ttotal: 8.49ms\tremaining: 374ms\n",
      "25:\tlearn: 0.6930203\ttotal: 194ms\tremaining: 142ms\n",
      "44:\tlearn: 0.6929329\ttotal: 338ms\tremaining: 0us\n",
      "0:\tlearn: 0.6931413\ttotal: 8.88ms\tremaining: 391ms\n",
      "25:\tlearn: 0.6930043\ttotal: 193ms\tremaining: 141ms\n",
      "44:\tlearn: 0.6929070\ttotal: 332ms\tremaining: 0us\n",
      "0:\tlearn: 0.6931421\ttotal: 8.8ms\tremaining: 387ms\n"
     ]
    },
    {
     "name": "stderr",
     "output_type": "stream",
     "text": [
      "2022-03-25 16:37:47 mean cv_value 0.038421324113771825 | std cv_value 0.015231967974957204 \n",
      "2022-03-25 16:37:47 ---------------------------------------------\n",
      "2022-03-25 16:37:47 [TRAIN_MODEL] Training model\n"
     ]
    },
    {
     "name": "stdout",
     "output_type": "stream",
     "text": [
      "25:\tlearn: 0.6930208\ttotal: 198ms\tremaining: 144ms\n",
      "44:\tlearn: 0.6929354\ttotal: 338ms\tremaining: 0us\n",
      "Iteration No: 8 ended. Evaluation done at random point.\n",
      "Time taken: 2.6769\n",
      "Function value obtained: -0.0384\n",
      "Current minimum: -0.0575\n",
      "Iteration No: 9 started. Evaluating function at random point.\n"
     ]
    },
    {
     "name": "stderr",
     "output_type": "stream",
     "text": [
      "2022-03-25 16:37:47 Set of params....., {'depth': 11, 'iterations': 98, 'learning_rate': 0.3597396474597958, 'score_function': 'Cosine'}\n"
     ]
    },
    {
     "name": "stdout",
     "output_type": "stream",
     "text": [
      "0:\tlearn: 0.6891081\ttotal: 84.6ms\tremaining: 8.2s\n",
      "25:\tlearn: 0.6376367\ttotal: 2.29s\tremaining: 6.33s\n",
      "50:\tlearn: 0.5920601\ttotal: 4.41s\tremaining: 4.07s\n",
      "75:\tlearn: 0.5550925\ttotal: 6.49s\tremaining: 1.88s\n",
      "97:\tlearn: 0.5215089\ttotal: 8.37s\tremaining: 0us\n",
      "0:\tlearn: 0.6889115\ttotal: 89.2ms\tremaining: 8.65s\n",
      "25:\tlearn: 0.6387799\ttotal: 2.18s\tremaining: 6.04s\n",
      "50:\tlearn: 0.5948464\ttotal: 4.28s\tremaining: 3.95s\n",
      "75:\tlearn: 0.5564454\ttotal: 6.37s\tremaining: 1.84s\n",
      "97:\tlearn: 0.5260119\ttotal: 8.22s\tremaining: 0us\n",
      "0:\tlearn: 0.6889619\ttotal: 84.6ms\tremaining: 8.2s\n",
      "25:\tlearn: 0.6379400\ttotal: 2.17s\tremaining: 6s\n",
      "50:\tlearn: 0.5953200\ttotal: 4.28s\tremaining: 3.94s\n",
      "75:\tlearn: 0.5536884\ttotal: 6.38s\tremaining: 1.85s\n",
      "97:\tlearn: 0.5270937\ttotal: 8.19s\tremaining: 0us\n",
      "0:\tlearn: 0.6888902\ttotal: 84.1ms\tremaining: 8.16s\n",
      "25:\tlearn: 0.6398318\ttotal: 2.1s\tremaining: 5.82s\n",
      "50:\tlearn: 0.5974272\ttotal: 4.22s\tremaining: 3.88s\n",
      "75:\tlearn: 0.5575214\ttotal: 6.32s\tremaining: 1.83s\n",
      "97:\tlearn: 0.5242197\ttotal: 8.17s\tremaining: 0us\n",
      "0:\tlearn: 0.6881758\ttotal: 86.7ms\tremaining: 8.41s\n",
      "25:\tlearn: 0.6366209\ttotal: 2.2s\tremaining: 6.1s\n",
      "50:\tlearn: 0.5903339\ttotal: 4.33s\tremaining: 3.99s\n",
      "75:\tlearn: 0.5541524\ttotal: 6.43s\tremaining: 1.86s\n"
     ]
    },
    {
     "name": "stderr",
     "output_type": "stream",
     "text": [
      "2022-03-25 16:38:29 mean cv_value 0.022560742049220754 | std cv_value 0.011417256748443738 \n",
      "2022-03-25 16:38:29 ---------------------------------------------\n",
      "2022-03-25 16:38:29 [TRAIN_MODEL] Training model\n",
      "2022-03-25 16:38:29 Set of params....., {'depth': 9, 'iterations': 90, 'learning_rate': 0.47318601628619106, 'score_function': 'Cosine'}\n"
     ]
    },
    {
     "name": "stdout",
     "output_type": "stream",
     "text": [
      "97:\tlearn: 0.5224617\ttotal: 8.29s\tremaining: 0us\n",
      "Iteration No: 9 ended. Evaluation done at random point.\n",
      "Time taken: 42.4358\n",
      "Function value obtained: -0.0226\n",
      "Current minimum: -0.0575\n",
      "Iteration No: 10 started. Evaluating function at random point.\n",
      "0:\tlearn: 0.6898454\ttotal: 49.2ms\tremaining: 4.38s\n",
      "25:\tlearn: 0.6666817\ttotal: 889ms\tremaining: 2.19s\n",
      "50:\tlearn: 0.6407527\ttotal: 1.74s\tremaining: 1.33s\n",
      "75:\tlearn: 0.6160382\ttotal: 2.6s\tremaining: 479ms\n",
      "89:\tlearn: 0.6035246\ttotal: 3.08s\tremaining: 0us\n",
      "0:\tlearn: 0.6897989\ttotal: 39.3ms\tremaining: 3.5s\n",
      "25:\tlearn: 0.6635127\ttotal: 845ms\tremaining: 2.08s\n",
      "50:\tlearn: 0.6353611\ttotal: 1.7s\tremaining: 1.3s\n",
      "75:\tlearn: 0.6126537\ttotal: 2.54s\tremaining: 468ms\n",
      "89:\tlearn: 0.5997331\ttotal: 3.02s\tremaining: 0us\n",
      "0:\tlearn: 0.6899009\ttotal: 37.6ms\tremaining: 3.35s\n",
      "25:\tlearn: 0.6655260\ttotal: 861ms\tremaining: 2.12s\n",
      "50:\tlearn: 0.6403101\ttotal: 1.7s\tremaining: 1.3s\n",
      "75:\tlearn: 0.6169286\ttotal: 2.57s\tremaining: 474ms\n",
      "89:\tlearn: 0.6053450\ttotal: 3.04s\tremaining: 0us\n",
      "0:\tlearn: 0.6897454\ttotal: 40.7ms\tremaining: 3.62s\n",
      "25:\tlearn: 0.6644968\ttotal: 850ms\tremaining: 2.09s\n",
      "50:\tlearn: 0.6388814\ttotal: 1.69s\tremaining: 1.29s\n",
      "75:\tlearn: 0.6144699\ttotal: 2.55s\tremaining: 469ms\n",
      "89:\tlearn: 0.6019603\ttotal: 3.03s\tremaining: 0us\n",
      "0:\tlearn: 0.6894978\ttotal: 37.9ms\tremaining: 3.37s\n",
      "25:\tlearn: 0.6651821\ttotal: 845ms\tremaining: 2.08s\n",
      "50:\tlearn: 0.6388598\ttotal: 1.71s\tremaining: 1.31s\n",
      "75:\tlearn: 0.6149171\ttotal: 2.56s\tremaining: 472ms\n"
     ]
    },
    {
     "name": "stderr",
     "output_type": "stream",
     "text": [
      "2022-03-25 16:38:46 mean cv_value 0.0393951505127952 | std cv_value 0.006830126108882107 \n",
      "2022-03-25 16:38:46 ---------------------------------------------\n",
      "2022-03-25 16:38:46 [TRAIN_MODEL] Training model\n",
      "2022-03-25 16:38:46 Set of params....., {'depth': 6, 'iterations': 81, 'learning_rate': 0.43009968743773286, 'score_function': 'Cosine'}\n"
     ]
    },
    {
     "name": "stdout",
     "output_type": "stream",
     "text": [
      "89:\tlearn: 0.6027068\ttotal: 3.03s\tremaining: 0us\n",
      "Iteration No: 10 ended. Evaluation done at random point.\n",
      "Time taken: 16.2970\n",
      "Function value obtained: -0.0394\n",
      "Current minimum: -0.0575\n",
      "Iteration No: 11 started. Evaluating function at random point.\n",
      "0:\tlearn: 0.6911989\ttotal: 16.7ms\tremaining: 1.34s\n",
      "25:\tlearn: 0.6841651\ttotal: 414ms\tremaining: 875ms\n",
      "50:\tlearn: 0.6774538\ttotal: 805ms\tremaining: 473ms\n",
      "75:\tlearn: 0.6709991\ttotal: 1.2s\tremaining: 78.9ms\n",
      "80:\tlearn: 0.6697849\ttotal: 1.28s\tremaining: 0us\n",
      "0:\tlearn: 0.6911128\ttotal: 16.3ms\tremaining: 1.3s\n",
      "25:\tlearn: 0.6849995\ttotal: 407ms\tremaining: 861ms\n",
      "50:\tlearn: 0.6781469\ttotal: 808ms\tremaining: 475ms\n",
      "75:\tlearn: 0.6713546\ttotal: 1.22s\tremaining: 80.1ms\n",
      "80:\tlearn: 0.6702678\ttotal: 1.29s\tremaining: 0us\n",
      "0:\tlearn: 0.6911863\ttotal: 15.4ms\tremaining: 1.23s\n",
      "25:\tlearn: 0.6850380\ttotal: 407ms\tremaining: 862ms\n",
      "50:\tlearn: 0.6785813\ttotal: 796ms\tremaining: 468ms\n",
      "75:\tlearn: 0.6719950\ttotal: 1.2s\tremaining: 78.8ms\n",
      "80:\tlearn: 0.6708991\ttotal: 1.28s\tremaining: 0us\n",
      "0:\tlearn: 0.6912396\ttotal: 15.1ms\tremaining: 1.21s\n",
      "25:\tlearn: 0.6847315\ttotal: 408ms\tremaining: 864ms\n",
      "50:\tlearn: 0.6778199\ttotal: 806ms\tremaining: 474ms\n",
      "75:\tlearn: 0.6709711\ttotal: 1.21s\tremaining: 79.4ms\n",
      "80:\tlearn: 0.6700480\ttotal: 1.29s\tremaining: 0us\n",
      "0:\tlearn: 0.6910992\ttotal: 17.8ms\tremaining: 1.42s\n",
      "25:\tlearn: 0.6846696\ttotal: 407ms\tremaining: 861ms\n",
      "50:\tlearn: 0.6779100\ttotal: 800ms\tremaining: 470ms\n"
     ]
    },
    {
     "name": "stderr",
     "output_type": "stream",
     "text": [
      "2022-03-25 16:38:53 mean cv_value 0.059303947755341424 | std cv_value 0.025596032959499932 \n",
      "2022-03-25 16:38:53 ---------------------------------------------\n",
      "2022-03-25 16:38:53 [TRAIN_MODEL] Training model\n",
      "2022-03-25 16:38:53 Set of params....., {'depth': 10, 'iterations': 87, 'learning_rate': 0.5821734154088501, 'score_function': 'Cosine'}\n"
     ]
    },
    {
     "name": "stdout",
     "output_type": "stream",
     "text": [
      "75:\tlearn: 0.6716821\ttotal: 1.19s\tremaining: 78.4ms\n",
      "80:\tlearn: 0.6704575\ttotal: 1.27s\tremaining: 0us\n",
      "Iteration No: 11 ended. Evaluation done at random point.\n",
      "Time taken: 7.4739\n",
      "Function value obtained: -0.0593\n",
      "Current minimum: -0.0593\n",
      "Iteration No: 12 started. Evaluating function at random point.\n",
      "0:\tlearn: 0.6888415\ttotal: 74.4ms\tremaining: 6.4s\n",
      "25:\tlearn: 0.6446860\ttotal: 1.49s\tremaining: 3.5s\n",
      "50:\tlearn: 0.6003230\ttotal: 2.92s\tremaining: 2.06s\n",
      "75:\tlearn: 0.5609031\ttotal: 4.34s\tremaining: 628ms\n",
      "86:\tlearn: 0.5460099\ttotal: 4.97s\tremaining: 0us\n",
      "0:\tlearn: 0.6887923\ttotal: 58.6ms\tremaining: 5.04s\n",
      "25:\tlearn: 0.6415143\ttotal: 1.48s\tremaining: 3.47s\n",
      "50:\tlearn: 0.5936718\ttotal: 2.9s\tremaining: 2.05s\n",
      "75:\tlearn: 0.5578455\ttotal: 4.31s\tremaining: 623ms\n",
      "86:\tlearn: 0.5410521\ttotal: 4.94s\tremaining: 0us\n",
      "0:\tlearn: 0.6888839\ttotal: 57.7ms\tremaining: 4.96s\n",
      "25:\tlearn: 0.6381395\ttotal: 1.49s\tremaining: 3.5s\n",
      "50:\tlearn: 0.5962782\ttotal: 2.91s\tremaining: 2.05s\n",
      "75:\tlearn: 0.5576910\ttotal: 4.32s\tremaining: 626ms\n",
      "86:\tlearn: 0.5428908\ttotal: 4.94s\tremaining: 0us\n",
      "0:\tlearn: 0.6887842\ttotal: 58.8ms\tremaining: 5.05s\n",
      "25:\tlearn: 0.6388428\ttotal: 1.49s\tremaining: 3.49s\n",
      "50:\tlearn: 0.5968029\ttotal: 2.9s\tremaining: 2.04s\n",
      "75:\tlearn: 0.5567953\ttotal: 4.31s\tremaining: 623ms\n",
      "86:\tlearn: 0.5426148\ttotal: 4.92s\tremaining: 0us\n",
      "0:\tlearn: 0.6882089\ttotal: 60.1ms\tremaining: 5.17s\n",
      "25:\tlearn: 0.6449545\ttotal: 1.47s\tremaining: 3.45s\n",
      "50:\tlearn: 0.5979069\ttotal: 2.94s\tremaining: 2.08s\n",
      "75:\tlearn: 0.5610016\ttotal: 4.35s\tremaining: 629ms\n"
     ]
    },
    {
     "name": "stderr",
     "output_type": "stream",
     "text": [
      "2022-03-25 16:39:19 mean cv_value 0.026281949327015892 | std cv_value 0.02802005505062342 \n",
      "2022-03-25 16:39:19 ---------------------------------------------\n",
      "2022-03-25 16:39:19 [TRAIN_MODEL] Training model\n",
      "2022-03-25 16:39:19 Set of params....., {'depth': 9, 'iterations': 46, 'learning_rate': 0.009465545453221135, 'score_function': 'L2'}\n"
     ]
    },
    {
     "name": "stdout",
     "output_type": "stream",
     "text": [
      "86:\tlearn: 0.5492669\ttotal: 4.96s\tremaining: 0us\n",
      "Iteration No: 12 ended. Evaluation done at random point.\n",
      "Time taken: 25.8609\n",
      "Function value obtained: -0.0263\n",
      "Current minimum: -0.0593\n",
      "Iteration No: 13 started. Evaluating function at random point.\n",
      "0:\tlearn: 0.6930354\ttotal: 65.1ms\tremaining: 2.93s\n",
      "25:\tlearn: 0.6905859\ttotal: 1.02s\tremaining: 785ms\n",
      "45:\tlearn: 0.6889188\ttotal: 1.77s\tremaining: 0us\n",
      "0:\tlearn: 0.6930276\ttotal: 47ms\tremaining: 2.11s\n",
      "25:\tlearn: 0.6904634\ttotal: 1.01s\tremaining: 774ms\n",
      "45:\tlearn: 0.6888103\ttotal: 1.77s\tremaining: 0us\n",
      "0:\tlearn: 0.6930299\ttotal: 39.3ms\tremaining: 1.77s\n",
      "25:\tlearn: 0.6905312\ttotal: 1.01s\tremaining: 777ms\n",
      "45:\tlearn: 0.6888435\ttotal: 1.78s\tremaining: 0us\n",
      "0:\tlearn: 0.6930296\ttotal: 40.9ms\tremaining: 1.84s\n",
      "25:\tlearn: 0.6905082\ttotal: 1s\tremaining: 772ms\n",
      "45:\tlearn: 0.6888575\ttotal: 1.76s\tremaining: 0us\n",
      "0:\tlearn: 0.6930432\ttotal: 38.1ms\tremaining: 1.72s\n",
      "25:\tlearn: 0.6905159\ttotal: 987ms\tremaining: 759ms\n"
     ]
    },
    {
     "name": "stderr",
     "output_type": "stream",
     "text": [
      "2022-03-25 16:39:29 mean cv_value 0.04898079972052352 | std cv_value 0.028527049980213624 \n",
      "2022-03-25 16:39:29 ---------------------------------------------\n",
      "2022-03-25 16:39:29 [TRAIN_MODEL] Training model\n",
      "2022-03-25 16:39:29 Set of params....., {'depth': 11, 'iterations': 35, 'learning_rate': 0.0026253640830800015, 'score_function': 'L2'}\n"
     ]
    },
    {
     "name": "stdout",
     "output_type": "stream",
     "text": [
      "45:\tlearn: 0.6889179\ttotal: 1.74s\tremaining: 0us\n",
      "Iteration No: 13 ended. Evaluation done at random point.\n",
      "Time taken: 9.8801\n",
      "Function value obtained: -0.0490\n",
      "Current minimum: -0.0593\n",
      "Iteration No: 14 started. Evaluating function at random point.\n",
      "0:\tlearn: 0.6930853\ttotal: 118ms\tremaining: 4.02s\n",
      "25:\tlearn: 0.6915899\ttotal: 2.46s\tremaining: 853ms\n",
      "34:\tlearn: 0.6910693\ttotal: 3.31s\tremaining: 0us\n",
      "0:\tlearn: 0.6930730\ttotal: 99.4ms\tremaining: 3.38s\n",
      "25:\tlearn: 0.6914663\ttotal: 2.46s\tremaining: 850ms\n",
      "34:\tlearn: 0.6909007\ttotal: 3.29s\tremaining: 0us\n",
      "0:\tlearn: 0.6930833\ttotal: 91.5ms\tremaining: 3.11s\n",
      "25:\tlearn: 0.6914206\ttotal: 2.47s\tremaining: 856ms\n",
      "34:\tlearn: 0.6908400\ttotal: 3.32s\tremaining: 0us\n",
      "0:\tlearn: 0.6930804\ttotal: 90.5ms\tremaining: 3.08s\n",
      "25:\tlearn: 0.6914954\ttotal: 2.43s\tremaining: 841ms\n",
      "34:\tlearn: 0.6909341\ttotal: 3.27s\tremaining: 0us\n",
      "0:\tlearn: 0.6930934\ttotal: 90.7ms\tremaining: 3.08s\n",
      "25:\tlearn: 0.6916229\ttotal: 2.39s\tremaining: 829ms\n"
     ]
    },
    {
     "name": "stderr",
     "output_type": "stream",
     "text": [
      "2022-03-25 16:39:46 mean cv_value 0.040122297485422134 | std cv_value 0.033104758447485075 \n",
      "2022-03-25 16:39:46 ---------------------------------------------\n",
      "2022-03-25 16:39:46 [TRAIN_MODEL] Training model\n",
      "2022-03-25 16:39:46 Set of params....., {'depth': 1, 'iterations': 56, 'learning_rate': 0.00461017640545959, 'score_function': 'Cosine'}\n"
     ]
    },
    {
     "name": "stdout",
     "output_type": "stream",
     "text": [
      "34:\tlearn: 0.6911242\ttotal: 3.21s\tremaining: 0us\n",
      "Iteration No: 14 ended. Evaluation done at random point.\n",
      "Time taken: 17.4721\n",
      "Function value obtained: -0.0401\n",
      "Current minimum: -0.0593\n",
      "Iteration No: 15 started. Evaluating function at random point.\n",
      "0:\tlearn: 0.6931317\ttotal: 9ms\tremaining: 495ms\n",
      "25:\tlearn: 0.6928062\ttotal: 196ms\tremaining: 226ms\n",
      "50:\tlearn: 0.6925465\ttotal: 380ms\tremaining: 37.3ms\n",
      "55:\tlearn: 0.6925020\ttotal: 419ms\tremaining: 0us\n",
      "0:\tlearn: 0.6931327\ttotal: 8.8ms\tremaining: 484ms\n",
      "25:\tlearn: 0.6928237\ttotal: 193ms\tremaining: 223ms\n",
      "50:\tlearn: 0.6925827\ttotal: 383ms\tremaining: 37.5ms\n",
      "55:\tlearn: 0.6925389\ttotal: 421ms\tremaining: 0us\n",
      "0:\tlearn: 0.6931327\ttotal: 8.55ms\tremaining: 470ms\n",
      "25:\tlearn: 0.6928099\ttotal: 195ms\tremaining: 225ms\n",
      "50:\tlearn: 0.6925658\ttotal: 386ms\tremaining: 37.8ms\n",
      "55:\tlearn: 0.6925203\ttotal: 424ms\tremaining: 0us\n",
      "0:\tlearn: 0.6931314\ttotal: 10.2ms\tremaining: 560ms\n",
      "25:\tlearn: 0.6927868\ttotal: 195ms\tremaining: 225ms\n",
      "50:\tlearn: 0.6925270\ttotal: 382ms\tremaining: 37.5ms\n",
      "55:\tlearn: 0.6924764\ttotal: 420ms\tremaining: 0us\n",
      "0:\tlearn: 0.6931333\ttotal: 8.79ms\tremaining: 484ms\n",
      "25:\tlearn: 0.6928275\ttotal: 201ms\tremaining: 232ms\n"
     ]
    },
    {
     "name": "stderr",
     "output_type": "stream",
     "text": [
      "2022-03-25 16:39:49 mean cv_value 0.043930003630235546 | std cv_value 0.016062907853767697 \n",
      "2022-03-25 16:39:49 ---------------------------------------------\n",
      "2022-03-25 16:39:49 [TRAIN_MODEL] Training model\n",
      "2022-03-25 16:39:49 Set of params....., {'depth': 12, 'iterations': 14, 'learning_rate': 0.04232017548827681, 'score_function': 'Cosine'}\n"
     ]
    },
    {
     "name": "stdout",
     "output_type": "stream",
     "text": [
      "50:\tlearn: 0.6926058\ttotal: 393ms\tremaining: 38.5ms\n",
      "55:\tlearn: 0.6925610\ttotal: 431ms\tremaining: 0us\n",
      "Iteration No: 15 ended. Evaluation done at random point.\n",
      "Time taken: 3.0828\n",
      "Function value obtained: -0.0439\n",
      "Current minimum: -0.0593\n",
      "Iteration No: 16 started. Evaluating function at random point.\n",
      "0:\tlearn: 0.6923488\ttotal: 186ms\tremaining: 2.42s\n",
      "13:\tlearn: 0.6806511\ttotal: 2.44s\tremaining: 0us\n",
      "0:\tlearn: 0.6922538\ttotal: 168ms\tremaining: 2.18s\n",
      "13:\tlearn: 0.6829869\ttotal: 2.02s\tremaining: 0us\n",
      "0:\tlearn: 0.6922817\ttotal: 154ms\tremaining: 2s\n",
      "13:\tlearn: 0.6826304\ttotal: 2.1s\tremaining: 0us\n",
      "0:\tlearn: 0.6923017\ttotal: 163ms\tremaining: 2.12s\n",
      "13:\tlearn: 0.6817310\ttotal: 2.2s\tremaining: 0us\n",
      "0:\tlearn: 0.6920630\ttotal: 167ms\tremaining: 2.17s\n"
     ]
    },
    {
     "name": "stderr",
     "output_type": "stream",
     "text": [
      "2022-03-25 16:40:01 mean cv_value 0.056991722031343214 | std cv_value 0.028545803391740017 \n",
      "2022-03-25 16:40:01 ---------------------------------------------\n",
      "2022-03-25 16:40:01 [TRAIN_MODEL] Training model\n",
      "2022-03-25 16:40:01 Set of params....., {'depth': 3, 'iterations': 13, 'learning_rate': 0.0017441911263397201, 'score_function': 'L2'}\n"
     ]
    },
    {
     "name": "stdout",
     "output_type": "stream",
     "text": [
      "13:\tlearn: 0.6822746\ttotal: 2.12s\tremaining: 0us\n",
      "Iteration No: 16 ended. Evaluation done at random point.\n",
      "Time taken: 11.9435\n",
      "Function value obtained: -0.0570\n",
      "Current minimum: -0.0593\n",
      "Iteration No: 17 started. Evaluating function at random point.\n",
      "0:\tlearn: 0.6931378\ttotal: 22ms\tremaining: 264ms\n",
      "12:\tlearn: 0.6930281\ttotal: 137ms\tremaining: 0us\n",
      "0:\tlearn: 0.6931380\ttotal: 14.2ms\tremaining: 170ms\n",
      "12:\tlearn: 0.6930300\ttotal: 127ms\tremaining: 0us\n",
      "0:\tlearn: 0.6931384\ttotal: 11ms\tremaining: 132ms\n",
      "12:\tlearn: 0.6930356\ttotal: 132ms\tremaining: 0us\n",
      "0:\tlearn: 0.6931380\ttotal: 10.9ms\tremaining: 131ms\n",
      "12:\tlearn: 0.6930304\ttotal: 128ms\tremaining: 0us\n"
     ]
    },
    {
     "name": "stderr",
     "output_type": "stream",
     "text": [
      "2022-03-25 16:40:03 mean cv_value 0.045065028318793235 | std cv_value 0.019113124168424415 \n",
      "2022-03-25 16:40:03 ---------------------------------------------\n",
      "2022-03-25 16:40:03 [TRAIN_MODEL] Training model\n",
      "2022-03-25 16:40:03 Set of params....., {'depth': 11, 'iterations': 19, 'learning_rate': 0.2051889069768586, 'score_function': 'Cosine'}\n"
     ]
    },
    {
     "name": "stdout",
     "output_type": "stream",
     "text": [
      "0:\tlearn: 0.6931385\ttotal: 10.8ms\tremaining: 129ms\n",
      "12:\tlearn: 0.6930363\ttotal: 125ms\tremaining: 0us\n",
      "Iteration No: 17 ended. Evaluation done at random point.\n",
      "Time taken: 1.6138\n",
      "Function value obtained: -0.0451\n",
      "Current minimum: -0.0593\n",
      "Iteration No: 18 started. Evaluating function at random point.\n",
      "0:\tlearn: 0.6906038\ttotal: 90.3ms\tremaining: 1.62s\n",
      "18:\tlearn: 0.6600182\ttotal: 1.66s\tremaining: 0us\n",
      "0:\tlearn: 0.6904817\ttotal: 84.7ms\tremaining: 1.52s\n",
      "18:\tlearn: 0.6615533\ttotal: 1.5s\tremaining: 0us\n",
      "0:\tlearn: 0.6905113\ttotal: 87.8ms\tremaining: 1.58s\n",
      "18:\tlearn: 0.6618428\ttotal: 1.55s\tremaining: 0us\n",
      "0:\tlearn: 0.6904685\ttotal: 88.9ms\tremaining: 1.6s\n",
      "18:\tlearn: 0.6604369\ttotal: 1.58s\tremaining: 0us\n",
      "0:\tlearn: 0.6900146\ttotal: 85.6ms\tremaining: 1.54s\n"
     ]
    },
    {
     "name": "stderr",
     "output_type": "stream",
     "text": [
      "2022-03-25 16:40:12 mean cv_value 0.06296601154407154 | std cv_value 0.021754613934504223 \n",
      "2022-03-25 16:40:12 ---------------------------------------------\n",
      "2022-03-25 16:40:12 [TRAIN_MODEL] Training model\n",
      "2022-03-25 16:40:12 Set of params....., {'depth': 4, 'iterations': 71, 'learning_rate': 0.8824723712624222, 'score_function': 'L2'}\n"
     ]
    },
    {
     "name": "stdout",
     "output_type": "stream",
     "text": [
      "18:\tlearn: 0.6630219\ttotal: 1.55s\tremaining: 0us\n",
      "Iteration No: 18 ended. Evaluation done at random point.\n",
      "Time taken: 8.9170\n",
      "Function value obtained: -0.0630\n",
      "Current minimum: -0.0630\n",
      "Iteration No: 19 started. Evaluating function at random point.\n",
      "0:\tlearn: 0.6903131\ttotal: 12ms\tremaining: 838ms\n",
      "25:\tlearn: 0.6851414\ttotal: 296ms\tremaining: 512ms\n",
      "50:\tlearn: 0.6810852\ttotal: 581ms\tremaining: 228ms\n",
      "70:\tlearn: 0.6782790\ttotal: 802ms\tremaining: 0us\n",
      "0:\tlearn: 0.6903163\ttotal: 12.3ms\tremaining: 859ms\n",
      "25:\tlearn: 0.6846530\ttotal: 296ms\tremaining: 513ms\n",
      "50:\tlearn: 0.6804762\ttotal: 597ms\tremaining: 234ms\n",
      "70:\tlearn: 0.6774485\ttotal: 828ms\tremaining: 0us\n",
      "0:\tlearn: 0.6903885\ttotal: 12.9ms\tremaining: 902ms\n",
      "25:\tlearn: 0.6850619\ttotal: 314ms\tremaining: 544ms\n",
      "50:\tlearn: 0.6811585\ttotal: 607ms\tremaining: 238ms\n",
      "70:\tlearn: 0.6782445\ttotal: 844ms\tremaining: 0us\n",
      "0:\tlearn: 0.6903805\ttotal: 12.2ms\tremaining: 854ms\n",
      "25:\tlearn: 0.6848386\ttotal: 296ms\tremaining: 512ms\n",
      "50:\tlearn: 0.6809163\ttotal: 584ms\tremaining: 229ms\n",
      "70:\tlearn: 0.6779484\ttotal: 807ms\tremaining: 0us\n",
      "0:\tlearn: 0.6903934\ttotal: 16ms\tremaining: 1.12s\n",
      "25:\tlearn: 0.6850496\ttotal: 293ms\tremaining: 507ms\n",
      "50:\tlearn: 0.6810004\ttotal: 587ms\tremaining: 230ms\n"
     ]
    },
    {
     "name": "stderr",
     "output_type": "stream",
     "text": [
      "2022-03-25 16:40:17 mean cv_value 0.05175782644829994 | std cv_value 0.029750930324909622 \n",
      "2022-03-25 16:40:17 ---------------------------------------------\n",
      "2022-03-25 16:40:17 [TRAIN_MODEL] Training model\n",
      "2022-03-25 16:40:17 Set of params....., {'depth': 15, 'iterations': 100, 'learning_rate': 0.039203655930065605, 'score_function': 'Cosine'}\n"
     ]
    },
    {
     "name": "stdout",
     "output_type": "stream",
     "text": [
      "70:\tlearn: 0.6780659\ttotal: 822ms\tremaining: 0us\n",
      "Iteration No: 19 ended. Evaluation done at random point.\n",
      "Time taken: 5.1177\n",
      "Function value obtained: -0.0518\n",
      "Current minimum: -0.0630\n",
      "Iteration No: 20 started. Evaluating function at random point.\n",
      "0:\tlearn: 0.6909045\ttotal: 1.22s\tremaining: 2m\n",
      "25:\tlearn: 0.6435956\ttotal: 25.7s\tremaining: 1m 13s\n",
      "50:\tlearn: 0.6089316\ttotal: 50.2s\tremaining: 48.3s\n",
      "75:\tlearn: 0.5846034\ttotal: 1m 14s\tremaining: 23.6s\n",
      "99:\tlearn: 0.5699478\ttotal: 1m 38s\tremaining: 0us\n",
      "0:\tlearn: 0.6908151\ttotal: 974ms\tremaining: 1m 36s\n",
      "25:\tlearn: 0.6440207\ttotal: 24.2s\tremaining: 1m 8s\n",
      "50:\tlearn: 0.6079984\ttotal: 49.2s\tremaining: 47.2s\n",
      "75:\tlearn: 0.5858042\ttotal: 1m 13s\tremaining: 23.3s\n",
      "99:\tlearn: 0.5677099\ttotal: 1m 37s\tremaining: 0us\n",
      "0:\tlearn: 0.6907995\ttotal: 1.12s\tremaining: 1m 51s\n",
      "25:\tlearn: 0.6431568\ttotal: 24.9s\tremaining: 1m 10s\n",
      "50:\tlearn: 0.6062504\ttotal: 49.4s\tremaining: 47.5s\n",
      "75:\tlearn: 0.5821594\ttotal: 1m 14s\tremaining: 23.4s\n",
      "99:\tlearn: 0.5617276\ttotal: 1m 37s\tremaining: 0us\n",
      "0:\tlearn: 0.6908364\ttotal: 1s\tremaining: 1m 39s\n",
      "25:\tlearn: 0.6387420\ttotal: 23.7s\tremaining: 1m 7s\n",
      "50:\tlearn: 0.6054574\ttotal: 48.8s\tremaining: 46.9s\n",
      "75:\tlearn: 0.5818673\ttotal: 1m 15s\tremaining: 23.7s\n",
      "99:\tlearn: 0.5642592\ttotal: 1m 40s\tremaining: 0us\n",
      "0:\tlearn: 0.6905388\ttotal: 1.1s\tremaining: 1m 49s\n",
      "25:\tlearn: 0.6400697\ttotal: 27.3s\tremaining: 1m 17s\n",
      "50:\tlearn: 0.6075379\ttotal: 51.9s\tremaining: 49.9s\n",
      "75:\tlearn: 0.5832633\ttotal: 1m 18s\tremaining: 24.7s\n",
      "99:\tlearn: 0.5646220\ttotal: 1m 43s\tremaining: 0us\n"
     ]
    },
    {
     "name": "stderr",
     "output_type": "stream",
     "text": [
      "2022-03-25 16:48:39 mean cv_value 0.02408868331618438 | std cv_value 0.01814918635150428 \n",
      "2022-03-25 16:48:39 ---------------------------------------------\n",
      "2022-03-25 16:48:39 [TRAIN_MODEL] Training model\n",
      "2022-03-25 16:48:39 Set of params....., {'depth': 16, 'iterations': 84, 'learning_rate': 0.005186227535067677, 'score_function': 'L2'}\n"
     ]
    },
    {
     "name": "stdout",
     "output_type": "stream",
     "text": [
      "Iteration No: 20 ended. Evaluation done at random point.\n",
      "Time taken: 501.7485\n",
      "Function value obtained: -0.0241\n",
      "Current minimum: -0.0630\n",
      "Iteration No: 21 started. Evaluating function at random point.\n",
      "0:\tlearn: 0.6924572\ttotal: 2.99s\tremaining: 4m 8s\n",
      "25:\tlearn: 0.6770715\ttotal: 1m 13s\tremaining: 2m 43s\n",
      "50:\tlearn: 0.6637298\ttotal: 2m 23s\tremaining: 1m 32s\n",
      "75:\tlearn: 0.6508798\ttotal: 3m 32s\tremaining: 22.4s\n",
      "83:\tlearn: 0.6470804\ttotal: 3m 54s\tremaining: 0us\n",
      "0:\tlearn: 0.6924062\ttotal: 2.65s\tremaining: 3m 39s\n",
      "25:\tlearn: 0.6765156\ttotal: 1m 12s\tremaining: 2m 42s\n",
      "50:\tlearn: 0.6625624\ttotal: 2m 22s\tremaining: 1m 32s\n",
      "75:\tlearn: 0.6508558\ttotal: 3m 31s\tremaining: 22.3s\n",
      "83:\tlearn: 0.6472847\ttotal: 3m 53s\tremaining: 0us\n",
      "0:\tlearn: 0.6924834\ttotal: 2.64s\tremaining: 3m 39s\n",
      "25:\tlearn: 0.6765751\ttotal: 1m 12s\tremaining: 2m 41s\n",
      "50:\tlearn: 0.6630371\ttotal: 2m 21s\tremaining: 1m 31s\n",
      "75:\tlearn: 0.6507224\ttotal: 3m 31s\tremaining: 22.3s\n",
      "83:\tlearn: 0.6470583\ttotal: 3m 53s\tremaining: 0us\n",
      "0:\tlearn: 0.6924233\ttotal: 2.69s\tremaining: 3m 43s\n",
      "25:\tlearn: 0.6759285\ttotal: 1m 13s\tremaining: 2m 43s\n",
      "50:\tlearn: 0.6613995\ttotal: 2m 22s\tremaining: 1m 32s\n",
      "75:\tlearn: 0.6481178\ttotal: 3m 32s\tremaining: 22.4s\n",
      "83:\tlearn: 0.6442377\ttotal: 3m 54s\tremaining: 0us\n",
      "0:\tlearn: 0.6926060\ttotal: 2.64s\tremaining: 3m 39s\n",
      "25:\tlearn: 0.6777831\ttotal: 1m 13s\tremaining: 2m 43s\n",
      "50:\tlearn: 0.6635479\ttotal: 2m 22s\tremaining: 1m 32s\n",
      "75:\tlearn: 0.6509919\ttotal: 3m 32s\tremaining: 22.3s\n",
      "83:\tlearn: 0.6472551\ttotal: 3m 54s\tremaining: 0us\n"
     ]
    },
    {
     "name": "stderr",
     "output_type": "stream",
     "text": [
      "2022-03-25 17:08:17 mean cv_value 0.024807286581592015 | std cv_value 0.01797161726918584 \n",
      "2022-03-25 17:08:17 ---------------------------------------------\n",
      "2022-03-25 17:08:17 [TRAIN_MODEL] Training model\n",
      "2022-03-25 17:08:17 Set of params....., {'depth': 2, 'iterations': 12, 'learning_rate': 0.26069679858538003, 'score_function': 'L2'}\n"
     ]
    },
    {
     "name": "stdout",
     "output_type": "stream",
     "text": [
      "Iteration No: 21 ended. Evaluation done at random point.\n",
      "Time taken: 1178.2381\n",
      "Function value obtained: -0.0248\n",
      "Current minimum: -0.0630\n",
      "Iteration No: 22 started. Evaluating function at random point.\n",
      "0:\tlearn: 0.6921044\ttotal: 14.5ms\tremaining: 160ms\n",
      "11:\tlearn: 0.6899827\ttotal: 110ms\tremaining: 0us\n",
      "0:\tlearn: 0.6921410\ttotal: 12.8ms\tremaining: 141ms\n",
      "11:\tlearn: 0.6899380\ttotal: 106ms\tremaining: 0us\n",
      "0:\tlearn: 0.6921548\ttotal: 10.1ms\tremaining: 112ms\n",
      "11:\tlearn: 0.6901810\ttotal: 103ms\tremaining: 0us\n",
      "0:\tlearn: 0.6921078\ttotal: 9.72ms\tremaining: 107ms\n",
      "11:\tlearn: 0.6900639\ttotal: 101ms\tremaining: 0us\n"
     ]
    },
    {
     "name": "stderr",
     "output_type": "stream",
     "text": [
      "2022-03-25 17:08:19 mean cv_value 0.05441692095819197 | std cv_value 0.020539693900056354 \n",
      "2022-03-25 17:08:19 ---------------------------------------------\n",
      "2022-03-25 17:08:19 [TRAIN_MODEL] Training model\n",
      "2022-03-25 17:08:19 Set of params....., {'depth': 6, 'iterations': 66, 'learning_rate': 0.0012042526629121762, 'score_function': 'Cosine'}\n"
     ]
    },
    {
     "name": "stdout",
     "output_type": "stream",
     "text": [
      "0:\tlearn: 0.6921765\ttotal: 10.2ms\tremaining: 112ms\n",
      "11:\tlearn: 0.6900637\ttotal: 108ms\tremaining: 0us\n",
      "Iteration No: 22 ended. Evaluation done at random point.\n",
      "Time taken: 1.5447\n",
      "Function value obtained: -0.0544\n",
      "Current minimum: -0.0630\n",
      "Iteration No: 23 started. Evaluating function at random point.\n",
      "0:\tlearn: 0.6931402\ttotal: 17ms\tremaining: 1.11s\n",
      "25:\tlearn: 0.6929748\ttotal: 394ms\tremaining: 605ms\n",
      "50:\tlearn: 0.6928197\ttotal: 782ms\tremaining: 230ms\n",
      "65:\tlearn: 0.6927290\ttotal: 1.01s\tremaining: 0us\n",
      "0:\tlearn: 0.6931399\ttotal: 15.2ms\tremaining: 990ms\n",
      "25:\tlearn: 0.6929713\ttotal: 396ms\tremaining: 609ms\n",
      "50:\tlearn: 0.6928149\ttotal: 778ms\tremaining: 229ms\n",
      "65:\tlearn: 0.6927216\ttotal: 1s\tremaining: 0us\n",
      "0:\tlearn: 0.6931402\ttotal: 16.5ms\tremaining: 1.07s\n",
      "25:\tlearn: 0.6929804\ttotal: 416ms\tremaining: 640ms\n",
      "50:\tlearn: 0.6928293\ttotal: 791ms\tremaining: 233ms\n",
      "65:\tlearn: 0.6927394\ttotal: 1.03s\tremaining: 0us\n",
      "0:\tlearn: 0.6931404\ttotal: 15.1ms\tremaining: 979ms\n",
      "25:\tlearn: 0.6929730\ttotal: 406ms\tremaining: 624ms\n",
      "50:\tlearn: 0.6928129\ttotal: 881ms\tremaining: 259ms\n",
      "65:\tlearn: 0.6927226\ttotal: 1.12s\tremaining: 0us\n",
      "0:\tlearn: 0.6931399\ttotal: 64.6ms\tremaining: 4.2s\n",
      "25:\tlearn: 0.6929824\ttotal: 521ms\tremaining: 802ms\n",
      "50:\tlearn: 0.6928280\ttotal: 908ms\tremaining: 267ms\n"
     ]
    },
    {
     "name": "stderr",
     "output_type": "stream",
     "text": [
      "2022-03-25 17:08:25 mean cv_value 0.054574520442341956 | std cv_value 0.023960941452057547 \n",
      "2022-03-25 17:08:25 ---------------------------------------------\n",
      "2022-03-25 17:08:25 [TRAIN_MODEL] Training model\n",
      "2022-03-25 17:08:25 Set of params....., {'depth': 14, 'iterations': 39, 'learning_rate': 0.5117591617984436, 'score_function': 'Cosine'}\n"
     ]
    },
    {
     "name": "stdout",
     "output_type": "stream",
     "text": [
      "65:\tlearn: 0.6927394\ttotal: 1.14s\tremaining: 0us\n",
      "Iteration No: 23 ended. Evaluation done at random point.\n",
      "Time taken: 6.3612\n",
      "Function value obtained: -0.0546\n",
      "Current minimum: -0.0630\n",
      "Iteration No: 24 started. Evaluating function at random point.\n",
      "0:\tlearn: 0.6783110\ttotal: 638ms\tremaining: 24.3s\n",
      "25:\tlearn: 0.5163180\ttotal: 13.3s\tremaining: 6.64s\n",
      "38:\tlearn: 0.4463307\ttotal: 20.5s\tremaining: 0us\n",
      "0:\tlearn: 0.6764791\ttotal: 522ms\tremaining: 19.8s\n",
      "25:\tlearn: 0.5069317\ttotal: 13s\tremaining: 6.49s\n",
      "38:\tlearn: 0.4323554\ttotal: 19.5s\tremaining: 0us\n",
      "0:\tlearn: 0.6769387\ttotal: 511ms\tremaining: 19.4s\n",
      "25:\tlearn: 0.5217422\ttotal: 12.9s\tremaining: 6.43s\n",
      "38:\tlearn: 0.4473904\ttotal: 19.4s\tremaining: 0us\n",
      "0:\tlearn: 0.6767234\ttotal: 513ms\tremaining: 19.5s\n",
      "25:\tlearn: 0.5096881\ttotal: 13s\tremaining: 6.48s\n",
      "38:\tlearn: 0.4433560\ttotal: 19.5s\tremaining: 0us\n",
      "0:\tlearn: 0.6730549\ttotal: 522ms\tremaining: 19.9s\n",
      "25:\tlearn: 0.5059839\ttotal: 12.8s\tremaining: 6.41s\n"
     ]
    },
    {
     "name": "stderr",
     "output_type": "stream",
     "text": [
      "2022-03-25 17:10:05 mean cv_value 0.01214085965906295 | std cv_value 0.02018041660892094 \n",
      "2022-03-25 17:10:05 ---------------------------------------------\n",
      "2022-03-25 17:10:05 [TRAIN_MODEL] Training model\n",
      "2022-03-25 17:10:05 Set of params....., {'depth': 11, 'iterations': 86, 'learning_rate': 0.017933687190531882, 'score_function': 'Cosine'}\n"
     ]
    },
    {
     "name": "stdout",
     "output_type": "stream",
     "text": [
      "38:\tlearn: 0.4359586\ttotal: 19.3s\tremaining: 0us\n",
      "Iteration No: 24 ended. Evaluation done at random point.\n",
      "Time taken: 99.7099\n",
      "Function value obtained: -0.0121\n",
      "Current minimum: -0.0630\n",
      "Iteration No: 25 started. Evaluating function at random point.\n",
      "0:\tlearn: 0.6928990\ttotal: 91.4ms\tremaining: 7.77s\n",
      "25:\tlearn: 0.6865285\ttotal: 2.27s\tremaining: 5.24s\n",
      "50:\tlearn: 0.6810611\ttotal: 4.45s\tremaining: 3.05s\n",
      "75:\tlearn: 0.6769493\ttotal: 6.5s\tremaining: 856ms\n",
      "85:\tlearn: 0.6754890\ttotal: 7.35s\tremaining: 0us\n",
      "0:\tlearn: 0.6928873\ttotal: 85.1ms\tremaining: 7.23s\n",
      "25:\tlearn: 0.6869352\ttotal: 2.15s\tremaining: 4.97s\n",
      "50:\tlearn: 0.6819391\ttotal: 4.22s\tremaining: 2.89s\n",
      "75:\tlearn: 0.6775539\ttotal: 6.28s\tremaining: 826ms\n",
      "85:\tlearn: 0.6758750\ttotal: 7.13s\tremaining: 0us\n",
      "0:\tlearn: 0.6928898\ttotal: 86.4ms\tremaining: 7.34s\n",
      "25:\tlearn: 0.6864995\ttotal: 2.23s\tremaining: 5.15s\n",
      "50:\tlearn: 0.6808953\ttotal: 4.4s\tremaining: 3.02s\n",
      "75:\tlearn: 0.6766436\ttotal: 6.53s\tremaining: 860ms\n",
      "85:\tlearn: 0.6749694\ttotal: 7.4s\tremaining: 0us\n",
      "0:\tlearn: 0.6928860\ttotal: 86.4ms\tremaining: 7.34s\n",
      "25:\tlearn: 0.6867063\ttotal: 2.17s\tremaining: 5.01s\n",
      "50:\tlearn: 0.6821072\ttotal: 4.24s\tremaining: 2.91s\n",
      "75:\tlearn: 0.6780081\ttotal: 6.18s\tremaining: 813ms\n",
      "85:\tlearn: 0.6764998\ttotal: 7.03s\tremaining: 0us\n",
      "0:\tlearn: 0.6928412\ttotal: 86.3ms\tremaining: 7.33s\n",
      "25:\tlearn: 0.6863844\ttotal: 2.19s\tremaining: 5.06s\n",
      "50:\tlearn: 0.6811822\ttotal: 4.33s\tremaining: 2.97s\n",
      "75:\tlearn: 0.6769295\ttotal: 6.47s\tremaining: 851ms\n"
     ]
    },
    {
     "name": "stderr",
     "output_type": "stream",
     "text": [
      "2022-03-25 17:10:42 mean cv_value 0.06685924844447999 | std cv_value 0.027077184642388816 \n",
      "2022-03-25 17:10:42 ---------------------------------------------\n"
     ]
    },
    {
     "name": "stdout",
     "output_type": "stream",
     "text": [
      "85:\tlearn: 0.6755242\ttotal: 7.26s\tremaining: 0us\n"
     ]
    },
    {
     "name": "stderr",
     "output_type": "stream",
     "text": [
      "2022-03-25 17:10:47 [TRAIN_MODEL] Training model\n",
      "2022-03-25 17:10:47 Set of params....., {'depth': 8, 'iterations': 1, 'learning_rate': 0.14031317855912478, 'score_function': 'Cosine'}\n"
     ]
    },
    {
     "name": "stdout",
     "output_type": "stream",
     "text": [
      "Iteration No: 25 ended. Evaluation done at random point.\n",
      "Time taken: 41.8821\n",
      "Function value obtained: -0.0669\n",
      "Current minimum: -0.0669\n",
      "Iteration No: 26 started. Searching for the next optimal point.\n",
      "0:\tlearn: 0.6921986\ttotal: 39.8ms\tremaining: 0us\n",
      "0:\tlearn: 0.6921214\ttotal: 27.5ms\tremaining: 0us\n",
      "0:\tlearn: 0.6921960\ttotal: 26.4ms\tremaining: 0us\n",
      "0:\tlearn: 0.6921798\ttotal: 27.4ms\tremaining: 0us\n"
     ]
    },
    {
     "name": "stderr",
     "output_type": "stream",
     "text": [
      "2022-03-25 17:10:48 mean cv_value 0.05657715623730678 | std cv_value 0.023571986065119302 \n",
      "2022-03-25 17:10:48 ---------------------------------------------\n"
     ]
    },
    {
     "name": "stdout",
     "output_type": "stream",
     "text": [
      "0:\tlearn: 0.6921273\ttotal: 26.5ms\tremaining: 0us\n"
     ]
    },
    {
     "name": "stderr",
     "output_type": "stream",
     "text": [
      "2022-03-25 17:10:50 [TRAIN_MODEL] Training model\n",
      "2022-03-25 17:10:50 Set of params....., {'depth': 5, 'iterations': 100, 'learning_rate': 0.061211187812922875, 'score_function': 'L2'}\n"
     ]
    },
    {
     "name": "stdout",
     "output_type": "stream",
     "text": [
      "Iteration No: 26 ended. Search finished for the next optimal point.\n",
      "Time taken: 3.1786\n",
      "Function value obtained: -0.0566\n",
      "Current minimum: -0.0669\n",
      "Iteration No: 27 started. Searching for the next optimal point.\n",
      "0:\tlearn: 0.6927771\ttotal: 13.9ms\tremaining: 1.37s\n",
      "25:\tlearn: 0.6892525\ttotal: 333ms\tremaining: 948ms\n",
      "50:\tlearn: 0.6879327\ttotal: 653ms\tremaining: 627ms\n",
      "75:\tlearn: 0.6869947\ttotal: 982ms\tremaining: 310ms\n",
      "99:\tlearn: 0.6861832\ttotal: 1.31s\tremaining: 0us\n",
      "0:\tlearn: 0.6927728\ttotal: 12.6ms\tremaining: 1.24s\n",
      "25:\tlearn: 0.6892064\ttotal: 307ms\tremaining: 875ms\n",
      "50:\tlearn: 0.6878986\ttotal: 623ms\tremaining: 598ms\n",
      "75:\tlearn: 0.6869346\ttotal: 956ms\tremaining: 302ms\n",
      "99:\tlearn: 0.6860281\ttotal: 1.27s\tremaining: 0us\n",
      "0:\tlearn: 0.6927880\ttotal: 12.6ms\tremaining: 1.25s\n",
      "25:\tlearn: 0.6893898\ttotal: 317ms\tremaining: 903ms\n",
      "50:\tlearn: 0.6881637\ttotal: 633ms\tremaining: 609ms\n",
      "75:\tlearn: 0.6872001\ttotal: 963ms\tremaining: 304ms\n",
      "99:\tlearn: 0.6863353\ttotal: 1.28s\tremaining: 0us\n",
      "0:\tlearn: 0.6927844\ttotal: 12.4ms\tremaining: 1.23s\n",
      "25:\tlearn: 0.6893571\ttotal: 309ms\tremaining: 880ms\n",
      "50:\tlearn: 0.6880823\ttotal: 626ms\tremaining: 602ms\n",
      "75:\tlearn: 0.6871064\ttotal: 959ms\tremaining: 303ms\n",
      "99:\tlearn: 0.6863077\ttotal: 1.28s\tremaining: 0us\n",
      "0:\tlearn: 0.6927816\ttotal: 13.4ms\tremaining: 1.33s\n",
      "25:\tlearn: 0.6894049\ttotal: 308ms\tremaining: 877ms\n",
      "50:\tlearn: 0.6881535\ttotal: 636ms\tremaining: 611ms\n",
      "75:\tlearn: 0.6871984\ttotal: 966ms\tremaining: 305ms\n"
     ]
    },
    {
     "name": "stderr",
     "output_type": "stream",
     "text": [
      "2022-03-25 17:10:57 mean cv_value 0.062310661770286865 | std cv_value 0.030817532031672944 \n",
      "2022-03-25 17:10:57 ---------------------------------------------\n"
     ]
    },
    {
     "name": "stdout",
     "output_type": "stream",
     "text": [
      "99:\tlearn: 0.6863694\ttotal: 1.29s\tremaining: 0us\n"
     ]
    },
    {
     "name": "stderr",
     "output_type": "stream",
     "text": [
      "2022-03-25 17:10:59 [TRAIN_MODEL] Training model\n",
      "2022-03-25 17:10:59 Set of params....., {'depth': 2, 'iterations': 100, 'learning_rate': 0.0928785158312546, 'score_function': 'Cosine'}\n"
     ]
    },
    {
     "name": "stdout",
     "output_type": "stream",
     "text": [
      "Iteration No: 27 ended. Search finished for the next optimal point.\n",
      "Time taken: 9.4745\n",
      "Function value obtained: -0.0623\n",
      "Current minimum: -0.0669\n",
      "Iteration No: 28 started. Searching for the next optimal point.\n",
      "0:\tlearn: 0.6928485\ttotal: 10.1ms\tremaining: 998ms\n",
      "25:\tlearn: 0.6904156\ttotal: 220ms\tremaining: 627ms\n",
      "50:\tlearn: 0.6899822\ttotal: 435ms\tremaining: 418ms\n",
      "75:\tlearn: 0.6897636\ttotal: 643ms\tremaining: 203ms\n",
      "99:\tlearn: 0.6895935\ttotal: 848ms\tremaining: 0us\n",
      "0:\tlearn: 0.6928683\ttotal: 9.94ms\tremaining: 984ms\n",
      "25:\tlearn: 0.6904317\ttotal: 224ms\tremaining: 637ms\n",
      "50:\tlearn: 0.6899673\ttotal: 435ms\tremaining: 418ms\n",
      "75:\tlearn: 0.6897297\ttotal: 644ms\tremaining: 203ms\n",
      "99:\tlearn: 0.6895296\ttotal: 852ms\tremaining: 0us\n",
      "0:\tlearn: 0.6928651\ttotal: 10.1ms\tremaining: 1s\n",
      "25:\tlearn: 0.6905756\ttotal: 225ms\tremaining: 640ms\n",
      "50:\tlearn: 0.6900618\ttotal: 435ms\tremaining: 418ms\n",
      "75:\tlearn: 0.6898661\ttotal: 649ms\tremaining: 205ms\n",
      "99:\tlearn: 0.6897241\ttotal: 853ms\tremaining: 0us\n",
      "0:\tlearn: 0.6928395\ttotal: 9.94ms\tremaining: 984ms\n",
      "25:\tlearn: 0.6904941\ttotal: 224ms\tremaining: 638ms\n",
      "50:\tlearn: 0.6900229\ttotal: 437ms\tremaining: 420ms\n",
      "75:\tlearn: 0.6897976\ttotal: 644ms\tremaining: 203ms\n",
      "99:\tlearn: 0.6896321\ttotal: 848ms\tremaining: 0us\n",
      "0:\tlearn: 0.6928783\ttotal: 9.52ms\tremaining: 942ms\n",
      "25:\tlearn: 0.6905586\ttotal: 217ms\tremaining: 617ms\n",
      "50:\tlearn: 0.6900906\ttotal: 423ms\tremaining: 407ms\n",
      "75:\tlearn: 0.6898584\ttotal: 628ms\tremaining: 198ms\n"
     ]
    },
    {
     "name": "stderr",
     "output_type": "stream",
     "text": [
      "2022-03-25 17:11:04 mean cv_value 0.055833669564063146 | std cv_value 0.023745754819252785 \n",
      "2022-03-25 17:11:04 ---------------------------------------------\n"
     ]
    },
    {
     "name": "stdout",
     "output_type": "stream",
     "text": [
      "99:\tlearn: 0.6896744\ttotal: 834ms\tremaining: 0us\n"
     ]
    },
    {
     "name": "stderr",
     "output_type": "stream",
     "text": [
      "2022-03-25 17:11:05 [TRAIN_MODEL] Training model\n",
      "2022-03-25 17:11:05 Set of params....., {'depth': 9, 'iterations': 100, 'learning_rate': 0.02326425587029342, 'score_function': 'Cosine'}\n"
     ]
    },
    {
     "name": "stdout",
     "output_type": "stream",
     "text": [
      "Iteration No: 28 ended. Search finished for the next optimal point.\n",
      "Time taken: 6.2110\n",
      "Function value obtained: -0.0558\n",
      "Current minimum: -0.0669\n",
      "Iteration No: 29 started. Searching for the next optimal point.\n",
      "0:\tlearn: 0.6929352\ttotal: 41.8ms\tremaining: 4.14s\n",
      "25:\tlearn: 0.6891911\ttotal: 861ms\tremaining: 2.45s\n",
      "50:\tlearn: 0.6866715\ttotal: 1.71s\tremaining: 1.65s\n",
      "75:\tlearn: 0.6843972\ttotal: 2.56s\tremaining: 810ms\n",
      "99:\tlearn: 0.6826864\ttotal: 3.35s\tremaining: 0us\n",
      "0:\tlearn: 0.6929301\ttotal: 36.8ms\tremaining: 3.64s\n",
      "25:\tlearn: 0.6891855\ttotal: 894ms\tremaining: 2.54s\n",
      "50:\tlearn: 0.6865765\ttotal: 1.73s\tremaining: 1.66s\n",
      "75:\tlearn: 0.6842162\ttotal: 2.6s\tremaining: 820ms\n",
      "99:\tlearn: 0.6822814\ttotal: 3.41s\tremaining: 0us\n",
      "0:\tlearn: 0.6929382\ttotal: 37.1ms\tremaining: 3.67s\n",
      "25:\tlearn: 0.6891513\ttotal: 888ms\tremaining: 2.53s\n",
      "50:\tlearn: 0.6865662\ttotal: 1.73s\tremaining: 1.66s\n",
      "75:\tlearn: 0.6841184\ttotal: 2.61s\tremaining: 824ms\n",
      "99:\tlearn: 0.6821860\ttotal: 3.43s\tremaining: 0us\n",
      "0:\tlearn: 0.6929276\ttotal: 37.4ms\tremaining: 3.71s\n",
      "25:\tlearn: 0.6891137\ttotal: 886ms\tremaining: 2.52s\n",
      "50:\tlearn: 0.6864068\ttotal: 1.75s\tremaining: 1.68s\n",
      "75:\tlearn: 0.6841690\ttotal: 2.6s\tremaining: 822ms\n",
      "99:\tlearn: 0.6822346\ttotal: 3.43s\tremaining: 0us\n",
      "0:\tlearn: 0.6929125\ttotal: 38.7ms\tremaining: 3.83s\n",
      "25:\tlearn: 0.6891486\ttotal: 876ms\tremaining: 2.49s\n",
      "50:\tlearn: 0.6863915\ttotal: 1.75s\tremaining: 1.68s\n",
      "75:\tlearn: 0.6839235\ttotal: 2.63s\tremaining: 830ms\n"
     ]
    },
    {
     "name": "stderr",
     "output_type": "stream",
     "text": [
      "2022-03-25 17:11:24 mean cv_value 0.06420036228508416 | std cv_value 0.033331774846380585 \n",
      "2022-03-25 17:11:24 ---------------------------------------------\n"
     ]
    },
    {
     "name": "stdout",
     "output_type": "stream",
     "text": [
      "99:\tlearn: 0.6820429\ttotal: 3.44s\tremaining: 0us\n"
     ]
    },
    {
     "name": "stderr",
     "output_type": "stream",
     "text": [
      "2022-03-25 17:11:24 [TRAIN_MODEL] Training model\n",
      "2022-03-25 17:11:24 Set of params....., {'depth': 10, 'iterations': 1, 'learning_rate': 0.10939945828727693, 'score_function': 'L2'}\n"
     ]
    },
    {
     "name": "stdout",
     "output_type": "stream",
     "text": [
      "Iteration No: 29 ended. Search finished for the next optimal point.\n",
      "Time taken: 19.0833\n",
      "Function value obtained: -0.0642\n",
      "Current minimum: -0.0669\n",
      "Iteration No: 30 started. Searching for the next optimal point.\n",
      "0:\tlearn: 0.6914551\ttotal: 88.1ms\tremaining: 0us\n",
      "0:\tlearn: 0.6912984\ttotal: 63.7ms\tremaining: 0us\n",
      "0:\tlearn: 0.6914137\ttotal: 59.8ms\tremaining: 0us\n",
      "0:\tlearn: 0.6913865\ttotal: 62.6ms\tremaining: 0us\n"
     ]
    },
    {
     "name": "stderr",
     "output_type": "stream",
     "text": [
      "2022-03-25 17:11:26 mean cv_value 0.036841142129700855 | std cv_value 0.031241379217911754 \n",
      "2022-03-25 17:11:26 ---------------------------------------------\n"
     ]
    },
    {
     "name": "stdout",
     "output_type": "stream",
     "text": [
      "0:\tlearn: 0.6916096\ttotal: 59.6ms\tremaining: 0us\n"
     ]
    },
    {
     "name": "stderr",
     "output_type": "stream",
     "text": [
      "2022-03-25 17:11:27 [TRAIN_MODEL] Training model\n",
      "2022-03-25 17:11:27 Set of params....., {'depth': 9, 'iterations': 55, 'learning_rate': 0.0344857963386794, 'score_function': 'Cosine'}\n"
     ]
    },
    {
     "name": "stdout",
     "output_type": "stream",
     "text": [
      "Iteration No: 30 ended. Search finished for the next optimal point.\n",
      "Time taken: 2.1963\n",
      "Function value obtained: -0.0368\n",
      "Current minimum: -0.0669\n",
      "Iteration No: 31 started. Searching for the next optimal point.\n",
      "0:\tlearn: 0.6928347\ttotal: 36.3ms\tremaining: 1.96s\n",
      "25:\tlearn: 0.6879274\ttotal: 844ms\tremaining: 941ms\n",
      "50:\tlearn: 0.6845207\ttotal: 1.69s\tremaining: 132ms\n",
      "54:\tlearn: 0.6840528\ttotal: 1.82s\tremaining: 0us\n",
      "0:\tlearn: 0.6928274\ttotal: 37.2ms\tremaining: 2.01s\n",
      "25:\tlearn: 0.6877126\ttotal: 889ms\tremaining: 992ms\n",
      "50:\tlearn: 0.6843264\ttotal: 1.72s\tremaining: 135ms\n",
      "54:\tlearn: 0.6837917\ttotal: 1.86s\tremaining: 0us\n",
      "0:\tlearn: 0.6928393\ttotal: 36ms\tremaining: 1.94s\n",
      "25:\tlearn: 0.6876285\ttotal: 874ms\tremaining: 975ms\n",
      "50:\tlearn: 0.6840049\ttotal: 1.73s\tremaining: 136ms\n",
      "54:\tlearn: 0.6835219\ttotal: 1.87s\tremaining: 0us\n",
      "0:\tlearn: 0.6928236\ttotal: 35.5ms\tremaining: 1.92s\n",
      "25:\tlearn: 0.6877126\ttotal: 880ms\tremaining: 982ms\n",
      "50:\tlearn: 0.6842354\ttotal: 1.74s\tremaining: 136ms\n",
      "54:\tlearn: 0.6837550\ttotal: 1.88s\tremaining: 0us\n",
      "0:\tlearn: 0.6928014\ttotal: 37.7ms\tremaining: 2.04s\n",
      "25:\tlearn: 0.6879242\ttotal: 877ms\tremaining: 978ms\n",
      "50:\tlearn: 0.6845433\ttotal: 1.74s\tremaining: 136ms\n",
      "54:\tlearn: 0.6840615\ttotal: 1.88s\tremaining: 0us\n"
     ]
    },
    {
     "name": "stderr",
     "output_type": "stream",
     "text": [
      "2022-03-25 17:11:37 mean cv_value 0.056888054811871466 | std cv_value 0.03016376284272053 \n",
      "2022-03-25 17:11:37 ---------------------------------------------\n",
      "2022-03-25 17:11:38 [TRAIN_MODEL] Training model\n",
      "2022-03-25 17:11:38 Set of params....., {'depth': 5, 'iterations': 100, 'learning_rate': 0.014687989917895966, 'score_function': 'Cosine'}\n"
     ]
    },
    {
     "name": "stdout",
     "output_type": "stream",
     "text": [
      "Iteration No: 31 ended. Search finished for the next optimal point.\n",
      "Time taken: 11.2019\n",
      "Function value obtained: -0.0569\n",
      "Current minimum: -0.0669\n",
      "Iteration No: 32 started. Searching for the next optimal point.\n",
      "0:\tlearn: 0.6930678\ttotal: 14.1ms\tremaining: 1.39s\n",
      "25:\tlearn: 0.6916818\ttotal: 319ms\tremaining: 907ms\n",
      "50:\tlearn: 0.6908518\ttotal: 631ms\tremaining: 607ms\n",
      "75:\tlearn: 0.6902951\ttotal: 956ms\tremaining: 302ms\n",
      "99:\tlearn: 0.6899516\ttotal: 1.27s\tremaining: 0us\n",
      "0:\tlearn: 0.6930656\ttotal: 12.8ms\tremaining: 1.26s\n",
      "25:\tlearn: 0.6916429\ttotal: 317ms\tremaining: 901ms\n",
      "50:\tlearn: 0.6908039\ttotal: 621ms\tremaining: 596ms\n",
      "75:\tlearn: 0.6902757\ttotal: 935ms\tremaining: 295ms\n",
      "99:\tlearn: 0.6898990\ttotal: 1.23s\tremaining: 0us\n",
      "0:\tlearn: 0.6930694\ttotal: 13.1ms\tremaining: 1.3s\n",
      "25:\tlearn: 0.6917228\ttotal: 318ms\tremaining: 904ms\n",
      "50:\tlearn: 0.6909579\ttotal: 632ms\tremaining: 607ms\n",
      "75:\tlearn: 0.6904322\ttotal: 933ms\tremaining: 295ms\n",
      "99:\tlearn: 0.6900669\ttotal: 1.24s\tremaining: 0us\n",
      "0:\tlearn: 0.6930694\ttotal: 13.4ms\tremaining: 1.32s\n",
      "25:\tlearn: 0.6917039\ttotal: 314ms\tremaining: 894ms\n",
      "50:\tlearn: 0.6908927\ttotal: 619ms\tremaining: 595ms\n",
      "75:\tlearn: 0.6903752\ttotal: 923ms\tremaining: 292ms\n",
      "99:\tlearn: 0.6900112\ttotal: 1.22s\tremaining: 0us\n",
      "0:\tlearn: 0.6930659\ttotal: 12.5ms\tremaining: 1.24s\n",
      "25:\tlearn: 0.6917420\ttotal: 317ms\tremaining: 902ms\n",
      "50:\tlearn: 0.6909738\ttotal: 630ms\tremaining: 606ms\n",
      "75:\tlearn: 0.6904250\ttotal: 947ms\tremaining: 299ms\n"
     ]
    },
    {
     "name": "stderr",
     "output_type": "stream",
     "text": [
      "2022-03-25 17:11:45 mean cv_value 0.05726234845595927 | std cv_value 0.021882454235624856 \n",
      "2022-03-25 17:11:45 ---------------------------------------------\n"
     ]
    },
    {
     "name": "stdout",
     "output_type": "stream",
     "text": [
      "99:\tlearn: 0.6900424\ttotal: 1.26s\tremaining: 0us\n"
     ]
    },
    {
     "name": "stderr",
     "output_type": "stream",
     "text": [
      "2022-03-25 17:11:46 [TRAIN_MODEL] Training model\n",
      "2022-03-25 17:11:46 Set of params....., {'depth': 1, 'iterations': 65, 'learning_rate': 1.0, 'score_function': 'Cosine'}\n"
     ]
    },
    {
     "name": "stdout",
     "output_type": "stream",
     "text": [
      "Iteration No: 32 ended. Search finished for the next optimal point.\n",
      "Time taken: 8.4719\n",
      "Function value obtained: -0.0573\n",
      "Current minimum: -0.0669\n",
      "Iteration No: 33 started. Searching for the next optimal point.\n",
      "0:\tlearn: 0.6914640\ttotal: 8.86ms\tremaining: 567ms\n",
      "25:\tlearn: 0.6898753\ttotal: 196ms\tremaining: 295ms\n",
      "50:\tlearn: 0.6895483\ttotal: 385ms\tremaining: 106ms\n",
      "64:\tlearn: 0.6894283\ttotal: 495ms\tremaining: 0us\n",
      "0:\tlearn: 0.6915772\ttotal: 10.4ms\tremaining: 665ms\n",
      "25:\tlearn: 0.6898394\ttotal: 194ms\tremaining: 291ms\n",
      "50:\tlearn: 0.6894516\ttotal: 380ms\tremaining: 104ms\n",
      "64:\tlearn: 0.6893349\ttotal: 487ms\tremaining: 0us\n",
      "0:\tlearn: 0.6915687\ttotal: 8.45ms\tremaining: 541ms\n",
      "25:\tlearn: 0.6901847\ttotal: 196ms\tremaining: 294ms\n",
      "50:\tlearn: 0.6898648\ttotal: 387ms\tremaining: 106ms\n",
      "64:\tlearn: 0.6897528\ttotal: 490ms\tremaining: 0us\n",
      "0:\tlearn: 0.6914263\ttotal: 8.58ms\tremaining: 549ms\n",
      "25:\tlearn: 0.6899347\ttotal: 190ms\tremaining: 285ms\n",
      "50:\tlearn: 0.6895971\ttotal: 376ms\tremaining: 103ms\n",
      "64:\tlearn: 0.6894788\ttotal: 488ms\tremaining: 0us\n",
      "0:\tlearn: 0.6916382\ttotal: 8.64ms\tremaining: 553ms\n",
      "25:\tlearn: 0.6900217\ttotal: 192ms\tremaining: 288ms\n"
     ]
    },
    {
     "name": "stderr",
     "output_type": "stream",
     "text": [
      "2022-03-25 17:11:50 mean cv_value 0.05514698396529695 | std cv_value 0.023928427980802525 \n",
      "2022-03-25 17:11:50 ---------------------------------------------\n"
     ]
    },
    {
     "name": "stdout",
     "output_type": "stream",
     "text": [
      "50:\tlearn: 0.6897092\ttotal: 378ms\tremaining: 104ms\n",
      "64:\tlearn: 0.6895916\ttotal: 481ms\tremaining: 0us\n"
     ]
    },
    {
     "name": "stderr",
     "output_type": "stream",
     "text": [
      "2022-03-25 17:11:51 [TRAIN_MODEL] Training model\n",
      "2022-03-25 17:11:51 Set of params....., {'depth': 1, 'iterations': 100, 'learning_rate': 0.031237581261834416, 'score_function': 'L2'}\n"
     ]
    },
    {
     "name": "stdout",
     "output_type": "stream",
     "text": [
      "Iteration No: 33 ended. Search finished for the next optimal point.\n",
      "Time taken: 4.3557\n",
      "Function value obtained: -0.0551\n",
      "Current minimum: -0.0669\n",
      "Iteration No: 34 started. Searching for the next optimal point.\n",
      "0:\tlearn: 0.6930436\ttotal: 9.33ms\tremaining: 924ms\n",
      "25:\tlearn: 0.6917588\ttotal: 193ms\tremaining: 550ms\n",
      "50:\tlearn: 0.6912692\ttotal: 380ms\tremaining: 365ms\n",
      "75:\tlearn: 0.6910137\ttotal: 568ms\tremaining: 179ms\n",
      "99:\tlearn: 0.6908552\ttotal: 744ms\tremaining: 0us\n",
      "0:\tlearn: 0.6930506\ttotal: 8.72ms\tremaining: 863ms\n",
      "25:\tlearn: 0.6918256\ttotal: 194ms\tremaining: 553ms\n",
      "50:\tlearn: 0.6913472\ttotal: 382ms\tremaining: 367ms\n",
      "75:\tlearn: 0.6910812\ttotal: 563ms\tremaining: 178ms\n",
      "99:\tlearn: 0.6909121\ttotal: 740ms\tremaining: 0us\n",
      "0:\tlearn: 0.6930502\ttotal: 9.1ms\tremaining: 901ms\n",
      "25:\tlearn: 0.6918590\ttotal: 197ms\tremaining: 561ms\n",
      "50:\tlearn: 0.6914402\ttotal: 383ms\tremaining: 368ms\n",
      "75:\tlearn: 0.6911889\ttotal: 565ms\tremaining: 178ms\n",
      "99:\tlearn: 0.6910256\ttotal: 739ms\tremaining: 0us\n",
      "0:\tlearn: 0.6930414\ttotal: 8.64ms\tremaining: 855ms\n",
      "25:\tlearn: 0.6917404\ttotal: 188ms\tremaining: 534ms\n",
      "50:\tlearn: 0.6912911\ttotal: 370ms\tremaining: 355ms\n",
      "75:\tlearn: 0.6910325\ttotal: 557ms\tremaining: 176ms\n",
      "99:\tlearn: 0.6908673\ttotal: 731ms\tremaining: 0us\n",
      "0:\tlearn: 0.6930544\ttotal: 8.65ms\tremaining: 857ms\n",
      "25:\tlearn: 0.6918968\ttotal: 192ms\tremaining: 546ms\n",
      "50:\tlearn: 0.6914463\ttotal: 372ms\tremaining: 357ms\n",
      "75:\tlearn: 0.6911764\ttotal: 561ms\tremaining: 177ms\n",
      "99:\tlearn: 0.6909985\ttotal: 735ms\tremaining: 0us\n"
     ]
    },
    {
     "name": "stderr",
     "output_type": "stream",
     "text": [
      "2022-03-25 17:11:55 mean cv_value 0.048632533554718596 | std cv_value 0.020431170355601585 \n",
      "2022-03-25 17:11:55 ---------------------------------------------\n",
      "2022-03-25 17:11:56 [TRAIN_MODEL] Training model\n",
      "2022-03-25 17:11:56 Set of params....., {'depth': 6, 'iterations': 100, 'learning_rate': 0.10280398897517035, 'score_function': 'Cosine'}\n"
     ]
    },
    {
     "name": "stdout",
     "output_type": "stream",
     "text": [
      "Iteration No: 34 ended. Search finished for the next optimal point.\n",
      "Time taken: 5.5879\n",
      "Function value obtained: -0.0486\n",
      "Current minimum: -0.0669\n",
      "Iteration No: 35 started. Searching for the next optimal point.\n",
      "0:\tlearn: 0.6925837\ttotal: 18.5ms\tremaining: 1.83s\n",
      "25:\tlearn: 0.6884640\ttotal: 400ms\tremaining: 1.14s\n",
      "50:\tlearn: 0.6867817\ttotal: 787ms\tremaining: 756ms\n",
      "75:\tlearn: 0.6854521\ttotal: 1.16s\tremaining: 365ms\n",
      "99:\tlearn: 0.6842144\ttotal: 1.52s\tremaining: 0us\n",
      "0:\tlearn: 0.6925588\ttotal: 15.6ms\tremaining: 1.54s\n",
      "25:\tlearn: 0.6884539\ttotal: 401ms\tremaining: 1.14s\n",
      "50:\tlearn: 0.6868646\ttotal: 808ms\tremaining: 777ms\n",
      "75:\tlearn: 0.6852986\ttotal: 1.21s\tremaining: 381ms\n",
      "99:\tlearn: 0.6839994\ttotal: 1.59s\tremaining: 0us\n",
      "0:\tlearn: 0.6925797\ttotal: 15.9ms\tremaining: 1.57s\n",
      "25:\tlearn: 0.6885657\ttotal: 416ms\tremaining: 1.18s\n",
      "50:\tlearn: 0.6867800\ttotal: 804ms\tremaining: 773ms\n",
      "75:\tlearn: 0.6852541\ttotal: 1.2s\tremaining: 378ms\n",
      "99:\tlearn: 0.6839360\ttotal: 1.57s\tremaining: 0us\n",
      "0:\tlearn: 0.6925955\ttotal: 15.7ms\tremaining: 1.55s\n",
      "25:\tlearn: 0.6883834\ttotal: 386ms\tremaining: 1.1s\n",
      "50:\tlearn: 0.6867633\ttotal: 780ms\tremaining: 749ms\n",
      "75:\tlearn: 0.6852518\ttotal: 1.16s\tremaining: 366ms\n",
      "99:\tlearn: 0.6841034\ttotal: 1.53s\tremaining: 0us\n",
      "0:\tlearn: 0.6925546\ttotal: 18.5ms\tremaining: 1.83s\n",
      "25:\tlearn: 0.6884566\ttotal: 414ms\tremaining: 1.18s\n",
      "50:\tlearn: 0.6867857\ttotal: 810ms\tremaining: 778ms\n",
      "75:\tlearn: 0.6854425\ttotal: 1.2s\tremaining: 378ms\n"
     ]
    },
    {
     "name": "stderr",
     "output_type": "stream",
     "text": [
      "2022-03-25 17:12:05 mean cv_value 0.060094185732332675 | std cv_value 0.024539632479711873 \n",
      "2022-03-25 17:12:05 ---------------------------------------------\n"
     ]
    },
    {
     "name": "stdout",
     "output_type": "stream",
     "text": [
      "99:\tlearn: 0.6842141\ttotal: 1.57s\tremaining: 0us\n"
     ]
    },
    {
     "name": "stderr",
     "output_type": "stream",
     "text": [
      "2022-03-25 17:12:06 [TRAIN_MODEL] Training model\n",
      "2022-03-25 17:12:06 Set of params....., {'depth': 5, 'iterations': 1, 'learning_rate': 1.0, 'score_function': 'Cosine'}\n"
     ]
    },
    {
     "name": "stdout",
     "output_type": "stream",
     "text": [
      "Iteration No: 35 ended. Search finished for the next optimal point.\n",
      "Time taken: 10.0364\n",
      "Function value obtained: -0.0601\n",
      "Current minimum: -0.0669\n",
      "Iteration No: 36 started. Searching for the next optimal point.\n",
      "0:\tlearn: 0.6904316\ttotal: 15.2ms\tremaining: 0us\n",
      "0:\tlearn: 0.6903586\ttotal: 12.8ms\tremaining: 0us\n",
      "0:\tlearn: 0.6904787\ttotal: 13.8ms\tremaining: 0us\n",
      "0:\tlearn: 0.6904669\ttotal: 13.2ms\tremaining: 0us\n",
      "0:\tlearn: 0.6903546\ttotal: 11.8ms\tremaining: 0us\n"
     ]
    },
    {
     "name": "stderr",
     "output_type": "stream",
     "text": [
      "2022-03-25 17:12:07 mean cv_value 0.04743630070185807 | std cv_value 0.01946109488635141 \n",
      "2022-03-25 17:12:07 ---------------------------------------------\n",
      "2022-03-25 17:12:09 [TRAIN_MODEL] Training model\n",
      "2022-03-25 17:12:09 Set of params....., {'depth': 4, 'iterations': 33, 'learning_rate': 0.06618989313068685, 'score_function': 'Cosine'}\n"
     ]
    },
    {
     "name": "stdout",
     "output_type": "stream",
     "text": [
      "Iteration No: 36 ended. Search finished for the next optimal point.\n",
      "Time taken: 2.2748\n",
      "Function value obtained: -0.0474\n",
      "Current minimum: -0.0669\n",
      "Iteration No: 37 started. Searching for the next optimal point.\n",
      "0:\tlearn: 0.6928264\ttotal: 12.6ms\tremaining: 404ms\n",
      "25:\tlearn: 0.6901090\ttotal: 276ms\tremaining: 74.4ms\n",
      "32:\tlearn: 0.6898543\ttotal: 355ms\tremaining: 0us\n",
      "0:\tlearn: 0.6928063\ttotal: 14.3ms\tremaining: 457ms\n",
      "25:\tlearn: 0.6900885\ttotal: 287ms\tremaining: 77.3ms\n",
      "32:\tlearn: 0.6898570\ttotal: 365ms\tremaining: 0us\n",
      "0:\tlearn: 0.6928371\ttotal: 12.2ms\tremaining: 391ms\n",
      "25:\tlearn: 0.6902229\ttotal: 282ms\tremaining: 75.9ms\n",
      "32:\tlearn: 0.6900016\ttotal: 354ms\tremaining: 0us\n",
      "0:\tlearn: 0.6928275\ttotal: 11.9ms\tremaining: 382ms\n",
      "25:\tlearn: 0.6901207\ttotal: 284ms\tremaining: 76.3ms\n",
      "32:\tlearn: 0.6899139\ttotal: 357ms\tremaining: 0us\n",
      "0:\tlearn: 0.6928216\ttotal: 12.4ms\tremaining: 396ms\n"
     ]
    },
    {
     "name": "stderr",
     "output_type": "stream",
     "text": [
      "2022-03-25 17:12:11 mean cv_value 0.055795993522894084 | std cv_value 0.02454987876882463 \n",
      "2022-03-25 17:12:11 ---------------------------------------------\n"
     ]
    },
    {
     "name": "stdout",
     "output_type": "stream",
     "text": [
      "25:\tlearn: 0.6901450\ttotal: 278ms\tremaining: 74.8ms\n",
      "32:\tlearn: 0.6899144\ttotal: 353ms\tremaining: 0us\n"
     ]
    },
    {
     "name": "stderr",
     "output_type": "stream",
     "text": [
      "2022-03-25 17:12:13 [TRAIN_MODEL] Training model\n",
      "2022-03-25 17:12:13 Set of params....., {'depth': 6, 'iterations': 100, 'learning_rate': 0.004042014777775799, 'score_function': 'L2'}\n"
     ]
    },
    {
     "name": "stdout",
     "output_type": "stream",
     "text": [
      "Iteration No: 37 ended. Search finished for the next optimal point.\n",
      "Time taken: 4.1275\n",
      "Function value obtained: -0.0558\n",
      "Current minimum: -0.0669\n",
      "Iteration No: 38 started. Searching for the next optimal point.\n",
      "0:\tlearn: 0.6931198\ttotal: 16.1ms\tremaining: 1.59s\n",
      "25:\tlearn: 0.6924915\ttotal: 431ms\tremaining: 1.23s\n",
      "50:\tlearn: 0.6919550\ttotal: 838ms\tremaining: 805ms\n",
      "75:\tlearn: 0.6914910\ttotal: 1.24s\tremaining: 392ms\n",
      "99:\tlearn: 0.6911019\ttotal: 1.62s\tremaining: 0us\n",
      "0:\tlearn: 0.6931196\ttotal: 18.2ms\tremaining: 1.8s\n",
      "25:\tlearn: 0.6924776\ttotal: 392ms\tremaining: 1.12s\n",
      "50:\tlearn: 0.6919275\ttotal: 792ms\tremaining: 761ms\n",
      "75:\tlearn: 0.6914610\ttotal: 1.2s\tremaining: 378ms\n",
      "99:\tlearn: 0.6910666\ttotal: 1.55s\tremaining: 0us\n",
      "0:\tlearn: 0.6931203\ttotal: 15.8ms\tremaining: 1.57s\n",
      "25:\tlearn: 0.6925004\ttotal: 376ms\tremaining: 1.07s\n",
      "50:\tlearn: 0.6919764\ttotal: 748ms\tremaining: 718ms\n",
      "75:\tlearn: 0.6915282\ttotal: 1.12s\tremaining: 354ms\n",
      "99:\tlearn: 0.6911601\ttotal: 1.47s\tremaining: 0us\n",
      "0:\tlearn: 0.6931193\ttotal: 19.1ms\tremaining: 1.89s\n",
      "25:\tlearn: 0.6924891\ttotal: 409ms\tremaining: 1.16s\n",
      "50:\tlearn: 0.6919583\ttotal: 790ms\tremaining: 759ms\n",
      "75:\tlearn: 0.6915101\ttotal: 1.17s\tremaining: 371ms\n",
      "99:\tlearn: 0.6911402\ttotal: 1.54s\tremaining: 0us\n",
      "0:\tlearn: 0.6931201\ttotal: 15.4ms\tremaining: 1.53s\n",
      "25:\tlearn: 0.6925001\ttotal: 378ms\tremaining: 1.07s\n",
      "50:\tlearn: 0.6919746\ttotal: 760ms\tremaining: 730ms\n",
      "75:\tlearn: 0.6915265\ttotal: 1.12s\tremaining: 354ms\n"
     ]
    },
    {
     "name": "stderr",
     "output_type": "stream",
     "text": [
      "2022-03-25 17:12:21 mean cv_value 0.05490826007099662 | std cv_value 0.0240015298549955 \n",
      "2022-03-25 17:12:21 ---------------------------------------------\n"
     ]
    },
    {
     "name": "stdout",
     "output_type": "stream",
     "text": [
      "99:\tlearn: 0.6911557\ttotal: 1.48s\tremaining: 0us\n"
     ]
    },
    {
     "name": "stderr",
     "output_type": "stream",
     "text": [
      "2022-03-25 17:12:23 [TRAIN_MODEL] Training model\n",
      "2022-03-25 17:12:23 Set of params....., {'depth': 9, 'iterations': 100, 'learning_rate': 0.006200976715873906, 'score_function': 'Cosine'}\n"
     ]
    },
    {
     "name": "stdout",
     "output_type": "stream",
     "text": [
      "Iteration No: 38 ended. Search finished for the next optimal point.\n",
      "Time taken: 9.9648\n",
      "Function value obtained: -0.0549\n",
      "Current minimum: -0.0669\n",
      "Iteration No: 39 started. Searching for the next optimal point.\n",
      "0:\tlearn: 0.6930902\ttotal: 38.4ms\tremaining: 3.81s\n",
      "25:\tlearn: 0.6919013\ttotal: 871ms\tremaining: 2.48s\n",
      "50:\tlearn: 0.6908332\ttotal: 1.73s\tremaining: 1.66s\n",
      "75:\tlearn: 0.6898245\ttotal: 2.59s\tremaining: 817ms\n",
      "99:\tlearn: 0.6890022\ttotal: 3.4s\tremaining: 0us\n",
      "0:\tlearn: 0.6930888\ttotal: 37.1ms\tremaining: 3.67s\n",
      "25:\tlearn: 0.6918707\ttotal: 894ms\tremaining: 2.54s\n",
      "50:\tlearn: 0.6907784\ttotal: 1.78s\tremaining: 1.71s\n",
      "75:\tlearn: 0.6897314\ttotal: 2.66s\tremaining: 839ms\n",
      "99:\tlearn: 0.6889005\ttotal: 3.5s\tremaining: 0us\n",
      "0:\tlearn: 0.6930910\ttotal: 35.3ms\tremaining: 3.5s\n",
      "25:\tlearn: 0.6918787\ttotal: 879ms\tremaining: 2.5s\n",
      "50:\tlearn: 0.6907662\ttotal: 1.74s\tremaining: 1.67s\n",
      "75:\tlearn: 0.6898028\ttotal: 2.59s\tremaining: 819ms\n",
      "99:\tlearn: 0.6889552\ttotal: 3.43s\tremaining: 0us\n",
      "0:\tlearn: 0.6930881\ttotal: 36.3ms\tremaining: 3.59s\n",
      "25:\tlearn: 0.6918383\ttotal: 873ms\tremaining: 2.48s\n",
      "50:\tlearn: 0.6907704\ttotal: 1.74s\tremaining: 1.67s\n",
      "75:\tlearn: 0.6897930\ttotal: 2.62s\tremaining: 827ms\n",
      "99:\tlearn: 0.6889768\ttotal: 3.46s\tremaining: 0us\n",
      "0:\tlearn: 0.6930841\ttotal: 37.2ms\tremaining: 3.69s\n",
      "25:\tlearn: 0.6918467\ttotal: 865ms\tremaining: 2.46s\n",
      "50:\tlearn: 0.6907417\ttotal: 1.74s\tremaining: 1.67s\n",
      "75:\tlearn: 0.6896995\ttotal: 2.63s\tremaining: 830ms\n"
     ]
    },
    {
     "name": "stderr",
     "output_type": "stream",
     "text": [
      "2022-03-25 17:12:41 mean cv_value 0.06175057727916178 | std cv_value 0.027618077209718872 \n",
      "2022-03-25 17:12:41 ---------------------------------------------\n"
     ]
    },
    {
     "name": "stdout",
     "output_type": "stream",
     "text": [
      "99:\tlearn: 0.6888620\ttotal: 3.44s\tremaining: 0us\n"
     ]
    },
    {
     "name": "stderr",
     "output_type": "stream",
     "text": [
      "2022-03-25 17:12:42 [TRAIN_MODEL] Training model\n",
      "2022-03-25 17:12:42 Set of params....., {'depth': 10, 'iterations': 1, 'learning_rate': 0.41678057665379287, 'score_function': 'Cosine'}\n"
     ]
    },
    {
     "name": "stdout",
     "output_type": "stream",
     "text": [
      "Iteration No: 39 ended. Search finished for the next optimal point.\n",
      "Time taken: 19.4837\n",
      "Function value obtained: -0.0618\n",
      "Current minimum: -0.0669\n",
      "Iteration No: 40 started. Searching for the next optimal point.\n",
      "0:\tlearn: 0.6896850\ttotal: 64.9ms\tremaining: 0us\n",
      "0:\tlearn: 0.6896440\ttotal: 57.5ms\tremaining: 0us\n",
      "0:\tlearn: 0.6897219\ttotal: 55.3ms\tremaining: 0us\n",
      "0:\tlearn: 0.6896432\ttotal: 57.2ms\tremaining: 0us\n"
     ]
    },
    {
     "name": "stderr",
     "output_type": "stream",
     "text": [
      "2022-03-25 17:12:43 mean cv_value 0.049900674414646295 | std cv_value 0.02039088163034105 \n",
      "2022-03-25 17:12:43 ---------------------------------------------\n"
     ]
    },
    {
     "name": "stdout",
     "output_type": "stream",
     "text": [
      "0:\tlearn: 0.6891783\ttotal: 58.1ms\tremaining: 0us\n"
     ]
    },
    {
     "name": "stderr",
     "output_type": "stream",
     "text": [
      "2022-03-25 17:12:45 [TRAIN_MODEL] Training model\n",
      "2022-03-25 17:12:45 Set of params....., {'depth': 15, 'iterations': 1, 'learning_rate': 0.001, 'score_function': 'Cosine'}\n"
     ]
    },
    {
     "name": "stdout",
     "output_type": "stream",
     "text": [
      "Iteration No: 40 ended. Search finished for the next optimal point.\n",
      "Time taken: 2.4227\n",
      "Function value obtained: -0.0499\n",
      "Current minimum: -0.0669\n",
      "Iteration No: 41 started. Searching for the next optimal point.\n",
      "0:\tlearn: 0.6930887\ttotal: 1.62s\tremaining: 0us\n",
      "0:\tlearn: 0.6930864\ttotal: 1.2s\tremaining: 0us\n",
      "0:\tlearn: 0.6930860\ttotal: 978ms\tremaining: 0us\n",
      "0:\tlearn: 0.6930869\ttotal: 1.03s\tremaining: 0us\n"
     ]
    },
    {
     "name": "stderr",
     "output_type": "stream",
     "text": [
      "2022-03-25 17:12:51 mean cv_value 0.03657745853141688 | std cv_value 0.030063360555083195 \n",
      "2022-03-25 17:12:51 ---------------------------------------------\n"
     ]
    },
    {
     "name": "stdout",
     "output_type": "stream",
     "text": [
      "0:\tlearn: 0.6930792\ttotal: 1s\tremaining: 0us\n"
     ]
    },
    {
     "name": "stderr",
     "output_type": "stream",
     "text": [
      "2022-03-25 17:12:53 [TRAIN_MODEL] Training model\n",
      "2022-03-25 17:12:53 Set of params....., {'depth': 7, 'iterations': 1, 'learning_rate': 0.006320575525597134, 'score_function': 'Cosine'}\n"
     ]
    },
    {
     "name": "stdout",
     "output_type": "stream",
     "text": [
      "Iteration No: 41 ended. Search finished for the next optimal point.\n",
      "Time taken: 8.1530\n",
      "Function value obtained: -0.0366\n",
      "Current minimum: -0.0669\n",
      "Iteration No: 42 started. Searching for the next optimal point.\n",
      "0:\tlearn: 0.6931063\ttotal: 23.4ms\tremaining: 0us\n",
      "0:\tlearn: 0.6931039\ttotal: 22ms\tremaining: 0us\n",
      "0:\tlearn: 0.6931064\ttotal: 21.1ms\tremaining: 0us\n",
      "0:\tlearn: 0.6931060\ttotal: 21.4ms\tremaining: 0us\n"
     ]
    },
    {
     "name": "stderr",
     "output_type": "stream",
     "text": [
      "2022-03-25 17:12:54 mean cv_value 0.054425629011382634 | std cv_value 0.02393275633059763 \n",
      "2022-03-25 17:12:54 ---------------------------------------------\n"
     ]
    },
    {
     "name": "stdout",
     "output_type": "stream",
     "text": [
      "0:\tlearn: 0.6931043\ttotal: 21ms\tremaining: 0us\n"
     ]
    },
    {
     "name": "stderr",
     "output_type": "stream",
     "text": [
      "2022-03-25 17:12:55 [TRAIN_MODEL] Training model\n",
      "2022-03-25 17:12:55 Set of params....., {'depth': 8, 'iterations': 100, 'learning_rate': 0.017500254011095586, 'score_function': 'Cosine'}\n"
     ]
    },
    {
     "name": "stdout",
     "output_type": "stream",
     "text": [
      "Iteration No: 42 ended. Search finished for the next optimal point.\n",
      "Time taken: 2.3214\n",
      "Function value obtained: -0.0544\n",
      "Current minimum: -0.0669\n",
      "Iteration No: 43 started. Searching for the next optimal point.\n",
      "0:\tlearn: 0.6930209\ttotal: 28.3ms\tremaining: 2.8s\n",
      "25:\tlearn: 0.6905965\ttotal: 639ms\tremaining: 1.82s\n",
      "50:\tlearn: 0.6890229\ttotal: 1.23s\tremaining: 1.18s\n",
      "75:\tlearn: 0.6877587\ttotal: 1.83s\tremaining: 578ms\n",
      "99:\tlearn: 0.6868784\ttotal: 2.38s\tremaining: 0us\n",
      "0:\tlearn: 0.6930106\ttotal: 27.8ms\tremaining: 2.75s\n",
      "25:\tlearn: 0.6905615\ttotal: 638ms\tremaining: 1.82s\n",
      "50:\tlearn: 0.6889695\ttotal: 1.26s\tremaining: 1.21s\n",
      "75:\tlearn: 0.6877577\ttotal: 1.87s\tremaining: 591ms\n",
      "99:\tlearn: 0.6867108\ttotal: 2.47s\tremaining: 0us\n",
      "0:\tlearn: 0.6930205\ttotal: 26.4ms\tremaining: 2.62s\n",
      "25:\tlearn: 0.6905826\ttotal: 650ms\tremaining: 1.85s\n",
      "50:\tlearn: 0.6889992\ttotal: 1.25s\tremaining: 1.21s\n",
      "75:\tlearn: 0.6877640\ttotal: 1.86s\tremaining: 587ms\n",
      "99:\tlearn: 0.6867401\ttotal: 2.45s\tremaining: 0us\n",
      "0:\tlearn: 0.6930183\ttotal: 29.3ms\tremaining: 2.9s\n",
      "25:\tlearn: 0.6906291\ttotal: 656ms\tremaining: 1.87s\n",
      "50:\tlearn: 0.6890213\ttotal: 1.27s\tremaining: 1.22s\n",
      "75:\tlearn: 0.6877989\ttotal: 1.89s\tremaining: 598ms\n",
      "99:\tlearn: 0.6867407\ttotal: 2.49s\tremaining: 0us\n",
      "0:\tlearn: 0.6930114\ttotal: 26.8ms\tremaining: 2.65s\n",
      "25:\tlearn: 0.6905667\ttotal: 644ms\tremaining: 1.83s\n",
      "50:\tlearn: 0.6889997\ttotal: 1.25s\tremaining: 1.2s\n",
      "75:\tlearn: 0.6876714\ttotal: 1.85s\tremaining: 586ms\n"
     ]
    },
    {
     "name": "stderr",
     "output_type": "stream",
     "text": [
      "2022-03-25 17:13:08 mean cv_value 0.06363335946339385 | std cv_value 0.0325589960408249 \n",
      "2022-03-25 17:13:08 ---------------------------------------------\n"
     ]
    },
    {
     "name": "stdout",
     "output_type": "stream",
     "text": [
      "99:\tlearn: 0.6866941\ttotal: 2.41s\tremaining: 0us\n"
     ]
    },
    {
     "name": "stderr",
     "output_type": "stream",
     "text": [
      "2022-03-25 17:13:10 [TRAIN_MODEL] Training model\n",
      "2022-03-25 17:13:10 Set of params....., {'depth': 1, 'iterations': 3, 'learning_rate': 0.1106658846872908, 'score_function': 'Cosine'}\n"
     ]
    },
    {
     "name": "stdout",
     "output_type": "stream",
     "text": [
      "Iteration No: 43 ended. Search finished for the next optimal point.\n",
      "Time taken: 14.6399\n",
      "Function value obtained: -0.0636\n",
      "Current minimum: -0.0669\n",
      "Iteration No: 44 started. Searching for the next optimal point.\n",
      "0:\tlearn: 0.6927950\ttotal: 8.98ms\tremaining: 18ms\n",
      "2:\tlearn: 0.6923847\ttotal: 24.3ms\tremaining: 0us\n",
      "0:\tlearn: 0.6928187\ttotal: 8.47ms\tremaining: 16.9ms\n",
      "2:\tlearn: 0.6923536\ttotal: 24ms\tremaining: 0us\n",
      "0:\tlearn: 0.6928173\ttotal: 9.27ms\tremaining: 18.5ms\n",
      "2:\tlearn: 0.6923495\ttotal: 25.3ms\tremaining: 0us\n",
      "0:\tlearn: 0.6927875\ttotal: 8.77ms\tremaining: 17.5ms\n",
      "2:\tlearn: 0.6922775\ttotal: 24.2ms\tremaining: 0us\n"
     ]
    },
    {
     "name": "stderr",
     "output_type": "stream",
     "text": [
      "2022-03-25 17:13:11 mean cv_value 0.0355858336830573 | std cv_value 0.009632483169839005 \n",
      "2022-03-25 17:13:11 ---------------------------------------------\n"
     ]
    },
    {
     "name": "stdout",
     "output_type": "stream",
     "text": [
      "0:\tlearn: 0.6928316\ttotal: 9.51ms\tremaining: 19ms\n",
      "2:\tlearn: 0.6923845\ttotal: 25.3ms\tremaining: 0us\n"
     ]
    },
    {
     "name": "stderr",
     "output_type": "stream",
     "text": [
      "2022-03-25 17:13:12 [TRAIN_MODEL] Training model\n",
      "2022-03-25 17:13:12 Set of params....., {'depth': 10, 'iterations': 45, 'learning_rate': 0.013070563234277287, 'score_function': 'Cosine'}\n"
     ]
    },
    {
     "name": "stdout",
     "output_type": "stream",
     "text": [
      "Iteration No: 44 ended. Search finished for the next optimal point.\n",
      "Time taken: 2.2657\n",
      "Function value obtained: -0.0356\n",
      "Current minimum: -0.0669\n",
      "Iteration No: 45 started. Searching for the next optimal point.\n",
      "0:\tlearn: 0.6930082\ttotal: 65.1ms\tremaining: 2.87s\n",
      "25:\tlearn: 0.6899548\ttotal: 1.41s\tremaining: 1.03s\n",
      "44:\tlearn: 0.6875974\ttotal: 2.52s\tremaining: 0us\n",
      "0:\tlearn: 0.6930063\ttotal: 57.6ms\tremaining: 2.53s\n",
      "25:\tlearn: 0.6898034\ttotal: 1.41s\tremaining: 1.03s\n",
      "44:\tlearn: 0.6876575\ttotal: 2.5s\tremaining: 0us\n",
      "0:\tlearn: 0.6930101\ttotal: 53.6ms\tremaining: 2.36s\n",
      "25:\tlearn: 0.6899349\ttotal: 1.38s\tremaining: 1s\n",
      "44:\tlearn: 0.6876747\ttotal: 2.5s\tremaining: 0us\n",
      "0:\tlearn: 0.6930072\ttotal: 58.2ms\tremaining: 2.56s\n",
      "25:\tlearn: 0.6898527\ttotal: 1.46s\tremaining: 1.07s\n",
      "44:\tlearn: 0.6878238\ttotal: 2.56s\tremaining: 0us\n",
      "0:\tlearn: 0.6929882\ttotal: 57.7ms\tremaining: 2.54s\n",
      "25:\tlearn: 0.6898451\ttotal: 1.39s\tremaining: 1.01s\n"
     ]
    },
    {
     "name": "stderr",
     "output_type": "stream",
     "text": [
      "2022-03-25 17:13:26 mean cv_value 0.06063659381602243 | std cv_value 0.0328290940606191 \n",
      "2022-03-25 17:13:26 ---------------------------------------------\n"
     ]
    },
    {
     "name": "stdout",
     "output_type": "stream",
     "text": [
      "44:\tlearn: 0.6877511\ttotal: 2.48s\tremaining: 0us\n"
     ]
    },
    {
     "name": "stderr",
     "output_type": "stream",
     "text": [
      "2022-03-25 17:13:27 [TRAIN_MODEL] Training model\n",
      "2022-03-25 17:13:27 Set of params....., {'depth': 1, 'iterations': 100, 'learning_rate': 1.0, 'score_function': 'L2'}\n"
     ]
    },
    {
     "name": "stdout",
     "output_type": "stream",
     "text": [
      "Iteration No: 45 ended. Search finished for the next optimal point.\n",
      "Time taken: 14.8106\n",
      "Function value obtained: -0.0606\n",
      "Current minimum: -0.0669\n",
      "Iteration No: 46 started. Searching for the next optimal point.\n",
      "0:\tlearn: 0.6914640\ttotal: 10.2ms\tremaining: 1.01s\n",
      "25:\tlearn: 0.6898529\ttotal: 195ms\tremaining: 555ms\n",
      "50:\tlearn: 0.6895057\ttotal: 380ms\tremaining: 365ms\n",
      "75:\tlearn: 0.6892717\ttotal: 564ms\tremaining: 178ms\n",
      "99:\tlearn: 0.6891354\ttotal: 742ms\tremaining: 0us\n",
      "0:\tlearn: 0.6915772\ttotal: 8.93ms\tremaining: 884ms\n",
      "25:\tlearn: 0.6897854\ttotal: 194ms\tremaining: 551ms\n",
      "50:\tlearn: 0.6894352\ttotal: 376ms\tremaining: 361ms\n",
      "75:\tlearn: 0.6891956\ttotal: 566ms\tremaining: 179ms\n",
      "99:\tlearn: 0.6890588\ttotal: 749ms\tremaining: 0us\n",
      "0:\tlearn: 0.6915687\ttotal: 8.51ms\tremaining: 842ms\n",
      "25:\tlearn: 0.6900485\ttotal: 198ms\tremaining: 563ms\n",
      "50:\tlearn: 0.6897811\ttotal: 390ms\tremaining: 375ms\n",
      "75:\tlearn: 0.6896185\ttotal: 574ms\tremaining: 181ms\n",
      "99:\tlearn: 0.6894965\ttotal: 761ms\tremaining: 0us\n",
      "0:\tlearn: 0.6914263\ttotal: 9.18ms\tremaining: 909ms\n",
      "25:\tlearn: 0.6899199\ttotal: 197ms\tremaining: 561ms\n",
      "50:\tlearn: 0.6896305\ttotal: 383ms\tremaining: 368ms\n",
      "75:\tlearn: 0.6894170\ttotal: 571ms\tremaining: 180ms\n",
      "99:\tlearn: 0.6892677\ttotal: 761ms\tremaining: 0us\n",
      "0:\tlearn: 0.6916382\ttotal: 8.55ms\tremaining: 846ms\n",
      "25:\tlearn: 0.6899749\ttotal: 191ms\tremaining: 545ms\n",
      "50:\tlearn: 0.6896548\ttotal: 379ms\tremaining: 364ms\n",
      "75:\tlearn: 0.6894559\ttotal: 561ms\tremaining: 177ms\n",
      "99:\tlearn: 0.6893351\ttotal: 738ms\tremaining: 0us\n"
     ]
    },
    {
     "name": "stderr",
     "output_type": "stream",
     "text": [
      "2022-03-25 17:13:32 mean cv_value 0.05325690939257226 | std cv_value 0.022393510810128688 \n",
      "2022-03-25 17:13:32 ---------------------------------------------\n",
      "2022-03-25 17:13:33 [TRAIN_MODEL] Training model\n",
      "2022-03-25 17:13:33 Set of params....., {'depth': 2, 'iterations': 98, 'learning_rate': 0.0013115789913662904, 'score_function': 'L2'}\n"
     ]
    },
    {
     "name": "stdout",
     "output_type": "stream",
     "text": [
      "Iteration No: 46 ended. Search finished for the next optimal point.\n",
      "Time taken: 6.1479\n",
      "Function value obtained: -0.0533\n",
      "Current minimum: -0.0669\n",
      "Iteration No: 47 started. Searching for the next optimal point.\n",
      "0:\tlearn: 0.6931412\ttotal: 10.3ms\tremaining: 1s\n",
      "25:\tlearn: 0.6929950\ttotal: 216ms\tremaining: 599ms\n",
      "50:\tlearn: 0.6928581\ttotal: 424ms\tremaining: 391ms\n",
      "75:\tlearn: 0.6927299\ttotal: 639ms\tremaining: 185ms\n",
      "97:\tlearn: 0.6926239\ttotal: 818ms\tremaining: 0us\n",
      "0:\tlearn: 0.6931414\ttotal: 9.83ms\tremaining: 954ms\n",
      "25:\tlearn: 0.6930007\ttotal: 226ms\tremaining: 627ms\n",
      "50:\tlearn: 0.6928690\ttotal: 433ms\tremaining: 399ms\n",
      "75:\tlearn: 0.6927457\ttotal: 648ms\tremaining: 187ms\n",
      "97:\tlearn: 0.6926437\ttotal: 829ms\tremaining: 0us\n",
      "0:\tlearn: 0.6931414\ttotal: 9.67ms\tremaining: 938ms\n",
      "25:\tlearn: 0.6930027\ttotal: 219ms\tremaining: 606ms\n",
      "50:\tlearn: 0.6928729\ttotal: 437ms\tremaining: 403ms\n",
      "75:\tlearn: 0.6927513\ttotal: 648ms\tremaining: 188ms\n",
      "97:\tlearn: 0.6926506\ttotal: 830ms\tremaining: 0us\n",
      "0:\tlearn: 0.6931412\ttotal: 9.34ms\tremaining: 906ms\n",
      "25:\tlearn: 0.6929959\ttotal: 218ms\tremaining: 603ms\n",
      "50:\tlearn: 0.6928599\ttotal: 430ms\tremaining: 396ms\n",
      "75:\tlearn: 0.6927325\ttotal: 647ms\tremaining: 187ms\n",
      "97:\tlearn: 0.6926271\ttotal: 833ms\tremaining: 0us\n",
      "0:\tlearn: 0.6931416\ttotal: 10ms\tremaining: 973ms\n",
      "25:\tlearn: 0.6930059\ttotal: 226ms\tremaining: 627ms\n",
      "50:\tlearn: 0.6928789\ttotal: 447ms\tremaining: 412ms\n",
      "75:\tlearn: 0.6927599\ttotal: 663ms\tremaining: 192ms\n",
      "97:\tlearn: 0.6926615\ttotal: 848ms\tremaining: 0us\n"
     ]
    },
    {
     "name": "stderr",
     "output_type": "stream",
     "text": [
      "2022-03-25 17:13:38 mean cv_value 0.040569201070420155 | std cv_value 0.013554807758527696 \n",
      "2022-03-25 17:13:38 ---------------------------------------------\n",
      "2022-03-25 17:13:39 [TRAIN_MODEL] Training model\n",
      "2022-03-25 17:13:39 Set of params....., {'depth': 4, 'iterations': 100, 'learning_rate': 0.2875329850071341, 'score_function': 'Cosine'}\n"
     ]
    },
    {
     "name": "stdout",
     "output_type": "stream",
     "text": [
      "Iteration No: 47 ended. Search finished for the next optimal point.\n",
      "Time taken: 6.5431\n",
      "Function value obtained: -0.0406\n",
      "Current minimum: -0.0669\n",
      "Iteration No: 48 started. Searching for the next optimal point.\n",
      "0:\tlearn: 0.6919138\ttotal: 38.8ms\tremaining: 3.84s\n",
      "25:\tlearn: 0.6885661\ttotal: 321ms\tremaining: 915ms\n",
      "50:\tlearn: 0.6870232\ttotal: 596ms\tremaining: 572ms\n",
      "75:\tlearn: 0.6851346\ttotal: 889ms\tremaining: 281ms\n",
      "99:\tlearn: 0.6834052\ttotal: 1.18s\tremaining: 0us\n",
      "0:\tlearn: 0.6918368\ttotal: 19ms\tremaining: 1.88s\n",
      "25:\tlearn: 0.6884638\ttotal: 288ms\tremaining: 819ms\n",
      "50:\tlearn: 0.6869406\ttotal: 565ms\tremaining: 543ms\n",
      "75:\tlearn: 0.6848193\ttotal: 858ms\tremaining: 271ms\n",
      "99:\tlearn: 0.6828717\ttotal: 1.13s\tremaining: 0us\n",
      "0:\tlearn: 0.6919550\ttotal: 11.9ms\tremaining: 1.18s\n",
      "25:\tlearn: 0.6888284\ttotal: 280ms\tremaining: 796ms\n",
      "50:\tlearn: 0.6874241\ttotal: 561ms\tremaining: 539ms\n",
      "75:\tlearn: 0.6854574\ttotal: 849ms\tremaining: 268ms\n",
      "99:\tlearn: 0.6835649\ttotal: 1.12s\tremaining: 0us\n",
      "0:\tlearn: 0.6919173\ttotal: 12.1ms\tremaining: 1.19s\n",
      "25:\tlearn: 0.6886465\ttotal: 297ms\tremaining: 844ms\n",
      "50:\tlearn: 0.6871080\ttotal: 588ms\tremaining: 565ms\n",
      "75:\tlearn: 0.6849723\ttotal: 879ms\tremaining: 278ms\n",
      "99:\tlearn: 0.6830516\ttotal: 1.16s\tremaining: 0us\n",
      "0:\tlearn: 0.6918954\ttotal: 11.7ms\tremaining: 1.16s\n",
      "25:\tlearn: 0.6886937\ttotal: 280ms\tremaining: 798ms\n",
      "50:\tlearn: 0.6872735\ttotal: 563ms\tremaining: 541ms\n",
      "75:\tlearn: 0.6852866\ttotal: 842ms\tremaining: 266ms\n"
     ]
    },
    {
     "name": "stderr",
     "output_type": "stream",
     "text": [
      "2022-03-25 17:13:46 mean cv_value 0.06477258095489254 | std cv_value 0.03789652492251653 \n",
      "2022-03-25 17:13:46 ---------------------------------------------\n"
     ]
    },
    {
     "name": "stdout",
     "output_type": "stream",
     "text": [
      "99:\tlearn: 0.6835605\ttotal: 1.13s\tremaining: 0us\n"
     ]
    },
    {
     "name": "stderr",
     "output_type": "stream",
     "text": [
      "2022-03-25 17:13:48 [TRAIN_MODEL] Training model\n",
      "2022-03-25 17:13:48 Set of params....., {'depth': 4, 'iterations': 100, 'learning_rate': 0.17757046691739625, 'score_function': 'L2'}\n"
     ]
    },
    {
     "name": "stdout",
     "output_type": "stream",
     "text": [
      "Iteration No: 48 ended. Search finished for the next optimal point.\n",
      "Time taken: 8.1461\n",
      "Function value obtained: -0.0648\n",
      "Current minimum: -0.0669\n",
      "Iteration No: 49 started. Searching for the next optimal point.\n",
      "0:\tlearn: 0.6922148\ttotal: 12.6ms\tremaining: 1.24s\n",
      "25:\tlearn: 0.6883407\ttotal: 292ms\tremaining: 830ms\n",
      "50:\tlearn: 0.6868304\ttotal: 570ms\tremaining: 547ms\n",
      "75:\tlearn: 0.6855500\ttotal: 860ms\tremaining: 272ms\n",
      "99:\tlearn: 0.6844450\ttotal: 1.14s\tremaining: 0us\n",
      "0:\tlearn: 0.6922206\ttotal: 10.7ms\tremaining: 1.06s\n",
      "25:\tlearn: 0.6882198\ttotal: 280ms\tremaining: 797ms\n",
      "50:\tlearn: 0.6867683\ttotal: 557ms\tremaining: 535ms\n",
      "75:\tlearn: 0.6854634\ttotal: 846ms\tremaining: 267ms\n",
      "99:\tlearn: 0.6844051\ttotal: 1.13s\tremaining: 0us\n",
      "0:\tlearn: 0.6922430\ttotal: 12.3ms\tremaining: 1.22s\n",
      "25:\tlearn: 0.6884584\ttotal: 276ms\tremaining: 786ms\n",
      "50:\tlearn: 0.6869705\ttotal: 555ms\tremaining: 533ms\n",
      "75:\tlearn: 0.6856642\ttotal: 838ms\tremaining: 264ms\n",
      "99:\tlearn: 0.6845031\ttotal: 1.11s\tremaining: 0us\n",
      "0:\tlearn: 0.6922369\ttotal: 12.3ms\tremaining: 1.22s\n",
      "25:\tlearn: 0.6883827\ttotal: 283ms\tremaining: 806ms\n",
      "50:\tlearn: 0.6869103\ttotal: 561ms\tremaining: 539ms\n",
      "75:\tlearn: 0.6856048\ttotal: 865ms\tremaining: 273ms\n",
      "99:\tlearn: 0.6844042\ttotal: 1.15s\tremaining: 0us\n",
      "0:\tlearn: 0.6922416\ttotal: 13.7ms\tremaining: 1.35s\n",
      "25:\tlearn: 0.6884039\ttotal: 287ms\tremaining: 818ms\n",
      "50:\tlearn: 0.6870068\ttotal: 577ms\tremaining: 554ms\n",
      "75:\tlearn: 0.6857032\ttotal: 863ms\tremaining: 273ms\n"
     ]
    },
    {
     "name": "stderr",
     "output_type": "stream",
     "text": [
      "2022-03-25 17:13:54 mean cv_value 0.06903938830795964 | std cv_value 0.034030662408300265 \n",
      "2022-03-25 17:13:54 ---------------------------------------------\n"
     ]
    },
    {
     "name": "stdout",
     "output_type": "stream",
     "text": [
      "99:\tlearn: 0.6844976\ttotal: 1.14s\tremaining: 0us\n"
     ]
    },
    {
     "name": "stderr",
     "output_type": "stream",
     "text": [
      "2022-03-25 17:13:56 [TRAIN_MODEL] Training model\n",
      "2022-03-25 17:13:56 Set of params....., {'depth': 1, 'iterations': 100, 'learning_rate': 0.20936016803395438, 'score_function': 'L2'}\n"
     ]
    },
    {
     "name": "stdout",
     "output_type": "stream",
     "text": [
      "Iteration No: 49 ended. Search finished for the next optimal point.\n",
      "Time taken: 8.3507\n",
      "Function value obtained: -0.0690\n",
      "Current minimum: -0.0690\n",
      "Iteration No: 50 started. Searching for the next optimal point.\n",
      "0:\tlearn: 0.6925158\ttotal: 10ms\tremaining: 993ms\n",
      "25:\tlearn: 0.6904973\ttotal: 199ms\tremaining: 568ms\n",
      "50:\tlearn: 0.6901681\ttotal: 384ms\tremaining: 369ms\n",
      "75:\tlearn: 0.6900007\ttotal: 580ms\tremaining: 183ms\n",
      "99:\tlearn: 0.6899056\ttotal: 753ms\tremaining: 0us\n",
      "0:\tlearn: 0.6925583\ttotal: 9.01ms\tremaining: 892ms\n",
      "25:\tlearn: 0.6905183\ttotal: 192ms\tremaining: 547ms\n",
      "50:\tlearn: 0.6901823\ttotal: 375ms\tremaining: 360ms\n",
      "75:\tlearn: 0.6900117\ttotal: 558ms\tremaining: 176ms\n",
      "99:\tlearn: 0.6898999\ttotal: 736ms\tremaining: 0us\n",
      "0:\tlearn: 0.6925558\ttotal: 8.76ms\tremaining: 867ms\n",
      "25:\tlearn: 0.6906569\ttotal: 197ms\tremaining: 562ms\n",
      "50:\tlearn: 0.6903466\ttotal: 381ms\tremaining: 366ms\n",
      "75:\tlearn: 0.6902132\ttotal: 567ms\tremaining: 179ms\n",
      "99:\tlearn: 0.6901217\ttotal: 748ms\tremaining: 0us\n",
      "0:\tlearn: 0.6925024\ttotal: 9.17ms\tremaining: 908ms\n",
      "25:\tlearn: 0.6904937\ttotal: 197ms\tremaining: 561ms\n",
      "50:\tlearn: 0.6902003\ttotal: 386ms\tremaining: 371ms\n",
      "75:\tlearn: 0.6900631\ttotal: 574ms\tremaining: 181ms\n",
      "99:\tlearn: 0.6899751\ttotal: 757ms\tremaining: 0us\n",
      "0:\tlearn: 0.6925814\ttotal: 8.56ms\tremaining: 847ms\n",
      "25:\tlearn: 0.6905789\ttotal: 195ms\tremaining: 555ms\n",
      "50:\tlearn: 0.6902402\ttotal: 382ms\tremaining: 367ms\n",
      "75:\tlearn: 0.6900901\ttotal: 582ms\tremaining: 184ms\n",
      "99:\tlearn: 0.6899927\ttotal: 759ms\tremaining: 0us\n"
     ]
    },
    {
     "name": "stderr",
     "output_type": "stream",
     "text": [
      "2022-03-25 17:14:01 mean cv_value 0.051289977382419895 | std cv_value 0.023948324446815532 \n",
      "2022-03-25 17:14:01 ---------------------------------------------\n",
      "2022-03-25 17:14:02 [TRAIN_MODEL] Training model\n",
      "2022-03-25 17:14:02 Set of params....., {'depth': 5, 'iterations': 45, 'learning_rate': 0.1794781919515504, 'score_function': 'L2'}\n"
     ]
    },
    {
     "name": "stdout",
     "output_type": "stream",
     "text": [
      "Iteration No: 50 ended. Search finished for the next optimal point.\n",
      "Time taken: 6.1799\n",
      "Function value obtained: -0.0513\n",
      "Current minimum: -0.0690\n",
      "Iteration No: 51 started. Searching for the next optimal point.\n",
      "0:\tlearn: 0.6921288\ttotal: 48.2ms\tremaining: 2.12s\n",
      "25:\tlearn: 0.6869396\ttotal: 387ms\tremaining: 283ms\n",
      "44:\tlearn: 0.6851963\ttotal: 638ms\tremaining: 0us\n",
      "0:\tlearn: 0.6921168\ttotal: 18.7ms\tremaining: 821ms\n",
      "25:\tlearn: 0.6869790\ttotal: 333ms\tremaining: 243ms\n",
      "44:\tlearn: 0.6851142\ttotal: 577ms\tremaining: 0us\n",
      "0:\tlearn: 0.6921584\ttotal: 13.9ms\tremaining: 613ms\n",
      "25:\tlearn: 0.6872432\ttotal: 331ms\tremaining: 242ms\n",
      "44:\tlearn: 0.6854043\ttotal: 585ms\tremaining: 0us\n",
      "0:\tlearn: 0.6921488\ttotal: 13.8ms\tremaining: 608ms\n",
      "25:\tlearn: 0.6870834\ttotal: 332ms\tremaining: 242ms\n",
      "44:\tlearn: 0.6852751\ttotal: 593ms\tremaining: 0us\n",
      "0:\tlearn: 0.6921409\ttotal: 14.6ms\tremaining: 640ms\n",
      "25:\tlearn: 0.6873539\ttotal: 341ms\tremaining: 249ms\n"
     ]
    },
    {
     "name": "stderr",
     "output_type": "stream",
     "text": [
      "2022-03-25 17:14:06 mean cv_value 0.0594805905349465 | std cv_value 0.028269107363744862 \n",
      "2022-03-25 17:14:06 ---------------------------------------------\n"
     ]
    },
    {
     "name": "stdout",
     "output_type": "stream",
     "text": [
      "44:\tlearn: 0.6855770\ttotal: 597ms\tremaining: 0us\n"
     ]
    },
    {
     "name": "stderr",
     "output_type": "stream",
     "text": [
      "2022-03-25 17:14:08 [TRAIN_MODEL] Training model\n",
      "2022-03-25 17:14:08 Set of params....., {'depth': 4, 'iterations': 1, 'learning_rate': 0.016506567279086393, 'score_function': 'L2'}\n"
     ]
    },
    {
     "name": "stdout",
     "output_type": "stream",
     "text": [
      "Iteration No: 51 ended. Search finished for the next optimal point.\n",
      "Time taken: 5.4495\n",
      "Function value obtained: -0.0595\n",
      "Current minimum: -0.0690\n",
      "Iteration No: 52 started. Searching for the next optimal point.\n",
      "0:\tlearn: 0.6930528\ttotal: 14.2ms\tremaining: 0us\n",
      "0:\tlearn: 0.6930534\ttotal: 10.8ms\tremaining: 0us\n",
      "0:\tlearn: 0.6930557\ttotal: 12.3ms\tremaining: 0us\n",
      "0:\tlearn: 0.6930550\ttotal: 11.6ms\tremaining: 0us\n",
      "0:\tlearn: 0.6930555\ttotal: 12ms\tremaining: 0us\n"
     ]
    },
    {
     "name": "stderr",
     "output_type": "stream",
     "text": [
      "2022-03-25 17:14:09 mean cv_value 0.038349964869168376 | std cv_value 0.021467655178791255 \n",
      "2022-03-25 17:14:09 ---------------------------------------------\n",
      "2022-03-25 17:14:10 [TRAIN_MODEL] Training model\n",
      "2022-03-25 17:14:10 Set of params....., {'depth': 1, 'iterations': 1, 'learning_rate': 1.0, 'score_function': 'L2'}\n"
     ]
    },
    {
     "name": "stdout",
     "output_type": "stream",
     "text": [
      "Iteration No: 52 ended. Search finished for the next optimal point.\n",
      "Time taken: 2.4121\n",
      "Function value obtained: -0.0383\n",
      "Current minimum: -0.0690\n",
      "Iteration No: 53 started. Searching for the next optimal point.\n",
      "0:\tlearn: 0.6914640\ttotal: 11.2ms\tremaining: 0us\n",
      "0:\tlearn: 0.6915772\ttotal: 9.52ms\tremaining: 0us\n",
      "0:\tlearn: 0.6915687\ttotal: 8.58ms\tremaining: 0us\n",
      "0:\tlearn: 0.6914263\ttotal: 8.83ms\tremaining: 0us\n",
      "0:\tlearn: 0.6916382\ttotal: 9.34ms\tremaining: 0us\n"
     ]
    },
    {
     "name": "stderr",
     "output_type": "stream",
     "text": [
      "2022-03-25 17:14:11 mean cv_value 0.031220760350118244 | std cv_value 0.01209113842094328 \n",
      "2022-03-25 17:14:11 ---------------------------------------------\n",
      "2022-03-25 17:14:13 [TRAIN_MODEL] Training model\n",
      "2022-03-25 17:14:13 Set of params....., {'depth': 5, 'iterations': 100, 'learning_rate': 0.1559721603334031, 'score_function': 'L2'}\n"
     ]
    },
    {
     "name": "stdout",
     "output_type": "stream",
     "text": [
      "Iteration No: 53 ended. Search finished for the next optimal point.\n",
      "Time taken: 2.4941\n",
      "Function value obtained: -0.0312\n",
      "Current minimum: -0.0690\n",
      "Iteration No: 54 started. Searching for the next optimal point.\n",
      "0:\tlearn: 0.6922506\ttotal: 13.9ms\tremaining: 1.38s\n",
      "25:\tlearn: 0.6873400\ttotal: 333ms\tremaining: 948ms\n",
      "50:\tlearn: 0.6852696\ttotal: 665ms\tremaining: 639ms\n",
      "75:\tlearn: 0.6833416\ttotal: 996ms\tremaining: 314ms\n",
      "99:\tlearn: 0.6817040\ttotal: 1.38s\tremaining: 0us\n",
      "0:\tlearn: 0.6922401\ttotal: 18.3ms\tremaining: 1.81s\n",
      "25:\tlearn: 0.6873407\ttotal: 330ms\tremaining: 940ms\n",
      "50:\tlearn: 0.6849944\ttotal: 657ms\tremaining: 632ms\n",
      "75:\tlearn: 0.6831398\ttotal: 987ms\tremaining: 312ms\n",
      "99:\tlearn: 0.6813598\ttotal: 1.33s\tremaining: 0us\n",
      "0:\tlearn: 0.6922768\ttotal: 12.8ms\tremaining: 1.27s\n",
      "25:\tlearn: 0.6875765\ttotal: 331ms\tremaining: 943ms\n",
      "50:\tlearn: 0.6854466\ttotal: 672ms\tremaining: 646ms\n",
      "75:\tlearn: 0.6835214\ttotal: 1s\tremaining: 317ms\n",
      "99:\tlearn: 0.6818324\ttotal: 1.33s\tremaining: 0us\n",
      "0:\tlearn: 0.6922682\ttotal: 13.2ms\tremaining: 1.31s\n",
      "25:\tlearn: 0.6875168\ttotal: 348ms\tremaining: 991ms\n",
      "50:\tlearn: 0.6854518\ttotal: 687ms\tremaining: 660ms\n",
      "75:\tlearn: 0.6834897\ttotal: 1.02s\tremaining: 322ms\n",
      "99:\tlearn: 0.6817425\ttotal: 1.35s\tremaining: 0us\n",
      "0:\tlearn: 0.6922613\ttotal: 16ms\tremaining: 1.58s\n",
      "25:\tlearn: 0.6876425\ttotal: 340ms\tremaining: 967ms\n",
      "50:\tlearn: 0.6855195\ttotal: 685ms\tremaining: 658ms\n",
      "75:\tlearn: 0.6836584\ttotal: 1.02s\tremaining: 324ms\n"
     ]
    },
    {
     "name": "stderr",
     "output_type": "stream",
     "text": [
      "2022-03-25 17:14:20 mean cv_value 0.06175178614696283 | std cv_value 0.027724275908188666 \n",
      "2022-03-25 17:14:20 ---------------------------------------------\n"
     ]
    },
    {
     "name": "stdout",
     "output_type": "stream",
     "text": [
      "99:\tlearn: 0.6818691\ttotal: 1.34s\tremaining: 0us\n"
     ]
    },
    {
     "name": "stderr",
     "output_type": "stream",
     "text": [
      "2022-03-25 17:14:22 [TRAIN_MODEL] Training model\n",
      "2022-03-25 17:14:22 Set of params....., {'depth': 9, 'iterations': 100, 'learning_rate': 0.001, 'score_function': 'Cosine'}\n"
     ]
    },
    {
     "name": "stdout",
     "output_type": "stream",
     "text": [
      "Iteration No: 54 ended. Search finished for the next optimal point.\n",
      "Time taken: 9.3992\n",
      "Function value obtained: -0.0618\n",
      "Current minimum: -0.0690\n",
      "Iteration No: 55 started. Searching for the next optimal point.\n",
      "0:\tlearn: 0.6931380\ttotal: 40.4ms\tremaining: 4s\n",
      "25:\tlearn: 0.6929224\ttotal: 848ms\tremaining: 2.41s\n",
      "50:\tlearn: 0.6927032\ttotal: 1.73s\tremaining: 1.66s\n",
      "75:\tlearn: 0.6924862\ttotal: 2.62s\tremaining: 827ms\n",
      "99:\tlearn: 0.6922910\ttotal: 3.46s\tremaining: 0us\n",
      "0:\tlearn: 0.6931377\ttotal: 38.3ms\tremaining: 3.79s\n",
      "25:\tlearn: 0.6929220\ttotal: 910ms\tremaining: 2.59s\n",
      "50:\tlearn: 0.6927046\ttotal: 1.82s\tremaining: 1.75s\n",
      "75:\tlearn: 0.6924840\ttotal: 2.74s\tremaining: 864ms\n",
      "99:\tlearn: 0.6922820\ttotal: 3.6s\tremaining: 0us\n",
      "0:\tlearn: 0.6931381\ttotal: 57.2ms\tremaining: 5.66s\n",
      "25:\tlearn: 0.6929321\ttotal: 883ms\tremaining: 2.51s\n",
      "50:\tlearn: 0.6927197\ttotal: 1.74s\tremaining: 1.67s\n",
      "75:\tlearn: 0.6924979\ttotal: 2.65s\tremaining: 835ms\n",
      "99:\tlearn: 0.6923028\ttotal: 3.45s\tremaining: 0us\n",
      "0:\tlearn: 0.6931376\ttotal: 37.3ms\tremaining: 3.69s\n",
      "25:\tlearn: 0.6929228\ttotal: 858ms\tremaining: 2.44s\n",
      "50:\tlearn: 0.6927021\ttotal: 1.73s\tremaining: 1.66s\n",
      "75:\tlearn: 0.6925047\ttotal: 2.57s\tremaining: 812ms\n",
      "99:\tlearn: 0.6923024\ttotal: 3.41s\tremaining: 0us\n",
      "0:\tlearn: 0.6931370\ttotal: 41.2ms\tremaining: 4.08s\n",
      "25:\tlearn: 0.6929236\ttotal: 877ms\tremaining: 2.5s\n",
      "50:\tlearn: 0.6927161\ttotal: 1.75s\tremaining: 1.68s\n",
      "75:\tlearn: 0.6925109\ttotal: 2.6s\tremaining: 821ms\n"
     ]
    },
    {
     "name": "stderr",
     "output_type": "stream",
     "text": [
      "2022-03-25 17:14:40 mean cv_value 0.0581687262195907 | std cv_value 0.02466552321447688 \n",
      "2022-03-25 17:14:40 ---------------------------------------------\n"
     ]
    },
    {
     "name": "stdout",
     "output_type": "stream",
     "text": [
      "99:\tlearn: 0.6923193\ttotal: 3.44s\tremaining: 0us\n"
     ]
    },
    {
     "name": "stderr",
     "output_type": "stream",
     "text": [
      "2022-03-25 17:14:42 [TRAIN_MODEL] Training model\n",
      "2022-03-25 17:14:42 Set of params....., {'depth': 4, 'iterations': 100, 'learning_rate': 0.19383391962094973, 'score_function': 'Cosine'}\n"
     ]
    },
    {
     "name": "stdout",
     "output_type": "stream",
     "text": [
      "Iteration No: 55 ended. Search finished for the next optimal point.\n",
      "Time taken: 20.0174\n",
      "Function value obtained: -0.0582\n",
      "Current minimum: -0.0690\n",
      "Iteration No: 56 started. Searching for the next optimal point.\n",
      "0:\tlearn: 0.6922701\ttotal: 15.5ms\tremaining: 1.53s\n",
      "25:\tlearn: 0.6890486\ttotal: 282ms\tremaining: 802ms\n",
      "50:\tlearn: 0.6882562\ttotal: 562ms\tremaining: 540ms\n",
      "75:\tlearn: 0.6871779\ttotal: 852ms\tremaining: 269ms\n",
      "99:\tlearn: 0.6858212\ttotal: 1.13s\tremaining: 0us\n",
      "0:\tlearn: 0.6922152\ttotal: 14.9ms\tremaining: 1.48s\n",
      "25:\tlearn: 0.6890194\ttotal: 279ms\tremaining: 793ms\n",
      "50:\tlearn: 0.6880611\ttotal: 554ms\tremaining: 532ms\n",
      "75:\tlearn: 0.6870032\ttotal: 832ms\tremaining: 263ms\n",
      "99:\tlearn: 0.6855891\ttotal: 1.12s\tremaining: 0us\n",
      "0:\tlearn: 0.6922994\ttotal: 14.3ms\tremaining: 1.41s\n",
      "25:\tlearn: 0.6890435\ttotal: 283ms\tremaining: 806ms\n",
      "50:\tlearn: 0.6882021\ttotal: 570ms\tremaining: 548ms\n",
      "75:\tlearn: 0.6870950\ttotal: 866ms\tremaining: 274ms\n",
      "99:\tlearn: 0.6858632\ttotal: 1.15s\tremaining: 0us\n",
      "0:\tlearn: 0.6922728\ttotal: 11.8ms\tremaining: 1.17s\n",
      "25:\tlearn: 0.6890747\ttotal: 282ms\tremaining: 802ms\n",
      "50:\tlearn: 0.6882270\ttotal: 565ms\tremaining: 543ms\n",
      "75:\tlearn: 0.6869554\ttotal: 851ms\tremaining: 269ms\n",
      "99:\tlearn: 0.6854906\ttotal: 1.13s\tremaining: 0us\n",
      "0:\tlearn: 0.6922569\ttotal: 12.7ms\tremaining: 1.26s\n",
      "25:\tlearn: 0.6890711\ttotal: 274ms\tremaining: 779ms\n",
      "50:\tlearn: 0.6882299\ttotal: 547ms\tremaining: 526ms\n",
      "75:\tlearn: 0.6871839\ttotal: 834ms\tremaining: 263ms\n"
     ]
    },
    {
     "name": "stderr",
     "output_type": "stream",
     "text": [
      "2022-03-25 17:14:49 mean cv_value 0.06642197122833424 | std cv_value 0.025949411470194694 \n",
      "2022-03-25 17:14:49 ---------------------------------------------\n"
     ]
    },
    {
     "name": "stdout",
     "output_type": "stream",
     "text": [
      "99:\tlearn: 0.6858154\ttotal: 1.12s\tremaining: 0us\n"
     ]
    },
    {
     "name": "stderr",
     "output_type": "stream",
     "text": [
      "2022-03-25 17:14:50 [TRAIN_MODEL] Training model\n",
      "2022-03-25 17:14:50 Set of params....., {'depth': 9, 'iterations': 2, 'learning_rate': 0.0011714927475703007, 'score_function': 'Cosine'}\n"
     ]
    },
    {
     "name": "stdout",
     "output_type": "stream",
     "text": [
      "Iteration No: 56 ended. Search finished for the next optimal point.\n",
      "Time taken: 8.0134\n",
      "Function value obtained: -0.0664\n",
      "Current minimum: -0.0690\n",
      "Iteration No: 57 started. Searching for the next optimal point.\n",
      "0:\tlearn: 0.6931364\ttotal: 40ms\tremaining: 40ms\n",
      "1:\tlearn: 0.6931313\ttotal: 52.6ms\tremaining: 0us\n",
      "0:\tlearn: 0.6931361\ttotal: 40.1ms\tremaining: 40.1ms\n",
      "1:\tlearn: 0.6931234\ttotal: 76.9ms\tremaining: 0us\n",
      "0:\tlearn: 0.6931365\ttotal: 37.8ms\tremaining: 37.8ms\n",
      "1:\tlearn: 0.6931317\ttotal: 50ms\tremaining: 0us\n",
      "0:\tlearn: 0.6931360\ttotal: 36.3ms\tremaining: 36.3ms\n",
      "1:\tlearn: 0.6931310\ttotal: 48.5ms\tremaining: 0us\n"
     ]
    },
    {
     "name": "stderr",
     "output_type": "stream",
     "text": [
      "2022-03-25 17:14:51 mean cv_value 0.05035079740410048 | std cv_value 0.015986789991793503 \n",
      "2022-03-25 17:14:51 ---------------------------------------------\n"
     ]
    },
    {
     "name": "stdout",
     "output_type": "stream",
     "text": [
      "0:\tlearn: 0.6931352\ttotal: 36.9ms\tremaining: 36.9ms\n",
      "1:\tlearn: 0.6931303\ttotal: 49.7ms\tremaining: 0us\n"
     ]
    },
    {
     "name": "stderr",
     "output_type": "stream",
     "text": [
      "2022-03-25 17:14:53 [TRAIN_MODEL] Training model\n",
      "2022-03-25 17:14:53 Set of params....., {'depth': 4, 'iterations': 100, 'learning_rate': 0.23724561627569962, 'score_function': 'Cosine'}\n"
     ]
    },
    {
     "name": "stdout",
     "output_type": "stream",
     "text": [
      "Iteration No: 57 ended. Search finished for the next optimal point.\n",
      "Time taken: 2.5497\n",
      "Function value obtained: -0.0504\n",
      "Current minimum: -0.0690\n",
      "Iteration No: 58 started. Searching for the next optimal point.\n",
      "0:\tlearn: 0.6920995\ttotal: 13.6ms\tremaining: 1.35s\n",
      "25:\tlearn: 0.6888491\ttotal: 282ms\tremaining: 803ms\n",
      "50:\tlearn: 0.6878184\ttotal: 573ms\tremaining: 550ms\n",
      "75:\tlearn: 0.6860502\ttotal: 858ms\tremaining: 271ms\n",
      "99:\tlearn: 0.6844700\ttotal: 1.13s\tremaining: 0us\n",
      "0:\tlearn: 0.6920340\ttotal: 12.1ms\tremaining: 1.2s\n",
      "25:\tlearn: 0.6888257\ttotal: 278ms\tremaining: 792ms\n",
      "50:\tlearn: 0.6875945\ttotal: 560ms\tremaining: 538ms\n",
      "75:\tlearn: 0.6858399\ttotal: 842ms\tremaining: 266ms\n",
      "99:\tlearn: 0.6843025\ttotal: 1.12s\tremaining: 0us\n",
      "0:\tlearn: 0.6921345\ttotal: 11.8ms\tremaining: 1.17s\n",
      "25:\tlearn: 0.6889642\ttotal: 299ms\tremaining: 851ms\n",
      "50:\tlearn: 0.6877401\ttotal: 583ms\tremaining: 560ms\n",
      "75:\tlearn: 0.6860406\ttotal: 875ms\tremaining: 276ms\n",
      "99:\tlearn: 0.6845221\ttotal: 1.19s\tremaining: 0us\n",
      "0:\tlearn: 0.6921027\ttotal: 16.6ms\tremaining: 1.64s\n",
      "25:\tlearn: 0.6887658\ttotal: 301ms\tremaining: 856ms\n",
      "50:\tlearn: 0.6878128\ttotal: 577ms\tremaining: 554ms\n",
      "75:\tlearn: 0.6860722\ttotal: 871ms\tremaining: 275ms\n",
      "99:\tlearn: 0.6844434\ttotal: 1.17s\tremaining: 0us\n",
      "0:\tlearn: 0.6920839\ttotal: 19.2ms\tremaining: 1.9s\n",
      "25:\tlearn: 0.6888854\ttotal: 292ms\tremaining: 830ms\n",
      "50:\tlearn: 0.6878503\ttotal: 564ms\tremaining: 542ms\n",
      "75:\tlearn: 0.6862424\ttotal: 862ms\tremaining: 272ms\n"
     ]
    },
    {
     "name": "stderr",
     "output_type": "stream",
     "text": [
      "2022-03-25 17:14:59 mean cv_value 0.061506974469702644 | std cv_value 0.026253031734105 \n",
      "2022-03-25 17:14:59 ---------------------------------------------\n"
     ]
    },
    {
     "name": "stdout",
     "output_type": "stream",
     "text": [
      "99:\tlearn: 0.6845634\ttotal: 1.16s\tremaining: 0us\n"
     ]
    },
    {
     "name": "stderr",
     "output_type": "stream",
     "text": [
      "2022-03-25 17:15:01 [TRAIN_MODEL] Training model\n",
      "2022-03-25 17:15:01 Set of params....., {'depth': 8, 'iterations': 100, 'learning_rate': 0.009794091255918925, 'score_function': 'Cosine'}\n"
     ]
    },
    {
     "name": "stdout",
     "output_type": "stream",
     "text": [
      "Iteration No: 58 ended. Search finished for the next optimal point.\n",
      "Time taken: 8.1067\n",
      "Function value obtained: -0.0615\n",
      "Current minimum: -0.0690\n",
      "Iteration No: 59 started. Searching for the next optimal point.\n",
      "0:\tlearn: 0.6930762\ttotal: 35.7ms\tremaining: 3.53s\n",
      "25:\tlearn: 0.6915282\ttotal: 660ms\tremaining: 1.88s\n",
      "50:\tlearn: 0.6903816\ttotal: 1.27s\tremaining: 1.22s\n",
      "75:\tlearn: 0.6893891\ttotal: 1.9s\tremaining: 601ms\n",
      "99:\tlearn: 0.6886203\ttotal: 2.5s\tremaining: 0us\n",
      "0:\tlearn: 0.6930704\ttotal: 30.1ms\tremaining: 2.98s\n",
      "25:\tlearn: 0.6915382\ttotal: 651ms\tremaining: 1.85s\n",
      "50:\tlearn: 0.6903809\ttotal: 1.27s\tremaining: 1.22s\n",
      "75:\tlearn: 0.6894359\ttotal: 1.9s\tremaining: 601ms\n",
      "99:\tlearn: 0.6886794\ttotal: 2.48s\tremaining: 0us\n",
      "0:\tlearn: 0.6930760\ttotal: 28.1ms\tremaining: 2.79s\n",
      "25:\tlearn: 0.6915814\ttotal: 643ms\tremaining: 1.83s\n",
      "50:\tlearn: 0.6904529\ttotal: 1.25s\tremaining: 1.2s\n",
      "75:\tlearn: 0.6895195\ttotal: 1.86s\tremaining: 589ms\n",
      "99:\tlearn: 0.6887828\ttotal: 2.47s\tremaining: 0us\n",
      "0:\tlearn: 0.6930748\ttotal: 28.8ms\tremaining: 2.85s\n",
      "25:\tlearn: 0.6915699\ttotal: 651ms\tremaining: 1.85s\n",
      "50:\tlearn: 0.6904074\ttotal: 1.26s\tremaining: 1.21s\n",
      "75:\tlearn: 0.6894927\ttotal: 1.87s\tremaining: 590ms\n",
      "99:\tlearn: 0.6887130\ttotal: 2.46s\tremaining: 0us\n",
      "0:\tlearn: 0.6930709\ttotal: 27ms\tremaining: 2.67s\n",
      "25:\tlearn: 0.6915582\ttotal: 657ms\tremaining: 1.87s\n",
      "50:\tlearn: 0.6904217\ttotal: 1.27s\tremaining: 1.22s\n",
      "75:\tlearn: 0.6895162\ttotal: 1.9s\tremaining: 600ms\n"
     ]
    },
    {
     "name": "stderr",
     "output_type": "stream",
     "text": [
      "2022-03-25 17:15:14 mean cv_value 0.06069769137078883 | std cv_value 0.02723160588799093 \n",
      "2022-03-25 17:15:14 ---------------------------------------------\n"
     ]
    },
    {
     "name": "stdout",
     "output_type": "stream",
     "text": [
      "99:\tlearn: 0.6887379\ttotal: 2.49s\tremaining: 0us\n"
     ]
    },
    {
     "name": "stderr",
     "output_type": "stream",
     "text": [
      "2022-03-25 17:15:15 [TRAIN_MODEL] Training model\n",
      "2022-03-25 17:15:15 Set of params....., {'depth': 4, 'iterations': 100, 'learning_rate': 0.1458429269137117, 'score_function': 'L2'}\n"
     ]
    },
    {
     "name": "stdout",
     "output_type": "stream",
     "text": [
      "Iteration No: 59 ended. Search finished for the next optimal point.\n",
      "Time taken: 14.8166\n",
      "Function value obtained: -0.0607\n",
      "Current minimum: -0.0690\n",
      "Iteration No: 60 started. Searching for the next optimal point.\n",
      "0:\tlearn: 0.6923679\ttotal: 16.3ms\tremaining: 1.61s\n",
      "25:\tlearn: 0.6885879\ttotal: 288ms\tremaining: 819ms\n",
      "50:\tlearn: 0.6873271\ttotal: 563ms\tremaining: 541ms\n",
      "75:\tlearn: 0.6861966\ttotal: 856ms\tremaining: 270ms\n",
      "99:\tlearn: 0.6851950\ttotal: 1.12s\tremaining: 0us\n",
      "0:\tlearn: 0.6923729\ttotal: 12ms\tremaining: 1.19s\n",
      "25:\tlearn: 0.6885075\ttotal: 274ms\tremaining: 779ms\n",
      "50:\tlearn: 0.6872216\ttotal: 557ms\tremaining: 535ms\n",
      "75:\tlearn: 0.6860962\ttotal: 841ms\tremaining: 266ms\n",
      "99:\tlearn: 0.6850507\ttotal: 1.12s\tremaining: 0us\n",
      "0:\tlearn: 0.6923916\ttotal: 12.3ms\tremaining: 1.22s\n",
      "25:\tlearn: 0.6887836\ttotal: 279ms\tremaining: 794ms\n",
      "50:\tlearn: 0.6875411\ttotal: 557ms\tremaining: 535ms\n",
      "75:\tlearn: 0.6864070\ttotal: 847ms\tremaining: 267ms\n",
      "99:\tlearn: 0.6853785\ttotal: 1.12s\tremaining: 0us\n",
      "0:\tlearn: 0.6923864\ttotal: 12.2ms\tremaining: 1.21s\n",
      "25:\tlearn: 0.6886537\ttotal: 274ms\tremaining: 779ms\n",
      "50:\tlearn: 0.6873596\ttotal: 551ms\tremaining: 529ms\n",
      "75:\tlearn: 0.6861939\ttotal: 840ms\tremaining: 265ms\n",
      "99:\tlearn: 0.6850933\ttotal: 1.12s\tremaining: 0us\n",
      "0:\tlearn: 0.6923904\ttotal: 14.7ms\tremaining: 1.46s\n",
      "25:\tlearn: 0.6887841\ttotal: 278ms\tremaining: 790ms\n",
      "50:\tlearn: 0.6874526\ttotal: 575ms\tremaining: 552ms\n",
      "75:\tlearn: 0.6864504\ttotal: 847ms\tremaining: 268ms\n"
     ]
    },
    {
     "name": "stderr",
     "output_type": "stream",
     "text": [
      "2022-03-25 17:15:22 mean cv_value 0.0632433926656072 | std cv_value 0.031923572337940624 \n",
      "2022-03-25 17:15:22 ---------------------------------------------\n"
     ]
    },
    {
     "name": "stdout",
     "output_type": "stream",
     "text": [
      "99:\tlearn: 0.6854440\ttotal: 1.12s\tremaining: 0us\n"
     ]
    },
    {
     "name": "stderr",
     "output_type": "stream",
     "text": [
      "2022-03-25 17:15:24 [TRAIN_MODEL] Training model\n",
      "2022-03-25 17:15:24 Set of params....., {'depth': 5, 'iterations': 73, 'learning_rate': 0.157119359016476, 'score_function': 'Cosine'}\n"
     ]
    },
    {
     "name": "stdout",
     "output_type": "stream",
     "text": [
      "Iteration No: 60 ended. Search finished for the next optimal point.\n",
      "Time taken: 8.1612\n",
      "Function value obtained: -0.0632\n",
      "Current minimum: -0.0690\n",
      "Iteration No: 61 started. Searching for the next optimal point.\n",
      "0:\tlearn: 0.6923591\ttotal: 14.4ms\tremaining: 1.03s\n",
      "25:\tlearn: 0.6885158\ttotal: 325ms\tremaining: 587ms\n",
      "50:\tlearn: 0.6870767\ttotal: 663ms\tremaining: 286ms\n",
      "72:\tlearn: 0.6860632\ttotal: 953ms\tremaining: 0us\n",
      "0:\tlearn: 0.6923379\ttotal: 13.9ms\tremaining: 998ms\n",
      "25:\tlearn: 0.6886560\ttotal: 333ms\tremaining: 602ms\n",
      "50:\tlearn: 0.6872427\ttotal: 662ms\tremaining: 285ms\n",
      "72:\tlearn: 0.6862019\ttotal: 952ms\tremaining: 0us\n",
      "0:\tlearn: 0.6923748\ttotal: 14.1ms\tremaining: 1.01s\n",
      "25:\tlearn: 0.6887699\ttotal: 324ms\tremaining: 586ms\n",
      "50:\tlearn: 0.6875801\ttotal: 654ms\tremaining: 282ms\n",
      "72:\tlearn: 0.6864435\ttotal: 940ms\tremaining: 0us\n",
      "0:\tlearn: 0.6923745\ttotal: 14.5ms\tremaining: 1.04s\n",
      "25:\tlearn: 0.6886882\ttotal: 322ms\tremaining: 582ms\n",
      "50:\tlearn: 0.6874685\ttotal: 653ms\tremaining: 282ms\n",
      "72:\tlearn: 0.6862953\ttotal: 949ms\tremaining: 0us\n",
      "0:\tlearn: 0.6923400\ttotal: 12.9ms\tremaining: 926ms\n",
      "25:\tlearn: 0.6886178\ttotal: 344ms\tremaining: 621ms\n",
      "50:\tlearn: 0.6873228\ttotal: 679ms\tremaining: 293ms\n"
     ]
    },
    {
     "name": "stderr",
     "output_type": "stream",
     "text": [
      "2022-03-25 17:15:29 mean cv_value 0.05843217143982641 | std cv_value 0.0277942963570582 \n",
      "2022-03-25 17:15:29 ---------------------------------------------\n"
     ]
    },
    {
     "name": "stdout",
     "output_type": "stream",
     "text": [
      "72:\tlearn: 0.6863771\ttotal: 977ms\tremaining: 0us\n"
     ]
    },
    {
     "name": "stderr",
     "output_type": "stream",
     "text": [
      "2022-03-25 17:15:31 [TRAIN_MODEL] Training model\n",
      "2022-03-25 17:15:31 Set of params....., {'depth': 13, 'iterations': 100, 'learning_rate': 0.001, 'score_function': 'Cosine'}\n"
     ]
    },
    {
     "name": "stdout",
     "output_type": "stream",
     "text": [
      "Iteration No: 61 ended. Search finished for the next optimal point.\n",
      "Time taken: 7.3225\n",
      "Function value obtained: -0.0584\n",
      "Current minimum: -0.0690\n",
      "Iteration No: 62 started. Searching for the next optimal point.\n",
      "0:\tlearn: 0.6931191\ttotal: 326ms\tremaining: 32.3s\n",
      "25:\tlearn: 0.6923772\ttotal: 6.8s\tremaining: 19.4s\n",
      "50:\tlearn: 0.6915948\ttotal: 13s\tremaining: 12.5s\n",
      "75:\tlearn: 0.6908239\ttotal: 19.5s\tremaining: 6.15s\n",
      "99:\tlearn: 0.6900447\ttotal: 25.7s\tremaining: 0us\n",
      "0:\tlearn: 0.6931161\ttotal: 267ms\tremaining: 26.5s\n",
      "25:\tlearn: 0.6923331\ttotal: 6.66s\tremaining: 18.9s\n",
      "50:\tlearn: 0.6915448\ttotal: 12.8s\tremaining: 12.3s\n",
      "75:\tlearn: 0.6906995\ttotal: 19.3s\tremaining: 6.08s\n",
      "99:\tlearn: 0.6898963\ttotal: 25.6s\tremaining: 0us\n",
      "0:\tlearn: 0.6931171\ttotal: 408ms\tremaining: 40.4s\n",
      "25:\tlearn: 0.6923266\ttotal: 7.17s\tremaining: 20.4s\n",
      "50:\tlearn: 0.6915693\ttotal: 13.3s\tremaining: 12.8s\n",
      "75:\tlearn: 0.6907906\ttotal: 19.7s\tremaining: 6.21s\n",
      "99:\tlearn: 0.6899971\ttotal: 26.2s\tremaining: 0us\n",
      "0:\tlearn: 0.6931172\ttotal: 268ms\tremaining: 26.5s\n",
      "25:\tlearn: 0.6922884\ttotal: 6.78s\tremaining: 19.3s\n",
      "50:\tlearn: 0.6914560\ttotal: 13.1s\tremaining: 12.6s\n",
      "75:\tlearn: 0.6906522\ttotal: 19.7s\tremaining: 6.21s\n",
      "99:\tlearn: 0.6898568\ttotal: 25.9s\tremaining: 0us\n",
      "0:\tlearn: 0.6931088\ttotal: 263ms\tremaining: 26s\n",
      "25:\tlearn: 0.6923337\ttotal: 6.64s\tremaining: 18.9s\n",
      "50:\tlearn: 0.6915474\ttotal: 12.9s\tremaining: 12.4s\n",
      "75:\tlearn: 0.6907666\ttotal: 19.4s\tremaining: 6.11s\n"
     ]
    },
    {
     "name": "stderr",
     "output_type": "stream",
     "text": [
      "2022-03-25 17:17:42 mean cv_value 0.05539254524802184 | std cv_value 0.021709991711768684 \n",
      "2022-03-25 17:17:42 ---------------------------------------------\n"
     ]
    },
    {
     "name": "stdout",
     "output_type": "stream",
     "text": [
      "99:\tlearn: 0.6899134\ttotal: 25.7s\tremaining: 0us\n"
     ]
    },
    {
     "name": "stderr",
     "output_type": "stream",
     "text": [
      "2022-03-25 17:17:43 [TRAIN_MODEL] Training model\n",
      "2022-03-25 17:17:43 Set of params....., {'depth': 10, 'iterations': 100, 'learning_rate': 0.007207423418957198, 'score_function': 'Cosine'}\n"
     ]
    },
    {
     "name": "stdout",
     "output_type": "stream",
     "text": [
      "Iteration No: 62 ended. Search finished for the next optimal point.\n",
      "Time taken: 132.0834\n",
      "Function value obtained: -0.0554\n",
      "Current minimum: -0.0690\n",
      "Iteration No: 63 started. Searching for the next optimal point.\n",
      "0:\tlearn: 0.6930703\ttotal: 83.2ms\tremaining: 8.24s\n",
      "25:\tlearn: 0.6913092\ttotal: 1.42s\tremaining: 4.03s\n",
      "50:\tlearn: 0.6894623\ttotal: 2.89s\tremaining: 2.78s\n",
      "75:\tlearn: 0.6878910\ttotal: 4.31s\tremaining: 1.36s\n",
      "99:\tlearn: 0.6867072\ttotal: 5.62s\tremaining: 0us\n",
      "0:\tlearn: 0.6930692\ttotal: 58.5ms\tremaining: 5.79s\n",
      "25:\tlearn: 0.6911729\ttotal: 1.41s\tremaining: 4.02s\n",
      "50:\tlearn: 0.6894087\ttotal: 2.83s\tremaining: 2.72s\n",
      "75:\tlearn: 0.6879576\ttotal: 4.2s\tremaining: 1.33s\n",
      "99:\tlearn: 0.6865639\ttotal: 5.59s\tremaining: 0us\n",
      "0:\tlearn: 0.6930714\ttotal: 54.6ms\tremaining: 5.4s\n",
      "25:\tlearn: 0.6912320\ttotal: 1.38s\tremaining: 3.93s\n",
      "50:\tlearn: 0.6894020\ttotal: 2.83s\tremaining: 2.72s\n",
      "75:\tlearn: 0.6879883\ttotal: 4.18s\tremaining: 1.32s\n",
      "99:\tlearn: 0.6867086\ttotal: 5.55s\tremaining: 0us\n",
      "0:\tlearn: 0.6930697\ttotal: 57.5ms\tremaining: 5.7s\n",
      "25:\tlearn: 0.6912186\ttotal: 1.39s\tremaining: 3.96s\n",
      "50:\tlearn: 0.6894732\ttotal: 2.81s\tremaining: 2.7s\n",
      "75:\tlearn: 0.6880222\ttotal: 4.19s\tremaining: 1.32s\n",
      "99:\tlearn: 0.6867411\ttotal: 5.51s\tremaining: 0us\n",
      "0:\tlearn: 0.6930592\ttotal: 58.9ms\tremaining: 5.83s\n",
      "25:\tlearn: 0.6912270\ttotal: 1.38s\tremaining: 3.93s\n",
      "50:\tlearn: 0.6895793\ttotal: 2.77s\tremaining: 2.66s\n",
      "75:\tlearn: 0.6879533\ttotal: 4.22s\tremaining: 1.33s\n"
     ]
    },
    {
     "name": "stderr",
     "output_type": "stream",
     "text": [
      "2022-03-25 17:18:12 mean cv_value 0.06180833446031173 | std cv_value 0.0317893238162935 \n",
      "2022-03-25 17:18:12 ---------------------------------------------\n"
     ]
    },
    {
     "name": "stdout",
     "output_type": "stream",
     "text": [
      "99:\tlearn: 0.6866360\ttotal: 5.59s\tremaining: 0us\n"
     ]
    },
    {
     "name": "stderr",
     "output_type": "stream",
     "text": [
      "2022-03-25 17:18:13 [TRAIN_MODEL] Training model\n",
      "2022-03-25 17:18:13 Set of params....., {'depth': 3, 'iterations': 100, 'learning_rate': 0.7285582321344861, 'score_function': 'Cosine'}\n"
     ]
    },
    {
     "name": "stdout",
     "output_type": "stream",
     "text": [
      "Iteration No: 63 ended. Search finished for the next optimal point.\n",
      "Time taken: 30.4627\n",
      "Function value obtained: -0.0618\n",
      "Current minimum: -0.0690\n",
      "Iteration No: 64 started. Searching for the next optimal point.\n",
      "0:\tlearn: 0.6909782\ttotal: 17.4ms\tremaining: 1.72s\n",
      "25:\tlearn: 0.6882904\ttotal: 262ms\tremaining: 745ms\n",
      "50:\tlearn: 0.6858213\ttotal: 506ms\tremaining: 487ms\n",
      "75:\tlearn: 0.6839613\ttotal: 755ms\tremaining: 238ms\n",
      "99:\tlearn: 0.6823569\ttotal: 1000ms\tremaining: 0us\n",
      "0:\tlearn: 0.6910434\ttotal: 13.8ms\tremaining: 1.37s\n",
      "25:\tlearn: 0.6880019\ttotal: 246ms\tremaining: 699ms\n",
      "50:\tlearn: 0.6856481\ttotal: 491ms\tremaining: 472ms\n",
      "75:\tlearn: 0.6836251\ttotal: 745ms\tremaining: 235ms\n",
      "99:\tlearn: 0.6818873\ttotal: 984ms\tremaining: 0us\n",
      "0:\tlearn: 0.6910708\ttotal: 11.5ms\tremaining: 1.14s\n",
      "25:\tlearn: 0.6884437\ttotal: 252ms\tremaining: 719ms\n",
      "50:\tlearn: 0.6862743\ttotal: 508ms\tremaining: 488ms\n",
      "75:\tlearn: 0.6843089\ttotal: 759ms\tremaining: 240ms\n",
      "99:\tlearn: 0.6824239\ttotal: 1s\tremaining: 0us\n",
      "0:\tlearn: 0.6909407\ttotal: 10.8ms\tremaining: 1.07s\n",
      "25:\tlearn: 0.6879512\ttotal: 251ms\tremaining: 713ms\n",
      "50:\tlearn: 0.6857347\ttotal: 502ms\tremaining: 482ms\n",
      "75:\tlearn: 0.6837819\ttotal: 757ms\tremaining: 239ms\n",
      "99:\tlearn: 0.6820020\ttotal: 992ms\tremaining: 0us\n",
      "0:\tlearn: 0.6911263\ttotal: 10.5ms\tremaining: 1.04s\n",
      "25:\tlearn: 0.6881932\ttotal: 272ms\tremaining: 773ms\n",
      "50:\tlearn: 0.6860741\ttotal: 524ms\tremaining: 503ms\n",
      "75:\tlearn: 0.6841538\ttotal: 765ms\tremaining: 241ms\n"
     ]
    },
    {
     "name": "stderr",
     "output_type": "stream",
     "text": [
      "2022-03-25 17:18:19 mean cv_value 0.0547988698479089 | std cv_value 0.02670849333186389 \n",
      "2022-03-25 17:18:19 ---------------------------------------------\n"
     ]
    },
    {
     "name": "stdout",
     "output_type": "stream",
     "text": [
      "99:\tlearn: 0.6825901\ttotal: 1s\tremaining: 0us\n"
     ]
    },
    {
     "name": "stderr",
     "output_type": "stream",
     "text": [
      "2022-03-25 17:18:21 [TRAIN_MODEL] Training model\n",
      "2022-03-25 17:18:21 Set of params....., {'depth': 11, 'iterations': 2, 'learning_rate': 0.009977400572471836, 'score_function': 'Cosine'}\n"
     ]
    },
    {
     "name": "stdout",
     "output_type": "stream",
     "text": [
      "Iteration No: 64 ended. Search finished for the next optimal point.\n",
      "Time taken: 7.6095\n",
      "Function value obtained: -0.0548\n",
      "Current minimum: -0.0690\n",
      "Iteration No: 65 started. Searching for the next optimal point.\n",
      "0:\tlearn: 0.6930085\ttotal: 116ms\tremaining: 116ms\n",
      "1:\tlearn: 0.6928826\ttotal: 202ms\tremaining: 0us\n",
      "0:\tlearn: 0.6930019\ttotal: 86.8ms\tremaining: 86.8ms\n",
      "1:\tlearn: 0.6928449\ttotal: 174ms\tremaining: 0us\n",
      "0:\tlearn: 0.6930034\ttotal: 85.2ms\tremaining: 85.2ms\n",
      "1:\tlearn: 0.6928801\ttotal: 173ms\tremaining: 0us\n",
      "0:\tlearn: 0.6930012\ttotal: 85.2ms\tremaining: 85.2ms\n",
      "1:\tlearn: 0.6928735\ttotal: 171ms\tremaining: 0us\n"
     ]
    },
    {
     "name": "stderr",
     "output_type": "stream",
     "text": [
      "2022-03-25 17:18:23 mean cv_value 0.05320659093000468 | std cv_value 0.016545642196395236 \n",
      "2022-03-25 17:18:23 ---------------------------------------------\n"
     ]
    },
    {
     "name": "stdout",
     "output_type": "stream",
     "text": [
      "0:\tlearn: 0.6929762\ttotal: 88.3ms\tremaining: 88.3ms\n",
      "1:\tlearn: 0.6928537\ttotal: 171ms\tremaining: 0us\n"
     ]
    },
    {
     "name": "stderr",
     "output_type": "stream",
     "text": [
      "2022-03-25 17:18:24 [TRAIN_MODEL] Training model\n",
      "2022-03-25 17:18:24 Set of params....., {'depth': 16, 'iterations': 2, 'learning_rate': 0.021386556011277896, 'score_function': 'Cosine'}\n"
     ]
    },
    {
     "name": "stdout",
     "output_type": "stream",
     "text": [
      "Iteration No: 65 ended. Search finished for the next optimal point.\n",
      "Time taken: 3.1433\n",
      "Function value obtained: -0.0532\n",
      "Current minimum: -0.0690\n",
      "Iteration No: 66 started. Searching for the next optimal point.\n",
      "0:\tlearn: 0.6914478\ttotal: 3.31s\tremaining: 3.31s\n",
      "1:\tlearn: 0.6898573\ttotal: 6.09s\tremaining: 0us\n",
      "0:\tlearn: 0.6913320\ttotal: 2.7s\tremaining: 2.7s\n",
      "1:\tlearn: 0.6894932\ttotal: 5.64s\tremaining: 0us\n",
      "0:\tlearn: 0.6914397\ttotal: 2.59s\tremaining: 2.59s\n",
      "1:\tlearn: 0.6896682\ttotal: 5.39s\tremaining: 0us\n",
      "0:\tlearn: 0.6914116\ttotal: 2.6s\tremaining: 2.6s\n",
      "1:\tlearn: 0.6896224\ttotal: 5.46s\tremaining: 0us\n",
      "0:\tlearn: 0.6912490\ttotal: 2.62s\tremaining: 2.62s\n"
     ]
    },
    {
     "name": "stderr",
     "output_type": "stream",
     "text": [
      "2022-03-25 17:18:53 mean cv_value 0.03999760338215917 | std cv_value 0.03552946044405663 \n",
      "2022-03-25 17:18:53 ---------------------------------------------\n"
     ]
    },
    {
     "name": "stdout",
     "output_type": "stream",
     "text": [
      "1:\tlearn: 0.6896547\ttotal: 5.33s\tremaining: 0us\n"
     ]
    },
    {
     "name": "stderr",
     "output_type": "stream",
     "text": [
      "2022-03-25 17:18:55 [TRAIN_MODEL] Training model\n",
      "2022-03-25 17:18:55 Set of params....., {'depth': 5, 'iterations': 3, 'learning_rate': 0.0010517873237687503, 'score_function': 'Cosine'}\n"
     ]
    },
    {
     "name": "stdout",
     "output_type": "stream",
     "text": [
      "Iteration No: 66 ended. Search finished for the next optimal point.\n",
      "Time taken: 30.5480\n",
      "Function value obtained: -0.0400\n",
      "Current minimum: -0.0690\n",
      "Iteration No: 67 started. Searching for the next optimal point.\n",
      "0:\tlearn: 0.6931415\ttotal: 15.3ms\tremaining: 30.5ms\n",
      "2:\tlearn: 0.6931305\ttotal: 42.1ms\tremaining: 0us\n",
      "0:\tlearn: 0.6931413\ttotal: 26ms\tremaining: 52.1ms\n",
      "2:\tlearn: 0.6931296\ttotal: 53.2ms\tremaining: 0us\n",
      "0:\tlearn: 0.6931416\ttotal: 13.9ms\tremaining: 27.9ms\n",
      "2:\tlearn: 0.6931303\ttotal: 38.4ms\tremaining: 0us\n",
      "0:\tlearn: 0.6931416\ttotal: 12.5ms\tremaining: 25.1ms\n",
      "2:\tlearn: 0.6931301\ttotal: 37ms\tremaining: 0us\n"
     ]
    },
    {
     "name": "stderr",
     "output_type": "stream",
     "text": [
      "2022-03-25 17:18:56 mean cv_value 0.049720832328245534 | std cv_value 0.01871428592058325 \n",
      "2022-03-25 17:18:56 ---------------------------------------------\n"
     ]
    },
    {
     "name": "stdout",
     "output_type": "stream",
     "text": [
      "0:\tlearn: 0.6931413\ttotal: 12.2ms\tremaining: 24.5ms\n",
      "2:\tlearn: 0.6931303\ttotal: 36.6ms\tremaining: 0us\n"
     ]
    },
    {
     "name": "stderr",
     "output_type": "stream",
     "text": [
      "2022-03-25 17:18:58 [TRAIN_MODEL] Training model\n",
      "2022-03-25 17:18:58 Set of params....., {'depth': 16, 'iterations': 94, 'learning_rate': 0.0012115949631883217, 'score_function': 'Cosine'}\n"
     ]
    },
    {
     "name": "stdout",
     "output_type": "stream",
     "text": [
      "Iteration No: 67 ended. Search finished for the next optimal point.\n",
      "Time taken: 3.0395\n",
      "Function value obtained: -0.0497\n",
      "Current minimum: -0.0690\n",
      "Iteration No: 68 started. Searching for the next optimal point.\n",
      "0:\tlearn: 0.6930498\ttotal: 3.06s\tremaining: 4m 44s\n",
      "25:\tlearn: 0.6904415\ttotal: 1m 11s\tremaining: 3m 7s\n",
      "50:\tlearn: 0.6881952\ttotal: 2m 16s\tremaining: 1m 54s\n",
      "75:\tlearn: 0.6856105\ttotal: 3m 26s\tremaining: 48.9s\n",
      "93:\tlearn: 0.6839503\ttotal: 4m 10s\tremaining: 0us\n",
      "0:\tlearn: 0.6930431\ttotal: 2.71s\tremaining: 4m 12s\n",
      "25:\tlearn: 0.6904305\ttotal: 1m 12s\tremaining: 3m 9s\n",
      "50:\tlearn: 0.6878269\ttotal: 2m 22s\tremaining: 2m\n",
      "75:\tlearn: 0.6851667\ttotal: 3m 32s\tremaining: 50.4s\n",
      "93:\tlearn: 0.6834067\ttotal: 4m 23s\tremaining: 0us\n",
      "0:\tlearn: 0.6930493\ttotal: 3.05s\tremaining: 4m 43s\n",
      "25:\tlearn: 0.6904020\ttotal: 1m 11s\tremaining: 3m 6s\n",
      "50:\tlearn: 0.6878295\ttotal: 2m 22s\tremaining: 2m\n",
      "75:\tlearn: 0.6852759\ttotal: 3m 33s\tremaining: 50.6s\n",
      "93:\tlearn: 0.6834620\ttotal: 4m 24s\tremaining: 0us\n",
      "0:\tlearn: 0.6930477\ttotal: 2.55s\tremaining: 3m 57s\n",
      "25:\tlearn: 0.6905880\ttotal: 1m 7s\tremaining: 2m 57s\n",
      "50:\tlearn: 0.6880633\ttotal: 2m 16s\tremaining: 1m 54s\n",
      "75:\tlearn: 0.6854972\ttotal: 3m 27s\tremaining: 49.1s\n",
      "93:\tlearn: 0.6836772\ttotal: 4m 14s\tremaining: 0us\n",
      "0:\tlearn: 0.6930384\ttotal: 2.92s\tremaining: 4m 31s\n",
      "25:\tlearn: 0.6905626\ttotal: 1m 10s\tremaining: 3m 4s\n",
      "50:\tlearn: 0.6881044\ttotal: 2m 21s\tremaining: 1m 58s\n",
      "75:\tlearn: 0.6853541\ttotal: 3m 31s\tremaining: 50s\n",
      "93:\tlearn: 0.6835302\ttotal: 4m 21s\tremaining: 0us\n"
     ]
    },
    {
     "name": "stderr",
     "output_type": "stream",
     "text": [
      "2022-03-25 17:40:39 mean cv_value 0.04271321120764173 | std cv_value 0.023789213658374983 \n",
      "2022-03-25 17:40:39 ---------------------------------------------\n",
      "2022-03-25 17:40:44 [TRAIN_MODEL] Training model\n",
      "2022-03-25 17:40:44 Set of params....., {'depth': 7, 'iterations': 100, 'learning_rate': 0.04036978064046159, 'score_function': 'L2'}\n"
     ]
    },
    {
     "name": "stdout",
     "output_type": "stream",
     "text": [
      "Iteration No: 68 ended. Search finished for the next optimal point.\n",
      "Time taken: 1306.0211\n",
      "Function value obtained: -0.0427\n",
      "Current minimum: -0.0690\n",
      "Iteration No: 69 started. Searching for the next optimal point.\n",
      "0:\tlearn: 0.6928451\ttotal: 30ms\tremaining: 2.97s\n",
      "25:\tlearn: 0.6884583\ttotal: 538ms\tremaining: 1.53s\n",
      "50:\tlearn: 0.6862643\ttotal: 1.03s\tremaining: 992ms\n",
      "75:\tlearn: 0.6844170\ttotal: 1.53s\tremaining: 484ms\n",
      "99:\tlearn: 0.6828358\ttotal: 2.01s\tremaining: 0us\n",
      "0:\tlearn: 0.6928351\ttotal: 26.7ms\tremaining: 2.64s\n",
      "25:\tlearn: 0.6885097\ttotal: 527ms\tremaining: 1.5s\n",
      "50:\tlearn: 0.6861982\ttotal: 1.03s\tremaining: 992ms\n",
      "75:\tlearn: 0.6844369\ttotal: 1.53s\tremaining: 484ms\n",
      "99:\tlearn: 0.6829399\ttotal: 2s\tremaining: 0us\n",
      "0:\tlearn: 0.6928419\ttotal: 22.7ms\tremaining: 2.25s\n",
      "25:\tlearn: 0.6886292\ttotal: 523ms\tremaining: 1.49s\n",
      "50:\tlearn: 0.6863274\ttotal: 1.02s\tremaining: 985ms\n",
      "75:\tlearn: 0.6844807\ttotal: 1.52s\tremaining: 479ms\n",
      "99:\tlearn: 0.6828943\ttotal: 1.98s\tremaining: 0us\n",
      "0:\tlearn: 0.6928390\ttotal: 23.4ms\tremaining: 2.31s\n",
      "25:\tlearn: 0.6885756\ttotal: 524ms\tremaining: 1.49s\n",
      "50:\tlearn: 0.6862749\ttotal: 1.04s\tremaining: 1s\n",
      "75:\tlearn: 0.6843427\ttotal: 1.59s\tremaining: 502ms\n",
      "99:\tlearn: 0.6828833\ttotal: 2.08s\tremaining: 0us\n",
      "0:\tlearn: 0.6928444\ttotal: 31.3ms\tremaining: 3.1s\n",
      "25:\tlearn: 0.6886188\ttotal: 585ms\tremaining: 1.66s\n",
      "50:\tlearn: 0.6863466\ttotal: 1.09s\tremaining: 1.05s\n",
      "75:\tlearn: 0.6844932\ttotal: 1.6s\tremaining: 504ms\n"
     ]
    },
    {
     "name": "stderr",
     "output_type": "stream",
     "text": [
      "2022-03-25 17:40:55 mean cv_value 0.06721160960090598 | std cv_value 0.03208507468383686 \n",
      "2022-03-25 17:40:55 ---------------------------------------------\n"
     ]
    },
    {
     "name": "stdout",
     "output_type": "stream",
     "text": [
      "99:\tlearn: 0.6829506\ttotal: 2.08s\tremaining: 0us\n"
     ]
    },
    {
     "name": "stderr",
     "output_type": "stream",
     "text": [
      "2022-03-25 17:40:58 [TRAIN_MODEL] Training model\n",
      "2022-03-25 17:40:58 Set of params....., {'depth': 7, 'iterations': 55, 'learning_rate': 0.05055793429452661, 'score_function': 'Cosine'}\n"
     ]
    },
    {
     "name": "stdout",
     "output_type": "stream",
     "text": [
      "Iteration No: 69 ended. Search finished for the next optimal point.\n",
      "Time taken: 14.0358\n",
      "Function value obtained: -0.0672\n",
      "Current minimum: -0.0690\n",
      "Iteration No: 70 started. Searching for the next optimal point.\n",
      "0:\tlearn: 0.6928276\ttotal: 28.5ms\tremaining: 1.54s\n",
      "25:\tlearn: 0.6889491\ttotal: 519ms\tremaining: 579ms\n",
      "50:\tlearn: 0.6872215\ttotal: 1.01s\tremaining: 79ms\n",
      "54:\tlearn: 0.6869814\ttotal: 1.09s\tremaining: 0us\n",
      "0:\tlearn: 0.6928091\ttotal: 23.5ms\tremaining: 1.27s\n",
      "25:\tlearn: 0.6889295\ttotal: 531ms\tremaining: 592ms\n",
      "50:\tlearn: 0.6870392\ttotal: 1.02s\tremaining: 80.2ms\n",
      "54:\tlearn: 0.6868092\ttotal: 1.1s\tremaining: 0us\n",
      "0:\tlearn: 0.6928281\ttotal: 21.4ms\tremaining: 1.15s\n",
      "25:\tlearn: 0.6891086\ttotal: 503ms\tremaining: 561ms\n",
      "50:\tlearn: 0.6873489\ttotal: 982ms\tremaining: 77ms\n",
      "54:\tlearn: 0.6870937\ttotal: 1.06s\tremaining: 0us\n",
      "0:\tlearn: 0.6928253\ttotal: 21.5ms\tremaining: 1.16s\n",
      "25:\tlearn: 0.6891120\ttotal: 517ms\tremaining: 577ms\n",
      "50:\tlearn: 0.6873825\ttotal: 1.02s\tremaining: 80.1ms\n",
      "54:\tlearn: 0.6871736\ttotal: 1.1s\tremaining: 0us\n",
      "0:\tlearn: 0.6928123\ttotal: 21.9ms\tremaining: 1.19s\n",
      "25:\tlearn: 0.6891841\ttotal: 497ms\tremaining: 555ms\n"
     ]
    },
    {
     "name": "stderr",
     "output_type": "stream",
     "text": [
      "2022-03-25 17:41:04 mean cv_value 0.062253862458156485 | std cv_value 0.02651108891483722 \n",
      "2022-03-25 17:41:04 ---------------------------------------------\n"
     ]
    },
    {
     "name": "stdout",
     "output_type": "stream",
     "text": [
      "50:\tlearn: 0.6873175\ttotal: 1.01s\tremaining: 79.2ms\n",
      "54:\tlearn: 0.6870159\ttotal: 1.09s\tremaining: 0us\n"
     ]
    },
    {
     "name": "stderr",
     "output_type": "stream",
     "text": [
      "2022-03-25 17:41:07 [TRAIN_MODEL] Training model\n",
      "2022-03-25 17:41:07 Set of params....., {'depth': 1, 'iterations': 2, 'learning_rate': 0.0010019932040445563, 'score_function': 'L2'}\n"
     ]
    },
    {
     "name": "stdout",
     "output_type": "stream",
     "text": [
      "Iteration No: 70 ended. Search finished for the next optimal point.\n",
      "Time taken: 9.4312\n",
      "Function value obtained: -0.0623\n",
      "Current minimum: -0.0690\n",
      "Iteration No: 71 started. Searching for the next optimal point.\n",
      "0:\tlearn: 0.6931438\ttotal: 29.6ms\tremaining: 29.6ms\n",
      "1:\tlearn: 0.6931404\ttotal: 39ms\tremaining: 0us\n",
      "0:\tlearn: 0.6931440\ttotal: 10.9ms\tremaining: 10.9ms\n",
      "1:\tlearn: 0.6931409\ttotal: 19.7ms\tremaining: 0us\n",
      "0:\tlearn: 0.6931440\ttotal: 10.8ms\tremaining: 10.8ms\n",
      "1:\tlearn: 0.6931409\ttotal: 19.7ms\tremaining: 0us\n",
      "0:\tlearn: 0.6931437\ttotal: 9.39ms\tremaining: 9.39ms\n",
      "1:\tlearn: 0.6931403\ttotal: 17.9ms\tremaining: 0us\n"
     ]
    },
    {
     "name": "stderr",
     "output_type": "stream",
     "text": [
      "2022-03-25 17:41:08 mean cv_value 0.031220760350118244 | std cv_value 0.01209113842094328 \n",
      "2022-03-25 17:41:08 ---------------------------------------------\n"
     ]
    },
    {
     "name": "stdout",
     "output_type": "stream",
     "text": [
      "0:\tlearn: 0.6931442\ttotal: 9.2ms\tremaining: 9.2ms\n",
      "1:\tlearn: 0.6931411\ttotal: 18.1ms\tremaining: 0us\n"
     ]
    },
    {
     "name": "stderr",
     "output_type": "stream",
     "text": [
      "2022-03-25 17:41:10 [TRAIN_MODEL] Training model\n",
      "2022-03-25 17:41:10 Set of params....., {'depth': 7, 'iterations': 98, 'learning_rate': 0.0011312281687455618, 'score_function': 'L2'}\n"
     ]
    },
    {
     "name": "stdout",
     "output_type": "stream",
     "text": [
      "Iteration No: 71 ended. Search finished for the next optimal point.\n",
      "Time taken: 2.6601\n",
      "Function value obtained: -0.0312\n",
      "Current minimum: -0.0690\n",
      "Iteration No: 72 started. Searching for the next optimal point.\n",
      "0:\tlearn: 0.6931385\ttotal: 65.3ms\tremaining: 6.34s\n",
      "25:\tlearn: 0.6929252\ttotal: 579ms\tremaining: 1.6s\n",
      "50:\tlearn: 0.6927199\ttotal: 1.09s\tremaining: 1.01s\n",
      "75:\tlearn: 0.6925239\ttotal: 1.6s\tremaining: 465ms\n",
      "97:\tlearn: 0.6923585\ttotal: 2.06s\tremaining: 0us\n",
      "0:\tlearn: 0.6931383\ttotal: 23.7ms\tremaining: 2.3s\n",
      "25:\tlearn: 0.6929176\ttotal: 525ms\tremaining: 1.45s\n",
      "50:\tlearn: 0.6927061\ttotal: 1.02s\tremaining: 943ms\n",
      "75:\tlearn: 0.6925044\ttotal: 1.52s\tremaining: 442ms\n",
      "97:\tlearn: 0.6923326\ttotal: 1.97s\tremaining: 0us\n",
      "0:\tlearn: 0.6931384\ttotal: 21.8ms\tremaining: 2.12s\n",
      "25:\tlearn: 0.6929261\ttotal: 518ms\tremaining: 1.44s\n",
      "50:\tlearn: 0.6927227\ttotal: 1.02s\tremaining: 940ms\n",
      "75:\tlearn: 0.6925280\ttotal: 1.5s\tremaining: 435ms\n",
      "97:\tlearn: 0.6923631\ttotal: 1.94s\tremaining: 0us\n",
      "0:\tlearn: 0.6931384\ttotal: 23.6ms\tremaining: 2.29s\n",
      "25:\tlearn: 0.6929234\ttotal: 536ms\tremaining: 1.48s\n",
      "50:\tlearn: 0.6927168\ttotal: 1.04s\tremaining: 959ms\n",
      "75:\tlearn: 0.6925203\ttotal: 1.6s\tremaining: 463ms\n",
      "97:\tlearn: 0.6923536\ttotal: 2.05s\tremaining: 0us\n",
      "0:\tlearn: 0.6931385\ttotal: 36.1ms\tremaining: 3.5s\n",
      "25:\tlearn: 0.6929250\ttotal: 540ms\tremaining: 1.5s\n",
      "50:\tlearn: 0.6927205\ttotal: 1.05s\tremaining: 968ms\n",
      "75:\tlearn: 0.6925251\ttotal: 1.56s\tremaining: 451ms\n"
     ]
    },
    {
     "name": "stderr",
     "output_type": "stream",
     "text": [
      "2022-03-25 17:41:21 mean cv_value 0.045725538211156706 | std cv_value 0.023934530355051643 \n",
      "2022-03-25 17:41:21 ---------------------------------------------\n"
     ]
    },
    {
     "name": "stdout",
     "output_type": "stream",
     "text": [
      "97:\tlearn: 0.6923600\ttotal: 2.02s\tremaining: 0us\n"
     ]
    },
    {
     "name": "stderr",
     "output_type": "stream",
     "text": [
      "2022-03-25 17:41:23 [TRAIN_MODEL] Training model\n",
      "2022-03-25 17:41:23 Set of params....., {'depth': 12, 'iterations': 59, 'learning_rate': 0.0036960646677015193, 'score_function': 'Cosine'}\n"
     ]
    },
    {
     "name": "stdout",
     "output_type": "stream",
     "text": [
      "Iteration No: 72 ended. Search finished for the next optimal point.\n",
      "Time taken: 13.1647\n",
      "Function value obtained: -0.0457\n",
      "Current minimum: -0.0690\n",
      "Iteration No: 73 started. Searching for the next optimal point.\n",
      "0:\tlearn: 0.6930759\ttotal: 200ms\tremaining: 11.6s\n",
      "25:\tlearn: 0.6910850\ttotal: 4.13s\tremaining: 5.24s\n",
      "50:\tlearn: 0.6892109\ttotal: 8.24s\tremaining: 1.29s\n",
      "58:\tlearn: 0.6884935\ttotal: 9.61s\tremaining: 0us\n",
      "0:\tlearn: 0.6930674\ttotal: 161ms\tremaining: 9.32s\n",
      "25:\tlearn: 0.6911002\ttotal: 4.17s\tremaining: 5.29s\n",
      "50:\tlearn: 0.6889650\ttotal: 8.16s\tremaining: 1.28s\n",
      "58:\tlearn: 0.6883034\ttotal: 9.39s\tremaining: 0us\n",
      "0:\tlearn: 0.6930699\ttotal: 170ms\tremaining: 9.84s\n",
      "25:\tlearn: 0.6909948\ttotal: 4.19s\tremaining: 5.31s\n",
      "50:\tlearn: 0.6890353\ttotal: 8.3s\tremaining: 1.3s\n",
      "58:\tlearn: 0.6883858\ttotal: 9.47s\tremaining: 0us\n",
      "0:\tlearn: 0.6930717\ttotal: 163ms\tremaining: 9.44s\n",
      "25:\tlearn: 0.6912342\ttotal: 3.96s\tremaining: 5.03s\n",
      "50:\tlearn: 0.6892075\ttotal: 7.99s\tremaining: 1.25s\n",
      "58:\tlearn: 0.6886205\ttotal: 9.13s\tremaining: 0us\n",
      "0:\tlearn: 0.6930504\ttotal: 165ms\tremaining: 9.57s\n",
      "25:\tlearn: 0.6910349\ttotal: 4s\tremaining: 5.07s\n",
      "50:\tlearn: 0.6891808\ttotal: 8.16s\tremaining: 1.28s\n"
     ]
    },
    {
     "name": "stderr",
     "output_type": "stream",
     "text": [
      "2022-03-25 17:42:12 mean cv_value 0.05998602311314849 | std cv_value 0.019649085198482033 \n",
      "2022-03-25 17:42:12 ---------------------------------------------\n"
     ]
    },
    {
     "name": "stdout",
     "output_type": "stream",
     "text": [
      "58:\tlearn: 0.6886094\ttotal: 9.41s\tremaining: 0us\n"
     ]
    },
    {
     "name": "stderr",
     "output_type": "stream",
     "text": [
      "2022-03-25 17:42:13 [TRAIN_MODEL] Training model\n",
      "2022-03-25 17:42:13 Set of params....., {'depth': 5, 'iterations': 100, 'learning_rate': 0.06974419944542279, 'score_function': 'L2'}\n"
     ]
    },
    {
     "name": "stdout",
     "output_type": "stream",
     "text": [
      "Iteration No: 73 ended. Search finished for the next optimal point.\n",
      "Time taken: 50.2728\n",
      "Function value obtained: -0.0600\n",
      "Current minimum: -0.0690\n",
      "Iteration No: 74 started. Searching for the next optimal point.\n",
      "0:\tlearn: 0.6927274\ttotal: 21.5ms\tremaining: 2.12s\n",
      "25:\tlearn: 0.6890203\ttotal: 354ms\tremaining: 1.01s\n",
      "50:\tlearn: 0.6876618\ttotal: 689ms\tremaining: 662ms\n",
      "75:\tlearn: 0.6866100\ttotal: 1.03s\tremaining: 327ms\n",
      "99:\tlearn: 0.6857121\ttotal: 1.37s\tremaining: 0us\n",
      "0:\tlearn: 0.6927225\ttotal: 15.4ms\tremaining: 1.52s\n",
      "25:\tlearn: 0.6889724\ttotal: 329ms\tremaining: 935ms\n",
      "50:\tlearn: 0.6875829\ttotal: 676ms\tremaining: 650ms\n",
      "75:\tlearn: 0.6865777\ttotal: 1.01s\tremaining: 320ms\n",
      "99:\tlearn: 0.6856017\ttotal: 1.33s\tremaining: 0us\n",
      "0:\tlearn: 0.6927398\ttotal: 13.4ms\tremaining: 1.33s\n",
      "25:\tlearn: 0.6891361\ttotal: 348ms\tremaining: 991ms\n",
      "50:\tlearn: 0.6878332\ttotal: 681ms\tremaining: 655ms\n",
      "75:\tlearn: 0.6868067\ttotal: 1.02s\tremaining: 322ms\n",
      "99:\tlearn: 0.6858837\ttotal: 1.35s\tremaining: 0us\n",
      "0:\tlearn: 0.6927356\ttotal: 12.7ms\tremaining: 1.26s\n",
      "25:\tlearn: 0.6891152\ttotal: 315ms\tremaining: 897ms\n",
      "50:\tlearn: 0.6877890\ttotal: 670ms\tremaining: 644ms\n",
      "75:\tlearn: 0.6867277\ttotal: 1.02s\tremaining: 322ms\n",
      "99:\tlearn: 0.6857767\ttotal: 1.34s\tremaining: 0us\n",
      "0:\tlearn: 0.6927324\ttotal: 14.1ms\tremaining: 1.4s\n",
      "25:\tlearn: 0.6891481\ttotal: 324ms\tremaining: 921ms\n",
      "50:\tlearn: 0.6878693\ttotal: 655ms\tremaining: 630ms\n",
      "75:\tlearn: 0.6868669\ttotal: 1.01s\tremaining: 318ms\n"
     ]
    },
    {
     "name": "stderr",
     "output_type": "stream",
     "text": [
      "2022-03-25 17:42:21 mean cv_value 0.06622359984781417 | std cv_value 0.03278356677325416 \n",
      "2022-03-25 17:42:21 ---------------------------------------------\n"
     ]
    },
    {
     "name": "stdout",
     "output_type": "stream",
     "text": [
      "99:\tlearn: 0.6859064\ttotal: 1.34s\tremaining: 0us\n"
     ]
    },
    {
     "name": "stderr",
     "output_type": "stream",
     "text": [
      "2022-03-25 17:42:23 [TRAIN_MODEL] Training model\n",
      "2022-03-25 17:42:23 Set of params....., {'depth': 1, 'iterations': 99, 'learning_rate': 0.8099165829592407, 'score_function': 'Cosine'}\n"
     ]
    },
    {
     "name": "stdout",
     "output_type": "stream",
     "text": [
      "Iteration No: 74 ended. Search finished for the next optimal point.\n",
      "Time taken: 9.5428\n",
      "Function value obtained: -0.0662\n",
      "Current minimum: -0.0690\n",
      "Iteration No: 75 started. Searching for the next optimal point.\n",
      "0:\tlearn: 0.6915247\ttotal: 10.1ms\tremaining: 987ms\n",
      "25:\tlearn: 0.6899352\ttotal: 203ms\tremaining: 571ms\n",
      "50:\tlearn: 0.6896487\ttotal: 395ms\tremaining: 372ms\n",
      "75:\tlearn: 0.6894636\ttotal: 583ms\tremaining: 177ms\n",
      "98:\tlearn: 0.6893434\ttotal: 766ms\tremaining: 0us\n",
      "0:\tlearn: 0.6916339\ttotal: 9.28ms\tremaining: 909ms\n",
      "25:\tlearn: 0.6898876\ttotal: 204ms\tremaining: 572ms\n",
      "50:\tlearn: 0.6895665\ttotal: 402ms\tremaining: 379ms\n",
      "75:\tlearn: 0.6893606\ttotal: 597ms\tremaining: 181ms\n",
      "98:\tlearn: 0.6892294\ttotal: 776ms\tremaining: 0us\n",
      "0:\tlearn: 0.6916262\ttotal: 38.2ms\tremaining: 3.74s\n",
      "25:\tlearn: 0.6901845\ttotal: 237ms\tremaining: 665ms\n",
      "50:\tlearn: 0.6899001\ttotal: 427ms\tremaining: 402ms\n",
      "75:\tlearn: 0.6897425\ttotal: 621ms\tremaining: 188ms\n",
      "98:\tlearn: 0.6896333\ttotal: 799ms\tremaining: 0us\n",
      "0:\tlearn: 0.6914890\ttotal: 12.5ms\tremaining: 1.23s\n",
      "25:\tlearn: 0.6899662\ttotal: 207ms\tremaining: 582ms\n",
      "50:\tlearn: 0.6897071\ttotal: 395ms\tremaining: 372ms\n",
      "75:\tlearn: 0.6895446\ttotal: 588ms\tremaining: 178ms\n",
      "98:\tlearn: 0.6894172\ttotal: 767ms\tremaining: 0us\n",
      "0:\tlearn: 0.6916928\ttotal: 9.09ms\tremaining: 890ms\n",
      "25:\tlearn: 0.6900468\ttotal: 196ms\tremaining: 549ms\n",
      "50:\tlearn: 0.6897761\ttotal: 383ms\tremaining: 361ms\n",
      "75:\tlearn: 0.6896169\ttotal: 574ms\tremaining: 174ms\n"
     ]
    },
    {
     "name": "stderr",
     "output_type": "stream",
     "text": [
      "2022-03-25 17:42:28 mean cv_value 0.05172412280381422 | std cv_value 0.023251756804912177 \n",
      "2022-03-25 17:42:28 ---------------------------------------------\n"
     ]
    },
    {
     "name": "stdout",
     "output_type": "stream",
     "text": [
      "98:\tlearn: 0.6895044\ttotal: 748ms\tremaining: 0us\n"
     ]
    },
    {
     "name": "stderr",
     "output_type": "stream",
     "text": [
      "2022-03-25 17:42:29 [TRAIN_MODEL] Training model\n",
      "2022-03-25 17:42:29 Set of params....., {'depth': 7, 'iterations': 3, 'learning_rate': 0.9564073935728648, 'score_function': 'L2'}\n"
     ]
    },
    {
     "name": "stdout",
     "output_type": "stream",
     "text": [
      "Iteration No: 75 ended. Search finished for the next optimal point.\n",
      "Time taken: 6.5190\n",
      "Function value obtained: -0.0517\n",
      "Current minimum: -0.0690\n",
      "Iteration No: 76 started. Searching for the next optimal point.\n",
      "0:\tlearn: 0.6893561\ttotal: 35.6ms\tremaining: 71.2ms\n",
      "2:\tlearn: 0.6871542\ttotal: 76.6ms\tremaining: 0us\n",
      "0:\tlearn: 0.6892334\ttotal: 21.6ms\tremaining: 43.3ms\n",
      "2:\tlearn: 0.6871122\ttotal: 63.4ms\tremaining: 0us\n",
      "0:\tlearn: 0.6893485\ttotal: 23.5ms\tremaining: 47.1ms\n",
      "2:\tlearn: 0.6873621\ttotal: 64.7ms\tremaining: 0us\n",
      "0:\tlearn: 0.6892875\ttotal: 21.8ms\tremaining: 43.7ms\n",
      "2:\tlearn: 0.6870575\ttotal: 64.3ms\tremaining: 0us\n"
     ]
    },
    {
     "name": "stderr",
     "output_type": "stream",
     "text": [
      "2022-03-25 17:42:31 mean cv_value 0.04894903785270202 | std cv_value 0.0258004764437652 \n",
      "2022-03-25 17:42:31 ---------------------------------------------\n"
     ]
    },
    {
     "name": "stdout",
     "output_type": "stream",
     "text": [
      "0:\tlearn: 0.6893574\ttotal: 20.5ms\tremaining: 41ms\n",
      "2:\tlearn: 0.6873416\ttotal: 62.3ms\tremaining: 0us\n"
     ]
    },
    {
     "name": "stderr",
     "output_type": "stream",
     "text": [
      "2022-03-25 17:42:32 [TRAIN_MODEL] Training model\n",
      "2022-03-25 17:42:32 Set of params....., {'depth': 1, 'iterations': 97, 'learning_rate': 0.0010010628100150182, 'score_function': 'Cosine'}\n"
     ]
    },
    {
     "name": "stdout",
     "output_type": "stream",
     "text": [
      "Iteration No: 76 ended. Search finished for the next optimal point.\n",
      "Time taken: 2.8396\n",
      "Function value obtained: -0.0489\n",
      "Current minimum: -0.0690\n",
      "Iteration No: 77 started. Searching for the next optimal point.\n",
      "0:\tlearn: 0.6931438\ttotal: 9.62ms\tremaining: 924ms\n",
      "25:\tlearn: 0.6930617\ttotal: 201ms\tremaining: 549ms\n",
      "50:\tlearn: 0.6929853\ttotal: 390ms\tremaining: 352ms\n",
      "75:\tlearn: 0.6929117\ttotal: 575ms\tremaining: 159ms\n",
      "96:\tlearn: 0.6928546\ttotal: 730ms\tremaining: 0us\n",
      "0:\tlearn: 0.6931440\ttotal: 8.87ms\tremaining: 851ms\n",
      "25:\tlearn: 0.6930695\ttotal: 203ms\tremaining: 555ms\n",
      "50:\tlearn: 0.6929980\ttotal: 405ms\tremaining: 365ms\n",
      "75:\tlearn: 0.6929323\ttotal: 603ms\tremaining: 167ms\n",
      "96:\tlearn: 0.6928789\ttotal: 768ms\tremaining: 0us\n",
      "0:\tlearn: 0.6931440\ttotal: 8.89ms\tremaining: 853ms\n",
      "25:\tlearn: 0.6930671\ttotal: 203ms\tremaining: 555ms\n",
      "50:\tlearn: 0.6929955\ttotal: 398ms\tremaining: 359ms\n",
      "75:\tlearn: 0.6929294\ttotal: 589ms\tremaining: 163ms\n",
      "96:\tlearn: 0.6928745\ttotal: 751ms\tremaining: 0us\n",
      "0:\tlearn: 0.6931437\ttotal: 9.13ms\tremaining: 876ms\n",
      "25:\tlearn: 0.6930616\ttotal: 205ms\tremaining: 559ms\n",
      "50:\tlearn: 0.6929867\ttotal: 400ms\tremaining: 361ms\n",
      "75:\tlearn: 0.6929130\ttotal: 594ms\tremaining: 164ms\n",
      "96:\tlearn: 0.6928524\ttotal: 761ms\tremaining: 0us\n",
      "0:\tlearn: 0.6931442\ttotal: 9.08ms\tremaining: 871ms\n",
      "25:\tlearn: 0.6930714\ttotal: 198ms\tremaining: 540ms\n",
      "50:\tlearn: 0.6930021\ttotal: 388ms\tremaining: 350ms\n",
      "75:\tlearn: 0.6929393\ttotal: 578ms\tremaining: 160ms\n"
     ]
    },
    {
     "name": "stderr",
     "output_type": "stream",
     "text": [
      "2022-03-25 17:42:37 mean cv_value 0.046163648411104895 | std cv_value 0.017645704697644815 \n",
      "2022-03-25 17:42:37 ---------------------------------------------\n"
     ]
    },
    {
     "name": "stdout",
     "output_type": "stream",
     "text": [
      "96:\tlearn: 0.6928868\ttotal: 736ms\tremaining: 0us\n"
     ]
    },
    {
     "name": "stderr",
     "output_type": "stream",
     "text": [
      "2022-03-25 17:42:39 [TRAIN_MODEL] Training model\n",
      "2022-03-25 17:42:39 Set of params....., {'depth': 10, 'iterations': 53, 'learning_rate': 0.0010187344497474841, 'score_function': 'Cosine'}\n"
     ]
    },
    {
     "name": "stdout",
     "output_type": "stream",
     "text": [
      "Iteration No: 77 ended. Search finished for the next optimal point.\n",
      "Time taken: 6.7276\n",
      "Function value obtained: -0.0462\n",
      "Current minimum: -0.0690\n",
      "Iteration No: 78 started. Searching for the next optimal point.\n",
      "0:\tlearn: 0.6931363\ttotal: 89.7ms\tremaining: 4.67s\n",
      "25:\tlearn: 0.6928655\ttotal: 1.45s\tremaining: 1.51s\n",
      "50:\tlearn: 0.6925598\ttotal: 2.94s\tremaining: 116ms\n",
      "52:\tlearn: 0.6925426\ttotal: 3.02s\tremaining: 0us\n",
      "0:\tlearn: 0.6931361\ttotal: 59.5ms\tremaining: 3.09s\n",
      "25:\tlearn: 0.6928520\ttotal: 1.43s\tremaining: 1.49s\n",
      "50:\tlearn: 0.6925504\ttotal: 2.91s\tremaining: 114ms\n",
      "52:\tlearn: 0.6925283\ttotal: 3.03s\tremaining: 0us\n",
      "0:\tlearn: 0.6931364\ttotal: 57.2ms\tremaining: 2.98s\n",
      "25:\tlearn: 0.6928329\ttotal: 1.44s\tremaining: 1.49s\n",
      "50:\tlearn: 0.6925215\ttotal: 2.9s\tremaining: 114ms\n",
      "52:\tlearn: 0.6924964\ttotal: 3.02s\tremaining: 0us\n",
      "0:\tlearn: 0.6931362\ttotal: 59.7ms\tremaining: 3.1s\n",
      "25:\tlearn: 0.6928371\ttotal: 1.42s\tremaining: 1.48s\n",
      "50:\tlearn: 0.6925408\ttotal: 2.87s\tremaining: 113ms\n",
      "52:\tlearn: 0.6925164\ttotal: 2.99s\tremaining: 0us\n",
      "0:\tlearn: 0.6931347\ttotal: 60.6ms\tremaining: 3.15s\n",
      "25:\tlearn: 0.6928408\ttotal: 1.44s\tremaining: 1.5s\n"
     ]
    },
    {
     "name": "stderr",
     "output_type": "stream",
     "text": [
      "2022-03-25 17:42:55 mean cv_value 0.06339091611294165 | std cv_value 0.0311626723244386 \n",
      "2022-03-25 17:42:55 ---------------------------------------------\n"
     ]
    },
    {
     "name": "stdout",
     "output_type": "stream",
     "text": [
      "50:\tlearn: 0.6925572\ttotal: 2.87s\tremaining: 113ms\n",
      "52:\tlearn: 0.6925378\ttotal: 2.98s\tremaining: 0us\n"
     ]
    },
    {
     "name": "stderr",
     "output_type": "stream",
     "text": [
      "2022-03-25 17:42:57 [TRAIN_MODEL] Training model\n",
      "2022-03-25 17:42:57 Set of params....., {'depth': 7, 'iterations': 56, 'learning_rate': 0.006956933816171019, 'score_function': 'Cosine'}\n"
     ]
    },
    {
     "name": "stdout",
     "output_type": "stream",
     "text": [
      "Iteration No: 78 ended. Search finished for the next optimal point.\n",
      "Time taken: 17.9653\n",
      "Function value obtained: -0.0634\n",
      "Current minimum: -0.0690\n",
      "Iteration No: 79 started. Searching for the next optimal point.\n",
      "0:\tlearn: 0.6931022\ttotal: 33.1ms\tremaining: 1.82s\n",
      "25:\tlearn: 0.6921495\ttotal: 528ms\tremaining: 609ms\n",
      "50:\tlearn: 0.6914166\ttotal: 1.02s\tremaining: 99.9ms\n",
      "55:\tlearn: 0.6912847\ttotal: 1.12s\tremaining: 0us\n",
      "0:\tlearn: 0.6930996\ttotal: 25.2ms\tremaining: 1.39s\n",
      "25:\tlearn: 0.6921551\ttotal: 518ms\tremaining: 597ms\n",
      "50:\tlearn: 0.6913715\ttotal: 1.01s\tremaining: 98.9ms\n",
      "55:\tlearn: 0.6912474\ttotal: 1.11s\tremaining: 0us\n",
      "0:\tlearn: 0.6931023\ttotal: 22.9ms\tremaining: 1.26s\n",
      "25:\tlearn: 0.6921826\ttotal: 514ms\tremaining: 593ms\n",
      "50:\tlearn: 0.6914374\ttotal: 1.02s\tremaining: 100ms\n",
      "55:\tlearn: 0.6913126\ttotal: 1.13s\tremaining: 0us\n",
      "0:\tlearn: 0.6931019\ttotal: 22.8ms\tremaining: 1.25s\n",
      "25:\tlearn: 0.6921816\ttotal: 513ms\tremaining: 591ms\n",
      "50:\tlearn: 0.6914253\ttotal: 1.02s\tremaining: 99.8ms\n",
      "55:\tlearn: 0.6912954\ttotal: 1.12s\tremaining: 0us\n",
      "0:\tlearn: 0.6931001\ttotal: 23.4ms\tremaining: 1.29s\n",
      "25:\tlearn: 0.6921936\ttotal: 516ms\tremaining: 595ms\n"
     ]
    },
    {
     "name": "stderr",
     "output_type": "stream",
     "text": [
      "2022-03-25 17:43:04 mean cv_value 0.058367489889835165 | std cv_value 0.025205976763069342 \n",
      "2022-03-25 17:43:04 ---------------------------------------------\n"
     ]
    },
    {
     "name": "stdout",
     "output_type": "stream",
     "text": [
      "50:\tlearn: 0.6914316\ttotal: 1.01s\tremaining: 98.7ms\n",
      "55:\tlearn: 0.6913053\ttotal: 1.11s\tremaining: 0us\n"
     ]
    },
    {
     "name": "stderr",
     "output_type": "stream",
     "text": [
      "2022-03-25 17:43:05 [TRAIN_MODEL] Training model\n",
      "2022-03-25 17:43:05 Set of params....., {'depth': 6, 'iterations': 99, 'learning_rate': 0.8769466033551783, 'score_function': 'L2'}\n"
     ]
    },
    {
     "name": "stdout",
     "output_type": "stream",
     "text": [
      "Iteration No: 79 ended. Search finished for the next optimal point.\n",
      "Time taken: 8.2586\n",
      "Function value obtained: -0.0584\n",
      "Current minimum: -0.0690\n",
      "Iteration No: 80 started. Searching for the next optimal point.\n",
      "0:\tlearn: 0.6898251\ttotal: 35.1ms\tremaining: 3.44s\n",
      "25:\tlearn: 0.6771774\ttotal: 449ms\tremaining: 1.26s\n",
      "50:\tlearn: 0.6669407\ttotal: 868ms\tremaining: 817ms\n",
      "75:\tlearn: 0.6579760\ttotal: 1.29s\tremaining: 392ms\n",
      "98:\tlearn: 0.6503215\ttotal: 1.67s\tremaining: 0us\n",
      "0:\tlearn: 0.6897655\ttotal: 18.4ms\tremaining: 1.8s\n",
      "25:\tlearn: 0.6767466\ttotal: 439ms\tremaining: 1.23s\n",
      "50:\tlearn: 0.6669394\ttotal: 860ms\tremaining: 809ms\n",
      "75:\tlearn: 0.6580394\ttotal: 1.27s\tremaining: 386ms\n",
      "98:\tlearn: 0.6503488\ttotal: 1.65s\tremaining: 0us\n",
      "0:\tlearn: 0.6898751\ttotal: 16.7ms\tremaining: 1.64s\n",
      "25:\tlearn: 0.6782019\ttotal: 441ms\tremaining: 1.24s\n",
      "50:\tlearn: 0.6683635\ttotal: 849ms\tremaining: 799ms\n",
      "75:\tlearn: 0.6591348\ttotal: 1.26s\tremaining: 382ms\n",
      "98:\tlearn: 0.6511089\ttotal: 1.65s\tremaining: 0us\n",
      "0:\tlearn: 0.6897728\ttotal: 18.6ms\tremaining: 1.83s\n",
      "25:\tlearn: 0.6774417\ttotal: 424ms\tremaining: 1.19s\n",
      "50:\tlearn: 0.6674754\ttotal: 853ms\tremaining: 803ms\n",
      "75:\tlearn: 0.6581338\ttotal: 1.27s\tremaining: 385ms\n",
      "98:\tlearn: 0.6501855\ttotal: 1.66s\tremaining: 0us\n",
      "0:\tlearn: 0.6898370\ttotal: 15.3ms\tremaining: 1.5s\n",
      "25:\tlearn: 0.6777049\ttotal: 424ms\tremaining: 1.19s\n",
      "50:\tlearn: 0.6674053\ttotal: 841ms\tremaining: 791ms\n",
      "75:\tlearn: 0.6585343\ttotal: 1.25s\tremaining: 380ms\n"
     ]
    },
    {
     "name": "stderr",
     "output_type": "stream",
     "text": [
      "2022-03-25 17:43:15 mean cv_value 0.0297622919083848 | std cv_value 0.016159523212092013 \n",
      "2022-03-25 17:43:15 ---------------------------------------------\n"
     ]
    },
    {
     "name": "stdout",
     "output_type": "stream",
     "text": [
      "98:\tlearn: 0.6505651\ttotal: 1.64s\tremaining: 0us\n"
     ]
    },
    {
     "name": "stderr",
     "output_type": "stream",
     "text": [
      "2022-03-25 17:43:17 [TRAIN_MODEL] Training model\n",
      "2022-03-25 17:43:17 Set of params....., {'depth': 6, 'iterations': 100, 'learning_rate': 0.047557631699973985, 'score_function': 'Cosine'}\n"
     ]
    },
    {
     "name": "stdout",
     "output_type": "stream",
     "text": [
      "Iteration No: 80 ended. Search finished for the next optimal point.\n",
      "Time taken: 11.3365\n",
      "Function value obtained: -0.0298\n",
      "Current minimum: -0.0690\n",
      "Iteration No: 81 started. Searching for the next optimal point.\n",
      "0:\tlearn: 0.6928789\ttotal: 17.5ms\tremaining: 1.73s\n",
      "25:\tlearn: 0.6897658\ttotal: 422ms\tremaining: 1.2s\n",
      "50:\tlearn: 0.6885956\ttotal: 826ms\tremaining: 793ms\n",
      "75:\tlearn: 0.6876781\ttotal: 1.24s\tremaining: 393ms\n",
      "99:\tlearn: 0.6869185\ttotal: 1.64s\tremaining: 0us\n",
      "0:\tlearn: 0.6928670\ttotal: 15.7ms\tremaining: 1.55s\n",
      "25:\tlearn: 0.6897090\ttotal: 417ms\tremaining: 1.19s\n",
      "50:\tlearn: 0.6885603\ttotal: 819ms\tremaining: 787ms\n",
      "75:\tlearn: 0.6877113\ttotal: 1.22s\tremaining: 384ms\n",
      "99:\tlearn: 0.6869907\ttotal: 1.6s\tremaining: 0us\n",
      "0:\tlearn: 0.6928770\ttotal: 16.5ms\tremaining: 1.64s\n",
      "25:\tlearn: 0.6898630\ttotal: 437ms\tremaining: 1.24s\n",
      "50:\tlearn: 0.6886663\ttotal: 845ms\tremaining: 812ms\n",
      "75:\tlearn: 0.6877208\ttotal: 1.26s\tremaining: 399ms\n",
      "99:\tlearn: 0.6870763\ttotal: 1.65s\tremaining: 0us\n",
      "0:\tlearn: 0.6928845\ttotal: 16.7ms\tremaining: 1.65s\n",
      "25:\tlearn: 0.6897213\ttotal: 414ms\tremaining: 1.18s\n",
      "50:\tlearn: 0.6885484\ttotal: 812ms\tremaining: 780ms\n",
      "75:\tlearn: 0.6876697\ttotal: 1.22s\tremaining: 385ms\n",
      "99:\tlearn: 0.6869698\ttotal: 1.61s\tremaining: 0us\n",
      "0:\tlearn: 0.6928650\ttotal: 19.7ms\tremaining: 1.95s\n",
      "25:\tlearn: 0.6898125\ttotal: 420ms\tremaining: 1.19s\n",
      "50:\tlearn: 0.6886298\ttotal: 844ms\tremaining: 810ms\n",
      "75:\tlearn: 0.6877791\ttotal: 1.25s\tremaining: 396ms\n"
     ]
    },
    {
     "name": "stderr",
     "output_type": "stream",
     "text": [
      "2022-03-25 17:43:26 mean cv_value 0.05771636688793245 | std cv_value 0.031647445371778195 \n",
      "2022-03-25 17:43:26 ---------------------------------------------\n"
     ]
    },
    {
     "name": "stdout",
     "output_type": "stream",
     "text": [
      "99:\tlearn: 0.6871013\ttotal: 1.63s\tremaining: 0us\n"
     ]
    },
    {
     "name": "stderr",
     "output_type": "stream",
     "text": [
      "2022-03-25 17:43:28 [TRAIN_MODEL] Training model\n",
      "2022-03-25 17:43:28 Set of params....., {'depth': 8, 'iterations': 100, 'learning_rate': 0.02281326124164675, 'score_function': 'L2'}\n"
     ]
    },
    {
     "name": "stdout",
     "output_type": "stream",
     "text": [
      "Iteration No: 81 ended. Search finished for the next optimal point.\n",
      "Time taken: 11.1337\n",
      "Function value obtained: -0.0577\n",
      "Current minimum: -0.0690\n",
      "Iteration No: 82 started. Searching for the next optimal point.\n",
      "0:\tlearn: 0.6929387\ttotal: 33.6ms\tremaining: 3.32s\n",
      "25:\tlearn: 0.6891002\ttotal: 711ms\tremaining: 2.02s\n",
      "50:\tlearn: 0.6866462\ttotal: 1.39s\tremaining: 1.33s\n",
      "75:\tlearn: 0.6847399\ttotal: 2.04s\tremaining: 645ms\n",
      "99:\tlearn: 0.6831284\ttotal: 2.67s\tremaining: 0us\n",
      "0:\tlearn: 0.6929344\ttotal: 29.9ms\tremaining: 2.96s\n",
      "25:\tlearn: 0.6890584\ttotal: 721ms\tremaining: 2.05s\n",
      "50:\tlearn: 0.6866068\ttotal: 1.4s\tremaining: 1.35s\n",
      "75:\tlearn: 0.6845405\ttotal: 2.07s\tremaining: 653ms\n",
      "99:\tlearn: 0.6829039\ttotal: 2.7s\tremaining: 0us\n",
      "0:\tlearn: 0.6929332\ttotal: 28ms\tremaining: 2.77s\n",
      "25:\tlearn: 0.6891661\ttotal: 733ms\tremaining: 2.09s\n",
      "50:\tlearn: 0.6866497\ttotal: 1.42s\tremaining: 1.36s\n",
      "75:\tlearn: 0.6846306\ttotal: 2.1s\tremaining: 662ms\n",
      "99:\tlearn: 0.6828890\ttotal: 2.74s\tremaining: 0us\n",
      "0:\tlearn: 0.6929340\ttotal: 31.9ms\tremaining: 3.16s\n",
      "25:\tlearn: 0.6891435\ttotal: 704ms\tremaining: 2s\n",
      "50:\tlearn: 0.6866458\ttotal: 1.37s\tremaining: 1.32s\n",
      "75:\tlearn: 0.6846118\ttotal: 2.06s\tremaining: 652ms\n",
      "99:\tlearn: 0.6828640\ttotal: 2.7s\tremaining: 0us\n",
      "0:\tlearn: 0.6929452\ttotal: 29.3ms\tremaining: 2.9s\n",
      "25:\tlearn: 0.6891371\ttotal: 711ms\tremaining: 2.02s\n",
      "50:\tlearn: 0.6867256\ttotal: 1.38s\tremaining: 1.32s\n",
      "75:\tlearn: 0.6847632\ttotal: 2.05s\tremaining: 647ms\n"
     ]
    },
    {
     "name": "stderr",
     "output_type": "stream",
     "text": [
      "2022-03-25 17:43:42 mean cv_value 0.06271346109604631 | std cv_value 0.030792708993166388 \n",
      "2022-03-25 17:43:42 ---------------------------------------------\n"
     ]
    },
    {
     "name": "stdout",
     "output_type": "stream",
     "text": [
      "99:\tlearn: 0.6831016\ttotal: 2.69s\tremaining: 0us\n"
     ]
    },
    {
     "name": "stderr",
     "output_type": "stream",
     "text": [
      "2022-03-25 17:43:44 [TRAIN_MODEL] Training model\n",
      "2022-03-25 17:43:44 Set of params....., {'depth': 5, 'iterations': 81, 'learning_rate': 0.0837604924841531, 'score_function': 'L2'}\n"
     ]
    },
    {
     "name": "stdout",
     "output_type": "stream",
     "text": [
      "Iteration No: 82 ended. Search finished for the next optimal point.\n",
      "Time taken: 16.5075\n",
      "Function value obtained: -0.0627\n",
      "Current minimum: -0.0690\n",
      "Iteration No: 83 started. Searching for the next optimal point.\n",
      "0:\tlearn: 0.6926467\ttotal: 14.1ms\tremaining: 1.13s\n",
      "25:\tlearn: 0.6887638\ttotal: 337ms\tremaining: 714ms\n",
      "50:\tlearn: 0.6872141\ttotal: 695ms\tremaining: 409ms\n",
      "75:\tlearn: 0.6860389\ttotal: 1.05s\tremaining: 69.3ms\n",
      "80:\tlearn: 0.6858127\ttotal: 1.12s\tremaining: 0us\n",
      "0:\tlearn: 0.6926409\ttotal: 14.1ms\tremaining: 1.12s\n",
      "25:\tlearn: 0.6886741\ttotal: 330ms\tremaining: 699ms\n",
      "50:\tlearn: 0.6871812\ttotal: 664ms\tremaining: 391ms\n",
      "75:\tlearn: 0.6858521\ttotal: 1s\tremaining: 66ms\n",
      "80:\tlearn: 0.6856133\ttotal: 1.07s\tremaining: 0us\n",
      "0:\tlearn: 0.6926615\ttotal: 13.8ms\tremaining: 1.1s\n",
      "25:\tlearn: 0.6887839\ttotal: 353ms\tremaining: 746ms\n",
      "50:\tlearn: 0.6873236\ttotal: 699ms\tremaining: 411ms\n",
      "75:\tlearn: 0.6861487\ttotal: 1.05s\tremaining: 68.9ms\n",
      "80:\tlearn: 0.6859174\ttotal: 1.12s\tremaining: 0us\n",
      "0:\tlearn: 0.6926565\ttotal: 13.5ms\tremaining: 1.08s\n",
      "25:\tlearn: 0.6887358\ttotal: 326ms\tremaining: 691ms\n",
      "50:\tlearn: 0.6872998\ttotal: 662ms\tremaining: 390ms\n",
      "75:\tlearn: 0.6861037\ttotal: 1.01s\tremaining: 66.4ms\n",
      "80:\tlearn: 0.6858715\ttotal: 1.07s\tremaining: 0us\n",
      "0:\tlearn: 0.6926527\ttotal: 13.9ms\tremaining: 1.11s\n",
      "25:\tlearn: 0.6888043\ttotal: 349ms\tremaining: 737ms\n",
      "50:\tlearn: 0.6873617\ttotal: 696ms\tremaining: 409ms\n"
     ]
    },
    {
     "name": "stderr",
     "output_type": "stream",
     "text": [
      "2022-03-25 17:43:51 mean cv_value 0.06407459742059293 | std cv_value 0.03333823297562392 \n",
      "2022-03-25 17:43:51 ---------------------------------------------\n"
     ]
    },
    {
     "name": "stdout",
     "output_type": "stream",
     "text": [
      "75:\tlearn: 0.6862238\ttotal: 1.05s\tremaining: 68.9ms\n",
      "80:\tlearn: 0.6860184\ttotal: 1.11s\tremaining: 0us\n"
     ]
    },
    {
     "name": "stderr",
     "output_type": "stream",
     "text": [
      "2022-03-25 17:43:53 [TRAIN_MODEL] Training model\n",
      "2022-03-25 17:43:53 Set of params....., {'depth': 6, 'iterations': 100, 'learning_rate': 0.046333691169311506, 'score_function': 'L2'}\n"
     ]
    },
    {
     "name": "stdout",
     "output_type": "stream",
     "text": [
      "Iteration No: 83 ended. Search finished for the next optimal point.\n",
      "Time taken: 8.7470\n",
      "Function value obtained: -0.0641\n",
      "Current minimum: -0.0690\n",
      "Iteration No: 84 started. Searching for the next optimal point.\n",
      "0:\tlearn: 0.6928406\ttotal: 19.2ms\tremaining: 1.9s\n",
      "25:\tlearn: 0.6890482\ttotal: 435ms\tremaining: 1.24s\n",
      "50:\tlearn: 0.6873898\ttotal: 868ms\tremaining: 834ms\n",
      "75:\tlearn: 0.6860875\ttotal: 1.29s\tremaining: 408ms\n",
      "99:\tlearn: 0.6849669\ttotal: 1.7s\tremaining: 0us\n",
      "0:\tlearn: 0.6928374\ttotal: 16.4ms\tremaining: 1.62s\n",
      "25:\tlearn: 0.6890445\ttotal: 433ms\tremaining: 1.23s\n",
      "50:\tlearn: 0.6874282\ttotal: 850ms\tremaining: 817ms\n",
      "75:\tlearn: 0.6861762\ttotal: 1.26s\tremaining: 400ms\n",
      "99:\tlearn: 0.6849893\ttotal: 1.71s\tremaining: 0us\n",
      "0:\tlearn: 0.6928452\ttotal: 19ms\tremaining: 1.88s\n",
      "25:\tlearn: 0.6891995\ttotal: 425ms\tremaining: 1.21s\n",
      "50:\tlearn: 0.6875509\ttotal: 847ms\tremaining: 814ms\n",
      "75:\tlearn: 0.6863190\ttotal: 1.27s\tremaining: 401ms\n",
      "99:\tlearn: 0.6851949\ttotal: 1.68s\tremaining: 0us\n",
      "0:\tlearn: 0.6928347\ttotal: 19.3ms\tremaining: 1.91s\n",
      "25:\tlearn: 0.6891609\ttotal: 429ms\tremaining: 1.22s\n",
      "50:\tlearn: 0.6874869\ttotal: 862ms\tremaining: 828ms\n",
      "75:\tlearn: 0.6861727\ttotal: 1.29s\tremaining: 406ms\n",
      "99:\tlearn: 0.6851404\ttotal: 1.71s\tremaining: 0us\n",
      "0:\tlearn: 0.6928431\ttotal: 19.3ms\tremaining: 1.91s\n",
      "25:\tlearn: 0.6892417\ttotal: 424ms\tremaining: 1.21s\n",
      "50:\tlearn: 0.6876401\ttotal: 848ms\tremaining: 815ms\n",
      "75:\tlearn: 0.6863562\ttotal: 1.28s\tremaining: 404ms\n"
     ]
    },
    {
     "name": "stderr",
     "output_type": "stream",
     "text": [
      "2022-03-25 17:44:03 mean cv_value 0.06370333167820717 | std cv_value 0.031002828338152513 \n",
      "2022-03-25 17:44:03 ---------------------------------------------\n"
     ]
    },
    {
     "name": "stdout",
     "output_type": "stream",
     "text": [
      "99:\tlearn: 0.6853080\ttotal: 1.69s\tremaining: 0us\n"
     ]
    },
    {
     "name": "stderr",
     "output_type": "stream",
     "text": [
      "2022-03-25 17:44:05 [TRAIN_MODEL] Training model\n",
      "2022-03-25 17:44:05 Set of params....., {'depth': 4, 'iterations': 51, 'learning_rate': 0.2804152359943682, 'score_function': 'Cosine'}\n"
     ]
    },
    {
     "name": "stdout",
     "output_type": "stream",
     "text": [
      "Iteration No: 84 ended. Search finished for the next optimal point.\n",
      "Time taken: 11.6455\n",
      "Function value obtained: -0.0637\n",
      "Current minimum: -0.0690\n",
      "Iteration No: 85 started. Searching for the next optimal point.\n",
      "0:\tlearn: 0.6919394\ttotal: 12.8ms\tremaining: 640ms\n",
      "25:\tlearn: 0.6887101\ttotal: 294ms\tremaining: 282ms\n",
      "50:\tlearn: 0.6873497\ttotal: 596ms\tremaining: 0us\n",
      "0:\tlearn: 0.6918639\ttotal: 15ms\tremaining: 748ms\n",
      "25:\tlearn: 0.6885451\ttotal: 303ms\tremaining: 292ms\n",
      "50:\tlearn: 0.6870876\ttotal: 591ms\tremaining: 0us\n",
      "0:\tlearn: 0.6919797\ttotal: 13.4ms\tremaining: 670ms\n",
      "25:\tlearn: 0.6887990\ttotal: 300ms\tremaining: 289ms\n",
      "50:\tlearn: 0.6874183\ttotal: 597ms\tremaining: 0us\n",
      "0:\tlearn: 0.6919428\ttotal: 12.1ms\tremaining: 604ms\n",
      "25:\tlearn: 0.6887242\ttotal: 290ms\tremaining: 279ms\n",
      "50:\tlearn: 0.6872428\ttotal: 579ms\tremaining: 0us\n",
      "0:\tlearn: 0.6919213\ttotal: 12.7ms\tremaining: 636ms\n",
      "25:\tlearn: 0.6885462\ttotal: 303ms\tremaining: 291ms\n"
     ]
    },
    {
     "name": "stderr",
     "output_type": "stream",
     "text": [
      "2022-03-25 17:44:09 mean cv_value 0.06681992408070549 | std cv_value 0.022769412609990845 \n",
      "2022-03-25 17:44:09 ---------------------------------------------\n"
     ]
    },
    {
     "name": "stdout",
     "output_type": "stream",
     "text": [
      "50:\tlearn: 0.6871460\ttotal: 592ms\tremaining: 0us\n"
     ]
    },
    {
     "name": "stderr",
     "output_type": "stream",
     "text": [
      "2022-03-25 17:44:11 [TRAIN_MODEL] Training model\n",
      "2022-03-25 17:44:11 Set of params....., {'depth': 4, 'iterations': 70, 'learning_rate': 0.2030548748904452, 'score_function': 'L2'}\n"
     ]
    },
    {
     "name": "stdout",
     "output_type": "stream",
     "text": [
      "Iteration No: 85 ended. Search finished for the next optimal point.\n",
      "Time taken: 6.1837\n",
      "Function value obtained: -0.0668\n",
      "Current minimum: -0.0690\n",
      "Iteration No: 86 started. Searching for the next optimal point.\n",
      "0:\tlearn: 0.6920960\ttotal: 12.1ms\tremaining: 833ms\n",
      "25:\tlearn: 0.6880905\ttotal: 289ms\tremaining: 489ms\n",
      "50:\tlearn: 0.6865613\ttotal: 589ms\tremaining: 220ms\n",
      "69:\tlearn: 0.6854042\ttotal: 834ms\tremaining: 0us\n",
      "0:\tlearn: 0.6921024\ttotal: 12.4ms\tremaining: 857ms\n",
      "25:\tlearn: 0.6880278\ttotal: 286ms\tremaining: 484ms\n",
      "50:\tlearn: 0.6863935\ttotal: 575ms\tremaining: 214ms\n",
      "69:\tlearn: 0.6853080\ttotal: 805ms\tremaining: 0us\n",
      "0:\tlearn: 0.6921277\ttotal: 13.1ms\tremaining: 901ms\n",
      "25:\tlearn: 0.6882140\ttotal: 289ms\tremaining: 490ms\n",
      "50:\tlearn: 0.6865806\ttotal: 585ms\tremaining: 218ms\n",
      "69:\tlearn: 0.6854649\ttotal: 807ms\tremaining: 0us\n",
      "0:\tlearn: 0.6921209\ttotal: 13.4ms\tremaining: 927ms\n",
      "25:\tlearn: 0.6881903\ttotal: 287ms\tremaining: 485ms\n",
      "50:\tlearn: 0.6865477\ttotal: 591ms\tremaining: 220ms\n",
      "69:\tlearn: 0.6853113\ttotal: 815ms\tremaining: 0us\n",
      "0:\tlearn: 0.6921262\ttotal: 12.4ms\tremaining: 857ms\n",
      "25:\tlearn: 0.6882106\ttotal: 291ms\tremaining: 492ms\n",
      "50:\tlearn: 0.6867325\ttotal: 599ms\tremaining: 223ms\n"
     ]
    },
    {
     "name": "stderr",
     "output_type": "stream",
     "text": [
      "2022-03-25 17:44:16 mean cv_value 0.0599232242374933 | std cv_value 0.02869455287505866 \n",
      "2022-03-25 17:44:16 ---------------------------------------------\n"
     ]
    },
    {
     "name": "stdout",
     "output_type": "stream",
     "text": [
      "69:\tlearn: 0.6855539\ttotal: 823ms\tremaining: 0us\n"
     ]
    },
    {
     "name": "stderr",
     "output_type": "stream",
     "text": [
      "2022-03-25 17:44:18 [TRAIN_MODEL] Training model\n",
      "2022-03-25 17:44:18 Set of params....., {'depth': 5, 'iterations': 58, 'learning_rate': 0.23296438503819972, 'score_function': 'Cosine'}\n"
     ]
    },
    {
     "name": "stdout",
     "output_type": "stream",
     "text": [
      "Iteration No: 86 ended. Search finished for the next optimal point.\n",
      "Time taken: 7.0722\n",
      "Function value obtained: -0.0599\n",
      "Current minimum: -0.0690\n",
      "Iteration No: 87 started. Searching for the next optimal point.\n",
      "0:\tlearn: 0.6920271\ttotal: 16.6ms\tremaining: 947ms\n",
      "25:\tlearn: 0.6880198\ttotal: 342ms\tremaining: 421ms\n",
      "50:\tlearn: 0.6862373\ttotal: 678ms\tremaining: 93.1ms\n",
      "57:\tlearn: 0.6856125\ttotal: 780ms\tremaining: 0us\n",
      "0:\tlearn: 0.6919969\ttotal: 15ms\tremaining: 855ms\n",
      "25:\tlearn: 0.6879547\ttotal: 335ms\tremaining: 413ms\n",
      "50:\tlearn: 0.6862252\ttotal: 683ms\tremaining: 93.8ms\n",
      "57:\tlearn: 0.6855523\ttotal: 787ms\tremaining: 0us\n",
      "0:\tlearn: 0.6920492\ttotal: 15.2ms\tremaining: 865ms\n",
      "25:\tlearn: 0.6880658\ttotal: 345ms\tremaining: 425ms\n",
      "50:\tlearn: 0.6863197\ttotal: 685ms\tremaining: 94ms\n",
      "57:\tlearn: 0.6857490\ttotal: 784ms\tremaining: 0us\n",
      "0:\tlearn: 0.6920486\ttotal: 13.4ms\tremaining: 765ms\n",
      "25:\tlearn: 0.6880375\ttotal: 363ms\tremaining: 446ms\n",
      "50:\tlearn: 0.6864258\ttotal: 705ms\tremaining: 96.7ms\n",
      "57:\tlearn: 0.6858184\ttotal: 803ms\tremaining: 0us\n",
      "0:\tlearn: 0.6919996\ttotal: 12.5ms\tremaining: 711ms\n",
      "25:\tlearn: 0.6880926\ttotal: 338ms\tremaining: 415ms\n"
     ]
    },
    {
     "name": "stderr",
     "output_type": "stream",
     "text": [
      "2022-03-25 17:44:23 mean cv_value 0.06098306459157828 | std cv_value 0.032536223332628754 \n",
      "2022-03-25 17:44:23 ---------------------------------------------\n"
     ]
    },
    {
     "name": "stdout",
     "output_type": "stream",
     "text": [
      "50:\tlearn: 0.6864371\ttotal: 680ms\tremaining: 93.3ms\n",
      "57:\tlearn: 0.6859022\ttotal: 777ms\tremaining: 0us\n"
     ]
    },
    {
     "name": "stderr",
     "output_type": "stream",
     "text": [
      "2022-03-25 17:44:25 [TRAIN_MODEL] Training model\n",
      "2022-03-25 17:44:25 Set of params....., {'depth': 5, 'iterations': 69, 'learning_rate': 0.02731742496381104, 'score_function': 'L2'}\n"
     ]
    },
    {
     "name": "stdout",
     "output_type": "stream",
     "text": [
      "Iteration No: 87 ended. Search finished for the next optimal point.\n",
      "Time taken: 6.9793\n",
      "Function value obtained: -0.0610\n",
      "Current minimum: -0.0690\n",
      "Iteration No: 88 started. Searching for the next optimal point.\n",
      "0:\tlearn: 0.6929791\ttotal: 78.8ms\tremaining: 5.36s\n",
      "25:\tlearn: 0.6905162\ttotal: 385ms\tremaining: 636ms\n",
      "50:\tlearn: 0.6894396\ttotal: 713ms\tremaining: 252ms\n",
      "68:\tlearn: 0.6889428\ttotal: 958ms\tremaining: 0us\n",
      "0:\tlearn: 0.6929772\ttotal: 19ms\tremaining: 1.29s\n",
      "25:\tlearn: 0.6904813\ttotal: 327ms\tremaining: 540ms\n",
      "50:\tlearn: 0.6894283\ttotal: 648ms\tremaining: 229ms\n",
      "68:\tlearn: 0.6889334\ttotal: 873ms\tremaining: 0us\n",
      "0:\tlearn: 0.6929841\ttotal: 13ms\tremaining: 883ms\n",
      "25:\tlearn: 0.6906011\ttotal: 326ms\tremaining: 538ms\n",
      "50:\tlearn: 0.6895772\ttotal: 645ms\tremaining: 228ms\n",
      "68:\tlearn: 0.6890563\ttotal: 877ms\tremaining: 0us\n",
      "0:\tlearn: 0.6929824\ttotal: 12.9ms\tremaining: 874ms\n",
      "25:\tlearn: 0.6905631\ttotal: 317ms\tremaining: 524ms\n",
      "50:\tlearn: 0.6895554\ttotal: 624ms\tremaining: 220ms\n",
      "68:\tlearn: 0.6890092\ttotal: 851ms\tremaining: 0us\n",
      "0:\tlearn: 0.6929811\ttotal: 15ms\tremaining: 1.02s\n",
      "25:\tlearn: 0.6906149\ttotal: 314ms\tremaining: 519ms\n",
      "50:\tlearn: 0.6896074\ttotal: 630ms\tremaining: 222ms\n"
     ]
    },
    {
     "name": "stderr",
     "output_type": "stream",
     "text": [
      "2022-03-25 17:44:30 mean cv_value 0.05911941047345774 | std cv_value 0.0273486795643025 \n",
      "2022-03-25 17:44:30 ---------------------------------------------\n"
     ]
    },
    {
     "name": "stdout",
     "output_type": "stream",
     "text": [
      "68:\tlearn: 0.6891255\ttotal: 853ms\tremaining: 0us\n"
     ]
    },
    {
     "name": "stderr",
     "output_type": "stream",
     "text": [
      "2022-03-25 17:44:33 [TRAIN_MODEL] Training model\n",
      "2022-03-25 17:44:33 Set of params....., {'depth': 12, 'iterations': 100, 'learning_rate': 0.005828192955741701, 'score_function': 'Cosine'}\n"
     ]
    },
    {
     "name": "stdout",
     "output_type": "stream",
     "text": [
      "Iteration No: 88 ended. Search finished for the next optimal point.\n",
      "Time taken: 7.6574\n",
      "Function value obtained: -0.0591\n",
      "Current minimum: -0.0690\n",
      "Iteration No: 89 started. Searching for the next optimal point.\n",
      "0:\tlearn: 0.6930349\ttotal: 320ms\tremaining: 31.7s\n",
      "25:\tlearn: 0.6898788\ttotal: 4.38s\tremaining: 12.5s\n",
      "50:\tlearn: 0.6870368\ttotal: 8.27s\tremaining: 7.95s\n",
      "75:\tlearn: 0.6842249\ttotal: 12.3s\tremaining: 3.89s\n",
      "99:\tlearn: 0.6815750\ttotal: 16.3s\tremaining: 0us\n",
      "0:\tlearn: 0.6930216\ttotal: 149ms\tremaining: 14.7s\n",
      "25:\tlearn: 0.6899787\ttotal: 4.04s\tremaining: 11.5s\n",
      "50:\tlearn: 0.6869619\ttotal: 7.81s\tremaining: 7.5s\n",
      "75:\tlearn: 0.6843674\ttotal: 11.6s\tremaining: 3.68s\n",
      "99:\tlearn: 0.6820894\ttotal: 15.7s\tremaining: 0us\n",
      "0:\tlearn: 0.6930254\ttotal: 167ms\tremaining: 16.6s\n",
      "25:\tlearn: 0.6898151\ttotal: 3.87s\tremaining: 11s\n",
      "50:\tlearn: 0.6868168\ttotal: 8.08s\tremaining: 7.76s\n",
      "75:\tlearn: 0.6839619\ttotal: 12.1s\tremaining: 3.83s\n",
      "99:\tlearn: 0.6814107\ttotal: 16s\tremaining: 0us\n",
      "0:\tlearn: 0.6930283\ttotal: 181ms\tremaining: 17.9s\n",
      "25:\tlearn: 0.6901851\ttotal: 4.12s\tremaining: 11.7s\n",
      "50:\tlearn: 0.6873219\ttotal: 8.18s\tremaining: 7.86s\n",
      "75:\tlearn: 0.6844363\ttotal: 12.2s\tremaining: 3.84s\n",
      "99:\tlearn: 0.6818705\ttotal: 15.9s\tremaining: 0us\n",
      "0:\tlearn: 0.6929947\ttotal: 169ms\tremaining: 16.8s\n",
      "25:\tlearn: 0.6901245\ttotal: 4.07s\tremaining: 11.6s\n",
      "50:\tlearn: 0.6872724\ttotal: 8.25s\tremaining: 7.93s\n",
      "75:\tlearn: 0.6845488\ttotal: 12.5s\tremaining: 3.94s\n"
     ]
    },
    {
     "name": "stderr",
     "output_type": "stream",
     "text": [
      "2022-03-25 17:45:54 mean cv_value 0.05979179166676483 | std cv_value 0.02185985090710634 \n",
      "2022-03-25 17:45:54 ---------------------------------------------\n"
     ]
    },
    {
     "name": "stdout",
     "output_type": "stream",
     "text": [
      "99:\tlearn: 0.6821336\ttotal: 16.5s\tremaining: 0us\n"
     ]
    },
    {
     "name": "stderr",
     "output_type": "stream",
     "text": [
      "2022-03-25 17:45:56 [TRAIN_MODEL] Training model\n",
      "2022-03-25 17:45:56 Set of params....., {'depth': 10, 'iterations': 74, 'learning_rate': 0.011274068245151994, 'score_function': 'Cosine'}\n"
     ]
    },
    {
     "name": "stdout",
     "output_type": "stream",
     "text": [
      "Iteration No: 89 ended. Search finished for the next optimal point.\n",
      "Time taken: 83.5018\n",
      "Function value obtained: -0.0598\n",
      "Current minimum: -0.0690\n",
      "Iteration No: 90 started. Searching for the next optimal point.\n",
      "0:\tlearn: 0.6930272\ttotal: 58.6ms\tremaining: 4.28s\n",
      "25:\tlearn: 0.6903552\ttotal: 1.4s\tremaining: 2.59s\n",
      "50:\tlearn: 0.6876545\ttotal: 2.87s\tremaining: 1.29s\n",
      "73:\tlearn: 0.6857469\ttotal: 4.18s\tremaining: 0us\n",
      "0:\tlearn: 0.6930255\ttotal: 57.5ms\tremaining: 4.2s\n",
      "25:\tlearn: 0.6902493\ttotal: 1.45s\tremaining: 2.68s\n",
      "50:\tlearn: 0.6877921\ttotal: 2.92s\tremaining: 1.32s\n",
      "73:\tlearn: 0.6858603\ttotal: 4.26s\tremaining: 0us\n",
      "0:\tlearn: 0.6930289\ttotal: 61.1ms\tremaining: 4.46s\n",
      "25:\tlearn: 0.6902310\ttotal: 1.41s\tremaining: 2.61s\n",
      "50:\tlearn: 0.6875616\ttotal: 2.91s\tremaining: 1.31s\n",
      "73:\tlearn: 0.6855978\ttotal: 4.24s\tremaining: 0us\n",
      "0:\tlearn: 0.6930263\ttotal: 62.1ms\tremaining: 4.53s\n",
      "25:\tlearn: 0.6902705\ttotal: 1.45s\tremaining: 2.68s\n",
      "50:\tlearn: 0.6878793\ttotal: 2.89s\tremaining: 1.3s\n",
      "73:\tlearn: 0.6860711\ttotal: 4.18s\tremaining: 0us\n",
      "0:\tlearn: 0.6930099\ttotal: 60.5ms\tremaining: 4.42s\n",
      "25:\tlearn: 0.6903591\ttotal: 1.41s\tremaining: 2.6s\n",
      "50:\tlearn: 0.6879042\ttotal: 2.84s\tremaining: 1.28s\n"
     ]
    },
    {
     "name": "stderr",
     "output_type": "stream",
     "text": [
      "2022-03-25 17:46:18 mean cv_value 0.062381533539077404 | std cv_value 0.02769999991773481 \n",
      "2022-03-25 17:46:18 ---------------------------------------------\n"
     ]
    },
    {
     "name": "stdout",
     "output_type": "stream",
     "text": [
      "73:\tlearn: 0.6858556\ttotal: 4.17s\tremaining: 0us\n"
     ]
    },
    {
     "name": "stderr",
     "output_type": "stream",
     "text": [
      "2022-03-25 17:46:21 [TRAIN_MODEL] Training model\n",
      "2022-03-25 17:46:21 Set of params....., {'depth': 6, 'iterations': 100, 'learning_rate': 0.04737072524390037, 'score_function': 'L2'}\n"
     ]
    },
    {
     "name": "stdout",
     "output_type": "stream",
     "text": [
      "Iteration No: 90 ended. Search finished for the next optimal point.\n",
      "Time taken: 24.5372\n",
      "Function value obtained: -0.0624\n",
      "Current minimum: -0.0690\n",
      "Iteration No: 91 started. Searching for the next optimal point.\n",
      "0:\tlearn: 0.6928339\ttotal: 22.9ms\tremaining: 2.27s\n",
      "25:\tlearn: 0.6890048\ttotal: 434ms\tremaining: 1.24s\n",
      "50:\tlearn: 0.6873573\ttotal: 848ms\tremaining: 814ms\n",
      "75:\tlearn: 0.6860099\ttotal: 1.25s\tremaining: 396ms\n",
      "99:\tlearn: 0.6849800\ttotal: 1.64s\tremaining: 0us\n",
      "0:\tlearn: 0.6928307\ttotal: 17.1ms\tremaining: 1.7s\n",
      "25:\tlearn: 0.6889748\ttotal: 420ms\tremaining: 1.2s\n",
      "50:\tlearn: 0.6873346\ttotal: 827ms\tremaining: 795ms\n",
      "75:\tlearn: 0.6860288\ttotal: 1.24s\tremaining: 390ms\n",
      "99:\tlearn: 0.6848604\ttotal: 1.63s\tremaining: 0us\n",
      "0:\tlearn: 0.6928386\ttotal: 17.8ms\tremaining: 1.76s\n",
      "25:\tlearn: 0.6891576\ttotal: 422ms\tremaining: 1.2s\n",
      "50:\tlearn: 0.6875512\ttotal: 852ms\tremaining: 819ms\n",
      "75:\tlearn: 0.6862184\ttotal: 1.28s\tremaining: 406ms\n",
      "99:\tlearn: 0.6851399\ttotal: 1.68s\tremaining: 0us\n",
      "0:\tlearn: 0.6928279\ttotal: 19.9ms\tremaining: 1.97s\n",
      "25:\tlearn: 0.6891484\ttotal: 409ms\tremaining: 1.16s\n",
      "50:\tlearn: 0.6874812\ttotal: 818ms\tremaining: 786ms\n",
      "75:\tlearn: 0.6861958\ttotal: 1.23s\tremaining: 387ms\n",
      "99:\tlearn: 0.6850842\ttotal: 1.62s\tremaining: 0us\n",
      "0:\tlearn: 0.6928365\ttotal: 15.2ms\tremaining: 1.51s\n",
      "25:\tlearn: 0.6891691\ttotal: 408ms\tremaining: 1.16s\n",
      "50:\tlearn: 0.6875093\ttotal: 827ms\tremaining: 795ms\n",
      "75:\tlearn: 0.6862359\ttotal: 1.25s\tremaining: 395ms\n"
     ]
    },
    {
     "name": "stderr",
     "output_type": "stream",
     "text": [
      "2022-03-25 17:46:30 mean cv_value 0.06095218140319904 | std cv_value 0.027176174227870456 \n",
      "2022-03-25 17:46:30 ---------------------------------------------\n"
     ]
    },
    {
     "name": "stdout",
     "output_type": "stream",
     "text": [
      "99:\tlearn: 0.6850997\ttotal: 1.65s\tremaining: 0us\n"
     ]
    },
    {
     "name": "stderr",
     "output_type": "stream",
     "text": [
      "2022-03-25 17:46:32 [TRAIN_MODEL] Training model\n",
      "2022-03-25 17:46:32 Set of params....., {'depth': 4, 'iterations': 76, 'learning_rate': 0.18142217660943627, 'score_function': 'Cosine'}\n"
     ]
    },
    {
     "name": "stdout",
     "output_type": "stream",
     "text": [
      "Iteration No: 91 ended. Search finished for the next optimal point.\n",
      "Time taken: 11.4730\n",
      "Function value obtained: -0.0610\n",
      "Current minimum: -0.0690\n",
      "Iteration No: 92 started. Searching for the next optimal point.\n",
      "0:\tlearn: 0.6923206\ttotal: 12.2ms\tremaining: 916ms\n",
      "25:\tlearn: 0.6890833\ttotal: 282ms\tremaining: 543ms\n",
      "50:\tlearn: 0.6882524\ttotal: 586ms\tremaining: 287ms\n",
      "75:\tlearn: 0.6872011\ttotal: 872ms\tremaining: 0us\n",
      "0:\tlearn: 0.6922689\ttotal: 12.7ms\tremaining: 949ms\n",
      "25:\tlearn: 0.6891537\ttotal: 298ms\tremaining: 573ms\n",
      "50:\tlearn: 0.6882673\ttotal: 584ms\tremaining: 286ms\n",
      "75:\tlearn: 0.6872055\ttotal: 867ms\tremaining: 0us\n",
      "0:\tlearn: 0.6923482\ttotal: 12.7ms\tremaining: 953ms\n",
      "25:\tlearn: 0.6893090\ttotal: 297ms\tremaining: 572ms\n",
      "50:\tlearn: 0.6883239\ttotal: 582ms\tremaining: 286ms\n",
      "75:\tlearn: 0.6872828\ttotal: 878ms\tremaining: 0us\n",
      "0:\tlearn: 0.6923232\ttotal: 11.9ms\tremaining: 894ms\n",
      "25:\tlearn: 0.6891527\ttotal: 297ms\tremaining: 572ms\n",
      "50:\tlearn: 0.6882942\ttotal: 582ms\tremaining: 285ms\n",
      "75:\tlearn: 0.6873169\ttotal: 885ms\tremaining: 0us\n",
      "0:\tlearn: 0.6923082\ttotal: 12.6ms\tremaining: 947ms\n",
      "25:\tlearn: 0.6891941\ttotal: 295ms\tremaining: 567ms\n",
      "50:\tlearn: 0.6883041\ttotal: 566ms\tremaining: 277ms\n"
     ]
    },
    {
     "name": "stderr",
     "output_type": "stream",
     "text": [
      "2022-03-25 17:46:37 mean cv_value 0.06410981237107519 | std cv_value 0.02389722941426308 \n",
      "2022-03-25 17:46:37 ---------------------------------------------\n"
     ]
    },
    {
     "name": "stdout",
     "output_type": "stream",
     "text": [
      "75:\tlearn: 0.6874693\ttotal: 855ms\tremaining: 0us\n"
     ]
    },
    {
     "name": "stderr",
     "output_type": "stream",
     "text": [
      "2022-03-25 17:46:39 [TRAIN_MODEL] Training model\n",
      "2022-03-25 17:46:39 Set of params....., {'depth': 4, 'iterations': 76, 'learning_rate': 0.18852346101768153, 'score_function': 'Cosine'}\n"
     ]
    },
    {
     "name": "stdout",
     "output_type": "stream",
     "text": [
      "Iteration No: 92 ended. Search finished for the next optimal point.\n",
      "Time taken: 7.4227\n",
      "Function value obtained: -0.0641\n",
      "Current minimum: -0.0690\n",
      "Iteration No: 93 started. Searching for the next optimal point.\n",
      "0:\tlearn: 0.6922916\ttotal: 11.7ms\tremaining: 880ms\n",
      "25:\tlearn: 0.6891351\ttotal: 286ms\tremaining: 550ms\n",
      "50:\tlearn: 0.6883094\ttotal: 573ms\tremaining: 281ms\n",
      "75:\tlearn: 0.6872354\ttotal: 873ms\tremaining: 0us\n",
      "0:\tlearn: 0.6922381\ttotal: 13.6ms\tremaining: 1.02s\n",
      "25:\tlearn: 0.6890601\ttotal: 291ms\tremaining: 560ms\n",
      "50:\tlearn: 0.6880984\ttotal: 575ms\tremaining: 282ms\n",
      "75:\tlearn: 0.6871994\ttotal: 854ms\tremaining: 0us\n",
      "0:\tlearn: 0.6923202\ttotal: 12.8ms\tremaining: 963ms\n",
      "25:\tlearn: 0.6892141\ttotal: 297ms\tremaining: 571ms\n",
      "50:\tlearn: 0.6883552\ttotal: 581ms\tremaining: 285ms\n",
      "75:\tlearn: 0.6872432\ttotal: 878ms\tremaining: 0us\n",
      "0:\tlearn: 0.6922943\ttotal: 13.2ms\tremaining: 988ms\n",
      "25:\tlearn: 0.6891823\ttotal: 295ms\tremaining: 567ms\n",
      "50:\tlearn: 0.6881344\ttotal: 579ms\tremaining: 284ms\n",
      "75:\tlearn: 0.6871138\ttotal: 877ms\tremaining: 0us\n",
      "0:\tlearn: 0.6922787\ttotal: 13.6ms\tremaining: 1.02s\n",
      "25:\tlearn: 0.6891537\ttotal: 293ms\tremaining: 563ms\n",
      "50:\tlearn: 0.6882260\ttotal: 565ms\tremaining: 277ms\n"
     ]
    },
    {
     "name": "stderr",
     "output_type": "stream",
     "text": [
      "2022-03-25 17:46:45 mean cv_value 0.06101823142987739 | std cv_value 0.026923825792529468 \n",
      "2022-03-25 17:46:45 ---------------------------------------------\n"
     ]
    },
    {
     "name": "stdout",
     "output_type": "stream",
     "text": [
      "75:\tlearn: 0.6871691\ttotal: 865ms\tremaining: 0us\n"
     ]
    },
    {
     "name": "stderr",
     "output_type": "stream",
     "text": [
      "2022-03-25 17:46:47 [TRAIN_MODEL] Training model\n",
      "2022-03-25 17:46:47 Set of params....., {'depth': 4, 'iterations': 100, 'learning_rate': 0.10616438527075109, 'score_function': 'L2'}\n"
     ]
    },
    {
     "name": "stdout",
     "output_type": "stream",
     "text": [
      "Iteration No: 93 ended. Search finished for the next optimal point.\n",
      "Time taken: 7.7655\n",
      "Function value obtained: -0.0610\n",
      "Current minimum: -0.0690\n",
      "Iteration No: 94 started. Searching for the next optimal point.\n",
      "0:\tlearn: 0.6925677\ttotal: 25.6ms\tremaining: 2.54s\n",
      "25:\tlearn: 0.6890725\ttotal: 300ms\tremaining: 855ms\n",
      "50:\tlearn: 0.6880073\ttotal: 585ms\tremaining: 562ms\n",
      "75:\tlearn: 0.6871634\ttotal: 888ms\tremaining: 281ms\n",
      "99:\tlearn: 0.6863471\ttotal: 1.17s\tremaining: 0us\n",
      "0:\tlearn: 0.6925715\ttotal: 14.9ms\tremaining: 1.48s\n",
      "25:\tlearn: 0.6890655\ttotal: 286ms\tremaining: 815ms\n",
      "50:\tlearn: 0.6879362\ttotal: 574ms\tremaining: 551ms\n",
      "75:\tlearn: 0.6869793\ttotal: 874ms\tremaining: 276ms\n",
      "99:\tlearn: 0.6862000\ttotal: 1.16s\tremaining: 0us\n",
      "0:\tlearn: 0.6925854\ttotal: 12.2ms\tremaining: 1.21s\n",
      "25:\tlearn: 0.6891986\ttotal: 285ms\tremaining: 812ms\n",
      "50:\tlearn: 0.6880948\ttotal: 568ms\tremaining: 546ms\n",
      "75:\tlearn: 0.6872462\ttotal: 854ms\tremaining: 270ms\n",
      "99:\tlearn: 0.6864395\ttotal: 1.14s\tremaining: 0us\n",
      "0:\tlearn: 0.6925815\ttotal: 12ms\tremaining: 1.19s\n",
      "25:\tlearn: 0.6890779\ttotal: 282ms\tremaining: 802ms\n",
      "50:\tlearn: 0.6880678\ttotal: 570ms\tremaining: 547ms\n",
      "75:\tlearn: 0.6872507\ttotal: 858ms\tremaining: 271ms\n",
      "99:\tlearn: 0.6864659\ttotal: 1.14s\tremaining: 0us\n",
      "0:\tlearn: 0.6925844\ttotal: 12.7ms\tremaining: 1.26s\n",
      "25:\tlearn: 0.6892157\ttotal: 282ms\tremaining: 804ms\n",
      "50:\tlearn: 0.6881927\ttotal: 569ms\tremaining: 546ms\n",
      "75:\tlearn: 0.6873515\ttotal: 862ms\tremaining: 272ms\n"
     ]
    },
    {
     "name": "stderr",
     "output_type": "stream",
     "text": [
      "2022-03-25 17:46:54 mean cv_value 0.05990850991806074 | std cv_value 0.029673178298154156 \n",
      "2022-03-25 17:46:54 ---------------------------------------------\n"
     ]
    },
    {
     "name": "stdout",
     "output_type": "stream",
     "text": [
      "99:\tlearn: 0.6865617\ttotal: 1.15s\tremaining: 0us\n"
     ]
    },
    {
     "name": "stderr",
     "output_type": "stream",
     "text": [
      "2022-03-25 17:46:56 [TRAIN_MODEL] Training model\n",
      "2022-03-25 17:46:56 Set of params....., {'depth': 7, 'iterations': 8, 'learning_rate': 0.0010412165118283106, 'score_function': 'L2'}\n"
     ]
    },
    {
     "name": "stdout",
     "output_type": "stream",
     "text": [
      "Iteration No: 94 ended. Search finished for the next optimal point.\n",
      "Time taken: 9.1256\n",
      "Function value obtained: -0.0599\n",
      "Current minimum: -0.0690\n",
      "Iteration No: 95 started. Searching for the next optimal point.\n",
      "0:\tlearn: 0.6931392\ttotal: 25.6ms\tremaining: 179ms\n",
      "7:\tlearn: 0.6930836\ttotal: 179ms\tremaining: 0us\n",
      "0:\tlearn: 0.6931390\ttotal: 22.9ms\tremaining: 161ms\n",
      "7:\tlearn: 0.6930816\ttotal: 169ms\tremaining: 0us\n",
      "0:\tlearn: 0.6931391\ttotal: 21.7ms\tremaining: 152ms\n",
      "7:\tlearn: 0.6930838\ttotal: 166ms\tremaining: 0us\n",
      "0:\tlearn: 0.6931391\ttotal: 22.1ms\tremaining: 155ms\n",
      "7:\tlearn: 0.6930825\ttotal: 169ms\tremaining: 0us\n",
      "0:\tlearn: 0.6931392\ttotal: 20.8ms\tremaining: 146ms\n",
      "7:\tlearn: 0.6930835\ttotal: 166ms\tremaining: 0us\n"
     ]
    },
    {
     "name": "stderr",
     "output_type": "stream",
     "text": [
      "2022-03-25 17:46:58 mean cv_value 0.046545439405090545 | std cv_value 0.018947699910811272 \n",
      "2022-03-25 17:46:58 ---------------------------------------------\n",
      "2022-03-25 17:47:00 [TRAIN_MODEL] Training model\n",
      "2022-03-25 17:47:00 Set of params....., {'depth': 10, 'iterations': 80, 'learning_rate': 0.01573528070397304, 'score_function': 'Cosine'}\n"
     ]
    },
    {
     "name": "stdout",
     "output_type": "stream",
     "text": [
      "Iteration No: 95 ended. Search finished for the next optimal point.\n",
      "Time taken: 4.1222\n",
      "Function value obtained: -0.0465\n",
      "Current minimum: -0.0690\n",
      "Iteration No: 96 started. Searching for the next optimal point.\n",
      "0:\tlearn: 0.6929801\ttotal: 71.1ms\tremaining: 5.62s\n",
      "25:\tlearn: 0.6893887\ttotal: 1.42s\tremaining: 2.96s\n",
      "50:\tlearn: 0.6861490\ttotal: 2.83s\tremaining: 1.61s\n",
      "75:\tlearn: 0.6835195\ttotal: 4.23s\tremaining: 223ms\n",
      "79:\tlearn: 0.6832947\ttotal: 4.37s\tremaining: 0us\n",
      "0:\tlearn: 0.6929778\ttotal: 58.6ms\tremaining: 4.63s\n",
      "25:\tlearn: 0.6892284\ttotal: 1.51s\tremaining: 3.13s\n",
      "50:\tlearn: 0.6861733\ttotal: 2.98s\tremaining: 1.69s\n",
      "75:\tlearn: 0.6835496\ttotal: 4.45s\tremaining: 234ms\n",
      "79:\tlearn: 0.6832105\ttotal: 4.68s\tremaining: 0us\n",
      "0:\tlearn: 0.6929824\ttotal: 58.4ms\tremaining: 4.61s\n",
      "25:\tlearn: 0.6893731\ttotal: 1.4s\tremaining: 2.9s\n",
      "50:\tlearn: 0.6861043\ttotal: 2.81s\tremaining: 1.6s\n",
      "75:\tlearn: 0.6834422\ttotal: 4.2s\tremaining: 221ms\n",
      "79:\tlearn: 0.6830446\ttotal: 4.43s\tremaining: 0us\n",
      "0:\tlearn: 0.6929789\ttotal: 58.1ms\tremaining: 4.59s\n",
      "25:\tlearn: 0.6892654\ttotal: 1.46s\tremaining: 3.03s\n",
      "50:\tlearn: 0.6862357\ttotal: 2.9s\tremaining: 1.65s\n",
      "75:\tlearn: 0.6836658\ttotal: 4.31s\tremaining: 227ms\n",
      "79:\tlearn: 0.6832671\ttotal: 4.54s\tremaining: 0us\n",
      "0:\tlearn: 0.6929561\ttotal: 58.1ms\tremaining: 4.59s\n",
      "25:\tlearn: 0.6891711\ttotal: 1.48s\tremaining: 3.06s\n",
      "50:\tlearn: 0.6860915\ttotal: 2.93s\tremaining: 1.66s\n",
      "75:\tlearn: 0.6834967\ttotal: 4.27s\tremaining: 225ms\n"
     ]
    },
    {
     "name": "stderr",
     "output_type": "stream",
     "text": [
      "2022-03-25 17:47:24 mean cv_value 0.06277773233597993 | std cv_value 0.032963591678615234 \n",
      "2022-03-25 17:47:24 ---------------------------------------------\n"
     ]
    },
    {
     "name": "stdout",
     "output_type": "stream",
     "text": [
      "79:\tlearn: 0.6830577\ttotal: 4.5s\tremaining: 0us\n"
     ]
    },
    {
     "name": "stderr",
     "output_type": "stream",
     "text": [
      "2022-03-25 17:47:26 [TRAIN_MODEL] Training model\n",
      "2022-03-25 17:47:26 Set of params....., {'depth': 6, 'iterations': 45, 'learning_rate': 0.18880447186276808, 'score_function': 'Cosine'}\n"
     ]
    },
    {
     "name": "stdout",
     "output_type": "stream",
     "text": [
      "Iteration No: 96 ended. Search finished for the next optimal point.\n",
      "Time taken: 25.8334\n",
      "Function value obtained: -0.0628\n",
      "Current minimum: -0.0690\n",
      "Iteration No: 97 started. Searching for the next optimal point.\n",
      "0:\tlearn: 0.6921596\ttotal: 22.3ms\tremaining: 982ms\n",
      "25:\tlearn: 0.6870198\ttotal: 428ms\tremaining: 313ms\n",
      "44:\tlearn: 0.6850571\ttotal: 737ms\tremaining: 0us\n",
      "0:\tlearn: 0.6921159\ttotal: 16.7ms\tremaining: 737ms\n",
      "25:\tlearn: 0.6871181\ttotal: 417ms\tremaining: 305ms\n",
      "44:\tlearn: 0.6853372\ttotal: 723ms\tremaining: 0us\n",
      "0:\tlearn: 0.6921527\ttotal: 20.4ms\tremaining: 899ms\n",
      "25:\tlearn: 0.6871924\ttotal: 427ms\tremaining: 312ms\n",
      "44:\tlearn: 0.6853868\ttotal: 733ms\tremaining: 0us\n",
      "0:\tlearn: 0.6921802\ttotal: 15.7ms\tremaining: 691ms\n",
      "25:\tlearn: 0.6873322\ttotal: 422ms\tremaining: 308ms\n",
      "44:\tlearn: 0.6855183\ttotal: 726ms\tremaining: 0us\n",
      "0:\tlearn: 0.6921086\ttotal: 18.9ms\tremaining: 830ms\n",
      "25:\tlearn: 0.6872821\ttotal: 424ms\tremaining: 310ms\n"
     ]
    },
    {
     "name": "stderr",
     "output_type": "stream",
     "text": [
      "2022-03-25 17:47:31 mean cv_value 0.0618997823174389 | std cv_value 0.027339299541189806 \n",
      "2022-03-25 17:47:31 ---------------------------------------------\n"
     ]
    },
    {
     "name": "stdout",
     "output_type": "stream",
     "text": [
      "44:\tlearn: 0.6854123\ttotal: 729ms\tremaining: 0us\n"
     ]
    },
    {
     "name": "stderr",
     "output_type": "stream",
     "text": [
      "2022-03-25 17:47:33 [TRAIN_MODEL] Training model\n",
      "2022-03-25 17:47:33 Set of params....., {'depth': 9, 'iterations': 100, 'learning_rate': 0.018956695158636037, 'score_function': 'Cosine'}\n"
     ]
    },
    {
     "name": "stdout",
     "output_type": "stream",
     "text": [
      "Iteration No: 97 ended. Search finished for the next optimal point.\n",
      "Time taken: 6.7622\n",
      "Function value obtained: -0.0619\n",
      "Current minimum: -0.0690\n",
      "Iteration No: 98 started. Searching for the next optimal point.\n",
      "0:\tlearn: 0.6929740\ttotal: 59.4ms\tremaining: 5.88s\n",
      "25:\tlearn: 0.6898791\ttotal: 889ms\tremaining: 2.53s\n",
      "50:\tlearn: 0.6875706\ttotal: 1.76s\tremaining: 1.69s\n",
      "75:\tlearn: 0.6854885\ttotal: 2.62s\tremaining: 829ms\n",
      "99:\tlearn: 0.6838045\ttotal: 3.45s\tremaining: 0us\n",
      "0:\tlearn: 0.6929699\ttotal: 45.6ms\tremaining: 4.51s\n",
      "25:\tlearn: 0.6897928\ttotal: 911ms\tremaining: 2.59s\n",
      "50:\tlearn: 0.6875093\ttotal: 1.77s\tremaining: 1.7s\n",
      "75:\tlearn: 0.6854064\ttotal: 2.65s\tremaining: 835ms\n",
      "99:\tlearn: 0.6836877\ttotal: 3.48s\tremaining: 0us\n",
      "0:\tlearn: 0.6929765\ttotal: 39.2ms\tremaining: 3.88s\n",
      "25:\tlearn: 0.6898930\ttotal: 849ms\tremaining: 2.42s\n",
      "50:\tlearn: 0.6874318\ttotal: 1.74s\tremaining: 1.67s\n",
      "75:\tlearn: 0.6855527\ttotal: 2.6s\tremaining: 823ms\n",
      "99:\tlearn: 0.6837826\ttotal: 3.45s\tremaining: 0us\n",
      "0:\tlearn: 0.6929678\ttotal: 40.9ms\tremaining: 4.04s\n",
      "25:\tlearn: 0.6896636\ttotal: 910ms\tremaining: 2.59s\n",
      "50:\tlearn: 0.6874984\ttotal: 1.78s\tremaining: 1.71s\n",
      "75:\tlearn: 0.6855523\ttotal: 2.67s\tremaining: 842ms\n",
      "99:\tlearn: 0.6838268\ttotal: 3.51s\tremaining: 0us\n",
      "0:\tlearn: 0.6929555\ttotal: 98.4ms\tremaining: 9.74s\n",
      "25:\tlearn: 0.6897647\ttotal: 950ms\tremaining: 2.7s\n",
      "50:\tlearn: 0.6873934\ttotal: 1.82s\tremaining: 1.75s\n",
      "75:\tlearn: 0.6856312\ttotal: 2.68s\tremaining: 846ms\n"
     ]
    },
    {
     "name": "stderr",
     "output_type": "stream",
     "text": [
      "2022-03-25 17:47:52 mean cv_value 0.06257558556583653 | std cv_value 0.029639633762118207 \n",
      "2022-03-25 17:47:52 ---------------------------------------------\n"
     ]
    },
    {
     "name": "stdout",
     "output_type": "stream",
     "text": [
      "99:\tlearn: 0.6840129\ttotal: 3.51s\tremaining: 0us\n"
     ]
    },
    {
     "name": "stderr",
     "output_type": "stream",
     "text": [
      "2022-03-25 17:47:54 [TRAIN_MODEL] Training model\n",
      "2022-03-25 17:47:54 Set of params....., {'depth': 4, 'iterations': 72, 'learning_rate': 0.23624379286328923, 'score_function': 'Cosine'}\n"
     ]
    },
    {
     "name": "stdout",
     "output_type": "stream",
     "text": [
      "Iteration No: 98 ended. Search finished for the next optimal point.\n",
      "Time taken: 20.7620\n",
      "Function value obtained: -0.0626\n",
      "Current minimum: -0.0690\n",
      "Iteration No: 99 started. Searching for the next optimal point.\n",
      "0:\tlearn: 0.6921034\ttotal: 17ms\tremaining: 1.2s\n",
      "25:\tlearn: 0.6888642\ttotal: 279ms\tremaining: 494ms\n",
      "50:\tlearn: 0.6877424\ttotal: 570ms\tremaining: 235ms\n",
      "71:\tlearn: 0.6862007\ttotal: 814ms\tremaining: 0us\n",
      "0:\tlearn: 0.6920381\ttotal: 13.1ms\tremaining: 933ms\n",
      "25:\tlearn: 0.6886713\ttotal: 281ms\tremaining: 498ms\n",
      "50:\tlearn: 0.6876912\ttotal: 581ms\tremaining: 239ms\n",
      "71:\tlearn: 0.6862674\ttotal: 837ms\tremaining: 0us\n",
      "0:\tlearn: 0.6921382\ttotal: 12.3ms\tremaining: 876ms\n",
      "25:\tlearn: 0.6890392\ttotal: 283ms\tremaining: 500ms\n",
      "50:\tlearn: 0.6879511\ttotal: 568ms\tremaining: 234ms\n",
      "71:\tlearn: 0.6865523\ttotal: 813ms\tremaining: 0us\n",
      "0:\tlearn: 0.6921065\ttotal: 11.7ms\tremaining: 834ms\n",
      "25:\tlearn: 0.6889801\ttotal: 290ms\tremaining: 513ms\n",
      "50:\tlearn: 0.6879422\ttotal: 577ms\tremaining: 238ms\n",
      "71:\tlearn: 0.6864448\ttotal: 823ms\tremaining: 0us\n",
      "0:\tlearn: 0.6920877\ttotal: 11.9ms\tremaining: 842ms\n",
      "25:\tlearn: 0.6888112\ttotal: 290ms\tremaining: 512ms\n",
      "50:\tlearn: 0.6879331\ttotal: 572ms\tremaining: 235ms\n"
     ]
    },
    {
     "name": "stderr",
     "output_type": "stream",
     "text": [
      "2022-03-25 17:47:59 mean cv_value 0.06564732936295797 | std cv_value 0.025838416453060547 \n",
      "2022-03-25 17:47:59 ---------------------------------------------\n"
     ]
    },
    {
     "name": "stdout",
     "output_type": "stream",
     "text": [
      "71:\tlearn: 0.6866163\ttotal: 808ms\tremaining: 0us\n"
     ]
    },
    {
     "name": "stderr",
     "output_type": "stream",
     "text": [
      "2022-03-25 17:48:01 [TRAIN_MODEL] Training model\n",
      "2022-03-25 17:48:01 Set of params....., {'depth': 3, 'iterations': 70, 'learning_rate': 0.2523268936810454, 'score_function': 'Cosine'}\n"
     ]
    },
    {
     "name": "stdout",
     "output_type": "stream",
     "text": [
      "Iteration No: 99 ended. Search finished for the next optimal point.\n",
      "Time taken: 7.4125\n",
      "Function value obtained: -0.0656\n",
      "Current minimum: -0.0690\n",
      "Iteration No: 100 started. Searching for the next optimal point.\n",
      "0:\tlearn: 0.6921135\ttotal: 11.6ms\tremaining: 802ms\n",
      "25:\tlearn: 0.6892841\ttotal: 252ms\tremaining: 426ms\n",
      "50:\tlearn: 0.6884953\ttotal: 499ms\tremaining: 186ms\n",
      "69:\tlearn: 0.6876393\ttotal: 702ms\tremaining: 0us\n",
      "0:\tlearn: 0.6921449\ttotal: 11.4ms\tremaining: 786ms\n",
      "25:\tlearn: 0.6893221\ttotal: 250ms\tremaining: 423ms\n",
      "50:\tlearn: 0.6886954\ttotal: 484ms\tremaining: 180ms\n",
      "69:\tlearn: 0.6878605\ttotal: 677ms\tremaining: 0us\n",
      "0:\tlearn: 0.6921577\ttotal: 10.8ms\tremaining: 743ms\n",
      "25:\tlearn: 0.6895447\ttotal: 249ms\tremaining: 421ms\n",
      "50:\tlearn: 0.6887732\ttotal: 487ms\tremaining: 181ms\n",
      "69:\tlearn: 0.6878816\ttotal: 679ms\tremaining: 0us\n",
      "0:\tlearn: 0.6920956\ttotal: 10.1ms\tremaining: 698ms\n",
      "25:\tlearn: 0.6895093\ttotal: 240ms\tremaining: 406ms\n",
      "50:\tlearn: 0.6887777\ttotal: 472ms\tremaining: 176ms\n",
      "69:\tlearn: 0.6879229\ttotal: 669ms\tremaining: 0us\n",
      "0:\tlearn: 0.6921842\ttotal: 10.8ms\tremaining: 747ms\n",
      "25:\tlearn: 0.6893857\ttotal: 257ms\tremaining: 435ms\n",
      "50:\tlearn: 0.6886814\ttotal: 507ms\tremaining: 189ms\n",
      "69:\tlearn: 0.6879020\ttotal: 700ms\tremaining: 0us\n"
     ]
    },
    {
     "name": "stderr",
     "output_type": "stream",
     "text": [
      "2022-03-25 17:48:06 mean cv_value 0.06159495675420381 | std cv_value 0.030657833537313273 \n",
      "2022-03-25 17:48:06 ---------------------------------------------\n"
     ]
    },
    {
     "name": "stdout",
     "output_type": "stream",
     "text": [
      "Iteration No: 100 ended. Search finished for the next optimal point.\n",
      "Time taken: 6.5697\n",
      "Function value obtained: -0.0616\n",
      "Current minimum: -0.0690\n"
     ]
    }
   ],
   "source": [
    "gp_ = gp_minimize(\n",
    "    objective, # the objective function to minimize\n",
    "    params_grid, # the hyperparameter space\n",
    "    n_initial_points=25, # the number of points to evaluate f(x) to start of\n",
    "    acq_func='gp_hedge', # the acquisition function\n",
    "    n_calls=100, # the number of subsequent evaluations of f(x)\n",
    "    random_state=64,\n",
    "    n_jobs=-1,\n",
    "    verbose=True\n",
    ")"
   ]
  },
  {
   "cell_type": "code",
   "execution_count": 26,
   "id": "86d868e8",
   "metadata": {},
   "outputs": [
    {
     "data": {
      "text/plain": [
       "'Best score=-0.0690'"
      ]
     },
     "execution_count": 26,
     "metadata": {},
     "output_type": "execute_result"
    }
   ],
   "source": [
    "\"Best score=%.4f\" % gp_.fun"
   ]
  },
  {
   "cell_type": "code",
   "execution_count": 27,
   "id": "d7ef5f6e",
   "metadata": {},
   "outputs": [
    {
     "name": "stdout",
     "output_type": "stream",
     "text": [
      "Best parameters:\n",
      "=========================\n",
      "- depth = 4\n",
      "- iterations = 100.000000\n",
      "- learning_rate = 0.177570\n",
      "- score_function = L2\n",
      "\n"
     ]
    }
   ],
   "source": [
    "print(\"\"\"Best parameters:\n",
    "=========================\n",
    "- depth = %d\n",
    "- iterations = %.6f\n",
    "- learning_rate = %.6f\n",
    "- score_function = %s\n",
    "\"\"\" % (gp_.x[0],    \n",
    "       gp_.x[1],\n",
    "       gp_.x[2],\n",
    "       gp_.x[3]\n",
    "      ))"
   ]
  },
  {
   "cell_type": "code",
   "execution_count": 28,
   "id": "686520bf",
   "metadata": {},
   "outputs": [
    {
     "name": "stdout",
     "output_type": "stream",
     "text": [
      "{'depth': 4, 'iterations': 100, 'learning_rate': 0.17757046691739625, 'score_function': 'L2'}\n",
      "0:\tlearn: 0.6922233\ttotal: 17.8ms\tremaining: 1.76s\n",
      "25:\tlearn: 0.6886057\ttotal: 331ms\tremaining: 941ms\n",
      "50:\tlearn: 0.6873118\ttotal: 665ms\tremaining: 639ms\n",
      "75:\tlearn: 0.6863227\ttotal: 1s\tremaining: 316ms\n",
      "99:\tlearn: 0.6853515\ttotal: 1.32s\tremaining: 0us\n"
     ]
    },
    {
     "data": {
      "text/plain": [
       "ClassTransformation(estimator=<catboost.core.CatBoostClassifier object at 0x7f75b1124e50>)"
      ]
     },
     "execution_count": 28,
     "metadata": {},
     "output_type": "execute_result"
    }
   ],
   "source": [
    "#Seting parameters\n",
    "#Training the model best params.\n",
    "train_set = pd.concat([X_train,X_val],axis= 0)\n",
    "y_train_set = pd.concat([y_train,y_val],axis= 0)\n",
    "treatment_set = pd.concat([train_treatment,val_treatment],axis= 0)\n",
    "\n",
    "params={\n",
    "    'depth' : gp_.x[0],\n",
    "    'iterations': gp_.x[1],\n",
    "    'learning_rate' : gp_.x[2],\n",
    "    'score_function': gp_.x[3]\n",
    "}\n",
    "print(params)\n",
    "catClass = CatBoostClassifier(loss_function = 'Logloss',\n",
    "                                      auto_class_weights = 'Balanced',\n",
    "                                      thread_count = -1,\n",
    "                                      random_state=42,\n",
    "                                      metric_period=25)\n",
    "catClass.set_params(**params)\n",
    "classTslearner = ClassTransformation(estimator = catClass)\n",
    "classTslearner.fit(X = X_train,\n",
    "                   y = y_train,\n",
    "                   treatment = train_treatment\n",
    "                  ) "
   ]
  },
  {
   "cell_type": "code",
   "execution_count": 29,
   "id": "ec87056e",
   "metadata": {},
   "outputs": [],
   "source": [
    "#Predict.\n",
    "y_pred = classTslearner.predict(X_test)"
   ]
  },
  {
   "cell_type": "code",
   "execution_count": 30,
   "id": "ce3df4ca",
   "metadata": {},
   "outputs": [
    {
     "data": {
      "image/png": "[encoded data removed]",
      "text/plain": [
       "<Figure size 864x864 with 5 Axes>"
      ]
     },
     "metadata": {
      "needs_background": "light"
     },
     "output_type": "display_data"
    }
   ],
   "source": [
    "lift, uplift,gini, gain_top30,qini = EvalIncrementalModels(y_test,\n",
    "                                                           test_treatment,\n",
    "                                                           y_pred,\n",
    "                                                           plot = True)"
   ]
  },
  {
   "cell_type": "code",
   "execution_count": 34,
   "id": "6e40fcb3",
   "metadata": {},
   "outputs": [],
   "source": [
    "pd.to_pickle(catClass,'CatBoost_v01_qino_067.pickle')\n",
    "pd.to_pickle(classTslearner,'ClassTransformation_v01.pickle')"
   ]
  },
  {
   "cell_type": "code",
   "execution_count": 31,
   "id": "9a8d188e",
   "metadata": {},
   "outputs": [],
   "source": [
    "#Doomy model\n",
    "classTslearner2 = ClassTransformation(estimator = CatBoostClassifier(iterations=100,\n",
    "                                                                    thread_count=-1, \n",
    "                                                                    random_state=42, \n",
    "                                                                    silent=True))\n",
    "classTslearner2.fit(X = X_train,\n",
    "                    y = y_train,\n",
    "                   treatment = train_treatment)\n",
    "y_pred = classTslearner2.predict(X_test)"
   ]
  },
  {
   "cell_type": "code",
   "execution_count": 32,
   "id": "23bf95c5",
   "metadata": {},
   "outputs": [
    {
     "data": {
      "image/png": "[encoded data removed]",
      "text/plain": [
       "<Figure size 864x864 with 5 Axes>"
      ]
     },
     "metadata": {
      "needs_background": "light"
     },
     "output_type": "display_data"
    }
   ],
   "source": [
    "lift, uplift,gini, gain_top30,qini = EvalIncrementalModels(y_test,\n",
    "                                                           test_treatment,\n",
    "                                                           y_pred,\n",
    "                                                           plot = True)"
   ]
  }
 ],
 "metadata": {
  "kernelspec": {
   "display_name": "Python 3 (ipykernel)",
   "language": "python",
   "name": "python3"
  },
  "language_info": {
   "codemirror_mode": {
    "name": "ipython",
    "version": 3
   },
   "file_extension": ".py",
   "mimetype": "text/x-python",
   "name": "python",
   "nbconvert_exporter": "python",
   "pygments_lexer": "ipython3",
   "version": "3.7.4"
  }
 },
 "nbformat": 4,
 "nbformat_minor": 5
}
