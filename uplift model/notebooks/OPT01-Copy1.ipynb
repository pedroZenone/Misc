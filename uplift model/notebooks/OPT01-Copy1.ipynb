{
 "cells": [
  {
   "cell_type": "markdown",
   "id": "7e1d98ab",
   "metadata": {},
   "source": [
    "#### This notebook is for resizing the push notification base to get an specific daily consumtion"
   ]
  },
  {
   "cell_type": "code",
   "execution_count": 1,
   "id": "04fdebc7",
   "metadata": {},
   "outputs": [
    {
     "name": "stdout",
     "output_type": "stream",
     "text": [
      "adding utils to path \n"
     ]
    }
   ],
   "source": [
    "import sys, os \n",
    "prj_path = os.path.dirname(os.getcwd())\n",
    "utils_path = prj_path + '/utils'\n",
    "if  not utils_path in sys.path:\n",
    "    print('adding utils to path ')\n",
    "    sys.path.insert(1, utils_path)"
   ]
  },
  {
   "cell_type": "code",
   "execution_count": 2,
   "id": "fb428929",
   "metadata": {},
   "outputs": [],
   "source": [
    "from utilities import *\n",
    "from google_cloud import BigQuery, Storage\n",
    "import pandas as pd\n",
    "import numpy as np\n",
    "import matplotlib.pyplot as plt\n",
    "\n",
    "from datetime import datetime\n",
    "\n",
    "import os\n",
    "import sys\n",
    "\n",
    "import boto3\n",
    "import base64\n",
    "\n",
    "#Cliente BigQuery\n",
    "AUTH_BIGQUERY = base64.b64decode(os.environ['SECRET_AUTH_BIGQUERY_MODEL'])\n",
    "bq = BigQuery(AUTH_BIGQUERY)\n",
    "storage =Storage(AUTH_BIGQUERY)\n",
    "\n",
    "# Load config.\n",
    "files = glob.glob(f\"{utils_path}/*.yml\") \n",
    "conf = load_conf(files)"
   ]
  },
  {
   "cell_type": "code",
   "execution_count": 11,
   "id": "49f3d2e1",
   "metadata": {},
   "outputs": [],
   "source": [
    "today = pd.to_datetime('today')\n",
    "bop = (today - timedelta(days = today.day -1)).strftime('%Y-%m-%d')"
   ]
  },
  {
   "cell_type": "code",
   "execution_count": null,
   "id": "dffe34d8",
   "metadata": {},
   "outputs": [],
   "source": [
    "bop = '2022-04-01'\n",
    "\n",
    "eop = '2022-04-30'\n",
    "site = 'MLM'\n",
    "#We need to call this from somewhere.\n",
    "budget = 3000000"
   ]
  },
  {
   "cell_type": "code",
   "execution_count": null,
   "id": "16bf98b7",
   "metadata": {},
   "outputs": [],
   "source": [
    "df = consumtion_expand(site = site, bop = bop,eop = eop)"
   ]
  },
  {
   "cell_type": "code",
   "execution_count": null,
   "id": "cc2d1f63",
   "metadata": {},
   "outputs": [],
   "source": [
    "#some params\n",
    "N = df.shape[0]\n",
    "avg_fi = budget/(N)\n",
    "lim_sup = 3*avg_fi"
   ]
  },
  {
   "cell_type": "code",
   "execution_count": null,
   "id": "f0f823d0",
   "metadata": {},
   "outputs": [],
   "source": [
    "#Check for the daily consumption for tomorrow.\n",
    "month_seq = df.pay_created_dt\n",
    "fi = []\n",
    "for date in month_seq:\n",
    "    #Calculations only until date = eop -1\n",
    "    if date < pd.to_datetime(eop):\n",
    "        #BOP\n",
    "        if date == pd.to_datetime(bop):\n",
    "            F = 0\n",
    "        else:\n",
    "            yesterday = date - timedelta(days = 1)\n",
    "            I = df.pay_created_dt == yesterday\n",
    "            F =  df.loc[I].ACC_AMOUNT.values[0]\n",
    "            \n",
    "        f = daily_consumption(budget = budget,\n",
    "                              eop = eop,\n",
    "                              date = date,\n",
    "                              Fj = F,\n",
    "                              verbose = False)\n",
    "        fi.append(f)\n",
    "    #EOP dont need estimation.\n",
    "    else:\n",
    "        fi.append(budget- df.ACC_AMOUNT.to_list()[-1])\n",
    "    # ALARMS        \n",
    "    T_level = 1-((pd.to_datetime(eop) - date).days/N)\n",
    "    T_level = np.round(T_level,2)\n",
    "    B_level = F/budget\n",
    "    B_level = np.round(B_level,2)\n",
    "    if f > lim_sup:\n",
    "        logger.info(f\" date :{date} - Need a daily consumption over the limit 3B/N = {lim_sup}\")\n",
    "    if (T_level >.5) & (B_level<.5):\n",
    "        logger.info(f\" date :{date} - Check for an under consumtion %B: {B_level}, %T:{T_level}.\")\n",
    "    if (T_level<.5 - B_level>.5):\n",
    "        logger.info(f\" date :{date} - Check for an over consumtion %B: {B_level}, %T:{T_level}.\")\n",
    "\n",
    "df['forecast_consumption'] = [i for i in fi]"
   ]
  },
  {
   "cell_type": "code",
   "execution_count": null,
   "id": "9e78bcc4",
   "metadata": {},
   "outputs": [],
   "source": [
    "fig, ax = plt.subplots(1,1,figsize = (10,5))\n",
    "ax.stairs(df.forecast_consumption, label = 'updated daily consumption f(i+1)')\n",
    "ax.hlines(y = avg_fi, xmin=0,xmax = N,linestyle = '--',color = 'g', label = 'average daily budget')\n",
    "ax.hlines(y = lim_sup, xmin=0,xmax = N, linestyle = '--',color = 'r',label = 'daily spending limit')\n",
    "ax.stairs(df.AMOUNT, label = 'real consumtion (fi)')\n",
    "ax.legend(loc = 'upper left')"
   ]
  },
  {
   "cell_type": "code",
   "execution_count": null,
   "id": "07546eb4",
   "metadata": {},
   "outputs": [],
   "source": [
    "yesterday = (pd.to_datetime('today') - timedelta(days = 1)).strftime('%Y-%m-%d')"
   ]
  },
  {
   "cell_type": "code",
   "execution_count": null,
   "id": "09a24f15",
   "metadata": {},
   "outputs": [],
   "source": [
    "df.loc[df.pay_created_dt==pd.to_datetime(yesterday)]"
   ]
  },
  {
   "cell_type": "markdown",
   "id": "31cc9119",
   "metadata": {},
   "source": [
    "#### Relacion SENT vs Consumo."
   ]
  },
  {
   "cell_type": "code",
   "execution_count": null,
   "id": "6143b989",
   "metadata": {},
   "outputs": [],
   "source": [
    "%%time\n",
    "#Al momento necesito es c = f(#push). No requiero el budget.\n",
    "bop = '2022-01-01'\n",
    "eop = '2022-04-05'\n",
    "df = consumtion_expand(site = site, bop = bop,eop = eop)\n",
    "\n",
    "# Hoy manny push.\n",
    "q = QueryParamatrized(query_= 'HOW_MANNY_PUSH', query_param = {'bop':bop ,'eop':eop, 'site':site}, conf = conf)\n",
    "sent = bq.execute_response(q)\n",
    "sent['sent_date'] = pd.to_datetime(sent.sent_date)\n",
    "\n",
    "#cupon variation.\n",
    "q = QueryParamatrized(query_= 'CUPON_VARIATION', query_param = {'bop':bop ,'eop':eop, 'site':site}, conf = conf)\n",
    "cupon_value = bq.execute_response(q)\n",
    "cupon_value['pay_created_dt'] = pd.to_datetime(cupon_value.pay_created_dt)\n",
    "cupon_value.sort_values(by = 'pay_created_dt', inplace= True)\n",
    "\n",
    "#dataset\n",
    "push_cost = df[['pay_created_dt','AMOUNT']].merge(sent,right_on = ['sent_date'],left_on =['pay_created_dt'],how = 'left')\n",
    "push_cost = push_cost.merge(cupon_value[['pay_created_dt','mkt_cpn_amount']],on = 'pay_created_dt', how = 'left')\n",
    "push_cost = push_cost[['pay_created_dt','AMOUNT','sent','mkt_cpn_amount']]\n",
    "push_cost['day_of_week'] = [x.weekday() for x in push_cost.pay_created_dt]\n",
    "\n",
    "push_cost.sent.fillna(0, inplace = True)\n",
    "push_cost.mkt_cpn_amount.fillna(method = 'ffill', inplace=True)"
   ]
  },
  {
   "cell_type": "code",
   "execution_count": null,
   "id": "2cfb8100",
   "metadata": {},
   "outputs": [],
   "source": [
    "#Time series of push\n",
    "fig, (ax1,ax2) = plt.subplots(1,2,figsize = (18,5))\n",
    "ax1.stem(push_cost.pay_created_dt,push_cost.sent)\n",
    "ax1.set_ylabel('# push')\n",
    "ax1.set_xlabel('day')\n",
    "ax1.grid()\n",
    "ax2.hist(push_cost.sent, bins = 40)\n",
    "ax2.grid()"
   ]
  },
  {
   "cell_type": "code",
   "execution_count": null,
   "id": "51e6b84f",
   "metadata": {},
   "outputs": [],
   "source": [
    "#Time series of push\n",
    "fig, (ax1, ax2) = plt.subplots(1,2,figsize = (18,5))\n",
    "ax1.stem(push_cost.pay_created_dt,push_cost.AMOUNT)\n",
    "ax1.set_ylabel('daily consumption')\n",
    "ax1.set_xlabel('day')\n",
    "ax1.grid()\n",
    "\n",
    "ax2.hist(push_cost.AMOUNT, bins = 40)\n",
    "ax2.grid()"
   ]
  },
  {
   "cell_type": "code",
   "execution_count": null,
   "id": "a3c1c436",
   "metadata": {},
   "outputs": [],
   "source": [
    "fig, ax = plt.subplots(1,1,figsize = (10,5))\n",
    "ax.stem(push_cost.pay_created_dt,push_cost.mkt_cpn_amount)\n",
    "ax.set_ylabel('cupon value')\n",
    "ax.set_xlabel('day')\n",
    "ax.grid()"
   ]
  },
  {
   "cell_type": "code",
   "execution_count": null,
   "id": "8c2a2a0b",
   "metadata": {},
   "outputs": [],
   "source": [
    "#Relation N push = f(daily cosnumtion)\n",
    "fig, ax = plt.subplots(1,1,figsize = (10,5))\n",
    "ax.scatter(push_cost.AMOUNT,push_cost.sent, s = [x.month*20 for x in push_cost.pay_created_dt])\n",
    "ax.set_ylabel('# push')\n",
    "ax.set_xlabel('daily consumption')\n",
    "ax.vlines(x = avg_fi, ymin=0,ymax = np.max(push_cost.sent),linestyle = '--',color = 'g', label = 'average daily budget - march')\n",
    "ax.vlines(x = lim_sup, ymin=0,ymax = np.max(push_cost.sent), linestyle = '--',color = 'r',label = 'daily spending limit - march')\n",
    "ax.hlines(y = np.percentile(push_cost.sent,q = 50), xmin=0,xmax = lim_sup, linestyle = '-',color = 'k',label = 'median # sent push')\n",
    "\n",
    "ax.hlines(y = np.percentile(push_cost.sent,q = 5), xmin=0,xmax = lim_sup, linestyle = '--',color = 'k',label = 'sent push p5%')\n",
    "ax.hlines(y = np.percentile(push_cost.sent,q = 95), xmin=0,xmax = lim_sup, linestyle = '--',color = 'k',label = 'sent push p95%')\n",
    "\n",
    "ax.legend()"
   ]
  },
  {
   "cell_type": "code",
   "execution_count": null,
   "id": "62f6f5e5",
   "metadata": {},
   "outputs": [],
   "source": [
    "#clean before traing\n",
    "push_cost_filter = push_cost.copy()\n",
    "push_cost_filter.loc[push_cost_filter.sent <= 5000,'sent'] = 0\n",
    "push_cost_filter.loc[push_cost_filter.sent == 0,'AMOUNT'] = 0"
   ]
  },
  {
   "cell_type": "code",
   "execution_count": null,
   "id": "acb7a9a7",
   "metadata": {},
   "outputs": [],
   "source": [
    "fig, ax = plt.subplots(1,1,figsize = (10,5))\n",
    "ax.scatter(push_cost_filter.AMOUNT,push_cost_filter.sent, s = [x.month*20 for x in push_cost_filter.pay_created_dt])\n",
    "ax.set_ylabel('# push')\n",
    "ax.set_xlabel('daily consumption')\n",
    "ax.vlines(x = avg_fi, ymin=0,ymax = np.max(push_cost_filter.sent),linestyle = '--',color = 'g', label = 'average daily budget - march')\n",
    "ax.vlines(x = lim_sup, ymin=0,ymax = np.max(push_cost_filter.sent), linestyle = '--',color = 'r',label = 'daily spending limit - march')\n",
    "ax.hlines(y = np.percentile(push_cost.sent,q = 50), xmin=0,xmax = lim_sup, linestyle = '-',color = 'k',label = 'median # sent push')\n",
    "\n",
    "ax.hlines(y = np.percentile(push_cost.sent,q = 5), xmin=0,xmax = lim_sup, linestyle = '--',color = 'k',label = 'sent push p5%')\n",
    "ax.hlines(y = np.percentile(push_cost.sent,q = 95), xmin=0,xmax = lim_sup, linestyle = '--',color = 'k',label = 'sent push p95%')\n",
    "\n",
    "ax.legend()"
   ]
  },
  {
   "cell_type": "code",
   "execution_count": null,
   "id": "c2354806",
   "metadata": {},
   "outputs": [],
   "source": [
    "#Get a model.\n",
    "from sklearn.model_selection import GridSearchCV, train_test_split\n",
    "from sklearn.preprocessing import StandardScaler, RobustScaler\n",
    "from sklearn.ensemble import RandomForestRegressor\n",
    "from sklearn.linear_model import HuberRegressor, LinearRegression\n",
    "\n",
    "target_var = 'sent'\n",
    "time_var = 'pay_created_dt'\n",
    "model_vars = set(push_cost_filter.columns) - set([target_var,time_var])\n",
    "print(model_vars)\n",
    "\n",
    "rb = RobustScaler()\n",
    "push_cost_filter_ = pd.DataFrame(\n",
    "    rb.fit_transform(\n",
    "        push_cost_filter[model_vars]),\n",
    "    columns=push_cost_filter[model_vars].columns\n",
    ")\n",
    "\n",
    "X_train, X_test, y_train, y_test = train_test_split(push_cost_filter_[model_vars],\n",
    "                                                    push_cost_filter[target_var],\n",
    "                                                    random_state= 142,\n",
    "                                                    shuffle=True,\n",
    "                                                    test_size=0.33)"
   ]
  },
  {
   "cell_type": "code",
   "execution_count": null,
   "id": "3461b068",
   "metadata": {},
   "outputs": [],
   "source": [
    "param_grid = {\n",
    "    'bootstrap': [True, False],\n",
    "    'max_depth': [50,80, 90, 100, 110],\n",
    "    'max_features': [1,2],\n",
    "    'min_samples_leaf': [3, 4, 5],\n",
    "    'min_samples_split': [8, 10, 12],\n",
    "    'n_estimators': [10, 50, 100, 200]\n",
    "}\n",
    "# Create a based model\n",
    "rf = RandomForestRegressor()\n",
    "# Instantiate the grid search model\n",
    "grid_search_rf = GridSearchCV(estimator = rf, param_grid = param_grid, cv = 3, n_jobs = -1,verbose = -1)\n",
    "grid_search_rf.fit(X_train,y_train.ravel())\n"
   ]
  },
  {
   "cell_type": "code",
   "execution_count": null,
   "id": "f4c30e3f",
   "metadata": {},
   "outputs": [],
   "source": [
    "param_grid = {\n",
    "    'epsilon': [1.35,5,10,50],\n",
    "    'alpha': [10**-4,10**-3,10**-2]\n",
    "}\n",
    "\n",
    "huber = HuberRegressor()\n",
    "grid_search_huber = GridSearchCV(estimator = huber, param_grid = param_grid, cv = 3, n_jobs = -1,verbose = -1)\n",
    "grid_search_huber.fit(X_train,y_train.ravel())"
   ]
  },
  {
   "cell_type": "code",
   "execution_count": null,
   "id": "1a0da26e",
   "metadata": {},
   "outputs": [],
   "source": [
    "lm = LinearRegression()\n",
    "lm.fit(X_train,y_train.ravel())"
   ]
  },
  {
   "cell_type": "code",
   "execution_count": null,
   "id": "226010a6",
   "metadata": {},
   "outputs": [],
   "source": [
    "rf_sc = grid_search_rf.best_estimator_.score(X_test,y_test)\n",
    "hu_sc = grid_search_huber.best_estimator_.score(X_test,y_test)\n",
    "lm_sc = lm.score(X_test,y_test)\n",
    "print(rf_sc)\n",
    "print(hu_sc)\n",
    "print(lm_sc)"
   ]
  },
  {
   "cell_type": "code",
   "execution_count": null,
   "id": "74b843f9",
   "metadata": {},
   "outputs": [],
   "source": [
    "def mse(y_true,y_pred):\n",
    "    return np.mean((y_true-y_pred)**2)"
   ]
  },
  {
   "cell_type": "code",
   "execution_count": null,
   "id": "93ec7650",
   "metadata": {},
   "outputs": [],
   "source": [
    "error = []\n",
    "m = {'rf':grid_search_rf.best_estimator_,\n",
    "     'hubber':grid_search_huber.best_estimator_,\n",
    "     'lm': lm\n",
    "    }\n",
    "\n",
    "for model_type,model in m.items():       \n",
    "    y_pred = model.predict(X_test)\n",
    "    error.append(mse(y_test,y_pred))"
   ]
  },
  {
   "cell_type": "code",
   "execution_count": null,
   "id": "97e8764a",
   "metadata": {},
   "outputs": [],
   "source": [
    "error"
   ]
  },
  {
   "cell_type": "code",
   "execution_count": null,
   "id": "c9f3ccb1",
   "metadata": {},
   "outputs": [],
   "source": [
    "pd.to_pickle(grid_search_huber,'huber.pkl')\n",
    "pd.to_pickle(rb,'scaler.pkl')"
   ]
  },
  {
   "cell_type": "code",
   "execution_count": null,
   "id": "3f0efcf5",
   "metadata": {},
   "outputs": [],
   "source": [
    "model = grid_search_huber.best_estimator_"
   ]
  },
  {
   "cell_type": "code",
   "execution_count": null,
   "id": "50556dc5",
   "metadata": {},
   "outputs": [],
   "source": [
    "y_pred = model.predict(X_test)"
   ]
  },
  {
   "cell_type": "code",
   "execution_count": null,
   "id": "ecc3d455",
   "metadata": {},
   "outputs": [],
   "source": [
    "#Relation N push = f(daily cosnumtion)\n",
    "fig, ax = plt.subplots(1,1,figsize = (10,5))\n",
    "ax.scatter(y_test,y_pred, label = '(y_test,y_pred)')\n",
    "ax.plot(y_test,y_test ,label = 'prefect prediction')\n",
    "ax.set_xlabel('y_test')\n",
    "ax.set_ylabel('y_pred')\n",
    "ax.grid()"
   ]
  },
  {
   "cell_type": "code",
   "execution_count": null,
   "id": "19f3a102",
   "metadata": {},
   "outputs": [],
   "source": [
    "X_test.columns"
   ]
  },
  {
   "cell_type": "code",
   "execution_count": null,
   "id": "9d3b5e66",
   "metadata": {},
   "outputs": [],
   "source": [
    "#Supongamos que necesito el limite superior dado un cupon de 200.\n",
    "syntetic_data = pd.DataFrame({\n",
    "    'day_of_week':[0,1,2,3,4,5,6], \n",
    "    'AMOUNT':[lim_sup,lim_sup,lim_sup,lim_sup,lim_sup,lim_sup,lim_sup], \n",
    "    'mkt_cpn_amount':[200,200,200,200,200,200,200]}\n",
    ")\n",
    "syntetic_data = pd.DataFrame(rb.transform(syntetic_data),columns=syntetic_data.columns)\n",
    "syntetic_data"
   ]
  },
  {
   "cell_type": "code",
   "execution_count": null,
   "id": "77b2f66f",
   "metadata": {},
   "outputs": [],
   "source": [
    "cut = np.floor(lm.predict(syntetic_data))"
   ]
  },
  {
   "cell_type": "code",
   "execution_count": null,
   "id": "93de4ec3",
   "metadata": {},
   "outputs": [],
   "source": [
    "cut"
   ]
  },
  {
   "cell_type": "code",
   "execution_count": null,
   "id": "52f36115",
   "metadata": {},
   "outputs": [],
   "source": [
    "plt.hist(y_test - y_pred, bins = 20)"
   ]
  },
  {
   "cell_type": "markdown",
   "id": "efa7d228",
   "metadata": {},
   "source": [
    "#### Check.\n",
    "\n",
    "(F(t=i)+(n-i)*fi+1) = B\n",
    "\n",
    "ACC_AMOUNT + fi+1*(n-1)"
   ]
  },
  {
   "cell_type": "code",
   "execution_count": null,
   "id": "bddfd9d1",
   "metadata": {},
   "outputs": [],
   "source": [
    "(0 + 30*100000.0)/budget"
   ]
  },
  {
   "cell_type": "code",
   "execution_count": null,
   "id": "6f1f366b",
   "metadata": {},
   "outputs": [],
   "source": [
    "(16800.0 + 29*102868.96551724138)/budget"
   ]
  },
  {
   "cell_type": "code",
   "execution_count": null,
   "id": "8335e903",
   "metadata": {},
   "outputs": [],
   "source": [
    "(1497750.0+ 1502250.0)/budget"
   ]
  },
  {
   "cell_type": "code",
   "execution_count": null,
   "id": "a126b337",
   "metadata": {},
   "outputs": [],
   "source": [
    "backbone"
   ]
  },
  {
   "cell_type": "code",
   "execution_count": null,
   "id": "6f54e022",
   "metadata": {},
   "outputs": [],
   "source": [
    "1.502250e+06+1576550.0"
   ]
  },
  {
   "cell_type": "code",
   "execution_count": null,
   "id": "2c740368",
   "metadata": {},
   "outputs": [],
   "source": [
    "#Ver como varia el budget de una campaña.\n",
    "#Ver como varian los incrementales.\n",
    "#Ver como ranquea el modelo y comparar con los incrementales reales.\n",
    "#Ver si hay componenete estacional."
   ]
  },
  {
   "cell_type": "code",
   "execution_count": null,
   "id": "f5a76883",
   "metadata": {},
   "outputs": [],
   "source": [
    "budget = 3000000\n",
    "eop_ = pd.to_datetime(eop) - timedelta(days = 1)\n",
    "month_seq = pd.date_range(start = bop, end = eop_,freq = 'D')\n",
    "fj = []\n",
    "cj = []\n",
    "Fj = []\n",
    "N = ((pd.to_datetime(eop) - pd.to_datetime(bop)).days)\n",
    "avg_fi = 3*budget/N\n",
    "k = 0\n",
    "for k, date in enumerate(month_seq) :\n",
    "           \n",
    "    if date == pd.to_datetime(bop):\n",
    "        print('------start campain------')\n",
    "        fi[k] = budget/N\n",
    "        if  consumo_nb.loc[consumo_nb.pay_created_dt == date].empty:\n",
    "            print(f'No consumption for {date}')\n",
    "            Fi[k] = 0\n",
    "            ci[k] = 0\n",
    "        else:\n",
    "            Fi[k] = consumo_nb.loc[consumo_nb.pay_created_dt == date].AMOUNT.values\n",
    "            ci[k] = Fi[k]\n",
    "        print('-------------------------')\n",
    "    else:\n",
    "         if  consumo_nb.loc[consumo_nb.pay_created_dt == date].empty:\n",
    "            print(f'No consumption for {date}')\n",
    "            I = (consumo_nb.pay_created_dt < date)&(~consumo_nb.ACC_AMOUNT.isnull())\n",
    "            Fi[k] = consumo_nb.loc[I].ACC_AMOUNT.values[-1]\n",
    "            ci = 0\n",
    "        else:\n",
    "            Fi = consumo_nb.loc[consumo_nb.pay_created_dt == date].ACC_AMOUNT.values\n",
    "            ci = consumo_nb.loc[consumo_nb.pay_created_dt == date].AMOUNT.values\n",
    "        \n",
    "        \n",
    "    fii = daily_consumption(budget = budget,\n",
    "                            eop = eop,\n",
    "                            bop = bop,\n",
    "                            date_ = date,\n",
    "                            Fi = Fi,\n",
    "                            ci = ci,\n",
    "                            fi = fi[k])\n",
    "    k = k+1\n",
    "    fi[k] =fii\n"
   ]
  },
  {
   "cell_type": "markdown",
   "id": "62ce6627",
   "metadata": {},
   "source": [
    "#### Budget por campaña"
   ]
  },
  {
   "cell_type": "code",
   "execution_count": null,
   "id": "253aae17",
   "metadata": {},
   "outputs": [],
   "source": [
    "%%time\n",
    "buget_variation = bq.execute_response(\"\"\" \n",
    "SELECT \n",
    "    push.CAMPAIGN_ID,\n",
    "    budget.MKT_TOOL_ID,\n",
    "    budget.BUDGET_LC,\n",
    "    min(push.SENT_DATE) minDate_push_event,\n",
    "    max(push.SENT_DATE) maxDate_push_event,\n",
    "    min(budget.TIM_MONTH) minDate_budget\n",
    "FROM meli-marketing.MKTPUBLIC.V_BT_PUSH_NOTIFICATION_EVENT push \n",
    "LEFT JOIN meli-marketing.PUSH.LK_PUSH_BUDGET_COUPON budget \n",
    "ON push.CAMPAIGN_ID = budget.PUSH_CAMPAIGN_ID\n",
    "AND budget.SIT_SITE_ID = 'MLB'\n",
    "WHERE 1=1\n",
    "AND BATCH_ID LIKE 'MLB_ML_PUSHML_AO_ALL_X_ACT_ALL_NEWBUYERS%'\n",
    "AND push.SENT_DATE BETWEEN DATE '2022-01-01' AND DATE '2022-03-30'\n",
    "GROUP BY 1,2,3\n",
    "ORDEr BY 2,3\"\"\")"
   ]
  },
  {
   "cell_type": "code",
   "execution_count": null,
   "id": "13967b71",
   "metadata": {},
   "outputs": [],
   "source": [
    "buget_variation.head(4)"
   ]
  },
  {
   "cell_type": "markdown",
   "id": "d1d0e4e6",
   "metadata": {},
   "source": [
    "#### Push events and model prediction."
   ]
  },
  {
   "cell_type": "code",
   "execution_count": null,
   "id": "768ee53a",
   "metadata": {},
   "outputs": [],
   "source": [
    "#model\n",
    "storage.downlad_file(gs_source_path = 'gs://marketing-modelling/ML/NB/MLB/model/model_MLB.pkl', \n",
    "                     destination_file = 'old_model_nb.pkl')\n",
    "model = pd.read_pickle('old_model_nb.pkl')"
   ]
  },
  {
   "cell_type": "code",
   "execution_count": null,
   "id": "bd1dcaa4",
   "metadata": {},
   "outputs": [],
   "source": [
    "%%time\n",
    "q = pre.fun_query_apply('2022-01-05',PAIS ='MLB')\n",
    "df = bq.execute_response(q)"
   ]
  },
  {
   "cell_type": "code",
   "execution_count": null,
   "id": "216deee8",
   "metadata": {},
   "outputs": [],
   "source": [
    "df.head()"
   ]
  },
  {
   "cell_type": "code",
   "execution_count": null,
   "id": "5a922774",
   "metadata": {},
   "outputs": [],
   "source": [
    "df['score'] = model.predict_proba(df)"
   ]
  },
  {
   "cell_type": "code",
   "execution_count": null,
   "id": "21a03fff",
   "metadata": {},
   "outputs": [],
   "source": [
    "%%time\n",
    "site = 'MLB'\n",
    "date_intial = '2022-01-01'\n",
    "date_end = '2022-03-30'\n",
    "push_population = bq.execute_response(f\"\"\"\n",
    "    WITH push as ( \n",
    "            SELECT \n",
    "                push.CUS_CUST_ID,\n",
    "                push.SIT_SITE_ID,\n",
    "                push.CAMPAIGN_ID,\n",
    "                push.SENT_DATE, \n",
    "                push.EVENT_TYPE \n",
    "            FROM meli-marketing.MKTPUBLIC.V_BT_PUSH_NOTIFICATION_EVENT push \n",
    "            WHERE BATCH_ID LIKE 'MLB_ML_PUSHML_AO_ALL_X_ACT_ALL_NEWBUYERS%' \n",
    "                AND push.EVENT_TYPE in ('sent','control') \n",
    "                AND push.APP = 'mercadolibre'\n",
    "                AND push.sit_site_id = '{site}' \n",
    "                AND push.SENT_DATE >= DATE '{date_intial}' AND push.SENT_DATE <= DATE '{date_end}' \n",
    "             ),\n",
    "    orders_ as (\n",
    "        SELECT \n",
    "            push.CUS_CUST_ID, \n",
    "            push.CAMPAIGN_ID,\n",
    "            push.SENT_DATE, \n",
    "            push.EVENT_TYPE,\n",
    "            orders.ORD_CREATED_DT,\n",
    "            ROW_NUMBER() OVER (PARTITION BY push.CUS_CUST_ID ORDER BY orders.ORD_CREATED_DT) AS ORDERING_PURCHASE\n",
    "        FROM push LEFT JOIN meli-bi-data.WHOWNER.BT_ORD_ORDERS orders\n",
    "        ON push.CUS_CUST_ID = orders.ORD_BUYER.ID \n",
    "            AND push.sit_site_id = orders.SIT_SITE_ID \n",
    "            AND ORD_CLOSED_DT is not null\n",
    "            AND orders.ord_status = 'paid' \n",
    "            AND orders.ORD_CLOSED_DT BETWEEN push.SENT_DATE AND push.SENT_DATE + 4 \n",
    "            AND orders.ORD_CREATED_DT = push.SENT_DATE\n",
    "        )\n",
    "\n",
    "    SELECT \n",
    "        CUS_CUST_ID,\n",
    "        CAMPAIGN_ID,\n",
    "        SENT_DATE,\n",
    "        EVENT_TYPE,\n",
    "        CASE WHEN ORD_CREATED_DT is null THEN 0 ELSE 1 END AS CONVERSION\n",
    "    FROM orders_\n",
    "    WHERE ORDERING_PURCHASE = 1\n",
    "    \"\"\" \n",
    "                                     )"
   ]
  },
  {
   "cell_type": "code",
   "execution_count": null,
   "id": "944f0b5b",
   "metadata": {},
   "outputs": [],
   "source": [
    "push_population.head(3)"
   ]
  },
  {
   "cell_type": "code",
   "execution_count": null,
   "id": "d82785c7",
   "metadata": {},
   "outputs": [],
   "source": [
    "#model\n",
    "storage.downlad_file(gs_source_path = 'gs://marketing-modelling/ML/NB/MLB/model/model_MLB.pkl', \n",
    "                     destination_file = 'old_model_nb.pkl')\n",
    "model = pd.read_pickle('old_model_nb.pkl')"
   ]
  },
  {
   "cell_type": "code",
   "execution_count": null,
   "id": "93f19920",
   "metadata": {},
   "outputs": [],
   "source": [
    "model = pd.read_pickle('old_model_nb.pkl')"
   ]
  },
  {
   "cell_type": "code",
   "execution_count": null,
   "id": "d7235c58",
   "metadata": {},
   "outputs": [],
   "source": [
    "model.predict_proba()"
   ]
  },
  {
   "cell_type": "code",
   "execution_count": null,
   "id": "cff5d875",
   "metadata": {},
   "outputs": [],
   "source": [
    "a = 0 \n",
    "B=100\n",
    "delta = 12\n",
    "for i in np.arange(2,30,1):\n",
    "    a += 1/(i-1)"
   ]
  },
  {
   "cell_type": "code",
   "execution_count": null,
   "id": "acfa13ae",
   "metadata": {},
   "outputs": [],
   "source": [
    "(B-delta)*a"
   ]
  },
  {
   "cell_type": "code",
   "execution_count": null,
   "id": "6c0c1da1",
   "metadata": {},
   "outputs": [],
   "source": []
  }
 ],
 "metadata": {
  "kernelspec": {
   "display_name": "Python 3 (ipykernel)",
   "language": "python",
   "name": "python3"
  },
  "language_info": {
   "codemirror_mode": {
    "name": "ipython",
    "version": 3
   },
   "file_extension": ".py",
   "mimetype": "text/x-python",
   "name": "python",
   "nbconvert_exporter": "python",
   "pygments_lexer": "ipython3",
   "version": "3.7.4"
  }
 },
 "nbformat": 4,
 "nbformat_minor": 5
}
