{
 "cells": [
  {
   "cell_type": "markdown",
   "id": "6e8c86ad",
   "metadata": {},
   "source": [
    "**This notebook is for:**\n",
    "1. Testing causalML.\n",
    "https://antonsruberts.github.io/causalml-test/"
   ]
  },
  {
   "cell_type": "code",
   "execution_count": 1,
   "id": "6d83142d",
   "metadata": {},
   "outputs": [
    {
     "name": "stdout",
     "output_type": "stream",
     "text": [
      "adding utils to path \n"
     ]
    }
   ],
   "source": [
    "import sys, os \n",
    "prj_path = os.path.dirname(os.getcwd())\n",
    "utils_path = prj_path + '/utils'\n",
    "if  not utils_path in sys.path:\n",
    "    print('adding utils to path ')\n",
    "    sys.path.insert(1, utils_path)"
   ]
  },
  {
   "cell_type": "code",
   "execution_count": 13,
   "id": "386186e3",
   "metadata": {},
   "outputs": [],
   "source": [
    "import pandas as pd\n",
    "import numpy as np\n",
    "from matplotlib import pyplot as plt\n",
    "\n",
    "from sklearn.model_selection import train_test_split, KFold, cross_val_score, StratifiedKFold\n",
    "from sklearn.metrics import (\n",
    "    average_precision_score, roc_auc_score, roc_curve, auc, plot_roc_curve, RocCurveDisplay,\n",
    "    recall_score, f1_score, mean_absolute_percentage_error,r2_score,average_precision_score,\n",
    "    brier_score_loss\n",
    ")\n",
    "\n",
    "import lightgbm as lgbm\n",
    "from sklift.metrics import qini_auc_score, uplift_auc_score\n",
    "from sklift.models import  ClassTransformation\n",
    "from skopt.space import Space\n",
    "from skopt.space import Real, Integer, Categorical\n",
    "from skopt.utils import use_named_args\n",
    "from sklift.viz import plot_uplift_by_percentile, plot_qini_curve, plot_uplift_curve\n",
    "\n",
    "from skopt import gp_minimize\n",
    "# for the analysis\n",
    "from skopt.plots import (\n",
    "    plot_convergence,\n",
    "    plot_evaluations,\n",
    "    plot_objective\n",
    ")\n",
    "\n",
    "from catboost import CatBoostClassifier\n",
    "\n",
    "from utilities import *\n",
    "from user_model_evaluation import *\n",
    "\n",
    "from imblearn.over_sampling import RandomOverSampler\n",
    "from imblearn.under_sampling import RandomUnderSampler\n",
    "\n",
    "#Load config.\n",
    "files = glob.glob(f\"{utils_path}/*.yml\") \n",
    "conf = load_conf(files)"
   ]
  },
  {
   "cell_type": "code",
   "execution_count": 3,
   "id": "ceaaa9e5",
   "metadata": {},
   "outputs": [],
   "source": [
    "master = pd.read_parquet('MASTER/202203221434.parquet')"
   ]
  },
  {
   "cell_type": "code",
   "execution_count": 4,
   "id": "57cac85e",
   "metadata": {},
   "outputs": [],
   "source": [
    "#model vars\n",
    "treatment_var = 'W'\n",
    "target_var = 'Y'\n",
    "TARGET = 'TARGET'\n",
    "exclude_vars = ['CUS_CUST_ID', 'SENT_DATE'] + [treatment_var] + [target_var] + [TARGET]\n",
    "model_vars = list(set(master.columns) - set(exclude_vars))"
   ]
  },
  {
   "cell_type": "code",
   "execution_count": 5,
   "id": "fdcddadc",
   "metadata": {},
   "outputs": [],
   "source": [
    "def TransformTarget(y:list, treatment:list):\n",
    "    return (np.array(y) == np.array(treatment)).astype(int)\n",
    "\n",
    "def p2uplift(p:list):\n",
    "    return 2*p-1"
   ]
  },
  {
   "cell_type": "code",
   "execution_count": 6,
   "id": "d0fc9c3b",
   "metadata": {},
   "outputs": [],
   "source": [
    "def check_units(treatment):\n",
    "    x = np.bincount(treatment)\n",
    "    return x[0]==x[1]"
   ]
  },
  {
   "cell_type": "code",
   "execution_count": 7,
   "id": "17766288",
   "metadata": {},
   "outputs": [],
   "source": [
    "# master['TARGET'] = TransformTarget(y = master[target_var].tolist(), treatment = master[treatment_var].tolist())\n",
    "master['CANARY_VAR'] = np.random.uniform(size = master.shape[0])"
   ]
  },
  {
   "cell_type": "code",
   "execution_count": 8,
   "id": "3dd162a6",
   "metadata": {},
   "outputs": [
    {
     "name": "stderr",
     "output_type": "stream",
     "text": [
      "2022-03-29 08:24:16 Oversmapling for equal probability P(W=1)=P(W=0)\n"
     ]
    }
   ],
   "source": [
    "chk = check_units(master[treatment_var].tolist())\n",
    "if not chk:\n",
    "    logger.info(f'Oversmapling for equal probability P(W=1)=P(W=0)')\n",
    "    # For ClassTransformation approach its necesary that P(W=1)=P(W=0) This implies that \n",
    "    # we have the same number of users in the two groups.\n",
    "    ros = RandomOverSampler(random_state=0)\n",
    "#     v = model_vars + [treatment_var] + [target_var] + [TARGET]\n",
    "    v = model_vars + [treatment_var] + [target_var]\n",
    "    X_oversampled, _ = ros.fit_resample(master[v], master[treatment_var])"
   ]
  },
  {
   "cell_type": "code",
   "execution_count": 9,
   "id": "dd947664",
   "metadata": {},
   "outputs": [],
   "source": [
    "X_train, X_test, y_train, y_test = train_test_split(X_oversampled[model_vars + [treatment_var]],\n",
    "                                                    X_oversampled[target_var],\n",
    "                                                    random_state= 142,\n",
    "                                                    shuffle=True,\n",
    "                                                    stratify = X_oversampled[target_var],\n",
    "                                                    test_size=0.33)\n",
    "\n",
    "test_treatment = X_test[treatment_var]\n",
    "\n",
    "X_train, X_val, y_train, y_val = train_test_split(X_train,\n",
    "                                                  y_train,\n",
    "                                                  random_state= 142,\n",
    "                                                  shuffle=True,\n",
    "                                                  stratify = y_train,\n",
    "                                                  test_size=0.33)\n",
    "\n",
    "train_treatment = X_train[treatment_var]\n",
    "val_treatment = X_val[treatment_var]\n",
    "\n",
    "X_train.drop(labels=treatment_var, axis = 1, inplace = True)\n",
    "X_test.drop(labels=treatment_var, axis = 1, inplace = True)\n",
    "X_val.drop(labels=treatment_var, axis = 1, inplace = True)"
   ]
  },
  {
   "cell_type": "code",
   "execution_count": 41,
   "id": "529ff25c",
   "metadata": {},
   "outputs": [],
   "source": [
    "#List of search space dimensions\n",
    "callbacks = [lgbm.early_stopping(stopping_rounds=10, first_metric_only=False),\n",
    "                lgbm.log_evaluation(period=25)]\n",
    "param_grid = [\n",
    "    Integer(5,500,prior=\"uniform\",name=\"n_estimators\"),\n",
    "    Real(10**-4, 10**3, \"uniform\", name='reg_alpha'),\n",
    "    Real(10**-4, 10**0, \"log-uniform\", name='learning_rate'),\n",
    "    Real(0.1,0.9,prior=\"uniform\",name=\"feature_fraction\"),\n",
    "    Real(0.1,0.9,prior=\"uniform\",name=\"bagging_fraction\"),\n",
    "    Integer(2,500,prior=\"uniform\",name=\"num_leaves\") , \n",
    "    Integer(2,60,prior=\"uniform\",name=\"min_child_weight\")\n",
    "]\n",
    "\n",
    "def auc_pr(y_true, y_pred):\n",
    "    return 'auc_pr', average_precision_score(y_true, y_pred),True\n",
    "\n",
    "def brier_score(y_true, y_pred):\n",
    "    return 'brier',brier_score_loss(y_true, y_pred),False\n",
    "\n",
    "model_lgbm=lgbm.LGBMClassifier(random_state=9001,\n",
    "                               importance_type='gain',\n",
    "                               is_unbalance = True,\n",
    "                               objective=\"binary\")\n"
   ]
  },
  {
   "cell_type": "code",
   "execution_count": 44,
   "id": "2b44897a",
   "metadata": {},
   "outputs": [],
   "source": [
    "@use_named_args(param_grid)\n",
    "def objective(**params):\n",
    "     \n",
    "    # model with new parameters\n",
    "    logger.info(f\"[TRAIN_MODEL] Training model\") \n",
    "    logger.info(f'Set of params....., {params}')\n",
    "    \n",
    "    model_lgbm.set_params(**params)\n",
    "    classTrans = ClassTransformation(estimator = model_lgbm)\n",
    "    \n",
    "    cv = StratifiedKFold(n_splits=3, shuffle=True,random_state=1)\n",
    "    cv_value = []\n",
    "    for train_index, test_index in cv.split(X_train,y_train):\n",
    "        classTrans.fit(X = X_train.iloc[train_index],\n",
    "                       y = y_train.iloc[train_index],\n",
    "                       treatment = train_treatment.iloc[train_index],\n",
    "                       estimator_fit_params={'eval_set':[(X_val,y_val)],\n",
    "                                             'callbacks' : callbacks,\n",
    "                                             'eval_metric' : brier_score                                             \n",
    "                                            }\n",
    "                      )  \n",
    "                                     \n",
    "        y = classTrans.predict(X_train.iloc[test_index])\n",
    "        y_true = y_train.iloc[test_index].values\n",
    "        treatment = train_treatment.iloc[test_index].values\n",
    "        q = qini_auc_score(y_true = y_true, \n",
    "                             uplift = y,\n",
    "                             treatment = treatment,\n",
    "                            )\n",
    "\n",
    "        cv_value.append(q)\n",
    "    del classTrans\n",
    "    value = np.mean(cv_value)  \n",
    "\n",
    "    logger.info(f\"mean cv_value {value} | std cv_value {np.std(cv_value)} \")\n",
    "    logger.info(\"---------------------------------------------\")\n",
    "    return -1*value"
   ]
  },
  {
   "cell_type": "code",
   "execution_count": 45,
   "id": "80f76a90",
   "metadata": {
    "collapsed": true,
    "jupyter": {
     "outputs_hidden": true
    }
   },
   "outputs": [
    {
     "name": "stderr",
     "output_type": "stream",
     "text": [
      "2022-03-29 09:36:01 [TRAIN_MODEL] Training model\n",
      "2022-03-29 09:36:01 Set of params....., {'n_estimators': 153, 'reg_alpha': 494.5899800743713, 'learning_rate': 0.00591643082024189, 'feature_fraction': 0.765529087176961, 'bagging_fraction': 0.5666573895501891, 'num_leaves': 15, 'min_child_weight': 43}\n"
     ]
    },
    {
     "name": "stdout",
     "output_type": "stream",
     "text": [
      "Iteration No: 1 started. Evaluating function at random point.\n",
      "[25]\tvalid_0's binary_logloss: 0.698476\tvalid_0's brier: 0.252664\n",
      "[50]\tvalid_0's binary_logloss: 0.697963\tvalid_0's brier: 0.252408\n",
      "[75]\tvalid_0's binary_logloss: 0.697566\tvalid_0's brier: 0.252209\n",
      "[100]\tvalid_0's binary_logloss: 0.697213\tvalid_0's brier: 0.252033\n",
      "[125]\tvalid_0's binary_logloss: 0.696819\tvalid_0's brier: 0.251836\n",
      "[150]\tvalid_0's binary_logloss: 0.696497\tvalid_0's brier: 0.251675\n",
      "Did not meet early stopping. Best iteration is:\n",
      "[153]\tvalid_0's binary_logloss: 0.695506\tvalid_0's brier: 0.251179\n",
      "[LightGBM] [Warning] feature_fraction is set=0.765529087176961, colsample_bytree=1.0 will be ignored. Current value: feature_fraction=0.765529087176961\n",
      "[LightGBM] [Warning] bagging_fraction is set=0.5666573895501891, subsample=1.0 will be ignored. Current value: bagging_fraction=0.5666573895501891\n",
      "[25]\tvalid_0's binary_logloss: 0.697637\tvalid_0's brier: 0.252245\n",
      "[50]\tvalid_0's binary_logloss: 0.697109\tvalid_0's brier: 0.251981\n",
      "[75]\tvalid_0's binary_logloss: 0.696648\tvalid_0's brier: 0.25175\n",
      "[100]\tvalid_0's binary_logloss: 0.696267\tvalid_0's brier: 0.25156\n",
      "[125]\tvalid_0's binary_logloss: 0.695951\tvalid_0's brier: 0.251402\n",
      "[150]\tvalid_0's binary_logloss: 0.695643\tvalid_0's brier: 0.251248\n",
      "Did not meet early stopping. Best iteration is:\n",
      "[153]\tvalid_0's binary_logloss: 0.695506\tvalid_0's brier: 0.251179\n",
      "[LightGBM] [Warning] feature_fraction is set=0.765529087176961, colsample_bytree=1.0 will be ignored. Current value: feature_fraction=0.765529087176961\n",
      "[LightGBM] [Warning] bagging_fraction is set=0.5666573895501891, subsample=1.0 will be ignored. Current value: bagging_fraction=0.5666573895501891\n",
      "[25]\tvalid_0's binary_logloss: 0.698341\tvalid_0's brier: 0.252597\n",
      "[50]\tvalid_0's binary_logloss: 0.697631\tvalid_0's brier: 0.252242\n",
      "[75]\tvalid_0's binary_logloss: 0.697043\tvalid_0's brier: 0.251948\n",
      "[100]\tvalid_0's binary_logloss: 0.696539\tvalid_0's brier: 0.251696\n",
      "[125]\tvalid_0's binary_logloss: 0.696119\tvalid_0's brier: 0.251486\n",
      "[150]\tvalid_0's binary_logloss: 0.695762\tvalid_0's brier: 0.251307\n",
      "Did not meet early stopping. Best iteration is:\n",
      "[153]\tvalid_0's binary_logloss: 0.695506\tvalid_0's brier: 0.251179\n"
     ]
    },
    {
     "name": "stderr",
     "output_type": "stream",
     "text": [
      "2022-03-29 09:36:16 mean cv_value 0.013359526873037403 | std cv_value 0.02099953112384779 \n",
      "2022-03-29 09:36:16 ---------------------------------------------\n",
      "2022-03-29 09:36:16 [TRAIN_MODEL] Training model\n",
      "2022-03-29 09:36:16 Set of params....., {'n_estimators': 136, 'reg_alpha': 263.60291966866777, 'learning_rate': 0.0003994951112183678, 'feature_fraction': 0.6470547434889874, 'bagging_fraction': 0.7532814681765335, 'num_leaves': 169, 'min_child_weight': 54}\n"
     ]
    },
    {
     "name": "stdout",
     "output_type": "stream",
     "text": [
      "Iteration No: 1 ended. Evaluation done at random point.\n",
      "Time taken: 15.7936\n",
      "Function value obtained: -0.0134\n",
      "Current minimum: -0.0134\n",
      "Iteration No: 2 started. Evaluating function at random point.\n",
      "[LightGBM] [Warning] feature_fraction is set=0.6470547434889874, colsample_bytree=1.0 will be ignored. Current value: feature_fraction=0.6470547434889874\n",
      "[LightGBM] [Warning] bagging_fraction is set=0.7532814681765335, subsample=1.0 will be ignored. Current value: bagging_fraction=0.7532814681765335\n",
      "[25]\tvalid_0's binary_logloss: 0.699014\tvalid_0's brier: 0.252934\n",
      "[50]\tvalid_0's binary_logloss: 0.698966\tvalid_0's brier: 0.25291\n",
      "[75]\tvalid_0's binary_logloss: 0.698918\tvalid_0's brier: 0.252885\n",
      "[100]\tvalid_0's binary_logloss: 0.698867\tvalid_0's brier: 0.25286\n",
      "[125]\tvalid_0's binary_logloss: 0.698822\tvalid_0's brier: 0.252837\n",
      "Did not meet early stopping. Best iteration is:\n",
      "[153]\tvalid_0's binary_logloss: 0.695506\tvalid_0's brier: 0.251179\n",
      "[LightGBM] [Warning] feature_fraction is set=0.6470547434889874, colsample_bytree=1.0 will be ignored. Current value: feature_fraction=0.6470547434889874\n",
      "[LightGBM] [Warning] bagging_fraction is set=0.7532814681765335, subsample=1.0 will be ignored. Current value: bagging_fraction=0.7532814681765335\n",
      "[25]\tvalid_0's binary_logloss: 0.698219\tvalid_0's brier: 0.252536\n",
      "[50]\tvalid_0's binary_logloss: 0.698168\tvalid_0's brier: 0.25251\n",
      "[75]\tvalid_0's binary_logloss: 0.698119\tvalid_0's brier: 0.252486\n",
      "[100]\tvalid_0's binary_logloss: 0.698067\tvalid_0's brier: 0.25246\n",
      "[125]\tvalid_0's binary_logloss: 0.698019\tvalid_0's brier: 0.252436\n",
      "Did not meet early stopping. Best iteration is:\n",
      "[153]\tvalid_0's binary_logloss: 0.695506\tvalid_0's brier: 0.251179\n",
      "[LightGBM] [Warning] feature_fraction is set=0.6470547434889874, colsample_bytree=1.0 will be ignored. Current value: feature_fraction=0.6470547434889874\n",
      "[LightGBM] [Warning] bagging_fraction is set=0.7532814681765335, subsample=1.0 will be ignored. Current value: bagging_fraction=0.7532814681765335\n",
      "[25]\tvalid_0's binary_logloss: 0.699084\tvalid_0's brier: 0.252968\n",
      "[50]\tvalid_0's binary_logloss: 0.699023\tvalid_0's brier: 0.252938\n",
      "[75]\tvalid_0's binary_logloss: 0.698965\tvalid_0's brier: 0.252909\n",
      "[100]\tvalid_0's binary_logloss: 0.698907\tvalid_0's brier: 0.25288\n",
      "[125]\tvalid_0's binary_logloss: 0.698849\tvalid_0's brier: 0.252851\n",
      "Did not meet early stopping. Best iteration is:\n",
      "[153]\tvalid_0's binary_logloss: 0.695506\tvalid_0's brier: 0.251179\n"
     ]
    },
    {
     "name": "stderr",
     "output_type": "stream",
     "text": [
      "2022-03-29 09:36:30 mean cv_value 0.020396599088433942 | std cv_value 0.01971606857101904 \n",
      "2022-03-29 09:36:30 ---------------------------------------------\n",
      "2022-03-29 09:36:30 [TRAIN_MODEL] Training model\n",
      "2022-03-29 09:36:30 Set of params....., {'n_estimators': 103, 'reg_alpha': 30.61675081102803, 'learning_rate': 0.3239364060784671, 'feature_fraction': 0.6819484109745868, 'bagging_fraction': 0.5327047450219142, 'num_leaves': 67, 'min_child_weight': 26}\n"
     ]
    },
    {
     "name": "stdout",
     "output_type": "stream",
     "text": [
      "Iteration No: 2 ended. Evaluation done at random point.\n",
      "Time taken: 13.9971\n",
      "Function value obtained: -0.0204\n",
      "Current minimum: -0.0204\n",
      "Iteration No: 3 started. Evaluating function at random point.\n",
      "[LightGBM] [Warning] feature_fraction is set=0.6819484109745868, colsample_bytree=1.0 will be ignored. Current value: feature_fraction=0.6819484109745868\n",
      "[LightGBM] [Warning] bagging_fraction is set=0.5327047450219142, subsample=1.0 will be ignored. Current value: bagging_fraction=0.5327047450219142\n",
      "Early stopping, best iteration is:\n",
      "[10]\tvalid_0's binary_logloss: 0.694694\tvalid_0's brier: 0.250764\n",
      "[LightGBM] [Warning] feature_fraction is set=0.6819484109745868, colsample_bytree=1.0 will be ignored. Current value: feature_fraction=0.6819484109745868\n",
      "[LightGBM] [Warning] bagging_fraction is set=0.5327047450219142, subsample=1.0 will be ignored. Current value: bagging_fraction=0.5327047450219142\n",
      "Early stopping, best iteration is:\n",
      "[11]\tvalid_0's binary_logloss: 0.694256\tvalid_0's brier: 0.250542\n",
      "[LightGBM] [Warning] feature_fraction is set=0.6819484109745868, colsample_bytree=1.0 will be ignored. Current value: feature_fraction=0.6819484109745868\n",
      "[LightGBM] [Warning] bagging_fraction is set=0.5327047450219142, subsample=1.0 will be ignored. Current value: bagging_fraction=0.5327047450219142\n"
     ]
    },
    {
     "name": "stderr",
     "output_type": "stream",
     "text": [
      "2022-03-29 09:36:35 mean cv_value 0.04848117751774756 | std cv_value 0.0040632991467557805 \n",
      "2022-03-29 09:36:35 ---------------------------------------------\n",
      "2022-03-29 09:36:35 [TRAIN_MODEL] Training model\n",
      "2022-03-29 09:36:35 Set of params....., {'n_estimators': 390, 'reg_alpha': 583.9014072635395, 'learning_rate': 0.0005376823062708374, 'feature_fraction': 0.7608657981992604, 'bagging_fraction': 0.1843214667902409, 'num_leaves': 143, 'min_child_weight': 6}\n"
     ]
    },
    {
     "name": "stdout",
     "output_type": "stream",
     "text": [
      "Early stopping, best iteration is:\n",
      "[11]\tvalid_0's binary_logloss: 0.694256\tvalid_0's brier: 0.250542\n",
      "Iteration No: 3 ended. Evaluation done at random point.\n",
      "Time taken: 4.5965\n",
      "Function value obtained: -0.0485\n",
      "Current minimum: -0.0485\n",
      "Iteration No: 4 started. Evaluating function at random point.\n",
      "[LightGBM] [Warning] feature_fraction is set=0.7608657981992604, colsample_bytree=1.0 will be ignored. Current value: feature_fraction=0.7608657981992604\n",
      "[LightGBM] [Warning] bagging_fraction is set=0.1843214667902409, subsample=1.0 will be ignored. Current value: bagging_fraction=0.1843214667902409\n",
      "Early stopping, best iteration is:\n",
      "[11]\tvalid_0's binary_logloss: 0.694256\tvalid_0's brier: 0.250542\n",
      "[LightGBM] [Warning] feature_fraction is set=0.7608657981992604, colsample_bytree=1.0 will be ignored. Current value: feature_fraction=0.7608657981992604\n",
      "[LightGBM] [Warning] bagging_fraction is set=0.1843214667902409, subsample=1.0 will be ignored. Current value: bagging_fraction=0.1843214667902409\n",
      "Early stopping, best iteration is:\n",
      "[11]\tvalid_0's binary_logloss: 0.694256\tvalid_0's brier: 0.250542\n",
      "[LightGBM] [Warning] feature_fraction is set=0.7608657981992604, colsample_bytree=1.0 will be ignored. Current value: feature_fraction=0.7608657981992604\n",
      "[LightGBM] [Warning] bagging_fraction is set=0.1843214667902409, subsample=1.0 will be ignored. Current value: bagging_fraction=0.1843214667902409\n"
     ]
    },
    {
     "name": "stderr",
     "output_type": "stream",
     "text": [
      "2022-03-29 09:36:39 mean cv_value 0.0244181949879294 | std cv_value 0.025741593667616476 \n",
      "2022-03-29 09:36:39 ---------------------------------------------\n",
      "2022-03-29 09:36:39 [TRAIN_MODEL] Training model\n",
      "2022-03-29 09:36:39 Set of params....., {'n_estimators': 33, 'reg_alpha': 765.4558416696037, 'learning_rate': 0.00011146848987452159, 'feature_fraction': 0.5895546728888088, 'bagging_fraction': 0.3655058045341736, 'num_leaves': 281, 'min_child_weight': 21}\n"
     ]
    },
    {
     "name": "stdout",
     "output_type": "stream",
     "text": [
      "Early stopping, best iteration is:\n",
      "[11]\tvalid_0's binary_logloss: 0.694256\tvalid_0's brier: 0.250542\n",
      "Iteration No: 4 ended. Evaluation done at random point.\n",
      "Time taken: 3.7440\n",
      "Function value obtained: -0.0244\n",
      "Current minimum: -0.0485\n",
      "Iteration No: 5 started. Evaluating function at random point.\n",
      "[LightGBM] [Warning] feature_fraction is set=0.5895546728888088, colsample_bytree=1.0 will be ignored. Current value: feature_fraction=0.5895546728888088\n",
      "[LightGBM] [Warning] bagging_fraction is set=0.3655058045341736, subsample=1.0 will be ignored. Current value: bagging_fraction=0.3655058045341736\n",
      "Early stopping, best iteration is:\n",
      "[11]\tvalid_0's binary_logloss: 0.694256\tvalid_0's brier: 0.250542\n",
      "[LightGBM] [Warning] feature_fraction is set=0.5895546728888088, colsample_bytree=1.0 will be ignored. Current value: feature_fraction=0.5895546728888088\n",
      "[LightGBM] [Warning] bagging_fraction is set=0.3655058045341736, subsample=1.0 will be ignored. Current value: bagging_fraction=0.3655058045341736\n",
      "Early stopping, best iteration is:\n",
      "[11]\tvalid_0's binary_logloss: 0.694256\tvalid_0's brier: 0.250542\n",
      "[LightGBM] [Warning] feature_fraction is set=0.5895546728888088, colsample_bytree=1.0 will be ignored. Current value: feature_fraction=0.5895546728888088\n",
      "[LightGBM] [Warning] bagging_fraction is set=0.3655058045341736, subsample=1.0 will be ignored. Current value: bagging_fraction=0.3655058045341736\n"
     ]
    },
    {
     "name": "stderr",
     "output_type": "stream",
     "text": [
      "2022-03-29 09:36:43 mean cv_value 0.021604247690437756 | std cv_value 0.025230608388883715 \n",
      "2022-03-29 09:36:43 ---------------------------------------------\n",
      "2022-03-29 09:36:43 [TRAIN_MODEL] Training model\n",
      "2022-03-29 09:36:43 Set of params....., {'n_estimators': 209, 'reg_alpha': 76.85559406069696, 'learning_rate': 0.25832828531267416, 'feature_fraction': 0.45198996440343364, 'bagging_fraction': 0.197563317701734, 'num_leaves': 366, 'min_child_weight': 10}\n"
     ]
    },
    {
     "name": "stdout",
     "output_type": "stream",
     "text": [
      "Early stopping, best iteration is:\n",
      "[11]\tvalid_0's binary_logloss: 0.694256\tvalid_0's brier: 0.250542\n",
      "Iteration No: 5 ended. Evaluation done at random point.\n",
      "Time taken: 3.9699\n",
      "Function value obtained: -0.0216\n",
      "Current minimum: -0.0485\n",
      "Iteration No: 6 started. Evaluating function at random point.\n",
      "[LightGBM] [Warning] feature_fraction is set=0.45198996440343364, colsample_bytree=1.0 will be ignored. Current value: feature_fraction=0.45198996440343364\n",
      "[LightGBM] [Warning] bagging_fraction is set=0.197563317701734, subsample=1.0 will be ignored. Current value: bagging_fraction=0.197563317701734\n",
      "Early stopping, best iteration is:\n",
      "[11]\tvalid_0's binary_logloss: 0.694256\tvalid_0's brier: 0.250542\n",
      "[LightGBM] [Warning] feature_fraction is set=0.45198996440343364, colsample_bytree=1.0 will be ignored. Current value: feature_fraction=0.45198996440343364\n",
      "[LightGBM] [Warning] bagging_fraction is set=0.197563317701734, subsample=1.0 will be ignored. Current value: bagging_fraction=0.197563317701734\n",
      "Early stopping, best iteration is:\n",
      "[11]\tvalid_0's binary_logloss: 0.694256\tvalid_0's brier: 0.250542\n",
      "[LightGBM] [Warning] feature_fraction is set=0.45198996440343364, colsample_bytree=1.0 will be ignored. Current value: feature_fraction=0.45198996440343364\n",
      "[LightGBM] [Warning] bagging_fraction is set=0.197563317701734, subsample=1.0 will be ignored. Current value: bagging_fraction=0.197563317701734\n",
      "[25]\tvalid_0's binary_logloss: 0.69525\tvalid_0's brier: 0.25103\n",
      "Early stopping, best iteration is:\n",
      "[18]\tvalid_0's binary_logloss: 0.694042\tvalid_0's brier: 0.250435\n"
     ]
    },
    {
     "name": "stderr",
     "output_type": "stream",
     "text": [
      "2022-03-29 09:36:48 mean cv_value 0.044072278646748085 | std cv_value 0.012886789047585707 \n",
      "2022-03-29 09:36:48 ---------------------------------------------\n",
      "2022-03-29 09:36:48 [TRAIN_MODEL] Training model\n",
      "2022-03-29 09:36:48 Set of params....., {'n_estimators': 385, 'reg_alpha': 831.989784588276, 'learning_rate': 0.0017342520671971852, 'feature_fraction': 0.5780658322332007, 'bagging_fraction': 0.7979139678712874, 'num_leaves': 492, 'min_child_weight': 29}\n"
     ]
    },
    {
     "name": "stdout",
     "output_type": "stream",
     "text": [
      "Iteration No: 6 ended. Evaluation done at random point.\n",
      "Time taken: 5.2541\n",
      "Function value obtained: -0.0441\n",
      "Current minimum: -0.0485\n",
      "Iteration No: 7 started. Evaluating function at random point.\n",
      "[LightGBM] [Warning] feature_fraction is set=0.5780658322332007, colsample_bytree=1.0 will be ignored. Current value: feature_fraction=0.5780658322332007\n",
      "[LightGBM] [Warning] bagging_fraction is set=0.7979139678712874, subsample=1.0 will be ignored. Current value: bagging_fraction=0.7979139678712874\n",
      "[25]\tvalid_0's binary_logloss: 0.6989\tvalid_0's brier: 0.252876\n",
      "Early stopping, best iteration is:\n",
      "[18]\tvalid_0's binary_logloss: 0.694042\tvalid_0's brier: 0.250435\n",
      "[LightGBM] [Warning] feature_fraction is set=0.5780658322332007, colsample_bytree=1.0 will be ignored. Current value: feature_fraction=0.5780658322332007\n",
      "[LightGBM] [Warning] bagging_fraction is set=0.7979139678712874, subsample=1.0 will be ignored. Current value: bagging_fraction=0.7979139678712874\n",
      "[25]\tvalid_0's binary_logloss: 0.698111\tvalid_0's brier: 0.252482\n",
      "Early stopping, best iteration is:\n",
      "[18]\tvalid_0's binary_logloss: 0.694042\tvalid_0's brier: 0.250435\n",
      "[LightGBM] [Warning] feature_fraction is set=0.5780658322332007, colsample_bytree=1.0 will be ignored. Current value: feature_fraction=0.5780658322332007\n",
      "[LightGBM] [Warning] bagging_fraction is set=0.7979139678712874, subsample=1.0 will be ignored. Current value: bagging_fraction=0.7979139678712874\n",
      "[25]\tvalid_0's binary_logloss: 0.698922\tvalid_0's brier: 0.252887\n",
      "Early stopping, best iteration is:\n",
      "[18]\tvalid_0's binary_logloss: 0.694042\tvalid_0's brier: 0.250435\n"
     ]
    },
    {
     "name": "stderr",
     "output_type": "stream",
     "text": [
      "2022-03-29 09:36:52 mean cv_value 0.02538440414262512 | std cv_value 0.026059986192512 \n",
      "2022-03-29 09:36:52 ---------------------------------------------\n",
      "2022-03-29 09:36:52 [TRAIN_MODEL] Training model\n",
      "2022-03-29 09:36:52 Set of params....., {'n_estimators': 438, 'reg_alpha': 296.06876925726505, 'learning_rate': 0.000335092117148988, 'feature_fraction': 0.7742543467947963, 'bagging_fraction': 0.6272290431506303, 'num_leaves': 299, 'min_child_weight': 27}\n"
     ]
    },
    {
     "name": "stdout",
     "output_type": "stream",
     "text": [
      "Iteration No: 7 ended. Evaluation done at random point.\n",
      "Time taken: 4.2987\n",
      "Function value obtained: -0.0254\n",
      "Current minimum: -0.0485\n",
      "Iteration No: 8 started. Evaluating function at random point.\n",
      "[LightGBM] [Warning] feature_fraction is set=0.7742543467947963, colsample_bytree=1.0 will be ignored. Current value: feature_fraction=0.7742543467947963\n",
      "[LightGBM] [Warning] bagging_fraction is set=0.6272290431506303, subsample=1.0 will be ignored. Current value: bagging_fraction=0.6272290431506303\n",
      "[25]\tvalid_0's binary_logloss: 0.699024\tvalid_0's brier: 0.252938\n",
      "Early stopping, best iteration is:\n",
      "[18]\tvalid_0's binary_logloss: 0.694042\tvalid_0's brier: 0.250435\n",
      "[LightGBM] [Warning] feature_fraction is set=0.7742543467947963, colsample_bytree=1.0 will be ignored. Current value: feature_fraction=0.7742543467947963\n",
      "[LightGBM] [Warning] bagging_fraction is set=0.6272290431506303, subsample=1.0 will be ignored. Current value: bagging_fraction=0.6272290431506303\n",
      "[25]\tvalid_0's binary_logloss: 0.698226\tvalid_0's brier: 0.252539\n",
      "Early stopping, best iteration is:\n",
      "[18]\tvalid_0's binary_logloss: 0.694042\tvalid_0's brier: 0.250435\n",
      "[LightGBM] [Warning] feature_fraction is set=0.7742543467947963, colsample_bytree=1.0 will be ignored. Current value: feature_fraction=0.7742543467947963\n",
      "[LightGBM] [Warning] bagging_fraction is set=0.6272290431506303, subsample=1.0 will be ignored. Current value: bagging_fraction=0.6272290431506303\n",
      "[25]\tvalid_0's binary_logloss: 0.69909\tvalid_0's brier: 0.252972\n",
      "Early stopping, best iteration is:\n",
      "[18]\tvalid_0's binary_logloss: 0.694042\tvalid_0's brier: 0.250435\n"
     ]
    },
    {
     "name": "stderr",
     "output_type": "stream",
     "text": [
      "2022-03-29 09:36:57 mean cv_value 0.017208874717519022 | std cv_value 0.02339513264142197 \n",
      "2022-03-29 09:36:57 ---------------------------------------------\n",
      "2022-03-29 09:36:57 [TRAIN_MODEL] Training model\n",
      "2022-03-29 09:36:57 Set of params....., {'n_estimators': 181, 'reg_alpha': 587.1309665408564, 'learning_rate': 0.0003961734322015519, 'feature_fraction': 0.2369908785663345, 'bagging_fraction': 0.41773161830205774, 'num_leaves': 320, 'min_child_weight': 24}\n"
     ]
    },
    {
     "name": "stdout",
     "output_type": "stream",
     "text": [
      "Iteration No: 8 ended. Evaluation done at random point.\n",
      "Time taken: 4.9315\n",
      "Function value obtained: -0.0172\n",
      "Current minimum: -0.0485\n",
      "Iteration No: 9 started. Evaluating function at random point.\n",
      "[LightGBM] [Warning] feature_fraction is set=0.2369908785663345, colsample_bytree=1.0 will be ignored. Current value: feature_fraction=0.2369908785663345\n",
      "[LightGBM] [Warning] bagging_fraction is set=0.41773161830205774, subsample=1.0 will be ignored. Current value: bagging_fraction=0.41773161830205774\n",
      "[25]\tvalid_0's binary_logloss: 0.699024\tvalid_0's brier: 0.252938\n",
      "Early stopping, best iteration is:\n",
      "[18]\tvalid_0's binary_logloss: 0.694042\tvalid_0's brier: 0.250435\n",
      "[LightGBM] [Warning] feature_fraction is set=0.2369908785663345, colsample_bytree=1.0 will be ignored. Current value: feature_fraction=0.2369908785663345\n",
      "[LightGBM] [Warning] bagging_fraction is set=0.41773161830205774, subsample=1.0 will be ignored. Current value: bagging_fraction=0.41773161830205774\n",
      "[25]\tvalid_0's binary_logloss: 0.698234\tvalid_0's brier: 0.252543\n",
      "Early stopping, best iteration is:\n",
      "[18]\tvalid_0's binary_logloss: 0.694042\tvalid_0's brier: 0.250435\n",
      "[LightGBM] [Warning] feature_fraction is set=0.2369908785663345, colsample_bytree=1.0 will be ignored. Current value: feature_fraction=0.2369908785663345\n",
      "[LightGBM] [Warning] bagging_fraction is set=0.41773161830205774, subsample=1.0 will be ignored. Current value: bagging_fraction=0.41773161830205774\n",
      "[25]\tvalid_0's binary_logloss: 0.6991\tvalid_0's brier: 0.252976\n",
      "Early stopping, best iteration is:\n",
      "[18]\tvalid_0's binary_logloss: 0.694042\tvalid_0's brier: 0.250435\n"
     ]
    },
    {
     "name": "stderr",
     "output_type": "stream",
     "text": [
      "2022-03-29 09:37:02 mean cv_value 0.03890148506936426 | std cv_value 0.01376145484113548 \n",
      "2022-03-29 09:37:02 ---------------------------------------------\n",
      "2022-03-29 09:37:02 [TRAIN_MODEL] Training model\n",
      "2022-03-29 09:37:02 Set of params....., {'n_estimators': 6, 'reg_alpha': 548.8164008622329, 'learning_rate': 0.00032202335160074613, 'feature_fraction': 0.1638341445056195, 'bagging_fraction': 0.28803087670039723, 'num_leaves': 331, 'min_child_weight': 14}\n"
     ]
    },
    {
     "name": "stdout",
     "output_type": "stream",
     "text": [
      "Iteration No: 9 ended. Evaluation done at random point.\n",
      "Time taken: 4.6619\n",
      "Function value obtained: -0.0389\n",
      "Current minimum: -0.0485\n",
      "Iteration No: 10 started. Evaluating function at random point.\n",
      "[LightGBM] [Warning] feature_fraction is set=0.1638341445056195, colsample_bytree=1.0 will be ignored. Current value: feature_fraction=0.1638341445056195\n",
      "[LightGBM] [Warning] bagging_fraction is set=0.28803087670039723, subsample=1.0 will be ignored. Current value: bagging_fraction=0.28803087670039723\n",
      "Did not meet early stopping. Best iteration is:\n",
      "[18]\tvalid_0's binary_logloss: 0.694042\tvalid_0's brier: 0.250435\n",
      "[LightGBM] [Warning] feature_fraction is set=0.1638341445056195, colsample_bytree=1.0 will be ignored. Current value: feature_fraction=0.1638341445056195\n",
      "[LightGBM] [Warning] bagging_fraction is set=0.28803087670039723, subsample=1.0 will be ignored. Current value: bagging_fraction=0.28803087670039723\n",
      "Did not meet early stopping. Best iteration is:\n",
      "[18]\tvalid_0's binary_logloss: 0.694042\tvalid_0's brier: 0.250435\n",
      "[LightGBM] [Warning] feature_fraction is set=0.1638341445056195, colsample_bytree=1.0 will be ignored. Current value: feature_fraction=0.1638341445056195\n",
      "[LightGBM] [Warning] bagging_fraction is set=0.28803087670039723, subsample=1.0 will be ignored. Current value: bagging_fraction=0.28803087670039723\n"
     ]
    },
    {
     "name": "stderr",
     "output_type": "stream",
     "text": [
      "2022-03-29 09:37:05 mean cv_value 0.03825993581520504 | std cv_value 0.0121719216473337 \n",
      "2022-03-29 09:37:05 ---------------------------------------------\n",
      "2022-03-29 09:37:05 [TRAIN_MODEL] Training model\n",
      "2022-03-29 09:37:05 Set of params....., {'n_estimators': 106, 'reg_alpha': 382.86517260947187, 'learning_rate': 0.0007933981982342907, 'feature_fraction': 0.19171903935877765, 'bagging_fraction': 0.5664136412328324, 'num_leaves': 118, 'min_child_weight': 34}\n"
     ]
    },
    {
     "name": "stdout",
     "output_type": "stream",
     "text": [
      "Did not meet early stopping. Best iteration is:\n",
      "[18]\tvalid_0's binary_logloss: 0.694042\tvalid_0's brier: 0.250435\n",
      "Iteration No: 10 ended. Evaluation done at random point.\n",
      "Time taken: 2.8564\n",
      "Function value obtained: -0.0383\n",
      "Current minimum: -0.0485\n",
      "Iteration No: 11 started. Evaluating function at random point.\n",
      "[LightGBM] [Warning] feature_fraction is set=0.19171903935877765, colsample_bytree=1.0 will be ignored. Current value: feature_fraction=0.19171903935877765\n",
      "[LightGBM] [Warning] bagging_fraction is set=0.5664136412328324, subsample=1.0 will be ignored. Current value: bagging_fraction=0.5664136412328324\n",
      "[25]\tvalid_0's binary_logloss: 0.698972\tvalid_0's brier: 0.252912\n",
      "Early stopping, best iteration is:\n",
      "[18]\tvalid_0's binary_logloss: 0.694042\tvalid_0's brier: 0.250435\n",
      "[LightGBM] [Warning] feature_fraction is set=0.19171903935877765, colsample_bytree=1.0 will be ignored. Current value: feature_fraction=0.19171903935877765\n",
      "[LightGBM] [Warning] bagging_fraction is set=0.5664136412328324, subsample=1.0 will be ignored. Current value: bagging_fraction=0.5664136412328324\n",
      "[25]\tvalid_0's binary_logloss: 0.698184\tvalid_0's brier: 0.252518\n",
      "Early stopping, best iteration is:\n",
      "[18]\tvalid_0's binary_logloss: 0.694042\tvalid_0's brier: 0.250435\n",
      "[LightGBM] [Warning] feature_fraction is set=0.19171903935877765, colsample_bytree=1.0 will be ignored. Current value: feature_fraction=0.19171903935877765\n",
      "[LightGBM] [Warning] bagging_fraction is set=0.5664136412328324, subsample=1.0 will be ignored. Current value: bagging_fraction=0.5664136412328324\n",
      "[25]\tvalid_0's binary_logloss: 0.699042\tvalid_0's brier: 0.252947\n",
      "Early stopping, best iteration is:\n",
      "[18]\tvalid_0's binary_logloss: 0.694042\tvalid_0's brier: 0.250435\n"
     ]
    },
    {
     "name": "stderr",
     "output_type": "stream",
     "text": [
      "2022-03-29 09:37:09 mean cv_value 0.039142903791556716 | std cv_value 0.002580502849492287 \n",
      "2022-03-29 09:37:09 ---------------------------------------------\n",
      "2022-03-29 09:37:09 [TRAIN_MODEL] Training model\n",
      "2022-03-29 09:37:09 Set of params....., {'n_estimators': 264, 'reg_alpha': 350.9582886755496, 'learning_rate': 0.06627144690661528, 'feature_fraction': 0.7565629930106799, 'bagging_fraction': 0.20765040277145297, 'num_leaves': 303, 'min_child_weight': 18}\n"
     ]
    },
    {
     "name": "stdout",
     "output_type": "stream",
     "text": [
      "Iteration No: 11 ended. Evaluation done at random point.\n",
      "Time taken: 4.3035\n",
      "Function value obtained: -0.0391\n",
      "Current minimum: -0.0485\n",
      "Iteration No: 12 started. Evaluating function at random point.\n",
      "[LightGBM] [Warning] feature_fraction is set=0.7565629930106799, colsample_bytree=1.0 will be ignored. Current value: feature_fraction=0.7565629930106799\n",
      "[LightGBM] [Warning] bagging_fraction is set=0.20765040277145297, subsample=1.0 will be ignored. Current value: bagging_fraction=0.20765040277145297\n",
      "[25]\tvalid_0's binary_logloss: 0.695176\tvalid_0's brier: 0.251014\n",
      "Early stopping, best iteration is:\n",
      "[18]\tvalid_0's binary_logloss: 0.694042\tvalid_0's brier: 0.250435\n",
      "[LightGBM] [Warning] feature_fraction is set=0.7565629930106799, colsample_bytree=1.0 will be ignored. Current value: feature_fraction=0.7565629930106799\n",
      "[LightGBM] [Warning] bagging_fraction is set=0.20765040277145297, subsample=1.0 will be ignored. Current value: bagging_fraction=0.20765040277145297\n",
      "[25]\tvalid_0's binary_logloss: 0.694112\tvalid_0's brier: 0.250482\n",
      "[50]\tvalid_0's binary_logloss: 0.69344\tvalid_0's brier: 0.250145\n",
      "Early stopping, best iteration is:\n",
      "[41]\tvalid_0's binary_logloss: 0.693293\tvalid_0's brier: 0.250072\n",
      "[LightGBM] [Warning] feature_fraction is set=0.7565629930106799, colsample_bytree=1.0 will be ignored. Current value: feature_fraction=0.7565629930106799\n",
      "[LightGBM] [Warning] bagging_fraction is set=0.20765040277145297, subsample=1.0 will be ignored. Current value: bagging_fraction=0.20765040277145297\n",
      "[25]\tvalid_0's binary_logloss: 0.694334\tvalid_0's brier: 0.250593\n"
     ]
    },
    {
     "name": "stderr",
     "output_type": "stream",
     "text": [
      "2022-03-29 09:37:14 mean cv_value 0.017718531147718836 | std cv_value 0.016483755339757343 \n",
      "2022-03-29 09:37:14 ---------------------------------------------\n",
      "2022-03-29 09:37:14 [TRAIN_MODEL] Training model\n",
      "2022-03-29 09:37:14 Set of params....., {'n_estimators': 256, 'reg_alpha': 38.46052444449238, 'learning_rate': 0.0021368615456752865, 'feature_fraction': 0.10021802519308434, 'bagging_fraction': 0.631724372896594, 'num_leaves': 190, 'min_child_weight': 45}\n"
     ]
    },
    {
     "name": "stdout",
     "output_type": "stream",
     "text": [
      "[50]\tvalid_0's binary_logloss: 0.693457\tvalid_0's brier: 0.250153\n",
      "Early stopping, best iteration is:\n",
      "[41]\tvalid_0's binary_logloss: 0.693293\tvalid_0's brier: 0.250072\n",
      "Iteration No: 12 ended. Evaluation done at random point.\n",
      "Time taken: 5.5433\n",
      "Function value obtained: -0.0177\n",
      "Current minimum: -0.0485\n",
      "Iteration No: 13 started. Evaluating function at random point.\n",
      "[LightGBM] [Warning] feature_fraction is set=0.10021802519308434, colsample_bytree=1.0 will be ignored. Current value: feature_fraction=0.10021802519308434\n",
      "[LightGBM] [Warning] bagging_fraction is set=0.631724372896594, subsample=1.0 will be ignored. Current value: bagging_fraction=0.631724372896594\n",
      "[25]\tvalid_0's binary_logloss: 0.698779\tvalid_0's brier: 0.252816\n",
      "[50]\tvalid_0's binary_logloss: 0.698508\tvalid_0's brier: 0.25268\n",
      "Early stopping, best iteration is:\n",
      "[41]\tvalid_0's binary_logloss: 0.693293\tvalid_0's brier: 0.250072\n",
      "[LightGBM] [Warning] feature_fraction is set=0.10021802519308434, colsample_bytree=1.0 will be ignored. Current value: feature_fraction=0.10021802519308434\n",
      "[LightGBM] [Warning] bagging_fraction is set=0.631724372896594, subsample=1.0 will be ignored. Current value: bagging_fraction=0.631724372896594\n",
      "[25]\tvalid_0's binary_logloss: 0.698017\tvalid_0's brier: 0.252435\n",
      "[50]\tvalid_0's binary_logloss: 0.697779\tvalid_0's brier: 0.252316\n",
      "Early stopping, best iteration is:\n",
      "[41]\tvalid_0's binary_logloss: 0.693293\tvalid_0's brier: 0.250072\n",
      "[LightGBM] [Warning] feature_fraction is set=0.10021802519308434, colsample_bytree=1.0 will be ignored. Current value: feature_fraction=0.10021802519308434\n",
      "[LightGBM] [Warning] bagging_fraction is set=0.631724372896594, subsample=1.0 will be ignored. Current value: bagging_fraction=0.631724372896594\n",
      "[25]\tvalid_0's binary_logloss: 0.698848\tvalid_0's brier: 0.25285\n",
      "[50]\tvalid_0's binary_logloss: 0.698567\tvalid_0's brier: 0.25271\n",
      "Early stopping, best iteration is:\n",
      "[41]\tvalid_0's binary_logloss: 0.693293\tvalid_0's brier: 0.250072\n"
     ]
    },
    {
     "name": "stderr",
     "output_type": "stream",
     "text": [
      "2022-03-29 09:37:21 mean cv_value 0.06566265736997474 | std cv_value 0.008994390867692577 \n",
      "2022-03-29 09:37:21 ---------------------------------------------\n",
      "2022-03-29 09:37:21 [TRAIN_MODEL] Training model\n",
      "2022-03-29 09:37:21 Set of params....., {'n_estimators': 75, 'reg_alpha': 388.049514534178, 'learning_rate': 0.2923927248963542, 'feature_fraction': 0.8654826610985319, 'bagging_fraction': 0.4892429350440546, 'num_leaves': 55, 'min_child_weight': 22}\n"
     ]
    },
    {
     "name": "stdout",
     "output_type": "stream",
     "text": [
      "Iteration No: 13 ended. Evaluation done at random point.\n",
      "Time taken: 6.9166\n",
      "Function value obtained: -0.0657\n",
      "Current minimum: -0.0657\n",
      "Iteration No: 14 started. Evaluating function at random point.\n",
      "[LightGBM] [Warning] feature_fraction is set=0.8654826610985319, colsample_bytree=1.0 will be ignored. Current value: feature_fraction=0.8654826610985319\n",
      "[LightGBM] [Warning] bagging_fraction is set=0.4892429350440546, subsample=1.0 will be ignored. Current value: bagging_fraction=0.4892429350440546\n",
      "[25]\tvalid_0's binary_logloss: 0.693754\tvalid_0's brier: 0.250302\n",
      "[50]\tvalid_0's binary_logloss: 0.693752\tvalid_0's brier: 0.250301\n",
      "Early stopping, best iteration is:\n",
      "[41]\tvalid_0's binary_logloss: 0.693293\tvalid_0's brier: 0.250072\n",
      "[LightGBM] [Warning] feature_fraction is set=0.8654826610985319, colsample_bytree=1.0 will be ignored. Current value: feature_fraction=0.8654826610985319\n",
      "[LightGBM] [Warning] bagging_fraction is set=0.4892429350440546, subsample=1.0 will be ignored. Current value: bagging_fraction=0.4892429350440546\n",
      "[25]\tvalid_0's binary_logloss: 0.693497\tvalid_0's brier: 0.250174\n",
      "[50]\tvalid_0's binary_logloss: 0.693497\tvalid_0's brier: 0.250174\n",
      "Early stopping, best iteration is:\n",
      "[41]\tvalid_0's binary_logloss: 0.693293\tvalid_0's brier: 0.250072\n",
      "[LightGBM] [Warning] feature_fraction is set=0.8654826610985319, colsample_bytree=1.0 will be ignored. Current value: feature_fraction=0.8654826610985319\n",
      "[LightGBM] [Warning] bagging_fraction is set=0.4892429350440546, subsample=1.0 will be ignored. Current value: bagging_fraction=0.4892429350440546\n",
      "[25]\tvalid_0's binary_logloss: 0.693438\tvalid_0's brier: 0.250145\n"
     ]
    },
    {
     "name": "stderr",
     "output_type": "stream",
     "text": [
      "2022-03-29 09:37:27 mean cv_value 0.01805317536998184 | std cv_value 0.013394783534615208 \n",
      "2022-03-29 09:37:27 ---------------------------------------------\n",
      "2022-03-29 09:37:27 [TRAIN_MODEL] Training model\n",
      "2022-03-29 09:37:27 Set of params....., {'n_estimators': 419, 'reg_alpha': 465.4416796032897, 'learning_rate': 0.000235193021897844, 'feature_fraction': 0.7837553147560197, 'bagging_fraction': 0.3698065487416434, 'num_leaves': 304, 'min_child_weight': 9}\n"
     ]
    },
    {
     "name": "stdout",
     "output_type": "stream",
     "text": [
      "[50]\tvalid_0's binary_logloss: 0.693438\tvalid_0's brier: 0.250145\n",
      "Early stopping, best iteration is:\n",
      "[41]\tvalid_0's binary_logloss: 0.693293\tvalid_0's brier: 0.250072\n",
      "Iteration No: 14 ended. Evaluation done at random point.\n",
      "Time taken: 5.3718\n",
      "Function value obtained: -0.0181\n",
      "Current minimum: -0.0657\n",
      "Iteration No: 15 started. Evaluating function at random point.\n",
      "[LightGBM] [Warning] feature_fraction is set=0.7837553147560197, colsample_bytree=1.0 will be ignored. Current value: feature_fraction=0.7837553147560197\n",
      "[LightGBM] [Warning] bagging_fraction is set=0.3698065487416434, subsample=1.0 will be ignored. Current value: bagging_fraction=0.3698065487416434\n",
      "[25]\tvalid_0's binary_logloss: 0.699038\tvalid_0's brier: 0.252945\n",
      "[50]\tvalid_0's binary_logloss: 0.699012\tvalid_0's brier: 0.252933\n",
      "Early stopping, best iteration is:\n",
      "[41]\tvalid_0's binary_logloss: 0.693293\tvalid_0's brier: 0.250072\n",
      "[LightGBM] [Warning] feature_fraction is set=0.7837553147560197, colsample_bytree=1.0 will be ignored. Current value: feature_fraction=0.7837553147560197\n",
      "[LightGBM] [Warning] bagging_fraction is set=0.3698065487416434, subsample=1.0 will be ignored. Current value: bagging_fraction=0.3698065487416434\n",
      "[25]\tvalid_0's binary_logloss: 0.698241\tvalid_0's brier: 0.252547\n",
      "[50]\tvalid_0's binary_logloss: 0.698215\tvalid_0's brier: 0.252534\n",
      "Early stopping, best iteration is:\n",
      "[41]\tvalid_0's binary_logloss: 0.693293\tvalid_0's brier: 0.250072\n",
      "[LightGBM] [Warning] feature_fraction is set=0.7837553147560197, colsample_bytree=1.0 will be ignored. Current value: feature_fraction=0.7837553147560197\n",
      "[LightGBM] [Warning] bagging_fraction is set=0.3698065487416434, subsample=1.0 will be ignored. Current value: bagging_fraction=0.3698065487416434\n",
      "[25]\tvalid_0's binary_logloss: 0.699113\tvalid_0's brier: 0.252983\n"
     ]
    },
    {
     "name": "stderr",
     "output_type": "stream",
     "text": [
      "2022-03-29 09:37:33 mean cv_value 0.015061702603629717 | std cv_value 0.027504085191302912 \n",
      "2022-03-29 09:37:33 ---------------------------------------------\n",
      "2022-03-29 09:37:33 [TRAIN_MODEL] Training model\n",
      "2022-03-29 09:37:33 Set of params....., {'n_estimators': 274, 'reg_alpha': 720.7986100351245, 'learning_rate': 0.2905771539381412, 'feature_fraction': 0.21736089922899418, 'bagging_fraction': 0.18270485579806492, 'num_leaves': 246, 'min_child_weight': 4}\n"
     ]
    },
    {
     "name": "stdout",
     "output_type": "stream",
     "text": [
      "[50]\tvalid_0's binary_logloss: 0.699078\tvalid_0's brier: 0.252966\n",
      "Early stopping, best iteration is:\n",
      "[41]\tvalid_0's binary_logloss: 0.693293\tvalid_0's brier: 0.250072\n",
      "Iteration No: 15 ended. Evaluation done at random point.\n",
      "Time taken: 5.8895\n",
      "Function value obtained: -0.0151\n",
      "Current minimum: -0.0657\n",
      "Iteration No: 16 started. Evaluating function at random point.\n",
      "[LightGBM] [Warning] feature_fraction is set=0.21736089922899418, colsample_bytree=1.0 will be ignored. Current value: feature_fraction=0.21736089922899418\n",
      "[LightGBM] [Warning] bagging_fraction is set=0.18270485579806492, subsample=1.0 will be ignored. Current value: bagging_fraction=0.18270485579806492\n",
      "[25]\tvalid_0's binary_logloss: 0.693983\tvalid_0's brier: 0.250418\n",
      "[50]\tvalid_0's binary_logloss: 0.693695\tvalid_0's brier: 0.250274\n",
      "Early stopping, best iteration is:\n",
      "[41]\tvalid_0's binary_logloss: 0.693293\tvalid_0's brier: 0.250072\n",
      "[LightGBM] [Warning] feature_fraction is set=0.21736089922899418, colsample_bytree=1.0 will be ignored. Current value: feature_fraction=0.21736089922899418\n",
      "[LightGBM] [Warning] bagging_fraction is set=0.18270485579806492, subsample=1.0 will be ignored. Current value: bagging_fraction=0.18270485579806492\n",
      "[25]\tvalid_0's binary_logloss: 0.693817\tvalid_0's brier: 0.250335\n",
      "[50]\tvalid_0's binary_logloss: 0.693577\tvalid_0's brier: 0.250215\n",
      "Early stopping, best iteration is:\n",
      "[41]\tvalid_0's binary_logloss: 0.693293\tvalid_0's brier: 0.250072\n",
      "[LightGBM] [Warning] feature_fraction is set=0.21736089922899418, colsample_bytree=1.0 will be ignored. Current value: feature_fraction=0.21736089922899418\n",
      "[LightGBM] [Warning] bagging_fraction is set=0.18270485579806492, subsample=1.0 will be ignored. Current value: bagging_fraction=0.18270485579806492\n",
      "[25]\tvalid_0's binary_logloss: 0.693609\tvalid_0's brier: 0.250231\n"
     ]
    },
    {
     "name": "stderr",
     "output_type": "stream",
     "text": [
      "2022-03-29 09:37:38 mean cv_value 0.008747079764346717 | std cv_value 0.01980466459251221 \n",
      "2022-03-29 09:37:38 ---------------------------------------------\n",
      "2022-03-29 09:37:38 [TRAIN_MODEL] Training model\n",
      "2022-03-29 09:37:38 Set of params....., {'n_estimators': 299, 'reg_alpha': 205.84555498837884, 'learning_rate': 0.0006474584363693109, 'feature_fraction': 0.7753007001165378, 'bagging_fraction': 0.1492531012231279, 'num_leaves': 251, 'min_child_weight': 16}\n"
     ]
    },
    {
     "name": "stdout",
     "output_type": "stream",
     "text": [
      "Early stopping, best iteration is:\n",
      "[33]\tvalid_0's binary_logloss: 0.693204\tvalid_0's brier: 0.250029\n",
      "Iteration No: 16 ended. Evaluation done at random point.\n",
      "Time taken: 5.3997\n",
      "Function value obtained: -0.0087\n",
      "Current minimum: -0.0657\n",
      "Iteration No: 17 started. Evaluating function at random point.\n",
      "[LightGBM] [Warning] feature_fraction is set=0.7753007001165378, colsample_bytree=1.0 will be ignored. Current value: feature_fraction=0.7753007001165378\n",
      "[LightGBM] [Warning] bagging_fraction is set=0.1492531012231279, subsample=1.0 will be ignored. Current value: bagging_fraction=0.1492531012231279\n",
      "[25]\tvalid_0's binary_logloss: 0.69898\tvalid_0's brier: 0.252917\n",
      "Early stopping, best iteration is:\n",
      "[33]\tvalid_0's binary_logloss: 0.693204\tvalid_0's brier: 0.250029\n",
      "[LightGBM] [Warning] feature_fraction is set=0.7753007001165378, colsample_bytree=1.0 will be ignored. Current value: feature_fraction=0.7753007001165378\n",
      "[LightGBM] [Warning] bagging_fraction is set=0.1492531012231279, subsample=1.0 will be ignored. Current value: bagging_fraction=0.1492531012231279\n",
      "[25]\tvalid_0's binary_logloss: 0.698185\tvalid_0's brier: 0.252519\n",
      "Early stopping, best iteration is:\n",
      "[33]\tvalid_0's binary_logloss: 0.693204\tvalid_0's brier: 0.250029\n",
      "[LightGBM] [Warning] feature_fraction is set=0.7753007001165378, colsample_bytree=1.0 will be ignored. Current value: feature_fraction=0.7753007001165378\n",
      "[LightGBM] [Warning] bagging_fraction is set=0.1492531012231279, subsample=1.0 will be ignored. Current value: bagging_fraction=0.1492531012231279\n",
      "[25]\tvalid_0's binary_logloss: 0.699044\tvalid_0's brier: 0.252948\n"
     ]
    },
    {
     "name": "stderr",
     "output_type": "stream",
     "text": [
      "2022-03-29 09:37:44 mean cv_value 0.02474147576224492 | std cv_value 0.017739285348665906 \n",
      "2022-03-29 09:37:44 ---------------------------------------------\n",
      "2022-03-29 09:37:44 [TRAIN_MODEL] Training model\n",
      "2022-03-29 09:37:44 Set of params....., {'n_estimators': 167, 'reg_alpha': 2.916188054754532, 'learning_rate': 0.0015197373593248626, 'feature_fraction': 0.8895112976110177, 'bagging_fraction': 0.2906661717282849, 'num_leaves': 367, 'min_child_weight': 58}\n"
     ]
    },
    {
     "name": "stdout",
     "output_type": "stream",
     "text": [
      "Early stopping, best iteration is:\n",
      "[33]\tvalid_0's binary_logloss: 0.693204\tvalid_0's brier: 0.250029\n",
      "Iteration No: 17 ended. Evaluation done at random point.\n",
      "Time taken: 6.2686\n",
      "Function value obtained: -0.0247\n",
      "Current minimum: -0.0657\n",
      "Iteration No: 18 started. Evaluating function at random point.\n",
      "[LightGBM] [Warning] feature_fraction is set=0.8895112976110177, colsample_bytree=1.0 will be ignored. Current value: feature_fraction=0.8895112976110177\n",
      "[LightGBM] [Warning] bagging_fraction is set=0.2906661717282849, subsample=1.0 will be ignored. Current value: bagging_fraction=0.2906661717282849\n",
      "[25]\tvalid_0's binary_logloss: 0.698874\tvalid_0's brier: 0.252863\n",
      "Early stopping, best iteration is:\n",
      "[33]\tvalid_0's binary_logloss: 0.693204\tvalid_0's brier: 0.250029\n",
      "[LightGBM] [Warning] feature_fraction is set=0.8895112976110177, colsample_bytree=1.0 will be ignored. Current value: feature_fraction=0.8895112976110177\n",
      "[LightGBM] [Warning] bagging_fraction is set=0.2906661717282849, subsample=1.0 will be ignored. Current value: bagging_fraction=0.2906661717282849\n",
      "[25]\tvalid_0's binary_logloss: 0.698116\tvalid_0's brier: 0.252484\n",
      "Early stopping, best iteration is:\n",
      "[33]\tvalid_0's binary_logloss: 0.693204\tvalid_0's brier: 0.250029\n",
      "[LightGBM] [Warning] feature_fraction is set=0.8895112976110177, colsample_bytree=1.0 will be ignored. Current value: feature_fraction=0.8895112976110177\n",
      "[LightGBM] [Warning] bagging_fraction is set=0.2906661717282849, subsample=1.0 will be ignored. Current value: bagging_fraction=0.2906661717282849\n",
      "[25]\tvalid_0's binary_logloss: 0.69897\tvalid_0's brier: 0.252911\n",
      "Early stopping, best iteration is:\n",
      "[33]\tvalid_0's binary_logloss: 0.693204\tvalid_0's brier: 0.250029\n"
     ]
    },
    {
     "name": "stderr",
     "output_type": "stream",
     "text": [
      "2022-03-29 09:37:58 mean cv_value 0.07828592993195495 | std cv_value 0.003770724586185114 \n",
      "2022-03-29 09:37:58 ---------------------------------------------\n",
      "2022-03-29 09:37:58 [TRAIN_MODEL] Training model\n",
      "2022-03-29 09:37:58 Set of params....., {'n_estimators': 409, 'reg_alpha': 694.2270081422341, 'learning_rate': 0.0006962807306864052, 'feature_fraction': 0.5142752543009074, 'bagging_fraction': 0.8597359928036246, 'num_leaves': 349, 'min_child_weight': 54}\n"
     ]
    },
    {
     "name": "stdout",
     "output_type": "stream",
     "text": [
      "Iteration No: 18 ended. Evaluation done at random point.\n",
      "Time taken: 13.3856\n",
      "Function value obtained: -0.0783\n",
      "Current minimum: -0.0783\n",
      "Iteration No: 19 started. Evaluating function at random point.\n",
      "[LightGBM] [Warning] feature_fraction is set=0.5142752543009074, colsample_bytree=1.0 will be ignored. Current value: feature_fraction=0.5142752543009074\n",
      "[LightGBM] [Warning] bagging_fraction is set=0.8597359928036246, subsample=1.0 will be ignored. Current value: bagging_fraction=0.8597359928036246\n",
      "[25]\tvalid_0's binary_logloss: 0.698986\tvalid_0's brier: 0.252919\n",
      "Early stopping, best iteration is:\n",
      "[33]\tvalid_0's binary_logloss: 0.693204\tvalid_0's brier: 0.250029\n",
      "[LightGBM] [Warning] feature_fraction is set=0.5142752543009074, colsample_bytree=1.0 will be ignored. Current value: feature_fraction=0.5142752543009074\n",
      "[LightGBM] [Warning] bagging_fraction is set=0.8597359928036246, subsample=1.0 will be ignored. Current value: bagging_fraction=0.8597359928036246\n",
      "[25]\tvalid_0's binary_logloss: 0.698196\tvalid_0's brier: 0.252524\n",
      "Early stopping, best iteration is:\n",
      "[33]\tvalid_0's binary_logloss: 0.693204\tvalid_0's brier: 0.250029\n",
      "[LightGBM] [Warning] feature_fraction is set=0.5142752543009074, colsample_bytree=1.0 will be ignored. Current value: feature_fraction=0.5142752543009074\n",
      "[LightGBM] [Warning] bagging_fraction is set=0.8597359928036246, subsample=1.0 will be ignored. Current value: bagging_fraction=0.8597359928036246\n",
      "[25]\tvalid_0's binary_logloss: 0.699046\tvalid_0's brier: 0.25295\n"
     ]
    },
    {
     "name": "stderr",
     "output_type": "stream",
     "text": [
      "2022-03-29 09:38:04 mean cv_value 0.0259872990688101 | std cv_value 0.023967049183940683 \n",
      "2022-03-29 09:38:04 ---------------------------------------------\n",
      "2022-03-29 09:38:04 [TRAIN_MODEL] Training model\n",
      "2022-03-29 09:38:04 Set of params....., {'n_estimators': 326, 'reg_alpha': 345.3022145670852, 'learning_rate': 0.00018280641353192654, 'feature_fraction': 0.27650229056758224, 'bagging_fraction': 0.20989859709060207, 'num_leaves': 373, 'min_child_weight': 22}\n"
     ]
    },
    {
     "name": "stdout",
     "output_type": "stream",
     "text": [
      "Early stopping, best iteration is:\n",
      "[33]\tvalid_0's binary_logloss: 0.693204\tvalid_0's brier: 0.250029\n",
      "Iteration No: 19 ended. Evaluation done at random point.\n",
      "Time taken: 6.5831\n",
      "Function value obtained: -0.0260\n",
      "Current minimum: -0.0783\n",
      "Iteration No: 20 started. Evaluating function at random point.\n",
      "[LightGBM] [Warning] feature_fraction is set=0.27650229056758224, colsample_bytree=1.0 will be ignored. Current value: feature_fraction=0.27650229056758224\n",
      "[LightGBM] [Warning] bagging_fraction is set=0.20989859709060207, subsample=1.0 will be ignored. Current value: bagging_fraction=0.20989859709060207\n",
      "[25]\tvalid_0's binary_logloss: 0.699041\tvalid_0's brier: 0.252947\n",
      "Early stopping, best iteration is:\n",
      "[33]\tvalid_0's binary_logloss: 0.693204\tvalid_0's brier: 0.250029\n",
      "[LightGBM] [Warning] feature_fraction is set=0.27650229056758224, colsample_bytree=1.0 will be ignored. Current value: feature_fraction=0.27650229056758224\n",
      "[LightGBM] [Warning] bagging_fraction is set=0.20989859709060207, subsample=1.0 will be ignored. Current value: bagging_fraction=0.20989859709060207\n",
      "[25]\tvalid_0's binary_logloss: 0.698248\tvalid_0's brier: 0.252551\n",
      "Early stopping, best iteration is:\n",
      "[33]\tvalid_0's binary_logloss: 0.693204\tvalid_0's brier: 0.250029\n",
      "[LightGBM] [Warning] feature_fraction is set=0.27650229056758224, colsample_bytree=1.0 will be ignored. Current value: feature_fraction=0.27650229056758224\n",
      "[LightGBM] [Warning] bagging_fraction is set=0.20989859709060207, subsample=1.0 will be ignored. Current value: bagging_fraction=0.20989859709060207\n",
      "[25]\tvalid_0's binary_logloss: 0.69912\tvalid_0's brier: 0.252986\n"
     ]
    },
    {
     "name": "stderr",
     "output_type": "stream",
     "text": [
      "2022-03-29 09:38:10 mean cv_value 0.039891789107377305 | std cv_value 0.006929264525427027 \n",
      "2022-03-29 09:38:10 ---------------------------------------------\n",
      "2022-03-29 09:38:10 [TRAIN_MODEL] Training model\n",
      "2022-03-29 09:38:10 Set of params....., {'n_estimators': 291, 'reg_alpha': 168.35301908653454, 'learning_rate': 0.00014186877447934672, 'feature_fraction': 0.753741363192772, 'bagging_fraction': 0.7499718827536693, 'num_leaves': 96, 'min_child_weight': 24}\n"
     ]
    },
    {
     "name": "stdout",
     "output_type": "stream",
     "text": [
      "Early stopping, best iteration is:\n",
      "[33]\tvalid_0's binary_logloss: 0.693204\tvalid_0's brier: 0.250029\n",
      "Iteration No: 20 ended. Evaluation done at random point.\n",
      "Time taken: 5.3894\n",
      "Function value obtained: -0.0399\n",
      "Current minimum: -0.0783\n",
      "Iteration No: 21 started. Evaluating function at random point.\n",
      "[LightGBM] [Warning] feature_fraction is set=0.753741363192772, colsample_bytree=1.0 will be ignored. Current value: feature_fraction=0.753741363192772\n",
      "[LightGBM] [Warning] bagging_fraction is set=0.7499718827536693, subsample=1.0 will be ignored. Current value: bagging_fraction=0.7499718827536693\n",
      "[25]\tvalid_0's binary_logloss: 0.699045\tvalid_0's brier: 0.252949\n",
      "Early stopping, best iteration is:\n",
      "[33]\tvalid_0's binary_logloss: 0.693204\tvalid_0's brier: 0.250029\n",
      "[LightGBM] [Warning] feature_fraction is set=0.753741363192772, colsample_bytree=1.0 will be ignored. Current value: feature_fraction=0.753741363192772\n",
      "[LightGBM] [Warning] bagging_fraction is set=0.7499718827536693, subsample=1.0 will be ignored. Current value: bagging_fraction=0.7499718827536693\n",
      "[25]\tvalid_0's binary_logloss: 0.698252\tvalid_0's brier: 0.252552\n",
      "Early stopping, best iteration is:\n",
      "[33]\tvalid_0's binary_logloss: 0.693204\tvalid_0's brier: 0.250029\n",
      "[LightGBM] [Warning] feature_fraction is set=0.753741363192772, colsample_bytree=1.0 will be ignored. Current value: feature_fraction=0.753741363192772\n",
      "[LightGBM] [Warning] bagging_fraction is set=0.7499718827536693, subsample=1.0 will be ignored. Current value: bagging_fraction=0.7499718827536693\n",
      "[25]\tvalid_0's binary_logloss: 0.699124\tvalid_0's brier: 0.252988\n"
     ]
    },
    {
     "name": "stderr",
     "output_type": "stream",
     "text": [
      "2022-03-29 09:38:16 mean cv_value 0.02882350533508608 | std cv_value 0.01754599975345568 \n",
      "2022-03-29 09:38:16 ---------------------------------------------\n",
      "2022-03-29 09:38:16 [TRAIN_MODEL] Training model\n",
      "2022-03-29 09:38:16 Set of params....., {'n_estimators': 373, 'reg_alpha': 186.24785562319485, 'learning_rate': 0.004520549467372137, 'feature_fraction': 0.28480425576092094, 'bagging_fraction': 0.6228983432470478, 'num_leaves': 383, 'min_child_weight': 50}\n"
     ]
    },
    {
     "name": "stdout",
     "output_type": "stream",
     "text": [
      "Early stopping, best iteration is:\n",
      "[33]\tvalid_0's binary_logloss: 0.693204\tvalid_0's brier: 0.250029\n",
      "Iteration No: 21 ended. Evaluation done at random point.\n",
      "Time taken: 6.3278\n",
      "Function value obtained: -0.0288\n",
      "Current minimum: -0.0783\n",
      "Iteration No: 22 started. Evaluating function at random point.\n",
      "[LightGBM] [Warning] feature_fraction is set=0.28480425576092094, colsample_bytree=1.0 will be ignored. Current value: feature_fraction=0.28480425576092094\n",
      "[LightGBM] [Warning] bagging_fraction is set=0.6228983432470478, subsample=1.0 will be ignored. Current value: bagging_fraction=0.6228983432470478\n",
      "[25]\tvalid_0's binary_logloss: 0.698498\tvalid_0's brier: 0.252675\n",
      "Early stopping, best iteration is:\n",
      "[33]\tvalid_0's binary_logloss: 0.693204\tvalid_0's brier: 0.250029\n",
      "[LightGBM] [Warning] feature_fraction is set=0.28480425576092094, colsample_bytree=1.0 will be ignored. Current value: feature_fraction=0.28480425576092094\n",
      "[LightGBM] [Warning] bagging_fraction is set=0.6228983432470478, subsample=1.0 will be ignored. Current value: bagging_fraction=0.6228983432470478\n",
      "[25]\tvalid_0's binary_logloss: 0.697719\tvalid_0's brier: 0.252286\n",
      "Early stopping, best iteration is:\n",
      "[33]\tvalid_0's binary_logloss: 0.693204\tvalid_0's brier: 0.250029\n",
      "[LightGBM] [Warning] feature_fraction is set=0.28480425576092094, colsample_bytree=1.0 will be ignored. Current value: feature_fraction=0.28480425576092094\n",
      "[LightGBM] [Warning] bagging_fraction is set=0.6228983432470478, subsample=1.0 will be ignored. Current value: bagging_fraction=0.6228983432470478\n",
      "[25]\tvalid_0's binary_logloss: 0.698495\tvalid_0's brier: 0.252674\n"
     ]
    },
    {
     "name": "stderr",
     "output_type": "stream",
     "text": [
      "2022-03-29 09:38:22 mean cv_value 0.04039582873461571 | std cv_value 0.013763833218496686 \n",
      "2022-03-29 09:38:22 ---------------------------------------------\n",
      "2022-03-29 09:38:22 [TRAIN_MODEL] Training model\n",
      "2022-03-29 09:38:22 Set of params....., {'n_estimators': 110, 'reg_alpha': 961.9666045576485, 'learning_rate': 0.00110805514306556, 'feature_fraction': 0.7910161566621107, 'bagging_fraction': 0.20149953625272662, 'num_leaves': 187, 'min_child_weight': 41}\n"
     ]
    },
    {
     "name": "stdout",
     "output_type": "stream",
     "text": [
      "Early stopping, best iteration is:\n",
      "[33]\tvalid_0's binary_logloss: 0.693204\tvalid_0's brier: 0.250029\n",
      "Iteration No: 22 ended. Evaluation done at random point.\n",
      "Time taken: 6.0453\n",
      "Function value obtained: -0.0404\n",
      "Current minimum: -0.0783\n",
      "Iteration No: 23 started. Evaluating function at random point.\n",
      "[LightGBM] [Warning] feature_fraction is set=0.7910161566621107, colsample_bytree=1.0 will be ignored. Current value: feature_fraction=0.7910161566621107\n",
      "[LightGBM] [Warning] bagging_fraction is set=0.20149953625272662, subsample=1.0 will be ignored. Current value: bagging_fraction=0.20149953625272662\n",
      "[25]\tvalid_0's binary_logloss: 0.698975\tvalid_0's brier: 0.252914\n",
      "Early stopping, best iteration is:\n",
      "[33]\tvalid_0's binary_logloss: 0.693204\tvalid_0's brier: 0.250029\n",
      "[LightGBM] [Warning] feature_fraction is set=0.7910161566621107, colsample_bytree=1.0 will be ignored. Current value: feature_fraction=0.7910161566621107\n",
      "[LightGBM] [Warning] bagging_fraction is set=0.20149953625272662, subsample=1.0 will be ignored. Current value: bagging_fraction=0.20149953625272662\n",
      "[25]\tvalid_0's binary_logloss: 0.698182\tvalid_0's brier: 0.252517\n",
      "Early stopping, best iteration is:\n",
      "[33]\tvalid_0's binary_logloss: 0.693204\tvalid_0's brier: 0.250029\n",
      "[LightGBM] [Warning] feature_fraction is set=0.7910161566621107, colsample_bytree=1.0 will be ignored. Current value: feature_fraction=0.7910161566621107\n",
      "[LightGBM] [Warning] bagging_fraction is set=0.20149953625272662, subsample=1.0 will be ignored. Current value: bagging_fraction=0.20149953625272662\n",
      "[25]\tvalid_0's binary_logloss: 0.699013\tvalid_0's brier: 0.252933\n"
     ]
    },
    {
     "name": "stderr",
     "output_type": "stream",
     "text": [
      "2022-03-29 09:38:27 mean cv_value 0.027486730468874735 | std cv_value 0.023724644900433856 \n",
      "2022-03-29 09:38:27 ---------------------------------------------\n",
      "2022-03-29 09:38:27 [TRAIN_MODEL] Training model\n",
      "2022-03-29 09:38:27 Set of params....., {'n_estimators': 467, 'reg_alpha': 558.8995767642205, 'learning_rate': 0.04895493070318753, 'feature_fraction': 0.16164421175298332, 'bagging_fraction': 0.29990898600288396, 'num_leaves': 179, 'min_child_weight': 3}\n"
     ]
    },
    {
     "name": "stdout",
     "output_type": "stream",
     "text": [
      "Early stopping, best iteration is:\n",
      "[33]\tvalid_0's binary_logloss: 0.693204\tvalid_0's brier: 0.250029\n",
      "Iteration No: 23 ended. Evaluation done at random point.\n",
      "Time taken: 5.1955\n",
      "Function value obtained: -0.0275\n",
      "Current minimum: -0.0783\n",
      "Iteration No: 24 started. Evaluating function at random point.\n",
      "[LightGBM] [Warning] feature_fraction is set=0.16164421175298332, colsample_bytree=1.0 will be ignored. Current value: feature_fraction=0.16164421175298332\n",
      "[LightGBM] [Warning] bagging_fraction is set=0.29990898600288396, subsample=1.0 will be ignored. Current value: bagging_fraction=0.29990898600288396\n",
      "[25]\tvalid_0's binary_logloss: 0.695929\tvalid_0's brier: 0.251391\n",
      "Early stopping, best iteration is:\n",
      "[33]\tvalid_0's binary_logloss: 0.693204\tvalid_0's brier: 0.250029\n",
      "[LightGBM] [Warning] feature_fraction is set=0.16164421175298332, colsample_bytree=1.0 will be ignored. Current value: feature_fraction=0.16164421175298332\n",
      "[LightGBM] [Warning] bagging_fraction is set=0.29990898600288396, subsample=1.0 will be ignored. Current value: bagging_fraction=0.29990898600288396\n",
      "[25]\tvalid_0's binary_logloss: 0.695337\tvalid_0's brier: 0.251095\n",
      "Early stopping, best iteration is:\n",
      "[33]\tvalid_0's binary_logloss: 0.693204\tvalid_0's brier: 0.250029\n",
      "[LightGBM] [Warning] feature_fraction is set=0.16164421175298332, colsample_bytree=1.0 will be ignored. Current value: feature_fraction=0.16164421175298332\n",
      "[LightGBM] [Warning] bagging_fraction is set=0.29990898600288396, subsample=1.0 will be ignored. Current value: bagging_fraction=0.29990898600288396\n",
      "[25]\tvalid_0's binary_logloss: 0.695714\tvalid_0's brier: 0.251283\n"
     ]
    },
    {
     "name": "stderr",
     "output_type": "stream",
     "text": [
      "2022-03-29 09:38:32 mean cv_value 0.04014709031905068 | std cv_value 0.01227259746125917 \n",
      "2022-03-29 09:38:32 ---------------------------------------------\n",
      "2022-03-29 09:38:32 [TRAIN_MODEL] Training model\n",
      "2022-03-29 09:38:32 Set of params....., {'n_estimators': 468, 'reg_alpha': 209.59779166664737, 'learning_rate': 0.020281119175715925, 'feature_fraction': 0.5648378646562278, 'bagging_fraction': 0.28713692892229925, 'num_leaves': 243, 'min_child_weight': 34}\n"
     ]
    },
    {
     "name": "stdout",
     "output_type": "stream",
     "text": [
      "Early stopping, best iteration is:\n",
      "[33]\tvalid_0's binary_logloss: 0.693204\tvalid_0's brier: 0.250029\n",
      "Iteration No: 24 ended. Evaluation done at random point.\n",
      "Time taken: 5.1937\n",
      "Function value obtained: -0.0401\n",
      "Current minimum: -0.0783\n",
      "Iteration No: 25 started. Evaluating function at random point.\n",
      "[LightGBM] [Warning] feature_fraction is set=0.5648378646562278, colsample_bytree=1.0 will be ignored. Current value: feature_fraction=0.5648378646562278\n",
      "[LightGBM] [Warning] bagging_fraction is set=0.28713692892229925, subsample=1.0 will be ignored. Current value: bagging_fraction=0.28713692892229925\n",
      "[25]\tvalid_0's binary_logloss: 0.69702\tvalid_0's brier: 0.251936\n",
      "Early stopping, best iteration is:\n",
      "[33]\tvalid_0's binary_logloss: 0.693204\tvalid_0's brier: 0.250029\n",
      "[LightGBM] [Warning] feature_fraction is set=0.5648378646562278, colsample_bytree=1.0 will be ignored. Current value: feature_fraction=0.5648378646562278\n",
      "[LightGBM] [Warning] bagging_fraction is set=0.28713692892229925, subsample=1.0 will be ignored. Current value: bagging_fraction=0.28713692892229925\n",
      "[25]\tvalid_0's binary_logloss: 0.696215\tvalid_0's brier: 0.251534\n",
      "Early stopping, best iteration is:\n",
      "[33]\tvalid_0's binary_logloss: 0.693204\tvalid_0's brier: 0.250029\n",
      "[LightGBM] [Warning] feature_fraction is set=0.5648378646562278, colsample_bytree=1.0 will be ignored. Current value: feature_fraction=0.5648378646562278\n",
      "[LightGBM] [Warning] bagging_fraction is set=0.28713692892229925, subsample=1.0 will be ignored. Current value: bagging_fraction=0.28713692892229925\n",
      "[25]\tvalid_0's binary_logloss: 0.696698\tvalid_0's brier: 0.251775\n"
     ]
    },
    {
     "name": "stderr",
     "output_type": "stream",
     "text": [
      "2022-03-29 09:38:38 mean cv_value 0.02556466387973963 | std cv_value 0.01738276771059197 \n",
      "2022-03-29 09:38:38 ---------------------------------------------\n"
     ]
    },
    {
     "name": "stdout",
     "output_type": "stream",
     "text": [
      "Early stopping, best iteration is:\n",
      "[33]\tvalid_0's binary_logloss: 0.693204\tvalid_0's brier: 0.250029\n"
     ]
    },
    {
     "name": "stderr",
     "output_type": "stream",
     "text": [
      "2022-03-29 09:38:42 [TRAIN_MODEL] Training model\n",
      "2022-03-29 09:38:42 Set of params....., {'n_estimators': 500, 'reg_alpha': 0.0001, 'learning_rate': 1.0, 'feature_fraction': 0.9, 'bagging_fraction': 0.9, 'num_leaves': 500, 'min_child_weight': 2}\n"
     ]
    },
    {
     "name": "stdout",
     "output_type": "stream",
     "text": [
      "Iteration No: 25 ended. Evaluation done at random point.\n",
      "Time taken: 9.2440\n",
      "Function value obtained: -0.0256\n",
      "Current minimum: -0.0783\n",
      "Iteration No: 26 started. Searching for the next optimal point.\n",
      "[LightGBM] [Warning] feature_fraction is set=0.9, colsample_bytree=1.0 will be ignored. Current value: feature_fraction=0.9\n",
      "[LightGBM] [Warning] bagging_fraction is set=0.9, subsample=1.0 will be ignored. Current value: bagging_fraction=0.9\n",
      "[25]\tvalid_0's binary_logloss: 0.886997\tvalid_0's brier: 0.315401\n",
      "Early stopping, best iteration is:\n",
      "[33]\tvalid_0's binary_logloss: 0.693204\tvalid_0's brier: 0.250029\n",
      "[LightGBM] [Warning] feature_fraction is set=0.9, colsample_bytree=1.0 will be ignored. Current value: feature_fraction=0.9\n",
      "[LightGBM] [Warning] bagging_fraction is set=0.9, subsample=1.0 will be ignored. Current value: bagging_fraction=0.9\n",
      "[25]\tvalid_0's binary_logloss: 0.886146\tvalid_0's brier: 0.315273\n",
      "Early stopping, best iteration is:\n",
      "[33]\tvalid_0's binary_logloss: 0.693204\tvalid_0's brier: 0.250029\n",
      "[LightGBM] [Warning] feature_fraction is set=0.9, colsample_bytree=1.0 will be ignored. Current value: feature_fraction=0.9\n",
      "[LightGBM] [Warning] bagging_fraction is set=0.9, subsample=1.0 will be ignored. Current value: bagging_fraction=0.9\n",
      "[25]\tvalid_0's binary_logloss: 0.886178\tvalid_0's brier: 0.313937\n"
     ]
    },
    {
     "name": "stderr",
     "output_type": "stream",
     "text": [
      "2022-03-29 09:38:54 mean cv_value 0.13210448589907256 | std cv_value 0.006343412624469348 \n",
      "2022-03-29 09:38:54 ---------------------------------------------\n"
     ]
    },
    {
     "name": "stdout",
     "output_type": "stream",
     "text": [
      "Early stopping, best iteration is:\n",
      "[33]\tvalid_0's binary_logloss: 0.693204\tvalid_0's brier: 0.250029\n"
     ]
    },
    {
     "name": "stderr",
     "output_type": "stream",
     "text": [
      "2022-03-29 09:38:57 [TRAIN_MODEL] Training model\n",
      "2022-03-29 09:38:57 Set of params....., {'n_estimators': 500, 'reg_alpha': 0.0001, 'learning_rate': 0.0001, 'feature_fraction': 0.9, 'bagging_fraction': 0.1, 'num_leaves': 2, 'min_child_weight': 60}\n"
     ]
    },
    {
     "name": "stdout",
     "output_type": "stream",
     "text": [
      "Iteration No: 26 ended. Search finished for the next optimal point.\n",
      "Time taken: 14.8378\n",
      "Function value obtained: -0.1321\n",
      "Current minimum: -0.1321\n",
      "Iteration No: 27 started. Searching for the next optimal point.\n",
      "[LightGBM] [Warning] feature_fraction is set=0.9, colsample_bytree=1.0 will be ignored. Current value: feature_fraction=0.9\n",
      "[LightGBM] [Warning] bagging_fraction is set=0.1, subsample=1.0 will be ignored. Current value: bagging_fraction=0.1\n",
      "[25]\tvalid_0's binary_logloss: 0.699049\tvalid_0's brier: 0.252951\n",
      "Early stopping, best iteration is:\n",
      "[33]\tvalid_0's binary_logloss: 0.693204\tvalid_0's brier: 0.250029\n",
      "[LightGBM] [Warning] feature_fraction is set=0.9, colsample_bytree=1.0 will be ignored. Current value: feature_fraction=0.9\n",
      "[LightGBM] [Warning] bagging_fraction is set=0.1, subsample=1.0 will be ignored. Current value: bagging_fraction=0.1\n",
      "[25]\tvalid_0's binary_logloss: 0.698257\tvalid_0's brier: 0.252555\n",
      "Early stopping, best iteration is:\n",
      "[33]\tvalid_0's binary_logloss: 0.693204\tvalid_0's brier: 0.250029\n",
      "[LightGBM] [Warning] feature_fraction is set=0.9, colsample_bytree=1.0 will be ignored. Current value: feature_fraction=0.9\n",
      "[LightGBM] [Warning] bagging_fraction is set=0.1, subsample=1.0 will be ignored. Current value: bagging_fraction=0.1\n",
      "[25]\tvalid_0's binary_logloss: 0.699131\tvalid_0's brier: 0.252992\n"
     ]
    },
    {
     "name": "stderr",
     "output_type": "stream",
     "text": [
      "2022-03-29 09:39:02 mean cv_value 0.009063348097234192 | std cv_value 0.018749309637314825 \n",
      "2022-03-29 09:39:02 ---------------------------------------------\n"
     ]
    },
    {
     "name": "stdout",
     "output_type": "stream",
     "text": [
      "Early stopping, best iteration is:\n",
      "[33]\tvalid_0's binary_logloss: 0.693204\tvalid_0's brier: 0.250029\n"
     ]
    },
    {
     "name": "stderr",
     "output_type": "stream",
     "text": [
      "2022-03-29 09:39:04 [TRAIN_MODEL] Training model\n",
      "2022-03-29 09:39:04 Set of params....., {'n_estimators': 11, 'reg_alpha': 0.0001, 'learning_rate': 0.0001, 'feature_fraction': 0.4480897387818541, 'bagging_fraction': 0.9, 'num_leaves': 500, 'min_child_weight': 60}\n"
     ]
    },
    {
     "name": "stdout",
     "output_type": "stream",
     "text": [
      "Iteration No: 27 ended. Search finished for the next optimal point.\n",
      "Time taken: 7.2429\n",
      "Function value obtained: -0.0091\n",
      "Current minimum: -0.1321\n",
      "Iteration No: 28 started. Searching for the next optimal point.\n",
      "[LightGBM] [Warning] feature_fraction is set=0.4480897387818541, colsample_bytree=1.0 will be ignored. Current value: feature_fraction=0.4480897387818541\n",
      "[LightGBM] [Warning] bagging_fraction is set=0.9, subsample=1.0 will be ignored. Current value: bagging_fraction=0.9\n",
      "Did not meet early stopping. Best iteration is:\n",
      "[33]\tvalid_0's binary_logloss: 0.693204\tvalid_0's brier: 0.250029\n",
      "[LightGBM] [Warning] feature_fraction is set=0.4480897387818541, colsample_bytree=1.0 will be ignored. Current value: feature_fraction=0.4480897387818541\n",
      "[LightGBM] [Warning] bagging_fraction is set=0.9, subsample=1.0 will be ignored. Current value: bagging_fraction=0.9\n",
      "Did not meet early stopping. Best iteration is:\n",
      "[33]\tvalid_0's binary_logloss: 0.693204\tvalid_0's brier: 0.250029\n",
      "[LightGBM] [Warning] feature_fraction is set=0.4480897387818541, colsample_bytree=1.0 will be ignored. Current value: feature_fraction=0.4480897387818541\n",
      "[LightGBM] [Warning] bagging_fraction is set=0.9, subsample=1.0 will be ignored. Current value: bagging_fraction=0.9\n"
     ]
    },
    {
     "name": "stderr",
     "output_type": "stream",
     "text": [
      "2022-03-29 09:39:10 mean cv_value 0.10506933037334876 | std cv_value 0.008149691880304457 \n",
      "2022-03-29 09:39:10 ---------------------------------------------\n"
     ]
    },
    {
     "name": "stdout",
     "output_type": "stream",
     "text": [
      "Did not meet early stopping. Best iteration is:\n",
      "[33]\tvalid_0's binary_logloss: 0.693204\tvalid_0's brier: 0.250029\n"
     ]
    },
    {
     "name": "stderr",
     "output_type": "stream",
     "text": [
      "2022-03-29 09:39:11 [TRAIN_MODEL] Training model\n",
      "2022-03-29 09:39:11 Set of params....., {'n_estimators': 5, 'reg_alpha': 0.0001, 'learning_rate': 0.0001, 'feature_fraction': 0.9, 'bagging_fraction': 0.9, 'num_leaves': 500, 'min_child_weight': 60}\n"
     ]
    },
    {
     "name": "stdout",
     "output_type": "stream",
     "text": [
      "Iteration No: 28 ended. Search finished for the next optimal point.\n",
      "Time taken: 6.7973\n",
      "Function value obtained: -0.1051\n",
      "Current minimum: -0.1321\n",
      "Iteration No: 29 started. Searching for the next optimal point.\n",
      "[LightGBM] [Warning] feature_fraction is set=0.9, colsample_bytree=1.0 will be ignored. Current value: feature_fraction=0.9\n",
      "[LightGBM] [Warning] bagging_fraction is set=0.9, subsample=1.0 will be ignored. Current value: bagging_fraction=0.9\n",
      "Did not meet early stopping. Best iteration is:\n",
      "[33]\tvalid_0's binary_logloss: 0.693204\tvalid_0's brier: 0.250029\n",
      "[LightGBM] [Warning] feature_fraction is set=0.9, colsample_bytree=1.0 will be ignored. Current value: feature_fraction=0.9\n",
      "[LightGBM] [Warning] bagging_fraction is set=0.9, subsample=1.0 will be ignored. Current value: bagging_fraction=0.9\n",
      "Did not meet early stopping. Best iteration is:\n",
      "[33]\tvalid_0's binary_logloss: 0.693204\tvalid_0's brier: 0.250029\n",
      "[LightGBM] [Warning] feature_fraction is set=0.9, colsample_bytree=1.0 will be ignored. Current value: feature_fraction=0.9\n",
      "[LightGBM] [Warning] bagging_fraction is set=0.9, subsample=1.0 will be ignored. Current value: bagging_fraction=0.9\n"
     ]
    },
    {
     "name": "stderr",
     "output_type": "stream",
     "text": [
      "2022-03-29 09:39:14 mean cv_value 0.07422542040814843 | std cv_value 0.005642002191749706 \n",
      "2022-03-29 09:39:14 ---------------------------------------------\n"
     ]
    },
    {
     "name": "stdout",
     "output_type": "stream",
     "text": [
      "Did not meet early stopping. Best iteration is:\n",
      "[33]\tvalid_0's binary_logloss: 0.693204\tvalid_0's brier: 0.250029\n"
     ]
    },
    {
     "name": "stderr",
     "output_type": "stream",
     "text": [
      "2022-03-29 09:39:15 [TRAIN_MODEL] Training model\n",
      "2022-03-29 09:39:15 Set of params....., {'n_estimators': 5, 'reg_alpha': 0.0001, 'learning_rate': 1.0, 'feature_fraction': 0.9, 'bagging_fraction': 0.1, 'num_leaves': 500, 'min_child_weight': 60}\n"
     ]
    },
    {
     "name": "stdout",
     "output_type": "stream",
     "text": [
      "Iteration No: 29 ended. Search finished for the next optimal point.\n",
      "Time taken: 4.7985\n",
      "Function value obtained: -0.0742\n",
      "Current minimum: -0.1321\n",
      "Iteration No: 30 started. Searching for the next optimal point.\n",
      "[LightGBM] [Warning] feature_fraction is set=0.9, colsample_bytree=1.0 will be ignored. Current value: feature_fraction=0.9\n",
      "[LightGBM] [Warning] bagging_fraction is set=0.1, subsample=1.0 will be ignored. Current value: bagging_fraction=0.1\n",
      "Did not meet early stopping. Best iteration is:\n",
      "[33]\tvalid_0's binary_logloss: 0.693204\tvalid_0's brier: 0.250029\n",
      "[LightGBM] [Warning] feature_fraction is set=0.9, colsample_bytree=1.0 will be ignored. Current value: feature_fraction=0.9\n",
      "[LightGBM] [Warning] bagging_fraction is set=0.1, subsample=1.0 will be ignored. Current value: bagging_fraction=0.1\n",
      "Did not meet early stopping. Best iteration is:\n",
      "[33]\tvalid_0's binary_logloss: 0.693204\tvalid_0's brier: 0.250029\n",
      "[LightGBM] [Warning] feature_fraction is set=0.9, colsample_bytree=1.0 will be ignored. Current value: feature_fraction=0.9\n",
      "[LightGBM] [Warning] bagging_fraction is set=0.1, subsample=1.0 will be ignored. Current value: bagging_fraction=0.1\n"
     ]
    },
    {
     "name": "stderr",
     "output_type": "stream",
     "text": [
      "2022-03-29 09:39:19 mean cv_value 0.10134195827839972 | std cv_value 0.012722678918549512 \n",
      "2022-03-29 09:39:19 ---------------------------------------------\n"
     ]
    },
    {
     "name": "stdout",
     "output_type": "stream",
     "text": [
      "Did not meet early stopping. Best iteration is:\n",
      "[33]\tvalid_0's binary_logloss: 0.693204\tvalid_0's brier: 0.250029\n"
     ]
    },
    {
     "name": "stderr",
     "output_type": "stream",
     "text": [
      "2022-03-29 09:39:20 [TRAIN_MODEL] Training model\n",
      "2022-03-29 09:39:20 Set of params....., {'n_estimators': 500, 'reg_alpha': 0.0001, 'learning_rate': 0.1109490489916326, 'feature_fraction': 0.9, 'bagging_fraction': 0.9, 'num_leaves': 500, 'min_child_weight': 60}\n"
     ]
    },
    {
     "name": "stdout",
     "output_type": "stream",
     "text": [
      "Iteration No: 30 ended. Search finished for the next optimal point.\n",
      "Time taken: 4.4943\n",
      "Function value obtained: -0.1013\n",
      "Current minimum: -0.1321\n",
      "Iteration No: 31 started. Searching for the next optimal point.\n",
      "[LightGBM] [Warning] feature_fraction is set=0.9, colsample_bytree=1.0 will be ignored. Current value: feature_fraction=0.9\n",
      "[LightGBM] [Warning] bagging_fraction is set=0.9, subsample=1.0 will be ignored. Current value: bagging_fraction=0.9\n",
      "[25]\tvalid_0's binary_logloss: 0.700573\tvalid_0's brier: 0.25364\n",
      "Early stopping, best iteration is:\n",
      "[33]\tvalid_0's binary_logloss: 0.693204\tvalid_0's brier: 0.250029\n",
      "[LightGBM] [Warning] feature_fraction is set=0.9, colsample_bytree=1.0 will be ignored. Current value: feature_fraction=0.9\n",
      "[LightGBM] [Warning] bagging_fraction is set=0.9, subsample=1.0 will be ignored. Current value: bagging_fraction=0.9\n",
      "[25]\tvalid_0's binary_logloss: 0.700744\tvalid_0's brier: 0.253712\n",
      "Early stopping, best iteration is:\n",
      "[33]\tvalid_0's binary_logloss: 0.693204\tvalid_0's brier: 0.250029\n",
      "[LightGBM] [Warning] feature_fraction is set=0.9, colsample_bytree=1.0 will be ignored. Current value: feature_fraction=0.9\n",
      "[LightGBM] [Warning] bagging_fraction is set=0.9, subsample=1.0 will be ignored. Current value: bagging_fraction=0.9\n",
      "[25]\tvalid_0's binary_logloss: 0.700418\tvalid_0's brier: 0.253549\n"
     ]
    },
    {
     "name": "stderr",
     "output_type": "stream",
     "text": [
      "2022-03-29 09:39:35 mean cv_value 0.1310495375343883 | std cv_value 0.00466482986690142 \n",
      "2022-03-29 09:39:35 ---------------------------------------------\n"
     ]
    },
    {
     "name": "stdout",
     "output_type": "stream",
     "text": [
      "Early stopping, best iteration is:\n",
      "[33]\tvalid_0's binary_logloss: 0.693204\tvalid_0's brier: 0.250029\n"
     ]
    },
    {
     "name": "stderr",
     "output_type": "stream",
     "text": [
      "2022-03-29 09:39:36 [TRAIN_MODEL] Training model\n",
      "2022-03-29 09:39:36 Set of params....., {'n_estimators': 500, 'reg_alpha': 1000.0, 'learning_rate': 0.0001, 'feature_fraction': 0.1, 'bagging_fraction': 0.9, 'num_leaves': 2, 'min_child_weight': 20}\n"
     ]
    },
    {
     "name": "stdout",
     "output_type": "stream",
     "text": [
      "Iteration No: 31 ended. Search finished for the next optimal point.\n",
      "Time taken: 15.7882\n",
      "Function value obtained: -0.1310\n",
      "Current minimum: -0.1321\n",
      "Iteration No: 32 started. Searching for the next optimal point.\n",
      "[LightGBM] [Warning] feature_fraction is set=0.1, colsample_bytree=1.0 will be ignored. Current value: feature_fraction=0.1\n",
      "[LightGBM] [Warning] bagging_fraction is set=0.9, subsample=1.0 will be ignored. Current value: bagging_fraction=0.9\n",
      "[25]\tvalid_0's binary_logloss: 0.699059\tvalid_0's brier: 0.252956\n",
      "Early stopping, best iteration is:\n",
      "[33]\tvalid_0's binary_logloss: 0.693204\tvalid_0's brier: 0.250029\n",
      "[LightGBM] [Warning] feature_fraction is set=0.1, colsample_bytree=1.0 will be ignored. Current value: feature_fraction=0.1\n",
      "[LightGBM] [Warning] bagging_fraction is set=0.9, subsample=1.0 will be ignored. Current value: bagging_fraction=0.9\n",
      "[25]\tvalid_0's binary_logloss: 0.698267\tvalid_0's brier: 0.25256\n",
      "Early stopping, best iteration is:\n",
      "[33]\tvalid_0's binary_logloss: 0.693204\tvalid_0's brier: 0.250029\n",
      "[LightGBM] [Warning] feature_fraction is set=0.1, colsample_bytree=1.0 will be ignored. Current value: feature_fraction=0.1\n",
      "[LightGBM] [Warning] bagging_fraction is set=0.9, subsample=1.0 will be ignored. Current value: bagging_fraction=0.9\n",
      "[25]\tvalid_0's binary_logloss: 0.699141\tvalid_0's brier: 0.252997\n"
     ]
    },
    {
     "name": "stderr",
     "output_type": "stream",
     "text": [
      "2022-03-29 09:39:41 mean cv_value 0.044191380704317905 | std cv_value 0.0033689338751226915 \n",
      "2022-03-29 09:39:41 ---------------------------------------------\n"
     ]
    },
    {
     "name": "stdout",
     "output_type": "stream",
     "text": [
      "Early stopping, best iteration is:\n",
      "[33]\tvalid_0's binary_logloss: 0.693204\tvalid_0's brier: 0.250029\n"
     ]
    },
    {
     "name": "stderr",
     "output_type": "stream",
     "text": [
      "2022-03-29 09:39:42 [TRAIN_MODEL] Training model\n",
      "2022-03-29 09:39:42 Set of params....., {'n_estimators': 268, 'reg_alpha': 18.74088835734348, 'learning_rate': 0.46896940467046383, 'feature_fraction': 0.671483989664565, 'bagging_fraction': 0.8619770951118092, 'num_leaves': 484, 'min_child_weight': 30}\n"
     ]
    },
    {
     "name": "stdout",
     "output_type": "stream",
     "text": [
      "Iteration No: 32 ended. Search finished for the next optimal point.\n",
      "Time taken: 6.4883\n",
      "Function value obtained: -0.0442\n",
      "Current minimum: -0.1321\n",
      "Iteration No: 33 started. Searching for the next optimal point.\n",
      "[LightGBM] [Warning] feature_fraction is set=0.671483989664565, colsample_bytree=1.0 will be ignored. Current value: feature_fraction=0.671483989664565\n",
      "[LightGBM] [Warning] bagging_fraction is set=0.8619770951118092, subsample=1.0 will be ignored. Current value: bagging_fraction=0.8619770951118092\n",
      "[25]\tvalid_0's binary_logloss: 0.71822\tvalid_0's brier: 0.261853\n",
      "Early stopping, best iteration is:\n",
      "[33]\tvalid_0's binary_logloss: 0.693204\tvalid_0's brier: 0.250029\n",
      "[LightGBM] [Warning] feature_fraction is set=0.671483989664565, colsample_bytree=1.0 will be ignored. Current value: feature_fraction=0.671483989664565\n",
      "[LightGBM] [Warning] bagging_fraction is set=0.8619770951118092, subsample=1.0 will be ignored. Current value: bagging_fraction=0.8619770951118092\n",
      "[25]\tvalid_0's binary_logloss: 0.718018\tvalid_0's brier: 0.261736\n",
      "Early stopping, best iteration is:\n",
      "[33]\tvalid_0's binary_logloss: 0.693204\tvalid_0's brier: 0.250029\n",
      "[LightGBM] [Warning] feature_fraction is set=0.671483989664565, colsample_bytree=1.0 will be ignored. Current value: feature_fraction=0.671483989664565\n",
      "[LightGBM] [Warning] bagging_fraction is set=0.8619770951118092, subsample=1.0 will be ignored. Current value: bagging_fraction=0.8619770951118092\n",
      "[25]\tvalid_0's binary_logloss: 0.718397\tvalid_0's brier: 0.261909\n",
      "Early stopping, best iteration is:\n",
      "[33]\tvalid_0's binary_logloss: 0.693204\tvalid_0's brier: 0.250029\n"
     ]
    },
    {
     "name": "stderr",
     "output_type": "stream",
     "text": [
      "2022-03-29 09:39:57 mean cv_value 0.1335942023111469 | std cv_value 0.006916308958712277 \n",
      "2022-03-29 09:39:57 ---------------------------------------------\n",
      "2022-03-29 09:39:58 [TRAIN_MODEL] Training model\n",
      "2022-03-29 09:39:58 Set of params....., {'n_estimators': 98, 'reg_alpha': 0.0001, 'learning_rate': 0.09758548029968969, 'feature_fraction': 0.7034501425563827, 'bagging_fraction': 0.9, 'num_leaves': 500, 'min_child_weight': 9}\n"
     ]
    },
    {
     "name": "stdout",
     "output_type": "stream",
     "text": [
      "Iteration No: 33 ended. Search finished for the next optimal point.\n",
      "Time taken: 16.0630\n",
      "Function value obtained: -0.1336\n",
      "Current minimum: -0.1336\n",
      "Iteration No: 34 started. Searching for the next optimal point.\n",
      "[LightGBM] [Warning] feature_fraction is set=0.7034501425563827, colsample_bytree=1.0 will be ignored. Current value: feature_fraction=0.7034501425563827\n",
      "[LightGBM] [Warning] bagging_fraction is set=0.9, subsample=1.0 will be ignored. Current value: bagging_fraction=0.9\n",
      "[25]\tvalid_0's binary_logloss: 0.700137\tvalid_0's brier: 0.253439\n",
      "Early stopping, best iteration is:\n",
      "[33]\tvalid_0's binary_logloss: 0.693204\tvalid_0's brier: 0.250029\n",
      "[LightGBM] [Warning] feature_fraction is set=0.7034501425563827, colsample_bytree=1.0 will be ignored. Current value: feature_fraction=0.7034501425563827\n",
      "[LightGBM] [Warning] bagging_fraction is set=0.9, subsample=1.0 will be ignored. Current value: bagging_fraction=0.9\n",
      "[25]\tvalid_0's binary_logloss: 0.700071\tvalid_0's brier: 0.253392\n",
      "Early stopping, best iteration is:\n",
      "[33]\tvalid_0's binary_logloss: 0.693204\tvalid_0's brier: 0.250029\n",
      "[LightGBM] [Warning] feature_fraction is set=0.7034501425563827, colsample_bytree=1.0 will be ignored. Current value: feature_fraction=0.7034501425563827\n",
      "[LightGBM] [Warning] bagging_fraction is set=0.9, subsample=1.0 will be ignored. Current value: bagging_fraction=0.9\n",
      "[25]\tvalid_0's binary_logloss: 0.699713\tvalid_0's brier: 0.253223\n"
     ]
    },
    {
     "name": "stderr",
     "output_type": "stream",
     "text": [
      "2022-03-29 09:40:14 mean cv_value 0.140169962614903 | std cv_value 0.004745058018565178 \n",
      "2022-03-29 09:40:14 ---------------------------------------------\n"
     ]
    },
    {
     "name": "stdout",
     "output_type": "stream",
     "text": [
      "Early stopping, best iteration is:\n",
      "[33]\tvalid_0's binary_logloss: 0.693204\tvalid_0's brier: 0.250029\n"
     ]
    },
    {
     "name": "stderr",
     "output_type": "stream",
     "text": [
      "2022-03-29 09:40:15 [TRAIN_MODEL] Training model\n",
      "2022-03-29 09:40:15 Set of params....., {'n_estimators': 494, 'reg_alpha': 8.829369686200913, 'learning_rate': 0.6305058058385575, 'feature_fraction': 0.10504254730832284, 'bagging_fraction': 0.622132822322482, 'num_leaves': 491, 'min_child_weight': 6}\n"
     ]
    },
    {
     "name": "stdout",
     "output_type": "stream",
     "text": [
      "Iteration No: 34 ended. Search finished for the next optimal point.\n",
      "Time taken: 16.6318\n",
      "Function value obtained: -0.1402\n",
      "Current minimum: -0.1402\n",
      "Iteration No: 35 started. Searching for the next optimal point.\n",
      "[LightGBM] [Warning] feature_fraction is set=0.10504254730832284, colsample_bytree=1.0 will be ignored. Current value: feature_fraction=0.10504254730832284\n",
      "[LightGBM] [Warning] bagging_fraction is set=0.622132822322482, subsample=1.0 will be ignored. Current value: bagging_fraction=0.622132822322482\n",
      "[25]\tvalid_0's binary_logloss: 0.70726\tvalid_0's brier: 0.25677\n",
      "Early stopping, best iteration is:\n",
      "[33]\tvalid_0's binary_logloss: 0.693204\tvalid_0's brier: 0.250029\n",
      "[LightGBM] [Warning] feature_fraction is set=0.10504254730832284, colsample_bytree=1.0 will be ignored. Current value: feature_fraction=0.10504254730832284\n",
      "[LightGBM] [Warning] bagging_fraction is set=0.622132822322482, subsample=1.0 will be ignored. Current value: bagging_fraction=0.622132822322482\n",
      "[25]\tvalid_0's binary_logloss: 0.707283\tvalid_0's brier: 0.256744\n",
      "Early stopping, best iteration is:\n",
      "[33]\tvalid_0's binary_logloss: 0.693204\tvalid_0's brier: 0.250029\n",
      "[LightGBM] [Warning] feature_fraction is set=0.10504254730832284, colsample_bytree=1.0 will be ignored. Current value: feature_fraction=0.10504254730832284\n",
      "[LightGBM] [Warning] bagging_fraction is set=0.622132822322482, subsample=1.0 will be ignored. Current value: bagging_fraction=0.622132822322482\n",
      "[25]\tvalid_0's binary_logloss: 0.707027\tvalid_0's brier: 0.256654\n"
     ]
    },
    {
     "name": "stderr",
     "output_type": "stream",
     "text": [
      "2022-03-29 09:40:25 mean cv_value 0.10147140415627277 | std cv_value 0.008565441643162999 \n",
      "2022-03-29 09:40:25 ---------------------------------------------\n"
     ]
    },
    {
     "name": "stdout",
     "output_type": "stream",
     "text": [
      "Early stopping, best iteration is:\n",
      "[33]\tvalid_0's binary_logloss: 0.693204\tvalid_0's brier: 0.250029\n"
     ]
    },
    {
     "name": "stderr",
     "output_type": "stream",
     "text": [
      "2022-03-29 09:40:27 [TRAIN_MODEL] Training model\n",
      "2022-03-29 09:40:27 Set of params....., {'n_estimators': 270, 'reg_alpha': 12.100299759473286, 'learning_rate': 0.012023357624391318, 'feature_fraction': 0.392407051375114, 'bagging_fraction': 0.8051067511713188, 'num_leaves': 498, 'min_child_weight': 8}\n"
     ]
    },
    {
     "name": "stdout",
     "output_type": "stream",
     "text": [
      "Iteration No: 35 ended. Search finished for the next optimal point.\n",
      "Time taken: 11.6723\n",
      "Function value obtained: -0.1015\n",
      "Current minimum: -0.1402\n",
      "Iteration No: 36 started. Searching for the next optimal point.\n",
      "[LightGBM] [Warning] feature_fraction is set=0.392407051375114, colsample_bytree=1.0 will be ignored. Current value: feature_fraction=0.392407051375114\n",
      "[LightGBM] [Warning] bagging_fraction is set=0.8051067511713188, subsample=1.0 will be ignored. Current value: bagging_fraction=0.8051067511713188\n",
      "[25]\tvalid_0's binary_logloss: 0.697928\tvalid_0's brier: 0.25239\n",
      "Early stopping, best iteration is:\n",
      "[33]\tvalid_0's binary_logloss: 0.693204\tvalid_0's brier: 0.250029\n",
      "[LightGBM] [Warning] feature_fraction is set=0.392407051375114, colsample_bytree=1.0 will be ignored. Current value: feature_fraction=0.392407051375114\n",
      "[LightGBM] [Warning] bagging_fraction is set=0.8051067511713188, subsample=1.0 will be ignored. Current value: bagging_fraction=0.8051067511713188\n",
      "[25]\tvalid_0's binary_logloss: 0.697323\tvalid_0's brier: 0.252087\n",
      "Early stopping, best iteration is:\n",
      "[33]\tvalid_0's binary_logloss: 0.693204\tvalid_0's brier: 0.250029\n",
      "[LightGBM] [Warning] feature_fraction is set=0.392407051375114, colsample_bytree=1.0 will be ignored. Current value: feature_fraction=0.392407051375114\n",
      "[LightGBM] [Warning] bagging_fraction is set=0.8051067511713188, subsample=1.0 will be ignored. Current value: bagging_fraction=0.8051067511713188\n",
      "[25]\tvalid_0's binary_logloss: 0.697944\tvalid_0's brier: 0.252398\n"
     ]
    },
    {
     "name": "stderr",
     "output_type": "stream",
     "text": [
      "2022-03-29 09:40:41 mean cv_value 0.12119933383671581 | std cv_value 0.004072486387207442 \n",
      "2022-03-29 09:40:41 ---------------------------------------------\n"
     ]
    },
    {
     "name": "stdout",
     "output_type": "stream",
     "text": [
      "Early stopping, best iteration is:\n",
      "[33]\tvalid_0's binary_logloss: 0.693204\tvalid_0's brier: 0.250029\n"
     ]
    },
    {
     "name": "stderr",
     "output_type": "stream",
     "text": [
      "2022-03-29 09:40:42 [TRAIN_MODEL] Training model\n",
      "2022-03-29 09:40:42 Set of params....., {'n_estimators': 482, 'reg_alpha': 0.0001, 'learning_rate': 1.0, 'feature_fraction': 0.5369433382821812, 'bagging_fraction': 0.9, 'num_leaves': 500, 'min_child_weight': 60}\n"
     ]
    },
    {
     "name": "stdout",
     "output_type": "stream",
     "text": [
      "Iteration No: 36 ended. Search finished for the next optimal point.\n",
      "Time taken: 15.9457\n",
      "Function value obtained: -0.1212\n",
      "Current minimum: -0.1402\n",
      "Iteration No: 37 started. Searching for the next optimal point.\n",
      "[LightGBM] [Warning] feature_fraction is set=0.5369433382821812, colsample_bytree=1.0 will be ignored. Current value: feature_fraction=0.5369433382821812\n",
      "[LightGBM] [Warning] bagging_fraction is set=0.9, subsample=1.0 will be ignored. Current value: bagging_fraction=0.9\n",
      "[25]\tvalid_0's binary_logloss: 0.829996\tvalid_0's brier: 0.30123\n",
      "Early stopping, best iteration is:\n",
      "[33]\tvalid_0's binary_logloss: 0.693204\tvalid_0's brier: 0.250029\n",
      "[LightGBM] [Warning] feature_fraction is set=0.5369433382821812, colsample_bytree=1.0 will be ignored. Current value: feature_fraction=0.5369433382821812\n",
      "[LightGBM] [Warning] bagging_fraction is set=0.9, subsample=1.0 will be ignored. Current value: bagging_fraction=0.9\n",
      "[25]\tvalid_0's binary_logloss: 0.828942\tvalid_0's brier: 0.300537\n",
      "Early stopping, best iteration is:\n",
      "[33]\tvalid_0's binary_logloss: 0.693204\tvalid_0's brier: 0.250029\n",
      "[LightGBM] [Warning] feature_fraction is set=0.5369433382821812, colsample_bytree=1.0 will be ignored. Current value: feature_fraction=0.5369433382821812\n",
      "[LightGBM] [Warning] bagging_fraction is set=0.9, subsample=1.0 will be ignored. Current value: bagging_fraction=0.9\n",
      "[25]\tvalid_0's binary_logloss: 0.833731\tvalid_0's brier: 0.302456\n",
      "Early stopping, best iteration is:\n",
      "[33]\tvalid_0's binary_logloss: 0.693204\tvalid_0's brier: 0.250029\n"
     ]
    },
    {
     "name": "stderr",
     "output_type": "stream",
     "text": [
      "2022-03-29 09:40:58 mean cv_value 0.16040241127888202 | std cv_value 0.01250728726022166 \n",
      "2022-03-29 09:40:58 ---------------------------------------------\n",
      "2022-03-29 09:40:59 [TRAIN_MODEL] Training model\n",
      "2022-03-29 09:40:59 Set of params....., {'n_estimators': 17, 'reg_alpha': 912.849933476437, 'learning_rate': 0.21420893860437717, 'feature_fraction': 0.8733558803880229, 'bagging_fraction': 0.8239710303671088, 'num_leaves': 12, 'min_child_weight': 54}\n"
     ]
    },
    {
     "name": "stdout",
     "output_type": "stream",
     "text": [
      "Iteration No: 37 ended. Search finished for the next optimal point.\n",
      "Time taken: 16.4089\n",
      "Function value obtained: -0.1604\n",
      "Current minimum: -0.1604\n",
      "Iteration No: 38 started. Searching for the next optimal point.\n",
      "[LightGBM] [Warning] feature_fraction is set=0.8733558803880229, colsample_bytree=1.0 will be ignored. Current value: feature_fraction=0.8733558803880229\n",
      "[LightGBM] [Warning] bagging_fraction is set=0.8239710303671088, subsample=1.0 will be ignored. Current value: bagging_fraction=0.8239710303671088\n",
      "Did not meet early stopping. Best iteration is:\n",
      "[33]\tvalid_0's binary_logloss: 0.693204\tvalid_0's brier: 0.250029\n",
      "[LightGBM] [Warning] feature_fraction is set=0.8733558803880229, colsample_bytree=1.0 will be ignored. Current value: feature_fraction=0.8733558803880229\n",
      "[LightGBM] [Warning] bagging_fraction is set=0.8239710303671088, subsample=1.0 will be ignored. Current value: bagging_fraction=0.8239710303671088\n",
      "Did not meet early stopping. Best iteration is:\n",
      "[33]\tvalid_0's binary_logloss: 0.693204\tvalid_0's brier: 0.250029\n",
      "[LightGBM] [Warning] feature_fraction is set=0.8733558803880229, colsample_bytree=1.0 will be ignored. Current value: feature_fraction=0.8733558803880229\n",
      "[LightGBM] [Warning] bagging_fraction is set=0.8239710303671088, subsample=1.0 will be ignored. Current value: bagging_fraction=0.8239710303671088\n"
     ]
    },
    {
     "name": "stderr",
     "output_type": "stream",
     "text": [
      "2022-03-29 09:41:03 mean cv_value 0.014531024637399158 | std cv_value 0.01934149267690502 \n",
      "2022-03-29 09:41:03 ---------------------------------------------\n"
     ]
    },
    {
     "name": "stdout",
     "output_type": "stream",
     "text": [
      "Did not meet early stopping. Best iteration is:\n",
      "[33]\tvalid_0's binary_logloss: 0.693204\tvalid_0's brier: 0.250029\n"
     ]
    },
    {
     "name": "stderr",
     "output_type": "stream",
     "text": [
      "2022-03-29 09:41:05 [TRAIN_MODEL] Training model\n",
      "2022-03-29 09:41:05 Set of params....., {'n_estimators': 5, 'reg_alpha': 0.0001, 'learning_rate': 1.0, 'feature_fraction': 0.4530256139548551, 'bagging_fraction': 0.9, 'num_leaves': 500, 'min_child_weight': 60}\n"
     ]
    },
    {
     "name": "stdout",
     "output_type": "stream",
     "text": [
      "Iteration No: 38 ended. Search finished for the next optimal point.\n",
      "Time taken: 5.9301\n",
      "Function value obtained: -0.0145\n",
      "Current minimum: -0.1604\n",
      "Iteration No: 39 started. Searching for the next optimal point.\n",
      "[LightGBM] [Warning] feature_fraction is set=0.4530256139548551, colsample_bytree=1.0 will be ignored. Current value: feature_fraction=0.4530256139548551\n",
      "[LightGBM] [Warning] bagging_fraction is set=0.9, subsample=1.0 will be ignored. Current value: bagging_fraction=0.9\n",
      "Did not meet early stopping. Best iteration is:\n",
      "[33]\tvalid_0's binary_logloss: 0.693204\tvalid_0's brier: 0.250029\n",
      "[LightGBM] [Warning] feature_fraction is set=0.4530256139548551, colsample_bytree=1.0 will be ignored. Current value: feature_fraction=0.4530256139548551\n",
      "[LightGBM] [Warning] bagging_fraction is set=0.9, subsample=1.0 will be ignored. Current value: bagging_fraction=0.9\n",
      "Did not meet early stopping. Best iteration is:\n",
      "[33]\tvalid_0's binary_logloss: 0.693204\tvalid_0's brier: 0.250029\n",
      "[LightGBM] [Warning] feature_fraction is set=0.4530256139548551, colsample_bytree=1.0 will be ignored. Current value: feature_fraction=0.4530256139548551\n",
      "[LightGBM] [Warning] bagging_fraction is set=0.9, subsample=1.0 will be ignored. Current value: bagging_fraction=0.9\n"
     ]
    },
    {
     "name": "stderr",
     "output_type": "stream",
     "text": [
      "2022-03-29 09:41:09 mean cv_value 0.0874367070867083 | std cv_value 0.007928620575284798 \n",
      "2022-03-29 09:41:09 ---------------------------------------------\n"
     ]
    },
    {
     "name": "stdout",
     "output_type": "stream",
     "text": [
      "Did not meet early stopping. Best iteration is:\n",
      "[33]\tvalid_0's binary_logloss: 0.693204\tvalid_0's brier: 0.250029\n"
     ]
    },
    {
     "name": "stderr",
     "output_type": "stream",
     "text": [
      "2022-03-29 09:41:10 [TRAIN_MODEL] Training model\n",
      "2022-03-29 09:41:10 Set of params....., {'n_estimators': 500, 'reg_alpha': 0.0001, 'learning_rate': 0.027709794009639927, 'feature_fraction': 0.6182686541144803, 'bagging_fraction': 0.1, 'num_leaves': 500, 'min_child_weight': 2}\n"
     ]
    },
    {
     "name": "stdout",
     "output_type": "stream",
     "text": [
      "Iteration No: 39 ended. Search finished for the next optimal point.\n",
      "Time taken: 5.1582\n",
      "Function value obtained: -0.0874\n",
      "Current minimum: -0.1604\n",
      "Iteration No: 40 started. Searching for the next optimal point.\n",
      "[LightGBM] [Warning] feature_fraction is set=0.6182686541144803, colsample_bytree=1.0 will be ignored. Current value: feature_fraction=0.6182686541144803\n",
      "[LightGBM] [Warning] bagging_fraction is set=0.1, subsample=1.0 will be ignored. Current value: bagging_fraction=0.1\n",
      "[25]\tvalid_0's binary_logloss: 0.697571\tvalid_0's brier: 0.252209\n",
      "Early stopping, best iteration is:\n",
      "[33]\tvalid_0's binary_logloss: 0.693204\tvalid_0's brier: 0.250029\n",
      "[LightGBM] [Warning] feature_fraction is set=0.6182686541144803, colsample_bytree=1.0 will be ignored. Current value: feature_fraction=0.6182686541144803\n",
      "[LightGBM] [Warning] bagging_fraction is set=0.1, subsample=1.0 will be ignored. Current value: bagging_fraction=0.1\n",
      "[25]\tvalid_0's binary_logloss: 0.697106\tvalid_0's brier: 0.251976\n",
      "Early stopping, best iteration is:\n",
      "[33]\tvalid_0's binary_logloss: 0.693204\tvalid_0's brier: 0.250029\n",
      "[LightGBM] [Warning] feature_fraction is set=0.6182686541144803, colsample_bytree=1.0 will be ignored. Current value: feature_fraction=0.6182686541144803\n",
      "[LightGBM] [Warning] bagging_fraction is set=0.1, subsample=1.0 will be ignored. Current value: bagging_fraction=0.1\n",
      "[25]\tvalid_0's binary_logloss: 0.697434\tvalid_0's brier: 0.25214\n",
      "Early stopping, best iteration is:\n",
      "[33]\tvalid_0's binary_logloss: 0.693204\tvalid_0's brier: 0.250029\n"
     ]
    },
    {
     "name": "stderr",
     "output_type": "stream",
     "text": [
      "2022-03-29 09:41:25 mean cv_value 0.13007077867408282 | std cv_value 0.007907861855503283 \n",
      "2022-03-29 09:41:25 ---------------------------------------------\n",
      "2022-03-29 09:41:26 [TRAIN_MODEL] Training model\n",
      "2022-03-29 09:41:26 Set of params....., {'n_estimators': 255, 'reg_alpha': 65.19182628174713, 'learning_rate': 0.6270806236755854, 'feature_fraction': 0.11558845334344393, 'bagging_fraction': 0.14223479994625798, 'num_leaves': 4, 'min_child_weight': 56}\n"
     ]
    },
    {
     "name": "stdout",
     "output_type": "stream",
     "text": [
      "Iteration No: 40 ended. Search finished for the next optimal point.\n",
      "Time taken: 16.2962\n",
      "Function value obtained: -0.1301\n",
      "Current minimum: -0.1604\n",
      "Iteration No: 41 started. Searching for the next optimal point.\n",
      "[LightGBM] [Warning] feature_fraction is set=0.11558845334344393, colsample_bytree=1.0 will be ignored. Current value: feature_fraction=0.11558845334344393\n",
      "[LightGBM] [Warning] bagging_fraction is set=0.14223479994625798, subsample=1.0 will be ignored. Current value: bagging_fraction=0.14223479994625798\n",
      "[25]\tvalid_0's binary_logloss: 0.693703\tvalid_0's brier: 0.250273\n",
      "Early stopping, best iteration is:\n",
      "[33]\tvalid_0's binary_logloss: 0.693204\tvalid_0's brier: 0.250029\n",
      "[LightGBM] [Warning] feature_fraction is set=0.11558845334344393, colsample_bytree=1.0 will be ignored. Current value: feature_fraction=0.11558845334344393\n",
      "[LightGBM] [Warning] bagging_fraction is set=0.14223479994625798, subsample=1.0 will be ignored. Current value: bagging_fraction=0.14223479994625798\n",
      "Early stopping, best iteration is:\n",
      "[6]\tvalid_0's binary_logloss: 0.692771\tvalid_0's brier: 0.249812\n",
      "[LightGBM] [Warning] feature_fraction is set=0.11558845334344393, colsample_bytree=1.0 will be ignored. Current value: feature_fraction=0.11558845334344393\n",
      "[LightGBM] [Warning] bagging_fraction is set=0.14223479994625798, subsample=1.0 will be ignored. Current value: bagging_fraction=0.14223479994625798\n"
     ]
    },
    {
     "name": "stderr",
     "output_type": "stream",
     "text": [
      "2022-03-29 09:41:30 mean cv_value 0.03091572796886678 | std cv_value 0.01621216660173597 \n",
      "2022-03-29 09:41:30 ---------------------------------------------\n"
     ]
    },
    {
     "name": "stdout",
     "output_type": "stream",
     "text": [
      "Early stopping, best iteration is:\n",
      "[6]\tvalid_0's binary_logloss: 0.692771\tvalid_0's brier: 0.249812\n"
     ]
    },
    {
     "name": "stderr",
     "output_type": "stream",
     "text": [
      "2022-03-29 09:41:32 [TRAIN_MODEL] Training model\n",
      "2022-03-29 09:41:32 Set of params....., {'n_estimators': 500, 'reg_alpha': 0.0001, 'learning_rate': 1.0, 'feature_fraction': 0.6104755893891799, 'bagging_fraction': 0.9, 'num_leaves': 500, 'min_child_weight': 2}\n"
     ]
    },
    {
     "name": "stdout",
     "output_type": "stream",
     "text": [
      "Iteration No: 41 ended. Search finished for the next optimal point.\n",
      "Time taken: 5.3950\n",
      "Function value obtained: -0.0309\n",
      "Current minimum: -0.1604\n",
      "Iteration No: 42 started. Searching for the next optimal point.\n",
      "[LightGBM] [Warning] feature_fraction is set=0.6104755893891799, colsample_bytree=1.0 will be ignored. Current value: feature_fraction=0.6104755893891799\n",
      "[LightGBM] [Warning] bagging_fraction is set=0.9, subsample=1.0 will be ignored. Current value: bagging_fraction=0.9\n",
      "Early stopping, best iteration is:\n",
      "[6]\tvalid_0's binary_logloss: 0.692771\tvalid_0's brier: 0.249812\n",
      "[LightGBM] [Warning] feature_fraction is set=0.6104755893891799, colsample_bytree=1.0 will be ignored. Current value: feature_fraction=0.6104755893891799\n",
      "[LightGBM] [Warning] bagging_fraction is set=0.9, subsample=1.0 will be ignored. Current value: bagging_fraction=0.9\n",
      "Early stopping, best iteration is:\n",
      "[6]\tvalid_0's binary_logloss: 0.692771\tvalid_0's brier: 0.249812\n",
      "[LightGBM] [Warning] feature_fraction is set=0.6104755893891799, colsample_bytree=1.0 will be ignored. Current value: feature_fraction=0.6104755893891799\n",
      "[LightGBM] [Warning] bagging_fraction is set=0.9, subsample=1.0 will be ignored. Current value: bagging_fraction=0.9\n"
     ]
    },
    {
     "name": "stderr",
     "output_type": "stream",
     "text": [
      "2022-03-29 09:41:39 mean cv_value 0.09490663841732246 | std cv_value 0.006284168749961159 \n",
      "2022-03-29 09:41:39 ---------------------------------------------\n"
     ]
    },
    {
     "name": "stdout",
     "output_type": "stream",
     "text": [
      "Early stopping, best iteration is:\n",
      "[6]\tvalid_0's binary_logloss: 0.692771\tvalid_0's brier: 0.249812\n"
     ]
    },
    {
     "name": "stderr",
     "output_type": "stream",
     "text": [
      "2022-03-29 09:41:40 [TRAIN_MODEL] Training model\n",
      "2022-03-29 09:41:40 Set of params....., {'n_estimators': 500, 'reg_alpha': 0.0001, 'learning_rate': 0.00034987401482172053, 'feature_fraction': 0.1, 'bagging_fraction': 0.492715795161332, 'num_leaves': 500, 'min_child_weight': 60}\n"
     ]
    },
    {
     "name": "stdout",
     "output_type": "stream",
     "text": [
      "Iteration No: 42 ended. Search finished for the next optimal point.\n",
      "Time taken: 8.3769\n",
      "Function value obtained: -0.0949\n",
      "Current minimum: -0.1604\n",
      "Iteration No: 43 started. Searching for the next optimal point.\n",
      "[LightGBM] [Warning] feature_fraction is set=0.1, colsample_bytree=1.0 will be ignored. Current value: feature_fraction=0.1\n",
      "[LightGBM] [Warning] bagging_fraction is set=0.492715795161332, subsample=1.0 will be ignored. Current value: bagging_fraction=0.492715795161332\n",
      "Early stopping, best iteration is:\n",
      "[6]\tvalid_0's binary_logloss: 0.692771\tvalid_0's brier: 0.249812\n",
      "[LightGBM] [Warning] feature_fraction is set=0.1, colsample_bytree=1.0 will be ignored. Current value: feature_fraction=0.1\n",
      "[LightGBM] [Warning] bagging_fraction is set=0.492715795161332, subsample=1.0 will be ignored. Current value: bagging_fraction=0.492715795161332\n",
      "Early stopping, best iteration is:\n",
      "[6]\tvalid_0's binary_logloss: 0.692771\tvalid_0's brier: 0.249812\n",
      "[LightGBM] [Warning] feature_fraction is set=0.1, colsample_bytree=1.0 will be ignored. Current value: feature_fraction=0.1\n",
      "[LightGBM] [Warning] bagging_fraction is set=0.492715795161332, subsample=1.0 will be ignored. Current value: bagging_fraction=0.492715795161332\n"
     ]
    },
    {
     "name": "stderr",
     "output_type": "stream",
     "text": [
      "2022-03-29 09:41:45 mean cv_value 0.06941837559341167 | std cv_value 0.0003090551378317835 \n",
      "2022-03-29 09:41:45 ---------------------------------------------\n"
     ]
    },
    {
     "name": "stdout",
     "output_type": "stream",
     "text": [
      "Early stopping, best iteration is:\n",
      "[6]\tvalid_0's binary_logloss: 0.692771\tvalid_0's brier: 0.249812\n"
     ]
    },
    {
     "name": "stderr",
     "output_type": "stream",
     "text": [
      "2022-03-29 09:41:47 [TRAIN_MODEL] Training model\n",
      "2022-03-29 09:41:47 Set of params....., {'n_estimators': 500, 'reg_alpha': 0.0001, 'learning_rate': 1.0, 'feature_fraction': 0.9, 'bagging_fraction': 0.3662271880615343, 'num_leaves': 500, 'min_child_weight': 60}\n"
     ]
    },
    {
     "name": "stdout",
     "output_type": "stream",
     "text": [
      "Iteration No: 43 ended. Search finished for the next optimal point.\n",
      "Time taken: 6.8862\n",
      "Function value obtained: -0.0694\n",
      "Current minimum: -0.1604\n",
      "Iteration No: 44 started. Searching for the next optimal point.\n",
      "[LightGBM] [Warning] feature_fraction is set=0.9, colsample_bytree=1.0 will be ignored. Current value: feature_fraction=0.9\n",
      "[LightGBM] [Warning] bagging_fraction is set=0.3662271880615343, subsample=1.0 will be ignored. Current value: bagging_fraction=0.3662271880615343\n",
      "Early stopping, best iteration is:\n",
      "[6]\tvalid_0's binary_logloss: 0.692771\tvalid_0's brier: 0.249812\n",
      "[LightGBM] [Warning] feature_fraction is set=0.9, colsample_bytree=1.0 will be ignored. Current value: feature_fraction=0.9\n",
      "[LightGBM] [Warning] bagging_fraction is set=0.3662271880615343, subsample=1.0 will be ignored. Current value: bagging_fraction=0.3662271880615343\n",
      "Early stopping, best iteration is:\n",
      "[6]\tvalid_0's binary_logloss: 0.692771\tvalid_0's brier: 0.249812\n",
      "[LightGBM] [Warning] feature_fraction is set=0.9, colsample_bytree=1.0 will be ignored. Current value: feature_fraction=0.9\n",
      "[LightGBM] [Warning] bagging_fraction is set=0.3662271880615343, subsample=1.0 will be ignored. Current value: bagging_fraction=0.3662271880615343\n"
     ]
    },
    {
     "name": "stderr",
     "output_type": "stream",
     "text": [
      "2022-03-29 09:41:54 mean cv_value 0.10614184534058602 | std cv_value 0.014828746982591219 \n",
      "2022-03-29 09:41:54 ---------------------------------------------\n"
     ]
    },
    {
     "name": "stdout",
     "output_type": "stream",
     "text": [
      "Early stopping, best iteration is:\n",
      "[6]\tvalid_0's binary_logloss: 0.692771\tvalid_0's brier: 0.249812\n"
     ]
    },
    {
     "name": "stderr",
     "output_type": "stream",
     "text": [
      "2022-03-29 09:41:55 [TRAIN_MODEL] Training model\n",
      "2022-03-29 09:41:55 Set of params....., {'n_estimators': 500, 'reg_alpha': 0.0001, 'learning_rate': 1.0, 'feature_fraction': 0.6837228848977748, 'bagging_fraction': 0.8083463995988506, 'num_leaves': 500, 'min_child_weight': 2}\n"
     ]
    },
    {
     "name": "stdout",
     "output_type": "stream",
     "text": [
      "Iteration No: 44 ended. Search finished for the next optimal point.\n",
      "Time taken: 8.2216\n",
      "Function value obtained: -0.1061\n",
      "Current minimum: -0.1604\n",
      "Iteration No: 45 started. Searching for the next optimal point.\n",
      "[LightGBM] [Warning] feature_fraction is set=0.6837228848977748, colsample_bytree=1.0 will be ignored. Current value: feature_fraction=0.6837228848977748\n",
      "[LightGBM] [Warning] bagging_fraction is set=0.8083463995988506, subsample=1.0 will be ignored. Current value: bagging_fraction=0.8083463995988506\n",
      "Early stopping, best iteration is:\n",
      "[6]\tvalid_0's binary_logloss: 0.692771\tvalid_0's brier: 0.249812\n",
      "[LightGBM] [Warning] feature_fraction is set=0.6837228848977748, colsample_bytree=1.0 will be ignored. Current value: feature_fraction=0.6837228848977748\n",
      "[LightGBM] [Warning] bagging_fraction is set=0.8083463995988506, subsample=1.0 will be ignored. Current value: bagging_fraction=0.8083463995988506\n",
      "Early stopping, best iteration is:\n",
      "[6]\tvalid_0's binary_logloss: 0.692771\tvalid_0's brier: 0.249812\n",
      "[LightGBM] [Warning] feature_fraction is set=0.6837228848977748, colsample_bytree=1.0 will be ignored. Current value: feature_fraction=0.6837228848977748\n",
      "[LightGBM] [Warning] bagging_fraction is set=0.8083463995988506, subsample=1.0 will be ignored. Current value: bagging_fraction=0.8083463995988506\n"
     ]
    },
    {
     "name": "stderr",
     "output_type": "stream",
     "text": [
      "2022-03-29 09:42:02 mean cv_value 0.1024625433688907 | std cv_value 0.012881994137087563 \n",
      "2022-03-29 09:42:02 ---------------------------------------------\n"
     ]
    },
    {
     "name": "stdout",
     "output_type": "stream",
     "text": [
      "Early stopping, best iteration is:\n",
      "[6]\tvalid_0's binary_logloss: 0.692771\tvalid_0's brier: 0.249812\n"
     ]
    },
    {
     "name": "stderr",
     "output_type": "stream",
     "text": [
      "2022-03-29 09:42:04 [TRAIN_MODEL] Training model\n",
      "2022-03-29 09:42:04 Set of params....., {'n_estimators': 5, 'reg_alpha': 0.0001, 'learning_rate': 0.08052461933584837, 'feature_fraction': 0.9, 'bagging_fraction': 0.9, 'num_leaves': 500, 'min_child_weight': 2}\n"
     ]
    },
    {
     "name": "stdout",
     "output_type": "stream",
     "text": [
      "Iteration No: 45 ended. Search finished for the next optimal point.\n",
      "Time taken: 8.6316\n",
      "Function value obtained: -0.1025\n",
      "Current minimum: -0.1604\n",
      "Iteration No: 46 started. Searching for the next optimal point.\n",
      "[LightGBM] [Warning] feature_fraction is set=0.9, colsample_bytree=1.0 will be ignored. Current value: feature_fraction=0.9\n",
      "[LightGBM] [Warning] bagging_fraction is set=0.9, subsample=1.0 will be ignored. Current value: bagging_fraction=0.9\n",
      "Did not meet early stopping. Best iteration is:\n",
      "[6]\tvalid_0's binary_logloss: 0.692771\tvalid_0's brier: 0.249812\n",
      "[LightGBM] [Warning] feature_fraction is set=0.9, colsample_bytree=1.0 will be ignored. Current value: feature_fraction=0.9\n",
      "[LightGBM] [Warning] bagging_fraction is set=0.9, subsample=1.0 will be ignored. Current value: bagging_fraction=0.9\n",
      "Did not meet early stopping. Best iteration is:\n",
      "[6]\tvalid_0's binary_logloss: 0.692771\tvalid_0's brier: 0.249812\n",
      "[LightGBM] [Warning] feature_fraction is set=0.9, colsample_bytree=1.0 will be ignored. Current value: feature_fraction=0.9\n",
      "[LightGBM] [Warning] bagging_fraction is set=0.9, subsample=1.0 will be ignored. Current value: bagging_fraction=0.9\n"
     ]
    },
    {
     "name": "stderr",
     "output_type": "stream",
     "text": [
      "2022-03-29 09:42:08 mean cv_value 0.09495425458415667 | std cv_value 0.002780984228345736 \n",
      "2022-03-29 09:42:08 ---------------------------------------------\n"
     ]
    },
    {
     "name": "stdout",
     "output_type": "stream",
     "text": [
      "Did not meet early stopping. Best iteration is:\n",
      "[6]\tvalid_0's binary_logloss: 0.692771\tvalid_0's brier: 0.249812\n"
     ]
    },
    {
     "name": "stderr",
     "output_type": "stream",
     "text": [
      "2022-03-29 09:42:09 [TRAIN_MODEL] Training model\n",
      "2022-03-29 09:42:09 Set of params....., {'n_estimators': 417, 'reg_alpha': 396.4902323062694, 'learning_rate': 0.41206607680121604, 'feature_fraction': 0.895410598469541, 'bagging_fraction': 0.24467538291061017, 'num_leaves': 495, 'min_child_weight': 4}\n"
     ]
    },
    {
     "name": "stdout",
     "output_type": "stream",
     "text": [
      "Iteration No: 46 ended. Search finished for the next optimal point.\n",
      "Time taken: 5.0531\n",
      "Function value obtained: -0.0950\n",
      "Current minimum: -0.1604\n",
      "Iteration No: 47 started. Searching for the next optimal point.\n",
      "[LightGBM] [Warning] feature_fraction is set=0.895410598469541, colsample_bytree=1.0 will be ignored. Current value: feature_fraction=0.895410598469541\n",
      "[LightGBM] [Warning] bagging_fraction is set=0.24467538291061017, subsample=1.0 will be ignored. Current value: bagging_fraction=0.24467538291061017\n",
      "Early stopping, best iteration is:\n",
      "[6]\tvalid_0's binary_logloss: 0.692771\tvalid_0's brier: 0.249812\n",
      "[LightGBM] [Warning] feature_fraction is set=0.895410598469541, colsample_bytree=1.0 will be ignored. Current value: feature_fraction=0.895410598469541\n",
      "[LightGBM] [Warning] bagging_fraction is set=0.24467538291061017, subsample=1.0 will be ignored. Current value: bagging_fraction=0.24467538291061017\n",
      "Early stopping, best iteration is:\n",
      "[6]\tvalid_0's binary_logloss: 0.692771\tvalid_0's brier: 0.249812\n",
      "[LightGBM] [Warning] feature_fraction is set=0.895410598469541, colsample_bytree=1.0 will be ignored. Current value: feature_fraction=0.895410598469541\n",
      "[LightGBM] [Warning] bagging_fraction is set=0.24467538291061017, subsample=1.0 will be ignored. Current value: bagging_fraction=0.24467538291061017\n"
     ]
    },
    {
     "name": "stderr",
     "output_type": "stream",
     "text": [
      "2022-03-29 09:42:12 mean cv_value 0.014843063278970137 | std cv_value 0.008514281319383095 \n",
      "2022-03-29 09:42:12 ---------------------------------------------\n"
     ]
    },
    {
     "name": "stdout",
     "output_type": "stream",
     "text": [
      "Early stopping, best iteration is:\n",
      "[6]\tvalid_0's binary_logloss: 0.692771\tvalid_0's brier: 0.249812\n"
     ]
    },
    {
     "name": "stderr",
     "output_type": "stream",
     "text": [
      "/usr/local/lib/python3.7/site-packages/skopt/optimizer/optimizer.py:449: UserWarning: The objective has been evaluated at this point before.\n",
      "  warnings.warn(\"The objective has been evaluated \"\n",
      "2022-03-29 09:42:13 [TRAIN_MODEL] Training model\n",
      "2022-03-29 09:42:13 Set of params....., {'n_estimators': 500, 'reg_alpha': 0.0001, 'learning_rate': 1.0, 'feature_fraction': 0.9, 'bagging_fraction': 0.9, 'num_leaves': 500, 'min_child_weight': 2}\n"
     ]
    },
    {
     "name": "stdout",
     "output_type": "stream",
     "text": [
      "Iteration No: 47 ended. Search finished for the next optimal point.\n",
      "Time taken: 4.5480\n",
      "Function value obtained: -0.0148\n",
      "Current minimum: -0.1604\n",
      "Iteration No: 48 started. Searching for the next optimal point.\n",
      "[LightGBM] [Warning] feature_fraction is set=0.9, colsample_bytree=1.0 will be ignored. Current value: feature_fraction=0.9\n",
      "[LightGBM] [Warning] bagging_fraction is set=0.9, subsample=1.0 will be ignored. Current value: bagging_fraction=0.9\n",
      "Early stopping, best iteration is:\n",
      "[6]\tvalid_0's binary_logloss: 0.692771\tvalid_0's brier: 0.249812\n",
      "[LightGBM] [Warning] feature_fraction is set=0.9, colsample_bytree=1.0 will be ignored. Current value: feature_fraction=0.9\n",
      "[LightGBM] [Warning] bagging_fraction is set=0.9, subsample=1.0 will be ignored. Current value: bagging_fraction=0.9\n",
      "Early stopping, best iteration is:\n",
      "[6]\tvalid_0's binary_logloss: 0.692771\tvalid_0's brier: 0.249812\n",
      "[LightGBM] [Warning] feature_fraction is set=0.9, colsample_bytree=1.0 will be ignored. Current value: feature_fraction=0.9\n",
      "[LightGBM] [Warning] bagging_fraction is set=0.9, subsample=1.0 will be ignored. Current value: bagging_fraction=0.9\n"
     ]
    },
    {
     "name": "stderr",
     "output_type": "stream",
     "text": [
      "2022-03-29 09:42:20 mean cv_value 0.10545629431841204 | std cv_value 0.0143454322842606 \n",
      "2022-03-29 09:42:20 ---------------------------------------------\n"
     ]
    },
    {
     "name": "stdout",
     "output_type": "stream",
     "text": [
      "Early stopping, best iteration is:\n",
      "[6]\tvalid_0's binary_logloss: 0.692771\tvalid_0's brier: 0.249812\n"
     ]
    },
    {
     "name": "stderr",
     "output_type": "stream",
     "text": [
      "2022-03-29 09:42:22 [TRAIN_MODEL] Training model\n",
      "2022-03-29 09:42:22 Set of params....., {'n_estimators': 132, 'reg_alpha': 990.9835487938612, 'learning_rate': 0.5173577924524017, 'feature_fraction': 0.1608276681546406, 'bagging_fraction': 0.27369090625205805, 'num_leaves': 459, 'min_child_weight': 24}\n"
     ]
    },
    {
     "name": "stdout",
     "output_type": "stream",
     "text": [
      "Iteration No: 48 ended. Search finished for the next optimal point.\n",
      "Time taken: 8.3200\n",
      "Function value obtained: -0.1055\n",
      "Current minimum: -0.1604\n",
      "Iteration No: 49 started. Searching for the next optimal point.\n",
      "[LightGBM] [Warning] feature_fraction is set=0.1608276681546406, colsample_bytree=1.0 will be ignored. Current value: feature_fraction=0.1608276681546406\n",
      "[LightGBM] [Warning] bagging_fraction is set=0.27369090625205805, subsample=1.0 will be ignored. Current value: bagging_fraction=0.27369090625205805\n",
      "Early stopping, best iteration is:\n",
      "[6]\tvalid_0's binary_logloss: 0.692771\tvalid_0's brier: 0.249812\n",
      "[LightGBM] [Warning] feature_fraction is set=0.1608276681546406, colsample_bytree=1.0 will be ignored. Current value: feature_fraction=0.1608276681546406\n",
      "[LightGBM] [Warning] bagging_fraction is set=0.27369090625205805, subsample=1.0 will be ignored. Current value: bagging_fraction=0.27369090625205805\n",
      "Early stopping, best iteration is:\n",
      "[6]\tvalid_0's binary_logloss: 0.692771\tvalid_0's brier: 0.249812\n",
      "[LightGBM] [Warning] feature_fraction is set=0.1608276681546406, colsample_bytree=1.0 will be ignored. Current value: feature_fraction=0.1608276681546406\n",
      "[LightGBM] [Warning] bagging_fraction is set=0.27369090625205805, subsample=1.0 will be ignored. Current value: bagging_fraction=0.27369090625205805\n"
     ]
    },
    {
     "name": "stderr",
     "output_type": "stream",
     "text": [
      "2022-03-29 09:42:25 mean cv_value 0.021686928067495222 | std cv_value 0.024954518072548556 \n",
      "2022-03-29 09:42:25 ---------------------------------------------\n"
     ]
    },
    {
     "name": "stdout",
     "output_type": "stream",
     "text": [
      "Early stopping, best iteration is:\n",
      "[6]\tvalid_0's binary_logloss: 0.692771\tvalid_0's brier: 0.249812\n"
     ]
    },
    {
     "name": "stderr",
     "output_type": "stream",
     "text": [
      "2022-03-29 09:42:26 [TRAIN_MODEL] Training model\n",
      "2022-03-29 09:42:26 Set of params....., {'n_estimators': 315, 'reg_alpha': 511.41051338018184, 'learning_rate': 0.5691396550086076, 'feature_fraction': 0.10954874693841142, 'bagging_fraction': 0.8210419924930666, 'num_leaves': 491, 'min_child_weight': 51}\n"
     ]
    },
    {
     "name": "stdout",
     "output_type": "stream",
     "text": [
      "Iteration No: 49 ended. Search finished for the next optimal point.\n",
      "Time taken: 4.7679\n",
      "Function value obtained: -0.0217\n",
      "Current minimum: -0.1604\n",
      "Iteration No: 50 started. Searching for the next optimal point.\n",
      "[LightGBM] [Warning] feature_fraction is set=0.10954874693841142, colsample_bytree=1.0 will be ignored. Current value: feature_fraction=0.10954874693841142\n",
      "[LightGBM] [Warning] bagging_fraction is set=0.8210419924930666, subsample=1.0 will be ignored. Current value: bagging_fraction=0.8210419924930666\n",
      "Early stopping, best iteration is:\n",
      "[6]\tvalid_0's binary_logloss: 0.692771\tvalid_0's brier: 0.249812\n",
      "[LightGBM] [Warning] feature_fraction is set=0.10954874693841142, colsample_bytree=1.0 will be ignored. Current value: feature_fraction=0.10954874693841142\n",
      "[LightGBM] [Warning] bagging_fraction is set=0.8210419924930666, subsample=1.0 will be ignored. Current value: bagging_fraction=0.8210419924930666\n",
      "Early stopping, best iteration is:\n",
      "[6]\tvalid_0's binary_logloss: 0.692771\tvalid_0's brier: 0.249812\n",
      "[LightGBM] [Warning] feature_fraction is set=0.10954874693841142, colsample_bytree=1.0 will be ignored. Current value: feature_fraction=0.10954874693841142\n",
      "[LightGBM] [Warning] bagging_fraction is set=0.8210419924930666, subsample=1.0 will be ignored. Current value: bagging_fraction=0.8210419924930666\n"
     ]
    },
    {
     "name": "stderr",
     "output_type": "stream",
     "text": [
      "2022-03-29 09:42:30 mean cv_value 0.019949036536817722 | std cv_value 0.019111854694327447 \n",
      "2022-03-29 09:42:30 ---------------------------------------------\n"
     ]
    },
    {
     "name": "stdout",
     "output_type": "stream",
     "text": [
      "Early stopping, best iteration is:\n",
      "[6]\tvalid_0's binary_logloss: 0.692771\tvalid_0's brier: 0.249812\n"
     ]
    },
    {
     "name": "stderr",
     "output_type": "stream",
     "text": [
      "2022-03-29 09:42:31 [TRAIN_MODEL] Training model\n",
      "2022-03-29 09:42:31 Set of params....., {'n_estimators': 500, 'reg_alpha': 0.0001, 'learning_rate': 1.0, 'feature_fraction': 0.1, 'bagging_fraction': 0.9, 'num_leaves': 500, 'min_child_weight': 60}\n"
     ]
    },
    {
     "name": "stdout",
     "output_type": "stream",
     "text": [
      "Iteration No: 50 ended. Search finished for the next optimal point.\n",
      "Time taken: 5.0094\n",
      "Function value obtained: -0.0199\n",
      "Current minimum: -0.1604\n",
      "Iteration No: 51 started. Searching for the next optimal point.\n",
      "[LightGBM] [Warning] feature_fraction is set=0.1, colsample_bytree=1.0 will be ignored. Current value: feature_fraction=0.1\n",
      "[LightGBM] [Warning] bagging_fraction is set=0.9, subsample=1.0 will be ignored. Current value: bagging_fraction=0.9\n",
      "Early stopping, best iteration is:\n",
      "[6]\tvalid_0's binary_logloss: 0.692771\tvalid_0's brier: 0.249812\n",
      "[LightGBM] [Warning] feature_fraction is set=0.1, colsample_bytree=1.0 will be ignored. Current value: feature_fraction=0.1\n",
      "[LightGBM] [Warning] bagging_fraction is set=0.9, subsample=1.0 will be ignored. Current value: bagging_fraction=0.9\n",
      "Early stopping, best iteration is:\n",
      "[6]\tvalid_0's binary_logloss: 0.692771\tvalid_0's brier: 0.249812\n",
      "[LightGBM] [Warning] feature_fraction is set=0.1, colsample_bytree=1.0 will be ignored. Current value: feature_fraction=0.1\n",
      "[LightGBM] [Warning] bagging_fraction is set=0.9, subsample=1.0 will be ignored. Current value: bagging_fraction=0.9\n"
     ]
    },
    {
     "name": "stderr",
     "output_type": "stream",
     "text": [
      "2022-03-29 09:42:37 mean cv_value 0.06457120478936253 | std cv_value 0.000649340060935085 \n",
      "2022-03-29 09:42:37 ---------------------------------------------\n"
     ]
    },
    {
     "name": "stdout",
     "output_type": "stream",
     "text": [
      "Early stopping, best iteration is:\n",
      "[6]\tvalid_0's binary_logloss: 0.692771\tvalid_0's brier: 0.249812\n"
     ]
    },
    {
     "name": "stderr",
     "output_type": "stream",
     "text": [
      "2022-03-29 09:42:39 [TRAIN_MODEL] Training model\n",
      "2022-03-29 09:42:39 Set of params....., {'n_estimators': 425, 'reg_alpha': 992.888635417768, 'learning_rate': 0.0004092900731514313, 'feature_fraction': 0.8934549756976208, 'bagging_fraction': 0.749886529769134, 'num_leaves': 473, 'min_child_weight': 12}\n"
     ]
    },
    {
     "name": "stdout",
     "output_type": "stream",
     "text": [
      "Iteration No: 51 ended. Search finished for the next optimal point.\n",
      "Time taken: 7.4196\n",
      "Function value obtained: -0.0646\n",
      "Current minimum: -0.1604\n",
      "Iteration No: 52 started. Searching for the next optimal point.\n",
      "[LightGBM] [Warning] feature_fraction is set=0.8934549756976208, colsample_bytree=1.0 will be ignored. Current value: feature_fraction=0.8934549756976208\n",
      "[LightGBM] [Warning] bagging_fraction is set=0.749886529769134, subsample=1.0 will be ignored. Current value: bagging_fraction=0.749886529769134\n",
      "Early stopping, best iteration is:\n",
      "[6]\tvalid_0's binary_logloss: 0.692771\tvalid_0's brier: 0.249812\n",
      "[LightGBM] [Warning] feature_fraction is set=0.8934549756976208, colsample_bytree=1.0 will be ignored. Current value: feature_fraction=0.8934549756976208\n",
      "[LightGBM] [Warning] bagging_fraction is set=0.749886529769134, subsample=1.0 will be ignored. Current value: bagging_fraction=0.749886529769134\n",
      "Early stopping, best iteration is:\n",
      "[6]\tvalid_0's binary_logloss: 0.692771\tvalid_0's brier: 0.249812\n",
      "[LightGBM] [Warning] feature_fraction is set=0.8934549756976208, colsample_bytree=1.0 will be ignored. Current value: feature_fraction=0.8934549756976208\n",
      "[LightGBM] [Warning] bagging_fraction is set=0.749886529769134, subsample=1.0 will be ignored. Current value: bagging_fraction=0.749886529769134\n"
     ]
    },
    {
     "name": "stderr",
     "output_type": "stream",
     "text": [
      "2022-03-29 09:42:42 mean cv_value 0.016826012869664415 | std cv_value 0.01611677152993602 \n",
      "2022-03-29 09:42:42 ---------------------------------------------\n"
     ]
    },
    {
     "name": "stdout",
     "output_type": "stream",
     "text": [
      "Early stopping, best iteration is:\n",
      "[6]\tvalid_0's binary_logloss: 0.692771\tvalid_0's brier: 0.249812\n"
     ]
    },
    {
     "name": "stderr",
     "output_type": "stream",
     "text": [
      "2022-03-29 09:42:44 [TRAIN_MODEL] Training model\n",
      "2022-03-29 09:42:44 Set of params....., {'n_estimators': 500, 'reg_alpha': 0.0001, 'learning_rate': 1.0, 'feature_fraction': 0.6840180584507188, 'bagging_fraction': 0.9, 'num_leaves': 500, 'min_child_weight': 60}\n"
     ]
    },
    {
     "name": "stdout",
     "output_type": "stream",
     "text": [
      "Iteration No: 52 ended. Search finished for the next optimal point.\n",
      "Time taken: 5.1005\n",
      "Function value obtained: -0.0168\n",
      "Current minimum: -0.1604\n",
      "Iteration No: 53 started. Searching for the next optimal point.\n",
      "[LightGBM] [Warning] feature_fraction is set=0.6840180584507188, colsample_bytree=1.0 will be ignored. Current value: feature_fraction=0.6840180584507188\n",
      "[LightGBM] [Warning] bagging_fraction is set=0.9, subsample=1.0 will be ignored. Current value: bagging_fraction=0.9\n",
      "Early stopping, best iteration is:\n",
      "[6]\tvalid_0's binary_logloss: 0.692771\tvalid_0's brier: 0.249812\n",
      "[LightGBM] [Warning] feature_fraction is set=0.6840180584507188, colsample_bytree=1.0 will be ignored. Current value: feature_fraction=0.6840180584507188\n",
      "[LightGBM] [Warning] bagging_fraction is set=0.9, subsample=1.0 will be ignored. Current value: bagging_fraction=0.9\n",
      "Early stopping, best iteration is:\n",
      "[6]\tvalid_0's binary_logloss: 0.692771\tvalid_0's brier: 0.249812\n",
      "[LightGBM] [Warning] feature_fraction is set=0.6840180584507188, colsample_bytree=1.0 will be ignored. Current value: feature_fraction=0.6840180584507188\n",
      "[LightGBM] [Warning] bagging_fraction is set=0.9, subsample=1.0 will be ignored. Current value: bagging_fraction=0.9\n"
     ]
    },
    {
     "name": "stderr",
     "output_type": "stream",
     "text": [
      "2022-03-29 09:42:51 mean cv_value 0.1033303616789125 | std cv_value 0.00506521307030764 \n",
      "2022-03-29 09:42:51 ---------------------------------------------\n"
     ]
    },
    {
     "name": "stdout",
     "output_type": "stream",
     "text": [
      "Early stopping, best iteration is:\n",
      "[6]\tvalid_0's binary_logloss: 0.692771\tvalid_0's brier: 0.249812\n"
     ]
    },
    {
     "name": "stderr",
     "output_type": "stream",
     "text": [
      "2022-03-29 09:42:53 [TRAIN_MODEL] Training model\n",
      "2022-03-29 09:42:53 Set of params....., {'n_estimators': 435, 'reg_alpha': 0.0001, 'learning_rate': 1.0, 'feature_fraction': 0.7154696223655511, 'bagging_fraction': 0.9, 'num_leaves': 500, 'min_child_weight': 2}\n"
     ]
    },
    {
     "name": "stdout",
     "output_type": "stream",
     "text": [
      "Iteration No: 53 ended. Search finished for the next optimal point.\n",
      "Time taken: 8.7221\n",
      "Function value obtained: -0.1033\n",
      "Current minimum: -0.1604\n",
      "Iteration No: 54 started. Searching for the next optimal point.\n",
      "[LightGBM] [Warning] feature_fraction is set=0.7154696223655511, colsample_bytree=1.0 will be ignored. Current value: feature_fraction=0.7154696223655511\n",
      "[LightGBM] [Warning] bagging_fraction is set=0.9, subsample=1.0 will be ignored. Current value: bagging_fraction=0.9\n",
      "Early stopping, best iteration is:\n",
      "[6]\tvalid_0's binary_logloss: 0.692771\tvalid_0's brier: 0.249812\n",
      "[LightGBM] [Warning] feature_fraction is set=0.7154696223655511, colsample_bytree=1.0 will be ignored. Current value: feature_fraction=0.7154696223655511\n",
      "[LightGBM] [Warning] bagging_fraction is set=0.9, subsample=1.0 will be ignored. Current value: bagging_fraction=0.9\n",
      "Early stopping, best iteration is:\n",
      "[6]\tvalid_0's binary_logloss: 0.692771\tvalid_0's brier: 0.249812\n",
      "[LightGBM] [Warning] feature_fraction is set=0.7154696223655511, colsample_bytree=1.0 will be ignored. Current value: feature_fraction=0.7154696223655511\n",
      "[LightGBM] [Warning] bagging_fraction is set=0.9, subsample=1.0 will be ignored. Current value: bagging_fraction=0.9\n"
     ]
    },
    {
     "name": "stderr",
     "output_type": "stream",
     "text": [
      "2022-03-29 09:42:59 mean cv_value 0.09885382280704125 | std cv_value 0.006104374928472169 \n",
      "2022-03-29 09:42:59 ---------------------------------------------\n"
     ]
    },
    {
     "name": "stdout",
     "output_type": "stream",
     "text": [
      "Early stopping, best iteration is:\n",
      "[6]\tvalid_0's binary_logloss: 0.692771\tvalid_0's brier: 0.249812\n"
     ]
    },
    {
     "name": "stderr",
     "output_type": "stream",
     "text": [
      "2022-03-29 09:43:01 [TRAIN_MODEL] Training model\n",
      "2022-03-29 09:43:01 Set of params....., {'n_estimators': 135, 'reg_alpha': 0.0001, 'learning_rate': 1.0, 'feature_fraction': 0.7557598945851511, 'bagging_fraction': 0.9, 'num_leaves': 500, 'min_child_weight': 26}\n"
     ]
    },
    {
     "name": "stdout",
     "output_type": "stream",
     "text": [
      "Iteration No: 54 ended. Search finished for the next optimal point.\n",
      "Time taken: 8.2733\n",
      "Function value obtained: -0.0989\n",
      "Current minimum: -0.1604\n",
      "Iteration No: 55 started. Searching for the next optimal point.\n",
      "[LightGBM] [Warning] feature_fraction is set=0.7557598945851511, colsample_bytree=1.0 will be ignored. Current value: feature_fraction=0.7557598945851511\n",
      "[LightGBM] [Warning] bagging_fraction is set=0.9, subsample=1.0 will be ignored. Current value: bagging_fraction=0.9\n",
      "Early stopping, best iteration is:\n",
      "[6]\tvalid_0's binary_logloss: 0.692771\tvalid_0's brier: 0.249812\n",
      "[LightGBM] [Warning] feature_fraction is set=0.7557598945851511, colsample_bytree=1.0 will be ignored. Current value: feature_fraction=0.7557598945851511\n",
      "[LightGBM] [Warning] bagging_fraction is set=0.9, subsample=1.0 will be ignored. Current value: bagging_fraction=0.9\n",
      "Early stopping, best iteration is:\n",
      "[6]\tvalid_0's binary_logloss: 0.692771\tvalid_0's brier: 0.249812\n",
      "[LightGBM] [Warning] feature_fraction is set=0.7557598945851511, colsample_bytree=1.0 will be ignored. Current value: feature_fraction=0.7557598945851511\n",
      "[LightGBM] [Warning] bagging_fraction is set=0.9, subsample=1.0 will be ignored. Current value: bagging_fraction=0.9\n"
     ]
    },
    {
     "name": "stderr",
     "output_type": "stream",
     "text": [
      "2022-03-29 09:43:09 mean cv_value 0.09567693808274334 | std cv_value 0.006631810914628542 \n",
      "2022-03-29 09:43:09 ---------------------------------------------\n"
     ]
    },
    {
     "name": "stdout",
     "output_type": "stream",
     "text": [
      "Early stopping, best iteration is:\n",
      "[6]\tvalid_0's binary_logloss: 0.692771\tvalid_0's brier: 0.249812\n"
     ]
    },
    {
     "name": "stderr",
     "output_type": "stream",
     "text": [
      "2022-03-29 09:43:10 [TRAIN_MODEL] Training model\n",
      "2022-03-29 09:43:10 Set of params....., {'n_estimators': 500, 'reg_alpha': 0.0001, 'learning_rate': 1.0, 'feature_fraction': 0.9, 'bagging_fraction': 0.1, 'num_leaves': 500, 'min_child_weight': 60}\n"
     ]
    },
    {
     "name": "stdout",
     "output_type": "stream",
     "text": [
      "Iteration No: 55 ended. Search finished for the next optimal point.\n",
      "Time taken: 8.9638\n",
      "Function value obtained: -0.0957\n",
      "Current minimum: -0.1604\n",
      "Iteration No: 56 started. Searching for the next optimal point.\n",
      "[LightGBM] [Warning] feature_fraction is set=0.9, colsample_bytree=1.0 will be ignored. Current value: feature_fraction=0.9\n",
      "[LightGBM] [Warning] bagging_fraction is set=0.1, subsample=1.0 will be ignored. Current value: bagging_fraction=0.1\n",
      "Early stopping, best iteration is:\n",
      "[6]\tvalid_0's binary_logloss: 0.692771\tvalid_0's brier: 0.249812\n",
      "[LightGBM] [Warning] feature_fraction is set=0.9, colsample_bytree=1.0 will be ignored. Current value: feature_fraction=0.9\n",
      "[LightGBM] [Warning] bagging_fraction is set=0.1, subsample=1.0 will be ignored. Current value: bagging_fraction=0.1\n",
      "Early stopping, best iteration is:\n",
      "[6]\tvalid_0's binary_logloss: 0.692771\tvalid_0's brier: 0.249812\n",
      "[LightGBM] [Warning] feature_fraction is set=0.9, colsample_bytree=1.0 will be ignored. Current value: feature_fraction=0.9\n",
      "[LightGBM] [Warning] bagging_fraction is set=0.1, subsample=1.0 will be ignored. Current value: bagging_fraction=0.1\n",
      "Early stopping, best iteration is:\n",
      "[6]\tvalid_0's binary_logloss: 0.692771\tvalid_0's brier: 0.249812\n"
     ]
    },
    {
     "name": "stderr",
     "output_type": "stream",
     "text": [
      "2022-03-29 09:43:17 mean cv_value 0.10614184534058602 | std cv_value 0.014828746982591219 \n",
      "2022-03-29 09:43:17 ---------------------------------------------\n",
      "2022-03-29 09:43:19 [TRAIN_MODEL] Training model\n",
      "2022-03-29 09:43:19 Set of params....., {'n_estimators': 500, 'reg_alpha': 0.0001, 'learning_rate': 1.0, 'feature_fraction': 0.689048527937693, 'bagging_fraction': 0.9, 'num_leaves': 500, 'min_child_weight': 2}\n"
     ]
    },
    {
     "name": "stdout",
     "output_type": "stream",
     "text": [
      "Iteration No: 56 ended. Search finished for the next optimal point.\n",
      "Time taken: 8.7134\n",
      "Function value obtained: -0.1061\n",
      "Current minimum: -0.1604\n",
      "Iteration No: 57 started. Searching for the next optimal point.\n",
      "[LightGBM] [Warning] feature_fraction is set=0.689048527937693, colsample_bytree=1.0 will be ignored. Current value: feature_fraction=0.689048527937693\n",
      "[LightGBM] [Warning] bagging_fraction is set=0.9, subsample=1.0 will be ignored. Current value: bagging_fraction=0.9\n",
      "Early stopping, best iteration is:\n",
      "[6]\tvalid_0's binary_logloss: 0.692771\tvalid_0's brier: 0.249812\n",
      "[LightGBM] [Warning] feature_fraction is set=0.689048527937693, colsample_bytree=1.0 will be ignored. Current value: feature_fraction=0.689048527937693\n",
      "[LightGBM] [Warning] bagging_fraction is set=0.9, subsample=1.0 will be ignored. Current value: bagging_fraction=0.9\n",
      "Early stopping, best iteration is:\n",
      "[6]\tvalid_0's binary_logloss: 0.692771\tvalid_0's brier: 0.249812\n",
      "[LightGBM] [Warning] feature_fraction is set=0.689048527937693, colsample_bytree=1.0 will be ignored. Current value: feature_fraction=0.689048527937693\n",
      "[LightGBM] [Warning] bagging_fraction is set=0.9, subsample=1.0 will be ignored. Current value: bagging_fraction=0.9\n"
     ]
    },
    {
     "name": "stderr",
     "output_type": "stream",
     "text": [
      "2022-03-29 09:43:25 mean cv_value 0.09885382280704125 | std cv_value 0.006104374928472169 \n",
      "2022-03-29 09:43:25 ---------------------------------------------\n"
     ]
    },
    {
     "name": "stdout",
     "output_type": "stream",
     "text": [
      "Early stopping, best iteration is:\n",
      "[6]\tvalid_0's binary_logloss: 0.692771\tvalid_0's brier: 0.249812\n"
     ]
    },
    {
     "name": "stderr",
     "output_type": "stream",
     "text": [
      "2022-03-29 09:43:27 [TRAIN_MODEL] Training model\n",
      "2022-03-29 09:43:27 Set of params....., {'n_estimators': 495, 'reg_alpha': 672.8259170655334, 'learning_rate': 0.00010550339270434579, 'feature_fraction': 0.11276415792344353, 'bagging_fraction': 0.44514791412614263, 'num_leaves': 32, 'min_child_weight': 36}\n"
     ]
    },
    {
     "name": "stdout",
     "output_type": "stream",
     "text": [
      "Iteration No: 57 ended. Search finished for the next optimal point.\n",
      "Time taken: 8.0155\n",
      "Function value obtained: -0.0989\n",
      "Current minimum: -0.1604\n",
      "Iteration No: 58 started. Searching for the next optimal point.\n",
      "[LightGBM] [Warning] feature_fraction is set=0.11276415792344353, colsample_bytree=1.0 will be ignored. Current value: feature_fraction=0.11276415792344353\n",
      "[LightGBM] [Warning] bagging_fraction is set=0.44514791412614263, subsample=1.0 will be ignored. Current value: bagging_fraction=0.44514791412614263\n",
      "Early stopping, best iteration is:\n",
      "[6]\tvalid_0's binary_logloss: 0.692771\tvalid_0's brier: 0.249812\n",
      "[LightGBM] [Warning] feature_fraction is set=0.11276415792344353, colsample_bytree=1.0 will be ignored. Current value: feature_fraction=0.11276415792344353\n",
      "[LightGBM] [Warning] bagging_fraction is set=0.44514791412614263, subsample=1.0 will be ignored. Current value: bagging_fraction=0.44514791412614263\n",
      "Early stopping, best iteration is:\n",
      "[6]\tvalid_0's binary_logloss: 0.692771\tvalid_0's brier: 0.249812\n",
      "[LightGBM] [Warning] feature_fraction is set=0.11276415792344353, colsample_bytree=1.0 will be ignored. Current value: feature_fraction=0.11276415792344353\n",
      "[LightGBM] [Warning] bagging_fraction is set=0.44514791412614263, subsample=1.0 will be ignored. Current value: bagging_fraction=0.44514791412614263\n"
     ]
    },
    {
     "name": "stderr",
     "output_type": "stream",
     "text": [
      "2022-03-29 09:43:30 mean cv_value 0.04505065366038135 | std cv_value 0.0058796766287724875 \n",
      "2022-03-29 09:43:30 ---------------------------------------------\n"
     ]
    },
    {
     "name": "stdout",
     "output_type": "stream",
     "text": [
      "Early stopping, best iteration is:\n",
      "[6]\tvalid_0's binary_logloss: 0.692771\tvalid_0's brier: 0.249812\n"
     ]
    },
    {
     "name": "stderr",
     "output_type": "stream",
     "text": [
      "/usr/local/lib/python3.7/site-packages/skopt/optimizer/optimizer.py:449: UserWarning: The objective has been evaluated at this point before.\n",
      "  warnings.warn(\"The objective has been evaluated \"\n",
      "2022-03-29 09:43:32 [TRAIN_MODEL] Training model\n",
      "2022-03-29 09:43:32 Set of params....., {'n_estimators': 500, 'reg_alpha': 0.0001, 'learning_rate': 1.0, 'feature_fraction': 0.9, 'bagging_fraction': 0.9, 'num_leaves': 500, 'min_child_weight': 2}\n"
     ]
    },
    {
     "name": "stdout",
     "output_type": "stream",
     "text": [
      "Iteration No: 58 ended. Search finished for the next optimal point.\n",
      "Time taken: 4.9200\n",
      "Function value obtained: -0.0451\n",
      "Current minimum: -0.1604\n",
      "Iteration No: 59 started. Searching for the next optimal point.\n",
      "[LightGBM] [Warning] feature_fraction is set=0.9, colsample_bytree=1.0 will be ignored. Current value: feature_fraction=0.9\n",
      "[LightGBM] [Warning] bagging_fraction is set=0.9, subsample=1.0 will be ignored. Current value: bagging_fraction=0.9\n",
      "Early stopping, best iteration is:\n",
      "[6]\tvalid_0's binary_logloss: 0.692771\tvalid_0's brier: 0.249812\n",
      "[LightGBM] [Warning] feature_fraction is set=0.9, colsample_bytree=1.0 will be ignored. Current value: feature_fraction=0.9\n",
      "[LightGBM] [Warning] bagging_fraction is set=0.9, subsample=1.0 will be ignored. Current value: bagging_fraction=0.9\n",
      "Early stopping, best iteration is:\n",
      "[6]\tvalid_0's binary_logloss: 0.692771\tvalid_0's brier: 0.249812\n",
      "[LightGBM] [Warning] feature_fraction is set=0.9, colsample_bytree=1.0 will be ignored. Current value: feature_fraction=0.9\n",
      "[LightGBM] [Warning] bagging_fraction is set=0.9, subsample=1.0 will be ignored. Current value: bagging_fraction=0.9\n"
     ]
    },
    {
     "name": "stderr",
     "output_type": "stream",
     "text": [
      "2022-03-29 09:43:38 mean cv_value 0.10545629431841204 | std cv_value 0.0143454322842606 \n",
      "2022-03-29 09:43:38 ---------------------------------------------\n"
     ]
    },
    {
     "name": "stdout",
     "output_type": "stream",
     "text": [
      "Early stopping, best iteration is:\n",
      "[6]\tvalid_0's binary_logloss: 0.692771\tvalid_0's brier: 0.249812\n"
     ]
    },
    {
     "name": "stderr",
     "output_type": "stream",
     "text": [
      "2022-03-29 09:43:40 [TRAIN_MODEL] Training model\n",
      "2022-03-29 09:43:40 Set of params....., {'n_estimators': 123, 'reg_alpha': 961.8182072685246, 'learning_rate': 0.8972414705771241, 'feature_fraction': 0.22117017423716168, 'bagging_fraction': 0.8652766853281395, 'num_leaves': 2, 'min_child_weight': 7}\n"
     ]
    },
    {
     "name": "stdout",
     "output_type": "stream",
     "text": [
      "Iteration No: 59 ended. Search finished for the next optimal point.\n",
      "Time taken: 8.0482\n",
      "Function value obtained: -0.1055\n",
      "Current minimum: -0.1604\n",
      "Iteration No: 60 started. Searching for the next optimal point.\n",
      "[LightGBM] [Warning] feature_fraction is set=0.22117017423716168, colsample_bytree=1.0 will be ignored. Current value: feature_fraction=0.22117017423716168\n",
      "[LightGBM] [Warning] bagging_fraction is set=0.8652766853281395, subsample=1.0 will be ignored. Current value: bagging_fraction=0.8652766853281395\n",
      "Early stopping, best iteration is:\n",
      "[6]\tvalid_0's binary_logloss: 0.692771\tvalid_0's brier: 0.249812\n",
      "[LightGBM] [Warning] feature_fraction is set=0.22117017423716168, colsample_bytree=1.0 will be ignored. Current value: feature_fraction=0.22117017423716168\n",
      "[LightGBM] [Warning] bagging_fraction is set=0.8652766853281395, subsample=1.0 will be ignored. Current value: bagging_fraction=0.8652766853281395\n",
      "Early stopping, best iteration is:\n",
      "[6]\tvalid_0's binary_logloss: 0.692771\tvalid_0's brier: 0.249812\n",
      "[LightGBM] [Warning] feature_fraction is set=0.22117017423716168, colsample_bytree=1.0 will be ignored. Current value: feature_fraction=0.22117017423716168\n",
      "[LightGBM] [Warning] bagging_fraction is set=0.8652766853281395, subsample=1.0 will be ignored. Current value: bagging_fraction=0.8652766853281395\n"
     ]
    },
    {
     "name": "stderr",
     "output_type": "stream",
     "text": [
      "2022-03-29 09:43:43 mean cv_value 0.02027523903239142 | std cv_value 0.022176721463925016 \n",
      "2022-03-29 09:43:43 ---------------------------------------------\n"
     ]
    },
    {
     "name": "stdout",
     "output_type": "stream",
     "text": [
      "Early stopping, best iteration is:\n",
      "[6]\tvalid_0's binary_logloss: 0.692771\tvalid_0's brier: 0.249812\n"
     ]
    },
    {
     "name": "stderr",
     "output_type": "stream",
     "text": [
      "2022-03-29 09:43:44 [TRAIN_MODEL] Training model\n",
      "2022-03-29 09:43:44 Set of params....., {'n_estimators': 500, 'reg_alpha': 0.0001, 'learning_rate': 1.0, 'feature_fraction': 0.719179399832087, 'bagging_fraction': 0.5697980346395419, 'num_leaves': 500, 'min_child_weight': 60}\n"
     ]
    },
    {
     "name": "stdout",
     "output_type": "stream",
     "text": [
      "Iteration No: 60 ended. Search finished for the next optimal point.\n",
      "Time taken: 4.6167\n",
      "Function value obtained: -0.0203\n",
      "Current minimum: -0.1604\n",
      "Iteration No: 61 started. Searching for the next optimal point.\n",
      "[LightGBM] [Warning] feature_fraction is set=0.719179399832087, colsample_bytree=1.0 will be ignored. Current value: feature_fraction=0.719179399832087\n",
      "[LightGBM] [Warning] bagging_fraction is set=0.5697980346395419, subsample=1.0 will be ignored. Current value: bagging_fraction=0.5697980346395419\n",
      "Early stopping, best iteration is:\n",
      "[6]\tvalid_0's binary_logloss: 0.692771\tvalid_0's brier: 0.249812\n",
      "[LightGBM] [Warning] feature_fraction is set=0.719179399832087, colsample_bytree=1.0 will be ignored. Current value: feature_fraction=0.719179399832087\n",
      "[LightGBM] [Warning] bagging_fraction is set=0.5697980346395419, subsample=1.0 will be ignored. Current value: bagging_fraction=0.5697980346395419\n",
      "Early stopping, best iteration is:\n",
      "[6]\tvalid_0's binary_logloss: 0.692771\tvalid_0's brier: 0.249812\n",
      "[LightGBM] [Warning] feature_fraction is set=0.719179399832087, colsample_bytree=1.0 will be ignored. Current value: feature_fraction=0.719179399832087\n",
      "[LightGBM] [Warning] bagging_fraction is set=0.5697980346395419, subsample=1.0 will be ignored. Current value: bagging_fraction=0.5697980346395419\n"
     ]
    },
    {
     "name": "stderr",
     "output_type": "stream",
     "text": [
      "2022-03-29 09:43:51 mean cv_value 0.11622788344703383 | std cv_value 0.01100538837826834 \n",
      "2022-03-29 09:43:51 ---------------------------------------------\n"
     ]
    },
    {
     "name": "stdout",
     "output_type": "stream",
     "text": [
      "Early stopping, best iteration is:\n",
      "[6]\tvalid_0's binary_logloss: 0.692771\tvalid_0's brier: 0.249812\n"
     ]
    },
    {
     "name": "stderr",
     "output_type": "stream",
     "text": [
      "2022-03-29 09:43:53 [TRAIN_MODEL] Training model\n",
      "2022-03-29 09:43:53 Set of params....., {'n_estimators': 242, 'reg_alpha': 0.0001, 'learning_rate': 1.0, 'feature_fraction': 0.6850923230818929, 'bagging_fraction': 0.5878480254082888, 'num_leaves': 500, 'min_child_weight': 60}\n"
     ]
    },
    {
     "name": "stdout",
     "output_type": "stream",
     "text": [
      "Iteration No: 61 ended. Search finished for the next optimal point.\n",
      "Time taken: 8.6651\n",
      "Function value obtained: -0.1162\n",
      "Current minimum: -0.1604\n",
      "Iteration No: 62 started. Searching for the next optimal point.\n",
      "[LightGBM] [Warning] feature_fraction is set=0.6850923230818929, colsample_bytree=1.0 will be ignored. Current value: feature_fraction=0.6850923230818929\n",
      "[LightGBM] [Warning] bagging_fraction is set=0.5878480254082888, subsample=1.0 will be ignored. Current value: bagging_fraction=0.5878480254082888\n",
      "Early stopping, best iteration is:\n",
      "[6]\tvalid_0's binary_logloss: 0.692771\tvalid_0's brier: 0.249812\n",
      "[LightGBM] [Warning] feature_fraction is set=0.6850923230818929, colsample_bytree=1.0 will be ignored. Current value: feature_fraction=0.6850923230818929\n",
      "[LightGBM] [Warning] bagging_fraction is set=0.5878480254082888, subsample=1.0 will be ignored. Current value: bagging_fraction=0.5878480254082888\n",
      "Early stopping, best iteration is:\n",
      "[6]\tvalid_0's binary_logloss: 0.692771\tvalid_0's brier: 0.249812\n",
      "[LightGBM] [Warning] feature_fraction is set=0.6850923230818929, colsample_bytree=1.0 will be ignored. Current value: feature_fraction=0.6850923230818929\n",
      "[LightGBM] [Warning] bagging_fraction is set=0.5878480254082888, subsample=1.0 will be ignored. Current value: bagging_fraction=0.5878480254082888\n"
     ]
    },
    {
     "name": "stderr",
     "output_type": "stream",
     "text": [
      "2022-03-29 09:44:00 mean cv_value 0.1033303616789125 | std cv_value 0.00506521307030764 \n",
      "2022-03-29 09:44:00 ---------------------------------------------\n"
     ]
    },
    {
     "name": "stdout",
     "output_type": "stream",
     "text": [
      "Early stopping, best iteration is:\n",
      "[6]\tvalid_0's binary_logloss: 0.692771\tvalid_0's brier: 0.249812\n"
     ]
    },
    {
     "name": "stderr",
     "output_type": "stream",
     "text": [
      "2022-03-29 09:44:02 [TRAIN_MODEL] Training model\n",
      "2022-03-29 09:44:02 Set of params....., {'n_estimators': 5, 'reg_alpha': 0.0001, 'learning_rate': 1.0, 'feature_fraction': 0.9, 'bagging_fraction': 0.5068379508450102, 'num_leaves': 500, 'min_child_weight': 60}\n"
     ]
    },
    {
     "name": "stdout",
     "output_type": "stream",
     "text": [
      "Iteration No: 62 ended. Search finished for the next optimal point.\n",
      "Time taken: 9.0283\n",
      "Function value obtained: -0.1033\n",
      "Current minimum: -0.1604\n",
      "Iteration No: 63 started. Searching for the next optimal point.\n",
      "[LightGBM] [Warning] feature_fraction is set=0.9, colsample_bytree=1.0 will be ignored. Current value: feature_fraction=0.9\n",
      "[LightGBM] [Warning] bagging_fraction is set=0.5068379508450102, subsample=1.0 will be ignored. Current value: bagging_fraction=0.5068379508450102\n",
      "Did not meet early stopping. Best iteration is:\n",
      "[6]\tvalid_0's binary_logloss: 0.692771\tvalid_0's brier: 0.249812\n",
      "[LightGBM] [Warning] feature_fraction is set=0.9, colsample_bytree=1.0 will be ignored. Current value: feature_fraction=0.9\n",
      "[LightGBM] [Warning] bagging_fraction is set=0.5068379508450102, subsample=1.0 will be ignored. Current value: bagging_fraction=0.5068379508450102\n",
      "Did not meet early stopping. Best iteration is:\n",
      "[6]\tvalid_0's binary_logloss: 0.692771\tvalid_0's brier: 0.249812\n",
      "[LightGBM] [Warning] feature_fraction is set=0.9, colsample_bytree=1.0 will be ignored. Current value: feature_fraction=0.9\n",
      "[LightGBM] [Warning] bagging_fraction is set=0.5068379508450102, subsample=1.0 will be ignored. Current value: bagging_fraction=0.5068379508450102\n"
     ]
    },
    {
     "name": "stderr",
     "output_type": "stream",
     "text": [
      "2022-03-29 09:44:06 mean cv_value 0.10134195827839972 | std cv_value 0.012722678918549512 \n",
      "2022-03-29 09:44:06 ---------------------------------------------\n"
     ]
    },
    {
     "name": "stdout",
     "output_type": "stream",
     "text": [
      "Did not meet early stopping. Best iteration is:\n",
      "[6]\tvalid_0's binary_logloss: 0.692771\tvalid_0's brier: 0.249812\n"
     ]
    },
    {
     "name": "stderr",
     "output_type": "stream",
     "text": [
      "2022-03-29 09:44:07 [TRAIN_MODEL] Training model\n",
      "2022-03-29 09:44:07 Set of params....., {'n_estimators': 500, 'reg_alpha': 0.0001, 'learning_rate': 0.029706857471050122, 'feature_fraction': 0.6618821318578465, 'bagging_fraction': 0.9, 'num_leaves': 500, 'min_child_weight': 2}\n"
     ]
    },
    {
     "name": "stdout",
     "output_type": "stream",
     "text": [
      "Iteration No: 63 ended. Search finished for the next optimal point.\n",
      "Time taken: 5.4580\n",
      "Function value obtained: -0.1013\n",
      "Current minimum: -0.1604\n",
      "Iteration No: 64 started. Searching for the next optimal point.\n",
      "[LightGBM] [Warning] feature_fraction is set=0.6618821318578465, colsample_bytree=1.0 will be ignored. Current value: feature_fraction=0.6618821318578465\n",
      "[LightGBM] [Warning] bagging_fraction is set=0.9, subsample=1.0 will be ignored. Current value: bagging_fraction=0.9\n",
      "Early stopping, best iteration is:\n",
      "[6]\tvalid_0's binary_logloss: 0.692771\tvalid_0's brier: 0.249812\n",
      "[LightGBM] [Warning] feature_fraction is set=0.6618821318578465, colsample_bytree=1.0 will be ignored. Current value: feature_fraction=0.6618821318578465\n",
      "[LightGBM] [Warning] bagging_fraction is set=0.9, subsample=1.0 will be ignored. Current value: bagging_fraction=0.9\n",
      "Early stopping, best iteration is:\n",
      "[6]\tvalid_0's binary_logloss: 0.692771\tvalid_0's brier: 0.249812\n",
      "[LightGBM] [Warning] feature_fraction is set=0.6618821318578465, colsample_bytree=1.0 will be ignored. Current value: feature_fraction=0.6618821318578465\n",
      "[LightGBM] [Warning] bagging_fraction is set=0.9, subsample=1.0 will be ignored. Current value: bagging_fraction=0.9\n"
     ]
    },
    {
     "name": "stderr",
     "output_type": "stream",
     "text": [
      "2022-03-29 09:44:15 mean cv_value 0.09501912327482913 | std cv_value 0.007380062499266964 \n"
     ]
    },
    {
     "name": "stdout",
     "output_type": "stream",
     "text": [
      "Early stopping, best iteration is:\n",
      "[6]\tvalid_0's binary_logloss: 0.692771\tvalid_0's brier: 0.249812\n"
     ]
    },
    {
     "name": "stderr",
     "output_type": "stream",
     "text": [
      "2022-03-29 09:44:15 ---------------------------------------------\n",
      "/usr/local/lib/python3.7/site-packages/skopt/optimizer/optimizer.py:449: UserWarning: The objective has been evaluated at this point before.\n",
      "  warnings.warn(\"The objective has been evaluated \"\n",
      "2022-03-29 09:44:17 [TRAIN_MODEL] Training model\n",
      "2022-03-29 09:44:17 Set of params....., {'n_estimators': 500, 'reg_alpha': 0.0001, 'learning_rate': 1.0, 'feature_fraction': 0.9, 'bagging_fraction': 0.9, 'num_leaves': 500, 'min_child_weight': 2}\n"
     ]
    },
    {
     "name": "stdout",
     "output_type": "stream",
     "text": [
      "Iteration No: 64 ended. Search finished for the next optimal point.\n",
      "Time taken: 9.0785\n",
      "Function value obtained: -0.0950\n",
      "Current minimum: -0.1604\n",
      "Iteration No: 65 started. Searching for the next optimal point.\n",
      "[LightGBM] [Warning] feature_fraction is set=0.9, colsample_bytree=1.0 will be ignored. Current value: feature_fraction=0.9\n",
      "[LightGBM] [Warning] bagging_fraction is set=0.9, subsample=1.0 will be ignored. Current value: bagging_fraction=0.9\n",
      "Early stopping, best iteration is:\n",
      "[6]\tvalid_0's binary_logloss: 0.692771\tvalid_0's brier: 0.249812\n",
      "[LightGBM] [Warning] feature_fraction is set=0.9, colsample_bytree=1.0 will be ignored. Current value: feature_fraction=0.9\n",
      "[LightGBM] [Warning] bagging_fraction is set=0.9, subsample=1.0 will be ignored. Current value: bagging_fraction=0.9\n",
      "Early stopping, best iteration is:\n",
      "[6]\tvalid_0's binary_logloss: 0.692771\tvalid_0's brier: 0.249812\n",
      "[LightGBM] [Warning] feature_fraction is set=0.9, colsample_bytree=1.0 will be ignored. Current value: feature_fraction=0.9\n",
      "[LightGBM] [Warning] bagging_fraction is set=0.9, subsample=1.0 will be ignored. Current value: bagging_fraction=0.9\n"
     ]
    },
    {
     "name": "stderr",
     "output_type": "stream",
     "text": [
      "2022-03-29 09:44:23 mean cv_value 0.10545629431841204 | std cv_value 0.0143454322842606 \n",
      "2022-03-29 09:44:23 ---------------------------------------------\n"
     ]
    },
    {
     "name": "stdout",
     "output_type": "stream",
     "text": [
      "Early stopping, best iteration is:\n",
      "[6]\tvalid_0's binary_logloss: 0.692771\tvalid_0's brier: 0.249812\n"
     ]
    },
    {
     "name": "stderr",
     "output_type": "stream",
     "text": [
      "2022-03-29 09:44:24 [TRAIN_MODEL] Training model\n",
      "2022-03-29 09:44:24 Set of params....., {'n_estimators': 5, 'reg_alpha': 0.0001, 'learning_rate': 1.0, 'feature_fraction': 0.6643132641154608, 'bagging_fraction': 0.1, 'num_leaves': 500, 'min_child_weight': 2}\n"
     ]
    },
    {
     "name": "stdout",
     "output_type": "stream",
     "text": [
      "Iteration No: 65 ended. Search finished for the next optimal point.\n",
      "Time taken: 7.8557\n",
      "Function value obtained: -0.1055\n",
      "Current minimum: -0.1604\n",
      "Iteration No: 66 started. Searching for the next optimal point.\n",
      "[LightGBM] [Warning] feature_fraction is set=0.6643132641154608, colsample_bytree=1.0 will be ignored. Current value: feature_fraction=0.6643132641154608\n",
      "[LightGBM] [Warning] bagging_fraction is set=0.1, subsample=1.0 will be ignored. Current value: bagging_fraction=0.1\n",
      "Did not meet early stopping. Best iteration is:\n",
      "[6]\tvalid_0's binary_logloss: 0.692771\tvalid_0's brier: 0.249812\n",
      "[LightGBM] [Warning] feature_fraction is set=0.6643132641154608, colsample_bytree=1.0 will be ignored. Current value: feature_fraction=0.6643132641154608\n",
      "[LightGBM] [Warning] bagging_fraction is set=0.1, subsample=1.0 will be ignored. Current value: bagging_fraction=0.1\n",
      "Did not meet early stopping. Best iteration is:\n",
      "[6]\tvalid_0's binary_logloss: 0.692771\tvalid_0's brier: 0.249812\n",
      "[LightGBM] [Warning] feature_fraction is set=0.6643132641154608, colsample_bytree=1.0 will be ignored. Current value: feature_fraction=0.6643132641154608\n",
      "[LightGBM] [Warning] bagging_fraction is set=0.1, subsample=1.0 will be ignored. Current value: bagging_fraction=0.1\n"
     ]
    },
    {
     "name": "stderr",
     "output_type": "stream",
     "text": [
      "2022-03-29 09:44:28 mean cv_value 0.09529936041421971 | std cv_value 0.0148573378744296 \n",
      "2022-03-29 09:44:28 ---------------------------------------------\n"
     ]
    },
    {
     "name": "stdout",
     "output_type": "stream",
     "text": [
      "Did not meet early stopping. Best iteration is:\n",
      "[6]\tvalid_0's binary_logloss: 0.692771\tvalid_0's brier: 0.249812\n"
     ]
    },
    {
     "name": "stderr",
     "output_type": "stream",
     "text": [
      "2022-03-29 09:44:30 [TRAIN_MODEL] Training model\n",
      "2022-03-29 09:44:30 Set of params....., {'n_estimators': 500, 'reg_alpha': 0.0001, 'learning_rate': 1.0, 'feature_fraction': 0.9, 'bagging_fraction': 0.9, 'num_leaves': 500, 'min_child_weight': 60}\n"
     ]
    },
    {
     "name": "stdout",
     "output_type": "stream",
     "text": [
      "Iteration No: 66 ended. Search finished for the next optimal point.\n",
      "Time taken: 5.2695\n",
      "Function value obtained: -0.0953\n",
      "Current minimum: -0.1604\n",
      "Iteration No: 67 started. Searching for the next optimal point.\n",
      "[LightGBM] [Warning] feature_fraction is set=0.9, colsample_bytree=1.0 will be ignored. Current value: feature_fraction=0.9\n",
      "[LightGBM] [Warning] bagging_fraction is set=0.9, subsample=1.0 will be ignored. Current value: bagging_fraction=0.9\n",
      "Early stopping, best iteration is:\n",
      "[6]\tvalid_0's binary_logloss: 0.692771\tvalid_0's brier: 0.249812\n",
      "[LightGBM] [Warning] feature_fraction is set=0.9, colsample_bytree=1.0 will be ignored. Current value: feature_fraction=0.9\n",
      "[LightGBM] [Warning] bagging_fraction is set=0.9, subsample=1.0 will be ignored. Current value: bagging_fraction=0.9\n",
      "Early stopping, best iteration is:\n",
      "[6]\tvalid_0's binary_logloss: 0.692771\tvalid_0's brier: 0.249812\n",
      "[LightGBM] [Warning] feature_fraction is set=0.9, colsample_bytree=1.0 will be ignored. Current value: feature_fraction=0.9\n",
      "[LightGBM] [Warning] bagging_fraction is set=0.9, subsample=1.0 will be ignored. Current value: bagging_fraction=0.9\n"
     ]
    },
    {
     "name": "stderr",
     "output_type": "stream",
     "text": [
      "2022-03-29 09:44:37 mean cv_value 0.10614184534058602 | std cv_value 0.014828746982591219 \n",
      "2022-03-29 09:44:37 ---------------------------------------------\n"
     ]
    },
    {
     "name": "stdout",
     "output_type": "stream",
     "text": [
      "Early stopping, best iteration is:\n",
      "[6]\tvalid_0's binary_logloss: 0.692771\tvalid_0's brier: 0.249812\n"
     ]
    },
    {
     "name": "stderr",
     "output_type": "stream",
     "text": [
      "/usr/local/lib/python3.7/site-packages/skopt/optimizer/optimizer.py:449: UserWarning: The objective has been evaluated at this point before.\n",
      "  warnings.warn(\"The objective has been evaluated \"\n",
      "2022-03-29 09:44:39 [TRAIN_MODEL] Training model\n",
      "2022-03-29 09:44:39 Set of params....., {'n_estimators': 500, 'reg_alpha': 0.0001, 'learning_rate': 1.0, 'feature_fraction': 0.9, 'bagging_fraction': 0.9, 'num_leaves': 500, 'min_child_weight': 2}\n"
     ]
    },
    {
     "name": "stdout",
     "output_type": "stream",
     "text": [
      "Iteration No: 67 ended. Search finished for the next optimal point.\n",
      "Time taken: 8.9751\n",
      "Function value obtained: -0.1061\n",
      "Current minimum: -0.1604\n",
      "Iteration No: 68 started. Searching for the next optimal point.\n",
      "[LightGBM] [Warning] feature_fraction is set=0.9, colsample_bytree=1.0 will be ignored. Current value: feature_fraction=0.9\n",
      "[LightGBM] [Warning] bagging_fraction is set=0.9, subsample=1.0 will be ignored. Current value: bagging_fraction=0.9\n",
      "Early stopping, best iteration is:\n",
      "[6]\tvalid_0's binary_logloss: 0.692771\tvalid_0's brier: 0.249812\n",
      "[LightGBM] [Warning] feature_fraction is set=0.9, colsample_bytree=1.0 will be ignored. Current value: feature_fraction=0.9\n",
      "[LightGBM] [Warning] bagging_fraction is set=0.9, subsample=1.0 will be ignored. Current value: bagging_fraction=0.9\n",
      "Early stopping, best iteration is:\n",
      "[6]\tvalid_0's binary_logloss: 0.692771\tvalid_0's brier: 0.249812\n",
      "[LightGBM] [Warning] feature_fraction is set=0.9, colsample_bytree=1.0 will be ignored. Current value: feature_fraction=0.9\n",
      "[LightGBM] [Warning] bagging_fraction is set=0.9, subsample=1.0 will be ignored. Current value: bagging_fraction=0.9\n"
     ]
    },
    {
     "name": "stderr",
     "output_type": "stream",
     "text": [
      "2022-03-29 09:44:45 mean cv_value 0.10545629431841204 | std cv_value 0.0143454322842606 \n",
      "2022-03-29 09:44:45 ---------------------------------------------\n"
     ]
    },
    {
     "name": "stdout",
     "output_type": "stream",
     "text": [
      "Early stopping, best iteration is:\n",
      "[6]\tvalid_0's binary_logloss: 0.692771\tvalid_0's brier: 0.249812\n"
     ]
    },
    {
     "name": "stderr",
     "output_type": "stream",
     "text": [
      "2022-03-29 09:44:47 [TRAIN_MODEL] Training model\n",
      "2022-03-29 09:44:47 Set of params....., {'n_estimators': 254, 'reg_alpha': 0.0001, 'learning_rate': 1.0, 'feature_fraction': 0.9, 'bagging_fraction': 0.9, 'num_leaves': 500, 'min_child_weight': 60}\n"
     ]
    },
    {
     "name": "stdout",
     "output_type": "stream",
     "text": [
      "Iteration No: 68 ended. Search finished for the next optimal point.\n",
      "Time taken: 8.1427\n",
      "Function value obtained: -0.1055\n",
      "Current minimum: -0.1604\n",
      "Iteration No: 69 started. Searching for the next optimal point.\n",
      "[LightGBM] [Warning] feature_fraction is set=0.9, colsample_bytree=1.0 will be ignored. Current value: feature_fraction=0.9\n",
      "[LightGBM] [Warning] bagging_fraction is set=0.9, subsample=1.0 will be ignored. Current value: bagging_fraction=0.9\n",
      "Early stopping, best iteration is:\n",
      "[6]\tvalid_0's binary_logloss: 0.692771\tvalid_0's brier: 0.249812\n",
      "[LightGBM] [Warning] feature_fraction is set=0.9, colsample_bytree=1.0 will be ignored. Current value: feature_fraction=0.9\n",
      "[LightGBM] [Warning] bagging_fraction is set=0.9, subsample=1.0 will be ignored. Current value: bagging_fraction=0.9\n",
      "Early stopping, best iteration is:\n",
      "[6]\tvalid_0's binary_logloss: 0.692771\tvalid_0's brier: 0.249812\n",
      "[LightGBM] [Warning] feature_fraction is set=0.9, colsample_bytree=1.0 will be ignored. Current value: feature_fraction=0.9\n",
      "[LightGBM] [Warning] bagging_fraction is set=0.9, subsample=1.0 will be ignored. Current value: bagging_fraction=0.9\n"
     ]
    },
    {
     "name": "stderr",
     "output_type": "stream",
     "text": [
      "2022-03-29 09:44:55 mean cv_value 0.10614184534058602 | std cv_value 0.014828746982591219 \n",
      "2022-03-29 09:44:55 ---------------------------------------------\n"
     ]
    },
    {
     "name": "stdout",
     "output_type": "stream",
     "text": [
      "Early stopping, best iteration is:\n",
      "[6]\tvalid_0's binary_logloss: 0.692771\tvalid_0's brier: 0.249812\n"
     ]
    },
    {
     "name": "stderr",
     "output_type": "stream",
     "text": [
      "2022-03-29 09:44:57 [TRAIN_MODEL] Training model\n",
      "2022-03-29 09:44:57 Set of params....., {'n_estimators': 5, 'reg_alpha': 0.0001, 'learning_rate': 1.0, 'feature_fraction': 0.9, 'bagging_fraction': 0.9, 'num_leaves': 500, 'min_child_weight': 60}\n"
     ]
    },
    {
     "name": "stdout",
     "output_type": "stream",
     "text": [
      "Iteration No: 69 ended. Search finished for the next optimal point.\n",
      "Time taken: 9.8278\n",
      "Function value obtained: -0.1061\n",
      "Current minimum: -0.1604\n",
      "Iteration No: 70 started. Searching for the next optimal point.\n",
      "[LightGBM] [Warning] feature_fraction is set=0.9, colsample_bytree=1.0 will be ignored. Current value: feature_fraction=0.9\n",
      "[LightGBM] [Warning] bagging_fraction is set=0.9, subsample=1.0 will be ignored. Current value: bagging_fraction=0.9\n",
      "Did not meet early stopping. Best iteration is:\n",
      "[6]\tvalid_0's binary_logloss: 0.692771\tvalid_0's brier: 0.249812\n",
      "[LightGBM] [Warning] feature_fraction is set=0.9, colsample_bytree=1.0 will be ignored. Current value: feature_fraction=0.9\n",
      "[LightGBM] [Warning] bagging_fraction is set=0.9, subsample=1.0 will be ignored. Current value: bagging_fraction=0.9\n",
      "Did not meet early stopping. Best iteration is:\n",
      "[6]\tvalid_0's binary_logloss: 0.692771\tvalid_0's brier: 0.249812\n",
      "[LightGBM] [Warning] feature_fraction is set=0.9, colsample_bytree=1.0 will be ignored. Current value: feature_fraction=0.9\n",
      "[LightGBM] [Warning] bagging_fraction is set=0.9, subsample=1.0 will be ignored. Current value: bagging_fraction=0.9\n"
     ]
    },
    {
     "name": "stderr",
     "output_type": "stream",
     "text": [
      "2022-03-29 09:45:01 mean cv_value 0.10134195827839972 | std cv_value 0.012722678918549512 \n",
      "2022-03-29 09:45:01 ---------------------------------------------\n"
     ]
    },
    {
     "name": "stdout",
     "output_type": "stream",
     "text": [
      "Did not meet early stopping. Best iteration is:\n",
      "[6]\tvalid_0's binary_logloss: 0.692771\tvalid_0's brier: 0.249812\n"
     ]
    },
    {
     "name": "stderr",
     "output_type": "stream",
     "text": [
      "2022-03-29 09:45:03 [TRAIN_MODEL] Training model\n",
      "2022-03-29 09:45:03 Set of params....., {'n_estimators': 500, 'reg_alpha': 0.0001, 'learning_rate': 1.0, 'feature_fraction': 0.6476165653263544, 'bagging_fraction': 0.1, 'num_leaves': 500, 'min_child_weight': 2}\n"
     ]
    },
    {
     "name": "stdout",
     "output_type": "stream",
     "text": [
      "Iteration No: 70 ended. Search finished for the next optimal point.\n",
      "Time taken: 6.7864\n",
      "Function value obtained: -0.1013\n",
      "Current minimum: -0.1604\n",
      "Iteration No: 71 started. Searching for the next optimal point.\n",
      "[LightGBM] [Warning] feature_fraction is set=0.6476165653263544, colsample_bytree=1.0 will be ignored. Current value: feature_fraction=0.6476165653263544\n",
      "[LightGBM] [Warning] bagging_fraction is set=0.1, subsample=1.0 will be ignored. Current value: bagging_fraction=0.1\n",
      "Early stopping, best iteration is:\n",
      "[6]\tvalid_0's binary_logloss: 0.692771\tvalid_0's brier: 0.249812\n",
      "[LightGBM] [Warning] feature_fraction is set=0.6476165653263544, colsample_bytree=1.0 will be ignored. Current value: feature_fraction=0.6476165653263544\n",
      "[LightGBM] [Warning] bagging_fraction is set=0.1, subsample=1.0 will be ignored. Current value: bagging_fraction=0.1\n",
      "Early stopping, best iteration is:\n",
      "[6]\tvalid_0's binary_logloss: 0.692771\tvalid_0's brier: 0.249812\n",
      "[LightGBM] [Warning] feature_fraction is set=0.6476165653263544, colsample_bytree=1.0 will be ignored. Current value: feature_fraction=0.6476165653263544\n",
      "[LightGBM] [Warning] bagging_fraction is set=0.1, subsample=1.0 will be ignored. Current value: bagging_fraction=0.1\n"
     ]
    },
    {
     "name": "stderr",
     "output_type": "stream",
     "text": [
      "2022-03-29 09:45:10 mean cv_value 0.09564361087631063 | std cv_value 0.012299949362975 \n",
      "2022-03-29 09:45:10 ---------------------------------------------\n"
     ]
    },
    {
     "name": "stdout",
     "output_type": "stream",
     "text": [
      "Early stopping, best iteration is:\n",
      "[6]\tvalid_0's binary_logloss: 0.692771\tvalid_0's brier: 0.249812\n"
     ]
    },
    {
     "name": "stderr",
     "output_type": "stream",
     "text": [
      "2022-03-29 09:45:12 [TRAIN_MODEL] Training model\n",
      "2022-03-29 09:45:12 Set of params....., {'n_estimators': 500, 'reg_alpha': 0.0001, 'learning_rate': 0.03427439425839684, 'feature_fraction': 0.7095946909032436, 'bagging_fraction': 0.9, 'num_leaves': 500, 'min_child_weight': 45}\n"
     ]
    },
    {
     "name": "stdout",
     "output_type": "stream",
     "text": [
      "Iteration No: 71 ended. Search finished for the next optimal point.\n",
      "Time taken: 8.2242\n",
      "Function value obtained: -0.0956\n",
      "Current minimum: -0.1604\n",
      "Iteration No: 72 started. Searching for the next optimal point.\n",
      "[LightGBM] [Warning] feature_fraction is set=0.7095946909032436, colsample_bytree=1.0 will be ignored. Current value: feature_fraction=0.7095946909032436\n",
      "[LightGBM] [Warning] bagging_fraction is set=0.9, subsample=1.0 will be ignored. Current value: bagging_fraction=0.9\n",
      "Early stopping, best iteration is:\n",
      "[6]\tvalid_0's binary_logloss: 0.692771\tvalid_0's brier: 0.249812\n",
      "[LightGBM] [Warning] feature_fraction is set=0.7095946909032436, colsample_bytree=1.0 will be ignored. Current value: feature_fraction=0.7095946909032436\n",
      "[LightGBM] [Warning] bagging_fraction is set=0.9, subsample=1.0 will be ignored. Current value: bagging_fraction=0.9\n",
      "Early stopping, best iteration is:\n",
      "[6]\tvalid_0's binary_logloss: 0.692771\tvalid_0's brier: 0.249812\n",
      "[LightGBM] [Warning] feature_fraction is set=0.7095946909032436, colsample_bytree=1.0 will be ignored. Current value: feature_fraction=0.7095946909032436\n",
      "[LightGBM] [Warning] bagging_fraction is set=0.9, subsample=1.0 will be ignored. Current value: bagging_fraction=0.9\n"
     ]
    },
    {
     "name": "stderr",
     "output_type": "stream",
     "text": [
      "2022-03-29 09:45:18 mean cv_value 0.09471406693118378 | std cv_value 0.012999150373569393 \n",
      "2022-03-29 09:45:18 ---------------------------------------------\n"
     ]
    },
    {
     "name": "stdout",
     "output_type": "stream",
     "text": [
      "Early stopping, best iteration is:\n",
      "[6]\tvalid_0's binary_logloss: 0.692771\tvalid_0's brier: 0.249812\n"
     ]
    },
    {
     "name": "stderr",
     "output_type": "stream",
     "text": [
      "/usr/local/lib/python3.7/site-packages/skopt/optimizer/optimizer.py:449: UserWarning: The objective has been evaluated at this point before.\n",
      "  warnings.warn(\"The objective has been evaluated \"\n",
      "2022-03-29 09:45:20 [TRAIN_MODEL] Training model\n",
      "2022-03-29 09:45:20 Set of params....., {'n_estimators': 500, 'reg_alpha': 0.0001, 'learning_rate': 1.0, 'feature_fraction': 0.9, 'bagging_fraction': 0.9, 'num_leaves': 500, 'min_child_weight': 2}\n"
     ]
    },
    {
     "name": "stdout",
     "output_type": "stream",
     "text": [
      "Iteration No: 72 ended. Search finished for the next optimal point.\n",
      "Time taken: 8.8069\n",
      "Function value obtained: -0.0947\n",
      "Current minimum: -0.1604\n",
      "Iteration No: 73 started. Searching for the next optimal point.\n",
      "[LightGBM] [Warning] feature_fraction is set=0.9, colsample_bytree=1.0 will be ignored. Current value: feature_fraction=0.9\n",
      "[LightGBM] [Warning] bagging_fraction is set=0.9, subsample=1.0 will be ignored. Current value: bagging_fraction=0.9\n",
      "Early stopping, best iteration is:\n",
      "[6]\tvalid_0's binary_logloss: 0.692771\tvalid_0's brier: 0.249812\n",
      "[LightGBM] [Warning] feature_fraction is set=0.9, colsample_bytree=1.0 will be ignored. Current value: feature_fraction=0.9\n",
      "[LightGBM] [Warning] bagging_fraction is set=0.9, subsample=1.0 will be ignored. Current value: bagging_fraction=0.9\n",
      "Early stopping, best iteration is:\n",
      "[6]\tvalid_0's binary_logloss: 0.692771\tvalid_0's brier: 0.249812\n",
      "[LightGBM] [Warning] feature_fraction is set=0.9, colsample_bytree=1.0 will be ignored. Current value: feature_fraction=0.9\n",
      "[LightGBM] [Warning] bagging_fraction is set=0.9, subsample=1.0 will be ignored. Current value: bagging_fraction=0.9\n"
     ]
    },
    {
     "name": "stderr",
     "output_type": "stream",
     "text": [
      "2022-03-29 09:45:27 mean cv_value 0.10545629431841204 | std cv_value 0.0143454322842606 \n",
      "2022-03-29 09:45:27 ---------------------------------------------\n"
     ]
    },
    {
     "name": "stdout",
     "output_type": "stream",
     "text": [
      "Early stopping, best iteration is:\n",
      "[6]\tvalid_0's binary_logloss: 0.692771\tvalid_0's brier: 0.249812\n"
     ]
    },
    {
     "name": "stderr",
     "output_type": "stream",
     "text": [
      "/usr/local/lib/python3.7/site-packages/skopt/optimizer/optimizer.py:449: UserWarning: The objective has been evaluated at this point before.\n",
      "  warnings.warn(\"The objective has been evaluated \"\n",
      "2022-03-29 09:45:29 [TRAIN_MODEL] Training model\n",
      "2022-03-29 09:45:29 Set of params....., {'n_estimators': 500, 'reg_alpha': 0.0001, 'learning_rate': 1.0, 'feature_fraction': 0.9, 'bagging_fraction': 0.9, 'num_leaves': 500, 'min_child_weight': 60}\n"
     ]
    },
    {
     "name": "stdout",
     "output_type": "stream",
     "text": [
      "Iteration No: 73 ended. Search finished for the next optimal point.\n",
      "Time taken: 8.4334\n",
      "Function value obtained: -0.1055\n",
      "Current minimum: -0.1604\n",
      "Iteration No: 74 started. Searching for the next optimal point.\n",
      "[LightGBM] [Warning] feature_fraction is set=0.9, colsample_bytree=1.0 will be ignored. Current value: feature_fraction=0.9\n",
      "[LightGBM] [Warning] bagging_fraction is set=0.9, subsample=1.0 will be ignored. Current value: bagging_fraction=0.9\n",
      "Early stopping, best iteration is:\n",
      "[6]\tvalid_0's binary_logloss: 0.692771\tvalid_0's brier: 0.249812\n",
      "[LightGBM] [Warning] feature_fraction is set=0.9, colsample_bytree=1.0 will be ignored. Current value: feature_fraction=0.9\n",
      "[LightGBM] [Warning] bagging_fraction is set=0.9, subsample=1.0 will be ignored. Current value: bagging_fraction=0.9\n",
      "Early stopping, best iteration is:\n",
      "[6]\tvalid_0's binary_logloss: 0.692771\tvalid_0's brier: 0.249812\n",
      "[LightGBM] [Warning] feature_fraction is set=0.9, colsample_bytree=1.0 will be ignored. Current value: feature_fraction=0.9\n",
      "[LightGBM] [Warning] bagging_fraction is set=0.9, subsample=1.0 will be ignored. Current value: bagging_fraction=0.9\n",
      "Early stopping, best iteration is:\n",
      "[6]\tvalid_0's binary_logloss: 0.692771\tvalid_0's brier: 0.249812\n"
     ]
    },
    {
     "name": "stderr",
     "output_type": "stream",
     "text": [
      "2022-03-29 09:45:36 mean cv_value 0.10614184534058602 | std cv_value 0.014828746982591219 \n",
      "2022-03-29 09:45:36 ---------------------------------------------\n",
      "2022-03-29 09:45:38 [TRAIN_MODEL] Training model\n",
      "2022-03-29 09:45:38 Set of params....., {'n_estimators': 107, 'reg_alpha': 974.2969380721211, 'learning_rate': 0.00013773923198126333, 'feature_fraction': 0.16521379301974987, 'bagging_fraction': 0.8699703029732001, 'num_leaves': 484, 'min_child_weight': 35}\n"
     ]
    },
    {
     "name": "stdout",
     "output_type": "stream",
     "text": [
      "Iteration No: 74 ended. Search finished for the next optimal point.\n",
      "Time taken: 9.6014\n",
      "Function value obtained: -0.1061\n",
      "Current minimum: -0.1604\n",
      "Iteration No: 75 started. Searching for the next optimal point.\n",
      "[LightGBM] [Warning] feature_fraction is set=0.16521379301974987, colsample_bytree=1.0 will be ignored. Current value: feature_fraction=0.16521379301974987\n",
      "[LightGBM] [Warning] bagging_fraction is set=0.8699703029732001, subsample=1.0 will be ignored. Current value: bagging_fraction=0.8699703029732001\n",
      "Early stopping, best iteration is:\n",
      "[6]\tvalid_0's binary_logloss: 0.692771\tvalid_0's brier: 0.249812\n",
      "[LightGBM] [Warning] feature_fraction is set=0.16521379301974987, colsample_bytree=1.0 will be ignored. Current value: feature_fraction=0.16521379301974987\n",
      "[LightGBM] [Warning] bagging_fraction is set=0.8699703029732001, subsample=1.0 will be ignored. Current value: bagging_fraction=0.8699703029732001\n",
      "Early stopping, best iteration is:\n",
      "[6]\tvalid_0's binary_logloss: 0.692771\tvalid_0's brier: 0.249812\n",
      "[LightGBM] [Warning] feature_fraction is set=0.16521379301974987, colsample_bytree=1.0 will be ignored. Current value: feature_fraction=0.16521379301974987\n",
      "[LightGBM] [Warning] bagging_fraction is set=0.8699703029732001, subsample=1.0 will be ignored. Current value: bagging_fraction=0.8699703029732001\n"
     ]
    },
    {
     "name": "stderr",
     "output_type": "stream",
     "text": [
      "2022-03-29 09:45:42 mean cv_value 0.0420072862974833 | std cv_value 0.014941386011902062 \n",
      "2022-03-29 09:45:42 ---------------------------------------------\n"
     ]
    },
    {
     "name": "stdout",
     "output_type": "stream",
     "text": [
      "Early stopping, best iteration is:\n",
      "[6]\tvalid_0's binary_logloss: 0.692771\tvalid_0's brier: 0.249812\n"
     ]
    },
    {
     "name": "stderr",
     "output_type": "stream",
     "text": [
      "/usr/local/lib/python3.7/site-packages/skopt/optimizer/optimizer.py:449: UserWarning: The objective has been evaluated at this point before.\n",
      "  warnings.warn(\"The objective has been evaluated \"\n",
      "2022-03-29 09:45:44 [TRAIN_MODEL] Training model\n",
      "2022-03-29 09:45:44 Set of params....., {'n_estimators': 500, 'reg_alpha': 0.0001, 'learning_rate': 1.0, 'feature_fraction': 0.9, 'bagging_fraction': 0.9, 'num_leaves': 500, 'min_child_weight': 60}\n"
     ]
    },
    {
     "name": "stdout",
     "output_type": "stream",
     "text": [
      "Iteration No: 75 ended. Search finished for the next optimal point.\n",
      "Time taken: 5.4050\n",
      "Function value obtained: -0.0420\n",
      "Current minimum: -0.1604\n",
      "Iteration No: 76 started. Searching for the next optimal point.\n",
      "[LightGBM] [Warning] feature_fraction is set=0.9, colsample_bytree=1.0 will be ignored. Current value: feature_fraction=0.9\n",
      "[LightGBM] [Warning] bagging_fraction is set=0.9, subsample=1.0 will be ignored. Current value: bagging_fraction=0.9\n",
      "Early stopping, best iteration is:\n",
      "[6]\tvalid_0's binary_logloss: 0.692771\tvalid_0's brier: 0.249812\n",
      "[LightGBM] [Warning] feature_fraction is set=0.9, colsample_bytree=1.0 will be ignored. Current value: feature_fraction=0.9\n",
      "[LightGBM] [Warning] bagging_fraction is set=0.9, subsample=1.0 will be ignored. Current value: bagging_fraction=0.9\n",
      "Early stopping, best iteration is:\n",
      "[6]\tvalid_0's binary_logloss: 0.692771\tvalid_0's brier: 0.249812\n",
      "[LightGBM] [Warning] feature_fraction is set=0.9, colsample_bytree=1.0 will be ignored. Current value: feature_fraction=0.9\n",
      "[LightGBM] [Warning] bagging_fraction is set=0.9, subsample=1.0 will be ignored. Current value: bagging_fraction=0.9\n"
     ]
    },
    {
     "name": "stderr",
     "output_type": "stream",
     "text": [
      "2022-03-29 09:45:51 mean cv_value 0.10614184534058602 | std cv_value 0.014828746982591219 \n",
      "2022-03-29 09:45:51 ---------------------------------------------\n"
     ]
    },
    {
     "name": "stdout",
     "output_type": "stream",
     "text": [
      "Early stopping, best iteration is:\n",
      "[6]\tvalid_0's binary_logloss: 0.692771\tvalid_0's brier: 0.249812\n"
     ]
    },
    {
     "name": "stderr",
     "output_type": "stream",
     "text": [
      "2022-03-29 09:45:53 [TRAIN_MODEL] Training model\n",
      "2022-03-29 09:45:53 Set of params....., {'n_estimators': 5, 'reg_alpha': 0.0001, 'learning_rate': 1.0, 'feature_fraction': 0.6508037791427171, 'bagging_fraction': 0.9, 'num_leaves': 500, 'min_child_weight': 60}\n"
     ]
    },
    {
     "name": "stdout",
     "output_type": "stream",
     "text": [
      "Iteration No: 76 ended. Search finished for the next optimal point.\n",
      "Time taken: 9.0643\n",
      "Function value obtained: -0.1061\n",
      "Current minimum: -0.1604\n",
      "Iteration No: 77 started. Searching for the next optimal point.\n",
      "[LightGBM] [Warning] feature_fraction is set=0.6508037791427171, colsample_bytree=1.0 will be ignored. Current value: feature_fraction=0.6508037791427171\n",
      "[LightGBM] [Warning] bagging_fraction is set=0.9, subsample=1.0 will be ignored. Current value: bagging_fraction=0.9\n",
      "Did not meet early stopping. Best iteration is:\n",
      "[6]\tvalid_0's binary_logloss: 0.692771\tvalid_0's brier: 0.249812\n",
      "[LightGBM] [Warning] feature_fraction is set=0.6508037791427171, colsample_bytree=1.0 will be ignored. Current value: feature_fraction=0.6508037791427171\n",
      "[LightGBM] [Warning] bagging_fraction is set=0.9, subsample=1.0 will be ignored. Current value: bagging_fraction=0.9\n",
      "Did not meet early stopping. Best iteration is:\n",
      "[6]\tvalid_0's binary_logloss: 0.692771\tvalid_0's brier: 0.249812\n",
      "[LightGBM] [Warning] feature_fraction is set=0.6508037791427171, colsample_bytree=1.0 will be ignored. Current value: feature_fraction=0.6508037791427171\n",
      "[LightGBM] [Warning] bagging_fraction is set=0.9, subsample=1.0 will be ignored. Current value: bagging_fraction=0.9\n"
     ]
    },
    {
     "name": "stderr",
     "output_type": "stream",
     "text": [
      "2022-03-29 09:45:57 mean cv_value 0.0914770563068747 | std cv_value 0.006315006360714808 \n",
      "2022-03-29 09:45:57 ---------------------------------------------\n"
     ]
    },
    {
     "name": "stdout",
     "output_type": "stream",
     "text": [
      "Did not meet early stopping. Best iteration is:\n",
      "[6]\tvalid_0's binary_logloss: 0.692771\tvalid_0's brier: 0.249812\n"
     ]
    },
    {
     "name": "stderr",
     "output_type": "stream",
     "text": [
      "/usr/local/lib/python3.7/site-packages/skopt/optimizer/optimizer.py:449: UserWarning: The objective has been evaluated at this point before.\n",
      "  warnings.warn(\"The objective has been evaluated \"\n",
      "2022-03-29 09:45:59 [TRAIN_MODEL] Training model\n",
      "2022-03-29 09:45:59 Set of params....., {'n_estimators': 500, 'reg_alpha': 0.0001, 'learning_rate': 1.0, 'feature_fraction': 0.9, 'bagging_fraction': 0.9, 'num_leaves': 500, 'min_child_weight': 2}\n"
     ]
    },
    {
     "name": "stdout",
     "output_type": "stream",
     "text": [
      "Iteration No: 77 ended. Search finished for the next optimal point.\n",
      "Time taken: 5.8035\n",
      "Function value obtained: -0.0915\n",
      "Current minimum: -0.1604\n",
      "Iteration No: 78 started. Searching for the next optimal point.\n",
      "[LightGBM] [Warning] feature_fraction is set=0.9, colsample_bytree=1.0 will be ignored. Current value: feature_fraction=0.9\n",
      "[LightGBM] [Warning] bagging_fraction is set=0.9, subsample=1.0 will be ignored. Current value: bagging_fraction=0.9\n",
      "Early stopping, best iteration is:\n",
      "[6]\tvalid_0's binary_logloss: 0.692771\tvalid_0's brier: 0.249812\n",
      "[LightGBM] [Warning] feature_fraction is set=0.9, colsample_bytree=1.0 will be ignored. Current value: feature_fraction=0.9\n",
      "[LightGBM] [Warning] bagging_fraction is set=0.9, subsample=1.0 will be ignored. Current value: bagging_fraction=0.9\n",
      "Early stopping, best iteration is:\n",
      "[6]\tvalid_0's binary_logloss: 0.692771\tvalid_0's brier: 0.249812\n",
      "[LightGBM] [Warning] feature_fraction is set=0.9, colsample_bytree=1.0 will be ignored. Current value: feature_fraction=0.9\n",
      "[LightGBM] [Warning] bagging_fraction is set=0.9, subsample=1.0 will be ignored. Current value: bagging_fraction=0.9\n"
     ]
    },
    {
     "name": "stderr",
     "output_type": "stream",
     "text": [
      "2022-03-29 09:46:06 mean cv_value 0.10545629431841204 | std cv_value 0.0143454322842606 \n",
      "2022-03-29 09:46:06 ---------------------------------------------\n"
     ]
    },
    {
     "name": "stdout",
     "output_type": "stream",
     "text": [
      "Early stopping, best iteration is:\n",
      "[6]\tvalid_0's binary_logloss: 0.692771\tvalid_0's brier: 0.249812\n"
     ]
    },
    {
     "name": "stderr",
     "output_type": "stream",
     "text": [
      "/usr/local/lib/python3.7/site-packages/skopt/optimizer/optimizer.py:449: UserWarning: The objective has been evaluated at this point before.\n",
      "  warnings.warn(\"The objective has been evaluated \"\n",
      "2022-03-29 09:46:08 [TRAIN_MODEL] Training model\n",
      "2022-03-29 09:46:08 Set of params....., {'n_estimators': 500, 'reg_alpha': 0.0001, 'learning_rate': 1.0, 'feature_fraction': 0.9, 'bagging_fraction': 0.9, 'num_leaves': 500, 'min_child_weight': 2}\n"
     ]
    },
    {
     "name": "stdout",
     "output_type": "stream",
     "text": [
      "Iteration No: 78 ended. Search finished for the next optimal point.\n",
      "Time taken: 9.6664\n",
      "Function value obtained: -0.1055\n",
      "Current minimum: -0.1604\n",
      "Iteration No: 79 started. Searching for the next optimal point.\n",
      "[LightGBM] [Warning] feature_fraction is set=0.9, colsample_bytree=1.0 will be ignored. Current value: feature_fraction=0.9\n",
      "[LightGBM] [Warning] bagging_fraction is set=0.9, subsample=1.0 will be ignored. Current value: bagging_fraction=0.9\n",
      "Early stopping, best iteration is:\n",
      "[6]\tvalid_0's binary_logloss: 0.692771\tvalid_0's brier: 0.249812\n",
      "[LightGBM] [Warning] feature_fraction is set=0.9, colsample_bytree=1.0 will be ignored. Current value: feature_fraction=0.9\n",
      "[LightGBM] [Warning] bagging_fraction is set=0.9, subsample=1.0 will be ignored. Current value: bagging_fraction=0.9\n",
      "Early stopping, best iteration is:\n",
      "[6]\tvalid_0's binary_logloss: 0.692771\tvalid_0's brier: 0.249812\n",
      "[LightGBM] [Warning] feature_fraction is set=0.9, colsample_bytree=1.0 will be ignored. Current value: feature_fraction=0.9\n",
      "[LightGBM] [Warning] bagging_fraction is set=0.9, subsample=1.0 will be ignored. Current value: bagging_fraction=0.9\n"
     ]
    },
    {
     "name": "stderr",
     "output_type": "stream",
     "text": [
      "2022-03-29 09:46:15 mean cv_value 0.10545629431841204 | std cv_value 0.0143454322842606 \n",
      "2022-03-29 09:46:15 ---------------------------------------------\n"
     ]
    },
    {
     "name": "stdout",
     "output_type": "stream",
     "text": [
      "Early stopping, best iteration is:\n",
      "[6]\tvalid_0's binary_logloss: 0.692771\tvalid_0's brier: 0.249812\n"
     ]
    },
    {
     "name": "stderr",
     "output_type": "stream",
     "text": [
      "2022-03-29 09:46:17 [TRAIN_MODEL] Training model\n",
      "2022-03-29 09:46:17 Set of params....., {'n_estimators': 500, 'reg_alpha': 0.0001, 'learning_rate': 1.0, 'feature_fraction': 0.9, 'bagging_fraction': 0.1, 'num_leaves': 500, 'min_child_weight': 2}\n"
     ]
    },
    {
     "name": "stdout",
     "output_type": "stream",
     "text": [
      "Iteration No: 79 ended. Search finished for the next optimal point.\n",
      "Time taken: 8.7371\n",
      "Function value obtained: -0.1055\n",
      "Current minimum: -0.1604\n",
      "Iteration No: 80 started. Searching for the next optimal point.\n",
      "[LightGBM] [Warning] feature_fraction is set=0.9, colsample_bytree=1.0 will be ignored. Current value: feature_fraction=0.9\n",
      "[LightGBM] [Warning] bagging_fraction is set=0.1, subsample=1.0 will be ignored. Current value: bagging_fraction=0.1\n",
      "Early stopping, best iteration is:\n",
      "[6]\tvalid_0's binary_logloss: 0.692771\tvalid_0's brier: 0.249812\n",
      "[LightGBM] [Warning] feature_fraction is set=0.9, colsample_bytree=1.0 will be ignored. Current value: feature_fraction=0.9\n",
      "[LightGBM] [Warning] bagging_fraction is set=0.1, subsample=1.0 will be ignored. Current value: bagging_fraction=0.1\n",
      "Early stopping, best iteration is:\n",
      "[6]\tvalid_0's binary_logloss: 0.692771\tvalid_0's brier: 0.249812\n",
      "[LightGBM] [Warning] feature_fraction is set=0.9, colsample_bytree=1.0 will be ignored. Current value: feature_fraction=0.9\n",
      "[LightGBM] [Warning] bagging_fraction is set=0.1, subsample=1.0 will be ignored. Current value: bagging_fraction=0.1\n",
      "Early stopping, best iteration is:\n",
      "[6]\tvalid_0's binary_logloss: 0.692771\tvalid_0's brier: 0.249812\n"
     ]
    },
    {
     "name": "stderr",
     "output_type": "stream",
     "text": [
      "2022-03-29 09:46:23 mean cv_value 0.10545629431841204 | std cv_value 0.0143454322842606 \n",
      "2022-03-29 09:46:23 ---------------------------------------------\n",
      "2022-03-29 09:46:26 [TRAIN_MODEL] Training model\n",
      "2022-03-29 09:46:26 Set of params....., {'n_estimators': 430, 'reg_alpha': 79.53559075195795, 'learning_rate': 0.00010314575373174927, 'feature_fraction': 0.11415766912253336, 'bagging_fraction': 0.377225524085548, 'num_leaves': 499, 'min_child_weight': 24}\n"
     ]
    },
    {
     "name": "stdout",
     "output_type": "stream",
     "text": [
      "Iteration No: 80 ended. Search finished for the next optimal point.\n",
      "Time taken: 8.4134\n",
      "Function value obtained: -0.1055\n",
      "Current minimum: -0.1604\n",
      "Iteration No: 81 started. Searching for the next optimal point.\n",
      "[LightGBM] [Warning] feature_fraction is set=0.11415766912253336, colsample_bytree=1.0 will be ignored. Current value: feature_fraction=0.11415766912253336\n",
      "[LightGBM] [Warning] bagging_fraction is set=0.377225524085548, subsample=1.0 will be ignored. Current value: bagging_fraction=0.377225524085548\n",
      "Early stopping, best iteration is:\n",
      "[6]\tvalid_0's binary_logloss: 0.692771\tvalid_0's brier: 0.249812\n",
      "[LightGBM] [Warning] feature_fraction is set=0.11415766912253336, colsample_bytree=1.0 will be ignored. Current value: feature_fraction=0.11415766912253336\n",
      "[LightGBM] [Warning] bagging_fraction is set=0.377225524085548, subsample=1.0 will be ignored. Current value: bagging_fraction=0.377225524085548\n",
      "Early stopping, best iteration is:\n",
      "[6]\tvalid_0's binary_logloss: 0.692771\tvalid_0's brier: 0.249812\n",
      "[LightGBM] [Warning] feature_fraction is set=0.11415766912253336, colsample_bytree=1.0 will be ignored. Current value: feature_fraction=0.11415766912253336\n",
      "[LightGBM] [Warning] bagging_fraction is set=0.377225524085548, subsample=1.0 will be ignored. Current value: bagging_fraction=0.377225524085548\n"
     ]
    },
    {
     "name": "stderr",
     "output_type": "stream",
     "text": [
      "2022-03-29 09:46:29 mean cv_value 0.045601581153676664 | std cv_value 0.0073365226418255994 \n",
      "2022-03-29 09:46:29 ---------------------------------------------\n"
     ]
    },
    {
     "name": "stdout",
     "output_type": "stream",
     "text": [
      "Early stopping, best iteration is:\n",
      "[6]\tvalid_0's binary_logloss: 0.692771\tvalid_0's brier: 0.249812\n"
     ]
    },
    {
     "name": "stderr",
     "output_type": "stream",
     "text": [
      "/usr/local/lib/python3.7/site-packages/skopt/optimizer/optimizer.py:449: UserWarning: The objective has been evaluated at this point before.\n",
      "  warnings.warn(\"The objective has been evaluated \"\n",
      "2022-03-29 09:46:31 [TRAIN_MODEL] Training model\n",
      "2022-03-29 09:46:31 Set of params....., {'n_estimators': 500, 'reg_alpha': 0.0001, 'learning_rate': 1.0, 'feature_fraction': 0.9, 'bagging_fraction': 0.9, 'num_leaves': 500, 'min_child_weight': 2}\n"
     ]
    },
    {
     "name": "stdout",
     "output_type": "stream",
     "text": [
      "Iteration No: 81 ended. Search finished for the next optimal point.\n",
      "Time taken: 5.9247\n",
      "Function value obtained: -0.0456\n",
      "Current minimum: -0.1604\n",
      "Iteration No: 82 started. Searching for the next optimal point.\n",
      "[LightGBM] [Warning] feature_fraction is set=0.9, colsample_bytree=1.0 will be ignored. Current value: feature_fraction=0.9\n",
      "[LightGBM] [Warning] bagging_fraction is set=0.9, subsample=1.0 will be ignored. Current value: bagging_fraction=0.9\n",
      "Early stopping, best iteration is:\n",
      "[6]\tvalid_0's binary_logloss: 0.692771\tvalid_0's brier: 0.249812\n",
      "[LightGBM] [Warning] feature_fraction is set=0.9, colsample_bytree=1.0 will be ignored. Current value: feature_fraction=0.9\n",
      "[LightGBM] [Warning] bagging_fraction is set=0.9, subsample=1.0 will be ignored. Current value: bagging_fraction=0.9\n",
      "Early stopping, best iteration is:\n",
      "[6]\tvalid_0's binary_logloss: 0.692771\tvalid_0's brier: 0.249812\n",
      "[LightGBM] [Warning] feature_fraction is set=0.9, colsample_bytree=1.0 will be ignored. Current value: feature_fraction=0.9\n",
      "[LightGBM] [Warning] bagging_fraction is set=0.9, subsample=1.0 will be ignored. Current value: bagging_fraction=0.9\n"
     ]
    },
    {
     "name": "stderr",
     "output_type": "stream",
     "text": [
      "2022-03-29 09:46:38 mean cv_value 0.10545629431841204 | std cv_value 0.0143454322842606 \n",
      "2022-03-29 09:46:38 ---------------------------------------------\n"
     ]
    },
    {
     "name": "stdout",
     "output_type": "stream",
     "text": [
      "Early stopping, best iteration is:\n",
      "[6]\tvalid_0's binary_logloss: 0.692771\tvalid_0's brier: 0.249812\n"
     ]
    },
    {
     "name": "stderr",
     "output_type": "stream",
     "text": [
      "2022-03-29 09:46:40 [TRAIN_MODEL] Training model\n",
      "2022-03-29 09:46:40 Set of params....., {'n_estimators': 359, 'reg_alpha': 525.3999902683273, 'learning_rate': 0.7211308704079175, 'feature_fraction': 0.11338273555340567, 'bagging_fraction': 0.6841199407472384, 'num_leaves': 19, 'min_child_weight': 21}\n"
     ]
    },
    {
     "name": "stdout",
     "output_type": "stream",
     "text": [
      "Iteration No: 82 ended. Search finished for the next optimal point.\n",
      "Time taken: 8.3806\n",
      "Function value obtained: -0.1055\n",
      "Current minimum: -0.1604\n",
      "Iteration No: 83 started. Searching for the next optimal point.\n",
      "[LightGBM] [Warning] feature_fraction is set=0.11338273555340567, colsample_bytree=1.0 will be ignored. Current value: feature_fraction=0.11338273555340567\n",
      "[LightGBM] [Warning] bagging_fraction is set=0.6841199407472384, subsample=1.0 will be ignored. Current value: bagging_fraction=0.6841199407472384\n",
      "Early stopping, best iteration is:\n",
      "[6]\tvalid_0's binary_logloss: 0.692771\tvalid_0's brier: 0.249812\n",
      "[LightGBM] [Warning] feature_fraction is set=0.11338273555340567, colsample_bytree=1.0 will be ignored. Current value: feature_fraction=0.11338273555340567\n",
      "[LightGBM] [Warning] bagging_fraction is set=0.6841199407472384, subsample=1.0 will be ignored. Current value: bagging_fraction=0.6841199407472384\n",
      "Early stopping, best iteration is:\n",
      "[6]\tvalid_0's binary_logloss: 0.692771\tvalid_0's brier: 0.249812\n",
      "[LightGBM] [Warning] feature_fraction is set=0.11338273555340567, colsample_bytree=1.0 will be ignored. Current value: feature_fraction=0.11338273555340567\n",
      "[LightGBM] [Warning] bagging_fraction is set=0.6841199407472384, subsample=1.0 will be ignored. Current value: bagging_fraction=0.6841199407472384\n"
     ]
    },
    {
     "name": "stderr",
     "output_type": "stream",
     "text": [
      "2022-03-29 09:46:43 mean cv_value 0.01259967159049838 | std cv_value 0.019206349113928007 \n",
      "2022-03-29 09:46:43 ---------------------------------------------\n"
     ]
    },
    {
     "name": "stdout",
     "output_type": "stream",
     "text": [
      "Early stopping, best iteration is:\n",
      "[6]\tvalid_0's binary_logloss: 0.692771\tvalid_0's brier: 0.249812\n"
     ]
    },
    {
     "name": "stderr",
     "output_type": "stream",
     "text": [
      "2022-03-29 09:46:45 [TRAIN_MODEL] Training model\n",
      "2022-03-29 09:46:45 Set of params....., {'n_estimators': 500, 'reg_alpha': 0.0001, 'learning_rate': 0.04575771449059532, 'feature_fraction': 0.9, 'bagging_fraction': 0.9, 'num_leaves': 500, 'min_child_weight': 60}\n"
     ]
    },
    {
     "name": "stdout",
     "output_type": "stream",
     "text": [
      "Iteration No: 83 ended. Search finished for the next optimal point.\n",
      "Time taken: 5.3198\n",
      "Function value obtained: -0.0126\n",
      "Current minimum: -0.1604\n",
      "Iteration No: 84 started. Searching for the next optimal point.\n",
      "[LightGBM] [Warning] feature_fraction is set=0.9, colsample_bytree=1.0 will be ignored. Current value: feature_fraction=0.9\n",
      "[LightGBM] [Warning] bagging_fraction is set=0.9, subsample=1.0 will be ignored. Current value: bagging_fraction=0.9\n",
      "Early stopping, best iteration is:\n",
      "[6]\tvalid_0's binary_logloss: 0.692771\tvalid_0's brier: 0.249812\n",
      "[LightGBM] [Warning] feature_fraction is set=0.9, colsample_bytree=1.0 will be ignored. Current value: feature_fraction=0.9\n",
      "[LightGBM] [Warning] bagging_fraction is set=0.9, subsample=1.0 will be ignored. Current value: bagging_fraction=0.9\n",
      "Early stopping, best iteration is:\n",
      "[6]\tvalid_0's binary_logloss: 0.692771\tvalid_0's brier: 0.249812\n",
      "[LightGBM] [Warning] feature_fraction is set=0.9, colsample_bytree=1.0 will be ignored. Current value: feature_fraction=0.9\n",
      "[LightGBM] [Warning] bagging_fraction is set=0.9, subsample=1.0 will be ignored. Current value: bagging_fraction=0.9\n"
     ]
    },
    {
     "name": "stderr",
     "output_type": "stream",
     "text": [
      "2022-03-29 09:46:52 mean cv_value 0.08862104306281689 | std cv_value 0.013696582543107736 \n",
      "2022-03-29 09:46:52 ---------------------------------------------\n"
     ]
    },
    {
     "name": "stdout",
     "output_type": "stream",
     "text": [
      "Early stopping, best iteration is:\n",
      "[6]\tvalid_0's binary_logloss: 0.692771\tvalid_0's brier: 0.249812\n"
     ]
    },
    {
     "name": "stderr",
     "output_type": "stream",
     "text": [
      "2022-03-29 09:46:54 [TRAIN_MODEL] Training model\n",
      "2022-03-29 09:46:54 Set of params....., {'n_estimators': 500, 'reg_alpha': 0.0001, 'learning_rate': 1.0, 'feature_fraction': 0.6415689113279538, 'bagging_fraction': 0.9, 'num_leaves': 500, 'min_child_weight': 2}\n"
     ]
    },
    {
     "name": "stdout",
     "output_type": "stream",
     "text": [
      "Iteration No: 84 ended. Search finished for the next optimal point.\n",
      "Time taken: 9.0704\n",
      "Function value obtained: -0.0886\n",
      "Current minimum: -0.1604\n",
      "Iteration No: 85 started. Searching for the next optimal point.\n",
      "[LightGBM] [Warning] feature_fraction is set=0.6415689113279538, colsample_bytree=1.0 will be ignored. Current value: feature_fraction=0.6415689113279538\n",
      "[LightGBM] [Warning] bagging_fraction is set=0.9, subsample=1.0 will be ignored. Current value: bagging_fraction=0.9\n",
      "Early stopping, best iteration is:\n",
      "[6]\tvalid_0's binary_logloss: 0.692771\tvalid_0's brier: 0.249812\n",
      "[LightGBM] [Warning] feature_fraction is set=0.6415689113279538, colsample_bytree=1.0 will be ignored. Current value: feature_fraction=0.6415689113279538\n",
      "[LightGBM] [Warning] bagging_fraction is set=0.9, subsample=1.0 will be ignored. Current value: bagging_fraction=0.9\n",
      "Early stopping, best iteration is:\n",
      "[6]\tvalid_0's binary_logloss: 0.692771\tvalid_0's brier: 0.249812\n",
      "[LightGBM] [Warning] feature_fraction is set=0.6415689113279538, colsample_bytree=1.0 will be ignored. Current value: feature_fraction=0.6415689113279538\n",
      "[LightGBM] [Warning] bagging_fraction is set=0.9, subsample=1.0 will be ignored. Current value: bagging_fraction=0.9\n"
     ]
    },
    {
     "name": "stderr",
     "output_type": "stream",
     "text": [
      "2022-03-29 09:47:01 mean cv_value 0.09564361087631063 | std cv_value 0.012299949362975 \n",
      "2022-03-29 09:47:01 ---------------------------------------------\n"
     ]
    },
    {
     "name": "stdout",
     "output_type": "stream",
     "text": [
      "Early stopping, best iteration is:\n",
      "[6]\tvalid_0's binary_logloss: 0.692771\tvalid_0's brier: 0.249812\n"
     ]
    },
    {
     "name": "stderr",
     "output_type": "stream",
     "text": [
      "/usr/local/lib/python3.7/site-packages/skopt/optimizer/optimizer.py:449: UserWarning: The objective has been evaluated at this point before.\n",
      "  warnings.warn(\"The objective has been evaluated \"\n",
      "2022-03-29 09:47:03 [TRAIN_MODEL] Training model\n",
      "2022-03-29 09:47:03 Set of params....., {'n_estimators': 5, 'reg_alpha': 0.0001, 'learning_rate': 1.0, 'feature_fraction': 0.9, 'bagging_fraction': 0.9, 'num_leaves': 500, 'min_child_weight': 60}\n"
     ]
    },
    {
     "name": "stdout",
     "output_type": "stream",
     "text": [
      "Iteration No: 85 ended. Search finished for the next optimal point.\n",
      "Time taken: 9.1969\n",
      "Function value obtained: -0.0956\n",
      "Current minimum: -0.1604\n",
      "Iteration No: 86 started. Searching for the next optimal point.\n",
      "[LightGBM] [Warning] feature_fraction is set=0.9, colsample_bytree=1.0 will be ignored. Current value: feature_fraction=0.9\n",
      "[LightGBM] [Warning] bagging_fraction is set=0.9, subsample=1.0 will be ignored. Current value: bagging_fraction=0.9\n",
      "Did not meet early stopping. Best iteration is:\n",
      "[6]\tvalid_0's binary_logloss: 0.692771\tvalid_0's brier: 0.249812\n",
      "[LightGBM] [Warning] feature_fraction is set=0.9, colsample_bytree=1.0 will be ignored. Current value: feature_fraction=0.9\n",
      "[LightGBM] [Warning] bagging_fraction is set=0.9, subsample=1.0 will be ignored. Current value: bagging_fraction=0.9\n",
      "Did not meet early stopping. Best iteration is:\n",
      "[6]\tvalid_0's binary_logloss: 0.692771\tvalid_0's brier: 0.249812\n",
      "[LightGBM] [Warning] feature_fraction is set=0.9, colsample_bytree=1.0 will be ignored. Current value: feature_fraction=0.9\n",
      "[LightGBM] [Warning] bagging_fraction is set=0.9, subsample=1.0 will be ignored. Current value: bagging_fraction=0.9\n"
     ]
    },
    {
     "name": "stderr",
     "output_type": "stream",
     "text": [
      "2022-03-29 09:47:07 mean cv_value 0.10134195827839972 | std cv_value 0.012722678918549512 \n",
      "2022-03-29 09:47:07 ---------------------------------------------\n"
     ]
    },
    {
     "name": "stdout",
     "output_type": "stream",
     "text": [
      "Did not meet early stopping. Best iteration is:\n",
      "[6]\tvalid_0's binary_logloss: 0.692771\tvalid_0's brier: 0.249812\n"
     ]
    },
    {
     "name": "stderr",
     "output_type": "stream",
     "text": [
      "/usr/local/lib/python3.7/site-packages/skopt/optimizer/optimizer.py:449: UserWarning: The objective has been evaluated at this point before.\n",
      "  warnings.warn(\"The objective has been evaluated \"\n",
      "2022-03-29 09:47:10 [TRAIN_MODEL] Training model\n",
      "2022-03-29 09:47:10 Set of params....., {'n_estimators': 500, 'reg_alpha': 0.0001, 'learning_rate': 1.0, 'feature_fraction': 0.9, 'bagging_fraction': 0.1, 'num_leaves': 500, 'min_child_weight': 60}\n"
     ]
    },
    {
     "name": "stdout",
     "output_type": "stream",
     "text": [
      "Iteration No: 86 ended. Search finished for the next optimal point.\n",
      "Time taken: 6.2863\n",
      "Function value obtained: -0.1013\n",
      "Current minimum: -0.1604\n",
      "Iteration No: 87 started. Searching for the next optimal point.\n",
      "[LightGBM] [Warning] feature_fraction is set=0.9, colsample_bytree=1.0 will be ignored. Current value: feature_fraction=0.9\n",
      "[LightGBM] [Warning] bagging_fraction is set=0.1, subsample=1.0 will be ignored. Current value: bagging_fraction=0.1\n",
      "Early stopping, best iteration is:\n",
      "[6]\tvalid_0's binary_logloss: 0.692771\tvalid_0's brier: 0.249812\n",
      "[LightGBM] [Warning] feature_fraction is set=0.9, colsample_bytree=1.0 will be ignored. Current value: feature_fraction=0.9\n",
      "[LightGBM] [Warning] bagging_fraction is set=0.1, subsample=1.0 will be ignored. Current value: bagging_fraction=0.1\n",
      "Early stopping, best iteration is:\n",
      "[6]\tvalid_0's binary_logloss: 0.692771\tvalid_0's brier: 0.249812\n",
      "[LightGBM] [Warning] feature_fraction is set=0.9, colsample_bytree=1.0 will be ignored. Current value: feature_fraction=0.9\n",
      "[LightGBM] [Warning] bagging_fraction is set=0.1, subsample=1.0 will be ignored. Current value: bagging_fraction=0.1\n"
     ]
    },
    {
     "name": "stderr",
     "output_type": "stream",
     "text": [
      "2022-03-29 09:47:17 mean cv_value 0.10614184534058602 | std cv_value 0.014828746982591219 \n",
      "2022-03-29 09:47:17 ---------------------------------------------\n"
     ]
    },
    {
     "name": "stdout",
     "output_type": "stream",
     "text": [
      "Early stopping, best iteration is:\n",
      "[6]\tvalid_0's binary_logloss: 0.692771\tvalid_0's brier: 0.249812\n"
     ]
    },
    {
     "name": "stderr",
     "output_type": "stream",
     "text": [
      "/usr/local/lib/python3.7/site-packages/skopt/optimizer/optimizer.py:449: UserWarning: The objective has been evaluated at this point before.\n",
      "  warnings.warn(\"The objective has been evaluated \"\n",
      "2022-03-29 09:47:19 [TRAIN_MODEL] Training model\n",
      "2022-03-29 09:47:19 Set of params....., {'n_estimators': 500, 'reg_alpha': 0.0001, 'learning_rate': 1.0, 'feature_fraction': 0.9, 'bagging_fraction': 0.1, 'num_leaves': 500, 'min_child_weight': 60}\n"
     ]
    },
    {
     "name": "stdout",
     "output_type": "stream",
     "text": [
      "Iteration No: 87 ended. Search finished for the next optimal point.\n",
      "Time taken: 8.9342\n",
      "Function value obtained: -0.1061\n",
      "Current minimum: -0.1604\n",
      "Iteration No: 88 started. Searching for the next optimal point.\n",
      "[LightGBM] [Warning] feature_fraction is set=0.9, colsample_bytree=1.0 will be ignored. Current value: feature_fraction=0.9\n",
      "[LightGBM] [Warning] bagging_fraction is set=0.1, subsample=1.0 will be ignored. Current value: bagging_fraction=0.1\n",
      "Early stopping, best iteration is:\n",
      "[6]\tvalid_0's binary_logloss: 0.692771\tvalid_0's brier: 0.249812\n",
      "[LightGBM] [Warning] feature_fraction is set=0.9, colsample_bytree=1.0 will be ignored. Current value: feature_fraction=0.9\n",
      "[LightGBM] [Warning] bagging_fraction is set=0.1, subsample=1.0 will be ignored. Current value: bagging_fraction=0.1\n",
      "Early stopping, best iteration is:\n",
      "[6]\tvalid_0's binary_logloss: 0.692771\tvalid_0's brier: 0.249812\n",
      "[LightGBM] [Warning] feature_fraction is set=0.9, colsample_bytree=1.0 will be ignored. Current value: feature_fraction=0.9\n",
      "[LightGBM] [Warning] bagging_fraction is set=0.1, subsample=1.0 will be ignored. Current value: bagging_fraction=0.1\n"
     ]
    },
    {
     "name": "stderr",
     "output_type": "stream",
     "text": [
      "2022-03-29 09:47:26 mean cv_value 0.10614184534058602 | std cv_value 0.014828746982591219 \n",
      "2022-03-29 09:47:26 ---------------------------------------------\n"
     ]
    },
    {
     "name": "stdout",
     "output_type": "stream",
     "text": [
      "Early stopping, best iteration is:\n",
      "[6]\tvalid_0's binary_logloss: 0.692771\tvalid_0's brier: 0.249812\n"
     ]
    },
    {
     "name": "stderr",
     "output_type": "stream",
     "text": [
      "2022-03-29 09:47:27 [TRAIN_MODEL] Training model\n",
      "2022-03-29 09:47:27 Set of params....., {'n_estimators': 5, 'reg_alpha': 0.0001, 'learning_rate': 1.0, 'feature_fraction': 0.6563511386837486, 'bagging_fraction': 0.1, 'num_leaves': 500, 'min_child_weight': 60}\n"
     ]
    },
    {
     "name": "stdout",
     "output_type": "stream",
     "text": [
      "Iteration No: 88 ended. Search finished for the next optimal point.\n",
      "Time taken: 8.7272\n",
      "Function value obtained: -0.1061\n",
      "Current minimum: -0.1604\n",
      "Iteration No: 89 started. Searching for the next optimal point.\n",
      "[LightGBM] [Warning] feature_fraction is set=0.6563511386837486, colsample_bytree=1.0 will be ignored. Current value: feature_fraction=0.6563511386837486\n",
      "[LightGBM] [Warning] bagging_fraction is set=0.1, subsample=1.0 will be ignored. Current value: bagging_fraction=0.1\n",
      "Did not meet early stopping. Best iteration is:\n",
      "[6]\tvalid_0's binary_logloss: 0.692771\tvalid_0's brier: 0.249812\n",
      "[LightGBM] [Warning] feature_fraction is set=0.6563511386837486, colsample_bytree=1.0 will be ignored. Current value: feature_fraction=0.6563511386837486\n",
      "[LightGBM] [Warning] bagging_fraction is set=0.1, subsample=1.0 will be ignored. Current value: bagging_fraction=0.1\n",
      "Did not meet early stopping. Best iteration is:\n",
      "[6]\tvalid_0's binary_logloss: 0.692771\tvalid_0's brier: 0.249812\n",
      "[LightGBM] [Warning] feature_fraction is set=0.6563511386837486, colsample_bytree=1.0 will be ignored. Current value: feature_fraction=0.6563511386837486\n",
      "[LightGBM] [Warning] bagging_fraction is set=0.1, subsample=1.0 will be ignored. Current value: bagging_fraction=0.1\n"
     ]
    },
    {
     "name": "stderr",
     "output_type": "stream",
     "text": [
      "2022-03-29 09:47:31 mean cv_value 0.0914770563068747 | std cv_value 0.006315006360714808 \n",
      "2022-03-29 09:47:31 ---------------------------------------------\n"
     ]
    },
    {
     "name": "stdout",
     "output_type": "stream",
     "text": [
      "Did not meet early stopping. Best iteration is:\n",
      "[6]\tvalid_0's binary_logloss: 0.692771\tvalid_0's brier: 0.249812\n"
     ]
    },
    {
     "name": "stderr",
     "output_type": "stream",
     "text": [
      "/usr/local/lib/python3.7/site-packages/skopt/optimizer/optimizer.py:449: UserWarning: The objective has been evaluated at this point before.\n",
      "  warnings.warn(\"The objective has been evaluated \"\n",
      "2022-03-29 09:47:33 [TRAIN_MODEL] Training model\n",
      "2022-03-29 09:47:33 Set of params....., {'n_estimators': 500, 'reg_alpha': 0.0001, 'learning_rate': 1.0, 'feature_fraction': 0.9, 'bagging_fraction': 0.9, 'num_leaves': 500, 'min_child_weight': 2}\n"
     ]
    },
    {
     "name": "stdout",
     "output_type": "stream",
     "text": [
      "Iteration No: 89 ended. Search finished for the next optimal point.\n",
      "Time taken: 5.9722\n",
      "Function value obtained: -0.0915\n",
      "Current minimum: -0.1604\n",
      "Iteration No: 90 started. Searching for the next optimal point.\n",
      "[LightGBM] [Warning] feature_fraction is set=0.9, colsample_bytree=1.0 will be ignored. Current value: feature_fraction=0.9\n",
      "[LightGBM] [Warning] bagging_fraction is set=0.9, subsample=1.0 will be ignored. Current value: bagging_fraction=0.9\n",
      "Early stopping, best iteration is:\n",
      "[6]\tvalid_0's binary_logloss: 0.692771\tvalid_0's brier: 0.249812\n",
      "[LightGBM] [Warning] feature_fraction is set=0.9, colsample_bytree=1.0 will be ignored. Current value: feature_fraction=0.9\n",
      "[LightGBM] [Warning] bagging_fraction is set=0.9, subsample=1.0 will be ignored. Current value: bagging_fraction=0.9\n",
      "Early stopping, best iteration is:\n",
      "[6]\tvalid_0's binary_logloss: 0.692771\tvalid_0's brier: 0.249812\n",
      "[LightGBM] [Warning] feature_fraction is set=0.9, colsample_bytree=1.0 will be ignored. Current value: feature_fraction=0.9\n",
      "[LightGBM] [Warning] bagging_fraction is set=0.9, subsample=1.0 will be ignored. Current value: bagging_fraction=0.9\n"
     ]
    },
    {
     "name": "stderr",
     "output_type": "stream",
     "text": [
      "2022-03-29 09:47:40 mean cv_value 0.10545629431841204 | std cv_value 0.0143454322842606 \n",
      "2022-03-29 09:47:40 ---------------------------------------------\n"
     ]
    },
    {
     "name": "stdout",
     "output_type": "stream",
     "text": [
      "Early stopping, best iteration is:\n",
      "[6]\tvalid_0's binary_logloss: 0.692771\tvalid_0's brier: 0.249812\n"
     ]
    },
    {
     "name": "stderr",
     "output_type": "stream",
     "text": [
      "2022-03-29 09:47:42 [TRAIN_MODEL] Training model\n",
      "2022-03-29 09:47:42 Set of params....., {'n_estimators': 235, 'reg_alpha': 15.591679209209568, 'learning_rate': 0.0001361965203161143, 'feature_fraction': 0.14677979387254275, 'bagging_fraction': 0.8120324787605894, 'num_leaves': 11, 'min_child_weight': 19}\n"
     ]
    },
    {
     "name": "stdout",
     "output_type": "stream",
     "text": [
      "Iteration No: 90 ended. Search finished for the next optimal point.\n",
      "Time taken: 8.5188\n",
      "Function value obtained: -0.1055\n",
      "Current minimum: -0.1604\n",
      "Iteration No: 91 started. Searching for the next optimal point.\n",
      "[LightGBM] [Warning] feature_fraction is set=0.14677979387254275, colsample_bytree=1.0 will be ignored. Current value: feature_fraction=0.14677979387254275\n",
      "[LightGBM] [Warning] bagging_fraction is set=0.8120324787605894, subsample=1.0 will be ignored. Current value: bagging_fraction=0.8120324787605894\n",
      "Early stopping, best iteration is:\n",
      "[6]\tvalid_0's binary_logloss: 0.692771\tvalid_0's brier: 0.249812\n",
      "[LightGBM] [Warning] feature_fraction is set=0.14677979387254275, colsample_bytree=1.0 will be ignored. Current value: feature_fraction=0.14677979387254275\n",
      "[LightGBM] [Warning] bagging_fraction is set=0.8120324787605894, subsample=1.0 will be ignored. Current value: bagging_fraction=0.8120324787605894\n",
      "Early stopping, best iteration is:\n",
      "[6]\tvalid_0's binary_logloss: 0.692771\tvalid_0's brier: 0.249812\n",
      "[LightGBM] [Warning] feature_fraction is set=0.14677979387254275, colsample_bytree=1.0 will be ignored. Current value: feature_fraction=0.14677979387254275\n",
      "[LightGBM] [Warning] bagging_fraction is set=0.8120324787605894, subsample=1.0 will be ignored. Current value: bagging_fraction=0.8120324787605894\n"
     ]
    },
    {
     "name": "stderr",
     "output_type": "stream",
     "text": [
      "2022-03-29 09:47:45 mean cv_value 0.0379846591076843 | std cv_value 0.010692745850855034 \n",
      "2022-03-29 09:47:45 ---------------------------------------------\n"
     ]
    },
    {
     "name": "stdout",
     "output_type": "stream",
     "text": [
      "Early stopping, best iteration is:\n",
      "[6]\tvalid_0's binary_logloss: 0.692771\tvalid_0's brier: 0.249812\n"
     ]
    },
    {
     "name": "stderr",
     "output_type": "stream",
     "text": [
      "/usr/local/lib/python3.7/site-packages/skopt/optimizer/optimizer.py:449: UserWarning: The objective has been evaluated at this point before.\n",
      "  warnings.warn(\"The objective has been evaluated \"\n",
      "2022-03-29 09:47:47 [TRAIN_MODEL] Training model\n",
      "2022-03-29 09:47:47 Set of params....., {'n_estimators': 5, 'reg_alpha': 0.0001, 'learning_rate': 1.0, 'feature_fraction': 0.9, 'bagging_fraction': 0.9, 'num_leaves': 500, 'min_child_weight': 60}\n"
     ]
    },
    {
     "name": "stdout",
     "output_type": "stream",
     "text": [
      "Iteration No: 91 ended. Search finished for the next optimal point.\n",
      "Time taken: 5.5876\n",
      "Function value obtained: -0.0380\n",
      "Current minimum: -0.1604\n",
      "Iteration No: 92 started. Searching for the next optimal point.\n",
      "[LightGBM] [Warning] feature_fraction is set=0.9, colsample_bytree=1.0 will be ignored. Current value: feature_fraction=0.9\n",
      "[LightGBM] [Warning] bagging_fraction is set=0.9, subsample=1.0 will be ignored. Current value: bagging_fraction=0.9\n",
      "Did not meet early stopping. Best iteration is:\n",
      "[6]\tvalid_0's binary_logloss: 0.692771\tvalid_0's brier: 0.249812\n",
      "[LightGBM] [Warning] feature_fraction is set=0.9, colsample_bytree=1.0 will be ignored. Current value: feature_fraction=0.9\n",
      "[LightGBM] [Warning] bagging_fraction is set=0.9, subsample=1.0 will be ignored. Current value: bagging_fraction=0.9\n",
      "Did not meet early stopping. Best iteration is:\n",
      "[6]\tvalid_0's binary_logloss: 0.692771\tvalid_0's brier: 0.249812\n",
      "[LightGBM] [Warning] feature_fraction is set=0.9, colsample_bytree=1.0 will be ignored. Current value: feature_fraction=0.9\n",
      "[LightGBM] [Warning] bagging_fraction is set=0.9, subsample=1.0 will be ignored. Current value: bagging_fraction=0.9\n"
     ]
    },
    {
     "name": "stderr",
     "output_type": "stream",
     "text": [
      "2022-03-29 09:47:51 mean cv_value 0.10134195827839972 | std cv_value 0.012722678918549512 \n",
      "2022-03-29 09:47:51 ---------------------------------------------\n"
     ]
    },
    {
     "name": "stdout",
     "output_type": "stream",
     "text": [
      "Did not meet early stopping. Best iteration is:\n",
      "[6]\tvalid_0's binary_logloss: 0.692771\tvalid_0's brier: 0.249812\n"
     ]
    },
    {
     "name": "stderr",
     "output_type": "stream",
     "text": [
      "2022-03-29 09:47:53 [TRAIN_MODEL] Training model\n",
      "2022-03-29 09:47:53 Set of params....., {'n_estimators': 500, 'reg_alpha': 0.0001, 'learning_rate': 0.07295782481534203, 'feature_fraction': 0.9, 'bagging_fraction': 0.9, 'num_leaves': 500, 'min_child_weight': 2}\n"
     ]
    },
    {
     "name": "stdout",
     "output_type": "stream",
     "text": [
      "Iteration No: 92 ended. Search finished for the next optimal point.\n",
      "Time taken: 5.9426\n",
      "Function value obtained: -0.1013\n",
      "Current minimum: -0.1604\n",
      "Iteration No: 93 started. Searching for the next optimal point.\n",
      "[LightGBM] [Warning] feature_fraction is set=0.9, colsample_bytree=1.0 will be ignored. Current value: feature_fraction=0.9\n",
      "[LightGBM] [Warning] bagging_fraction is set=0.9, subsample=1.0 will be ignored. Current value: bagging_fraction=0.9\n",
      "Early stopping, best iteration is:\n",
      "[6]\tvalid_0's binary_logloss: 0.692771\tvalid_0's brier: 0.249812\n",
      "[LightGBM] [Warning] feature_fraction is set=0.9, colsample_bytree=1.0 will be ignored. Current value: feature_fraction=0.9\n",
      "[LightGBM] [Warning] bagging_fraction is set=0.9, subsample=1.0 will be ignored. Current value: bagging_fraction=0.9\n",
      "Early stopping, best iteration is:\n",
      "[6]\tvalid_0's binary_logloss: 0.692771\tvalid_0's brier: 0.249812\n",
      "[LightGBM] [Warning] feature_fraction is set=0.9, colsample_bytree=1.0 will be ignored. Current value: feature_fraction=0.9\n",
      "[LightGBM] [Warning] bagging_fraction is set=0.9, subsample=1.0 will be ignored. Current value: bagging_fraction=0.9\n"
     ]
    },
    {
     "name": "stderr",
     "output_type": "stream",
     "text": [
      "2022-03-29 09:48:00 mean cv_value 0.10174456889026616 | std cv_value 0.004950682772081755 \n",
      "2022-03-29 09:48:00 ---------------------------------------------\n"
     ]
    },
    {
     "name": "stdout",
     "output_type": "stream",
     "text": [
      "Early stopping, best iteration is:\n",
      "[6]\tvalid_0's binary_logloss: 0.692771\tvalid_0's brier: 0.249812\n"
     ]
    },
    {
     "name": "stderr",
     "output_type": "stream",
     "text": [
      "/usr/local/lib/python3.7/site-packages/skopt/optimizer/optimizer.py:449: UserWarning: The objective has been evaluated at this point before.\n",
      "  warnings.warn(\"The objective has been evaluated \"\n",
      "2022-03-29 09:48:03 [TRAIN_MODEL] Training model\n",
      "2022-03-29 09:48:03 Set of params....., {'n_estimators': 500, 'reg_alpha': 0.0001, 'learning_rate': 1.0, 'feature_fraction': 0.9, 'bagging_fraction': 0.9, 'num_leaves': 500, 'min_child_weight': 2}\n"
     ]
    },
    {
     "name": "stdout",
     "output_type": "stream",
     "text": [
      "Iteration No: 93 ended. Search finished for the next optimal point.\n",
      "Time taken: 9.1904\n",
      "Function value obtained: -0.1017\n",
      "Current minimum: -0.1604\n",
      "Iteration No: 94 started. Searching for the next optimal point.\n",
      "[LightGBM] [Warning] feature_fraction is set=0.9, colsample_bytree=1.0 will be ignored. Current value: feature_fraction=0.9\n",
      "[LightGBM] [Warning] bagging_fraction is set=0.9, subsample=1.0 will be ignored. Current value: bagging_fraction=0.9\n",
      "Early stopping, best iteration is:\n",
      "[6]\tvalid_0's binary_logloss: 0.692771\tvalid_0's brier: 0.249812\n",
      "[LightGBM] [Warning] feature_fraction is set=0.9, colsample_bytree=1.0 will be ignored. Current value: feature_fraction=0.9\n",
      "[LightGBM] [Warning] bagging_fraction is set=0.9, subsample=1.0 will be ignored. Current value: bagging_fraction=0.9\n",
      "Early stopping, best iteration is:\n",
      "[6]\tvalid_0's binary_logloss: 0.692771\tvalid_0's brier: 0.249812\n",
      "[LightGBM] [Warning] feature_fraction is set=0.9, colsample_bytree=1.0 will be ignored. Current value: feature_fraction=0.9\n",
      "[LightGBM] [Warning] bagging_fraction is set=0.9, subsample=1.0 will be ignored. Current value: bagging_fraction=0.9\n"
     ]
    },
    {
     "name": "stderr",
     "output_type": "stream",
     "text": [
      "2022-03-29 09:48:09 mean cv_value 0.10545629431841204 | std cv_value 0.0143454322842606 \n",
      "2022-03-29 09:48:09 ---------------------------------------------\n"
     ]
    },
    {
     "name": "stdout",
     "output_type": "stream",
     "text": [
      "Early stopping, best iteration is:\n",
      "[6]\tvalid_0's binary_logloss: 0.692771\tvalid_0's brier: 0.249812\n"
     ]
    },
    {
     "name": "stderr",
     "output_type": "stream",
     "text": [
      "2022-03-29 09:48:11 [TRAIN_MODEL] Training model\n",
      "2022-03-29 09:48:11 Set of params....., {'n_estimators': 5, 'reg_alpha': 0.0001, 'learning_rate': 1.0, 'feature_fraction': 0.6787065061119185, 'bagging_fraction': 0.9, 'num_leaves': 500, 'min_child_weight': 2}\n"
     ]
    },
    {
     "name": "stdout",
     "output_type": "stream",
     "text": [
      "Iteration No: 94 ended. Search finished for the next optimal point.\n",
      "Time taken: 8.8111\n",
      "Function value obtained: -0.1055\n",
      "Current minimum: -0.1604\n",
      "Iteration No: 95 started. Searching for the next optimal point.\n",
      "[LightGBM] [Warning] feature_fraction is set=0.6787065061119185, colsample_bytree=1.0 will be ignored. Current value: feature_fraction=0.6787065061119185\n",
      "[LightGBM] [Warning] bagging_fraction is set=0.9, subsample=1.0 will be ignored. Current value: bagging_fraction=0.9\n",
      "Did not meet early stopping. Best iteration is:\n",
      "[6]\tvalid_0's binary_logloss: 0.692771\tvalid_0's brier: 0.249812\n",
      "[LightGBM] [Warning] feature_fraction is set=0.6787065061119185, colsample_bytree=1.0 will be ignored. Current value: feature_fraction=0.6787065061119185\n",
      "[LightGBM] [Warning] bagging_fraction is set=0.9, subsample=1.0 will be ignored. Current value: bagging_fraction=0.9\n",
      "Did not meet early stopping. Best iteration is:\n",
      "[6]\tvalid_0's binary_logloss: 0.692771\tvalid_0's brier: 0.249812\n",
      "[LightGBM] [Warning] feature_fraction is set=0.6787065061119185, colsample_bytree=1.0 will be ignored. Current value: feature_fraction=0.6787065061119185\n",
      "[LightGBM] [Warning] bagging_fraction is set=0.9, subsample=1.0 will be ignored. Current value: bagging_fraction=0.9\n"
     ]
    },
    {
     "name": "stderr",
     "output_type": "stream",
     "text": [
      "2022-03-29 09:48:16 mean cv_value 0.09529936041421971 | std cv_value 0.0148573378744296 \n",
      "2022-03-29 09:48:16 ---------------------------------------------\n"
     ]
    },
    {
     "name": "stdout",
     "output_type": "stream",
     "text": [
      "Did not meet early stopping. Best iteration is:\n",
      "[6]\tvalid_0's binary_logloss: 0.692771\tvalid_0's brier: 0.249812\n"
     ]
    },
    {
     "name": "stderr",
     "output_type": "stream",
     "text": [
      "2022-03-29 09:48:19 [TRAIN_MODEL] Training model\n",
      "2022-03-29 09:48:19 Set of params....., {'n_estimators': 500, 'reg_alpha': 0.0001, 'learning_rate': 0.06781505567687558, 'feature_fraction': 0.9, 'bagging_fraction': 0.9, 'num_leaves': 500, 'min_child_weight': 2}\n"
     ]
    },
    {
     "name": "stdout",
     "output_type": "stream",
     "text": [
      "Iteration No: 95 ended. Search finished for the next optimal point.\n",
      "Time taken: 7.2056\n",
      "Function value obtained: -0.0953\n",
      "Current minimum: -0.1604\n",
      "Iteration No: 96 started. Searching for the next optimal point.\n",
      "[LightGBM] [Warning] feature_fraction is set=0.9, colsample_bytree=1.0 will be ignored. Current value: feature_fraction=0.9\n",
      "[LightGBM] [Warning] bagging_fraction is set=0.9, subsample=1.0 will be ignored. Current value: bagging_fraction=0.9\n",
      "Early stopping, best iteration is:\n",
      "[6]\tvalid_0's binary_logloss: 0.692771\tvalid_0's brier: 0.249812\n",
      "[LightGBM] [Warning] feature_fraction is set=0.9, colsample_bytree=1.0 will be ignored. Current value: feature_fraction=0.9\n",
      "[LightGBM] [Warning] bagging_fraction is set=0.9, subsample=1.0 will be ignored. Current value: bagging_fraction=0.9\n",
      "Early stopping, best iteration is:\n",
      "[6]\tvalid_0's binary_logloss: 0.692771\tvalid_0's brier: 0.249812\n",
      "[LightGBM] [Warning] feature_fraction is set=0.9, colsample_bytree=1.0 will be ignored. Current value: feature_fraction=0.9\n",
      "[LightGBM] [Warning] bagging_fraction is set=0.9, subsample=1.0 will be ignored. Current value: bagging_fraction=0.9\n"
     ]
    },
    {
     "name": "stderr",
     "output_type": "stream",
     "text": [
      "2022-03-29 09:48:25 mean cv_value 0.09940444021665296 | std cv_value 0.0061232592953865995 \n",
      "2022-03-29 09:48:25 ---------------------------------------------\n"
     ]
    },
    {
     "name": "stdout",
     "output_type": "stream",
     "text": [
      "Early stopping, best iteration is:\n",
      "[6]\tvalid_0's binary_logloss: 0.692771\tvalid_0's brier: 0.249812\n"
     ]
    },
    {
     "name": "stderr",
     "output_type": "stream",
     "text": [
      "2022-03-29 09:48:28 [TRAIN_MODEL] Training model\n",
      "2022-03-29 09:48:28 Set of params....., {'n_estimators': 500, 'reg_alpha': 0.0001, 'learning_rate': 0.10327483763825833, 'feature_fraction': 0.6869979512307869, 'bagging_fraction': 0.9, 'num_leaves': 500, 'min_child_weight': 2}\n"
     ]
    },
    {
     "name": "stdout",
     "output_type": "stream",
     "text": [
      "Iteration No: 96 ended. Search finished for the next optimal point.\n",
      "Time taken: 9.5935\n",
      "Function value obtained: -0.0994\n",
      "Current minimum: -0.1604\n",
      "Iteration No: 97 started. Searching for the next optimal point.\n",
      "[LightGBM] [Warning] feature_fraction is set=0.6869979512307869, colsample_bytree=1.0 will be ignored. Current value: feature_fraction=0.6869979512307869\n",
      "[LightGBM] [Warning] bagging_fraction is set=0.9, subsample=1.0 will be ignored. Current value: bagging_fraction=0.9\n",
      "Early stopping, best iteration is:\n",
      "[6]\tvalid_0's binary_logloss: 0.692771\tvalid_0's brier: 0.249812\n",
      "[LightGBM] [Warning] feature_fraction is set=0.6869979512307869, colsample_bytree=1.0 will be ignored. Current value: feature_fraction=0.6869979512307869\n",
      "[LightGBM] [Warning] bagging_fraction is set=0.9, subsample=1.0 will be ignored. Current value: bagging_fraction=0.9\n",
      "Early stopping, best iteration is:\n",
      "[6]\tvalid_0's binary_logloss: 0.692771\tvalid_0's brier: 0.249812\n",
      "[LightGBM] [Warning] feature_fraction is set=0.6869979512307869, colsample_bytree=1.0 will be ignored. Current value: feature_fraction=0.6869979512307869\n",
      "[LightGBM] [Warning] bagging_fraction is set=0.9, subsample=1.0 will be ignored. Current value: bagging_fraction=0.9\n"
     ]
    },
    {
     "name": "stderr",
     "output_type": "stream",
     "text": [
      "2022-03-29 09:48:35 mean cv_value 0.10106575291147618 | std cv_value 0.0059664310541745575 \n",
      "2022-03-29 09:48:35 ---------------------------------------------\n"
     ]
    },
    {
     "name": "stdout",
     "output_type": "stream",
     "text": [
      "Early stopping, best iteration is:\n",
      "[6]\tvalid_0's binary_logloss: 0.692771\tvalid_0's brier: 0.249812\n"
     ]
    },
    {
     "name": "stderr",
     "output_type": "stream",
     "text": [
      "/usr/local/lib/python3.7/site-packages/skopt/optimizer/optimizer.py:449: UserWarning: The objective has been evaluated at this point before.\n",
      "  warnings.warn(\"The objective has been evaluated \"\n",
      "2022-03-29 09:48:38 [TRAIN_MODEL] Training model\n",
      "2022-03-29 09:48:38 Set of params....., {'n_estimators': 500, 'reg_alpha': 0.0001, 'learning_rate': 1.0, 'feature_fraction': 0.9, 'bagging_fraction': 0.9, 'num_leaves': 500, 'min_child_weight': 2}\n"
     ]
    },
    {
     "name": "stdout",
     "output_type": "stream",
     "text": [
      "Iteration No: 97 ended. Search finished for the next optimal point.\n",
      "Time taken: 9.7633\n",
      "Function value obtained: -0.1011\n",
      "Current minimum: -0.1604\n",
      "Iteration No: 98 started. Searching for the next optimal point.\n",
      "[LightGBM] [Warning] feature_fraction is set=0.9, colsample_bytree=1.0 will be ignored. Current value: feature_fraction=0.9\n",
      "[LightGBM] [Warning] bagging_fraction is set=0.9, subsample=1.0 will be ignored. Current value: bagging_fraction=0.9\n",
      "Early stopping, best iteration is:\n",
      "[6]\tvalid_0's binary_logloss: 0.692771\tvalid_0's brier: 0.249812\n",
      "[LightGBM] [Warning] feature_fraction is set=0.9, colsample_bytree=1.0 will be ignored. Current value: feature_fraction=0.9\n",
      "[LightGBM] [Warning] bagging_fraction is set=0.9, subsample=1.0 will be ignored. Current value: bagging_fraction=0.9\n",
      "Early stopping, best iteration is:\n",
      "[6]\tvalid_0's binary_logloss: 0.692771\tvalid_0's brier: 0.249812\n",
      "[LightGBM] [Warning] feature_fraction is set=0.9, colsample_bytree=1.0 will be ignored. Current value: feature_fraction=0.9\n",
      "[LightGBM] [Warning] bagging_fraction is set=0.9, subsample=1.0 will be ignored. Current value: bagging_fraction=0.9\n"
     ]
    },
    {
     "name": "stderr",
     "output_type": "stream",
     "text": [
      "2022-03-29 09:48:44 mean cv_value 0.10545629431841204 | std cv_value 0.0143454322842606 \n",
      "2022-03-29 09:48:44 ---------------------------------------------\n"
     ]
    },
    {
     "name": "stdout",
     "output_type": "stream",
     "text": [
      "Early stopping, best iteration is:\n",
      "[6]\tvalid_0's binary_logloss: 0.692771\tvalid_0's brier: 0.249812\n"
     ]
    },
    {
     "name": "stderr",
     "output_type": "stream",
     "text": [
      "/usr/local/lib/python3.7/site-packages/skopt/optimizer/optimizer.py:449: UserWarning: The objective has been evaluated at this point before.\n",
      "  warnings.warn(\"The objective has been evaluated \"\n",
      "2022-03-29 09:48:47 [TRAIN_MODEL] Training model\n",
      "2022-03-29 09:48:47 Set of params....., {'n_estimators': 500, 'reg_alpha': 0.0001, 'learning_rate': 1.0, 'feature_fraction': 0.9, 'bagging_fraction': 0.1, 'num_leaves': 500, 'min_child_weight': 2}\n"
     ]
    },
    {
     "name": "stdout",
     "output_type": "stream",
     "text": [
      "Iteration No: 98 ended. Search finished for the next optimal point.\n",
      "Time taken: 9.0786\n",
      "Function value obtained: -0.1055\n",
      "Current minimum: -0.1604\n",
      "Iteration No: 99 started. Searching for the next optimal point.\n",
      "[LightGBM] [Warning] feature_fraction is set=0.9, colsample_bytree=1.0 will be ignored. Current value: feature_fraction=0.9\n",
      "[LightGBM] [Warning] bagging_fraction is set=0.1, subsample=1.0 will be ignored. Current value: bagging_fraction=0.1\n",
      "Early stopping, best iteration is:\n",
      "[6]\tvalid_0's binary_logloss: 0.692771\tvalid_0's brier: 0.249812\n",
      "[LightGBM] [Warning] feature_fraction is set=0.9, colsample_bytree=1.0 will be ignored. Current value: feature_fraction=0.9\n",
      "[LightGBM] [Warning] bagging_fraction is set=0.1, subsample=1.0 will be ignored. Current value: bagging_fraction=0.1\n",
      "Early stopping, best iteration is:\n",
      "[6]\tvalid_0's binary_logloss: 0.692771\tvalid_0's brier: 0.249812\n",
      "[LightGBM] [Warning] feature_fraction is set=0.9, colsample_bytree=1.0 will be ignored. Current value: feature_fraction=0.9\n",
      "[LightGBM] [Warning] bagging_fraction is set=0.1, subsample=1.0 will be ignored. Current value: bagging_fraction=0.1\n"
     ]
    },
    {
     "name": "stderr",
     "output_type": "stream",
     "text": [
      "2022-03-29 09:48:54 mean cv_value 0.10545629431841204 | std cv_value 0.0143454322842606 \n",
      "2022-03-29 09:48:54 ---------------------------------------------\n"
     ]
    },
    {
     "name": "stdout",
     "output_type": "stream",
     "text": [
      "Early stopping, best iteration is:\n",
      "[6]\tvalid_0's binary_logloss: 0.692771\tvalid_0's brier: 0.249812\n"
     ]
    },
    {
     "name": "stderr",
     "output_type": "stream",
     "text": [
      "2022-03-29 09:48:56 [TRAIN_MODEL] Training model\n",
      "2022-03-29 09:48:56 Set of params....., {'n_estimators': 500, 'reg_alpha': 0.0001, 'learning_rate': 1.0, 'feature_fraction': 0.6827891811016936, 'bagging_fraction': 0.9, 'num_leaves': 500, 'min_child_weight': 60}\n"
     ]
    },
    {
     "name": "stdout",
     "output_type": "stream",
     "text": [
      "Iteration No: 99 ended. Search finished for the next optimal point.\n",
      "Time taken: 9.4316\n",
      "Function value obtained: -0.1055\n",
      "Current minimum: -0.1604\n",
      "Iteration No: 100 started. Searching for the next optimal point.\n",
      "[LightGBM] [Warning] feature_fraction is set=0.6827891811016936, colsample_bytree=1.0 will be ignored. Current value: feature_fraction=0.6827891811016936\n",
      "[LightGBM] [Warning] bagging_fraction is set=0.9, subsample=1.0 will be ignored. Current value: bagging_fraction=0.9\n",
      "Early stopping, best iteration is:\n",
      "[6]\tvalid_0's binary_logloss: 0.692771\tvalid_0's brier: 0.249812\n",
      "[LightGBM] [Warning] feature_fraction is set=0.6827891811016936, colsample_bytree=1.0 will be ignored. Current value: feature_fraction=0.6827891811016936\n",
      "[LightGBM] [Warning] bagging_fraction is set=0.9, subsample=1.0 will be ignored. Current value: bagging_fraction=0.9\n",
      "Early stopping, best iteration is:\n",
      "[6]\tvalid_0's binary_logloss: 0.692771\tvalid_0's brier: 0.249812\n",
      "[LightGBM] [Warning] feature_fraction is set=0.6827891811016936, colsample_bytree=1.0 will be ignored. Current value: feature_fraction=0.6827891811016936\n",
      "[LightGBM] [Warning] bagging_fraction is set=0.9, subsample=1.0 will be ignored. Current value: bagging_fraction=0.9\n"
     ]
    },
    {
     "name": "stderr",
     "output_type": "stream",
     "text": [
      "2022-03-29 09:49:05 mean cv_value 0.1033303616789125 | std cv_value 0.00506521307030764 \n",
      "2022-03-29 09:49:05 ---------------------------------------------\n"
     ]
    },
    {
     "name": "stdout",
     "output_type": "stream",
     "text": [
      "Early stopping, best iteration is:\n",
      "[6]\tvalid_0's binary_logloss: 0.692771\tvalid_0's brier: 0.249812\n",
      "Iteration No: 100 ended. Search finished for the next optimal point.\n",
      "Time taken: 11.2610\n",
      "Function value obtained: -0.1033\n",
      "Current minimum: -0.1604\n"
     ]
    }
   ],
   "source": [
    "gp_ = gp_minimize(\n",
    "    objective, # the objective function to minimize\n",
    "    param_grid, # the hyperparameter space\n",
    "    n_initial_points=25, # the number of points to evaluate f(x) to start of\n",
    "    acq_func='gp_hedge', # the acquisition function\n",
    "    n_calls=100, # the number of subsequent evaluations of f(x)\n",
    "    random_state=10,\n",
    "    n_jobs=-1,\n",
    "    verbose=True\n",
    ")"
   ]
  },
  {
   "cell_type": "code",
   "execution_count": 46,
   "id": "ead17d84",
   "metadata": {},
   "outputs": [
    {
     "data": {
      "text/plain": [
       "'Best score=-0.1604'"
      ]
     },
     "execution_count": 46,
     "metadata": {},
     "output_type": "execute_result"
    }
   ],
   "source": [
    "\"Best score=%.4f\" % gp_.fun"
   ]
  },
  {
   "cell_type": "code",
   "execution_count": 47,
   "id": "6cc7ef92",
   "metadata": {},
   "outputs": [
    {
     "name": "stdout",
     "output_type": "stream",
     "text": [
      "Best parameters:\n",
      "=========================\n",
      "- n_estimators = 482\n",
      "- reg_alpha = 0.000100\n",
      "- learning_rate = 1.000000\n",
      "- feature_fraction = 0.536943\n",
      "- bagging_fraction = 0.900\n",
      "- num_leaves = 500\n",
      "- min_child_weight = 60\n",
      "\n"
     ]
    }
   ],
   "source": [
    "print(\"\"\"Best parameters:\n",
    "=========================\n",
    "- n_estimators = %d\n",
    "- reg_alpha = %.6f\n",
    "- learning_rate = %.6f\n",
    "- feature_fraction = %.6f\n",
    "- bagging_fraction = %.3f\n",
    "- num_leaves = %d\n",
    "- min_child_weight = %d\n",
    "\"\"\" % (gp_.x[0],    \n",
    "       gp_.x[1],\n",
    "       gp_.x[2],\n",
    "       gp_.x[3],\n",
    "       gp_.x[4],\n",
    "       gp_.x[5],\n",
    "       gp_.x[6]\n",
    "\n",
    "      ))"
   ]
  },
  {
   "cell_type": "code",
   "execution_count": 48,
   "id": "5d7cc82f",
   "metadata": {},
   "outputs": [
    {
     "name": "stdout",
     "output_type": "stream",
     "text": [
      "{'n_estimators': 482, 'reg_alpha': 0.0001, 'learning_rate': 1.0, 'feature_fraction': 0.5369433382821812, 'bagging_fraction': 0.9, 'num_leaves': 500, 'min_child_weight': 60}\n",
      "[LightGBM] [Warning] feature_fraction is set=0.5369433382821812, colsample_bytree=1.0 will be ignored. Current value: feature_fraction=0.5369433382821812\n",
      "[LightGBM] [Warning] bagging_fraction is set=0.9, subsample=1.0 will be ignored. Current value: bagging_fraction=0.9\n",
      "Early stopping, best iteration is:\n",
      "[6]\tvalid_0's binary_logloss: 0.692771\tvalid_0's brier: 0.249812\n"
     ]
    },
    {
     "data": {
      "text/plain": [
       "ClassTransformation(estimator=LGBMClassifier(bagging_fraction=0.9,\n",
       "                                             feature_fraction=0.5369433382821812,\n",
       "                                             importance_type='gain',\n",
       "                                             is_unbalance=True,\n",
       "                                             learning_rate=1.0,\n",
       "                                             min_child_weight=60,\n",
       "                                             n_estimators=482, num_leaves=500,\n",
       "                                             objective='binary',\n",
       "                                             random_state=9001,\n",
       "                                             reg_alpha=0.0001))"
      ]
     },
     "execution_count": 48,
     "metadata": {},
     "output_type": "execute_result"
    }
   ],
   "source": [
    "#Seting parameters\n",
    "#Training the model best params.\n",
    "params={\n",
    "    'n_estimators' : gp_.x[0],\n",
    "    'reg_alpha': gp_.x[1],\n",
    "    'learning_rate' : gp_.x[2],\n",
    "    'feature_fraction' : gp_.x[3],\n",
    "    'bagging_fraction' : gp_.x[4],\n",
    "    'num_leaves': gp_.x[5],\n",
    "    'min_child_weight': gp_.x[6]\n",
    "}\n",
    "print(params)\n",
    "\n",
    "model_lgbm.set_params(**params)\n",
    "classTrans = ClassTransformation(estimator = model_lgbm)\n",
    "classTrans.fit(X = X_train,\n",
    "               y = y_train,\n",
    "               treatment = train_treatment,\n",
    "               estimator_fit_params={'eval_set':[(X_val,y_val)],\n",
    "                                     'callbacks' : callbacks\n",
    "                                    }\n",
    "              ) "
   ]
  },
  {
   "cell_type": "code",
   "execution_count": 49,
   "id": "5f675f62",
   "metadata": {},
   "outputs": [],
   "source": [
    "#Predict.\n",
    "y_pred = classTrans.predict(X_test)"
   ]
  },
  {
   "cell_type": "code",
   "execution_count": 50,
   "id": "e79f9e90",
   "metadata": {},
   "outputs": [
    {
     "data": {
      "image/png": "[encoded data removed]",
      "text/plain": [
       "<Figure size 864x864 with 5 Axes>"
      ]
     },
     "metadata": {
      "needs_background": "light"
     },
     "output_type": "display_data"
    }
   ],
   "source": [
    "lift, uplift,gini, gain_top30,qini = EvalIncrementalModels(y_test,\n",
    "                                                           test_treatment,\n",
    "                                                           y_pred,\n",
    "                                                           plot = True)"
   ]
  },
  {
   "cell_type": "code",
   "execution_count": null,
   "id": "58817b40",
   "metadata": {},
   "outputs": [],
   "source": [
    "plot_qini_curve(y_test,y_pred,test_treatment,perfect=True,negative_effect = False)"
   ]
  },
  {
   "cell_type": "code",
   "execution_count": null,
   "id": "7235f126",
   "metadata": {},
   "outputs": [],
   "source": [
    "classTslearner2 = ClassTransformation(estimator = CatBoostClassifier(iterations=50,\n",
    "                                                                    thread_count=-1, \n",
    "                                                                    random_state=42, \n",
    "                                                                    silent=True))\n",
    "classTslearner2.fit(X = X_train,\n",
    "                    y = y_train,\n",
    "                   treatment = train_treatment)\n",
    "y_pred = classTslearner2.predict(X_test)"
   ]
  },
  {
   "cell_type": "code",
   "execution_count": null,
   "id": "c49e6632",
   "metadata": {},
   "outputs": [],
   "source": [
    "lift, uplift,gini, gain_top30,qini = EvalIncrementalModels(y_test,\n",
    "                                                           test_treatment,\n",
    "                                                           y_pred,\n",
    "                                                           plot = True)"
   ]
  },
  {
   "cell_type": "code",
   "execution_count": null,
   "id": "6f33a28e",
   "metadata": {},
   "outputs": [],
   "source": [
    "s_cate = learner_s.predict(X_test[model_vars], treatment=test_treatment, y=y_test)\n",
    "t_cate = learner_t.predict(X_test[model_vars], treatment=test_treatment, y=y_test)\n",
    "x_cate = learner_x.predict(X_test[model_vars], treatment=test_treatment, y=y_test)"
   ]
  },
  {
   "cell_type": "code",
   "execution_count": null,
   "id": "b6b3e737",
   "metadata": {},
   "outputs": [],
   "source": [
    "set_ = {'S-meta':s_cate[:,0].tolist() ,\n",
    "        'T-meta':t_cate[:,0].tolist(),\n",
    "        'X-meta':x_cate[:,0].tolist()}\n",
    "\n",
    "result = {}\n",
    "vars_ = ['lift_top10','uplift_top30',\n",
    "         'gini_coef','gain_top30','qini_coeff']\n",
    "for key,val in set_.items():\n",
    "    a,b,c,d,e = EvalIncrementalModels(y_test,\n",
    "                                      test_treatment,\n",
    "                                      val,\n",
    "                                      plot = False)\n",
    "    \n",
    "    result[key] = {x:y for x,y in zip(vars_,[a,b,c,d,e])}"
   ]
  },
  {
   "cell_type": "code",
   "execution_count": null,
   "id": "70257c6d",
   "metadata": {},
   "outputs": [],
   "source": [
    "r = pd.DataFrame(result)\n",
    "# r_normalized = r.apply(lambda x: (x - r.mean(axis = 1))/(r.std(axis = 1)))\n",
    "r_normalized = r.apply(lambda x: (x - r.min(axis = 1))/(r.max(axis = 1)  - r.min(axis = 1)))\n",
    "#Por normalizar se puede perder un modelo (el que tenga las variables con valores mas bajos)\n",
    "categories = r_normalized.index\n",
    "N = len(categories)\n",
    "angles = [n / float(N) * 2 * np.pi for n in range(N)]\n",
    "angles += angles[:1]\n",
    "\n",
    "for model in r_normalized .columns:\n",
    "    # Initialise the spider plot\n",
    "    ax = plt.subplot(111, polar=True)\n",
    "    # If you want the first axis to be on top:\n",
    "    ax.set_theta_offset(np.pi / 2)\n",
    "    ax.set_theta_direction(-1)\n",
    "    # Draw one axe per variable + add labels\n",
    "    plt.xticks(angles[:-1], categories)\n",
    "    \n",
    "    values=r_normalized[model].values.tolist()\n",
    "    values += values[:1]\n",
    "    ax.plot(angles, values, linewidth=2, linestyle='solid', label=f\"{model}\")\n",
    "    ax.fill(angles, values, alpha=0.010)\n",
    "    ax.legend(loc='upper right', bbox_to_anchor=(0.05, 0.05))\n",
    "    plt.title('Scaled comparison \\n (all variables were scaled [0,1])')"
   ]
  },
  {
   "cell_type": "code",
   "execution_count": null,
   "id": "bd338953",
   "metadata": {},
   "outputs": [],
   "source": [
    "r"
   ]
  },
  {
   "cell_type": "code",
   "execution_count": null,
   "id": "b09a3bb0",
   "metadata": {},
   "outputs": [],
   "source": [
    "lift, uplift,gini, gain_top30,qini = EvalIncrementalModels(y_test,\n",
    "                                                           test_treatment,\n",
    "                                                           t_cate[:,0].tolist(),\n",
    "                                                           plot = True)"
   ]
  },
  {
   "cell_type": "code",
   "execution_count": null,
   "id": "51807a02",
   "metadata": {},
   "outputs": [],
   "source": [
    "lift, uplift,gini, gain_top30,qini = EvalIncrementalModels(y_test,\n",
    "                                                           test_treatment,\n",
    "                                                           s_cate[:,0].tolist(),\n",
    "                                                           plot = True)"
   ]
  },
  {
   "cell_type": "code",
   "execution_count": null,
   "id": "e68e57e6",
   "metadata": {},
   "outputs": [],
   "source": [
    "lift, uplift,gini, gain_top30,qini = EvalIncrementalModels(y_test,\n",
    "                                                           test_treatment,\n",
    "                                                           x_cate[:,0].tolist(),\n",
    "                                                           plot = True)"
   ]
  },
  {
   "cell_type": "code",
   "execution_count": null,
   "id": "71a62b28",
   "metadata": {},
   "outputs": [],
   "source": []
  },
  {
   "cell_type": "code",
   "execution_count": null,
   "id": "f431dee0",
   "metadata": {},
   "outputs": [],
   "source": [
    "df_test = X_test\n",
    "df_test['Y_'] =  t_cate[:,0].tolist()"
   ]
  },
  {
   "cell_type": "code",
   "execution_count": null,
   "id": "91e5aa09",
   "metadata": {},
   "outputs": [],
   "source": [
    "df_ = get_qini(df = df_test,outcome_col='Y',treatment_col='W',treatment_effect_col='Y_',normalize= True)"
   ]
  },
  {
   "cell_type": "code",
   "execution_count": null,
   "id": "25906fce",
   "metadata": {},
   "outputs": [],
   "source": [
    "df_"
   ]
  },
  {
   "cell_type": "code",
   "execution_count": null,
   "id": "0fb71811",
   "metadata": {},
   "outputs": [],
   "source": [
    "plt.plot(df_.CUS_CUST_ID)\n",
    "plt.plot(df_.Random)"
   ]
  },
  {
   "cell_type": "code",
   "execution_count": null,
   "id": "abac1afa",
   "metadata": {},
   "outputs": [],
   "source": [
    "# import causalml.dataset as data\n",
    "# dir(data)"
   ]
  },
  {
   "cell_type": "code",
   "execution_count": null,
   "id": "731ec4a4",
   "metadata": {},
   "outputs": [],
   "source": [
    "# dataset = make_uplift_classification(n_samples=1000,\n",
    "#                            treatment_name=['control', 'treatment1'],\n",
    "#                            y_name='conversion',\n",
    "#                            n_classification_features=10,\n",
    "#                            n_classification_informative=5,\n",
    "#                            n_uplift_increase_dict={'treatment1': 4},\n",
    "#                            n_uplift_decrease_dict={'treatment1': 3},\n",
    "#                            delta_uplift_increase_dict={'treatment1': 0.1},\n",
    "#                            positive_class_proportion=0.1)"
   ]
  },
  {
   "cell_type": "code",
   "execution_count": null,
   "id": "4515f2ca",
   "metadata": {},
   "outputs": [],
   "source": [
    "# Generate synthetic data using mode 1\n",
    "y, X, treatment, tau, b, e = synthetic_data(mode=1, n=10000, p=8, sigma=1.0)\n",
    "# tau: individual treatment effect\n",
    "# b: expected outcome\n",
    "# e: propensity of receiving treatment\n",
    "# y: outcome variable\n",
    "# X: covariates"
   ]
  },
  {
   "cell_type": "code",
   "execution_count": null,
   "id": "4823972e",
   "metadata": {},
   "outputs": [],
   "source": [
    "# Ready-to-use S-Learner using LinearRegression\n",
    "learner_s = LRSRegressor()\n",
    "ate_s = learner_s.estimate_ate(X=X, treatment=treatment, y=y)\n",
    "print(ate_s)\n",
    "print('ATE estimate: {:.03f}'.format(ate_s[0][0]))\n",
    "print('ATE lower bound: {:.03f}'.format(ate_s[1][0]))\n",
    "print('ATE upper bound: {:.03f}'.format(ate_s[2][0]))"
   ]
  },
  {
   "cell_type": "code",
   "execution_count": null,
   "id": "d7710e91",
   "metadata": {},
   "outputs": [],
   "source": [
    "# XGBTRegressor() vs. BaseTRegressor(learner=XGBRegressor())\n",
    "# XGBTRegressor() = BaseTRegressor(learner=XGBRegressor()).\n",
    "# When you use BaseTregressor you can change the model to be used in the Two model approach. "
   ]
  },
  {
   "cell_type": "code",
   "execution_count": null,
   "id": "a8b30559",
   "metadata": {},
   "outputs": [],
   "source": [
    "# Ready-to-use T-Learner using XGB\n",
    "learner_t = XGBTRegressor()\n",
    "ate_t = learner_t.estimate_ate(X=X, treatment=treatment, y=y)\n",
    "print('Using the ready-to-use XGBTRegressor class')\n",
    "print(ate_t)\n",
    "\n",
    "# Calling the Base Learner class and feeding in XGB\n",
    "learner_t = BaseTRegressor(learner=XGBRegressor())\n",
    "ate_t = learner_t.estimate_ate(X=X, treatment=treatment, y=y)\n",
    "print('\\nUsing the BaseTRegressor class and using XGB (same result):')\n",
    "print(ate_t)\n",
    "\n",
    "# Calling the Base Learner class and feeding in LinearRegression\n",
    "learner_t = BaseTRegressor(learner=LinearRegression())\n",
    "ate_t = learner_t.estimate_ate(X=X, treatment=treatment, y=y)\n",
    "print('\\nUsing the BaseTRegressor class and using Linear Regression (different result):')\n",
    "print(ate_t)"
   ]
  },
  {
   "cell_type": "code",
   "execution_count": null,
   "id": "d32500a1",
   "metadata": {},
   "outputs": [],
   "source": [
    "# S Learner\n",
    "learner_s = LRSRegressor()\n",
    "cate_s = learner_s.fit_predict(X=X, treatment=treatment, y=y)\n",
    "\n",
    "# T Learner\n",
    "learner_t = BaseTRegressor(learner=XGBRegressor())\n",
    "cate_t = learner_t.fit_predict(X=X, treatment=treatment, y=y)\n",
    "\n",
    "# X Learner with propensity score input\n",
    "learner_x = BaseXRegressor(learner=XGBRegressor())\n",
    "cate_x = learner_x.fit_predict(X=X, treatment=treatment, y=y, p=e)\n",
    "\n",
    "# X Learner without propensity score input\n",
    "learner_x_no_p = BaseXRegressor(learner=XGBRegressor())\n",
    "cate_x_no_p = learner_x_no_p.fit_predict(X=X, treatment=treatment, y=y)"
   ]
  },
  {
   "cell_type": "code",
   "execution_count": null,
   "id": "be3ab52e",
   "metadata": {},
   "outputs": [],
   "source": [
    "np.subtract(tau , results[:,x]).tolist()"
   ]
  },
  {
   "cell_type": "code",
   "execution_count": null,
   "id": "fdc3a89d",
   "metadata": {},
   "outputs": [],
   "source": [
    "diff = []\n",
    "results = np.hstack([cate_s,cate_t,cate_x,cate_x_no_p])\n",
    "labels = {0: 'single model lr',1:'two model XGBoost-reg',2: 'x model XGBoost-re w/ e', 3:'x model XGBoost-re wo/ e'}\n",
    "A = []\n",
    "for x in range(4):\n",
    "    diff.append(np.subtract(tau , results[:,x]))\n",
    "    "
   ]
  },
  {
   "cell_type": "code",
   "execution_count": null,
   "id": "235ded26",
   "metadata": {},
   "outputs": [],
   "source": [
    "results[:,3]"
   ]
  },
  {
   "cell_type": "code",
   "execution_count": null,
   "id": "648836de",
   "metadata": {},
   "outputs": [],
   "source": [
    "fig, axs = plt.subplots(1,3, figsize = (16,6))\n",
    "fig.subplots_adjust(hspace = 5)\n",
    "axs = axs.ravel()\n",
    "for x in np.arange(0,3,1):\n",
    "    y = results[:,x+1]\n",
    "    axs[x].hist(x = y,bins=100,alpha=0.4)\n",
    "    axs[x].vlines(x = results[:,0], ymin = 0 , ymax = 1000)\n",
    "    axs[x].set_title(f'{labels[x+1]} \\n mean: {np.round(np.mean(y),2)}')"
   ]
  },
  {
   "cell_type": "code",
   "execution_count": null,
   "id": "969e3a00",
   "metadata": {},
   "outputs": [],
   "source": [
    "fig, axs = plt.subplots(1,4, figsize = (16,6))\n",
    "fig.subplots_adjust(hspace = 5)\n",
    "axs = axs.ravel()\n",
    "for x in range(4):\n",
    "    y = diff[x]\n",
    "    axs[x].hist(x = y,bins=100,alpha=0.4)\n",
    "    axs[x].set_title(f'{labels[x]} - \\n MAE: {np.round(np.mean(np.abs(y)),2)}')\n"
   ]
  },
  {
   "cell_type": "code",
   "execution_count": null,
   "id": "5d94e3a8",
   "metadata": {},
   "outputs": [],
   "source": []
  },
  {
   "cell_type": "code",
   "execution_count": null,
   "id": "9d3b2bce",
   "metadata": {},
   "outputs": [],
   "source": [
    "# https://github.com/uber/causalml/blob/master/examples/uplift_trees_with_synthetic_data.ipynb\n",
    "from causalml.inference.tree import UpliftTreeClassifier"
   ]
  },
  {
   "cell_type": "code",
   "execution_count": null,
   "id": "a840bfcc",
   "metadata": {},
   "outputs": [],
   "source": [
    "dataset, x_names = make_uplift_classification(n_samples=1000,\n",
    "                           treatment_name=['control', 'treatment1'],\n",
    "                           y_name='conversion',\n",
    "                           n_classification_features=10,\n",
    "                           n_classification_informative=5,\n",
    "                           n_uplift_increase_dict={'treatment1': 4},\n",
    "                           n_uplift_decrease_dict={'treatment1': 3},\n",
    "                           delta_uplift_increase_dict={'treatment1': 0.3},#<------------\n",
    "                           delta_uplift_decrease_dict={'treatment1': 0.1},                    \n",
    "                           positive_class_proportion=0.1)"
   ]
  },
  {
   "cell_type": "code",
   "execution_count": null,
   "id": "9dca52f6",
   "metadata": {},
   "outputs": [],
   "source": [
    "# Split data to training and testing samples for model validation (next section)\n",
    "df_train, df_test = train_test_split(dataset, test_size=0.2, random_state=111)"
   ]
  },
  {
   "cell_type": "code",
   "execution_count": null,
   "id": "4576ed3c",
   "metadata": {},
   "outputs": [],
   "source": [
    "clf = UpliftTreeClassifier(control_name='control')\n",
    "clf.fit(df_train[x_names].values,\n",
    "         treatment=df_train['treatment_group_key'].values,\n",
    "         y=df_train['conversion'].values)\n",
    "p = clf.predict(df_test[x_names].values,)"
   ]
  },
  {
   "cell_type": "code",
   "execution_count": null,
   "id": "fd40a637",
   "metadata": {},
   "outputs": [],
   "source": [
    "df_res = pd.DataFrame(p, columns=clf.classes_)\n",
    "df_res.head()"
   ]
  },
  {
   "cell_type": "code",
   "execution_count": null,
   "id": "631d8174",
   "metadata": {},
   "outputs": [],
   "source": [
    "(df_res.treatment1 - df_res.control ).mean()#<------------"
   ]
  },
  {
   "cell_type": "code",
   "execution_count": null,
   "id": "f3a2a11a",
   "metadata": {},
   "outputs": [],
   "source": [
    "best_treatment = df_res.idxmax(axis=1)"
   ]
  },
  {
   "cell_type": "code",
   "execution_count": null,
   "id": "debe9394",
   "metadata": {},
   "outputs": [],
   "source": [
    "best_treatment"
   ]
  }
 ],
 "metadata": {
  "kernelspec": {
   "display_name": "Python 3 (ipykernel)",
   "language": "python",
   "name": "python3"
  },
  "language_info": {
   "codemirror_mode": {
    "name": "ipython",
    "version": 3
   },
   "file_extension": ".py",
   "mimetype": "text/x-python",
   "name": "python",
   "nbconvert_exporter": "python",
   "pygments_lexer": "ipython3",
   "version": "3.7.4"
  }
 },
 "nbformat": 4,
 "nbformat_minor": 5
}
