{
 "cells": [
  {
   "cell_type": "markdown",
   "id": "bcdc678d",
   "metadata": {},
   "source": [
    "#### This notebook is for explorer options to optimization procedures over budget consumption. "
   ]
  },
  {
   "cell_type": "code",
   "execution_count": 1,
   "id": "f92ca108",
   "metadata": {},
   "outputs": [
    {
     "name": "stdout",
     "output_type": "stream",
     "text": [
      "adding utils to path \n"
     ]
    }
   ],
   "source": [
    "import sys, os \n",
    "prj_path = os.path.dirname(os.getcwd())\n",
    "utils_path = prj_path + '/utils'\n",
    "if  not utils_path in sys.path:\n",
    "    print('adding utils to path ')\n",
    "    sys.path.insert(1, utils_path)"
   ]
  },
  {
   "cell_type": "code",
   "execution_count": 25,
   "id": "61ba7962",
   "metadata": {},
   "outputs": [],
   "source": [
    "from utilities import *\n",
    "import preprocessing as pre\n",
    "from google_cloud import BigQuery, Storage\n",
    "import pandas as pd\n",
    "import numpy as np\n",
    "import matplotlib.pyplot as plt\n",
    "\n",
    "from datetime import datetime\n",
    "\n",
    "import os\n",
    "import sys\n",
    "\n",
    "import boto3\n",
    "import base64\n",
    "\n",
    "#Cliente BigQuery\n",
    "AUTH_BIGQUERY = base64.b64decode(os.environ['SECRET_AUTH_BIGQUERY_MODEL'])\n",
    "bq = BigQuery(AUTH_BIGQUERY)\n",
    "storage =Storage(AUTH_BIGQUERY)\n",
    "\n",
    "#Load config.\n",
    "files = glob.glob(f\"{utils_path}/*.yml\") \n",
    "conf = load_conf(files)"
   ]
  },
  {
   "cell_type": "code",
   "execution_count": null,
   "id": "5b8e381b",
   "metadata": {},
   "outputs": [],
   "source": [
    "#Ver como varia el budget de una campaña.\n",
    "#Ver como varian los incrementales.\n",
    "#Ver como ranquea el modelo y comparar con los incrementales reales.\n",
    "#Ver si hay componenete estacional."
   ]
  },
  {
   "cell_type": "markdown",
   "id": "3cc62a9c",
   "metadata": {},
   "source": [
    "#### Budget por campaña"
   ]
  },
  {
   "cell_type": "code",
   "execution_count": 16,
   "id": "cf10b2ce",
   "metadata": {},
   "outputs": [
    {
     "name": "stdout",
     "output_type": "stream",
     "text": [
      "CPU times: user 32.7 ms, sys: 0 ns, total: 32.7 ms\n",
      "Wall time: 1.02 s\n"
     ]
    }
   ],
   "source": [
    "%%time\n",
    "buget_variation = bq.execute_response(\"\"\" \n",
    "SELECT \n",
    "    push.CAMPAIGN_ID,\n",
    "    budget.MKT_TOOL_ID,\n",
    "    budget.BUDGET_LC,\n",
    "    min(push.SENT_DATE) minDate_push_event,\n",
    "    max(push.SENT_DATE) maxDate_push_event,\n",
    "    min(budget.TIM_MONTH) minDate_budget\n",
    "FROM meli-marketing.MKTPUBLIC.V_BT_PUSH_NOTIFICATION_EVENT push \n",
    "LEFT JOIN meli-marketing.PUSH.LK_PUSH_BUDGET_COUPON budget \n",
    "ON push.CAMPAIGN_ID = budget.PUSH_CAMPAIGN_ID\n",
    "AND budget.SIT_SITE_ID = 'MLB'\n",
    "WHERE 1=1\n",
    "AND BATCH_ID LIKE 'MLB_ML_PUSHML_AO_ALL_X_ACT_ALL_NEWBUYERS%'\n",
    "AND push.SENT_DATE BETWEEN DATE '2022-01-01' AND DATE '2022-03-30'\n",
    "GROUP BY 1,2,3\n",
    "ORDEr BY 2,3\"\"\")"
   ]
  },
  {
   "cell_type": "code",
   "execution_count": 17,
   "id": "816845dd",
   "metadata": {},
   "outputs": [
    {
     "data": {
      "text/html": [
       "<div>\n",
       "<style scoped>\n",
       "    .dataframe tbody tr th:only-of-type {\n",
       "        vertical-align: middle;\n",
       "    }\n",
       "\n",
       "    .dataframe tbody tr th {\n",
       "        vertical-align: top;\n",
       "    }\n",
       "\n",
       "    .dataframe thead th {\n",
       "        text-align: right;\n",
       "    }\n",
       "</style>\n",
       "<table border=\"1\" class=\"dataframe\">\n",
       "  <thead>\n",
       "    <tr style=\"text-align: right;\">\n",
       "      <th></th>\n",
       "      <th>CAMPAIGN_ID</th>\n",
       "      <th>MKT_TOOL_ID</th>\n",
       "      <th>BUDGET_LC</th>\n",
       "      <th>minDate_push_event</th>\n",
       "      <th>maxDate_push_event</th>\n",
       "      <th>minDate_budget</th>\n",
       "    </tr>\n",
       "  </thead>\n",
       "  <tbody>\n",
       "    <tr>\n",
       "      <th>0</th>\n",
       "      <td>MLB_ML_PUSHML_AO_ALL_X_ACT_ALL_NEWBUYERS-34</td>\n",
       "      <td>10045401</td>\n",
       "      <td>750000.0</td>\n",
       "      <td>2022-01-05</td>\n",
       "      <td>2022-03-30</td>\n",
       "      <td>2022-01-02</td>\n",
       "    </tr>\n",
       "    <tr>\n",
       "      <th>1</th>\n",
       "      <td>MLB_ML_PUSHML_AO_ALL_X_ACT_ALL_NEWBUYERS-34</td>\n",
       "      <td>10046542</td>\n",
       "      <td>750000.0</td>\n",
       "      <td>2022-01-05</td>\n",
       "      <td>2022-03-30</td>\n",
       "      <td>2022-01-12</td>\n",
       "    </tr>\n",
       "    <tr>\n",
       "      <th>2</th>\n",
       "      <td>MLB_ML_PUSHML_AO_ALL_X_ACT_ALL_NEWBUYERS-34</td>\n",
       "      <td>10166514</td>\n",
       "      <td>254837.0</td>\n",
       "      <td>2022-01-05</td>\n",
       "      <td>2022-03-30</td>\n",
       "      <td>2021-03-01</td>\n",
       "    </tr>\n",
       "  </tbody>\n",
       "</table>\n",
       "</div>"
      ],
      "text/plain": [
       "                                   CAMPAIGN_ID  MKT_TOOL_ID  BUDGET_LC  \\\n",
       "0  MLB_ML_PUSHML_AO_ALL_X_ACT_ALL_NEWBUYERS-34     10045401   750000.0   \n",
       "1  MLB_ML_PUSHML_AO_ALL_X_ACT_ALL_NEWBUYERS-34     10046542   750000.0   \n",
       "2  MLB_ML_PUSHML_AO_ALL_X_ACT_ALL_NEWBUYERS-34     10166514   254837.0   \n",
       "\n",
       "  minDate_push_event maxDate_push_event minDate_budget  \n",
       "0         2022-01-05         2022-03-30     2022-01-02  \n",
       "1         2022-01-05         2022-03-30     2022-01-12  \n",
       "2         2022-01-05         2022-03-30     2021-03-01  "
      ]
     },
     "execution_count": 17,
     "metadata": {},
     "output_type": "execute_result"
    }
   ],
   "source": [
    "buget_variation.head(4)"
   ]
  },
  {
   "cell_type": "markdown",
   "id": "fd33b175",
   "metadata": {},
   "source": [
    "#### Push events and model prediction."
   ]
  },
  {
   "cell_type": "code",
   "execution_count": 26,
   "id": "dd6df1e5",
   "metadata": {},
   "outputs": [],
   "source": [
    "#model\n",
    "storage.downlad_file(gs_source_path = 'gs://marketing-modelling/ML/NB/MLB/model/model_MLB.pkl', \n",
    "                     destination_file = 'old_model_nb.pkl')\n",
    "model = pd.read_pickle('old_model_nb.pkl')"
   ]
  },
  {
   "cell_type": "code",
   "execution_count": 40,
   "id": "f2eb6575",
   "metadata": {},
   "outputs": [
    {
     "name": "stdout",
     "output_type": "stream",
     "text": [
      "CPU times: user 9min 8s, sys: 10.5 s, total: 9min 19s\n",
      "Wall time: 1h 27min 34s\n"
     ]
    }
   ],
   "source": [
    "%%time\n",
    "q = pre.fun_query_apply('2022-01-05',PAIS ='MLB')\n",
    "df = bq.execute_response(q)"
   ]
  },
  {
   "cell_type": "code",
   "execution_count": 41,
   "id": "ce655f90",
   "metadata": {},
   "outputs": [
    {
     "data": {
      "text/html": [
       "<div>\n",
       "<style scoped>\n",
       "    .dataframe tbody tr th:only-of-type {\n",
       "        vertical-align: middle;\n",
       "    }\n",
       "\n",
       "    .dataframe tbody tr th {\n",
       "        vertical-align: top;\n",
       "    }\n",
       "\n",
       "    .dataframe thead th {\n",
       "        text-align: right;\n",
       "    }\n",
       "</style>\n",
       "<table border=\"1\" class=\"dataframe\">\n",
       "  <thead>\n",
       "    <tr style=\"text-align: right;\">\n",
       "      <th></th>\n",
       "      <th>CUS_CUST_ID</th>\n",
       "      <th>SIT_SITE_ID</th>\n",
       "      <th>CUS_RU_SINCE</th>\n",
       "      <th>TYPE_APP</th>\n",
       "      <th>PROCESS_DATE</th>\n",
       "      <th>TOTAL_PAYMENTS_AMT_SUM</th>\n",
       "      <th>WALLET_PAYMENTS_AMT_SUM</th>\n",
       "      <th>AGGREGATOR_PAYMENTS_AMT_SUM</th>\n",
       "      <th>TOTAL_PAYMENTS_COUNT</th>\n",
       "      <th>CAT_CATEG_ID_COUNT</th>\n",
       "      <th>...</th>\n",
       "      <th>MAX_PRICE_ITEM_F7D</th>\n",
       "      <th>AVG_PRICE_ITEM_F7D</th>\n",
       "      <th>LOG_DATE_COUNT_F7D</th>\n",
       "      <th>OS_NAME</th>\n",
       "      <th>APP_ML</th>\n",
       "      <th>APP_MP</th>\n",
       "      <th>MAX_INSTALL_ML</th>\n",
       "      <th>MIN_INSTALL_ML</th>\n",
       "      <th>MAX_INSTALL_MP</th>\n",
       "      <th>MIN_INSTALL_MP</th>\n",
       "    </tr>\n",
       "  </thead>\n",
       "  <tbody>\n",
       "    <tr>\n",
       "      <th>0</th>\n",
       "      <td>791404320</td>\n",
       "      <td>MLB</td>\n",
       "      <td>2021-12-04</td>\n",
       "      <td>App</td>\n",
       "      <td>2022-01-05</td>\n",
       "      <td>17.232569292</td>\n",
       "      <td>None</td>\n",
       "      <td>17.232569292</td>\n",
       "      <td>1.0</td>\n",
       "      <td>1.0</td>\n",
       "      <td>...</td>\n",
       "      <td>110.610000000</td>\n",
       "      <td>104.077500000</td>\n",
       "      <td>1.0</td>\n",
       "      <td>android</td>\n",
       "      <td>1.0</td>\n",
       "      <td>0.0</td>\n",
       "      <td>2021-12-04</td>\n",
       "      <td>2021-12-04</td>\n",
       "      <td>None</td>\n",
       "      <td>None</td>\n",
       "    </tr>\n",
       "    <tr>\n",
       "      <th>1</th>\n",
       "      <td>1025991843</td>\n",
       "      <td>MLB</td>\n",
       "      <td>2021-11-24</td>\n",
       "      <td>Sin App</td>\n",
       "      <td>2022-01-05</td>\n",
       "      <td>None</td>\n",
       "      <td>None</td>\n",
       "      <td>None</td>\n",
       "      <td>NaN</td>\n",
       "      <td>2.0</td>\n",
       "      <td>...</td>\n",
       "      <td>89.970000000</td>\n",
       "      <td>63.480000000</td>\n",
       "      <td>1.0</td>\n",
       "      <td>None</td>\n",
       "      <td>NaN</td>\n",
       "      <td>NaN</td>\n",
       "      <td>None</td>\n",
       "      <td>None</td>\n",
       "      <td>None</td>\n",
       "      <td>None</td>\n",
       "    </tr>\n",
       "    <tr>\n",
       "      <th>2</th>\n",
       "      <td>1014912501</td>\n",
       "      <td>MLB</td>\n",
       "      <td>2021-11-08</td>\n",
       "      <td>App</td>\n",
       "      <td>2022-01-05</td>\n",
       "      <td>None</td>\n",
       "      <td>None</td>\n",
       "      <td>None</td>\n",
       "      <td>NaN</td>\n",
       "      <td>5.0</td>\n",
       "      <td>...</td>\n",
       "      <td>1099.000000000</td>\n",
       "      <td>308.954166667</td>\n",
       "      <td>3.0</td>\n",
       "      <td>android</td>\n",
       "      <td>1.0</td>\n",
       "      <td>0.0</td>\n",
       "      <td>2021-11-08</td>\n",
       "      <td>2021-11-08</td>\n",
       "      <td>None</td>\n",
       "      <td>None</td>\n",
       "    </tr>\n",
       "    <tr>\n",
       "      <th>3</th>\n",
       "      <td>1017673263</td>\n",
       "      <td>MLB</td>\n",
       "      <td>2021-11-12</td>\n",
       "      <td>App</td>\n",
       "      <td>2022-01-05</td>\n",
       "      <td>None</td>\n",
       "      <td>None</td>\n",
       "      <td>None</td>\n",
       "      <td>NaN</td>\n",
       "      <td>6.0</td>\n",
       "      <td>...</td>\n",
       "      <td>149.900000000</td>\n",
       "      <td>41.431944445</td>\n",
       "      <td>2.0</td>\n",
       "      <td>None</td>\n",
       "      <td>NaN</td>\n",
       "      <td>NaN</td>\n",
       "      <td>None</td>\n",
       "      <td>None</td>\n",
       "      <td>None</td>\n",
       "      <td>None</td>\n",
       "    </tr>\n",
       "    <tr>\n",
       "      <th>4</th>\n",
       "      <td>1025713305</td>\n",
       "      <td>MLB</td>\n",
       "      <td>2021-11-24</td>\n",
       "      <td>Sin App</td>\n",
       "      <td>2022-01-05</td>\n",
       "      <td>None</td>\n",
       "      <td>None</td>\n",
       "      <td>None</td>\n",
       "      <td>NaN</td>\n",
       "      <td>1.0</td>\n",
       "      <td>...</td>\n",
       "      <td>256.400000000</td>\n",
       "      <td>256.400000000</td>\n",
       "      <td>1.0</td>\n",
       "      <td>None</td>\n",
       "      <td>NaN</td>\n",
       "      <td>NaN</td>\n",
       "      <td>None</td>\n",
       "      <td>None</td>\n",
       "      <td>None</td>\n",
       "      <td>None</td>\n",
       "    </tr>\n",
       "  </tbody>\n",
       "</table>\n",
       "<p>5 rows × 62 columns</p>\n",
       "</div>"
      ],
      "text/plain": [
       "   CUS_CUST_ID SIT_SITE_ID CUS_RU_SINCE TYPE_APP PROCESS_DATE  \\\n",
       "0    791404320         MLB   2021-12-04      App   2022-01-05   \n",
       "1   1025991843         MLB   2021-11-24  Sin App   2022-01-05   \n",
       "2   1014912501         MLB   2021-11-08      App   2022-01-05   \n",
       "3   1017673263         MLB   2021-11-12      App   2022-01-05   \n",
       "4   1025713305         MLB   2021-11-24  Sin App   2022-01-05   \n",
       "\n",
       "  TOTAL_PAYMENTS_AMT_SUM WALLET_PAYMENTS_AMT_SUM AGGREGATOR_PAYMENTS_AMT_SUM  \\\n",
       "0           17.232569292                    None                17.232569292   \n",
       "1                   None                    None                        None   \n",
       "2                   None                    None                        None   \n",
       "3                   None                    None                        None   \n",
       "4                   None                    None                        None   \n",
       "\n",
       "   TOTAL_PAYMENTS_COUNT  CAT_CATEG_ID_COUNT  ...  MAX_PRICE_ITEM_F7D  \\\n",
       "0                   1.0                 1.0  ...       110.610000000   \n",
       "1                   NaN                 2.0  ...        89.970000000   \n",
       "2                   NaN                 5.0  ...      1099.000000000   \n",
       "3                   NaN                 6.0  ...       149.900000000   \n",
       "4                   NaN                 1.0  ...       256.400000000   \n",
       "\n",
       "   AVG_PRICE_ITEM_F7D  LOG_DATE_COUNT_F7D  OS_NAME  APP_ML  APP_MP  \\\n",
       "0       104.077500000                 1.0  android     1.0     0.0   \n",
       "1        63.480000000                 1.0     None     NaN     NaN   \n",
       "2       308.954166667                 3.0  android     1.0     0.0   \n",
       "3        41.431944445                 2.0     None     NaN     NaN   \n",
       "4       256.400000000                 1.0     None     NaN     NaN   \n",
       "\n",
       "   MAX_INSTALL_ML  MIN_INSTALL_ML  MAX_INSTALL_MP MIN_INSTALL_MP  \n",
       "0      2021-12-04      2021-12-04            None           None  \n",
       "1            None            None            None           None  \n",
       "2      2021-11-08      2021-11-08            None           None  \n",
       "3            None            None            None           None  \n",
       "4            None            None            None           None  \n",
       "\n",
       "[5 rows x 62 columns]"
      ]
     },
     "execution_count": 41,
     "metadata": {},
     "output_type": "execute_result"
    }
   ],
   "source": [
    "df.head()"
   ]
  },
  {
   "cell_type": "code",
   "execution_count": null,
   "id": "9f1763b1",
   "metadata": {},
   "outputs": [],
   "source": [
    "df['score'] = model.predict_proba(df)"
   ]
  },
  {
   "cell_type": "code",
   "execution_count": 18,
   "id": "ea17e2e2",
   "metadata": {},
   "outputs": [
    {
     "name": "stdout",
     "output_type": "stream",
     "text": [
      "CPU times: user 25 s, sys: 1.32 s, total: 26.3 s\n",
      "Wall time: 1min 35s\n"
     ]
    }
   ],
   "source": [
    "%%time\n",
    "site = 'MLB'\n",
    "date_intial = '2022-01-01'\n",
    "date_end = '2022-03-30'\n",
    "push_population = bq.execute_response(f\"\"\"\n",
    "    WITH push as ( \n",
    "            SELECT \n",
    "                push.CUS_CUST_ID,\n",
    "                push.SIT_SITE_ID,\n",
    "                push.CAMPAIGN_ID,\n",
    "                push.SENT_DATE, \n",
    "                push.EVENT_TYPE \n",
    "            FROM meli-marketing.MKTPUBLIC.V_BT_PUSH_NOTIFICATION_EVENT push \n",
    "            WHERE BATCH_ID LIKE 'MLB_ML_PUSHML_AO_ALL_X_ACT_ALL_NEWBUYERS%' \n",
    "                AND push.EVENT_TYPE in ('sent','control') \n",
    "                AND push.APP = 'mercadolibre'\n",
    "                AND push.sit_site_id = '{site}' \n",
    "                AND push.SENT_DATE >= DATE '{date_intial}' AND push.SENT_DATE <= DATE '{date_end}' \n",
    "             ),\n",
    "    orders_ as (\n",
    "        SELECT \n",
    "            push.CUS_CUST_ID, \n",
    "            push.CAMPAIGN_ID,\n",
    "            push.SENT_DATE, \n",
    "            push.EVENT_TYPE,\n",
    "            orders.ORD_CREATED_DT,\n",
    "            ROW_NUMBER() OVER (PARTITION BY push.CUS_CUST_ID ORDER BY orders.ORD_CREATED_DT) AS ORDERING_PURCHASE\n",
    "        FROM push LEFT JOIN meli-bi-data.WHOWNER.BT_ORD_ORDERS orders\n",
    "        ON push.CUS_CUST_ID = orders.ORD_BUYER.ID \n",
    "            AND push.sit_site_id = orders.SIT_SITE_ID \n",
    "            AND ORD_CLOSED_DT is not null\n",
    "            AND orders.ord_status = 'paid' \n",
    "            AND orders.ORD_CLOSED_DT BETWEEN push.SENT_DATE AND push.SENT_DATE + 4 \n",
    "            AND orders.ORD_CREATED_DT = push.SENT_DATE\n",
    "        )\n",
    "\n",
    "    SELECT \n",
    "        CUS_CUST_ID,\n",
    "        CAMPAIGN_ID,\n",
    "        SENT_DATE,\n",
    "        EVENT_TYPE,\n",
    "        CASE WHEN ORD_CREATED_DT is null THEN 0 ELSE 1 END AS CONVERSION\n",
    "    FROM orders_\n",
    "    WHERE ORDERING_PURCHASE = 1\n",
    "    \"\"\" \n",
    "                                     )"
   ]
  },
  {
   "cell_type": "code",
   "execution_count": 19,
   "id": "ec334911",
   "metadata": {},
   "outputs": [
    {
     "data": {
      "text/html": [
       "<div>\n",
       "<style scoped>\n",
       "    .dataframe tbody tr th:only-of-type {\n",
       "        vertical-align: middle;\n",
       "    }\n",
       "\n",
       "    .dataframe tbody tr th {\n",
       "        vertical-align: top;\n",
       "    }\n",
       "\n",
       "    .dataframe thead th {\n",
       "        text-align: right;\n",
       "    }\n",
       "</style>\n",
       "<table border=\"1\" class=\"dataframe\">\n",
       "  <thead>\n",
       "    <tr style=\"text-align: right;\">\n",
       "      <th></th>\n",
       "      <th>CUS_CUST_ID</th>\n",
       "      <th>CAMPAIGN_ID</th>\n",
       "      <th>SENT_DATE</th>\n",
       "      <th>EVENT_TYPE</th>\n",
       "      <th>CONVERSION</th>\n",
       "    </tr>\n",
       "  </thead>\n",
       "  <tbody>\n",
       "    <tr>\n",
       "      <th>0</th>\n",
       "      <td>257416060</td>\n",
       "      <td>MLB_ML_PUSHML_AO_ALL_X_ACT_ALL_NEWBUYERS-34</td>\n",
       "      <td>2022-01-28</td>\n",
       "      <td>control</td>\n",
       "      <td>0</td>\n",
       "    </tr>\n",
       "    <tr>\n",
       "      <th>1</th>\n",
       "      <td>325136765</td>\n",
       "      <td>MLB_ML_PUSHML_AO_ALL_X_ACT_ALL_NEWBUYERS-34</td>\n",
       "      <td>2022-02-03</td>\n",
       "      <td>sent</td>\n",
       "      <td>0</td>\n",
       "    </tr>\n",
       "    <tr>\n",
       "      <th>2</th>\n",
       "      <td>466504999</td>\n",
       "      <td>MLB_ML_PUSHML_AO_ALL_X_ACT_ALL_NEWBUYERS-34</td>\n",
       "      <td>2022-02-05</td>\n",
       "      <td>sent</td>\n",
       "      <td>0</td>\n",
       "    </tr>\n",
       "  </tbody>\n",
       "</table>\n",
       "</div>"
      ],
      "text/plain": [
       "   CUS_CUST_ID                                  CAMPAIGN_ID   SENT_DATE  \\\n",
       "0    257416060  MLB_ML_PUSHML_AO_ALL_X_ACT_ALL_NEWBUYERS-34  2022-01-28   \n",
       "1    325136765  MLB_ML_PUSHML_AO_ALL_X_ACT_ALL_NEWBUYERS-34  2022-02-03   \n",
       "2    466504999  MLB_ML_PUSHML_AO_ALL_X_ACT_ALL_NEWBUYERS-34  2022-02-05   \n",
       "\n",
       "  EVENT_TYPE  CONVERSION  \n",
       "0    control           0  \n",
       "1       sent           0  \n",
       "2       sent           0  "
      ]
     },
     "execution_count": 19,
     "metadata": {},
     "output_type": "execute_result"
    }
   ],
   "source": [
    "push_population.head(3)"
   ]
  },
  {
   "cell_type": "code",
   "execution_count": 21,
   "id": "4c14dd98",
   "metadata": {},
   "outputs": [],
   "source": [
    "#model\n",
    "storage.downlad_file(gs_source_path = 'gs://marketing-modelling/ML/NB/MLB/model/model_MLB.pkl', \n",
    "                     destination_file = 'old_model_nb.pkl')\n",
    "model = pd.read_pickle('old_model_nb.pkl')"
   ]
  },
  {
   "cell_type": "code",
   "execution_count": 22,
   "id": "a2e1bbb5",
   "metadata": {},
   "outputs": [],
   "source": [
    "model = pd.read_pickle('old_model_nb.pkl')"
   ]
  },
  {
   "cell_type": "code",
   "execution_count": 23,
   "id": "d98568c0",
   "metadata": {},
   "outputs": [
    {
     "data": {
      "text/plain": [
       "<catboost.core.CatBoostClassifier at 0x7f927517f510>"
      ]
     },
     "execution_count": 23,
     "metadata": {},
     "output_type": "execute_result"
    }
   ],
   "source": [
    "model.predict_proba()"
   ]
  },
  {
   "cell_type": "code",
   "execution_count": 53,
   "id": "64ab9270",
   "metadata": {},
   "outputs": [],
   "source": [
    "a = 0 \n",
    "B=100\n",
    "delta = 12\n",
    "for i in np.arange(2,30,1):\n",
    "    a += 1/(i-1)"
   ]
  },
  {
   "cell_type": "code",
   "execution_count": 54,
   "id": "7490c107",
   "metadata": {},
   "outputs": [
    {
     "data": {
      "text/plain": [
       "345.59105142904036"
      ]
     },
     "execution_count": 54,
     "metadata": {},
     "output_type": "execute_result"
    }
   ],
   "source": [
    "(B-delta)*a"
   ]
  },
  {
   "cell_type": "code",
   "execution_count": null,
   "id": "81e37b9c",
   "metadata": {},
   "outputs": [],
   "source": []
  }
 ],
 "metadata": {
  "kernelspec": {
   "display_name": "Python 3 (ipykernel)",
   "language": "python",
   "name": "python3"
  },
  "language_info": {
   "codemirror_mode": {
    "name": "ipython",
    "version": 3
   },
   "file_extension": ".py",
   "mimetype": "text/x-python",
   "name": "python",
   "nbconvert_exporter": "python",
   "pygments_lexer": "ipython3",
   "version": "3.7.4"
  }
 },
 "nbformat": 4,
 "nbformat_minor": 5
}
