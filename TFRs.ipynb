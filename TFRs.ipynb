{
 "cells": [
  {
   "cell_type": "markdown",
   "metadata": {},
   "source": [
    "<img src=\"https://digital.hbs.edu/platform-digit/wp-content/uploads/sites/2/2021/03/mercado-libre-logo-2.png\" alt=\"drawing\" width=\"300\" />"
   ]
  },
  {
   "cell_type": "markdown",
   "metadata": {},
   "source": [
    "# [AFFU-2](https://mercadolibre.atlassian.net/browse/AFFU-2) - TFRS Retrieval Recurrente"
   ]
  },
  {
   "cell_type": "markdown",
   "metadata": {},
   "source": [
    "## 1. Objetivo\n",
    "\n",
    "En este cuaderno buscamos hacer una segunda iteración sobre la arquitectura utilizada para la tarea Retrieval en el TFRS. La intención es:\n",
    "\n",
    "- Incluir nuevas features del usuario o los dominios, tomando como referencia las incorporadas en la última versión de la RNN.\n",
    "- Inspirarnos en las capas usadas en la arquitectura de la RNN que hasta ahora han dado mejor resultado para entender si también funcionan adecuadamente en el sistema de TFRS. Esto tomando como base que en la iteración anterior se hizo una arquitectura básica, siguiendo los ejemplos de TFRS."
   ]
  },
  {
   "cell_type": "markdown",
   "metadata": {},
   "source": [
    "## 2. Desarrollo"
   ]
  },
  {
   "cell_type": "code",
   "execution_count": 1,
   "metadata": {},
   "outputs": [
    {
     "name": "stdout",
     "output_type": "stream",
     "text": [
      "\u001b[33mWARNING: You are using pip version 19.3.1; however, version 22.0.3 is available.\n",
      "You should consider upgrading via the 'pip install --upgrade pip' command.\u001b[0m\n",
      "\u001b[33mWARNING: You are using pip version 19.3.1; however, version 22.0.3 is available.\n",
      "You should consider upgrading via the 'pip install --upgrade pip' command.\u001b[0m\n",
      "\u001b[33mWARNING: You are using pip version 19.3.1; however, version 22.0.3 is available.\n",
      "You should consider upgrading via the 'pip install --upgrade pip' command.\u001b[0m\n",
      "graphviz is already the newest version (2.40.1-2).\n",
      "0 upgraded, 0 newly installed, 0 to remove and 34 not upgraded.\n",
      "\u001b[33mWARNING: You are using pip version 19.3.1; however, version 22.0.3 is available.\n",
      "You should consider upgrading via the 'pip install --upgrade pip' command.\u001b[0m\n"
     ]
    }
   ],
   "source": [
    "# imports\n",
    "\n",
    "!pip install --quiet tensorflow-recommenders\n",
    "!pip install --quiet --upgrade tensorflow-datasets\n",
    "!pip install --quiet scann\n",
    "\n",
    "# INSTALAR PARA GRAFICAR LAS ARQUITECTURAS DE LOS MODELOS\n",
    "!apt-get -qq install sudo -y\n",
    "!sudo apt -qq install graphviz -y\n",
    "!pip install --quiet pydot"
   ]
  },
  {
   "cell_type": "code",
   "execution_count": null,
   "metadata": {},
   "outputs": [],
   "source": [
    "import os\n",
    "import pickle\n",
    "import pandas as pd\n",
    "from commons.eval_strategies.datasets import Dataset\n",
    "from commons.eval_strategies.metrics import (cross_selling, mean_average_precision,\n",
    "                     mean_reciprocal_rank, precision,\n",
    "                     average_recommendation_popularity,\n",
    "                     average_percentage_long_tail,\n",
    "                     prediction_coverage)\n",
    "from tqdm import tqdm\n",
    "import dask.dataframe as dd\n",
    "import uuid\n",
    "from commons.db import BigQueryConn\n",
    "#import re\n",
    "\n",
    "import tensorflow as tf\n",
    "#from tensorflow.keras.preprocessing.text import Tokenizer\n",
    "#from tensorflow.keras.preprocessing.sequence import pad_sequences\n",
    "from tensorflow import keras\n",
    "from keras.utils.vis_utils import plot_model\n",
    "pd.set_option('display.max_colwidth', None)\n",
    "\n",
    "import seaborn as sns\n",
    "import matplotlib.pyplot as plt\n",
    "\n",
    "from typing import Dict, Text, List\n",
    "\n",
    "#from core.models.recurrent_neural_network import RecurrentNeuralNetworkHandler\n",
    "\n",
    "import numpy as np\n",
    "\n",
    "import tensorflow_datasets as tfds\n",
    "import tensorflow_recommenders as tfrs\n",
    "\n",
    "import pprint\n",
    "import tempfile\n",
    "\n",
    "import warnings\n",
    "warnings.filterwarnings(\"ignore\")\n",
    "\n",
    "from melitk.fda import workspace\n",
    "\n",
    "from commons.utils.timer import timer\n",
    "import math\n",
    "from commons.dates_handler import list_dates_range, date_today\n",
    "# from replib.descriptors.metaprod2vec import MetaProd2Vec\n",
    "# from core.settings import MP2VEC_VERSIONS, MP2VEC_SIMILARITY_BY\n",
    "from dask.dataframe import from_pandas\n",
    "\n",
    "import json\n",
    "from sklearn import metrics\n",
    "\n",
    "# to save in BigQuery\n",
    "import pathlib\n",
    "from melitk import melipass\n",
    "from google.cloud import bigquery\n",
    "from google.oauth2 import service_account\n",
    "\n",
    "# styling matplotlib graphs\n",
    "%matplotlib inline \n",
    "%config InlineBackend.figure_format = 'retina'\n",
    "plt.style.use('ggplot')"
   ]
  },
  {
   "cell_type": "code",
   "execution_count": 3,
   "metadata": {},
   "outputs": [],
   "source": [
    "# Constants and parameters like SITE_ID, urls, etc\n",
    "\n",
    "SITE_ID = 'MLA'\n",
    "db = BigQueryConn()"
   ]
  },
  {
   "cell_type": "markdown",
   "metadata": {},
   "source": [
    "## 2.1 Carga y preprocesamiento de datos"
   ]
  },
  {
   "cell_type": "markdown",
   "metadata": {},
   "source": [
    "### Carga de los datos\n",
    "\n",
    "En este cuaderno cargamos desde la etl `22.01.26-rnn-tfrs-redefine-input`que trae los datos requeridos para el TFRS así como para la nueva arquitectura de la RNN. Por la gran cantidad de datos fue necesario dividir el dataset en 10 subpaquetes, que deberían ser concatenados en uno sólo.\n",
    "\n",
    "Para mayor eficiencia en la experimentación, solo se obtienen resultados con 1M de usuarios. Para esto, solo se usarán los paquetes 1, 2 y 10, conformando el mismo conjunto de datos usados para experimentación inicial con la RNN. En una fase posterior se podrían concatenar los 20M de usuarios de los 10 paquetes de datos obtenidos con la ETL."
   ]
  },
  {
   "cell_type": "markdown",
   "metadata": {},
   "source": [
    "_______\n",
    "**NOTA**: si es la primera vez que se corre el cuaderno ejecutar las siguientes celdas. Si los datasets con 1M de usuarios para entrenamiento, prueba y validación se tienen ya creados, pasar a la fase llamada **Preprocesamiento**."
   ]
  },
  {
   "cell_type": "code",
   "execution_count": null,
   "metadata": {},
   "outputs": [],
   "source": [
    "etl_version = '22.01.28-rnn-tfrs-redefine-input'\n",
    "metadata = workspace.load_etl_file('metadata', version=etl_version)\n",
    "metadata = pickle.loads(metadata)"
   ]
  },
  {
   "cell_type": "code",
   "execution_count": 6,
   "metadata": {},
   "outputs": [
    {
     "data": {
      "text/plain": [
       "['gs://affinity-etl/20220202_230855_b910e246fad9495f99b376acd21872b5',\n",
       " 'gs://affinity-etl/20220202_231200_653f4912443c450ea32457aba804916c',\n",
       " 'gs://affinity-etl/20220202_231455_e0684f3ab1694f17896b1a1db5a07a1f',\n",
       " 'gs://affinity-etl/20220202_231757_1abb093e2c0f4c579226e52f753d5611',\n",
       " 'gs://affinity-etl/20220202_232055_45bd021da0df41c19de1d4ab312ebced',\n",
       " 'gs://affinity-etl/20220202_232348_e0f91c65ceef4d8f8b9a84e93cc7c81c',\n",
       " 'gs://affinity-etl/20220202_232649_2d8e629a9f68422789d12605663d8570',\n",
       " 'gs://affinity-etl/20220202_232944_02c70d79212244068c190d3834772546',\n",
       " 'gs://affinity-etl/20220202_233243_9da6bbbbb71f402d8e2257e054c1ac5a',\n",
       " 'gs://affinity-etl/20220202_233539_35a454e0f4e34cfba17ef150c9235e8d']"
      ]
     },
     "execution_count": 6,
     "metadata": {},
     "output_type": "execute_result"
    }
   ],
   "source": [
    "metadata['uri_clean_events_tfrs']"
   ]
  },
  {
   "cell_type": "markdown",
   "metadata": {},
   "source": [
    "Recordar que cada paquetito, corresponde a un rango de usuarios dado por:"
   ]
  },
  {
   "cell_type": "code",
   "execution_count": 7,
   "metadata": {},
   "outputs": [],
   "source": [
    "destination = ['gs://affinity-etl/20220201_123934_df6826a8d21449b18a17095960df1f94']\n",
    "ddf_1 = dd.read_parquet(destination, storage_options={\"token\": db.json_cred})\n",
    "df_1 = ddf_1.compute()"
   ]
  },
  {
   "cell_type": "code",
   "execution_count": 8,
   "metadata": {},
   "outputs": [
    {
     "data": {
      "text/plain": [
       "(1971430, 8)"
      ]
     },
     "execution_count": 8,
     "metadata": {},
     "output_type": "execute_result"
    }
   ],
   "source": [
    "df_1.shape"
   ]
  },
  {
   "cell_type": "code",
   "execution_count": 9,
   "metadata": {},
   "outputs": [],
   "source": [
    "destination = ['gs://affinity-etl/20220201_124237_8cf0ea8edc9a4c29a106363442e0bffd']\n",
    "ddf_2 = dd.read_parquet(destination, storage_options={\"token\": db.json_cred})\n",
    "df_2 = ddf_2.compute()"
   ]
  },
  {
   "cell_type": "code",
   "execution_count": 10,
   "metadata": {},
   "outputs": [
    {
     "data": {
      "text/plain": [
       "(1973388, 8)"
      ]
     },
     "execution_count": 10,
     "metadata": {},
     "output_type": "execute_result"
    }
   ],
   "source": [
    "df_2.shape"
   ]
  },
  {
   "cell_type": "code",
   "execution_count": 11,
   "metadata": {},
   "outputs": [],
   "source": [
    "destination = ['gs://affinity-etl/20220201_130513_2799fc550653458da484d16b8ef30924']\n",
    "ddf_10 = dd.read_parquet(destination, storage_options={\"token\": db.json_cred})\n",
    "df_10 = ddf_10.compute()"
   ]
  },
  {
   "cell_type": "code",
   "execution_count": 12,
   "metadata": {},
   "outputs": [
    {
     "data": {
      "text/plain": [
       "(1970010, 8)"
      ]
     },
     "execution_count": 12,
     "metadata": {},
     "output_type": "execute_result"
    }
   ],
   "source": [
    "df_10.shape"
   ]
  },
  {
   "cell_type": "markdown",
   "metadata": {},
   "source": [
    "### Separamos datasets para entrenamiento y evaluación"
   ]
  },
  {
   "cell_type": "code",
   "execution_count": 17,
   "metadata": {},
   "outputs": [],
   "source": [
    "df_union = pd.concat([df_1, df_2], join = 'outer', ignore_index = True)"
   ]
  },
  {
   "cell_type": "code",
   "execution_count": 18,
   "metadata": {},
   "outputs": [
    {
     "data": {
      "text/plain": [
       "(3944818, 8)"
      ]
     },
     "execution_count": 18,
     "metadata": {},
     "output_type": "execute_result"
    }
   ],
   "source": [
    "df_union.shape"
   ]
  },
  {
   "cell_type": "markdown",
   "metadata": {},
   "source": [
    "#### Dataset de Entrenamiento:"
   ]
  },
  {
   "cell_type": "code",
   "execution_count": 19,
   "metadata": {},
   "outputs": [],
   "source": [
    "df_training = df_union.loc[(df_union.user_id % 100 >= 6) & (df_union.user_id %100 <= 15)]"
   ]
  },
  {
   "cell_type": "code",
   "execution_count": 20,
   "metadata": {},
   "outputs": [
    {
     "data": {
      "text/plain": [
       "(1972186, 8)"
      ]
     },
     "execution_count": 20,
     "metadata": {},
     "output_type": "execute_result"
    }
   ],
   "source": [
    "df_training.shape"
   ]
  },
  {
   "cell_type": "markdown",
   "metadata": {},
   "source": [
    "#### Dataset de testing:"
   ]
  },
  {
   "cell_type": "code",
   "execution_count": 21,
   "metadata": {},
   "outputs": [],
   "source": [
    "df_testing = df_10.loc[(df_10.user_id % 100 >= 96) & (df_10.user_id % 100 <= 99)]"
   ]
  },
  {
   "cell_type": "code",
   "execution_count": 22,
   "metadata": {},
   "outputs": [
    {
     "data": {
      "text/plain": [
       "(788184, 8)"
      ]
     },
     "execution_count": 22,
     "metadata": {},
     "output_type": "execute_result"
    }
   ],
   "source": [
    "df_testing.shape"
   ]
  },
  {
   "cell_type": "markdown",
   "metadata": {},
   "source": [
    "#### Dataset de validation: por ahora este no lo usamos, para una futura iteración se deja explorar si el método .fit en TFRS permite usarlo en la parametrización del entrenamiento"
   ]
  },
  {
   "cell_type": "code",
   "execution_count": 23,
   "metadata": {},
   "outputs": [],
   "source": [
    "df_validation = df_1.loc[(df_1.user_id % 100 >= 0) & (df_1.user_id % 100 <= 5)]"
   ]
  },
  {
   "cell_type": "code",
   "execution_count": 24,
   "metadata": {},
   "outputs": [
    {
     "data": {
      "text/plain": [
       "(1183609, 8)"
      ]
     },
     "execution_count": 24,
     "metadata": {},
     "output_type": "execute_result"
    }
   ],
   "source": [
    "df_validation.shape"
   ]
  },
  {
   "cell_type": "markdown",
   "metadata": {},
   "source": [
    "### Selección de características de interés y guardado de datasets:"
   ]
  },
  {
   "cell_type": "markdown",
   "metadata": {},
   "source": [
    "En esta iteración solo usaremos `domains_string` y `target_string`:"
   ]
  },
  {
   "cell_type": "markdown",
   "metadata": {},
   "source": [
    "Entrenamiento:"
   ]
  },
  {
   "cell_type": "code",
   "execution_count": 25,
   "metadata": {},
   "outputs": [],
   "source": [
    "df_train_sel = df_training[['domains_string', 'target_string']]"
   ]
  },
  {
   "cell_type": "code",
   "execution_count": 29,
   "metadata": {},
   "outputs": [],
   "source": [
    "tmp = \"/alloc/data/fury_fda-mendel/notebooks/20220228-AFFU-2-TFRS/\"\n",
    "path = os.path.join(tmp, \"1M_users_training\")"
   ]
  },
  {
   "cell_type": "code",
   "execution_count": 30,
   "metadata": {},
   "outputs": [],
   "source": [
    "df_train_sel.to_pickle(path)"
   ]
  },
  {
   "cell_type": "markdown",
   "metadata": {},
   "source": [
    "Testing:"
   ]
  },
  {
   "cell_type": "code",
   "execution_count": 31,
   "metadata": {},
   "outputs": [],
   "source": [
    "df_test_sel = df_testing[['domains_string', 'target_string']]"
   ]
  },
  {
   "cell_type": "code",
   "execution_count": 32,
   "metadata": {},
   "outputs": [],
   "source": [
    "path = os.path.join(tmp, \"1M_users_testing\")"
   ]
  },
  {
   "cell_type": "code",
   "execution_count": 33,
   "metadata": {},
   "outputs": [],
   "source": [
    "df_test_sel.to_pickle(path)"
   ]
  },
  {
   "cell_type": "markdown",
   "metadata": {},
   "source": [
    "Validación:"
   ]
  },
  {
   "cell_type": "code",
   "execution_count": 34,
   "metadata": {},
   "outputs": [],
   "source": [
    "df_val_sel = df_validation[['domains_string', 'target_string']]"
   ]
  },
  {
   "cell_type": "code",
   "execution_count": 35,
   "metadata": {},
   "outputs": [],
   "source": [
    "path = os.path.join(tmp, \"1M_users_validation\")"
   ]
  },
  {
   "cell_type": "code",
   "execution_count": 36,
   "metadata": {},
   "outputs": [],
   "source": [
    "df_val_sel.to_pickle(path)"
   ]
  },
  {
   "cell_type": "markdown",
   "metadata": {},
   "source": [
    "### Preprocesamiento\n",
    "\n",
    "Convertimos ahora a un diccionario para pasar a un tensor dataset mediante `tensor_slices`:"
   ]
  },
  {
   "cell_type": "markdown",
   "metadata": {},
   "source": [
    "----------------------------\n",
    "Nota: Si las celdas anteriores ya se ejecutaron al menos una vez, se tienen ya los datos de entrenamiento, prueba y validación en pickles y por lo tanto, pueden cargarse directamente desde las siguiente líneas para optimizar recursos:"
   ]
  },
  {
   "cell_type": "code",
   "execution_count": 37,
   "metadata": {},
   "outputs": [],
   "source": [
    "file = open('/alloc/data/fury_fda-mendel/notebooks/20220228-AFFU-2-TFRS/1M_users_training','rb')\n",
    "df_train_sel = pickle.load(file)"
   ]
  },
  {
   "cell_type": "code",
   "execution_count": 38,
   "metadata": {},
   "outputs": [],
   "source": [
    "file2 = open('/alloc/data/fury_fda-mendel/notebooks/20220228-AFFU-2-TFRS/1M_users_testing','rb')\n",
    "df_test_sel = pickle.load(file2)"
   ]
  },
  {
   "cell_type": "code",
   "execution_count": 39,
   "metadata": {},
   "outputs": [],
   "source": [
    "file3 = open('/alloc/data/fury_fda-mendel/notebooks/20220228-AFFU-2-TFRS/1M_users_validation','rb')\n",
    "df_val_sel = pickle.load(file3)"
   ]
  },
  {
   "cell_type": "markdown",
   "metadata": {},
   "source": [
    "________"
   ]
  },
  {
   "cell_type": "code",
   "execution_count": 40,
   "metadata": {},
   "outputs": [
    {
     "data": {
      "text/html": [
       "<div>\n",
       "<style scoped>\n",
       "    .dataframe tbody tr th:only-of-type {\n",
       "        vertical-align: middle;\n",
       "    }\n",
       "\n",
       "    .dataframe tbody tr th {\n",
       "        vertical-align: top;\n",
       "    }\n",
       "\n",
       "    .dataframe thead th {\n",
       "        text-align: right;\n",
       "    }\n",
       "</style>\n",
       "<table border=\"1\" class=\"dataframe\">\n",
       "  <thead>\n",
       "    <tr style=\"text-align: right;\">\n",
       "      <th></th>\n",
       "      <th>domains_string</th>\n",
       "      <th>target_string</th>\n",
       "    </tr>\n",
       "  </thead>\n",
       "  <tbody>\n",
       "    <tr>\n",
       "      <th>0</th>\n",
       "      <td>[, , , , , , , , , , , , , , , , , , , , , , , , , , , , , , , , , , , , , , , , , , , , , , , , , , , , , , , , , , , , , , , , , , , , , , , , , , , , , , , MLA-WINES, MLA-MOTORCYCLE_IGNITION_SWITCHES, MLA-FIELD_HOCKEY_STICKS, MLA-SHEET_FOLDING_MACHINES, MLA-GAMEPADS_AND_JOYSTICKS, MLA-WINES, MLA-CELLPHONE_ACCESSORIES, MLA-FOOTBALL_SHOES, MLA-HAIR_CLIPPERS]</td>\n",
       "      <td>MLA-SAFETY_CONES</td>\n",
       "    </tr>\n",
       "    <tr>\n",
       "      <th>1</th>\n",
       "      <td>[, , , , , , , , , , , , , , , , , , , , , , , , , , , , , , , , , , , , , , , , , , , , , , , , , , , , , , , , , , , , , , , , , , , , , , , , , , , , , , , , , MLA-MOTORCYCLE_HELMETS, MLA-DATA_CABLES_AND_ADAPTERS, MLA-MOTORCYCLE_HELMETS, MLA-SNEAKERS, MLA-MOTORCYCLE_HELMETS, MLA-SNEAKERS, MLA-CELLPHONE_ACCESSORIES]</td>\n",
       "      <td>MLA-SAFETY_CONES</td>\n",
       "    </tr>\n",
       "    <tr>\n",
       "      <th>10</th>\n",
       "      <td>[, , , , , , , , , , , , , , , , , , , , , , , , , , , , , , , , , , , , , , , , , , , , , , , , , , , , , , , , , , , , , , , , , , , , , , , , , , MLA-PILLOWS, MLA-STARTERS, MLA-STARTERS, MLA-LAPTOP_BATTERIES, MLA-TELEVISIONS, MLA-AUTOMOBILE_DOOR_GLASSES, MLA-RANGES, MLA-HOME_APPLIANCES_ACCESSORIES_AND_SPARE_PARTS, MLA-HOME_APPLIANCES_ACCESSORIES_AND_SPARE_PARTS, MLA-GAS_HEATERS, MLA-AUTOMOBILE_DOOR_GLASSES, MLA-ELECTRIC_HOME_HEATERS, MLA-CHOCOLATES, MLA-COOKING_OILS]</td>\n",
       "      <td>MLA-SAFETY_CONES</td>\n",
       "    </tr>\n",
       "  </tbody>\n",
       "</table>\n",
       "</div>"
      ],
      "text/plain": [
       "                                                                                                                                                                                                                                                                                                                                                                                                                                                                                domains_string  \\\n",
       "0                                                                                                                    [, , , , , , , , , , , , , , , , , , , , , , , , , , , , , , , , , , , , , , , , , , , , , , , , , , , , , , , , , , , , , , , , , , , , , , , , , , , , , , , MLA-WINES, MLA-MOTORCYCLE_IGNITION_SWITCHES, MLA-FIELD_HOCKEY_STICKS, MLA-SHEET_FOLDING_MACHINES, MLA-GAMEPADS_AND_JOYSTICKS, MLA-WINES, MLA-CELLPHONE_ACCESSORIES, MLA-FOOTBALL_SHOES, MLA-HAIR_CLIPPERS]   \n",
       "1                                                                                                                                                              [, , , , , , , , , , , , , , , , , , , , , , , , , , , , , , , , , , , , , , , , , , , , , , , , , , , , , , , , , , , , , , , , , , , , , , , , , , , , , , , , , MLA-MOTORCYCLE_HELMETS, MLA-DATA_CABLES_AND_ADAPTERS, MLA-MOTORCYCLE_HELMETS, MLA-SNEAKERS, MLA-MOTORCYCLE_HELMETS, MLA-SNEAKERS, MLA-CELLPHONE_ACCESSORIES]   \n",
       "10  [, , , , , , , , , , , , , , , , , , , , , , , , , , , , , , , , , , , , , , , , , , , , , , , , , , , , , , , , , , , , , , , , , , , , , , , , , , MLA-PILLOWS, MLA-STARTERS, MLA-STARTERS, MLA-LAPTOP_BATTERIES, MLA-TELEVISIONS, MLA-AUTOMOBILE_DOOR_GLASSES, MLA-RANGES, MLA-HOME_APPLIANCES_ACCESSORIES_AND_SPARE_PARTS, MLA-HOME_APPLIANCES_ACCESSORIES_AND_SPARE_PARTS, MLA-GAS_HEATERS, MLA-AUTOMOBILE_DOOR_GLASSES, MLA-ELECTRIC_HOME_HEATERS, MLA-CHOCOLATES, MLA-COOKING_OILS]   \n",
       "\n",
       "       target_string  \n",
       "0   MLA-SAFETY_CONES  \n",
       "1   MLA-SAFETY_CONES  \n",
       "10  MLA-SAFETY_CONES  "
      ]
     },
     "execution_count": 40,
     "metadata": {},
     "output_type": "execute_result"
    }
   ],
   "source": [
    "df_train_sel.head(3)"
   ]
  },
  {
   "cell_type": "code",
   "execution_count": 41,
   "metadata": {},
   "outputs": [],
   "source": [
    "df_train_sel['target_string'] = df_train_sel['target_string'].apply(lambda x: x.rsplit())"
   ]
  },
  {
   "cell_type": "code",
   "execution_count": 42,
   "metadata": {},
   "outputs": [
    {
     "data": {
      "text/html": [
       "<div>\n",
       "<style scoped>\n",
       "    .dataframe tbody tr th:only-of-type {\n",
       "        vertical-align: middle;\n",
       "    }\n",
       "\n",
       "    .dataframe tbody tr th {\n",
       "        vertical-align: top;\n",
       "    }\n",
       "\n",
       "    .dataframe thead th {\n",
       "        text-align: right;\n",
       "    }\n",
       "</style>\n",
       "<table border=\"1\" class=\"dataframe\">\n",
       "  <thead>\n",
       "    <tr style=\"text-align: right;\">\n",
       "      <th></th>\n",
       "      <th>domains_string</th>\n",
       "      <th>target_string</th>\n",
       "    </tr>\n",
       "  </thead>\n",
       "  <tbody>\n",
       "    <tr>\n",
       "      <th>0</th>\n",
       "      <td>[, , , , , , , , , , , , , , , , , , , , , , , , , , , , , , , , , , , , , , , , , , , , , , , , , , , , , , , , , , , , , , , , , , , , , , , , , , , , , , , MLA-WINES, MLA-MOTORCYCLE_IGNITION_SWITCHES, MLA-FIELD_HOCKEY_STICKS, MLA-SHEET_FOLDING_MACHINES, MLA-GAMEPADS_AND_JOYSTICKS, MLA-WINES, MLA-CELLPHONE_ACCESSORIES, MLA-FOOTBALL_SHOES, MLA-HAIR_CLIPPERS]</td>\n",
       "      <td>[MLA-SAFETY_CONES]</td>\n",
       "    </tr>\n",
       "    <tr>\n",
       "      <th>1</th>\n",
       "      <td>[, , , , , , , , , , , , , , , , , , , , , , , , , , , , , , , , , , , , , , , , , , , , , , , , , , , , , , , , , , , , , , , , , , , , , , , , , , , , , , , , , MLA-MOTORCYCLE_HELMETS, MLA-DATA_CABLES_AND_ADAPTERS, MLA-MOTORCYCLE_HELMETS, MLA-SNEAKERS, MLA-MOTORCYCLE_HELMETS, MLA-SNEAKERS, MLA-CELLPHONE_ACCESSORIES]</td>\n",
       "      <td>[MLA-SAFETY_CONES]</td>\n",
       "    </tr>\n",
       "  </tbody>\n",
       "</table>\n",
       "</div>"
      ],
      "text/plain": [
       "                                                                                                                                                                                                                                                                                                                                                              domains_string  \\\n",
       "0  [, , , , , , , , , , , , , , , , , , , , , , , , , , , , , , , , , , , , , , , , , , , , , , , , , , , , , , , , , , , , , , , , , , , , , , , , , , , , , , , MLA-WINES, MLA-MOTORCYCLE_IGNITION_SWITCHES, MLA-FIELD_HOCKEY_STICKS, MLA-SHEET_FOLDING_MACHINES, MLA-GAMEPADS_AND_JOYSTICKS, MLA-WINES, MLA-CELLPHONE_ACCESSORIES, MLA-FOOTBALL_SHOES, MLA-HAIR_CLIPPERS]   \n",
       "1                                            [, , , , , , , , , , , , , , , , , , , , , , , , , , , , , , , , , , , , , , , , , , , , , , , , , , , , , , , , , , , , , , , , , , , , , , , , , , , , , , , , , MLA-MOTORCYCLE_HELMETS, MLA-DATA_CABLES_AND_ADAPTERS, MLA-MOTORCYCLE_HELMETS, MLA-SNEAKERS, MLA-MOTORCYCLE_HELMETS, MLA-SNEAKERS, MLA-CELLPHONE_ACCESSORIES]   \n",
       "\n",
       "        target_string  \n",
       "0  [MLA-SAFETY_CONES]  \n",
       "1  [MLA-SAFETY_CONES]  "
      ]
     },
     "execution_count": 42,
     "metadata": {},
     "output_type": "execute_result"
    }
   ],
   "source": [
    "df_train_sel.head(2)"
   ]
  },
  {
   "cell_type": "code",
   "execution_count": 43,
   "metadata": {},
   "outputs": [],
   "source": [
    "df_test_sel['target_string'] = df_test_sel['target_string'].apply(lambda x: x.rsplit())"
   ]
  },
  {
   "cell_type": "code",
   "execution_count": 44,
   "metadata": {},
   "outputs": [],
   "source": [
    "df_val_sel['target_string'] = df_val_sel['target_string'].apply(lambda x: x.rsplit())"
   ]
  },
  {
   "cell_type": "code",
   "execution_count": 45,
   "metadata": {},
   "outputs": [],
   "source": [
    "df_train_dict = df_train_sel.to_dict(orient = 'list')"
   ]
  },
  {
   "cell_type": "code",
   "execution_count": 46,
   "metadata": {},
   "outputs": [],
   "source": [
    "df_test_dict = df_test_sel.to_dict(orient = 'list')"
   ]
  },
  {
   "cell_type": "code",
   "execution_count": 47,
   "metadata": {},
   "outputs": [],
   "source": [
    "df_val_dict = df_val_sel.to_dict(orient = 'list')"
   ]
  },
  {
   "cell_type": "code",
   "execution_count": 53,
   "metadata": {},
   "outputs": [],
   "source": [
    "interactions_train = tf.data.Dataset.from_tensor_slices(df_train_dict)"
   ]
  },
  {
   "cell_type": "code",
   "execution_count": 49,
   "metadata": {},
   "outputs": [],
   "source": [
    "interactions_test = tf.data.Dataset.from_tensor_slices(df_test_dict)"
   ]
  },
  {
   "cell_type": "code",
   "execution_count": 50,
   "metadata": {},
   "outputs": [],
   "source": [
    "interactions_val = tf.data.Dataset.from_tensor_slices(df_val_dict)"
   ]
  },
  {
   "cell_type": "code",
   "execution_count": 52,
   "metadata": {},
   "outputs": [
    {
     "name": "stdout",
     "output_type": "stream",
     "text": [
      "{'domains_string': array([b'', b'', b'', b'', b'', b'', b'', b'', b'', b'', b'', b'', b'',\n",
      "       b'', b'', b'', b'', b'', b'', b'', b'', b'', b'', b'', b'', b'',\n",
      "       b'', b'', b'', b'', b'', b'', b'', b'', b'', b'', b'', b'', b'',\n",
      "       b'', b'', b'', b'', b'', b'', b'', b'', b'', b'', b'', b'', b'',\n",
      "       b'', b'', b'', b'', b'', b'', b'', b'', b'', b'', b'', b'', b'',\n",
      "       b'', b'', b'', b'', b'', b'', b'', b'', b'', b'', b'', b'', b'',\n",
      "       b'', b'MLA-WINES', b'MLA-MOTORCYCLE_IGNITION_SWITCHES',\n",
      "       b'MLA-FIELD_HOCKEY_STICKS', b'MLA-SHEET_FOLDING_MACHINES',\n",
      "       b'MLA-GAMEPADS_AND_JOYSTICKS', b'MLA-WINES',\n",
      "       b'MLA-CELLPHONE_ACCESSORIES', b'MLA-FOOTBALL_SHOES',\n",
      "       b'MLA-HAIR_CLIPPERS'], dtype=object),\n",
      " 'target_string': array([b'MLA-SAFETY_CONES'], dtype=object)}\n"
     ]
    }
   ],
   "source": [
    "for x in interactions_train.take(1).as_numpy_iterator():\n",
    "    pprint.pprint(x)"
   ]
  },
  {
   "cell_type": "code",
   "execution_count": 54,
   "metadata": {},
   "outputs": [],
   "source": [
    "interactions_train = interactions_train.map(lambda x: {\n",
    "                               \"domains_string\": x[\"domains_string\"],\n",
    "                               \"target_string\": x[\"target_string\"]})"
   ]
  },
  {
   "cell_type": "code",
   "execution_count": 55,
   "metadata": {},
   "outputs": [],
   "source": [
    "interactions_test = interactions_test.map(lambda x: {\n",
    "                                \"domains_string\": x[\"domains_string\"],\n",
    "                                \"target_string\": x[\"target_string\"]})"
   ]
  },
  {
   "cell_type": "code",
   "execution_count": 56,
   "metadata": {},
   "outputs": [],
   "source": [
    "interactions_val = interactions_val.map(lambda x: {\n",
    "                                \"domains_string\": x[\"domains_string\"],\n",
    "                                \"target_string\": x[\"target_string\"]})"
   ]
  },
  {
   "cell_type": "markdown",
   "metadata": {},
   "source": [
    "### Ahora cargamos la lista de dominios únicos\n",
    "\n",
    "Por ahora hacemos la carga como en la última iteración que es lanzando la consulta desde este cuaderno:\n"
   ]
  },
  {
   "cell_type": "code",
   "execution_count": 58,
   "metadata": {},
   "outputs": [],
   "source": [
    "domain_query = f\"\"\"\n",
    "SELECT distinct domain_id FROM `mld-marketing.clustering.catalog_categories`\n",
    "WHERE site_id = 'MLA'\n",
    "\"\"\"\n",
    "\n",
    "domain = db.query(domain_query, output='storage')"
   ]
  },
  {
   "cell_type": "code",
   "execution_count": 59,
   "metadata": {},
   "outputs": [],
   "source": [
    "ddf_domain = dd.read_parquet(domain, storage_options={\"token\": db.json_cred})\n",
    "df_domain = ddf_domain.compute()"
   ]
  },
  {
   "cell_type": "code",
   "execution_count": 62,
   "metadata": {},
   "outputs": [],
   "source": [
    "tmp = \"/alloc/data/fury_fda-mendel/notebooks/20220228-AFFU-2-TFRS/\"\n",
    "path = os.path.join(tmp, \"domain\")"
   ]
  },
  {
   "cell_type": "code",
   "execution_count": 63,
   "metadata": {},
   "outputs": [],
   "source": [
    "df_domain.to_pickle(path)"
   ]
  },
  {
   "cell_type": "code",
   "execution_count": 64,
   "metadata": {},
   "outputs": [],
   "source": [
    "domain_dict = dict(df_domain)"
   ]
  },
  {
   "cell_type": "code",
   "execution_count": 65,
   "metadata": {},
   "outputs": [],
   "source": [
    "domain_dataset = tf.data.Dataset.from_tensor_slices(domain_dict)"
   ]
  },
  {
   "cell_type": "code",
   "execution_count": 66,
   "metadata": {},
   "outputs": [
    {
     "name": "stdout",
     "output_type": "stream",
     "text": [
      "{'domain_id': b'MLA-CEREALS'}\n",
      "{'domain_id': b'MLA-DIPS_AND_SPREADS'}\n",
      "{'domain_id': b'MLA-JUICES'}\n"
     ]
    }
   ],
   "source": [
    "for x in domain_dataset.take(3).as_numpy_iterator():\n",
    "    pprint.pprint(x)"
   ]
  },
  {
   "cell_type": "code",
   "execution_count": 67,
   "metadata": {},
   "outputs": [],
   "source": [
    "domain_dataset = domain_dataset.map(lambda x: x[\"domain_id\"])"
   ]
  },
  {
   "cell_type": "markdown",
   "metadata": {},
   "source": [
    "### Implementación del modelo"
   ]
  },
  {
   "cell_type": "code",
   "execution_count": 68,
   "metadata": {},
   "outputs": [],
   "source": [
    "domain_ids = domain_dataset.batch(1_000)"
   ]
  },
  {
   "cell_type": "code",
   "execution_count": 69,
   "metadata": {},
   "outputs": [],
   "source": [
    "unique_domain_ids = np.unique(np.concatenate(list(domain_ids)))"
   ]
  },
  {
   "cell_type": "code",
   "execution_count": 70,
   "metadata": {},
   "outputs": [
    {
     "data": {
      "text/plain": [
       "4800"
      ]
     },
     "execution_count": 70,
     "metadata": {},
     "output_type": "execute_result"
    }
   ],
   "source": [
    "len(unique_domain_ids)"
   ]
  },
  {
   "cell_type": "code",
   "execution_count": 71,
   "metadata": {},
   "outputs": [],
   "source": [
    "embedding_dimension = 32"
   ]
  },
  {
   "cell_type": "code",
   "execution_count": 72,
   "metadata": {},
   "outputs": [],
   "source": [
    "query_model = tf.keras.Sequential([\n",
    "    tf.keras.layers.StringLookup(\n",
    "        vocabulary = unique_domain_ids, max_tokens=len(unique_domain_ids)+1),\n",
    "    tf.keras.layers.Embedding(len(unique_domain_ids) + 1, embedding_dimension, mask_zero = True),\n",
    "    tf.keras.layers.LSTM(embedding_dimension)\n",
    "    #tf.keras.layers.GRU(embedding_dimension)\n",
    "])"
   ]
  },
  {
   "cell_type": "code",
   "execution_count": 73,
   "metadata": {},
   "outputs": [],
   "source": [
    "candidate_model = tf.keras.Sequential([\n",
    "    tf.keras.layers.StringLookup(\n",
    "        vocabulary = unique_domain_ids, max_tokens=len(unique_domain_ids)+1),\n",
    "    tf.keras.layers.Embedding(len(unique_domain_ids) + 1, embedding_dimension)\n",
    "])"
   ]
  },
  {
   "cell_type": "code",
   "execution_count": 74,
   "metadata": {},
   "outputs": [],
   "source": [
    "metrics = tfrs.metrics.FactorizedTopK( candidates = domain_dataset.batch(128).map(candidate_model))\n",
    "\n",
    "task = tfrs.tasks.Retrieval(metrics = metrics)"
   ]
  },
  {
   "cell_type": "code",
   "execution_count": 75,
   "metadata": {},
   "outputs": [],
   "source": [
    "class Model(tfrs.Model):\n",
    "    \n",
    "    def __init__(self, query_model: tf.keras.Model, candidate_model: tf.keras.Model, task: tfrs.tasks.Retrieval):\n",
    "        super().__init__()\n",
    "        \n",
    "        self.query_model = query_model\n",
    "        self.candidate_model = candidate_model\n",
    "        self.task = task\n",
    "        \n",
    "    def compute_loss(self, features, training = True):\n",
    "        watch_history = features[\"domains_string\"]\n",
    "        watch_next_label = features[\"target_string\"]\n",
    "        \n",
    "        query_embedding = self.query_model(watch_history)\n",
    "        candidate_embedding = self.candidate_model(watch_next_label)\n",
    "        \n",
    "        return self.task(query_embedding, candidate_embedding)"
   ]
  },
  {
   "cell_type": "markdown",
   "metadata": {},
   "source": [
    "### Entrenando y evaluando el modelo"
   ]
  },
  {
   "cell_type": "code",
   "execution_count": 76,
   "metadata": {},
   "outputs": [],
   "source": [
    "model = Model(query_model, candidate_model, task)"
   ]
  },
  {
   "cell_type": "code",
   "execution_count": 77,
   "metadata": {},
   "outputs": [],
   "source": [
    "model.compile(optimizer = tf.keras.optimizers.Adagrad(learning_rate=0.1), metrics = ['accuracy'])"
   ]
  },
  {
   "cell_type": "code",
   "execution_count": 78,
   "metadata": {},
   "outputs": [],
   "source": [
    "cached_train = interactions_train.shuffle(10_000).batch(12800).cache()\n",
    "cached_test = interactions_test.batch(2560).cache()"
   ]
  },
  {
   "cell_type": "code",
   "execution_count": 79,
   "metadata": {},
   "outputs": [
    {
     "name": "stdout",
     "output_type": "stream",
     "text": [
      "Epoch 1/3\n",
      "155/155 [==============================] - 263s 2s/step - factorized_top_k/top_1_categorical_accuracy: 0.0042 - factorized_top_k/top_5_categorical_accuracy: 0.0169 - factorized_top_k/top_10_categorical_accuracy: 0.0265 - factorized_top_k/top_50_categorical_accuracy: 0.0822 - factorized_top_k/top_100_categorical_accuracy: 0.1361 - loss: 117080.7116 - regularization_loss: 0.0000e+00 - total_loss: 117080.7116\n",
      "Epoch 2/3\n",
      "155/155 [==============================] - 223s 1s/step - factorized_top_k/top_1_categorical_accuracy: 0.0035 - factorized_top_k/top_5_categorical_accuracy: 0.0176 - factorized_top_k/top_10_categorical_accuracy: 0.0327 - factorized_top_k/top_50_categorical_accuracy: 0.1163 - factorized_top_k/top_100_categorical_accuracy: 0.1898 - loss: 114266.9957 - regularization_loss: 0.0000e+00 - total_loss: 114266.9957\n",
      "Epoch 3/3\n",
      "155/155 [==============================] - 232s 1s/step - factorized_top_k/top_1_categorical_accuracy: 0.0046 - factorized_top_k/top_5_categorical_accuracy: 0.0263 - factorized_top_k/top_10_categorical_accuracy: 0.0477 - factorized_top_k/top_50_categorical_accuracy: 0.1521 - factorized_top_k/top_100_categorical_accuracy: 0.2303 - loss: 112961.2897 - regularization_loss: 0.0000e+00 - total_loss: 112961.2897\n",
      "CPU times: user 4h 9min 53s, sys: 1h 8min 3s, total: 5h 17min 57s\n",
      "Wall time: 12min 10s\n"
     ]
    }
   ],
   "source": [
    "%%time\n",
    "history = model.fit(cached_train, epochs = 3)"
   ]
  },
  {
   "cell_type": "code",
   "execution_count": 80,
   "metadata": {},
   "outputs": [
    {
     "data": {
      "text/plain": [
       "[6634.3447265625, 6585.57275390625, 6529.7373046875]"
      ]
     },
     "execution_count": 80,
     "metadata": {},
     "output_type": "execute_result"
    }
   ],
   "source": [
    "history.history['total_loss']"
   ]
  },
  {
   "cell_type": "code",
   "execution_count": 81,
   "metadata": {},
   "outputs": [
    {
     "data": {
      "image/png": "[encoded data removed]",
      "text/plain": [
       "<Figure size 432x288 with 1 Axes>"
      ]
     },
     "metadata": {
      "image/png": {
       "height": 290,
       "width": 401
      }
     },
     "output_type": "display_data"
    },
    {
     "data": {
      "image/png": "[encoded data removed]",
      "text/plain": [
       "<Figure size 432x288 with 1 Axes>"
      ]
     },
     "metadata": {
      "image/png": {
       "height": 264,
       "width": 398
      }
     },
     "output_type": "display_data"
    }
   ],
   "source": [
    "import matplotlib.pyplot as plt\n",
    "def plot_graphs(history, string):\n",
    "    plt.plot(history.history[string])\n",
    "    #plt.plot(history.history['val_'+string])\n",
    "    plt.xlabel(\"Epochs\")\n",
    "    plt.ylabel(string)\n",
    "    #plt.legend([string, 'val_'+string])\n",
    "    plt.show()\n",
    "plot_graphs(history, 'factorized_top_k/top_5_categorical_accuracy')\n",
    "plot_graphs(history, 'total_loss')"
   ]
  },
  {
   "cell_type": "code",
   "execution_count": 82,
   "metadata": {},
   "outputs": [
    {
     "name": "stdout",
     "output_type": "stream",
     "text": [
      "308/308 [==============================] - 100s 303ms/step - factorized_top_k/top_1_categorical_accuracy: 0.0071 - factorized_top_k/top_5_categorical_accuracy: 0.0349 - factorized_top_k/top_10_categorical_accuracy: 0.0591 - factorized_top_k/top_50_categorical_accuracy: 0.1641 - factorized_top_k/top_100_categorical_accuracy: 0.2394 - loss: 19210.2987 - regularization_loss: 0.0000e+00 - total_loss: 19210.2987\n",
      "CPU times: user 19min 25s, sys: 2min 11s, total: 21min 36s\n",
      "Wall time: 1min 40s\n"
     ]
    },
    {
     "data": {
      "text/plain": [
       "{'factorized_top_k/top_1_categorical_accuracy': 0.007071952801197767,\n",
       " 'factorized_top_k/top_5_categorical_accuracy': 0.034948691725730896,\n",
       " 'factorized_top_k/top_10_categorical_accuracy': 0.05910802632570267,\n",
       " 'factorized_top_k/top_50_categorical_accuracy': 0.1641431450843811,\n",
       " 'factorized_top_k/top_100_categorical_accuracy': 0.23944027721881866,\n",
       " 'loss': 17489.142578125,\n",
       " 'regularization_loss': 0,\n",
       " 'total_loss': 17489.142578125}"
      ]
     },
     "execution_count": 82,
     "metadata": {},
     "output_type": "execute_result"
    }
   ],
   "source": [
    "%%time\n",
    "model.evaluate(cached_test, return_dict = True)"
   ]
  },
  {
   "cell_type": "markdown",
   "metadata": {},
   "source": [
    "**Nota**: ejecutar la siguiente celda si el directorio no existe. Si es una nueva arquitectura que se desea probar (con capa GRU o diferente número de embeddings) modificar el nombre del directory y crear un nuevo directorio."
   ]
  },
  {
   "cell_type": "code",
   "execution_count": null,
   "metadata": {},
   "outputs": [],
   "source": [
    "parent = '/alloc/data/fury_fda-mendel/training/'\n",
    "directory = 'TFRS_20220221_LSTM'\n",
    "path = os.path.join(parent,directory)\n",
    "os.mkdir(path)"
   ]
  },
  {
   "cell_type": "code",
   "execution_count": null,
   "metadata": {},
   "outputs": [],
   "source": [
    "parent = '/alloc/data/fury_fda-mendel/training/TFRS_20220221_LSTM'\n",
    "directory = 'model_images'\n",
    "path = os.path.join(parent,directory)\n",
    "os.mkdir(path)"
   ]
  },
  {
   "cell_type": "code",
   "execution_count": 154,
   "metadata": {},
   "outputs": [
    {
     "data": {
      "image/png": "[encoded data removed]",
      "text/plain": [
       "<IPython.core.display.Image object>"
      ]
     },
     "execution_count": 154,
     "metadata": {},
     "output_type": "execute_result"
    }
   ],
   "source": [
    "# Graficar el modelo de los usuarios\n",
    "tf.keras.utils.plot_model(query_model, '/alloc/data/fury_fda-mendel/training/TFRS_20220221_LSTM/model_images/query_model.png', show_shapes=True)"
   ]
  },
  {
   "cell_type": "code",
   "execution_count": 155,
   "metadata": {},
   "outputs": [
    {
     "data": {
      "image/png": "[encoded data removed]",
      "text/plain": [
       "<IPython.core.display.Image object>"
      ]
     },
     "execution_count": 155,
     "metadata": {},
     "output_type": "execute_result"
    }
   ],
   "source": [
    "# Graficar el modelo de los dominios\n",
    "tf.keras.utils.plot_model(candidate_model, '/alloc/data/fury_fda-mendel/training/TFRS_20220221_LSTM/model_images/candidate_model.png', show_shapes=True)"
   ]
  },
  {
   "cell_type": "markdown",
   "metadata": {},
   "source": [
    "### Predicciones"
   ]
  },
  {
   "cell_type": "markdown",
   "metadata": {},
   "source": [
    "Con el algoritmo de fuerza bruta:"
   ]
  },
  {
   "cell_type": "code",
   "execution_count": 84,
   "metadata": {},
   "outputs": [],
   "source": [
    "index = tfrs.layers.factorized_top_k.BruteForce(model.query_model, k=50)"
   ]
  },
  {
   "cell_type": "code",
   "execution_count": 85,
   "metadata": {},
   "outputs": [
    {
     "data": {
      "text/plain": [
       "<tensorflow_recommenders.layers.factorized_top_k.BruteForce at 0x7f629c670d10>"
      ]
     },
     "execution_count": 85,
     "metadata": {},
     "output_type": "execute_result"
    }
   ],
   "source": [
    "index.index_from_dataset(\n",
    "    domain_dataset.batch(100).map(lambda domain_id: (domain_id, model.candidate_model(domain_id))))"
   ]
  },
  {
   "cell_type": "markdown",
   "metadata": {},
   "source": [
    "Crear nuevo directorio si no existe:"
   ]
  },
  {
   "cell_type": "code",
   "execution_count": 86,
   "metadata": {},
   "outputs": [],
   "source": [
    "tmp = \"/alloc/data/fury_fda-mendel/training/\"\n",
    "path = os.path.join(tmp, \"TFRS_20220221_LSTM\")"
   ]
  },
  {
   "cell_type": "code",
   "execution_count": null,
   "metadata": {},
   "outputs": [],
   "source": [
    "tf.saved_model.save(index, path)"
   ]
  },
  {
   "cell_type": "markdown",
   "metadata": {},
   "source": [
    "Hacemos primero un sanity check:"
   ]
  },
  {
   "cell_type": "code",
   "execution_count": 88,
   "metadata": {},
   "outputs": [
    {
     "name": "stdout",
     "output_type": "stream",
     "text": [
      "{'domains_string': array([b'', b'', b'', b'', b'', b'', b'', b'', b'', b'', b'', b'', b'',\n",
      "       b'', b'', b'', b'', b'', b'', b'', b'', b'', b'', b'', b'', b'',\n",
      "       b'', b'', b'', b'', b'', b'', b'', b'', b'', b'', b'', b'', b'',\n",
      "       b'', b'', b'', b'', b'', b'', b'', b'', b'', b'', b'', b'', b'',\n",
      "       b'', b'', b'', b'', b'', b'', b'', b'', b'', b'', b'', b'', b'',\n",
      "       b'', b'', b'', b'', b'MLA-AUTOMOTIVE_WATER_PUMPS',\n",
      "       b'MLA-VEHICLE_BRAKE_PADS', b'MLA-CATS_AND_DOGS_FOODS',\n",
      "       b'MLA-AUTOMOTIVE_FRONT_BUMPERS', b'MLA-CAR_HOODS',\n",
      "       b'MLA-VEHICLE_ACCESSORIES', b'MLA-COMMERCIAL_NO_LIGHT_SIGNS',\n",
      "       b'MLA-ARTIFICIAL_PLANTS', b'MLA-SHIRTS', b'MLA-PANTS',\n",
      "       b'MLA-CLOTHING_LOTS', b'MLA-CLOTHING',\n",
      "       b'MLA-AUTOMOTIVE_TRANSMISSION_GEARS',\n",
      "       b'MLA-AUTOMOTIVE_CLUTCH_KITS', b'MLA-SHOCK_MOUNT_INSOLATORS',\n",
      "       b'MLA-AUTOMOTIVE_CLUTCH_KITS', b'MLA-SHOCK_MOUNT_INSOLATORS',\n",
      "       b'MLA-AUTOMOTIVE_TRANSMISSION_GEARS',\n",
      "       b'MLA-AUTOMOTIVE_TRANSMISSION_GEARS'], dtype=object),\n",
      " 'target_string': array([b'MLA-SAFETY_CONES'], dtype=object)}\n"
     ]
    }
   ],
   "source": [
    "for x in interactions_val.take(1).as_numpy_iterator():\n",
    "    pprint.pprint(x)\n",
    "    domain_sanity_check = x"
   ]
  },
  {
   "cell_type": "code",
   "execution_count": 89,
   "metadata": {},
   "outputs": [],
   "source": [
    "domain_sanity_check = domain_sanity_check['domains_string']"
   ]
  },
  {
   "cell_type": "code",
   "execution_count": 91,
   "metadata": {},
   "outputs": [
    {
     "data": {
      "text/plain": [
       "(88,)"
      ]
     },
     "execution_count": 91,
     "metadata": {},
     "output_type": "execute_result"
    }
   ],
   "source": [
    "domain_sanity_check.shape"
   ]
  },
  {
   "cell_type": "code",
   "execution_count": 92,
   "metadata": {},
   "outputs": [],
   "source": [
    "domain_sanity_check = np.reshape(domain_sanity_check,(1,len(domain_sanity_check),))"
   ]
  },
  {
   "cell_type": "code",
   "execution_count": 93,
   "metadata": {},
   "outputs": [
    {
     "data": {
      "text/plain": [
       "(1, 88)"
      ]
     },
     "execution_count": 93,
     "metadata": {},
     "output_type": "execute_result"
    }
   ],
   "source": [
    "domain_sanity_check.shape"
   ]
  },
  {
   "cell_type": "code",
   "execution_count": 94,
   "metadata": {},
   "outputs": [],
   "source": [
    "scores, domains_rec = index(domain_sanity_check)"
   ]
  },
  {
   "cell_type": "code",
   "execution_count": 95,
   "metadata": {},
   "outputs": [
    {
     "data": {
      "text/plain": [
       "<tf.Tensor: shape=(1, 50), dtype=string, numpy=\n",
       "array([[b'MLA-DIFFERENTIALS', b'MLA-ENGINE_VALVES_SPRING_RETAINERS',\n",
       "        b'MLA-AUTOMOTIVE_SHOCK_ABSORBER_KITS', b'MLA-INJECTION_PUMPS',\n",
       "        b'MLA-SUSPENSION_BALL_JOINTS', b'MLA-DRIVE_SHAFTS',\n",
       "        b'MLA-AUTOMOTIVE_TRANSMISSION_GEARS',\n",
       "        b'MLA-VEHICLE_CYLINDER_LINERS', b'MLA-ENGINE_BEARINGS',\n",
       "        b'MLA-AUTOMOTIVE_TRIPOD_JOINT_SPIDERS', b'MLA-ENGINE_BLOCKS',\n",
       "        b'MLA-CLUTCH_BEARINGS',\n",
       "        b'MLA-AUTOMOTIVE_FUEL_PRESSURE_REGULATORS',\n",
       "        b'MLA-BRAKE_BOOSTERS', b'MLA-AUTOMOTIVE_SHOCK_ABSORBERS',\n",
       "        b'MLA-DISTRIBUTION_KITS', b'MLA-ELECTRIC_TIRE_CHANGERS',\n",
       "        b'MLA-VEHICLE_ENGINE_PISTON_RING_SETS',\n",
       "        b'MLA-ENGINE_CYLINDER_HEAD_BOLTS',\n",
       "        b'MLA-AUTOMOTIVE_ENGINE_TIMING_COVERS',\n",
       "        b'MLA-AUTOMOTIVE_SUSPENSION_CONTROL_ARMS',\n",
       "        b'MLA-ENGINE_GASKET_SETS', b'MLA-AUTOMOTIVE_CLUTCH_DISCS',\n",
       "        b'MLA-AUTOMOTIVE_OIL_PUMPS', b'MLA-EXHAUST_MANIFOLDS',\n",
       "        b'MLA-AUTOMOTIVE_ENGINE_ROCKER_ARMS', b'MLA-HAND_BRAKE_CABLES',\n",
       "        b'MLA-ENGINE_PISTON_AND_LINER_KITS', b'MLA-HOOD_HINGES',\n",
       "        b'MLA-CV_JOINTS', b'MLA-WHEELS_BEARINGS',\n",
       "        b'MLA-CAR_POWER_STEERING_PUMPS', b'MLA-RACKS_AND_PINIONS',\n",
       "        b'MLA-CAR_GEARBOXES', b'MLA-AUTOMOTIVE_ENGINE_FANS',\n",
       "        b'MLA-AUTOMOTIVE_HEAD_GASKETS', b'MLA-FUEL_INJECTION_RAILS',\n",
       "        b'MLA-CAR_DISTRIBUTORS', b'MLA-AUTOMOTIVE_TIRES',\n",
       "        b'MLA-CRANKSHAFTS', b'MLA-EXHAUST_MANIFOLD_GASKET_SETS',\n",
       "        b'MLA-AUTOMOTIVE_ENGINE_CYLINDER_HEADS',\n",
       "        b'MLA-AUTOMOTIVE_BRAKE_FORCE_REGULATORS', b'MLA-MAF_SENSORS',\n",
       "        b'MLA-CAR_ENGINE_CAMSHAFTS', b'MLA-AUTOMOTIVE_CV_JOINT_BOOTS',\n",
       "        b'MLA-ALTERNATORS', b'MLA-ALTERNATOR_PULLEYS',\n",
       "        b'MLA-OUTER_TIE_ROD_ENDS',\n",
       "        b'MLA-AUTOMOTIVE_ENGINE_COOLANT_THERMOSTATS']], dtype=object)>"
      ]
     },
     "execution_count": 95,
     "metadata": {},
     "output_type": "execute_result"
    }
   ],
   "source": [
    "domains_rec"
   ]
  },
  {
   "cell_type": "code",
   "execution_count": 96,
   "metadata": {},
   "outputs": [
    {
     "data": {
      "text/plain": [
       "<tf.Tensor: shape=(1, 50), dtype=float32, numpy=\n",
       "array([[2.9514248, 2.9060664, 2.8771071, 2.854928 , 2.8071833, 2.8064976,\n",
       "        2.8027508, 2.782631 , 2.7761564, 2.770103 , 2.7612534, 2.7393613,\n",
       "        2.7315269, 2.7254171, 2.72019  , 2.714986 , 2.712822 , 2.689744 ,\n",
       "        2.6853673, 2.6819382, 2.6744862, 2.6606774, 2.6602688, 2.6536775,\n",
       "        2.6531546, 2.6531157, 2.649438 , 2.6460743, 2.6425285, 2.6344566,\n",
       "        2.630796 , 2.6293774, 2.6263785, 2.6262062, 2.619824 , 2.6187143,\n",
       "        2.6155353, 2.615467 , 2.6144264, 2.6120918, 2.6108904, 2.5913594,\n",
       "        2.5873208, 2.585763 , 2.5746655, 2.5718126, 2.565822 , 2.5583134,\n",
       "        2.552162 , 2.551681 ]], dtype=float32)>"
      ]
     },
     "execution_count": 96,
     "metadata": {},
     "output_type": "execute_result"
    }
   ],
   "source": [
    "scores"
   ]
  },
  {
   "cell_type": "markdown",
   "metadata": {},
   "source": [
    "Ahora con Scann:"
   ]
  },
  {
   "cell_type": "code",
   "execution_count": 97,
   "metadata": {},
   "outputs": [],
   "source": [
    "scann = tfrs.layers.factorized_top_k.ScaNN(model.query_model, k=50)"
   ]
  },
  {
   "cell_type": "code",
   "execution_count": null,
   "metadata": {},
   "outputs": [],
   "source": [
    "scann.index_from_dataset(\n",
    "    domain_dataset.batch(100).map(lambda domain_id: (domain_id, model.candidate_model(domain_id))))"
   ]
  },
  {
   "cell_type": "markdown",
   "metadata": {},
   "source": [
    "Crear nuevo directorio si no existe:"
   ]
  },
  {
   "cell_type": "code",
   "execution_count": 100,
   "metadata": {},
   "outputs": [],
   "source": [
    "tmp = \"/alloc/data/fury_fda-mendel/training/\"\n",
    "path = os.path.join(tmp, \"TFRS_20220221_LSTM_Scann\")"
   ]
  },
  {
   "cell_type": "code",
   "execution_count": null,
   "metadata": {},
   "outputs": [],
   "source": [
    "tf.saved_model.save(scann, path)"
   ]
  },
  {
   "cell_type": "code",
   "execution_count": 102,
   "metadata": {},
   "outputs": [],
   "source": [
    "scores_scann, domains_rec_scann = scann(domain_sanity_check)"
   ]
  },
  {
   "cell_type": "code",
   "execution_count": 103,
   "metadata": {},
   "outputs": [
    {
     "data": {
      "text/plain": [
       "<tf.Tensor: shape=(1, 50), dtype=string, numpy=\n",
       "array([[b'MLA-AUTOMOTIVE_SHOCK_ABSORBER_KITS',\n",
       "        b'MLA-ENGINE_VALVES_SPRING_RETAINERS', b'MLA-DIFFERENTIALS',\n",
       "        b'MLA-AUTOMOTIVE_TRIPOD_JOINT_SPIDERS',\n",
       "        b'MLA-SUSPENSION_BALL_JOINTS', b'MLA-AUTOMOTIVE_SHOCK_ABSORBERS',\n",
       "        b'MLA-EXHAUST_MANIFOLDS', b'MLA-VEHICLE_ENGINE_PISTON_RING_SETS',\n",
       "        b'MLA-ENGINE_COOLING_FAN_CLUTCHES',\n",
       "        b'MLA-AUTOMOTIVE_CLUTCH_DISCS', b'MLA-AUTOMOTIVE_OIL_PUMPS',\n",
       "        b'MLA-INJECTION_PUMPS', b'MLA-CLUTCH_BEARINGS',\n",
       "        b'MLA-AUTOMOTIVE_ENGINE_TIMING_COVERS', b'MLA-ENGINE_BLOCKS',\n",
       "        b'MLA-AUTOMOTIVE_SUSPENSION_CONTROL_ARMS', b'MLA-CRANKSHAFTS',\n",
       "        b'MLA-VEHICLE_CV_AXLES', b'MLA-BRAKE_BOOSTERS',\n",
       "        b'MLA-AUTOMOTIVE_ENGINE_ROCKER_ARMS', b'MLA-DRIVE_SHAFTS',\n",
       "        b'MLA-AUTOMOTIVE_ENGINE_VALVE_COVERS', b'MLA-HOOD_HINGES',\n",
       "        b'MLA-AUTOMOTIVE_TIMING_BELT_TENSIONER_PULLEYS',\n",
       "        b'MLA-VEHICLE_CYLINDER_LINERS',\n",
       "        b'MLA-AUTOMOTIVE_FUEL_PRESSURE_REGULATORS',\n",
       "        b'MLA-ENGINE_CYLINDER_HEAD_BOLTS',\n",
       "        b'MLA-ENGINE_PISTON_AND_LINER_KITS',\n",
       "        b'MLA-AUTOMOTIVE_ENGINE_FANS', b'MLA-AUTOMOTIVE_CV_JOINT_BOOTS',\n",
       "        b'MLA-AUTOMOTIVE_TIRES', b'MLA-AUTOMOTIVE_TRANSMISSION_GEARS',\n",
       "        b'MLA-HAND_BRAKE_CABLES', b'MLA-EXHAUST_MANIFOLD_GASKET_SETS',\n",
       "        b'MLA-DISTRIBUTION_KITS', b'MLA-STEERING_COLUMNS',\n",
       "        b'MLA-CAR_POWER_STEERING_PUMPS', b'MLA-CAR_DISTRIBUTORS',\n",
       "        b'MLA-MAF_SENSORS', b'MLA-AUTOMOTIVE_BRAKE_FORCE_REGULATORS',\n",
       "        b'MLA-ENGINE_CONTROL_MODULES',\n",
       "        b'MLA-ENGINE_VALVE_COVER_GASKET_SETS', b'MLA-CAR_GEARBOXES',\n",
       "        b'MLA-AUTOMOTIVE_CLUTCH_FLYWHEELS',\n",
       "        b'MLA-REAR_WHEEL_HUBS_BEARING_ASSEMBLY', b'MLA-TPS_SENSORS',\n",
       "        b'MLA-AUTOMOTIVE_HEAD_GASKETS', b'MLA-ENGINE_BEARINGS',\n",
       "        b'MLA-AUTOMOTIVE_POLY_V_BELTS', b'MLA-POWER_STEERING_HOSES']],\n",
       "      dtype=object)>"
      ]
     },
     "execution_count": 103,
     "metadata": {},
     "output_type": "execute_result"
    }
   ],
   "source": [
    "domains_rec_scann"
   ]
  },
  {
   "cell_type": "code",
   "execution_count": 88,
   "metadata": {},
   "outputs": [
    {
     "data": {
      "text/plain": [
       "<tf.Tensor: shape=(1, 50), dtype=float32, numpy=\n",
       "array([[3.1362052, 3.0989707, 3.089662 , 2.973304 , 2.9639955, 2.9500325,\n",
       "        2.940724 , 2.9314156, 2.912798 , 2.8709095, 2.8616004, 2.8616004,\n",
       "        2.8429832, 2.8383288, 2.8290205, 2.824366 , 2.824366 , 2.8197117,\n",
       "        2.8150575, 2.8150573, 2.7731688, 2.76386  , 2.76386  , 2.7638597,\n",
       "        2.7638597, 2.749897 , 2.749897 , 2.749897 , 2.7405882, 2.735934 ,\n",
       "        2.7266254, 2.7219713, 2.721971 , 2.721971 , 2.7033536, 2.7033536,\n",
       "        2.6847365, 2.680082 , 2.675428 , 2.675428 , 2.675428 , 2.6661193,\n",
       "        2.666119 , 2.661465 , 2.661465 , 2.6568108, 2.647502 , 2.6381934,\n",
       "        2.6381934, 2.6335392]], dtype=float32)>"
      ]
     },
     "execution_count": 88,
     "metadata": {},
     "output_type": "execute_result"
    }
   ],
   "source": [
    "scores_scann"
   ]
  },
  {
   "cell_type": "markdown",
   "metadata": {},
   "source": [
    "## 3. Conclusion"
   ]
  },
  {
   "cell_type": "markdown",
   "metadata": {},
   "source": [
    "Se logró hacer la implementación de TFRS utilizando como features la secuencia de hasta los últimos 88 dominios visitados para estimar el próximo dominio a ser visitado. Para esto se usaron dos arquitecturas, una con capa LSTM y la otra con capa GRU. \n",
    "\n",
    "Para una mejor experimentación y obtención de resultados más confiables, se concluye que los siguientes pasos son:\n",
    "\n",
    "- migrar el cuaderno a un lab GPU, con el fin de poder ejecutar entrenamientos con mayor número de épocas para observar su desempeño y poder comparar entre modelos y arquitecturas.\n",
    "- enlazar con métricas offline con el objetivo de evaluar de manera más integra.\n",
    "- convertir la carga de datos a formato TFRecords para lograr la ejecución del entrenamiento en el lab con gpu."
   ]
  }
 ],
 "metadata": {
  "kernelspec": {
   "display_name": "Python 3 (ipykernel)",
   "language": "python",
   "name": "python3"
  },
  "language_info": {
   "codemirror_mode": {
    "name": "ipython",
    "version": 3
   },
   "file_extension": ".py",
   "mimetype": "text/x-python",
   "name": "python",
   "nbconvert_exporter": "python",
   "pygments_lexer": "ipython3",
   "version": "3.7.4"
  }
 },
 "nbformat": 4,
 "nbformat_minor": 4
}
