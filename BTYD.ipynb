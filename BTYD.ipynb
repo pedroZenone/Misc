{
 "cells": [
  {
   "cell_type": "markdown",
   "metadata": {},
   "source": [
    "## Imports"
   ]
  },
  {
   "cell_type": "code",
   "execution_count": 1,
   "metadata": {},
   "outputs": [],
   "source": [
    "import pandas as pd\n",
    "from lifetimes.utils import summary_data_from_transaction_data\n",
    "import numpy as np\n",
    "import datetime\n",
    "from lifetimes import ModifiedBetaGeoFitter\n",
    "from dateutil.relativedelta import relativedelta\n",
    "from lifetimes import GammaGammaFitter\n",
    "import os\n",
    "import matplotlib.pyplot as plt\n",
    "import dask.dataframe as dd\n",
    "from dask.multiprocessing import get\n",
    "import boto3\n",
    "from multiprocessing import cpu_count\n",
    "import pickle\n",
    "import s3fs\n",
    "from melitk.analytics.connectors.core.authentication import Authentication\n",
    "from melitk.analytics.connectors.teradata import ConnTeradata\n",
    "from melitk.analytics.connectors.presto import ConnPresto\n",
    "from melitk.fda import workspace\n",
    "import datetime\n",
    "from dateutil.relativedelta import relativedelta\n",
    "\n",
    "\n",
    "cores = 20"
   ]
  },
  {
   "cell_type": "code",
   "execution_count": 2,
   "metadata": {},
   "outputs": [],
   "source": [
    "def asigno_quintiles_5(x):\n",
    "    step = int(x.shape[0]*0.2)\n",
    "    l_= []\n",
    "    for i in range(4):\n",
    "        l_ = l_ + [i+1]*step\n",
    "    l_ = l_ + [5]*(x.shape[0] - len(l_)) \n",
    "    return l_   \n",
    "\n",
    "# Util para escribir un df en s3\n",
    "def _write_dataframe_to_csv_on_s3(df, path_s3):\n",
    "    import boto3\n",
    "    from io import StringIO\n",
    "    \"\"\" Write a dataframe to a CSV on S3 \"\"\"\n",
    "    a = path_s3.split('//')\n",
    "    b = a[1].split('/')\n",
    "    bucket = b[0]\n",
    "    c = path_s3.split(bucket+'/')\n",
    "    path = c[1]\n",
    "    \n",
    "    buffer = StringIO()\n",
    "    df.to_csv(buffer)\n",
    "    s3_resource = boto3.resource('s3')\n",
    "    s3_resource.Object(bucket, path).put(Body=buffer.getvalue())\n",
    "    return None"
   ]
  },
  {
   "cell_type": "markdown",
   "metadata": {},
   "source": [
    "## Levanto todos los paises y calculo con BTYD"
   ]
  },
  {
   "cell_type": "code",
   "execution_count": 3,
   "metadata": {},
   "outputs": [],
   "source": [
    "today = datetime.datetime.today()\n",
    "today = datetime.datetime(today.year,today.month,1)"
   ]
  },
  {
   "cell_type": "code",
   "execution_count": 9,
   "metadata": {},
   "outputs": [
    {
     "name": "stdout",
     "output_type": "stream",
     "text": [
      "/alloc/data/fury_ltv-ml/training/MLM\n",
      "/alloc/data/fury_ltv-ml/training/MLM\n",
      "from:  2017-10-01 00:00:00 ,to:  2019-10-01 00:00:00\n",
      "summary OK\n",
      "      fun: -6.2091968464664\n",
      " hess_inv: array([[ 17.62038595,  12.56679434,  -3.94898096, -35.30146746],\n",
      "       [ 12.56679434,  11.66709049,  -3.62943122, -22.76697158],\n",
      "       [ -3.94898096,  -3.62943122,  35.76342308,  47.69258813],\n",
      "       [-35.30146746, -22.76697158,  47.69258813, 142.01846802]])\n",
      "      jac: array([-1.23316600e-07,  1.23976698e-07,  2.65310007e-08, -1.87208048e-08])\n",
      "  message: 'Desired error not necessarily achieved due to precision loss.'\n",
      "     nfev: 83\n",
      "      nit: 27\n",
      "     njev: 71\n",
      "   status: 2\n",
      "  success: False\n",
      "        x: array([-0.22887882, -2.48845824, -1.92917159, -0.17274758])\n",
      "fit OK\n"
     ]
    },
    {
     "name": "stderr",
     "output_type": "stream",
     "text": [
      "/usr/local/lib/python3.5/site-packages/dask/dataframe/core.py:3981: UserWarning: \n",
      "You did not provide metadata, so Dask is running your function on a small dataset to guess output types. It is possible that Dask will guess incorrectly.\n",
      "To provide an explicit output types or to silence this message, please provide the `meta=` keyword, as described in the map or apply function that you are using.\n",
      "  Before: .apply(func)\n",
      "  After:  .apply(func, meta=(None, 'float64'))\n",
      "\n",
      "  warnings.warn(meta_warning(meta))\n",
      "/usr/local/lib/python3.5/site-packages/dask/dataframe/core.py:3981: UserWarning: \n",
      "You did not provide metadata, so Dask is running your function on a small dataset to guess output types. It is possible that Dask will guess incorrectly.\n",
      "To provide an explicit output types or to silence this message, please provide the `meta=` keyword, as described in the map or apply function that you are using.\n",
      "  Before: .apply(func)\n",
      "  After:  .apply(func, meta=(None, 'float64'))\n",
      "\n",
      "  warnings.warn(meta_warning(meta))\n"
     ]
    },
    {
     "name": "stdout",
     "output_type": "stream",
     "text": [
      "pareto OK\n",
      "gamagama OK\n",
      "/alloc/data/fury_ltv-ml/training/MCO\n",
      "/alloc/data/fury_ltv-ml/training/MCO\n",
      "from:  2017-10-01 00:00:00 ,to:  2019-10-01 00:00:00\n",
      "summary OK\n",
      "fit OK\n"
     ]
    },
    {
     "name": "stderr",
     "output_type": "stream",
     "text": [
      "/usr/local/lib/python3.5/site-packages/dask/dataframe/core.py:3981: UserWarning: \n",
      "You did not provide metadata, so Dask is running your function on a small dataset to guess output types. It is possible that Dask will guess incorrectly.\n",
      "To provide an explicit output types or to silence this message, please provide the `meta=` keyword, as described in the map or apply function that you are using.\n",
      "  Before: .apply(func)\n",
      "  After:  .apply(func, meta=(None, 'float64'))\n",
      "\n",
      "  warnings.warn(meta_warning(meta))\n",
      "/usr/local/lib/python3.5/site-packages/dask/dataframe/core.py:3981: UserWarning: \n",
      "You did not provide metadata, so Dask is running your function on a small dataset to guess output types. It is possible that Dask will guess incorrectly.\n",
      "To provide an explicit output types or to silence this message, please provide the `meta=` keyword, as described in the map or apply function that you are using.\n",
      "  Before: .apply(func)\n",
      "  After:  .apply(func, meta=(None, 'float64'))\n",
      "\n",
      "  warnings.warn(meta_warning(meta))\n"
     ]
    },
    {
     "name": "stdout",
     "output_type": "stream",
     "text": [
      "pareto OK\n",
      "gamagama OK\n",
      "/alloc/data/fury_ltv-ml/training/MLU\n",
      "/alloc/data/fury_ltv-ml/training/MLU\n",
      "from:  2017-10-01 00:00:00 ,to:  2019-10-01 00:00:00\n",
      "summary OK\n",
      "fit OK\n"
     ]
    },
    {
     "name": "stderr",
     "output_type": "stream",
     "text": [
      "/usr/local/lib/python3.5/site-packages/dask/dataframe/core.py:3981: UserWarning: \n",
      "You did not provide metadata, so Dask is running your function on a small dataset to guess output types. It is possible that Dask will guess incorrectly.\n",
      "To provide an explicit output types or to silence this message, please provide the `meta=` keyword, as described in the map or apply function that you are using.\n",
      "  Before: .apply(func)\n",
      "  After:  .apply(func, meta=(None, 'float64'))\n",
      "\n",
      "  warnings.warn(meta_warning(meta))\n",
      "/usr/local/lib/python3.5/site-packages/dask/dataframe/core.py:3981: UserWarning: \n",
      "You did not provide metadata, so Dask is running your function on a small dataset to guess output types. It is possible that Dask will guess incorrectly.\n",
      "To provide an explicit output types or to silence this message, please provide the `meta=` keyword, as described in the map or apply function that you are using.\n",
      "  Before: .apply(func)\n",
      "  After:  .apply(func, meta=(None, 'float64'))\n",
      "\n",
      "  warnings.warn(meta_warning(meta))\n"
     ]
    },
    {
     "name": "stdout",
     "output_type": "stream",
     "text": [
      "pareto OK\n",
      "gamagama OK\n"
     ]
    },
    {
     "data": {
      "text/plain": [
       "<Figure size 720x720 with 0 Axes>"
      ]
     },
     "metadata": {},
     "output_type": "display_data"
    },
    {
     "data": {
      "image/png": "[encoded data removed]",
      "text/plain": [
       "<Figure size 432x288 with 1 Axes>"
      ]
     },
     "metadata": {
      "needs_background": "light"
     },
     "output_type": "display_data"
    },
    {
     "data": {
      "text/plain": [
       "<Figure size 720x720 with 0 Axes>"
      ]
     },
     "metadata": {},
     "output_type": "display_data"
    },
    {
     "data": {
      "image/png": "[encoded data removed]",
      "text/plain": [
       "<Figure size 432x288 with 1 Axes>"
      ]
     },
     "metadata": {
      "needs_background": "light"
     },
     "output_type": "display_data"
    },
    {
     "data": {
      "text/plain": [
       "<Figure size 720x720 with 0 Axes>"
      ]
     },
     "metadata": {},
     "output_type": "display_data"
    },
    {
     "data": {
      "image/png": "[encoded data removed]",
      "text/plain": [
       "<Figure size 432x288 with 1 Axes>"
      ]
     },
     "metadata": {
      "needs_background": "light"
     },
     "output_type": "display_data"
    }
   ],
   "source": [
    "paises = ['MLB','MLA','MLC','MLM','MCO','MLU']\n",
    "for PAIS in paises: \n",
    "    # Creo una carpeta donde guardar los modelos y imagen de boxplot\n",
    "    dir_pais = os.path.join(os.path.dirname(os.path.abspath('__file__')),PAIS)\n",
    "    print(dir_pais)\n",
    "    if(not os.path.exists(dir_pais)):\n",
    "        os.mkdir(dir_pais)\n",
    "    print(dir_pais)\n",
    "\n",
    "    country = pd.read_csv(\"s3://fda-labs/ltv-ml/ML/Raw_\" + PAIS +\"_1_\"+ today.strftime(\"%Y-%m-%d\")+\".csv\",sep = '|')\n",
    "    country = country.append(pd.read_csv(\"s3://fda-labs/ltv-ml/ML/Raw_\" + PAIS +\"_2_\"+ today.strftime(\"%Y-%m-%d\")+\".csv\",sep = '|'), ignore_index = True)\n",
    "\n",
    "    country.columns = [\"date\",\"cust\",\"sales\",\"CATEG_L1\",\"CATEG_L2\",\"CATEG_L3\"]\n",
    "    country[\"date\"] = pd.to_datetime(country[\"date\"],infer_datetime_format=True,errors = \"coerce\")\n",
    "    # check la amplitud de data\n",
    "    print('from: ',country.date.min(),',to: ',country.date.max())\n",
    "    \n",
    "    today = country.date.max()\n",
    "    # Me genero el input dle modelo\n",
    "    summary_cal = summary_data_from_transaction_data(country, 'cust', 'date', freq='W',\n",
    "                                                     monetary_value_col='sales',  # le saca la primer compra (semana de compras) y toma el promedio agrupado por semana (frequency)\n",
    "                                                     observation_period_end=today.strftime(\"%Y-%m-%d\"))   \n",
    "    print(\"summary OK\")\n",
    "    # Calculo los casos que churnearon pero no los uso!\n",
    "    churneros = country.groupby('cust')[\"date\"].agg('max').reset_index()\n",
    "    churneros[\"my_recency\"] = (today - churneros[\"date\"])/np.timedelta64(1, \"W\") # me genero el recency y la semanalizo\n",
    "    summary_cal = pd.merge(summary_cal,churneros[[\"cust\",\"my_recency\"]],on = \"cust\",how = \"left\")\n",
    "    churneros = churneros.loc[churneros[\"my_recency\"] > 52] # si el usuario no realizo una compra en 1 año, churnea\n",
    "\n",
    "    churneros2 = pd.merge(churneros, country.groupby(['cust'])[\"sales\"].size().reset_index() ,on=\"cust\",how = \"left\")\n",
    "    churneros2 = churneros2.loc[churneros2[\"sales\"] <= 1]\n",
    "\n",
    "    # Entreno el modelo\n",
    "    bgf = ModifiedBetaGeoFitter()\n",
    "    try:\n",
    "        bgf.fit(summary_cal['frequency'], summary_cal['recency'], summary_cal['T'])\n",
    "    except:\n",
    "        bgf = ModifiedBetaGeoFitter(penalizer_coef=0.1)\n",
    "        bgf.fit(summary_cal['frequency'], summary_cal['recency'], summary_cal['T']) \n",
    "        \n",
    "    bgf.save_model(os.path.join(dir_pais,'bgf_'+PAIS+'.pkl'))\n",
    "    print(\"fit OK\")\n",
    "    # aplico sobre datos no vistos, luego para comparar me quedo con los usuarios que estan en validacion!\n",
    "    summary_cal[\"n_purchases_pred\"] = dd.from_pandas(summary_cal, npartitions=cores).apply(lambda x: bgf.conditional_expected_number_of_purchases_up_to_time(52, x['frequency'], x['recency'], x['T']),axis = 1).compute(scheduler='processes')\n",
    "    summary_cal = summary_cal.reset_index()\n",
    "\n",
    "    def apply_pAlive(x):  # hay modelos que devuelve una lista como proba, hay que hacer un unpak en estos casos\n",
    "        y = bgf.conditional_probability_alive(x['frequency'], x['recency'], x['T'])\n",
    "        if(type(y) == np.ndarray):\n",
    "            return y[0]\n",
    "        else:\n",
    "            return y\n",
    "\n",
    "    summary_cal[\"p_alive\"] = dd.from_pandas(summary_cal, npartitions=cores).apply(lambda x: apply_pAlive(x),axis = 1).compute(scheduler='processes')\n",
    "    print(\"pareto OK\")\n",
    "    # Calculo la guita que van a dar!! Fit-transform\n",
    "\n",
    "    # Si imputo valores crashea ya que no puedo converger, intente moviendole el penalizer pero la cosa no mejora...\n",
    "    summary_cal.loc[summary_cal[\"monetary_value\"] == 0,\"monetary_value\"] = min(summary_cal.loc[summary_cal[\"monetary_value\"] > 0][\"monetary_value\"])\n",
    "    #summary_cal = summary_cal.loc[summary_cal[\"monetary_value\"] > 0]\n",
    "    ggf = GammaGammaFitter(penalizer_coef = 0)\n",
    "    ggf.fit(summary_cal['frequency']+1,\n",
    "            summary_cal['monetary_value'])\n",
    "\n",
    "    resu = ggf.conditional_expected_average_profit(summary_cal['frequency']+1,\n",
    "            summary_cal['monetary_value']).reset_index()\n",
    "\n",
    "    resu.columns = [\"ind\",\"montary_sales_forecast\"]\n",
    "    summary_cal[\"montary_sales_forecast\"] = resu[\"montary_sales_forecast\"]\n",
    "    # la cantidad de compras que le va a hacer el usuario en su año de vida es la cantidad de compras que hara * compras promedio\n",
    "    summary_cal[\"clv\"] = summary_cal[\"n_purchases_pred\"]*summary_cal[\"montary_sales_forecast\"] \n",
    "    # le saco a los usuarios churneros una vez entrenado el modelo\n",
    "    summary_cal = summary_cal.loc[~summary_cal[\"cust\"].isin(list(churneros.cust.values))]\n",
    "    print(\"gamagama OK\")\n",
    "\n",
    "    #out_users = summary_cal.loc[~summary_cal.cust.isin(list(churneros2.cust.values))]\n",
    "    out_users = summary_cal.sort_values(by = \"n_purchases_pred\",ascending=False)\n",
    "    out_users[\"quintil\"] = asigno_quintiles_5(out_users)\n",
    "    out_users[\"SIT_SITE_ID\"] = PAIS\n",
    "    out_users[\"SUM_LOG_INTER_TX_TIMES\"] = np.NAN\n",
    "    out_users[\"SALES_PAST\"] = np.NAN\n",
    "    out_users[\"SALES_AVG_PRED\"] = np.NAN\n",
    "    out_users[\"SUM_LOG_INTER_TX_TIMES\"] = np.NAN\n",
    "    out_users[\"QUINTILE\"] = np.NAN\n",
    "    out_users[\"DECILE\"] = np.NAN\n",
    "    out_users[\"FB_DATE\"] = np.NAN\n",
    "    out_users[\"PHOTO_ID\"] = str(today.year)+ str(today.month).zfill(2) \n",
    "    out_users = out_users.drop([\"index\"],axis = 1)\n",
    "\n",
    "    out_users = out_users[[\"cust\",\"SIT_SITE_ID\",\"n_purchases_pred\",\"frequency\",\"recency\",\"SUM_LOG_INTER_TX_TIMES\",\"SALES_PAST\",\"FB_DATE\",\"T\",\"p_alive\",\"monetary_value\",\"clv\",\"QUINTILE\",\"DECILE\",\"PHOTO_ID\",\"quintil\"]]\n",
    "    out_users.columns = [\"CUS_CUST_ID\",\"SIT_SITE_ID\",\"X_DAYS_PRED\",\"X_DAYS_PAST_MENOS_1\",\"TIME_BETWEEN_FIRST_LAST\",\"SUM_LOG_INTER_TX_TIMES\",\"SALES_PAST\",\"FB_DATE\",\"TIME_BETWEEN_FIRST_TO_END_PERIOD\",\"P_ALIVE_PRED\",\"SALES_AVG_PAST\",\"SALES_PRED\",\"QUINTILE\",\"DECILE\",\"PHOTO_ID\",\"QUINTILE_REDUCED\"]\n",
    "    out_users = out_users[[\"CUS_CUST_ID\",\"SIT_SITE_ID\",\"X_DAYS_PRED\",\"X_DAYS_PAST_MENOS_1\",\"TIME_BETWEEN_FIRST_LAST\",\"TIME_BETWEEN_FIRST_TO_END_PERIOD\",\"P_ALIVE_PRED\",\"SALES_AVG_PAST\",\"SALES_PRED\",\"PHOTO_ID\",\"QUINTILE_REDUCED\"]]\n",
    "    \n",
    "    pp = pd.DataFrame([],columns = out_users.columns)\n",
    "    pp[\"CUS_CUST_ID\"] = churneros[\"cust\"]\n",
    "    pp[\"QUINTILE_REDUCED\"] = -1\n",
    "\n",
    "    out_users = out_users.append(pp,ignore_index=True)\n",
    "    today_1 = today - relativedelta(months=1)\n",
    "    out_users[\"PHOTO_ID\"] = str(today_1.year)+ str(today_1.month).zfill(2) \n",
    "    \n",
    "    out_users[\"TIME_BETWEEN_FIRST_LAST\"] = out_users[\"TIME_BETWEEN_FIRST_LAST\"].apply(lambda x: round(x,4))\n",
    "    out_users[\"P_ALIVE_PRED\"] = out_users[\"P_ALIVE_PRED\"].apply(lambda x: round(x,4))\n",
    "    out_users[\"SALES_AVG_PAST\"] = out_users[\"SALES_AVG_PAST\"].apply(lambda x: round(x,4))\n",
    "    out_users[\"SALES_PRED\"] = out_users[\"SALES_PRED\"].apply(lambda x: round(x,4))\n",
    "    out_users[\"X_DAYS_PRED\"] = out_users[\"X_DAYS_PRED\"].apply(lambda x: round(x,4))\n",
    "    out_users[\"SIT_SITE_ID\"] = PAIS\n",
    "    \n",
    "    _write_dataframe_to_csv_on_s3(out_users,\"s3://fda-labs/ltv-ml/ML/\"+PAIS+\"/out_\"+today.strftime(\"%Y-%m-%d\")+\".csv\")\n",
    "\n",
    "    # Self check: La idea es que cada boxplot quede separado en su mediana (esperado, no siempre se da tan claro)\n",
    "    fig=plt.figure(figsize=(10, 10))\n",
    "    out_users[[\"P_ALIVE_PRED\",\"QUINTILE_REDUCED\"]].boxplot(by= \"QUINTILE_REDUCED\",showfliers=False)\n",
    "    plt.savefig('boxPlot_palive.png')\n",
    "    \n",
    "    s3 = boto3.client('s3')\n",
    "    s3.upload_file('boxPlot_palive.png', \"fda-labs\", \"ltv-ml/ML/\"+PAIS+\"/boxPlot_palive.png\")"
   ]
  },
  {
   "cell_type": "code",
   "execution_count": null,
   "metadata": {},
   "outputs": [],
   "source": [
    "teradata_user_app = os.environ['SECRET_TERADATA_USER_APP_MP']\n",
    "teradata_pass_app = os.environ['SECRET_TERADATA_PASS_APP_MP']\n",
    "\n",
    "teradata_user_ldap = os.environ['SECRET_TERADATA_USER_APP']\n",
    "teradata_pass_ldap = os.environ['SECRET_TERADATA_PASS_APP']\n",
    "\n",
    "s3_access_key = os.environ['SECRET_S3_KEY']\n",
    "s3_secret_key = os.environ['SECRET_S3_SECRET']"
   ]
  },
  {
   "cell_type": "code",
   "execution_count": null,
   "metadata": {},
   "outputs": [],
   "source": [
    "today = datetime.datetime.today()\n",
    "today = datetime.datetime(today.year,today.month,1)\n",
    "past_1 = today - relativedelta(months = 1)"
   ]
  },
  {
   "cell_type": "code",
   "execution_count": null,
   "metadata": {},
   "outputs": [],
   "source": [
    "tera = ConnTeradata(teradata_user_ldap, teradata_pass_ldap, auth_method=Authentication.APP)\n",
    "\n",
    "tera.execute(\"\"\" drop table mkt_corp.PZ_TMP_LTV_ML\"\"\")\n",
    "\n",
    "tera.execute(\"\"\"\n",
    "\n",
    "    CREATE MULTISET TABLE mkt_corp.PZ_TMP_LTV_ML,\n",
    "     NO BEFORE JOURNAL,\n",
    "     NO AFTER JOURNAL,\n",
    "     CHECKSUM = DEFAULT,\n",
    "     DEFAULT MERGEBLOCKRATIO\n",
    "     (\n",
    "        CUS_CUST_ID varchar(200),\n",
    "        SIT_SITE_ID varchar(4),\n",
    "        X_DAYS_PRED decimal(18,4),\n",
    "        X_DAYS_PAST_MENOS_1 integer,\n",
    "        TIME_BETWEEN_FIRST_LAST decimal(18,4),\n",
    "        TIME_BETWEEN_FIRST_TO_END_PERIOD decimal(18,4),\n",
    "        P_ALIVE_PRED decimal(18,4),\n",
    "        SALES_AVG_PAST decimal(18,4),\n",
    "        SALES_PRED decimal(18,4),        \n",
    "        PHOTO_ID varchar(10),\n",
    "        QUINTILE_REDUCED integer\n",
    "\n",
    "      )PRIMARY INDEX ( CUS_CUST_ID,SIT_SITE_ID );   \n",
    "\n",
    "                \"\"\")\n",
    "    \n",
    "for PAIS in ['MLB','MLC','MLM','MCO','MLU','MLA']:\n",
    "\n",
    "    out = pd.read_csv(\"s3://fda-labs/ltv-ml/ML/\"+PAIS+\"/out_\"+today.strftime(\"%Y-%m-%d\")+\".csv\")\n",
    "    out = out[['CUS_CUST_ID', 'SIT_SITE_ID', 'X_DAYS_PRED', 'X_DAYS_PAST_MENOS_1', 'TIME_BETWEEN_FIRST_LAST',\n",
    "               'TIME_BETWEEN_FIRST_TO_END_PERIOD', 'P_ALIVE_PRED', 'SALES_AVG_PAST','SALES_PRED', 'PHOTO_ID',\n",
    "               'QUINTILE_REDUCED']]   \n",
    "\n",
    "    out.to_csv(\"to_tera.csv\",index = False)\n",
    "    print(\"guardado\")\n",
    "    \n",
    "    tera = ConnTeradata(teradata_user_app, teradata_pass_app, auth_method=Authentication.APP) # me conecto con otro aplicativo, problema de permisos\n",
    "\n",
    "    tera.fast_load(file_path=\"to_tera.csv\",table = \"mkt_corp.PZ_TMP_LTV_ML\",sep = \",\")\n",
    "\n",
    "    !rm -R to_tera.csv  # borro el archivo"
   ]
  },
  {
   "cell_type": "code",
   "execution_count": null,
   "metadata": {},
   "outputs": [],
   "source": [
    "\n",
    "tera = ConnTeradata(teradata_user_app, teradata_pass_app, auth_method=Authentication.APP)\n",
    "tera.execute(\"\"\"\n",
    "   SET QUERY_BAND = 'BLOCKCOMPRESSION=YES;' FOR TRANSACTION;\n",
    "\n",
    "   INSERT INTO mkt_corp.NG_LTV_ALL_SITES_HIST\n",
    "       SELECT  CAST(CUS_CUST_ID as varchar(200)),\n",
    "               CAST( SIT_SITE_ID as CHAR(3)),\n",
    "               CAST( X_DAYS_PAST_MENOS_1 as decimal(18,4)),\n",
    "               CAST( TIME_BETWEEN_FIRST_LAST as decimal(18,4)),\n",
    "               NULL,\n",
    "               NULL,\n",
    "               NULL,\n",
    "               CAST( TIME_BETWEEN_FIRST_TO_END_PERIOD as decimal(18,4)),\n",
    "               CAST( X_DAYS_PRED as decimal(18,4)),\n",
    "               CAST( P_ALIVE_PRED as decimal(18,4)),\n",
    "               CAST( SALES_AVG_PAST as decimal(18,4)),\n",
    "               NULL,\n",
    "               CAST( SALES_PRED as decimal(18,4)),\n",
    "               NULL,\n",
    "               NULL,\n",
    "               CAST( PHOTO_ID as varchar(20)),\n",
    "               CAST( QUINTILE_REDUCED as integer)\n",
    "            FROM mkt_corp.PZ_TMP_LTV_ML\n",
    "        \"\"\")"
   ]
  },
  {
   "cell_type": "code",
   "execution_count": null,
   "metadata": {},
   "outputs": [],
   "source": [
    "# Muestro lo que se cargo para ver que no haya\n",
    "tera = ConnTeradata(teradata_user_ldap, teradata_pass_ldap, auth_method=Authentication.APP)\n",
    "\n",
    "print(\"Muesto cantidad insertada:\")\n",
    "print(pd.DataFrame(tera.execute_response(\"\"\" \n",
    "                    select SIT_SITE_ID,photo_id, count(*) as cant_Transac \n",
    "                    from mkt_corp.NG_LTV_ALL_SITES_HIST\n",
    "                    group by SIT_SITE_ID,photo_id\n",
    "                    order by photo_id DESC\"\"\")).head(12))\n",
    "\n",
    "print(\"sample\")\n",
    "print(pd.DataFrame(tera.execute_response(\"\"\" \n",
    "                    select *\n",
    "                    from mkt_corp.NG_LTV_ALL_SITES_HIST\n",
    "                    where photo_id = '\"\"\"+ past_1.strftime(\"%Y%m\") + \"\"\"'  \n",
    "                    sample 10\"\"\")))"
   ]
  }
 ],
 "metadata": {
  "kernelspec": {
   "display_name": "Python 3",
   "language": "python",
   "name": "python3"
  },
  "language_info": {
   "codemirror_mode": {
    "name": "ipython",
    "version": 3
   },
   "file_extension": ".py",
   "mimetype": "text/x-python",
   "name": "python",
   "nbconvert_exporter": "python",
   "pygments_lexer": "ipython3",
   "version": "3.5.4"
  }
 },
 "nbformat": 4,
 "nbformat_minor": 2
}
